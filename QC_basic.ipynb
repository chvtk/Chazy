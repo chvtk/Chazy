{
 "metadata": {
  "name": "",
  "signature": "sha256:33f51f6e48dbd2776a00b1ea32d2fbbf01a27f9723922f4ed21b2617d07f294c"
 },
 "nbformat": 3,
 "nbformat_minor": 0,
 "worksheets": [
  {
   "cells": [
    {
     "cell_type": "markdown",
     "metadata": {},
     "source": [
      "##Discard sequences that exceed the max expected error threshold."
     ]
    },
    {
     "cell_type": "code",
     "collapsed": false,
     "input": [
      "%%bash\n",
      "\n",
      "nprocs=20\n",
      "maxee=1\n",
      "\n",
      "tmpdir1=`mktemp -d`\n",
      "trap \"rm -r $tmpdir1\" 1 2 3 15\n",
      "split -d -l 2000000 /var/seq_data/Chazy/pear_merged_raw-2014-08-29.assembled.dmult.fastq $tmpdir1/Block\n",
      "\n",
      "tmpdir2=`mktemp -d`\n",
      "trap \"rm -r $tmpdir2\" 1 2 3 15\n",
      "ls $tmpdir1/Block?? | parallel --gnu -j $nprocs -k \"usearch -fastq_filter {} \\\n",
      "-fastq_maxee $maxee \\\n",
      "-fastaout $tmpdir2/{#}.fasta >/dev/null 2>&1 && cat $tmpdir2/{#}.fasta\" > data/tmp/maxee$maxee.fasta\n",
      "rm -r $tmpdir2 $tmpdir1\n",
      "\n",
      "grep -c \">\" data/tmp/maxee$maxee.fasta\n",
      "head -n 8 data/tmp/maxee$maxee.fasta"
     ],
     "language": "python",
     "metadata": {},
     "outputs": [
      {
       "output_type": "stream",
       "stream": "stdout",
       "text": [
        "5467093\n",
        ">NTH1_23 orig_name=M02465:76:000000000-AAEG0:1:1101:14523:1631\n",
        "CAGCCTTGCGACCGTACTCCCCAGGCGCAGGACTTATCACGTTGGCTACGGCACGGACCCCGGACGGGGCCCACGTCAAGTCCTGATCGTTTAGGGCTAGGACTACCAGGGTATCTAATCCTGTTTGCTCCCCTAGCTTTCGTGCCTCAGCGTCAGAAAGGACCCAGTGAGCCGCTTTCGCCACGGGTGTTCCCAGCAATATCAACGCATTTCACCGCTCCACTGCTAGTTCCGCTCACCTCTATCCTCCTCAAGCACTACAGTATCGGGCGCAGTTCCTCAGTTGAGCTGAGGGATTTCACACCCGACTTATAGCGCAGCCTACGCACCCTTTAAGCCCAGTAATTCCGAATAACGTTTGCCCGGTTCGTA\n",
        ">NTR1_26 orig_name=M02465:76:000000000-AAEG0:1:1101:16591:1634\n",
        "TAATCTTGCGATCGTACTTCCCAGGCGGGATACTTAATGCTTTCGCTCAGACACCAACAGTGTATCGCTGATGTCGAGTATCCATCGTTTAGGGCGTGGACTACCAGGGTATCTAATCCCGTTTGCTCCCCTAGCTTTCGCGCCCCAGCGTCAGTATTGGTCCAGGATGCCGCCTTCGCCACCGGTATTCCTCCAGATATCTACGCATTTCACCGCTACACCTGGAATTCTACATCCCTCTCCCAAACTCAAGCCGTCCAGTATCAGACGCAGTTCCCAGGTTGAGCCGGGGGATTTCACGTCTGACTTAGATGGCCGCCTACGCGCCCTTTACGCCCAGTAATTCCGAACAACGCTTGCCACCTCTGTA\n",
        ">NTH3_27 orig_name=M02465:76:000000000-AAEG0:1:1101:18068:1636\n",
        "CAACCTTGCGGCCGTACTCCCCAGGCGGGGTACTTAGCACTTTAGCTTCGGCAGTAAACCCATGTCTAGTCTACTACCTAGTACCCATCGTTTAGGGCTAGGACTACCGGGGTATCTAATCCCGTTTGCTCCCCTAGCTTTCGCGCCTCAGCGTCAGTAATGGTCCAGGATGCCGCCTTCGCCACCGGTATTCCTCCAGATATCTACGCATTTCACCGCTACACCTGGAATTCTACATCCCTCTCCCATACTCAAGCCTTCCAGTATCAGACGCAGTTCCCAGGTTAAGCCGGGGGATTTCACGTCTGACTTAGATGGCCGCCTACGCGCCCTTTACGCCCAGTAATTCCGAACAACGCTTGCCACCTCTGTA\n",
        ">TWE4_29 orig_name=M02465:76:000000000-AAEG0:1:1101:19500:1644\n",
        "CAGCCTTGCGACCATACTCCCCAGGCGGGGTACTTATCACTTTTGCTTCGACTGTAAACCCATGTACGTCTACAATCTAGTACCCATCGTTTAGGGCTAGGACTACCGGGGTATCTAATCCCGTTCGCTCCCCTGGCTTTCGCGCCTCAGCGTCAGAGAGGGTCCAGCGTGCCGCCTTCGCCACCGGAGTTCCTGTGGATATCAACGCATTCCACCGCTCCACCCACAGTTCCGCACGCCCCTACCCCCCTCGAGGCCGCCCGTACCCGGGGCCGTTCCACGGTTGAGCCGTGGGATTTCACCCCGGACGCGGCAGCCCGCCTACGCGCCCTTTAAGCCCAGTAAATCCGAACAACGCTTGCTCCCCCCGTA\n"
       ]
      }
     ],
     "prompt_number": 52
    },
    {
     "cell_type": "code",
     "collapsed": false,
     "input": [
      "%%bash\n",
      "bioawk -c fastx '{if ($seq !~ /N/){print \">\" $name \" \" $4 \"\\n\" $seq}}' data/tmp/maxee1.fasta > \\\n",
      "data/tmp/maxee1.0.noN.fasta\n",
      "grep -c \">\" data/tmp/maxee1.fasta\n",
      "grep -c \">\" data/tmp/maxee1.0.noN.fasta"
     ],
     "language": "python",
     "metadata": {},
     "outputs": [
      {
       "output_type": "stream",
       "stream": "stdout",
       "text": [
        "5467093\n",
        "5467093\n"
       ]
      }
     ],
     "prompt_number": 53
    },
    {
     "cell_type": "markdown",
     "metadata": {},
     "source": [
      "##Remove seqs with N characters."
     ]
    },
    {
     "cell_type": "heading",
     "level": 1,
     "metadata": {},
     "source": [
      "Alignment-based QC with Mothur"
     ]
    },
    {
     "cell_type": "code",
     "collapsed": false,
     "input": [
      "%%bash\n",
      "ionice -c2 -n3 \\\n",
      "mothur \"#unique.seqs(fasta=data/tmp/maxee1.0.noN.fasta)\" > /dev/null"
     ],
     "language": "python",
     "metadata": {},
     "outputs": [],
     "prompt_number": 54
    },
    {
     "cell_type": "code",
     "collapsed": false,
     "input": [
      "!grep -c \">\" data/tmp/maxee1.0.noN.fasta\n",
      "!grep -c \">\" data/tmp/maxee1.0.noN.unique.fasta"
     ],
     "language": "python",
     "metadata": {},
     "outputs": [
      {
       "output_type": "stream",
       "stream": "stdout",
       "text": [
        "5467093\r\n"
       ]
      },
      {
       "output_type": "stream",
       "stream": "stdout",
       "text": [
        "4031953\r\n"
       ]
      }
     ],
     "prompt_number": 55
    },
    {
     "cell_type": "heading",
     "level": 5,
     "metadata": {},
     "source": [
      "Need to use all sequences (not just unique sequences) for next step to create the data file"
     ]
    },
    {
     "cell_type": "code",
     "collapsed": false,
     "input": [
      "%%bash\n",
      "bioawk -c fastx '{print $name}' data/tmp/maxee1.0.noN.fasta | \\\n",
      "awk -F\"_\" 'BEGIN{OFS=\"\\t\"}{print $0, $1}' > data/group_file.txt\n",
      "head data/group_file.txt"
     ],
     "language": "python",
     "metadata": {},
     "outputs": [
      {
       "output_type": "stream",
       "stream": "stdout",
       "text": [
        "NTH1_23\tNTH1\n",
        "NTR1_26\tNTR1\n",
        "NTH3_27\tNTH3\n",
        "TWE4_29\tTWE4\n",
        "NTR3_30\tNTR3\n",
        "NTH4_34\tNTH4\n",
        "TWE3_37\tTWE3\n",
        "PTH1_39\tPTH1\n",
        "CON3_41\tCON3\n",
        "NTH1_44\tNTH1\n"
       ]
      }
     ],
     "prompt_number": 56
    },
    {
     "cell_type": "code",
     "collapsed": false,
     "input": [
      "!mkdir -p /home/chantal/RNASIP/data/tmp/db"
     ],
     "language": "python",
     "metadata": {},
     "outputs": [],
     "prompt_number": 3
    },
    {
     "cell_type": "code",
     "collapsed": false,
     "input": [
      "%%bash\n",
      "if ! [ -e /home/chantal/RNASIP/data/silva_ref_aln_mothur.fasta ]; then\n",
      "    curl -o /home/chantal/RNASIP/data/tmp/db/silva_B.zip http://www.mothur.org/w/images/9/98/Silva.bacteria.zip && unzip data/tmp/db/silva_B.zip\n",
      "    curl -o /home/chantal/RNASIP/data/tmp/db/silva_E.zip http://www.mothur.org/w/images/1/1a/Silva.eukarya.zip && unzip data/tmp/db/silva_E.zip\n",
      "    curl -o /home/chantal/RNASIP/data/tmp/db/silva_A.zip http://www.mothur.org/w/images/3/3c/Silva.archaea.zip && unzip data/tmp/db/silva_A.zip\n",
      "fi"
     ],
     "language": "python",
     "metadata": {},
     "outputs": [],
     "prompt_number": 8
    },
    {
     "cell_type": "code",
     "collapsed": false,
     "input": [
      "%%bash\n",
      "if ! [ -e /home/chantal/RNASIP/data/silva_ref_aln_mothur.fasta ]; then\n",
      "    cat /home/chantal/RNASIP/data/tmp/db/silva.bacteria/silva.bacteria.fasta \\\n",
      "    /home/chantal/RNASIP/data/tmp/db/silva.eukarya/silva.eukarya.fasta \\\n",
      "    /home/chantal/RNASIP/data/tmp/db/Silva.archaea/silva.archaea.fasta \\\n",
      "    > /home/chantal/RNASIP/data/silva_ref_aln_mothur.fasta\n",
      "fi"
     ],
     "language": "python",
     "metadata": {},
     "outputs": [],
     "prompt_number": 11
    },
    {
     "cell_type": "code",
     "collapsed": false,
     "input": [
      "%%bash\n",
      "mothur \"#filter.seqs(vertical=t, \\\n",
      "fasta=/home/chantal/RNASIP/data/silva_ref_aln_mothur.fasta, \\\n",
      "processors=10)\" > /dev/null"
     ],
     "language": "python",
     "metadata": {},
     "outputs": [],
     "prompt_number": 5
    },
    {
     "cell_type": "code",
     "collapsed": true,
     "input": [
      "%%bash\n",
      "ionice -c2 -n3 \\\n",
      "mothur \"#align.seqs(candidate=data/tmp/maxee1.0.noN.unique.fasta, \\\n",
      "template=/home/chantal/RNASIP/data/tmp/db/silva_ref_aln_mothur.fasta, \\\n",
      "processors=15, \\\n",
      "flip=T)\" > /dev/null"
     ],
     "language": "python",
     "metadata": {},
     "outputs": []
    },
    {
     "cell_type": "heading",
     "level": 4,
     "metadata": {},
     "source": [
      "We can filter out vertical gaps..."
     ]
    },
    {
     "cell_type": "code",
     "collapsed": false,
     "input": [
      "%%bash\n",
      "mothur \"#filter.seqs(vertical=t, \\\n",
      "fasta=data/tmp/maxee1.0.noN.unique.align, \\\n",
      "processors=10)\" > /dev/null"
     ],
     "language": "python",
     "metadata": {},
     "outputs": []
    },
    {
     "cell_type": "heading",
     "level": 3,
     "metadata": {},
     "source": [
      "Here is what our seqs look like."
     ]
    },
    {
     "cell_type": "code",
     "collapsed": false,
     "input": [
      "%%bash\n",
      "mothur \"#summary.seqs(fasta=data/tmp/maxee1.0.noN.unique.filter.fasta, \\\n",
      "processors=20, \\\n",
      "name=data/tmp/maxee1.0.noN.names)\" "
     ],
     "language": "python",
     "metadata": {},
     "outputs": [
      {
       "output_type": "stream",
       "stream": "stdout",
       "text": [
        "\u001b[H\u001b[2J\n",
        "\n",
        "\n",
        "\n",
        "\n",
        "\n",
        "mothur v.1.32.1\n",
        "Last updated: 10/16/2013\n",
        "\n",
        "by\n",
        "Patrick D. Schloss\n",
        "\n",
        "Department of Microbiology & Immunology\n",
        "University of Michigan\n",
        "pschloss@umich.edu\n",
        "http://www.mothur.org\n",
        "\n",
        "When using, please cite:\n",
        "Schloss, P.D., et al., Introducing mothur: Open-source, platform-independent, community-supported software for describing and comparing microbial communities. Appl Environ Microbiol, 2009. 75(23):7537-41.\n",
        "\n",
        "Distributed under the GNU General Public License\n",
        "\n",
        "Type 'help()' for information on the commands that are available\n",
        "\n",
        "Type 'quit()' to exit program\n",
        "\n",
        "\n",
        "\n",
        "mothur > summary.seqs(fasta=data/tmp/maxee1.0.noN.unique.filter.fasta, processors=20, name=data/tmp/maxee1.0.noN.names)\n",
        "\n",
        "Using 20 processors.\n",
        "\n",
        "Using 20 processors.\n",
        "\n",
        "Using 20 processors.\n",
        "\n",
        "Using 20 processors.\n",
        "\n",
        "Using 20 processors.\n",
        "\n",
        "Using 20 processors.\n",
        "\n",
        "Using 20 processors.\n",
        "\n",
        "Using 20 processors.\n",
        "\n",
        "Using 20 processors.\n",
        "\n",
        "Using 20 processors.\n",
        "\n",
        "Using 20 processors.\n",
        "\n",
        "Using 20 processors.\n",
        "\n",
        "Using 20 processors.\n",
        "\n",
        "Using 20 processors.\n",
        "\n",
        "Using 20 processors.\n",
        "\n",
        "Using 20 processors.\n",
        "\n",
        "Using 20 processors.\n",
        "\n",
        "Using 20 processors.\n",
        "\n",
        "Using 20 processors.\n",
        "\n",
        "Using 20 processors.\n",
        "\n",
        "\t\tStart\tEnd\tNBases\tAmbigs\tPolymer\tNumSeqs\n",
        "Minimum:\t1\t1\t1\t0\t1\t1\n",
        "2.5%-tile:\t539\t2068\t370\t0\t4\t136678\n",
        "25%-tile:\t539\t2068\t372\t0\t4\t1366774\n",
        "Median: \t539\t2068\t374\t0\t5\t2733547\n",
        "75%-tile:\t539\t2068\t374\t0\t6\t4100320\n",
        "97.5%-tile:\t539\t2068\t376\t0\t8\t5330416\n",
        "Maximum:\t2548\t2548\t551\t0\t125\t5467093\n",
        "Mean:\t539.836\t2067.67\t373.13\t0\t5.3771\n",
        "# of unique seqs:\t4031953\n",
        "total # of seqs:\t5467093\n",
        "\n",
        "Output File Names: \n",
        "data/tmp/maxee1.0.noN.unique.filter.summary\n",
        "\n",
        "\n",
        "mothur > quit()\n"
       ]
      }
     ],
     "prompt_number": 60
    },
    {
     "cell_type": "heading",
     "level": 3,
     "metadata": {},
     "source": [
      "Removing homopolymers (larger than 8) and screen out sequences that don't align to amplicon region"
     ]
    },
    {
     "cell_type": "code",
     "collapsed": false,
     "input": [
      "%%bash\n",
      "\n",
      "mothur \"#screen.seqs(fasta=data/tmp/maxee1.0.noN.unique.filter.fasta, \\\n",
      "processors=10, \\\n",
      "name=data/tmp/maxee1.0.noN.names, \\\n",
      "group=data/group_file.txt, \\\n",
      "start=539, \\\n",
      "end=2068, \\\n",
      "maxhomop=8, minlength=370)\" > /dev/null"
     ],
     "language": "python",
     "metadata": {},
     "outputs": [],
     "prompt_number": 61
    },
    {
     "cell_type": "code",
     "collapsed": false,
     "input": [
      "%%bash\n",
      "\n",
      "mothur \"#filter.seqs(fasta=data/tmp/maxee1.0.noN.unique.filter.good.fasta, \\\n",
      "processors=10, \\\n",
      "vertical=T)\" > /dev/null"
     ],
     "language": "python",
     "metadata": {},
     "outputs": [],
     "prompt_number": 62
    },
    {
     "cell_type": "code",
     "collapsed": false,
     "input": [
      "%%bash\n",
      "\n",
      "mothur \"#summary.seqs(fasta=data/tmp/maxee1.0.noN.unique.filter.good.filter.fasta, \\\n",
      "name=data/tmp/maxee1.0.noN.good.names)\""
     ],
     "language": "python",
     "metadata": {},
     "outputs": [
      {
       "output_type": "stream",
       "stream": "stdout",
       "text": [
        "\u001b[H\u001b[2J\n",
        "\n",
        "\n",
        "\n",
        "\n",
        "\n",
        "mothur v.1.32.1\n",
        "Last updated: 10/16/2013\n",
        "\n",
        "by\n",
        "Patrick D. Schloss\n",
        "\n",
        "Department of Microbiology & Immunology\n",
        "University of Michigan\n",
        "pschloss@umich.edu\n",
        "http://www.mothur.org\n",
        "\n",
        "When using, please cite:\n",
        "Schloss, P.D., et al., Introducing mothur: Open-source, platform-independent, community-supported software for describing and comparing microbial communities. Appl Environ Microbiol, 2009. 75(23):7537-41.\n",
        "\n",
        "Distributed under the GNU General Public License\n",
        "\n",
        "Type 'help()' for information on the commands that are available\n",
        "\n",
        "Type 'quit()' to exit program\n",
        "\n",
        "\n",
        "\n",
        "mothur > summary.seqs(fasta=data/tmp/maxee1.0.noN.unique.filter.good.filter.fasta, name=data/tmp/maxee1.0.noN.good.names)\n",
        "\n",
        "Using 1 processors.\n",
        "\n",
        "\t\tStart\tEnd\tNBases\tAmbigs\tPolymer\tNumSeqs\n",
        "Minimum:\t1\t1488\t370\t0\t3\t1\n",
        "2.5%-tile:\t139\t1488\t370\t0\t4\t135398\n",
        "25%-tile:\t139\t1488\t372\t0\t4\t1353980\n",
        "Median: \t139\t1488\t374\t0\t5\t2707959\n",
        "75%-tile:\t139\t1488\t374\t0\t6\t4061938\n",
        "97.5%-tile:\t139\t1488\t376\t0\t8\t5280519\n",
        "Maximum:\t139\t1610\t551\t0\t8\t5415916\n",
        "Mean:\t138.997\t1488.02\t373.44\t0\t5.3753\n",
        "# of unique seqs:\t3991141\n",
        "total # of seqs:\t5415916\n",
        "\n",
        "Output File Names: \n",
        "data/tmp/maxee1.0.noN.unique.filter.good.filter.summary\n",
        "\n",
        "\n",
        "mothur > quit()\n"
       ]
      }
     ],
     "prompt_number": 63
    },
    {
     "cell_type": "heading",
     "level": 1,
     "metadata": {},
     "source": [
      "Chimera Checking w Uchime (when assigning OTUs- in other notebook)"
     ]
    },
    {
     "cell_type": "heading",
     "level": 4,
     "metadata": {},
     "source": [
      "Expand data, remove gaps, and copy into data directory"
     ]
    },
    {
     "cell_type": "code",
     "collapsed": false,
     "input": [
      "%%bash\n",
      "mothur \"#deunique.seqs(fasta=data/tmp/maxee1.0.noN.unique.filter.good.filter.fasta, \\\n",
      "name=data/tmp/maxee1.0.noN.good.names)\" "
     ],
     "language": "python",
     "metadata": {},
     "outputs": [
      {
       "output_type": "stream",
       "stream": "stdout",
       "text": [
        "\u001b[H\u001b[2J\n",
        "\n",
        "\n",
        "\n",
        "\n",
        "\n",
        "mothur v.1.32.1\n",
        "Last updated: 10/16/2013\n",
        "\n",
        "by\n",
        "Patrick D. Schloss\n",
        "\n",
        "Department of Microbiology & Immunology\n",
        "University of Michigan\n",
        "pschloss@umich.edu\n",
        "http://www.mothur.org\n",
        "\n",
        "When using, please cite:\n",
        "Schloss, P.D., et al., Introducing mothur: Open-source, platform-independent, community-supported software for describing and comparing microbial communities. Appl Environ Microbiol, 2009. 75(23):7537-41.\n",
        "\n",
        "Distributed under the GNU General Public License\n",
        "\n",
        "Type 'help()' for information on the commands that are available\n",
        "\n",
        "Type 'quit()' to exit program\n",
        "\n",
        "\n",
        "\n",
        "mothur > deunique.seqs(fasta=data/tmp/maxee1.0.noN.unique.filter.good.filter.fasta, name=data/tmp/maxee1.0.noN.good.names)\n",
        "\n",
        "Output File Names: \n",
        "data/tmp/maxee1.0.noN.redundant.fasta\n",
        "\n",
        "\n",
        "mothur > quit()\n"
       ]
      }
     ],
     "prompt_number": 64
    },
    {
     "cell_type": "code",
     "collapsed": false,
     "input": [
      "!sed '/>/! s/-//g;/>/! s/\\.//g' data/tmp/maxee1.0.noN.redundant.fasta > data/finalQC.fasta"
     ],
     "language": "python",
     "metadata": {},
     "outputs": [],
     "prompt_number": 65
    },
    {
     "cell_type": "code",
     "collapsed": false,
     "input": [
      "!head data/finalQC.fasta"
     ],
     "language": "python",
     "metadata": {},
     "outputs": [
      {
       "output_type": "stream",
       "stream": "stdout",
       "text": [
        ">NTH1_23\r\n",
        "TACGAACCGGGCAAACGTTATTCGGAATTACTGGGCTTAAAGGGTGCGTAGGCTGCGCTATAAGTCGGGTGTGAAATCCCTCAGCTCAACTGAGGAACTGCGCCCGATACTGTAGTGCTTGAGGAGGATAGAGGTGAGCGGAACTAGCAGTGGAGCGGTGAAATGCGTTGATATTGCTGGGAACACCCGTGGCGAAAGCGGCTCACTGGGTCCTTTCTGACGCTGAGGCACGAAAGCTAGGGGAGCAAACAGGATTAGATACCCTGGTAGTCCTAGCCCTAAACGATCAGGACTTGACGTGGGCCCCGTCCGGGGTCCGTGCCGTAGCCAACGTGATAAGTCCTGCGCCTGGGGAGTACGGTCGCAAGGCTG\r\n",
        ">NTR1_26\r\n",
        "TACAGAGGTGGCAAGCGTTGTTCGGAATTACTGGGCGTAAAGGGCGCGTAGGCGGCCATCTAAGTCAGACGTGAAATCCCCCGGCTCAACCTGGGAACTGCGTCTGATACTGGACGGCTTGAGTTTGGGAGAGGGATGTAGAATTCCAGGTGTAGCGGTGAAATGCGTAGATATCTGGAGGAATACCGGTGGCGAAGGCGGCATCCTGGACCAATACTGACGCTGGGGCGCGAAAGCTAGGGGAGCAAACGGGATTAGATACCCTGGTAGTCCACGCCCTAAACGATGGATACTCGACATCAGCGATACACTGTTGGTGTCTGAGCGAAAGCATTAAGTATCCCGCCTGGGAAGTACGATCGCAAGATTA\r\n",
        ">NTH3_27\r\n",
        "TACAGAGGTGGCAAGCGTTGTTCGGAATTACTGGGCGTAAAGGGCGCGTAGGCGGCCATCTAAGTCAGACGTGAAATCCCCCGGCTTAACCTGGGAACTGCGTCTGATACTGGAAGGCTTGAGTATGGGAGAGGGATGTAGAATTCCAGGTGTAGCGGTGAAATGCGTAGATATCTGGAGGAATACCGGTGGCGAAGGCGGCATCCTGGACCATTACTGACGCTGAGGCGCGAAAGCTAGGGGAGCAAACGGGATTAGATACCCCGGTAGTCCTAGCCCTAAACGATGGGTACTAGGTAGTAGACTAGACATGGGTTTACTGCCGAAGCTAAAGTGCTAAGTACCCCGCCTGGGGAGTACGGCCGCAAGGTTG\r\n",
        ">TWE4_29\r\n",
        "TACGGGGGGAGCAAGCGTTGTTCGGATTTACTGGGCTTAAAGGGCGCGTAGGCGGGCTGCCGCGTCCGGGGTGAAATCCCACGGCTCAACCGTGGAACGGCCCCGGGTACGGGCGGCCTCGAGGGGGGTAGGGGCGTGCGGAACTGTGGGTGGAGCGGTGGAATGCGTTGATATCCACAGGAACTCCGGTGGCGAAGGCGGCACGCTGGACCCTCTCTGACGCTGAGGCGCGAAAGCCAGGGGAGCGAACGGGATTAGATACCCCGGTAGTCCTAGCCCTAAACGATGGGTACTAGATTGTAGACGTACATGGGTTTACAGTCGAAGCAAAAGTGATAAGTACCCCGCCTGGGGAGTATGGTCGCAAGGCTG\r\n",
        ">NTR3_30\r\n",
        "TACGTAGGTGGCAAGCGTTGTCCGGAATTATTGGGCGTAAAGGGCTCGCAGGCGGTTTCTTAAGTCTGATGTGAAAGCCCCCGGCTCAACCGGGGAAGGTCATTGGAAACTGGGGAACTTGAGTGCAGAAGAGGAGAGTGGAATTCCACGTGTAGCGGTGAAATGCGTAGAGATGTGGAGGAACACCAGTGGCGAAGGCGACTCTCTGGTCTGTAACTGACGCTGAGGAGCGAAAGCGTGGGGAGCGAACAGGATTAGATACCCTGGTAGTCCACGCCGTAAACGATGAGTGCTAAGTGTTAGGGGGTTTCCGCCCCTTAGTGCTGCAGCTAACGCATTAAGCACTCCGCCTGGGGAGTACGGTCGCAAGACTG\r\n"
       ]
      }
     ],
     "prompt_number": 66
    },
    {
     "cell_type": "heading",
     "level": 4,
     "metadata": {},
     "source": [
      "Total Number of QC'd sequences"
     ]
    },
    {
     "cell_type": "code",
     "collapsed": false,
     "input": [
      "!grep -c \">\" data/finalQC.fasta"
     ],
     "language": "python",
     "metadata": {},
     "outputs": [
      {
       "output_type": "stream",
       "stream": "stdout",
       "text": [
        "5415916\r\n"
       ]
      }
     ],
     "prompt_number": 70
    }
   ],
   "metadata": {}
  }
 ]
}