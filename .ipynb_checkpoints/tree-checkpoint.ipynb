{
 "metadata": {
  "name": "",
  "signature": "sha256:2d06d938c09ff9c422087be8b3f15bee9e1998298c281d626f2b41fa992e22a3"
 },
 "nbformat": 3,
 "nbformat_minor": 0,
 "worksheets": [
  {
   "cells": [
    {
     "cell_type": "code",
     "collapsed": false,
     "input": [
      "from cogent.app.fasttree import build_tree_from_alignment\n",
      "from cogent import DNA, LoadSeqs\n",
      "from Bio import Entrez\n",
      "Entrez.email = \"chuck.peperanney@gmail.com\"\n",
      "import Itol, ItolExport\n",
      "import requests\n",
      "from IPython.display import display, Image"
     ],
     "language": "python",
     "metadata": {},
     "outputs": [],
     "prompt_number": 1
    },
    {
     "cell_type": "markdown",
     "metadata": {},
     "source": [
      "###This is the collection of sequences that we'll be making the tree from (OTU centroids)."
     ]
    },
    {
     "cell_type": "code",
     "collapsed": false,
     "input": [
      "!head data/otusn.pick.fasta"
     ],
     "language": "python",
     "metadata": {},
     "outputs": [
      {
       "output_type": "stream",
       "stream": "stdout",
       "text": [
        ">OTU.1\r\n",
        "TACGAAGGTGGCAAGCGTTGTTCGGATTTACTGGGCGTACAGGGAGCGTAGGCGGTTGGATAAGCCCTCCGTGAAATCTCCAGGCTTAACCTGGAAAGTGCAGAGGGGACTGTTCAGCTAGAGGATGGGAGAGGAGCGCGGAATTCCCGGTGTAGCGGTGAAATGCGTAGAGATCGGGAGGAAGGCCGGTGGCGAAGGCGGCGCTCTGGAACATTTCTGACGCTGAGGCTCGAAAGCGTGGGGAGCAAACAGGATTAGATACCCTGGTAGTCCACGCCTTAAACGATGGATACTAAGTGTCGGCGGGTTACCGCCGGTGCCGCAGCTAACGCAGTAAGTATCCCGCCTGGGAAGTACGGCCGCAAGGTTG\r\n",
        ">OTU.2\r\n",
        "TACGGAGGGGACTAGCGTTGTTCGGAATTACTGGGCGTAAAGCGCACGTAGGCGGATTTGTAAGTCAGGGGTGAAATCCCGGGGCTCAACCTCGGAACTGCCTTTGATACTGCAAATCTCGAGTCCGGAAGAGGTGAGTGGAATTCCTAGTGTAGAGGTGAAATTCGTAGATATTAGGAAGAACACCAGTGGCGAAGGCGGCTCACTGGTCCGGTACTGACGCTGAGGTGCGAAAGCGTGGGGAGCAAACAGGATTAGATACCCTGGTAGTCCACGCCGTAAACTATGGGTGCTAGCCGTCGGGGAGCATGCTCTTCGGTGGCGCAGCAAACGCATTAAGCACCCCGCCTGGGGAGTACGGTCGCAAGATTA\r\n",
        ">OTU.3\r\n",
        "TACAGAGGGGGCAAGCGTTGTTCGGAATTACTGGGCGTAAAGGGCGCGTAGGCGGCCTGCTAAGTCGAACGTGAAATCCCTGGGCTCAACCCAGGAACTGCGTCCGATACTGGTTGGCTTGAATCCGGGAGAGGGATGTGGAATTCCAGGTGTAGCGGTGAAATGCGTAGATATCTGGAGGAACACCGGTGGCGAAGGCGACATCCTGGACCGGTATTGACGCTGAGGCGCGAAAGCCAGGGGAGCAAACGGGATTAGATACCCCGGTAGTCCTGGCCCTAAACGATGAATGCTTGGTGTGGCGGGTATCGATCCCTGCCGTGCCGAAGCTAACGCATTAAGCATTCCGCCTGGGGAGTACGGTCGCAAGGCTG\r\n",
        ">OTU.4\r\n",
        "TACGAAGGGGGCTAGCGTTGCTCGGAATCACTGGGCGTAAAGGGTGCGTAGGCGGGTCTTTAAGTCAGGGGTGAAATCCTGGAGCTCAACTCCAGAACTGCCTTTGATACTGAAGATCTTGAGTTCGGGAGAGGTGAGTGGAACTGCGAGTGTAGAGGTGAAATTCGTAGATATTCGCAAGAACACCAGTGGCGAAGGCGGCTCACTGGCCCGATACTGACGCTGAGGCACGAAAGCGTGGGGAGCAAACAGGATTAGATACCCTGGTAGTCCACGCCGTAAACGATGAATGCCAGCCGTTAGTGGGTTTACTCACTAGTGGCGCAGCTAACGCTTTAAGCATTCCGCCTGGGGAGTACGGTCGCAAGATTA\r\n",
        ">OTU.5\r\n",
        "TACGGAGGGTGCAAGCGTTATCCGGATTCACTGGGTTTAAAGGGTGCGTAGGTGGGCAAGTAAGTCAGTGGTGAAATCTCCGGGCTTAACCCGGAAACTGCCATTGATACTATTTGTCTTGAATACTGTGGAGGTCAGCGGAATATGTCATGTAGCGGTGAAATGCTTAGATATGACATAGAACACCAATTGCGAAGGCAGCTGGCTACACAAATATTGACACTGAGGCACGAAAGCGTGGGGATCAAACAGGATTAGATACCCTGGTAGTCCACGCCCTAAACTATGGATACTCGACATTTGCGATAAACTGCAAGTGTCTGAGCGAAAGCATTAAGTATCCCACCTGGGAAGTACGATCGCAAGATTG\r\n"
       ]
      }
     ],
     "prompt_number": 32
    },
    {
     "cell_type": "code",
     "collapsed": false,
     "input": [
      "!grep -c \">\" data/otusn.pick.fasta"
     ],
     "language": "python",
     "metadata": {},
     "outputs": [
      {
       "output_type": "stream",
       "stream": "stdout",
       "text": [
        "8212\r\n"
       ]
      }
     ],
     "prompt_number": 33
    },
    {
     "cell_type": "markdown",
     "metadata": {},
     "source": [
      "###Using SSU-Align to align seqs and masking based on alignment posterior probabilities."
     ]
    },
    {
     "cell_type": "code",
     "collapsed": false,
     "input": [
      "!ssu-prep -f -x -b 50 --rfonly --dna data/otusn.pick.fasta data/tmp/ssu_aln 20 > /dev/null"
     ],
     "language": "python",
     "metadata": {},
     "outputs": [],
     "prompt_number": 34
    },
    {
     "cell_type": "code",
     "collapsed": false,
     "input": [
      "!./ssu_aln.ssu-align.sh > /dev/null"
     ],
     "language": "python",
     "metadata": {},
     "outputs": []
    },
    {
     "cell_type": "code",
     "collapsed": false,
     "input": [
      "!ssu-mask --dna --afa data/tmp/ssu_aln/ >/dev/null"
     ],
     "language": "python",
     "metadata": {},
     "outputs": []
    },
    {
     "cell_type": "code",
     "collapsed": false,
     "input": [
      "!head data/tmp/ssu_aln/ssu_aln.bacteria.mask.afa"
     ],
     "language": "python",
     "metadata": {},
     "outputs": []
    },
    {
     "cell_type": "markdown",
     "metadata": {},
     "source": [
      "###We use Sulfolobus as the root (acc. X90478)."
     ]
    },
    {
     "cell_type": "code",
     "collapsed": false,
     "input": [
      "sso_acc = \"X90478\"\n",
      "sso_fa = Entrez.efetch(db=\"nucleotide\", id=sso_acc, rettype=\"fasta\", retmode=\"text\").readlines()"
     ],
     "language": "python",
     "metadata": {},
     "outputs": []
    },
    {
     "cell_type": "code",
     "collapsed": false,
     "input": [
      "out = open(\"data/tmp/X90478.fasta\", \"w\")\n",
      "sso_fa_namestrip = sso_fa[1:]\n",
      "sso_fa_namestrip.insert(0,\">%s\\n\"%sso_acc)\n",
      "out.writelines(sso_fa_namestrip)\n",
      "out.close()\n",
      "!head -n 2 data/tmp/X90478.fasta"
     ],
     "language": "python",
     "metadata": {},
     "outputs": []
    },
    {
     "cell_type": "markdown",
     "metadata": {},
     "source": [
      "###Align the outgroup to the same cm (use the same mask that was established earlier)."
     ]
    },
    {
     "cell_type": "code",
     "collapsed": false,
     "input": [
      "!ssu-align -f -n bacteria --dna --rfonly data/tmp/X90478.fasta data/sso_aln > /dev/null"
     ],
     "language": "python",
     "metadata": {},
     "outputs": []
    },
    {
     "cell_type": "code",
     "collapsed": false,
     "input": [
      "!ssu-mask -s data/tmp/ssu_aln/ssu_aln.bacteria.mask --dna --afa data/sso_aln/ > /dev/null"
     ],
     "language": "python",
     "metadata": {},
     "outputs": []
    },
    {
     "cell_type": "code",
     "collapsed": false,
     "input": [
      "!cat data/sso_aln/sso_aln.bacteria.mask.afa"
     ],
     "language": "python",
     "metadata": {},
     "outputs": []
    },
    {
     "cell_type": "code",
     "collapsed": false,
     "input": [
      "!cat data/sso_aln/sso_aln.bacteria.mask.afa \\\n",
      "data/tmp/ssu_aln/ssu_aln.bacteria.mask.afa > data/tmp/aln_for_tree.fasta"
     ],
     "language": "python",
     "metadata": {},
     "outputs": []
    },
    {
     "cell_type": "markdown",
     "metadata": {},
     "source": [
      "###Build and root the tree."
     ]
    },
    {
     "cell_type": "code",
     "collapsed": false,
     "input": [
      "aln = LoadSeqs(\"data/tmp/aln_for_tree.fasta\", moltype=DNA)\n",
      "t_unroot = build_tree_from_alignment(aln, moltype=DNA)"
     ],
     "language": "python",
     "metadata": {},
     "outputs": []
    },
    {
     "cell_type": "code",
     "collapsed": false,
     "input": [
      "t_rooted = t_unroot.rootedWithTip(sso_acc)"
     ],
     "language": "python",
     "metadata": {},
     "outputs": []
    },
    {
     "cell_type": "code",
     "collapsed": false,
     "input": [
      "t_rooted.writeToFile(\"data/otusn.tree\")"
     ],
     "language": "python",
     "metadata": {},
     "outputs": []
    },
    {
     "cell_type": "markdown",
     "metadata": {},
     "source": [
      "###Upload the tree to Itol to get a nice figure."
     ]
    },
    {
     "cell_type": "code",
     "collapsed": false,
     "input": [
      "itol_uploader = Itol.Itol()\n",
      "url = itol_uploader.comm.upload_url"
     ],
     "language": "python",
     "metadata": {},
     "outputs": []
    },
    {
     "cell_type": "code",
     "collapsed": false,
     "input": [
      "r = requests.post(url, files={'treeFile': open(\"data/otusn.tree\",'rb')})\n",
      "tree_id = r.text.split()[1]"
     ],
     "language": "python",
     "metadata": {},
     "outputs": []
    },
    {
     "cell_type": "code",
     "collapsed": false,
     "input": [
      "itol_exporter = ItolExport.ItolExport()\n",
      "itol_exporter.add_export_param_dict({'tree':tree_id})\n",
      "itol_exporter.add_export_param_dict({'format':'png'})\n",
      "itol_exporter.export(\"data/otusn.tree.png\")"
     ],
     "language": "python",
     "metadata": {},
     "outputs": []
    },
    {
     "cell_type": "code",
     "collapsed": false,
     "input": [
      "i = Image(filename=\"data/otusn.tree.png\", width=600)\n",
      "display(i)"
     ],
     "language": "python",
     "metadata": {},
     "outputs": []
    }
   ],
   "metadata": {}
  }
 ]
}