{
 "metadata": {
  "name": "",
  "signature": "sha256:00b835b069630b6ab0e636f5ff6100ae2c9d61cefb9471a84d4279349ec33e81"
 },
 "nbformat": 3,
 "nbformat_minor": 0,
 "worksheets": [
  {
   "cells": [
    {
     "cell_type": "markdown",
     "metadata": {},
     "source": [
      "##Discard sequences that exceed the max expected error threshold."
     ]
    },
    {
     "cell_type": "code",
     "collapsed": false,
     "input": [
      "%%bash\n",
      "\n",
      "nprocs=20\n",
      "maxee=1\n",
      "\n",
      "tmpdir1=`mktemp -d`\n",
      "trap \"rm -r $tmpdir1\" 1 2 3 15\n",
      "split -d -l 2000000 /var/seq_data/Chazy/Chantal_SON.assembled.dmult.fastq $tmpdir1/Block\n",
      "\n",
      "tmpdir2=`mktemp -d`\n",
      "trap \"rm -r $tmpdir2\" 1 2 3 15\n",
      "ls $tmpdir1/Block?? | parallel --gnu -j $nprocs -k \"usearch -fastq_filter {} \\\n",
      "-fastq_maxee $maxee \\\n",
      "-fastaout $tmpdir2/{#}.fasta >/dev/null 2>&1 && cat $tmpdir2/{#}.fasta\" > data/tmp/maxee$maxee.fasta\n",
      "rm -r $tmpdir2 $tmpdir1\n",
      "\n",
      "grep -c \">\" data/tmp/maxee$maxee.fasta\n",
      "head -n 8 data/tmp/maxee$maxee.fasta"
     ],
     "language": "python",
     "metadata": {},
     "outputs": [
      {
       "output_type": "stream",
       "stream": "stdout",
       "text": [
        "1068203\n",
        ">S.PTH.1_79 orig_name=M02465:114:000000000-AD2EC:1:1101:9175:1701\n",
        "TACGTAGGGGGCGAGCGTTGTCCGGAATTATTGGGCGTAAAGAGCTCGTAGGCGGTTCAGTAAGTCGGCTGTGAAAGTCCGAGGCTCAACCTCGGAACTGCAGTCGAGACTATTGTGACTAGAGTCCGGTAGAGGAGAATGGAATTCCCGGTGTAGCGGTGAAATGCGCAGATATCGGGAGGAACACCAGTAGCGAAGGCGGCTTCCTGGACCACGACTGACGCTGAGGAGCGAAAGCCAGGGGAGCAAACGGGATTAGATACCCCGGTAGTCCTGGCCCTAAACGATGAATGCTTGGTGTGGCGGGTATCGATCCCTGCCGTGCCGAAGCTAACGCATTAAGCATTCCGCCTGGGGAGTACGGTCGCAAGGCTG\n",
        ">S.NTR.2_83 orig_name=M02465:114:000000000-AD2EC:1:1101:16530:1703\n",
        "TACGTAGGGGGCAAGCGTTGTCCGGAATTATTGGGCGTAAAGGGCGCGTAGGCGATTCGATAAGTCTCATGTGAAATCCCAGGGCCTAACCCTGGAATGGCATGGGATACTGTTGGAGTTGAGTTCCGGAGAGGAAGGCAGAATTCCCGGTGTAGCGGTGAAATGGGTAGATATCGGGAGGAATACCAGTGGCGAAGGCGGCCTTCTGGACGGATACTGACGCTGAGGCGCGAAAGCCGGGGGAGCAAACGGGATTAGATACCCCGGTAGTCCTGGCCGTAAACGATGTGCACTTGGTGTGAGCCGGTTTTCGGTTCGTGCCGAAGCTAACGCAATAAGTGCACCGCCTGGGGAGTACGGTCGCAAGGCTG\n",
        ">N.NTH.3_111 orig_name=M02465:114:000000000-AD2EC:1:1101:10476:1714\n",
        "TACGTAGGGTGCGAGCGTTAATCGGAATTACTGGGCGTAAAGCGTGCGCAGGCGGTTTCGTAAGCTGGAGGTGAAATCCCCGGGCTTAACCTGGGAACTGCATTTGTGACTGCACGGCTCGAGTGCGGCAGAGGGGGATGGAATTCCGCGTGTAGCAGTGAAATGCGTAGATATGCGGAGGAACACCGATGGCGAAGGCAATCCCCTGGGCCTGCACTGACGCTCATGCACGAAAGCGTGGGGAGCAAACAGGATTAGATACCCTGGTAGTCCACGCCCTAAACGATGTCAACTGGTTGTTGGGTGCATTAGTACTCAGTAACGAAGCTAACGCGTGAAGTTGACCGCCTGGGGAGTACGGCCGCAAGGTTG\n",
        ">O.PTH.1_146 orig_name=M02465:114:000000000-AD2EC:1:1101:12629:1728\n",
        "TACAGAGGTGGCAAGCGTTGTTCGGAATTACTGGGCGTAAAGGGCGCGTAGGCGGCCTTCTAAGTCAGACGTGAAATCCCCAGGCTTAACTTGGGAACTGCGTCTGATACTGGAGGGCTCGAGGGAGGGAGAGGGATGTGGAATTCCAGGGGTAGCGGTGAAATGCGTAGATAGCTGGAGGAACCCCGGTGGCGAAGGCGGCATCCTGGACCGACACTGACGCGGATGCGCGAAAGCTAGGGGAGCAAACGGGATTAGATACCCCGGTAGTCCTAGCCCTAAACGATGAGTGCTTGGTGTGGCGGGTATCGATCCCTGCCGTGCCGAAGCTAACGCATTAAGCACTCCGCCTGGGGAGTACGGTCGCAAGGCTG\n"
       ]
      }
     ],
     "prompt_number": 9
    },
    {
     "cell_type": "code",
     "collapsed": false,
     "input": [
      "%%bash\n",
      "bioawk -c fastx '{if ($seq !~ /N/){print \">\" $name \" \" $4 \"\\n\" $seq}}' data/tmp/maxee1.fasta > \\\n",
      "data/tmp/maxee1.0.noN.fasta\n",
      "grep -c \">\" data/tmp/maxee1.fasta\n",
      "grep -c \">\" data/tmp/maxee1.0.noN.fasta"
     ],
     "language": "python",
     "metadata": {},
     "outputs": [
      {
       "output_type": "stream",
       "stream": "stdout",
       "text": [
        "1068203\n",
        "1068203\n"
       ]
      }
     ],
     "prompt_number": 30
    },
    {
     "cell_type": "markdown",
     "metadata": {},
     "source": [
      "##Remove seqs with N characters."
     ]
    },
    {
     "cell_type": "heading",
     "level": 1,
     "metadata": {},
     "source": [
      "Alignment-based QC with Mothur"
     ]
    },
    {
     "cell_type": "code",
     "collapsed": false,
     "input": [
      "%%bash\n",
      "ionice -c2 -n3 \\\n",
      "mothur \"#unique.seqs(fasta=data/tmp/maxee1.0.noN.fasta)\" > /dev/null"
     ],
     "language": "python",
     "metadata": {},
     "outputs": [],
     "prompt_number": 24
    },
    {
     "cell_type": "code",
     "collapsed": false,
     "input": [
      "!grep -c \">\" data/tmp/maxee1.0.noN.fasta\n",
      "!grep -c \">\" data/tmp/maxee1.0.noN.unique.fasta"
     ],
     "language": "python",
     "metadata": {},
     "outputs": [
      {
       "output_type": "stream",
       "stream": "stdout",
       "text": [
        "1068203\r\n"
       ]
      },
      {
       "output_type": "stream",
       "stream": "stdout",
       "text": [
        "928730\r\n"
       ]
      }
     ],
     "prompt_number": 25
    },
    {
     "cell_type": "heading",
     "level": 5,
     "metadata": {},
     "source": [
      "Need to use all sequences (not just unique sequences) for next step to create the data file"
     ]
    },
    {
     "cell_type": "code",
     "collapsed": false,
     "input": [
      "%%bash\n",
      "bioawk -c fastx '{print $name}' data/tmp/maxee1.0.noN.fasta | \\\n",
      "awk -F\"_\" 'BEGIN{OFS=\"\\t\"}{print $0, $1}' > data/group_file.txt\n",
      "head data/group_file.txt"
     ],
     "language": "python",
     "metadata": {},
     "outputs": [
      {
       "output_type": "stream",
       "stream": "stdout",
       "text": [
        "S.PTH.1_79\tS.PTH.1\n",
        "S.NTR.2_83\tS.NTR.2\n",
        "N.NTH.3_111\tN.NTH.3\n",
        "O.PTH.1_146\tO.PTH.1\n",
        "N.NTR.4_154\tN.NTR.4\n",
        "N.NTH.4_156\tN.NTH.4\n",
        "S.NTR.2_177\tS.NTR.2\n",
        "S.PTR.2_178\tS.PTR.2\n",
        "S.NTH.4_193\tS.NTH.4\n",
        "S.PTH.4_300\tS.PTH.4\n"
       ]
      }
     ],
     "prompt_number": 26
    },
    {
     "cell_type": "code",
     "collapsed": false,
     "input": [
      "!mkdir -p /home/chantal/RNASIP/data/tmp/db"
     ],
     "language": "python",
     "metadata": {},
     "outputs": [],
     "prompt_number": 3
    },
    {
     "cell_type": "code",
     "collapsed": false,
     "input": [
      "%%bash\n",
      "if ! [ -e /home/chantal/RNASIP/data/silva_ref_aln_mothur.fasta ]; then\n",
      "    curl -o /home/chantal/RNASIP/data/tmp/db/silva_B.zip http://www.mothur.org/w/images/9/98/Silva.bacteria.zip && unzip data/tmp/db/silva_B.zip\n",
      "    curl -o /home/chantal/RNASIP/data/tmp/db/silva_E.zip http://www.mothur.org/w/images/1/1a/Silva.eukarya.zip && unzip data/tmp/db/silva_E.zip\n",
      "    curl -o /home/chantal/RNASIP/data/tmp/db/silva_A.zip http://www.mothur.org/w/images/3/3c/Silva.archaea.zip && unzip data/tmp/db/silva_A.zip\n",
      "fi"
     ],
     "language": "python",
     "metadata": {},
     "outputs": [],
     "prompt_number": 8
    },
    {
     "cell_type": "code",
     "collapsed": false,
     "input": [
      "%%bash\n",
      "if ! [ -e /home/chantal/RNASIP/data/silva_ref_aln_mothur.fasta ]; then\n",
      "    cat /home/chantal/RNASIP/data/tmp/db/silva.bacteria/silva.bacteria.fasta \\\n",
      "    /home/chantal/RNASIP/data/tmp/db/silva.eukarya/silva.eukarya.fasta \\\n",
      "    /home/chantal/RNASIP/data/tmp/db/Silva.archaea/silva.archaea.fasta \\\n",
      "    > /home/chantal/RNASIP/data/silva_ref_aln_mothur.fasta\n",
      "fi"
     ],
     "language": "python",
     "metadata": {},
     "outputs": [],
     "prompt_number": 11
    },
    {
     "cell_type": "code",
     "collapsed": false,
     "input": [
      "%%bash\n",
      "mothur \"#filter.seqs(vertical=t, \\\n",
      "fasta=/home/chantal/RNASIP/data/silva_ref_aln_mothur.fasta, \\\n",
      "processors=10)\" > /dev/null"
     ],
     "language": "python",
     "metadata": {},
     "outputs": [],
     "prompt_number": 5
    },
    {
     "cell_type": "code",
     "collapsed": true,
     "input": [
      "%%bash\n",
      "ionice -c2 -n3 \\\n",
      "mothur \"#align.seqs(candidate=data/tmp/maxee1.0.noN.unique.fasta, \\\n",
      "template=/home/chantal/RNASIP/data/tmp/db/silva_ref_aln_mothur.fasta, \\\n",
      "processors=15, \\\n",
      "flip=T)\" > /dev/null"
     ],
     "language": "python",
     "metadata": {},
     "outputs": [],
     "prompt_number": 27
    },
    {
     "cell_type": "heading",
     "level": 4,
     "metadata": {},
     "source": [
      "We can filter out vertical gaps..."
     ]
    },
    {
     "cell_type": "code",
     "collapsed": false,
     "input": [
      "%%bash\n",
      "mothur \"#filter.seqs(vertical=t, \\\n",
      "fasta=data/tmp/maxee1.0.noN.unique.align, \\\n",
      "processors=10)\" > /dev/null"
     ],
     "language": "python",
     "metadata": {},
     "outputs": [],
     "prompt_number": 28
    },
    {
     "cell_type": "heading",
     "level": 3,
     "metadata": {},
     "source": [
      "Here is what our seqs look like."
     ]
    },
    {
     "cell_type": "code",
     "collapsed": false,
     "input": [
      "%%bash\n",
      "mothur \"#summary.seqs(fasta=data/tmp/maxee1.0.noN.unique.filter.fasta, \\\n",
      "processors=20, \\\n",
      "name=data/tmp/maxee1.0.noN.names)\" "
     ],
     "language": "python",
     "metadata": {},
     "outputs": [
      {
       "output_type": "stream",
       "stream": "stdout",
       "text": [
        "\u001b[H\u001b[2J\n",
        "\n",
        "\n",
        "\n",
        "\n",
        "\n",
        "mothur v.1.32.1\n",
        "Last updated: 10/16/2013\n",
        "\n",
        "by\n",
        "Patrick D. Schloss\n",
        "\n",
        "Department of Microbiology & Immunology\n",
        "University of Michigan\n",
        "pschloss@umich.edu\n",
        "http://www.mothur.org\n",
        "\n",
        "When using, please cite:\n",
        "Schloss, P.D., et al., Introducing mothur: Open-source, platform-independent, community-supported software for describing and comparing microbial communities. Appl Environ Microbiol, 2009. 75(23):7537-41.\n",
        "\n",
        "Distributed under the GNU General Public License\n",
        "\n",
        "Type 'help()' for information on the commands that are available\n",
        "\n",
        "Type 'quit()' to exit program\n",
        "\n",
        "\n",
        "\n",
        "mothur > summary.seqs(fasta=data/tmp/maxee1.0.noN.unique.filter.fasta, processors=20, name=data/tmp/maxee1.0.noN.names)\n",
        "\n",
        "Using 20 processors.\n",
        "\n",
        "Using 20 processors.\n",
        "\n",
        "Using 20 processors.\n",
        "\n",
        "Using 20 processors.\n",
        "\n",
        "Using 20 processors.\n",
        "\n",
        "Using 20 processors.\n",
        "\n",
        "Using 20 processors.\n",
        "\n",
        "Using 20 processors.\n",
        "\n",
        "Using 20 processors.\n",
        "\n",
        "Using 20 processors.\n",
        "\n",
        "Using 20 processors.\n",
        "\n",
        "Using 20 processors.\n",
        "\n",
        "Using 20 processors.\n",
        "\n",
        "Using 20 processors.\n",
        "\n",
        "Using 20 processors.\n",
        "\n",
        "Using 20 processors.\n",
        "\n",
        "Using 20 processors.\n",
        "\n",
        "Using 20 processors.\n",
        "\n",
        "Using 20 processors.\n",
        "\n",
        "Using 20 processors.\n",
        "\n",
        "\t\tStart\tEnd\tNBases\tAmbigs\tPolymer\tNumSeqs\n",
        "Minimum:\t1\t1\t1\t0\t1\t1\n",
        "2.5%-tile:\t112\t1360\t370\t0\t4\t26706\n",
        "25%-tile:\t112\t1360\t372\t0\t4\t267051\n",
        "Median: \t112\t1360\t374\t0\t5\t534102\n",
        "75%-tile:\t112\t1360\t374\t0\t6\t801153\n",
        "97.5%-tile:\t112\t1360\t375\t0\t8\t1041498\n",
        "Maximum:\t1599\t1599\t440\t0\t26\t1068203\n",
        "Mean:\t113.014\t1359.74\t372.95\t0\t5.43418\n",
        "# of unique seqs:\t928730\n",
        "total # of seqs:\t1068203\n",
        "\n",
        "Output File Names: \n",
        "data/tmp/maxee1.0.noN.unique.filter.summary\n",
        "\n",
        "\n",
        "mothur > quit()\n"
       ]
      }
     ],
     "prompt_number": 29
    },
    {
     "cell_type": "heading",
     "level": 3,
     "metadata": {},
     "source": [
      "Removing homopolymers (larger than 8) and screen out sequences that don't align to amplicon region"
     ]
    },
    {
     "cell_type": "code",
     "collapsed": false,
     "input": [
      "%%bash\n",
      "\n",
      "mothur \"#screen.seqs(fasta=data/tmp/maxee1.0.noN.unique.filter.fasta, \\\n",
      "processors=10, \\\n",
      "name=data/tmp/maxee1.0.noN.names, \\\n",
      "group=data/group_file.txt, \\\n",
      "start=112, \\\n",
      "end=1360, \\\n",
      "maxhomop=8, minlength=370)\" > /dev/null"
     ],
     "language": "python",
     "metadata": {},
     "outputs": [],
     "prompt_number": 31
    },
    {
     "cell_type": "code",
     "collapsed": false,
     "input": [
      "%%bash\n",
      "\n",
      "mothur \"#filter.seqs(fasta=data/tmp/maxee1.0.noN.unique.filter.good.fasta, \\\n",
      "processors=10, \\\n",
      "vertical=T)\" > /dev/null"
     ],
     "language": "python",
     "metadata": {},
     "outputs": [],
     "prompt_number": 32
    },
    {
     "cell_type": "code",
     "collapsed": false,
     "input": [
      "%%bash\n",
      "\n",
      "mothur \"#summary.seqs(fasta=data/tmp/maxee1.0.noN.unique.filter.good.filter.fasta, \\\n",
      "name=data/tmp/maxee1.0.noN.good.names)\""
     ],
     "language": "python",
     "metadata": {},
     "outputs": [
      {
       "output_type": "stream",
       "stream": "stdout",
       "text": [
        "\u001b[H\u001b[2J\n",
        "\n",
        "\n",
        "\n",
        "\n",
        "\n",
        "mothur v.1.32.1\n",
        "Last updated: 10/16/2013\n",
        "\n",
        "by\n",
        "Patrick D. Schloss\n",
        "\n",
        "Department of Microbiology & Immunology\n",
        "University of Michigan\n",
        "pschloss@umich.edu\n",
        "http://www.mothur.org\n",
        "\n",
        "When using, please cite:\n",
        "Schloss, P.D., et al., Introducing mothur: Open-source, platform-independent, community-supported software for describing and comparing microbial communities. Appl Environ Microbiol, 2009. 75(23):7537-41.\n",
        "\n",
        "Distributed under the GNU General Public License\n",
        "\n",
        "Type 'help()' for information on the commands that are available\n",
        "\n",
        "Type 'quit()' to exit program\n",
        "\n",
        "\n",
        "\n",
        "mothur > summary.seqs(fasta=data/tmp/maxee1.0.noN.unique.filter.good.filter.fasta, name=data/tmp/maxee1.0.noN.good.names)\n",
        "\n",
        "Using 1 processors.\n",
        "\n",
        "\t\tStart\tEnd\tNBases\tAmbigs\tPolymer\tNumSeqs\n",
        "Minimum:\t1\t1057\t370\t0\t3\t1\n",
        "2.5%-tile:\t52\t1057\t370\t0\t4\t26271\n",
        "25%-tile:\t52\t1057\t373\t0\t4\t262707\n",
        "Median: \t52\t1057\t374\t0\t5\t525413\n",
        "75%-tile:\t52\t1057\t374\t0\t6\t788119\n",
        "97.5%-tile:\t52\t1057\t375\t0\t8\t1024554\n",
        "Maximum:\t52\t1140\t440\t0\t8\t1050824\n",
        "Mean:\t51.9993\t1057.01\t373.375\t0\t5.4218\n",
        "# of unique seqs:\t913215\n",
        "total # of seqs:\t1050824\n",
        "\n",
        "Output File Names: \n",
        "data/tmp/maxee1.0.noN.unique.filter.good.filter.summary\n",
        "\n",
        "\n",
        "mothur > quit()\n"
       ]
      }
     ],
     "prompt_number": 33
    },
    {
     "cell_type": "heading",
     "level": 1,
     "metadata": {},
     "source": [
      "Chimera Checking w Uchime (when assigning OTUs- in other notebook)"
     ]
    },
    {
     "cell_type": "heading",
     "level": 4,
     "metadata": {},
     "source": [
      "Expand data, remove gaps, and copy into data directory"
     ]
    },
    {
     "cell_type": "code",
     "collapsed": false,
     "input": [
      "%%bash\n",
      "mothur \"#deunique.seqs(fasta=data/tmp/maxee1.0.noN.unique.filter.good.filter.fasta, \\\n",
      "name=data/tmp/maxee1.0.noN.good.names)\" "
     ],
     "language": "python",
     "metadata": {},
     "outputs": [
      {
       "output_type": "stream",
       "stream": "stdout",
       "text": [
        "\u001b[H\u001b[2J\n",
        "\n",
        "\n",
        "\n",
        "\n",
        "\n",
        "mothur v.1.32.1\n",
        "Last updated: 10/16/2013\n",
        "\n",
        "by\n",
        "Patrick D. Schloss\n",
        "\n",
        "Department of Microbiology & Immunology\n",
        "University of Michigan\n",
        "pschloss@umich.edu\n",
        "http://www.mothur.org\n",
        "\n",
        "When using, please cite:\n",
        "Schloss, P.D., et al., Introducing mothur: Open-source, platform-independent, community-supported software for describing and comparing microbial communities. Appl Environ Microbiol, 2009. 75(23):7537-41.\n",
        "\n",
        "Distributed under the GNU General Public License\n",
        "\n",
        "Type 'help()' for information on the commands that are available\n",
        "\n",
        "Type 'quit()' to exit program\n",
        "\n",
        "\n",
        "\n",
        "mothur > deunique.seqs(fasta=data/tmp/maxee1.0.noN.unique.filter.good.filter.fasta, name=data/tmp/maxee1.0.noN.good.names)\n",
        "\n",
        "Output File Names: \n",
        "data/tmp/maxee1.0.noN.redundant.fasta\n",
        "\n",
        "\n",
        "mothur > quit()\n"
       ]
      }
     ],
     "prompt_number": 34
    },
    {
     "cell_type": "code",
     "collapsed": false,
     "input": [
      "!sed '/>/! s/-//g;/>/! s/\\.//g' data/tmp/maxee1.0.noN.redundant.fasta > data/finalQC_SON.fasta"
     ],
     "language": "python",
     "metadata": {},
     "outputs": [],
     "prompt_number": 35
    },
    {
     "cell_type": "code",
     "collapsed": false,
     "input": [
      "!head data/finalQC_SON.fasta"
     ],
     "language": "python",
     "metadata": {},
     "outputs": [
      {
       "output_type": "stream",
       "stream": "stdout",
       "text": [
        ">S.PTH.1_79\r\n",
        "TACGTAGGGGGCGAGCGTTGTCCGGAATTATTGGGCGTAAAGAGCTCGTAGGCGGTTCAGTAAGTCGGCTGTGAAAGTCCGAGGCTCAACCTCGGAACTGCAGTCGAGACTATTGTGACTAGAGTCCGGTAGAGGAGAATGGAATTCCCGGTGTAGCGGTGAAATGCGCAGATATCGGGAGGAACACCAGTAGCGAAGGCGGCTTCCTGGACCACGACTGACGCTGAGGAGCGAAAGCCAGGGGAGCAAACGGGATTAGATACCCCGGTAGTCCTGGCCCTAAACGATGAATGCTTGGTGTGGCGGGTATCGATCCCTGCCGTGCCGAAGCTAACGCATTAAGCATTCCGCCTGGGGAGTACGGTCGCAAGGCTG\r\n",
        ">S.NTR.2_83\r\n",
        "TACGTAGGGGGCAAGCGTTGTCCGGAATTATTGGGCGTAAAGGGCGCGTAGGCGATTCGATAAGTCTCATGTGAAATCCCAGGGCCTAACCCTGGAATGGCATGGGATACTGTTGGAGTTGAGTTCCGGAGAGGAAGGCAGAATTCCCGGTGTAGCGGTGAAATGGGTAGATATCGGGAGGAATACCAGTGGCGAAGGCGGCCTTCTGGACGGATACTGACGCTGAGGCGCGAAAGCCGGGGGAGCAAACGGGATTAGATACCCCGGTAGTCCTGGCCGTAAACGATGTGCACTTGGTGTGAGCCGGTTTTCGGTTCGTGCCGAAGCTAACGCAATAAGTGCACCGCCTGGGGAGTACGGTCGCAAGGCTG\r\n",
        ">N.NTH.3_111\r\n",
        "TACGTAGGGTGCGAGCGTTAATCGGAATTACTGGGCGTAAAGCGTGCGCAGGCGGTTTCGTAAGCTGGAGGTGAAATCCCCGGGCTTAACCTGGGAACTGCATTTGTGACTGCACGGCTCGAGTGCGGCAGAGGGGGATGGAATTCCGCGTGTAGCAGTGAAATGCGTAGATATGCGGAGGAACACCGATGGCGAAGGCAATCCCCTGGGCCTGCACTGACGCTCATGCACGAAAGCGTGGGGAGCAAACAGGATTAGATACCCTGGTAGTCCACGCCCTAAACGATGTCAACTGGTTGTTGGGTGCATTAGTACTCAGTAACGAAGCTAACGCGTGAAGTTGACCGCCTGGGGAGTACGGCCGCAAGGTTG\r\n",
        ">O.PTH.1_146\r\n",
        "TACAGAGGTGGCAAGCGTTGTTCGGAATTACTGGGCGTAAAGGGCGCGTAGGCGGCCTTCTAAGTCAGACGTGAAATCCCCAGGCTTAACTTGGGAACTGCGTCTGATACTGGAGGGCTCGAGGGAGGGAGAGGGATGTGGAATTCCAGGGGTAGCGGTGAAATGCGTAGATAGCTGGAGGAACCCCGGTGGCGAAGGCGGCATCCTGGACCGACACTGACGCGGATGCGCGAAAGCTAGGGGAGCAAACGGGATTAGATACCCCGGTAGTCCTAGCCCTAAACGATGAGTGCTTGGTGTGGCGGGTATCGATCCCTGCCGTGCCGAAGCTAACGCATTAAGCACTCCGCCTGGGGAGTACGGTCGCAAGGCTG\r\n",
        ">N.NTR.4_154\r\n",
        "TACAGAGGTGGCAAGCGTTGTTCGGAATTACTGGGCGTAAAGGGCGCGTAGGCGGTTCGATAAGTCCCGTGTGAAAGCCCCCGGCTCAACTGGGGAACTGCACGGGAAACTGACGGACTTGAGTTCGGGAGAGGGAAGCGGAATTCCGGGTGTAGCGGTGAAATGCGTAGATATCCGGAGGAACACCGGTGGCGAAGGCGGCTTCCTGGACCGACACTGACGCTGAGGCGCGAAAGCTAGGGGAGCAAACGGGATGAGATACCCCGGTAGTCCTAGCTGTAAACGATGAGCGCTGGGTGTAGGGGGTGTTAACCCCTCCTGTGCCGAAGCTAACGCATTAAGCGCTCCGCCTGGGGAGTACGGTCGCAAGGCTG\r\n"
       ]
      }
     ],
     "prompt_number": 36
    },
    {
     "cell_type": "heading",
     "level": 4,
     "metadata": {},
     "source": [
      "Total Number of QC'd sequences"
     ]
    },
    {
     "cell_type": "code",
     "collapsed": false,
     "input": [
      "!grep -c \">\" data/finalQC_SON.fasta"
     ],
     "language": "python",
     "metadata": {},
     "outputs": [
      {
       "output_type": "stream",
       "stream": "stdout",
       "text": [
        "1050824\r\n"
       ]
      }
     ],
     "prompt_number": 37
    }
   ],
   "metadata": {}
  }
 ]
}