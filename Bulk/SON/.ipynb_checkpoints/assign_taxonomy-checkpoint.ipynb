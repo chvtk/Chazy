{
 "metadata": {
  "name": "",
  "signature": "sha256:283ca321ac6e53a27c765b60d623e3649f17c24ab15e9be19c9375a9d36f8285"
 },
 "nbformat": 3,
 "nbformat_minor": 0,
 "worksheets": [
  {
   "cells": [
    {
     "cell_type": "markdown",
     "metadata": {},
     "source": [
      "###Just assign to centroids for now. Could do consensus OTU taxonomy with Mothur..."
     ]
    },
    {
     "cell_type": "code",
     "collapsed": false,
     "input": [
      "!parallel_assign_taxonomy_uclust.py \\\n",
      "-r /home/chantal/RNASIP/data/databases/Silva_111_post/no_ambiguous_bases_files/97_Silva_111_rep_set_no_ambig.fasta \\\n",
      "-t /home/chantal/RNASIP/data/databases/Silva_111_post/taxonomy/Silva_111_taxa_map_full.txt \\\n",
      "-O 10 \\\n",
      "-i data/otusn_JSON.fasta \\\n",
      "-o data/otusn_JSON_tax"
     ],
     "language": "python",
     "metadata": {},
     "outputs": [],
     "prompt_number": 1
    },
    {
     "cell_type": "code",
     "collapsed": false,
     "input": [
      "!head -n 1 data/otusn_JSON_tax/otusn_JSON_tax_assignments.txt"
     ],
     "language": "python",
     "metadata": {},
     "outputs": [
      {
       "output_type": "stream",
       "stream": "stdout",
       "text": [
        "OTU.759\tBacteria; __Cyanobacteria; __SubsectionIII; __FamilyI\t1.00\t3\r\n"
       ]
      }
     ],
     "prompt_number": 2
    },
    {
     "cell_type": "heading",
     "level": 3,
     "metadata": {},
     "source": [
      "Removing Chloroplast, Eukaryal, and Archaeal sequences"
     ]
    },
    {
     "cell_type": "code",
     "collapsed": false,
     "input": [
      "!egrep \"Chloroplast|Eukaryota|Archaea|Unassigned|mitochondria\" \\\n",
      "data/otusn_JSON_tax/otusn_JSON_tax_assignments.txt \\\n",
      "| awk '{print $1}' > data/to_remove_tax.accnos"
     ],
     "language": "python",
     "metadata": {},
     "outputs": [],
     "prompt_number": 3
    },
    {
     "cell_type": "code",
     "collapsed": false,
     "input": [
      "!wc -l data/to_remove_tax.accnos"
     ],
     "language": "python",
     "metadata": {},
     "outputs": [
      {
       "output_type": "stream",
       "stream": "stdout",
       "text": [
        "4631 data/to_remove_tax.accnos\r\n"
       ]
      }
     ],
     "prompt_number": 4
    },
    {
     "cell_type": "code",
     "collapsed": false,
     "input": [
      "!head data/to_remove_tax.accnos"
     ],
     "language": "python",
     "metadata": {},
     "outputs": [
      {
       "output_type": "stream",
       "stream": "stdout",
       "text": [
        "OTU.1370\r\n",
        "OTU.643\r\n",
        "OTU.390\r\n",
        "OTU.744\r\n",
        "OTU.1304\r\n",
        "OTU.609\r\n",
        "OTU.773\r\n",
        "OTU.1316\r\n",
        "OTU.982\r\n",
        "OTU.1322\r\n"
       ]
      }
     ],
     "prompt_number": 5
    },
    {
     "cell_type": "code",
     "collapsed": false,
     "input": [
      "%%bash\n",
      "mothur \"#remove.seqs(fasta=data/otusn_JSON.fasta, \\\n",
      "accnos=data/to_remove_tax.accnos)\" #> /dev/null"
     ],
     "language": "python",
     "metadata": {},
     "outputs": [
      {
       "output_type": "stream",
       "stream": "stdout",
       "text": [
        "\u001b[H\u001b[2J\n",
        "\n",
        "\n",
        "\n",
        "\n",
        "\n",
        "mothur v.1.32.1\n",
        "Last updated: 10/16/2013\n",
        "\n",
        "by\n",
        "Patrick D. Schloss\n",
        "\n",
        "Department of Microbiology & Immunology\n",
        "University of Michigan\n",
        "pschloss@umich.edu\n",
        "http://www.mothur.org\n",
        "\n",
        "When using, please cite:\n",
        "Schloss, P.D., et al., Introducing mothur: Open-source, platform-independent, community-supported software for describing and comparing microbial communities. Appl Environ Microbiol, 2009. 75(23):7537-41.\n",
        "\n",
        "Distributed under the GNU General Public License\n",
        "\n",
        "Type 'help()' for information on the commands that are available\n",
        "\n",
        "Type 'quit()' to exit program\n",
        "\n",
        "\n",
        "\n",
        "mothur > remove.seqs(fasta=data/otusn_JSON.fasta, accnos=data/to_remove_tax.accnos)\n",
        "Removed 4631 sequences from your fasta file.\n",
        "\n",
        "Output File Names: \n",
        "data/otusn_JSON.pick.fasta\n",
        "\n",
        "\n",
        "mothur > quit()\n"
       ]
      }
     ],
     "prompt_number": 6
    },
    {
     "cell_type": "heading",
     "level": 3,
     "metadata": {},
     "source": [
      "Assigning taxonomy and adding metadata "
     ]
    },
    {
     "cell_type": "code",
     "collapsed": false,
     "input": [
      "!parallel_assign_taxonomy_uclust.py \\\n",
      "-r /home/chantal/RNASIP/data/databases/Silva_111_post/no_ambiguous_bases_files/97_Silva_111_rep_set_no_ambig.fasta \\\n",
      "-t /home/chantal/RNASIP/data/databases/Silva_111_post/taxonomy/Silva_111_taxa_map_full.txt \\\n",
      "-O 10 \\\n",
      "-i data/otusn_JSON.pick.fasta \\\n",
      "-o data/otusn_JSON_tax"
     ],
     "language": "python",
     "metadata": {},
     "outputs": [],
     "prompt_number": 9
    },
    {
     "cell_type": "code",
     "collapsed": false,
     "input": [
      "!biom add-metadata -i data/otu_table_JSON.biom \\\n",
      "-o data/otu_table_JSON_wtax.biom \\\n",
      "--observation-metadata-fp data/otusn_JSON_tax/otusn_JSON_tax_assignments.txt \\\n",
      "--sc-separated taxonomy \\\n",
      "--float-fields consensus \\\n",
      "--int-fields numhits \\\n",
      "--observation-header OTUID,taxonomy,consensus,numhits"
     ],
     "language": "python",
     "metadata": {},
     "outputs": [],
     "prompt_number": 11
    }
   ],
   "metadata": {}
  }
 ]
}