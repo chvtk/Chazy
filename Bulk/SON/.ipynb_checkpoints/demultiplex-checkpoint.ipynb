{
 "metadata": {
  "name": "",
  "signature": "sha256:4d6ca27d202cafac60bc98b5a20edee08d959a2114f5a5507f22318aceb8c6d8"
 },
 "nbformat": 3,
 "nbformat_minor": 0,
 "worksheets": [
  {
   "cells": [
    {
     "cell_type": "code",
     "collapsed": false,
     "input": [
      "import screed\n",
      "import pandas as pd\n",
      "from collections import Counter\n",
      "import matplotlib.pyplot as plt\n",
      "import numpy as np\n",
      "from mpltools import style\n",
      "import mpld3\n",
      "#from mpld3 import plugins\n",
      "#import jinja2\n",
      "#from mpld3._objects import D3Line2D, D3Collection\n",
      "#mpld3.disable_notebook()"
     ],
     "language": "python",
     "metadata": {},
     "outputs": [],
     "prompt_number": 56
    },
    {
     "cell_type": "code",
     "collapsed": false,
     "input": [
      "style.use(\"ggplot\")"
     ],
     "language": "python",
     "metadata": {},
     "outputs": [],
     "prompt_number": 57
    },
    {
     "cell_type": "code",
     "collapsed": false,
     "input": [
      "%matplotlib inline"
     ],
     "language": "python",
     "metadata": {},
     "outputs": [],
     "prompt_number": 3
    },
    {
     "cell_type": "code",
     "collapsed": false,
     "input": [
      "ir1 = \"/var/seq_data/priming_exp/RawData/Seq5/seq5_index_read1.fastq.gz\"\n",
      "ir2 = \"/var/seq_data/priming_exp/RawData/Seq5/seq5_index_read2.fastq.gz\""
     ],
     "language": "python",
     "metadata": {},
     "outputs": [],
     "prompt_number": 11
    },
    {
     "cell_type": "code",
     "collapsed": false,
     "input": [
      "screed.read_fastq_sequences(ir1)\n",
      "screed.read_fastq_sequences(ir2)"
     ],
     "language": "python",
     "metadata": {},
     "outputs": [
      {
       "ename": "OperationalError",
       "evalue": "unable to open database file",
       "output_type": "pyerr",
       "traceback": [
        "\u001b[1;31m---------------------------------------------------------------------------\u001b[0m\n\u001b[1;31mOperationalError\u001b[0m                          Traceback (most recent call last)",
        "\u001b[1;32m<ipython-input-12-f65879388f1b>\u001b[0m in \u001b[0;36m<module>\u001b[1;34m()\u001b[0m\n\u001b[1;32m----> 1\u001b[1;33m \u001b[0mscreed\u001b[0m\u001b[1;33m.\u001b[0m\u001b[0mread_fastq_sequences\u001b[0m\u001b[1;33m(\u001b[0m\u001b[0mir1\u001b[0m\u001b[1;33m)\u001b[0m\u001b[1;33m\u001b[0m\u001b[0m\n\u001b[0m\u001b[0;32m      2\u001b[0m \u001b[0mscreed\u001b[0m\u001b[1;33m.\u001b[0m\u001b[0mread_fastq_sequences\u001b[0m\u001b[1;33m(\u001b[0m\u001b[0mir2\u001b[0m\u001b[1;33m)\u001b[0m\u001b[1;33m\u001b[0m\u001b[0m\n",
        "\u001b[1;32m/opt/anaconda/src/screed/screed/seqparse.pyc\u001b[0m in \u001b[0;36mread_fastq_sequences\u001b[1;34m(filename)\u001b[0m\n\u001b[0;32m     25\u001b[0m \u001b[1;33m\u001b[0m\u001b[0m\n\u001b[0;32m     26\u001b[0m     \u001b[1;31m# Create the screed db\u001b[0m\u001b[1;33m\u001b[0m\u001b[1;33m\u001b[0m\u001b[0m\n\u001b[1;32m---> 27\u001b[1;33m     \u001b[0mcreate_db\u001b[0m\u001b[1;33m(\u001b[0m\u001b[0mfilename\u001b[0m\u001b[1;33m,\u001b[0m \u001b[0mfastq\u001b[0m\u001b[1;33m.\u001b[0m\u001b[0mFieldTypes\u001b[0m\u001b[1;33m,\u001b[0m \u001b[0miterfunc\u001b[0m\u001b[1;33m)\u001b[0m\u001b[1;33m\u001b[0m\u001b[0m\n\u001b[0m\u001b[0;32m     28\u001b[0m \u001b[1;33m\u001b[0m\u001b[0m\n\u001b[0;32m     29\u001b[0m     \u001b[1;32mreturn\u001b[0m \u001b[0mScreedDB\u001b[0m\u001b[1;33m(\u001b[0m\u001b[0mfilename\u001b[0m\u001b[1;33m)\u001b[0m\u001b[1;33m\u001b[0m\u001b[0m\n",
        "\u001b[1;32m/opt/anaconda/src/screed/screed/createscreed.pyc\u001b[0m in \u001b[0;36mcreate_db\u001b[1;34m(filepath, fields, rcrditer)\u001b[0m\n\u001b[0;32m     17\u001b[0m         \u001b[0mos\u001b[0m\u001b[1;33m.\u001b[0m\u001b[0munlink\u001b[0m\u001b[1;33m(\u001b[0m\u001b[0mfilepath\u001b[0m\u001b[1;33m)\u001b[0m\u001b[1;33m\u001b[0m\u001b[0m\n\u001b[0;32m     18\u001b[0m \u001b[1;33m\u001b[0m\u001b[0m\n\u001b[1;32m---> 19\u001b[1;33m     \u001b[0mcon\u001b[0m \u001b[1;33m=\u001b[0m \u001b[0msqlite3\u001b[0m\u001b[1;33m.\u001b[0m\u001b[0mconnect\u001b[0m\u001b[1;33m(\u001b[0m\u001b[0mfilepath\u001b[0m\u001b[1;33m)\u001b[0m\u001b[1;33m\u001b[0m\u001b[0m\n\u001b[0m\u001b[0;32m     20\u001b[0m     \u001b[0mcur\u001b[0m \u001b[1;33m=\u001b[0m \u001b[0mcon\u001b[0m\u001b[1;33m.\u001b[0m\u001b[0mcursor\u001b[0m\u001b[1;33m(\u001b[0m\u001b[1;33m)\u001b[0m\u001b[1;33m\u001b[0m\u001b[0m\n\u001b[0;32m     21\u001b[0m \u001b[1;33m\u001b[0m\u001b[0m\n",
        "\u001b[1;31mOperationalError\u001b[0m: unable to open database file"
       ]
      }
     ],
     "prompt_number": 12
    },
    {
     "cell_type": "code",
     "collapsed": false,
     "input": [
      "ir1db = screed.ScreedDB(ir1)\n",
      "ir2db = screed.ScreedDB(ir2)"
     ],
     "language": "python",
     "metadata": {},
     "outputs": [],
     "prompt_number": 14
    },
    {
     "cell_type": "code",
     "collapsed": false,
     "input": [
      "df_map = pd.read_csv(\"data/Mapping_file_bulk_Julysamples.txt\", delimiter=\"\\t\", usecols=[0,1,2], names=[\"SampleID\",\"i1\",\"i2\"])\n",
      "df_map"
     ],
     "language": "python",
     "metadata": {},
     "outputs": [
      {
       "html": [
        "<div style=\"max-height:1000px;max-width:1500px;overflow:auto;\">\n",
        "<table border=\"1\" class=\"dataframe\">\n",
        "  <thead>\n",
        "    <tr style=\"text-align: right;\">\n",
        "      <th></th>\n",
        "      <th>SampleID</th>\n",
        "      <th>i1</th>\n",
        "      <th>i2</th>\n",
        "    </tr>\n",
        "  </thead>\n",
        "  <tbody>\n",
        "    <tr>\n",
        "      <th>0 </th>\n",
        "      <td> Sample</td>\n",
        "      <td>     i1_r</td>\n",
        "      <td>     i2_f</td>\n",
        "    </tr>\n",
        "    <tr>\n",
        "      <th>1 </th>\n",
        "      <td>   NTR1</td>\n",
        "      <td> cgagcgac</td>\n",
        "      <td> ctactata</td>\n",
        "    </tr>\n",
        "    <tr>\n",
        "      <th>2 </th>\n",
        "      <td>   NTR2</td>\n",
        "      <td> cgagcgac</td>\n",
        "      <td> cgttacta</td>\n",
        "    </tr>\n",
        "    <tr>\n",
        "      <th>3 </th>\n",
        "      <td>   NTR3</td>\n",
        "      <td> cgagcgac</td>\n",
        "      <td> agagtcac</td>\n",
        "    </tr>\n",
        "    <tr>\n",
        "      <th>4 </th>\n",
        "      <td>   NTR4</td>\n",
        "      <td> cgagcgac</td>\n",
        "      <td> tacgagac</td>\n",
        "    </tr>\n",
        "    <tr>\n",
        "      <th>5 </th>\n",
        "      <td>   PTR1</td>\n",
        "      <td> cgagcgac</td>\n",
        "      <td> acgtctcg</td>\n",
        "    </tr>\n",
        "    <tr>\n",
        "      <th>6 </th>\n",
        "      <td>   PTR2</td>\n",
        "      <td> cgagcgac</td>\n",
        "      <td> tcgacgag</td>\n",
        "    </tr>\n",
        "    <tr>\n",
        "      <th>7 </th>\n",
        "      <td>   PTR3</td>\n",
        "      <td> cgagcgac</td>\n",
        "      <td> gatcgtgt</td>\n",
        "    </tr>\n",
        "    <tr>\n",
        "      <th>8 </th>\n",
        "      <td>   PTR4</td>\n",
        "      <td> cgagcgac</td>\n",
        "      <td> gtcagata</td>\n",
        "    </tr>\n",
        "    <tr>\n",
        "      <th>9 </th>\n",
        "      <td>   NTH1</td>\n",
        "      <td> actacgac</td>\n",
        "      <td> ctactata</td>\n",
        "    </tr>\n",
        "    <tr>\n",
        "      <th>10</th>\n",
        "      <td>   NTH2</td>\n",
        "      <td> actacgac</td>\n",
        "      <td> cgttacta</td>\n",
        "    </tr>\n",
        "    <tr>\n",
        "      <th>11</th>\n",
        "      <td>   NTH3</td>\n",
        "      <td> actacgac</td>\n",
        "      <td> agagtcac</td>\n",
        "    </tr>\n",
        "    <tr>\n",
        "      <th>12</th>\n",
        "      <td>   NTH4</td>\n",
        "      <td> actacgac</td>\n",
        "      <td> tacgagac</td>\n",
        "    </tr>\n",
        "    <tr>\n",
        "      <th>13</th>\n",
        "      <td>   PTH1</td>\n",
        "      <td> actacgac</td>\n",
        "      <td> acgtctcg</td>\n",
        "    </tr>\n",
        "    <tr>\n",
        "      <th>14</th>\n",
        "      <td>   PTH2</td>\n",
        "      <td> actacgac</td>\n",
        "      <td> tcgacgag</td>\n",
        "    </tr>\n",
        "    <tr>\n",
        "      <th>15</th>\n",
        "      <td>   PTH3</td>\n",
        "      <td> actacgac</td>\n",
        "      <td> gatcgtgt</td>\n",
        "    </tr>\n",
        "    <tr>\n",
        "      <th>16</th>\n",
        "      <td>   PTH4</td>\n",
        "      <td> actacgac</td>\n",
        "      <td> gtcagata</td>\n",
        "    </tr>\n",
        "    <tr>\n",
        "      <th>17</th>\n",
        "      <td>   PAS1</td>\n",
        "      <td> gtctgcta</td>\n",
        "      <td> ctactata</td>\n",
        "    </tr>\n",
        "    <tr>\n",
        "      <th>18</th>\n",
        "      <td>   PAS2</td>\n",
        "      <td> gtctgcta</td>\n",
        "      <td> cgttacta</td>\n",
        "    </tr>\n",
        "    <tr>\n",
        "      <th>19</th>\n",
        "      <td>   PAS3</td>\n",
        "      <td> gtctgcta</td>\n",
        "      <td> agagtcac</td>\n",
        "    </tr>\n",
        "    <tr>\n",
        "      <th>20</th>\n",
        "      <td>   PAS4</td>\n",
        "      <td> gtctgcta</td>\n",
        "      <td> tacgagac</td>\n",
        "    </tr>\n",
        "    <tr>\n",
        "      <th>21</th>\n",
        "      <td>   TEN1</td>\n",
        "      <td> gtctgcta</td>\n",
        "      <td> acgtctcg</td>\n",
        "    </tr>\n",
        "    <tr>\n",
        "      <th>22</th>\n",
        "      <td>   TEN2</td>\n",
        "      <td> gtctgcta</td>\n",
        "      <td> tcgacgag</td>\n",
        "    </tr>\n",
        "    <tr>\n",
        "      <th>23</th>\n",
        "      <td>   TEN3</td>\n",
        "      <td> gtctgcta</td>\n",
        "      <td> gatcgtgt</td>\n",
        "    </tr>\n",
        "    <tr>\n",
        "      <th>24</th>\n",
        "      <td>   TEN4</td>\n",
        "      <td> gtctgcta</td>\n",
        "      <td> gtcagata</td>\n",
        "    </tr>\n",
        "    <tr>\n",
        "      <th>25</th>\n",
        "      <td>   TWE1</td>\n",
        "      <td> gtctatga</td>\n",
        "      <td> ctactata</td>\n",
        "    </tr>\n",
        "    <tr>\n",
        "      <th>26</th>\n",
        "      <td>   TWE2</td>\n",
        "      <td> gtctatga</td>\n",
        "      <td> cgttacta</td>\n",
        "    </tr>\n",
        "    <tr>\n",
        "      <th>27</th>\n",
        "      <td>   TWE3</td>\n",
        "      <td> gtctatga</td>\n",
        "      <td> agagtcac</td>\n",
        "    </tr>\n",
        "    <tr>\n",
        "      <th>28</th>\n",
        "      <td>   TWE4</td>\n",
        "      <td> gtctatga</td>\n",
        "      <td> tacgagac</td>\n",
        "    </tr>\n",
        "    <tr>\n",
        "      <th>29</th>\n",
        "      <td>   CON1</td>\n",
        "      <td> gtctatga</td>\n",
        "      <td> acgtctcg</td>\n",
        "    </tr>\n",
        "    <tr>\n",
        "      <th>30</th>\n",
        "      <td>   CON2</td>\n",
        "      <td> gtctatga</td>\n",
        "      <td> tcgacgag</td>\n",
        "    </tr>\n",
        "    <tr>\n",
        "      <th>31</th>\n",
        "      <td>   CON3</td>\n",
        "      <td> gtctatga</td>\n",
        "      <td> gatcgtgt</td>\n",
        "    </tr>\n",
        "    <tr>\n",
        "      <th>32</th>\n",
        "      <td>   CON4</td>\n",
        "      <td> gtctatga</td>\n",
        "      <td> gtcagata</td>\n",
        "    </tr>\n",
        "  </tbody>\n",
        "</table>\n",
        "</div>"
       ],
       "metadata": {},
       "output_type": "pyout",
       "prompt_number": 94,
       "text": [
        "   SampleID        i1        i2\n",
        "0    Sample      i1_r      i2_f\n",
        "1      NTR1  cgagcgac  ctactata\n",
        "2      NTR2  cgagcgac  cgttacta\n",
        "3      NTR3  cgagcgac  agagtcac\n",
        "4      NTR4  cgagcgac  tacgagac\n",
        "5      PTR1  cgagcgac  acgtctcg\n",
        "6      PTR2  cgagcgac  tcgacgag\n",
        "7      PTR3  cgagcgac  gatcgtgt\n",
        "8      PTR4  cgagcgac  gtcagata\n",
        "9      NTH1  actacgac  ctactata\n",
        "10     NTH2  actacgac  cgttacta\n",
        "11     NTH3  actacgac  agagtcac\n",
        "12     NTH4  actacgac  tacgagac\n",
        "13     PTH1  actacgac  acgtctcg\n",
        "14     PTH2  actacgac  tcgacgag\n",
        "15     PTH3  actacgac  gatcgtgt\n",
        "16     PTH4  actacgac  gtcagata\n",
        "17     PAS1  gtctgcta  ctactata\n",
        "18     PAS2  gtctgcta  cgttacta\n",
        "19     PAS3  gtctgcta  agagtcac\n",
        "20     PAS4  gtctgcta  tacgagac\n",
        "21     TEN1  gtctgcta  acgtctcg\n",
        "22     TEN2  gtctgcta  tcgacgag\n",
        "23     TEN3  gtctgcta  gatcgtgt\n",
        "24     TEN4  gtctgcta  gtcagata\n",
        "25     TWE1  gtctatga  ctactata\n",
        "26     TWE2  gtctatga  cgttacta\n",
        "27     TWE3  gtctatga  agagtcac\n",
        "28     TWE4  gtctatga  tacgagac\n",
        "29     CON1  gtctatga  acgtctcg\n",
        "30     CON2  gtctatga  tcgacgag\n",
        "31     CON3  gtctatga  gatcgtgt\n",
        "32     CON4  gtctatga  gtcagata"
       ]
      }
     ],
     "prompt_number": 94
    },
    {
     "cell_type": "code",
     "collapsed": false,
     "input": [
      "map_d = dict(map(lambda x: (x[0] + x[1], x[2]), zip(df_map.i1, df_map.i2, df_map.SampleID)))\n",
      "print map_d.keys()[10], map_d[map_d.keys()[10]]"
     ],
     "language": "python",
     "metadata": {},
     "outputs": [
      {
       "output_type": "stream",
       "stream": "stdout",
       "text": [
        "cgagcgactcgacgag PTR2\n"
       ]
      }
     ],
     "prompt_number": 95
    },
    {
     "cell_type": "code",
     "collapsed": false,
     "input": [
      "print map_d"
     ],
     "language": "python",
     "metadata": {},
     "outputs": [
      {
       "output_type": "stream",
       "stream": "stdout",
       "text": [
        "{'gtctgctactactata': 'PAS1', 'cgagcgacgtcagata': 'PTR4', 'i1_ri2_f': 'Sample', 'actacgacgatcgtgt': 'PTH3', 'actacgacacgtctcg': 'PTH1', 'actacgactcgacgag': 'PTH2', 'gtctgctacgttacta': 'PAS2', 'actacgacctactata': 'NTH1', 'actacgactacgagac': 'NTH4', 'gtctgctagtcagata': 'TEN4', 'cgagcgactcgacgag': 'PTR2', 'cgagcgaccgttacta': 'NTR2', 'cgagcgacacgtctcg': 'PTR1', 'cgagcgacgatcgtgt': 'PTR3', 'gtctatgacgttacta': 'TWE2', 'gtctatgagtcagata': 'CON4', 'gtctatgatacgagac': 'TWE4', 'gtctgctatacgagac': 'PAS4', 'gtctatgaacgtctcg': 'CON1', 'gtctgctagatcgtgt': 'TEN3', 'gtctatgactactata': 'TWE1', 'gtctgctatcgacgag': 'TEN2', 'cgagcgactacgagac': 'NTR4', 'gtctgctaagagtcac': 'PAS3', 'cgagcgacagagtcac': 'NTR3', 'actacgacagagtcac': 'NTH3', 'cgagcgacctactata': 'NTR1', 'gtctatgaagagtcac': 'TWE3', 'gtctatgagatcgtgt': 'CON3', 'gtctatgatcgacgag': 'CON2', 'actacgaccgttacta': 'NTH2', 'gtctgctaacgtctcg': 'TEN1', 'actacgacgtcagata': 'PTH4'}\n"
       ]
      }
     ],
     "prompt_number": 96
    },
    {
     "cell_type": "code",
     "collapsed": false,
     "input": [
      "screed.read_fastq_sequences(\"/var/seq_data/priming_exp/data/seq5_pear_merged-2014-08-29.assembled.fastq\")"
     ],
     "language": "python",
     "metadata": {},
     "outputs": [
      {
       "metadata": {},
       "output_type": "pyout",
       "prompt_number": 11,
       "text": [
        "<ScreedDB, '/var/seq_data/FungalSIP/pear_merged_raw-2014-04-24.assembled.fastq_screed'>"
       ]
      }
     ],
     "prompt_number": 11
    },
    {
     "cell_type": "code",
     "collapsed": false,
     "input": [
      "db = screed.ScreedDB(\"/var/seq_data/priming_exp/data/seq5_pear_merged-2014-08-29.assembled.fastq_screed\")"
     ],
     "language": "python",
     "metadata": {},
     "outputs": [],
     "prompt_number": 45
    },
    {
     "cell_type": "code",
     "collapsed": false,
     "input": [
      "counter = 0\n",
      "unassigned = 0\n",
      "cnt = Counter()\n",
      "fn = \"/var/seq_data/Chazy/pear_merged_raw-2014-08-29.assembled.dmult.fastq\"\n",
      "with open(fn, \"w\") as out:\n",
      "    for rec in db.itervalues():\n",
      "        index_concat = ir1db[rec[\"name\"]][\"sequence\"] + ir2db[rec[\"name\"]][\"sequence\"]\n",
      "        try:\n",
      "            new_name = map_d[index_concat.lower()] + \"_\" + str(counter) #case sensitive\n",
      "        except KeyError:\n",
      "            unassigned += 1\n",
      "            continue\n",
      "        counter += 1\n",
      "        cnt[map_d[index_concat.lower()]] += 1 #case sensitive\n",
      "        s, q = rec[\"sequence\"], rec[\"accuracy\"]\n",
      "        out.write(\"@%s orig_name=%s\\n%s\\n+\\n%s\\n\"%(new_name,rec[\"name\"],s,q))\n",
      "print \"Unable to assign %s reads to samples\"%unassigned"
     ],
     "language": "python",
     "metadata": {},
     "outputs": [
      {
       "output_type": "stream",
       "stream": "stdout",
       "text": [
        "Unable to assign 5890101 reads to samples\n"
       ]
      }
     ],
     "prompt_number": 97
    },
    {
     "cell_type": "code",
     "collapsed": false,
     "input": [
      "X = np.arange(len(cnt.keys()))\n",
      "Y = [v for k, v in cnt.most_common()]\n",
      "fig = plt.figure()\n",
      "fig.set_size_inches((18,8))\n",
      "ax = fig.add_subplot(111)\n",
      "bars = ax.bar(X, Y, width=0.50)\n",
      "xlims = ax.set_xlim((X.min(), X.max()))\n",
      "xt = ax.set_xticks(X)\n",
      "xtl = ax.set_xticklabels([k for k, v in cnt.most_common()], rotation=90, ha=\"center\", size=6)"
     ],
     "language": "python",
     "metadata": {},
     "outputs": [
      {
       "metadata": {},
       "output_type": "display_data",
       "png": "[encoded data removed]",
       "text": [
        "<matplotlib.figure.Figure at 0x590f7d0>"
       ]
      }
     ],
     "prompt_number": 98
    },
    {
     "cell_type": "code",
     "collapsed": false,
     "input": [
      "%%bash\n",
      "grep -c \"PAS\" /var/seq_data/Chazy/pear_merged_raw-2014-08-29.assembled.dmult.fastq"
     ],
     "language": "python",
     "metadata": {},
     "outputs": [
      {
       "output_type": "stream",
       "stream": "stdout",
       "text": [
        "1145157\n"
       ]
      }
     ],
     "prompt_number": 102
    }
   ],
   "metadata": {}
  }
 ]
}