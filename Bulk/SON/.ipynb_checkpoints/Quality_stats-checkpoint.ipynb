{
 "metadata": {
  "name": "",
  "signature": "sha256:6692b247969435be6344bef1aec3e38cf01c9fd7f1c4345c581d8b35cf0d98d3"
 },
 "nbformat": 3,
 "nbformat_minor": 0,
 "worksheets": []
}