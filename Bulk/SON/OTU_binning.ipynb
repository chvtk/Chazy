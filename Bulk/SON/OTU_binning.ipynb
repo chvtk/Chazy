{
 "metadata": {
  "name": "",
  "signature": "sha256:73e4181014064728a5444d00d96bc27d745af6d871d3344e5b6f236288740276"
 },
 "nbformat": 3,
 "nbformat_minor": 0,
 "worksheets": [
  {
   "cells": [
    {
     "cell_type": "code",
     "collapsed": false,
     "input": [
      "# Imports a parser from cogent\n",
      "from cogent.parse.fasta import MinimalFastaParser as parse"
     ],
     "language": "python",
     "metadata": {},
     "outputs": [],
     "prompt_number": 1
    },
    {
     "cell_type": "code",
     "collapsed": false,
     "input": [
      "# applies for the whole segment\n",
      "nprocs = 10"
     ],
     "language": "python",
     "metadata": {},
     "outputs": [
      {
       "output_type": "stream",
       "stream": "stdout",
       "text": [
        "The history saving thread hit an unexpected error (OperationalError('database is locked',)).History will not be written to the database.\n"
       ]
      }
     ],
     "prompt_number": 2
    },
    {
     "cell_type": "code",
     "collapsed": false,
     "input": [
      "# Checking out data file.\n",
      "# This file was created using the QC_basic notebook.\n",
      "!head data/finalQC_SON.fasta"
     ],
     "language": "python",
     "metadata": {},
     "outputs": [
      {
       "output_type": "stream",
       "stream": "stdout",
       "text": [
        ">S.PTH.1_79\r\n",
        "TACGTAGGGGGCGAGCGTTGTCCGGAATTATTGGGCGTAAAGAGCTCGTAGGCGGTTCAGTAAGTCGGCTGTGAAAGTCCGAGGCTCAACCTCGGAACTGCAGTCGAGACTATTGTGACTAGAGTCCGGTAGAGGAGAATGGAATTCCCGGTGTAGCGGTGAAATGCGCAGATATCGGGAGGAACACCAGTAGCGAAGGCGGCTTCCTGGACCACGACTGACGCTGAGGAGCGAAAGCCAGGGGAGCAAACGGGATTAGATACCCCGGTAGTCCTGGCCCTAAACGATGAATGCTTGGTGTGGCGGGTATCGATCCCTGCCGTGCCGAAGCTAACGCATTAAGCATTCCGCCTGGGGAGTACGGTCGCAAGGCTG\r\n",
        ">S.NTR.2_83\r\n",
        "TACGTAGGGGGCAAGCGTTGTCCGGAATTATTGGGCGTAAAGGGCGCGTAGGCGATTCGATAAGTCTCATGTGAAATCCCAGGGCCTAACCCTGGAATGGCATGGGATACTGTTGGAGTTGAGTTCCGGAGAGGAAGGCAGAATTCCCGGTGTAGCGGTGAAATGGGTAGATATCGGGAGGAATACCAGTGGCGAAGGCGGCCTTCTGGACGGATACTGACGCTGAGGCGCGAAAGCCGGGGGAGCAAACGGGATTAGATACCCCGGTAGTCCTGGCCGTAAACGATGTGCACTTGGTGTGAGCCGGTTTTCGGTTCGTGCCGAAGCTAACGCAATAAGTGCACCGCCTGGGGAGTACGGTCGCAAGGCTG\r\n",
        ">N.NTH.3_111\r\n",
        "TACGTAGGGTGCGAGCGTTAATCGGAATTACTGGGCGTAAAGCGTGCGCAGGCGGTTTCGTAAGCTGGAGGTGAAATCCCCGGGCTTAACCTGGGAACTGCATTTGTGACTGCACGGCTCGAGTGCGGCAGAGGGGGATGGAATTCCGCGTGTAGCAGTGAAATGCGTAGATATGCGGAGGAACACCGATGGCGAAGGCAATCCCCTGGGCCTGCACTGACGCTCATGCACGAAAGCGTGGGGAGCAAACAGGATTAGATACCCTGGTAGTCCACGCCCTAAACGATGTCAACTGGTTGTTGGGTGCATTAGTACTCAGTAACGAAGCTAACGCGTGAAGTTGACCGCCTGGGGAGTACGGCCGCAAGGTTG\r\n",
        ">O.PTH.1_146\r\n",
        "TACAGAGGTGGCAAGCGTTGTTCGGAATTACTGGGCGTAAAGGGCGCGTAGGCGGCCTTCTAAGTCAGACGTGAAATCCCCAGGCTTAACTTGGGAACTGCGTCTGATACTGGAGGGCTCGAGGGAGGGAGAGGGATGTGGAATTCCAGGGGTAGCGGTGAAATGCGTAGATAGCTGGAGGAACCCCGGTGGCGAAGGCGGCATCCTGGACCGACACTGACGCGGATGCGCGAAAGCTAGGGGAGCAAACGGGATTAGATACCCCGGTAGTCCTAGCCCTAAACGATGAGTGCTTGGTGTGGCGGGTATCGATCCCTGCCGTGCCGAAGCTAACGCATTAAGCACTCCGCCTGGGGAGTACGGTCGCAAGGCTG\r\n",
        ">N.NTR.4_154\r\n",
        "TACAGAGGTGGCAAGCGTTGTTCGGAATTACTGGGCGTAAAGGGCGCGTAGGCGGTTCGATAAGTCCCGTGTGAAAGCCCCCGGCTCAACTGGGGAACTGCACGGGAAACTGACGGACTTGAGTTCGGGAGAGGGAAGCGGAATTCCGGGTGTAGCGGTGAAATGCGTAGATATCCGGAGGAACACCGGTGGCGAAGGCGGCTTCCTGGACCGACACTGACGCTGAGGCGCGAAAGCTAGGGGAGCAAACGGGATGAGATACCCCGGTAGTCCTAGCTGTAAACGATGAGCGCTGGGTGTAGGGGGTGTTAACCCCTCCTGTGCCGAAGCTAACGCATTAAGCGCTCCGCCTGGGGAGTACGGTCGCAAGGCTG\r\n"
       ]
      }
     ],
     "prompt_number": 5
    },
    {
     "cell_type": "code",
     "collapsed": false,
     "input": [
      "%%bash\n",
      "# Running the seq separation on mothur instead\n",
      "\n",
      "mothur \"#unique.seqs(fasta=data/finalQC_SON.fasta)\" > /dev/null"
     ],
     "language": "python",
     "metadata": {},
     "outputs": [],
     "prompt_number": 6
    },
    {
     "cell_type": "code",
     "collapsed": false,
     "input": [
      "# Making a dictionary of the names files, splitting it into the first (ID) and second (commas list of all seqs in it)\n",
      "# Then it counts their lengths and saves it in the dictionary\n",
      "\n",
      "counts = {}\n",
      "\n",
      "with open(\"data/finalQC_SON.names\") as f:\n",
      "    for line in f:\n",
      "        seedID, seqIDs = line.split(\"\\t\")\n",
      "        count = len(seqIDs.split(\",\"))\n",
      "        counts[seedID] = count        "
     ],
     "language": "python",
     "metadata": {},
     "outputs": [],
     "prompt_number": 7
    },
    {
     "cell_type": "code",
     "collapsed": false,
     "input": [
      "# Adds the counts from this dictionary to our finalQC.unique file so it looks like a usearch file with \"size=XXX\"\n",
      "\n",
      "with open(\"data/finalQC_SON.unique.usearch_names.fasta\", \"w\") as f:\n",
      "    for n, s in parse(open(\"data/finalQC_SON.unique.fasta\")):\n",
      "        f.write(\">%s;size=%s;\\n%s\\n\"%(n,counts[n],s))  "
     ],
     "language": "python",
     "metadata": {},
     "outputs": [],
     "prompt_number": 8
    },
    {
     "cell_type": "code",
     "collapsed": false,
     "input": [
      "!head data/finalQC_SON.unique.usearch_names.fasta"
     ],
     "language": "python",
     "metadata": {},
     "outputs": [
      {
       "output_type": "stream",
       "stream": "stdout",
       "text": [
        ">S.PTH.1_79;size=1;\r\n",
        "TACGTAGGGGGCGAGCGTTGTCCGGAATTATTGGGCGTAAAGAGCTCGTAGGCGGTTCAGTAAGTCGGCTGTGAAAGTCCGAGGCTCAACCTCGGAACTGCAGTCGAGACTATTGTGACTAGAGTCCGGTAGAGGAGAATGGAATTCCCGGTGTAGCGGTGAAATGCGCAGATATCGGGAGGAACACCAGTAGCGAAGGCGGCTTCCTGGACCACGACTGACGCTGAGGAGCGAAAGCCAGGGGAGCAAACGGGATTAGATACCCCGGTAGTCCTGGCCCTAAACGATGAATGCTTGGTGTGGCGGGTATCGATCCCTGCCGTGCCGAAGCTAACGCATTAAGCATTCCGCCTGGGGAGTACGGTCGCAAGGCTG\r\n",
        ">S.NTR.2_83;size=1;\r\n",
        "TACGTAGGGGGCAAGCGTTGTCCGGAATTATTGGGCGTAAAGGGCGCGTAGGCGATTCGATAAGTCTCATGTGAAATCCCAGGGCCTAACCCTGGAATGGCATGGGATACTGTTGGAGTTGAGTTCCGGAGAGGAAGGCAGAATTCCCGGTGTAGCGGTGAAATGGGTAGATATCGGGAGGAATACCAGTGGCGAAGGCGGCCTTCTGGACGGATACTGACGCTGAGGCGCGAAAGCCGGGGGAGCAAACGGGATTAGATACCCCGGTAGTCCTGGCCGTAAACGATGTGCACTTGGTGTGAGCCGGTTTTCGGTTCGTGCCGAAGCTAACGCAATAAGTGCACCGCCTGGGGAGTACGGTCGCAAGGCTG\r\n",
        ">N.NTH.3_111;size=1;\r\n",
        "TACGTAGGGTGCGAGCGTTAATCGGAATTACTGGGCGTAAAGCGTGCGCAGGCGGTTTCGTAAGCTGGAGGTGAAATCCCCGGGCTTAACCTGGGAACTGCATTTGTGACTGCACGGCTCGAGTGCGGCAGAGGGGGATGGAATTCCGCGTGTAGCAGTGAAATGCGTAGATATGCGGAGGAACACCGATGGCGAAGGCAATCCCCTGGGCCTGCACTGACGCTCATGCACGAAAGCGTGGGGAGCAAACAGGATTAGATACCCTGGTAGTCCACGCCCTAAACGATGTCAACTGGTTGTTGGGTGCATTAGTACTCAGTAACGAAGCTAACGCGTGAAGTTGACCGCCTGGGGAGTACGGCCGCAAGGTTG\r\n",
        ">O.PTH.1_146;size=1;\r\n",
        "TACAGAGGTGGCAAGCGTTGTTCGGAATTACTGGGCGTAAAGGGCGCGTAGGCGGCCTTCTAAGTCAGACGTGAAATCCCCAGGCTTAACTTGGGAACTGCGTCTGATACTGGAGGGCTCGAGGGAGGGAGAGGGATGTGGAATTCCAGGGGTAGCGGTGAAATGCGTAGATAGCTGGAGGAACCCCGGTGGCGAAGGCGGCATCCTGGACCGACACTGACGCGGATGCGCGAAAGCTAGGGGAGCAAACGGGATTAGATACCCCGGTAGTCCTAGCCCTAAACGATGAGTGCTTGGTGTGGCGGGTATCGATCCCTGCCGTGCCGAAGCTAACGCATTAAGCACTCCGCCTGGGGAGTACGGTCGCAAGGCTG\r\n",
        ">N.NTR.4_154;size=10;\r\n",
        "TACAGAGGTGGCAAGCGTTGTTCGGAATTACTGGGCGTAAAGGGCGCGTAGGCGGTTCGATAAGTCCCGTGTGAAAGCCCCCGGCTCAACTGGGGAACTGCACGGGAAACTGACGGACTTGAGTTCGGGAGAGGGAAGCGGAATTCCGGGTGTAGCGGTGAAATGCGTAGATATCCGGAGGAACACCGGTGGCGAAGGCGGCTTCCTGGACCGACACTGACGCTGAGGCGCGAAAGCTAGGGGAGCAAACGGGATGAGATACCCCGGTAGTCCTAGCTGTAAACGATGAGCGCTGGGTGTAGGGGGTGTTAACCCCTCCTGTGCCGAAGCTAACGCATTAAGCGCTCCGCCTGGGGAGTACGGTCGCAAGGCTG\r\n"
       ]
      }
     ],
     "prompt_number": 9
    },
    {
     "cell_type": "code",
     "collapsed": false,
     "input": [
      "# Chuck looking to see how many Gb this file is.\n",
      "!du -h data/finalQC_SON.fasta"
     ],
     "language": "python",
     "metadata": {},
     "outputs": [
      {
       "output_type": "stream",
       "stream": "stdout",
       "text": [
        "393M\tdata/finalQC_SON.fasta\r\n"
       ]
      }
     ],
     "prompt_number": 12
    },
    {
     "cell_type": "code",
     "collapsed": false,
     "input": [
      "# Sequences are sorted by size\n",
      "# Here the size of clusters - we are excluding the singletons here\n",
      "# You would change minsize to 1 if you wanted to include singletons\n",
      "# Or, you know, just not do this step.\n",
      "# But you should just get rid of them.\n",
      "!usearch -sortbysize data/finalQC_SON.unique.usearch_names.fasta -output data/finalQC_SON.unique_sorted.fasta -minsize 2"
     ],
     "language": "python",
     "metadata": {},
     "outputs": [
      {
       "output_type": "stream",
       "stream": "stdout",
       "text": [
        "usearch v7.0.1090_i86linux32, 4.0Gb RAM (132Gb total), 40 cores\r\n",
        "(C) Copyright 2013 Robert C. Edgar, all rights reserved.\r\n",
        "http://drive5.com/usearch\r\n",
        "\r\n",
        "Licensed to: chuck.peperanney@gmail.com\r\n",
        "\r\n",
        "00:00 2.1Mb Reading data/finalQC_SON.unique.usearch_names.fasta"
       ]
      },
      {
       "output_type": "stream",
       "stream": "stdout",
       "text": [
        ", 365Mb\r\n"
       ]
      },
      {
       "output_type": "stream",
       "stream": "stdout",
       "text": [
        "00:00 367Mb 913215 (913.2k) seqs"
       ]
      },
      {
       "output_type": "stream",
       "stream": "stdout",
       "text": [
        ", min 370, avg 373, max 440nt\r\n",
        "00:01 378Mb Getting sizes\r\n"
       ]
      },
      {
       "output_type": "stream",
       "stream": "stdout",
       "text": [
        "00:02 385Mb Sorting 31377 sequences\r\n",
        "00:02 385Mb    0.0% Writing data/finalQC_SON.unique_sorted.fasta\r"
       ]
      },
      {
       "output_type": "stream",
       "stream": "stdout",
       "text": [
        "00:02 385Mb  100.0% Writing data/finalQC_SON.unique_sorted.fasta\r",
        "\r\n"
       ]
      }
     ],
     "prompt_number": 13
    },
    {
     "cell_type": "code",
     "collapsed": false,
     "input": [
      "# Checking data\n",
      "# You can see here, the first two sequences we saw above are now gone.\n",
      "!head data/finalQC_SON.unique_sorted.fasta"
     ],
     "language": "python",
     "metadata": {},
     "outputs": [
      {
       "output_type": "stream",
       "stream": "stdout",
       "text": [
        ">N.PTR.1_13765;size=759;\r\n",
        "TACGAAGGTGGCAAGCGTTGTTCGGATTTACTGGGCGTACAGGGAGCGTAGGCGGTTGGATAAGCCCTCCGTGAAATCTC\r\n",
        "CAGGCTTAACCTGGAAAGTGCAGAGGGGACTGTTCAGCTAGAGGATGGGAGAGGAGCGCGGAATTCCCGGTGTAGCGGTG\r\n",
        "AAATGCGTAGAGATCGGGAGGAAGGCCGGTGGCGAAGGCGGCGCTCTGGAACATTTCTGACGCTGAGGCTCGAAAGCGTG\r\n",
        "GGGAGCAAACAGGATTAGATACCCTGGTAGTCCACGCCTTAAACGATGGATACTAAGTGTCGGCGGGTTACCGCCGGTGC\r\n",
        "CGCAGCTAACGCAGTAAGTATCCCGCCTGGGAAGTACGGCCGCAAGGTTG\r\n",
        ">O.PAS_38878;size=656;\r\n",
        "TACGGAGGGTGCAAGCGTTATCCGGATTCACTGGGTTTAAAGGGTGCGTAGGTGGGCAAGTAAGTCAGTGGTGAAATCTC\r\n",
        "CGGGCTTAACCCGGAAACTGCCATTGATACTATTTGTCTTGAATACTGTGGAGGTCAGCGGAATATGTCATGTAGCGGTG\r\n",
        "AAATGCTTAGATATGACATAGAACACCAATTGCGAAGGCAGCTGGCTACACAAATATTGACACTGAGGCACGAAAGCGTG\r\n"
       ]
      }
     ],
     "prompt_number": 14
    },
    {
     "cell_type": "code",
     "collapsed": false,
     "input": [
      "# This is the clustering command.\n",
      "# Default is 97% minimum ID.\n",
      "# Not recommended to use more than 97%.\n",
      "# Creates the centroids, or \"seeds\"\n",
      "# Then you can take them out\n",
      "!usearch -cluster_otus data/finalQC_SON.unique_sorted.fasta -otus data/otus_SON.fasta"
     ],
     "language": "python",
     "metadata": {},
     "outputs": [
      {
       "output_type": "stream",
       "stream": "stdout",
       "text": [
        "usearch v7.0.1090_i86linux32, 4.0Gb RAM (132Gb total), 40 cores\r\n",
        "(C) Copyright 2013 Robert C. Edgar, all rights reserved.\r\n",
        "http://drive5.com/usearch\r\n",
        "\r\n",
        "Licensed to: chuck.peperanney@gmail.com\r\n",
        "\r\n",
        "00:00  21Mb    0.1% 0 OTUs\r"
       ]
      },
      {
       "output_type": "stream",
       "stream": "stdout",
       "text": [
        "00:01  31Mb    0.6% 76 OTUs\r"
       ]
      },
      {
       "output_type": "stream",
       "stream": "stdout",
       "text": [
        "00:02  35Mb    9.3% 718 OTUs\r"
       ]
      },
      {
       "output_type": "stream",
       "stream": "stdout",
       "text": [
        "00:03  38Mb   23.7% 1358 OTUs\r"
       ]
      },
      {
       "output_type": "stream",
       "stream": "stdout",
       "text": [
        "00:04  41Mb   36.8% 1843 OTUs\r"
       ]
      },
      {
       "output_type": "stream",
       "stream": "stdout",
       "text": [
        "00:05  43Mb   48.3% 2192 OTUs\r"
       ]
      },
      {
       "output_type": "stream",
       "stream": "stdout",
       "text": [
        "00:06  44Mb   56.7% 2506 OTUs\r"
       ]
      },
      {
       "output_type": "stream",
       "stream": "stdout",
       "text": [
        "00:07  46Mb   65.5% 2684 OTUs\r"
       ]
      },
      {
       "output_type": "stream",
       "stream": "stdout",
       "text": [
        "00:08  47Mb   74.3% 2830 OTUs\r"
       ]
      },
      {
       "output_type": "stream",
       "stream": "stdout",
       "text": [
        "00:09  48Mb   83.2% 2925 OTUs\r"
       ]
      },
      {
       "output_type": "stream",
       "stream": "stdout",
       "text": [
        "00:10  50Mb   91.5% 3143 OTUs\r"
       ]
      },
      {
       "output_type": "stream",
       "stream": "stdout",
       "text": [
        "00:11  51Mb   99.4% 3327 OTUs\r"
       ]
      },
      {
       "output_type": "stream",
       "stream": "stdout",
       "text": [
        "00:11  51Mb  100.0% 3339 OTUs\r",
        "\r\n",
        "                             \r\n",
        "Input seqs  31377 (31.4k)\r\n",
        "      OTUs  3339\r\n",
        "   Members  23928 (23.9k)\r\n",
        "  Chimeras  4110\r\n",
        "   Max mem  51Mb\r\n",
        "      Time  11.0s\r\n",
        "Throughput  2852.5 seqs/sec.\r\n",
        "\r\n"
       ]
      }
     ],
     "prompt_number": 15
    },
    {
     "cell_type": "code",
     "collapsed": false,
     "input": [
      "# Making another file\n",
      "# Figure this out (what is this?)\n",
      "# This is a script (fasta_number.py) that replaces fasta names with XXX1, XXX2, etc.\n",
      "# In our case, it is replacing the names with OTU.1, OTU.2, etc., and outputs it into a file called otusn.fasta\n",
      "!/opt/bioinfo/edgar_python_scripts/fasta_number.py data/otus_SON.fasta OTU. > data/otusn_SON.fasta"
     ],
     "language": "python",
     "metadata": {},
     "outputs": [],
     "prompt_number": 16
    },
    {
     "cell_type": "code",
     "collapsed": false,
     "input": [
      "!head data/otusn_SON.fasta"
     ],
     "language": "python",
     "metadata": {},
     "outputs": [
      {
       "output_type": "stream",
       "stream": "stdout",
       "text": [
        ">OTU.1\r\n",
        "TACGAAGGTGGCAAGCGTTGTTCGGATTTACTGGGCGTACAGGGAGCGTAGGCGGTTGGATAAGCCCTCCGTGAAATCTC\r\n",
        "CAGGCTTAACCTGGAAAGTGCAGAGGGGACTGTTCAGCTAGAGGATGGGAGAGGAGCGCGGAATTCCCGGTGTAGCGGTG\r\n",
        "AAATGCGTAGAGATCGGGAGGAAGGCCGGTGGCGAAGGCGGCGCTCTGGAACATTTCTGACGCTGAGGCTCGAAAGCGTG\r\n",
        "GGGAGCAAACAGGATTAGATACCCTGGTAGTCCACGCCTTAAACGATGGATACTAAGTGTCGGCGGGTTACCGCCGGTGC\r\n",
        "CGCAGCTAACGCAGTAAGTATCCCGCCTGGGAAGTACGGCCGCAAGGTTG\r\n",
        ">OTU.2\r\n",
        "TACGGAGGGTGCAAGCGTTATCCGGATTCACTGGGTTTAAAGGGTGCGTAGGTGGGCAAGTAAGTCAGTGGTGAAATCTC\r\n",
        "CGGGCTTAACCCGGAAACTGCCATTGATACTATTTGTCTTGAATACTGTGGAGGTCAGCGGAATATGTCATGTAGCGGTG\r\n",
        "AAATGCTTAGATATGACATAGAACACCAATTGCGAAGGCAGCTGGCTACACAAATATTGACACTGAGGCACGAAAGCGTG\r\n"
       ]
      }
     ],
     "prompt_number": 17
    },
    {
     "cell_type": "heading",
     "level": 3,
     "metadata": {},
     "source": [
      "Removing Chloroplast, Eukaryal, and Archaeal sequences"
     ]
    },
    {
     "cell_type": "code",
     "collapsed": false,
     "input": [
      "# You do need to assign taxonomy in order to pull out the Euks., etc.\n",
      "# I could cp these files from the server to wherever I need them.\n",
      "# Input is your fasta file\n",
      "# Output is a fasta with taxonomy assinged (still working with unique seqs)\n",
      "# This didn't work first, because Chuck had to delete a \"jobs\" folder in the tmp directory.\n",
      "\n",
      "!parallel_assign_taxonomy_uclust.py \\\n",
      "-r /home/chantal/RNASIP/data/databases/Silva_111_post/no_ambiguous_bases_files/97_Silva_111_rep_set_no_ambig.fasta \\\n",
      "-t /home/chantal/RNASIP/data/databases/Silva_111_post/taxonomy/Silva_111_taxa_map_full.txt \\\n",
      "-O 10 \\\n",
      "-i data/otusn_SON.fasta \\\n",
      "-o data/otusn_SON_tax"
     ],
     "language": "python",
     "metadata": {},
     "outputs": [],
     "prompt_number": 19
    },
    {
     "cell_type": "code",
     "collapsed": false,
     "input": [
      "# This makes a file of what we want to remove\n",
      "# Could change this to pull out different groups.\n",
      "# These primers actually had good Archaeal targets - so, it would be okay to include them.\n",
      "!egrep \"Chloroplast|Eukaryota|Archaea|Unassigned|mitochondria\" \\\n",
      "data/otusn_SON_tax/otusn_SON_tax_assignments.txt \\\n",
      "| awk '{print $1}' > data/to_remove_tax.accnos"
     ],
     "language": "python",
     "metadata": {},
     "outputs": [],
     "prompt_number": 24
    },
    {
     "cell_type": "code",
     "collapsed": false,
     "input": [
      "# wc is number of lines of the taxa that will be removed\n",
      "!wc -l data/to_remove_tax.accnos"
     ],
     "language": "python",
     "metadata": {},
     "outputs": [
      {
       "output_type": "stream",
       "stream": "stdout",
       "text": [
        "312 data/to_remove_tax.accnos\r\n"
       ]
      }
     ],
     "prompt_number": 25
    },
    {
     "cell_type": "code",
     "collapsed": false,
     "input": [
      "# Looking at what you're removing\n",
      "!head data/to_remove_tax.accnos"
     ],
     "language": "python",
     "metadata": {},
     "outputs": [
      {
       "output_type": "stream",
       "stream": "stdout",
       "text": [
        "OTU.48\r\n",
        "OTU.49\r\n",
        "OTU.59\r\n",
        "OTU.273\r\n",
        "OTU.270\r\n",
        "OTU.169\r\n",
        "OTU.228\r\n",
        "OTU.434\r\n",
        "OTU.352\r\n",
        "OTU.664\r\n"
       ]
      }
     ],
     "prompt_number": 26
    },
    {
     "cell_type": "code",
     "collapsed": false,
     "input": [
      "%%bash\n",
      "# Remove.seqs command will actually remove these taxa\n",
      "mothur \"#remove.seqs(fasta=data/otusn_SON.fasta, \\\n",
      "accnos=data/to_remove_tax.accnos)\" #> /dev/null"
     ],
     "language": "python",
     "metadata": {},
     "outputs": [
      {
       "output_type": "stream",
       "stream": "stdout",
       "text": [
        "\u001b[H\u001b[2J\n",
        "\n",
        "\n",
        "\n",
        "\n",
        "\n",
        "mothur v.1.32.1\n",
        "Last updated: 10/16/2013\n",
        "\n",
        "by\n",
        "Patrick D. Schloss\n",
        "\n",
        "Department of Microbiology & Immunology\n",
        "University of Michigan\n",
        "pschloss@umich.edu\n",
        "http://www.mothur.org\n",
        "\n",
        "When using, please cite:\n",
        "Schloss, P.D., et al., Introducing mothur: Open-source, platform-independent, community-supported software for describing and comparing microbial communities. Appl Environ Microbiol, 2009. 75(23):7537-41.\n",
        "\n",
        "Distributed under the GNU General Public License\n",
        "\n",
        "Type 'help()' for information on the commands that are available\n",
        "\n",
        "Type 'quit()' to exit program\n",
        "\n",
        "\n",
        "\n",
        "mothur > remove.seqs(fasta=data/otusn_SON.fasta, accnos=data/to_remove_tax.accnos)\n",
        "Removed 312 sequences from your fasta file.\n",
        "\n",
        "Output File Names: \n",
        "data/otusn_SON.pick.fasta\n",
        "\n",
        "\n",
        "mothur > quit()\n"
       ]
      }
     ],
     "prompt_number": 27
    },
    {
     "cell_type": "heading",
     "level": 3,
     "metadata": {},
     "source": [
      "Mapping Reads"
     ]
    },
    {
     "cell_type": "code",
     "collapsed": false,
     "input": [
      "# Pulling out the sample identifier.\n",
      "# It is adding a portion to the finalQC file that has the barcode label.\n",
      "# Then we can use this later\n",
      "# Now we will see how these reads map to the defined centroids (after removing EuK, etc.)\n",
      "# Basically, we cut, cut, refined our fasta to make our OTU centroids.\n",
      "# THEN, we went back to our original QC'd total fasta file and will throw it all against these nicely defined seeds.\n",
      "# Anything that doesn't match, we won't keep.\n",
      "!awk -F\"_\" \\\n",
      "'BEGIN{OFS=\";\"}{ if ( substr($1,0,1) == \">\"){ print $0,\"barcodelabel=\",$1 } else { print $0 } }' \\\n",
      "data/finalQC_SON.fasta | \\\n",
      "sed 's/;>//' > data/finalQC_SON_usearchfmt.fasta"
     ],
     "language": "python",
     "metadata": {},
     "outputs": [],
     "prompt_number": 28
    },
    {
     "cell_type": "code",
     "collapsed": false,
     "input": [
      "!head data/finalQC_SON_usearchfmt.fasta"
     ],
     "language": "python",
     "metadata": {},
     "outputs": [
      {
       "output_type": "stream",
       "stream": "stdout",
       "text": [
        ">S.PTH.1_79;barcodelabel=S.PTH.1\r\n",
        "TACGTAGGGGGCGAGCGTTGTCCGGAATTATTGGGCGTAAAGAGCTCGTAGGCGGTTCAGTAAGTCGGCTGTGAAAGTCCGAGGCTCAACCTCGGAACTGCAGTCGAGACTATTGTGACTAGAGTCCGGTAGAGGAGAATGGAATTCCCGGTGTAGCGGTGAAATGCGCAGATATCGGGAGGAACACCAGTAGCGAAGGCGGCTTCCTGGACCACGACTGACGCTGAGGAGCGAAAGCCAGGGGAGCAAACGGGATTAGATACCCCGGTAGTCCTGGCCCTAAACGATGAATGCTTGGTGTGGCGGGTATCGATCCCTGCCGTGCCGAAGCTAACGCATTAAGCATTCCGCCTGGGGAGTACGGTCGCAAGGCTG\r\n",
        ">S.NTR.2_83;barcodelabel=S.NTR.2\r\n",
        "TACGTAGGGGGCAAGCGTTGTCCGGAATTATTGGGCGTAAAGGGCGCGTAGGCGATTCGATAAGTCTCATGTGAAATCCCAGGGCCTAACCCTGGAATGGCATGGGATACTGTTGGAGTTGAGTTCCGGAGAGGAAGGCAGAATTCCCGGTGTAGCGGTGAAATGGGTAGATATCGGGAGGAATACCAGTGGCGAAGGCGGCCTTCTGGACGGATACTGACGCTGAGGCGCGAAAGCCGGGGGAGCAAACGGGATTAGATACCCCGGTAGTCCTGGCCGTAAACGATGTGCACTTGGTGTGAGCCGGTTTTCGGTTCGTGCCGAAGCTAACGCAATAAGTGCACCGCCTGGGGAGTACGGTCGCAAGGCTG\r\n",
        ">N.NTH.3_111;barcodelabel=N.NTH.3\r\n",
        "TACGTAGGGTGCGAGCGTTAATCGGAATTACTGGGCGTAAAGCGTGCGCAGGCGGTTTCGTAAGCTGGAGGTGAAATCCCCGGGCTTAACCTGGGAACTGCATTTGTGACTGCACGGCTCGAGTGCGGCAGAGGGGGATGGAATTCCGCGTGTAGCAGTGAAATGCGTAGATATGCGGAGGAACACCGATGGCGAAGGCAATCCCCTGGGCCTGCACTGACGCTCATGCACGAAAGCGTGGGGAGCAAACAGGATTAGATACCCTGGTAGTCCACGCCCTAAACGATGTCAACTGGTTGTTGGGTGCATTAGTACTCAGTAACGAAGCTAACGCGTGAAGTTGACCGCCTGGGGAGTACGGCCGCAAGGTTG\r\n",
        ">O.PTH.1_146;barcodelabel=O.PTH.1\r\n",
        "TACAGAGGTGGCAAGCGTTGTTCGGAATTACTGGGCGTAAAGGGCGCGTAGGCGGCCTTCTAAGTCAGACGTGAAATCCCCAGGCTTAACTTGGGAACTGCGTCTGATACTGGAGGGCTCGAGGGAGGGAGAGGGATGTGGAATTCCAGGGGTAGCGGTGAAATGCGTAGATAGCTGGAGGAACCCCGGTGGCGAAGGCGGCATCCTGGACCGACACTGACGCGGATGCGCGAAAGCTAGGGGAGCAAACGGGATTAGATACCCCGGTAGTCCTAGCCCTAAACGATGAGTGCTTGGTGTGGCGGGTATCGATCCCTGCCGTGCCGAAGCTAACGCATTAAGCACTCCGCCTGGGGAGTACGGTCGCAAGGCTG\r\n",
        ">N.NTR.4_154;barcodelabel=N.NTR.4\r\n",
        "TACAGAGGTGGCAAGCGTTGTTCGGAATTACTGGGCGTAAAGGGCGCGTAGGCGGTTCGATAAGTCCCGTGTGAAAGCCCCCGGCTCAACTGGGGAACTGCACGGGAAACTGACGGACTTGAGTTCGGGAGAGGGAAGCGGAATTCCGGGTGTAGCGGTGAAATGCGTAGATATCCGGAGGAACACCGGTGGCGAAGGCGGCTTCCTGGACCGACACTGACGCTGAGGCGCGAAAGCTAGGGGAGCAAACGGGATGAGATACCCCGGTAGTCCTAGCTGTAAACGATGAGCGCTGGGTGTAGGGGGTGTTAACCCCTCCTGTGCCGAAGCTAACGCATTAAGCGCTCCGCCTGGGGAGTACGGTCGCAAGGCTG\r\n"
       ]
      }
     ],
     "prompt_number": 29
    },
    {
     "cell_type": "code",
     "collapsed": false,
     "input": [
      "# This is where the actual OTUs are being assigned. We choose 97% sequence ID threshold here.\n",
      "# This might take a while - like 5 minutes\n",
      "# Depending ont he clustering algorithm, like pairwise... it would take, like, days on the same number of processors.\n",
      "# This is why usearch (centroid-based) is so much better\n",
      "# But is it more biologically relevant? ... maybe, maybe not.\n",
      "# Edgar is showing it's not that bad.\n",
      "\n",
      "# We take our total QC data (modified above to have the sample ID extracted)\n",
      "# We compare it to the otusn.pick.fasta database we made above\n",
      "# We produce a readmap.uc file which tells us how the reads from our finalQC file map to the otusn seed database.\n",
      "\n",
      "!usearch -usearch_global data/finalQC_SON_usearchfmt.fasta \\\n",
      "-db data/otusn_SON.fasta \\\n",
      "-strand plus -id 0.97 \\\n",
      "-uc data/readmap_SON.uc \\\n",
      "-threads 15"
     ],
     "language": "python",
     "metadata": {},
     "outputs": [
      {
       "output_type": "stream",
       "stream": "stdout",
       "text": [
        "usearch v7.0.1090_i86linux32, 4.0Gb RAM (132Gb total), 40 cores\r\n",
        "(C) Copyright 2013 Robert C. Edgar, all rights reserved.\r\n",
        "http://drive5.com/usearch\r\n",
        "\r\n",
        "Licensed to: chuck.peperanney@gmail.com\r\n",
        "\r\n"
       ]
      },
      {
       "output_type": "stream",
       "stream": "stdout",
       "text": [
        "00:00  19Mb Reading data/otusn_SON.fasta, 1.3Mb\r\n",
        "00:00  20Mb 3339 seqs, min 370, avg 373, max 398nt\r\n",
        "00:00  20Mb    0.0% Masking\r"
       ]
      },
      {
       "output_type": "stream",
       "stream": "stdout",
       "text": [
        "00:00  20Mb  100.0% Masking\r",
        "\r\n",
        "00:00  21Mb    0.0% Word stats\r",
        "00:00  21Mb  100.0% Word stats\r",
        "\r\n",
        "00:00  21Mb    0.0% Building slots\r"
       ]
      },
      {
       "output_type": "stream",
       "stream": "stdout",
       "text": [
        "00:00  26Mb  100.0% Building slots\r",
        "\r\n",
        "00:00  26Mb    0.0% Build index   \r"
       ]
      },
      {
       "output_type": "stream",
       "stream": "stdout",
       "text": [
        "00:00  26Mb  100.0% Build index\r",
        "\r\n",
        "00:00 147Mb    0.1% Searching, 0.0% matched\r"
       ]
      },
      {
       "output_type": "stream",
       "stream": "stdout",
       "text": [
        "00:01 173Mb    1.3% Searching, 87.6% matched\r"
       ]
      },
      {
       "output_type": "stream",
       "stream": "stdout",
       "text": [
        "00:02 174Mb   11.8% Searching, 74.0% matched\r"
       ]
      },
      {
       "output_type": "stream",
       "stream": "stdout",
       "text": [
        "00:03 175Mb   20.2% Searching, 66.7% matched\r"
       ]
      },
      {
       "output_type": "stream",
       "stream": "stdout",
       "text": [
        "00:04 175Mb   28.2% Searching, 63.2% matched\r"
       ]
      },
      {
       "output_type": "stream",
       "stream": "stdout",
       "text": [
        "00:05 175Mb   35.7% Searching, 60.7% matched\r"
       ]
      },
      {
       "output_type": "stream",
       "stream": "stdout",
       "text": [
        "00:06 175Mb   42.9% Searching, 58.6% matched\r"
       ]
      },
      {
       "output_type": "stream",
       "stream": "stdout",
       "text": [
        "00:07 175Mb   49.8% Searching, 56.7% matched\r"
       ]
      },
      {
       "output_type": "stream",
       "stream": "stdout",
       "text": [
        "00:08 175Mb   56.6% Searching, 55.2% matched\r"
       ]
      },
      {
       "output_type": "stream",
       "stream": "stdout",
       "text": [
        "00:09 175Mb   63.3% Searching, 54.0% matched\r"
       ]
      },
      {
       "output_type": "stream",
       "stream": "stdout",
       "text": [
        "00:10 175Mb   70.2% Searching, 53.0% matched\r"
       ]
      },
      {
       "output_type": "stream",
       "stream": "stdout",
       "text": [
        "00:11 175Mb   77.1% Searching, 52.2% matched\r"
       ]
      },
      {
       "output_type": "stream",
       "stream": "stdout",
       "text": [
        "00:12 175Mb   83.9% Searching, 51.5% matched\r"
       ]
      },
      {
       "output_type": "stream",
       "stream": "stdout",
       "text": [
        "00:13 176Mb   90.5% Searching, 50.8% matched\r"
       ]
      },
      {
       "output_type": "stream",
       "stream": "stdout",
       "text": [
        "00:14 176Mb   96.6% Searching, 50.1% matched\r"
       ]
      },
      {
       "output_type": "stream",
       "stream": "stdout",
       "text": [
        "00:14 176Mb  100.0% Searching, 49.8% matched\r",
        "\r\n"
       ]
      }
     ],
     "prompt_number": 30
    },
    {
     "cell_type": "code",
     "collapsed": false,
     "input": [
      "# Makes an OTU table\n",
      "# It will tell me the OTU ID, and then for all the samples, which OTUs it has sequences from.\n",
      "!python /opt/bioinfo/edgar_python_scripts/uc2otutab.py data/readmap_SON.uc > data/otu_table_SON.txt"
     ],
     "language": "python",
     "metadata": {},
     "outputs": [
      {
       "output_type": "stream",
       "stream": "stdout",
       "text": [
        "data/readmap_SON.uc   0.0%   \r"
       ]
      },
      {
       "output_type": "stream",
       "stream": "stdout",
       "text": [
        "data/readmap_SON.uc   6.3%   \r"
       ]
      },
      {
       "output_type": "stream",
       "stream": "stdout",
       "text": [
        "data/readmap_SON.uc  11.7%   \r"
       ]
      },
      {
       "output_type": "stream",
       "stream": "stdout",
       "text": [
        "data/readmap_SON.uc  16.8%   \r"
       ]
      },
      {
       "output_type": "stream",
       "stream": "stdout",
       "text": [
        "data/readmap_SON.uc  22.0%   \r"
       ]
      },
      {
       "output_type": "stream",
       "stream": "stdout",
       "text": [
        "data/readmap_SON.uc  27.0%   \r"
       ]
      },
      {
       "output_type": "stream",
       "stream": "stdout",
       "text": [
        "data/readmap_SON.uc  32.0%   \r"
       ]
      },
      {
       "output_type": "stream",
       "stream": "stdout",
       "text": [
        "data/readmap_SON.uc  36.8%   \r"
       ]
      },
      {
       "output_type": "stream",
       "stream": "stdout",
       "text": [
        "data/readmap_SON.uc  41.5%   \r"
       ]
      },
      {
       "output_type": "stream",
       "stream": "stdout",
       "text": [
        "data/readmap_SON.uc  46.2%   \r"
       ]
      },
      {
       "output_type": "stream",
       "stream": "stdout",
       "text": [
        "data/readmap_SON.uc  50.9%   \r"
       ]
      },
      {
       "output_type": "stream",
       "stream": "stdout",
       "text": [
        "data/readmap_SON.uc  55.7%   \r"
       ]
      },
      {
       "output_type": "stream",
       "stream": "stdout",
       "text": [
        "data/readmap_SON.uc  60.3%   \r"
       ]
      },
      {
       "output_type": "stream",
       "stream": "stdout",
       "text": [
        "data/readmap_SON.uc  65.1%   \r"
       ]
      },
      {
       "output_type": "stream",
       "stream": "stdout",
       "text": [
        "data/readmap_SON.uc  70.0%   \r"
       ]
      },
      {
       "output_type": "stream",
       "stream": "stdout",
       "text": [
        "data/readmap_SON.uc  75.3%   \r"
       ]
      },
      {
       "output_type": "stream",
       "stream": "stdout",
       "text": [
        "data/readmap_SON.uc  80.5%   \r"
       ]
      },
      {
       "output_type": "stream",
       "stream": "stdout",
       "text": [
        "data/readmap_SON.uc  85.6%   \r"
       ]
      },
      {
       "output_type": "stream",
       "stream": "stdout",
       "text": [
        "data/readmap_SON.uc  90.1%   \r"
       ]
      },
      {
       "output_type": "stream",
       "stream": "stdout",
       "text": [
        "data/readmap_SON.uc  95.2%   \r"
       ]
      },
      {
       "output_type": "stream",
       "stream": "stdout",
       "text": [
        "data/readmap_SON.uc 100.0%   \r\n"
       ]
      }
     ],
     "prompt_number": 31
    },
    {
     "cell_type": "code",
     "collapsed": false,
     "input": [
      "# Issues with biom table formatting\n",
      "!if [ -f data/otu_table_SON.biom ]; then rm data/otu_table_SON.biom; fi #This is to mitigate a biom bug\n",
      "!biom convert -i data/otu_table_SON.txt -o data/otu_table_SON.biom --table-type \"otu table\""
     ],
     "language": "python",
     "metadata": {},
     "outputs": [],
     "prompt_number": 32
    },
    {
     "cell_type": "code",
     "collapsed": false,
     "input": [
      "# Issues with biom table formatting\n",
      "!if [ -f data/otu_table_SON_summary.txt ]; then rm data/otu_table_SON_summary.txt; fi #This is to mitigate a biom bug\n",
      "!biom summarize-table -i data/otu_table_SON.biom -o data/otu_table_SON_summary.txt"
     ],
     "language": "python",
     "metadata": {},
     "outputs": [],
     "prompt_number": 33
    },
    {
     "cell_type": "code",
     "collapsed": false,
     "input": [
      "# This tells us the overall data info\n",
      "# Num obs = OTUs\n",
      "# total count = total seqs\n",
      "# Chantal had 50% reduction after QC.\n",
      "\n",
      "!cat data/otu_table_SON_summary.txt\n",
      "\n"
     ],
     "language": "python",
     "metadata": {},
     "outputs": [
      {
       "output_type": "stream",
       "stream": "stdout",
       "text": [
        "Num samples: 50\r\n",
        "Num observations: 3339\r\n",
        "Total count: 523052\r\n",
        "Table density (fraction of non-zero values): 0.394\r\n",
        "Table md5 (unzipped): 92c7b56b06a4c0bb31fb86a31253edac\r\n",
        "\r\n",
        "Counts/sample summary:\r\n",
        " Min: 1874.0\r\n",
        " Max: 18836.0\r\n",
        " Median: 10209.500\r\n",
        " Mean: 10461.040\r\n",
        " Std. dev.: 3201.615\r\n",
        " Sample Metadata Categories: None provided\r\n",
        " Observation Metadata Categories: None provided\r\n",
        "\r\n",
        "Counts/sample detail:\r\n",
        " N.NTR.3: 1874.0\r\n",
        " N.PAS: 4792.0\r\n",
        " N.PTR.2: 6785.0\r\n",
        " N.NTH.4: 6864.0\r\n",
        " O.NTH.4: 6898.0\r\n",
        " N.PTH.2: 7226.0\r\n",
        " O.PAS: 7270.0\r\n",
        " O.NTR.2: 7316.0\r\n",
        " N.PTH.4: 7347.0\r\n",
        " S.NTH.4: 7362.0\r\n",
        " N.NTR.2: 7825.0\r\n",
        " O.PTH.4: 7874.0\r\n",
        " N.PTR.1: 8180.0\r\n",
        " S.PTR.2: 8287.0\r\n",
        " S.PTH.4: 8413.0\r\n",
        " N.PTH.1: 8601.0\r\n",
        " O.NTR.4: 9497.0\r\n",
        " O.NTH.2: 9540.0\r\n",
        " N.PTR.4: 9555.0\r\n",
        " O.PTR.2: 9621.0\r\n",
        " N.PTR.3: 9654.0\r\n",
        " S.PTH.2: 9655.0\r\n",
        " S.PTH.1: 9695.0\r\n",
        " O.NTH.1: 10118.0\r\n",
        " O.PTR.4: 10144.0\r\n",
        " N.NTH.1: 10275.0\r\n",
        " S.NTH.2: 10350.0\r\n",
        " S.NTR.4: 10362.0\r\n",
        " O.PTR.1: 10367.0\r\n",
        " O.PTH.2: 10396.0\r\n",
        " O.PTH.1: 10881.0\r\n",
        " S.NTH.1: 11101.0\r\n",
        " N.PTH.3: 11409.0\r\n",
        " N.NTH.2: 11476.0\r\n",
        " O.NTH.3: 11567.0\r\n",
        " S.PTR.4: 11864.0\r\n",
        " O.NTR.1: 11969.0\r\n",
        " S.PTR.1: 12042.0\r\n",
        " N.NTR.4: 12210.0\r\n",
        " S.NTR.2: 12597.0\r\n",
        " O.PTR.3: 13340.0\r\n",
        " S.NTR.3: 14018.0\r\n",
        " O.PTH.3: 14280.0\r\n",
        " O.NTR.3: 14710.0\r\n",
        " N.NTH.3: 15404.0\r\n",
        " S.PTR.3: 15408.0\r\n",
        " N.NTR.1: 15526.0\r\n",
        " S.PTH.3: 15843.0\r\n",
        " S.NTR.1: 16428.0\r\n",
        " S.NTH.3: 18836.0\r\n"
       ]
      }
     ],
     "prompt_number": 34
    }
   ],
   "metadata": {}
  }
 ]
}