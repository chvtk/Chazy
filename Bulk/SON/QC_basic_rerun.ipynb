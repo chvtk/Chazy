{
 "metadata": {
  "name": "",
  "signature": "sha256:ae8f51fbdb285e4674ae5d4f2992f3f8c0f893279d6d781f6998aa66f284d99b"
 },
 "nbformat": 3,
 "nbformat_minor": 0,
 "worksheets": [
  {
   "cells": [
    {
     "cell_type": "markdown",
     "metadata": {},
     "source": [
      "##Discard sequences that exceed the max expected error threshold."
     ]
    },
    {
     "cell_type": "code",
     "collapsed": false,
     "input": [
      "%%bash\n",
      "\n",
      "nprocs=20\n",
      "maxee=1\n",
      "\n",
      "tmpdir1=`mktemp -d`\n",
      "trap \"rm -r $tmpdir1\" 1 2 3 15\n",
      "split -d -l 2000000 /var/seq_data/Chazy/rerun_Chantal_SON.assembled.dmult.fastq $tmpdir1/Block\n",
      "\n",
      "tmpdir2=`mktemp -d`\n",
      "trap \"rm -r $tmpdir2\" 1 2 3 15\n",
      "ls $tmpdir1/Block?? | parallel --gnu -j $nprocs -k \"usearch -fastq_filter {} \\\n",
      "-fastq_maxee $maxee \\\n",
      "-fastaout $tmpdir2/{#}.fasta >/dev/null 2>&1 && cat $tmpdir2/{#}.fasta\" > data/tmp/maxee$maxee.fasta\n",
      "rm -r $tmpdir2 $tmpdir1\n",
      "\n",
      "grep -c \">\" data/tmp/maxee$maxee.fasta\n",
      "head -n 8 data/tmp/maxee$maxee.fasta"
     ],
     "language": "python",
     "metadata": {},
     "outputs": [
      {
       "output_type": "stream",
       "stream": "stdout",
       "text": [
        "1014959\n",
        ">O.PTR.4_72 orig_name=M01032:252:000000000-ACLG8:1:1101:17166:1101\n",
        "TACGAAGGTGGCAAGCGTTGTTCGGATTCACTGGGCNTACAGGGAGCGTAGGCGGTTGGGTAAGCCCTCCGTGAAATCTCCGGGCCTAACCCGGAAAGGGCGGAGGGGACTGCTCGGCTAGAGGATGGGAGAGGAGCGCGGAATTCCCGGTGTAGCGGTGAAATGCGTAGAGATCGGGAGGAAGGCCGGTGGCGAAGGCGGCGCTCTGGAACATTTCTGACGCTGAGGCTCGAAAGCGTGGGGAGCAAACAGGATTAGATACCCTGGTAGTCCACGCCTTAAACGATGGATACTAAGTGTCGGCGGGTTACCGCCGGTGCCGCAGCTAACGCAGTAAGTATCCCGCCTGGGAAGTACGGCCGCAAGGTTG\n",
        ">S.NTR.1_77 orig_name=M01032:252:000000000-ACLG8:1:1101:18303:1103\n",
        "TACGTAGGTGGCAAGCGTTGTCCGGAATTATTGGGCGTAAAGCGCGCGCAGGTGGTTTCTTAAGTCTGATGTGAAAGCCCACGGCTCAACCGTGGAGGGGCATTGGAAACTGGGGAACTTGAGTGCAGAAGAGGAAAGTGGAATTCCAAGTGTAGCGGTGAAATGCGTAGAGATTTGGAGGAATACCGGTGGCGAAGGCGGCCTTCTGGACCATTCCTGACACTGAGACGCGAAAGCGTGGGTAGCAAACAGGATTAGATACCCTGGTAGTCCACGCTGTAAACGATGGGTACTAGATGTTGTGGGAATTGACCCCCGCAGTGTCGTAGCTAACGCGTTAAGTACCCCGCCTGGGAAGTACGGTCGCAAGATTA\n",
        ">N.NTR.4_80 orig_name=M01032:252:000000000-ACLG8:1:1101:16696:1105\n",
        "TACGGGGGGGGCAAGCGTTGTTCGGAATTACTGGGCGTAAAGGGCTCGTAGGCGGCCAACTAAGTCAGACGTGAAATCCCCAGGCTTACCCTGGGAACTGCGTCTGATACTGGATGGCTTGAATTCGGGAGAGGGATGCAGAATTCCAGGTGTAGCGGTGAAATGCGTAGATATCTGGAGGAATACCGGTGGCGAAGGCGGCATCCTGGACCGACATTGACGCTGAGGAGCGAAAGCTAGGGGAGCAAACGGGATTAGATACCCCGGTAGTCCTAGCCCTAAACGATGAATGCTTGGTGTGGCGGGTATCGATCCCTGCCGTGCCGAAGCTAACGCATTAAGCATTCCGCCTGGGGAGTACGGTCGCAAGGCTG\n",
        ">O.NTR.4_81 orig_name=M01032:252:000000000-ACLG8:1:1101:21581:1106\n",
        "TACAGAGGGGGCAAGCGTTGTTCGGAATTACTGGGCGTAAAGGGCGCGTAGGCGGCCGCCTAAGTCAGACGTGAAATCCCTCGGCTCAACCGGGGAACTGCGTCTGATACTGGGTGGCTTGAATTCGGGAGAGGACAGTGGAATTCCAAGTGTAGCGGTGAAATGCGTAGATATTGGGAGGAACACCAGTGGCGAAGGCGACTGTCTGGACTGTGTCTGACGCTGAGGCGCGAAAGCGAGGGAAGTGAACGGGATTAGATACCCCGGTAGTCCTGGCCGTAAACGATGGGTACTAGGTGTTGGGGGTATCGACCCCTCCAGTGCCGTAGTTAACGCAATAAGTACCCCGCCTGGGGAGTACGGCCGCAAGGTTG\n"
       ]
      }
     ],
     "prompt_number": 1
    },
    {
     "cell_type": "code",
     "collapsed": false,
     "input": [
      "%%bash\n",
      "bioawk -c fastx '{if ($seq !~ /N/){print \">\" $name \" \" $4 \"\\n\" $seq}}' data/tmp/maxee1.fasta > \\\n",
      "data/tmp/maxee1.0.noN.fasta\n",
      "grep -c \">\" data/tmp/maxee1.fasta\n",
      "grep -c \">\" data/tmp/maxee1.0.noN.fasta"
     ],
     "language": "python",
     "metadata": {},
     "outputs": [
      {
       "output_type": "stream",
       "stream": "stdout",
       "text": [
        "1014959\n",
        "1014944\n"
       ]
      }
     ],
     "prompt_number": 2
    },
    {
     "cell_type": "markdown",
     "metadata": {},
     "source": [
      "##Remove seqs with N characters."
     ]
    },
    {
     "cell_type": "heading",
     "level": 1,
     "metadata": {},
     "source": [
      "Alignment-based QC with Mothur"
     ]
    },
    {
     "cell_type": "code",
     "collapsed": false,
     "input": [
      "%%bash\n",
      "ionice -c2 -n3 \\\n",
      "mothur \"#unique.seqs(fasta=data/tmp/maxee1.0.noN.fasta)\" > /dev/null"
     ],
     "language": "python",
     "metadata": {},
     "outputs": [],
     "prompt_number": 3
    },
    {
     "cell_type": "code",
     "collapsed": false,
     "input": [
      "!grep -c \">\" data/tmp/maxee1.0.noN.fasta\n",
      "!grep -c \">\" data/tmp/maxee1.0.noN.unique.fasta"
     ],
     "language": "python",
     "metadata": {},
     "outputs": [
      {
       "output_type": "stream",
       "stream": "stdout",
       "text": [
        "1014944\r\n"
       ]
      },
      {
       "output_type": "stream",
       "stream": "stdout",
       "text": [
        "944580\r\n"
       ]
      }
     ],
     "prompt_number": 4
    },
    {
     "cell_type": "heading",
     "level": 5,
     "metadata": {},
     "source": [
      "Need to use all sequences (not just unique sequences) for next step to create the data file"
     ]
    },
    {
     "cell_type": "code",
     "collapsed": false,
     "input": [
      "%%bash\n",
      "bioawk -c fastx '{print $name}' data/tmp/maxee1.0.noN.fasta | \\\n",
      "awk -F\"_\" 'BEGIN{OFS=\"\\t\"}{print $0, $1}' > data/re_group_file.txt\n",
      "head data/re_group_file.txt"
     ],
     "language": "python",
     "metadata": {},
     "outputs": [
      {
       "output_type": "stream",
       "stream": "stdout",
       "text": [
        "S.NTR.1_77\tS.NTR.1\n",
        "N.NTR.4_80\tN.NTR.4\n",
        "O.NTR.4_81\tO.NTR.4\n",
        "O.NTR.1_84\tO.NTR.1\n",
        "O.PTH.4_85\tO.PTH.4\n",
        "O.NTH.4_86\tO.NTH.4\n",
        "S.PTR.3_87\tS.PTR.3\n",
        "S.PTH.4_88\tS.PTH.4\n",
        "S.NTR.3_90\tS.NTR.3\n",
        "S.NTR.4_91\tS.NTR.4\n"
       ]
      }
     ],
     "prompt_number": 5
    },
    {
     "cell_type": "code",
     "collapsed": false,
     "input": [
      "!mkdir -p /home/chantal/RNASIP/data/tmp/db"
     ],
     "language": "python",
     "metadata": {},
     "outputs": [],
     "prompt_number": 3
    },
    {
     "cell_type": "code",
     "collapsed": false,
     "input": [
      "%%bash\n",
      "if ! [ -e /home/chantal/RNASIP/data/silva_ref_aln_mothur.fasta ]; then\n",
      "    curl -o /home/chantal/RNASIP/data/tmp/db/silva_B.zip http://www.mothur.org/w/images/9/98/Silva.bacteria.zip && unzip data/tmp/db/silva_B.zip\n",
      "    curl -o /home/chantal/RNASIP/data/tmp/db/silva_E.zip http://www.mothur.org/w/images/1/1a/Silva.eukarya.zip && unzip data/tmp/db/silva_E.zip\n",
      "    curl -o /home/chantal/RNASIP/data/tmp/db/silva_A.zip http://www.mothur.org/w/images/3/3c/Silva.archaea.zip && unzip data/tmp/db/silva_A.zip\n",
      "fi"
     ],
     "language": "python",
     "metadata": {},
     "outputs": [],
     "prompt_number": 8
    },
    {
     "cell_type": "code",
     "collapsed": false,
     "input": [
      "%%bash\n",
      "if ! [ -e /home/chantal/RNASIP/data/silva_ref_aln_mothur.fasta ]; then\n",
      "    cat /home/chantal/RNASIP/data/tmp/db/silva.bacteria/silva.bacteria.fasta \\\n",
      "    /home/chantal/RNASIP/data/tmp/db/silva.eukarya/silva.eukarya.fasta \\\n",
      "    /home/chantal/RNASIP/data/tmp/db/Silva.archaea/silva.archaea.fasta \\\n",
      "    > /home/chantal/RNASIP/data/silva_ref_aln_mothur.fasta\n",
      "fi"
     ],
     "language": "python",
     "metadata": {},
     "outputs": [],
     "prompt_number": 11
    },
    {
     "cell_type": "code",
     "collapsed": false,
     "input": [
      "%%bash\n",
      "mothur \"#filter.seqs(vertical=t, \\\n",
      "fasta=/home/chantal/RNASIP/data/silva_ref_aln_mothur.fasta, \\\n",
      "processors=10)\" > /dev/null"
     ],
     "language": "python",
     "metadata": {},
     "outputs": [],
     "prompt_number": 5
    },
    {
     "cell_type": "code",
     "collapsed": true,
     "input": [
      "%%bash\n",
      "ionice -c2 -n3 \\\n",
      "mothur \"#align.seqs(candidate=data/tmp/maxee1.0.noN.unique.fasta, \\\n",
      "template=/home/chantal/RNASIP/data/tmp/db/silva_ref_aln_mothur.fasta, \\\n",
      "processors=15, \\\n",
      "flip=T)\" > /dev/null"
     ],
     "language": "python",
     "metadata": {},
     "outputs": [],
     "prompt_number": 6
    },
    {
     "cell_type": "heading",
     "level": 4,
     "metadata": {},
     "source": [
      "We can filter out vertical gaps..."
     ]
    },
    {
     "cell_type": "code",
     "collapsed": false,
     "input": [
      "%%bash\n",
      "mothur \"#filter.seqs(vertical=t, \\\n",
      "fasta=data/tmp/maxee1.0.noN.unique.align, \\\n",
      "processors=10)\" > /dev/null"
     ],
     "language": "python",
     "metadata": {},
     "outputs": [],
     "prompt_number": 7
    },
    {
     "cell_type": "heading",
     "level": 3,
     "metadata": {},
     "source": [
      "Here is what our seqs look like."
     ]
    },
    {
     "cell_type": "code",
     "collapsed": false,
     "input": [
      "%%bash\n",
      "mothur \"#summary.seqs(fasta=data/tmp/maxee1.0.noN.unique.filter.fasta, \\\n",
      "processors=20, \\\n",
      "name=data/tmp/maxee1.0.noN.names)\" "
     ],
     "language": "python",
     "metadata": {},
     "outputs": [
      {
       "output_type": "stream",
       "stream": "stdout",
       "text": [
        "\u001b[H\u001b[2J\n",
        "\n",
        "\n",
        "\n",
        "\n",
        "\n",
        "mothur v.1.32.1\n",
        "Last updated: 10/16/2013\n",
        "\n",
        "by\n",
        "Patrick D. Schloss\n",
        "\n",
        "Department of Microbiology & Immunology\n",
        "University of Michigan\n",
        "pschloss@umich.edu\n",
        "http://www.mothur.org\n",
        "\n",
        "When using, please cite:\n",
        "Schloss, P.D., et al., Introducing mothur: Open-source, platform-independent, community-supported software for describing and comparing microbial communities. Appl Environ Microbiol, 2009. 75(23):7537-41.\n",
        "\n",
        "Distributed under the GNU General Public License\n",
        "\n",
        "Type 'help()' for information on the commands that are available\n",
        "\n",
        "Type 'quit()' to exit program\n",
        "\n",
        "\n",
        "\n",
        "mothur > summary.seqs(fasta=data/tmp/maxee1.0.noN.unique.filter.fasta, processors=20, name=data/tmp/maxee1.0.noN.names)\n",
        "\n",
        "Using 20 processors.\n",
        "\n",
        "Using 20 processors.\n",
        "\n",
        "Using 20 processors.\n",
        "\n",
        "Using 20 processors.\n",
        "\n",
        "Using 20 processors.\n",
        "\n",
        "Using 20 processors.\n",
        "\n",
        "Using 20 processors.\n",
        "\n",
        "Using 20 processors.\n",
        "\n",
        "Using 20 processors.\n",
        "\n",
        "Using 20 processors.\n",
        "\n",
        "Using 20 processors.\n",
        "\n",
        "Using 20 processors.\n",
        "\n",
        "Using 20 processors.\n",
        "\n",
        "Using 20 processors.\n",
        "\n",
        "Using 20 processors.\n",
        "\n",
        "Using 20 processors.\n",
        "\n",
        "Using 20 processors.\n",
        "\n",
        "Using 20 processors.\n",
        "\n",
        "Using 20 processors.\n",
        "\n",
        "Using 20 processors.\n",
        "\n",
        "\t\tStart\tEnd\tNBases\tAmbigs\tPolymer\tNumSeqs\n",
        "Minimum:\t1\t1\t1\t0\t1\t1\n",
        "2.5%-tile:\t96\t1311\t370\t0\t4\t25374\n",
        "25%-tile:\t96\t1311\t373\t0\t5\t253737\n",
        "Median: \t96\t1311\t374\t0\t6\t507473\n",
        "75%-tile:\t96\t1311\t374\t0\t6\t761209\n",
        "97.5%-tile:\t96\t1311\t375\t0\t8\t989571\n",
        "Maximum:\t1502\t1503\t420\t0\t58\t1014944\n",
        "Mean:\t96.2022\t1310.88\t373.248\t0\t5.87586\n",
        "# of unique seqs:\t944580\n",
        "total # of seqs:\t1014944\n",
        "\n",
        "Output File Names: \n",
        "data/tmp/maxee1.0.noN.unique.filter.summary\n",
        "\n",
        "\n",
        "mothur > quit()\n"
       ]
      }
     ],
     "prompt_number": 8
    },
    {
     "cell_type": "heading",
     "level": 3,
     "metadata": {},
     "source": [
      "Removing homopolymers (larger than 8) and screen out sequences that don't align to amplicon region"
     ]
    },
    {
     "cell_type": "code",
     "collapsed": false,
     "input": [
      "%%bash\n",
      "\n",
      "mothur \"#screen.seqs(fasta=data/tmp/maxee1.0.noN.unique.filter.fasta, \\\n",
      "processors=10, \\\n",
      "name=data/tmp/maxee1.0.noN.names, \\\n",
      "group=data/re_group_file.txt, \\\n",
      "start=96, \\\n",
      "end=1311, \\\n",
      "maxhomop=8, minlength=370)\" > /dev/null"
     ],
     "language": "python",
     "metadata": {},
     "outputs": [],
     "prompt_number": 9
    },
    {
     "cell_type": "code",
     "collapsed": false,
     "input": [
      "%%bash\n",
      "\n",
      "mothur \"#filter.seqs(fasta=data/tmp/maxee1.0.noN.unique.filter.good.fasta, \\\n",
      "processors=10, \\\n",
      "vertical=T)\" > /dev/null"
     ],
     "language": "python",
     "metadata": {},
     "outputs": [],
     "prompt_number": 10
    },
    {
     "cell_type": "code",
     "collapsed": false,
     "input": [
      "%%bash\n",
      "\n",
      "mothur \"#summary.seqs(fasta=data/tmp/maxee1.0.noN.unique.filter.good.filter.fasta, \\\n",
      "name=data/tmp/maxee1.0.noN.good.names)\""
     ],
     "language": "python",
     "metadata": {},
     "outputs": [
      {
       "output_type": "stream",
       "stream": "stdout",
       "text": [
        "\u001b[H\u001b[2J\n",
        "\n",
        "\n",
        "\n",
        "\n",
        "\n",
        "mothur v.1.32.1\n",
        "Last updated: 10/16/2013\n",
        "\n",
        "by\n",
        "Patrick D. Schloss\n",
        "\n",
        "Department of Microbiology & Immunology\n",
        "University of Michigan\n",
        "pschloss@umich.edu\n",
        "http://www.mothur.org\n",
        "\n",
        "When using, please cite:\n",
        "Schloss, P.D., et al., Introducing mothur: Open-source, platform-independent, community-supported software for describing and comparing microbial communities. Appl Environ Microbiol, 2009. 75(23):7537-41.\n",
        "\n",
        "Distributed under the GNU General Public License\n",
        "\n",
        "Type 'help()' for information on the commands that are available\n",
        "\n",
        "Type 'quit()' to exit program\n",
        "\n",
        "\n",
        "\n",
        "mothur > summary.seqs(fasta=data/tmp/maxee1.0.noN.unique.filter.good.filter.fasta, name=data/tmp/maxee1.0.noN.good.names)\n",
        "\n",
        "Using 1 processors.\n",
        "\n",
        "\t\tStart\tEnd\tNBases\tAmbigs\tPolymer\tNumSeqs\n",
        "Minimum:\t1\t1002\t370\t0\t3\t1\n",
        "2.5%-tile:\t52\t1002\t370\t0\t4\t25077\n",
        "25%-tile:\t52\t1002\t373\t0\t5\t250761\n",
        "Median: \t52\t1002\t374\t0\t6\t501522\n",
        "75%-tile:\t52\t1002\t374\t0\t6\t752283\n",
        "97.5%-tile:\t52\t1002\t375\t0\t8\t977967\n",
        "Maximum:\t52\t1058\t420\t0\t8\t1003043\n",
        "Mean:\t51.9994\t1002.01\t373.381\t0\t5.86538\n",
        "# of unique seqs:\t933156\n",
        "total # of seqs:\t1003043\n",
        "\n",
        "Output File Names: \n",
        "data/tmp/maxee1.0.noN.unique.filter.good.filter.summary\n",
        "\n",
        "\n",
        "mothur > quit()\n"
       ]
      }
     ],
     "prompt_number": 11
    },
    {
     "cell_type": "heading",
     "level": 1,
     "metadata": {},
     "source": [
      "Chimera Checking w Uchime (when assigning OTUs- in other notebook)"
     ]
    },
    {
     "cell_type": "heading",
     "level": 4,
     "metadata": {},
     "source": [
      "Expand data, remove gaps, and copy into data directory"
     ]
    },
    {
     "cell_type": "code",
     "collapsed": false,
     "input": [
      "%%bash\n",
      "mothur \"#deunique.seqs(fasta=data/tmp/maxee1.0.noN.unique.filter.good.filter.fasta, \\\n",
      "name=data/tmp/maxee1.0.noN.good.names)\" "
     ],
     "language": "python",
     "metadata": {},
     "outputs": [
      {
       "output_type": "stream",
       "stream": "stdout",
       "text": [
        "\u001b[H\u001b[2J\n",
        "\n",
        "\n",
        "\n",
        "\n",
        "\n",
        "mothur v.1.32.1\n",
        "Last updated: 10/16/2013\n",
        "\n",
        "by\n",
        "Patrick D. Schloss\n",
        "\n",
        "Department of Microbiology & Immunology\n",
        "University of Michigan\n",
        "pschloss@umich.edu\n",
        "http://www.mothur.org\n",
        "\n",
        "When using, please cite:\n",
        "Schloss, P.D., et al., Introducing mothur: Open-source, platform-independent, community-supported software for describing and comparing microbial communities. Appl Environ Microbiol, 2009. 75(23):7537-41.\n",
        "\n",
        "Distributed under the GNU General Public License\n",
        "\n",
        "Type 'help()' for information on the commands that are available\n",
        "\n",
        "Type 'quit()' to exit program\n",
        "\n",
        "\n",
        "\n",
        "mothur > deunique.seqs(fasta=data/tmp/maxee1.0.noN.unique.filter.good.filter.fasta, name=data/tmp/maxee1.0.noN.good.names)\n",
        "\n",
        "Output File Names: \n",
        "data/tmp/maxee1.0.noN.redundant.fasta\n",
        "\n",
        "\n",
        "mothur > quit()\n"
       ]
      }
     ],
     "prompt_number": 12
    },
    {
     "cell_type": "code",
     "collapsed": false,
     "input": [
      "!sed '/>/! s/-//g;/>/! s/\\.//g' data/tmp/maxee1.0.noN.redundant.fasta > data/redo_finalQC_SON.fasta"
     ],
     "language": "python",
     "metadata": {},
     "outputs": [],
     "prompt_number": 15
    },
    {
     "cell_type": "code",
     "collapsed": false,
     "input": [
      "!head data/redo_finalQC_SON.fasta"
     ],
     "language": "python",
     "metadata": {},
     "outputs": [
      {
       "output_type": "stream",
       "stream": "stdout",
       "text": [
        ">S.NTR.1_77\r\n",
        "TACGTAGGTGGCAAGCGTTGTCCGGAATTATTGGGCGTAAAGCGCGCGCAGGTGGTTTCTTAAGTCTGATGTGAAAGCCCACGGCTCAACCGTGGAGGGGCATTGGAAACTGGGGAACTTGAGTGCAGAAGAGGAAAGTGGAATTCCAAGTGTAGCGGTGAAATGCGTAGAGATTTGGAGGAATACCGGTGGCGAAGGCGGCCTTCTGGACCATTCCTGACACTGAGACGCGAAAGCGTGGGTAGCAAACAGGATTAGATACCCTGGTAGTCCACGCTGTAAACGATGGGTACTAGATGTTGTGGGAATTGACCCCCGCAGTGTCGTAGCTAACGCGTTAAGTACCCCGCCTGGGAAGTACGGTCGCAAGATTA\r\n",
        ">N.NTR.4_80\r\n",
        "TACGGGGGGGGCAAGCGTTGTTCGGAATTACTGGGCGTAAAGGGCTCGTAGGCGGCCAACTAAGTCAGACGTGAAATCCCCAGGCTTACCCTGGGAACTGCGTCTGATACTGGATGGCTTGAATTCGGGAGAGGGATGCAGAATTCCAGGTGTAGCGGTGAAATGCGTAGATATCTGGAGGAATACCGGTGGCGAAGGCGGCATCCTGGACCGACATTGACGCTGAGGAGCGAAAGCTAGGGGAGCAAACGGGATTAGATACCCCGGTAGTCCTAGCCCTAAACGATGAATGCTTGGTGTGGCGGGTATCGATCCCTGCCGTGCCGAAGCTAACGCATTAAGCATTCCGCCTGGGGAGTACGGTCGCAAGGCTG\r\n",
        ">O.NTR.4_81\r\n",
        "TACAGAGGGGGCAAGCGTTGTTCGGAATTACTGGGCGTAAAGGGCGCGTAGGCGGCCGCCTAAGTCAGACGTGAAATCCCTCGGCTCAACCGGGGAACTGCGTCTGATACTGGGTGGCTTGAATTCGGGAGAGGACAGTGGAATTCCAAGTGTAGCGGTGAAATGCGTAGATATTGGGAGGAACACCAGTGGCGAAGGCGACTGTCTGGACTGTGTCTGACGCTGAGGCGCGAAAGCGAGGGAAGTGAACGGGATTAGATACCCCGGTAGTCCTGGCCGTAAACGATGGGTACTAGGTGTTGGGGGTATCGACCCCTCCAGTGCCGTAGTTAACGCAATAAGTACCCCGCCTGGGGAGTACGGCCGCAAGGTTG\r\n",
        ">O.NTR.1_84\r\n",
        "GACAGAGGGGGCAAGCGTTGCTCGGAATTACTGGGCGTAAAGGGCGCGTAGGCGGAATGGCAAGTCGGTCGTGAAATCCTTCGGCTCAACCGAAGAACGGCGATCGAAACTGCCGTTCTTGAGGATTGCAGAGGAGACTGGAATTCCCGGTGTAGCGGTGAAATGTGTAGAGATCGGGAGGAACACCGGTGGCGAAGGCGGGTCTCTGGGCAATTCCTGACGCTGAGGCGCGAAAGCGTGGGGAGCAAACGGGATTAGATACCCCGGTAGTCCACGCTGTAAACGATGACGACTAGGTGTGGGGGGGTTCAGTCCCTTCCGTGCCGCAGCTAACGCATTAAGTCGTCCGCCTGGGGAGTACGGCCGCAAGGTTG\r\n",
        ">O.PTH.4_85\r\n",
        "TACAGAGAGTGCGAACGTTGTTCGGAATTACTGGGCGTAAAGGGCGCGTAGGCGGTTGGATAAGTCAGCTGTGAAAACCACGGGCTTAACTCGTGGCCTGCAGTTGAGACTGTCTGGCTTGAGTGTGGGAGAGGAGAGTGGAATTCCTGGTGTAGCGGTGAAATGCGTCGATATTAGGAAGAACACCAGTGGCGAAGGCGGCTCACTGGCGCGGTACTGACGCTGAGGCGCGAAAGCGTGGGGAGCAAACAGGATTAGATACCCTGGTAGTCCACGCCGTAAACGATGGGTACTCGGTGTCGCGGGTATCGACCCCTGCGGTGCCTTAGCTAACGCGTTAAGTACCCCGCCTGGGGAGTACGGTCGCAAGGCTG\r\n"
       ]
      }
     ],
     "prompt_number": 16
    },
    {
     "cell_type": "heading",
     "level": 4,
     "metadata": {},
     "source": [
      "Total Number of QC'd sequences"
     ]
    },
    {
     "cell_type": "code",
     "collapsed": false,
     "input": [
      "!grep -c \">\" data/redo_finalQC_SON.fasta"
     ],
     "language": "python",
     "metadata": {},
     "outputs": [
      {
       "output_type": "stream",
       "stream": "stdout",
       "text": [
        "1003043\r\n"
       ]
      }
     ],
     "prompt_number": 17
    }
   ],
   "metadata": {}
  }
 ]
}