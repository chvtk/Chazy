{
 "cells": [
  {
   "cell_type": "code",
   "execution_count": 3,
   "metadata": {
    "collapsed": false
   },
   "outputs": [],
   "source": [
    "%%bash\n",
    "fastx_quality_stats -i /var/seq_data/rawseqs_Dec2014/Rerun/Rerun_read1.fastq -o /var/seq_data/rawseqs_Dec2014/Rerun/Read1_qualStats -Q 33 "
   ]
  },
  {
   "cell_type": "code",
   "execution_count": 13,
   "metadata": {
    "collapsed": false
   },
   "outputs": [],
   "source": [
    "%%bash\n",
    "fastq_quality_boxplot_graph.sh -i /var/seq_data/rawseqs_Dec2014/Rerun/Read1_qualStats -o /var/seq_data/rawseqs_Dec2014/Rerun/Read1_qualStats_boxplot.png"
   ]
  },
  {
   "cell_type": "code",
   "execution_count": 14,
   "metadata": {
    "collapsed": false
   },
   "outputs": [],
   "source": [
    "%%bash\n",
    "fastx_quality_stats -i /var/seq_data/rawseqs_Dec2014/Rerun/Rerun_read2.fastq -o /var/seq_data/rawseqs_Dec2014/Rerun/Read2_qualStats -Q 33"
   ]
  },
  {
   "cell_type": "code",
   "execution_count": 15,
   "metadata": {
    "collapsed": false
   },
   "outputs": [],
   "source": [
    "%%bash\n",
    "fastq_quality_boxplot_graph.sh -i /var/seq_data/rawseqs_Dec2014/Rerun/Read2_qualStats -o /var/seq_data/rawseqs_Dec2014/Rerun/Read2_qualStats_boxplot.png"
   ]
  },
  {
   "cell_type": "markdown",
   "metadata": {},
   "source": [
    "For previous runs"
   ]
  },
  {
   "cell_type": "code",
   "execution_count": null,
   "metadata": {
    "collapsed": false
   },
   "outputs": [],
   "source": [
    "%%bash\n",
    "fastx_quality_stats -i /var/seq_data/priming_exp/RawData/Seq5/seq5_read1.fastq -o /home/chantal/Chazy/AC_plate5_read1_qual -Q 33"
   ]
  },
  {
   "cell_type": "code",
   "execution_count": 22,
   "metadata": {
    "collapsed": false
   },
   "outputs": [],
   "source": [
    "%%bash\n",
    "fastq_quality_boxplot_graph.sh -i /home/chantal/Chazy/AC_plate5_read1_qual -o /home/chantal/Chazy/AC_plate5_qual_boxplot_read1.png"
   ]
  },
  {
   "cell_type": "code",
   "execution_count": 17,
   "metadata": {
    "collapsed": false
   },
   "outputs": [],
   "source": [
    "%%bash\n",
    "fastx_quality_stats -i /var/seq_data/priming_exp/RawData/Seq5/seq5_read2.fastq -o /home/chantal/Chazy/AC_plate5_qual -Q 33"
   ]
  },
  {
   "cell_type": "code",
   "execution_count": 20,
   "metadata": {
    "collapsed": false
   },
   "outputs": [],
   "source": [
    "%%bash\n",
    "fastq_quality_boxplot_graph.sh -i /home/chantal/Chazy/AC_plate5_qual -o /home/chantal/Chazy/AC_plate5_qual_boxplot_read2.png"
   ]
  },
  {
   "cell_type": "markdown",
   "metadata": {},
   "source": [
    "####for Bulk SIP Chazy seq"
   ]
  },
  {
   "cell_type": "code",
   "execution_count": null,
   "metadata": {
    "collapsed": true
   },
   "outputs": [],
   "source": [
    "%%bash\n",
    "fastx_quality_stats -i /var/seq_data/Chazy/SIP_bulk/ChazySIP_bulk_read1.fastq -o /var/seq_data/Chazy/SIP_bulk/ChazySIP_bulk_read1_qualstats -Q 33 "
   ]
  },
  {
   "cell_type": "code",
   "execution_count": null,
   "metadata": {
    "collapsed": true
   },
   "outputs": [],
   "source": [
    "%%bash\n",
    "fastx_quality_stats -i /var/seq_data/Chazy/SIP_bulk/ChazySIP_bulk_read2.fastq -o /var/seq_data/Chazy/SIP_bulk/ChazySIP_bulk_read2_qualstats -Q 33 "
   ]
  },
  {
   "cell_type": "code",
   "execution_count": null,
   "metadata": {
    "collapsed": true
   },
   "outputs": [],
   "source": [
    "%%bash\n",
    "fastq_quality_boxplot_graph.sh -i /var/seq_data/Chazy/SIP_bulk/ChazySIP_bulk_read1_qualstats -o ~/Chazy/BulkSIP/seq1_boxplot.png"
   ]
  },
  {
   "cell_type": "code",
   "execution_count": null,
   "metadata": {
    "collapsed": true
   },
   "outputs": [],
   "source": [
    "%%bash\n",
    "fastq_quality_boxplot_graph.sh -i /var/seq_data/Chazy/SIP_bulk/ChazySIP_bulk_read2_qualstats -o ~/Chazy/BulkSIP/seq2_boxplot.png"
   ]
  },
  {
   "cell_type": "markdown",
   "metadata": {},
   "source": [
    "####For Bulk SIP Chazy 2 x 250 run"
   ]
  },
  {
   "cell_type": "code",
   "execution_count": 5,
   "metadata": {
    "collapsed": true
   },
   "outputs": [],
   "source": [
    "%%bash\n",
    "fastx_quality_stats -i /var/seq_data/Chazy/SIP_bulk/2_250_Read1.fastq -o /var/seq_data/Chazy/SIP_bulk/2_250_read1_qualstats -Q 33 "
   ]
  },
  {
   "cell_type": "code",
   "execution_count": 6,
   "metadata": {
    "collapsed": true
   },
   "outputs": [],
   "source": [
    "%%bash\n",
    "fastx_quality_stats -i /var/seq_data/Chazy/SIP_bulk/2_250_Read2.fastq -o /var/seq_data/Chazy/SIP_bulk/2_250_read2_qualstats -Q 33 "
   ]
  },
  {
   "cell_type": "code",
   "execution_count": 7,
   "metadata": {
    "collapsed": true
   },
   "outputs": [],
   "source": [
    "%%bash\n",
    "fastq_quality_boxplot_graph.sh -i /var/seq_data/Chazy/SIP_bulk/2_250_read1_qualstats -o ~/Chazy/BulkSIP/2_250_read1_boxplot.png"
   ]
  },
  {
   "cell_type": "code",
   "execution_count": 8,
   "metadata": {
    "collapsed": true
   },
   "outputs": [],
   "source": [
    "%%bash\n",
    "fastq_quality_boxplot_graph.sh -i /var/seq_data/Chazy/SIP_bulk/2_250_read2_qualstats -o ~/Chazy/BulkSIP/2_250_read2_boxplot.png"
   ]
  },
  {
   "cell_type": "markdown",
   "metadata": {},
   "source": [
    "####For Renee's Fungal ITS 2x300 run"
   ]
  },
  {
   "cell_type": "code",
   "execution_count": 1,
   "metadata": {
    "collapsed": true
   },
   "outputs": [],
   "source": [
    "%%bash\n",
    "fastx_quality_stats -i /var/seq_data/HPProject/Fungi/FungalRead1.fastq -o /var/seq_data/HPProject/Fungi/read1_qualstats -Q 33 "
   ]
  },
  {
   "cell_type": "code",
   "execution_count": 2,
   "metadata": {
    "collapsed": true
   },
   "outputs": [],
   "source": [
    "%%bash\n",
    "fastx_quality_stats -i /var/seq_data/HPProject/Fungi/FungalRead2.fastq -o /var/seq_data/HPProject/Fungi/read2_qualstats -Q 33 "
   ]
  },
  {
   "cell_type": "code",
   "execution_count": 3,
   "metadata": {
    "collapsed": true
   },
   "outputs": [],
   "source": [
    "%%bash\n",
    "fastq_quality_boxplot_graph.sh -i /var/seq_data/HPProject/roject/Project/Project/Fungi/read1_qualstats -o ~/Chazy/BulkSIP/Renee-fungal_read1_boxplot.png"
   ]
  },
  {
   "cell_type": "code",
   "execution_count": 4,
   "metadata": {
    "collapsed": true
   },
   "outputs": [],
   "source": [
    "%%bash\n",
    "fastq_quality_boxplot_graph.sh -i /var/seq_data/HPProject/Fungi/read2_qualstats -o ~/Chazy/BulkSIP/Renee-fungal_read2_boxplot.png"
   ]
  },
  {
   "cell_type": "markdown",
   "metadata": {},
   "source": [
    "###First 515_806 Pool (July 2015)"
   ]
  },
  {
   "cell_type": "code",
   "execution_count": 1,
   "metadata": {
    "collapsed": true
   },
   "outputs": [],
   "source": [
    "%%bash\n",
    "fastx_quality_stats -i /var/seq_data/Chazy/515_806_SIP/Pool1/Read1.fastq -o /var/seq_data/Chazy/515_806_SIP/Pool1/qualstatsR1 -Q 33 "
   ]
  },
  {
   "cell_type": "code",
   "execution_count": 2,
   "metadata": {
    "collapsed": true
   },
   "outputs": [],
   "source": [
    "%%bash\n",
    "fastx_quality_stats -i /var/seq_data/Chazy/515_806_SIP/Pool1/Read2.fastq -o /var/seq_data/Chazy/515_806_SIP/Pool1/qualstatsR2 -Q 33 "
   ]
  },
  {
   "cell_type": "code",
   "execution_count": 3,
   "metadata": {
    "collapsed": true
   },
   "outputs": [],
   "source": [
    "%%bash\n",
    "fastq_quality_boxplot_graph.sh -i /var/seq_data/Chazy/515_806_SIP/Pool1/qualstatsR1 -o /home/chantal/Chazy/Chazy_SIP//515_806_Pool1_qualboxplotR1"
   ]
  },
  {
   "cell_type": "code",
   "execution_count": 4,
   "metadata": {
    "collapsed": true
   },
   "outputs": [],
   "source": [
    "%%bash\n",
    "fastq_quality_boxplot_graph.sh -i /var/seq_data/Chazy/515_806_SIP/Pool1/qualstatsR2 -o ~/Chazy/Chazy_SIP/515_806_Pool1_qualboxplotR2"
   ]
  }
 ],
 "metadata": {
  "kernelspec": {
   "display_name": "Python 2",
   "language": "python",
   "name": "python2"
  },
  "language_info": {
   "codemirror_mode": {
    "name": "ipython",
    "version": 2
   },
   "file_extension": ".py",
   "mimetype": "text/x-python",
   "name": "python",
   "nbconvert_exporter": "python",
   "pygments_lexer": "ipython2",
   "version": "2.7.9"
  }
 },
 "nbformat": 4,
 "nbformat_minor": 0
}
