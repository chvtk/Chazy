{
 "metadata": {
  "name": "",
  "signature": "sha256:101217d34de5651410187383f61fd60e8c5209254e0d2706e65e495c12c36f35"
 },
 "nbformat": 3,
 "nbformat_minor": 0,
 "worksheets": [
  {
   "cells": [
    {
     "cell_type": "code",
     "collapsed": false,
     "input": [
      "# Imports a parser from cogent\n",
      "from cogent.parse.fasta import MinimalFastaParser as parse"
     ],
     "language": "python",
     "metadata": {},
     "outputs": [],
     "prompt_number": 1
    },
    {
     "cell_type": "code",
     "collapsed": false,
     "input": [
      "# applies for the whole segment\n",
      "nprocs = 10"
     ],
     "language": "python",
     "metadata": {},
     "outputs": [],
     "prompt_number": 2
    },
    {
     "cell_type": "code",
     "collapsed": false,
     "input": [
      "!cat /home/chantal/Chazy/data/finalQC.fasta /home/chantal/Chazy/SON/data/finalQC_SON.fasta \\\n",
      "/home/chantal/Chazy/SON/data/redo_finalQC_SON.fasta > data/JSON.fasta"
     ],
     "language": "python",
     "metadata": {},
     "outputs": [],
     "prompt_number": 3
    },
    {
     "cell_type": "code",
     "collapsed": false,
     "input": [
      "!grep -c \">\" data/JSON.fasta"
     ],
     "language": "python",
     "metadata": {},
     "outputs": [
      {
       "output_type": "stream",
       "stream": "stdout",
       "text": [
        "7469783\r\n"
       ]
      }
     ],
     "prompt_number": 4
    },
    {
     "cell_type": "code",
     "collapsed": false,
     "input": [
      "# Checking out data file.\n",
      "# This file was created using the QC_basic notebook.\n",
      "!head data/JSON.fasta"
     ],
     "language": "python",
     "metadata": {},
     "outputs": [
      {
       "output_type": "stream",
       "stream": "stdout",
       "text": [
        ">NTH1_23\r\n",
        "TACGAACCGGGCAAACGTTATTCGGAATTACTGGGCTTAAAGGGTGCGTAGGCTGCGCTATAAGTCGGGTGTGAAATCCCTCAGCTCAACTGAGGAACTGCGCCCGATACTGTAGTGCTTGAGGAGGATAGAGGTGAGCGGAACTAGCAGTGGAGCGGTGAAATGCGTTGATATTGCTGGGAACACCCGTGGCGAAAGCGGCTCACTGGGTCCTTTCTGACGCTGAGGCACGAAAGCTAGGGGAGCAAACAGGATTAGATACCCTGGTAGTCCTAGCCCTAAACGATCAGGACTTGACGTGGGCCCCGTCCGGGGTCCGTGCCGTAGCCAACGTGATAAGTCCTGCGCCTGGGGAGTACGGTCGCAAGGCTG\r\n",
        ">NTR1_26\r\n",
        "TACAGAGGTGGCAAGCGTTGTTCGGAATTACTGGGCGTAAAGGGCGCGTAGGCGGCCATCTAAGTCAGACGTGAAATCCCCCGGCTCAACCTGGGAACTGCGTCTGATACTGGACGGCTTGAGTTTGGGAGAGGGATGTAGAATTCCAGGTGTAGCGGTGAAATGCGTAGATATCTGGAGGAATACCGGTGGCGAAGGCGGCATCCTGGACCAATACTGACGCTGGGGCGCGAAAGCTAGGGGAGCAAACGGGATTAGATACCCTGGTAGTCCACGCCCTAAACGATGGATACTCGACATCAGCGATACACTGTTGGTGTCTGAGCGAAAGCATTAAGTATCCCGCCTGGGAAGTACGATCGCAAGATTA\r\n",
        ">NTH3_27\r\n",
        "TACAGAGGTGGCAAGCGTTGTTCGGAATTACTGGGCGTAAAGGGCGCGTAGGCGGCCATCTAAGTCAGACGTGAAATCCCCCGGCTTAACCTGGGAACTGCGTCTGATACTGGAAGGCTTGAGTATGGGAGAGGGATGTAGAATTCCAGGTGTAGCGGTGAAATGCGTAGATATCTGGAGGAATACCGGTGGCGAAGGCGGCATCCTGGACCATTACTGACGCTGAGGCGCGAAAGCTAGGGGAGCAAACGGGATTAGATACCCCGGTAGTCCTAGCCCTAAACGATGGGTACTAGGTAGTAGACTAGACATGGGTTTACTGCCGAAGCTAAAGTGCTAAGTACCCCGCCTGGGGAGTACGGCCGCAAGGTTG\r\n",
        ">TWE4_29\r\n",
        "TACGGGGGGAGCAAGCGTTGTTCGGATTTACTGGGCTTAAAGGGCGCGTAGGCGGGCTGCCGCGTCCGGGGTGAAATCCCACGGCTCAACCGTGGAACGGCCCCGGGTACGGGCGGCCTCGAGGGGGGTAGGGGCGTGCGGAACTGTGGGTGGAGCGGTGGAATGCGTTGATATCCACAGGAACTCCGGTGGCGAAGGCGGCACGCTGGACCCTCTCTGACGCTGAGGCGCGAAAGCCAGGGGAGCGAACGGGATTAGATACCCCGGTAGTCCTAGCCCTAAACGATGGGTACTAGATTGTAGACGTACATGGGTTTACAGTCGAAGCAAAAGTGATAAGTACCCCGCCTGGGGAGTATGGTCGCAAGGCTG\r\n",
        ">NTR3_30\r\n",
        "TACGTAGGTGGCAAGCGTTGTCCGGAATTATTGGGCGTAAAGGGCTCGCAGGCGGTTTCTTAAGTCTGATGTGAAAGCCCCCGGCTCAACCGGGGAAGGTCATTGGAAACTGGGGAACTTGAGTGCAGAAGAGGAGAGTGGAATTCCACGTGTAGCGGTGAAATGCGTAGAGATGTGGAGGAACACCAGTGGCGAAGGCGACTCTCTGGTCTGTAACTGACGCTGAGGAGCGAAAGCGTGGGGAGCGAACAGGATTAGATACCCTGGTAGTCCACGCCGTAAACGATGAGTGCTAAGTGTTAGGGGGTTTCCGCCCCTTAGTGCTGCAGCTAACGCATTAAGCACTCCGCCTGGGGAGTACGGTCGCAAGACTG\r\n"
       ]
      }
     ],
     "prompt_number": 5
    },
    {
     "cell_type": "code",
     "collapsed": false,
     "input": [
      "%%bash\n",
      "# Running the seq separation on mothur instead\n",
      "\n",
      "mothur \"#unique.seqs(fasta=data/JSON.fasta)\" > /dev/null"
     ],
     "language": "python",
     "metadata": {},
     "outputs": [],
     "prompt_number": 9
    },
    {
     "cell_type": "code",
     "collapsed": false,
     "input": [
      "# Making a dictionary of the names files, splitting it into the first (ID) and second (commas list of all seqs in it)\n",
      "# Then it counts their lengths and saves it in the dictionary\n",
      "\n",
      "counts = {}\n",
      "\n",
      "with open(\"data/JSON.names\") as f:\n",
      "    for line in f:\n",
      "        seedID, seqIDs = line.split(\"\\t\")\n",
      "        count = len(seqIDs.split(\",\"))\n",
      "        counts[seedID] = count        "
     ],
     "language": "python",
     "metadata": {},
     "outputs": [],
     "prompt_number": 11
    },
    {
     "cell_type": "code",
     "collapsed": false,
     "input": [
      "# Adds the counts from this dictionary to our finalQC.unique file so it looks like a usearch file with \"size=XXX\"\n",
      "\n",
      "with open(\"data/JSON.fasta.unique.usearch_names.fasta\", \"w\") as f:\n",
      "    for n, s in parse(open(\"data/JSON.unique.fasta\")):\n",
      "        f.write(\">%s;size=%s;\\n%s\\n\"%(n,counts[n],s))  "
     ],
     "language": "python",
     "metadata": {},
     "outputs": [],
     "prompt_number": 12
    },
    {
     "cell_type": "code",
     "collapsed": false,
     "input": [
      "!head data/JSON.fasta.unique.usearch_names.fasta"
     ],
     "language": "python",
     "metadata": {},
     "outputs": [
      {
       "output_type": "stream",
       "stream": "stdout",
       "text": [
        ">NTH1_23;size=1;\r\n",
        "TACGAACCGGGCAAACGTTATTCGGAATTACTGGGCTTAAAGGGTGCGTAGGCTGCGCTATAAGTCGGGTGTGAAATCCCTCAGCTCAACTGAGGAACTGCGCCCGATACTGTAGTGCTTGAGGAGGATAGAGGTGAGCGGAACTAGCAGTGGAGCGGTGAAATGCGTTGATATTGCTGGGAACACCCGTGGCGAAAGCGGCTCACTGGGTCCTTTCTGACGCTGAGGCACGAAAGCTAGGGGAGCAAACAGGATTAGATACCCTGGTAGTCCTAGCCCTAAACGATCAGGACTTGACGTGGGCCCCGTCCGGGGTCCGTGCCGTAGCCAACGTGATAAGTCCTGCGCCTGGGGAGTACGGTCGCAAGGCTG\r\n",
        ">NTR1_26;size=1;\r\n",
        "TACAGAGGTGGCAAGCGTTGTTCGGAATTACTGGGCGTAAAGGGCGCGTAGGCGGCCATCTAAGTCAGACGTGAAATCCCCCGGCTCAACCTGGGAACTGCGTCTGATACTGGACGGCTTGAGTTTGGGAGAGGGATGTAGAATTCCAGGTGTAGCGGTGAAATGCGTAGATATCTGGAGGAATACCGGTGGCGAAGGCGGCATCCTGGACCAATACTGACGCTGGGGCGCGAAAGCTAGGGGAGCAAACGGGATTAGATACCCTGGTAGTCCACGCCCTAAACGATGGATACTCGACATCAGCGATACACTGTTGGTGTCTGAGCGAAAGCATTAAGTATCCCGCCTGGGAAGTACGATCGCAAGATTA\r\n",
        ">NTH3_27;size=1;\r\n",
        "TACAGAGGTGGCAAGCGTTGTTCGGAATTACTGGGCGTAAAGGGCGCGTAGGCGGCCATCTAAGTCAGACGTGAAATCCCCCGGCTTAACCTGGGAACTGCGTCTGATACTGGAAGGCTTGAGTATGGGAGAGGGATGTAGAATTCCAGGTGTAGCGGTGAAATGCGTAGATATCTGGAGGAATACCGGTGGCGAAGGCGGCATCCTGGACCATTACTGACGCTGAGGCGCGAAAGCTAGGGGAGCAAACGGGATTAGATACCCCGGTAGTCCTAGCCCTAAACGATGGGTACTAGGTAGTAGACTAGACATGGGTTTACTGCCGAAGCTAAAGTGCTAAGTACCCCGCCTGGGGAGTACGGCCGCAAGGTTG\r\n",
        ">TWE4_29;size=1;\r\n",
        "TACGGGGGGAGCAAGCGTTGTTCGGATTTACTGGGCTTAAAGGGCGCGTAGGCGGGCTGCCGCGTCCGGGGTGAAATCCCACGGCTCAACCGTGGAACGGCCCCGGGTACGGGCGGCCTCGAGGGGGGTAGGGGCGTGCGGAACTGTGGGTGGAGCGGTGGAATGCGTTGATATCCACAGGAACTCCGGTGGCGAAGGCGGCACGCTGGACCCTCTCTGACGCTGAGGCGCGAAAGCCAGGGGAGCGAACGGGATTAGATACCCCGGTAGTCCTAGCCCTAAACGATGGGTACTAGATTGTAGACGTACATGGGTTTACAGTCGAAGCAAAAGTGATAAGTACCCCGCCTGGGGAGTATGGTCGCAAGGCTG\r\n",
        ">NTR3_30;size=5;\r\n",
        "TACGTAGGTGGCAAGCGTTGTCCGGAATTATTGGGCGTAAAGGGCTCGCAGGCGGTTTCTTAAGTCTGATGTGAAAGCCCCCGGCTCAACCGGGGAAGGTCATTGGAAACTGGGGAACTTGAGTGCAGAAGAGGAGAGTGGAATTCCACGTGTAGCGGTGAAATGCGTAGAGATGTGGAGGAACACCAGTGGCGAAGGCGACTCTCTGGTCTGTAACTGACGCTGAGGAGCGAAAGCGTGGGGAGCGAACAGGATTAGATACCCTGGTAGTCCACGCCGTAAACGATGAGTGCTAAGTGTTAGGGGGTTTCCGCCCCTTAGTGCTGCAGCTAACGCATTAAGCACTCCGCCTGGGGAGTACGGTCGCAAGACTG\r\n"
       ]
      }
     ],
     "prompt_number": 16
    },
    {
     "cell_type": "code",
     "collapsed": false,
     "input": [
      "# Chuck looking to see how many Gb this file is.\n",
      "!du -h data/JSON.fasta"
     ],
     "language": "python",
     "metadata": {},
     "outputs": [
      {
       "output_type": "stream",
       "stream": "stdout",
       "text": [
        "2.8G\tdata/JSON.fasta\r\n"
       ]
      }
     ],
     "prompt_number": 17
    },
    {
     "cell_type": "code",
     "collapsed": false,
     "input": [
      "# Sequences are sorted by size\n",
      "# Here the size of clusters - we are excluding the singletons here\n",
      "# You would change minsize to 1 if you wanted to include singletons\n",
      "# Or, you know, just not do this step.\n",
      "# But you should just get rid of them.\n",
      "!usearch -sortbysize data/JSON.fasta.unique.usearch_names.fasta -output data/JSON.unique_sorted.fasta -minsize 2"
     ],
     "language": "python",
     "metadata": {},
     "outputs": [
      {
       "output_type": "stream",
       "stream": "stdout",
       "text": [
        "usearch v7.0.1090_i86linux32, 4.0Gb RAM (132Gb total), 40 cores\r\n",
        "(C) Copyright 2013 Robert C. Edgar, all rights reserved.\r\n",
        "http://drive5.com/usearch\r\n",
        "\r\n",
        "Licensed to: chuck.peperanney@gmail.com\r\n",
        "\r\n"
       ]
      },
      {
       "output_type": "stream",
       "stream": "stdout",
       "text": [
        "00:00  19Mb    0.1% Reading data/JSON.fasta.unique.usearch_names.fasta\r"
       ]
      },
      {
       "output_type": "stream",
       "stream": "stdout",
       "text": [
        "00:01 251Mb    9.6% Reading data/JSON.fasta.unique.usearch_names.fasta\r"
       ]
      },
      {
       "output_type": "stream",
       "stream": "stdout",
       "text": [
        "00:02 558Mb   22.2% Reading data/JSON.fasta.unique.usearch_names.fasta\r"
       ]
      },
      {
       "output_type": "stream",
       "stream": "stdout",
       "text": [
        "00:03 864Mb   34.6% Reading data/JSON.fasta.unique.usearch_names.fasta\r"
       ]
      },
      {
       "output_type": "stream",
       "stream": "stdout",
       "text": [
        "00:04 1.2Gb   46.7% Reading data/JSON.fasta.unique.usearch_names.fasta\r"
       ]
      },
      {
       "output_type": "stream",
       "stream": "stdout",
       "text": [
        "00:05 1.5Gb   58.8% Reading data/JSON.fasta.unique.usearch_names.fasta\r"
       ]
      },
      {
       "output_type": "stream",
       "stream": "stdout",
       "text": [
        "00:06 1.7Gb   70.5% Reading data/JSON.fasta.unique.usearch_names.fasta\r"
       ]
      },
      {
       "output_type": "stream",
       "stream": "stdout",
       "text": [
        "00:07 2.0Gb   82.2% Reading data/JSON.fasta.unique.usearch_names.fasta\r"
       ]
      },
      {
       "output_type": "stream",
       "stream": "stdout",
       "text": [
        "00:08 2.3Gb   94.5% Reading data/JSON.fasta.unique.usearch_names.fasta\r"
       ]
      },
      {
       "output_type": "stream",
       "stream": "stdout",
       "text": [
        "00:08 2.5Gb  100.0% Reading data/JSON.fasta.unique.usearch_names.fasta\r",
        "\r\n",
        "00:08 2.4Gb Getting sizes                                             \r\n"
       ]
      },
      {
       "output_type": "stream",
       "stream": "stdout",
       "text": [
        "00:14 2.5Gb Sorting 317397 sequences\r\n"
       ]
      },
      {
       "output_type": "stream",
       "stream": "stdout",
       "text": [
        "00:14 2.5Gb    0.0% Writing data/JSON.unique_sorted.fasta\r"
       ]
      },
      {
       "output_type": "stream",
       "stream": "stdout",
       "text": [
        "00:15 2.5Gb   64.8% Writing data/JSON.unique_sorted.fasta\r"
       ]
      },
      {
       "output_type": "stream",
       "stream": "stdout",
       "text": [
        "00:15 2.5Gb  100.0% Writing data/JSON.unique_sorted.fasta\r",
        "\r\n"
       ]
      }
     ],
     "prompt_number": 18
    },
    {
     "cell_type": "code",
     "collapsed": false,
     "input": [
      "# Checking data\n",
      "# You can see here, the first two sequences we saw above are now gone.\n",
      "!head data/JSON.unique_sorted.fasta"
     ],
     "language": "python",
     "metadata": {},
     "outputs": [
      {
       "output_type": "stream",
       "stream": "stdout",
       "text": [
        ">PAS1_1711;size=7634;\r\n",
        "TACGAAGGTGGCAAGCGTTGTTCGGATTTACTGGGCGTACAGGGAGCGTAGGCGGTTGGATAAGCCCTCCGTGAAATCTC\r\n",
        "CAGGCTTAACCTGGAAAGTGCAGAGGGGACTGTTCAGCTAGAGGATGGGAGAGGAGCGCGGAATTCCCGGTGTAGCGGTG\r\n",
        "AAATGCGTAGAGATCGGGAGGAAGGCCGGTGGCGAAGGCGGCGCTCTGGAACATTTCTGACGCTGAGGCTCGAAAGCGTG\r\n",
        "GGGAGCAAACAGGATTAGATACCCTGGTAGTCCACGCCTTAAACGATGGATACTAAGTGTCGGCGGGTTACCGCCGGTGC\r\n",
        "CGCAGCTAACGCAGTAAGTATCCCGCCTGGGAAGTACGGCCGCAAGGTTG\r\n",
        ">CON1_2518;size=5418;\r\n",
        "TACGGAGGGGACTAGCGTTGTTCGGAATTACTGGGCGTAAAGCGCACGTAGGCGGATTTGTAAGTCAGGGGTGAAATCCC\r\n",
        "GGGGCTCAACCTCGGAACTGCCTTTGATACTGCAAATCTCGAGTCCGGAAGAGGTGAGTGGAATTCCTAGTGTAGAGGTG\r\n",
        "AAATTCGTAGATATTAGGAAGAACACCAGTGGCGAAGGCGGCTCACTGGTCCGGTACTGACGCTGAGGTGCGAAAGCGTG\r\n"
       ]
      }
     ],
     "prompt_number": 19
    },
    {
     "cell_type": "code",
     "collapsed": false,
     "input": [
      "# This is the clustering command.\n",
      "# Default is 97% minimum ID.\n",
      "# Not recommended to use more than 97%.\n",
      "# Creates the centroids, or \"seeds\"\n",
      "# Then you can take them out\n",
      "!usearch -cluster_otus data/JSON.unique_sorted.fasta -otus data/otus_JSON.fasta"
     ],
     "language": "python",
     "metadata": {},
     "outputs": [
      {
       "output_type": "stream",
       "stream": "stdout",
       "text": [
        "usearch v7.0.1090_i86linux32, 4.0Gb RAM (132Gb total), 40 cores\r\n",
        "(C) Copyright 2013 Robert C. Edgar, all rights reserved.\r\n",
        "http://drive5.com/usearch\r\n",
        "\r\n",
        "Licensed to: chuck.peperanney@gmail.com\r\n",
        "\r\n",
        "00:00  21Mb    0.1% 0 OTUs\r"
       ]
      },
      {
       "output_type": "stream",
       "stream": "stdout",
       "text": [
        "00:01  30Mb    0.2% 25 OTUs\r"
       ]
      },
      {
       "output_type": "stream",
       "stream": "stdout",
       "text": [
        "00:02  34Mb    0.6% 440 OTUs\r"
       ]
      },
      {
       "output_type": "stream",
       "stream": "stdout",
       "text": [
        "00:03  37Mb    2.1% 1316 OTUs\r"
       ]
      },
      {
       "output_type": "stream",
       "stream": "stdout",
       "text": [
        "00:04  40Mb    3.3% 1880 OTUs\r"
       ]
      },
      {
       "output_type": "stream",
       "stream": "stdout",
       "text": [
        "00:05  42Mb    4.5% 2259 OTUs\r"
       ]
      },
      {
       "output_type": "stream",
       "stream": "stdout",
       "text": [
        "00:06  44Mb    5.6% 2603 OTUs\r"
       ]
      },
      {
       "output_type": "stream",
       "stream": "stdout",
       "text": [
        "00:07  46Mb    6.7% 2884 OTUs\r"
       ]
      },
      {
       "output_type": "stream",
       "stream": "stdout",
       "text": [
        "00:08  47Mb    7.8% 3115 OTUs\r"
       ]
      },
      {
       "output_type": "stream",
       "stream": "stdout",
       "text": [
        "00:09  48Mb    8.9% 3330 OTUs\r"
       ]
      },
      {
       "output_type": "stream",
       "stream": "stdout",
       "text": [
        "00:10  50Mb    9.9% 3508 OTUs\r"
       ]
      },
      {
       "output_type": "stream",
       "stream": "stdout",
       "text": [
        "00:11  51Mb   10.8% 3668 OTUs\r"
       ]
      },
      {
       "output_type": "stream",
       "stream": "stdout",
       "text": [
        "00:12  53Mb   11.8% 3822 OTUs\r"
       ]
      },
      {
       "output_type": "stream",
       "stream": "stdout",
       "text": [
        "00:13  54Mb   12.8% 3971 OTUs\r"
       ]
      },
      {
       "output_type": "stream",
       "stream": "stdout",
       "text": [
        "00:14  55Mb   13.7% 4104 OTUs\r"
       ]
      },
      {
       "output_type": "stream",
       "stream": "stdout",
       "text": [
        "00:15  56Mb   14.6% 4240 OTUs\r"
       ]
      },
      {
       "output_type": "stream",
       "stream": "stdout",
       "text": [
        "00:16  57Mb   15.5% 4374 OTUs\r"
       ]
      },
      {
       "output_type": "stream",
       "stream": "stdout",
       "text": [
        "00:17  58Mb   16.4% 4486 OTUs\r"
       ]
      },
      {
       "output_type": "stream",
       "stream": "stdout",
       "text": [
        "00:18  59Mb   17.2% 4600 OTUs\r"
       ]
      },
      {
       "output_type": "stream",
       "stream": "stdout",
       "text": [
        "00:19  60Mb   18.0% 4720 OTUs\r"
       ]
      },
      {
       "output_type": "stream",
       "stream": "stdout",
       "text": [
        "00:20  62Mb   18.8% 4818 OTUs\r"
       ]
      },
      {
       "output_type": "stream",
       "stream": "stdout",
       "text": [
        "00:21  63Mb   19.6% 4908 OTUs\r"
       ]
      },
      {
       "output_type": "stream",
       "stream": "stdout",
       "text": [
        "00:22  64Mb   20.5% 4991 OTUs\r"
       ]
      },
      {
       "output_type": "stream",
       "stream": "stdout",
       "text": [
        "00:23  65Mb   21.3% 5079 OTUs\r"
       ]
      },
      {
       "output_type": "stream",
       "stream": "stdout",
       "text": [
        "00:24  66Mb   22.1% 5160 OTUs\r"
       ]
      },
      {
       "output_type": "stream",
       "stream": "stdout",
       "text": [
        "00:25  67Mb   22.9% 5235 OTUs\r"
       ]
      },
      {
       "output_type": "stream",
       "stream": "stdout",
       "text": [
        "00:26  68Mb   23.6% 5306 OTUs\r"
       ]
      },
      {
       "output_type": "stream",
       "stream": "stdout",
       "text": [
        "00:27  69Mb   24.4% 5377 OTUs\r"
       ]
      },
      {
       "output_type": "stream",
       "stream": "stdout",
       "text": [
        "00:28  70Mb   25.1% 5448 OTUs\r"
       ]
      },
      {
       "output_type": "stream",
       "stream": "stdout",
       "text": [
        "00:29  71Mb   25.8% 5533 OTUs\r"
       ]
      },
      {
       "output_type": "stream",
       "stream": "stdout",
       "text": [
        "00:30  72Mb   26.5% 5611 OTUs\r"
       ]
      },
      {
       "output_type": "stream",
       "stream": "stdout",
       "text": [
        "00:31  73Mb   27.1% 5688 OTUs\r"
       ]
      },
      {
       "output_type": "stream",
       "stream": "stdout",
       "text": [
        "00:32  74Mb   27.7% 5779 OTUs\r"
       ]
      },
      {
       "output_type": "stream",
       "stream": "stdout",
       "text": [
        "00:33  74Mb   28.4% 5834 OTUs\r"
       ]
      },
      {
       "output_type": "stream",
       "stream": "stdout",
       "text": [
        "00:34  75Mb   29.0% 5894 OTUs\r"
       ]
      },
      {
       "output_type": "stream",
       "stream": "stdout",
       "text": [
        "00:35  76Mb   29.6% 5972 OTUs\r"
       ]
      },
      {
       "output_type": "stream",
       "stream": "stdout",
       "text": [
        "00:36  77Mb   30.3% 6045 OTUs\r"
       ]
      },
      {
       "output_type": "stream",
       "stream": "stdout",
       "text": [
        "00:37  78Mb   30.9% 6097 OTUs\r"
       ]
      },
      {
       "output_type": "stream",
       "stream": "stdout",
       "text": [
        "00:38  79Mb   31.5% 6157 OTUs\r"
       ]
      },
      {
       "output_type": "stream",
       "stream": "stdout",
       "text": [
        "00:39  80Mb   32.1% 6217 OTUs\r"
       ]
      },
      {
       "output_type": "stream",
       "stream": "stdout",
       "text": [
        "00:40  81Mb   32.7% 6272 OTUs\r"
       ]
      },
      {
       "output_type": "stream",
       "stream": "stdout",
       "text": [
        "00:41  82Mb   33.3% 6338 OTUs\r"
       ]
      },
      {
       "output_type": "stream",
       "stream": "stdout",
       "text": [
        "00:42  82Mb   33.9% 6390 OTUs\r"
       ]
      },
      {
       "output_type": "stream",
       "stream": "stdout",
       "text": [
        "00:43  83Mb   34.5% 6437 OTUs\r"
       ]
      },
      {
       "output_type": "stream",
       "stream": "stdout",
       "text": [
        "00:44  84Mb   35.1% 6517 OTUs\r"
       ]
      },
      {
       "output_type": "stream",
       "stream": "stdout",
       "text": [
        "00:45  85Mb   35.6% 6614 OTUs\r"
       ]
      },
      {
       "output_type": "stream",
       "stream": "stdout",
       "text": [
        "00:46  86Mb   36.1% 6710 OTUs\r"
       ]
      },
      {
       "output_type": "stream",
       "stream": "stdout",
       "text": [
        "00:47  87Mb   36.6% 6805 OTUs\r"
       ]
      },
      {
       "output_type": "stream",
       "stream": "stdout",
       "text": [
        "00:48  88Mb   37.1% 6879 OTUs\r"
       ]
      },
      {
       "output_type": "stream",
       "stream": "stdout",
       "text": [
        "00:49  89Mb   37.5% 6959 OTUs\r"
       ]
      },
      {
       "output_type": "stream",
       "stream": "stdout",
       "text": [
        "00:50  90Mb   38.0% 7042 OTUs\r"
       ]
      },
      {
       "output_type": "stream",
       "stream": "stdout",
       "text": [
        "00:51  91Mb   38.4% 7121 OTUs\r"
       ]
      },
      {
       "output_type": "stream",
       "stream": "stdout",
       "text": [
        "00:52  92Mb   38.9% 7192 OTUs\r"
       ]
      },
      {
       "output_type": "stream",
       "stream": "stdout",
       "text": [
        "00:53  93Mb   39.3% 7264 OTUs\r"
       ]
      },
      {
       "output_type": "stream",
       "stream": "stdout",
       "text": [
        "00:54  94Mb   39.7% 7337 OTUs\r"
       ]
      },
      {
       "output_type": "stream",
       "stream": "stdout",
       "text": [
        "00:55  95Mb   40.1% 7400 OTUs\r"
       ]
      },
      {
       "output_type": "stream",
       "stream": "stdout",
       "text": [
        "00:56  95Mb   40.5% 7444 OTUs\r"
       ]
      },
      {
       "output_type": "stream",
       "stream": "stdout",
       "text": [
        "00:57  96Mb   40.9% 7503 OTUs\r"
       ]
      },
      {
       "output_type": "stream",
       "stream": "stdout",
       "text": [
        "00:58  97Mb   41.4% 7557 OTUs\r"
       ]
      },
      {
       "output_type": "stream",
       "stream": "stdout",
       "text": [
        "00:59  98Mb   41.8% 7629 OTUs\r"
       ]
      },
      {
       "output_type": "stream",
       "stream": "stdout",
       "text": [
        "01:00  99Mb   42.2% 7688 OTUs\r"
       ]
      },
      {
       "output_type": "stream",
       "stream": "stdout",
       "text": [
        "01:01 100Mb   42.5% 7747 OTUs\r"
       ]
      },
      {
       "output_type": "stream",
       "stream": "stdout",
       "text": [
        "01:02 101Mb   42.9% 7805 OTUs\r"
       ]
      },
      {
       "output_type": "stream",
       "stream": "stdout",
       "text": [
        "01:03 102Mb   43.3% 7866 OTUs\r"
       ]
      },
      {
       "output_type": "stream",
       "stream": "stdout",
       "text": [
        "01:04 102Mb   43.7% 7916 OTUs\r"
       ]
      },
      {
       "output_type": "stream",
       "stream": "stdout",
       "text": [
        "01:05 103Mb   44.1% 7966 OTUs\r"
       ]
      },
      {
       "output_type": "stream",
       "stream": "stdout",
       "text": [
        "01:06 104Mb   44.4% 8016 OTUs\r"
       ]
      },
      {
       "output_type": "stream",
       "stream": "stdout",
       "text": [
        "01:07 105Mb   44.8% 8068 OTUs\r"
       ]
      },
      {
       "output_type": "stream",
       "stream": "stdout",
       "text": [
        "01:08 106Mb   45.2% 8102 OTUs\r"
       ]
      },
      {
       "output_type": "stream",
       "stream": "stdout",
       "text": [
        "01:09 106Mb   45.6% 8152 OTUs\r"
       ]
      },
      {
       "output_type": "stream",
       "stream": "stdout",
       "text": [
        "01:10 107Mb   45.9% 8207 OTUs\r"
       ]
      },
      {
       "output_type": "stream",
       "stream": "stdout",
       "text": [
        "01:11 108Mb   46.3% 8274 OTUs\r"
       ]
      },
      {
       "output_type": "stream",
       "stream": "stdout",
       "text": [
        "01:12 109Mb   46.6% 8337 OTUs\r"
       ]
      },
      {
       "output_type": "stream",
       "stream": "stdout",
       "text": [
        "01:13 110Mb   47.0% 8413 OTUs\r"
       ]
      },
      {
       "output_type": "stream",
       "stream": "stdout",
       "text": [
        "01:14 111Mb   47.4% 8432 OTUs\r"
       ]
      },
      {
       "output_type": "stream",
       "stream": "stdout",
       "text": [
        "01:15 111Mb   47.8% 8460 OTUs\r"
       ]
      },
      {
       "output_type": "stream",
       "stream": "stdout",
       "text": [
        "01:16 112Mb   48.2% 8467 OTUs\r"
       ]
      },
      {
       "output_type": "stream",
       "stream": "stdout",
       "text": [
        "01:17 113Mb   48.5% 8542 OTUs\r"
       ]
      },
      {
       "output_type": "stream",
       "stream": "stdout",
       "text": [
        "01:18 114Mb   48.9% 8626 OTUs\r"
       ]
      },
      {
       "output_type": "stream",
       "stream": "stdout",
       "text": [
        "01:19 115Mb   49.2% 8694 OTUs\r"
       ]
      },
      {
       "output_type": "stream",
       "stream": "stdout",
       "text": [
        "01:20 116Mb   49.5% 8753 OTUs\r"
       ]
      },
      {
       "output_type": "stream",
       "stream": "stdout",
       "text": [
        "01:21 116Mb   49.9% 8815 OTUs\r"
       ]
      },
      {
       "output_type": "stream",
       "stream": "stdout",
       "text": [
        "01:22 118Mb   50.1% 8901 OTUs\r"
       ]
      },
      {
       "output_type": "stream",
       "stream": "stdout",
       "text": [
        "01:23 118Mb   50.4% 8957 OTUs\r"
       ]
      },
      {
       "output_type": "stream",
       "stream": "stdout",
       "text": [
        "01:24 119Mb   50.7% 8974 OTUs\r"
       ]
      },
      {
       "output_type": "stream",
       "stream": "stdout",
       "text": [
        "01:25 120Mb   51.0% 8985 OTUs\r"
       ]
      },
      {
       "output_type": "stream",
       "stream": "stdout",
       "text": [
        "01:26 120Mb   51.3% 9013 OTUs\r"
       ]
      },
      {
       "output_type": "stream",
       "stream": "stdout",
       "text": [
        "01:27 121Mb   51.6% 9018 OTUs\r"
       ]
      },
      {
       "output_type": "stream",
       "stream": "stdout",
       "text": [
        "01:28 122Mb   51.9% 9043 OTUs\r"
       ]
      },
      {
       "output_type": "stream",
       "stream": "stdout",
       "text": [
        "01:29 123Mb   52.2% 9072 OTUs\r"
       ]
      },
      {
       "output_type": "stream",
       "stream": "stdout",
       "text": [
        "01:30 124Mb   52.5% 9085 OTUs\r"
       ]
      },
      {
       "output_type": "stream",
       "stream": "stdout",
       "text": [
        "01:31 124Mb   52.9% 9114 OTUs\r"
       ]
      },
      {
       "output_type": "stream",
       "stream": "stdout",
       "text": [
        "01:32 125Mb   53.2% 9155 OTUs\r"
       ]
      },
      {
       "output_type": "stream",
       "stream": "stdout",
       "text": [
        "01:33 126Mb   53.6% 9188 OTUs\r"
       ]
      },
      {
       "output_type": "stream",
       "stream": "stdout",
       "text": [
        "01:34 126Mb   53.9% 9223 OTUs\r"
       ]
      },
      {
       "output_type": "stream",
       "stream": "stdout",
       "text": [
        "01:35 127Mb   54.3% 9260 OTUs\r"
       ]
      },
      {
       "output_type": "stream",
       "stream": "stdout",
       "text": [
        "01:36 128Mb   54.6% 9303 OTUs\r"
       ]
      },
      {
       "output_type": "stream",
       "stream": "stdout",
       "text": [
        "01:37 129Mb   54.9% 9322 OTUs\r"
       ]
      },
      {
       "output_type": "stream",
       "stream": "stdout",
       "text": [
        "01:38 130Mb   55.3% 9364 OTUs\r"
       ]
      },
      {
       "output_type": "stream",
       "stream": "stdout",
       "text": [
        "01:39 130Mb   55.6% 9412 OTUs\r"
       ]
      },
      {
       "output_type": "stream",
       "stream": "stdout",
       "text": [
        "01:40 131Mb   55.9% 9466 OTUs\r"
       ]
      },
      {
       "output_type": "stream",
       "stream": "stdout",
       "text": [
        "01:41 132Mb   56.2% 9506 OTUs\r"
       ]
      },
      {
       "output_type": "stream",
       "stream": "stdout",
       "text": [
        "01:42 133Mb   56.5% 9553 OTUs\r"
       ]
      },
      {
       "output_type": "stream",
       "stream": "stdout",
       "text": [
        "01:43 133Mb   56.8% 9618 OTUs\r"
       ]
      },
      {
       "output_type": "stream",
       "stream": "stdout",
       "text": [
        "01:44 134Mb   57.1% 9662 OTUs\r"
       ]
      },
      {
       "output_type": "stream",
       "stream": "stdout",
       "text": [
        "01:45 135Mb   57.4% 9706 OTUs\r"
       ]
      },
      {
       "output_type": "stream",
       "stream": "stdout",
       "text": [
        "01:46 136Mb   57.7% 9747 OTUs\r"
       ]
      },
      {
       "output_type": "stream",
       "stream": "stdout",
       "text": [
        "01:47 137Mb   58.0% 9813 OTUs\r"
       ]
      },
      {
       "output_type": "stream",
       "stream": "stdout",
       "text": [
        "01:48 138Mb   58.3% 9853 OTUs\r"
       ]
      },
      {
       "output_type": "stream",
       "stream": "stdout",
       "text": [
        "01:49 139Mb   58.5% 9895 OTUs\r"
       ]
      },
      {
       "output_type": "stream",
       "stream": "stdout",
       "text": [
        "01:50 139Mb   58.8% 9936 OTUs\r"
       ]
      },
      {
       "output_type": "stream",
       "stream": "stdout",
       "text": [
        "01:51 140Mb   59.1% 9985 OTUs\r"
       ]
      },
      {
       "output_type": "stream",
       "stream": "stdout",
       "text": [
        "01:52 141Mb   59.4% 10025 OTUs\r"
       ]
      },
      {
       "output_type": "stream",
       "stream": "stdout",
       "text": [
        "01:53 142Mb   59.7% 10065 OTUs\r"
       ]
      },
      {
       "output_type": "stream",
       "stream": "stdout",
       "text": [
        "01:54 143Mb   60.0% 10116 OTUs\r"
       ]
      },
      {
       "output_type": "stream",
       "stream": "stdout",
       "text": [
        "01:55 143Mb   60.3% 10167 OTUs\r"
       ]
      },
      {
       "output_type": "stream",
       "stream": "stdout",
       "text": [
        "01:56 144Mb   60.5% 10223 OTUs\r"
       ]
      },
      {
       "output_type": "stream",
       "stream": "stdout",
       "text": [
        "01:57 145Mb   60.8% 10278 OTUs\r"
       ]
      },
      {
       "output_type": "stream",
       "stream": "stdout",
       "text": [
        "01:58 146Mb   61.1% 10323 OTUs\r"
       ]
      },
      {
       "output_type": "stream",
       "stream": "stdout",
       "text": [
        "01:59 147Mb   61.4% 10364 OTUs\r"
       ]
      },
      {
       "output_type": "stream",
       "stream": "stdout",
       "text": [
        "02:00 147Mb   61.7% 10415 OTUs\r"
       ]
      },
      {
       "output_type": "stream",
       "stream": "stdout",
       "text": [
        "02:01 148Mb   62.0% 10466 OTUs\r"
       ]
      },
      {
       "output_type": "stream",
       "stream": "stdout",
       "text": [
        "02:02 149Mb   62.2% 10522 OTUs\r"
       ]
      },
      {
       "output_type": "stream",
       "stream": "stdout",
       "text": [
        "02:03 149Mb   62.5% 10569 OTUs\r"
       ]
      },
      {
       "output_type": "stream",
       "stream": "stdout",
       "text": [
        "02:04 150Mb   62.8% 10612 OTUs\r"
       ]
      },
      {
       "output_type": "stream",
       "stream": "stdout",
       "text": [
        "02:05 151Mb   63.1% 10653 OTUs\r"
       ]
      },
      {
       "output_type": "stream",
       "stream": "stdout",
       "text": [
        "02:06 152Mb   63.3% 10715 OTUs\r"
       ]
      },
      {
       "output_type": "stream",
       "stream": "stdout",
       "text": [
        "02:07 153Mb   63.6% 10759 OTUs\r"
       ]
      },
      {
       "output_type": "stream",
       "stream": "stdout",
       "text": [
        "02:08 153Mb   63.9% 10814 OTUs\r"
       ]
      },
      {
       "output_type": "stream",
       "stream": "stdout",
       "text": [
        "02:09 154Mb   64.2% 10866 OTUs\r"
       ]
      },
      {
       "output_type": "stream",
       "stream": "stdout",
       "text": [
        "02:10 155Mb   64.4% 10912 OTUs\r"
       ]
      },
      {
       "output_type": "stream",
       "stream": "stdout",
       "text": [
        "02:11 156Mb   64.7% 10935 OTUs\r"
       ]
      },
      {
       "output_type": "stream",
       "stream": "stdout",
       "text": [
        "02:12 156Mb   64.9% 10959 OTUs\r"
       ]
      },
      {
       "output_type": "stream",
       "stream": "stdout",
       "text": [
        "02:13 157Mb   65.2% 10983 OTUs\r"
       ]
      },
      {
       "output_type": "stream",
       "stream": "stdout",
       "text": [
        "02:14 158Mb   65.5% 11005 OTUs\r"
       ]
      },
      {
       "output_type": "stream",
       "stream": "stdout",
       "text": [
        "02:15 158Mb   65.7% 11030 OTUs\r"
       ]
      },
      {
       "output_type": "stream",
       "stream": "stdout",
       "text": [
        "02:16 159Mb   66.0% 11049 OTUs\r"
       ]
      },
      {
       "output_type": "stream",
       "stream": "stdout",
       "text": [
        "02:17 160Mb   66.2% 11077 OTUs\r"
       ]
      },
      {
       "output_type": "stream",
       "stream": "stdout",
       "text": [
        "02:18 161Mb   66.5% 11100 OTUs\r"
       ]
      },
      {
       "output_type": "stream",
       "stream": "stdout",
       "text": [
        "02:19 161Mb   66.8% 11118 OTUs\r"
       ]
      },
      {
       "output_type": "stream",
       "stream": "stdout",
       "text": [
        "02:20 162Mb   67.0% 11137 OTUs\r"
       ]
      },
      {
       "output_type": "stream",
       "stream": "stdout",
       "text": [
        "02:21 162Mb   67.3% 11161 OTUs\r"
       ]
      },
      {
       "output_type": "stream",
       "stream": "stdout",
       "text": [
        "02:22 163Mb   67.5% 11179 OTUs\r"
       ]
      },
      {
       "output_type": "stream",
       "stream": "stdout",
       "text": [
        "02:23 164Mb   67.8% 11194 OTUs\r"
       ]
      },
      {
       "output_type": "stream",
       "stream": "stdout",
       "text": [
        "02:24 164Mb   68.0% 11209 OTUs\r"
       ]
      },
      {
       "output_type": "stream",
       "stream": "stdout",
       "text": [
        "02:25 165Mb   68.3% 11221 OTUs\r"
       ]
      },
      {
       "output_type": "stream",
       "stream": "stdout",
       "text": [
        "02:26 166Mb   68.5% 11242 OTUs\r"
       ]
      },
      {
       "output_type": "stream",
       "stream": "stdout",
       "text": [
        "02:27 166Mb   68.8% 11266 OTUs\r"
       ]
      },
      {
       "output_type": "stream",
       "stream": "stdout",
       "text": [
        "02:28 167Mb   69.1% 11294 OTUs\r"
       ]
      },
      {
       "output_type": "stream",
       "stream": "stdout",
       "text": [
        "02:29 168Mb   69.3% 11313 OTUs\r"
       ]
      },
      {
       "output_type": "stream",
       "stream": "stdout",
       "text": [
        "02:30 168Mb   69.6% 11339 OTUs\r"
       ]
      },
      {
       "output_type": "stream",
       "stream": "stdout",
       "text": [
        "02:31 169Mb   69.8% 11360 OTUs\r"
       ]
      },
      {
       "output_type": "stream",
       "stream": "stdout",
       "text": [
        "02:32 170Mb   70.1% 11392 OTUs\r"
       ]
      },
      {
       "output_type": "stream",
       "stream": "stdout",
       "text": [
        "02:33 171Mb   70.3% 11419 OTUs\r"
       ]
      },
      {
       "output_type": "stream",
       "stream": "stdout",
       "text": [
        "02:34 171Mb   70.6% 11439 OTUs\r"
       ]
      },
      {
       "output_type": "stream",
       "stream": "stdout",
       "text": [
        "02:35 172Mb   70.9% 11467 OTUs\r"
       ]
      },
      {
       "output_type": "stream",
       "stream": "stdout",
       "text": [
        "02:36 173Mb   71.1% 11486 OTUs\r"
       ]
      },
      {
       "output_type": "stream",
       "stream": "stdout",
       "text": [
        "02:37 173Mb   71.4% 11515 OTUs\r"
       ]
      },
      {
       "output_type": "stream",
       "stream": "stdout",
       "text": [
        "02:38 174Mb   71.6% 11547 OTUs\r"
       ]
      },
      {
       "output_type": "stream",
       "stream": "stdout",
       "text": [
        "02:39 175Mb   71.9% 11563 OTUs\r"
       ]
      },
      {
       "output_type": "stream",
       "stream": "stdout",
       "text": [
        "02:40 176Mb   72.1% 11581 OTUs\r"
       ]
      },
      {
       "output_type": "stream",
       "stream": "stdout",
       "text": [
        "02:41 176Mb   72.3% 11598 OTUs\r"
       ]
      },
      {
       "output_type": "stream",
       "stream": "stdout",
       "text": [
        "02:42 177Mb   72.6% 11624 OTUs\r"
       ]
      },
      {
       "output_type": "stream",
       "stream": "stdout",
       "text": [
        "02:43 178Mb   72.8% 11645 OTUs\r"
       ]
      },
      {
       "output_type": "stream",
       "stream": "stdout",
       "text": [
        "02:44 178Mb   73.1% 11664 OTUs\r"
       ]
      },
      {
       "output_type": "stream",
       "stream": "stdout",
       "text": [
        "02:45 179Mb   73.3% 11688 OTUs\r"
       ]
      },
      {
       "output_type": "stream",
       "stream": "stdout",
       "text": [
        "02:46 180Mb   73.6% 11710 OTUs\r"
       ]
      },
      {
       "output_type": "stream",
       "stream": "stdout",
       "text": [
        "02:47 181Mb   73.8% 11738 OTUs\r"
       ]
      },
      {
       "output_type": "stream",
       "stream": "stdout",
       "text": [
        "02:48 181Mb   74.1% 11747 OTUs\r"
       ]
      },
      {
       "output_type": "stream",
       "stream": "stdout",
       "text": [
        "02:49 182Mb   74.3% 11768 OTUs\r"
       ]
      },
      {
       "output_type": "stream",
       "stream": "stdout",
       "text": [
        "02:50 182Mb   74.6% 11798 OTUs\r"
       ]
      },
      {
       "output_type": "stream",
       "stream": "stdout",
       "text": [
        "02:51 183Mb   74.8% 11823 OTUs\r"
       ]
      },
      {
       "output_type": "stream",
       "stream": "stdout",
       "text": [
        "02:52 184Mb   75.1% 11845 OTUs\r"
       ]
      },
      {
       "output_type": "stream",
       "stream": "stdout",
       "text": [
        "02:53 184Mb   75.3% 11864 OTUs\r"
       ]
      },
      {
       "output_type": "stream",
       "stream": "stdout",
       "text": [
        "02:54 185Mb   75.6% 11890 OTUs\r"
       ]
      },
      {
       "output_type": "stream",
       "stream": "stdout",
       "text": [
        "02:55 186Mb   75.8% 11910 OTUs\r"
       ]
      },
      {
       "output_type": "stream",
       "stream": "stdout",
       "text": [
        "02:56 186Mb   76.1% 11930 OTUs\r"
       ]
      },
      {
       "output_type": "stream",
       "stream": "stdout",
       "text": [
        "02:57 187Mb   76.4% 11957 OTUs\r"
       ]
      },
      {
       "output_type": "stream",
       "stream": "stdout",
       "text": [
        "02:58 188Mb   76.6% 11974 OTUs\r"
       ]
      },
      {
       "output_type": "stream",
       "stream": "stdout",
       "text": [
        "02:59 188Mb   76.8% 12002 OTUs\r"
       ]
      },
      {
       "output_type": "stream",
       "stream": "stdout",
       "text": [
        "03:00 189Mb   77.1% 12027 OTUs\r"
       ]
      },
      {
       "output_type": "stream",
       "stream": "stdout",
       "text": [
        "03:01 190Mb   77.3% 12058 OTUs\r"
       ]
      },
      {
       "output_type": "stream",
       "stream": "stdout",
       "text": [
        "03:02 190Mb   77.6% 12083 OTUs\r"
       ]
      },
      {
       "output_type": "stream",
       "stream": "stdout",
       "text": [
        "03:03 191Mb   77.8% 12100 OTUs\r"
       ]
      },
      {
       "output_type": "stream",
       "stream": "stdout",
       "text": [
        "03:04 192Mb   78.1% 12113 OTUs\r"
       ]
      },
      {
       "output_type": "stream",
       "stream": "stdout",
       "text": [
        "03:05 192Mb   78.3% 12125 OTUs\r"
       ]
      },
      {
       "output_type": "stream",
       "stream": "stdout",
       "text": [
        "03:06 193Mb   78.6% 12142 OTUs\r"
       ]
      },
      {
       "output_type": "stream",
       "stream": "stdout",
       "text": [
        "03:07 194Mb   78.8% 12164 OTUs\r"
       ]
      },
      {
       "output_type": "stream",
       "stream": "stdout",
       "text": [
        "03:08 194Mb   79.0% 12176 OTUs\r"
       ]
      },
      {
       "output_type": "stream",
       "stream": "stdout",
       "text": [
        "03:09 195Mb   79.3% 12197 OTUs\r"
       ]
      },
      {
       "output_type": "stream",
       "stream": "stdout",
       "text": [
        "03:10 196Mb   79.5% 12214 OTUs\r"
       ]
      },
      {
       "output_type": "stream",
       "stream": "stdout",
       "text": [
        "03:11 196Mb   79.7% 12229 OTUs\r"
       ]
      },
      {
       "output_type": "stream",
       "stream": "stdout",
       "text": [
        "03:12 197Mb   80.0% 12244 OTUs\r"
       ]
      },
      {
       "output_type": "stream",
       "stream": "stdout",
       "text": [
        "03:13 197Mb   80.2% 12256 OTUs\r"
       ]
      },
      {
       "output_type": "stream",
       "stream": "stdout",
       "text": [
        "03:14 198Mb   80.4% 12284 OTUs\r"
       ]
      },
      {
       "output_type": "stream",
       "stream": "stdout",
       "text": [
        "03:15 199Mb   80.7% 12300 OTUs\r"
       ]
      },
      {
       "output_type": "stream",
       "stream": "stdout",
       "text": [
        "03:16 199Mb   80.9% 12324 OTUs\r"
       ]
      },
      {
       "output_type": "stream",
       "stream": "stdout",
       "text": [
        "03:17 200Mb   81.1% 12342 OTUs\r"
       ]
      },
      {
       "output_type": "stream",
       "stream": "stdout",
       "text": [
        "03:18 201Mb   81.4% 12352 OTUs\r"
       ]
      },
      {
       "output_type": "stream",
       "stream": "stdout",
       "text": [
        "03:19 201Mb   81.6% 12362 OTUs\r"
       ]
      },
      {
       "output_type": "stream",
       "stream": "stdout",
       "text": [
        "03:20 202Mb   81.8% 12386 OTUs\r"
       ]
      },
      {
       "output_type": "stream",
       "stream": "stdout",
       "text": [
        "03:21 202Mb   82.1% 12410 OTUs\r"
       ]
      },
      {
       "output_type": "stream",
       "stream": "stdout",
       "text": [
        "03:22 203Mb   82.3% 12436 OTUs\r"
       ]
      },
      {
       "output_type": "stream",
       "stream": "stdout",
       "text": [
        "03:23 204Mb   82.6% 12462 OTUs\r"
       ]
      },
      {
       "output_type": "stream",
       "stream": "stdout",
       "text": [
        "03:24 205Mb   82.8% 12494 OTUs\r"
       ]
      },
      {
       "output_type": "stream",
       "stream": "stdout",
       "text": [
        "03:25 205Mb   83.0% 12536 OTUs\r"
       ]
      },
      {
       "output_type": "stream",
       "stream": "stdout",
       "text": [
        "03:26 206Mb   83.3% 12564 OTUs\r"
       ]
      },
      {
       "output_type": "stream",
       "stream": "stdout",
       "text": [
        "03:27 207Mb   83.4% 12591 OTUs\r"
       ]
      },
      {
       "output_type": "stream",
       "stream": "stdout",
       "text": [
        "03:28 207Mb   83.6% 12624 OTUs\r"
       ]
      },
      {
       "output_type": "stream",
       "stream": "stdout",
       "text": [
        "03:29 208Mb   83.9% 12666 OTUs\r"
       ]
      },
      {
       "output_type": "stream",
       "stream": "stdout",
       "text": [
        "03:30 209Mb   84.1% 12696 OTUs\r"
       ]
      },
      {
       "output_type": "stream",
       "stream": "stdout",
       "text": [
        "03:31 209Mb   84.4% 12730 OTUs\r"
       ]
      },
      {
       "output_type": "stream",
       "stream": "stdout",
       "text": [
        "03:32 210Mb   84.6% 12753 OTUs\r"
       ]
      },
      {
       "output_type": "stream",
       "stream": "stdout",
       "text": [
        "03:33 211Mb   84.8% 12784 OTUs\r"
       ]
      },
      {
       "output_type": "stream",
       "stream": "stdout",
       "text": [
        "03:34 211Mb   85.1% 12808 OTUs\r"
       ]
      },
      {
       "output_type": "stream",
       "stream": "stdout",
       "text": [
        "03:35 212Mb   85.3% 12838 OTUs\r"
       ]
      },
      {
       "output_type": "stream",
       "stream": "stdout",
       "text": [
        "03:36 213Mb   85.5% 12865 OTUs\r"
       ]
      },
      {
       "output_type": "stream",
       "stream": "stdout",
       "text": [
        "03:37 214Mb   85.8% 12905 OTUs\r"
       ]
      },
      {
       "output_type": "stream",
       "stream": "stdout",
       "text": [
        "03:38 214Mb   86.0% 12929 OTUs\r"
       ]
      },
      {
       "output_type": "stream",
       "stream": "stdout",
       "text": [
        "03:39 215Mb   86.2% 12958 OTUs\r"
       ]
      },
      {
       "output_type": "stream",
       "stream": "stdout",
       "text": [
        "03:40 216Mb   86.5% 13002 OTUs\r"
       ]
      },
      {
       "output_type": "stream",
       "stream": "stdout",
       "text": [
        "03:41 216Mb   86.7% 13035 OTUs\r"
       ]
      },
      {
       "output_type": "stream",
       "stream": "stdout",
       "text": [
        "03:42 217Mb   86.9% 13059 OTUs\r"
       ]
      },
      {
       "output_type": "stream",
       "stream": "stdout",
       "text": [
        "03:43 218Mb   87.1% 13089 OTUs\r"
       ]
      },
      {
       "output_type": "stream",
       "stream": "stdout",
       "text": [
        "03:44 218Mb   87.4% 13118 OTUs\r"
       ]
      },
      {
       "output_type": "stream",
       "stream": "stdout",
       "text": [
        "03:45 219Mb   87."
       ]
      },
      {
       "output_type": "stream",
       "stream": "stdout",
       "text": [
        "6% 13146 OTUs\r"
       ]
      },
      {
       "output_type": "stream",
       "stream": "stdout",
       "text": [
        "03:46 220Mb   87.8% 13169 OTUs\r"
       ]
      },
      {
       "output_type": "stream",
       "stream": "stdout",
       "text": [
        "03:47 220Mb   88.1% 13198 OTUs\r"
       ]
      },
      {
       "output_type": "stream",
       "stream": "stdout",
       "text": [
        "03:48 221Mb   88.3% 13223 OTUs\r"
       ]
      },
      {
       "output_type": "stream",
       "stream": "stdout",
       "text": [
        "03:49 222Mb   88.5% 13248 OTUs\r"
       ]
      },
      {
       "output_type": "stream",
       "stream": "stdout",
       "text": [
        "03:50 222Mb   88.7% 13271 OTUs\r"
       ]
      },
      {
       "output_type": "stream",
       "stream": "stdout",
       "text": [
        "03:51 223Mb   89.0% 13293 OTUs\r"
       ]
      },
      {
       "output_type": "stream",
       "stream": "stdout",
       "text": [
        "03:52 224Mb   89.2% 13316 OTUs\r"
       ]
      },
      {
       "output_type": "stream",
       "stream": "stdout",
       "text": [
        "03:53 224Mb   89.4% 13342 OTUs\r"
       ]
      },
      {
       "output_type": "stream",
       "stream": "stdout",
       "text": [
        "03:54 225Mb   89.6% 13372 OTUs\r"
       ]
      },
      {
       "output_type": "stream",
       "stream": "stdout",
       "text": [
        "03:55 225Mb   89.9% 13401 OTUs\r"
       ]
      },
      {
       "output_type": "stream",
       "stream": "stdout",
       "text": [
        "03:56 226Mb   90.1% 13438 OTUs\r"
       ]
      },
      {
       "output_type": "stream",
       "stream": "stdout",
       "text": [
        "03:57 227Mb   90.3% 13459 OTUs\r"
       ]
      },
      {
       "output_type": "stream",
       "stream": "stdout",
       "text": [
        "03:58 228Mb   90.6% 13489 OTUs\r"
       ]
      },
      {
       "output_type": "stream",
       "stream": "stdout",
       "text": [
        "03:59 228Mb   90.8% 13518 OTUs\r"
       ]
      },
      {
       "output_type": "stream",
       "stream": "stdout",
       "text": [
        "04:00 229Mb   91.0% 13540 OTUs\r"
       ]
      },
      {
       "output_type": "stream",
       "stream": "stdout",
       "text": [
        "04:01 229Mb   91.2% 13552 OTUs\r"
       ]
      },
      {
       "output_type": "stream",
       "stream": "stdout",
       "text": [
        "04:02 230Mb   91.4% 13568 OTUs\r"
       ]
      },
      {
       "output_type": "stream",
       "stream": "stdout",
       "text": [
        "04:03 231Mb   91.7% 13583 OTUs\r"
       ]
      },
      {
       "output_type": "stream",
       "stream": "stdout",
       "text": [
        "04:04 231Mb   91.9% 13609 OTUs\r"
       ]
      },
      {
       "output_type": "stream",
       "stream": "stdout",
       "text": [
        "04:05 232Mb   92.1% 13628 OTUs\r"
       ]
      },
      {
       "output_type": "stream",
       "stream": "stdout",
       "text": [
        "04:06 233Mb   92.3% 13646 OTUs\r"
       ]
      },
      {
       "output_type": "stream",
       "stream": "stdout",
       "text": [
        "04:07 233Mb   92.6% 13668 OTUs\r"
       ]
      },
      {
       "output_type": "stream",
       "stream": "stdout",
       "text": [
        "04:08 234Mb   92.8% 13689 OTUs\r"
       ]
      },
      {
       "output_type": "stream",
       "stream": "stdout",
       "text": [
        "04:09 235Mb   93.0% 13709 OTUs\r"
       ]
      },
      {
       "output_type": "stream",
       "stream": "stdout",
       "text": [
        "04:10 235Mb   93.2% 13734 OTUs\r"
       ]
      },
      {
       "output_type": "stream",
       "stream": "stdout",
       "text": [
        "04:11 236Mb   93.4% 13748 OTUs\r"
       ]
      },
      {
       "output_type": "stream",
       "stream": "stdout",
       "text": [
        "04:12 237Mb   93.6% 13760 OTUs\r"
       ]
      },
      {
       "output_type": "stream",
       "stream": "stdout",
       "text": [
        "04:13 237Mb   93.9% 13782 OTUs\r"
       ]
      },
      {
       "output_type": "stream",
       "stream": "stdout",
       "text": [
        "04:14 238Mb   94.1% 13798 OTUs\r"
       ]
      },
      {
       "output_type": "stream",
       "stream": "stdout",
       "text": [
        "04:15 238Mb   94.3% 13819 OTUs\r"
       ]
      },
      {
       "output_type": "stream",
       "stream": "stdout",
       "text": [
        "04:16 239Mb   94.5% 13844 OTUs\r"
       ]
      },
      {
       "output_type": "stream",
       "stream": "stdout",
       "text": [
        "04:17 240Mb   94.7"
       ]
      },
      {
       "output_type": "stream",
       "stream": "stdout",
       "text": [
        "% 13872 OTUs\r"
       ]
      },
      {
       "output_type": "stream",
       "stream": "stdout",
       "text": [
        "04:18 240Mb   95.0% 13895 OTUs\r"
       ]
      },
      {
       "output_type": "stream",
       "stream": "stdout",
       "text": [
        "04:19 241Mb   95.2% 13920 OTUs\r"
       ]
      },
      {
       "output_type": "stream",
       "stream": "stdout",
       "text": [
        "04:20 242Mb   95.4% 13938 OTUs\r"
       ]
      },
      {
       "output_type": "stream",
       "stream": "stdout",
       "text": [
        "04:21 242Mb   95.6% 13954 OTUs\r"
       ]
      },
      {
       "output_type": "stream",
       "stream": "stdout",
       "text": [
        "04:22 243Mb   95.8% 13973 OTUs\r"
       ]
      },
      {
       "output_type": "stream",
       "stream": "stdout",
       "text": [
        "04:23 244Mb   96.1% 14000 OTUs\r"
       ]
      },
      {
       "output_type": "stream",
       "stream": "stdout",
       "text": [
        "04:24 244Mb   96.3% 14026 OTUs\r"
       ]
      },
      {
       "output_type": "stream",
       "stream": "stdout",
       "text": [
        "04:25 245Mb   96.5% 14043 OTUs\r"
       ]
      },
      {
       "output_type": "stream",
       "stream": "stdout",
       "text": [
        "04:26 246Mb   96.7% 14069 OTUs\r"
       ]
      },
      {
       "output_type": "stream",
       "stream": "stdout",
       "text": [
        "04:27 246Mb   96.9% 14101 OTUs\r"
       ]
      },
      {
       "output_type": "stream",
       "stream": "stdout",
       "text": [
        "04:28 247Mb   97.1% 14122 OTUs\r"
       ]
      },
      {
       "output_type": "stream",
       "stream": "stdout",
       "text": [
        "04:29 248Mb   97.3% 14142 OTUs\r"
       ]
      },
      {
       "output_type": "stream",
       "stream": "stdout",
       "text": [
        "04:30 248Mb   97.6% 14163 OTUs\r"
       ]
      },
      {
       "output_type": "stream",
       "stream": "stdout",
       "text": [
        "04:31 249Mb   97.8% 14190 OTUs\r"
       ]
      },
      {
       "output_type": "stream",
       "stream": "stdout",
       "text": [
        "04:32 249Mb   98.0% 14208 OTUs\r"
       ]
      },
      {
       "output_type": "stream",
       "stream": "stdout",
       "text": [
        "04:33 250Mb   98.2% 14232 OTUs\r"
       ]
      },
      {
       "output_type": "stream",
       "stream": "stdout",
       "text": [
        "04:34 251Mb   98.4% 14255 OTUs\r"
       ]
      },
      {
       "output_type": "stream",
       "stream": "stdout",
       "text": [
        "04:35 251Mb   98.6% 14269 OTUs\r"
       ]
      },
      {
       "output_type": "stream",
       "stream": "stdout",
       "text": [
        "04:36 252Mb   98.8% 14284 OTUs\r"
       ]
      },
      {
       "output_type": "stream",
       "stream": "stdout",
       "text": [
        "04:37 253Mb   99.1% 14309 OTUs\r"
       ]
      },
      {
       "output_type": "stream",
       "stream": "stdout",
       "text": [
        "04:38 253Mb   99.3% 14330 OTUs\r"
       ]
      },
      {
       "output_type": "stream",
       "stream": "stdout",
       "text": [
        "04:39 254Mb   99.5% 14345 OTUs\r"
       ]
      },
      {
       "output_type": "stream",
       "stream": "stdout",
       "text": [
        "04:40 255Mb   99.7% 14367 OTUs\r"
       ]
      },
      {
       "output_type": "stream",
       "stream": "stdout",
       "text": [
        "04:40 255Mb  100.0% 14387 OTUs\r",
        "\r\n"
       ]
      },
      {
       "output_type": "stream",
       "stream": "stdout",
       "text": [
        "                              \r\n",
        "Input seqs  317397 (317.4k)\r\n",
        "      OTUs  14387 (14.4k)\r\n",
        "   Members  174126 (174.1k)\r\n",
        "  Chimeras  128884 (128.9k)\r\n",
        "   Max mem  255Mb\r\n",
        "      Time  04:40\r\n",
        "Throughput  1133.6 seqs/sec.\r\n",
        "\r\n"
       ]
      }
     ],
     "prompt_number": 20
    },
    {
     "cell_type": "code",
     "collapsed": false,
     "input": [
      "# Making another file\n",
      "# Figure this out (what is this?)\n",
      "# This is a script (fasta_number.py) that replaces fasta names with XXX1, XXX2, etc.\n",
      "# In our case, it is replacing the names with OTU.1, OTU.2, etc., and outputs it into a file called otusn.fasta\n",
      "!/opt/bioinfo/edgar_python_scripts/fasta_number.py data/otus_JSON.fasta OTU. > data/otusn_JSON.fasta"
     ],
     "language": "python",
     "metadata": {},
     "outputs": [],
     "prompt_number": 21
    },
    {
     "cell_type": "code",
     "collapsed": false,
     "input": [
      "!head data/otusn_JSON.fasta"
     ],
     "language": "python",
     "metadata": {},
     "outputs": [
      {
       "output_type": "stream",
       "stream": "stdout",
       "text": [
        ">OTU.1\r\n",
        "TACGAAGGTGGCAAGCGTTGTTCGGATTTACTGGGCGTACAGGGAGCGTAGGCGGTTGGATAAGCCCTCCGTGAAATCTC\r\n",
        "CAGGCTTAACCTGGAAAGTGCAGAGGGGACTGTTCAGCTAGAGGATGGGAGAGGAGCGCGGAATTCCCGGTGTAGCGGTG\r\n",
        "AAATGCGTAGAGATCGGGAGGAAGGCCGGTGGCGAAGGCGGCGCTCTGGAACATTTCTGACGCTGAGGCTCGAAAGCGTG\r\n",
        "GGGAGCAAACAGGATTAGATACCCTGGTAGTCCACGCCTTAAACGATGGATACTAAGTGTCGGCGGGTTACCGCCGGTGC\r\n",
        "CGCAGCTAACGCAGTAAGTATCCCGCCTGGGAAGTACGGCCGCAAGGTTG\r\n",
        ">OTU.2\r\n",
        "TACGGAGGGGACTAGCGTTGTTCGGAATTACTGGGCGTAAAGCGCACGTAGGCGGATTTGTAAGTCAGGGGTGAAATCCC\r\n",
        "GGGGCTCAACCTCGGAACTGCCTTTGATACTGCAAATCTCGAGTCCGGAAGAGGTGAGTGGAATTCCTAGTGTAGAGGTG\r\n",
        "AAATTCGTAGATATTAGGAAGAACACCAGTGGCGAAGGCGGCTCACTGGTCCGGTACTGACGCTGAGGTGCGAAAGCGTG\r\n"
       ]
      }
     ],
     "prompt_number": 22
    },
    {
     "cell_type": "heading",
     "level": 3,
     "metadata": {},
     "source": [
      "Removing Chloroplast, Eukaryal, and Archaeal sequences"
     ]
    },
    {
     "cell_type": "code",
     "collapsed": false,
     "input": [
      "# You do need to assign taxonomy in order to pull out the Euks., etc.\n",
      "# I could cp these files from the server to wherever I need them.\n",
      "# Input is your fasta file\n",
      "# Output is a fasta with taxonomy assinged (still working with unique seqs)\n",
      "# This didn't work first, because Chuck had to delete a \"jobs\" folder in the tmp directory.\n",
      "\n",
      "!parallel_assign_taxonomy_uclust.py \\\n",
      "-r /home/chantal/RNASIP/data/databases/Silva_111_post/no_ambiguous_bases_files/97_Silva_111_rep_set_no_ambig.fasta \\\n",
      "-t /home/chantal/RNASIP/data/databases/Silva_111_post/taxonomy/Silva_111_taxa_map_full.txt \\\n",
      "-O 10 \\\n",
      "-i data/otusn_JSON.fasta \\\n",
      "-o data/otusn_JSON_tax"
     ],
     "language": "python",
     "metadata": {},
     "outputs": [],
     "prompt_number": 23
    },
    {
     "cell_type": "code",
     "collapsed": false,
     "input": [
      "# This makes a file of what we want to remove\n",
      "# Could change this to pull out different groups.\n",
      "# These primers actually had good Archaeal targets - so, it would be okay to include them.\n",
      "!egrep \"Chloroplast|Eukaryota|Archaea|Unassigned|mitochondria\" \\\n",
      "data/otusn_JSON_tax/otusn_JSON_tax_assignments.txt \\\n",
      "| awk '{print $1}' > data/to_remove_tax.accnos"
     ],
     "language": "python",
     "metadata": {},
     "outputs": [],
     "prompt_number": 35
    },
    {
     "cell_type": "code",
     "collapsed": false,
     "input": [
      "# wc is number of lines of the taxa that will be removed\n",
      "!wc -l data/to_remove_tax.accnos"
     ],
     "language": "python",
     "metadata": {},
     "outputs": [
      {
       "output_type": "stream",
       "stream": "stdout",
       "text": [
        "4631 data/to_remove_tax.accnos\r\n"
       ]
      }
     ],
     "prompt_number": 36
    },
    {
     "cell_type": "code",
     "collapsed": false,
     "input": [
      "# Looking at what you're removing\n",
      "!head data/to_remove_tax.accnos"
     ],
     "language": "python",
     "metadata": {},
     "outputs": [
      {
       "output_type": "stream",
       "stream": "stdout",
       "text": [
        "OTU.1370\r\n",
        "OTU.643\r\n",
        "OTU.390\r\n",
        "OTU.744\r\n",
        "OTU.1304\r\n",
        "OTU.609\r\n",
        "OTU.773\r\n",
        "OTU.1316\r\n",
        "OTU.982\r\n",
        "OTU.1322\r\n"
       ]
      }
     ],
     "prompt_number": 37
    },
    {
     "cell_type": "code",
     "collapsed": false,
     "input": [
      "%%bash\n",
      "# Remove.seqs command will actually remove these taxa\n",
      "mothur \"#remove.seqs(fasta=data/otusn_JSON.fasta, \\\n",
      "accnos=data/to_remove_tax.accnos)\" #> /dev/null"
     ],
     "language": "python",
     "metadata": {},
     "outputs": [
      {
       "output_type": "stream",
       "stream": "stdout",
       "text": [
        "\u001b[H\u001b[2J\n",
        "\n",
        "\n",
        "\n",
        "\n",
        "\n",
        "mothur v.1.32.1\n",
        "Last updated: 10/16/2013\n",
        "\n",
        "by\n",
        "Patrick D. Schloss\n",
        "\n",
        "Department of Microbiology & Immunology\n",
        "University of Michigan\n",
        "pschloss@umich.edu\n",
        "http://www.mothur.org\n",
        "\n",
        "When using, please cite:\n",
        "Schloss, P.D., et al., Introducing mothur: Open-source, platform-independent, community-supported software for describing and comparing microbial communities. Appl Environ Microbiol, 2009. 75(23):7537-41.\n",
        "\n",
        "Distributed under the GNU General Public License\n",
        "\n",
        "Type 'help()' for information on the commands that are available\n",
        "\n",
        "Type 'quit()' to exit program\n",
        "\n",
        "\n",
        "\n",
        "mothur > remove.seqs(fasta=data/otusn_JSON.fasta, accnos=data/to_remove_tax.accnos)\n",
        "Removed 4631 sequences from your fasta file.\n",
        "\n",
        "Output File Names: \n",
        "data/otusn_JSON.pick.fasta\n",
        "\n",
        "\n",
        "mothur > quit()\n"
       ]
      }
     ],
     "prompt_number": 38
    },
    {
     "cell_type": "heading",
     "level": 3,
     "metadata": {},
     "source": [
      "Mapping Reads"
     ]
    },
    {
     "cell_type": "code",
     "collapsed": false,
     "input": [
      "# Pulling out the sample identifier.\n",
      "# It is adding a portion to the finalQC file that has the barcode label.\n",
      "# Then we can use this later\n",
      "# Now we will see how these reads map to the defined centroids (after removing EuK, etc.)\n",
      "# Basically, we cut, cut, refined our fasta to make our OTU centroids.\n",
      "# THEN, we went back to our original QC'd total fasta file and will throw it all against these nicely defined seeds.\n",
      "# Anything that doesn't match, we won't keep.\n",
      "!awk -F\"_\" \\\n",
      "'BEGIN{OFS=\";\"}{ if ( substr($1,0,1) == \">\"){ print $0,\"barcodelabel=\",$1 } else { print $0 } }' \\\n",
      "data/JSON.fasta | \\\n",
      "sed 's/;>//' > data/JSON_usearchfmt.fasta"
     ],
     "language": "python",
     "metadata": {},
     "outputs": [],
     "prompt_number": 39
    },
    {
     "cell_type": "code",
     "collapsed": false,
     "input": [
      "!head data/JSON_usearchfmt.fasta"
     ],
     "language": "python",
     "metadata": {},
     "outputs": [
      {
       "output_type": "stream",
       "stream": "stdout",
       "text": [
        ">NTH1_23;barcodelabel=NTH1\r\n",
        "TACGAACCGGGCAAACGTTATTCGGAATTACTGGGCTTAAAGGGTGCGTAGGCTGCGCTATAAGTCGGGTGTGAAATCCCTCAGCTCAACTGAGGAACTGCGCCCGATACTGTAGTGCTTGAGGAGGATAGAGGTGAGCGGAACTAGCAGTGGAGCGGTGAAATGCGTTGATATTGCTGGGAACACCCGTGGCGAAAGCGGCTCACTGGGTCCTTTCTGACGCTGAGGCACGAAAGCTAGGGGAGCAAACAGGATTAGATACCCTGGTAGTCCTAGCCCTAAACGATCAGGACTTGACGTGGGCCCCGTCCGGGGTCCGTGCCGTAGCCAACGTGATAAGTCCTGCGCCTGGGGAGTACGGTCGCAAGGCTG\r\n",
        ">NTR1_26;barcodelabel=NTR1\r\n",
        "TACAGAGGTGGCAAGCGTTGTTCGGAATTACTGGGCGTAAAGGGCGCGTAGGCGGCCATCTAAGTCAGACGTGAAATCCCCCGGCTCAACCTGGGAACTGCGTCTGATACTGGACGGCTTGAGTTTGGGAGAGGGATGTAGAATTCCAGGTGTAGCGGTGAAATGCGTAGATATCTGGAGGAATACCGGTGGCGAAGGCGGCATCCTGGACCAATACTGACGCTGGGGCGCGAAAGCTAGGGGAGCAAACGGGATTAGATACCCTGGTAGTCCACGCCCTAAACGATGGATACTCGACATCAGCGATACACTGTTGGTGTCTGAGCGAAAGCATTAAGTATCCCGCCTGGGAAGTACGATCGCAAGATTA\r\n",
        ">NTH3_27;barcodelabel=NTH3\r\n",
        "TACAGAGGTGGCAAGCGTTGTTCGGAATTACTGGGCGTAAAGGGCGCGTAGGCGGCCATCTAAGTCAGACGTGAAATCCCCCGGCTTAACCTGGGAACTGCGTCTGATACTGGAAGGCTTGAGTATGGGAGAGGGATGTAGAATTCCAGGTGTAGCGGTGAAATGCGTAGATATCTGGAGGAATACCGGTGGCGAAGGCGGCATCCTGGACCATTACTGACGCTGAGGCGCGAAAGCTAGGGGAGCAAACGGGATTAGATACCCCGGTAGTCCTAGCCCTAAACGATGGGTACTAGGTAGTAGACTAGACATGGGTTTACTGCCGAAGCTAAAGTGCTAAGTACCCCGCCTGGGGAGTACGGCCGCAAGGTTG\r\n",
        ">TWE4_29;barcodelabel=TWE4\r\n",
        "TACGGGGGGAGCAAGCGTTGTTCGGATTTACTGGGCTTAAAGGGCGCGTAGGCGGGCTGCCGCGTCCGGGGTGAAATCCCACGGCTCAACCGTGGAACGGCCCCGGGTACGGGCGGCCTCGAGGGGGGTAGGGGCGTGCGGAACTGTGGGTGGAGCGGTGGAATGCGTTGATATCCACAGGAACTCCGGTGGCGAAGGCGGCACGCTGGACCCTCTCTGACGCTGAGGCGCGAAAGCCAGGGGAGCGAACGGGATTAGATACCCCGGTAGTCCTAGCCCTAAACGATGGGTACTAGATTGTAGACGTACATGGGTTTACAGTCGAAGCAAAAGTGATAAGTACCCCGCCTGGGGAGTATGGTCGCAAGGCTG\r\n",
        ">NTR3_30;barcodelabel=NTR3\r\n",
        "TACGTAGGTGGCAAGCGTTGTCCGGAATTATTGGGCGTAAAGGGCTCGCAGGCGGTTTCTTAAGTCTGATGTGAAAGCCCCCGGCTCAACCGGGGAAGGTCATTGGAAACTGGGGAACTTGAGTGCAGAAGAGGAGAGTGGAATTCCACGTGTAGCGGTGAAATGCGTAGAGATGTGGAGGAACACCAGTGGCGAAGGCGACTCTCTGGTCTGTAACTGACGCTGAGGAGCGAAAGCGTGGGGAGCGAACAGGATTAGATACCCTGGTAGTCCACGCCGTAAACGATGAGTGCTAAGTGTTAGGGGGTTTCCGCCCCTTAGTGCTGCAGCTAACGCATTAAGCACTCCGCCTGGGGAGTACGGTCGCAAGACTG\r\n"
       ]
      }
     ],
     "prompt_number": 40
    },
    {
     "cell_type": "code",
     "collapsed": false,
     "input": [
      "# This is where the actual OTUs are being assigned. We choose 97% sequence ID threshold here.\n",
      "# This might take a while - like 5 minutes\n",
      "# Depending ont he clustering algorithm, like pairwise... it would take, like, days on the same number of processors.\n",
      "# This is why usearch (centroid-based) is so much better\n",
      "# But is it more biologically relevant? ... maybe, maybe not.\n",
      "# Edgar is showing it's not that bad.\n",
      "\n",
      "# We take our total QC data (modified above to have the sample ID extracted)\n",
      "# We compare it to the otusn.pick.fasta database we made above\n",
      "# We produce a readmap.uc file which tells us how the reads from our finalQC file map to the otusn seed database.\n",
      "\n",
      "!usearch -usearch_global data/JSON_usearchfmt.fasta \\\n",
      "-db data/otusn_JSON.fasta \\\n",
      "-strand plus -id 0.97 \\\n",
      "-uc data/readmap_JSON.uc \\\n",
      "-threads 15"
     ],
     "language": "python",
     "metadata": {},
     "outputs": [
      {
       "output_type": "stream",
       "stream": "stdout",
       "text": [
        "usearch v7.0.1090_i86linux32, 4.0Gb RAM (132Gb total), 40 cores\r\n",
        "(C) Copyright 2013 Robert C. Edgar, all rights reserved.\r\n",
        "http://drive5.com/usearch\r\n",
        "\r\n",
        "Licensed to: chuck.peperanney@gmail.com\r\n",
        "\r\n"
       ]
      },
      {
       "output_type": "stream",
       "stream": "stdout",
       "text": [
        "00:00  19Mb Reading data/otusn_JSON.fasta, 5.6Mb\r\n"
       ]
      },
      {
       "output_type": "stream",
       "stream": "stdout",
       "text": [
        "00:00  25Mb 14387 (14.4k) seqs, min 370, avg 374, max 427nt\r\n",
        "00:00  25Mb    0.0% Masking\r"
       ]
      },
      {
       "output_type": "stream",
       "stream": "stdout",
       "text": [
        "00:00  25Mb  100.0% Masking\r",
        "\r\n",
        "00:00  25Mb    0.0% Word stats\r"
       ]
      },
      {
       "output_type": "stream",
       "stream": "stdout",
       "text": [
        "00:00  25Mb  100.0% Word stats\r",
        "\r\n",
        "00:00  26Mb    0.0% Building slots\r",
        "00:00  47Mb  100.0% Building slots\r",
        "\r\n",
        "00:00  46Mb    0.0% Build index   \r"
       ]
      },
      {
       "output_type": "stream",
       "stream": "stdout",
       "text": [
        "00:00  46Mb  100.0% B"
       ]
      },
      {
       "output_type": "stream",
       "stream": "stdout",
       "text": [
        "uild index\r",
        "\r\n",
        "00:00 171Mb    0.1% Searching, 0.0% matched\r",
        "00:01 200Mb    0.2% Searching, 97.7% matched\r"
       ]
      },
      {
       "output_type": "stream",
       "stream": "stdout",
       "text": [
        "00:02 203Mb    2.0% Searching, 99.0% matched\r"
       ]
      },
      {
       "output_type": "stream",
       "stream": "stdout",
       "text": [
        "00:03 203Mb    3.8% Searching, 98.5% matched\r"
       ]
      },
      {
       "output_type": "stream",
       "stream": "stdout",
       "text": [
        "00:04 206Mb    5.6% Searching, 98.0% matched\r"
       ]
      },
      {
       "output_type": "stream",
       "stream": "stdout",
       "text": [
        "00:05 206Mb    7.3% Searching, 97.3% matched\r"
       ]
      },
      {
       "output_type": "stream",
       "stream": "stdout",
       "text": [
        "00:06 206Mb    8.9% Searching, 96.3% matched\r"
       ]
      },
      {
       "output_type": "stream",
       "stream": "stdout",
       "text": [
        "00:07 206Mb   10.4% Searching, 95.2% matched\r"
       ]
      },
      {
       "output_type": "stream",
       "stream": "stdout",
       "text": [
        "00:08 206Mb   11.7% Searching, 93.7% matched\r"
       ]
      },
      {
       "output_type": "stream",
       "stream": "stdout",
       "text": [
        "00:09 206Mb   12.9% Searching, 92.1% matched\r"
       ]
      },
      {
       "output_type": "stream",
       "stream": "stdout",
       "text": [
        "00:10 206Mb   13.9% Searching, 90.3% matched\r"
       ]
      },
      {
       "output_type": "stream",
       "stream": "stdout",
       "text": [
        "00:11 206Mb   14.9% Searching, 88.5% matched\r"
       ]
      },
      {
       "output_type": "stream",
       "stream": "stdout",
       "text": [
        "00:12 205Mb   15.8% Searching, 86.8% matched\r"
       ]
      },
      {
       "output_type": "stream",
       "stream": "stdout",
       "text": [
        "00:13 205Mb   16.7% Searching, 85.3% matched\r"
       ]
      },
      {
       "output_type": "stream",
       "stream": "stdout",
       "text": [
        "00:14 205Mb   17.6% Searching, 83.7% matched\r"
       ]
      },
      {
       "output_type": "stream",
       "stream": "stdout",
       "text": [
        "00:15 205Mb   18.4% Searching, 82.3% matched\r"
       ]
      },
      {
       "output_type": "stream",
       "stream": "stdout",
       "text": [
        "00:16 206Mb   19.2% Searching, 80.9% matched\r"
       ]
      },
      {
       "output_type": "stream",
       "stream": "stdout",
       "text": [
        "00:17 206Mb   20.0% Searching, 79.5% matched\r"
       ]
      },
      {
       "output_type": "stream",
       "stream": "stdout",
       "text": [
        "00:18 206Mb   20.8% Searching, 78.3% matched\r"
       ]
      },
      {
       "output_type": "stream",
       "stream": "stdout",
       "text": [
        "00:19 206Mb   21.6% Searching, 77.1% matched\r"
       ]
      },
      {
       "output_type": "stream",
       "stream": "stdout",
       "text": [
        "00:20 206Mb   22.4% Searching, 76.0% matched\r"
       ]
      },
      {
       "output_type": "stream",
       "stream": "stdout",
       "text": [
        "00:21 206Mb   23.2% Searching, 74.9% matched\r"
       ]
      },
      {
       "output_type": "stream",
       "stream": "stdout",
       "text": [
        "00:22 206Mb   23.9% Searching, 73.9% matched\r"
       ]
      },
      {
       "output_type": "stream",
       "stream": "stdout",
       "text": [
        "00:23 206Mb   24.7% Searching, 72.9% matched\r"
       ]
      },
      {
       "output_type": "stream",
       "stream": "stdout",
       "text": [
        "00:24 206Mb   25.3% Searching, 72.0% matched\r"
       ]
      },
      {
       "output_type": "stream",
       "stream": "stdout",
       "text": [
        "00:25 206Mb   26.1% Searching, 71.1% matched\r"
       ]
      },
      {
       "output_type": "stream",
       "stream": "stdout",
       "text": [
        "00:26 206Mb   26.8% Searching, 70.2% matched\r"
       ]
      },
      {
       "output_type": "stream",
       "stream": "stdout",
       "text": [
        "00:27 206Mb   27.5% Searching, 69.4% matched\r"
       ]
      },
      {
       "output_type": "stream",
       "stream": "stdout",
       "text": [
        "00:28 206Mb   28.2% Searching, 68.6% matched\r"
       ]
      },
      {
       "output_type": "stream",
       "stream": "stdout",
       "text": [
        "00:29 206Mb   29.0% Searching, 67.8% matched\r"
       ]
      },
      {
       "output_type": "stream",
       "stream": "stdout",
       "text": [
        "00:30 206Mb   29.7% Searching, 67.1% matched\r"
       ]
      },
      {
       "output_type": "stream",
       "stream": "stdout",
       "text": [
        "00:31 206Mb   30.4% Searching, 66.4% matched\r"
       ]
      },
      {
       "output_type": "stream",
       "stream": "stdout",
       "text": [
        "00:32 206Mb   31.1% Searching, 65.7% matched\r"
       ]
      },
      {
       "output_type": "stream",
       "stream": "stdout",
       "text": [
        "00:33 206Mb   31.8% Searching, 65.0% matched\r"
       ]
      },
      {
       "output_type": "stream",
       "stream": "stdout",
       "text": [
        "00:34 206Mb   32.5% Searching, 64.4% matched\r"
       ]
      },
      {
       "output_type": "stream",
       "stream": "stdout",
       "text": [
        "00:35 206Mb   33.2% Searching, 63.8% matched\r"
       ]
      },
      {
       "output_type": "stream",
       "stream": "stdout",
       "text": [
        "00:36 206Mb   33.9% Searching, 63.2% matched\r"
       ]
      },
      {
       "output_type": "stream",
       "stream": "stdout",
       "text": [
        "00:37 206Mb   34.6% Searching, 62.6% matched\r"
       ]
      },
      {
       "output_type": "stream",
       "stream": "stdout",
       "text": [
        "00:38 206Mb   35.2% Searching, 62.0% matched\r"
       ]
      },
      {
       "output_type": "stream",
       "stream": "stdout",
       "text": [
        "00:39 206Mb   35.9% Searching, 61.5% matched\r"
       ]
      },
      {
       "output_type": "stream",
       "stream": "stdout",
       "text": [
        "00:40 206Mb   36.6% Searching, 60.9% matched\r"
       ]
      },
      {
       "output_type": "stream",
       "stream": "stdout",
       "text": [
        "00:41 206Mb   37.3% Searching, 60.4% matched\r"
       ]
      },
      {
       "output_type": "stream",
       "stream": "stdout",
       "text": [
        "00:42 206Mb   37.9% Searching, 59.9% matched\r"
       ]
      },
      {
       "output_type": "stream",
       "stream": "stdout",
       "text": [
        "00:43 206Mb   38.6% Searching, 59.4% matched\r"
       ]
      },
      {
       "output_type": "stream",
       "stream": "stdout",
       "text": [
        "00:44 206Mb   39.3% Searching, 58.9% matched\r"
       ]
      },
      {
       "output_type": "stream",
       "stream": "stdout",
       "text": [
        "00:45 206Mb   39.9% Searching, 58.4% matched\r"
       ]
      },
      {
       "output_type": "stream",
       "stream": "stdout",
       "text": [
        "00:46 207Mb   40.6% Searching, 58.0% matched\r"
       ]
      },
      {
       "output_type": "stream",
       "stream": "stdout",
       "text": [
        "00:47 207Mb   41.2% Searching, 57.5% matched\r"
       ]
      },
      {
       "output_type": "stream",
       "stream": "stdout",
       "text": [
        "00:48 208Mb   41.9% Searching, 57.1% matched\r"
       ]
      },
      {
       "output_type": "stream",
       "stream": "stdout",
       "text": [
        "00:49 208Mb   42.5% Searching, 56.7% matched\r"
       ]
      },
      {
       "output_type": "stream",
       "stream": "stdout",
       "text": [
        "00:50 208Mb   43.2% Searching, 56.2% matched\r"
       ]
      },
      {
       "output_type": "stream",
       "stream": "stdout",
       "text": [
        "00:51 208Mb   43.9% Searching, 55.8% matched\r"
       ]
      },
      {
       "output_type": "stream",
       "stream": "stdout",
       "text": [
        "00:52 208Mb   44.5% Searching, 55.4% matched\r"
       ]
      },
      {
       "output_type": "stream",
       "stream": "stdout",
       "text": [
        "00:53 208Mb   45.2% Searching, 55.0% matched\r"
       ]
      },
      {
       "output_type": "stream",
       "stream": "stdout",
       "text": [
        "00:54 208Mb   45.8% Searching, 54.7% matched\r"
       ]
      },
      {
       "output_type": "stream",
       "stream": "stdout",
       "text": [
        "00:55 208Mb   46.5% Searching, 54.3% matched\r"
       ]
      },
      {
       "output_type": "stream",
       "stream": "stdout",
       "text": [
        "00:56 208Mb   47.1% Searching, 54.0% matched\r"
       ]
      },
      {
       "output_type": "stream",
       "stream": "stdout",
       "text": [
        "00:57 208Mb   47.8% Searching, 53.7% matched\r"
       ]
      },
      {
       "output_type": "stream",
       "stream": "stdout",
       "text": [
        "00:58 208Mb   48.5% Searching, 53.3% matched\r"
       ]
      },
      {
       "output_type": "stream",
       "stream": "stdout",
       "text": [
        "00:59 208Mb   49.2% Searching, 53.1% matched\r"
       ]
      },
      {
       "output_type": "stream",
       "stream": "stdout",
       "text": [
        "01:00 208Mb   49.8% Searching, 52.8% matched\r"
       ]
      },
      {
       "output_type": "stream",
       "stream": "stdout",
       "text": [
        "01:01 208Mb   50.5% Searching, 52.5% matched\r"
       ]
      },
      {
       "output_type": "stream",
       "stream": "stdout",
       "text": [
        "01:02 208Mb   51.2% Searching, 52.2% matched\r"
       ]
      },
      {
       "output_type": "stream",
       "stream": "stdout",
       "text": [
        "01:03 208Mb   51.9% Searching, 52.0% matched\r"
       ]
      },
      {
       "output_type": "stream",
       "stream": "stdout",
       "text": [
        "01:04 208Mb   52.6% Searching, 51.7% matched\r"
       ]
      },
      {
       "output_type": "stream",
       "stream": "stdout",
       "text": [
        "01:05 208Mb   53.3% Searching, 51.5% matched\r"
       ]
      },
      {
       "output_type": "stream",
       "stream": "stdout",
       "text": [
        "01:06 208Mb   54.0% Searching, 51.3% matched\r"
       ]
      },
      {
       "output_type": "stream",
       "stream": "stdout",
       "text": [
        "01:07 208Mb   54.7% Searching, 51.1% matched\r"
       ]
      },
      {
       "output_type": "stream",
       "stream": "stdout",
       "text": [
        "01:08 208Mb   55.4% Searching, 50.8% matched\r"
       ]
      },
      {
       "output_type": "stream",
       "stream": "stdout",
       "text": [
        "01:09 208Mb   56.1% Searching, 50.6% matched\r"
       ]
      },
      {
       "output_type": "stream",
       "stream": "stdout",
       "text": [
        "01:10 208Mb   56.8% Searching, 50.4% matched\r"
       ]
      },
      {
       "output_type": "stream",
       "stream": "stdout",
       "text": [
        "01:11 208Mb   57.4% Searching, 50.2% matched\r"
       ]
      },
      {
       "output_type": "stream",
       "stream": "stdout",
       "text": [
        "01:12 208Mb   58.1% Searching, 50.0% matched\r"
       ]
      },
      {
       "output_type": "stream",
       "stream": "stdout",
       "text": [
        "01:13 208Mb   58.8% Searching, 49.8% matched\r"
       ]
      },
      {
       "output_type": "stream",
       "stream": "stdout",
       "text": [
        "01:14 208Mb   59.5% Searching, 49.6% matched\r"
       ]
      },
      {
       "output_type": "stream",
       "stream": "stdout",
       "text": [
        "01:15 208Mb   60.1% Searching, 49.4% matched\r"
       ]
      },
      {
       "output_type": "stream",
       "stream": "stdout",
       "text": [
        "01:16 208Mb   60.8% Searching, 49.1% matched\r"
       ]
      },
      {
       "output_type": "stream",
       "stream": "stdout",
       "text": [
        "01:17 208Mb   61.5% Searching, 48.9% matched\r"
       ]
      },
      {
       "output_type": "stream",
       "stream": "stdout",
       "text": [
        "01:18 208Mb   62.1% Searching, 48.7% matched\r"
       ]
      },
      {
       "output_type": "stream",
       "stream": "stdout",
       "text": [
        "01:19 208Mb   62.8% Searching, 48.5% matched\r"
       ]
      },
      {
       "output_type": "stream",
       "stream": "stdout",
       "text": [
        "01:20 208Mb   63.4% Searching, 48.3% matched\r"
       ]
      },
      {
       "output_type": "stream",
       "stream": "stdout",
       "text": [
        "01:21 208Mb   64.1% Searching, 48.1% matched\r"
       ]
      },
      {
       "output_type": "stream",
       "stream": "stdout",
       "text": [
        "01:22 208Mb   64.8% Searching, 47.9% matched\r"
       ]
      },
      {
       "output_type": "stream",
       "stream": "stdout",
       "text": [
        "01:23 208Mb   65.4% Searching, 47.7% matched\r"
       ]
      },
      {
       "output_type": "stream",
       "stream": "stdout",
       "text": [
        "01:24 208Mb   66.1% Searching, 47.6% matched\r"
       ]
      },
      {
       "output_type": "stream",
       "stream": "stdout",
       "text": [
        "01:25 208Mb   66.7% Searching, 47.4% matched\r"
       ]
      },
      {
       "output_type": "stream",
       "stream": "stdout",
       "text": [
        "01:26 208Mb   67.4% Searching, 47.2% matched\r"
       ]
      },
      {
       "output_type": "stream",
       "stream": "stdout",
       "text": [
        "01:27 208Mb   68.0% Searching, 47.0% matched\r"
       ]
      },
      {
       "output_type": "stream",
       "stream": "stdout",
       "text": [
        "01:28 208Mb   68.7% Searching, 46.8% matched\r"
       ]
      },
      {
       "output_type": "stream",
       "stream": "stdout",
       "text": [
        "01:29 209Mb   69.3% Searching, 46.6% matched\r"
       ]
      },
      {
       "output_type": "stream",
       "stream": "stdout",
       "text": [
        "01:30 209Mb   70.0% Searching, 46.5% matched\r"
       ]
      },
      {
       "output_type": "stream",
       "stream": "stdout",
       "text": [
        "01:31 209Mb   70.6% Searching, 46.3% matched\r"
       ]
      },
      {
       "output_type": "stream",
       "stream": "stdout",
       "text": [
        "01:32 209Mb   71.2% Searching, 46.1% matched\r"
       ]
      },
      {
       "output_type": "stream",
       "stream": "stdout",
       "text": [
        "01:33 209Mb   71.9% Searching, 46.0% matched\r"
       ]
      },
      {
       "output_type": "stream",
       "stream": "stdout",
       "text": [
        "01:34 209Mb   72.8% Searching, 46.2% matched\r"
       ]
      },
      {
       "output_type": "stream",
       "stream": "stdout",
       "text": [
        "01:35 209Mb   73.9% Searching, 46.5% matched\r"
       ]
      },
      {
       "output_type": "stream",
       "stream": "stdout",
       "text": [
        "01:36 209Mb   74.9% Searching, 46.7% matched\r"
       ]
      },
      {
       "output_type": "stream",
       "stream": "stdout",
       "text": [
        "01:37 209Mb   75.7% Searching, 46.8% matched\r"
       ]
      },
      {
       "output_type": "stream",
       "stream": "stdout",
       "text": [
        "01:38 209Mb   76.6% Searching, 46.9% matched\r"
       ]
      },
      {
       "output_type": "stream",
       "stream": "stdout",
       "text": [
        "01:39 209Mb   77.5% Searching, 46.9% matched\r"
       ]
      },
      {
       "output_type": "stream",
       "stream": "stdout",
       "text": [
        "01:40 209Mb   78.4% Searching, 47.0% matched\r"
       ]
      },
      {
       "output_type": "stream",
       "stream": "stdout",
       "text": [
        "01:41 209Mb   79.2% Searching, 47.0% matched\r"
       ]
      },
      {
       "output_type": "stream",
       "stream": "stdout",
       "text": [
        "01:42 209Mb   80.0% Searching, 47.0% matched\r"
       ]
      },
      {
       "output_type": "stream",
       "stream": "stdout",
       "text": [
        "01:43 209Mb   80.8% Searching, 47.0% matched\r"
       ]
      },
      {
       "output_type": "stream",
       "stream": "stdout",
       "text": [
        "01:44 209Mb   81.6% Searching, 47.0% matched\r"
       ]
      },
      {
       "output_type": "stream",
       "stream": "stdout",
       "text": [
        "01:45 209Mb   82.5% Searching, 46.9% matched\r"
       ]
      },
      {
       "output_type": "stream",
       "stream": "stdout",
       "text": [
        "01:46 209Mb   83.3% Searching, 46.9% matched\r"
       ]
      },
      {
       "output_type": "stream",
       "stream": "stdout",
       "text": [
        "01:47 209Mb   84.1% Searching, 46.9% matched\r"
       ]
      },
      {
       "output_type": "stream",
       "stream": "stdout",
       "text": [
        "01:48 209Mb   84.9% Searching, 46.9% matched\r"
       ]
      },
      {
       "output_type": "stream",
       "stream": "stdout",
       "text": [
        "01:49 209Mb   85.6% Searching, 46.9% matched\r"
       ]
      },
      {
       "output_type": "stream",
       "stream": "stdout",
       "text": [
        "01:50 209Mb   86.3% Searching, 46.8% matched\r"
       ]
      },
      {
       "output_type": "stream",
       "stream": "stdout",
       "text": [
        "01:51 209Mb   87.2% Searching, 47.1% matched\r"
       ]
      },
      {
       "output_type": "stream",
       "stream": "stdout",
       "text": [
        "01:52 209Mb   87.9% Searching, 47.2% matched\r"
       ]
      },
      {
       "output_type": "stream",
       "stream": "stdout",
       "text": [
        "01:53 209Mb   88.7% Searching, 47.2% matched\r"
       ]
      },
      {
       "output_type": "stream",
       "stream": "stdout",
       "text": [
        "01:54 209Mb   89.4% Searching, 47.2% matched\r"
       ]
      },
      {
       "output_type": "stream",
       "stream": "stdout",
       "text": [
        "01:55 209Mb   90.0% Searching, 47.1% matched\r"
       ]
      },
      {
       "output_type": "stream",
       "stream": "stdout",
       "text": [
        "01:56 209Mb   90.7% Searching, 47.1% matched\r"
       ]
      },
      {
       "output_type": "stream",
       "stream": "stdout",
       "text": [
        "01:57 209Mb   91.4% Searching, 47.1% matched\r"
       ]
      },
      {
       "output_type": "stream",
       "stream": "stdout",
       "text": [
        "01:58 209Mb   92.1% Searching, 47.0% matched\r"
       ]
      },
      {
       "output_type": "stream",
       "stream": "stdout",
       "text": [
        "01:59 209Mb   92.8% Searching, 47.0% matched\r"
       ]
      },
      {
       "output_type": "stream",
       "stream": "stdout",
       "text": [
        "02:00 209Mb   93.5% Searching, 47.0% matched\r"
       ]
      },
      {
       "output_type": "stream",
       "stream": "stdout",
       "text": [
        "02:01 209Mb   94.2% Searching, 47.0% matched\r"
       ]
      },
      {
       "output_type": "stream",
       "stream": "stdout",
       "text": [
        "02:02 209Mb   94.8% Searching, 47.0% matched\r"
       ]
      },
      {
       "output_type": "stream",
       "stream": "stdout",
       "text": [
        "02:03 209Mb   95.5% Searching, 46.9% matched\r"
       ]
      },
      {
       "output_type": "stream",
       "stream": "stdout",
       "text": [
        "02:04 209Mb   96.1% Searching, 46.9% matched\r"
       ]
      },
      {
       "output_type": "stream",
       "stream": "stdout",
       "text": [
        "02:05 209Mb   96.7% Searching, 46.9% matched\r"
       ]
      },
      {
       "output_type": "stream",
       "stream": "stdout",
       "text": [
        "02:06 209Mb   97.4% Searching, 46.8% matched\r"
       ]
      },
      {
       "output_type": "stream",
       "stream": "stdout",
       "text": [
        "02:07 209Mb   98.0% Searching, 46.8% matched\r"
       ]
      },
      {
       "output_type": "stream",
       "stream": "stdout",
       "text": [
        "02:08 209Mb   98.6% Searching, 46.8% matched\r"
       ]
      },
      {
       "output_type": "stream",
       "stream": "stdout",
       "text": [
        "02:09 209Mb   99.3% Searching, 46.7% matched\r"
       ]
      },
      {
       "output_type": "stream",
       "stream": "stdout",
       "text": [
        "02:10 209Mb   99.8% Searching, 46.7% matched\r"
       ]
      },
      {
       "output_type": "stream",
       "stream": "stdout",
       "text": [
        "02:10 209Mb  100.0% Searching, 46.7% matched\r",
        "\r\n"
       ]
      }
     ],
     "prompt_number": 41
    },
    {
     "cell_type": "code",
     "collapsed": false,
     "input": [
      "# Makes an OTU table\n",
      "# It will tell me the OTU ID, and then for all the samples, which OTUs it has sequences from.\n",
      "!python /opt/bioinfo/edgar_python_scripts/uc2otutab.py data/readmap_JSON.uc > data/otu_table_JSON.txt"
     ],
     "language": "python",
     "metadata": {},
     "outputs": [
      {
       "output_type": "stream",
       "stream": "stdout",
       "text": [
        "data/readmap_JSON.uc   0.0%   \r"
       ]
      },
      {
       "output_type": "stream",
       "stream": "stdout",
       "text": [
        "data/readmap_JSON.uc   1.1%   \r"
       ]
      },
      {
       "output_type": "stream",
       "stream": "stdout",
       "text": [
        "data/readmap_JSON.uc   2.1%   \r"
       ]
      },
      {
       "output_type": "stream",
       "stream": "stdout",
       "text": [
        "data/readmap_JSON.uc   2.9%   \r"
       ]
      },
      {
       "output_type": "stream",
       "stream": "stdout",
       "text": [
        "data/readmap_JSON.uc   3.8%   \r"
       ]
      },
      {
       "output_type": "stream",
       "stream": "stdout",
       "text": [
        "data/readmap_JSON.uc   4.5%   \r"
       ]
      },
      {
       "output_type": "stream",
       "stream": "stdout",
       "text": [
        "data/readmap_JSON.uc   5.4%   \r"
       ]
      },
      {
       "output_type": "stream",
       "stream": "stdout",
       "text": [
        "data/readmap_JSON.uc   6.0%   \r"
       ]
      },
      {
       "output_type": "stream",
       "stream": "stdout",
       "text": [
        "data/readmap_JSON.uc   6.7%   \r"
       ]
      },
      {
       "output_type": "stream",
       "stream": "stdout",
       "text": [
        "data/readmap_JSON.uc   7.3%   \r"
       ]
      },
      {
       "output_type": "stream",
       "stream": "stdout",
       "text": [
        "data/readmap_JSON.uc   7.9%   \r"
       ]
      },
      {
       "output_type": "stream",
       "stream": "stdout",
       "text": [
        "data/readmap_JSON.uc   8.4%   \r"
       ]
      },
      {
       "output_type": "stream",
       "stream": "stdout",
       "text": [
        "data/readmap_JSON.uc   9.0%   \r"
       ]
      },
      {
       "output_type": "stream",
       "stream": "stdout",
       "text": [
        "data/readmap_JSON.uc   9.5%   \r"
       ]
      },
      {
       "output_type": "stream",
       "stream": "stdout",
       "text": [
        "data/readmap_JSON.uc  10.1%   \r"
       ]
      },
      {
       "output_type": "stream",
       "stream": "stdout",
       "text": [
        "data/readmap_JSON.uc  10.6%   \r"
       ]
      },
      {
       "output_type": "stream",
       "stream": "stdout",
       "text": [
        "data/readmap_JSON.uc  11.1%   \r"
       ]
      },
      {
       "output_type": "stream",
       "stream": "stdout",
       "text": [
        "data/readmap_JSON.uc  11.5%   \r"
       ]
      },
      {
       "output_type": "stream",
       "stream": "stdout",
       "text": [
        "data/readmap_JSON.uc  12.0%   \r"
       ]
      },
      {
       "output_type": "stream",
       "stream": "stdout",
       "text": [
        "data/readmap_JSON.uc  12.4%   \r"
       ]
      },
      {
       "output_type": "stream",
       "stream": "stdout",
       "text": [
        "data/readmap_JSON.uc  12.8%   \r"
       ]
      },
      {
       "output_type": "stream",
       "stream": "stdout",
       "text": [
        "data/readmap_JSON.uc  13.3%   \r"
       ]
      },
      {
       "output_type": "stream",
       "stream": "stdout",
       "text": [
        "data/readmap_JSON.uc  13.7%   \r"
       ]
      },
      {
       "output_type": "stream",
       "stream": "stdout",
       "text": [
        "data/readmap_JSON.uc  14.2%   \r"
       ]
      },
      {
       "output_type": "stream",
       "stream": "stdout",
       "text": [
        "data/readmap_JSON.uc  14.6%   \r"
       ]
      },
      {
       "output_type": "stream",
       "stream": "stdout",
       "text": [
        "data/readmap_JSON.uc  15.0%   \r"
       ]
      },
      {
       "output_type": "stream",
       "stream": "stdout",
       "text": [
        "data/readmap_JSON.uc  15.5%   \r"
       ]
      },
      {
       "output_type": "stream",
       "stream": "stdout",
       "text": [
        "data/readmap_JSON.uc  16.0%   \r"
       ]
      },
      {
       "output_type": "stream",
       "stream": "stdout",
       "text": [
        "data/readmap_JSON.uc  16.4%   \r"
       ]
      },
      {
       "output_type": "stream",
       "stream": "stdout",
       "text": [
        "data/readmap_JSON.uc  16.8%   \r"
       ]
      },
      {
       "output_type": "stream",
       "stream": "stdout",
       "text": [
        "data/readmap_JSON.uc  17.3%   \r"
       ]
      },
      {
       "output_type": "stream",
       "stream": "stdout",
       "text": [
        "data/readmap_JSON.uc  17.7%   \r"
       ]
      },
      {
       "output_type": "stream",
       "stream": "stdout",
       "text": [
        "data/readmap_JSON.uc  18.1%   \r"
       ]
      },
      {
       "output_type": "stream",
       "stream": "stdout",
       "text": [
        "data/readmap_JSON.uc  18.6%   \r"
       ]
      },
      {
       "output_type": "stream",
       "stream": "stdout",
       "text": [
        "data/readmap_JSON.uc  19.1%   \r"
       ]
      },
      {
       "output_type": "stream",
       "stream": "stdout",
       "text": [
        "data/readmap_JSON.uc  19.5%   \r"
       ]
      },
      {
       "output_type": "stream",
       "stream": "stdout",
       "text": [
        "data/readmap_JSON.uc  20.0%   \r"
       ]
      },
      {
       "output_type": "stream",
       "stream": "stdout",
       "text": [
        "data/readmap_JSON.uc  20.5%   \r"
       ]
      },
      {
       "output_type": "stream",
       "stream": "stdout",
       "text": [
        "data/readmap_JSON.uc  21.0%   \r"
       ]
      },
      {
       "output_type": "stream",
       "stream": "stdout",
       "text": [
        "data/readmap_JSON.uc  21.4%   \r"
       ]
      },
      {
       "output_type": "stream",
       "stream": "stdout",
       "text": [
        "data/readmap_JSON.uc  21.9%   \r"
       ]
      },
      {
       "output_type": "stream",
       "stream": "stdout",
       "text": [
        "data/readmap_JSON.uc  22.4%   \r"
       ]
      },
      {
       "output_type": "stream",
       "stream": "stdout",
       "text": [
        "data/readmap_JSON.uc  22.9%   \r"
       ]
      },
      {
       "output_type": "stream",
       "stream": "stdout",
       "text": [
        "data/readmap_JSON.uc  23.4%   \r"
       ]
      },
      {
       "output_type": "stream",
       "stream": "stdout",
       "text": [
        "data/readmap_JSON.uc  23.9%   \r"
       ]
      },
      {
       "output_type": "stream",
       "stream": "stdout",
       "text": [
        "data/readmap_JSON.uc  24.4%   \r"
       ]
      },
      {
       "output_type": "stream",
       "stream": "stdout",
       "text": [
        "data/readmap_JSON.uc  24.9%   \r"
       ]
      },
      {
       "output_type": "stream",
       "stream": "stdout",
       "text": [
        "data/readmap_JSON.uc  25.4%   \r"
       ]
      },
      {
       "output_type": "stream",
       "stream": "stdout",
       "text": [
        "data/readmap_JSON.uc  25.9%   \r"
       ]
      },
      {
       "output_type": "stream",
       "stream": "stdout",
       "text": [
        "data/readmap_JSON.uc  26.4%   \r"
       ]
      },
      {
       "output_type": "stream",
       "stream": "stdout",
       "text": [
        "data/readmap_JSON.uc  27.0%   \r"
       ]
      },
      {
       "output_type": "stream",
       "stream": "stdout",
       "text": [
        "data/readmap_JSON.uc  27.5%   \r"
       ]
      },
      {
       "output_type": "stream",
       "stream": "stdout",
       "text": [
        "data/readmap_JSON.uc  28.0%   \r"
       ]
      },
      {
       "output_type": "stream",
       "stream": "stdout",
       "text": [
        "data/readmap_JSON.uc  28.5%   \r"
       ]
      },
      {
       "output_type": "stream",
       "stream": "stdout",
       "text": [
        "data/readmap_JSON.uc  29.0%   \r"
       ]
      },
      {
       "output_type": "stream",
       "stream": "stdout",
       "text": [
        "data/readmap_JSON.uc  29.5%   \r"
       ]
      },
      {
       "output_type": "stream",
       "stream": "stdout",
       "text": [
        "data/readmap_JSON.uc  30.1%   \r"
       ]
      },
      {
       "output_type": "stream",
       "stream": "stdout",
       "text": [
        "data/readmap_JSON.uc  30.6%   \r"
       ]
      },
      {
       "output_type": "stream",
       "stream": "stdout",
       "text": [
        "data/readmap_JSON.uc  31.1%   \r"
       ]
      },
      {
       "output_type": "stream",
       "stream": "stdout",
       "text": [
        "data/readmap_JSON.uc  31.6%   \r"
       ]
      },
      {
       "output_type": "stream",
       "stream": "stdout",
       "text": [
        "data/readmap_JSON.uc  32.1%   \r"
       ]
      },
      {
       "output_type": "stream",
       "stream": "stdout",
       "text": [
        "data/readmap_JSON.uc  32.7%   \r"
       ]
      },
      {
       "output_type": "stream",
       "stream": "stdout",
       "text": [
        "data/readmap_JSON.uc  33.2%   \r"
       ]
      },
      {
       "output_type": "stream",
       "stream": "stdout",
       "text": [
        "data/readmap_JSON.uc  33.7%   \r"
       ]
      },
      {
       "output_type": "stream",
       "stream": "stdout",
       "text": [
        "data/readmap_JSON.uc  34.2%   \r"
       ]
      },
      {
       "output_type": "stream",
       "stream": "stdout",
       "text": [
        "data/readmap_JSON.uc  34.7%   \r"
       ]
      },
      {
       "output_type": "stream",
       "stream": "stdout",
       "text": [
        "data/readmap_JSON.uc  35.3%   \r"
       ]
      },
      {
       "output_type": "stream",
       "stream": "stdout",
       "text": [
        "data/readmap_JSON.uc  35.8%   \r"
       ]
      },
      {
       "output_type": "stream",
       "stream": "stdout",
       "text": [
        "data/readmap_JSON.uc  36.3%   \r"
       ]
      },
      {
       "output_type": "stream",
       "stream": "stdout",
       "text": [
        "data/readmap_JSON.uc  36.8%   \r"
       ]
      },
      {
       "output_type": "stream",
       "stream": "stdout",
       "text": [
        "data/readmap_JSON.uc  37.4%   \r"
       ]
      },
      {
       "output_type": "stream",
       "stream": "stdout",
       "text": [
        "data/readmap_JSON.uc  37.9%   \r"
       ]
      },
      {
       "output_type": "stream",
       "stream": "stdout",
       "text": [
        "data/readmap_JSON.uc  38.4%   \r"
       ]
      },
      {
       "output_type": "stream",
       "stream": "stdout",
       "text": [
        "data/readmap_JSON.uc  38.9%   \r"
       ]
      },
      {
       "output_type": "stream",
       "stream": "stdout",
       "text": [
        "data/readmap_JSON.uc  39.5%   \r"
       ]
      },
      {
       "output_type": "stream",
       "stream": "stdout",
       "text": [
        "data/readmap_JSON.uc  40.0%   \r"
       ]
      },
      {
       "output_type": "stream",
       "stream": "stdout",
       "text": [
        "data/readmap_JSON.uc  40.5%   \r"
       ]
      },
      {
       "output_type": "stream",
       "stream": "stdout",
       "text": [
        "data/readmap_JSON.uc  41.0%   \r"
       ]
      },
      {
       "output_type": "stream",
       "stream": "stdout",
       "text": [
        "data/readmap_JSON.uc  41.6%   \r"
       ]
      },
      {
       "output_type": "stream",
       "stream": "stdout",
       "text": [
        "data/readmap_JSON.uc  42.1%   \r"
       ]
      },
      {
       "output_type": "stream",
       "stream": "stdout",
       "text": [
        "data/readmap_JSON.uc  42.6%   \r"
       ]
      },
      {
       "output_type": "stream",
       "stream": "stdout",
       "text": [
        "data/readmap_JSON.uc  43.1%   \r"
       ]
      },
      {
       "output_type": "stream",
       "stream": "stdout",
       "text": [
        "data/readmap_JSON.uc  43.7%   \r"
       ]
      },
      {
       "output_type": "stream",
       "stream": "stdout",
       "text": [
        "data/readmap_JSON.uc  44.2%   \r"
       ]
      },
      {
       "output_type": "stream",
       "stream": "stdout",
       "text": [
        "data/readmap_JSON.uc  44.7%   \r"
       ]
      },
      {
       "output_type": "stream",
       "stream": "stdout",
       "text": [
        "data/readmap_JSON.uc  45.3%   \r"
       ]
      },
      {
       "output_type": "stream",
       "stream": "stdout",
       "text": [
        "data/readmap_JSON.uc  45.8%   \r"
       ]
      },
      {
       "output_type": "stream",
       "stream": "stdout",
       "text": [
        "data/readmap_JSON.uc  46.3%   \r"
       ]
      },
      {
       "output_type": "stream",
       "stream": "stdout",
       "text": [
        "data/readmap_JSON.uc  46.9%   \r"
       ]
      },
      {
       "output_type": "stream",
       "stream": "stdout",
       "text": [
        "data/readmap_JSON.uc  47.4%   \r"
       ]
      },
      {
       "output_type": "stream",
       "stream": "stdout",
       "text": [
        "data/readmap_JSON.uc  47.9%   \r"
       ]
      },
      {
       "output_type": "stream",
       "stream": "stdout",
       "text": [
        "data/readmap_JSON.uc  48.5%   \r"
       ]
      },
      {
       "output_type": "stream",
       "stream": "stdout",
       "text": [
        "data/readmap_JSON.uc  49.0%   \r"
       ]
      },
      {
       "output_type": "stream",
       "stream": "stdout",
       "text": [
        "data/readmap_JSON.uc  49.6%   \r"
       ]
      },
      {
       "output_type": "stream",
       "stream": "stdout",
       "text": [
        "data/readmap_JSON.uc  50.1%   \r"
       ]
      },
      {
       "output_type": "stream",
       "stream": "stdout",
       "text": [
        "data/readmap_JSON.uc  50.6%   \r"
       ]
      },
      {
       "output_type": "stream",
       "stream": "stdout",
       "text": [
        "data/readmap_JSON.uc  51.2%   \r"
       ]
      },
      {
       "output_type": "stream",
       "stream": "stdout",
       "text": [
        "data/readmap_JSON.uc  51.8%   \r"
       ]
      },
      {
       "output_type": "stream",
       "stream": "stdout",
       "text": [
        "data/readmap_JSON.uc  52.3%   \r"
       ]
      },
      {
       "output_type": "stream",
       "stream": "stdout",
       "text": [
        "data/readmap_JSON.uc  52.9%   \r"
       ]
      },
      {
       "output_type": "stream",
       "stream": "stdout",
       "text": [
        "data/readmap_JSON.uc  53.4%   \r"
       ]
      },
      {
       "output_type": "stream",
       "stream": "stdout",
       "text": [
        "data/readmap_JSON.uc  54.0%   \r"
       ]
      },
      {
       "output_type": "stream",
       "stream": "stdout",
       "text": [
        "data/readmap_JSON.uc  54.6%   \r"
       ]
      },
      {
       "output_type": "stream",
       "stream": "stdout",
       "text": [
        "data/readmap_JSON.uc  55.1%   \r"
       ]
      },
      {
       "output_type": "stream",
       "stream": "stdout",
       "text": [
        "data/readmap_JSON.uc  55.6%   \r"
       ]
      },
      {
       "output_type": "stream",
       "stream": "stdout",
       "text": [
        "data/readmap_JSON.uc  56.2%   \r"
       ]
      },
      {
       "output_type": "stream",
       "stream": "stdout",
       "text": [
        "data/readmap_JSON.uc  56.7%   \r"
       ]
      },
      {
       "output_type": "stream",
       "stream": "stdout",
       "text": [
        "data/readmap_JSON.uc  57.3%   \r"
       ]
      },
      {
       "output_type": "stream",
       "stream": "stdout",
       "text": [
        "data/readmap_JSON.uc  57.8%   \r"
       ]
      },
      {
       "output_type": "stream",
       "stream": "stdout",
       "text": [
        "data/readmap_JSON.uc  58.4%   \r"
       ]
      },
      {
       "output_type": "stream",
       "stream": "stdout",
       "text": [
        "data/readmap_JSON.uc  58.9%   \r"
       ]
      },
      {
       "output_type": "stream",
       "stream": "stdout",
       "text": [
        "data/readmap_JSON.uc  59.4%   \r"
       ]
      },
      {
       "output_type": "stream",
       "stream": "stdout",
       "text": [
        "data/readmap_JSON.uc  60.0%   \r"
       ]
      },
      {
       "output_type": "stream",
       "stream": "stdout",
       "text": [
        "data/readmap_JSON.uc  60.5%   \r"
       ]
      },
      {
       "output_type": "stream",
       "stream": "stdout",
       "text": [
        "data/readmap_JSON.uc  61.1%   \r"
       ]
      },
      {
       "output_type": "stream",
       "stream": "stdout",
       "text": [
        "data/readmap_JSON.uc  61.6%   \r"
       ]
      },
      {
       "output_type": "stream",
       "stream": "stdout",
       "text": [
        "data/readmap_JSON.uc  62.1%   \r"
       ]
      },
      {
       "output_type": "stream",
       "stream": "stdout",
       "text": [
        "data/readmap_JSON.uc  62.7%   \r"
       ]
      },
      {
       "output_type": "stream",
       "stream": "stdout",
       "text": [
        "data/readmap_JSON.uc  63.2%   \r"
       ]
      },
      {
       "output_type": "stream",
       "stream": "stdout",
       "text": [
        "data/readmap_JSON.uc  63.7%   \r"
       ]
      },
      {
       "output_type": "stream",
       "stream": "stdout",
       "text": [
        "data/readmap_JSON.uc  64.3%   \r"
       ]
      },
      {
       "output_type": "stream",
       "stream": "stdout",
       "text": [
        "data/readmap_JSON.uc  64.8%   \r"
       ]
      },
      {
       "output_type": "stream",
       "stream": "stdout",
       "text": [
        "data/readmap_JSON.uc  65.3%   \r"
       ]
      },
      {
       "output_type": "stream",
       "stream": "stdout",
       "text": [
        "data/readmap_JSON.uc  65.9%   \r"
       ]
      },
      {
       "output_type": "stream",
       "stream": "stdout",
       "text": [
        "data/readmap_JSON.uc  66.4%   \r"
       ]
      },
      {
       "output_type": "stream",
       "stream": "stdout",
       "text": [
        "data/readmap_JSON.uc  66.9%   \r"
       ]
      },
      {
       "output_type": "stream",
       "stream": "stdout",
       "text": [
        "data/readmap_JSON.uc  67.5%   \r"
       ]
      },
      {
       "output_type": "stream",
       "stream": "stdout",
       "text": [
        "data/readmap_JSON.uc  68.0%   \r"
       ]
      },
      {
       "output_type": "stream",
       "stream": "stdout",
       "text": [
        "data/readmap_JSON.uc  68.5%   \r"
       ]
      },
      {
       "output_type": "stream",
       "stream": "stdout",
       "text": [
        "data/readmap_JSON.uc  69.0%   \r"
       ]
      },
      {
       "output_type": "stream",
       "stream": "stdout",
       "text": [
        "data/readmap_JSON.uc  69.6%   \r"
       ]
      },
      {
       "output_type": "stream",
       "stream": "stdout",
       "text": [
        "data/readmap_JSON.uc  70.1%   \r"
       ]
      },
      {
       "output_type": "stream",
       "stream": "stdout",
       "text": [
        "data/readmap_JSON.uc  70.7%   \r"
       ]
      },
      {
       "output_type": "stream",
       "stream": "stdout",
       "text": [
        "data/readmap_JSON.uc  71.3%   \r"
       ]
      },
      {
       "output_type": "stream",
       "stream": "stdout",
       "text": [
        "data/readmap_JSON.uc  71.9%   \r"
       ]
      },
      {
       "output_type": "stream",
       "stream": "stdout",
       "text": [
        "data/readmap_JSON.uc  72.5%   \r"
       ]
      },
      {
       "output_type": "stream",
       "stream": "stdout",
       "text": [
        "data/readmap_JSON.uc  73.0%   \r"
       ]
      },
      {
       "output_type": "stream",
       "stream": "stdout",
       "text": [
        "data/readmap_JSON.uc  73.6%   \r"
       ]
      },
      {
       "output_type": "stream",
       "stream": "stdout",
       "text": [
        "data/readmap_JSON.uc  74.1%   \r"
       ]
      },
      {
       "output_type": "stream",
       "stream": "stdout",
       "text": [
        "data/readmap_JSON.uc  74.7%   \r"
       ]
      },
      {
       "output_type": "stream",
       "stream": "stdout",
       "text": [
        "data/readmap_JSON.uc  75.2%   \r"
       ]
      },
      {
       "output_type": "stream",
       "stream": "stdout",
       "text": [
        "data/readmap_JSON.uc  75.7%   \r"
       ]
      },
      {
       "output_type": "stream",
       "stream": "stdout",
       "text": [
        "data/readmap_JSON.uc  76.2%   \r"
       ]
      },
      {
       "output_type": "stream",
       "stream": "stdout",
       "text": [
        "data/readmap_JSON.uc  76.8%   \r"
       ]
      },
      {
       "output_type": "stream",
       "stream": "stdout",
       "text": [
        "data/readmap_JSON.uc  77.3%   \r"
       ]
      },
      {
       "output_type": "stream",
       "stream": "stdout",
       "text": [
        "data/readmap_JSON.uc  77.8%   \r"
       ]
      },
      {
       "output_type": "stream",
       "stream": "stdout",
       "text": [
        "data/readmap_JSON.uc  78.3%   \r"
       ]
      },
      {
       "output_type": "stream",
       "stream": "stdout",
       "text": [
        "data/readmap_JSON.uc  78.8%   \r"
       ]
      },
      {
       "output_type": "stream",
       "stream": "stdout",
       "text": [
        "data/readmap_JSON.uc  79.3%   \r"
       ]
      },
      {
       "output_type": "stream",
       "stream": "stdout",
       "text": [
        "data/readmap_JSON.uc  79.9%   \r"
       ]
      },
      {
       "output_type": "stream",
       "stream": "stdout",
       "text": [
        "data/readmap_JSON.uc  80.4%   \r"
       ]
      },
      {
       "output_type": "stream",
       "stream": "stdout",
       "text": [
        "data/readmap_JSON.uc  80.9%   \r"
       ]
      },
      {
       "output_type": "stream",
       "stream": "stdout",
       "text": [
        "data/readmap_JSON.uc  81.5%   \r"
       ]
      },
      {
       "output_type": "stream",
       "stream": "stdout",
       "text": [
        "data/readmap_JSON.uc  82.1%   \r"
       ]
      },
      {
       "output_type": "stream",
       "stream": "stdout",
       "text": [
        "data/readmap_JSON.uc  82.7%   \r"
       ]
      },
      {
       "output_type": "stream",
       "stream": "stdout",
       "text": [
        "data/readmap_JSON.uc  83.2%   \r"
       ]
      },
      {
       "output_type": "stream",
       "stream": "stdout",
       "text": [
        "data/readmap_JSON.uc  83.8%   \r"
       ]
      },
      {
       "output_type": "stream",
       "stream": "stdout",
       "text": [
        "data/readmap_JSON.uc  84.3%   \r"
       ]
      },
      {
       "output_type": "stream",
       "stream": "stdout",
       "text": [
        "data/readmap_JSON.uc  84.8%   \r"
       ]
      },
      {
       "output_type": "stream",
       "stream": "stdout",
       "text": [
        "data/readmap_JSON.uc  85.4%   \r"
       ]
      },
      {
       "output_type": "stream",
       "stream": "stdout",
       "text": [
        "data/readmap_JSON.uc  86.0%   \r"
       ]
      },
      {
       "output_type": "stream",
       "stream": "stdout",
       "text": [
        "data/readmap_JSON.uc  86.6%   \r"
       ]
      },
      {
       "output_type": "stream",
       "stream": "stdout",
       "text": [
        "data/readmap_JSON.uc  87.1%   \r"
       ]
      },
      {
       "output_type": "stream",
       "stream": "stdout",
       "text": [
        "data/readmap_JSON.uc  87.7%   \r"
       ]
      },
      {
       "output_type": "stream",
       "stream": "stdout",
       "text": [
        "data/readmap_JSON.uc  88.3%   \r"
       ]
      },
      {
       "output_type": "stream",
       "stream": "stdout",
       "text": [
        "data/readmap_JSON.uc  88.9%   \r"
       ]
      },
      {
       "output_type": "stream",
       "stream": "stdout",
       "text": [
        "data/readmap_JSON.uc  89.6%   \r"
       ]
      },
      {
       "output_type": "stream",
       "stream": "stdout",
       "text": [
        "data/readmap_JSON.uc  90.2%   \r"
       ]
      },
      {
       "output_type": "stream",
       "stream": "stdout",
       "text": [
        "data/readmap_JSON.uc  90.8%   \r"
       ]
      },
      {
       "output_type": "stream",
       "stream": "stdout",
       "text": [
        "data/readmap_JSON.uc  91.4%   \r"
       ]
      },
      {
       "output_type": "stream",
       "stream": "stdout",
       "text": [
        "data/readmap_JSON.uc  91.9%   \r"
       ]
      },
      {
       "output_type": "stream",
       "stream": "stdout",
       "text": [
        "data/readmap_JSON.uc  92.5%   \r"
       ]
      },
      {
       "output_type": "stream",
       "stream": "stdout",
       "text": [
        "data/readmap_JSON.uc  93.1%   \r"
       ]
      },
      {
       "output_type": "stream",
       "stream": "stdout",
       "text": [
        "data/readmap_JSON.uc  93.7%   \r"
       ]
      },
      {
       "output_type": "stream",
       "stream": "stdout",
       "text": [
        "data/readmap_JSON.uc  94.2%   \r"
       ]
      },
      {
       "output_type": "stream",
       "stream": "stdout",
       "text": [
        "data/readmap_JSON.uc  94.7%   \r"
       ]
      },
      {
       "output_type": "stream",
       "stream": "stdout",
       "text": [
        "data/readmap_JSON.uc  95.3%   \r"
       ]
      },
      {
       "output_type": "stream",
       "stream": "stdout",
       "text": [
        "data/readmap_JSON.uc  95.9%   \r"
       ]
      },
      {
       "output_type": "stream",
       "stream": "stdout",
       "text": [
        "data/readmap_JSON.uc  96.6%   \r"
       ]
      },
      {
       "output_type": "stream",
       "stream": "stdout",
       "text": [
        "data/readmap_JSON.uc  97.2%   \r"
       ]
      },
      {
       "output_type": "stream",
       "stream": "stdout",
       "text": [
        "data/readmap_JSON.uc  97.8%   \r"
       ]
      },
      {
       "output_type": "stream",
       "stream": "stdout",
       "text": [
        "data/readmap_JSON.uc  98.4%   \r"
       ]
      },
      {
       "output_type": "stream",
       "stream": "stdout",
       "text": [
        "data/readmap_JSON.uc  99.0%   \r"
       ]
      },
      {
       "output_type": "stream",
       "stream": "stdout",
       "text": [
        "data/readmap_JSON.uc  99.5%   \r"
       ]
      },
      {
       "output_type": "stream",
       "stream": "stdout",
       "text": [
        "data/readmap_JSON.uc 100.0%   \r\n"
       ]
      }
     ],
     "prompt_number": 42
    },
    {
     "cell_type": "code",
     "collapsed": false,
     "input": [
      "# Issues with biom table formatting\n",
      "!if [ -f data/otu_table_JSON.biom ]; then rm data/otu_table_JSON.biom; fi #This is to mitigate a biom bug\n",
      "!biom convert -i data/otu_table_JSON.txt -o data/otu_table_JSON.biom --table-type \"otu table\""
     ],
     "language": "python",
     "metadata": {},
     "outputs": [],
     "prompt_number": 43
    },
    {
     "cell_type": "code",
     "collapsed": false,
     "input": [
      "# Issues with biom table formatting\n",
      "!if [ -f data/otu_table_JSON_summary.txt ]; then rm data/otu_table_JSON_summary.txt; fi #This is to mitigate a biom bug\n",
      "!biom summarize-table -i data/otu_table_JSON.biom -o data/otu_table_JSON_summary.txt"
     ],
     "language": "python",
     "metadata": {},
     "outputs": [],
     "prompt_number": 44
    },
    {
     "cell_type": "code",
     "collapsed": false,
     "input": [
      "# This tells us the overall data info\n",
      "# Num obs = OTUs\n",
      "# total count = total seqs\n",
      "# Chantal had 50% reduction after QC.\n",
      "\n",
      "!cat data/otu_table_JSON_summary.txt\n",
      "\n"
     ],
     "language": "python",
     "metadata": {},
     "outputs": [
      {
       "output_type": "stream",
       "stream": "stdout",
       "text": [
        "Num samples: 82\r\n",
        "Num observations: 14387\r\n",
        "Total count: 3487293\r\n",
        "Table density (fraction of non-zero values): 0.202\r\n",
        "Table md5 (unzipped): 852a6d709d94c1dca99aca8481fd61ee\r\n",
        "\r\n",
        "Counts/sample summary:\r\n",
        " Min: 3849.0\r\n",
        " Max: 100197.0\r\n",
        " Median: 26222.500\r\n",
        " Mean: 42527.963\r\n",
        " Std. dev.: 29223.610\r\n",
        " Sample Metadata Categories: None provided\r\n",
        " Observation Metadata Categories: None provided\r\n",
        "\r\n",
        "Counts/sample detail:\r\n",
        " N.NTR.3: 3849.0\r\n",
        " N.PAS: 8813.0\r\n",
        " N.PTR.2: 13360.0\r\n",
        " N.PTH.2: 13541.0\r\n",
        " O.PAS: 13924.0\r\n",
        " O.NTH.4: 13978.0\r\n",
        " S.NTH.4: 14337.0\r\n",
        " O.NTR.2: 14498.0\r\n",
        " N.NTH.4: 14693.0\r\n",
        " N.PTH.4: 14758.0\r\n",
        " S.PTR.2: 15305.0\r\n",
        " N.PTR.1: 15354.0\r\n",
        " O.PTH.4: 15753.0\r\n",
        " S.PTH.4: 16022.0\r\n",
        " N.NTR.2: 16058.0\r\n",
        " N.PTH.1: 16550.0\r\n",
        " S.PTH.2: 17440.0\r\n",
        " S.PTH.1: 17777.0\r\n",
        " O.NTH.2: 18038.0\r\n",
        " O.PTR.2: 18354.0\r\n",
        " N.PTR.3: 18595.0\r\n",
        " N.PTR.4: 18780.0\r\n",
        " S.NTH.2: 18818.0\r\n",
        " O.NTR.4: 18866.0\r\n",
        " O.PTH.2: 19341.0\r\n",
        " O.PTR.1: 19355.0\r\n",
        " O.PTR.4: 19552.0\r\n",
        " O.NTH.1: 19833.0\r\n",
        " S.NTR.4: 20186.0\r\n",
        " S.NTH.1: 20693.0\r\n",
        " N.NTH.1: 20762.0\r\n",
        " O.PTH.1: 20948.0\r\n",
        " S.PTR.4: 21634.0\r\n",
        " N.PTH.3: 21684.0\r\n",
        " S.PTR.1: 21844.0\r\n",
        " N.NTH.2: 22435.0\r\n",
        " O.NTH.3: 22449.0\r\n",
        " O.NTR.1: 22980.0\r\n",
        " S.NTR.2: 24465.0\r\n",
        " N.NTR.4: 25089.0\r\n",
        " O.PTR.3: 25728.0\r\n",
        " S.NTR.3: 26717.0\r\n",
        " O.PTH.3: 26838.0\r\n",
        " S.PTH.3: 28644.0\r\n",
        " S.PTR.3: 28667.0\r\n",
        " O.NTR.3: 28867.0\r\n",
        " S.NTR.1: 30431.0\r\n",
        " N.NTH.3: 31022.0\r\n",
        " N.NTR.1: 31050.0\r\n",
        " S.NTH.3: 34896.0\r\n",
        " NTH2: 58526.0\r\n",
        " NTR2: 58966.0\r\n",
        " PTR2: 62609.0\r\n",
        " PAS2: 64482.0\r\n",
        " PTR1: 66605.0\r\n",
        " TWE2: 66948.0\r\n",
        " CON2: 67781.0\r\n",
        " NTR1: 68583.0\r\n",
        " TWE1: 69828.0\r\n",
        " PTH1: 71152.0\r\n",
        " CON3: 71678.0\r\n",
        " PTH2: 72458.0\r\n",
        " PTR4: 73260.0\r\n",
        " NTH1: 74155.0\r\n",
        " CON1: 74983.0\r\n",
        " TEN3: 77808.0\r\n",
        " TEN2: 78610.0\r\n",
        " PAS1: 79344.0\r\n",
        " PAS3: 79958.0\r\n",
        " CON4: 80517.0\r\n",
        " PTH4: 80881.0\r\n",
        " TEN1: 82443.0\r\n",
        " NTR3: 83277.0\r\n",
        " NTR4: 86112.0\r\n",
        " TWE3: 86625.0\r\n",
        " PTH3: 86699.0\r\n",
        " NTH3: 89214.0\r\n",
        " TWE4: 89628.0\r\n",
        " PTR3: 90752.0\r\n",
        " NTH4: 91650.0\r\n",
        " PAS4: 97993.0\r\n",
        " TEN4: 100197.0\r\n"
       ]
      }
     ],
     "prompt_number": 45
    }
   ],
   "metadata": {}
  }
 ]
}