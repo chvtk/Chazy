{
 "cells": [
  {
   "cell_type": "code",
   "execution_count": 1,
   "metadata": {
    "collapsed": false
   },
   "outputs": [],
   "source": [
    "import os\n",
    "%load_ext rpy2.ipython\n"
   ]
  },
  {
   "cell_type": "code",
   "execution_count": 2,
   "metadata": {
    "collapsed": false
   },
   "outputs": [],
   "source": [
    "%%R\n",
    "workDir = '/home/chantal/Chazy/data/'\n",
    "figDir = '/home/chantal/Chazy/Bulk/ITS/data/figs/'\n",
    "\n",
    "physeqDir = '/home/chantal/Chazy/data/phyloseq/ITS/'\n",
    "physeqBulk = 'bulk-core'\n",
    "\n",
    "\n",
    "nprocs = 20"
   ]
  },
  {
   "cell_type": "code",
   "execution_count": 3,
   "metadata": {
    "collapsed": false
   },
   "outputs": [
    {
     "name": "stderr",
     "output_type": "stream",
     "text": [
      "/opt/anaconda/lib/python2.7/site-packages/rpy2/robjects/functions.py:106: UserWarning: \n",
      "Attaching package: ‘dplyr’\n",
      "\n",
      "\n",
      "  res = super(Function, self).__call__(*new_args, **new_kwargs)\n",
      "/opt/anaconda/lib/python2.7/site-packages/rpy2/robjects/functions.py:106: UserWarning: The following objects are masked from ‘package:plyr’:\n",
      "\n",
      "    arrange, count, desc, failwith, id, mutate, rename, summarise,\n",
      "    summarize\n",
      "\n",
      "\n",
      "  res = super(Function, self).__call__(*new_args, **new_kwargs)\n",
      "/opt/anaconda/lib/python2.7/site-packages/rpy2/robjects/functions.py:106: UserWarning: The following objects are masked from ‘package:stats’:\n",
      "\n",
      "    filter, lag\n",
      "\n",
      "\n",
      "  res = super(Function, self).__call__(*new_args, **new_kwargs)\n",
      "/opt/anaconda/lib/python2.7/site-packages/rpy2/robjects/functions.py:106: UserWarning: The following objects are masked from ‘package:base’:\n",
      "\n",
      "    intersect, setdiff, setequal, union\n",
      "\n",
      "\n",
      "  res = super(Function, self).__call__(*new_args, **new_kwargs)\n",
      "/opt/anaconda/lib/python2.7/site-packages/rpy2/robjects/functions.py:106: UserWarning: Loading required package: Biobase\n",
      "\n",
      "  res = super(Function, self).__call__(*new_args, **new_kwargs)\n",
      "/opt/anaconda/lib/python2.7/site-packages/rpy2/robjects/functions.py:106: UserWarning: Loading required package: BiocGenerics\n",
      "\n",
      "  res = super(Function, self).__call__(*new_args, **new_kwargs)\n",
      "/opt/anaconda/lib/python2.7/site-packages/rpy2/robjects/functions.py:106: UserWarning: Loading required package: parallel\n",
      "\n",
      "  res = super(Function, self).__call__(*new_args, **new_kwargs)\n",
      "/opt/anaconda/lib/python2.7/site-packages/rpy2/robjects/functions.py:106: UserWarning: \n",
      "Attaching package: ‘BiocGenerics’\n",
      "\n",
      "\n",
      "  res = super(Function, self).__call__(*new_args, **new_kwargs)\n",
      "/opt/anaconda/lib/python2.7/site-packages/rpy2/robjects/functions.py:106: UserWarning: The following objects are masked from ‘package:parallel’:\n",
      "\n",
      "    clusterApply, clusterApplyLB, clusterCall, clusterEvalQ,\n",
      "    clusterExport, clusterMap, parApply, parCapply, parLapply,\n",
      "    parLapplyLB, parRapply, parSapply, parSapplyLB\n",
      "\n",
      "\n",
      "  res = super(Function, self).__call__(*new_args, **new_kwargs)\n",
      "/opt/anaconda/lib/python2.7/site-packages/rpy2/robjects/functions.py:106: UserWarning: The following objects are masked from ‘package:biom’:\n",
      "\n",
      "    colnames, rownames\n",
      "\n",
      "\n",
      "  res = super(Function, self).__call__(*new_args, **new_kwargs)\n",
      "/opt/anaconda/lib/python2.7/site-packages/rpy2/robjects/functions.py:106: UserWarning: The following objects are masked from ‘package:dplyr’:\n",
      "\n",
      "    combine, intersect, setdiff, union\n",
      "\n",
      "\n",
      "  res = super(Function, self).__call__(*new_args, **new_kwargs)\n",
      "/opt/anaconda/lib/python2.7/site-packages/rpy2/robjects/functions.py:106: UserWarning: The following objects are masked from ‘package:stats’:\n",
      "\n",
      "    IQR, mad, xtabs\n",
      "\n",
      "\n",
      "  res = super(Function, self).__call__(*new_args, **new_kwargs)\n",
      "/opt/anaconda/lib/python2.7/site-packages/rpy2/robjects/functions.py:106: UserWarning: The following objects are masked from ‘package:base’:\n",
      "\n",
      "    anyDuplicated, append, as.data.frame, as.vector, cbind, colnames,\n",
      "    do.call, duplicated, eval, evalq, Filter, Find, get, grep, grepl,\n",
      "    intersect, is.unsorted, lapply, lengths, Map, mapply, match, mget,\n",
      "    order, paste, pmax, pmax.int, pmin, pmin.int, Position, rank,\n",
      "    rbind, Reduce, rownames, sapply, setdiff, sort, table, tapply,\n",
      "    union, unique, unlist, unsplit\n",
      "\n",
      "\n",
      "  res = super(Function, self).__call__(*new_args, **new_kwargs)\n",
      "/opt/anaconda/lib/python2.7/site-packages/rpy2/robjects/functions.py:106: UserWarning: Welcome to Bioconductor\n",
      "\n",
      "    Vignettes contain introductory material; view with\n",
      "    'browseVignettes()'. To cite Bioconductor, see\n",
      "    'citation(\"Biobase\")', and for packages 'citation(\"pkgname\")'.\n",
      "\n",
      "\n",
      "  res = super(Function, self).__call__(*new_args, **new_kwargs)\n",
      "/opt/anaconda/lib/python2.7/site-packages/rpy2/robjects/functions.py:106: UserWarning: \n",
      "Attaching package: ‘Biobase’\n",
      "\n",
      "\n",
      "  res = super(Function, self).__call__(*new_args, **new_kwargs)\n",
      "/opt/anaconda/lib/python2.7/site-packages/rpy2/robjects/functions.py:106: UserWarning: The following object is masked from ‘package:phyloseq’:\n",
      "\n",
      "    sampleNames\n",
      "\n",
      "\n",
      "  res = super(Function, self).__call__(*new_args, **new_kwargs)\n",
      "/opt/anaconda/lib/python2.7/site-packages/rpy2/robjects/functions.py:106: UserWarning: Loading required package: limma\n",
      "\n",
      "  res = super(Function, self).__call__(*new_args, **new_kwargs)\n",
      "/opt/anaconda/lib/python2.7/site-packages/rpy2/robjects/functions.py:106: UserWarning: \n",
      "Attaching package: ‘limma’\n",
      "\n",
      "\n",
      "  res = super(Function, self).__call__(*new_args, **new_kwargs)\n",
      "/opt/anaconda/lib/python2.7/site-packages/rpy2/robjects/functions.py:106: UserWarning: The following object is masked from ‘package:BiocGenerics’:\n",
      "\n",
      "    plotMA\n",
      "\n",
      "\n",
      "  res = super(Function, self).__call__(*new_args, **new_kwargs)\n",
      "/opt/anaconda/lib/python2.7/site-packages/rpy2/robjects/functions.py:106: UserWarning: Loading required package: glmnet\n",
      "\n",
      "  res = super(Function, self).__call__(*new_args, **new_kwargs)\n",
      "/opt/anaconda/lib/python2.7/site-packages/rpy2/robjects/functions.py:106: UserWarning: Loading required package: Matrix\n",
      "\n",
      "  res = super(Function, self).__call__(*new_args, **new_kwargs)\n",
      "/opt/anaconda/lib/python2.7/site-packages/rpy2/robjects/functions.py:106: UserWarning: \n",
      "Attaching package: ‘Matrix’\n",
      "\n",
      "\n",
      "  res = super(Function, self).__call__(*new_args, **new_kwargs)\n",
      "/opt/anaconda/lib/python2.7/site-packages/rpy2/robjects/functions.py:106: UserWarning: The following object is masked from ‘package:tidyr’:\n",
      "\n",
      "    expand\n",
      "\n",
      "\n",
      "  res = super(Function, self).__call__(*new_args, **new_kwargs)\n",
      "/opt/anaconda/lib/python2.7/site-packages/rpy2/robjects/functions.py:106: UserWarning: Loading required package: foreach\n",
      "\n",
      "  res = super(Function, self).__call__(*new_args, **new_kwargs)\n",
      "/opt/anaconda/lib/python2.7/site-packages/rpy2/robjects/functions.py:106: UserWarning: foreach: simple, scalable parallel programming from Revolution Analytics\n",
      "Use Revolution R for scalability, fault tolerance and more.\n",
      "http://www.revolutionanalytics.com\n",
      "\n",
      "  res = super(Function, self).__call__(*new_args, **new_kwargs)\n",
      "/opt/anaconda/lib/python2.7/site-packages/rpy2/robjects/functions.py:106: UserWarning: Loaded glmnet 2.0-3\n",
      "\n",
      "\n",
      "  res = super(Function, self).__call__(*new_args, **new_kwargs)\n",
      "/opt/anaconda/lib/python2.7/site-packages/rpy2/robjects/functions.py:106: UserWarning: Loading required package: RColorBrewer\n",
      "\n",
      "  res = super(Function, self).__call__(*new_args, **new_kwargs)\n",
      "/opt/anaconda/lib/python2.7/site-packages/rpy2/robjects/functions.py:106: UserWarning: Loading required package: iterators\n",
      "\n",
      "  res = super(Function, self).__call__(*new_args, **new_kwargs)\n"
     ]
    }
   ],
   "source": [
    "%%R\n",
    "library(ggplot2)\n",
    "library(phyloseq)\n",
    "library(tidyr)\n",
    "library(plyr);library(dplyr)\n",
    "library(scales)\n",
    "library(biom)\n",
    "library(metagenomeSeq)\n",
    "library(doParallel)\n"
   ]
  },
  {
   "cell_type": "code",
   "execution_count": 4,
   "metadata": {
    "collapsed": false
   },
   "outputs": [
    {
     "data": {
      "text/plain": [
       "phyloseq-class experiment-level object\n",
       "otu_table()   OTU Table:         [ 2232 taxa and 176 samples ]\n",
       "sample_data() Sample Data:       [ 176 samples by 24 sample variables ]\n",
       "tax_table()   Taxonomy Table:    [ 2232 taxa by 7 taxonomic ranks ]\n"
      ]
     },
     "metadata": {},
     "output_type": "display_data"
    }
   ],
   "source": [
    "%%R\n",
    "F = file.path(physeqDir, physeqBulk)\n",
    "physeq.Bulk = readRDS(F)\n",
    "physeq.Bulk.m = physeq.Bulk %>% sample_data\n",
    "#physeq.Bulk.Sparsity = filter_taxa(physeq.Bulk, function(x) sum(x > 0) > (0.25 * length(x)), TRUE)\n",
    "\n",
    "physeq.Bulk.m = physeq.Bulk %>% sample_data\n",
    "\n",
    "physeq.Bulk.core = prune_samples(physeq.Bulk.m$Land_Management != \"PAS\", physeq.Bulk)\n",
    "\n",
    "physeq.Bulk.core = physeq.Bulk.core %>% filter_taxa(function(x) sum(x) > 0, TRUE)\n",
    "\n",
    "physeq.Bulk.m = physeq.Bulk.core %>% sample_data\n",
    "    \n",
    "\n",
    "#print(physeq.Bulk.Sparsity)\n",
    "print(physeq.Bulk.core)\n"
   ]
  },
  {
   "cell_type": "code",
   "execution_count": 5,
   "metadata": {
    "collapsed": false
   },
   "outputs": [],
   "source": [
    "%%R\n",
    "physeq.Bulk.m = physeq.Bulk %>% sample_data"
   ]
  },
  {
   "cell_type": "code",
   "execution_count": 6,
   "metadata": {
    "collapsed": false
   },
   "outputs": [
    {
     "data": {
      "text/plain": [
       " POSIXct[1:185], format: \"2015-04-30\" \"2015-08-13\" \"2015-04-30\" \"2015-07-16\" ...\n"
      ]
     },
     "metadata": {},
     "output_type": "display_data"
    }
   ],
   "source": [
    "%%R\n",
    "physeq.Bulk.m$Sample_Date = as.POSIXct(strptime(physeq.Bulk.m$Sample_Date, format = \"%m/%d/%y\"))\n",
    "str(physeq.Bulk.m$Sample_Date)"
   ]
  },
  {
   "cell_type": "code",
   "execution_count": 7,
   "metadata": {
    "collapsed": false
   },
   "outputs": [
    {
     "data": {
      "text/plain": [
       "Sample Data:        [6 samples by 24 sample variables]:\n",
       "                    Full.sample Fraction PrimerF PrimerR Barcode Rev.index\n",
       "Sept.NTR.2.2015 Sept.NTR.2.2015       NA  nBITSf   58A2r     144  gtaacgag\n",
       "Aug.PTH.2.2015   Aug.PTH.2.2015       NA  nBITSf   58A2r     122  tctctatg\n",
       "Aug.PAS.2015       Aug.PAS.2015       NA  nBITSf   58A2r     134  gatctacg\n",
       "Sept.NTH.1.2015 Sept.NTH.1.2015       NA  nBITSf   58A2r     136  gatctacg\n",
       "Aug.NTR.4.2015   Aug.NTR.4.2015       NA  nBITSf   58A2r     133  gatctacg\n",
       "Sept.NTH.2.2015 Sept.NTH.2.2015       NA  nBITSf   58A2r     142  gtaacgag\n",
       "                Fwd.index Treatment      Day Pool     Experiment Gradient\n",
       "Sept.NTR.2.2015  gacaccgt       NTR 440 days    5 Chazy.ITS.Bulk     <NA>\n",
       "Aug.PTH.2.2015   actatctg       PTH 399 days    5 Chazy.ITS.Bulk     <NA>\n",
       "Aug.PAS.2015     cgtgagtg       PAS 399 days    5 Chazy.ITS.Bulk     <NA>\n",
       "Sept.NTH.1.2015  gacaccgt       NTH 440 days    5 Chazy.ITS.Bulk     <NA>\n",
       "Aug.NTR.4.2015   tcatcgag       NTR 399 days    5 Chazy.ITS.Bulk     <NA>\n",
       "Sept.NTH.2.2015  cgtgagtg       NTH 440 days    5 Chazy.ITS.Bulk     <NA>\n",
       "                gradient_date fractionation_date BD Land_Management Replicate\n",
       "Sept.NTR.2.2015          <NA>               <NA> NA             NTR         2\n",
       "Aug.PTH.2.2015           <NA>               <NA> NA             PTH         2\n",
       "Aug.PAS.2015             <NA>               <NA> NA             PAS         1\n",
       "Sept.NTH.1.2015          <NA>               <NA> NA             NTH         1\n",
       "Aug.NTR.4.2015           <NA>               <NA> NA             NTR         4\n",
       "Sept.NTH.2.2015          <NA>               <NA> NA             NTH         2\n",
       "                    Month Year OM Till Soil_Moisture Soil_Temp Sample_Date\n",
       "Sept.NTR.2.2015 September 2015  R    N      14.46667        NA  2015-09-23\n",
       "Aug.PTH.2.2015     August 2015  H    P      17.10000      19.7  2015-08-13\n",
       "Aug.PAS.2015       August 2015  S    P      19.00000      22.5  2015-08-13\n",
       "Sept.NTH.1.2015 September 2015  H    N      18.83333        NA  2015-09-23\n",
       "Aug.NTR.4.2015     August 2015  R    N      18.10000      19.7  2015-08-13\n",
       "Sept.NTH.2.2015 September 2015  H    N      13.86667        NA  2015-09-23\n"
      ]
     },
     "metadata": {},
     "output_type": "display_data"
    }
   ],
   "source": [
    "%%R\n",
    "physeq.Bulk.m$Day = round(difftime(physeq.Bulk.m$Sample_Date, min(physeq.Bulk.m$Sample_Date), \n",
    "         units = \"days\"))\n",
    "tail(physeq.Bulk.m)"
   ]
  },
  {
   "cell_type": "code",
   "execution_count": 8,
   "metadata": {
    "collapsed": false
   },
   "outputs": [],
   "source": [
    "%%R\n",
    "physeq.Bulk.m$Day_rel = as.numeric(physeq.Bulk.m$Day)\n"
   ]
  },
  {
   "cell_type": "code",
   "execution_count": 9,
   "metadata": {
    "collapsed": false
   },
   "outputs": [
    {
     "data": {
      "text/plain": [
       "Sample Data:        [6 samples by 25 sample variables]:\n",
       "                  Full.sample Fraction PrimerF PrimerR Barcode Rev.index\n",
       "April.NTR.4       April.NTR.4       NA  nBITSf   58A2r     155  atagtacc\n",
       "Aug.NTR.3.2015 Aug.NTR.3.2015       NA  nBITSf   58A2r     129  gatctacg\n",
       "April.PTR.3       April.PTR.3       NA  nBITSf   58A2r     150  acgtgcgc\n",
       "July15.NTH.3     July15.NTH.3       NA  nBITSf   58A2r     184  aacgctga\n",
       "Nov.NTR.1           Nov.NTR.1       NA  nBITSf   58A2r     125  tctctatg\n",
       "June.NTH.2         June.NTH.2       NA  nBITSf   58A2r     162  gcgtatac\n",
       "               Fwd.index Treatment      Day Pool     Experiment Gradient\n",
       "April.NTR.4     tagcgagt       NTR 294 days    4 Chazy.ITS.Bulk     <NA>\n",
       "Aug.NTR.3.2015  atcgtacg       NTR 399 days    5 Chazy.ITS.Bulk     <NA>\n",
       "April.PTR.3     cgtgagtg       PTR 294 days    4 Chazy.ITS.Bulk     <NA>\n",
       "July15.NTH.3    gacaccgt       NTH 371 days    4 Chazy.ITS.Bulk     <NA>\n",
       "Nov.NTR.1       tcatcgag       NTR 139 days    4 Chazy.ITS.Bulk     <NA>\n",
       "June.NTH.2      actatctg       NTH 342 days    4 Chazy.ITS.Bulk     <NA>\n",
       "               gradient_date fractionation_date BD Land_Management Replicate\n",
       "April.NTR.4             <NA>               <NA> NA             NTR         4\n",
       "Aug.NTR.3.2015          <NA>               <NA> NA             NTR         3\n",
       "April.PTR.3             <NA>               <NA> NA             PTR         3\n",
       "July15.NTH.3            <NA>               <NA> NA             NTH         3\n",
       "Nov.NTR.1               <NA>               <NA> NA             NTR         1\n",
       "June.NTH.2              <NA>               <NA> NA             NTH         2\n",
       "                  Month Year OM Till Soil_Moisture Soil_Temp Sample_Date\n",
       "April.NTR.4       April 2015  R    N      18.43333  11.23333  2015-04-30\n",
       "Aug.NTR.3.2015   August 2015  R    N      17.30000  19.60000  2015-08-13\n",
       "April.PTR.3       April 2015  R    P      17.23333  12.20000  2015-04-30\n",
       "July15.NTH.3       July 2015  H    N      19.20000  20.70000  2015-07-16\n",
       "Nov.NTR.1      November 2014  R    N      14.70000   3.80000  2014-11-26\n",
       "June.NTH.2         June 2015  H    N      20.60000  20.80000  2015-06-17\n",
       "               Day_rel\n",
       "April.NTR.4        294\n",
       "Aug.NTR.3.2015     399\n",
       "April.PTR.3        294\n",
       "July15.NTH.3       371\n",
       "Nov.NTR.1          139\n",
       "June.NTH.2         342\n"
      ]
     },
     "metadata": {},
     "output_type": "display_data"
    }
   ],
   "source": [
    "%%R\n",
    "head(physeq.Bulk.m)\n"
   ]
  },
  {
   "cell_type": "code",
   "execution_count": 10,
   "metadata": {
    "collapsed": false
   },
   "outputs": [
    {
     "data": {
      "text/plain": [
       "phyloseq-class experiment-level object\n",
       "otu_table()   OTU Table:         [ 2232 taxa and 176 samples ]\n",
       "sample_data() Sample Data:       [ 176 samples by 25 sample variables ]\n",
       "tax_table()   Taxonomy Table:    [ 2232 taxa by 7 taxonomic ranks ]\n"
      ]
     },
     "metadata": {},
     "output_type": "display_data"
    }
   ],
   "source": [
    "%%R\n",
    "physeq.final = merge_phyloseq(physeq.Bulk.core, physeq.Bulk.m)\n",
    "physeq.final"
   ]
  },
  {
   "cell_type": "code",
   "execution_count": 11,
   "metadata": {
    "collapsed": false
   },
   "outputs": [
    {
     "data": {
      "text/plain": [
       "phyloseq-class experiment-level object\n",
       "otu_table()   OTU Table:         [ 2232 taxa and 176 samples ]\n",
       "sample_data() Sample Data:       [ 176 samples by 25 sample variables ]\n",
       "tax_table()   Taxonomy Table:    [ 2232 taxa by 7 taxonomic ranks ]\n"
      ]
     },
     "metadata": {},
     "output_type": "display_data"
    }
   ],
   "source": [
    "%%R\n",
    "physeq.final"
   ]
  },
  {
   "cell_type": "code",
   "execution_count": 12,
   "metadata": {
    "collapsed": false
   },
   "outputs": [],
   "source": [
    "%%R\n",
    "make_metagenomeSeq = function(physeq) {\n",
    "    require(\"metagenomeSeq\")\n",
    "    require(\"phyloseq\")\n",
    "    # Enforce orientation\n",
    "    if (!taxa_are_rows(physeq)) {\n",
    "        physeq <- t(physeq)\n",
    "    }\n",
    "    OTU = as(otu_table(physeq), \"matrix\")\n",
    "    #OTUTill = subset(OTU, rownames(OTU) %in% df.Till.r$OTU)\n",
    "\n",
    "    # Convert sample_data to AnnotatedDataFrame\n",
    "    ADF = AnnotatedDataFrame(data.frame(sample_data(physeq)))\n",
    "    # define dummy 'feature' data for OTUs, using their name Helps with\n",
    "    # extraction and relating to taxonomy later on.\n",
    "    TDF = AnnotatedDataFrame(data.frame(tax_table(physeq)))\n",
    "    #TDFTill = subset(TDF, rownames(TDF) %in% df.Till.r$OTU)\n",
    "    TDF$Rank9 = rownames(TDF)\n",
    "\n",
    "\n",
    "    # Create the metagenomeSeq object\n",
    "    MGS = newMRexperiment(counts = OTU, phenoData = ADF, featureData = TDF)\n",
    "    # Trigger metagenomeSeq to calculate its Cumulative Sum scaling factor.\n",
    "    MGS = cumNorm(MGS)\n",
    "    return(MGS)\n",
    "}\n",
    "\n",
    "MR = make_metagenomeSeq(physeq.final)"
   ]
  },
  {
   "cell_type": "code",
   "execution_count": 13,
   "metadata": {
    "collapsed": false
   },
   "outputs": [
    {
     "data": {
      "text/plain": [
       "Formal class 'MRexperiment' [package \"metagenomeSeq\"] with 8 slots\n",
       "  ..@ expSummary       :<environment: 0xfd24760> \n",
       "  ..@ assayData        :<environment: 0xfb94158> \n",
       "  ..@ phenoData        :Formal class 'AnnotatedDataFrame' [package \"Biobase\"] with 4 slots\n",
       "  .. .. ..@ varMetadata      :'data.frame':\t25 obs. of  1 variable:\n",
       "  .. .. .. ..$ labelDescription: chr [1:25] NA NA NA NA ...\n",
       "  .. .. ..@ data             :'data.frame':\t176 obs. of  25 variables:\n",
       "  .. .. .. ..$ Full.sample       : Factor w/ 176 levels \"April.NTH.1.2015\",..: 8 17 14 35 73 50 2 3 129 63 ...\n",
       "  .. .. .. ..$ Fraction          : int [1:176] NA NA NA NA NA NA NA NA NA NA ...\n",
       "  .. .. .. ..$ PrimerF           : Factor w/ 1 level \"nBITSf\": 1 1 1 1 1 1 1 1 1 1 ...\n",
       "  .. .. .. ..$ PrimerR           : Factor w/ 1 level \"58A2r\": 1 1 1 1 1 1 1 1 1 1 ...\n",
       "  .. .. .. ..$ Barcode           : int [1:176] 155 129 150 184 125 162 145 149 99 168 ...\n",
       "  .. .. .. ..$ Rev.index         : Factor w/ 16 levels \"aacgctga\",\"acgtgcgc\",..: 4 8 2 1 15 9 2 2 7 9 ...\n",
       "  .. .. .. ..$ Fwd.index         : Factor w/ 8 levels \"actatctg\",\"atcgtacg\",..: 7 2 3 5 8 1 2 8 7 5 ...\n",
       "  .. .. .. ..$ Treatment         : Factor w/ 4 levels \"NTH\",\"NTR\",\"PTH\",..: 2 2 4 1 2 1 1 1 3 4 ...\n",
       "  .. .. .. ..$ Day               : num [1:176] NA NA NA NA NA NA NA NA NA NA ...\n",
       "  .. .. .. ..$ Pool              : int [1:176] 4 5 4 4 4 4 4 4 4 4 ...\n",
       "  .. .. .. ..$ Experiment        : Factor w/ 1 level \"Chazy.ITS.Bulk\": 1 1 1 1 1 1 1 1 1 1 ...\n",
       "  .. .. .. ..$ Gradient          : Factor w/ 0 levels: NA NA NA NA NA NA NA NA NA NA ...\n",
       "  .. .. .. ..$ gradient_date     : Factor w/ 0 levels: NA NA NA NA NA NA NA NA NA NA ...\n",
       "  .. .. .. ..$ fractionation_date: Factor w/ 0 levels: NA NA NA NA NA NA NA NA NA NA ...\n",
       "  .. .. .. ..$ BD                : num [1:176] NA NA NA NA NA NA NA NA NA NA ...\n",
       "  .. .. .. ..$ Land_Management   : Factor w/ 4 levels \"NTH\",\"NTR\",\"PTH\",..: 2 2 4 1 2 1 1 1 3 4 ...\n",
       "  .. .. .. ..$ Replicate         : int [1:176] 4 3 3 3 1 2 2 3 4 3 ...\n",
       "  .. .. .. ..$ Month             : Factor w/ 7 levels \"April\",\"August\",..: 1 2 1 3 5 4 1 1 7 4 ...\n",
       "  .. .. .. ..$ Year              : int [1:176] 2015 2015 2015 2015 2014 2015 2015 2015 2014 2015 ...\n",
       "  .. .. .. ..$ OM                : Factor w/ 2 levels \"H\",\"R\": 2 2 2 1 2 1 1 1 1 2 ...\n",
       "  .. .. .. ..$ Till              : Factor w/ 2 levels \"N\",\"P\": 1 1 2 1 1 1 1 1 2 2 ...\n",
       "  .. .. .. ..$ Soil_Moisture     : num [1:176] 18.4 17.3 17.2 19.2 14.7 ...\n",
       "  .. .. .. ..$ Soil_Temp         : num [1:176] 11.2 19.6 12.2 20.7 3.8 ...\n",
       "  .. .. .. ..$ Sample_Date       : Factor w/ 11 levels \"10/27/15\",\"10/29/14\",..: 5 9 5 8 4 6 5 5 11 6 ...\n",
       "  .. .. .. ..$ Day_rel           : num [1:176] 294 399 294 371 139 342 294 294 76 342 ...\n",
       "  .. .. ..@ dimLabels        : chr [1:2] \"sampleNames\" \"sampleColumns\"\n",
       "  .. .. ..@ .__classVersion__:Formal class 'Versions' [package \"Biobase\"] with 1 slot\n",
       "  .. .. .. .. ..@ .Data:List of 1\n",
       "  .. .. .. .. .. ..$ : int [1:3] 1 1 0\n",
       "  ..@ featureData      :Formal class 'AnnotatedDataFrame' [package \"Biobase\"] with 4 slots\n",
       "  .. .. ..@ varMetadata      :'data.frame':\t8 obs. of  1 variable:\n",
       "  .. .. .. ..$ labelDescription: chr [1:8] NA NA NA NA ...\n",
       "  .. .. ..@ data             :'data.frame':\t2232 obs. of  8 variables:\n",
       "  .. .. .. ..$ Rank1: Factor w/ 3 levels \"k__Fungi\",\"k__Plantae\",..: 1 3 3 3 3 3 3 3 3 1 ...\n",
       "  .. .. .. ..$ Rank2: Factor w/ 11 levels \"p__Ascomycota\",..: 1 4 4 4 4 4 4 4 4 10 ...\n",
       "  .. .. .. ..$ Rank3: Factor w/ 27 levels \"c__Agaricomycetes\",..: 8 25 25 25 25 25 25 25 25 25 ...\n",
       "  .. .. .. ..$ Rank4: Factor w/ 77 levels \"o__Agaricales\",..: 55 72 72 72 72 72 72 72 72 72 ...\n",
       "  .. .. .. ..$ Rank5: Factor w/ 157 levels \"f__Agaricaceae\",..: NA 150 150 150 150 150 150 150 150 150 ...\n",
       "  .. .. .. ..$ Rank6: Factor w/ 329 levels \"g__Acremonium\",..: NA 312 312 312 312 312 312 312 312 312 ...\n",
       "  .. .. .. ..$ Rank7: Factor w/ 449 levels \"s__Acremonium alcalophilum\",..: NA 73 73 73 73 73 73 73 73 162 ...\n",
       "  .. .. .. ..$ Rank9: chr [1:2232] \"OTU.71996\" \"OTU.20472\" \"OTU.7528\" \"OTU.14609\" ...\n",
       "  .. .. ..@ dimLabels        : chr [1:2] \"featureNames\" \"featureColumns\"\n",
       "  .. .. ..@ .__classVersion__:Formal class 'Versions' [package \"Biobase\"] with 1 slot\n",
       "  .. .. .. .. ..@ .Data:List of 1\n",
       "  .. .. .. .. .. ..$ : int [1:3] 1 1 0\n",
       "  ..@ experimentData   :Formal class 'MIAME' [package \"Biobase\"] with 13 slots\n",
       "  .. .. ..@ name             : chr \"\"\n",
       "  .. .. ..@ lab              : chr \"\"\n",
       "  .. .. ..@ contact          : chr \"\"\n",
       "  .. .. ..@ title            : chr \"\"\n",
       "  .. .. ..@ abstract         : chr \"\"\n",
       "  .. .. ..@ url              : chr \"\"\n",
       "  .. .. ..@ pubMedIds        : chr \"\"\n",
       "  .. .. ..@ samples          : list()\n",
       "  .. .. ..@ hybridizations   : list()\n",
       "  .. .. ..@ normControls     : list()\n",
       "  .. .. ..@ preprocessing    : list()\n",
       "  .. .. ..@ other            : list()\n",
       "  .. .. ..@ .__classVersion__:Formal class 'Versions' [package \"Biobase\"] with 1 slot\n",
       "  .. .. .. .. ..@ .Data:List of 2\n",
       "  .. .. .. .. .. ..$ : int [1:3] 1 0 0\n",
       "  .. .. .. .. .. ..$ : int [1:3] 1 1 0\n",
       "  ..@ annotation       : chr(0) \n",
       "  ..@ protocolData     :Formal class 'AnnotatedDataFrame' [package \"Biobase\"] with 4 slots\n",
       "  .. .. ..@ varMetadata      :'data.frame':\t0 obs. of  1 variable:\n",
       "  .. .. .. ..$ labelDescription: chr(0) \n",
       "  .. .. ..@ data             :'data.frame':\t176 obs. of  0 variables\n",
       "  .. .. ..@ dimLabels        : chr [1:2] \"sampleNames\" \"sampleColumns\"\n",
       "  .. .. ..@ .__classVersion__:Formal class 'Versions' [package \"Biobase\"] with 1 slot\n",
       "  .. .. .. .. ..@ .Data:List of 1\n",
       "  .. .. .. .. .. ..$ : int [1:3] 1 1 0\n",
       "  ..@ .__classVersion__:Formal class 'Versions' [package \"Biobase\"] with 1 slot\n",
       "  .. .. ..@ .Data:List of 4\n",
       "  .. .. .. ..$ : int [1:3] 3 1 1\n",
       "  .. .. .. ..$ : int [1:3] 2 26 0\n",
       "  .. .. .. ..$ : int [1:3] 1 3 0\n",
       "  .. .. .. ..$ : int [1:3] 1 0 0\n"
      ]
     },
     "metadata": {},
     "output_type": "display_data"
    }
   ],
   "source": [
    "%%R\n",
    "str(MR)"
   ]
  },
  {
   "cell_type": "code",
   "execution_count": 14,
   "metadata": {
    "collapsed": true
   },
   "outputs": [],
   "source": [
    "%%R\n",
    "TimeSeries = function(MR, feature) {  \n",
    "    \n",
    "    res = fitTimeSeries(obj = MR, lvl = 'Rank9', feature = feature, class = \"Till\",\n",
    "                    id = \"Full.sample\", time = \"Day_rel\", log = TRUE)\n",
    "\n",
    "    return(res)\n",
    "}\n",
    "\n",
    "\n"
   ]
  },
  {
   "cell_type": "code",
   "execution_count": 15,
   "metadata": {
    "collapsed": false
   },
   "outputs": [
    {
     "data": {
      "text/plain": [
       " chr [1:2232] \"OTU.71996\" \"OTU.20472\" \"OTU.7528\" \"OTU.14609\" ...\n"
      ]
     },
     "metadata": {},
     "output_type": "display_data"
    }
   ],
   "source": [
    "%%R\n",
    "OTU = as(otu_table(physeq.final), \"matrix\")\n",
    "\n",
    "feature = rownames(OTU)\n",
    "str(feature)"
   ]
  },
  {
   "cell_type": "code",
   "execution_count": 16,
   "metadata": {
    "collapsed": false
   },
   "outputs": [],
   "source": [
    "%%R \n",
    "mdf = psmelt(physeq.final)"
   ]
  },
  {
   "cell_type": "code",
   "execution_count": null,
   "metadata": {
    "collapsed": false
   },
   "outputs": [
    {
     "data": {
      "text/plain": [
       "[1]     1 69414\n"
      ]
     },
     "metadata": {},
     "output_type": "display_data"
    }
   ],
   "source": [
    "%%R\n",
    "test = mdf %>% group_by(OTU) %>% summarise(sum = sum(Abundance))\n",
    "range(test$sum)"
   ]
  },
  {
   "cell_type": "code",
   "execution_count": null,
   "metadata": {
    "collapsed": false
   },
   "outputs": [],
   "source": [
    "%%R\n",
    "#OTUs not found across all timepoints?\n",
    "registerDoParallel(10)\n",
    "\n",
    "TS = llply(feature, \n",
    "          TimeSeries, \n",
    "          .parallel = TRUE,\n",
    "          MR = MR \n",
    "         )"
   ]
  },
  {
   "cell_type": "code",
   "execution_count": 75,
   "metadata": {
    "collapsed": false
   },
   "outputs": [
    {
     "name": "stdout",
     "output_type": "stream",
     "text": [
      "\n",
      "Error in str(TS) : object 'TS' not found\n"
     ]
    }
   ],
   "source": [
    "%%R\n",
    "str(TS)"
   ]
  },
  {
   "cell_type": "code",
   "execution_count": null,
   "metadata": {
    "collapsed": false
   },
   "outputs": [],
   "source": [
    "%%R\n",
    "names(TS) = feature"
   ]
  },
  {
   "cell_type": "code",
   "execution_count": null,
   "metadata": {
    "collapsed": false
   },
   "outputs": [],
   "source": [
    "%%R\n",
    "timeSeriesFits = sapply(TS,function(i){i[[1]]})[-grep(\"No\",TS)]"
   ]
  },
  {
   "cell_type": "code",
   "execution_count": null,
   "metadata": {
    "collapsed": false
   },
   "outputs": [],
   "source": [
    "%%R\n",
    "str(timeSeriesFits)"
   ]
  },
  {
   "cell_type": "code",
   "execution_count": null,
   "metadata": {
    "collapsed": false
   },
   "outputs": [],
   "source": [
    "%%R\n",
    "head(timeSeriesFits[[2]])"
   ]
  },
  {
   "cell_type": "code",
   "execution_count": null,
   "metadata": {
    "collapsed": false
   },
   "outputs": [],
   "source": [
    "%%R\n",
    "for(i in 1:length(timeSeriesFits)){\n",
    "    rownames(timeSeriesFits[[i]]) =\n",
    "    paste(\n",
    "    paste(names(timeSeriesFits)[i],\" interval\",sep=\"\"),\n",
    "    1:nrow(timeSeriesFits[[i]]),sep=\":\"\n",
    ")\n",
    "}"
   ]
  },
  {
   "cell_type": "code",
   "execution_count": null,
   "metadata": {
    "collapsed": false
   },
   "outputs": [],
   "source": [
    "%%R\n",
    "timeSeriesFits = as.data.frame(do.call(rbind, timeSeriesFits))\n",
    "\n",
    "\n",
    "#do.call(rbind,timeSeriesFits)"
   ]
  },
  {
   "cell_type": "code",
   "execution_count": null,
   "metadata": {
    "collapsed": false
   },
   "outputs": [],
   "source": [
    "%%R\n",
    "pvalues = timeSeriesFits[,\"p.value\"]\n",
    "adjPvalues = p.adjust(pvalues,\"bonferroni\")\n",
    "timeSeriesFits = cbind(timeSeriesFits,adjPvalues)\n",
    "head(timeSeriesFits)"
   ]
  },
  {
   "cell_type": "code",
   "execution_count": null,
   "metadata": {
    "collapsed": false
   },
   "outputs": [],
   "source": [
    "%%R\n",
    "write.csv(timeSeriesFits, 'data/timeSeries_Till_ITS.csv')"
   ]
  },
  {
   "cell_type": "code",
   "execution_count": null,
   "metadata": {
    "collapsed": false
   },
   "outputs": [],
   "source": [
    "%%R\n",
    "TSOM = read.csv('data/timeSeries_Till_ITS.csv')"
   ]
  },
  {
   "cell_type": "code",
   "execution_count": null,
   "metadata": {
    "collapsed": false
   },
   "outputs": [],
   "source": [
    "%%R\n",
    "TS.sig = filter(TSOM, adjPvalues <= 0.01)"
   ]
  },
  {
   "cell_type": "code",
   "execution_count": null,
   "metadata": {
    "collapsed": false
   },
   "outputs": [],
   "source": [
    "%%R\n",
    "TS.sig$OTU_interval = TS.sig$X\n",
    "TS.sig = separate(TS.sig, OTU_interval, c('OTU', 'interval'), sep = \" \") %>% separate(interval, c('interval', 'num'))\n",
    "head(TS.sig)"
   ]
  },
  {
   "cell_type": "code",
   "execution_count": null,
   "metadata": {
    "collapsed": false
   },
   "outputs": [],
   "source": [
    "%%R\n",
    "print(length(unique(TS.sig$OTU))) \n",
    "Mult_resp = TS.sig %>% group_by(OTU) %>% summarise(respTime = n()) %>% filter(respTime > 1)"
   ]
  },
  {
   "cell_type": "code",
   "execution_count": null,
   "metadata": {
    "collapsed": true
   },
   "outputs": [],
   "source": [
    "%%R\n",
    "Make_DF = function(TS) {  \n",
    "    \n",
    "    d = data.frame(TS$data[, c(\"abundance\",\"class\", \"time\", \"id\")])\n",
    "    d$Sample = rownames(TS$data)\n",
    "\n",
    "\n",
    "    return(d)\n",
    "}"
   ]
  },
  {
   "cell_type": "code",
   "execution_count": null,
   "metadata": {
    "collapsed": false
   },
   "outputs": [],
   "source": [
    "%%R\n",
    "l = list()\n",
    "for (i in 1:length(feature)) {\n",
    "    classname = as.vector(feature[i])\n",
    "    l[[classname]] = Make_DF(TS[[i]])\n",
    "    \n",
    "}"
   ]
  },
  {
   "cell_type": "code",
   "execution_count": null,
   "metadata": {
    "collapsed": true
   },
   "outputs": [],
   "source": [
    "%%R\n",
    "DF = do.call(rbind, l)"
   ]
  },
  {
   "cell_type": "code",
   "execution_count": null,
   "metadata": {
    "collapsed": false
   },
   "outputs": [],
   "source": [
    "%%R\n",
    "write.csv(DF, 'data/TimeSeries_Abundance_Till_ITS.csv')"
   ]
  },
  {
   "cell_type": "code",
   "execution_count": null,
   "metadata": {
    "collapsed": false
   },
   "outputs": [],
   "source": [
    "%%R\n",
    "DF = read.csv('data/TimeSeries_Abundance_Till_ITS.csv')\n",
    "head(DF)"
   ]
  },
  {
   "cell_type": "code",
   "execution_count": null,
   "metadata": {
    "collapsed": false
   },
   "outputs": [],
   "source": [
    "%%R\n",
    "DF2 = tidyr::separate(DF, X, c('OTU', \"num\", \"MY\", \"Treat\", 'Rep'), sep = '\\\\.' )\n",
    "DF2$C = paste(DF2$OTU, DF2$num, sep = '.')\n",
    "DF2$Full.sample = paste(DF2$MY, DF2$Treat, DF2$Rep, sep = '.')\n",
    "DF2 = filter(DF2, C %in% TS.sig$OTU)\n",
    "head(DF2)"
   ]
  },
  {
   "cell_type": "code",
   "execution_count": null,
   "metadata": {
    "collapsed": false
   },
   "outputs": [],
   "source": [
    "%%R\n",
    "head(DF2)\n",
    "DF.sum = DF2 %>% group_by(C, time, class) %>% summarise(meanab = mean(abundance), sdab = sd(abundance))"
   ]
  },
  {
   "cell_type": "code",
   "execution_count": null,
   "metadata": {
    "collapsed": false
   },
   "outputs": [],
   "source": [
    "%%R\n",
    "head(DF.sum)"
   ]
  },
  {
   "cell_type": "code",
   "execution_count": null,
   "metadata": {
    "collapsed": false
   },
   "outputs": [],
   "source": [
    "%%R -h 1000 -w 1000\n",
    "TS.sig$C = TS.sig$OTU\n",
    "\n",
    "limits = aes(ymax = meanab + sdab, ymin=meanab -sdab, color = class)\n",
    "\n",
    "\n",
    "ggplot(DF.sum, aes(x = time, y = meanab)) + \n",
    "geom_point(aes(color = class)) + \n",
    "geom_errorbar(limits, width=0.25)+\n",
    "geom_segment(data = TS.sig, aes(x = Interval.start, xend = Interval.end, y = 10, yend = 10)) +\n",
    "facet_wrap(~C)"
   ]
  },
  {
   "cell_type": "code",
   "execution_count": null,
   "metadata": {
    "collapsed": false
   },
   "outputs": [],
   "source": [
    "%%R -h 400 -w 400\n",
    "TS.sig$C = TS.sig$OTU\n",
    "\n",
    "DF.long = filter(DF.sum, C == 'OTU.902')\n",
    "TS.long = filter(TS.sig, OTU == 'OTU.902')\n",
    "\n",
    "\n",
    "limits = aes(ymax = meanab + sdab, ymin=meanab -sdab, color = class)\n",
    "\n",
    "\n",
    "ggplot(DF.long, aes(x = time, y = meanab)) + \n",
    "geom_point(aes(color = class)) + \n",
    "geom_errorbar(limits, width=0.25)+\n",
    "geom_segment(data = TS.long, aes(x = Interval.start, xend = Interval.end, y = 10, yend = 10)) +\n",
    "facet_wrap(~C)"
   ]
  },
  {
   "cell_type": "code",
   "execution_count": null,
   "metadata": {
    "collapsed": false
   },
   "outputs": [],
   "source": [
    "%%R\n",
    "(TS.sig) %>% arrange(-Area) %>% head"
   ]
  },
  {
   "cell_type": "code",
   "execution_count": null,
   "metadata": {
    "collapsed": false
   },
   "outputs": [],
   "source": [
    "%%R -w 1200 -h 500\n",
    "\n",
    "Mult_TS$ISIE = factor(Mult_TS$ISIE, levels = Mult_TS$ISIE[order(-Mult_TS_sum$counts)])\n",
    "\n",
    "\n",
    "ggplot(Mult_TS, aes(x = ISIE)) + geom_bar(aes(fill = as.factor(TS_num))) + #+ facet_wrap(~TS_num)+\n",
    "        theme(text = element_text(size=18),\n",
    "        axis.title.y = element_text(vjust=1),\n",
    "        axis.text.x = element_text(angle=90, vjust=0.5, hjust=1))  + xlab('Time Period')+\n",
    "        ylab('Number of OTUs') \n"
   ]
  },
  {
   "cell_type": "code",
   "execution_count": null,
   "metadata": {
    "collapsed": true
   },
   "outputs": [],
   "source": [
    "%%R\n",
    "head(TS.sig)\n",
    "TS.sig$Start[TS.sig$Interval.start %in% c(0:75)] = 'July2014'\n",
    "#TS.sig$Start[TS.sig$Interval.start > 0 & TS.sig$Interval.start <76] = 'JunetoSept_2014'\n",
    "TS.sig$Start[TS.sig$Interval.start %in% c(76:110)] = 'September2014'\n",
    "#TS.sig$Start[TS.sig$Interval.start > 76 & TS.sig$Interval.start < 111 ] = 'SepttoOct_2014'\n",
    "TS.sig$Start[TS.sig$Interval.start %in% c(111:138)] = 'October2014'\n",
    "#TS.sig$Start[TS.sig$Interval.start > 111 & TS.sig$Interval.start < 139 ] = 'Oct_Nov_2014'\n",
    "TS.sig$Start[TS.sig$Interval.start == 139] = 'November2014'\n",
    "TS.sig$Start[TS.sig$Interval.start > 139 & TS.sig$Interval.start < 294] = 'Nov2014April2015'\n",
    "TS.sig$Start[TS.sig$Interval.start %in% c(294:341)] = 'April2015'\n",
    "#TS.sig$Start[TS.sig$Interval.start > 294 & TS.sig$Interval.start < 342] = 'April_June_2015'\n",
    "TS.sig$Start[TS.sig$Interval.start %in% c(342: 370)] = 'June2015'\n",
    "#TS.sig$Start[TS.sig$Interval.start > 342 & TS.sig$Interval.start < 371] = 'June_July_2015'\n",
    "TS.sig$Start[TS.sig$Interval.start %in% c(371: 398)] = 'July2015'\n",
    "#TS.sig$Start[TS.sig$Interval.start > 371 & TS.sig$Interval.start < 399] = 'July_Aug_2015'\n",
    "TS.sig$Start[TS.sig$Interval.start %in% c(399: 439)] = 'August2015'\n",
    "#TS.sig$Start[TS.sig$Interval.start > 399 & TS.sig$Interval.start < 440] = 'Aug_Sept_2015'\n",
    "TS.sig$Start[TS.sig$Interval.start %in% c(440: 473)] = 'Sept2015'\n",
    "#TS.sig$Start[TS.sig$Interval.start > 440 & TS.sig$Interval.start < 474] = 'Sept_Oct_2015'\n",
    "TS.sig$Start[TS.sig$Interval.start %in% c(474: 502)] = 'Oct2015'\n",
    "#TS.sig$Start[TS.sig$Interval.start > 474 & TS.sig$Interval.start < 503] = 'Oct_Nov_2015'\n",
    "TS.sig$Start[TS.sig$Interval.start == 503] = 'Nov2015'\n",
    "\n",
    "\n",
    "TS.sig$End[TS.sig$Interval.end %in% c(0:75)] = 'July2014'\n",
    "#TS.sig$End[TS.sig$Interval.end > 0 & TS.sig$Interval.end <76] = 'JunetoSept_2014'\n",
    "TS.sig$End[TS.sig$Interval.end %in% c(76:110)] = 'September2014'\n",
    "#TS.sig$End[TS.sig$Interval.end > 76 & TS.sig$Interval.end < 111 ] = 'SepttoOct_2014'\n",
    "TS.sig$End[TS.sig$Interval.end %in% c(111:138)] = 'October2014'\n",
    "#TS.sig$End[TS.sig$Interval.end > 111 & TS.sig$Interval.end < 139 ] = 'Oct_Nov_2014'\n",
    "TS.sig$End[TS.sig$Interval.end == 139] = 'November2014'\n",
    "TS.sig$End[TS.sig$Interval.end > 139 & TS.sig$Interval.end < 294] = 'Nov2014_April2015'\n",
    "TS.sig$End[TS.sig$Interval.end %in% c(294:341)] = 'April2015'\n",
    "#TS.sig$End[TS.sig$Interval.end > 294 & TS.sig$Interval.end < 342] = 'April_June_2015'\n",
    "TS.sig$End[TS.sig$Interval.end %in% c(342: 370)] = 'June2015'\n",
    "#TS.sig$End[TS.sig$Interval.end > 342 & TS.sig$Interval.end < 371] = 'June_July_2015'\n",
    "TS.sig$End[TS.sig$Interval.end %in% c(371: 398)] = 'July2015'\n",
    "#TS.sig$Start[TS.sig$Interval.end > 371 & TS.sig$Interval.end < 399] = 'July_Aug_2015'\n",
    "TS.sig$End[TS.sig$Interval.end %in% c(399: 439)] = 'August2015'\n",
    "#TS.sig$End[TS.sig$Interval.end > 399 & TS.sig$Interval.end < 440] = 'Aug_Sept_2015'\n",
    "TS.sig$End[TS.sig$Interval.end %in% c(440: 473)] = 'Sept2015'\n",
    "#TS.sig$End[TS.sig$Interval.end > 440 & TS.sig$Interval.end < 474] = 'Sept_Oct_2015'\n",
    "TS.sig$End[TS.sig$Interval.end %in% c(474: 502)] = 'Oct2015'\n",
    "#TS.sig$End[TS.sig$Interval.end > 474 & TS.sig$Interval.end < 503] = 'Oct_Nov_2015'\n",
    "TS.sig$End[TS.sig$Interval.end == 503] = 'Nov2015'\n",
    "\n",
    "\n",
    "\n"
   ]
  },
  {
   "cell_type": "code",
   "execution_count": null,
   "metadata": {
    "collapsed": false
   },
   "outputs": [],
   "source": [
    "%%R\n",
    "Mult_TS = TS.sig %>% group_by(OTU) %>% mutate(TS_num = n()) %>% mutate(diff = Interval.end-Interval.start)\n",
    "\n",
    "head(Mult_TS) %>% as.data.frame"
   ]
  },
  {
   "cell_type": "code",
   "execution_count": null,
   "metadata": {
    "collapsed": true
   },
   "outputs": [],
   "source": [
    "%%R\n",
    "Mult_TS$ISIE = paste(Mult_TS$Start, Mult_TS$End, sep = '-')"
   ]
  },
  {
   "cell_type": "code",
   "execution_count": null,
   "metadata": {
    "collapsed": true
   },
   "outputs": [],
   "source": [
    "%%R\n",
    "Mult_TS_sum = Mult_TS %>% group_by(ISIE) %>% summarise(counts = n(), max_diff = max(diff), min_diff = min(diff))"
   ]
  },
  {
   "cell_type": "code",
   "execution_count": null,
   "metadata": {
    "collapsed": true
   },
   "outputs": [],
   "source": [
    "%%R\n",
    "Mult_TS$type = ifelse(Mult_TS$diff > 392, 'Long Term',\n",
    "                      ifelse(Mult_TS$diff %in% c(210: 392), 'Extended',\n",
    "                            ifelse(Mult_TS$diff %in% c(103: 209), 'Interannual',\n",
    "                                ifelse(Mult_TS$diff %in% c(30:102), 'Seasonal','Short term'))))"
   ]
  },
  {
   "cell_type": "code",
   "execution_count": null,
   "metadata": {
    "collapsed": false
   },
   "outputs": [],
   "source": [
    "%%R\n",
    "Mult_TS %>% group_by(type) %>% filter(Area > 0) %>% summarize(nR = n()) %>% print()\n",
    "Mult_TS %>% group_by(type) %>% filter(Area < 0) %>% summarize(nH = n()) %>% print"
   ]
  },
  {
   "cell_type": "code",
   "execution_count": null,
   "metadata": {
    "collapsed": false
   },
   "outputs": [],
   "source": [
    "%%R\n",
    "tax = as.data.frame(tax_table(physeq.final))\n",
    "tax$OTU = rownames(tax)\n",
    "head(tax)"
   ]
  },
  {
   "cell_type": "code",
   "execution_count": null,
   "metadata": {
    "collapsed": false
   },
   "outputs": [],
   "source": [
    "%%R\n",
    "tax$Rank2 = gsub(\"__\", \"\", tax$Rank2)\n",
    "tax$Rank3 = gsub(\"__\", \"\", tax$Rank3)\n",
    "tax$Rank4 = gsub(\"__\", \"\", tax$Rank4)\n",
    "tax$Rank5 = gsub(\"__\", \"\", tax$Rank5)\n",
    "tax$Rank6 = gsub(\"__\", \"\", tax$Rank6)\n",
    "tax$Rank7 = gsub('__', \"\", tax$Rank7)"
   ]
  },
  {
   "cell_type": "code",
   "execution_count": null,
   "metadata": {
    "collapsed": false
   },
   "outputs": [],
   "source": [
    "%%R\n",
    "Mult_TS_tax = left_join(Mult_TS, tax, by = \"OTU\")"
   ]
  },
  {
   "cell_type": "code",
   "execution_count": null,
   "metadata": {
    "collapsed": false
   },
   "outputs": [],
   "source": [
    "%%R\n",
    "Mult_TS_sum_type = Mult_TS_tax %>% group_by(type, Rank2, Rank3, ISIE) %>%\n",
    "        summarise(counts = n(), max_diff = max(diff), min_diff = min(diff))"
   ]
  },
  {
   "cell_type": "code",
   "execution_count": null,
   "metadata": {
    "collapsed": false
   },
   "outputs": [],
   "source": [
    "%%R\n",
    "cols = c(\"#DE3565\",\n",
    "\"#64C036\",\n",
    "\"#CA6ED8\",\n",
    "\"#B7B938\",\n",
    "\"#6F81DD\",\n",
    "\"#CE8E2E\",\n",
    "\"#528FB8\",\n",
    "\"#DD502D\",\n",
    "\"#3EBEBD\",\n",
    "\"#D44D9C\",\n",
    "\"#59C171\",\n",
    "\"#AF699B\",\n",
    "\"#6E7F27\",\n",
    "\"#9781BE\",\n",
    "\"#3E814F\",\n",
    "\"#C75B6F\",\n",
    "\"#BA6040\")"
   ]
  },
  {
   "cell_type": "code",
   "execution_count": null,
   "metadata": {
    "collapsed": false
   },
   "outputs": [],
   "source": [
    "%%R\n",
    "(Mult_TS_sum_type) %>% group_by(type) %>% summarise(num = sum(counts))"
   ]
  },
  {
   "cell_type": "code",
   "execution_count": null,
   "metadata": {
    "collapsed": false
   },
   "outputs": [],
   "source": [
    "%%R -w 1000 -h 500\n",
    "\n",
    "\n",
    "Mult_TS_sum_type$type = factor(Mult_TS_sum_type$type, levels = Mult_TS_sum_type$type[order(-Mult_TS_sum_type$counts)])\n",
    "\n",
    "p = ggplot(data = Mult_TS_sum_type, aes(type, counts, fill = Rank3)) + geom_bar(stat='identity') +\n",
    "        theme(text = element_text(size=18), axis.text.x = element_text(angle=0, vjust=1))  + \n",
    "        xlab('Temporal Enrichment Pattern') + ylab('Number of OTUs') + scale_fill_manual(values = cols, name = 'Phylum')\n",
    "\n",
    "p"
   ]
  },
  {
   "cell_type": "code",
   "execution_count": null,
   "metadata": {
    "collapsed": false
   },
   "outputs": [],
   "source": [
    "%%R -w 1000 -h 500\n",
    "\n",
    "Longterm = filter(Mult_TS_sum_type, type == 'Long Term')%>% group_by(ISIE, type, Rank2, Rank3) %>%\n",
    "    summarise(counts = sum(counts)) \n",
    "Longterm$ISIE = factor(Longterm$ISIE, levels = Longterm$ISIE[order(-Longterm$counts)])\n",
    "\n",
    "p = ggplot(data = Longterm, aes(ISIE, counts, fill = Rank3)) + geom_bar(stat='identity') +\n",
    "        theme(text = element_text(size=16), axis.text.x = element_text(angle=90, vjust=1)) + facet_wrap(~type) +\n",
    "        scale_fill_manual(values = cols, name = \"Phylum\")  + xlab(NULL)\n",
    "\n",
    "p"
   ]
  },
  {
   "cell_type": "code",
   "execution_count": null,
   "metadata": {
    "collapsed": false
   },
   "outputs": [],
   "source": [
    "%%R -w 1000 -h 500\n",
    "\n",
    "Mult_TS_sum_type$ISIE = factor(Mult_TS_sum_type$ISIE, levels = Mult_TS_sum_type$ISIE[order(-Mult_TS_sum_type$counts)])\n",
    "\n",
    "Longterm = filter(Mult_TS_sum_type, type == 'Extended')  %>% group_by(ISIE, type, Rank2, Rank3) %>%\n",
    "    summarise(counts = sum(counts)) \n",
    "Longterm$ISIE = factor(Longterm$ISIE, levels = Longterm$ISIE[order(-Longterm$counts)])\n",
    "\n",
    "p = ggplot(data = Longterm, aes(ISIE, counts, fill = Rank3)) + geom_bar(stat='identity') +\n",
    "        theme(text = element_text(size=16), axis.text.x = element_text(angle=90, vjust=1)) + facet_wrap(~type)+\n",
    "        scale_fill_manual(values = cols, name = \"Phylum\")   + xlab(NULL)\n",
    "\n",
    "\n",
    "p"
   ]
  },
  {
   "cell_type": "code",
   "execution_count": null,
   "metadata": {
    "collapsed": false
   },
   "outputs": [],
   "source": [
    "%%R -w 1000 -h 500\n",
    "\n",
    "\n",
    "Longterm = filter(Mult_TS_sum_type, type == 'Interannual') %>% group_by(ISIE, type, Rank2, Rank3) %>%\n",
    "    summarise(counts = sum(counts)) \n",
    "Longterm$ISIE = factor(Longterm$ISIE, levels = Longterm$ISIE[order(-Longterm$counts)])\n",
    "\n",
    "p = ggplot(data = Longterm, aes(ISIE, counts, fill = Rank3)) + geom_bar(stat='identity') +\n",
    "        theme(text = element_text(size=16), axis.text.x = element_text(angle=90, vjust=1)) + facet_wrap(~type)+\n",
    "        scale_fill_manual(values = cols, name = \"Phylum\") + xlab(NULL)\n",
    "\n",
    "\n",
    "p"
   ]
  },
  {
   "cell_type": "code",
   "execution_count": null,
   "metadata": {
    "collapsed": false
   },
   "outputs": [],
   "source": [
    "%%R -w 1000 -h 500\n",
    "\n",
    "\n",
    "Longterm = filter(Mult_TS_sum_type, type == 'Seasonal') %>% group_by(ISIE, type, Rank3) %>%\n",
    "    summarise(counts = sum(counts)) \n",
    "Longterm$ISIE = factor(Longterm$ISIE, levels = Longterm$ISIE[order(-Longterm$counts)])\n",
    "\n",
    "p = ggplot(data = Longterm, aes(ISIE, counts, fill = Rank3)) + geom_bar(stat='identity') +\n",
    "        theme(text = element_text(size=16), axis.text.x = element_text(angle=90, vjust=1)) + facet_wrap(~type)+\n",
    "        scale_fill_manual(values = cols, name = \"Phylum\") + xlab(NULL)\n",
    "\n",
    "\n",
    "p"
   ]
  },
  {
   "cell_type": "code",
   "execution_count": null,
   "metadata": {
    "collapsed": false
   },
   "outputs": [],
   "source": [
    "%%R\n",
    "head(Mult_TS) %>% as.data.frame()\n",
    "o = filter(Mult_TS, TS_num == 1)\n",
    "one = filter(diff, OTU %in% o$OTU)"
   ]
  },
  {
   "cell_type": "code",
   "execution_count": null,
   "metadata": {
    "collapsed": false
   },
   "outputs": [],
   "source": [
    "%%R\n",
    "one$Start_stop = paste(one$Start, one$End, sep = '__')\n",
    "head(one)"
   ]
  },
  {
   "cell_type": "code",
   "execution_count": null,
   "metadata": {
    "collapsed": false
   },
   "outputs": [],
   "source": [
    "%%R -h 800 -w 1000\n",
    "plot = one %>% group_by(Start_stop) %>% summarise(counts = n())\n",
    "plot$Start_stop = factor(plot$Start_stop, levels = plot$Start_stop[order(-plot$counts)])\n",
    "\n",
    "ggplot(data = plot, aes(x = Start_stop, y = counts)) + geom_bar(stat = 'identity') +\n",
    "        theme(text = element_text(size=18),\n",
    "        axis.title.y = element_text(vjust=1),\n",
    "        axis.text.x = element_text(angle=90, vjust=0.5, hjust=1))  + xlab('Time Period')+\n",
    "        ylab('Number of OTUs') "
   ]
  },
  {
   "cell_type": "code",
   "execution_count": null,
   "metadata": {
    "collapsed": false
   },
   "outputs": [],
   "source": [
    "%%R\n",
    "head(one)"
   ]
  },
  {
   "cell_type": "code",
   "execution_count": null,
   "metadata": {
    "collapsed": false
   },
   "outputs": [],
   "source": [
    "%%R\n",
    "head(one)\n",
    "\n",
    "one %>% filter(diff >=503) %>% summarise(totallyconsistent = n()) %>% print()\n",
    "one %>% filter(diff >=384) %>% summarise(longterm = n()) %>% print()\n",
    "one %>% filter(diff >=35 & diff <=76) %>% summarise(shortterm = n()) %>% print()\n",
    "one %>% filter(diff <35) %>% summarise(month = n()) %>% print()\n",
    "one %>% filter(diff >35 & diff <= 120) %>% summarise(medium = n()) %>% print()\n",
    "one %>% filter(diff >120 & diff < 400) %>% summarise(medium = n()) %>% print()"
   ]
  },
  {
   "cell_type": "code",
   "execution_count": null,
   "metadata": {
    "collapsed": false
   },
   "outputs": [],
   "source": [
    "%%R\n",
    "med = one %>% filter(diff >35 & diff <= 120) \n",
    "head(med)\n"
   ]
  },
  {
   "cell_type": "code",
   "execution_count": null,
   "metadata": {
    "collapsed": false
   },
   "outputs": [],
   "source": [
    "%%R\n",
    "NTR.bulk = read.csv('data/NTR_ApNov_Enriched.csv')\n",
    "med.ab = filter(DF.sum, C %in% NTR.bulk$OTU)\n",
    "med.sig = filter(TS.sig, C %in% NTR.bulk$OTU)"
   ]
  },
  {
   "cell_type": "code",
   "execution_count": null,
   "metadata": {
    "collapsed": false
   },
   "outputs": [],
   "source": [
    "%%R\n",
    "length(unique(NTR.bulk$OTU))"
   ]
  },
  {
   "cell_type": "code",
   "execution_count": null,
   "metadata": {
    "collapsed": false
   },
   "outputs": [],
   "source": [
    "%%R\n",
    "head(TSOM)"
   ]
  },
  {
   "cell_type": "code",
   "execution_count": null,
   "metadata": {
    "collapsed": false
   },
   "outputs": [],
   "source": [
    "%%R\n",
    "filter(TSOM, X == 'OTU.10 interval:1')"
   ]
  },
  {
   "cell_type": "code",
   "execution_count": null,
   "metadata": {
    "collapsed": false
   },
   "outputs": [],
   "source": [
    "%%R -h 400 -w 800\n",
    "\n",
    "limits = aes(ymax = meanab + sdab, ymin=meanab -sdab, color = class)\n",
    "\n",
    "ggplot(med.ab, aes(x = time, y = meanab)) + \n",
    "geom_point(aes(color = class)) + \n",
    "geom_errorbar(limits, width=0.25)+\n",
    "geom_segment(data = med.sig, aes(x = Interval.start, xend = Interval.end, y = 10, yend = 10)) +\n",
    "facet_wrap(~C)"
   ]
  },
  {
   "cell_type": "code",
   "execution_count": null,
   "metadata": {
    "collapsed": false
   },
   "outputs": [],
   "source": [
    "%%R\n",
    "head(med.ab)"
   ]
  },
  {
   "cell_type": "code",
   "execution_count": null,
   "metadata": {
    "collapsed": false
   },
   "outputs": [],
   "source": [
    "%%R\n",
    "test = one %>% filter(diff >=384, Area >0) %>% summarise(.resp = n()) %>% print\n",
    "test = one %>% filter(diff >=384, Area <0) %>% summarise(NT.resp = n()) %>% print"
   ]
  },
  {
   "cell_type": "code",
   "execution_count": null,
   "metadata": {
    "collapsed": false
   },
   "outputs": [],
   "source": [
    "%%R\n",
    "sessionInfo()"
   ]
  }
 ],
 "metadata": {
  "kernelspec": {
   "display_name": "Python 2",
   "language": "python",
   "name": "python2"
  },
  "language_info": {
   "codemirror_mode": {
    "name": "ipython",
    "version": 2
   },
   "file_extension": ".py",
   "mimetype": "text/x-python",
   "name": "python",
   "nbconvert_exporter": "python",
   "pygments_lexer": "ipython2",
   "version": "2.7.11"
  }
 },
 "nbformat": 4,
 "nbformat_minor": 0
}
