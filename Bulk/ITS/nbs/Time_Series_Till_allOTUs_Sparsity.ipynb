{
 "cells": [
  {
   "cell_type": "code",
   "execution_count": null,
   "metadata": {
    "collapsed": false
   },
   "outputs": [],
   "source": [
    "import os\n",
    "%load_ext rpy2.ipython"
   ]
  },
  {
   "cell_type": "code",
   "execution_count": null,
   "metadata": {
    "collapsed": false
   },
   "outputs": [],
   "source": [
    "%%R\n",
    "workDir = '/home/chantal/Chazy/Bulk/ITS/data/'\n",
    "figDir = '/home/chantal/Chazy/Bulk/ITS/data/figs/'\n",
    "\n",
    "physeqDir = '/home/chantal/Chazy/data/phyloseq/ITS/'\n",
    "physeqBulk = 'bulk-core'\n",
    "\n",
    "\n",
    "nprocs = 20"
   ]
  },
  {
   "cell_type": "code",
   "execution_count": null,
   "metadata": {
    "collapsed": false
   },
   "outputs": [],
   "source": [
    "%%R\n",
    "library(ggplot2)\n",
    "library(phyloseq)\n",
    "library(tidyr)\n",
    "library(plyr);library(dplyr)\n",
    "\n",
    "library(scales)\n",
    "library(biom)\n",
    "library(metagenomeSeq)\n",
    "library(doParallel)\n"
   ]
  },
  {
   "cell_type": "code",
   "execution_count": null,
   "metadata": {
    "collapsed": false
   },
   "outputs": [],
   "source": [
    "%%R\n",
    "F = file.path(physeqDir, physeqBulk)\n",
    "physeq.Bulk = readRDS(F)\n",
    "physeq.Bulk.m = physeq.Bulk %>% sample_data\n",
    "#physeq.Bulk.Sparsity = filter_taxa(physeq.Bulk, function(x) sum(x > 0) > (0.25 * length(x)), TRUE)\n",
    "\n",
    "physeq.Bulk.m = physeq.Bulk %>% sample_data\n",
    "\n",
    "physeq.Bulk.core = prune_samples(physeq.Bulk.m$Land_Management != \"PAS\", physeq.Bulk)\n",
    "\n",
    "physeq.Bulk.core = physeq.Bulk.core %>% filter_taxa(function(x) sum(x) > 0, TRUE)\n",
    "\n",
    "physeq.Bulk.m = physeq.Bulk.core %>% sample_data\n",
    "    \n",
    "\n",
    "#print(physeq.Bulk.Sparsity)\n",
    "print(physeq.Bulk.core)\n"
   ]
  },
  {
   "cell_type": "code",
   "execution_count": null,
   "metadata": {
    "collapsed": false
   },
   "outputs": [],
   "source": [
    "%%R\n",
    "physeq.Bulk.m = physeq.Bulk.core %>% sample_data"
   ]
  },
  {
   "cell_type": "code",
   "execution_count": null,
   "metadata": {
    "collapsed": false
   },
   "outputs": [],
   "source": [
    "%%R\n",
    "physeq.Bulk.m$Sample_Date = as.POSIXct(strptime(physeq.Bulk.m$Sample_Date, format = \"%m/%d/%y\"))\n",
    "str(physeq.Bulk.m$Sample_Date)"
   ]
  },
  {
   "cell_type": "code",
   "execution_count": null,
   "metadata": {
    "collapsed": false
   },
   "outputs": [],
   "source": [
    "%%R\n",
    "physeq.Bulk.m$Day = round(difftime(physeq.Bulk.m$Sample_Date, min(physeq.Bulk.m$Sample_Date), \n",
    "         units = \"days\"))\n",
    "tail(physeq.Bulk.m)"
   ]
  },
  {
   "cell_type": "code",
   "execution_count": null,
   "metadata": {
    "collapsed": false
   },
   "outputs": [],
   "source": [
    "%%R\n",
    "physeq.Bulk.m$Day_rel = as.numeric(physeq.Bulk.m$Day)\n"
   ]
  },
  {
   "cell_type": "code",
   "execution_count": null,
   "metadata": {
    "collapsed": false
   },
   "outputs": [],
   "source": [
    "%%R\n",
    "physeq.final = merge_phyloseq(physeq.Bulk.core, physeq.Bulk.m)\n",
    "physeq.final"
   ]
  },
  {
   "cell_type": "code",
   "execution_count": null,
   "metadata": {
    "collapsed": false
   },
   "outputs": [],
   "source": [
    "%%R\n",
    "make_metagenomeSeq = function(physeq) {\n",
    "    require(\"metagenomeSeq\")\n",
    "    require(\"phyloseq\")\n",
    "    # Enforce orientation\n",
    "    if (!taxa_are_rows(physeq)) {\n",
    "        physeq <- t(physeq)\n",
    "    }\n",
    "    OTU = as(otu_table(physeq), \"matrix\")\n",
    "    #OTUTill = subset(OTU, rownames(OTU) %in% df.Till.r$OTU)\n",
    "\n",
    "    # Convert sample_data to AnnotatedDataFrame\n",
    "    ADF = AnnotatedDataFrame(data.frame(sample_data(physeq)))\n",
    "    # define dummy 'feature' data for OTUs, using their name Helps with\n",
    "    # extraction and relating to taxonomy later on.\n",
    "    TDF = AnnotatedDataFrame(data.frame(tax_table(physeq)))\n",
    "    #TDFTill = subset(TDF, rownames(TDF) %in% df.Till.r$OTU)\n",
    "    TDF$Rank9 = rownames(TDF)\n",
    "\n",
    "\n",
    "    # Create the metagenomeSeq object\n",
    "    MGS = newMRexperiment(counts = OTU, phenoData = ADF, featureData = TDF)\n",
    "    # Trigger metagenomeSeq to calculate its Cumulative Sum scaling factor.\n",
    "    MGS = cumNorm(MGS)\n",
    "    return(MGS)\n",
    "}\n",
    "\n",
    "MR = make_metagenomeSeq(physeq.final)"
   ]
  },
  {
   "cell_type": "code",
   "execution_count": null,
   "metadata": {
    "collapsed": false
   },
   "outputs": [],
   "source": [
    "%%R\n",
    "str(MR)"
   ]
  },
  {
   "cell_type": "code",
   "execution_count": null,
   "metadata": {
    "collapsed": true
   },
   "outputs": [],
   "source": [
    "%%R\n",
    "TimeSeries = function(MR, feature) {  \n",
    "    \n",
    "    res = fitTimeSeries(obj = MR, lvl = 'Rank9', feature = feature, class = \"Till\",\n",
    "                    id = \"Full.sample\", time = \"Day_rel\", log = TRUE)\n",
    "\n",
    "    return(res)\n",
    "}\n",
    "\n",
    "\n"
   ]
  },
  {
   "cell_type": "code",
   "execution_count": null,
   "metadata": {
    "collapsed": false
   },
   "outputs": [],
   "source": [
    "%%R\n",
    "OTU = as(otu_table(physeq.final), \"matrix\")\n",
    "\n",
    "feature = rownames(OTU)\n",
    "str(feature)"
   ]
  },
  {
   "cell_type": "code",
   "execution_count": null,
   "metadata": {
    "collapsed": true
   },
   "outputs": [],
   "source": [
    "%%R\n",
    "mdf = psmelt(physeq.final)"
   ]
  },
  {
   "cell_type": "code",
   "execution_count": null,
   "metadata": {
    "collapsed": false
   },
   "outputs": [],
   "source": [
    "%%R\n",
    "test2 = filter(mdf, OTU == 'OTU.12348') \n",
    "summary(test2$Abundance)"
   ]
  },
  {
   "cell_type": "code",
   "execution_count": null,
   "metadata": {
    "collapsed": true
   },
   "outputs": [],
   "source": []
  },
  {
   "cell_type": "code",
   "execution_count": null,
   "metadata": {
    "collapsed": false
   },
   "outputs": [],
   "source": [
    "%%R\n",
    "test2 %>% group_by(Abundance) %>% summarise(sum = n())"
   ]
  },
  {
   "cell_type": "code",
   "execution_count": null,
   "metadata": {
    "collapsed": false
   },
   "outputs": [],
   "source": [
    "%%R\n",
    "range(test$count)"
   ]
  },
  {
   "cell_type": "code",
   "execution_count": null,
   "metadata": {
    "collapsed": false
   },
   "outputs": [],
   "source": [
    "%%R\n",
    "feature[1766]"
   ]
  },
  {
   "cell_type": "code",
   "execution_count": null,
   "metadata": {
    "collapsed": false
   },
   "outputs": [],
   "source": [
    "%%R\n",
    "feature = feature[-627]\n",
    "feature = feature[-13]\n",
    "feature = feature[-1147]\n",
    "feature = feature[-1415]\n",
    "feature = feature[-1767]"
   ]
  },
  {
   "cell_type": "code",
   "execution_count": null,
   "metadata": {
    "collapsed": false
   },
   "outputs": [],
   "source": [
    "%%R\n",
    "#OTUs not found across all timepoints?\n",
    "registerDoParallel(10)\n",
    "\n",
    "TS = llply(feature, \n",
    "          TimeSeries, \n",
    "          .parallel = TRUE,\n",
    "          MR = MR \n",
    "         )"
   ]
  },
  {
   "cell_type": "code",
   "execution_count": null,
   "metadata": {
    "collapsed": false
   },
   "outputs": [],
   "source": [
    "%%R\n",
    "str(TS)"
   ]
  },
  {
   "cell_type": "code",
   "execution_count": null,
   "metadata": {
    "collapsed": false
   },
   "outputs": [],
   "source": [
    "%%R\n",
    "names(TS) = feature"
   ]
  },
  {
   "cell_type": "code",
   "execution_count": null,
   "metadata": {
    "collapsed": false
   },
   "outputs": [],
   "source": [
    "%%R\n",
    "timeSeriesFits = sapply(TS,function(i){i[[1]]})[-grep(\"No\",TS)]"
   ]
  },
  {
   "cell_type": "code",
   "execution_count": null,
   "metadata": {
    "collapsed": false
   },
   "outputs": [],
   "source": [
    "%%R\n",
    "str(timeSeriesFits)"
   ]
  },
  {
   "cell_type": "code",
   "execution_count": null,
   "metadata": {
    "collapsed": false
   },
   "outputs": [],
   "source": [
    "%%R\n",
    "for(i in 1:length(timeSeriesFits.Filt)){\n",
    "    rownames(timeSeriesFits.Filt[[i]]) =\n",
    "    paste(\n",
    "    paste(names(timeSeriesFits.Filt)[i],\" interval\",sep=\"\"),\n",
    "    1:nrow(timeSeriesFits.Filt[[i]]),sep=\":\"\n",
    ")\n",
    "}"
   ]
  },
  {
   "cell_type": "code",
   "execution_count": null,
   "metadata": {
    "collapsed": false
   },
   "outputs": [],
   "source": [
    "%%R\n",
    "timeSeriesFits = as.data.frame(do.call(rbind, timeSeriesFits.Filt))\n",
    "\n",
    "\n",
    "#do.call(rbind,timeSeriesFits)"
   ]
  },
  {
   "cell_type": "code",
   "execution_count": null,
   "metadata": {
    "collapsed": false
   },
   "outputs": [],
   "source": [
    "%%R\n",
    "timeSeriesFits = as.data.frame(do.call(rbind, timeSeriesFits.Filt))\n",
    "\n",
    "\n",
    "#do.call(rbind,timeSeriesFits)"
   ]
  },
  {
   "cell_type": "code",
   "execution_count": null,
   "metadata": {
    "collapsed": false
   },
   "outputs": [],
   "source": [
    "%%R\n",
    "pvalues = timeSeriesFits[,\"p.value\"]\n",
    "adjPvalues = p.adjust(pvalues,\"bonferroni\")\n",
    "timeSeriesFits = cbind(timeSeriesFits,adjPvalues)\n",
    "head(timeSeriesFits)"
   ]
  },
  {
   "cell_type": "code",
   "execution_count": null,
   "metadata": {
    "collapsed": false
   },
   "outputs": [],
   "source": [
    "%%R\n",
    "write.csv(timeSeriesFits, 'data/timeSeries_tillage_all_ITS.csv')"
   ]
  },
  {
   "cell_type": "code",
   "execution_count": null,
   "metadata": {
    "collapsed": false
   },
   "outputs": [],
   "source": [
    "%%R\n",
    "TSTill = read.csv('data/timeSeries_tillage_all_ITS.csv')"
   ]
  },
  {
   "cell_type": "code",
   "execution_count": null,
   "metadata": {
    "collapsed": false
   },
   "outputs": [],
   "source": [
    "%%R\n",
    "filter(TSTill, X == 'OTU.10 interval:1')"
   ]
  },
  {
   "cell_type": "code",
   "execution_count": null,
   "metadata": {
    "collapsed": false
   },
   "outputs": [],
   "source": [
    "%%R\n",
    "TS.sig = filter(TSTill, adjPvalues <= 0.01)\n",
    "length(TS.sig$X)"
   ]
  },
  {
   "cell_type": "code",
   "execution_count": null,
   "metadata": {
    "collapsed": false
   },
   "outputs": [],
   "source": [
    "%%R\n",
    "TS.sig$OTU_interval = TS.sig$X\n",
    "TS.sig = separate(TS.sig, OTU_interval, c('OTU', 'interval'), sep = \" \") %>% separate(interval, c('interval', 'num'))\n",
    "head(TS.sig)"
   ]
  },
  {
   "cell_type": "code",
   "execution_count": null,
   "metadata": {
    "collapsed": false
   },
   "outputs": [],
   "source": [
    "%%R\n",
    "print(length(unique(TS.sig$OTU))) \n",
    "Mult_resp = TS.sig %>% group_by(OTU) %>% summarise(respTime = n()) %>% filter(respTime > 1)"
   ]
  },
  {
   "cell_type": "code",
   "execution_count": null,
   "metadata": {
    "collapsed": true
   },
   "outputs": [],
   "source": [
    "%%R\n",
    "Make_DF = function(TS) {  \n",
    "    \n",
    "    d = data.frame(TS$data[, c(\"abundance\",\"class\", \"time\", \"id\")])\n",
    "    d$Sample = rownames(TS$data)\n",
    "\n",
    "\n",
    "    return(d)\n",
    "}"
   ]
  },
  {
   "cell_type": "code",
   "execution_count": null,
   "metadata": {
    "collapsed": false
   },
   "outputs": [],
   "source": [
    "%%R\n",
    "l = list()\n",
    "for (i in 1:length(feature)) {\n",
    "    classname = as.vector(feature[i])\n",
    "    l[[classname]] = Make_DF(TS[[i]])\n",
    "    \n",
    "}"
   ]
  },
  {
   "cell_type": "code",
   "execution_count": null,
   "metadata": {
    "collapsed": true
   },
   "outputs": [],
   "source": [
    "%%R\n",
    "DF = do.call(rbind, l)"
   ]
  },
  {
   "cell_type": "code",
   "execution_count": null,
   "metadata": {
    "collapsed": true
   },
   "outputs": [],
   "source": [
    "%%R\n",
    "write.csv(DF, 'data/TimeSeries_Abundance_Till_ITS.csv')"
   ]
  },
  {
   "cell_type": "code",
   "execution_count": null,
   "metadata": {
    "collapsed": false
   },
   "outputs": [],
   "source": [
    "%%R\n",
    "DF = read.csv('data/TimeSeries_Abundance_Till_ITS.csv')\n",
    "head(DF)"
   ]
  },
  {
   "cell_type": "code",
   "execution_count": null,
   "metadata": {
    "collapsed": false
   },
   "outputs": [],
   "source": [
    "%%R\n",
    "head(DF)"
   ]
  },
  {
   "cell_type": "code",
   "execution_count": null,
   "metadata": {
    "collapsed": false
   },
   "outputs": [],
   "source": [
    "%%R\n",
    "DF2 = separate(DF, Class_Sample, c('OTU', \"num\", \"MY\", \"Treat\", 'Rep'), sep = '\\\\.' )\n",
    "DF2$C = paste(DF2$OTU, DF2$num, sep = '.')\n",
    "DF2$Full.sample = paste(DF2$MY, DF2$Treat, DF2$Rep, sep = '.')\n",
    "DF2 = filter(DF2, C %in% TS.sig$OTU)\n",
    "head(DF2)"
   ]
  },
  {
   "cell_type": "code",
   "execution_count": null,
   "metadata": {
    "collapsed": false
   },
   "outputs": [],
   "source": [
    "%%R\n",
    "DF2$Treat_real = substr(DF2$Treat, 1, 3)\n",
    "head(DF2)"
   ]
  },
  {
   "cell_type": "code",
   "execution_count": null,
   "metadata": {
    "collapsed": false
   },
   "outputs": [],
   "source": [
    "%%R -w 1000 -h 400\n",
    "TS.sig$ISIE = paste(TS.sig$Interval.start, TS.sig$Interval.end, sep = '_')\n",
    "MResp = filter(TS.sig, OTU %in% Mult_resp$OTU) %>% group_by(OTU)\n",
    "\n",
    "MResp$ISIE = factor(MResp$ISIE, levels = MResp$ISIE[order(MResp$OTU)])\n",
    "\n",
    "\n",
    "ggplot(MResp, aes(x = ISIE, group = OTU)) + geom_bar(aes(fill = OTU))  + \n",
    "        theme(text = element_text(size=18),\n",
    "        axis.title.y = element_text(vjust=1),\n",
    "        axis.text.x = element_text(angle=90, vjust=0.5, hjust=1)) + xlab(NULL) + \n",
    "        ylab('Number of Time Periods')"
   ]
  },
  {
   "cell_type": "code",
   "execution_count": null,
   "metadata": {
    "collapsed": false
   },
   "outputs": [],
   "source": [
    "%%R\n",
    "head(DF2)\n",
    "DF.sum = DF2 %>% group_by(C, time, class, Treat_real) %>% summarise(meanab = mean(abundance), sdab = sd(abundance))"
   ]
  },
  {
   "cell_type": "code",
   "execution_count": null,
   "metadata": {
    "collapsed": false
   },
   "outputs": [],
   "source": [
    "%%R\n",
    "head(DF.sum)"
   ]
  },
  {
   "cell_type": "code",
   "execution_count": null,
   "metadata": {
    "collapsed": false
   },
   "outputs": [],
   "source": [
    "%%R\n",
    "Nresp = DF.sum %>% group_by(C, class) %>% summarise(ab = sum(meanab)) "
   ]
  },
  {
   "cell_type": "code",
   "execution_count": null,
   "metadata": {
    "collapsed": false
   },
   "outputs": [],
   "source": [
    "%%R\n",
    "Seas = Mult_TS %>% filter(type == 'Seasonal') %>% ungroup %>% arrange(Area) "
   ]
  },
  {
   "cell_type": "code",
   "execution_count": null,
   "metadata": {
    "collapsed": false
   },
   "outputs": [],
   "source": [
    "%%R -h 300 -w 800\n",
    "example = 'OTU.15234'\n",
    "\n",
    "TS.sig$C = TS.sig$OTU\n",
    "\n",
    "DF.filt = filter(DF.sum, C %in% example)\n",
    "TS.filt = filter(TS.sig, C %in% example )\n",
    "\n",
    "limits = aes(ymax = meanab + sdab, ymin=meanab -sdab, color = Treat_real)\n",
    "ggplot(DF.filt, aes(x = time, y = meanab)) + \n",
    "geom_point(aes(color = Treat_real), size = 3) + \n",
    "geom_errorbar(limits, width=0.25)+\n",
    "geom_segment(data = TS.filt, aes(x = Interval.start, xend = Interval.end, y = 10, yend = 10)) + \n",
    "labs(title = example) + theme(text = element_text(size=16)) + ylab('Abundance') + xlab('Day') +\n",
    "scale_color_discrete(name = \"Land Management\") + facet_wrap(~C, ncol = 7)"
   ]
  },
  {
   "cell_type": "code",
   "execution_count": null,
   "metadata": {
    "collapsed": false
   },
   "outputs": [],
   "source": [
    "%%R\n",
    "filter(TS.sig, OTU == 'OTU.51')"
   ]
  },
  {
   "cell_type": "code",
   "execution_count": null,
   "metadata": {
    "collapsed": false
   },
   "outputs": [],
   "source": [
    "%%R\n",
    "head(DF.sum)"
   ]
  },
  {
   "cell_type": "code",
   "execution_count": null,
   "metadata": {
    "collapsed": false
   },
   "outputs": [],
   "source": [
    "%%R\n",
    "head(TS.sig)\n",
    "TS.sig$Start[TS.sig$Interval.start %in% c(0:75)] = 'July2014'\n",
    "#TS.sig$Start[TS.sig$Interval.start > 0 & TS.sig$Interval.start <76] = 'JunetoSept_2014'\n",
    "TS.sig$Start[TS.sig$Interval.start %in% c(76:110)] = 'September2014'\n",
    "#TS.sig$Start[TS.sig$Interval.start > 76 & TS.sig$Interval.start < 111 ] = 'SepttoOct_2014'\n",
    "TS.sig$Start[TS.sig$Interval.start %in% c(111:138)] = 'October2014'\n",
    "#TS.sig$Start[TS.sig$Interval.start > 111 & TS.sig$Interval.start < 139 ] = 'Oct_Nov_2014'\n",
    "TS.sig$Start[TS.sig$Interval.start == 139] = 'November2014'\n",
    "TS.sig$Start[TS.sig$Interval.start > 139 & TS.sig$Interval.start < 294] = 'Nov2014April2015'\n",
    "TS.sig$Start[TS.sig$Interval.start %in% c(294:341)] = 'April2015'\n",
    "#TS.sig$Start[TS.sig$Interval.start > 294 & TS.sig$Interval.start < 342] = 'April_June_2015'\n",
    "TS.sig$Start[TS.sig$Interval.start %in% c(342: 370)] = 'June2015'\n",
    "#TS.sig$Start[TS.sig$Interval.start > 342 & TS.sig$Interval.start < 371] = 'June_July_2015'\n",
    "TS.sig$Start[TS.sig$Interval.start %in% c(371: 398)] = 'July2015'\n",
    "#TS.sig$Start[TS.sig$Interval.start > 371 & TS.sig$Interval.start < 399] = 'July_Aug_2015'\n",
    "TS.sig$Start[TS.sig$Interval.start %in% c(399: 439)] = 'August2015'\n",
    "#TS.sig$Start[TS.sig$Interval.start > 399 & TS.sig$Interval.start < 440] = 'Aug_Sept_2015'\n",
    "TS.sig$Start[TS.sig$Interval.start %in% c(440: 473)] = 'Sept2015'\n",
    "#TS.sig$Start[TS.sig$Interval.start > 440 & TS.sig$Interval.start < 474] = 'Sept_Oct_2015'\n",
    "TS.sig$Start[TS.sig$Interval.start %in% c(474: 502)] = 'Oct2015'\n",
    "#TS.sig$Start[TS.sig$Interval.start > 474 & TS.sig$Interval.start < 503] = 'Oct_Nov_2015'\n",
    "TS.sig$Start[TS.sig$Interval.start == 503] = 'Nov2015'\n",
    "\n",
    "\n",
    "TS.sig$End[TS.sig$Interval.end %in% c(0:75)] = 'July2014'\n",
    "#TS.sig$End[TS.sig$Interval.end > 0 & TS.sig$Interval.end <76] = 'JunetoSept_2014'\n",
    "TS.sig$End[TS.sig$Interval.end %in% c(76:110)] = 'September2014'\n",
    "#TS.sig$End[TS.sig$Interval.end > 76 & TS.sig$Interval.end < 111 ] = 'SepttoOct_2014'\n",
    "TS.sig$End[TS.sig$Interval.end %in% c(111:138)] = 'October2014'\n",
    "#TS.sig$End[TS.sig$Interval.end > 111 & TS.sig$Interval.end < 139 ] = 'Oct_Nov_2014'\n",
    "TS.sig$End[TS.sig$Interval.end == 139] = 'November2014'\n",
    "TS.sig$End[TS.sig$Interval.end > 139 & TS.sig$Interval.end < 294] = 'Nov2014_April2015'\n",
    "TS.sig$End[TS.sig$Interval.end %in% c(294:341)] = 'April2015'\n",
    "#TS.sig$End[TS.sig$Interval.end > 294 & TS.sig$Interval.end < 342] = 'April_June_2015'\n",
    "TS.sig$End[TS.sig$Interval.end %in% c(342: 370)] = 'June2015'\n",
    "#TS.sig$End[TS.sig$Interval.end > 342 & TS.sig$Interval.end < 371] = 'June_July_2015'\n",
    "TS.sig$End[TS.sig$Interval.end %in% c(371: 398)] = 'July2015'\n",
    "#TS.sig$Start[TS.sig$Interval.end > 371 & TS.sig$Interval.end < 399] = 'July_Aug_2015'\n",
    "TS.sig$End[TS.sig$Interval.end %in% c(399: 439)] = 'August2015'\n",
    "#TS.sig$End[TS.sig$Interval.end > 399 & TS.sig$Interval.end < 440] = 'Aug_Sept_2015'\n",
    "TS.sig$End[TS.sig$Interval.end %in% c(440: 473)] = 'Sept2015'\n",
    "#TS.sig$End[TS.sig$Interval.end > 440 & TS.sig$Interval.end < 474] = 'Sept_Oct_2015'\n",
    "TS.sig$End[TS.sig$Interval.end %in% c(474: 502)] = 'Oct2015'\n",
    "#TS.sig$End[TS.sig$Interval.end > 474 & TS.sig$Interval.end < 503] = 'Oct_Nov_2015'\n",
    "TS.sig$End[TS.sig$Interval.end == 503] = 'Nov2015'\n",
    "\n",
    "\n",
    "\n"
   ]
  },
  {
   "cell_type": "code",
   "execution_count": null,
   "metadata": {
    "collapsed": false
   },
   "outputs": [],
   "source": [
    "%%R\n",
    "Mult_TS = TS.sig %>% group_by(OTU) %>% mutate(TS_num = n()) %>% mutate(diff = Interval.end-Interval.start)\n",
    "\n",
    "head(Mult_TS) %>% as.data.frame"
   ]
  },
  {
   "cell_type": "code",
   "execution_count": null,
   "metadata": {
    "collapsed": false
   },
   "outputs": [],
   "source": [
    "%%R\n",
    "Mult_TS$ISIE = paste(Mult_TS$Start, Mult_TS$End, sep = '-')"
   ]
  },
  {
   "cell_type": "code",
   "execution_count": null,
   "metadata": {
    "collapsed": false
   },
   "outputs": [],
   "source": [
    "%%R\n",
    "Mult_TS_sum = Mult_TS %>% group_by(ISIE) %>% summarise(counts = n(), max_diff = max(diff), min_diff = min(diff))"
   ]
  },
  {
   "cell_type": "code",
   "execution_count": null,
   "metadata": {
    "collapsed": false
   },
   "outputs": [],
   "source": [
    "%%R\n",
    "Mult_TS$type = ifelse(Mult_TS$diff > 392, 'Long Term',\n",
    "                      ifelse(Mult_TS$diff %in% c(210: 392), 'Extended',\n",
    "                            ifelse(Mult_TS$diff %in% c(103: 209), 'Interannual',\n",
    "                                ifelse(Mult_TS$diff %in% c(30:102), 'Seasonal',\n",
    "                                       ifelse(Mult_TS$ISIE %in% c('Nov2014April2015-April2015'), 'Seasonal','Short term')))))"
   ]
  },
  {
   "cell_type": "code",
   "execution_count": null,
   "metadata": {
    "collapsed": false
   },
   "outputs": [],
   "source": [
    "%%R\n",
    "tax = as.data.frame(tax_table(physeq.Bulk.Sparsity))\n",
    "tax$OTU = rownames(tax)\n",
    "head(tax)"
   ]
  },
  {
   "cell_type": "code",
   "execution_count": null,
   "metadata": {
    "collapsed": true
   },
   "outputs": [],
   "source": [
    "%%R\n",
    "tax$Rank2 = gsub(\"__\", \"\", tax$Rank2)\n",
    "tax$Rank3 = gsub(\"__\", \"\", tax$Rank3)\n",
    "tax$Rank4 = gsub(\"__\", \"\", tax$Rank4)\n",
    "tax$Rank5 = gsub(\"__\", \"\", tax$Rank5)\n",
    "tax$Rank6 = gsub(\"__\", \"\", tax$Rank6)\n",
    "tax$Rank7 = gsub('__', \"\", tax$Rank7)"
   ]
  },
  {
   "cell_type": "code",
   "execution_count": null,
   "metadata": {
    "collapsed": true
   },
   "outputs": [],
   "source": [
    "%%R\n",
    "Mult_TS_tax = left_join(Mult_TS, tax, by = \"OTU\")"
   ]
  },
  {
   "cell_type": "code",
   "execution_count": null,
   "metadata": {
    "collapsed": false
   },
   "outputs": [],
   "source": [
    "%%R\n",
    "Mult_TS_tax$Enrich_Status = ifelse(Mult_TS_tax$Area > 0, \"Till\", \"No-Till\" )\n",
    "head(Mult_TS_tax) %>% as.data.frame"
   ]
  },
  {
   "cell_type": "code",
   "execution_count": null,
   "metadata": {
    "collapsed": false
   },
   "outputs": [],
   "source": [
    "%%R\n",
    "sing_resp = filter(Mult_TS_tax, TS_num == 1, adjPvalues < 0.01)\n",
    "print(length((sing_resp$OTU)))\n",
    "mult_resp = filter(Mult_TS_tax, TS_num > 1)\n",
    "print(length(unique(mult_resp$OTU)))\n"
   ]
  },
  {
   "cell_type": "code",
   "execution_count": null,
   "metadata": {
    "collapsed": false
   },
   "outputs": [],
   "source": [
    "%%R\n",
    "sing_resp  %>% group_by(type) %>% filter(Area > 0) %>% summarize(nPT = n()) %>% print()\n",
    "sing_resp  %>% group_by(type) %>% filter(Area < 0) %>% summarize(nNT = n()) %>% print"
   ]
  },
  {
   "cell_type": "code",
   "execution_count": null,
   "metadata": {
    "collapsed": false
   },
   "outputs": [],
   "source": [
    "%%R\n",
    "Mult_TS_sum_type = Mult_TS_tax %>% group_by(type, Rank2, ISIE, Enrich_Status) %>%\n",
    "        summarise(counts = n(), max_diff = max(diff), min_diff = min(diff))"
   ]
  },
  {
   "cell_type": "code",
   "execution_count": null,
   "metadata": {
    "collapsed": true
   },
   "outputs": [],
   "source": []
  },
  {
   "cell_type": "code",
   "execution_count": null,
   "metadata": {
    "collapsed": true
   },
   "outputs": [],
   "source": [
    "%%R\n",
    "cols = c(\"#417E36\",\n",
    "\"#D567D2\",\n",
    "\"#58C537\",\n",
    "\"#7A79DB\",\n",
    "\"#93BB3B\",\n",
    "\"#D84891\",\n",
    "\"#50D37A\",\n",
    "\"#DE4443\",\n",
    "\"#3DC1A0\",\n",
    "\"#D95821\",\n",
    "\"#4DB7D0\",\n",
    "\"#E59833\",\n",
    "\"#729DDC\",\n",
    "\"#C5B432\",\n",
    "\"#905D9E\",\n",
    "\"#62B264\",\n",
    "\"#D64A64\",\n",
    "\"#287C76\",\n",
    "\"#BB6241\",\n",
    "\"#56729D\",\n",
    "\"#9C7124\",\n",
    "\"#CD93D2\",\n",
    "\"#757F26\",\n",
    "\"#B95F7D\")"
   ]
  },
  {
   "cell_type": "code",
   "execution_count": null,
   "metadata": {
    "collapsed": false
   },
   "outputs": [],
   "source": [
    "%%R\n",
    "filter(Mult_TS_sum_type, type == 'Short term')"
   ]
  },
  {
   "cell_type": "code",
   "execution_count": null,
   "metadata": {
    "collapsed": false
   },
   "outputs": [],
   "source": [
    "%%R -w 1000 -h 500\n",
    "\n",
    "\n",
    "Mult_TS_sum_type$type = factor(Mult_TS_sum_type$type, levels = Mult_TS_sum_type$type[order(-Mult_TS_sum_type$counts)])\n",
    "\n",
    "p = ggplot(data = Mult_TS_sum_type, aes(type, counts, fill = Rank2)) + geom_bar(stat='identity') +\n",
    "        theme(text = element_text(size=18), axis.text.x = element_text(angle=0, vjust=1))  + \n",
    "        xlab('Temporal Enrichment Pattern') + ylab('Number of OTUs') + scale_fill_manual(values = cols, name = \"Phylum\") \n",
    "\n",
    "p"
   ]
  },
  {
   "cell_type": "code",
   "execution_count": null,
   "metadata": {
    "collapsed": false
   },
   "outputs": [],
   "source": [
    "%%R -w 1000 -h 500\n",
    "\n",
    "\n",
    "Mult_TS_sum_type$type = factor(Mult_TS_sum_type$type, levels = Mult_TS_sum_type$type[order(-Mult_TS_sum_type$counts)])\n",
    "Mult_TS_sum_type$Enrich_Status = factor(Mult_TS_sum_type$Enrich_Status, levels = Mult_TS_sum_type$Enrich_Status[order(-Mult_TS_sum_type$type)])\n",
    "\n",
    "\n",
    "p = ggplot(data = Mult_TS_sum_type, aes(type, counts, fill = Enrich_Status)) + geom_bar(stat='identity') +\n",
    "        theme(text = element_text(size=18), axis.text.x = element_text(angle=0, vjust=1))  + \n",
    "        xlab('Temporal Enrichment Pattern') + ylab('Number of OTUs') + scale_fill_manual(values = cols, name = \"Enrichment\") \n",
    "\n",
    "p"
   ]
  },
  {
   "cell_type": "code",
   "execution_count": null,
   "metadata": {
    "collapsed": false
   },
   "outputs": [],
   "source": [
    "%%R -w 1000 -h 500\n",
    "\n",
    "Longterm = filter(Mult_TS_sum_type, type == 'Long Term')%>% group_by(ISIE, type, Rank2) %>%\n",
    "    summarise(counts = sum(counts)) \n",
    "Longterm$ISIE = factor(Longterm$ISIE, levels = Longterm$ISIE[order(-Longterm$counts)])\n",
    "\n",
    "p = ggplot(data = Longterm, aes(ISIE, counts, fill = Rank2)) + geom_bar(stat='identity') +\n",
    "        theme(text = element_text(size=16), axis.text.x = element_text(angle=90, vjust=1)) + facet_wrap(~type) +\n",
    "        scale_fill_manual(values = cols, name = \"Phylum\") + xlab(NULL)\n",
    "\n",
    "p"
   ]
  },
  {
   "cell_type": "code",
   "execution_count": null,
   "metadata": {
    "collapsed": false
   },
   "outputs": [],
   "source": [
    "%%R -w 1000 -h 500\n",
    "\n",
    "Mult_TS_sum_type$ISIE = factor(Mult_TS_sum_type$ISIE, levels = Mult_TS_sum_type$ISIE[order(-Mult_TS_sum_type$counts)])\n",
    "\n",
    "Longterm = filter(Mult_TS_sum_type, type == 'Extended')  %>% group_by(ISIE, type, Rank2) %>%\n",
    "    summarise(counts = sum(counts)) \n",
    "Longterm$ISIE = factor(Longterm$ISIE, levels = Longterm$ISIE[order(-Longterm$counts)])\n",
    "\n",
    "p = ggplot(data = Longterm, aes(ISIE, counts, fill = Rank2)) + geom_bar(stat='identity') +\n",
    "        theme(text = element_text(size=16), axis.text.x = element_text(angle=90, vjust=1)) + facet_wrap(~type)+\n",
    "        scale_fill_manual(values = cols, name = \"Phylum\") + xlab(NULL)\n",
    "\n",
    "\n",
    "p"
   ]
  },
  {
   "cell_type": "code",
   "execution_count": null,
   "metadata": {
    "collapsed": false
   },
   "outputs": [],
   "source": [
    "%%R -w 1000 -h 500\n",
    "\n",
    "\n",
    "Longterm = filter(Mult_TS_sum_type, type == 'Interannual') %>% group_by(ISIE, type, Rank2) %>%\n",
    "    summarise(counts = sum(counts)) \n",
    "Longterm$ISIE = factor(Longterm$ISIE, levels = Longterm$ISIE[order(-Longterm$counts)])\n",
    "\n",
    "p = ggplot(data = Longterm, aes(ISIE, counts, fill = Rank2)) + geom_bar(stat='identity') +\n",
    "        theme(text = element_text(size=16), axis.text.x = element_text(angle=90, vjust=1)) + facet_wrap(~type)+\n",
    "        scale_fill_manual(values = cols, name = \"Phylum\") + xlab(NULL)\n",
    "\n",
    "\n",
    "p"
   ]
  },
  {
   "cell_type": "code",
   "execution_count": null,
   "metadata": {
    "collapsed": false
   },
   "outputs": [],
   "source": [
    "%%R -w 1000 -h 500\n",
    "\n",
    "\n",
    "Longterm = filter(Mult_TS_sum_type, type == 'Seasonal') %>% group_by(ISIE, type, Rank2) %>%\n",
    "    summarise(counts = sum(counts)) \n",
    "Longterm$ISIE = factor(Longterm$ISIE, levels = Longterm$ISIE[order(-Longterm$counts)])\n",
    "\n",
    "p = ggplot(data = Longterm, aes(ISIE, counts, fill = Rank2)) + geom_bar(stat='identity') +\n",
    "        theme(text = element_text(size=16), axis.text.x = element_text(angle=90, vjust=1)) + facet_wrap(~type)+\n",
    "        scale_fill_manual(values = cols, name = \"Phylum\") + xlab(NULL)\n",
    "\n",
    "\n",
    "p"
   ]
  },
  {
   "cell_type": "code",
   "execution_count": null,
   "metadata": {
    "collapsed": false
   },
   "outputs": [],
   "source": [
    "%%R -w 400 -h 400\n",
    "\n",
    "Mult_TS_sum_type$ISIE = factor(Mult_TS_sum_type$ISIE, levels = Mult_TS_sum_type$ISIE[order(-Mult_TS_sum_type$counts)])\n",
    "\n",
    "Longterm = filter(Mult_TS_sum_type, type == 'Short term')%>% group_by(ISIE, type, Rank2) %>%\n",
    "    summarise(counts = sum(counts)) \n",
    "Longterm$ISIE = factor(Longterm$ISIE, levels = Longterm$ISIE[order(-Longterm$counts)])\n",
    "\n",
    "p = ggplot(data = Longterm, aes(ISIE, counts, fill = Rank2)) + geom_bar(stat='identity') +\n",
    "        theme(text = element_text(size=16), axis.text.x = element_text(angle=0, vjust=1)) + facet_wrap(~type)+\n",
    "        scale_fill_manual(values = cols, name = \"Phylum\") + xlab(NULL)\n",
    "\n",
    "\n",
    "p"
   ]
  },
  {
   "cell_type": "code",
   "execution_count": null,
   "metadata": {
    "collapsed": false
   },
   "outputs": [],
   "source": [
    "%%R\n",
    "filter(Mult_TS, ISIE == 'July2014-August2015', type == \"Short term\") %>% as.data.frame %>% head()"
   ]
  },
  {
   "cell_type": "code",
   "execution_count": null,
   "metadata": {
    "collapsed": false
   },
   "outputs": [],
   "source": [
    "%%R -w 1000 -h 500\n",
    "Mult_TS_sum$ISIE = factor(Mult_TS_sum$ISIE, levels = Mult_TS_sum$ISIE[order(-Mult_TS_sum$counts)])\n",
    "p = ggplot(data = Mult_TS_sum, aes(ISIE, counts)) + geom_bar(stat='identity') +\n",
    "        theme(text = element_text(size=14), axis.text.x = element_text(angle=90, vjust=1)) \n",
    "\n",
    "p"
   ]
  },
  {
   "cell_type": "code",
   "execution_count": null,
   "metadata": {
    "collapsed": false
   },
   "outputs": [],
   "source": [
    "%%R -w 1000 -h 500\n",
    "Mult_TS_rest = filter(Mult_TS_sum, ISIE != 'July2014-Nov2015')\n",
    "\n",
    "p = ggplot(data = Mult_TS_rest, aes(ISIE, counts)) + geom_bar(stat='identity') +\n",
    "        theme(text = element_text(size=14), axis.text.x = element_text(angle=90, vjust=1)) \n",
    "\n",
    "p"
   ]
  },
  {
   "cell_type": "code",
   "execution_count": null,
   "metadata": {
    "collapsed": false
   },
   "outputs": [],
   "source": [
    "%%R\n",
    "sessionInfo()"
   ]
  }
 ],
 "metadata": {
  "kernelspec": {
   "display_name": "Python 2",
   "language": "python",
   "name": "python2"
  },
  "language_info": {
   "codemirror_mode": {
    "name": "ipython",
    "version": 2
   },
   "file_extension": ".py",
   "mimetype": "text/x-python",
   "name": "python",
   "nbconvert_exporter": "python",
   "pygments_lexer": "ipython2",
   "version": "2.7.11"
  }
 },
 "nbformat": 4,
 "nbformat_minor": 0
}
