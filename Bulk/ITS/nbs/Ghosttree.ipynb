{
 "cells": [
  {
   "cell_type": "code",
   "execution_count": 1,
   "metadata": {
    "collapsed": false
   },
   "outputs": [],
   "source": [
    "%matplotlib inline\n",
    "%load_ext rpy2.ipython"
   ]
  },
  {
   "cell_type": "code",
   "execution_count": 2,
   "metadata": {
    "collapsed": true
   },
   "outputs": [],
   "source": [
    "from skbio import TreeNode\n",
    "import numpy as np\n",
    "import matplotlib as mp\n",
    "import matplotlib.pyplot as plt\n",
    "from sklearn.manifold import TSNE\n",
    "from math import log\n",
    "from numpy import array\n",
    "import sys\n",
    "import re"
   ]
  },
  {
   "cell_type": "code",
   "execution_count": 3,
   "metadata": {
    "collapsed": false
   },
   "outputs": [
    {
     "name": "stderr",
     "output_type": "stream",
     "text": [
      "/opt/anaconda/lib/python2.7/site-packages/rpy2/robjects/functions.py:106: UserWarning: data.table 1.9.6  For help type ?data.table or https://github.com/Rdatatable/data.table/wiki\n",
      "\n",
      "  res = super(Function, self).__call__(*new_args, **new_kwargs)\n",
      "/opt/anaconda/lib/python2.7/site-packages/rpy2/robjects/functions.py:106: UserWarning: The fastest way to learn (by data.table authors): https://www.datacamp.com/courses/data-analysis-the-data-table-way\n",
      "\n",
      "  res = super(Function, self).__call__(*new_args, **new_kwargs)\n",
      "/opt/anaconda/lib/python2.7/site-packages/rpy2/robjects/functions.py:106: UserWarning: Loading required package: permute\n",
      "\n",
      "  res = super(Function, self).__call__(*new_args, **new_kwargs)\n",
      "/opt/anaconda/lib/python2.7/site-packages/rpy2/robjects/functions.py:106: UserWarning: Loading required package: lattice\n",
      "\n",
      "  res = super(Function, self).__call__(*new_args, **new_kwargs)\n",
      "/opt/anaconda/lib/python2.7/site-packages/rpy2/robjects/functions.py:106: UserWarning: This is vegan 2.3-5\n",
      "\n",
      "  res = super(Function, self).__call__(*new_args, **new_kwargs)\n",
      "/opt/anaconda/lib/python2.7/site-packages/rpy2/robjects/functions.py:106: UserWarning: \n",
      "Attaching package: ‘dplyr’\n",
      "\n",
      "\n",
      "  res = super(Function, self).__call__(*new_args, **new_kwargs)\n",
      "/opt/anaconda/lib/python2.7/site-packages/rpy2/robjects/functions.py:106: UserWarning: The following objects are masked from ‘package:plyr’:\n",
      "\n",
      "    arrange, count, desc, failwith, id, mutate, rename, summarise,\n",
      "    summarize\n",
      "\n",
      "\n",
      "  res = super(Function, self).__call__(*new_args, **new_kwargs)\n",
      "/opt/anaconda/lib/python2.7/site-packages/rpy2/robjects/functions.py:106: UserWarning: The following objects are masked from ‘package:data.table’:\n",
      "\n",
      "    between, last\n",
      "\n",
      "\n",
      "  res = super(Function, self).__call__(*new_args, **new_kwargs)\n",
      "/opt/anaconda/lib/python2.7/site-packages/rpy2/robjects/functions.py:106: UserWarning: The following object is masked from ‘package:gridExtra’:\n",
      "\n",
      "    combine\n",
      "\n",
      "\n",
      "  res = super(Function, self).__call__(*new_args, **new_kwargs)\n",
      "/opt/anaconda/lib/python2.7/site-packages/rpy2/robjects/functions.py:106: UserWarning: The following objects are masked from ‘package:stats’:\n",
      "\n",
      "    filter, lag\n",
      "\n",
      "\n",
      "  res = super(Function, self).__call__(*new_args, **new_kwargs)\n",
      "/opt/anaconda/lib/python2.7/site-packages/rpy2/robjects/functions.py:106: UserWarning: The following objects are masked from ‘package:base’:\n",
      "\n",
      "    intersect, setdiff, setequal, union\n",
      "\n",
      "\n",
      "  res = super(Function, self).__call__(*new_args, **new_kwargs)\n"
     ]
    }
   ],
   "source": [
    "%%R\n",
    "library(ggplot2)\n",
    "library(phyloseq)\n",
    "library(gridExtra)\n",
    "library(data.table)\n",
    "library(vegan)\n",
    "library(plyr);library(dplyr)\n",
    "library(tidyr)\n",
    "library(ape)"
   ]
  },
  {
   "cell_type": "code",
   "execution_count": 4,
   "metadata": {
    "collapsed": false
   },
   "outputs": [],
   "source": [
    "#ghosttree = TreeNode.read(\"/var/seq_data/UNITE/trees/ghost_tree.nwk\")  \n",
    "ghosttree = TreeNode.read(\"data/ghost_tree_01_31_16_s_dynamic100.nwk\")\n",
    "output = open(\"ghost_tree_tips.txt\", \"w\")\n",
    "\n",
    "for node in ghosttree.tips():\n",
    "    output.write(str(node.name)+\"\\n\")\n",
    "\n",
    "output.close()"
   ]
  },
  {
   "cell_type": "code",
   "execution_count": null,
   "metadata": {
    "collapsed": false
   },
   "outputs": [],
   "source": [
    "! head ghost_tree_tips.txt"
   ]
  },
  {
   "cell_type": "code",
   "execution_count": null,
   "metadata": {
    "collapsed": false
   },
   "outputs": [],
   "source": [
    "! grep -c \"JX398982\" ghost_tree_tips.txt"
   ]
  },
  {
   "cell_type": "code",
   "execution_count": null,
   "metadata": {
    "collapsed": true
   },
   "outputs": [],
   "source": [
    "! python python_script/parse_nonstandard_chars.py /var/seq_data/UNITE/31_01_16_s/sh_refs_qiime_ver7_dynamic_s_31.01.2016.fasta> /var/seq_data/UNITE/31_01_16_s/qiime_dynamic_nononstandchar.fasta"
   ]
  },
  {
   "cell_type": "code",
   "execution_count": null,
   "metadata": {
    "collapsed": false
   },
   "outputs": [],
   "source": [
    "! head /var/seq_data/UNITE/31_01_16_s/qiime_dynamic_nononstandchar.fasta"
   ]
  },
  {
   "cell_type": "code",
   "execution_count": null,
   "metadata": {
    "collapsed": false
   },
   "outputs": [],
   "source": [
    "! grep -c '>' /var/seq_data/UNITE/31_01_16_s/qiime_dynamic_nononstandchar.fasta"
   ]
  },
  {
   "cell_type": "code",
   "execution_count": null,
   "metadata": {
    "collapsed": false
   },
   "outputs": [],
   "source": [
    "! cat ghost_tree_tips.txt | sed -e 's/.*FU\\(.*\\)r.*/\\1/' > acc.txt"
   ]
  },
  {
   "cell_type": "code",
   "execution_count": null,
   "metadata": {
    "collapsed": false
   },
   "outputs": [],
   "source": [
    "! head acc.txt"
   ]
  },
  {
   "cell_type": "code",
   "execution_count": null,
   "metadata": {
    "collapsed": false
   },
   "outputs": [],
   "source": [
    "! wc -l acc.txt"
   ]
  },
  {
   "cell_type": "code",
   "execution_count": null,
   "metadata": {
    "collapsed": false
   },
   "outputs": [],
   "source": [
    "! grep -c '>' /var/seq_data/UNITE/31_01_16_s/qiime_dynamic_nononstandchar.fasta"
   ]
  },
  {
   "cell_type": "code",
   "execution_count": null,
   "metadata": {
    "collapsed": false
   },
   "outputs": [],
   "source": [
    "f2 = open('acc.txt','r')\n",
    "f1 = open('/var/seq_data/UNITE/31_01_16_s/qiime_dynamic_nononstandchar.fasta','r')\n",
    "f3 = open('UNITE_fasta_parsed.fasta','w')\n",
    "\n",
    "\n",
    "\n",
    "AI_DICT = {}\n",
    "#for line in f2:\n",
    " #    f4 = line.strip()\n",
    "        \n",
    "for line in f2:\n",
    "    line = line.strip()\n",
    "    AI_DICT[line] = 1\n",
    "\n",
    "skip = 0\n",
    "for line in f1:\n",
    "    if line.startswith('>'):\n",
    "        #print line\n",
    "        _splitline = line.split('_')\n",
    "        accessorIDWithArrow = _splitline[1]\n",
    "        accessorID = accessorIDWithArrow\n",
    "        #print accessorID\n",
    "        #break\n",
    "        if accessorID in AI_DICT:\n",
    "            f3.write(line)\n",
    "            skip = 0\n",
    "        else:\n",
    "            skip = 1\n",
    "    else:\n",
    "        if not skip:\n",
    "            pass\n",
    "            f3.write(line)\n",
    "\n",
    "f1.close()\n",
    "f2.close()\n",
    "f3.close()"
   ]
  },
  {
   "cell_type": "code",
   "execution_count": null,
   "metadata": {
    "collapsed": false
   },
   "outputs": [],
   "source": [
    "! grep -c '>' UNITE_fasta_parsed.fasta"
   ]
  },
  {
   "cell_type": "code",
   "execution_count": null,
   "metadata": {
    "collapsed": false
   },
   "outputs": [],
   "source": [
    "! grep -c 'JX398982' acc.txt"
   ]
  },
  {
   "cell_type": "code",
   "execution_count": null,
   "metadata": {
    "collapsed": false
   },
   "outputs": [],
   "source": [
    "! grep -c 'JX398982' UNITE_fasta_parsed.fasta"
   ]
  },
  {
   "cell_type": "code",
   "execution_count": null,
   "metadata": {
    "collapsed": false
   },
   "outputs": [],
   "source": [
    "! head UNITE_fasta_parsed.fasta"
   ]
  },
  {
   "cell_type": "code",
   "execution_count": null,
   "metadata": {
    "collapsed": true
   },
   "outputs": [],
   "source": [
    "from Bio.Blast.Applications import NcbiblastnCommandline as blast"
   ]
  },
  {
   "cell_type": "code",
   "execution_count": null,
   "metadata": {
    "collapsed": true
   },
   "outputs": [],
   "source": [
    "from cogent import LoadSeqs, DNA"
   ]
  },
  {
   "cell_type": "code",
   "execution_count": null,
   "metadata": {
    "collapsed": false
   },
   "outputs": [],
   "source": [
    "! grep -c '>' /home/chantal/Chazy/data/ComboFastaFiles/ITS/otusn.pick.fasta"
   ]
  },
  {
   "cell_type": "code",
   "execution_count": null,
   "metadata": {
    "collapsed": false
   },
   "outputs": [],
   "source": [
    "! makeblastdb -in UNITE_fasta_parsed.fasta -dbtype nucl -out UNITE_fasta_parsed.db"
   ]
  },
  {
   "cell_type": "code",
   "execution_count": null,
   "metadata": {
    "collapsed": false
   },
   "outputs": [],
   "source": [
    "cline = blast(query = \"/home/chantal/Chazy/data/ComboFastaFiles/ITS/otusn.pick.fasta\",\n",
    "              db = \"/home/chantal/Chazy/Bulk/ITS/UNITE_fasta_parsed.db\",\n",
    "              outfmt = 6,\n",
    "              out = \"/home/chantal/Chazy/Bulk/ITS/otusn_UNITE.m6\",\n",
    "              num_threads = 5)\n",
    "print cline\n",
    "cline()"
   ]
  },
  {
   "cell_type": "code",
   "execution_count": null,
   "metadata": {
    "collapsed": false
   },
   "outputs": [],
   "source": [
    "! head /home/chantal/Chazy/Bulk/ITS/otusn_UNITE.m6"
   ]
  },
  {
   "cell_type": "code",
   "execution_count": 5,
   "metadata": {
    "collapsed": false
   },
   "outputs": [
    {
     "name": "stdout",
     "output_type": "stream",
     "text": [
      "OTU.3\tSH479820.07FU_KJ160145_reps_singleton\t100.00\t182\t0\t0\t1\t182\t8\t189\t6e-93\t  337\n",
      "1197553 otusn_UNITE.m6\n"
     ]
    }
   ],
   "source": [
    "!head -n1 otusn_UNITE.m6\n",
    "!wc -l otusn_UNITE.m6\n",
    "! grep 'OTU.10054' otusn_UNITE.m6"
   ]
  },
  {
   "cell_type": "code",
   "execution_count": 6,
   "metadata": {
    "collapsed": false
   },
   "outputs": [
    {
     "name": "stderr",
     "output_type": "stream",
     "text": [
      "/opt/anaconda/lib/python2.7/site-packages/ipykernel/__main__.py:2: FutureWarning: The pandas.rpy module is deprecated and will be removed in a future version. We refer to external packages like rpy2. \n",
      "See here for a guide on how to port your code to rpy2: http://pandas.pydata.org/pandas-docs/stable/r_interface.html\n",
      "  from ipykernel import kernelapp as app\n"
     ]
    }
   ],
   "source": [
    "from IPython.display import Image\n",
    "import pandas.rpy.common as com"
   ]
  },
  {
   "cell_type": "code",
   "execution_count": 7,
   "metadata": {
    "collapsed": true
   },
   "outputs": [],
   "source": [
    "%%R\n",
    "library(data.table)\n",
    "library(dplyr)"
   ]
  },
  {
   "cell_type": "code",
   "execution_count": 8,
   "metadata": {
    "collapsed": false
   },
   "outputs": [
    {
     "data": {
      "text/plain": [
       "\r",
       "Read 61.0% of 1197553 rows\r",
       "Read 1197553 rows and 12 (of 12) columns from 0.091 GB file in 00:00:03\n"
      ]
     },
     "metadata": {},
     "output_type": "display_data"
    }
   ],
   "source": [
    "%%R\n",
    "blastout_dt = fread(\"otusn_UNITE.m6\")\n",
    "blastout_df = tbl_df(blastout_dt)\n",
    "colnames(blastout_df) = c(\"OTU\",\n",
    "                        \"acc\",\n",
    "                        \"pid\",\n",
    "                        \"aln.length\",\n",
    "                        \"mismatches\",\n",
    "                        \"gapOpenCount\",\n",
    "                        \"qstart\",\n",
    "                        \"qend\",\n",
    "                        \"sstart\",\n",
    "                        \"send\",\n",
    "                        \"e.value\",\n",
    "                        \"bit.score\")\n"
   ]
  },
  {
   "cell_type": "code",
   "execution_count": 9,
   "metadata": {
    "collapsed": false
   },
   "outputs": [
    {
     "data": {
      "text/plain": [
       "    OTU                                   acc    pid aln.length mismatches\n",
       "1 OTU.3 SH479820.07FU_KJ160145_reps_singleton 100.00        182          0\n",
       "2 OTU.3           SH443358.07FU_AY213653_refs 100.00        179          0\n",
       "3 OTU.3 SH026903.07FU_AY354387_reps_singleton 100.00        179          0\n",
       "4 OTU.3 SH458505.07FU_AY264267_reps_singleton  99.45        182          1\n",
       "5 OTU.3 SH026901.07FU_JQ723341_reps_singleton  98.91        184          0\n",
       "6 OTU.3 SH019632.07FU_JN400709_reps_singleton  98.91        184          0\n",
       "  gapOpenCount qstart qend sstart send e.value bit.score\n",
       "1            0      1  182      8  189   6e-93       337\n",
       "2            0      4  182      1  179   3e-91       331\n",
       "3            0      4  182      1  179   3e-91       331\n",
       "4            0      1  182      9  190   3e-91       331\n",
       "5            2      1  182      1  184   3e-90       327\n",
       "6            2      1  182     18  201   3e-90       327\n"
      ]
     },
     "metadata": {},
     "output_type": "display_data"
    }
   ],
   "source": [
    "%%R\n",
    "head(blastout_df) %>% as.data.frame"
   ]
  },
  {
   "cell_type": "code",
   "execution_count": 10,
   "metadata": {
    "collapsed": false
   },
   "outputs": [],
   "source": [
    "%%R\n",
    "BS = blastout_df %>% group_by(OTU) %>% slice(which.min((bit.score)))"
   ]
  },
  {
   "cell_type": "code",
   "execution_count": 11,
   "metadata": {
    "collapsed": false
   },
   "outputs": [
    {
     "data": {
      "text/plain": [
       "[1] 2686\n",
       "[1] 2686\n"
      ]
     },
     "metadata": {},
     "output_type": "display_data"
    }
   ],
   "source": [
    "%%R\n",
    "print(length(BS$OTU))\n",
    "print(length(unique(BS$OTU)))"
   ]
  },
  {
   "cell_type": "code",
   "execution_count": 12,
   "metadata": {
    "collapsed": false
   },
   "outputs": [
    {
     "data": {
      "text/plain": [
       "        OTU                                   acc    pid aln.length mismatches\n",
       "1   OTU.100 SH110535.07FU_AB481260_refs_singleton  82.11         95         11\n",
       "2  OTU.1001           SH237405.07FU_JQ772020_refs  89.29         56          3\n",
       "3 OTU.10077           SH185199.07FU_HQ630357_reps  92.31         39          0\n",
       "4 OTU.10092           SH374767.07FU_AY236935_refs  89.66         58          3\n",
       "5 OTU.10093 SH008011.07FU_FJ211865_reps_singleton  94.44         36          1\n",
       "6 OTU.10096 SH134759.07FU_HQ179670_refs_singleton 100.00         37          0\n",
       "  gapOpenCount qstart qend sstart send e.value bit.score\n",
       "1            6     70  162    105  195   1e-14      76.8\n",
       "2            3    174  226    165  220   1e-11      67.6\n",
       "3            1     22   57      1   39   2e-07      52.8\n",
       "4            3    120  175    167  223   6e-13      71.3\n",
       "5            1    121  155    178  213   5e-08      54.7\n",
       "6            0    232  268    225  261   4e-12      69.4\n"
      ]
     },
     "metadata": {},
     "output_type": "display_data"
    }
   ],
   "source": [
    "%%R\n",
    "head(BS) %>% as.data.frame"
   ]
  },
  {
   "cell_type": "code",
   "execution_count": 13,
   "metadata": {
    "collapsed": false
   },
   "outputs": [
    {
     "data": {
      "text/plain": [
       "     OTU                acc                 pid           aln.length    \n",
       " Length:2686        Length:2686        Min.   : 73.60   Min.   : 28.00  \n",
       " Class :character   Class :character   1st Qu.: 90.91   1st Qu.: 34.00  \n",
       " Mode  :character   Mode  :character   Median : 96.88   Median : 41.00  \n",
       "                                       Mean   : 94.43   Mean   : 50.19  \n",
       "                                       3rd Qu.:100.00   3rd Qu.: 55.75  \n",
       "                                       Max.   :100.00   Max.   :292.00  \n",
       "   mismatches      gapOpenCount        qstart           qend      \n",
       " Min.   : 0.000   Min.   : 0.000   Min.   :  1.0   Min.   : 28.0  \n",
       " 1st Qu.: 0.000   1st Qu.: 0.000   1st Qu.:122.0   1st Qu.:174.0  \n",
       " Median : 1.000   Median : 0.000   Median :156.0   Median :199.0  \n",
       " Mean   : 2.846   Mean   : 1.222   Mean   :145.2   Mean   :193.7  \n",
       " 3rd Qu.: 3.000   3rd Qu.: 2.000   3rd Qu.:184.0   3rd Qu.:229.0  \n",
       " Max.   :58.000   Max.   :21.000   Max.   :313.0   Max.   :347.0  \n",
       "     sstart            send           e.value            bit.score     \n",
       " Min.   :   1.0   Min.   :  28.0   Min.   :0.000e+00   Min.   : 45.40  \n",
       " 1st Qu.: 135.0   1st Qu.: 181.0   1st Qu.:0.000e+00   1st Qu.: 58.40  \n",
       " Median : 162.0   Median : 211.0   Median :1.000e-11   Median : 67.60  \n",
       " Mean   : 164.7   Mean   : 212.9   Mean   :1.181e-07   Mean   : 68.64  \n",
       " 3rd Qu.: 204.0   3rd Qu.: 248.0   3rd Qu.:4.000e-09   3rd Qu.: 71.30  \n",
       " Max.   :1012.0   Max.   :1054.0   Max.   :4.000e-05   Max.   :350.00  \n"
      ]
     },
     "metadata": {},
     "output_type": "display_data"
    }
   ],
   "source": [
    "%%R \n",
    "summary(BS)"
   ]
  },
  {
   "cell_type": "code",
   "execution_count": 14,
   "metadata": {
    "collapsed": false
   },
   "outputs": [
    {
     "data": {
      "text/plain": [
       "        OTU                                   acc\n",
       "1   OTU.100 SH110535.07FU_AB481260_refs_singleton\n",
       "2  OTU.1001           SH237405.07FU_JQ772020_refs\n",
       "3 OTU.10077           SH185199.07FU_HQ630357_reps\n",
       "4 OTU.10092           SH374767.07FU_AY236935_refs\n",
       "5 OTU.10093 SH008011.07FU_FJ211865_reps_singleton\n",
       "6 OTU.10096 SH134759.07FU_HQ179670_refs_singleton\n"
      ]
     },
     "metadata": {},
     "output_type": "display_data"
    }
   ],
   "source": [
    "%%R\n",
    "OTUs_Acc = BS %>% ungroup() %>% select(OTU, acc)\n",
    "head(OTUs_Acc) %>% as.data.frame\n",
    "  \n"
   ]
  },
  {
   "cell_type": "code",
   "execution_count": 15,
   "metadata": {
    "collapsed": false
   },
   "outputs": [
    {
     "data": {
      "text/plain": [
       "[1] 2686\n",
       "[1] 729\n"
      ]
     },
     "metadata": {},
     "output_type": "display_data"
    }
   ],
   "source": [
    "%%R\n",
    "print(length(OTUs_Acc$OTU))\n",
    "print(length(unique(OTUs_Acc$acc)))"
   ]
  },
  {
   "cell_type": "code",
   "execution_count": 16,
   "metadata": {
    "collapsed": false
   },
   "outputs": [
    {
     "name": "stdout",
     "output_type": "stream",
     "text": [
      "2882\r\n"
     ]
    }
   ],
   "source": [
    "! grep -c '>' /home/chantal/Chazy/data/ComboFastaFiles/ITS/otusn.pick.fasta"
   ]
  },
  {
   "cell_type": "code",
   "execution_count": 17,
   "metadata": {
    "collapsed": false
   },
   "outputs": [],
   "source": [
    "%%R\n",
    "newick<-function(text){\n",
    "\ttext<-unlist(strsplit(text, NULL))\n",
    "\ttip.label<-vector(mode=\"character\")\n",
    "\tnode.label<-vector(mode=\"character\") \n",
    "\tedge<-matrix(c(1,NA),1,2) \n",
    "\tedge.length<-vector()\n",
    "\tcurrnode<-1\n",
    "\tNnode<-currnode\n",
    "\ti<-j<-k<-1\n",
    "\twhile(text[i]!=\";\"){\n",
    "\t\tif(text[i]==\"(\"){\n",
    "\t\t\tif(j>nrow(edge)) edge<-rbind(edge,c(NA,NA))\n",
    "\t\t\tedge[j,1]<-currnode\n",
    "\t\t\ti<-i+1\n",
    "\t\t\t# is the next element a label?\n",
    "\t\t\tif(is.na(match(text[i],c(\"(\",\")\",\",\",\":\",\";\")))){\n",
    "\t\t\t\ttemp<-getLabel(text,i)\n",
    "\t\t\t\ttip.label[k]<-temp$label\n",
    "\t\t\t\ti<-temp$end\n",
    "\t\t\t\tedge[j,2]<--k\n",
    "\t\t\t\tk<-k+1\n",
    "\t\t\t\t# is there a branch length?\n",
    "\t\t\t\tif(text[i]==\":\"){\n",
    "\t\t\t\t\ttemp<-getEdgeLength(text,i)\n",
    "\t\t\t\t\tedge.length[j]<-temp$edge.length\n",
    "\t\t\t\t\ti<-temp$end\n",
    "\t\t\t\t}\t\n",
    "\t\t\t} else if(text[i]==\"(\"){\n",
    "\t\t\t\tNnode<-Nnode+1 # creating a new internal node\n",
    "\t\t\t\tcurrnode<-Nnode\n",
    "\t\t\t\tedge[j,2]<-currnode # move to new internal node\n",
    "\t\t\t}\n",
    "\t\t\tj<-j+1\n",
    "\t\t} else if(text[i]==\")\"){\n",
    "\t\t\ti<-i+1\n",
    "\t\t\t# is the next element a label?\n",
    "\t\t\tif(is.na(match(text[i],c(\"(\",\")\",\",\",\":\",\";\")))){\n",
    "\t\t\t\ttemp<-getLabel(text,i)\n",
    "\t\t\t\tnode.label[currnode]<-temp$label\n",
    "\t\t\t\ti<-temp$end\n",
    "\t\t\t}\n",
    "\t\t\t# is there a branch length?\n",
    "\t\t\tif(text[i]==\":\"){\n",
    "\t\t\t\ttemp<-getEdgeLength(text,i)\n",
    "\t\t\t\tif(currnode>1){ \n",
    "\t\t\t\t\tii<-match(currnode,edge[,2])\n",
    "\t\t\t\t\tedge.length[ii]<-temp$edge.length\n",
    "\t\t\t\t} else root.edge<-temp$edge.length\n",
    "\t\t\t\ti<-temp$end\n",
    "\t\t\t}\t\n",
    "\t\t\tif(currnode>1) currnode<-edge[match(currnode,edge[,2]),1] # move down the tree\n",
    "\t\t} else if(text[i]==\",\"){\n",
    "\t\t\tif(j>nrow(edge)) edge<-rbind(edge,c(NA,NA))\n",
    "\t\t\tedge[j,1]<-currnode\n",
    "\t\t\ti<-i+1\n",
    "\t\t\t# is the next element a label?\n",
    "\t\t\tif(is.na(match(text[i],c(\"(\",\")\",\",\",\":\",\";\")))){\n",
    "\t\t\t\ttemp<-getLabel(text,i)\n",
    "\t\t\t\ttip.label[k]<-temp$label\n",
    "\t\t\t\ti<-temp$end\n",
    "\t\t\t\tedge[j,2]<--k\n",
    "\t\t\t\tk<-k+1\n",
    "\t\t\t\t# is there a branch length?\n",
    "\t\t\t\tif(text[i]==\":\"){\n",
    "\t\t\t\t\ttemp<-getEdgeLength(text,i)\n",
    "\t\t\t\t\tedge.length[j]<-temp$edge.length\n",
    "\t\t\t\t\ti<-temp$end\n",
    "\t\t\t\t}\n",
    "\t\t\t} else if(text[i]==\"(\"){\n",
    "\t\t\t\tNnode<-Nnode+1 # creating a new internal node\n",
    "\t\t\t\tcurrnode<-Nnode\n",
    "\t\t\t\tedge[j,2]<-currnode # move to internal node\n",
    "\t\t\t}\n",
    "\t\t\tj<-j+1\n",
    "\t\t}\n",
    "\t}\n",
    "\tNtip<-k-1\n",
    "\tedge[edge>0]<-edge[edge>0]+Ntip\n",
    "\tedge[edge<0]<--edge[edge<0]\n",
    "\tedge.length[is.na(edge.length)]<-0\n",
    "\tnode.label[is.na(node.label)]<-\"\"\n",
    "\tif(length(node.label)==0) node.label<-NULL\n",
    "\t# assemble into \"phylo\" object\n",
    "\ttree<-list(edge=edge,Nnode=as.integer(Nnode),tip.label=tip.label,edge.length=edge.length,node.label=node.label)\n",
    "\tclass(tree)<-\"phylo\"\n",
    "\treturn(tree)\n",
    "}"
   ]
  },
  {
   "cell_type": "code",
   "execution_count": 18,
   "metadata": {
    "collapsed": false
   },
   "outputs": [],
   "source": [
    "%%R\n",
    "# function gets label\n",
    "# written by Liam J. Revell 2011-2013\n",
    "getLabel<-function(text,start,stop.char=c(\",\",\":\",\")\")){\n",
    "\ti<-0\n",
    "\tlabel<-vector()\n",
    "\twhile(is.na(match(text[i+start],stop.char))){\n",
    "\t\tlabel[i+1]<-text[i+start]\n",
    "\t\ti<-i+1\n",
    "\t}\n",
    "\treturn(list(label=paste(label,collapse=\"\"),end=i+start))\n",
    "}\n",
    "\n",
    "# function gets branch length\n",
    "# written by Liam J. Revell 2011-2013\n",
    "getEdgeLength<-function(text,start){\n",
    "\ti<-start+1; m<-1\n",
    "\ttemp<-vector()\n",
    "\twhile(is.na(match(text[i],c(\",\",\")\",\";\")))){\n",
    "\t\ttemp[m]<-text[i]\n",
    "\t\ti<-i+1\n",
    "\t\tm<-m+1\n",
    "\t}\n",
    "\treturn(list(edge.length=as.numeric(paste(temp,collapse=\"\")),end=i))\n",
    "}"
   ]
  },
  {
   "cell_type": "code",
   "execution_count": 19,
   "metadata": {
    "collapsed": false
   },
   "outputs": [
    {
     "name": "stderr",
     "output_type": "stream",
     "text": [
      "/opt/anaconda/lib/python2.7/site-packages/rpy2/robjects/functions.py:106: UserWarning: Read 1 item\n",
      "\n",
      "  res = super(Function, self).__call__(*new_args, **new_kwargs)\n"
     ]
    }
   ],
   "source": [
    "%%R\n",
    "read.newick<-function(file=\"\",text){\n",
    "# check to see if reading from file\n",
    "    if(file!=\"\") text<-scan(file,sep=\"\\n\",what=\"character\")\n",
    "    if(length(text)>1){\n",
    "        tree<-lapply(text,newick)\n",
    "        class(tree)<-\"multiPhylo\"\n",
    "    } else tree<-newick(text)\n",
    "    return(tree)\n",
    "}\n",
    "        \n",
    "GT = read.newick('data/ghost_tree_01_31_16_s_dynamic100.nwk')"
   ]
  },
  {
   "cell_type": "code",
   "execution_count": 20,
   "metadata": {
    "collapsed": false
   },
   "outputs": [
    {
     "data": {
      "text/plain": [
       "                         tips\n",
       "1 SH221552.07FU_AB738885_refs\n",
       "2 SH214405.07FU_AB699657_refs\n",
       "3 SH214407.07FU_AB738881_reps\n",
       "4 SH214406.07FU_AB738883_refs\n",
       "5 SH200583.07FU_AB699660_refs\n",
       "6 SH202218.07FU_KC152249_reps\n",
       "[1] 21710\n"
      ]
     },
     "metadata": {},
     "output_type": "display_data"
    }
   ],
   "source": [
    "%%R\n",
    "Tips = as.data.frame(GT$tip.label)\n",
    "colnames(Tips)= 'tips'\n",
    "print(head(Tips))\n",
    "print(length(Tips$tips))"
   ]
  },
  {
   "cell_type": "code",
   "execution_count": 21,
   "metadata": {
    "collapsed": false
   },
   "outputs": [
    {
     "data": {
      "text/plain": [
       "Source: local data frame [6 x 2]\n",
       "\n",
       "        OTU                                   acc\n",
       "      (chr)                                 (chr)\n",
       "1   OTU.100 SH110535.07FU_AB481260_refs_singleton\n",
       "2  OTU.1001           SH237405.07FU_JQ772020_refs\n",
       "3 OTU.10077           SH185199.07FU_HQ630357_reps\n",
       "4 OTU.10092           SH374767.07FU_AY236935_refs\n",
       "5 OTU.10093 SH008011.07FU_FJ211865_reps_singleton\n",
       "6 OTU.10096 SH134759.07FU_HQ179670_refs_singleton\n",
       "[1] 729\n",
       "[1] 2686\n"
      ]
     },
     "metadata": {},
     "output_type": "display_data"
    }
   ],
   "source": [
    "%%R\n",
    "print(head(OTUs_Acc))\n",
    "print(length(unique(OTUs_Acc$acc)))\n",
    "print(length(unique(OTUs_Acc$OTU)))"
   ]
  },
  {
   "cell_type": "code",
   "execution_count": 22,
   "metadata": {
    "collapsed": false
   },
   "outputs": [
    {
     "data": {
      "text/plain": [
       "[1] 21710\n"
      ]
     },
     "metadata": {},
     "output_type": "display_data"
    }
   ],
   "source": [
    "%%R\n",
    "print(length(Tips$tips))"
   ]
  },
  {
   "cell_type": "code",
   "execution_count": 23,
   "metadata": {
    "collapsed": false
   },
   "outputs": [
    {
     "data": {
      "text/plain": [
       "                 GT$tip.label\n",
       "1 SH221552.07FU_AB738885_refs\n",
       "2 SH214405.07FU_AB699657_refs\n",
       "3 SH214407.07FU_AB738881_reps\n",
       "4 SH214406.07FU_AB738883_refs\n",
       "5 SH200583.07FU_AB699660_refs\n",
       "6 SH202218.07FU_KC152249_reps\n"
      ]
     },
     "metadata": {},
     "output_type": "display_data"
    }
   ],
   "source": [
    "%%R\n",
    "test = as.data.frame(GT$tip.label)\n",
    "head(test)"
   ]
  },
  {
   "cell_type": "code",
   "execution_count": 24,
   "metadata": {
    "collapsed": true
   },
   "outputs": [],
   "source": [
    "%%R\n",
    "testmatch = match(OTUs_Acc$acc, GT$tip.label, nomatch = NA_integer_, incomparables = NULL)\n"
   ]
  },
  {
   "cell_type": "code",
   "execution_count": 25,
   "metadata": {
    "collapsed": false
   },
   "outputs": [
    {
     "data": {
      "text/plain": [
       "[1] 14720  8478 18041  8360  5161 21415\n"
      ]
     },
     "metadata": {},
     "output_type": "display_data"
    }
   ],
   "source": [
    "%%R\n",
    "head(testmatch)"
   ]
  },
  {
   "cell_type": "code",
   "execution_count": 26,
   "metadata": {
    "collapsed": false
   },
   "outputs": [
    {
     "data": {
      "text/plain": [
       "Source: local data frame [6 x 3]\n",
       "\n",
       "        OTU                                   acc TreeTipPos\n",
       "      (chr)                                 (chr)      (int)\n",
       "1   OTU.100 SH110535.07FU_AB481260_refs_singleton      14720\n",
       "2  OTU.1001           SH237405.07FU_JQ772020_refs       8478\n",
       "3 OTU.10077           SH185199.07FU_HQ630357_reps      18041\n",
       "4 OTU.10092           SH374767.07FU_AY236935_refs       8360\n",
       "5 OTU.10093 SH008011.07FU_FJ211865_reps_singleton       5161\n",
       "6 OTU.10096 SH134759.07FU_HQ179670_refs_singleton      21415\n"
      ]
     },
     "metadata": {},
     "output_type": "display_data"
    }
   ],
   "source": [
    "%%R\n",
    "OTUs_Acc$TreeTipPos = testmatch\n",
    "head(OTUs_Acc)"
   ]
  },
  {
   "cell_type": "code",
   "execution_count": 27,
   "metadata": {
    "collapsed": false
   },
   "outputs": [
    {
     "data": {
      "text/plain": [
       "[1] 2686\n"
      ]
     },
     "metadata": {},
     "output_type": "display_data"
    }
   ],
   "source": [
    "%%R\n",
    "OTUs_filt = filter(OTUs_Acc, !(is.na(TreeTipPos)))\n",
    "length(OTUs_filt$OTU)"
   ]
  },
  {
   "cell_type": "code",
   "execution_count": 28,
   "metadata": {
    "collapsed": false
   },
   "outputs": [
    {
     "data": {
      "text/plain": [
       "[1] \"SH216793.07FU_FJ357315_refs\"\n"
      ]
     },
     "metadata": {},
     "output_type": "display_data"
    }
   ],
   "source": [
    "%%R\n",
    "test = GT$tip.label\n",
    "test[8095]"
   ]
  },
  {
   "cell_type": "code",
   "execution_count": 29,
   "metadata": {
    "collapsed": false
   },
   "outputs": [],
   "source": [
    "%%R \n",
    "for(line in OTUs_filt){\n",
    "    test[line] = OTUs_filt[line, 3]\n",
    "    }"
   ]
  },
  {
   "cell_type": "code",
   "execution_count": 30,
   "metadata": {
    "collapsed": false
   },
   "outputs": [
    {
     "data": {
      "text/plain": [
       "[1] 729\n"
      ]
     },
     "metadata": {},
     "output_type": "display_data"
    }
   ],
   "source": [
    "%%R\n",
    "length(unique(OTUs_filt$TreeTipPos))"
   ]
  },
  {
   "cell_type": "code",
   "execution_count": 31,
   "metadata": {
    "collapsed": false
   },
   "outputs": [
    {
     "data": {
      "text/plain": [
       "Source: local data frame [296 x 2]\n",
       "\n",
       "   TreeTipPos OTUnum\n",
       "        (int)  (int)\n",
       "1        9440     67\n",
       "2       15197     63\n",
       "3       21684     59\n",
       "4       19914     57\n",
       "5       10182     54\n",
       "6        9417     51\n",
       "7       15611     46\n",
       "8        6578     34\n",
       "9       11186     34\n",
       "10       4932     33\n",
       "..        ...    ...\n"
      ]
     },
     "metadata": {},
     "output_type": "display_data"
    }
   ],
   "source": [
    "%%R\n",
    "OTUs_filt %>% group_by(TreeTipPos) %>% summarise(OTUnum = n()) %>% filter(OTUnum >1) %>% arrange(-OTUnum)"
   ]
  },
  {
   "cell_type": "code",
   "execution_count": 32,
   "metadata": {
    "collapsed": false
   },
   "outputs": [
    {
     "data": {
      "text/plain": [
       "Source: local data frame [67 x 3]\n",
       "\n",
       "         OTU                         acc TreeTipPos\n",
       "       (chr)                       (chr)      (int)\n",
       "1  OTU.11845 SH446992.07FU_KC254054_refs       9440\n",
       "2   OTU.1199 SH446992.07FU_KC254054_refs       9440\n",
       "3   OTU.1230 SH446992.07FU_KC254054_refs       9440\n",
       "4  OTU.12356 SH446992.07FU_KC254054_refs       9440\n",
       "5   OTU.1240 SH446992.07FU_KC254054_refs       9440\n",
       "6  OTU.13430 SH446992.07FU_KC254054_refs       9440\n",
       "7  OTU.15761 SH446992.07FU_KC254054_refs       9440\n",
       "8  OTU.16216 SH446992.07FU_KC254054_refs       9440\n",
       "9  OTU.16498 SH446992.07FU_KC254054_refs       9440\n",
       "10   OTU.173 SH446992.07FU_KC254054_refs       9440\n",
       "..       ...                         ...        ...\n"
      ]
     },
     "metadata": {},
     "output_type": "display_data"
    }
   ],
   "source": [
    "%%R\n",
    "filter(OTUs_filt, TreeTipPos == 9440)"
   ]
  },
  {
   "cell_type": "code",
   "execution_count": 33,
   "metadata": {
    "collapsed": false
   },
   "outputs": [],
   "source": [
    "%%R\n",
    "treetips = as.data.frame(GT$tip.label)\n",
    "colnames(treetips) = 'tip.label'\n",
    "treetips = filter(treetips, !(tip.label %in% OTUs_filt$acc))\n",
    "#treetips = head(treetips, n = 15000)"
   ]
  },
  {
   "cell_type": "code",
   "execution_count": 34,
   "metadata": {
    "collapsed": false
   },
   "outputs": [
    {
     "data": {
      "text/plain": [
       "[1] 20981\n"
      ]
     },
     "metadata": {},
     "output_type": "display_data"
    }
   ],
   "source": [
    "%%R\n",
    "length(treetips$tip.label)"
   ]
  },
  {
   "cell_type": "code",
   "execution_count": 67,
   "metadata": {
    "collapsed": true
   },
   "outputs": [],
   "source": [
    "%%R \n",
    "GT2 = collapse.singles(GT)"
   ]
  },
  {
   "cell_type": "code",
   "execution_count": 68,
   "metadata": {
    "collapsed": false
   },
   "outputs": [],
   "source": [
    "%%R -h 1000 -w 700\n",
    "GT3 = drop.tip(GT2, as.vector(treetips$tip.label))"
   ]
  },
  {
   "cell_type": "code",
   "execution_count": 69,
   "metadata": {
    "collapsed": true
   },
   "outputs": [],
   "source": [
    "%%R\n",
    "write.tree(GT3, 'data/filt_ghosttree.nwk')"
   ]
  },
  {
   "cell_type": "code",
   "execution_count": 37,
   "metadata": {
    "collapsed": false
   },
   "outputs": [],
   "source": [
    "%%R\n",
    "NT_Ret = read.csv('data/NT_Ret_responders.csv')\n",
    "NT_Ret = select(NT_Ret, OTU, LFC_Till, p_Till, LFC_OM, p_OM, Rank1.x, Rank2.x, Rank3.x, Rank4.x, Rank5.x, Till, OM)"
   ]
  },
  {
   "cell_type": "code",
   "execution_count": 38,
   "metadata": {
    "collapsed": false
   },
   "outputs": [
    {
     "data": {
      "text/plain": [
       "       OTU  LFC_Till       p_Till   LFC_OM         p_OM  Rank1.x\n",
       "1 OTU.4807 -2.243068 2.195440e-03 2.715466 5.891434e-04 k__Fungi\n",
       "2 OTU.1259 -3.151002 2.338111e-06 2.290393 4.805899e-03 k__Fungi\n",
       "3 OTU.1434 -2.365286 5.868299e-10 1.272158 1.258542e-02 k__Fungi\n",
       "4  OTU.192 -1.814900 8.355789e-11 1.630828 2.174634e-07 k__Fungi\n",
       "5 OTU.5253 -4.943473 9.764712e-10 4.729240 1.572899e-08 k__Fungi\n",
       "6 OTU.2624 -1.598050 9.793366e-02 3.090019 7.436505e-04 k__Fungi\n",
       "           Rank2.x            Rank3.x                Rank4.x            Rank5.x\n",
       "1 p__Basidiomycota  c__Agaricomycetes          o__Agaricales f__Psathyrellaceae\n",
       "2 p__Basidiomycota  c__Agaricomycetes          o__Agaricales f__Psathyrellaceae\n",
       "3 p__Basidiomycota  c__Agaricomycetes          o__Agaricales f__Psathyrellaceae\n",
       "4    p__Ascomycota c__Sordariomycetes         o__Hypocreales    f__Hypocreaceae\n",
       "5    p__Ascomycota               <NA>                   <NA>               <NA>\n",
       "6 p__Basidiomycota c__Tremellomycetes o__Cystofilobasidiales  f__Incertae sedis\n",
       "  Till       OM\n",
       "1    N Returned\n",
       "2    N Returned\n",
       "3    N Returned\n",
       "4    N Returned\n",
       "5    N Returned\n",
       "6    N Returned\n",
       "Source: local data frame [6 x 3]\n",
       "\n",
       "        OTU                                   acc TreeTipPos\n",
       "      (chr)                                 (chr)      (int)\n",
       "1   OTU.100 SH110535.07FU_AB481260_refs_singleton      14720\n",
       "2  OTU.1001           SH237405.07FU_JQ772020_refs       8478\n",
       "3 OTU.10077           SH185199.07FU_HQ630357_reps      18041\n",
       "4 OTU.10092           SH374767.07FU_AY236935_refs       8360\n",
       "5 OTU.10093 SH008011.07FU_FJ211865_reps_singleton       5161\n",
       "6 OTU.10096 SH134759.07FU_HQ179670_refs_singleton      21415\n"
      ]
     },
     "metadata": {},
     "output_type": "display_data"
    }
   ],
   "source": [
    "%%R\n",
    "print(head(NT_Ret))\n",
    "print(head(OTUs_filt))"
   ]
  },
  {
   "cell_type": "code",
   "execution_count": 39,
   "metadata": {
    "collapsed": false
   },
   "outputs": [
    {
     "data": {
      "text/plain": [
       "[1] 69\n"
      ]
     },
     "metadata": {},
     "output_type": "display_data"
    }
   ],
   "source": [
    "%%R\n",
    "length(NT_Ret$OTU)"
   ]
  },
  {
   "cell_type": "code",
   "execution_count": 40,
   "metadata": {
    "collapsed": false
   },
   "outputs": [
    {
     "name": "stderr",
     "output_type": "stream",
     "text": [
      "/opt/anaconda/lib/python2.7/site-packages/rpy2/robjects/functions.py:106: UserWarning: Joining by: \"OTU\"\n",
      "\n",
      "  res = super(Function, self).__call__(*new_args, **new_kwargs)\n"
     ]
    }
   ],
   "source": [
    "%%R\n",
    "OTUs_NT_Ret = left_join(NT_Ret, OTUs_filt)\n"
   ]
  },
  {
   "cell_type": "markdown",
   "metadata": {},
   "source": [
    "### Using Nick's Expand function to add polytomies to tree for OTUs that map to same Ghosttree tip"
   ]
  },
  {
   "cell_type": "markdown",
   "metadata": {},
   "source": [
    "* For expand function, need tree file (newick), count file in Mothur format, -f specifies tree file format"
   ]
  },
  {
   "cell_type": "code",
   "execution_count": 43,
   "metadata": {
    "collapsed": false
   },
   "outputs": [
    {
     "data": {
      "text/plain": [
       "                      tipname\n",
       "1 SH221552.07FU_AB738885_refs\n",
       "2 SH214405.07FU_AB699657_refs\n",
       "3 SH214407.07FU_AB738881_reps\n",
       "4 SH214406.07FU_AB738883_refs\n",
       "5 SH200583.07FU_AB699660_refs\n",
       "6 SH202218.07FU_KC152249_reps\n"
      ]
     },
     "metadata": {},
     "output_type": "display_data"
    }
   ],
   "source": [
    "%%R\n",
    "tips = as.data.frame(GT$tip.label)\n",
    "colnames(tips) = 'tipname'\n",
    "head(tips)"
   ]
  },
  {
   "cell_type": "code",
   "execution_count": 51,
   "metadata": {
    "collapsed": false
   },
   "outputs": [
    {
     "data": {
      "text/plain": [
       "Source: local data frame [6 x 2]\n",
       "\n",
       "        OTU                               tipname\n",
       "      (chr)                                 (chr)\n",
       "1   OTU.100 SH110535.07FU_AB481260_refs_singleton\n",
       "2  OTU.1001           SH237405.07FU_JQ772020_refs\n",
       "3 OTU.10077           SH185199.07FU_HQ630357_reps\n",
       "4 OTU.10092           SH374767.07FU_AY236935_refs\n",
       "5 OTU.10093 SH008011.07FU_FJ211865_reps_singleton\n",
       "6 OTU.10096 SH134759.07FU_HQ179670_refs_singleton\n"
      ]
     },
     "metadata": {},
     "output_type": "display_data"
    }
   ],
   "source": [
    "%%R\n",
    "OTUs_acc = select(OTUs_filt, OTU, acc) \n",
    "OTUs_acc = plyr::rename(OTUs_acc, replace = c('acc' = 'tipname'))\n",
    "\n",
    "head(OTUs_acc)"
   ]
  },
  {
   "cell_type": "code",
   "execution_count": 85,
   "metadata": {
    "collapsed": false
   },
   "outputs": [
    {
     "data": {
      "text/plain": [
       "Source: local data frame [0 x 4]\n",
       "\n",
       "Variables not shown: OTU (chr), tipname (chr), val (dbl), proxy (dbl)\n"
      ]
     },
     "metadata": {},
     "output_type": "display_data"
    }
   ],
   "source": [
    "%%R\n",
    "filter(OTUs_acc, tipname == 'SH221552.07FU_AB738885_refs')"
   ]
  },
  {
   "cell_type": "code",
   "execution_count": 81,
   "metadata": {
    "collapsed": false
   },
   "outputs": [],
   "source": [
    "%%R\n",
    "OTUs_acc$val = 1\n",
    "OTUs_acc$proxy = 100\n",
    "OTUs_spread = spread(OTUs_acc, OTU, val, fill = 0)\n",
    "\n",
    "write.table(OTUs_spread, sep = '\\t', file = 'data/otuTable_ghosttree.txt', row.names = FALSE)"
   ]
  },
  {
   "cell_type": "code",
   "execution_count": 83,
   "metadata": {
    "collapsed": false
   },
   "outputs": [
    {
     "name": "stdout",
     "output_type": "stream",
     "text": [
      " Newick tree file written:\r\n",
      "  data/filt_ghosttree_exp.nwk\r\n"
     ]
    }
   ],
   "source": [
    "! /home/chantal/tree_edit/bin/expand.pl -t data/filt_ghosttree.nwk -c data/otuTable_ghosttree.txt > data/polytomy_Ghostree.nwk"
   ]
  },
  {
   "cell_type": "code",
   "execution_count": 84,
   "metadata": {
    "collapsed": false
   },
   "outputs": [
    {
     "name": "stdout",
     "output_type": "stream",
     "text": [
      " ERROR: SH221552.07FU_AB738885_refs not found in count table\r\n"
     ]
    }
   ],
   "source": [
    "! /home/chantal/tree_edit/bin/expand.pl -t data/ghost_tree_01_31_16_s_dynamic100.nwk -c data/otuTable_ghosttree.txt > data/polytomy_Ghostree_full.nwk"
   ]
  },
  {
   "cell_type": "markdown",
   "metadata": {},
   "source": [
    "### Once have tree with polytomy, could map traits..., use in phyloseq??"
   ]
  }
 ],
 "metadata": {
  "kernelspec": {
   "display_name": "Python 2",
   "language": "python",
   "name": "python2"
  },
  "language_info": {
   "codemirror_mode": {
    "name": "ipython",
    "version": 2
   },
   "file_extension": ".py",
   "mimetype": "text/x-python",
   "name": "python",
   "nbconvert_exporter": "python",
   "pygments_lexer": "ipython2",
   "version": "2.7.11"
  }
 },
 "nbformat": 4,
 "nbformat_minor": 0
}
