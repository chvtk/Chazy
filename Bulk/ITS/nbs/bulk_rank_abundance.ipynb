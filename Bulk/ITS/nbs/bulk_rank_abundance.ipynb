{
 "cells": [
  {
   "cell_type": "code",
   "execution_count": 28,
   "metadata": {
    "collapsed": false
   },
   "outputs": [],
   "source": [
    "from IPython.display import FileLink"
   ]
  },
  {
   "cell_type": "code",
   "execution_count": 29,
   "metadata": {
    "collapsed": false
   },
   "outputs": [
    {
     "name": "stdout",
     "output_type": "stream",
     "text": [
      "The rpy2.ipython extension is already loaded. To reload it, use:\n",
      "  %reload_ext rpy2.ipython\n"
     ]
    }
   ],
   "source": [
    "%load_ext rpy2.ipython"
   ]
  },
  {
   "cell_type": "code",
   "execution_count": 4,
   "metadata": {
    "collapsed": false
   },
   "outputs": [
    {
     "name": "stderr",
     "output_type": "stream",
     "text": [
      "/opt/anaconda/lib/python2.7/site-packages/rpy2/robjects/functions.py:106: UserWarning: \n",
      "Attaching package: ‘dplyr’\n",
      "\n",
      "\n",
      "  res = super(Function, self).__call__(*new_args, **new_kwargs)\n",
      "/opt/anaconda/lib/python2.7/site-packages/rpy2/robjects/functions.py:106: UserWarning: The following objects are masked from ‘package:plyr’:\n",
      "\n",
      "    arrange, count, desc, failwith, id, mutate, rename, summarise,\n",
      "    summarize\n",
      "\n",
      "\n",
      "  res = super(Function, self).__call__(*new_args, **new_kwargs)\n",
      "/opt/anaconda/lib/python2.7/site-packages/rpy2/robjects/functions.py:106: UserWarning: The following objects are masked from ‘package:stats’:\n",
      "\n",
      "    filter, lag\n",
      "\n",
      "\n",
      "  res = super(Function, self).__call__(*new_args, **new_kwargs)\n",
      "/opt/anaconda/lib/python2.7/site-packages/rpy2/robjects/functions.py:106: UserWarning: The following objects are masked from ‘package:base’:\n",
      "\n",
      "    intersect, setdiff, setequal, union\n",
      "\n",
      "\n",
      "  res = super(Function, self).__call__(*new_args, **new_kwargs)\n"
     ]
    }
   ],
   "source": [
    "%%R\n",
    "library(reshape2)\n",
    "library(phyloseq)\n",
    "library(ggplot2)\n",
    "library(plyr); library(dplyr)\n",
    "library(RColorBrewer)\n"
   ]
  },
  {
   "cell_type": "code",
   "execution_count": 5,
   "metadata": {
    "collapsed": true
   },
   "outputs": [],
   "source": [
    "%%R\n",
    "workDir = '/home/chantal/Chazy/data/'\n",
    "figDir = '/home/chantal/Chazy/Bulk/ITS/data/figs/'\n",
    "\n",
    "physeqDir = '/home/chantal/Chazy/data/phyloseq/ITS/'\n",
    "physeqBulk = 'bulk-core'\n",
    "\n",
    "\n",
    "nprocs = 20"
   ]
  },
  {
   "cell_type": "code",
   "execution_count": 58,
   "metadata": {
    "collapsed": false
   },
   "outputs": [
    {
     "data": {
      "text/plain": [
       "phyloseq-class experiment-level object\n",
       "otu_table()   OTU Table:         [ 2093 taxa and 176 samples ]\n",
       "sample_data() Sample Data:       [ 176 samples by 24 sample variables ]\n",
       "tax_table()   Taxonomy Table:    [ 2093 taxa by 7 taxonomic ranks ]\n"
      ]
     },
     "metadata": {},
     "output_type": "display_data"
    }
   ],
   "source": [
    "%%R\n",
    "\n",
    "F = file.path(physeqDir, physeqBulk)\n",
    "\n",
    "physeq.Bulk = readRDS(F)\n",
    "physeq.Bulk.m = physeq.Bulk %>% sample_data\n",
    "physeq.Bulk = prune_samples((physeq.Bulk.m$Land_Management != \"PAS\"),\n",
    "                           physeq.Bulk)\n",
    "physeq.Bulk = physeq.Bulk %>% filter_taxa(function(x) sum(x) > 0, TRUE) \n",
    "    \n",
    "physeq.Bulk = physeq.Bulk %>% transform_sample_counts(function(x) x/sum(x))\n",
    "\n",
    "#physeq.Bulk.Sparsity = filter_taxa(physeq.Bulk, function(x) sum(x > 0) > (0.25 * length(x)), TRUE)\n",
    "\n",
    "physeq.Bulk"
   ]
  },
  {
   "cell_type": "code",
   "execution_count": 59,
   "metadata": {
    "collapsed": false
   },
   "outputs": [
    {
     "data": {
      "text/plain": [
       "           OTU          Sample Abundance     Full.sample Fraction PrimerF\n",
       "121783  OTU.26 Sept.NTH.1.2015 0.8313000 Sept.NTH.1.2015       NA  nBITSf\n",
       "364757  OTU.96       Oct.NTH.3 0.5951705       Oct.NTH.3       NA  nBITSf\n",
       "147817   OTU.3       Nov.PTR.2 0.5717046       Nov.PTR.2       NA  nBITSf\n",
       "167460  OTU.34    July14.PTR.4 0.5666000    July14.PTR.4       NA  nBITSf\n",
       "85286  OTU.201  Oct.PTH.1.2015 0.4819194  Oct.PTH.1.2015       NA  nBITSf\n",
       "6681   OTU.107       Oct.PTR.3 0.4510679       Oct.PTR.3       NA  nBITSf\n",
       "       PrimerR Barcode Rev.index Fwd.index Treatment Day Pool     Experiment\n",
       "121783   58A2r     136  gatctacg  gacaccgt       NTH  NA    5 Chazy.ITS.Bulk\n",
       "364757   58A2r     106  cgaagtat  actatctg       NTH  NA    4 Chazy.ITS.Bulk\n",
       "147817   58A2r     134  gatctacg  cgtgagtg       PTR  NA    4 Chazy.ITS.Bulk\n",
       "167460   58A2r      70  actacgac  cgtgagtg       PTR  NA    4 Chazy.ITS.Bulk\n",
       "85286    58A2r     155  atagtacc  tagcgagt       PTH  NA    5 Chazy.ITS.Bulk\n",
       "6681     58A2r     119  tagcagct  ggatatct       PTR  NA    4 Chazy.ITS.Bulk\n",
       "       Gradient gradient_date fractionation_date BD Land_Management Replicate\n",
       "121783     <NA>          <NA>               <NA> NA             NTH         1\n",
       "364757     <NA>          <NA>               <NA> NA             NTH         3\n",
       "147817     <NA>          <NA>               <NA> NA             PTR         2\n",
       "167460     <NA>          <NA>               <NA> NA             PTR         4\n",
       "85286      <NA>          <NA>               <NA> NA             PTH         1\n",
       "6681       <NA>          <NA>               <NA> NA             PTR         3\n",
       "           Month Year OM Till Soil_Moisture Soil_Temp Sample_Date    Rank1\n",
       "121783 September 2015  H    N      18.83333        NA     9/23/15 k__Fungi\n",
       "364757   October 2014  H    N      17.53333        NA    10/29/14 k__Fungi\n",
       "147817  November 2014  R    P      11.30000  2.500000    11/26/14 k__Fungi\n",
       "167460      July 2014  R    P            NA        NA     7/10/14 k__Fungi\n",
       "85286    October 2015  H    P      15.66667  6.333333    10/27/15 k__Fungi\n",
       "6681     October 2014  R    P      16.06667        NA    10/29/14 k__Fungi\n",
       "                  Rank2              Rank3                Rank4\n",
       "121783  p__unidentified    c__unidentified      o__unidentified\n",
       "364757    p__Ascomycota  c__Eurotiomycetes        o__Onygenales\n",
       "147817    p__Ascomycota c__Sordariomycetes       o__Hypocreales\n",
       "167460    p__Ascomycota c__Sordariomycetes        o__Xylariales\n",
       "85286  p__Rozellomycota    c__unidentified      o__unidentified\n",
       "6681      p__Ascomycota c__Sordariomycetes o__Chaetosphaeriales\n",
       "                       Rank5            Rank6                       Rank7\n",
       "121783       f__unidentified  g__unidentified                 s__Fungi sp\n",
       "364757       f__unidentified  g__unidentified            s__Onygenales sp\n",
       "147817        f__Nectriaceae      g__Fusarium                        <NA>\n",
       "167460     f__Incertae sedis g__Monographella s__Monographella cucumerina\n",
       "85286        f__unidentified  g__unidentified         s__Rozellomycota sp\n",
       "6681   f__Chaetosphaeriaceae             <NA>                        <NA>\n"
      ]
     },
     "metadata": {},
     "output_type": "display_data"
    }
   ],
   "source": [
    "%%R\n",
    "mdf = psmelt(physeq.Bulk)\n",
    "head(mdf)"
   ]
  },
  {
   "cell_type": "code",
   "execution_count": 60,
   "metadata": {
    "collapsed": false
   },
   "outputs": [],
   "source": [
    "%%R\n",
    "Class.fig = mdf %>% group_by(OTU, Treatment) %>% summarise(meanAb = mean(Abundance), sdAb = sd(Abundance))"
   ]
  },
  {
   "cell_type": "code",
   "execution_count": 61,
   "metadata": {
    "collapsed": false
   },
   "outputs": [
    {
     "data": {
      "text/plain": [
       "Source: local data frame [6 x 4]\n",
       "Groups: OTU [2]\n",
       "\n",
       "       OTU Treatment       meanAb         sdAb\n",
       "     (chr)    (fctr)        (dbl)        (dbl)\n",
       "1  OTU.100       NTH 1.324433e-05 8.785296e-05\n",
       "2  OTU.100       NTR 9.418679e-06 6.247645e-05\n",
       "3  OTU.100       PTH 3.180836e-04 1.338020e-03\n",
       "4  OTU.100       PTR 8.650521e-04 1.930513e-03\n",
       "5 OTU.1001       NTH 2.522356e-04 5.041954e-04\n",
       "6 OTU.1001       NTR 7.076085e-04 2.530329e-03\n"
      ]
     },
     "metadata": {},
     "output_type": "display_data"
    }
   ],
   "source": [
    "%%R\n",
    "head(Class.fig)"
   ]
  },
  {
   "cell_type": "code",
   "execution_count": 62,
   "metadata": {
    "collapsed": false
   },
   "outputs": [
    {
     "data": {
      "image/png": "[encoded data removed]"
     },
     "metadata": {},
     "output_type": "display_data"
    }
   ],
   "source": [
    "%%R -w 1000 -h 800\n",
    "ggplot(Class.fig, aes(OTU, meanAb)) + geom_bar(stat = 'identity', aes(fill = Treatment)) + facet_wrap(~Treatment, ncol = 1)"
   ]
  },
  {
   "cell_type": "code",
   "execution_count": 63,
   "metadata": {
    "collapsed": false
   },
   "outputs": [
    {
     "data": {
      "text/plain": [
       "  seq\n",
       "1 176\n"
      ]
     },
     "metadata": {},
     "output_type": "display_data"
    }
   ],
   "source": [
    "%%R \n",
    "mdf %>% summarise(seq = sum(Abundance))"
   ]
  },
  {
   "cell_type": "code",
   "execution_count": 64,
   "metadata": {
    "collapsed": false
   },
   "outputs": [
    {
     "data": {
      "text/plain": [
       "   Min. 1st Qu.  Median    Mean 3rd Qu.    Max. \n",
       "      1       1       1       1       1       1 \n"
      ]
     },
     "metadata": {},
     "output_type": "display_data"
    }
   ],
   "source": [
    "%%R\n",
    "test = mdf %>% group_by(Sample) %>% summarise(sampleseq = sum(Abundance))\n",
    "summary(test$sampleseq)"
   ]
  },
  {
   "cell_type": "code",
   "execution_count": 65,
   "metadata": {
    "collapsed": false
   },
   "outputs": [
    {
     "data": {
      "text/plain": [
       " [1] 9/23/15  10/29/14 11/26/14 7/10/14  10/27/15 4/30/15  6/17/15  7/16/15 \n",
       " [9] 8/13/15  11/25/15 9/24/14 \n",
       "11 Levels: 10/27/15 10/29/14 11/25/15 11/26/14 4/30/15 6/17/15 ... 9/24/14\n"
      ]
     },
     "metadata": {},
     "output_type": "display_data"
    }
   ],
   "source": [
    "%%R\n",
    "unique(mdf$Sample_Date)"
   ]
  },
  {
   "cell_type": "code",
   "execution_count": 103,
   "metadata": {
    "collapsed": false
   },
   "outputs": [],
   "source": [
    "%%R\n",
    "df.l2fc = read.table(\"data/l2fc_Moist_allSamples.txt\", sep = '\\t', header = TRUE)"
   ]
  },
  {
   "cell_type": "code",
   "execution_count": 67,
   "metadata": {
    "collapsed": false
   },
   "outputs": [],
   "source": [
    "%%R\n",
    "mdf.byday = ddply(mdf, .(Sample_Date, OTU), summarize, mean_day_abundance = mean(Abundance))\n",
    "mdf.byday = mdf.byday[order( mdf.byday$Sample_Date, -mdf.byday$mean_day_abundance),]\n",
    "mdf.Nov = subset(mdf.byday, Sample_Date == '11/26/14')\n",
    "mdf.Nov$Rank = rank(-mdf.Nov$mean_day_abundance, ties.method = \"random\")\n",
    "mdf.byday.Nov = join(mdf.byday, mdf.Nov[,c(\"OTU\",\"Rank\")], by = \"OTU\")"
   ]
  },
  {
   "cell_type": "code",
   "execution_count": 104,
   "metadata": {
    "collapsed": false
   },
   "outputs": [
    {
     "data": {
      "text/plain": [
       "  Land_Management sparsity_threshold      OTU log2FoldChange      lfcSE\n",
       "1             NTH               0.45  OTU.133   -0.009693962 0.06031610\n",
       "2             NTH               0.45   OTU.45   -0.020811900 0.06469306\n",
       "3             NTH               0.45 OTU.2583   -0.227565465 0.10886660\n",
       "4             NTH               0.45  OTU.628   -0.298682080 0.10469286\n",
       "5             NTH               0.45  OTU.139    0.144634354 0.08922624\n",
       "6             NTH               0.45  OTU.169    0.069291741 0.10572347\n",
       "        padj    Rank1            Rank2              Rank3           Rank4\n",
       "1 0.91453940 k__Fungi    p__Ascomycota c__Sordariomycetes  o__Hypocreales\n",
       "2 0.88300842 k__Fungi p__Basidiomycota  c__Agaricomycetes  o__Polyporales\n",
       "3 0.14104182 k__Fungi p__Basidiomycota  c__Agaricomycetes   o__Agaricales\n",
       "4 0.03110968 k__Fungi    p__Ascomycota c__Dothideomycetes o__Pleosporales\n",
       "5 0.29111069 k__Fungi p__Basidiomycota  c__Agaricomycetes   o__Agaricales\n",
       "6 0.74246480 k__Fungi    p__Ascomycota c__Dothideomycetes o__unidentified\n",
       "               Rank5           Rank6                     Rank7     padj2\n",
       "1    f__Hypocreaceae            <NA>                      <NA> 0.9992961\n",
       "2 f__Ganodermataceae    g__Ganoderma                      <NA> 0.9992961\n",
       "3 f__Psathyrellaceae  g__Coprinellus s__Coprinellus eurysporus 0.9992961\n",
       "4   f__Pleosporaceae   g__Drechslera          s__Drechslera sp 0.6362587\n",
       "5     f__Agaricaceae     g__Coprinus   s__Coprinus cordisporus 0.9992961\n",
       "6    f__unidentified g__unidentified     s__Dothideomycetes sp 0.9992961\n",
       "    Moisture\n",
       "1 decreasing\n",
       "2 decreasing\n",
       "3 decreasing\n",
       "4 decreasing\n",
       "5 increasing\n",
       "6 increasing\n"
      ]
     },
     "metadata": {},
     "output_type": "display_data"
    }
   ],
   "source": [
    "%%R\n",
    "head(df.l2fc)"
   ]
  },
  {
   "cell_type": "code",
   "execution_count": 105,
   "metadata": {
    "collapsed": false
   },
   "outputs": [],
   "source": [
    "%%R\n",
    "FDR = 0.10\n",
    "df.l2fc.rspndr = df.l2fc %>%\n",
    "    filter(padj2 <= 0.10)   "
   ]
  },
  {
   "cell_type": "code",
   "execution_count": 106,
   "metadata": {
    "collapsed": false
   },
   "outputs": [
    {
     "data": {
      "text/plain": [
       "[1] 21\n"
      ]
     },
     "metadata": {},
     "output_type": "display_data"
    }
   ],
   "source": [
    "%%R\n",
    "length(df.l2fc.rspndr$OTU)"
   ]
  },
  {
   "cell_type": "code",
   "execution_count": 107,
   "metadata": {
    "collapsed": false
   },
   "outputs": [],
   "source": [
    "%%R\n",
    "d = left_join(df.l2fc.rspndr, mdf.byday.Nov) "
   ]
  },
  {
   "cell_type": "code",
   "execution_count": 108,
   "metadata": {
    "collapsed": false
   },
   "outputs": [
    {
     "data": {
      "text/plain": [
       "  Land_Management sparsity_threshold     OTU log2FoldChange      lfcSE\n",
       "1             NTH               0.45 OTU.134      -0.265424 0.06469197\n",
       "2             NTH               0.45 OTU.134      -0.265424 0.06469197\n",
       "3             NTH               0.45 OTU.134      -0.265424 0.06469197\n",
       "4             NTH               0.45 OTU.134      -0.265424 0.06469197\n",
       "5             NTH               0.45 OTU.134      -0.265424 0.06469197\n",
       "6             NTH               0.45 OTU.134      -0.265424 0.06469197\n",
       "          padj    Rank1         Rank2             Rank3              Rank4\n",
       "1 0.0008628047 k__Fungi p__Ascomycota c__Eurotiomycetes o__Chaetothyriales\n",
       "2 0.0008628047 k__Fungi p__Ascomycota c__Eurotiomycetes o__Chaetothyriales\n",
       "3 0.0008628047 k__Fungi p__Ascomycota c__Eurotiomycetes o__Chaetothyriales\n",
       "4 0.0008628047 k__Fungi p__Ascomycota c__Eurotiomycetes o__Chaetothyriales\n",
       "5 0.0008628047 k__Fungi p__Ascomycota c__Eurotiomycetes o__Chaetothyriales\n",
       "6 0.0008628047 k__Fungi p__Ascomycota c__Eurotiomycetes o__Chaetothyriales\n",
       "                   Rank5        Rank6 Rank7      padj2   Moisture Sample_Date\n",
       "1 f__Herpotrichiellaceae g__Exophiala  <NA> 0.05714878 decreasing    10/27/15\n",
       "2 f__Herpotrichiellaceae g__Exophiala  <NA> 0.05714878 decreasing    10/29/14\n",
       "3 f__Herpotrichiellaceae g__Exophiala  <NA> 0.05714878 decreasing    11/25/15\n",
       "4 f__Herpotrichiellaceae g__Exophiala  <NA> 0.05714878 decreasing    11/26/14\n",
       "5 f__Herpotrichiellaceae g__Exophiala  <NA> 0.05714878 decreasing     4/30/15\n",
       "6 f__Herpotrichiellaceae g__Exophiala  <NA> 0.05714878 decreasing     6/17/15\n",
       "  mean_day_abundance Rank\n",
       "1        0.005664831   40\n",
       "2        0.003810351   40\n",
       "3        0.009427102   40\n",
       "4        0.006046474   40\n",
       "5        0.004066601   40\n",
       "6        0.004462689   40\n"
      ]
     },
     "metadata": {},
     "output_type": "display_data"
    }
   ],
   "source": [
    "%%R\n",
    "head(d)"
   ]
  },
  {
   "cell_type": "code",
   "execution_count": 109,
   "metadata": {
    "collapsed": false
   },
   "outputs": [
    {
     "data": {
      "text/plain": [
       "NULL\n"
      ]
     },
     "metadata": {},
     "output_type": "display_data"
    }
   ],
   "source": [
    "%%R\n",
    "#mdf.byday.ranked = filter(mdf.byday.ranked, Sample_Date == '7/10/14' )"
   ]
  },
  {
   "cell_type": "code",
   "execution_count": 1,
   "metadata": {
    "collapsed": false
   },
   "outputs": [
    {
     "name": "stderr",
     "output_type": "stream",
     "text": [
      "ERROR: Cell magic `%%R` not found.\n"
     ]
    }
   ],
   "source": [
    "%%R -w 1000 -h 800\n",
    "getPalette = colorRampPalette(brewer.pal(5, \"Dark2\"))\n",
    "\n",
    "mdf.byday.Nov$Sample_Date = factor(mdf.byday.Nov$Sample_Date, \n",
    "                                        levels = c('7/10/14', '9/24/14', '10/29/14', '11/26/14', \n",
    "                                                  '4/30/15', '6/17/15', '7/16/15', '8/13/15', \n",
    "                                                  '9/23/15', '10/27/15', '11/25/15'))\n",
    "\n",
    "d$Sample_Date = factor(d$Sample_Date, levels = c('7/10/14', '9/24/14', '10/29/14', '11/26/14', \n",
    "                                                  '4/30/15', '6/17/15', '7/16/15', '8/13/15', \n",
    "                                                  '9/23/15', '10/27/15', '11/25/15'))\n",
    "\n",
    "\n",
    "#p = p + geom_vline(data = d.RNA, aes(xintercept = Rank), color = \"#377eb8\", alpha = 0.25, size = 1)\n",
    "#p = p + geom_vline(data = d.DNA, aes(xintercept = Rank), color = \"#4daf4a\", alpha = 0.25, size = 1)\n",
    "\n",
    "p = ggplot(data = mdf.byday.Nov, aes(x = Rank, y = mean_day_abundance))# + \n",
    "           # geom_line(alpha = 0.5, size = 0.5) \n",
    "\n",
    "p = p + geom_point(data = d, aes(fill = Sample_Date, color = Sample_Date, shape = Moisture, alpha = 0.6),\n",
    "                                 size = 3)\n",
    "#p = p + geom_rug(data = d.DNA, color = \"blue\", sides = \"t\", size = 1.25)\n",
    "\n",
    "p = p + geom_line(data = subset(mdf.byday.Nov, Sample_Date == '11/26/14'), \n",
    "                  size = 1)\n",
    "\n",
    "p = p +  scale_shape_manual(values = c(16,17))\n",
    "\n",
    "\n",
    "p = p + scale_y_log10()\n",
    "\n",
    "p = p + scale_x_log10()\n",
    "\n",
    "p = p  + theme(text = element_text(size=16))\n",
    "\n",
    "p = p + labs(x = \"Nov 2014 Rank\", y = \"Relative Abundance\", size = \"Sample Date\") +\n",
    "       guides(fill= guide_legend(override.aes = list(size=3))) + facet_wrap(~Land_Management) +\n",
    "        guides(alpha = FALSE)\n",
    "\n",
    "\n",
    "p\n"
   ]
  },
  {
   "cell_type": "code",
   "execution_count": 139,
   "metadata": {
    "collapsed": false
   },
   "outputs": [
    {
     "data": {
      "text/plain": [
       "         OTU            Rank2            Rank6 Sample_Date       ratio\n",
       "1    OTU.134    p__Ascomycota     g__Exophiala    11/26/14    2.414052\n",
       "2    OTU.134    p__Ascomycota     g__Exophiala     4/30/15    1.623589\n",
       "3     OTU.60    p__Ascomycota  g__unidentified    11/26/14    6.546472\n",
       "4     OTU.60    p__Ascomycota  g__unidentified     4/30/15    1.286353\n",
       "5    OTU.114    p__Ascomycota   g__Trichoderma    11/26/14    2.002984\n",
       "6    OTU.114    p__Ascomycota   g__Trichoderma     4/30/15    5.520924\n",
       "7    OTU.197    p__Ascomycota  g__unidentified    11/26/14    4.422980\n",
       "8    OTU.197    p__Ascomycota  g__unidentified     4/30/15    1.648532\n",
       "9    OTU.785    p__Ascomycota             <NA>    11/26/14   24.849512\n",
       "10   OTU.785    p__Ascomycota             <NA>     4/30/15    9.756901\n",
       "11    OTU.58    p__Ascomycota  g__Myrmecridium    11/26/14    3.663273\n",
       "12    OTU.58    p__Ascomycota  g__Myrmecridium     4/30/15    1.740015\n",
       "13   OTU.692    p__Ascomycota g__Hymenoscyphus    11/26/14   10.277328\n",
       "14   OTU.692    p__Ascomycota g__Hymenoscyphus     4/30/15    6.801055\n",
       "15   OTU.440    p__Ascomycota             <NA>    11/26/14    4.335194\n",
       "16   OTU.440    p__Ascomycota             <NA>     4/30/15    1.121732\n",
       "17 OTU.52973  p__unidentified  g__unidentified    11/26/14    8.440985\n",
       "18 OTU.52973  p__unidentified  g__unidentified     4/30/15    1.612041\n",
       "19    OTU.70    p__Ascomycota g__Phialocephala    11/26/14    1.000000\n",
       "20    OTU.70    p__Ascomycota g__Phialocephala     4/30/15    4.813501\n",
       "21   OTU.197    p__Ascomycota  g__unidentified    11/26/14    4.422980\n",
       "22   OTU.197    p__Ascomycota  g__unidentified     4/30/15    1.648532\n",
       "23    OTU.26  p__unidentified  g__unidentified    11/26/14  189.893745\n",
       "24    OTU.26  p__unidentified  g__unidentified     4/30/15    2.772085\n",
       "25 OTU.37716    p__Ascomycota             <NA>    11/26/14   40.253296\n",
       "26 OTU.37716    p__Ascomycota             <NA>     4/30/15    2.389800\n",
       "27   OTU.227    p__Ascomycota  g__unidentified    11/26/14    3.896056\n",
       "28   OTU.227    p__Ascomycota  g__unidentified     4/30/15    4.396870\n",
       "29 OTU.42439    p__Ascomycota    g__Acremonium    11/26/14    2.533364\n",
       "30 OTU.42439    p__Ascomycota    g__Acremonium     4/30/15    1.920115\n",
       "31   OTU.549 p__Basidiomycota  g__unidentified    11/26/14 1040.770619\n",
       "32   OTU.549 p__Basidiomycota  g__unidentified     4/30/15   57.518272\n",
       "33   OTU.628    p__Ascomycota    g__Drechslera    11/26/14   21.364511\n",
       "34   OTU.628    p__Ascomycota    g__Drechslera     4/30/15    2.260447\n",
       "35  OTU.1310    p__Ascomycota   g__Neobulgaria    11/26/14    1.033658\n",
       "36  OTU.1310    p__Ascomycota   g__Neobulgaria     4/30/15   71.179889\n",
       "37     OTU.3    p__Ascomycota      g__Fusarium    11/26/14    3.034129\n",
       "38     OTU.3    p__Ascomycota      g__Fusarium     4/30/15    1.729423\n",
       "39   OTU.105    p__Ascomycota      g__Fusarium    11/26/14    2.199010\n",
       "40   OTU.105    p__Ascomycota      g__Fusarium     4/30/15    1.944702\n",
       "41   OTU.525    p__Ascomycota   g__Mycoarthris    11/26/14    1.185420\n",
       "42   OTU.525    p__Ascomycota   g__Mycoarthris     4/30/15    2.161634\n",
       "                         Rank7\n",
       "1                         <NA>\n",
       "2                         <NA>\n",
       "3             s__Ascomycota sp\n",
       "4             s__Ascomycota sp\n",
       "5                         <NA>\n",
       "6                         <NA>\n",
       "7             s__Helotiales sp\n",
       "8             s__Helotiales sp\n",
       "9                         <NA>\n",
       "10                        <NA>\n",
       "11                        <NA>\n",
       "12                        <NA>\n",
       "13                        <NA>\n",
       "14                        <NA>\n",
       "15                        <NA>\n",
       "16                        <NA>\n",
       "17                 s__Fungi sp\n",
       "18                 s__Fungi sp\n",
       "19 s__Phialocephala xalapensis\n",
       "20 s__Phialocephala xalapensis\n",
       "21            s__Helotiales sp\n",
       "22            s__Helotiales sp\n",
       "23                 s__Fungi sp\n",
       "24                 s__Fungi sp\n",
       "25                        <NA>\n",
       "26                        <NA>\n",
       "27     s__Lasiosphaeriaceae sp\n",
       "28     s__Lasiosphaeriaceae sp\n",
       "29    s__Acremonium persicinum\n",
       "30    s__Acremonium persicinum\n",
       "31       s__Tremellomycetes sp\n",
       "32       s__Tremellomycetes sp\n",
       "33            s__Drechslera sp\n",
       "34            s__Drechslera sp\n",
       "35                        <NA>\n",
       "36                        <NA>\n",
       "37                        <NA>\n",
       "38                        <NA>\n",
       "39              s__Fusarium sp\n",
       "40              s__Fusarium sp\n",
       "41                        <NA>\n",
       "42                        <NA>\n"
      ]
     },
     "metadata": {},
     "output_type": "display_data"
    }
   ],
   "source": [
    "%%R\n",
    "d %>% group_by(OTU, Rank2, Rank3, Rank6, Rank7) %>% \n",
    "    mutate(minab = min(mean_day_abundance)) %>% filter(Sample_Date %in% c('11/26/14', '4/30/15')) %>% \n",
    "    group_by(OTU, Rank2, Rank3, Rank6,Sample_Date, Rank7) %>% mutate(ratio = (mean_day_abundance/minab)) %>% ungroup()%>%\n",
    "    select(OTU, Rank2, Rank6, Sample_Date, ratio, Rank7) %>% as.data.frame\n"
   ]
  },
  {
   "cell_type": "code",
   "execution_count": 116,
   "metadata": {
    "collapsed": false
   },
   "outputs": [
    {
     "data": {
      "text/plain": [
       "   Land_Management sparsity_threshold     OTU log2FoldChange     lfcSE\n",
       "1              PTH               0.45 OTU.549       -0.40067 0.0884302\n",
       "2              PTH               0.45 OTU.549       -0.40067 0.0884302\n",
       "3              PTH               0.45 OTU.549       -0.40067 0.0884302\n",
       "4              PTH               0.45 OTU.549       -0.40067 0.0884302\n",
       "5              PTH               0.45 OTU.549       -0.40067 0.0884302\n",
       "6              PTH               0.45 OTU.549       -0.40067 0.0884302\n",
       "7              PTH               0.45 OTU.549       -0.40067 0.0884302\n",
       "8              PTH               0.45 OTU.549       -0.40067 0.0884302\n",
       "9              PTH               0.45 OTU.549       -0.40067 0.0884302\n",
       "10             PTH               0.45 OTU.549       -0.40067 0.0884302\n",
       "11             PTH               0.45 OTU.549       -0.40067 0.0884302\n",
       "           padj    Rank1            Rank2              Rank3           Rank4\n",
       "1  0.0003073431 k__Fungi p__Basidiomycota c__Tremellomycetes o__unidentified\n",
       "2  0.0003073431 k__Fungi p__Basidiomycota c__Tremellomycetes o__unidentified\n",
       "3  0.0003073431 k__Fungi p__Basidiomycota c__Tremellomycetes o__unidentified\n",
       "4  0.0003073431 k__Fungi p__Basidiomycota c__Tremellomycetes o__unidentified\n",
       "5  0.0003073431 k__Fungi p__Basidiomycota c__Tremellomycetes o__unidentified\n",
       "6  0.0003073431 k__Fungi p__Basidiomycota c__Tremellomycetes o__unidentified\n",
       "7  0.0003073431 k__Fungi p__Basidiomycota c__Tremellomycetes o__unidentified\n",
       "8  0.0003073431 k__Fungi p__Basidiomycota c__Tremellomycetes o__unidentified\n",
       "9  0.0003073431 k__Fungi p__Basidiomycota c__Tremellomycetes o__unidentified\n",
       "10 0.0003073431 k__Fungi p__Basidiomycota c__Tremellomycetes o__unidentified\n",
       "11 0.0003073431 k__Fungi p__Basidiomycota c__Tremellomycetes o__unidentified\n",
       "             Rank5           Rank6                 Rank7      padj2   Moisture\n",
       "1  f__unidentified g__unidentified s__Tremellomycetes sp 0.02983161 decreasing\n",
       "2  f__unidentified g__unidentified s__Tremellomycetes sp 0.02983161 decreasing\n",
       "3  f__unidentified g__unidentified s__Tremellomycetes sp 0.02983161 decreasing\n",
       "4  f__unidentified g__unidentified s__Tremellomycetes sp 0.02983161 decreasing\n",
       "5  f__unidentified g__unidentified s__Tremellomycetes sp 0.02983161 decreasing\n",
       "6  f__unidentified g__unidentified s__Tremellomycetes sp 0.02983161 decreasing\n",
       "7  f__unidentified g__unidentified s__Tremellomycetes sp 0.02983161 decreasing\n",
       "8  f__unidentified g__unidentified s__Tremellomycetes sp 0.02983161 decreasing\n",
       "9  f__unidentified g__unidentified s__Tremellomycetes sp 0.02983161 decreasing\n",
       "10 f__unidentified g__unidentified s__Tremellomycetes sp 0.02983161 decreasing\n",
       "11 f__unidentified g__unidentified s__Tremellomycetes sp 0.02983161 decreasing\n",
       "   Sample_Date mean_day_abundance Rank\n",
       "1     10/27/15       1.146378e-03   11\n",
       "2     10/29/14       6.557697e-05   11\n",
       "3     11/25/15       9.110821e-04   11\n",
       "4     11/26/14       1.800555e-02   11\n",
       "5      4/30/15       9.950783e-04   11\n",
       "6      6/17/15       1.044568e-04   11\n",
       "7      7/10/14       1.783414e-03   11\n",
       "8      7/16/15       6.460246e-05   11\n",
       "9      8/13/15       1.730021e-05   11\n",
       "10     9/23/15       2.106569e-05   11\n",
       "11     9/24/14       2.543298e-04   11\n"
      ]
     },
     "metadata": {},
     "output_type": "display_data"
    }
   ],
   "source": [
    "%%R\n",
    "filter(d, OTU == 'OTU.549')"
   ]
  },
  {
   "cell_type": "code",
   "execution_count": 96,
   "metadata": {
    "collapsed": false
   },
   "outputs": [
    {
     "data": {
      "text/plain": [
       "  Land_Management sparsity_threshold     OTU log2FoldChange      lfcSE\n",
       "1             NTH               0.45 OTU.134      -0.265424 0.06469197\n",
       "2             NTH               0.45 OTU.134      -0.265424 0.06469197\n",
       "3             NTH               0.45 OTU.134      -0.265424 0.06469197\n",
       "4             NTH               0.45 OTU.134      -0.265424 0.06469197\n",
       "5             NTH               0.45 OTU.134      -0.265424 0.06469197\n",
       "6             NTH               0.45 OTU.134      -0.265424 0.06469197\n",
       "          padj    Rank1         Rank2             Rank3              Rank4\n",
       "1 0.0008628047 k__Fungi p__Ascomycota c__Eurotiomycetes o__Chaetothyriales\n",
       "2 0.0008628047 k__Fungi p__Ascomycota c__Eurotiomycetes o__Chaetothyriales\n",
       "3 0.0008628047 k__Fungi p__Ascomycota c__Eurotiomycetes o__Chaetothyriales\n",
       "4 0.0008628047 k__Fungi p__Ascomycota c__Eurotiomycetes o__Chaetothyriales\n",
       "5 0.0008628047 k__Fungi p__Ascomycota c__Eurotiomycetes o__Chaetothyriales\n",
       "6 0.0008628047 k__Fungi p__Ascomycota c__Eurotiomycetes o__Chaetothyriales\n",
       "                   Rank5        Rank6 Rank7      padj2   Moisture Sample_Date\n",
       "1 f__Herpotrichiellaceae g__Exophiala  <NA> 0.05714878 decreasing    10/27/15\n",
       "2 f__Herpotrichiellaceae g__Exophiala  <NA> 0.05714878 decreasing    10/29/14\n",
       "3 f__Herpotrichiellaceae g__Exophiala  <NA> 0.05714878 decreasing    11/25/15\n",
       "4 f__Herpotrichiellaceae g__Exophiala  <NA> 0.05714878 decreasing    11/26/14\n",
       "5 f__Herpotrichiellaceae g__Exophiala  <NA> 0.05714878 decreasing     4/30/15\n",
       "6 f__Herpotrichiellaceae g__Exophiala  <NA> 0.05714878 decreasing     6/17/15\n",
       "  mean_day_abundance Rank\n",
       "1        0.005664831   40\n",
       "2        0.003810351   40\n",
       "3        0.009427102   40\n",
       "4        0.006046474   40\n",
       "5        0.004066601   40\n",
       "6        0.004462689   40\n"
      ]
     },
     "metadata": {},
     "output_type": "display_data"
    }
   ],
   "source": [
    "%%R \n",
    "head(d)"
   ]
  },
  {
   "cell_type": "code",
   "execution_count": 81,
   "metadata": {
    "collapsed": false
   },
   "outputs": [
    {
     "data": {
      "text/plain": [
       "  Land_Management sparsity_threshold      OTU log2FoldChange      lfcSE\n",
       "1             PTR               0.45  OTU.628     -0.4312420 0.08450102\n",
       "2             PTR               0.45 OTU.1310      0.3615294 0.08797720\n",
       "3             PTR               0.45    OTU.3     -0.2787023 0.06297545\n",
       "4             PTR               0.45  OTU.105     -0.2697597 0.06333208\n",
       "5             PTR               0.45  OTU.525     -0.2467617 0.05731951\n",
       "          padj    Rank1         Rank2              Rank3           Rank4\n",
       "1 4.937516e-05 k__Fungi p__Ascomycota c__Dothideomycetes o__Pleosporales\n",
       "2 1.174436e-03 k__Fungi p__Ascomycota   c__Leotiomycetes   o__Helotiales\n",
       "3 7.117898e-04 k__Fungi p__Ascomycota c__Sordariomycetes  o__Hypocreales\n",
       "4 7.582514e-04 k__Fungi p__Ascomycota c__Sordariomycetes  o__Hypocreales\n",
       "5 7.582514e-04 k__Fungi p__Ascomycota   c__Leotiomycetes   o__Helotiales\n",
       "               Rank5          Rank6            Rank7       padj2   Moisture\n",
       "1   f__Pleosporaceae  g__Drechslera s__Drechslera sp 0.006626146 decreasing\n",
       "2     f__Helotiaceae g__Neobulgaria             <NA> 0.070387444 increasing\n",
       "3     f__Nectriaceae    g__Fusarium             <NA> 0.050622358 decreasing\n",
       "4     f__Nectriaceae    g__Fusarium   s__Fusarium sp 0.052599036 decreasing\n",
       "5 f__Hyaloscyphaceae g__Mycoarthris             <NA> 0.052599036 decreasing\n",
       "  Sample_Date mean_day_abundance Rank\n",
       "1    11/26/14       0.0028914898   66\n",
       "2    11/26/14       0.0003940822  188\n",
       "3    11/26/14       0.0775683135    1\n",
       "4    11/26/14       0.0026090311   69\n",
       "5    11/26/14       0.0009550564  119\n"
      ]
     },
     "metadata": {},
     "output_type": "display_data"
    }
   ],
   "source": [
    "%%R\n",
    "filter(d, Land_Management == 'PTR', padj2 <=0.10 ,Sample_Date == '11/26/14' )"
   ]
  },
  {
   "cell_type": "code",
   "execution_count": 92,
   "metadata": {
    "collapsed": true
   },
   "outputs": [],
   "source": [
    "%%R\n",
    "ggsave(filename = \"data/figs/Moisture_RA.png\", plot = p, width =10, height =8)"
   ]
  },
  {
   "cell_type": "code",
   "execution_count": 22,
   "metadata": {
    "collapsed": true
   },
   "outputs": [],
   "source": [
    "%%R\n",
    "df.l2fc.Temp = read.table('data/l2fc_Temp.txt', sep='\\t', header = TRUE)"
   ]
  },
  {
   "cell_type": "code",
   "execution_count": 140,
   "metadata": {
    "collapsed": true
   },
   "outputs": [],
   "source": [
    "%%R\n",
    "FDR = 0.10\n",
    "df.l2fc.Temp.resp = df.l2fc.Temp %>%\n",
    "    filter(padj2 <= 0.10)   "
   ]
  },
  {
   "cell_type": "code",
   "execution_count": 141,
   "metadata": {
    "collapsed": false
   },
   "outputs": [
    {
     "data": {
      "text/plain": [
       "[1] 43\n"
      ]
     },
     "metadata": {},
     "output_type": "display_data"
    }
   ],
   "source": [
    "%%R\n",
    "length(df.l2fc.Temp.resp$OTU)"
   ]
  },
  {
   "cell_type": "code",
   "execution_count": 142,
   "metadata": {
    "collapsed": false
   },
   "outputs": [],
   "source": [
    "%%R\n",
    "d.Temp = left_join(df.l2fc.Temp.resp, mdf.byday.Nov) "
   ]
  },
  {
   "cell_type": "code",
   "execution_count": 143,
   "metadata": {
    "collapsed": false
   },
   "outputs": [
    {
     "data": {
      "image/png": "[encoded data removed]"
     },
     "metadata": {},
     "output_type": "display_data"
    }
   ],
   "source": [
    "%%R -w 1000 -h 800\n",
    "getPalette = colorRampPalette(brewer.pal(5, \"Dark2\"))\n",
    "\n",
    "mdf.byday.Nov$Sample_Date = factor(mdf.byday.Nov$Sample_Date, \n",
    "                                        levels = c('7/10/14', '9/24/14', '10/29/14', '11/26/14', \n",
    "                                                  '4/30/15', '6/17/15', '7/16/15', '8/13/15', \n",
    "                                                  '9/23/15', '10/27/15', '11/25/15'))\n",
    "\n",
    "d$Sample_Date = factor(d$Sample_Date, levels = c('7/10/14', '9/24/14', '10/29/14', '11/26/14', \n",
    "                                                  '4/30/15', '6/17/15', '7/16/15', '8/13/15', \n",
    "                                                  '9/23/15', '10/27/15', '11/25/15'))\n",
    "\n",
    "\n",
    "#p = p + geom_vline(data = d.RNA, aes(xintercept = Rank), color = \"#377eb8\", alpha = 0.25, size = 1)\n",
    "#p = p + geom_vline(data = d.DNA, aes(xintercept = Rank), color = \"#4daf4a\", alpha = 0.25, size = 1)\n",
    "\n",
    "p = ggplot(data = mdf.byday.Nov, aes(x = Rank, y = mean_day_abundance))# + \n",
    "           # geom_line(alpha = 0.5, size = 0.5) \n",
    "\n",
    "p = p + geom_point(data = d.Temp, aes(fill = Sample_Date, color = Sample_Date, shape = Temp, alpha = 0.6),\n",
    "                                 size = 3)\n",
    "#p = p + geom_rug(data = d.DNA, color = \"blue\", sides = \"t\", size = 1.25)\n",
    "\n",
    "p = p + geom_line(data = subset(mdf.byday.Nov, Sample_Date == '11/26/14'), \n",
    "                  size = 1)\n",
    "\n",
    "p = p +  scale_shape_manual(values = c(16,17))\n",
    "\n",
    "\n",
    "p = p + scale_y_log10()\n",
    "\n",
    "p = p + scale_x_log10()\n",
    "\n",
    "p = p  + theme(text = element_text(size=16))\n",
    "\n",
    "p = p + labs(x = \"Nov 2014 Rank\", y = \"Relative Abundance\", size = \"Sample Date\") +\n",
    "       guides(fill= guide_legend(override.aes = list(size=3))) + facet_wrap(~Land_Management) +\n",
    "        guides(alpha = FALSE)\n",
    "\n",
    "p\n"
   ]
  },
  {
   "cell_type": "code",
   "execution_count": 94,
   "metadata": {
    "collapsed": false
   },
   "outputs": [],
   "source": [
    "%%R\n",
    "ggsave(filename = \"data/figs/Temp_RA.png\", plot = p, width =10, height =8)"
   ]
  },
  {
   "cell_type": "code",
   "execution_count": 145,
   "metadata": {
    "collapsed": false
   },
   "outputs": [
    {
     "data": {
      "text/plain": [
       "         OTU            Rank2             Rank6 Sample_Date       ratio\n",
       "1   OTU.1851    p__Ascomycota              <NA>    11/26/14         Inf\n",
       "2   OTU.1851    p__Ascomycota              <NA>     4/30/15         Inf\n",
       "3    OTU.692    p__Ascomycota  g__Hymenoscyphus    11/26/14   10.277328\n",
       "4    OTU.692    p__Ascomycota  g__Hymenoscyphus     4/30/15    6.801055\n",
       "5    OTU.549 p__Basidiomycota   g__unidentified    11/26/14 1040.770619\n",
       "6    OTU.549 p__Basidiomycota   g__unidentified     4/30/15   57.518272\n",
       "7   OTU.1297    p__Ascomycota   g__unidentified    11/26/14         Inf\n",
       "8   OTU.1297    p__Ascomycota   g__unidentified     4/30/15         Inf\n",
       "9   OTU.1177 p__Basidiomycota      g__Dioszegia    11/26/14  111.093772\n",
       "10  OTU.1177 p__Basidiomycota      g__Dioszegia     4/30/15   58.520729\n",
       "11   OTU.169    p__Ascomycota   g__unidentified    11/26/14         Inf\n",
       "12   OTU.169    p__Ascomycota   g__unidentified     4/30/15         NaN\n",
       "13   OTU.657             <NA>              <NA>    11/26/14         Inf\n",
       "14   OTU.657             <NA>              <NA>     4/30/15         NaN\n",
       "15  OTU.2624 p__Basidiomycota      g__Mrakiella    11/26/14         Inf\n",
       "16  OTU.2624 p__Basidiomycota      g__Mrakiella     4/30/15         Inf\n",
       "17  OTU.1001    p__Ascomycota   g__unidentified    11/26/14         Inf\n",
       "18  OTU.1001    p__Ascomycota   g__unidentified     4/30/15         Inf\n",
       "19    OTU.25    p__Ascomycota              <NA>    11/26/14   12.802407\n",
       "20    OTU.25    p__Ascomycota              <NA>     4/30/15    5.992980\n",
       "21  OTU.1851    p__Ascomycota              <NA>    11/26/14         Inf\n",
       "22  OTU.1851    p__Ascomycota              <NA>     4/30/15         Inf\n",
       "23   OTU.788    p__Ascomycota  g__Schizothecium    11/26/14    1.415771\n",
       "24   OTU.788    p__Ascomycota  g__Schizothecium     4/30/15    1.024602\n",
       "25  OTU.1989    p__Ascomycota              <NA>    11/26/14         Inf\n",
       "26  OTU.1989    p__Ascomycota              <NA>     4/30/15         Inf\n",
       "27 OTU.23714    p__Ascomycota              <NA>    11/26/14         Inf\n",
       "28 OTU.23714    p__Ascomycota              <NA>     4/30/15         Inf\n",
       "29   OTU.655    p__Ascomycota  g__Leptosphaeria    11/26/14         Inf\n",
       "30   OTU.655    p__Ascomycota  g__Leptosphaeria     4/30/15         Inf\n",
       "31    OTU.66    p__Ascomycota              <NA>    11/26/14    1.975358\n",
       "32    OTU.66    p__Ascomycota              <NA>     4/30/15    1.000000\n",
       "33  OTU.4234    p__Ascomycota              <NA>    11/26/14         NaN\n",
       "34  OTU.4234    p__Ascomycota              <NA>     4/30/15         NaN\n",
       "35   OTU.145    p__Ascomycota              <NA>    11/26/14    9.048633\n",
       "36   OTU.145    p__Ascomycota              <NA>     4/30/15    7.586703\n",
       "37   OTU.692    p__Ascomycota  g__Hymenoscyphus    11/26/14   10.277328\n",
       "38   OTU.692    p__Ascomycota  g__Hymenoscyphus     4/30/15    6.801055\n",
       "39   OTU.214    p__Ascomycota              <NA>    11/26/14   39.309545\n",
       "40   OTU.214    p__Ascomycota              <NA>     4/30/15   19.422358\n",
       "41   OTU.388    p__Ascomycota              <NA>    11/26/14    4.575321\n",
       "42   OTU.388    p__Ascomycota              <NA>     4/30/15    2.012080\n",
       "43  OTU.1035    p__Ascomycota   g__unidentified    11/26/14  126.229685\n",
       "44  OTU.1035    p__Ascomycota   g__unidentified     4/30/15    4.091576\n",
       "45   OTU.549 p__Basidiomycota   g__unidentified    11/26/14 1040.770619\n",
       "46   OTU.549 p__Basidiomycota   g__unidentified     4/30/15   57.518272\n",
       "47  OTU.2719 p__Basidiomycota g__Sporobolomyces    11/26/14         Inf\n",
       "48  OTU.2719 p__Basidiomycota g__Sporobolomyces     4/30/15         Inf\n",
       "49    OTU.26  p__unidentified   g__unidentified    11/26/14  189.893745\n",
       "50    OTU.26  p__unidentified   g__unidentified     4/30/15    2.772085\n",
       "51 OTU.37716    p__Ascomycota              <NA>    11/26/14   40.253296\n",
       "52 OTU.37716    p__Ascomycota              <NA>     4/30/15    2.389800\n",
       "53 OTU.52983    p__Ascomycota              <NA>    11/26/14         Inf\n",
       "54 OTU.52983    p__Ascomycota              <NA>     4/30/15         Inf\n",
       "55 OTU.64249    p__Ascomycota              <NA>    11/26/14  166.325162\n",
       "56 OTU.64249    p__Ascomycota              <NA>     4/30/15    5.267438\n",
       "57 OTU.63543    p__Ascomycota              <NA>    11/26/14   87.076825\n",
       "58 OTU.63543    p__Ascomycota              <NA>     4/30/15    2.977769\n",
       "59 OTU.27312    p__Ascomycota              <NA>    11/26/14         Inf\n",
       "60 OTU.27312    p__Ascomycota              <NA>     4/30/15         NaN\n",
       "61  OTU.2289    p__Ascomycota              <NA>    11/26/14         Inf\n",
       "62  OTU.2289    p__Ascomycota              <NA>     4/30/15         NaN\n",
       "63   OTU.892    p__Ascomycota              <NA>    11/26/14         Inf\n",
       "64   OTU.892    p__Ascomycota              <NA>     4/30/15         Inf\n",
       "65    OTU.92    p__Ascomycota   g__Microdochium    11/26/14    1.569816\n",
       "66    OTU.92    p__Ascomycota   g__Microdochium     4/30/15    1.496502\n",
       "67  OTU.2221    p__Ascomycota              <NA>    11/26/14         Inf\n",
       "68  OTU.2221    p__Ascomycota              <NA>     4/30/15         Inf\n",
       "69  OTU.2499    p__Ascomycota              <NA>    11/26/14         Inf\n",
       "70  OTU.2499    p__Ascomycota              <NA>     4/30/15         NaN\n",
       "71  OTU.2369 p__Basidiomycota   g__Cryptococcus    11/26/14         Inf\n",
       "72  OTU.2369 p__Basidiomycota   g__Cryptococcus     4/30/15         Inf\n",
       "73  OTU.1060    p__Ascomycota              <NA>    11/26/14         Inf\n",
       "74  OTU.1060    p__Ascomycota              <NA>     4/30/15         Inf\n",
       "75  OTU.1177 p__Basidiomycota      g__Dioszegia    11/26/14  111.093772\n",
       "76  OTU.1177 p__Basidiomycota      g__Dioszegia     4/30/15   58.520729\n",
       "77   OTU.226 p__Basidiomycota      g__Hannaella    11/26/14         Inf\n",
       "78   OTU.226 p__Basidiomycota      g__Hannaella     4/30/15         Inf\n",
       "79  OTU.1649 p__Basidiomycota        g__Bullera    11/26/14         Inf\n",
       "80  OTU.1649 p__Basidiomycota        g__Bullera     4/30/15         Inf\n",
       "81   OTU.227    p__Ascomycota   g__unidentified    11/26/14    3.896056\n",
       "82   OTU.227    p__Ascomycota   g__unidentified     4/30/15    4.396870\n",
       "83   OTU.549 p__Basidiomycota   g__unidentified    11/26/14 1040.770619\n",
       "84   OTU.549 p__Basidiomycota   g__unidentified     4/30/15   57.518272\n",
       "85   OTU.549 p__Basidiomycota   g__unidentified    11/26/14 1040.770619\n",
       "86   OTU.549 p__Basidiomycota   g__unidentified     4/30/15   57.518272\n",
       "                         Rank7\n",
       "1                         <NA>\n",
       "2                         <NA>\n",
       "3                         <NA>\n",
       "4                         <NA>\n",
       "5        s__Tremellomycetes sp\n",
       "6        s__Tremellomycetes sp\n",
       "7             s__Ascomycota sp\n",
       "8             s__Ascomycota sp\n",
       "9                         <NA>\n",
       "10                        <NA>\n",
       "11       s__Dothideomycetes sp\n",
       "12       s__Dothideomycetes sp\n",
       "13                        <NA>\n",
       "14                        <NA>\n",
       "15       s__Mrakiella aquatica\n",
       "16       s__Mrakiella aquatica\n",
       "17          s__Pleosporales sp\n",
       "18          s__Pleosporales sp\n",
       "19                        <NA>\n",
       "20                        <NA>\n",
       "21                        <NA>\n",
       "22                        <NA>\n",
       "23                        <NA>\n",
       "24                        <NA>\n",
       "25                        <NA>\n",
       "26                        <NA>\n",
       "27                        <NA>\n",
       "28                        <NA>\n",
       "29                        <NA>\n",
       "30                        <NA>\n",
       "31                        <NA>\n",
       "32                        <NA>\n",
       "33                        <NA>\n",
       "34                        <NA>\n",
       "35                        <NA>\n",
       "36                        <NA>\n",
       "37                        <NA>\n",
       "38                        <NA>\n",
       "39                        <NA>\n",
       "40                        <NA>\n",
       "41                        <NA>\n",
       "42                        <NA>\n",
       "43    s__Mycosphaerellaceae sp\n",
       "44    s__Mycosphaerellaceae sp\n",
       "45       s__Tremellomycetes sp\n",
       "46       s__Tremellomycetes sp\n",
       "47 s__Sporobolomyces oryzicola\n",
       "48 s__Sporobolomyces oryzicola\n",
       "49                 s__Fungi sp\n",
       "50                 s__Fungi sp\n",
       "51                        <NA>\n",
       "52                        <NA>\n",
       "53                        <NA>\n",
       "54                        <NA>\n",
       "55                        <NA>\n",
       "56                        <NA>\n",
       "57                        <NA>\n",
       "58                        <NA>\n",
       "59                        <NA>\n",
       "60                        <NA>\n",
       "61                        <NA>\n",
       "62                        <NA>\n",
       "63                        <NA>\n",
       "64                        <NA>\n",
       "65          s__Microdochium sp\n",
       "66          s__Microdochium sp\n",
       "67                        <NA>\n",
       "68                        <NA>\n",
       "69                        <NA>\n",
       "70                        <NA>\n",
       "71   s__Cryptococcus victoriae\n",
       "72   s__Cryptococcus victoriae\n",
       "73                        <NA>\n",
       "74                        <NA>\n",
       "75                        <NA>\n",
       "76                        <NA>\n",
       "77                        <NA>\n",
       "78                        <NA>\n",
       "79       s__Bullera globospora\n",
       "80       s__Bullera globospora\n",
       "81     s__Lasiosphaeriaceae sp\n",
       "82     s__Lasiosphaeriaceae sp\n",
       "83       s__Tremellomycetes sp\n",
       "84       s__Tremellomycetes sp\n",
       "85       s__Tremellomycetes sp\n",
       "86       s__Tremellomycetes sp\n"
      ]
     },
     "metadata": {},
     "output_type": "display_data"
    }
   ],
   "source": [
    "%%R\n",
    "d.Temp %>% group_by(OTU, Rank2, Rank3, Rank6, Rank7) %>% \n",
    "    mutate(minab = min(mean_day_abundance)) %>% filter(Sample_Date %in% c('11/26/14', '4/30/15')) %>% \n",
    "    group_by(OTU, Rank2, Rank3, Rank6,Sample_Date, Rank7) %>% mutate(ratio = (mean_day_abundance/minab)) %>% ungroup()%>%\n",
    "    select(OTU, Rank2, Rank6, Sample_Date, ratio, Rank7) %>% as.data.frame\n"
   ]
  }
 ],
 "metadata": {
  "kernelspec": {
   "display_name": "Python 2",
   "language": "python",
   "name": "python2"
  },
  "language_info": {
   "codemirror_mode": {
    "name": "ipython",
    "version": 2
   },
   "file_extension": ".py",
   "mimetype": "text/x-python",
   "name": "python",
   "nbconvert_exporter": "python",
   "pygments_lexer": "ipython2",
   "version": "2.7.11"
  }
 },
 "nbformat": 4,
 "nbformat_minor": 0
}
