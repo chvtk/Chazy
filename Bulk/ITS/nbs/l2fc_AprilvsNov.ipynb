{
 "cells": [
  {
   "cell_type": "code",
   "execution_count": 1,
   "metadata": {
    "collapsed": false
   },
   "outputs": [],
   "source": [
    "%load_ext rpy2.ipython"
   ]
  },
  {
   "cell_type": "code",
   "execution_count": 2,
   "metadata": {
    "collapsed": true
   },
   "outputs": [],
   "source": [
    "%%R\n",
    "workDir = '/home/chantal/Chazy/Bulk/ITS/data/'\n",
    "figDir = '/home/chantal/Chazy/Bulk/ITS/figs/'\n",
    "\n",
    "physeqDir = '/home/chantal/Chazy/data/phyloseq/ITS/'\n",
    "physeqBulk = 'bulk-core'\n",
    "\n",
    "\n",
    "nprocs = 20"
   ]
  },
  {
   "cell_type": "code",
   "execution_count": 3,
   "metadata": {
    "collapsed": false
   },
   "outputs": [
    {
     "name": "stderr",
     "output_type": "stream",
     "text": [
      "/opt/anaconda/lib/python2.7/site-packages/rpy2/robjects/functions.py:106: UserWarning: \n",
      "Attaching package: ‘dplyr’\n",
      "\n",
      "\n",
      "  res = super(Function, self).__call__(*new_args, **new_kwargs)\n",
      "/opt/anaconda/lib/python2.7/site-packages/rpy2/robjects/functions.py:106: UserWarning: The following objects are masked from ‘package:plyr’:\n",
      "\n",
      "    arrange, count, desc, failwith, id, mutate, rename, summarise,\n",
      "    summarize\n",
      "\n",
      "\n",
      "  res = super(Function, self).__call__(*new_args, **new_kwargs)\n",
      "/opt/anaconda/lib/python2.7/site-packages/rpy2/robjects/functions.py:106: UserWarning: The following objects are masked from ‘package:stats’:\n",
      "\n",
      "    filter, lag\n",
      "\n",
      "\n",
      "  res = super(Function, self).__call__(*new_args, **new_kwargs)\n",
      "/opt/anaconda/lib/python2.7/site-packages/rpy2/robjects/functions.py:106: UserWarning: The following objects are masked from ‘package:base’:\n",
      "\n",
      "    intersect, setdiff, setequal, union\n",
      "\n",
      "\n",
      "  res = super(Function, self).__call__(*new_args, **new_kwargs)\n",
      "/opt/anaconda/lib/python2.7/site-packages/rpy2/robjects/functions.py:106: UserWarning: Loading required package: S4Vectors\n",
      "\n",
      "  res = super(Function, self).__call__(*new_args, **new_kwargs)\n",
      "/opt/anaconda/lib/python2.7/site-packages/rpy2/robjects/functions.py:106: UserWarning: Loading required package: stats4\n",
      "\n",
      "  res = super(Function, self).__call__(*new_args, **new_kwargs)\n",
      "/opt/anaconda/lib/python2.7/site-packages/rpy2/robjects/functions.py:106: UserWarning: Loading required package: BiocGenerics\n",
      "\n",
      "  res = super(Function, self).__call__(*new_args, **new_kwargs)\n",
      "/opt/anaconda/lib/python2.7/site-packages/rpy2/robjects/functions.py:106: UserWarning: Loading required package: parallel\n",
      "\n",
      "  res = super(Function, self).__call__(*new_args, **new_kwargs)\n",
      "/opt/anaconda/lib/python2.7/site-packages/rpy2/robjects/functions.py:106: UserWarning: \n",
      "Attaching package: ‘BiocGenerics’\n",
      "\n",
      "\n",
      "  res = super(Function, self).__call__(*new_args, **new_kwargs)\n",
      "/opt/anaconda/lib/python2.7/site-packages/rpy2/robjects/functions.py:106: UserWarning: The following objects are masked from ‘package:parallel’:\n",
      "\n",
      "    clusterApply, clusterApplyLB, clusterCall, clusterEvalQ,\n",
      "    clusterExport, clusterMap, parApply, parCapply, parLapply,\n",
      "    parLapplyLB, parRapply, parSapply, parSapplyLB\n",
      "\n",
      "\n",
      "  res = super(Function, self).__call__(*new_args, **new_kwargs)\n",
      "/opt/anaconda/lib/python2.7/site-packages/rpy2/robjects/functions.py:106: UserWarning: The following objects are masked from ‘package:dplyr’:\n",
      "\n",
      "    combine, intersect, setdiff, union\n",
      "\n",
      "\n",
      "  res = super(Function, self).__call__(*new_args, **new_kwargs)\n",
      "/opt/anaconda/lib/python2.7/site-packages/rpy2/robjects/functions.py:106: UserWarning: The following objects are masked from ‘package:stats’:\n",
      "\n",
      "    IQR, mad, xtabs\n",
      "\n",
      "\n",
      "  res = super(Function, self).__call__(*new_args, **new_kwargs)\n",
      "/opt/anaconda/lib/python2.7/site-packages/rpy2/robjects/functions.py:106: UserWarning: The following objects are masked from ‘package:base’:\n",
      "\n",
      "    anyDuplicated, append, as.data.frame, as.vector, cbind, colnames,\n",
      "    do.call, duplicated, eval, evalq, Filter, Find, get, grep, grepl,\n",
      "    intersect, is.unsorted, lapply, lengths, Map, mapply, match, mget,\n",
      "    order, paste, pmax, pmax.int, pmin, pmin.int, Position, rank,\n",
      "    rbind, Reduce, rownames, sapply, setdiff, sort, table, tapply,\n",
      "    union, unique, unlist, unsplit\n",
      "\n",
      "\n",
      "  res = super(Function, self).__call__(*new_args, **new_kwargs)\n",
      "/opt/anaconda/lib/python2.7/site-packages/rpy2/robjects/functions.py:106: UserWarning: \n",
      "Attaching package: ‘S4Vectors’\n",
      "\n",
      "\n",
      "  res = super(Function, self).__call__(*new_args, **new_kwargs)\n",
      "/opt/anaconda/lib/python2.7/site-packages/rpy2/robjects/functions.py:106: UserWarning: The following object is masked from ‘package:dplyr’:\n",
      "\n",
      "    rename\n",
      "\n",
      "\n",
      "  res = super(Function, self).__call__(*new_args, **new_kwargs)\n",
      "/opt/anaconda/lib/python2.7/site-packages/rpy2/robjects/functions.py:106: UserWarning: The following object is masked from ‘package:plyr’:\n",
      "\n",
      "    rename\n",
      "\n",
      "\n",
      "  res = super(Function, self).__call__(*new_args, **new_kwargs)\n",
      "/opt/anaconda/lib/python2.7/site-packages/rpy2/robjects/functions.py:106: UserWarning: Loading required package: IRanges\n",
      "\n",
      "  res = super(Function, self).__call__(*new_args, **new_kwargs)\n",
      "/opt/anaconda/lib/python2.7/site-packages/rpy2/robjects/functions.py:106: UserWarning: \n",
      "Attaching package: ‘IRanges’\n",
      "\n",
      "\n",
      "  res = super(Function, self).__call__(*new_args, **new_kwargs)\n",
      "/opt/anaconda/lib/python2.7/site-packages/rpy2/robjects/functions.py:106: UserWarning: The following objects are masked from ‘package:dplyr’:\n",
      "\n",
      "    collapse, desc, slice\n",
      "\n",
      "\n",
      "  res = super(Function, self).__call__(*new_args, **new_kwargs)\n",
      "/opt/anaconda/lib/python2.7/site-packages/rpy2/robjects/functions.py:106: UserWarning: The following object is masked from ‘package:plyr’:\n",
      "\n",
      "    desc\n",
      "\n",
      "\n",
      "  res = super(Function, self).__call__(*new_args, **new_kwargs)\n",
      "/opt/anaconda/lib/python2.7/site-packages/rpy2/robjects/functions.py:106: UserWarning: The following object is masked from ‘package:tidyr’:\n",
      "\n",
      "    expand\n",
      "\n",
      "\n",
      "  res = super(Function, self).__call__(*new_args, **new_kwargs)\n",
      "/opt/anaconda/lib/python2.7/site-packages/rpy2/robjects/functions.py:106: UserWarning: The following object is masked from ‘package:phyloseq’:\n",
      "\n",
      "    distance\n",
      "\n",
      "\n",
      "  res = super(Function, self).__call__(*new_args, **new_kwargs)\n",
      "/opt/anaconda/lib/python2.7/site-packages/rpy2/robjects/functions.py:106: UserWarning: Loading required package: GenomicRanges\n",
      "\n",
      "  res = super(Function, self).__call__(*new_args, **new_kwargs)\n",
      "/opt/anaconda/lib/python2.7/site-packages/rpy2/robjects/functions.py:106: UserWarning: Loading required package: GenomeInfoDb\n",
      "\n",
      "  res = super(Function, self).__call__(*new_args, **new_kwargs)\n",
      "/opt/anaconda/lib/python2.7/site-packages/rpy2/robjects/functions.py:106: UserWarning: Loading required package: SummarizedExperiment\n",
      "\n",
      "  res = super(Function, self).__call__(*new_args, **new_kwargs)\n",
      "/opt/anaconda/lib/python2.7/site-packages/rpy2/robjects/functions.py:106: UserWarning: Loading required package: Biobase\n",
      "\n",
      "  res = super(Function, self).__call__(*new_args, **new_kwargs)\n",
      "/opt/anaconda/lib/python2.7/site-packages/rpy2/robjects/functions.py:106: UserWarning: Welcome to Bioconductor\n",
      "\n",
      "    Vignettes contain introductory material; view with\n",
      "    'browseVignettes()'. To cite Bioconductor, see\n",
      "    'citation(\"Biobase\")', and for packages 'citation(\"pkgname\")'.\n",
      "\n",
      "\n",
      "  res = super(Function, self).__call__(*new_args, **new_kwargs)\n",
      "/opt/anaconda/lib/python2.7/site-packages/rpy2/robjects/functions.py:106: UserWarning: \n",
      "Attaching package: ‘Biobase’\n",
      "\n",
      "\n",
      "  res = super(Function, self).__call__(*new_args, **new_kwargs)\n",
      "/opt/anaconda/lib/python2.7/site-packages/rpy2/robjects/functions.py:106: UserWarning: The following object is masked from ‘package:phyloseq’:\n",
      "\n",
      "    sampleNames\n",
      "\n",
      "\n",
      "  res = super(Function, self).__call__(*new_args, **new_kwargs)\n",
      "/opt/anaconda/lib/python2.7/site-packages/rpy2/robjects/functions.py:106: UserWarning: Loading required package: Rcpp\n",
      "\n",
      "  res = super(Function, self).__call__(*new_args, **new_kwargs)\n",
      "/opt/anaconda/lib/python2.7/site-packages/rpy2/robjects/functions.py:106: UserWarning: Loading required package: RcppArmadillo\n",
      "\n",
      "  res = super(Function, self).__call__(*new_args, **new_kwargs)\n",
      "/opt/anaconda/lib/python2.7/site-packages/rpy2/robjects/functions.py:106: UserWarning: foreach: simple, scalable parallel programming from Revolution Analytics\n",
      "Use Revolution R for scalability, fault tolerance and more.\n",
      "http://www.revolutionanalytics.com\n",
      "\n",
      "  res = super(Function, self).__call__(*new_args, **new_kwargs)\n",
      "/opt/anaconda/lib/python2.7/site-packages/rpy2/robjects/functions.py:106: UserWarning: Loading required package: iterators\n",
      "\n",
      "  res = super(Function, self).__call__(*new_args, **new_kwargs)\n",
      "/opt/anaconda/lib/python2.7/site-packages/rpy2/robjects/functions.py:106: UserWarning: \n",
      "Attaching package: ‘gridExtra’\n",
      "\n",
      "\n",
      "  res = super(Function, self).__call__(*new_args, **new_kwargs)\n",
      "/opt/anaconda/lib/python2.7/site-packages/rpy2/robjects/functions.py:106: UserWarning: The following object is masked from ‘package:Biobase’:\n",
      "\n",
      "    combine\n",
      "\n",
      "\n",
      "  res = super(Function, self).__call__(*new_args, **new_kwargs)\n",
      "/opt/anaconda/lib/python2.7/site-packages/rpy2/robjects/functions.py:106: UserWarning: The following object is masked from ‘package:BiocGenerics’:\n",
      "\n",
      "    combine\n",
      "\n",
      "\n",
      "  res = super(Function, self).__call__(*new_args, **new_kwargs)\n",
      "/opt/anaconda/lib/python2.7/site-packages/rpy2/robjects/functions.py:106: UserWarning: The following object is masked from ‘package:dplyr’:\n",
      "\n",
      "    combine\n",
      "\n",
      "\n",
      "  res = super(Function, self).__call__(*new_args, **new_kwargs)\n"
     ]
    }
   ],
   "source": [
    "%%R\n",
    "library(phyloseq)\n",
    "library(tidyr)\n",
    "library(plyr); library(dplyr)\n",
    "library(DESeq2)\n",
    "library(foreach)\n",
    "library(doParallel)\n",
    "library(ggplot2)\n",
    "library(gridExtra)\n",
    "library(reshape2)\n",
    "library(RColorBrewer)"
   ]
  },
  {
   "cell_type": "markdown",
   "metadata": {},
   "source": [
    "#### Read in sample metadata and OTU table"
   ]
  },
  {
   "cell_type": "code",
   "execution_count": 4,
   "metadata": {
    "collapsed": false
   },
   "outputs": [
    {
     "data": {
      "text/plain": [
       "[1] \"/home/chantal/Chazy/data/phyloseq/ITS//bulk-core\"\n",
       "phyloseq-class experiment-level object\n",
       "otu_table()   OTU Table:         [ 2247 taxa and 48 samples ]\n",
       "sample_data() Sample Data:       [ 48 samples by 24 sample variables ]\n",
       "tax_table()   Taxonomy Table:    [ 2247 taxa by 7 taxonomic ranks ]\n"
      ]
     },
     "metadata": {},
     "output_type": "display_data"
    }
   ],
   "source": [
    "%%R\n",
    "\n",
    "F = file.path(physeqDir, physeqBulk)\n",
    "print(F)\n",
    "physeq.Bulk = readRDS(F)\n",
    "physeq.Bulk.m = physeq.Bulk %>% sample_data\n",
    "physeq.Bulk = prune_samples((physeq.Bulk.m$Land_Management != \"PAS\" & physeq.Bulk.m$Month %in% c(\"April\", \"November\")),\n",
    "                           physeq.Bulk)\n",
    "\n",
    "physeq.Bulk = subset_taxa(physeq.Bulk, Rank1==\"k__Fungi\")\n",
    "physeq.Bulk.m = physeq.Bulk %>% sample_data\n",
    "\n",
    "physeq.Bulk.m = physeq.Bulk %>% sample_data\n",
    "\n",
    "\n",
    "physeq.Bulk"
   ]
  },
  {
   "cell_type": "code",
   "execution_count": 5,
   "metadata": {
    "collapsed": true
   },
   "outputs": [],
   "source": [
    "%%R\n",
    "get_l2fc = function(physeq.obj, Land_Management, sparsity_threshold) {\n",
    "  \n",
    "    physeq.Bulk.m = physeq.obj %>% sample_data\n",
    "\n",
    "    p = prune_samples((physeq.Bulk.m$Land_Management == Land_Management),\n",
    "                           physeq.Bulk)\n",
    "   \n",
    "    \n",
    "    p = filter_taxa(p, function(x) sum(x > 0) > sparsity_threshold * length(x), TRUE)\n",
    " \n",
    "    dds = phyloseq_to_deseq2(p, ~ Month)\n",
    "    dds = DESeq(dds, quiet = TRUE, fitType = \"local\")\n",
    "        \n",
    "    theta = 1\n",
    "    r = results(dds, independentFiltering = FALSE)\n",
    "    r$OTU = rownames(r)\n",
    "   \n",
    "    d = data.frame(r[, c(\"OTU\",\"log2FoldChange\", \"lfcSE\", \"padj\")])\n",
    "\n",
    "   # d$padj = p.adjust(p, method = \"BH\")\n",
    "    TT = data.frame(tax_table(p))\n",
    "    TT$OTU = rownames(TT)\n",
    "    d = left_join(d, TT)\n",
    "\n",
    "\n",
    "    d\n",
    "}\n",
    "                    \n",
    "                  "
   ]
  },
  {
   "cell_type": "code",
   "execution_count": 6,
   "metadata": {
    "collapsed": false
   },
   "outputs": [
    {
     "data": {
      "text/plain": [
       "  Land_Management\n",
       "1             NTH\n",
       "2             NTR\n",
       "3             PTH\n",
       "4             PTR\n"
      ]
     },
     "metadata": {},
     "output_type": "display_data"
    }
   ],
   "source": [
    "%%R\n",
    "\n",
    "sdm = physeq.Bulk %>% sample_data %>% \n",
    "    filter(! is.na(Till)) %>%\n",
    "    select(Land_Management) %>%\n",
    "   distinct() %>%\n",
    "    arrange(Land_Management) \n",
    "  \n",
    "\n",
    "sdm"
   ]
  },
  {
   "cell_type": "code",
   "execution_count": 7,
   "metadata": {
    "collapsed": false
   },
   "outputs": [
    {
     "data": {
      "text/plain": [
       "Number of pairwise combinations of variables: 76 \n",
       "\n",
       "  Land_Management sparsity_threshold\n",
       "1             NTH               0.05\n",
       "2             NTR               0.05\n",
       "3             PTH               0.05\n",
       "4             PTR               0.05\n",
       "5             NTH               0.10\n",
       "6             NTR               0.10\n"
      ]
     },
     "metadata": {},
     "output_type": "display_data"
    }
   ],
   "source": [
    "%%R\n",
    "# adding range of sparsity thresholds (all pairwise)\n",
    "sdms = sdm %>%\n",
    "    unite(sdm, Land_Management, sep='___')\n",
    "\n",
    "sdms = expand.grid(sdms$sdm,\n",
    "                    sparsity_threshold = seq(0.05,0.95,0.05)) %>%\n",
    "    separate(Var1, c('Land_Management'), sep='___')\n",
    "\n",
    "\n",
    "cat('Number of pairwise combinations of variables:', sdms %>% nrow, '\\n\\n')\n",
    "head(sdms) "
   ]
  },
  {
   "cell_type": "code",
   "execution_count": 8,
   "metadata": {
    "collapsed": false
   },
   "outputs": [
    {
     "data": {
      "text/plain": [
       "  Land_Management sparsity_threshold\n",
       "1             NTH               0.05\n",
       "2             NTR               0.05\n",
       "3             PTH               0.05\n",
       "4             PTR               0.05\n",
       "5             NTH               0.10\n"
      ]
     },
     "metadata": {},
     "output_type": "display_data"
    }
   ],
   "source": [
    "%%R\n",
    "#For testing method\n",
    "test = head(sdms, 5)\n",
    "test"
   ]
  },
  {
   "cell_type": "code",
   "execution_count": 9,
   "metadata": {
    "collapsed": false
   },
   "outputs": [
    {
     "name": "stderr",
     "output_type": "stream",
     "text": [
      "/opt/anaconda/lib/python2.7/site-packages/rpy2/robjects/functions.py:106: UserWarning: converting counts to integer mode\n",
      "\n",
      "  res = super(Function, self).__call__(*new_args, **new_kwargs)\n",
      "/opt/anaconda/lib/python2.7/site-packages/rpy2/robjects/functions.py:106: UserWarning: converting counts to integer mode\n",
      "\n",
      "  res = super(Function, self).__call__(*new_args, **new_kwargs)\n",
      "/opt/anaconda/lib/python2.7/site-packages/rpy2/robjects/functions.py:106: UserWarning: converting counts to integer mode\n",
      "\n",
      "  res = super(Function, self).__call__(*new_args, **new_kwargs)\n",
      "/opt/anaconda/lib/python2.7/site-packages/rpy2/robjects/functions.py:106: UserWarning: converting counts to integer mode\n",
      "\n",
      "  res = super(Function, self).__call__(*new_args, **new_kwargs)\n",
      "/opt/anaconda/lib/python2.7/site-packages/rpy2/robjects/functions.py:106: UserWarning: converting counts to integer mode\n",
      "\n",
      "  res = super(Function, self).__call__(*new_args, **new_kwargs)\n",
      "/opt/anaconda/lib/python2.7/site-packages/rpy2/robjects/functions.py:106: UserWarning: converting counts to integer mode\n",
      "\n",
      "  res = super(Function, self).__call__(*new_args, **new_kwargs)\n",
      "/opt/anaconda/lib/python2.7/site-packages/rpy2/robjects/functions.py:106: UserWarning: converting counts to integer mode\n",
      "\n",
      "  res = super(Function, self).__call__(*new_args, **new_kwargs)\n",
      "/opt/anaconda/lib/python2.7/site-packages/rpy2/robjects/functions.py:106: UserWarning: converting counts to integer mode\n",
      "\n",
      "  res = super(Function, self).__call__(*new_args, **new_kwargs)\n",
      "/opt/anaconda/lib/python2.7/site-packages/rpy2/robjects/functions.py:106: UserWarning: Joining by: \"OTU\"\n",
      "\n",
      "  res = super(Function, self).__call__(*new_args, **new_kwargs)\n",
      "/opt/anaconda/lib/python2.7/site-packages/rpy2/robjects/functions.py:106: UserWarning: Joining by: \"OTU\"\n",
      "\n",
      "  res = super(Function, self).__call__(*new_args, **new_kwargs)\n",
      "/opt/anaconda/lib/python2.7/site-packages/rpy2/robjects/functions.py:106: UserWarning: Joining by: \"OTU\"\n",
      "\n",
      "  res = super(Function, self).__call__(*new_args, **new_kwargs)\n",
      "/opt/anaconda/lib/python2.7/site-packages/rpy2/robjects/functions.py:106: UserWarning: Joining by: \"OTU\"\n",
      "\n",
      "  res = super(Function, self).__call__(*new_args, **new_kwargs)\n",
      "/opt/anaconda/lib/python2.7/site-packages/rpy2/robjects/functions.py:106: UserWarning: Joining by: \"OTU\"\n",
      "\n",
      "  res = super(Function, self).__call__(*new_args, **new_kwargs)\n",
      "/opt/anaconda/lib/python2.7/site-packages/rpy2/robjects/functions.py:106: UserWarning: Joining by: \"OTU\"\n",
      "\n",
      "  res = super(Function, self).__call__(*new_args, **new_kwargs)\n",
      "/opt/anaconda/lib/python2.7/site-packages/rpy2/robjects/functions.py:106: UserWarning: Joining by: \"OTU\"\n",
      "\n",
      "  res = super(Function, self).__call__(*new_args, **new_kwargs)\n",
      "/opt/anaconda/lib/python2.7/site-packages/rpy2/robjects/functions.py:106: UserWarning: Joining by: \"OTU\"\n",
      "\n",
      "  res = super(Function, self).__call__(*new_args, **new_kwargs)\n"
     ]
    },
    {
     "data": {
      "text/plain": [
       "Source: local data frame [16,677 x 13]\n",
       "\n",
       "   Land_Management sparsity_threshold       OTU log2FoldChange    lfcSE\n",
       "             (chr)              (dbl)     (chr)          (dbl)    (dbl)\n",
       "1              NTH               0.05  OTU.6089     -3.6559483 2.048903\n",
       "2              NTH               0.05  OTU.2605     -1.8119042 1.875525\n",
       "3              NTH               0.05 OTU.21439      1.4294952 2.033000\n",
       "4              NTH               0.05 OTU.17326      2.1019132 2.110536\n",
       "5              NTH               0.05 OTU.14908     -1.3921759 1.992522\n",
       "6              NTH               0.05  OTU.6041      1.3870584 2.003298\n",
       "7              NTH               0.05 OTU.38654      1.4800435 2.112999\n",
       "8              NTH               0.05  OTU.6291      0.1944289 1.923281\n",
       "9              NTH               0.05  OTU.9364     -0.6291622 1.803921\n",
       "10             NTH               0.05   OTU.586     -0.1565847 1.969959\n",
       "..             ...                ...       ...            ...      ...\n",
       "Variables not shown: padj (dbl), Rank1 (fctr), Rank2 (fctr), Rank3 (fctr),\n",
       "  Rank4 (fctr), Rank5 (fctr), Rank6 (fctr), Rank7 (fctr)\n"
      ]
     },
     "metadata": {},
     "output_type": "display_data"
    }
   ],
   "source": [
    "%%R\n",
    "registerDoParallel(8)\n",
    "\n",
    "df.l2fc = tbl_df(mdply(sdms, \n",
    "                       get_l2fc, \n",
    "                       .parallel = TRUE, \n",
    "                       physeq.obj = physeq.Bulk))\n",
    "df.l2fc"
   ]
  },
  {
   "cell_type": "code",
   "execution_count": 10,
   "metadata": {
    "collapsed": false
   },
   "outputs": [
    {
     "data": {
      "text/plain": [
       "Source: local data frame [1 x 1]\n",
       "\n",
       "   meanl2fc\n",
       "      (dbl)\n",
       "1 0.5620666\n"
      ]
     },
     "metadata": {},
     "output_type": "display_data"
    }
   ],
   "source": [
    "%%R\n",
    "summarise(df.l2fc,\n",
    "  meanl2fc = mean(log2FoldChange, na.rm = TRUE))"
   ]
  },
  {
   "cell_type": "code",
   "execution_count": 11,
   "metadata": {
    "collapsed": false
   },
   "outputs": [
    {
     "data": {
      "text/plain": [
       "Source: local data frame [1 x 1]\n",
       "\n",
       "    sdl2fc\n",
       "     (dbl)\n",
       "1 1.871732\n"
      ]
     },
     "metadata": {},
     "output_type": "display_data"
    }
   ],
   "source": [
    "%%R\n",
    "summarise(df.l2fc,\n",
    "  sdl2fc = sd(log2FoldChange, na.rm = TRUE))"
   ]
  },
  {
   "cell_type": "code",
   "execution_count": 12,
   "metadata": {
    "collapsed": true
   },
   "outputs": [],
   "source": [
    "%%R\n",
    "df.l2fc$padj2 = p.adjust(df.l2fc$padj, method = \"BH\")"
   ]
  },
  {
   "cell_type": "code",
   "execution_count": 13,
   "metadata": {
    "collapsed": false
   },
   "outputs": [
    {
     "data": {
      "text/plain": [
       "[1] \"April\"    \"November\"\n"
      ]
     },
     "metadata": {},
     "output_type": "display_data"
    }
   ],
   "source": [
    "%%R\n",
    "levels(physeq.Bulk.m$Month)"
   ]
  },
  {
   "cell_type": "code",
   "execution_count": 14,
   "metadata": {
    "collapsed": true
   },
   "outputs": [],
   "source": [
    "%%R\n",
    "df.l2fc$Month[df.l2fc$log2FoldChange < 0] = \"April\"\n",
    "df.l2fc$Month[df.l2fc$log2FoldChange > 0] = \"November\""
   ]
  },
  {
   "cell_type": "code",
   "execution_count": 15,
   "metadata": {
    "collapsed": false
   },
   "outputs": [],
   "source": [
    "%%R\n",
    "write.table(df.l2fc, \"data/l2fc_AprilvsNov_all\", row.names = FALSE, sep = \",\")"
   ]
  },
  {
   "cell_type": "code",
   "execution_count": 16,
   "metadata": {
    "collapsed": false
   },
   "outputs": [],
   "source": [
    "%%R\n",
    "df.l2fc = read.table(\"data/l2fc_AprilvsNov_all\", header = TRUE, sep = \",\")"
   ]
  },
  {
   "cell_type": "code",
   "execution_count": 17,
   "metadata": {
    "collapsed": false
   },
   "outputs": [
    {
     "data": {
      "text/plain": [
       "      Land_Management sparsity_threshold       OTU log2FoldChange     lfcSE\n",
       "16672             PTR               0.95 OTU.82503      0.6362705 0.6374154\n",
       "16673             PTR               0.95   OTU.388      1.1199050 0.6957551\n",
       "16674             PTR               0.95   OTU.157      1.1602610 0.5891453\n",
       "16675             PTR               0.95   OTU.549      0.2467255 0.6166610\n",
       "16676             PTR               0.95 OTU.37716      2.7910410 0.6715595\n",
       "16677             PTR               0.95   OTU.102     -0.4721980 0.7319665\n",
       "             padj    Rank1            Rank2              Rank3           Rank4\n",
       "16672 0.832880192 k__Fungi    p__Ascomycota c__Sordariomycetes  o__Hypocreales\n",
       "16673 0.598423117 k__Fungi    p__Ascomycota               <NA>            <NA>\n",
       "16674 0.440167684 k__Fungi    p__Ascomycota    c__unidentified o__unidentified\n",
       "16675 0.855414034 k__Fungi p__Basidiomycota c__Tremellomycetes o__unidentified\n",
       "16676 0.001165624 k__Fungi    p__Ascomycota c__Dothideomycetes            <NA>\n",
       "16677 0.832880192 k__Fungi    p__Ascomycota c__Sordariomycetes  o__Hypocreales\n",
       "                   Rank5           Rank6                     Rank7     padj2\n",
       "16672               <NA>            <NA>                      <NA> 1.0000000\n",
       "16673               <NA>            <NA>                      <NA> 1.0000000\n",
       "16674    f__unidentified g__unidentified          s__Ascomycota sp 1.0000000\n",
       "16675    f__unidentified g__unidentified     s__Tremellomycetes sp 1.0000000\n",
       "16676               <NA>            <NA>                      <NA> 0.1802009\n",
       "16677 f__Clavicipitaceae  g__Metarhizium s__Metarhizium anisopliae 1.0000000\n",
       "         Month\n",
       "16672 November\n",
       "16673 November\n",
       "16674 November\n",
       "16675 November\n",
       "16676 November\n",
       "16677    April\n"
      ]
     },
     "metadata": {},
     "output_type": "display_data"
    }
   ],
   "source": [
    "%%R\n",
    "tail(df.l2fc)"
   ]
  },
  {
   "cell_type": "code",
   "execution_count": 18,
   "metadata": {
    "collapsed": false
   },
   "outputs": [
    {
     "data": {
      "text/plain": [
       "Source: local data frame [6 x 2]\n",
       "\n",
       "  sparsity_threshold n_reject_hypo\n",
       "               (dbl)         (int)\n",
       "1               0.05             4\n",
       "2               0.10             5\n",
       "3               0.15             5\n",
       "4               0.20             5\n",
       "5               0.25             5\n",
       "6               0.30             5\n"
      ]
     },
     "metadata": {},
     "output_type": "display_data"
    }
   ],
   "source": [
    "%%R\n",
    "\n",
    "padj.cutoff = 0.10\n",
    "\n",
    "df.l2fc.rejH = df.l2fc %>%\n",
    "    filter(padj2 <= padj.cutoff) %>%\n",
    "    group_by(sparsity_threshold) %>%\n",
    "    summarize(n_reject_hypo = n()) %>%\n",
    "    ungroup\n",
    "\n",
    "df.l2fc.rejH %>% head(n=6)"
   ]
  },
  {
   "cell_type": "code",
   "execution_count": 19,
   "metadata": {
    "collapsed": false
   },
   "outputs": [
    {
     "data": {
      "text/plain": [
       "  sparsity_threshold n_reject_hypo\n",
       "1               0.05             4\n",
       "2               0.10             5\n",
       "3               0.15             5\n"
      ]
     },
     "metadata": {},
     "output_type": "display_data"
    }
   ],
   "source": [
    "%%R\n",
    "\n",
    "padj.cutoff = 0.10\n",
    "\n",
    "df.l2fc.rejH.s = df.l2fc %>%\n",
    "    filter(padj2 <= padj.cutoff) %>%\n",
    "    group_by(sparsity_threshold) %>%\n",
    "    summarize(n_reject_hypo = n()) %>%\n",
    "    ungroup\n",
    "\n",
    "df.l2fc.rejH.s %>% head(n=3) %>% as.data.frame"
   ]
  },
  {
   "cell_type": "code",
   "execution_count": 20,
   "metadata": {
    "collapsed": false
   },
   "outputs": [
    {
     "data": {
      "text/plain": [
       "[1] 0.35\n"
      ]
     },
     "metadata": {},
     "output_type": "display_data"
    }
   ],
   "source": [
    "%%R\n",
    "# max number of rejected hypos \n",
    "max.rejH = df.l2fc.rejH.s %>%\n",
    "    arrange(desc(n_reject_hypo)) %>%\n",
    "    head(n=1)\n",
    "max.rejH = max.rejH$sparsity_threshold\n",
    "max.rejH"
   ]
  },
  {
   "cell_type": "code",
   "execution_count": 21,
   "metadata": {
    "collapsed": false
   },
   "outputs": [
    {
     "data": {
      "image/png": "[encoded data removed]"
     },
     "metadata": {},
     "output_type": "display_data"
    }
   ],
   "source": [
    "%%R -w 450 -h 400\n",
    "\n",
    "ggplot(df.l2fc.rejH.s, aes(sparsity_threshold, n_reject_hypo)) +\n",
    "    geom_point(size=3) +\n",
    "    geom_vline(xintercept=max.rejH, linetype='dashed', alpha=0.5) +\n",
    "    labs(x='Sparsity threshold', y='Number of rejected hypotheses') +\n",
    "    theme_bw() +\n",
    "    theme(\n",
    "        text = element_text(size=18),\n",
    "        axis.title.y = element_text(vjust=1)\n",
    "        )"
   ]
  },
  {
   "cell_type": "code",
   "execution_count": 22,
   "metadata": {
    "collapsed": false
   },
   "outputs": [
    {
     "data": {
      "text/plain": [
       "[1] 831\n"
      ]
     },
     "metadata": {},
     "output_type": "display_data"
    }
   ],
   "source": [
    "%%R\n",
    "df.l2fc.f = df.l2fc %>%\n",
    "    filter(sparsity_threshold == max.rejH) \n",
    "\n",
    "df.l2fc.f %>% nrow"
   ]
  },
  {
   "cell_type": "code",
   "execution_count": 23,
   "metadata": {
    "collapsed": false
   },
   "outputs": [
    {
     "data": {
      "text/plain": [
       "  Land_Management sparsity_threshold      OTU log2FoldChange     lfcSE\n",
       "1             NTH               0.35 OTU.1470    -1.29318808 1.1126845\n",
       "2             NTH               0.35 OTU.5914     0.28924332 1.1489257\n",
       "3             NTH               0.35  OTU.133    -0.87474580 0.6549149\n",
       "4             NTH               0.35   OTU.45    -0.03553787 0.6013082\n",
       "5             NTH               0.35 OTU.2583    -0.88649111 1.1450653\n",
       "6             NTH               0.35 OTU.3002     0.07886558 1.2214179\n",
       "       padj    Rank1            Rank2              Rank3           Rank4\n",
       "1 0.6622789 k__Fungi p__Basidiomycota  c__Agaricomycetes   o__Agaricales\n",
       "2 0.9699355 k__Fungi  p__unidentified    c__unidentified o__unidentified\n",
       "3 0.5407220 k__Fungi    p__Ascomycota c__Sordariomycetes  o__Hypocreales\n",
       "4 0.9859889 k__Fungi p__Basidiomycota  c__Agaricomycetes  o__Polyporales\n",
       "5 0.7895758 k__Fungi p__Basidiomycota  c__Agaricomycetes   o__Agaricales\n",
       "6 0.9859889 k__Fungi p__Basidiomycota  c__Agaricomycetes   o__Agaricales\n",
       "               Rank5           Rank6                     Rank7 padj2    Month\n",
       "1     f__Agaricaceae   g__Lycoperdon                      <NA>     1    April\n",
       "2    f__unidentified g__unidentified               s__Fungi sp     1 November\n",
       "3    f__Hypocreaceae            <NA>                      <NA>     1    April\n",
       "4 f__Ganodermataceae    g__Ganoderma                      <NA>     1    April\n",
       "5 f__Psathyrellaceae  g__Coprinellus s__Coprinellus eurysporus     1    April\n",
       "6  f__Entolomataceae     g__Entoloma                      <NA>     1 November\n"
      ]
     },
     "metadata": {},
     "output_type": "display_data"
    }
   ],
   "source": [
    "%%R\n",
    "head(df.l2fc.f)"
   ]
  },
  {
   "cell_type": "code",
   "execution_count": 24,
   "metadata": {
    "collapsed": false
   },
   "outputs": [],
   "source": [
    "%%R #-i workDir\n",
    "# Writing out l2fc table\n",
    "\n",
    "outFile = 'data/l2fc_sparse-maxRejH_AprilvsNov.txt'\n",
    "write.table(df.l2fc.f, 'data/l2fc_sparse-maxRejH_AprilvsNov.txt', sep='\\t', quote=FALSE, row.names=FALSE)"
   ]
  },
  {
   "cell_type": "code",
   "execution_count": 25,
   "metadata": {
    "collapsed": false
   },
   "outputs": [],
   "source": [
    "%%R\n",
    "df.l2fc = read.table('data/l2fc_sparse-maxRejH_AprilvsNov.txt', sep='\\t', header = TRUE)"
   ]
  },
  {
   "cell_type": "code",
   "execution_count": 26,
   "metadata": {
    "collapsed": true
   },
   "outputs": [],
   "source": [
    "%%R\n",
    "df.l2fc$Rank2 = gsub(\"__\", \"\", df.l2fc$Rank2)\n",
    "df.l2fc$Rank3 = gsub(\"__\", \"\", df.l2fc$Rank3)\n",
    "df.l2fc$Rank4 = gsub(\"__\", \"\", df.l2fc$Rank4)\n",
    "df.l2fc$Rank5 = gsub(\"__\", \"\", df.l2fc$Rank5)\n",
    "df.l2fc$Rank6 = gsub(\"__\", \"\", df.l2fc$Rank6)\n",
    "df.l2fc$Rank7 = gsub('__', \"\", df.l2fc$Rank7)"
   ]
  },
  {
   "cell_type": "markdown",
   "metadata": {},
   "source": [
    "####Function arguments"
   ]
  },
  {
   "cell_type": "code",
   "execution_count": 27,
   "metadata": {
    "collapsed": false
   },
   "outputs": [
    {
     "data": {
      "text/plain": [
       "     Month Land_Management resp\n",
       "1 November             NTH    3\n",
       "2 November             NTR    2\n",
       "3 November             PTH    1\n"
      ]
     },
     "metadata": {},
     "output_type": "display_data"
    }
   ],
   "source": [
    "%%R\n",
    "resp = df.l2fc %>% filter(padj2 <=0.10) %>% group_by(Month, Land_Management) %>% summarise(resp = n())\n",
    "resp %>% as.data.frame"
   ]
  },
  {
   "cell_type": "code",
   "execution_count": 28,
   "metadata": {
    "collapsed": false
   },
   "outputs": [
    {
     "data": {
      "image/png": "[encoded data removed]"
     },
     "metadata": {},
     "output_type": "display_data"
    }
   ],
   "source": [
    "%%R -w 1000 -h 500\n",
    "d = df.l2fc\n",
    "FDR = 0.10\n",
    "\n",
    "d$Rank2 = as.character(d$Rank2)\n",
    "d$Rank2[is.na(d$Rank2)] = \"unclassified\"\n",
    "d$Rank2 = factor(d$Rank2)\n",
    "\n",
    "max.l2fc = ddply(d, .(Rank2), summarize, M = max(log2FoldChange))\n",
    "d$Rank2 = factor(d$Rank2, max.l2fc[order(-max.l2fc$M),]$Rank2)\n",
    "\n",
    "M = max(as.numeric(d$Rank2), na.rm = TRUE) + 1\n",
    "d$x = as.numeric(d$Rank2)\n",
    "d$x[is.na(d$x)] = M\n",
    "d$x.jitter = d$x + runif(length(d$x), -1, 1) * 0.2\n",
    "\n",
    "colourCount = length(unique(d$Rank2)) + 1\n",
    "getPalette = colorRampPalette(brewer.pal(10, \"Dark2\"))\n",
    "\n",
    "p = ggplot(d, aes(x = x.jitter, y = log2FoldChange, color = Rank2))\n",
    "p = p + facet_grid(~Land_Management)\n",
    "\n",
    "p = p + geom_point(alpha = 1.00, shape = 21, size = 1.5)\n",
    "\n",
    "p = p + scale_color_manual(values = getPalette(colourCount))\n",
    "\n",
    "p = p + geom_point(data = subset(d, padj2 <= FDR), color = \"black\", shape = 4, size = 2)\n",
    "\n",
    "#p = p + geom_hline(y = 1.3)\n",
    "\n",
    "p = p + theme_bw()\n",
    "\n",
    "p = p + theme(axis.text.x = element_blank())\n",
    "\n",
    "p = p + labs(x = \"Phylum\", color = \"Phylum\")\n",
    "\n",
    "p = p + guides(col = guide_legend(ncol = 2))\n",
    "\n",
    "p = p + labs(y = expression(paste(\"\", log[2],\" Fold Change\",sep=\"\")))\n",
    "\n",
    "p = p + guides(colour = guide_legend(override.aes = list(size=4)))\n",
    "\n",
    "p"
   ]
  },
  {
   "cell_type": "code",
   "execution_count": 29,
   "metadata": {
    "collapsed": false
   },
   "outputs": [
    {
     "data": {
      "image/png": "[encoded data removed]"
     },
     "metadata": {},
     "output_type": "display_data"
    }
   ],
   "source": [
    "%%R -w 1000 -h 400\n",
    "d = df.l2fc\n",
    "\n",
    "d = filter(d, padj2 <=0.10)\n",
    "FDR = 0.10\n",
    "\n",
    "d$Rank2 = as.character(d$Rank3)\n",
    "d$Rank2[is.na(d$Rank3)] = \"unclassified\"\n",
    "d$Rank2 = factor(d$Rank3)\n",
    "\n",
    "max.l2fc = ddply(d, .(Rank3), summarize, M = max(log2FoldChange))\n",
    "d$Rank2 = factor(d$Rank3, max.l2fc[order(-max.l2fc$M),]$Rank3)\n",
    "\n",
    "M = max(as.numeric(d$Rank3), na.rm = TRUE) + 1\n",
    "d$x = as.numeric(d$Rank3)\n",
    "d$x[is.na(d$x)] = M\n",
    "d$x.jitter = d$x + runif(length(d$x), -1, 1) * 0.2\n",
    "\n",
    "colourCount = length(unique(d$Rank3)) + 1\n",
    "getPalette = colorRampPalette(brewer.pal(10, \"Dark2\"))\n",
    "\n",
    "p = ggplot(d, aes(x = Rank3, y = log2FoldChange, fill = Rank3))\n",
    "p = p + facet_grid(~Land_Management)\n",
    "\n",
    "p = p + geom_point(alpha = 1.00, shape = 21, size = 2.5)\n",
    "\n",
    "p = p + scale_color_manual(values = getPalette(colourCount))\n",
    "\n",
    "#p = p + geom_point(data = subset(d, padj2 <= FDR), color = \"black\", shape = 4, size = 2)\n",
    "\n",
    "#p = p + geom_hline(y = 1.3)\n",
    "\n",
    "p = p + theme_bw()\n",
    "\n",
    "p = p + theme(axis.text.x = element_blank())\n",
    "\n",
    "p = p + labs(x = \"Class\", fill = \"Class\")\n",
    "\n",
    "p = p + guides(col = guide_legend(ncol = 2))\n",
    "\n",
    "p = p + labs(y = expression(paste(\"\", log[2],\" Fold Change\",sep=\"\")))\n",
    "\n",
    "p = p + guides(colour = guide_legend(override.aes = list(size=4))) +\n",
    "        theme(text = element_text(size=14), axis.text.x = element_text(angle=90, vjust=1)) +\n",
    "        guides(fill = FALSE) + ggtitle('April vs November')\n",
    "\n",
    "\n",
    "p"
   ]
  }
 ],
 "metadata": {
  "kernelspec": {
   "display_name": "Python 2",
   "language": "python",
   "name": "python2"
  },
  "language_info": {
   "codemirror_mode": {
    "name": "ipython",
    "version": 2
   },
   "file_extension": ".py",
   "mimetype": "text/x-python",
   "name": "python",
   "nbconvert_exporter": "python",
   "pygments_lexer": "ipython2",
   "version": "2.7.11"
  }
 },
 "nbformat": 4,
 "nbformat_minor": 0
}
