{
 "cells": [
  {
   "cell_type": "code",
   "execution_count": 1,
   "metadata": {
    "collapsed": false
   },
   "outputs": [],
   "source": [
    "%load_ext rpy2.ipython"
   ]
  },
  {
   "cell_type": "code",
   "execution_count": 2,
   "metadata": {
    "collapsed": true
   },
   "outputs": [],
   "source": [
    "%%R\n",
    "workDir = '/home/chantal/Chazy/Bulk/ITS/data/'\n",
    "figDir = '/home/chantal/Chazy/Bulk/ITS/figs/'\n",
    "\n",
    "physeqDir = '/home/chantal/Chazy/data/phyloseq/ITS/'\n",
    "physeqBulk = 'bulk-core'\n",
    "\n",
    "\n",
    "nprocs = 20"
   ]
  },
  {
   "cell_type": "code",
   "execution_count": 3,
   "metadata": {
    "collapsed": false
   },
   "outputs": [
    {
     "name": "stderr",
     "output_type": "stream",
     "text": [
      "/opt/anaconda/lib/python2.7/site-packages/rpy2/robjects/functions.py:106: UserWarning: \n",
      "Attaching package: ‘dplyr’\n",
      "\n",
      "\n",
      "  res = super(Function, self).__call__(*new_args, **new_kwargs)\n",
      "/opt/anaconda/lib/python2.7/site-packages/rpy2/robjects/functions.py:106: UserWarning: The following objects are masked from ‘package:plyr’:\n",
      "\n",
      "    arrange, count, desc, failwith, id, mutate, rename, summarise,\n",
      "    summarize\n",
      "\n",
      "\n",
      "  res = super(Function, self).__call__(*new_args, **new_kwargs)\n",
      "/opt/anaconda/lib/python2.7/site-packages/rpy2/robjects/functions.py:106: UserWarning: The following objects are masked from ‘package:stats’:\n",
      "\n",
      "    filter, lag\n",
      "\n",
      "\n",
      "  res = super(Function, self).__call__(*new_args, **new_kwargs)\n",
      "/opt/anaconda/lib/python2.7/site-packages/rpy2/robjects/functions.py:106: UserWarning: The following objects are masked from ‘package:base’:\n",
      "\n",
      "    intersect, setdiff, setequal, union\n",
      "\n",
      "\n",
      "  res = super(Function, self).__call__(*new_args, **new_kwargs)\n",
      "/opt/anaconda/lib/python2.7/site-packages/rpy2/robjects/functions.py:106: UserWarning: Loading required package: S4Vectors\n",
      "\n",
      "  res = super(Function, self).__call__(*new_args, **new_kwargs)\n",
      "/opt/anaconda/lib/python2.7/site-packages/rpy2/robjects/functions.py:106: UserWarning: Loading required package: stats4\n",
      "\n",
      "  res = super(Function, self).__call__(*new_args, **new_kwargs)\n",
      "/opt/anaconda/lib/python2.7/site-packages/rpy2/robjects/functions.py:106: UserWarning: Loading required package: BiocGenerics\n",
      "\n",
      "  res = super(Function, self).__call__(*new_args, **new_kwargs)\n",
      "/opt/anaconda/lib/python2.7/site-packages/rpy2/robjects/functions.py:106: UserWarning: Loading required package: parallel\n",
      "\n",
      "  res = super(Function, self).__call__(*new_args, **new_kwargs)\n",
      "/opt/anaconda/lib/python2.7/site-packages/rpy2/robjects/functions.py:106: UserWarning: \n",
      "Attaching package: ‘BiocGenerics’\n",
      "\n",
      "\n",
      "  res = super(Function, self).__call__(*new_args, **new_kwargs)\n",
      "/opt/anaconda/lib/python2.7/site-packages/rpy2/robjects/functions.py:106: UserWarning: The following objects are masked from ‘package:parallel’:\n",
      "\n",
      "    clusterApply, clusterApplyLB, clusterCall, clusterEvalQ,\n",
      "    clusterExport, clusterMap, parApply, parCapply, parLapply,\n",
      "    parLapplyLB, parRapply, parSapply, parSapplyLB\n",
      "\n",
      "\n",
      "  res = super(Function, self).__call__(*new_args, **new_kwargs)\n",
      "/opt/anaconda/lib/python2.7/site-packages/rpy2/robjects/functions.py:106: UserWarning: The following objects are masked from ‘package:dplyr’:\n",
      "\n",
      "    combine, intersect, setdiff, union\n",
      "\n",
      "\n",
      "  res = super(Function, self).__call__(*new_args, **new_kwargs)\n",
      "/opt/anaconda/lib/python2.7/site-packages/rpy2/robjects/functions.py:106: UserWarning: The following objects are masked from ‘package:stats’:\n",
      "\n",
      "    IQR, mad, xtabs\n",
      "\n",
      "\n",
      "  res = super(Function, self).__call__(*new_args, **new_kwargs)\n",
      "/opt/anaconda/lib/python2.7/site-packages/rpy2/robjects/functions.py:106: UserWarning: The following objects are masked from ‘package:base’:\n",
      "\n",
      "    anyDuplicated, append, as.data.frame, as.vector, cbind, colnames,\n",
      "    do.call, duplicated, eval, evalq, Filter, Find, get, grep, grepl,\n",
      "    intersect, is.unsorted, lapply, lengths, Map, mapply, match, mget,\n",
      "    order, paste, pmax, pmax.int, pmin, pmin.int, Position, rank,\n",
      "    rbind, Reduce, rownames, sapply, setdiff, sort, table, tapply,\n",
      "    union, unique, unlist, unsplit\n",
      "\n",
      "\n",
      "  res = super(Function, self).__call__(*new_args, **new_kwargs)\n",
      "/opt/anaconda/lib/python2.7/site-packages/rpy2/robjects/functions.py:106: UserWarning: \n",
      "Attaching package: ‘S4Vectors’\n",
      "\n",
      "\n",
      "  res = super(Function, self).__call__(*new_args, **new_kwargs)\n",
      "/opt/anaconda/lib/python2.7/site-packages/rpy2/robjects/functions.py:106: UserWarning: The following object is masked from ‘package:dplyr’:\n",
      "\n",
      "    rename\n",
      "\n",
      "\n",
      "  res = super(Function, self).__call__(*new_args, **new_kwargs)\n",
      "/opt/anaconda/lib/python2.7/site-packages/rpy2/robjects/functions.py:106: UserWarning: The following object is masked from ‘package:plyr’:\n",
      "\n",
      "    rename\n",
      "\n",
      "\n",
      "  res = super(Function, self).__call__(*new_args, **new_kwargs)\n",
      "/opt/anaconda/lib/python2.7/site-packages/rpy2/robjects/functions.py:106: UserWarning: Loading required package: IRanges\n",
      "\n",
      "  res = super(Function, self).__call__(*new_args, **new_kwargs)\n",
      "/opt/anaconda/lib/python2.7/site-packages/rpy2/robjects/functions.py:106: UserWarning: \n",
      "Attaching package: ‘IRanges’\n",
      "\n",
      "\n",
      "  res = super(Function, self).__call__(*new_args, **new_kwargs)\n",
      "/opt/anaconda/lib/python2.7/site-packages/rpy2/robjects/functions.py:106: UserWarning: The following objects are masked from ‘package:dplyr’:\n",
      "\n",
      "    collapse, desc, slice\n",
      "\n",
      "\n",
      "  res = super(Function, self).__call__(*new_args, **new_kwargs)\n",
      "/opt/anaconda/lib/python2.7/site-packages/rpy2/robjects/functions.py:106: UserWarning: The following object is masked from ‘package:plyr’:\n",
      "\n",
      "    desc\n",
      "\n",
      "\n",
      "  res = super(Function, self).__call__(*new_args, **new_kwargs)\n",
      "/opt/anaconda/lib/python2.7/site-packages/rpy2/robjects/functions.py:106: UserWarning: The following object is masked from ‘package:tidyr’:\n",
      "\n",
      "    expand\n",
      "\n",
      "\n",
      "  res = super(Function, self).__call__(*new_args, **new_kwargs)\n",
      "/opt/anaconda/lib/python2.7/site-packages/rpy2/robjects/functions.py:106: UserWarning: The following object is masked from ‘package:phyloseq’:\n",
      "\n",
      "    distance\n",
      "\n",
      "\n",
      "  res = super(Function, self).__call__(*new_args, **new_kwargs)\n",
      "/opt/anaconda/lib/python2.7/site-packages/rpy2/robjects/functions.py:106: UserWarning: Loading required package: GenomicRanges\n",
      "\n",
      "  res = super(Function, self).__call__(*new_args, **new_kwargs)\n",
      "/opt/anaconda/lib/python2.7/site-packages/rpy2/robjects/functions.py:106: UserWarning: Loading required package: GenomeInfoDb\n",
      "\n",
      "  res = super(Function, self).__call__(*new_args, **new_kwargs)\n",
      "/opt/anaconda/lib/python2.7/site-packages/rpy2/robjects/functions.py:106: UserWarning: Loading required package: SummarizedExperiment\n",
      "\n",
      "  res = super(Function, self).__call__(*new_args, **new_kwargs)\n",
      "/opt/anaconda/lib/python2.7/site-packages/rpy2/robjects/functions.py:106: UserWarning: Loading required package: Biobase\n",
      "\n",
      "  res = super(Function, self).__call__(*new_args, **new_kwargs)\n",
      "/opt/anaconda/lib/python2.7/site-packages/rpy2/robjects/functions.py:106: UserWarning: Welcome to Bioconductor\n",
      "\n",
      "    Vignettes contain introductory material; view with\n",
      "    'browseVignettes()'. To cite Bioconductor, see\n",
      "    'citation(\"Biobase\")', and for packages 'citation(\"pkgname\")'.\n",
      "\n",
      "\n",
      "  res = super(Function, self).__call__(*new_args, **new_kwargs)\n",
      "/opt/anaconda/lib/python2.7/site-packages/rpy2/robjects/functions.py:106: UserWarning: \n",
      "Attaching package: ‘Biobase’\n",
      "\n",
      "\n",
      "  res = super(Function, self).__call__(*new_args, **new_kwargs)\n",
      "/opt/anaconda/lib/python2.7/site-packages/rpy2/robjects/functions.py:106: UserWarning: The following object is masked from ‘package:phyloseq’:\n",
      "\n",
      "    sampleNames\n",
      "\n",
      "\n",
      "  res = super(Function, self).__call__(*new_args, **new_kwargs)\n",
      "/opt/anaconda/lib/python2.7/site-packages/rpy2/robjects/functions.py:106: UserWarning: Loading required package: Rcpp\n",
      "\n",
      "  res = super(Function, self).__call__(*new_args, **new_kwargs)\n",
      "/opt/anaconda/lib/python2.7/site-packages/rpy2/robjects/functions.py:106: UserWarning: Loading required package: RcppArmadillo\n",
      "\n",
      "  res = super(Function, self).__call__(*new_args, **new_kwargs)\n",
      "/opt/anaconda/lib/python2.7/site-packages/rpy2/robjects/functions.py:106: UserWarning: foreach: simple, scalable parallel programming from Revolution Analytics\n",
      "Use Revolution R for scalability, fault tolerance and more.\n",
      "http://www.revolutionanalytics.com\n",
      "\n",
      "  res = super(Function, self).__call__(*new_args, **new_kwargs)\n",
      "/opt/anaconda/lib/python2.7/site-packages/rpy2/robjects/functions.py:106: UserWarning: Loading required package: iterators\n",
      "\n",
      "  res = super(Function, self).__call__(*new_args, **new_kwargs)\n",
      "/opt/anaconda/lib/python2.7/site-packages/rpy2/robjects/functions.py:106: UserWarning: \n",
      "Attaching package: ‘gridExtra’\n",
      "\n",
      "\n",
      "  res = super(Function, self).__call__(*new_args, **new_kwargs)\n",
      "/opt/anaconda/lib/python2.7/site-packages/rpy2/robjects/functions.py:106: UserWarning: The following object is masked from ‘package:Biobase’:\n",
      "\n",
      "    combine\n",
      "\n",
      "\n",
      "  res = super(Function, self).__call__(*new_args, **new_kwargs)\n",
      "/opt/anaconda/lib/python2.7/site-packages/rpy2/robjects/functions.py:106: UserWarning: The following object is masked from ‘package:BiocGenerics’:\n",
      "\n",
      "    combine\n",
      "\n",
      "\n",
      "  res = super(Function, self).__call__(*new_args, **new_kwargs)\n",
      "/opt/anaconda/lib/python2.7/site-packages/rpy2/robjects/functions.py:106: UserWarning: The following object is masked from ‘package:dplyr’:\n",
      "\n",
      "    combine\n",
      "\n",
      "\n",
      "  res = super(Function, self).__call__(*new_args, **new_kwargs)\n"
     ]
    }
   ],
   "source": [
    "%%R\n",
    "library(phyloseq)\n",
    "library(tidyr)\n",
    "library(plyr); library(dplyr)\n",
    "library(DESeq2)\n",
    "library(foreach)\n",
    "library(doParallel)\n",
    "library(ggplot2)\n",
    "library(gridExtra)\n",
    "library(reshape2)\n",
    "library(RColorBrewer)"
   ]
  },
  {
   "cell_type": "markdown",
   "metadata": {},
   "source": [
    "#### Read in sample metadata and OTU table"
   ]
  },
  {
   "cell_type": "code",
   "execution_count": 4,
   "metadata": {
    "collapsed": false
   },
   "outputs": [
    {
     "data": {
      "text/plain": [
       "[1] \"/home/chantal/Chazy/data/phyloseq/ITS//bulk-core\"\n",
       "phyloseq-class experiment-level object\n",
       "otu_table()   OTU Table:         [ 2247 taxa and 32 samples ]\n",
       "sample_data() Sample Data:       [ 32 samples by 24 sample variables ]\n",
       "tax_table()   Taxonomy Table:    [ 2247 taxa by 7 taxonomic ranks ]\n"
      ]
     },
     "metadata": {},
     "output_type": "display_data"
    }
   ],
   "source": [
    "%%R\n",
    "\n",
    "F = file.path(physeqDir, physeqBulk)\n",
    "print(F)\n",
    "physeq.Bulk = readRDS(F)\n",
    "physeq.Bulk.m = physeq.Bulk %>% sample_data\n",
    "\n",
    "physeq.Bulk = subset_taxa(physeq.Bulk, Rank1==\"k__Fungi\")\n",
    "physeq.Bulk.m = physeq.Bulk %>% sample_data\n",
    "\n",
    "physeq.Bulk = prune_samples((physeq.Bulk.m$Land_Management != \"PAS\" & physeq.Bulk.m$Month %in% c(\"August\", \"April\")),\n",
    "                           physeq.Bulk)\n",
    "physeq.Bulk.m = physeq.Bulk %>% sample_data\n",
    "\n",
    "\n",
    "physeq.Bulk"
   ]
  },
  {
   "cell_type": "code",
   "execution_count": 5,
   "metadata": {
    "collapsed": true
   },
   "outputs": [],
   "source": [
    "%%R\n",
    "get_l2fc = function(physeq.obj, Land_Management, sparsity_threshold) {\n",
    "  \n",
    "    physeq.Bulk.m = physeq.obj %>% sample_data\n",
    "\n",
    "    p = prune_samples((physeq.Bulk.m$Land_Management == Land_Management),\n",
    "                           physeq.Bulk)\n",
    "   \n",
    "    \n",
    "    p = filter_taxa(p, function(x) sum(x > 0) > sparsity_threshold * length(x), TRUE)\n",
    " \n",
    "    dds = phyloseq_to_deseq2(p, ~ Month)\n",
    "    dds = DESeq(dds, quiet = TRUE, fitType = \"local\")\n",
    "        \n",
    "    theta = 1\n",
    "    r = results(dds, independentFiltering = FALSE)\n",
    "    r$OTU = rownames(r)\n",
    "   \n",
    "    d = data.frame(r[, c(\"OTU\",\"log2FoldChange\", \"lfcSE\", \"padj\")])\n",
    "\n",
    "   # d$padj = p.adjust(p, method = \"BH\")\n",
    "    TT = data.frame(tax_table(p))\n",
    "    TT$OTU = rownames(TT)\n",
    "    d = left_join(d, TT)\n",
    "\n",
    "\n",
    "    d\n",
    "}\n",
    "                    \n",
    "                  "
   ]
  },
  {
   "cell_type": "code",
   "execution_count": 6,
   "metadata": {
    "collapsed": false
   },
   "outputs": [
    {
     "data": {
      "text/plain": [
       "  Land_Management\n",
       "1             NTH\n",
       "2             NTR\n",
       "3             PTH\n",
       "4             PTR\n"
      ]
     },
     "metadata": {},
     "output_type": "display_data"
    }
   ],
   "source": [
    "%%R\n",
    "\n",
    "sdm = physeq.Bulk %>% sample_data %>% \n",
    "    filter(! is.na(Till)) %>%\n",
    "    select(Land_Management) %>%\n",
    "   distinct() %>%\n",
    "    arrange(Land_Management) \n",
    "  \n",
    "\n",
    "sdm"
   ]
  },
  {
   "cell_type": "code",
   "execution_count": 7,
   "metadata": {
    "collapsed": false
   },
   "outputs": [
    {
     "data": {
      "text/plain": [
       "Number of pairwise combinations of variables: 76 \n",
       "\n",
       "  Land_Management sparsity_threshold\n",
       "1             NTH               0.05\n",
       "2             NTR               0.05\n",
       "3             PTH               0.05\n",
       "4             PTR               0.05\n",
       "5             NTH               0.10\n",
       "6             NTR               0.10\n"
      ]
     },
     "metadata": {},
     "output_type": "display_data"
    }
   ],
   "source": [
    "%%R\n",
    "# adding range of sparsity thresholds (all pairwise)\n",
    "sdms = sdm %>%\n",
    "    unite(sdm, Land_Management, sep='___')\n",
    "\n",
    "sdms = expand.grid(sdms$sdm,\n",
    "                    sparsity_threshold = seq(0.05,0.95,0.05)) %>%\n",
    "    separate(Var1, c('Land_Management'), sep='___')\n",
    "\n",
    "\n",
    "cat('Number of pairwise combinations of variables:', sdms %>% nrow, '\\n\\n')\n",
    "head(sdms) "
   ]
  },
  {
   "cell_type": "code",
   "execution_count": 8,
   "metadata": {
    "collapsed": false
   },
   "outputs": [
    {
     "data": {
      "text/plain": [
       "  Land_Management sparsity_threshold\n",
       "1             NTH               0.05\n",
       "2             NTR               0.05\n",
       "3             PTH               0.05\n",
       "4             PTR               0.05\n",
       "5             NTH               0.10\n"
      ]
     },
     "metadata": {},
     "output_type": "display_data"
    }
   ],
   "source": [
    "%%R\n",
    "#For testing method\n",
    "test = head(sdms, 5)\n",
    "test"
   ]
  },
  {
   "cell_type": "code",
   "execution_count": 9,
   "metadata": {
    "collapsed": false
   },
   "outputs": [
    {
     "name": "stderr",
     "output_type": "stream",
     "text": [
      "/opt/anaconda/lib/python2.7/site-packages/rpy2/robjects/functions.py:106: UserWarning: converting counts to integer mode\n",
      "\n",
      "  res = super(Function, self).__call__(*new_args, **new_kwargs)\n",
      "/opt/anaconda/lib/python2.7/site-packages/rpy2/robjects/functions.py:106: UserWarning: converting counts to integer mode\n",
      "\n",
      "  res = super(Function, self).__call__(*new_args, **new_kwargs)\n",
      "/opt/anaconda/lib/python2.7/site-packages/rpy2/robjects/functions.py:106: UserWarning: converting counts to integer mode\n",
      "\n",
      "  res = super(Function, self).__call__(*new_args, **new_kwargs)\n",
      "/opt/anaconda/lib/python2.7/site-packages/rpy2/robjects/functions.py:106: UserWarning: converting counts to integer mode\n",
      "\n",
      "  res = super(Function, self).__call__(*new_args, **new_kwargs)\n",
      "/opt/anaconda/lib/python2.7/site-packages/rpy2/robjects/functions.py:106: UserWarning: converting counts to integer mode\n",
      "\n",
      "  res = super(Function, self).__call__(*new_args, **new_kwargs)\n",
      "/opt/anaconda/lib/python2.7/site-packages/rpy2/robjects/functions.py:106: UserWarning: converting counts to integer mode\n",
      "\n",
      "  res = super(Function, self).__call__(*new_args, **new_kwargs)\n",
      "/opt/anaconda/lib/python2.7/site-packages/rpy2/robjects/functions.py:106: UserWarning: converting counts to integer mode\n",
      "\n",
      "  res = super(Function, self).__call__(*new_args, **new_kwargs)\n",
      "/opt/anaconda/lib/python2.7/site-packages/rpy2/robjects/functions.py:106: UserWarning: converting counts to integer mode\n",
      "\n",
      "  res = super(Function, self).__call__(*new_args, **new_kwargs)\n",
      "/opt/anaconda/lib/python2.7/site-packages/rpy2/robjects/functions.py:106: UserWarning: Joining by: \"OTU\"\n",
      "\n",
      "  res = super(Function, self).__call__(*new_args, **new_kwargs)\n",
      "/opt/anaconda/lib/python2.7/site-packages/rpy2/robjects/functions.py:106: UserWarning: Joining by: \"OTU\"\n",
      "\n",
      "  res = super(Function, self).__call__(*new_args, **new_kwargs)\n",
      "/opt/anaconda/lib/python2.7/site-packages/rpy2/robjects/functions.py:106: UserWarning: Joining by: \"OTU\"\n",
      "\n",
      "  res = super(Function, self).__call__(*new_args, **new_kwargs)\n",
      "/opt/anaconda/lib/python2.7/site-packages/rpy2/robjects/functions.py:106: UserWarning: Joining by: \"OTU\"\n",
      "\n",
      "  res = super(Function, self).__call__(*new_args, **new_kwargs)\n",
      "/opt/anaconda/lib/python2.7/site-packages/rpy2/robjects/functions.py:106: UserWarning: Joining by: \"OTU\"\n",
      "\n",
      "  res = super(Function, self).__call__(*new_args, **new_kwargs)\n",
      "/opt/anaconda/lib/python2.7/site-packages/rpy2/robjects/functions.py:106: UserWarning: Joining by: \"OTU\"\n",
      "\n",
      "  res = super(Function, self).__call__(*new_args, **new_kwargs)\n",
      "/opt/anaconda/lib/python2.7/site-packages/rpy2/robjects/functions.py:106: UserWarning: Joining by: \"OTU\"\n",
      "\n",
      "  res = super(Function, self).__call__(*new_args, **new_kwargs)\n",
      "/opt/anaconda/lib/python2.7/site-packages/rpy2/robjects/functions.py:106: UserWarning: Joining by: \"OTU\"\n",
      "\n",
      "  res = super(Function, self).__call__(*new_args, **new_kwargs)\n"
     ]
    },
    {
     "data": {
      "text/plain": [
       "Source: local data frame [15,509 x 13]\n",
       "\n",
       "   Land_Management sparsity_threshold       OTU log2FoldChange    lfcSE\n",
       "             (chr)              (dbl)     (chr)          (dbl)    (dbl)\n",
       "1              NTH               0.05 OTU.71996    1.959694877 2.437647\n",
       "2              NTH               0.05  OTU.6089   -1.609094972 2.135519\n",
       "3              NTH               0.05  OTU.2605   -1.313048136 2.442078\n",
       "4              NTH               0.05 OTU.10896    1.871130639 2.442913\n",
       "5              NTH               0.05 OTU.14908   -2.341792697 2.411923\n",
       "6              NTH               0.05  OTU.6041    1.992594175 2.435777\n",
       "7              NTH               0.05  OTU.6291   -0.001525392 2.297388\n",
       "8              NTH               0.05  OTU.9364   -3.172021752 2.344851\n",
       "9              NTH               0.05   OTU.586    0.437913061 2.201040\n",
       "10             NTH               0.05 OTU.19007   -0.296059885 2.288825\n",
       "..             ...                ...       ...            ...      ...\n",
       "Variables not shown: padj (dbl), Rank1 (fctr), Rank2 (fctr), Rank3 (fctr),\n",
       "  Rank4 (fctr), Rank5 (fctr), Rank6 (fctr), Rank7 (fctr)\n"
      ]
     },
     "metadata": {},
     "output_type": "display_data"
    }
   ],
   "source": [
    "%%R\n",
    "registerDoParallel(8)\n",
    "\n",
    "df.l2fc = tbl_df(mdply(sdms, \n",
    "                       get_l2fc, \n",
    "                       .parallel = TRUE, \n",
    "                       physeq.obj = physeq.Bulk))\n",
    "df.l2fc"
   ]
  },
  {
   "cell_type": "code",
   "execution_count": 10,
   "metadata": {
    "collapsed": false
   },
   "outputs": [
    {
     "data": {
      "text/plain": [
       "Source: local data frame [1 x 1]\n",
       "\n",
       "   meanl2fc\n",
       "      (dbl)\n",
       "1 0.3875388\n"
      ]
     },
     "metadata": {},
     "output_type": "display_data"
    }
   ],
   "source": [
    "%%R\n",
    "summarise(df.l2fc,\n",
    "  meanl2fc = mean(log2FoldChange, na.rm = TRUE))"
   ]
  },
  {
   "cell_type": "code",
   "execution_count": 11,
   "metadata": {
    "collapsed": false
   },
   "outputs": [
    {
     "data": {
      "text/plain": [
       "Source: local data frame [1 x 1]\n",
       "\n",
       "    sdl2fc\n",
       "     (dbl)\n",
       "1 2.268782\n"
      ]
     },
     "metadata": {},
     "output_type": "display_data"
    }
   ],
   "source": [
    "%%R\n",
    "summarise(df.l2fc,\n",
    "  sdl2fc = sd(log2FoldChange, na.rm = TRUE))"
   ]
  },
  {
   "cell_type": "code",
   "execution_count": 12,
   "metadata": {
    "collapsed": true
   },
   "outputs": [],
   "source": [
    "%%R\n",
    "df.l2fc$padj2 = p.adjust(df.l2fc$padj, method = \"BH\")"
   ]
  },
  {
   "cell_type": "code",
   "execution_count": 13,
   "metadata": {
    "collapsed": false
   },
   "outputs": [
    {
     "data": {
      "text/plain": [
       "[1] \"April\"  \"August\"\n"
      ]
     },
     "metadata": {},
     "output_type": "display_data"
    }
   ],
   "source": [
    "%%R\n",
    "levels(physeq.Bulk.m$Month)"
   ]
  },
  {
   "cell_type": "code",
   "execution_count": 14,
   "metadata": {
    "collapsed": true
   },
   "outputs": [],
   "source": [
    "%%R\n",
    "df.l2fc$Month[df.l2fc$log2FoldChange < 0] = \"April\"\n",
    "df.l2fc$Month[df.l2fc$log2FoldChange > 0] = \"August\""
   ]
  },
  {
   "cell_type": "code",
   "execution_count": 15,
   "metadata": {
    "collapsed": false
   },
   "outputs": [],
   "source": [
    "%%R\n",
    "write.table(df.l2fc, \"data/l2fc_AugvsApril_all\", row.names = FALSE, sep = \",\")"
   ]
  },
  {
   "cell_type": "code",
   "execution_count": 16,
   "metadata": {
    "collapsed": false
   },
   "outputs": [],
   "source": [
    "%%R\n",
    "df.l2fc = read.table(\"data/l2fc_AugvsApril_all\", header = TRUE, sep = \",\")"
   ]
  },
  {
   "cell_type": "code",
   "execution_count": 17,
   "metadata": {
    "collapsed": false
   },
   "outputs": [
    {
     "data": {
      "text/plain": [
       "      Land_Management sparsity_threshold       OTU log2FoldChange     lfcSE\n",
       "15504             PTR               0.95   OTU.486     -0.1403124 0.8882927\n",
       "15505             PTR               0.95 OTU.82503      1.0988509 0.8439508\n",
       "15506             PTR               0.95   OTU.388      0.8806726 0.7678151\n",
       "15507             PTR               0.95   OTU.157      1.4234541 0.6831327\n",
       "15508             PTR               0.95 OTU.37716      3.6450750 0.7935334\n",
       "15509             PTR               0.95   OTU.102     -1.5530466 0.7801733\n",
       "              padj    Rank1            Rank2              Rank3\n",
       "15504 9.217601e-01 k__Fungi p__Basidiomycota c__Tremellomycetes\n",
       "15505 5.614876e-01 k__Fungi    p__Ascomycota c__Sordariomycetes\n",
       "15506 5.614876e-01 k__Fungi    p__Ascomycota               <NA>\n",
       "15507 1.854205e-01 k__Fungi    p__Ascomycota    c__unidentified\n",
       "15508 8.500574e-05 k__Fungi    p__Ascomycota c__Dothideomycetes\n",
       "15509 2.015873e-01 k__Fungi    p__Ascomycota c__Sordariomycetes\n",
       "                       Rank4                   Rank5           Rank6\n",
       "15504 o__Cystofilobasidiales f__Cystofilobasidiaceae   g__Guehomyces\n",
       "15505         o__Hypocreales                    <NA>            <NA>\n",
       "15506                   <NA>                    <NA>            <NA>\n",
       "15507        o__unidentified         f__unidentified g__unidentified\n",
       "15508                   <NA>                    <NA>            <NA>\n",
       "15509         o__Hypocreales      f__Clavicipitaceae  g__Metarhizium\n",
       "                          Rank7       padj2  Month\n",
       "15504   s__Guehomyces pullulans 0.998625067  April\n",
       "15505                      <NA> 0.998625067 August\n",
       "15506                      <NA> 0.998625067 August\n",
       "15507          s__Ascomycota sp 0.998625067 August\n",
       "15508                      <NA> 0.005635893 August\n",
       "15509 s__Metarhizium anisopliae 0.998625067  April\n"
      ]
     },
     "metadata": {},
     "output_type": "display_data"
    }
   ],
   "source": [
    "%%R\n",
    "tail(df.l2fc)"
   ]
  },
  {
   "cell_type": "code",
   "execution_count": 18,
   "metadata": {
    "collapsed": false
   },
   "outputs": [
    {
     "data": {
      "text/plain": [
       "Source: local data frame [6 x 2]\n",
       "\n",
       "  sparsity_threshold n_reject_hypo\n",
       "               (dbl)         (int)\n",
       "1               0.05            18\n",
       "2               0.10            18\n",
       "3               0.15            21\n",
       "4               0.20            21\n",
       "5               0.25            22\n",
       "6               0.30            22\n"
      ]
     },
     "metadata": {},
     "output_type": "display_data"
    }
   ],
   "source": [
    "%%R\n",
    "\n",
    "padj.cutoff = 0.10\n",
    "\n",
    "df.l2fc.rejH = df.l2fc %>%\n",
    "    filter(padj2 <= padj.cutoff) %>%\n",
    "    group_by(sparsity_threshold) %>%\n",
    "    summarize(n_reject_hypo = n()) %>%\n",
    "    ungroup\n",
    "\n",
    "df.l2fc.rejH %>% head(n=6)"
   ]
  },
  {
   "cell_type": "code",
   "execution_count": 19,
   "metadata": {
    "collapsed": false
   },
   "outputs": [
    {
     "data": {
      "image/png": "[encoded data removed]"
     },
     "metadata": {},
     "output_type": "display_data"
    }
   ],
   "source": [
    "%%R -w 1000 -h 500\n",
    "\n",
    "#df.l2fc.rejH.2 = filter(df.l2fc.rejH, sample.size == 15000)\n",
    "ggplot(df.l2fc.rejH, aes(sparsity_threshold, n_reject_hypo)) + geom_vline(xintercept = 0.25) +\n",
    "    geom_point() +\n",
    "    geom_line() +\n",
    "    #facet_grid(, scales = \"free_y\") +\n",
    "    theme_bw() +\n",
    "    theme(\n",
    "        text = element_text(size=18), axis.text.x = element_text(angle=90, vjust=0.5, hjust=1))\n",
    "        "
   ]
  },
  {
   "cell_type": "code",
   "execution_count": 20,
   "metadata": {
    "collapsed": false
   },
   "outputs": [
    {
     "data": {
      "text/plain": [
       "  sparsity_threshold n_reject_hypo\n",
       "1               0.05            18\n",
       "2               0.10            18\n",
       "3               0.15            21\n"
      ]
     },
     "metadata": {},
     "output_type": "display_data"
    }
   ],
   "source": [
    "%%R\n",
    "\n",
    "padj.cutoff = 0.10\n",
    "\n",
    "df.l2fc.rejH.s = df.l2fc %>%\n",
    "    filter(padj2 <= padj.cutoff) %>%\n",
    "    group_by(sparsity_threshold) %>%\n",
    "    summarize(n_reject_hypo = n()) %>%\n",
    "    ungroup\n",
    "\n",
    "df.l2fc.rejH.s %>% head(n=3) %>% as.data.frame"
   ]
  },
  {
   "cell_type": "code",
   "execution_count": 21,
   "metadata": {
    "collapsed": false
   },
   "outputs": [
    {
     "data": {
      "text/plain": [
       "[1] 0.4\n"
      ]
     },
     "metadata": {},
     "output_type": "display_data"
    }
   ],
   "source": [
    "%%R\n",
    "# max number of rejected hypos \n",
    "max.rejH = df.l2fc.rejH.s %>%\n",
    "    arrange(desc(n_reject_hypo)) %>%\n",
    "    head(n=1)\n",
    "max.rejH = max.rejH$sparsity_threshold\n",
    "max.rejH"
   ]
  },
  {
   "cell_type": "code",
   "execution_count": 22,
   "metadata": {
    "collapsed": false
   },
   "outputs": [
    {
     "data": {
      "image/png": "[encoded data removed]"
     },
     "metadata": {},
     "output_type": "display_data"
    }
   ],
   "source": [
    "%%R -w 450 -h 400\n",
    "\n",
    "ggplot(df.l2fc.rejH.s, aes(sparsity_threshold, n_reject_hypo)) +\n",
    "    geom_point(size=3) +\n",
    "    geom_vline(xintercept=max.rejH, linetype='dashed', alpha=0.5) +\n",
    "    labs(x='Sparsity threshold', y='Number of rejected hypotheses') +\n",
    "    theme_bw() +\n",
    "    theme(\n",
    "        text = element_text(size=18),\n",
    "        axis.title.y = element_text(vjust=1)\n",
    "        )"
   ]
  },
  {
   "cell_type": "code",
   "execution_count": 23,
   "metadata": {
    "collapsed": false
   },
   "outputs": [
    {
     "data": {
      "text/plain": [
       "[1] 686\n"
      ]
     },
     "metadata": {},
     "output_type": "display_data"
    }
   ],
   "source": [
    "%%R\n",
    "df.l2fc.f = df.l2fc %>%\n",
    "    filter(sparsity_threshold == max.rejH) \n",
    "\n",
    "df.l2fc.f %>% nrow"
   ]
  },
  {
   "cell_type": "code",
   "execution_count": 24,
   "metadata": {
    "collapsed": false
   },
   "outputs": [
    {
     "data": {
      "text/plain": [
       "  Land_Management sparsity_threshold      OTU log2FoldChange     lfcSE\n",
       "1             NTH                0.4 OTU.1470    -0.05132044 1.2977748\n",
       "2             NTH                0.4 OTU.3084     0.32388945 1.5372024\n",
       "3             NTH                0.4  OTU.133    -1.00952821 0.7830954\n",
       "4             NTH                0.4 OTU.1259    -1.20393865 1.4379143\n",
       "5             NTH                0.4 OTU.3797     0.09409482 1.5005348\n",
       "6             NTH                0.4   OTU.45     0.74366829 0.4575160\n",
       "       padj    Rank1            Rank2              Rank3          Rank4\n",
       "1 0.9844195 k__Fungi p__Basidiomycota  c__Agaricomycetes  o__Agaricales\n",
       "2 0.9284781 k__Fungi p__Basidiomycota  c__Agaricomycetes  o__Agaricales\n",
       "3 0.5795069 k__Fungi    p__Ascomycota c__Sordariomycetes o__Hypocreales\n",
       "4 0.7094051 k__Fungi p__Basidiomycota  c__Agaricomycetes  o__Agaricales\n",
       "5 0.9709939 k__Fungi p__Basidiomycota  c__Agaricomycetes  o__Agaricales\n",
       "6 0.4577961 k__Fungi p__Basidiomycota  c__Agaricomycetes o__Polyporales\n",
       "               Rank5          Rank6              Rank7     padj2  Month\n",
       "1     f__Agaricaceae  g__Lycoperdon               <NA> 0.9986251  April\n",
       "2    f__Bolbitiaceae    g__Conocybe s__Conocybe moseri 0.9986251 August\n",
       "3    f__Hypocreaceae           <NA>               <NA> 0.9986251  April\n",
       "4 f__Psathyrellaceae g__Psathyrella               <NA> 0.9986251  April\n",
       "5 f__Physalacriaceae  g__Armillaria               <NA> 0.9986251 August\n",
       "6 f__Ganodermataceae   g__Ganoderma               <NA> 0.9986251 August\n"
      ]
     },
     "metadata": {},
     "output_type": "display_data"
    }
   ],
   "source": [
    "%%R\n",
    "head(df.l2fc.f)"
   ]
  },
  {
   "cell_type": "code",
   "execution_count": 25,
   "metadata": {
    "collapsed": false
   },
   "outputs": [],
   "source": [
    "%%R #-i workDir\n",
    "# Writing out l2fc table\n",
    "\n",
    "outFile = 'data/l2fc_sparse-maxRejH_AugApril.txt'\n",
    "write.table(df.l2fc.f, 'data/l2fc_sparse-maxRejH_AugApril.txt', sep='\\t', quote=FALSE, row.names=FALSE)"
   ]
  },
  {
   "cell_type": "code",
   "execution_count": 26,
   "metadata": {
    "collapsed": false
   },
   "outputs": [],
   "source": [
    "%%R\n",
    "df.l2fc = read.table('data/l2fc_sparse-maxRejH_AugApril.txt', sep='\\t', header = TRUE)"
   ]
  },
  {
   "cell_type": "code",
   "execution_count": 27,
   "metadata": {
    "collapsed": false
   },
   "outputs": [],
   "source": [
    "%%R\n",
    "df.l2fc$Rank2 = gsub(\"__\", \"\", df.l2fc$Rank2)\n",
    "df.l2fc$Rank3 = gsub(\"__\", \"\", df.l2fc$Rank3)\n",
    "df.l2fc$Rank4 = gsub(\"__\", \"\", df.l2fc$Rank4)\n",
    "df.l2fc$Rank5 = gsub(\"__\", \"\", df.l2fc$Rank5)\n",
    "df.l2fc$Rank6 = gsub(\"__\", \"\", df.l2fc$Rank6)\n",
    "df.l2fc$Rank7 = gsub('__', \"\", df.l2fc$Rank7)"
   ]
  },
  {
   "cell_type": "code",
   "execution_count": 28,
   "metadata": {
    "collapsed": false
   },
   "outputs": [
    {
     "data": {
      "text/plain": [
       "   Month Land_Management resp\n",
       "1  April             NTR    5\n",
       "2 August             NTH    7\n",
       "3 August             NTR    4\n",
       "4 August             PTH    5\n",
       "5 August             PTR    4\n"
      ]
     },
     "metadata": {},
     "output_type": "display_data"
    }
   ],
   "source": [
    "%%R\n",
    "resp = df.l2fc %>% filter(padj2 <=0.10) %>% group_by(Month, Land_Management) %>% summarise(resp = n())\n",
    "resp %>% as.data.frame"
   ]
  },
  {
   "cell_type": "markdown",
   "metadata": {},
   "source": [
    "####Function arguments"
   ]
  },
  {
   "cell_type": "code",
   "execution_count": 29,
   "metadata": {
    "collapsed": false
   },
   "outputs": [
    {
     "data": {
      "image/png": "[encoded data removed]"
     },
     "metadata": {},
     "output_type": "display_data"
    }
   ],
   "source": [
    "%%R -w 1000 -h 500\n",
    "d = df.l2fc\n",
    "FDR = 0.10\n",
    "\n",
    "d$Rank2 = as.character(d$Rank2)\n",
    "d$Rank2[is.na(d$Rank2)] = \"unclassified\"\n",
    "d$Rank2 = factor(d$Rank2)\n",
    "\n",
    "max.l2fc = ddply(d, .(Rank2), summarize, M = max(log2FoldChange))\n",
    "d$Rank2 = factor(d$Rank2, max.l2fc[order(-max.l2fc$M),]$Rank2)\n",
    "\n",
    "M = max(as.numeric(d$Rank2), na.rm = TRUE) + 1\n",
    "d$x = as.numeric(d$Rank2)\n",
    "d$x[is.na(d$x)] = M\n",
    "d$x.jitter = d$x + runif(length(d$x), -1, 1) * 0.2\n",
    "\n",
    "colourCount = length(unique(d$Rank2)) + 1\n",
    "getPalette = colorRampPalette(brewer.pal(10, \"Dark2\"))\n",
    "\n",
    "p = ggplot(d, aes(x = x.jitter, y = log2FoldChange, color = Rank2))\n",
    "p = p + facet_grid(~Land_Management)\n",
    "\n",
    "p = p + geom_point(alpha = 1.00, shape = 21, size = 1.5)\n",
    "\n",
    "p = p + scale_color_manual(values = getPalette(colourCount))\n",
    "\n",
    "p = p + geom_point(data = subset(d, padj2 <= FDR), color = \"black\", shape = 4, size = 2)\n",
    "\n",
    "#p = p + geom_hline(y = 1.3)\n",
    "\n",
    "p = p + theme_bw()\n",
    "\n",
    "p = p + theme(axis.text.x = element_blank())\n",
    "\n",
    "p = p + labs(x = \"Phylum\", color = \"Phylum\")\n",
    "\n",
    "p = p + guides(col = guide_legend(ncol = 2))\n",
    "\n",
    "p = p + labs(y = expression(paste(\"\", log[2],\" Fold Change\",sep=\"\")))\n",
    "\n",
    "p = p + guides(colour = guide_legend(override.aes = list(size=4)))\n",
    "\n",
    "p"
   ]
  },
  {
   "cell_type": "code",
   "execution_count": 30,
   "metadata": {
    "collapsed": false
   },
   "outputs": [
    {
     "data": {
      "image/png": "[encoded data removed]"
     },
     "metadata": {},
     "output_type": "display_data"
    }
   ],
   "source": [
    "%%R -w 1000 -h 500\n",
    "d = df.l2fc\n",
    "\n",
    "d = filter(d, padj2 <=0.10)\n",
    "FDR = 0.10\n",
    "\n",
    "d$Rank2 = as.character(d$Rank2)\n",
    "d$Rank2[is.na(d$Rank2)] = \"unclassified\"\n",
    "d$Rank2 = factor(d$Rank2)\n",
    "\n",
    "max.l2fc = ddply(d, .(Rank2), summarize, M = max(log2FoldChange))\n",
    "d$Rank2 = factor(d$Rank2, max.l2fc[order(-max.l2fc$M),]$Rank2)\n",
    "\n",
    "M = max(as.numeric(d$Rank2), na.rm = TRUE) + 1\n",
    "d$x = as.numeric(d$Rank2)\n",
    "d$x[is.na(d$x)] = M\n",
    "d$x.jitter = d$x + runif(length(d$x), -1, 1) * 0.2\n",
    "\n",
    "colourCount = length(unique(d$Rank2)) + 1\n",
    "getPalette = colorRampPalette(brewer.pal(10, \"Dark2\"))\n",
    "\n",
    "p = ggplot(d, aes(x = x.jitter, y = log2FoldChange, color = Rank2))\n",
    "p = p + facet_grid(~Land_Management)\n",
    "\n",
    "p = p + geom_point(alpha = 1.00, shape = 21, size = 2.5)\n",
    "\n",
    "p = p + scale_color_manual(values = getPalette(colourCount))\n",
    "\n",
    "#p = p + geom_point(data = subset(d, padj2 <= FDR), color = \"black\", shape = 4, size = 2)\n",
    "\n",
    "#p = p + geom_hline(y = 1.3)\n",
    "\n",
    "p = p + theme_bw()\n",
    "\n",
    "p = p + theme(axis.text.x = element_blank())\n",
    "\n",
    "p = p + labs(x = \"Phylum\", color = \"Phylum\")\n",
    "\n",
    "p = p + guides(col = guide_legend(ncol = 2))\n",
    "\n",
    "p = p + labs(y = expression(paste(\"\", log[2],\" Fold Change\",sep=\"\")))\n",
    "\n",
    "p = p + guides(colour = guide_legend(override.aes = list(size=4)))\n",
    "\n",
    "p"
   ]
  },
  {
   "cell_type": "code",
   "execution_count": 31,
   "metadata": {
    "collapsed": false
   },
   "outputs": [
    {
     "data": {
      "image/png": "[encoded data removed]"
     },
     "metadata": {},
     "output_type": "display_data"
    }
   ],
   "source": [
    "%%R -w 1000 -h 400\n",
    "d = df.l2fc\n",
    "\n",
    "d = filter(d, padj2 <=0.10)\n",
    "FDR = 0.10\n",
    "\n",
    "d$Rank2 = as.character(d$Rank3)\n",
    "d$Rank2[is.na(d$Rank3)] = \"unclassified\"\n",
    "d$Rank2 = factor(d$Rank3)\n",
    "\n",
    "max.l2fc = ddply(d, .(Rank3), summarize, M = max(log2FoldChange))\n",
    "d$Rank2 = factor(d$Rank3, max.l2fc[order(-max.l2fc$M),]$Rank3)\n",
    "\n",
    "M = max(as.numeric(d$Rank3), na.rm = TRUE) + 1\n",
    "d$x = as.numeric(d$Rank3)\n",
    "d$x[is.na(d$x)] = M\n",
    "d$x.jitter = d$x + runif(length(d$x), -1, 1) * 0.2\n",
    "\n",
    "colourCount = length(unique(d$Rank3)) + 1\n",
    "getPalette = colorRampPalette(brewer.pal(10, \"Dark2\"))\n",
    "\n",
    "p = ggplot(d, aes(x = Rank3, y = log2FoldChange, fill = Rank3))\n",
    "p = p + facet_grid(~Land_Management)\n",
    "\n",
    "p = p + geom_point(alpha = 1.00, shape = 21, size = 2.5)\n",
    "\n",
    "p = p + scale_color_manual(values = getPalette(colourCount))\n",
    "\n",
    "#p = p + geom_point(data = subset(d, padj2 <= FDR), color = \"black\", shape = 4, size = 2)\n",
    "\n",
    "#p = p + geom_hline(y = 1.3)\n",
    "\n",
    "p = p + theme_bw()\n",
    "\n",
    "p = p + theme(axis.text.x = element_blank())\n",
    "\n",
    "p = p + labs(x = \"Class\", fill = \"Class\")\n",
    "\n",
    "p = p + guides(col = guide_legend(ncol = 2))\n",
    "\n",
    "p = p + labs(y = expression(paste(\"\", log[2],\" Fold Change\",sep=\"\")))\n",
    "\n",
    "p = p + guides(colour = guide_legend(override.aes = list(size=4))) +\n",
    "        theme(text = element_text(size=14), axis.text.x = element_text(angle=90, vjust=1)) +\n",
    "        guides(fill = FALSE) + ggtitle(\"August vs April\")\n",
    "\n",
    "\n",
    "\n",
    "p"
   ]
  },
  {
   "cell_type": "code",
   "execution_count": 32,
   "metadata": {
    "collapsed": false
   },
   "outputs": [
    {
     "data": {
      "text/plain": [
       "  Land_Management sparsity_threshold      OTU log2FoldChange     lfcSE\n",
       "1             NTR                0.4  OTU.145      -3.828602 0.8929284\n",
       "2             NTR                0.4 OTU.1582      -6.517275 1.1369646\n",
       "3             NTR                0.4  OTU.191      -4.091883 0.8476032\n",
       "4             NTR                0.4   OTU.20       1.866950 0.4772492\n",
       "5             NTR                0.4   OTU.25      -2.798506 0.5880568\n",
       "6             NTR                0.4   OTU.26       4.049404 0.7477305\n",
       "7             NTR                0.4   OTU.44       2.469469 0.5100933\n",
       "8             NTR                0.4   OTU.45       3.944326 0.5976689\n",
       "9             NTR                0.4  OTU.663      -7.750821 1.1659132\n",
       "          padj    Rank1          Rank2            Rank3              Rank4\n",
       "1 4.152396e-04 k__Fungi    pAscomycota cDothideomycetes      oPleosporales\n",
       "2 6.081413e-07 k__Fungi    pAscomycota    cunidentified      ounidentified\n",
       "3 4.237933e-05 k__Fungi    pAscomycota             <NA>               <NA>\n",
       "4 1.872176e-03 k__Fungi    pAscomycota cSordariomycetes       oHypocreales\n",
       "5 5.116419e-05 k__Fungi    pAscomycota             <NA>               <NA>\n",
       "6 2.809949e-06 k__Fungi  punidentified    cunidentified      ounidentified\n",
       "7 4.237933e-05 k__Fungi    pAscomycota cSaccharomycetes oSaccharomycetales\n",
       "8 3.795001e-09 k__Fungi pBasidiomycota  cAgaricomycetes       oPolyporales\n",
       "9 3.795001e-09 k__Fungi    pAscomycota   cLeotiomycetes        oHelotiales\n",
       "             Rank5          Rank6                      Rank7        padj2\n",
       "1   fPleosporaceae           <NA>                       <NA> 2.086827e-02\n",
       "2    funidentified  gunidentified             sAscomycota sp 8.866218e-05\n",
       "3             <NA>           <NA>                       <NA> 3.466865e-03\n",
       "4  fIncertae sedis    gAcremonium sAcremonium dichromosporum 8.013891e-02\n",
       "5             <NA>           <NA>                       <NA> 4.016411e-03\n",
       "6    funidentified  gunidentified                  sFungi sp 3.536453e-04\n",
       "7  fIncertae sedis       gCandida              sCandida sake 3.466865e-03\n",
       "8 fGanodermataceae     gGanoderma                       <NA> 1.016025e-06\n",
       "9     fHelotiaceae gArticulospora                       <NA> 1.016025e-06\n",
       "   Month\n",
       "1  April\n",
       "2  April\n",
       "3  April\n",
       "4 August\n",
       "5  April\n",
       "6 August\n",
       "7 August\n",
       "8 August\n",
       "9  April\n"
      ]
     },
     "metadata": {},
     "output_type": "display_data"
    }
   ],
   "source": [
    "%%R\n",
    "filter(df.l2fc, padj2 <=0.10 & Land_Management == 'NTR') %>% arrange(OTU) %>% as.data.frame"
   ]
  }
 ],
 "metadata": {
  "kernelspec": {
   "display_name": "Python 2",
   "language": "python",
   "name": "python2"
  },
  "language_info": {
   "codemirror_mode": {
    "name": "ipython",
    "version": 2
   },
   "file_extension": ".py",
   "mimetype": "text/x-python",
   "name": "python",
   "nbconvert_exporter": "python",
   "pygments_lexer": "ipython2",
   "version": "2.7.11"
  }
 },
 "nbformat": 4,
 "nbformat_minor": 0
}
