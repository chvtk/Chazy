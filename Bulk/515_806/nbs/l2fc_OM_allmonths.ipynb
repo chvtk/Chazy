{
 "cells": [
  {
   "cell_type": "code",
   "execution_count": 1,
   "metadata": {
    "collapsed": false
   },
   "outputs": [],
   "source": [
    "%load_ext rpy2.ipython"
   ]
  },
  {
   "cell_type": "code",
   "execution_count": 2,
   "metadata": {
    "collapsed": false
   },
   "outputs": [],
   "source": [
    "%%R\n",
    "workDir = '/home/chantal/Chazy/Bulk/515_806/data/'\n",
    "figDir = '/home/chantal/Chazy/Bulk/515_806/figs/'\n",
    "\n",
    "physeqDir = '/home/chantal/Chazy/data/phyloseq/'\n",
    "physeqBulk = 'bulk-core'\n",
    "\n",
    "\n",
    "nprocs = 20"
   ]
  },
  {
   "cell_type": "code",
   "execution_count": 3,
   "metadata": {
    "collapsed": false
   },
   "outputs": [
    {
     "name": "stderr",
     "output_type": "stream",
     "text": [
      "/opt/anaconda/lib/python2.7/site-packages/rpy2/robjects/functions.py:106: UserWarning: \n",
      "Attaching package: ‘dplyr’\n",
      "\n",
      "\n",
      "  res = super(Function, self).__call__(*new_args, **new_kwargs)\n",
      "/opt/anaconda/lib/python2.7/site-packages/rpy2/robjects/functions.py:106: UserWarning: The following objects are masked from ‘package:plyr’:\n",
      "\n",
      "    arrange, count, desc, failwith, id, mutate, rename, summarise,\n",
      "    summarize\n",
      "\n",
      "\n",
      "  res = super(Function, self).__call__(*new_args, **new_kwargs)\n",
      "/opt/anaconda/lib/python2.7/site-packages/rpy2/robjects/functions.py:106: UserWarning: The following objects are masked from ‘package:stats’:\n",
      "\n",
      "    filter, lag\n",
      "\n",
      "\n",
      "  res = super(Function, self).__call__(*new_args, **new_kwargs)\n",
      "/opt/anaconda/lib/python2.7/site-packages/rpy2/robjects/functions.py:106: UserWarning: The following objects are masked from ‘package:base’:\n",
      "\n",
      "    intersect, setdiff, setequal, union\n",
      "\n",
      "\n",
      "  res = super(Function, self).__call__(*new_args, **new_kwargs)\n",
      "/opt/anaconda/lib/python2.7/site-packages/rpy2/robjects/functions.py:106: UserWarning: Loading required package: S4Vectors\n",
      "\n",
      "  res = super(Function, self).__call__(*new_args, **new_kwargs)\n",
      "/opt/anaconda/lib/python2.7/site-packages/rpy2/robjects/functions.py:106: UserWarning: Loading required package: stats4\n",
      "\n",
      "  res = super(Function, self).__call__(*new_args, **new_kwargs)\n",
      "/opt/anaconda/lib/python2.7/site-packages/rpy2/robjects/functions.py:106: UserWarning: Loading required package: BiocGenerics\n",
      "\n",
      "  res = super(Function, self).__call__(*new_args, **new_kwargs)\n",
      "/opt/anaconda/lib/python2.7/site-packages/rpy2/robjects/functions.py:106: UserWarning: Loading required package: parallel\n",
      "\n",
      "  res = super(Function, self).__call__(*new_args, **new_kwargs)\n",
      "/opt/anaconda/lib/python2.7/site-packages/rpy2/robjects/functions.py:106: UserWarning: \n",
      "Attaching package: ‘BiocGenerics’\n",
      "\n",
      "\n",
      "  res = super(Function, self).__call__(*new_args, **new_kwargs)\n",
      "/opt/anaconda/lib/python2.7/site-packages/rpy2/robjects/functions.py:106: UserWarning: The following objects are masked from ‘package:parallel’:\n",
      "\n",
      "    clusterApply, clusterApplyLB, clusterCall, clusterEvalQ,\n",
      "    clusterExport, clusterMap, parApply, parCapply, parLapply,\n",
      "    parLapplyLB, parRapply, parSapply, parSapplyLB\n",
      "\n",
      "\n",
      "  res = super(Function, self).__call__(*new_args, **new_kwargs)\n",
      "/opt/anaconda/lib/python2.7/site-packages/rpy2/robjects/functions.py:106: UserWarning: The following objects are masked from ‘package:dplyr’:\n",
      "\n",
      "    combine, intersect, setdiff, union\n",
      "\n",
      "\n",
      "  res = super(Function, self).__call__(*new_args, **new_kwargs)\n",
      "/opt/anaconda/lib/python2.7/site-packages/rpy2/robjects/functions.py:106: UserWarning: The following object is masked from ‘package:stats’:\n",
      "\n",
      "    xtabs\n",
      "\n",
      "\n",
      "  res = super(Function, self).__call__(*new_args, **new_kwargs)\n",
      "/opt/anaconda/lib/python2.7/site-packages/rpy2/robjects/functions.py:106: UserWarning: The following objects are masked from ‘package:base’:\n",
      "\n",
      "    anyDuplicated, append, as.data.frame, as.vector, cbind, colnames,\n",
      "    do.call, duplicated, eval, evalq, Filter, Find, get, intersect,\n",
      "    is.unsorted, lapply, Map, mapply, match, mget, order, paste, pmax,\n",
      "    pmax.int, pmin, pmin.int, Position, rank, rbind, Reduce, rep.int,\n",
      "    rownames, sapply, setdiff, sort, table, tapply, union, unique,\n",
      "    unlist, unsplit\n",
      "\n",
      "\n",
      "  res = super(Function, self).__call__(*new_args, **new_kwargs)\n",
      "/opt/anaconda/lib/python2.7/site-packages/rpy2/robjects/functions.py:106: UserWarning: \n",
      "Attaching package: ‘S4Vectors’\n",
      "\n",
      "\n",
      "  res = super(Function, self).__call__(*new_args, **new_kwargs)\n",
      "/opt/anaconda/lib/python2.7/site-packages/rpy2/robjects/functions.py:106: UserWarning: The following object is masked from ‘package:dplyr’:\n",
      "\n",
      "    rename\n",
      "\n",
      "\n",
      "  res = super(Function, self).__call__(*new_args, **new_kwargs)\n",
      "/opt/anaconda/lib/python2.7/site-packages/rpy2/robjects/functions.py:106: UserWarning: The following object is masked from ‘package:plyr’:\n",
      "\n",
      "    rename\n",
      "\n",
      "\n",
      "  res = super(Function, self).__call__(*new_args, **new_kwargs)\n",
      "/opt/anaconda/lib/python2.7/site-packages/rpy2/robjects/functions.py:106: UserWarning: Loading required package: IRanges\n",
      "\n",
      "  res = super(Function, self).__call__(*new_args, **new_kwargs)\n",
      "/opt/anaconda/lib/python2.7/site-packages/rpy2/robjects/functions.py:106: UserWarning: \n",
      "Attaching package: ‘IRanges’\n",
      "\n",
      "\n",
      "  res = super(Function, self).__call__(*new_args, **new_kwargs)\n",
      "/opt/anaconda/lib/python2.7/site-packages/rpy2/robjects/functions.py:106: UserWarning: The following objects are masked from ‘package:dplyr’:\n",
      "\n",
      "    collapse, desc, slice\n",
      "\n",
      "\n",
      "  res = super(Function, self).__call__(*new_args, **new_kwargs)\n",
      "/opt/anaconda/lib/python2.7/site-packages/rpy2/robjects/functions.py:106: UserWarning: The following object is masked from ‘package:plyr’:\n",
      "\n",
      "    desc\n",
      "\n",
      "\n",
      "  res = super(Function, self).__call__(*new_args, **new_kwargs)\n",
      "/opt/anaconda/lib/python2.7/site-packages/rpy2/robjects/functions.py:106: UserWarning: The following object is masked from ‘package:tidyr’:\n",
      "\n",
      "    expand\n",
      "\n",
      "\n",
      "  res = super(Function, self).__call__(*new_args, **new_kwargs)\n",
      "/opt/anaconda/lib/python2.7/site-packages/rpy2/robjects/functions.py:106: UserWarning: The following object is masked from ‘package:phyloseq’:\n",
      "\n",
      "    distance\n",
      "\n",
      "\n",
      "  res = super(Function, self).__call__(*new_args, **new_kwargs)\n",
      "/opt/anaconda/lib/python2.7/site-packages/rpy2/robjects/functions.py:106: UserWarning: Loading required package: GenomicRanges\n",
      "\n",
      "  res = super(Function, self).__call__(*new_args, **new_kwargs)\n",
      "/opt/anaconda/lib/python2.7/site-packages/rpy2/robjects/functions.py:106: UserWarning: Loading required package: GenomeInfoDb\n",
      "\n",
      "  res = super(Function, self).__call__(*new_args, **new_kwargs)\n",
      "/opt/anaconda/lib/python2.7/site-packages/rpy2/robjects/functions.py:106: UserWarning: Loading required package: Rcpp\n",
      "\n",
      "  res = super(Function, self).__call__(*new_args, **new_kwargs)\n",
      "/opt/anaconda/lib/python2.7/site-packages/rpy2/robjects/functions.py:106: UserWarning: Loading required package: RcppArmadillo\n",
      "\n",
      "  res = super(Function, self).__call__(*new_args, **new_kwargs)\n",
      "/opt/anaconda/lib/python2.7/site-packages/rpy2/robjects/functions.py:106: UserWarning: foreach: simple, scalable parallel programming from Revolution Analytics\n",
      "Use Revolution R for scalability, fault tolerance and more.\n",
      "http://www.revolutionanalytics.com\n",
      "\n",
      "  res = super(Function, self).__call__(*new_args, **new_kwargs)\n",
      "/opt/anaconda/lib/python2.7/site-packages/rpy2/robjects/functions.py:106: UserWarning: Loading required package: iterators\n",
      "\n",
      "  res = super(Function, self).__call__(*new_args, **new_kwargs)\n"
     ]
    }
   ],
   "source": [
    "%%R\n",
    "library(phyloseq)\n",
    "library(tidyr)\n",
    "library(plyr); library(dplyr)\n",
    "library(DESeq2)\n",
    "library(foreach)\n",
    "library(doParallel)\n",
    "library(ggplot2)\n",
    "library(gridExtra)\n",
    "library(reshape2)\n",
    "library(RColorBrewer)"
   ]
  },
  {
   "cell_type": "markdown",
   "metadata": {},
   "source": [
    "#### Read in sample metadata and OTU table"
   ]
  },
  {
   "cell_type": "code",
   "execution_count": 4,
   "metadata": {
    "collapsed": false
   },
   "outputs": [
    {
     "data": {
      "text/plain": [
       "[1] \"/home/chantal/Chazy/data/phyloseq//bulk-core\"\n",
       "phyloseq-class experiment-level object\n",
       "otu_table()   OTU Table:         [ 21374 taxa and 176 samples ]\n",
       "sample_data() Sample Data:       [ 176 samples by 25 sample variables ]\n",
       "tax_table()   Taxonomy Table:    [ 21374 taxa by 8 taxonomic ranks ]\n",
       "phy_tree()    Phylogenetic Tree: [ 21374 tips and 21373 internal nodes ]\n"
      ]
     },
     "metadata": {},
     "output_type": "display_data"
    }
   ],
   "source": [
    "%%R\n",
    "\n",
    "F = file.path(physeqDir, physeqBulk)\n",
    "print(F)\n",
    "physeq.Bulk = readRDS(F)\n",
    "physeq.Bulk.m = physeq.Bulk %>% sample_data\n",
    "physeq.Bulk = prune_samples((physeq.Bulk.m$Land_Management != \"PAS\"),\n",
    "                           physeq.Bulk)\n",
    "physeq.Bulk.m = physeq.Bulk %>% sample_data\n",
    "\n",
    "\n",
    "physeq.Bulk"
   ]
  },
  {
   "cell_type": "code",
   "execution_count": 5,
   "metadata": {
    "collapsed": false
   },
   "outputs": [
    {
     "name": "stderr",
     "output_type": "stream",
     "text": [
      "/opt/anaconda/lib/python2.7/site-packages/rpy2/robjects/functions.py:106: UserWarning: `set.seed(23435)` was used to initialize repeatable random subsampling.\n",
      "\n",
      "  res = super(Function, self).__call__(*new_args, **new_kwargs)\n",
      "/opt/anaconda/lib/python2.7/site-packages/rpy2/robjects/functions.py:106: UserWarning: Please record this for your records so others can reproduce.\n",
      "\n",
      "  res = super(Function, self).__call__(*new_args, **new_kwargs)\n",
      "/opt/anaconda/lib/python2.7/site-packages/rpy2/robjects/functions.py:106: UserWarning: Try `set.seed(23435); .Random.seed` for the full vector\n",
      "\n",
      "  res = super(Function, self).__call__(*new_args, **new_kwargs)\n",
      "/opt/anaconda/lib/python2.7/site-packages/rpy2/robjects/functions.py:106: UserWarning: ...\n",
      "\n",
      "  res = super(Function, self).__call__(*new_args, **new_kwargs)\n",
      "/opt/anaconda/lib/python2.7/site-packages/rpy2/robjects/functions.py:106: UserWarning: 3228OTUs were removed because they are no longer \n",
      "present in any sample after random subsampling\n",
      "\n",
      "\n",
      "  res = super(Function, self).__call__(*new_args, **new_kwargs)\n"
     ]
    }
   ],
   "source": [
    "%%R\n",
    "#Rarefy samples to 9500 seqs / sample\n",
    "physeq.Bulk.r = rarefy_even_depth(physeq.Bulk, sample.size = 9500, rngseed = 23435, replace = TRUE,\n",
    "                          trimOTUs = TRUE, verbose = TRUE)"
   ]
  },
  {
   "cell_type": "code",
   "execution_count": 6,
   "metadata": {
    "collapsed": false
   },
   "outputs": [
    {
     "data": {
      "text/plain": [
       "phyloseq-class experiment-level object\n",
       "otu_table()   OTU Table:         [ 18146 taxa and 88 samples ]\n",
       "sample_data() Sample Data:       [ 88 samples by 25 sample variables ]\n",
       "tax_table()   Taxonomy Table:    [ 18146 taxa by 8 taxonomic ranks ]\n",
       "phy_tree()    Phylogenetic Tree: [ 18146 tips and 18145 internal nodes ]\n",
       "phyloseq-class experiment-level object\n",
       "otu_table()   OTU Table:         [ 18146 taxa and 88 samples ]\n",
       "sample_data() Sample Data:       [ 88 samples by 25 sample variables ]\n",
       "tax_table()   Taxonomy Table:    [ 18146 taxa by 8 taxonomic ranks ]\n",
       "phy_tree()    Phylogenetic Tree: [ 18146 tips and 18145 internal nodes ]\n"
      ]
     },
     "metadata": {},
     "output_type": "display_data"
    }
   ],
   "source": [
    "%%R\n",
    "physeq.Bulk.m = physeq.Bulk.r %>% sample_data\n",
    "\n",
    "physeq.Bulk.r.N = prune_samples((physeq.Bulk.m$Till == \"N\"),\n",
    "                           physeq.Bulk.r)\n",
    "\n",
    "physeq.Bulk.r.P = prune_samples((physeq.Bulk.m$Till == \"P\"),\n",
    "                           physeq.Bulk.r)\n",
    "\n",
    "print(physeq.Bulk.r.N)\n",
    "print(physeq.Bulk.r.P)"
   ]
  },
  {
   "cell_type": "code",
   "execution_count": 23,
   "metadata": {
    "collapsed": true
   },
   "outputs": [],
   "source": [
    "%%R\n",
    "get_l2fc = function(physeq.obj, Month, Year, sparsity_threshold) {\n",
    "    physeq.md = sample_data(physeq.obj)\n",
    "  \n",
    "  \n",
    "    p = prune_samples((physeq.md$Month == Month) &\n",
    "                      (physeq.md$Year == Year), physeq.obj)\n",
    "   \n",
    "    p = filter_taxa(p, function(x) sum(x > 0) > sparsity_threshold * length(x), TRUE)\n",
    " \n",
    "    dds = phyloseq_to_deseq2(p, ~ OM)\n",
    "    dds = DESeq(dds, quiet = TRUE, fitType = \"local\")\n",
    "        \n",
    "    theta = 1\n",
    "    r = results(dds, independentFiltering = FALSE)\n",
    "    r$OTU = rownames(r)\n",
    "   \n",
    "    d = data.frame(r[, c(\"OTU\",\"log2FoldChange\", \"lfcSE\", \"padj\")])\n",
    "\n",
    "   # d$padj = p.adjust(p, method = \"BH\")\n",
    "    TT = data.frame(tax_table(p))\n",
    "    TT$OTU = rownames(TT)\n",
    "    d = left_join(d, TT)\n",
    "\n",
    "\n",
    "    d\n",
    "}"
   ]
  },
  {
   "cell_type": "code",
   "execution_count": 24,
   "metadata": {
    "collapsed": false
   },
   "outputs": [
    {
     "data": {
      "text/plain": [
       "[1] 11\n",
       "      Month Year\n",
       "1      July 2014\n",
       "2  November 2014\n",
       "3   October 2014\n",
       "4 September 2014\n",
       "5     April 2015\n"
      ]
     },
     "metadata": {},
     "output_type": "display_data"
    }
   ],
   "source": [
    "%%R\n",
    "\n",
    "sdm.N = physeq.Bulk.r %>% sample_data %>% \n",
    "    filter(Till == 'N') %>%\n",
    "    select(Month, Year) %>%\n",
    "    distinct() %>%\n",
    "    arrange(Year, Month) \n",
    "\n",
    "sdm.N %>% nrow %>% print\n",
    "sdm.N %>% head(n=5)\n"
   ]
  },
  {
   "cell_type": "code",
   "execution_count": 25,
   "metadata": {
    "collapsed": false
   },
   "outputs": [
    {
     "data": {
      "text/plain": [
       "[1] 11\n",
       "      Month Year\n",
       "1      July 2014\n",
       "2  November 2014\n",
       "3   October 2014\n",
       "4 September 2014\n",
       "5     April 2015\n"
      ]
     },
     "metadata": {},
     "output_type": "display_data"
    }
   ],
   "source": [
    "%%R\n",
    "\n",
    "sdm.P = physeq.Bulk.r %>% sample_data %>% \n",
    "    filter(Till == 'P') %>%\n",
    "    select(Month, Year) %>%\n",
    "    distinct() %>%\n",
    "    arrange(Year, Month) \n",
    "\n",
    "sdm.P %>% nrow %>% print\n",
    "sdm.P %>% head(n=5)"
   ]
  },
  {
   "cell_type": "code",
   "execution_count": 26,
   "metadata": {
    "collapsed": false
   },
   "outputs": [
    {
     "data": {
      "text/plain": [
       "Number of pairwise combinations of variables: 209 \n",
       "\n",
       "      Month Year sparsity_threshold\n",
       "1      July 2014               0.05\n",
       "2  November 2014               0.05\n",
       "3   October 2014               0.05\n",
       "4 September 2014               0.05\n",
       "5     April 2015               0.05\n",
       "6    August 2015               0.05\n"
      ]
     },
     "metadata": {},
     "output_type": "display_data"
    }
   ],
   "source": [
    "%%R\n",
    "# adding range of sparsity thresholds (all pairwise)\n",
    "sdms.N = sdm.N %>%\n",
    "    unite(sdm.N, Month, Year, sep='___')\n",
    "\n",
    "sdms.N = expand.grid(sdms.N$sdm,\n",
    "                    sparsity_threshold = seq(0.05,0.95,0.05)) %>%\n",
    "    separate(Var1, c('Month', 'Year'), sep='___')\n",
    "\n",
    "\n",
    "cat('Number of pairwise combinations of variables:', sdms.N %>% nrow, '\\n\\n')\n",
    "head(sdms.N) "
   ]
  },
  {
   "cell_type": "code",
   "execution_count": 27,
   "metadata": {
    "collapsed": false
   },
   "outputs": [
    {
     "data": {
      "text/plain": [
       "Number of pairwise combinations of variables: 209 \n",
       "\n",
       "      Month Year sparsity_threshold\n",
       "1      July 2014               0.05\n",
       "2  November 2014               0.05\n",
       "3   October 2014               0.05\n",
       "4 September 2014               0.05\n",
       "5     April 2015               0.05\n",
       "6    August 2015               0.05\n"
      ]
     },
     "metadata": {},
     "output_type": "display_data"
    }
   ],
   "source": [
    "%%R\n",
    "# adding range of sparsity thresholds (all pairwise)\n",
    "sdms.P = sdm.P %>%\n",
    "    unite(sdm.P, Month, Year, sep='___')\n",
    "\n",
    "sdms.P = expand.grid(sdms.P$sdm,\n",
    "                    sparsity_threshold = seq(0.05,0.95,0.05)) %>%\n",
    "    separate(Var1, c('Month', 'Year'), sep='___')\n",
    "\n",
    "\n",
    "cat('Number of pairwise combinations of variables:', sdms.P %>% nrow, '\\n\\n')\n",
    "head(sdms.P) "
   ]
  },
  {
   "cell_type": "code",
   "execution_count": 28,
   "metadata": {
    "collapsed": false
   },
   "outputs": [
    {
     "name": "stderr",
     "output_type": "stream",
     "text": [
      "/opt/anaconda/lib/python2.7/site-packages/rpy2/robjects/functions.py:106: UserWarning: converting counts to integer mode\n",
      "\n",
      "  res = super(Function, self).__call__(*new_args, **new_kwargs)\n",
      "/opt/anaconda/lib/python2.7/site-packages/rpy2/robjects/functions.py:106: UserWarning: converting counts to integer mode\n",
      "\n",
      "  res = super(Function, self).__call__(*new_args, **new_kwargs)\n",
      "/opt/anaconda/lib/python2.7/site-packages/rpy2/robjects/functions.py:106: UserWarning: converting counts to integer mode\n",
      "\n",
      "  res = super(Function, self).__call__(*new_args, **new_kwargs)\n",
      "/opt/anaconda/lib/python2.7/site-packages/rpy2/robjects/functions.py:106: UserWarning: converting counts to integer mode\n",
      "\n",
      "  res = super(Function, self).__call__(*new_args, **new_kwargs)\n",
      "/opt/anaconda/lib/python2.7/site-packages/rpy2/robjects/functions.py:106: UserWarning: converting counts to integer mode\n",
      "\n",
      "  res = super(Function, self).__call__(*new_args, **new_kwargs)\n",
      "/opt/anaconda/lib/python2.7/site-packages/rpy2/robjects/functions.py:106: UserWarning: converting counts to integer mode\n",
      "\n",
      "  res = super(Function, self).__call__(*new_args, **new_kwargs)\n",
      "/opt/anaconda/lib/python2.7/site-packages/rpy2/robjects/functions.py:106: UserWarning: converting counts to integer mode\n",
      "\n",
      "  res = super(Function, self).__call__(*new_args, **new_kwargs)\n",
      "/opt/anaconda/lib/python2.7/site-packages/rpy2/robjects/functions.py:106: UserWarning: converting counts to integer mode\n",
      "\n",
      "  res = super(Function, self).__call__(*new_args, **new_kwargs)\n",
      "/opt/anaconda/lib/python2.7/site-packages/rpy2/robjects/functions.py:106: UserWarning: Joining by: \"OTU\"\n",
      "\n",
      "  res = super(Function, self).__call__(*new_args, **new_kwargs)\n",
      "/opt/anaconda/lib/python2.7/site-packages/rpy2/robjects/functions.py:106: UserWarning: Joining by: \"OTU\"\n",
      "\n",
      "  res = super(Function, self).__call__(*new_args, **new_kwargs)\n",
      "/opt/anaconda/lib/python2.7/site-packages/rpy2/robjects/functions.py:106: UserWarning: Joining by: \"OTU\"\n",
      "\n",
      "  res = super(Function, self).__call__(*new_args, **new_kwargs)\n",
      "/opt/anaconda/lib/python2.7/site-packages/rpy2/robjects/functions.py:106: UserWarning: Joining by: \"OTU\"\n",
      "\n",
      "  res = super(Function, self).__call__(*new_args, **new_kwargs)\n",
      "/opt/anaconda/lib/python2.7/site-packages/rpy2/robjects/functions.py:106: UserWarning: Joining by: \"OTU\"\n",
      "\n",
      "  res = super(Function, self).__call__(*new_args, **new_kwargs)\n",
      "/opt/anaconda/lib/python2.7/site-packages/rpy2/robjects/functions.py:106: UserWarning: Joining by: \"OTU\"\n",
      "\n",
      "  res = super(Function, self).__call__(*new_args, **new_kwargs)\n",
      "/opt/anaconda/lib/python2.7/site-packages/rpy2/robjects/functions.py:106: UserWarning: Joining by: \"OTU\"\n",
      "\n",
      "  res = super(Function, self).__call__(*new_args, **new_kwargs)\n",
      "/opt/anaconda/lib/python2.7/site-packages/rpy2/robjects/functions.py:106: UserWarning: Joining by: \"OTU\"\n",
      "\n",
      "  res = super(Function, self).__call__(*new_args, **new_kwargs)\n"
     ]
    },
    {
     "data": {
      "text/plain": [
       "Source: local data frame [502,880 x 15]\n",
       "\n",
       "   Month  Year sparsity_threshold       OTU log2FoldChange     lfcSE      padj\n",
       "   (chr) (chr)              (dbl)     (chr)          (dbl)     (dbl)     (dbl)\n",
       "1   July  2014               0.05  OTU.4940    -0.87524472 1.2450302 0.7821754\n",
       "2   July  2014               0.05  OTU.1739    -0.04216023 1.3085491 0.9997102\n",
       "3   July  2014               0.05  OTU.1813    -0.97186458 1.3804423 0.7821754\n",
       "4   July  2014               0.05   OTU.778     1.03067242 0.7250247 0.7821754\n",
       "5   July  2014               0.05  OTU.5511    -0.86105988 1.2438457 0.7821754\n",
       "6   July  2014               0.05 OTU.13088     1.61255382 1.3500593 0.7821754\n",
       "7   July  2014               0.05  OTU.7376    -0.87007523 1.2446016 0.7821754\n",
       "8   July  2014               0.05  OTU.8169    -1.18806054 1.2855149 0.7821754\n",
       "9   July  2014               0.05 OTU.17812     0.80068714 1.2457153 0.7821754\n",
       "10  July  2014               0.05  OTU.2180    -1.22036844 1.2925321 0.7821754\n",
       "..   ...   ...                ...       ...            ...       ...       ...\n",
       "Variables not shown: Rank1 (fctr), Rank2 (fctr), Rank3 (fctr), Rank4 (fctr),\n",
       "  Rank5 (fctr), Rank6 (fctr), Rank7 (fctr), Rank8 (fctr)\n"
      ]
     },
     "metadata": {},
     "output_type": "display_data"
    }
   ],
   "source": [
    "%%R\n",
    "registerDoParallel(8)\n",
    "\n",
    "df.l2fc.N = tbl_df(mdply(sdms.N, \n",
    "                       get_l2fc, \n",
    "                       .parallel = TRUE, \n",
    "                       physeq.obj = physeq.Bulk.r.N))\n",
    "df.l2fc.N"
   ]
  },
  {
   "cell_type": "code",
   "execution_count": 29,
   "metadata": {
    "collapsed": false
   },
   "outputs": [
    {
     "name": "stderr",
     "output_type": "stream",
     "text": [
      "/opt/anaconda/lib/python2.7/site-packages/rpy2/robjects/functions.py:106: UserWarning: converting counts to integer mode\n",
      "\n",
      "  res = super(Function, self).__call__(*new_args, **new_kwargs)\n",
      "/opt/anaconda/lib/python2.7/site-packages/rpy2/robjects/functions.py:106: UserWarning: converting counts to integer mode\n",
      "\n",
      "  res = super(Function, self).__call__(*new_args, **new_kwargs)\n",
      "/opt/anaconda/lib/python2.7/site-packages/rpy2/robjects/functions.py:106: UserWarning: converting counts to integer mode\n",
      "\n",
      "  res = super(Function, self).__call__(*new_args, **new_kwargs)\n",
      "/opt/anaconda/lib/python2.7/site-packages/rpy2/robjects/functions.py:106: UserWarning: converting counts to integer mode\n",
      "\n",
      "  res = super(Function, self).__call__(*new_args, **new_kwargs)\n",
      "/opt/anaconda/lib/python2.7/site-packages/rpy2/robjects/functions.py:106: UserWarning: converting counts to integer mode\n",
      "\n",
      "  res = super(Function, self).__call__(*new_args, **new_kwargs)\n",
      "/opt/anaconda/lib/python2.7/site-packages/rpy2/robjects/functions.py:106: UserWarning: converting counts to integer mode\n",
      "\n",
      "  res = super(Function, self).__call__(*new_args, **new_kwargs)\n",
      "/opt/anaconda/lib/python2.7/site-packages/rpy2/robjects/functions.py:106: UserWarning: converting counts to integer mode\n",
      "\n",
      "  res = super(Function, self).__call__(*new_args, **new_kwargs)\n",
      "/opt/anaconda/lib/python2.7/site-packages/rpy2/robjects/functions.py:106: UserWarning: converting counts to integer mode\n",
      "\n",
      "  res = super(Function, self).__call__(*new_args, **new_kwargs)\n",
      "/opt/anaconda/lib/python2.7/site-packages/rpy2/robjects/functions.py:106: UserWarning: Joining by: \"OTU\"\n",
      "\n",
      "  res = super(Function, self).__call__(*new_args, **new_kwargs)\n",
      "/opt/anaconda/lib/python2.7/site-packages/rpy2/robjects/functions.py:106: UserWarning: Joining by: \"OTU\"\n",
      "\n",
      "  res = super(Function, self).__call__(*new_args, **new_kwargs)\n",
      "/opt/anaconda/lib/python2.7/site-packages/rpy2/robjects/functions.py:106: UserWarning: Joining by: \"OTU\"\n",
      "\n",
      "  res = super(Function, self).__call__(*new_args, **new_kwargs)\n",
      "/opt/anaconda/lib/python2.7/site-packages/rpy2/robjects/functions.py:106: UserWarning: Joining by: \"OTU\"\n",
      "\n",
      "  res = super(Function, self).__call__(*new_args, **new_kwargs)\n",
      "/opt/anaconda/lib/python2.7/site-packages/rpy2/robjects/functions.py:106: UserWarning: Joining by: \"OTU\"\n",
      "\n",
      "  res = super(Function, self).__call__(*new_args, **new_kwargs)\n",
      "/opt/anaconda/lib/python2.7/site-packages/rpy2/robjects/functions.py:106: UserWarning: Joining by: \"OTU\"\n",
      "\n",
      "  res = super(Function, self).__call__(*new_args, **new_kwargs)\n",
      "/opt/anaconda/lib/python2.7/site-packages/rpy2/robjects/functions.py:106: UserWarning: Joining by: \"OTU\"\n",
      "\n",
      "  res = super(Function, self).__call__(*new_args, **new_kwargs)\n",
      "/opt/anaconda/lib/python2.7/site-packages/rpy2/robjects/functions.py:106: UserWarning: Joining by: \"OTU\"\n",
      "\n",
      "  res = super(Function, self).__call__(*new_args, **new_kwargs)\n"
     ]
    },
    {
     "data": {
      "text/plain": [
       "Source: local data frame [519,621 x 15]\n",
       "\n",
       "   Month  Year sparsity_threshold       OTU log2FoldChange     lfcSE      padj\n",
       "   (chr) (chr)              (dbl)     (chr)          (dbl)     (dbl)     (dbl)\n",
       "1   July  2014               0.05  OTU.4940     1.97616375 1.3721993 0.5499283\n",
       "2   July  2014               0.05  OTU.1739     0.55156274 1.3614908 0.8587131\n",
       "3   July  2014               0.05   OTU.778     0.66519813 0.9768921 0.7499443\n",
       "4   July  2014               0.05  OTU.5658    -1.36228716 1.3721438 0.5499283\n",
       "5   July  2014               0.05  OTU.5664    -1.36228716 1.3721438 0.5499283\n",
       "6   July  2014               0.05  OTU.8169    -1.36238158 1.3721482 0.5499283\n",
       "7   July  2014               0.05  OTU.6540     1.38577593 1.3720998 0.5499283\n",
       "8   July  2014               0.05  OTU.2180    -0.00582319 1.2539596 0.9998338\n",
       "9   July  2014               0.05  OTU.8236    -1.36228716 1.3721438 0.5499283\n",
       "10  July  2014               0.05 OTU.12365     0.98953481 1.3294838 0.7095261\n",
       "..   ...   ...                ...       ...            ...       ...       ...\n",
       "Variables not shown: Rank1 (fctr), Rank2 (fctr), Rank3 (fctr), Rank4 (fctr),\n",
       "  Rank5 (fctr), Rank6 (fctr), Rank7 (fctr), Rank8 (fctr)\n"
      ]
     },
     "metadata": {},
     "output_type": "display_data"
    }
   ],
   "source": [
    "%%R\n",
    "registerDoParallel(8)\n",
    "\n",
    "df.l2fc.P = tbl_df(mdply(sdms.P, \n",
    "                       get_l2fc, \n",
    "                       .parallel = TRUE, \n",
    "                       physeq.obj = physeq.Bulk.r.P))\n",
    "df.l2fc.P"
   ]
  },
  {
   "cell_type": "code",
   "execution_count": 30,
   "metadata": {
    "collapsed": false
   },
   "outputs": [
    {
     "data": {
      "text/plain": [
       "Source: local data frame [1 x 1]\n",
       "\n",
       "     meanl2fc\n",
       "        (dbl)\n",
       "1 -0.04420861\n"
      ]
     },
     "metadata": {},
     "output_type": "display_data"
    }
   ],
   "source": [
    "%%R\n",
    "summarise(df.l2fc.N,\n",
    "  meanl2fc = mean(log2FoldChange, na.rm = TRUE))"
   ]
  },
  {
   "cell_type": "code",
   "execution_count": 31,
   "metadata": {
    "collapsed": false
   },
   "outputs": [
    {
     "data": {
      "text/plain": [
       "Source: local data frame [1 x 1]\n",
       "\n",
       "     meanl2fc\n",
       "        (dbl)\n",
       "1 0.004687854\n"
      ]
     },
     "metadata": {},
     "output_type": "display_data"
    }
   ],
   "source": [
    "%%R\n",
    "summarise(df.l2fc.P,\n",
    "  meanl2fc = mean(log2FoldChange, na.rm = TRUE))"
   ]
  },
  {
   "cell_type": "code",
   "execution_count": 32,
   "metadata": {
    "collapsed": false
   },
   "outputs": [
    {
     "data": {
      "text/plain": [
       "Source: local data frame [1 x 1]\n",
       "\n",
       "   sdl2fc.N\n",
       "      (dbl)\n",
       "1 0.9558166\n"
      ]
     },
     "metadata": {},
     "output_type": "display_data"
    }
   ],
   "source": [
    "%%R\n",
    "summarise(df.l2fc.N,\n",
    "  sdl2fc.N = sd(log2FoldChange, na.rm = TRUE))"
   ]
  },
  {
   "cell_type": "code",
   "execution_count": 33,
   "metadata": {
    "collapsed": false
   },
   "outputs": [
    {
     "data": {
      "text/plain": [
       "Source: local data frame [1 x 1]\n",
       "\n",
       "   sdl2fc.P\n",
       "      (dbl)\n",
       "1 0.8425707\n"
      ]
     },
     "metadata": {},
     "output_type": "display_data"
    }
   ],
   "source": [
    "%%R\n",
    "summarise(df.l2fc.P,\n",
    "  sdl2fc.P = sd(log2FoldChange, na.rm = TRUE))"
   ]
  },
  {
   "cell_type": "code",
   "execution_count": 34,
   "metadata": {
    "collapsed": false
   },
   "outputs": [
    {
     "data": {
      "text/plain": [
       "[1] \"H\" \"R\"\n"
      ]
     },
     "metadata": {},
     "output_type": "display_data"
    }
   ],
   "source": [
    "%%R\n",
    "levels(physeq.Bulk.m$OM)"
   ]
  },
  {
   "cell_type": "code",
   "execution_count": 35,
   "metadata": {
    "collapsed": true
   },
   "outputs": [],
   "source": [
    "%%R\n",
    "df.l2fc.N$padj2 = p.adjust(df.l2fc.N$padj, method = \"BH\")"
   ]
  },
  {
   "cell_type": "code",
   "execution_count": 36,
   "metadata": {
    "collapsed": true
   },
   "outputs": [],
   "source": [
    "%%R\n",
    "df.l2fc.P$padj2 = p.adjust(df.l2fc.P$padj, method = \"BH\")"
   ]
  },
  {
   "cell_type": "code",
   "execution_count": 37,
   "metadata": {
    "collapsed": true
   },
   "outputs": [],
   "source": [
    "%%R\n",
    "df.l2fc.N$OM[df.l2fc.N$log2FoldChange > 0] = \"Returned\"\n",
    "df.l2fc.N$OM[df.l2fc.N$log2FoldChange <0] = \"Harvested\""
   ]
  },
  {
   "cell_type": "code",
   "execution_count": 38,
   "metadata": {
    "collapsed": true
   },
   "outputs": [],
   "source": [
    "%%R\n",
    "df.l2fc.P$OM[df.l2fc.P$log2FoldChange > 0] = \"Returned\"\n",
    "df.l2fc.P$OM[df.l2fc.P$log2FoldChange <0] = \"Harvested\""
   ]
  },
  {
   "cell_type": "code",
   "execution_count": 39,
   "metadata": {
    "collapsed": true
   },
   "outputs": [],
   "source": [
    "%%R\n",
    "df.l2fc$OM[df.l2fc$log2FoldChange > 0] = \"Returned\"\n",
    "df.l2fc$OM[df.l2fc$log2FoldChange <0] = \"Harvested\""
   ]
  },
  {
   "cell_type": "code",
   "execution_count": 40,
   "metadata": {
    "collapsed": false
   },
   "outputs": [],
   "source": [
    "%%R\n",
    "write.table(df.l2fc.N, \"data/l2fc_OM_N\", row.names = FALSE, sep = \",\")"
   ]
  },
  {
   "cell_type": "code",
   "execution_count": 41,
   "metadata": {
    "collapsed": true
   },
   "outputs": [],
   "source": [
    "%%R\n",
    "write.table(df.l2fc.P, \"data/l2fc_OM_P\", row.names = FALSE, sep = \",\")"
   ]
  },
  {
   "cell_type": "code",
   "execution_count": 42,
   "metadata": {
    "collapsed": false
   },
   "outputs": [],
   "source": [
    "%%R\n",
    "df.l2fc.N = read.table(\"data/l2fc_OM_N\", header = TRUE, sep = \",\")"
   ]
  },
  {
   "cell_type": "code",
   "execution_count": 43,
   "metadata": {
    "collapsed": true
   },
   "outputs": [],
   "source": [
    "%%R\n",
    "df.l2fc.P = read.table(\"data/l2fc_OM_P\", header = TRUE, sep = \",\")"
   ]
  },
  {
   "cell_type": "code",
   "execution_count": 44,
   "metadata": {
    "collapsed": false
   },
   "outputs": [
    {
     "data": {
      "text/plain": [
       "[1] 3\n"
      ]
     },
     "metadata": {},
     "output_type": "display_data"
    }
   ],
   "source": [
    "%%R\n",
    "N = filter(df.l2fc.N, padj2 <=0.10)\n",
    "length(unique(N$OTU))"
   ]
  },
  {
   "cell_type": "code",
   "execution_count": 45,
   "metadata": {
    "collapsed": false
   },
   "outputs": [
    {
     "data": {
      "text/plain": [
       "[1] 0\n"
      ]
     },
     "metadata": {},
     "output_type": "display_data"
    }
   ],
   "source": [
    "%%R\n",
    "P = filter(df.l2fc.P, padj2 <=0.10)\n",
    "length(unique(P$OTU))"
   ]
  },
  {
   "cell_type": "code",
   "execution_count": 46,
   "metadata": {
    "collapsed": false
   },
   "outputs": [
    {
     "data": {
      "text/plain": [
       "Source: local data frame [6 x 4]\n",
       "\n",
       "  sparsity_threshold    Month  Year n_reject_hypo\n",
       "               (dbl)   (fctr) (int)         (int)\n",
       "1               0.05 November  2014             1\n",
       "2               0.10 November  2014             1\n",
       "3               0.15     July  2015             1\n",
       "4               0.15 November  2014             1\n",
       "5               0.20     July  2015             1\n",
       "6               0.20 November  2014             1\n"
      ]
     },
     "metadata": {},
     "output_type": "display_data"
    }
   ],
   "source": [
    "%%R\n",
    "\n",
    "padj.cutoff = 0.10\n",
    "\n",
    "df.l2fc.N.rejH = df.l2fc.N %>%\n",
    "    filter(padj2 <= padj.cutoff) %>%\n",
    "    group_by(sparsity_threshold, Month, Year) %>%\n",
    "    summarize(n_reject_hypo = n()) %>%\n",
    "    ungroup\n",
    "\n",
    "df.l2fc.N.rejH %>% head(n=6)"
   ]
  },
  {
   "cell_type": "code",
   "execution_count": 47,
   "metadata": {
    "collapsed": false
   },
   "outputs": [
    {
     "data": {
      "text/plain": [
       "Source: local data frame [0 x 4]\n",
       "\n",
       "Variables not shown: sparsity_threshold (dbl), Month (fctr), Year (int),\n",
       "  n_reject_hypo (int)\n"
      ]
     },
     "metadata": {},
     "output_type": "display_data"
    }
   ],
   "source": [
    "%%R\n",
    "\n",
    "padj.cutoff = 0.10\n",
    "\n",
    "df.l2fc.P.rejH = df.l2fc.P %>%\n",
    "    filter(padj2 <= padj.cutoff) %>%\n",
    "    group_by(sparsity_threshold, Month, Year) %>%\n",
    "    summarize(n_reject_hypo = n()) %>%\n",
    "    ungroup\n",
    "\n",
    "df.l2fc.P.rejH %>% head(n=6)"
   ]
  },
  {
   "cell_type": "code",
   "execution_count": 48,
   "metadata": {
    "collapsed": false
   },
   "outputs": [
    {
     "data": {
      "image/png": "[encoded data removed]"
     },
     "metadata": {},
     "output_type": "display_data"
    }
   ],
   "source": [
    "%%R -w 800 -h 700\n",
    "\n",
    "df.l2fc.N.rejH$Month = reorder(df.l2fc.N.rejH$Month, df.l2fc.N.rejH$Month %>% as.numeric)\n",
    "\n",
    "ggplot(df.l2fc.N.rejH, aes(sparsity_threshold, n_reject_hypo)) +\n",
    "    geom_point(aes(color= Year)) +\n",
    "    geom_line(aes(color = Year)) +\n",
    "    facet_grid(Month ~ Year, scales = \"free_y\") +\n",
    "    theme_bw() +\n",
    "    theme(\n",
    "        text = element_text(size=18)\n",
    "        )"
   ]
  },
  {
   "cell_type": "code",
   "execution_count": 49,
   "metadata": {
    "collapsed": false
   },
   "outputs": [
    {
     "name": "stderr",
     "output_type": "stream",
     "text": [
      "/opt/anaconda/lib/python2.7/site-packages/rpy2/robjects/functions.py:106: UserWarning: Error: Faceting variables must have at least one value\n",
      "\n",
      "  res = super(Function, self).__call__(*new_args, **new_kwargs)\n",
      "/opt/anaconda/lib/python2.7/site-packages/rpy2/robjects/functions.py:106: UserWarning: 1: \n",
      "  res = super(Function, self).__call__(*new_args, **new_kwargs)\n",
      "/opt/anaconda/lib/python2.7/site-packages/rpy2/robjects/functions.py:106: UserWarning: 2: \n",
      "  res = super(Function, self).__call__(*new_args, **new_kwargs)\n"
     ]
    },
    {
     "ename": "RRuntimeError",
     "evalue": "Error: Faceting variables must have at least one value\n",
     "output_type": "error",
     "traceback": [
      "\u001b[1;31m---------------------------------------------------------------------------\u001b[0m",
      "\u001b[1;31mRRuntimeError\u001b[0m                             Traceback (most recent call last)",
      "\u001b[1;32m<ipython-input-49-ae87c7471359>\u001b[0m in \u001b[0;36m<module>\u001b[1;34m()\u001b[0m\n\u001b[1;32m----> 1\u001b[1;33m \u001b[0mget_ipython\u001b[0m\u001b[1;33m(\u001b[0m\u001b[1;33m)\u001b[0m\u001b[1;33m.\u001b[0m\u001b[0mrun_cell_magic\u001b[0m\u001b[1;33m(\u001b[0m\u001b[1;34mu'R'\u001b[0m\u001b[1;33m,\u001b[0m \u001b[1;34mu'-w 800 -h 700'\u001b[0m\u001b[1;33m,\u001b[0m \u001b[1;34mu'\\ndf.l2fc.P.rejH$Month = reorder(df.l2fc.P.rejH$Month, df.l2fc.P.rejH$Month %>% as.numeric)\\n\\nggplot(df.l2fc.P.rejH, aes(sparsity_threshold, n_reject_hypo)) +\\n    geom_point(aes(color= Year)) +\\n    geom_line(aes(color = Year)) +\\n    facet_grid(Month ~ Year, scales = \"free_y\") +\\n    theme_bw() +\\n    theme(\\n        text = element_text(size=18)\\n        )'\u001b[0m\u001b[1;33m)\u001b[0m\u001b[1;33m\u001b[0m\u001b[0m\n\u001b[0m",
      "\u001b[1;32m/opt/anaconda/lib/python2.7/site-packages/IPython/core/interactiveshell.pyc\u001b[0m in \u001b[0;36mrun_cell_magic\u001b[1;34m(self, magic_name, line, cell)\u001b[0m\n\u001b[0;32m   2291\u001b[0m             \u001b[0mmagic_arg_s\u001b[0m \u001b[1;33m=\u001b[0m \u001b[0mself\u001b[0m\u001b[1;33m.\u001b[0m\u001b[0mvar_expand\u001b[0m\u001b[1;33m(\u001b[0m\u001b[0mline\u001b[0m\u001b[1;33m,\u001b[0m \u001b[0mstack_depth\u001b[0m\u001b[1;33m)\u001b[0m\u001b[1;33m\u001b[0m\u001b[0m\n\u001b[0;32m   2292\u001b[0m             \u001b[1;32mwith\u001b[0m \u001b[0mself\u001b[0m\u001b[1;33m.\u001b[0m\u001b[0mbuiltin_trap\u001b[0m\u001b[1;33m:\u001b[0m\u001b[1;33m\u001b[0m\u001b[0m\n\u001b[1;32m-> 2293\u001b[1;33m                 \u001b[0mresult\u001b[0m \u001b[1;33m=\u001b[0m \u001b[0mfn\u001b[0m\u001b[1;33m(\u001b[0m\u001b[0mmagic_arg_s\u001b[0m\u001b[1;33m,\u001b[0m \u001b[0mcell\u001b[0m\u001b[1;33m)\u001b[0m\u001b[1;33m\u001b[0m\u001b[0m\n\u001b[0m\u001b[0;32m   2294\u001b[0m             \u001b[1;32mreturn\u001b[0m \u001b[0mresult\u001b[0m\u001b[1;33m\u001b[0m\u001b[0m\n\u001b[0;32m   2295\u001b[0m \u001b[1;33m\u001b[0m\u001b[0m\n",
      "\u001b[1;32m/opt/anaconda/lib/python2.7/site-packages/rpy2/ipython/rmagic.pyc\u001b[0m in \u001b[0;36mR\u001b[1;34m(self, line, cell, local_ns)\u001b[0m\n",
      "\u001b[1;32m/opt/anaconda/lib/python2.7/site-packages/IPython/core/magic.pyc\u001b[0m in \u001b[0;36m<lambda>\u001b[1;34m(f, *a, **k)\u001b[0m\n\u001b[0;32m    191\u001b[0m     \u001b[1;31m# but it's overkill for just that one bit of state.\u001b[0m\u001b[1;33m\u001b[0m\u001b[1;33m\u001b[0m\u001b[0m\n\u001b[0;32m    192\u001b[0m     \u001b[1;32mdef\u001b[0m \u001b[0mmagic_deco\u001b[0m\u001b[1;33m(\u001b[0m\u001b[0marg\u001b[0m\u001b[1;33m)\u001b[0m\u001b[1;33m:\u001b[0m\u001b[1;33m\u001b[0m\u001b[0m\n\u001b[1;32m--> 193\u001b[1;33m         \u001b[0mcall\u001b[0m \u001b[1;33m=\u001b[0m \u001b[1;32mlambda\u001b[0m \u001b[0mf\u001b[0m\u001b[1;33m,\u001b[0m \u001b[1;33m*\u001b[0m\u001b[0ma\u001b[0m\u001b[1;33m,\u001b[0m \u001b[1;33m**\u001b[0m\u001b[0mk\u001b[0m\u001b[1;33m:\u001b[0m \u001b[0mf\u001b[0m\u001b[1;33m(\u001b[0m\u001b[1;33m*\u001b[0m\u001b[0ma\u001b[0m\u001b[1;33m,\u001b[0m \u001b[1;33m**\u001b[0m\u001b[0mk\u001b[0m\u001b[1;33m)\u001b[0m\u001b[1;33m\u001b[0m\u001b[0m\n\u001b[0m\u001b[0;32m    194\u001b[0m \u001b[1;33m\u001b[0m\u001b[0m\n\u001b[0;32m    195\u001b[0m         \u001b[1;32mif\u001b[0m \u001b[0mcallable\u001b[0m\u001b[1;33m(\u001b[0m\u001b[0marg\u001b[0m\u001b[1;33m)\u001b[0m\u001b[1;33m:\u001b[0m\u001b[1;33m\u001b[0m\u001b[0m\n",
      "\u001b[1;32m/opt/anaconda/lib/python2.7/site-packages/rpy2/ipython/rmagic.pyc\u001b[0m in \u001b[0;36mR\u001b[1;34m(self, line, cell, local_ns)\u001b[0m\n\u001b[0;32m    659\u001b[0m                     \u001b[0mold_writeconsole_regular\u001b[0m \u001b[1;33m=\u001b[0m \u001b[0mri\u001b[0m\u001b[1;33m.\u001b[0m\u001b[0mget_writeconsole_regular\u001b[0m\u001b[1;33m(\u001b[0m\u001b[1;33m)\u001b[0m\u001b[1;33m\u001b[0m\u001b[0m\n\u001b[0;32m    660\u001b[0m                     \u001b[0mri\u001b[0m\u001b[1;33m.\u001b[0m\u001b[0mset_writeconsole_regular\u001b[0m\u001b[1;33m(\u001b[0m\u001b[0mself\u001b[0m\u001b[1;33m.\u001b[0m\u001b[0mwrite_console_regular\u001b[0m\u001b[1;33m)\u001b[0m\u001b[1;33m\u001b[0m\u001b[0m\n\u001b[1;32m--> 661\u001b[1;33m                     \u001b[0mro\u001b[0m\u001b[1;33m.\u001b[0m\u001b[0mr\u001b[0m\u001b[1;33m.\u001b[0m\u001b[0mshow\u001b[0m\u001b[1;33m(\u001b[0m\u001b[0mresult\u001b[0m\u001b[1;33m)\u001b[0m\u001b[1;33m\u001b[0m\u001b[0m\n\u001b[0m\u001b[0;32m    662\u001b[0m                     \u001b[0mtext_output\u001b[0m \u001b[1;33m+=\u001b[0m \u001b[0mself\u001b[0m\u001b[1;33m.\u001b[0m\u001b[0mflush\u001b[0m\u001b[1;33m(\u001b[0m\u001b[1;33m)\u001b[0m\u001b[1;33m\u001b[0m\u001b[0m\n\u001b[0;32m    663\u001b[0m                     \u001b[0mri\u001b[0m\u001b[1;33m.\u001b[0m\u001b[0mset_writeconsole_regular\u001b[0m\u001b[1;33m(\u001b[0m\u001b[0mold_writeconsole_regular\u001b[0m\u001b[1;33m)\u001b[0m\u001b[1;33m\u001b[0m\u001b[0m\n",
      "\u001b[1;32m/opt/anaconda/lib/python2.7/site-packages/rpy2/robjects/functions.pyc\u001b[0m in \u001b[0;36m__call__\u001b[1;34m(self, *args, **kwargs)\u001b[0m\n\u001b[0;32m    176\u001b[0m                 \u001b[0mv\u001b[0m \u001b[1;33m=\u001b[0m \u001b[0mkwargs\u001b[0m\u001b[1;33m.\u001b[0m\u001b[0mpop\u001b[0m\u001b[1;33m(\u001b[0m\u001b[0mk\u001b[0m\u001b[1;33m)\u001b[0m\u001b[1;33m\u001b[0m\u001b[0m\n\u001b[0;32m    177\u001b[0m                 \u001b[0mkwargs\u001b[0m\u001b[1;33m[\u001b[0m\u001b[0mr_k\u001b[0m\u001b[1;33m]\u001b[0m \u001b[1;33m=\u001b[0m \u001b[0mv\u001b[0m\u001b[1;33m\u001b[0m\u001b[0m\n\u001b[1;32m--> 178\u001b[1;33m         \u001b[1;32mreturn\u001b[0m \u001b[0msuper\u001b[0m\u001b[1;33m(\u001b[0m\u001b[0mSignatureTranslatedFunction\u001b[0m\u001b[1;33m,\u001b[0m \u001b[0mself\u001b[0m\u001b[1;33m)\u001b[0m\u001b[1;33m.\u001b[0m\u001b[0m__call__\u001b[0m\u001b[1;33m(\u001b[0m\u001b[1;33m*\u001b[0m\u001b[0margs\u001b[0m\u001b[1;33m,\u001b[0m \u001b[1;33m**\u001b[0m\u001b[0mkwargs\u001b[0m\u001b[1;33m)\u001b[0m\u001b[1;33m\u001b[0m\u001b[0m\n\u001b[0m\u001b[0;32m    179\u001b[0m \u001b[1;33m\u001b[0m\u001b[0m\n\u001b[0;32m    180\u001b[0m \u001b[0mpattern_link\u001b[0m \u001b[1;33m=\u001b[0m \u001b[0mre\u001b[0m\u001b[1;33m.\u001b[0m\u001b[0mcompile\u001b[0m\u001b[1;33m(\u001b[0m\u001b[1;34mr'\\\\link\\{(.+?)\\}'\u001b[0m\u001b[1;33m)\u001b[0m\u001b[1;33m\u001b[0m\u001b[0m\n",
      "\u001b[1;32m/opt/anaconda/lib/python2.7/site-packages/rpy2/robjects/functions.pyc\u001b[0m in \u001b[0;36m__call__\u001b[1;34m(self, *args, **kwargs)\u001b[0m\n\u001b[0;32m    104\u001b[0m         \u001b[1;32mfor\u001b[0m \u001b[0mk\u001b[0m\u001b[1;33m,\u001b[0m \u001b[0mv\u001b[0m \u001b[1;32min\u001b[0m \u001b[0mkwargs\u001b[0m\u001b[1;33m.\u001b[0m\u001b[0mitems\u001b[0m\u001b[1;33m(\u001b[0m\u001b[1;33m)\u001b[0m\u001b[1;33m:\u001b[0m\u001b[1;33m\u001b[0m\u001b[0m\n\u001b[0;32m    105\u001b[0m             \u001b[0mnew_kwargs\u001b[0m\u001b[1;33m[\u001b[0m\u001b[0mk\u001b[0m\u001b[1;33m]\u001b[0m \u001b[1;33m=\u001b[0m \u001b[0mconversion\u001b[0m\u001b[1;33m.\u001b[0m\u001b[0mpy2ri\u001b[0m\u001b[1;33m(\u001b[0m\u001b[0mv\u001b[0m\u001b[1;33m)\u001b[0m\u001b[1;33m\u001b[0m\u001b[0m\n\u001b[1;32m--> 106\u001b[1;33m         \u001b[0mres\u001b[0m \u001b[1;33m=\u001b[0m \u001b[0msuper\u001b[0m\u001b[1;33m(\u001b[0m\u001b[0mFunction\u001b[0m\u001b[1;33m,\u001b[0m \u001b[0mself\u001b[0m\u001b[1;33m)\u001b[0m\u001b[1;33m.\u001b[0m\u001b[0m__call__\u001b[0m\u001b[1;33m(\u001b[0m\u001b[1;33m*\u001b[0m\u001b[0mnew_args\u001b[0m\u001b[1;33m,\u001b[0m \u001b[1;33m**\u001b[0m\u001b[0mnew_kwargs\u001b[0m\u001b[1;33m)\u001b[0m\u001b[1;33m\u001b[0m\u001b[0m\n\u001b[0m\u001b[0;32m    107\u001b[0m         \u001b[0mres\u001b[0m \u001b[1;33m=\u001b[0m \u001b[0mconversion\u001b[0m\u001b[1;33m.\u001b[0m\u001b[0mri2ro\u001b[0m\u001b[1;33m(\u001b[0m\u001b[0mres\u001b[0m\u001b[1;33m)\u001b[0m\u001b[1;33m\u001b[0m\u001b[0m\n\u001b[0;32m    108\u001b[0m         \u001b[1;32mreturn\u001b[0m \u001b[0mres\u001b[0m\u001b[1;33m\u001b[0m\u001b[0m\n",
      "\u001b[1;31mRRuntimeError\u001b[0m: Error: Faceting variables must have at least one value\n"
     ]
    }
   ],
   "source": [
    "%%R -w 800 -h 700\n",
    "\n",
    "df.l2fc.P.rejH$Month = reorder(df.l2fc.P.rejH$Month, df.l2fc.P.rejH$Month %>% as.numeric)\n",
    "\n",
    "ggplot(df.l2fc.P.rejH, aes(sparsity_threshold, n_reject_hypo)) +\n",
    "    geom_point(aes(color= Year)) +\n",
    "    geom_line(aes(color = Year)) +\n",
    "    facet_grid(Month ~ Year, scales = \"free_y\") +\n",
    "    theme_bw() +\n",
    "    theme(\n",
    "        text = element_text(size=18)\n",
    "        )"
   ]
  },
  {
   "cell_type": "code",
   "execution_count": null,
   "metadata": {
    "collapsed": false
   },
   "outputs": [],
   "source": [
    "%%R\n",
    "\n",
    "padj.cutoff = 0.1\n",
    "\n",
    "N.rejH.s = df.l2fc.N %>%\n",
    "    filter(padj2 < padj.cutoff) %>%\n",
    "    group_by(sparsity_threshold) %>%\n",
    "    summarize(n_reject_hypo = n()) %>%\n",
    "    ungroup\n",
    "\n",
    "N.rejH.s %>% head(n=3) %>% as.data.frame"
   ]
  },
  {
   "cell_type": "code",
   "execution_count": null,
   "metadata": {
    "collapsed": false
   },
   "outputs": [],
   "source": [
    "%%R\n",
    "# max number of rejected hypos \n",
    "max.N.rejH = N.rejH.s %>%\n",
    "    arrange(desc(n_reject_hypo)) %>%\n",
    "    head(n=1)\n",
    "max.N.rejH = max.N.rejH$sparsity_threshold\n",
    "max.N.rejH"
   ]
  },
  {
   "cell_type": "code",
   "execution_count": null,
   "metadata": {
    "collapsed": false
   },
   "outputs": [],
   "source": [
    "%%R -w 450 -h 400\n",
    "\n",
    "ggplot(df.l2fc.rejH.s, aes(sparsity_threshold, n_reject_hypo)) +\n",
    "    geom_point(size=3) +\n",
    "    geom_vline(xintercept=max.rejH, linetype='dashed', alpha=0.5) +\n",
    "    labs(x='Sparsity threshold', y='Number of rejected hypotheses') +\n",
    "    theme_bw() +\n",
    "    theme(\n",
    "        text = element_text(size=18),\n",
    "        axis.title.y = element_text(vjust=1)\n",
    "        )"
   ]
  },
  {
   "cell_type": "code",
   "execution_count": null,
   "metadata": {
    "collapsed": false
   },
   "outputs": [],
   "source": [
    "%%R\n",
    "df.l2fc.f = df.l2fc %>%\n",
    "    filter(sparsity_threshold == max.rejH) \n",
    "\n",
    "df.l2fc.f %>% nrow"
   ]
  },
  {
   "cell_type": "code",
   "execution_count": null,
   "metadata": {
    "collapsed": false
   },
   "outputs": [],
   "source": [
    "%%R #-i workDir\n",
    "# Writing out l2fc table\n",
    "\n",
    "outFile = 'data/l2fc_sparse-maxRejH_Bulk_OM.txt'\n",
    "write.table(df.l2fc.f, 'data/l2fc_sparse-maxRejH_bulk_OM.txt', sep='\\t', quote=FALSE, row.names=FALSE)"
   ]
  },
  {
   "cell_type": "code",
   "execution_count": null,
   "metadata": {
    "collapsed": false
   },
   "outputs": [],
   "source": [
    "%%R\n",
    "df.l2fc = read.table('data/l2fc_sparse-maxRejH_bulk_OM.txt', sep='\\t', header = TRUE)"
   ]
  },
  {
   "cell_type": "code",
   "execution_count": null,
   "metadata": {
    "collapsed": false
   },
   "outputs": [],
   "source": [
    "%%R\n",
    "df.l2fc$Month = factor(df.l2fc$Month, levels = c(\"April\", \"June\", \"July\", \"August\", \"September\", \"October\", \"November\"))\n"
   ]
  },
  {
   "cell_type": "code",
   "execution_count": null,
   "metadata": {
    "collapsed": false
   },
   "outputs": [],
   "source": [
    "%%R\n",
    "resp = df.l2fc %>% filter(padj2 <=0.05) %>% group_by(Month, Year, OM) %>% summarise(resp = n())\n",
    "resp %>% as.data.frame"
   ]
  },
  {
   "cell_type": "code",
   "execution_count": null,
   "metadata": {
    "collapsed": false
   },
   "outputs": [],
   "source": [
    "%%R -w 800 -h 600\n",
    "p = ggplot(data = resp, aes(x = OM, y = resp, fill = OM)) +\n",
    "    geom_bar(stat = 'identity') + facet_grid(Year~Month, scales = 'free_y')+\n",
    "    theme(text = element_text(size=16)) + ylab(\"Number of Enriched OTUs\") + scale_x_discrete(breaks=NULL)\n",
    "p"
   ]
  },
  {
   "cell_type": "code",
   "execution_count": null,
   "metadata": {
    "collapsed": false
   },
   "outputs": [],
   "source": [
    "%%R\n",
    "ggsave(filename = \"data/figs/EnrichedNumoverTime.jpg\", plot = p, width =12, height =6)"
   ]
  },
  {
   "cell_type": "code",
   "execution_count": null,
   "metadata": {
    "collapsed": false
   },
   "outputs": [],
   "source": [
    "%%R -w 800 -h 300\n",
    "ggplot(data = resp, aes(x = OM, y = resp, fill = OM)) +\n",
    "    geom_bar(stat = 'identity') + facet_grid(Year~Month) +\n",
    "    theme(text = element_text(size=16))"
   ]
  },
  {
   "cell_type": "markdown",
   "metadata": {},
   "source": [
    "####Function arguments"
   ]
  },
  {
   "cell_type": "code",
   "execution_count": null,
   "metadata": {
    "collapsed": false
   },
   "outputs": [],
   "source": [
    "%%R -w 1200 -h 500\n",
    "d = df.l2fc\n",
    "FDR = 0.05\n",
    "\n",
    "d$Rank2 = as.character(d$Rank2)\n",
    "d$Rank2[is.na(d$Rank2)] = \"unclassified\"\n",
    "d$Rank2 = factor(d$Rank2)\n",
    "\n",
    "max.l2fc = ddply(d, .(Rank2), summarize, M = max(log2FoldChange))\n",
    "d$Rank2 = factor(d$Rank2, max.l2fc[order(-max.l2fc$M),]$Rank2)\n",
    "\n",
    "M = max(as.numeric(d$Rank2), na.rm = TRUE) + 1\n",
    "d$x = as.numeric(d$Rank2)\n",
    "d$x[is.na(d$x)] = M\n",
    "d$x.jitter = d$x + runif(length(d$x), -1, 1) * 0.2\n",
    "\n",
    "colourCount = length(unique(d$Rank2)) + 1\n",
    "getPalette = colorRampPalette(brewer.pal(10, \"Dark2\"))\n",
    "\n",
    "p = ggplot(d, aes(x = x.jitter, y = log2FoldChange, color = Rank2))\n",
    "p = p + facet_grid(Year~Month)\n",
    "\n",
    "p = p + geom_point(alpha = 1.00, shape = 21, size = 1.5)\n",
    "\n",
    "p = p + scale_color_manual(values = getPalette(colourCount))\n",
    "\n",
    "p = p + geom_point(data = subset(d, padj2 <= 0.05), color = \"black\", shape = 4, size = 2)\n",
    "\n",
    "#p = p + geom_hline(y = 1.3)\n",
    "\n",
    "p = p + theme_bw()\n",
    "\n",
    "p = p + theme(axis.text.x = element_blank())\n",
    "\n",
    "p = p + labs(x = \"Phylum\", color = \"Phylum\")\n",
    "\n",
    "p = p + guides(col = guide_legend(ncol = 2))\n",
    "\n",
    "p = p + labs(y = expression(paste(\"\", log[2],\" Fold Change\",sep=\"\")))\n",
    "\n",
    "p = p + guides(colour = guide_legend(override.aes = list(size=4)))  +\n",
    "    theme(text = element_text(size=16)) #+ guides(color = FALSE)\n",
    "\n",
    "p"
   ]
  },
  {
   "cell_type": "code",
   "execution_count": null,
   "metadata": {
    "collapsed": false
   },
   "outputs": [],
   "source": [
    "%%R\n",
    "re = filter(df.l2fc, padj2 <=0.05)\n",
    "length(unique(re$OTU))"
   ]
  },
  {
   "cell_type": "code",
   "execution_count": null,
   "metadata": {
    "collapsed": false
   },
   "outputs": [],
   "source": [
    "%%R\n",
    "head(dcounts)"
   ]
  },
  {
   "cell_type": "code",
   "execution_count": null,
   "metadata": {
    "collapsed": false
   },
   "outputs": [],
   "source": [
    "%%R -w 800 -h 1000\n",
    "dcounts = df.l2fc %>%\n",
    "          filter(!is.na(log2FoldChange)) %>%\n",
    "          filter(!is.na(padj)) %>%\n",
    "          filter(log2FoldChange > 0) %>%\n",
    "          group_by(Rank2,Month) %>%\n",
    "          summarize(responders = sum(padj<= 0.10))\n",
    "dcounts = filter(dcounts, responders > 1)\n",
    "dcounts$Rank2 <- droplevels(dcounts$Rank2) \n",
    "dcounts$Rank2 = reorder(dcounts$Rank2, -dcounts$responders)\n",
    "\n",
    "\n",
    "p = ggplot(dcounts, aes(x = Month , y = responders, fill = Month)) +\n",
    "    geom_bar(stat = \"identity\") + scale_x_discrete(breaks=NULL) +\n",
    "    facet_wrap( ~ Rank2, ncol = 4, nrow = 7) + ggtitle(\"NT Responders\")\n",
    "\n",
    "\n",
    "p"
   ]
  },
  {
   "cell_type": "code",
   "execution_count": null,
   "metadata": {
    "collapsed": false
   },
   "outputs": [],
   "source": [
    "%%R -w 800 -h 1000\n",
    "dcounts = df.l2fc %>%\n",
    "          filter(!is.na(log2FoldChange)) %>%\n",
    "          filter(!is.na(padj)) %>%\n",
    "          filter(log2FoldChange < 0) %>%\n",
    "          group_by(Rank2,Month) %>%\n",
    "          summarize(responders = sum(padj<= 0.10))\n",
    "dcounts = filter(dcounts, responders > 0)\n",
    "dcounts$Rank2 <- droplevels(dcounts$Rank2)\n",
    "dcounts$Rank2 = reorder(dcounts$Rank2, -dcounts$responders)\n",
    "\n",
    "p = ggplot(dcounts, aes(x = Month , y = responders, fill = Month)) +\n",
    "    geom_bar(stat = \"identity\") + scale_x_discrete(breaks=NULL, name = NULL) +\n",
    "    facet_wrap( ~ Rank2, scales = \"free_y\", ncol = 4, nrow = 7) + ggtitle(\"PT Responders\") + ylab(\"Responder Counts\") \n",
    "    \n",
    "\n",
    "\n",
    "p"
   ]
  },
  {
   "cell_type": "code",
   "execution_count": null,
   "metadata": {
    "collapsed": false
   },
   "outputs": [],
   "source": [
    "%%R\n",
    "ggsave(filename = \"figs/PT_byphyla.png\", plot = p, width =6, height =8)"
   ]
  },
  {
   "cell_type": "code",
   "execution_count": null,
   "metadata": {
    "collapsed": false
   },
   "outputs": [],
   "source": [
    "%%R\n",
    "dcounts$responders"
   ]
  },
  {
   "cell_type": "code",
   "execution_count": null,
   "metadata": {
    "collapsed": false
   },
   "outputs": [],
   "source": [
    "%%R \n",
    " new_df.l2fc = df.l2fc %>% \n",
    "filter(!is.na(log2FoldChange)) %>% \n",
    "filter(!is.na(padj)) %>%\n",
    "select(log2FoldChange, padj, OTU, Rank2, Month) \n",
    "\n"
   ]
  },
  {
   "cell_type": "code",
   "execution_count": null,
   "metadata": {
    "collapsed": false
   },
   "outputs": [],
   "source": [
    "%%R\n",
    "new_df.l2fc$Resp_status[new_df.l2fc$padj > 0.10] = \"non-responder\"\n",
    "new_df.l2fc$Resp_status[new_df.l2fc$padj <= 0.10 & new_df.l2fc$log2FoldChange > 0] = \"NT enriched\"\n",
    "new_df.l2fc$Resp_status[new_df.l2fc$padj <= 0.10 &  new_df.l2fc$log2FoldChange < 0] = \"PT enriched\""
   ]
  },
  {
   "cell_type": "code",
   "execution_count": null,
   "metadata": {
    "collapsed": false
   },
   "outputs": [],
   "source": [
    "%%R\n",
    "NT = filter(new_df.l2fc, Month == \"November\")\n",
    "PT = filter(new_df.l2fc, Month == \"November\")\n",
    "#length(unique(intersect(NT$OTU, PT$OTU)))\n",
    "length((NT$OTU))"
   ]
  },
  {
   "cell_type": "code",
   "execution_count": null,
   "metadata": {
    "collapsed": false
   },
   "outputs": [],
   "source": [
    "%%R -w 1000 -h 500\n",
    "dcounts = new_df.l2fc %>%\n",
    "          #filter(!is.na(log2FoldChange)) %>%\n",
    "          #filter(!is.na(padj)) %>%\n",
    "          filter(Resp_status %in% c(\"NT enriched\", \"PT enriched\")) %>%\n",
    "          group_by(Rank2, Month, Resp_status) %>%\n",
    "          summarize(responders = sum(padj<= 0.10))\n",
    "dcounts = filter(dcounts, Rank2 %in% c(\"__Proteobacteria\", \"__Acidobacteria\", \"__Bacteroidetes\", \"__Planctomycetes\", \"__Chloroflexi\", \"__Actinobacteria\", \"__Verrucomicrobia\", \"__Gemmatimonadetes\", \"__Candidate_division_WS3\", \"__Cyanobacteria\", \"__Armatimonadetes\", \"__Firmicutes\", \"__Nitrospirae\", \"__Chlorobi\"))\n",
    "dcounts$Rank2 = reorder(dcounts$Rank2, -dcounts$responders)\n",
    "newrow = c(\"__Firmicutes\", \"October\", \"PT enriched\", as.numeric(0))\n",
    "dcounts = rbind(dcounts,newrow)\n",
    "newrow = c(\"__Armatimonadetes\", \"October\", \"PT enriched\", 0)\n",
    "dcounts = rbind(dcounts,newrow)\n",
    "newrow = c(\"__Armatimonadetes\", \"November\", \"PT enriched\", 0)\n",
    "dcounts = rbind(dcounts,newrow)\n",
    "newrow = c(\"__Cyanobacteria\", \"November\", \"PT enriched\", 0)\n",
    "dcounts = rbind(dcounts,newrow)\n",
    "dcounts$Rank2 <- droplevels(dcounts$Rank2)\n",
    "dcounts$responders= as.numeric(dcounts$responders)\n",
    "dcounts$Rank2 = reorder(dcounts$Rank2, -dcounts$responders)\n",
    "\n",
    "p = ggplot(dcounts, aes(x = Month , y = responders, fill = Resp_status)) +\n",
    "    geom_bar(stat = \"identity\", position=\"dodge\") + #scale_x_discrete(breaks=NULL, name = NULL) +\n",
    "    facet_wrap( ~ Rank2, ncol = 5, scales = \"free_y\") +\n",
    "    #scale_y_discrete(limits = (0, 50)) +\n",
    "    ggtitle(\"Enriched OTUs\") + ylab(\"Responder Counts\")+\n",
    "    xlab(\"Month\") + guides(fill=guide_legend(title=\"Month\")) +\n",
    "    theme(text = element_text(size=18), axis.text.x = element_text(angle=90, vjust=1), legend.position=c(.9, 0.2)) \n",
    "\n",
    "\n",
    "p"
   ]
  },
  {
   "cell_type": "code",
   "execution_count": null,
   "metadata": {
    "collapsed": false
   },
   "outputs": [],
   "source": [
    "%%R\n",
    "ggsave(filename = \"figs/PTvsNT_phyla_wmonths.png\", plot = p, width =16, height =8)"
   ]
  },
  {
   "cell_type": "code",
   "execution_count": null,
   "metadata": {
    "collapsed": false
   },
   "outputs": [],
   "source": [
    "%%R -w 1000 -h 1000\n",
    "dcounts = new_df.l2fc %>%\n",
    "          #filter(!is.na(log2FoldChange)) %>%\n",
    "          #filter(!is.na(padj)) %>%\n",
    "          filter(Resp_status %in% c(\"NT enriched\", \"PT enriched\")) %>%\n",
    "          group_by(Rank2,Month, Resp_status) %>%\n",
    "          summarize(responders = sum(padj<= 0.10))\n",
    "#dcounts = filter(dcounts, responders >= 0)\n",
    "dcounts$Rank2 = reorder(dcounts$Rank2, -dcounts$responders)\n",
    "#dcounts$Rank2 <- droplevels(dcounts$Rank2)\n",
    "\n",
    "p = ggplot(dcounts, aes(x = Resp_status , y = responders, fill = Resp_status)) +\n",
    "    geom_bar(stat = \"identity\") + #scale_x_discrete(breaks=NULL, name = NULL) +\n",
    "    facet_wrap( ~ Rank2, ncol = 6, scales = \"free_y\") + ggtitle(\"Enriched OTUs\") + ylab(\"Responder Counts\")+\n",
    "    xlab(\"Phyla\") + guides(fill=guide_legend(title=\"Responder Status\"))\n",
    "\n",
    "p"
   ]
  },
  {
   "cell_type": "code",
   "execution_count": null,
   "metadata": {
    "collapsed": false
   },
   "outputs": [],
   "source": [
    "%%R\n",
    "ggsave(filename = \"figs/PTvsNT_phyla.png\", plot = p, width =14, height =14)"
   ]
  },
  {
   "cell_type": "code",
   "execution_count": null,
   "metadata": {
    "collapsed": false
   },
   "outputs": [],
   "source": [
    "%%R\n",
    "d = (filter(new_df.l2fc, Resp_status ==\"NT responder\"))\n",
    "length(d$OTU)\n",
    "length(unique(d$OTU))"
   ]
  },
  {
   "cell_type": "code",
   "execution_count": null,
   "metadata": {
    "collapsed": false
   },
   "outputs": [],
   "source": [
    "%%R\n",
    "e = (filter(new_df.l2fc, Resp_status ==\"PT responder\"))\n",
    "length(e$OTU)\n",
    "length(unique(e$OTU))"
   ]
  },
  {
   "cell_type": "code",
   "execution_count": null,
   "metadata": {
    "collapsed": false
   },
   "outputs": [],
   "source": [
    "%%R -w 700 -h 700\n",
    "p = ggplot(new_df.l2fc, aes(log2FoldChange, Rank2))\n",
    "p = p + geom_point(aes(color = Resp_status))\n",
    "#p = p + xlab(\"RNA log2-fold change\") + ylab(\"DNA log2-fold change\")\n",
    "#p = p + scale_colour_discrete((name=\"Responder Status\"),\n",
    " #                        labels =c(\"Nonresponder/Unknown\", \"DNA and RNA Responder\"))\n",
    "p"
   ]
  },
  {
   "cell_type": "code",
   "execution_count": null,
   "metadata": {
    "collapsed": false
   },
   "outputs": [],
   "source": [
    "%%R -w 700 -h 700\n",
    "p = ggplot(new_df.l2fc, aes(log2FoldChange, Rank2))\n",
    "p = p + geom_point(aes(color = Resp_status))\n",
    "p = p + facet_wrap(~Month)\n",
    "#p = p + xlab(\"RNA log2-fold change\") + ylab(\"DNA log2-fold change\")\n",
    "p = p + scale_colour_discrete((name=\"Responder Status\"))\n",
    "p = p + ylab(\"Phylum\")\n",
    "p"
   ]
  },
  {
   "cell_type": "code",
   "execution_count": null,
   "metadata": {
    "collapsed": false
   },
   "outputs": [],
   "source": [
    "%%R -w 1000 -h 400\n",
    "new_df.l2fc_2 = filter(new_df.l2fc, padj <=0.10)\n",
    "p = ggplot(new_df.l2fc_2, aes(log2FoldChange, Rank2))\n",
    "p = p + geom_point(aes(color = Resp_status))\n",
    "p = p + facet_wrap(~Month, ncol = 4)\n",
    "#p = p + xlab(\"RNA log2-fold change\") + ylab(\"DNA log2-fold change\")\n",
    "p = p + scale_colour_discrete((name=\"Responder Status\"))\n",
    "p = p + ylab(\"Phylum\")\n",
    "p"
   ]
  },
  {
   "cell_type": "code",
   "execution_count": null,
   "metadata": {
    "collapsed": false
   },
   "outputs": [],
   "source": [
    "%%R\n",
    "ggsave(filename = \"figs/NT_PT_phyla.png\", plot = p, width =10, height =3)"
   ]
  },
  {
   "cell_type": "code",
   "execution_count": null,
   "metadata": {
    "collapsed": true
   },
   "outputs": [],
   "source": [
    "%%R -w 700 -h 700\n",
    "July = filter(new_df.l2fc, Month == \"July\") %>%\n",
    "        group_by(OTU) \n",
    "Sept = filter(new_df.l2fc, Month == \"September\")%>%\n",
    "        group_by(OTU)\n",
    "JS2 = right_join(July, Sept, by = \"OTU\")"
   ]
  },
  {
   "cell_type": "code",
   "execution_count": null,
   "metadata": {
    "collapsed": true
   },
   "outputs": [],
   "source": [
    "%%R\n",
    "JS2$Resp_status[JS2$padj.x > 0.10 & JS2$padj.y >0.10] = \"unknown/non-responder\"\n",
    "JS2$Resp_status[JS2$padj.x <= 0.10 & JS2$log2FoldChange.x > 0 & JS2$padj.y <= 0.10 & JS2$log2FoldChange.y > 0] = \"NT responder both\"\n",
    "JS2$Resp_status[JS2$padj.x <= 0.10 & JS2$log2FoldChange.x < 0 & JS2$padj.y <= 0.10 & JS2$log2FoldChange.y < 0] = \"PT responder both\"\n",
    "JS2$Resp_status[JS2$padj.x <= 0.10 & JS2$log2FoldChange.x < 0 & JS2$padj.y > 0.10] = \"PT responder July\"\n",
    "JS2$Resp_status[JS2$padj.x > 0.10  & JS2$padj.y <= 0.10 & JS2$log2FoldChange.y < 0] = \"PT responder Sept\"\n",
    "JS2$Resp_status[JS2$padj.x <= 0.10 & JS2$log2FoldChange.x > 0 & JS2$padj.y > 0.10] = \"NT responder July\"\n",
    "JS2$Resp_status[JS2$padj.x > 0.10  & JS2$padj.y <= 0.10 & JS2$log2FoldChange.y > 0] = \"NT responder Sept\""
   ]
  },
  {
   "cell_type": "code",
   "execution_count": null,
   "metadata": {
    "collapsed": false
   },
   "outputs": [],
   "source": [
    "%%R\n",
    "head(JS2)"
   ]
  },
  {
   "cell_type": "code",
   "execution_count": null,
   "metadata": {
    "collapsed": false
   },
   "outputs": [],
   "source": [
    "%%R -w 600 -h 600\n",
    "p = ggplot(JS2, aes(log2FoldChange.x, log2FoldChange.y))\n",
    "p = p + geom_point(aes(color = Resp_status))\n",
    "p = p + xlab(\"July log2-fold change\") + ylab(\"September log2-fold change\")\n",
    "p = p + scale_colour_discrete(name=\"Responder Status\")\n",
    "p = p + theme(text=element_text(size = 20))\n",
    "p"
   ]
  },
  {
   "cell_type": "code",
   "execution_count": null,
   "metadata": {
    "collapsed": true
   },
   "outputs": [],
   "source": [
    "%%R\n",
    "Sept = filter(new_df.l2fc, Month == \"September\") %>%\n",
    "        group_by(OTU) \n",
    "Oct = filter(new_df.l2fc, Month == \"October\")%>%\n",
    "        group_by(OTU)\n",
    "SO = right_join(Sept, Oct, by = \"OTU\")"
   ]
  },
  {
   "cell_type": "code",
   "execution_count": null,
   "metadata": {
    "collapsed": false
   },
   "outputs": [],
   "source": [
    "%%R\n",
    "SO$Resp_status[SO$padj.x > 0.10 & SO$padj.y >0.10] = \"unknown/non-responder\"\n",
    "SO$Resp_status[SO$padj.x <= 0.10 & SO$log2FoldChange.x > 0 & SO$padj.y <= 0.10 & SO$log2FoldChange.y > 0] = \"NT responder both\"\n",
    "SO$Resp_status[SO$padj.x <= 0.10 & SO$log2FoldChange.x < 0 & SO$padj.y <= 0.10 & SO$log2FoldChange.y < 0] = \"PT responder both\"\n",
    "SO$Resp_status[SO$padj.x <= 0.10 & SO$log2FoldChange.x < 0 & SO$padj.y > 0.10] = \"PT responder Sept\"\n",
    "SO$Resp_status[SO$padj.x > 0.10  & SO$padj.y <= 0.10 & SO$log2FoldChange.y < 0] = \"PT responder Oct\"\n",
    "SO$Resp_status[SO$padj.x <= 0.10 & SO$log2FoldChange.x > 0 & SO$padj.y > 0.10] = \"NT responder Sept\"\n",
    "SO$Resp_status[SO$padj.x > 0.10  & SO$padj.y <= 0.10 & SO$log2FoldChange.y > 0] = \"NT responder Oct\""
   ]
  },
  {
   "cell_type": "code",
   "execution_count": null,
   "metadata": {
    "collapsed": false
   },
   "outputs": [],
   "source": [
    "%%R -w 600 -h 600\n",
    "p = ggplot(SO, aes(log2FoldChange.x, log2FoldChange.y))\n",
    "p = p + geom_point(aes(color = Resp_status))\n",
    "p = p + xlab(\"July log2-fold change\") + ylab(\"September log2-fold change\")\n",
    "p = p + scale_colour_discrete(name=\"Responder Status\")\n",
    "p = p + theme(text=element_text(size = 20))\n",
    "p"
   ]
  },
  {
   "cell_type": "markdown",
   "metadata": {},
   "source": [
    "## Blasting against Living Tree Project db"
   ]
  },
  {
   "cell_type": "code",
   "execution_count": null,
   "metadata": {
    "collapsed": false
   },
   "outputs": [],
   "source": [
    "from Bio.Blast.Applications import NcbiblastnCommandline as blast"
   ]
  },
  {
   "cell_type": "code",
   "execution_count": null,
   "metadata": {
    "collapsed": false
   },
   "outputs": [],
   "source": [
    "from cogent import LoadSeqs, DNA\n"
   ]
  },
  {
   "cell_type": "code",
   "execution_count": null,
   "metadata": {
    "collapsed": false
   },
   "outputs": [],
   "source": [
    "OTU_ids = [\"OTU.162\", \"OTU.239\", \"OTU.2456\", \"OTU.256\", \"OTU.3194\", \"OTU.80\"]\n",
    "seqs = LoadSeqs(\"/home/chantal/RNASIP/data/totalRNA.otusn.fasta\", moltype=DNA, aligned=False)\n",
    "seqs = seqs.takeSeqs(OTU_ids).toFasta()\n",
    "print seqs"
   ]
  },
  {
   "cell_type": "code",
   "execution_count": null,
   "metadata": {
    "collapsed": false
   },
   "outputs": [],
   "source": [
    "my_file = open(\"seqs.fasta\", \"w\")\n",
    "my_file.write(seqs)\n",
    "my_file.close()"
   ]
  },
  {
   "cell_type": "code",
   "execution_count": null,
   "metadata": {
    "collapsed": false
   },
   "outputs": [],
   "source": [
    "cline = blast(query = \"seqs.fasta\",\n",
    "              db = \"/var/seq_data/silva/silva_blastdb/silva_RefNR_115\",\n",
    "              outfmt = 6,\n",
    "              out = \"otusn_silvaRefNR115.m6\",\n",
    "              num_threads = 5)\n",
    "print cline\n",
    "cline()"
   ]
  },
  {
   "cell_type": "code",
   "execution_count": null,
   "metadata": {
    "collapsed": false
   },
   "outputs": [],
   "source": [
    "!head -n1 otusn_silvaRefNR115.m6\n",
    "!wc -l otusn_silvaRefNR115.m6\n",
    "! grep -c \"OTU.80\" otusn_silvaRefNR115.m6"
   ]
  },
  {
   "cell_type": "code",
   "execution_count": null,
   "metadata": {
    "collapsed": false
   },
   "outputs": [],
   "source": [
    "from IPython.display import Image\n",
    "import pandas.rpy.common as com"
   ]
  },
  {
   "cell_type": "code",
   "execution_count": null,
   "metadata": {
    "collapsed": false
   },
   "outputs": [],
   "source": [
    "%%R\n",
    "library(data.table)\n",
    "library(dplyr)"
   ]
  },
  {
   "cell_type": "code",
   "execution_count": null,
   "metadata": {
    "collapsed": false
   },
   "outputs": [],
   "source": [
    "%%R\n",
    "blastout_dt = fread(\"otusn_silvaRefNR115.m6\")\n",
    "blastout_df = tbl_df(blastout_dt)\n",
    "colnames(blastout_df) = c(\"OTU\",\n",
    "                        \"acc\",\n",
    "                        \"pid\",\n",
    "                        \"aln.length\",\n",
    "                        \"mismatches\",\n",
    "                        \"gapOpenCount\",\n",
    "                        \"qstart\",\n",
    "                        \"qend\",\n",
    "                        \"sstart\",\n",
    "                        \"send\",\n",
    "                        \"e.value\",\n",
    "                        \"bit.score\")\n",
    "\n",
    "top_hits_df_LTP = blastout_df %>% \n",
    "                          group_by(OTU) %>% \n",
    "                          mutate(Rank = rank(desc(bit.score), ties.method = \"min\")) %>% \n",
    "                          filter(pid > 97.0) %>%\n",
    "                          filter(e.value < 5.0e-180) %>%\n",
    "                          filter(acc %in% c('AM286414', 'AB428568', 'EU877263', 'EF575565', 'EF494193', 'X82449'))"
   ]
  },
  {
   "cell_type": "code",
   "execution_count": null,
   "metadata": {
    "collapsed": false
   },
   "outputs": [],
   "source": [
    "%%R\n",
    "print(head(top_hits_df_LTP))\n",
    "str(top_hits_df_LTP$OTU)"
   ]
  },
  {
   "cell_type": "code",
   "execution_count": null,
   "metadata": {
    "collapsed": false
   },
   "outputs": [],
   "source": [
    "%%R\n",
    "dt = fread(\"/var/seq_data/LTP115_db/LTPs115_SSU.csv\", sep = \";\")\n",
    "colnames(dt) = c(\"acc\",\"start\",\"end\",\"DB.version\",\"name\",\"unknown1\",\"family\",\"unknown2\",\"url\",\"full_tax\")\n",
    "LTP_seq_data = tbl_df(dt)"
   ]
  },
  {
   "cell_type": "code",
   "execution_count": null,
   "metadata": {
    "collapsed": false
   },
   "outputs": [],
   "source": [
    "%%R\n",
    "joined_df = left_join(top_hits_df_LTP, LTP_seq_data)"
   ]
  },
  {
   "cell_type": "code",
   "execution_count": null,
   "metadata": {
    "collapsed": false
   },
   "outputs": [],
   "source": [
    "%%R\n",
    "joined_df = filter(joined_df, name != \"NA\")"
   ]
  },
  {
   "cell_type": "code",
   "execution_count": null,
   "metadata": {
    "collapsed": false
   },
   "outputs": [],
   "source": [
    "%%R\n",
    "dim(joined_df)"
   ]
  },
  {
   "cell_type": "code",
   "execution_count": null,
   "metadata": {
    "collapsed": false
   },
   "outputs": [],
   "source": [
    "df = com.load_data(\"joined_df\")"
   ]
  },
  {
   "cell_type": "code",
   "execution_count": null,
   "metadata": {
    "collapsed": false
   },
   "outputs": [],
   "source": [
    "def get_latex(df):\n",
    "    latex = \"\"\n",
    "    prefix = r\"\\multirow{%s}{*}{%s}\"%(len(df.index), df.OTU.iloc[0])\n",
    "    for i, r in df[[\"name\",\"pid\",\"acc\"]].iterrows():\n",
    "        latex += \" & \" + \" & \".join([str(i) for i in r.values]) + r\" \\\\ \"\n",
    "    return prefix + latex + r\"\\midrule\" + \"\\n\""
   ]
  },
  {
   "cell_type": "code",
   "execution_count": null,
   "metadata": {
    "collapsed": false
   },
   "outputs": [],
   "source": [
    "s = df.groupby(\"OTU\").apply(get_latex)\n",
    "\n",
    "table_framework = r\"\"\"\n",
    "\\documentclass[11pt]{article}\n",
    "\\usepackage{multirow, array, booktabs}\n",
    "\\begin{document}\n",
    "\n",
    "\\thispagestyle{empty}\n",
    " \n",
    "\\begin{table}[ht]\n",
    "\\caption{$^{13}$C RNA responders BLAST against Living Tree Project}\n",
    "\\begin{center}\n",
    "\\begin{tabular}{l>{\\itshape}lrl}\n",
    "    \\toprule \\\\\n",
    "    \\textbf{OTU ID} & \\textbf{Species Name} & \\textbf{BLAST percent identity} & \\textbf{accession} \\\\\n",
    "    \\midrule\n",
    "    %s\n",
    "    \\bottomrule\n",
    "\\end{tabular}\n",
    "\\end{center}\n",
    "\\label{tab:multicol}\n",
    "\\end{table}\n",
    " \n",
    "\\end{document}\"\"\"%\"\".join(s.values)\n",
    "\n",
    "with open(\"../data/tmp/table.tex\", \"w\") as out:\n",
    "    out.write(table_framework)"
   ]
  },
  {
   "cell_type": "code",
   "execution_count": null,
   "metadata": {
    "collapsed": false
   },
   "outputs": [],
   "source": [
    "!latex -output-directory=\"../data/tmp\" ../data/tmp/table.tex >/dev/null 2>&1 && \\\n",
    "dvipng -o ../data/table.png ../data/tmp/table.dvi >/dev/null 2>&1\n",
    "Image(\"../data/table.png\")"
   ]
  }
 ],
 "metadata": {
  "kernelspec": {
   "display_name": "Python 2",
   "language": "python",
   "name": "python2"
  },
  "language_info": {
   "codemirror_mode": {
    "name": "ipython",
    "version": 2
   },
   "file_extension": ".py",
   "mimetype": "text/x-python",
   "name": "python",
   "nbconvert_exporter": "python",
   "pygments_lexer": "ipython2",
   "version": "2.7.11"
  }
 },
 "nbformat": 4,
 "nbformat_minor": 0
}
