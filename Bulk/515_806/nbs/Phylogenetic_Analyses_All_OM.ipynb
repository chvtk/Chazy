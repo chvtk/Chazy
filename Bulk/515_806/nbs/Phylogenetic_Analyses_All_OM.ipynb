{
 "cells": [
  {
   "cell_type": "code",
   "execution_count": 1,
   "metadata": {
    "collapsed": false
   },
   "outputs": [],
   "source": [
    "%matplotlib inline\n",
    "%load_ext rpy2.ipython"
   ]
  },
  {
   "cell_type": "code",
   "execution_count": 2,
   "metadata": {
    "collapsed": true
   },
   "outputs": [],
   "source": [
    "%%R\n",
    "workDir = '/home/chantal/Chazy/Bulk/515_806/data'\n",
    "figDir = '/home/chantal/Chazy/Bulk/515_806/data/figs/'\n",
    "\n",
    "physeqDir = '/home/chantal/Chazy/data/phyloseq/'\n",
    "physeqBulk = 'bulk-core-rare'\n",
    "#physeqBulk = 'bulk-core' \n",
    "\n",
    "#l2fcResFile = file.path(workDir, 'l2fc_sparse-maxRejH_BULK_0.25_.txt')\n",
    "## NOTEBOOK RUN WITH 0.25 SPARSITY FILTERED DATASET...\n",
    "\n",
    "nprocs = 20"
   ]
  },
  {
   "cell_type": "code",
   "execution_count": 3,
   "metadata": {
    "collapsed": false
   },
   "outputs": [
    {
     "name": "stderr",
     "output_type": "stream",
     "text": [
      "/opt/anaconda/lib/python2.7/site-packages/rpy2/robjects/functions.py:106: UserWarning: data.table 1.9.6  For help type ?data.table or https://github.com/Rdatatable/data.table/wiki\n",
      "\n",
      "  res = super(Function, self).__call__(*new_args, **new_kwargs)\n",
      "/opt/anaconda/lib/python2.7/site-packages/rpy2/robjects/functions.py:106: UserWarning: The fastest way to learn (by data.table authors): https://www.datacamp.com/courses/data-analysis-the-data-table-way\n",
      "\n",
      "  res = super(Function, self).__call__(*new_args, **new_kwargs)\n",
      "/opt/anaconda/lib/python2.7/site-packages/rpy2/robjects/functions.py:106: UserWarning: Loading required package: permute\n",
      "\n",
      "  res = super(Function, self).__call__(*new_args, **new_kwargs)\n",
      "/opt/anaconda/lib/python2.7/site-packages/rpy2/robjects/functions.py:106: UserWarning: Loading required package: lattice\n",
      "\n",
      "  res = super(Function, self).__call__(*new_args, **new_kwargs)\n",
      "/opt/anaconda/lib/python2.7/site-packages/rpy2/robjects/functions.py:106: UserWarning: This is vegan 2.3-3\n",
      "\n",
      "  res = super(Function, self).__call__(*new_args, **new_kwargs)\n",
      "/opt/anaconda/lib/python2.7/site-packages/rpy2/robjects/functions.py:106: UserWarning: \n",
      "Attaching package: ‘dplyr’\n",
      "\n",
      "\n",
      "  res = super(Function, self).__call__(*new_args, **new_kwargs)\n",
      "/opt/anaconda/lib/python2.7/site-packages/rpy2/robjects/functions.py:106: UserWarning: The following objects are masked from ‘package:plyr’:\n",
      "\n",
      "    arrange, count, desc, failwith, id, mutate, rename, summarise,\n",
      "    summarize\n",
      "\n",
      "\n",
      "  res = super(Function, self).__call__(*new_args, **new_kwargs)\n",
      "/opt/anaconda/lib/python2.7/site-packages/rpy2/robjects/functions.py:106: UserWarning: The following objects are masked from ‘package:data.table’:\n",
      "\n",
      "    between, last\n",
      "\n",
      "\n",
      "  res = super(Function, self).__call__(*new_args, **new_kwargs)\n",
      "/opt/anaconda/lib/python2.7/site-packages/rpy2/robjects/functions.py:106: UserWarning: The following objects are masked from ‘package:stats’:\n",
      "\n",
      "    filter, lag\n",
      "\n",
      "\n",
      "  res = super(Function, self).__call__(*new_args, **new_kwargs)\n",
      "/opt/anaconda/lib/python2.7/site-packages/rpy2/robjects/functions.py:106: UserWarning: The following objects are masked from ‘package:base’:\n",
      "\n",
      "    intersect, setdiff, setequal, union\n",
      "\n",
      "\n",
      "  res = super(Function, self).__call__(*new_args, **new_kwargs)\n",
      "/opt/anaconda/lib/python2.7/site-packages/rpy2/robjects/functions.py:106: UserWarning: Loading required package: ape\n",
      "\n",
      "  res = super(Function, self).__call__(*new_args, **new_kwargs)\n",
      "/opt/anaconda/lib/python2.7/site-packages/rpy2/robjects/functions.py:106: UserWarning: Loading required package: nlme\n",
      "\n",
      "  res = super(Function, self).__call__(*new_args, **new_kwargs)\n",
      "/opt/anaconda/lib/python2.7/site-packages/rpy2/robjects/functions.py:106: UserWarning: \n",
      "Attaching package: ‘nlme’\n",
      "\n",
      "\n",
      "  res = super(Function, self).__call__(*new_args, **new_kwargs)\n",
      "/opt/anaconda/lib/python2.7/site-packages/rpy2/robjects/functions.py:106: UserWarning: The following object is masked from ‘package:dplyr’:\n",
      "\n",
      "    collapse\n",
      "\n",
      "\n",
      "  res = super(Function, self).__call__(*new_args, **new_kwargs)\n"
     ]
    }
   ],
   "source": [
    "%%R\n",
    "library(ggplot2)\n",
    "library(phyloseq)\n",
    "library(gridExtra)\n",
    "library(data.table)\n",
    "library(vegan)\n",
    "library(plyr);library(dplyr)\n",
    "library(tidyr)\n",
    "library(picante)"
   ]
  },
  {
   "cell_type": "code",
   "execution_count": 4,
   "metadata": {
    "collapsed": false
   },
   "outputs": [
    {
     "data": {
      "text/plain": [
       "phyloseq-class experiment-level object\n",
       "otu_table()   OTU Table:         [ 19331 taxa and 175 samples ]\n",
       "sample_data() Sample Data:       [ 175 samples by 25 sample variables ]\n",
       "tax_table()   Taxonomy Table:    [ 19331 taxa by 8 taxonomic ranks ]\n",
       "phy_tree()    Phylogenetic Tree: [ 19331 tips and 19330 internal nodes ]\n"
      ]
     },
     "metadata": {},
     "output_type": "display_data"
    }
   ],
   "source": [
    "%%R\n",
    "\n",
    "##Importing and pruning physeq object\n",
    "\n",
    "F = file.path(physeqDir, physeqBulk)\n",
    "physeq.Bulk = readRDS(F)\n",
    "physeq.Bulk.m = physeq.Bulk %>% sample_data\n",
    "physeq.Bulk = prune_samples((physeq.Bulk.m$Land_Management != \"PAS\"),\n",
    "                           physeq.Bulk)\n",
    "\n",
    "\n",
    "physeq.Bulk.m = physeq.Bulk %>% sample_data\n",
    "\n",
    "physeq.Bulk\n"
   ]
  },
  {
   "cell_type": "code",
   "execution_count": 6,
   "metadata": {
    "collapsed": false
   },
   "outputs": [
    {
     "data": {
      "text/plain": [
       "phyloseq-class experiment-level object\n",
       "otu_table()   OTU Table:         [ 3964 taxa and 175 samples ]\n",
       "sample_data() Sample Data:       [ 175 samples by 25 sample variables ]\n",
       "tax_table()   Taxonomy Table:    [ 3964 taxa by 8 taxonomic ranks ]\n",
       "phy_tree()    Phylogenetic Tree: [ 3964 tips and 3963 internal nodes ]\n"
      ]
     },
     "metadata": {},
     "output_type": "display_data"
    }
   ],
   "source": [
    "%%R\n",
    "\n",
    "physeq.sparse = filter_taxa(physeq.Bulk, function(x) sum(x > 0) > (0.25 * length(x)), TRUE)\n",
    "\n",
    "physeq.sparse"
   ]
  },
  {
   "cell_type": "code",
   "execution_count": 7,
   "metadata": {
    "collapsed": false
   },
   "outputs": [],
   "source": [
    "%%R\n",
    "#Creating dataframe from physeq object\n",
    "mdf = psmelt(physeq.sparse)"
   ]
  },
  {
   "cell_type": "code",
   "execution_count": 8,
   "metadata": {
    "collapsed": false
   },
   "outputs": [],
   "source": [
    "%%R \n",
    "#Importing phylogenetic tree\n",
    "phy = read.tree('otusn_pick_sparse.tree')\n",
    "#plot(phy, cex = 0.5)"
   ]
  },
  {
   "cell_type": "markdown",
   "metadata": {},
   "source": [
    "## Calculating NRI (SES - to get NRI, multiply z values by -1)"
   ]
  },
  {
   "cell_type": "code",
   "execution_count": 9,
   "metadata": {
    "collapsed": false
   },
   "outputs": [
    {
     "data": {
      "text/plain": [
       "  sparsity_threshold       OTU log2FoldChange     lfcSE       padj    Rank1\n",
       "1               0.25  OTU.1739    -0.99492092 0.3368987 0.03078444 Bacteria\n",
       "2               0.25  OTU.1813    -0.34779469 0.3307678 0.55980382 Bacteria\n",
       "3               0.25   OTU.778     0.08123953 0.1389644 0.77642167 Bacteria\n",
       "4               0.25  OTU.2180     0.01465938 0.2546136 0.98421287 Bacteria\n",
       "5               0.25 OTU.12365    -0.52013058 0.2320783 0.12348165 Bacteria\n",
       "6               0.25  OTU.2343    -0.66780501 0.2743011 0.08786400 Bacteria\n",
       "             Rank2          Rank3                  Rank4 Rank5 Rank6 Rank7\n",
       "1 __Planctomycetes        __OM190 __uncultured_bacterium  <NA>  <NA>  <NA>\n",
       "2 __Planctomycetes        __OM190 __uncultured_bacterium  <NA>  <NA>  <NA>\n",
       "3 __Planctomycetes __Pla4_lineage __uncultured_bacterium  <NA>  <NA>  <NA>\n",
       "4 __Planctomycetes __Pla4_lineage __uncultured_bacterium  <NA>  <NA>  <NA>\n",
       "5 __Planctomycetes __Pla4_lineage __uncultured_bacterium  <NA>  <NA>  <NA>\n",
       "6 __Planctomycetes __Pla4_lineage __uncultured_bacterium  <NA>  <NA>  <NA>\n",
       "  Rank8     padj2        OM\n",
       "1  <NA> 0.2826947 Harvested\n",
       "2  <NA> 0.9999966 Harvested\n",
       "3  <NA> 0.9999966  Returned\n",
       "4  <NA> 0.9999966  Returned\n",
       "5  <NA> 0.6026827 Harvested\n",
       "6  <NA> 0.5075497 Harvested\n"
      ]
     },
     "metadata": {},
     "output_type": "display_data"
    }
   ],
   "source": [
    "%%R\n",
    "df.l2fc.OM = read.table('data/l2fc_sparse-maxRejH_bulk_OM.txt', sep = '\\t', header = TRUE)\n",
    "head(df.l2fc.OM)"
   ]
  },
  {
   "cell_type": "code",
   "execution_count": 10,
   "metadata": {
    "collapsed": false
   },
   "outputs": [],
   "source": [
    "%%R\n",
    "H.l2fc = filter(df.l2fc.OM, padj2 <=0.10, OM == 'Harvested')\n",
    "R.l2fc = filter(df.l2fc.OM, padj2 <=0.10, OM == 'Returned')"
   ]
  },
  {
   "cell_type": "code",
   "execution_count": 11,
   "metadata": {
    "collapsed": false
   },
   "outputs": [],
   "source": [
    "%%R\n",
    "head(mdf)\n",
    "H = filter(mdf, OTU %in% H.l2fc$OTU)\n",
    "R = filter(mdf, OTU %in% R.l2fc$OTU)"
   ]
  },
  {
   "cell_type": "code",
   "execution_count": 12,
   "metadata": {
    "collapsed": false
   },
   "outputs": [
    {
     "data": {
      "text/plain": [
       "[1] 137\n",
       "[1] 99\n"
      ]
     },
     "metadata": {},
     "output_type": "display_data"
    }
   ],
   "source": [
    "%%R\n",
    "print(length(unique(H$OTU)))\n",
    "print(length(unique(R$OTU)))\n"
   ]
  },
  {
   "cell_type": "code",
   "execution_count": 13,
   "metadata": {
    "collapsed": true
   },
   "outputs": [],
   "source": [
    "%%R\n",
    "OTUs.H = H %>% select(OTU, Sample, Abundance) %>% spread(OTU, Abundance)\n",
    "\n",
    "OTUs.R = R %>% select(OTU, Sample, Abundance) %>% spread(OTU, Abundance)"
   ]
  },
  {
   "cell_type": "code",
   "execution_count": 28,
   "metadata": {
    "collapsed": false
   },
   "outputs": [
    {
     "data": {
      "text/plain": [
       "[1] 175\n"
      ]
     },
     "metadata": {},
     "output_type": "display_data"
    }
   ],
   "source": [
    "%%R\n",
    "nrow(OTUs.H)"
   ]
  },
  {
   "cell_type": "code",
   "execution_count": 29,
   "metadata": {
    "collapsed": false
   },
   "outputs": [],
   "source": [
    "%%R\n",
    "#Setting OTUs as rownames\n",
    "rownames(OTUs.H) = OTUs.H$Sample\n",
    "OTUs.H$Sample = NULL\n",
    "\n",
    "rownames(OTUs.R) = OTUs.R$Sample\n",
    "OTUs.R$Sample = NULL"
   ]
  },
  {
   "cell_type": "code",
   "execution_count": 30,
   "metadata": {
    "collapsed": true
   },
   "outputs": [],
   "source": [
    "%%R\n",
    "#Normalizing OTU counts \n",
    "comm.H <- decostand(OTUs.H, method = \"total\")\n",
    "\n",
    "comm.R <- decostand(OTUs.R, method = \"total\")"
   ]
  },
  {
   "cell_type": "code",
   "execution_count": 32,
   "metadata": {
    "collapsed": false
   },
   "outputs": [
    {
     "data": {
      "text/plain": [
       "                 OTU.1031     OTU.1035    OTU.1069 OTU.11057     OTU.1118\n",
       "April15.NTH.1 0.003517588 0.0010050251 0.000000000         0 0.0005025126\n",
       "April15.NTH.2 0.001101322 0.0005506608 0.000000000         0 0.0027533040\n",
       "April15.NTH.3 0.000000000 0.0000000000 0.000000000         0 0.0025813113\n",
       "April15.NTH.4 0.002416432 0.0016109545 0.004027386         0 0.0016109545\n",
       "April15.NTR.1 0.003445306 0.0017226529 0.000000000         0 0.0025839793\n",
       "April15.NTR.2 0.004016064 0.0013386881 0.000000000         0 0.0026773762\n",
       "                  OTU.1142   OTU.11497    OTU.11653     OTU.1170    OTU.1183\n",
       "April15.NTH.1 0.0000000000 0.021608040 0.0005025126 0.0045226131 0.016582915\n",
       "April15.NTH.2 0.0000000000 0.003854626 0.0011013216 0.0027533040 0.008810573\n",
       "April15.NTH.3 0.0015487868 0.002065049 0.0020650490 0.0036138358 0.006195147\n",
       "April15.NTH.4 0.0004027386 0.008860250 0.0112766814 0.0008054772 0.006846557\n",
       "April15.NTR.1 0.0000000000 0.006890612 0.0034453058 0.0060292851 0.012919897\n",
       "April15.NTR.2 0.0000000000 0.000000000 0.0000000000 0.0000000000 0.000000000\n",
       "                 OTU.12     OTU.120    OTU.1253   OTU.12596    OTU.12613\n",
       "April15.NTH.1 0.1316583 0.009045226 0.002010050 0.000000000 0.0000000000\n",
       "April15.NTH.2 0.1194934 0.020925110 0.005506608 0.002753304 0.0005506608\n",
       "April15.NTH.3 0.1713991 0.009808983 0.002065049 0.004646360 0.0056788849\n",
       "April15.NTH.4 0.1264599 0.025372533 0.002819170 0.002416432 0.0000000000\n",
       "April15.NTR.1 0.1154177 0.024978467 0.000000000 0.001722653 0.0000000000\n",
       "April15.NTR.2 0.1044177 0.017402945 0.005354752 0.002677376 0.0000000000\n",
       "              OTU.1267     OTU.1271    OTU.12825     OTU.1297     OTU.1332\n",
       "April15.NTH.1        0 0.0005025126 0.0060301508 0.0000000000 0.0005025126\n",
       "April15.NTH.2        0 0.0005506608 0.0011013216 0.0005506608 0.0022026432\n",
       "April15.NTH.3        0 0.0036138358 0.0000000000 0.0000000000 0.0000000000\n",
       "April15.NTH.4        0 0.0032219090 0.0004027386 0.0016109545 0.0004027386\n",
       "April15.NTR.1        0 0.0000000000 0.0000000000 0.0000000000 0.0008613264\n",
       "April15.NTR.2        0 0.0000000000 0.0000000000 0.0000000000 0.0000000000\n",
       "                 OTU.1380     OTU.1383    OTU.140     OTU.143     OTU.144\n",
       "April15.NTH.1 0.001005025 0.0000000000 0.01809045 0.004020101 0.003015075\n",
       "April15.NTH.2 0.001651982 0.0005506608 0.01817181 0.006057269 0.002753304\n",
       "April15.NTH.3 0.003097574 0.0015487868 0.03097574 0.005162623 0.007743934\n",
       "April15.NTH.4 0.001208216 0.0008054772 0.00886025 0.005235602 0.006443818\n",
       "April15.NTR.1 0.001722653 0.0008613264 0.02756245 0.004306632 0.003445306\n",
       "April15.NTR.2 0.004016064 0.0026773762 0.02275770 0.009370817 0.000000000\n",
       "                OTU.14483     OTU.1449     OTU.150     OTU.152     OTU.1524\n",
       "April15.NTH.1 0.001507538 0.0050251256 0.012060302 0.017085427 0.0005025126\n",
       "April15.NTH.2 0.000000000 0.0011013216 0.009361233 0.007709251 0.0000000000\n",
       "April15.NTH.3 0.001548787 0.0041300981 0.006195147 0.019101704 0.0000000000\n",
       "April15.NTH.4 0.001208216 0.0008054772 0.006846557 0.008054772 0.0000000000\n",
       "April15.NTR.1 0.000000000 0.0000000000 0.003445306 0.006029285 0.0000000000\n",
       "April15.NTR.2 0.000000000 0.0000000000 0.001338688 0.001338688 0.0000000000\n",
       "                  OTU.1529     OTU.153     OTU.1532     OTU.155     OTU.1556\n",
       "April15.NTH.1 0.0010050251 0.002512563 0.0005025126 0.005527638 0.0010050251\n",
       "April15.NTH.2 0.0005506608 0.003854626 0.0044052863 0.004955947 0.0049559471\n",
       "April15.NTH.3 0.0005162623 0.009808983 0.0051626226 0.005678885 0.0000000000\n",
       "April15.NTH.4 0.0000000000 0.005638341 0.0040273862 0.012887636 0.0004027386\n",
       "April15.NTR.1 0.0000000000 0.002583979 0.0025839793 0.008613264 0.0000000000\n",
       "April15.NTR.2 0.0000000000 0.013386881 0.0013386881 0.005354752 0.0000000000\n",
       "                  OTU.1594  OTU.16379     OTU.165     OTU.166    OTU.16655\n",
       "April15.NTH.1 0.0000000000 0.02211055 0.005527638 0.000000000 0.0025125628\n",
       "April15.NTH.2 0.0060572687 0.01156388 0.006607930 0.002202643 0.0011013216\n",
       "April15.NTH.3 0.0025813113 0.02219928 0.003613836 0.004646360 0.0010325245\n",
       "April15.NTH.4 0.0008054772 0.01208216 0.005638341 0.022150624 0.0012082159\n",
       "April15.NTR.1 0.0000000000 0.01808786 0.006890612 0.001722653 0.0008613264\n",
       "April15.NTR.2 0.0000000000 0.01472557 0.014725569 0.000000000 0.0026773762\n",
       "                  OTU.1685    OTU.1694     OTU.17     OTU.1701     OTU.1708\n",
       "April15.NTH.1 0.0020100503 0.000000000 0.04623116 0.0005025126 0.0020100503\n",
       "April15.NTH.2 0.0011013216 0.002753304 0.03909692 0.0000000000 0.0011013216\n",
       "April15.NTH.3 0.0005162623 0.002581311 0.04130098 0.0005162623 0.0005162623\n",
       "April15.NTH.4 0.0020136931 0.001208216 0.02335884 0.0000000000 0.0032219090\n",
       "April15.NTR.1 0.0000000000 0.000000000 0.05426357 0.0000000000 0.0034453058\n",
       "April15.NTR.2 0.0000000000 0.001338688 0.10174029 0.0013386881 0.0000000000\n",
       "                OTU.17211    OTU.1819     OTU.184    OTU.1846    OTU.18482\n",
       "April15.NTH.1 0.001005025 0.001005025 0.013065327 0.001005025 0.0020100503\n",
       "April15.NTH.2 0.002753304 0.001101322 0.010462555 0.000000000 0.0005506608\n",
       "April15.NTH.3 0.001032525 0.001032525 0.006195147 0.000000000 0.0020650490\n",
       "April15.NTH.4 0.002013693 0.000000000 0.015706806 0.000000000 0.0012082159\n",
       "April15.NTR.1 0.001722653 0.000000000 0.004306632 0.000000000 0.0000000000\n",
       "April15.NTR.2 0.001338688 0.000000000 0.002677376 0.000000000 0.0013386881\n",
       "                 OTU.18677    OTU.19200    OTU.1944     OTU.1959    OTU.1979\n",
       "April15.NTH.1 0.0045226131 0.0005025126 0.000000000 0.0005025126 0.002010050\n",
       "April15.NTH.2 0.0044052863 0.0011013216 0.000000000 0.0011013216 0.002202643\n",
       "April15.NTH.3 0.0005162623 0.0010325245 0.000000000 0.0010325245 0.000000000\n",
       "April15.NTH.4 0.0012082159 0.0012082159 0.000000000 0.0008054772 0.002013693\n",
       "April15.NTR.1 0.0008613264 0.0000000000 0.001722653 0.0017226529 0.000000000\n",
       "April15.NTR.2 0.0000000000 0.0000000000 0.000000000 0.0000000000 0.000000000\n",
       "                  OTU.198     OTU.201   OTU.20761    OTU.20894     OTU.211\n",
       "April15.NTH.1 0.005527638 0.001507538 0.004522613 0.0020100503 0.001005025\n",
       "April15.NTH.2 0.008259912 0.004405286 0.001651982 0.0011013216 0.011563877\n",
       "April15.NTH.3 0.009808983 0.005162623 0.007227672 0.0010325245 0.007743934\n",
       "April15.NTH.4 0.005638341 0.009665727 0.001610954 0.0004027386 0.017317761\n",
       "April15.NTR.1 0.010335917 0.007751938 0.004306632 0.0008613264 0.003445306\n",
       "April15.NTR.2 0.000000000 0.000000000 0.000000000 0.0000000000 0.004016064\n",
       "                  OTU.216   OTU.22167    OTU.2259    OTU.22622    OTU.2330\n",
       "April15.NTH.1 0.007035176 0.000000000 0.000000000 0.0005025126 0.001507538\n",
       "April15.NTH.2 0.011013216 0.002753304 0.001101322 0.0011013216 0.004405286\n",
       "April15.NTH.3 0.002065049 0.003613836 0.001548787 0.0067114094 0.004646360\n",
       "April15.NTH.4 0.001208216 0.003624648 0.000000000 0.0000000000 0.002416432\n",
       "April15.NTR.1 0.005167959 0.000000000 0.000000000 0.0034453058 0.002583979\n",
       "April15.NTR.2 0.009370817 0.002677376 0.000000000 0.0000000000 0.000000000\n",
       "                 OTU.25014     OTU.2504   OTU.25113    OTU.2650    OTU.2680\n",
       "April15.NTH.1 0.0015075377 0.0005025126 0.001005025 0.001005025 0.001005025\n",
       "April15.NTH.2 0.0016519824 0.0005506608 0.001101322 0.000000000 0.000000000\n",
       "April15.NTH.3 0.0010325245 0.0000000000 0.001032525 0.000000000 0.001548787\n",
       "April15.NTH.4 0.0004027386 0.0000000000 0.001208216 0.002013693 0.000000000\n",
       "April15.NTR.1 0.0017226529 0.0017226529 0.000000000 0.000000000 0.000000000\n",
       "April15.NTR.2 0.0013386881 0.0000000000 0.001338688 0.000000000 0.000000000\n",
       "                  OTU.2744  OTU.27497     OTU.277     OTU.284      OTU.286\n",
       "April15.NTH.1 0.0010050251 0.09195980 0.001507538 0.007537688 0.0045226131\n",
       "April15.NTH.2 0.0016519824 0.02092511 0.002753304 0.003303965 0.0044052863\n",
       "April15.NTH.3 0.0005162623 0.04594734 0.004646360 0.003613836 0.0092927207\n",
       "April15.NTH.4 0.0024164317 0.05799436 0.002416432 0.003624648 0.0048328635\n",
       "April15.NTR.1 0.0000000000 0.06890612 0.002583979 0.002583979 0.0008613264\n",
       "April15.NTR.2 0.0013386881 0.01874163 0.000000000 0.001338688 0.0133868809\n",
       "                OTU.28902   OTU.29650   OTU.30025     OTU.303      OTU.311\n",
       "April15.NTH.1 0.002512563 0.008040201 0.002512563 0.013567839 0.0010050251\n",
       "April15.NTH.2 0.005506608 0.007158590 0.000000000 0.013215859 0.0022026432\n",
       "April15.NTH.3 0.001032525 0.007743934 0.001032525 0.013939081 0.0061951471\n",
       "April15.NTH.4 0.002819170 0.006443818 0.001610954 0.009262988 0.0084575111\n",
       "April15.NTR.1 0.001722653 0.003445306 0.000000000 0.011197244 0.0008613264\n",
       "April15.NTR.2 0.000000000 0.005354752 0.000000000 0.012048193 0.0026773762\n",
       "                  OTU.313     OTU.317     OTU.324     OTU.34      OTU.348\n",
       "April15.NTH.1 0.003015075 0.004522613 0.014070352 0.05527638 0.0015075377\n",
       "April15.NTH.2 0.009911894 0.001651982 0.003854626 0.03414097 0.0005506608\n",
       "April15.NTH.3 0.000000000 0.005678885 0.001032525 0.04284977 0.0000000000\n",
       "April15.NTH.4 0.008860250 0.002013693 0.006443818 0.03262183 0.0012082159\n",
       "April15.NTR.1 0.004306632 0.006890612 0.008613264 0.09819121 0.0000000000\n",
       "April15.NTR.2 0.004016064 0.002677376 0.000000000 0.06693440 0.0066934404\n",
       "                  OTU.362     OTU.37     OTU.379     OTU.394      OTU.398\n",
       "April15.NTH.1 0.002512563 0.09296482 0.007035176 0.001005025 0.0005025126\n",
       "April15.NTH.2 0.001651982 0.16464758 0.008810573 0.000000000 0.0066079295\n",
       "April15.NTH.3 0.002581311 0.12854930 0.005678885 0.000000000 0.0020650490\n",
       "April15.NTH.4 0.002416432 0.14256947 0.004027386 0.000000000 0.0056383407\n",
       "April15.NTR.1 0.001722653 0.16020672 0.003445306 0.000000000 0.0017226529\n",
       "April15.NTR.2 0.005354752 0.23025435 0.000000000 0.000000000 0.0026773762\n",
       "                  OTU.3996     OTU.401      OTU.413     OTU.416     OTU.4252\n",
       "April15.NTH.1 0.0000000000 0.006030151 0.0000000000 0.002512563 0.0010050251\n",
       "April15.NTH.2 0.0022026432 0.003854626 0.0016519824 0.005506608 0.0005506608\n",
       "April15.NTH.3 0.0020650490 0.003613836 0.0005162623 0.002065049 0.0000000000\n",
       "April15.NTH.4 0.0004027386 0.001208216 0.0004027386 0.007249295 0.0008054772\n",
       "April15.NTR.1 0.0017226529 0.000000000 0.0000000000 0.000000000 0.0000000000\n",
       "April15.NTR.2 0.0040160643 0.002677376 0.0000000000 0.000000000 0.0000000000\n",
       "                  OTU.44     OTU.440    OTU.4422     OTU.445     OTU.45\n",
       "April15.NTH.1 0.02412060 0.008040201 0.001005025 0.001507538 0.04572864\n",
       "April15.NTH.2 0.02973568 0.002202643 0.002753304 0.003854626 0.03909692\n",
       "April15.NTH.3 0.02168301 0.020134228 0.000000000 0.005678885 0.02116675\n",
       "April15.NTH.4 0.03221909 0.004832863 0.000000000 0.005638341 0.04067660\n",
       "April15.NTR.1 0.02411714 0.006029285 0.000000000 0.001722653 0.02583979\n",
       "April15.NTR.2 0.04685408 0.005354752 0.000000000 0.000000000 0.03882195\n",
       "                  OTU.475      OTU.477     OTU.485     OTU.505      OTU.510\n",
       "April15.NTH.1 0.002512563 0.0005025126 0.007035176 0.010552764 0.0005025126\n",
       "April15.NTH.2 0.003303965 0.0016519824 0.015418502 0.007709251 0.0071585903\n",
       "April15.NTH.3 0.000000000 0.0010325245 0.007743934 0.008260196 0.0036138358\n",
       "April15.NTH.4 0.001208216 0.0028191704 0.008860250 0.010471204 0.0024164317\n",
       "April15.NTR.1 0.000000000 0.0000000000 0.015503876 0.005167959 0.0051679587\n",
       "April15.NTR.2 0.000000000 0.0013386881 0.010709505 0.004016064 0.0040160643\n",
       "                 OTU.5164     OTU.541     OTU.554     OTU.57     OTU.570\n",
       "April15.NTH.1 0.005527638 0.002010050 0.004522613 0.01155779 0.001005025\n",
       "April15.NTH.2 0.005506608 0.001651982 0.007709251 0.03138767 0.001101322\n",
       "April15.NTH.3 0.004130098 0.001548787 0.007227672 0.03510583 0.001032525\n",
       "April15.NTH.4 0.001610954 0.003221909 0.002416432 0.02658075 0.002819170\n",
       "April15.NTR.1 0.001722653 0.007751938 0.006029285 0.01378122 0.003445306\n",
       "April15.NTR.2 0.001338688 0.000000000 0.012048193 0.01740295 0.001338688\n",
       "                  OTU.573      OTU.60      OTU.619     OTU.670      OTU.709\n",
       "April15.NTH.1 0.015577889 0.012562814 0.0010050251 0.002010050 0.0020100503\n",
       "April15.NTH.2 0.003303965 0.010462555 0.0055066079 0.006057269 0.0011013216\n",
       "April15.NTH.3 0.009808983 0.002581311 0.0015487868 0.001548787 0.0000000000\n",
       "April15.NTH.4 0.007249295 0.010068466 0.0008054772 0.001610954 0.0008054772\n",
       "April15.NTR.1 0.006890612 0.011197244 0.0017226529 0.000000000 0.0017226529\n",
       "April15.NTR.2 0.010709505 0.001338688 0.0040160643 0.002677376 0.0000000000\n",
       "                   OTU.719      OTU.725     OTU.754    OTU.7644      OTU.78\n",
       "April15.NTH.1 0.0030150754 0.0005025126 0.003015075 0.006532663 0.003517588\n",
       "April15.NTH.2 0.0022026432 0.0000000000 0.004955947 0.011563877 0.008259912\n",
       "April15.NTH.3 0.0005162623 0.0015487868 0.003097574 0.006711409 0.004646360\n",
       "April15.NTH.4 0.0008054772 0.0004027386 0.008054772 0.007249295 0.009665727\n",
       "April15.NTR.1 0.0025839793 0.0000000000 0.006029285 0.003445306 0.005167959\n",
       "April15.NTR.2 0.0053547523 0.0000000000 0.002677376 0.009370817 0.000000000\n",
       "                  OTU.802      OTU.808     OTU.822     OTU.826     OTU.83\n",
       "April15.NTH.1 0.002010050 0.0000000000 0.004522613 0.006532663 0.02864322\n",
       "April15.NTH.2 0.004405286 0.0005506608 0.000000000 0.002753304 0.03248899\n",
       "April15.NTH.3 0.002581311 0.0000000000 0.002581311 0.004646360 0.01961797\n",
       "April15.NTH.4 0.006041079 0.0008054772 0.002819170 0.002819170 0.01691502\n",
       "April15.NTR.1 0.002583979 0.0008613264 0.001722653 0.000000000 0.03014643\n",
       "April15.NTR.2 0.000000000 0.0000000000 0.001338688 0.000000000 0.01606426\n",
       "                  OTU.832      OTU.840    OTU.8426     OTU.8836     OTU.903\n",
       "April15.NTH.1 0.002010050 0.0015075377 0.002010050 0.0010050251 0.000000000\n",
       "April15.NTH.2 0.002202643 0.0005506608 0.001101322 0.0005506608 0.001101322\n",
       "April15.NTH.3 0.004646360 0.0000000000 0.004646360 0.0005162623 0.003097574\n",
       "April15.NTH.4 0.002013693 0.0004027386 0.002013693 0.0008054772 0.005638341\n",
       "April15.NTR.1 0.006029285 0.0025839793 0.001722653 0.0017226529 0.001722653\n",
       "April15.NTR.2 0.001338688 0.0000000000 0.008032129 0.0040160643 0.005354752\n",
       "                 OTU.9162     OTU.940     OTU.946     OTU.9486     OTU.958\n",
       "April15.NTH.1 0.014572864 0.001507538 0.002512563 0.0050251256 0.002010050\n",
       "April15.NTH.2 0.008259912 0.002202643 0.004405286 0.0044052863 0.003854626\n",
       "April15.NTH.3 0.012906557 0.000000000 0.003613836 0.0010325245 0.003097574\n",
       "April15.NTH.4 0.004027386 0.001208216 0.006443818 0.0020136931 0.002416432\n",
       "April15.NTR.1 0.011197244 0.000000000 0.004306632 0.0008613264 0.002583979\n",
       "April15.NTR.2 0.009370817 0.000000000 0.008032129 0.0000000000 0.002677376\n",
       "                  OTU.96      OTU.988\n",
       "April15.NTH.1 0.01658291 0.0015075377\n",
       "April15.NTH.2 0.02312775 0.0011013216\n",
       "April15.NTH.3 0.01084151 0.0036138358\n",
       "April15.NTH.4 0.02617801 0.0048328635\n",
       "April15.NTR.1 0.01894918 0.0008613264\n",
       "April15.NTR.2 0.02409639 0.0000000000\n"
      ]
     },
     "metadata": {},
     "output_type": "display_data"
    }
   ],
   "source": [
    "%%R\n",
    "head(comm.H)\n",
    "#Calculate LFC with R1 till vs R1 no-till with time being replicate (n = 11). Then use NRI or NTI with replicates...\n",
    "# If autocorrelation w time, underrepresenting variance; compare responders w global set "
   ]
  },
  {
   "cell_type": "code",
   "execution_count": 14,
   "metadata": {
    "collapsed": true
   },
   "outputs": [],
   "source": [
    "%%R\n",
    "tree = as.phylo(phy)"
   ]
  },
  {
   "cell_type": "code",
   "execution_count": null,
   "metadata": {
    "collapsed": false
   },
   "outputs": [],
   "source": [
    "%%R\n",
    "# For NRI, create 2 comm files - one for NT and one for PT...but use whole tree for both\n",
    "nri.H = ses.mpd(comm.H,cophenetic(tree),null.model=\"taxa.labels\",runs=1000)\n"
   ]
  },
  {
   "cell_type": "code",
   "execution_count": null,
   "metadata": {
    "collapsed": false
   },
   "outputs": [],
   "source": [
    "%%R \n",
    "write.csv(nri.H, file = 'data/NRI_H_all.csv')\n",
    "nri.H = 0 "
   ]
  },
  {
   "cell_type": "code",
   "execution_count": 4,
   "metadata": {
    "collapsed": false
   },
   "outputs": [
    {
     "data": {
      "text/plain": [
       "             X           ntaxa          mpd.obs       mpd.rand.mean   \n",
       " April15.NTH.1:  1   Min.   : 55.0   Min.   :0.6713   Min.   :0.7854  \n",
       " April15.NTH.2:  1   1st Qu.: 91.0   1st Qu.:0.6997   1st Qu.:0.7860  \n",
       " April15.NTH.3:  1   Median :103.0   Median :0.7069   Median :0.7863  \n",
       " April15.NTH.4:  1   Mean   :101.1   Mean   :0.7051   Mean   :0.7863  \n",
       " April15.NTR.1:  1   3rd Qu.:113.0   3rd Qu.:0.7128   3rd Qu.:0.7866  \n",
       " April15.NTR.2:  1   Max.   :128.0   Max.   :0.7292   Max.   :0.7873  \n",
       " (Other)      :169                                                    \n",
       "  mpd.rand.sd       mpd.obs.rank      mpd.obs.z        mpd.obs.p       \n",
       " Min.   :0.02315   Min.   : 1.000   Min.   :-4.380   Min.   :0.000999  \n",
       " 1st Qu.:0.02440   1st Qu.: 1.000   1st Qu.:-3.313   1st Qu.:0.000999  \n",
       " Median :0.02569   Median : 2.000   Median :-3.072   Median :0.001998  \n",
       " Mean   :0.02638   Mean   : 3.097   Mean   :-3.086   Mean   :0.003094  \n",
       " 3rd Qu.:0.02768   3rd Qu.: 3.500   3rd Qu.:-2.878   3rd Qu.:0.003497  \n",
       " Max.   :0.03677   Max.   :43.000   Max.   :-1.798   Max.   :0.042957  \n",
       "                                                                       \n",
       "      runs           padj         \n",
       " Min.   :1000   Min.   :0.002775  \n",
       " 1st Qu.:1000   1st Qu.:0.002775  \n",
       " Median :1000   Median :0.003568  \n",
       " Mean   :1000   Mean   :0.004363  \n",
       " 3rd Qu.:1000   3rd Qu.:0.004364  \n",
       " Max.   :1000   Max.   :0.042957  \n",
       "                                  \n"
      ]
     },
     "metadata": {},
     "output_type": "display_data"
    }
   ],
   "source": [
    "%%R\n",
    "NRI_H = read.csv('data/NRI_H_all.csv')\n",
    "NRI_H$padj = p.adjust(NRI_H$mpd.obs.p,\"BH\")\n",
    "head(NRI_H)\n",
    "summary(NRI_H)"
   ]
  },
  {
   "cell_type": "code",
   "execution_count": 5,
   "metadata": {
    "collapsed": false
   },
   "outputs": [
    {
     "data": {
      "text/plain": [
       "              X ntaxa   mpd.obs mpd.rand.mean mpd.rand.sd mpd.obs.rank\n",
       "1 April15.NTH.1   119 0.7077917     0.7860068  0.02412908            2\n",
       "2 April15.NTH.2   122 0.7110567     0.7863630  0.02371607            1\n",
       "3 April15.NTH.3   112 0.6966404     0.7865866  0.02445917            1\n",
       "4 April15.NTH.4   122 0.7073601     0.7861038  0.02386394            2\n",
       "5 April15.NTR.1    94 0.7140708     0.7862735  0.02694968            5\n",
       "6 April15.NTR.2    74 0.7223808     0.7867458  0.03048246           16\n",
       "  mpd.obs.z   mpd.obs.p runs        padj treat\n",
       "1 -3.241528 0.001998002 1000 0.003567861     H\n",
       "2 -3.175326 0.000999001 1000 0.002775003     H\n",
       "3 -3.677403 0.000999001 1000 0.002775003     H\n",
       "4 -3.299692 0.001998002 1000 0.003567861     H\n",
       "5 -2.679165 0.004995005 1000 0.005463287     H\n",
       "6 -2.111542 0.015984016 1000 0.016262807     H\n"
      ]
     },
     "metadata": {},
     "output_type": "display_data"
    }
   ],
   "source": [
    "%%R\n",
    "NRI_H$treat = 'H'\n",
    "head(NRI_H)"
   ]
  },
  {
   "cell_type": "code",
   "execution_count": null,
   "metadata": {
    "collapsed": false
   },
   "outputs": [],
   "source": [
    "%%R\n",
    "nri.R = ses.mpd(comm.R,cophenetic(tree),null.model=\"taxa.labels\", runs = 1000)\n"
   ]
  },
  {
   "cell_type": "code",
   "execution_count": null,
   "metadata": {
    "collapsed": false
   },
   "outputs": [],
   "source": [
    "%%R\n",
    "write.csv(nri.R, file = 'data/NRI_R_all.csv')\n",
    "nri.R = 0 "
   ]
  },
  {
   "cell_type": "code",
   "execution_count": 6,
   "metadata": {
    "collapsed": false
   },
   "outputs": [
    {
     "data": {
      "text/plain": [
       "             X           ntaxa          mpd.obs       mpd.rand.mean   \n",
       " April15.NTH.1:  1   Min.   :46.00   Min.   :0.6713   Min.   :0.7839  \n",
       " April15.NTH.2:  1   1st Qu.:62.00   1st Qu.:0.7085   1st Qu.:0.7857  \n",
       " April15.NTH.3:  1   Median :70.00   Median :0.7179   Median :0.7861  \n",
       " April15.NTH.4:  1   Mean   :71.09   Mean   :0.7167   Mean   :0.7861  \n",
       " April15.NTR.1:  1   3rd Qu.:80.00   3rd Qu.:0.7270   3rd Qu.:0.7864  \n",
       " April15.NTR.2:  1   Max.   :96.00   Max.   :0.7446   Max.   :0.7876  \n",
       " (Other)      :169                                                    \n",
       "  mpd.rand.sd       mpd.obs.rank     mpd.obs.z        mpd.obs.p       \n",
       " Min.   :0.02646   Min.   : 1.00   Min.   :-3.257   Min.   :0.000999  \n",
       " 1st Qu.:0.02889   1st Qu.: 7.00   1st Qu.:-2.471   1st Qu.:0.006993  \n",
       " Median :0.03122   Median :12.00   Median :-2.194   Median :0.011988  \n",
       " Mean   :0.03118   Mean   :16.44   Mean   :-2.224   Mean   :0.016424  \n",
       " 3rd Qu.:0.03322   3rd Qu.:22.00   3rd Qu.:-1.977   3rd Qu.:0.021978  \n",
       " Max.   :0.03924   Max.   :74.00   Max.   :-1.409   Max.   :0.073926  \n",
       "                                                                      \n",
       "      runs           padj        \n",
       " Min.   :1000   Min.   :0.02270  \n",
       " 1st Qu.:1000   1st Qu.:0.02270  \n",
       " Median :1000   Median :0.02280  \n",
       " Mean   :1000   Mean   :0.02781  \n",
       " 3rd Qu.:1000   3rd Qu.:0.02892  \n",
       " Max.   :1000   Max.   :0.07393  \n",
       "                                 \n"
      ]
     },
     "metadata": {},
     "output_type": "display_data"
    }
   ],
   "source": [
    "%%R\n",
    "NRI_R = read.csv('data/NRI_R_all.csv')\n",
    "NRI_R$padj = p.adjust(NRI_R$mpd.obs.p,\"BH\")\n",
    "head(NRI_R)\n",
    "summary(NRI_R)"
   ]
  },
  {
   "cell_type": "code",
   "execution_count": 7,
   "metadata": {
    "collapsed": false
   },
   "outputs": [
    {
     "data": {
      "text/plain": [
       "              X ntaxa   mpd.obs mpd.rand.mean mpd.rand.sd mpd.obs.rank\n",
       "1 April15.NTH.1    72 0.7284814     0.7862350  0.03092315           29\n",
       "2 April15.NTH.2    71 0.7173365     0.7864960  0.03064993           11\n",
       "3 April15.NTH.3    68 0.7275946     0.7857646  0.03149121           35\n",
       "4 April15.NTH.4    68 0.7163322     0.7845636  0.03221450           13\n",
       "5 April15.NTR.1    92 0.7256701     0.7865319  0.02684672           11\n",
       "6 April15.NTR.2    79 0.7252887     0.7856717  0.02935857           19\n",
       "  mpd.obs.z  mpd.obs.p runs       padj treat\n",
       "1 -1.867649 0.02897103 1000 0.03448932     R\n",
       "2 -2.256430 0.01098901 1000 0.02280328     R\n",
       "3 -1.847183 0.03496503 1000 0.03848353     R\n",
       "4 -2.118035 0.01298701 1000 0.02367424     R\n",
       "5 -2.267013 0.01098901 1000 0.02280328     R\n",
       "6 -2.056742 0.01898102 1000 0.02657343     R\n"
      ]
     },
     "metadata": {},
     "output_type": "display_data"
    }
   ],
   "source": [
    "%%R\n",
    "NRI_R$treat = 'R'\n",
    "head(NRI_R)"
   ]
  },
  {
   "cell_type": "code",
   "execution_count": 8,
   "metadata": {
    "collapsed": false
   },
   "outputs": [
    {
     "data": {
      "text/plain": [
       "              X ntaxa   mpd.obs mpd.rand.mean mpd.rand.sd mpd.obs.rank\n",
       "1 April15.NTH.1   119 0.7077917     0.7860068  0.02412908            2\n",
       "2 April15.NTH.2   122 0.7110567     0.7863630  0.02371607            1\n",
       "3 April15.NTH.3   112 0.6966404     0.7865866  0.02445917            1\n",
       "4 April15.NTH.4   122 0.7073601     0.7861038  0.02386394            2\n",
       "5 April15.NTR.1    94 0.7140708     0.7862735  0.02694968            5\n",
       "6 April15.NTR.2    74 0.7223808     0.7867458  0.03048246           16\n",
       "  mpd.obs.z   mpd.obs.p runs        padj treat\n",
       "1 -3.241528 0.001998002 1000 0.003567861     H\n",
       "2 -3.175326 0.000999001 1000 0.002775003     H\n",
       "3 -3.677403 0.000999001 1000 0.002775003     H\n",
       "4 -3.299692 0.001998002 1000 0.003567861     H\n",
       "5 -2.679165 0.004995005 1000 0.005463287     H\n",
       "6 -2.111542 0.015984016 1000 0.016262807     H\n"
      ]
     },
     "metadata": {},
     "output_type": "display_data"
    }
   ],
   "source": [
    "%%R\n",
    "NRI_tot = rbind(NRI_H, NRI_R)\n",
    "head(NRI_tot)"
   ]
  },
  {
   "cell_type": "code",
   "execution_count": 9,
   "metadata": {
    "collapsed": false
   },
   "outputs": [
    {
     "data": {
      "image/png": "[encoded data removed]"
     },
     "metadata": {},
     "output_type": "display_data"
    }
   ],
   "source": [
    "%%R\n",
    "ggplot(data = NRI_tot, aes(x = treat, y = -mpd.obs.z)) +\n",
    "geom_boxplot() + theme(text = element_text(size = 18)) + xlab('Treatment') + ylab('NRI')"
   ]
  },
  {
   "cell_type": "code",
   "execution_count": 10,
   "metadata": {
    "collapsed": false
   },
   "outputs": [
    {
     "data": {
      "text/plain": [
       "\n",
       "\tWelch Two Sample t-test\n",
       "\n",
       "data:  NRI_tot$mpd.obs.z by NRI_tot$treat\n",
       "t = -21.868, df = 346.94, p-value < 2.2e-16\n",
       "alternative hypothesis: true difference in means is not equal to 0\n",
       "95 percent confidence interval:\n",
       " -0.9397707 -0.7846712\n",
       "sample estimates:\n",
       "mean in group H mean in group R \n",
       "      -3.086396       -2.224176 \n",
       "\n"
      ]
     },
     "metadata": {},
     "output_type": "display_data"
    }
   ],
   "source": [
    "%%R\n",
    "t.test(NRI_tot$mpd.obs.z ~ NRI_tot$treat)"
   ]
  },
  {
   "cell_type": "markdown",
   "metadata": {},
   "source": [
    "## Calculating NTI (SES, multiply z-values by -1 to get NTI)"
   ]
  },
  {
   "cell_type": "code",
   "execution_count": null,
   "metadata": {
    "collapsed": false
   },
   "outputs": [],
   "source": [
    "%%R\n",
    "nti.H = ses.mntd(comm.H,cophenetic(tree),null.model=\"taxa.labels\",runs=1000)\n"
   ]
  },
  {
   "cell_type": "code",
   "execution_count": null,
   "metadata": {
    "collapsed": true
   },
   "outputs": [],
   "source": [
    "%%R\n",
    "write.csv(nti.H, file = 'data/NTI_H_all.csv')\n",
    "nti.H = 0 "
   ]
  },
  {
   "cell_type": "code",
   "execution_count": 11,
   "metadata": {
    "collapsed": false
   },
   "outputs": [
    {
     "data": {
      "text/plain": [
       "             X           ntaxa          mntd.obs      mntd.rand.mean  \n",
       " April15.NTH.1:  1   Min.   : 55.0   Min.   :0.1516   Min.   :0.2304  \n",
       " April15.NTH.2:  1   1st Qu.: 91.0   1st Qu.:0.1721   1st Qu.:0.2415  \n",
       " April15.NTH.3:  1   Median :103.0   Median :0.1809   Median :0.2497  \n",
       " April15.NTH.4:  1   Mean   :101.1   Mean   :0.1824   Mean   :0.2537  \n",
       " April15.NTR.1:  1   3rd Qu.:113.0   3rd Qu.:0.1889   3rd Qu.:0.2623  \n",
       " April15.NTR.2:  1   Max.   :128.0   Max.   :0.2390   Max.   :0.3150  \n",
       " (Other)      :169                                                    \n",
       "  mntd.rand.sd     mntd.obs.rank      mntd.obs.z       mntd.obs.p      \n",
       " Min.   :0.01443   Min.   : 1.000   Min.   :-5.649   Min.   :0.000999  \n",
       " 1st Qu.:0.01609   1st Qu.: 1.000   1st Qu.:-4.410   1st Qu.:0.000999  \n",
       " Median :0.01718   Median : 1.000   Median :-4.042   Median :0.000999  \n",
       " Mean   :0.01782   Mean   : 1.297   Mean   :-4.013   Mean   :0.001296  \n",
       " 3rd Qu.:0.01905   3rd Qu.: 1.000   3rd Qu.:-3.607   3rd Qu.:0.000999  \n",
       " Max.   :0.02731   Max.   :20.000   Max.   :-2.081   Max.   :0.019980  \n",
       "                                                                       \n",
       "      runs           padj         \n",
       " Min.   :1000   Min.   :0.001086  \n",
       " 1st Qu.:1000   1st Qu.:0.001086  \n",
       " Median :1000   Median :0.001086  \n",
       " Mean   :1000   Mean   :0.001382  \n",
       " 3rd Qu.:1000   3rd Qu.:0.001086  \n",
       " Max.   :1000   Max.   :0.019980  \n",
       "                                  \n"
      ]
     },
     "metadata": {},
     "output_type": "display_data"
    }
   ],
   "source": [
    "%%R\n",
    "NTI_H = read.csv('data/NTI_H_all.csv')\n",
    "NTI_H$padj = p.adjust(NTI_H$mntd.obs.p,\"BH\")\n",
    "\n",
    "summary(NTI_H)"
   ]
  },
  {
   "cell_type": "code",
   "execution_count": null,
   "metadata": {
    "collapsed": true
   },
   "outputs": [],
   "source": [
    "%%R\n",
    "nti.R = ses.mntd(comm.R,cophenetic(tree),null.model=\"taxa.labels\",runs=1000)\n"
   ]
  },
  {
   "cell_type": "code",
   "execution_count": null,
   "metadata": {
    "collapsed": true
   },
   "outputs": [],
   "source": [
    "%%R\n",
    "write.csv(nti.R, file = 'data/NTI_R_all.csv')\n",
    "nti.R = 0 "
   ]
  },
  {
   "cell_type": "code",
   "execution_count": 12,
   "metadata": {
    "collapsed": false
   },
   "outputs": [
    {
     "data": {
      "text/plain": [
       "              X ntaxa  mntd.obs mntd.rand.mean mntd.rand.sd mntd.obs.rank\n",
       "1 April15.NTH.1    72 0.2017658      0.2863493   0.02294299             1\n",
       "2 April15.NTH.2    71 0.2343228      0.2870841   0.02335602            10\n",
       "3 April15.NTH.3    68 0.2156374      0.2924221   0.02340951             1\n",
       "4 April15.NTH.4    68 0.2071612      0.2915234   0.02401987             1\n",
       "5 April15.NTR.1    92 0.1844709      0.2612486   0.01879674             1\n",
       "6 April15.NTR.2    79 0.2081582      0.2766268   0.02118300             2\n",
       "  mntd.obs.z  mntd.obs.p runs        padj\n",
       "1  -3.686683 0.000999001 1000 0.001942502\n",
       "2  -2.259002 0.009990010 1000 0.010406260\n",
       "3  -3.280067 0.000999001 1000 0.001942502\n",
       "4  -3.512186 0.000999001 1000 0.001942502\n",
       "5  -4.084628 0.000999001 1000 0.001942502\n",
       "6  -3.232240 0.001998002 1000 0.002963139\n"
      ]
     },
     "metadata": {},
     "output_type": "display_data"
    }
   ],
   "source": [
    "%%R\n",
    "NTI.R = read.csv('data/NTI_R_all.csv', header = TRUE)\n",
    "NTI.R$padj = p.adjust(NTI.R$mntd.obs.p,\"BH\")\n",
    "\n",
    "head(NTI.R)"
   ]
  },
  {
   "cell_type": "code",
   "execution_count": null,
   "metadata": {
    "collapsed": false
   },
   "outputs": [],
   "source": [
    "%%R\n",
    "summary(NTI.R)"
   ]
  },
  {
   "cell_type": "code",
   "execution_count": 13,
   "metadata": {
    "collapsed": false
   },
   "outputs": [],
   "source": [
    "%%R\n",
    "NTI_H$treat = 'H'\n",
    "NTI.R$treat = 'R'\n"
   ]
  },
  {
   "cell_type": "code",
   "execution_count": 14,
   "metadata": {
    "collapsed": false
   },
   "outputs": [
    {
     "data": {
      "text/plain": [
       "              X ntaxa  mntd.obs mntd.rand.mean mntd.rand.sd mntd.obs.rank\n",
       "1 April15.NTH.1   119 0.1601981      0.2363847   0.01530298             1\n",
       "2 April15.NTH.2   122 0.1639843      0.2344501   0.01525329             1\n",
       "3 April15.NTH.3   112 0.1711293      0.2425792   0.01634211             1\n",
       "4 April15.NTH.4   122 0.1606225      0.2345589   0.01517529             1\n",
       "5 April15.NTR.1    94 0.1907659      0.2590061   0.01851781             1\n",
       "6 April15.NTR.2    74 0.2280904      0.2828609   0.02231277             6\n",
       "  mntd.obs.z  mntd.obs.p runs        padj treat\n",
       "1  -4.978550 0.000999001 1000 0.001085871     H\n",
       "2  -4.619715 0.000999001 1000 0.001085871     H\n",
       "3  -4.372134 0.000999001 1000 0.001085871     H\n",
       "4  -4.872154 0.000999001 1000 0.001085871     H\n",
       "5  -3.685113 0.000999001 1000 0.001085871     H\n",
       "6  -2.454670 0.005994006 1000 0.006063301     H\n"
      ]
     },
     "metadata": {},
     "output_type": "display_data"
    }
   ],
   "source": [
    "%%R\n",
    "NTI_tot = rbind(NTI_H, NTI.R)\n",
    "head(NTI_tot)"
   ]
  },
  {
   "cell_type": "code",
   "execution_count": 15,
   "metadata": {
    "collapsed": false
   },
   "outputs": [
    {
     "data": {
      "image/png": "[encoded data removed]"
     },
     "metadata": {},
     "output_type": "display_data"
    }
   ],
   "source": [
    "%%R\n",
    "ggplot(data = NTI_tot, aes(x = treat, y = -mntd.obs.z)) +\n",
    "geom_boxplot() + theme(text = element_text(size = 18)) + xlab('Treatment') + ylab('NTI')"
   ]
  },
  {
   "cell_type": "code",
   "execution_count": 16,
   "metadata": {
    "collapsed": false
   },
   "outputs": [
    {
     "data": {
      "text/plain": [
       "\n",
       "\tWelch Two Sample t-test\n",
       "\n",
       "data:  NTI_tot$mntd.obs.z by NTI_tot$treat\n",
       "t = -16.247, df = 336.98, p-value < 2.2e-16\n",
       "alternative hypothesis: true difference in means is not equal to 0\n",
       "95 percent confidence interval:\n",
       " -1.044399 -0.818819\n",
       "sample estimates:\n",
       "mean in group H mean in group R \n",
       "      -4.013380       -3.081771 \n",
       "\n"
      ]
     },
     "metadata": {},
     "output_type": "display_data"
    }
   ],
   "source": [
    "%%R\n",
    "t.test(NTI_tot$mntd.obs.z ~ NTI_tot$treat)"
   ]
  },
  {
   "cell_type": "markdown",
   "metadata": {},
   "source": [
    "## Global NRI/NTI"
   ]
  },
  {
   "cell_type": "code",
   "execution_count": 15,
   "metadata": {
    "collapsed": false
   },
   "outputs": [
    {
     "data": {
      "text/plain": [
       "Source: local data frame [6 x 4]\n",
       "Groups: Replicate [1]\n",
       "\n",
       "  Replicate       OTU totalab  Comm\n",
       "      (dbl)     (chr)   (dbl) (chr)\n",
       "1         1  OTU.1031      99     H\n",
       "2         1  OTU.1035     110     H\n",
       "3         1  OTU.1069      22     H\n",
       "4         1 OTU.11057      81     H\n",
       "5         1  OTU.1118      72     H\n",
       "6         1  OTU.1142      55     H\n"
      ]
     },
     "metadata": {},
     "output_type": "display_data"
    }
   ],
   "source": [
    "%%R\n",
    "H$Replicate[is.na(H$Replicate)] = 3\n",
    "\n",
    "H2 = H %>% group_by(Replicate, OTU) %>% summarise(totalab = sum(Abundance))\n",
    "H2$Comm = 'H'\n",
    "head(H2)"
   ]
  },
  {
   "cell_type": "code",
   "execution_count": 16,
   "metadata": {
    "collapsed": false
   },
   "outputs": [
    {
     "data": {
      "text/plain": [
       "Source: local data frame [6 x 4]\n",
       "Groups: Replicate [1]\n",
       "\n",
       "  Replicate      OTU totalab  Comm\n",
       "      (dbl)    (chr)   (dbl) (chr)\n",
       "1         1  OTU.102    1232     H\n",
       "2         1 OTU.1140     190     H\n",
       "3         1 OTU.1167      41     H\n",
       "4         1 OTU.1215      54     H\n",
       "5         1 OTU.1232     114     H\n",
       "6         1  OTU.131     630     H\n"
      ]
     },
     "metadata": {},
     "output_type": "display_data"
    }
   ],
   "source": [
    "%%R\n",
    "R$Replicate[is.na(R$Replicate)] = 3\n",
    "\n",
    "R2 = R %>% group_by(Replicate, OTU) %>% summarise(totalab = sum(Abundance))\n",
    "R2$Comm = 'H'\n",
    "head(R2)"
   ]
  },
  {
   "cell_type": "code",
   "execution_count": 17,
   "metadata": {
    "collapsed": true
   },
   "outputs": [],
   "source": [
    "%%R\n",
    "OTUs.H = H2 %>% select(OTU, Replicate, totalab) %>% spread(OTU, totalab)\n",
    "\n",
    "OTUs.R = R2 %>% select(OTU, Replicate, totalab) %>% spread(OTU, totalab)"
   ]
  },
  {
   "cell_type": "code",
   "execution_count": 18,
   "metadata": {
    "collapsed": true
   },
   "outputs": [],
   "source": [
    "%%R\n",
    "rownames(OTUs.H) = OTUs.H$Replicate\n",
    "OTUs.H$Replicate = NULL\n",
    "\n",
    "rownames(OTUs.R) = OTUs.R$Replicate\n",
    "OTUs.R$Replicate = NULL"
   ]
  },
  {
   "cell_type": "code",
   "execution_count": 19,
   "metadata": {
    "collapsed": true
   },
   "outputs": [],
   "source": [
    "%%R\n",
    "#Normalizing OTU counts \n",
    "comm.H <- decostand(OTUs.H, method = \"total\")\n",
    "\n",
    "comm.R <- decostand(OTUs.R, method = \"total\")"
   ]
  },
  {
   "cell_type": "code",
   "execution_count": 23,
   "metadata": {
    "collapsed": false
   },
   "outputs": [
    {
     "data": {
      "text/plain": [
       "[1] 4\n"
      ]
     },
     "metadata": {},
     "output_type": "display_data"
    }
   ],
   "source": [
    "%%R\n",
    "nrow(comm.R)"
   ]
  },
  {
   "cell_type": "code",
   "execution_count": 24,
   "metadata": {
    "collapsed": false
   },
   "outputs": [
    {
     "data": {
      "text/plain": [
       "  ntaxa   mpd.obs mpd.rand.mean mpd.rand.sd mpd.obs.rank mpd.obs.z   mpd.obs.p\n",
       "1   137 0.6167982      0.724951  0.02226718            1 -4.857049 0.000999001\n",
       "2   137 0.6167982      0.724951  0.02226718            1 -4.857049 0.000999001\n",
       "3   137 0.6167982      0.724951  0.02226718            1 -4.857049 0.000999001\n",
       "4   137 0.6167982      0.724951  0.02226718            1 -4.857049 0.000999001\n",
       "  runs\n",
       "1 1000\n",
       "2 1000\n",
       "3 1000\n",
       "4 1000\n"
      ]
     },
     "metadata": {},
     "output_type": "display_data"
    }
   ],
   "source": [
    "%%R\n",
    "nri.H.global = ses.mpd(comm.H,cophenetic(tree),null.model=\"taxa.labels\",runs=1000)\n",
    "nri.H.global"
   ]
  },
  {
   "cell_type": "code",
   "execution_count": 33,
   "metadata": {
    "collapsed": true
   },
   "outputs": [],
   "source": [
    "%%R\n",
    "write.csv(nri.H.global, 'data/nri_H_global.csv')"
   ]
  },
  {
   "cell_type": "code",
   "execution_count": 25,
   "metadata": {
    "collapsed": false
   },
   "outputs": [
    {
     "data": {
      "text/plain": [
       "  ntaxa  mpd.obs mpd.rand.mean mpd.rand.sd mpd.obs.rank mpd.obs.z  mpd.obs.p\n",
       "1    99 0.671839     0.7249839  0.02588409           25 -2.053187 0.02497502\n",
       "2    99 0.671839     0.7249839  0.02588409           25 -2.053187 0.02497502\n",
       "3    99 0.671839     0.7249839  0.02588409           25 -2.053187 0.02497502\n",
       "4    99 0.671839     0.7249839  0.02588409           25 -2.053187 0.02497502\n",
       "  runs\n",
       "1 1000\n",
       "2 1000\n",
       "3 1000\n",
       "4 1000\n"
      ]
     },
     "metadata": {},
     "output_type": "display_data"
    }
   ],
   "source": [
    "%%R\n",
    "nri.R.global = ses.mpd(comm.R,cophenetic(tree),null.model=\"taxa.labels\",runs=1000)\n",
    "nri.R.global"
   ]
  },
  {
   "cell_type": "code",
   "execution_count": 32,
   "metadata": {
    "collapsed": false
   },
   "outputs": [],
   "source": [
    "%%R\n",
    "write.csv(nri.R.global, 'data/nri_R_global.csv')"
   ]
  },
  {
   "cell_type": "code",
   "execution_count": 30,
   "metadata": {
    "collapsed": false
   },
   "outputs": [
    {
     "name": "stderr",
     "output_type": "stream",
     "text": [
      "/opt/anaconda/lib/python2.7/site-packages/rpy2/robjects/functions.py:106: UserWarning: Error in `colnames<-`(`*tmp*`, value = c(\"OTU.16296\", \"OTU.1325\", \"OTU.2929\",  : \n",
      "  Interrupted\n",
      "\n",
      "  res = super(Function, self).__call__(*new_args, **new_kwargs)\n"
     ]
    },
    {
     "ename": "KeyboardInterrupt",
     "evalue": "",
     "output_type": "error",
     "traceback": [
      "\u001b[1;31m---------------------------------------------------------------------------\u001b[0m",
      "\u001b[1;31mKeyboardInterrupt\u001b[0m                         Traceback (most recent call last)",
      "\u001b[1;32m<ipython-input-30-45cca7e6635a>\u001b[0m in \u001b[0;36m<module>\u001b[1;34m()\u001b[0m\n\u001b[1;32m----> 1\u001b[1;33m \u001b[0mget_ipython\u001b[0m\u001b[1;33m(\u001b[0m\u001b[1;33m)\u001b[0m\u001b[1;33m.\u001b[0m\u001b[0mrun_cell_magic\u001b[0m\u001b[1;33m(\u001b[0m\u001b[1;34mu'R'\u001b[0m\u001b[1;33m,\u001b[0m \u001b[1;34mu''\u001b[0m\u001b[1;33m,\u001b[0m \u001b[1;34mu'nti.H.global = ses.mntd(comm.H,cophenetic(tree),null.model=\"taxa.labels\",runs=1000)\\nnti.H.global'\u001b[0m\u001b[1;33m)\u001b[0m\u001b[1;33m\u001b[0m\u001b[0m\n\u001b[0m",
      "\u001b[1;32m/opt/anaconda/lib/python2.7/site-packages/IPython/core/interactiveshell.pyc\u001b[0m in \u001b[0;36mrun_cell_magic\u001b[1;34m(self, magic_name, line, cell)\u001b[0m\n\u001b[0;32m   2291\u001b[0m             \u001b[0mmagic_arg_s\u001b[0m \u001b[1;33m=\u001b[0m \u001b[0mself\u001b[0m\u001b[1;33m.\u001b[0m\u001b[0mvar_expand\u001b[0m\u001b[1;33m(\u001b[0m\u001b[0mline\u001b[0m\u001b[1;33m,\u001b[0m \u001b[0mstack_depth\u001b[0m\u001b[1;33m)\u001b[0m\u001b[1;33m\u001b[0m\u001b[0m\n\u001b[0;32m   2292\u001b[0m             \u001b[1;32mwith\u001b[0m \u001b[0mself\u001b[0m\u001b[1;33m.\u001b[0m\u001b[0mbuiltin_trap\u001b[0m\u001b[1;33m:\u001b[0m\u001b[1;33m\u001b[0m\u001b[0m\n\u001b[1;32m-> 2293\u001b[1;33m                 \u001b[0mresult\u001b[0m \u001b[1;33m=\u001b[0m \u001b[0mfn\u001b[0m\u001b[1;33m(\u001b[0m\u001b[0mmagic_arg_s\u001b[0m\u001b[1;33m,\u001b[0m \u001b[0mcell\u001b[0m\u001b[1;33m)\u001b[0m\u001b[1;33m\u001b[0m\u001b[0m\n\u001b[0m\u001b[0;32m   2294\u001b[0m             \u001b[1;32mreturn\u001b[0m \u001b[0mresult\u001b[0m\u001b[1;33m\u001b[0m\u001b[0m\n\u001b[0;32m   2295\u001b[0m \u001b[1;33m\u001b[0m\u001b[0m\n",
      "\u001b[1;32m/opt/anaconda/lib/python2.7/site-packages/rpy2/ipython/rmagic.pyc\u001b[0m in \u001b[0;36mR\u001b[1;34m(self, line, cell, local_ns)\u001b[0m\n",
      "\u001b[1;32m/opt/anaconda/lib/python2.7/site-packages/IPython/core/magic.pyc\u001b[0m in \u001b[0;36m<lambda>\u001b[1;34m(f, *a, **k)\u001b[0m\n\u001b[0;32m    191\u001b[0m     \u001b[1;31m# but it's overkill for just that one bit of state.\u001b[0m\u001b[1;33m\u001b[0m\u001b[1;33m\u001b[0m\u001b[0m\n\u001b[0;32m    192\u001b[0m     \u001b[1;32mdef\u001b[0m \u001b[0mmagic_deco\u001b[0m\u001b[1;33m(\u001b[0m\u001b[0marg\u001b[0m\u001b[1;33m)\u001b[0m\u001b[1;33m:\u001b[0m\u001b[1;33m\u001b[0m\u001b[0m\n\u001b[1;32m--> 193\u001b[1;33m         \u001b[0mcall\u001b[0m \u001b[1;33m=\u001b[0m \u001b[1;32mlambda\u001b[0m \u001b[0mf\u001b[0m\u001b[1;33m,\u001b[0m \u001b[1;33m*\u001b[0m\u001b[0ma\u001b[0m\u001b[1;33m,\u001b[0m \u001b[1;33m**\u001b[0m\u001b[0mk\u001b[0m\u001b[1;33m:\u001b[0m \u001b[0mf\u001b[0m\u001b[1;33m(\u001b[0m\u001b[1;33m*\u001b[0m\u001b[0ma\u001b[0m\u001b[1;33m,\u001b[0m \u001b[1;33m**\u001b[0m\u001b[0mk\u001b[0m\u001b[1;33m)\u001b[0m\u001b[1;33m\u001b[0m\u001b[0m\n\u001b[0m\u001b[0;32m    194\u001b[0m \u001b[1;33m\u001b[0m\u001b[0m\n\u001b[0;32m    195\u001b[0m         \u001b[1;32mif\u001b[0m \u001b[0mcallable\u001b[0m\u001b[1;33m(\u001b[0m\u001b[0marg\u001b[0m\u001b[1;33m)\u001b[0m\u001b[1;33m:\u001b[0m\u001b[1;33m\u001b[0m\u001b[0m\n",
      "\u001b[1;32m/opt/anaconda/lib/python2.7/site-packages/rpy2/ipython/rmagic.pyc\u001b[0m in \u001b[0;36mR\u001b[1;34m(self, line, cell, local_ns)\u001b[0m\n\u001b[0;32m    654\u001b[0m                     \u001b[0mreturn_output\u001b[0m \u001b[1;33m=\u001b[0m \u001b[0mFalse\u001b[0m\u001b[1;33m\u001b[0m\u001b[0m\n\u001b[0;32m    655\u001b[0m             \u001b[1;32melse\u001b[0m\u001b[1;33m:\u001b[0m\u001b[1;33m\u001b[0m\u001b[0m\n\u001b[1;32m--> 656\u001b[1;33m                 \u001b[0mtext_result\u001b[0m\u001b[1;33m,\u001b[0m \u001b[0mresult\u001b[0m\u001b[1;33m,\u001b[0m \u001b[0mvisible\u001b[0m \u001b[1;33m=\u001b[0m \u001b[0mself\u001b[0m\u001b[1;33m.\u001b[0m\u001b[0meval\u001b[0m\u001b[1;33m(\u001b[0m\u001b[0mcode\u001b[0m\u001b[1;33m)\u001b[0m\u001b[1;33m\u001b[0m\u001b[0m\n\u001b[0m\u001b[0;32m    657\u001b[0m                 \u001b[0mtext_output\u001b[0m \u001b[1;33m+=\u001b[0m \u001b[0mtext_result\u001b[0m\u001b[1;33m\u001b[0m\u001b[0m\n\u001b[0;32m    658\u001b[0m                 \u001b[1;32mif\u001b[0m \u001b[0mvisible\u001b[0m\u001b[1;33m:\u001b[0m\u001b[1;33m\u001b[0m\u001b[0m\n",
      "\u001b[1;32m/opt/anaconda/lib/python2.7/site-packages/rpy2/ipython/rmagic.pyc\u001b[0m in \u001b[0;36meval\u001b[1;34m(self, code)\u001b[0m\n\u001b[0;32m    241\u001b[0m         \u001b[1;32mtry\u001b[0m\u001b[1;33m:\u001b[0m\u001b[1;33m\u001b[0m\u001b[0m\n\u001b[0;32m    242\u001b[0m             \u001b[1;31m# Need the newline in case the last line in code is a comment\u001b[0m\u001b[1;33m\u001b[0m\u001b[1;33m\u001b[0m\u001b[0m\n\u001b[1;32m--> 243\u001b[1;33m             \u001b[0mvalue\u001b[0m\u001b[1;33m,\u001b[0m \u001b[0mvisible\u001b[0m \u001b[1;33m=\u001b[0m \u001b[0mro\u001b[0m\u001b[1;33m.\u001b[0m\u001b[0mr\u001b[0m\u001b[1;33m(\u001b[0m\u001b[1;34m\"withVisible({%s\\n})\"\u001b[0m \u001b[1;33m%\u001b[0m \u001b[0mcode\u001b[0m\u001b[1;33m)\u001b[0m\u001b[1;33m\u001b[0m\u001b[0m\n\u001b[0m\u001b[0;32m    244\u001b[0m         \u001b[1;32mexcept\u001b[0m \u001b[1;33m(\u001b[0m\u001b[0mri\u001b[0m\u001b[1;33m.\u001b[0m\u001b[0mRRuntimeError\u001b[0m\u001b[1;33m,\u001b[0m \u001b[0mValueError\u001b[0m\u001b[1;33m)\u001b[0m \u001b[1;32mas\u001b[0m \u001b[0mexception\u001b[0m\u001b[1;33m:\u001b[0m\u001b[1;33m\u001b[0m\u001b[0m\n\u001b[0;32m    245\u001b[0m             \u001b[0mwarning_or_other_msg\u001b[0m \u001b[1;33m=\u001b[0m \u001b[0mself\u001b[0m\u001b[1;33m.\u001b[0m\u001b[0mflush\u001b[0m\u001b[1;33m(\u001b[0m\u001b[1;33m)\u001b[0m \u001b[1;31m# otherwise next return seems to have copy of error\u001b[0m\u001b[1;33m\u001b[0m\u001b[0m\n",
      "\u001b[1;32m/opt/anaconda/lib/python2.7/site-packages/rpy2/robjects/__init__.pyc\u001b[0m in \u001b[0;36m__call__\u001b[1;34m(self, string)\u001b[0m\n\u001b[0;32m    315\u001b[0m     \u001b[1;32mdef\u001b[0m \u001b[0m__call__\u001b[0m\u001b[1;33m(\u001b[0m\u001b[0mself\u001b[0m\u001b[1;33m,\u001b[0m \u001b[0mstring\u001b[0m\u001b[1;33m)\u001b[0m\u001b[1;33m:\u001b[0m\u001b[1;33m\u001b[0m\u001b[0m\n\u001b[0;32m    316\u001b[0m         \u001b[0mp\u001b[0m \u001b[1;33m=\u001b[0m \u001b[0mrinterface\u001b[0m\u001b[1;33m.\u001b[0m\u001b[0mparse\u001b[0m\u001b[1;33m(\u001b[0m\u001b[0mstring\u001b[0m\u001b[1;33m)\u001b[0m\u001b[1;33m\u001b[0m\u001b[0m\n\u001b[1;32m--> 317\u001b[1;33m         \u001b[0mres\u001b[0m \u001b[1;33m=\u001b[0m \u001b[0mself\u001b[0m\u001b[1;33m.\u001b[0m\u001b[0meval\u001b[0m\u001b[1;33m(\u001b[0m\u001b[0mp\u001b[0m\u001b[1;33m)\u001b[0m\u001b[1;33m\u001b[0m\u001b[0m\n\u001b[0m\u001b[0;32m    318\u001b[0m         \u001b[1;32mreturn\u001b[0m \u001b[0mres\u001b[0m\u001b[1;33m\u001b[0m\u001b[0m\n\u001b[0;32m    319\u001b[0m \u001b[1;33m\u001b[0m\u001b[0m\n",
      "\u001b[1;32m/opt/anaconda/lib/python2.7/site-packages/rpy2/robjects/functions.pyc\u001b[0m in \u001b[0;36m__call__\u001b[1;34m(self, *args, **kwargs)\u001b[0m\n\u001b[0;32m    176\u001b[0m                 \u001b[0mv\u001b[0m \u001b[1;33m=\u001b[0m \u001b[0mkwargs\u001b[0m\u001b[1;33m.\u001b[0m\u001b[0mpop\u001b[0m\u001b[1;33m(\u001b[0m\u001b[0mk\u001b[0m\u001b[1;33m)\u001b[0m\u001b[1;33m\u001b[0m\u001b[0m\n\u001b[0;32m    177\u001b[0m                 \u001b[0mkwargs\u001b[0m\u001b[1;33m[\u001b[0m\u001b[0mr_k\u001b[0m\u001b[1;33m]\u001b[0m \u001b[1;33m=\u001b[0m \u001b[0mv\u001b[0m\u001b[1;33m\u001b[0m\u001b[0m\n\u001b[1;32m--> 178\u001b[1;33m         \u001b[1;32mreturn\u001b[0m \u001b[0msuper\u001b[0m\u001b[1;33m(\u001b[0m\u001b[0mSignatureTranslatedFunction\u001b[0m\u001b[1;33m,\u001b[0m \u001b[0mself\u001b[0m\u001b[1;33m)\u001b[0m\u001b[1;33m.\u001b[0m\u001b[0m__call__\u001b[0m\u001b[1;33m(\u001b[0m\u001b[1;33m*\u001b[0m\u001b[0margs\u001b[0m\u001b[1;33m,\u001b[0m \u001b[1;33m**\u001b[0m\u001b[0mkwargs\u001b[0m\u001b[1;33m)\u001b[0m\u001b[1;33m\u001b[0m\u001b[0m\n\u001b[0m\u001b[0;32m    179\u001b[0m \u001b[1;33m\u001b[0m\u001b[0m\n\u001b[0;32m    180\u001b[0m \u001b[0mpattern_link\u001b[0m \u001b[1;33m=\u001b[0m \u001b[0mre\u001b[0m\u001b[1;33m.\u001b[0m\u001b[0mcompile\u001b[0m\u001b[1;33m(\u001b[0m\u001b[1;34mr'\\\\link\\{(.+?)\\}'\u001b[0m\u001b[1;33m)\u001b[0m\u001b[1;33m\u001b[0m\u001b[0m\n",
      "\u001b[1;32m/opt/anaconda/lib/python2.7/site-packages/rpy2/robjects/functions.pyc\u001b[0m in \u001b[0;36m__call__\u001b[1;34m(self, *args, **kwargs)\u001b[0m\n\u001b[0;32m    104\u001b[0m         \u001b[1;32mfor\u001b[0m \u001b[0mk\u001b[0m\u001b[1;33m,\u001b[0m \u001b[0mv\u001b[0m \u001b[1;32min\u001b[0m \u001b[0mkwargs\u001b[0m\u001b[1;33m.\u001b[0m\u001b[0mitems\u001b[0m\u001b[1;33m(\u001b[0m\u001b[1;33m)\u001b[0m\u001b[1;33m:\u001b[0m\u001b[1;33m\u001b[0m\u001b[0m\n\u001b[0;32m    105\u001b[0m             \u001b[0mnew_kwargs\u001b[0m\u001b[1;33m[\u001b[0m\u001b[0mk\u001b[0m\u001b[1;33m]\u001b[0m \u001b[1;33m=\u001b[0m \u001b[0mconversion\u001b[0m\u001b[1;33m.\u001b[0m\u001b[0mpy2ri\u001b[0m\u001b[1;33m(\u001b[0m\u001b[0mv\u001b[0m\u001b[1;33m)\u001b[0m\u001b[1;33m\u001b[0m\u001b[0m\n\u001b[1;32m--> 106\u001b[1;33m         \u001b[0mres\u001b[0m \u001b[1;33m=\u001b[0m \u001b[0msuper\u001b[0m\u001b[1;33m(\u001b[0m\u001b[0mFunction\u001b[0m\u001b[1;33m,\u001b[0m \u001b[0mself\u001b[0m\u001b[1;33m)\u001b[0m\u001b[1;33m.\u001b[0m\u001b[0m__call__\u001b[0m\u001b[1;33m(\u001b[0m\u001b[1;33m*\u001b[0m\u001b[0mnew_args\u001b[0m\u001b[1;33m,\u001b[0m \u001b[1;33m**\u001b[0m\u001b[0mnew_kwargs\u001b[0m\u001b[1;33m)\u001b[0m\u001b[1;33m\u001b[0m\u001b[0m\n\u001b[0m\u001b[0;32m    107\u001b[0m         \u001b[0mres\u001b[0m \u001b[1;33m=\u001b[0m \u001b[0mconversion\u001b[0m\u001b[1;33m.\u001b[0m\u001b[0mri2ro\u001b[0m\u001b[1;33m(\u001b[0m\u001b[0mres\u001b[0m\u001b[1;33m)\u001b[0m\u001b[1;33m\u001b[0m\u001b[0m\n\u001b[0;32m    108\u001b[0m         \u001b[1;32mreturn\u001b[0m \u001b[0mres\u001b[0m\u001b[1;33m\u001b[0m\u001b[0m\n",
      "\u001b[1;31mKeyboardInterrupt\u001b[0m: "
     ]
    }
   ],
   "source": [
    "%%R\n",
    "nti.H.global = ses.mntd(comm.H,cophenetic(tree),null.model=\"taxa.labels\",runs=1000)\n",
    "nti.H.global"
   ]
  },
  {
   "cell_type": "code",
   "execution_count": 29,
   "metadata": {
    "collapsed": true
   },
   "outputs": [],
   "source": [
    "%%R\n",
    "write.csv(nti.H.global, 'data/nti_H_global.csv')"
   ]
  },
  {
   "cell_type": "code",
   "execution_count": 27,
   "metadata": {
    "collapsed": false
   },
   "outputs": [
    {
     "data": {
      "text/plain": [
       "  ntaxa  mntd.obs mntd.rand.mean mntd.rand.sd mntd.obs.rank mntd.obs.z\n",
       "1    99 0.1666755      0.2161147   0.01484671             1  -3.329983\n",
       "2    99 0.1666755      0.2161147   0.01484671             1  -3.329983\n",
       "3    99 0.1666755      0.2161147   0.01484671             1  -3.329983\n",
       "4    99 0.1666755      0.2161147   0.01484671             1  -3.329983\n",
       "   mntd.obs.p runs\n",
       "1 0.000999001 1000\n",
       "2 0.000999001 1000\n",
       "3 0.000999001 1000\n",
       "4 0.000999001 1000\n"
      ]
     },
     "metadata": {},
     "output_type": "display_data"
    }
   ],
   "source": [
    "%%R\n",
    "nti.R.global = ses.mntd(comm.R,cophenetic(tree),null.model=\"taxa.labels\",runs=1000)\n",
    "nti.R.global"
   ]
  },
  {
   "cell_type": "code",
   "execution_count": 28,
   "metadata": {
    "collapsed": true
   },
   "outputs": [],
   "source": [
    "%%R\n",
    "write.csv(nti.R.global, 'data/nti_R_global.csv')"
   ]
  }
 ],
 "metadata": {
  "kernelspec": {
   "display_name": "Python 2",
   "language": "python",
   "name": "python2"
  },
  "language_info": {
   "codemirror_mode": {
    "name": "ipython",
    "version": 2
   },
   "file_extension": ".py",
   "mimetype": "text/x-python",
   "name": "python",
   "nbconvert_exporter": "python",
   "pygments_lexer": "ipython2",
   "version": "2.7.11"
  }
 },
 "nbformat": 4,
 "nbformat_minor": 0
}
