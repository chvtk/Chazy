{
 "cells": [
  {
   "cell_type": "code",
   "execution_count": 1,
   "metadata": {
    "collapsed": false
   },
   "outputs": [],
   "source": [
    "%matplotlib inline\n",
    "%load_ext rpy2.ipython"
   ]
  },
  {
   "cell_type": "code",
   "execution_count": 2,
   "metadata": {
    "collapsed": true
   },
   "outputs": [],
   "source": [
    "%%R\n",
    "workDir = '/home/chantal/Chazy/Bulk/515_806/data/'\n",
    "figDir = '/home/chantal/Chazy/Bulk/515_806/data/figs/'\n",
    "metadata = '/home/chantal/Chazy/data/Metadata_515806_all.txt'\n",
    "\n",
    "nprocs = 20"
   ]
  },
  {
   "cell_type": "code",
   "execution_count": 3,
   "metadata": {
    "collapsed": false
   },
   "outputs": [
    {
     "name": "stderr",
     "output_type": "stream",
     "text": [
      "/opt/anaconda/lib/python2.7/site-packages/rpy2/robjects/functions.py:106: UserWarning: Loading required package: foreach\n",
      "\n",
      "  res = super(Function, self).__call__(*new_args, **new_kwargs)\n",
      "/opt/anaconda/lib/python2.7/site-packages/rpy2/robjects/functions.py:106: UserWarning: foreach: simple, scalable parallel programming from Revolution Analytics\n",
      "Use Revolution R for scalability, fault tolerance and more.\n",
      "http://www.revolutionanalytics.com\n",
      "\n",
      "  res = super(Function, self).__call__(*new_args, **new_kwargs)\n",
      "/opt/anaconda/lib/python2.7/site-packages/rpy2/robjects/functions.py:106: UserWarning: Loading required package: iterators\n",
      "\n",
      "  res = super(Function, self).__call__(*new_args, **new_kwargs)\n",
      "/opt/anaconda/lib/python2.7/site-packages/rpy2/robjects/functions.py:106: UserWarning: Loading required package: parallel\n",
      "\n",
      "  res = super(Function, self).__call__(*new_args, **new_kwargs)\n",
      "/opt/anaconda/lib/python2.7/site-packages/rpy2/robjects/functions.py:106: UserWarning: data.table 1.9.6  For help type ?data.table or https://github.com/Rdatatable/data.table/wiki\n",
      "\n",
      "  res = super(Function, self).__call__(*new_args, **new_kwargs)\n",
      "/opt/anaconda/lib/python2.7/site-packages/rpy2/robjects/functions.py:106: UserWarning: The fastest way to learn (by data.table authors): https://www.datacamp.com/courses/data-analysis-the-data-table-way\n",
      "\n",
      "  res = super(Function, self).__call__(*new_args, **new_kwargs)\n",
      "/opt/anaconda/lib/python2.7/site-packages/rpy2/robjects/functions.py:106: UserWarning: Loading required package: permute\n",
      "\n",
      "  res = super(Function, self).__call__(*new_args, **new_kwargs)\n",
      "/opt/anaconda/lib/python2.7/site-packages/rpy2/robjects/functions.py:106: UserWarning: Loading required package: lattice\n",
      "\n",
      "  res = super(Function, self).__call__(*new_args, **new_kwargs)\n",
      "/opt/anaconda/lib/python2.7/site-packages/rpy2/robjects/functions.py:106: UserWarning: This is vegan 2.3-5\n",
      "\n",
      "  res = super(Function, self).__call__(*new_args, **new_kwargs)\n",
      "/opt/anaconda/lib/python2.7/site-packages/rpy2/robjects/functions.py:106: UserWarning: \n",
      "Attaching package: ‘dplyr’\n",
      "\n",
      "\n",
      "  res = super(Function, self).__call__(*new_args, **new_kwargs)\n",
      "/opt/anaconda/lib/python2.7/site-packages/rpy2/robjects/functions.py:106: UserWarning: The following objects are masked from ‘package:plyr’:\n",
      "\n",
      "    arrange, count, desc, failwith, id, mutate, rename, summarise,\n",
      "    summarize\n",
      "\n",
      "\n",
      "  res = super(Function, self).__call__(*new_args, **new_kwargs)\n",
      "/opt/anaconda/lib/python2.7/site-packages/rpy2/robjects/functions.py:106: UserWarning: The following objects are masked from ‘package:data.table’:\n",
      "\n",
      "    between, last\n",
      "\n",
      "\n",
      "  res = super(Function, self).__call__(*new_args, **new_kwargs)\n",
      "/opt/anaconda/lib/python2.7/site-packages/rpy2/robjects/functions.py:106: UserWarning: The following object is masked from ‘package:gridExtra’:\n",
      "\n",
      "    combine\n",
      "\n",
      "\n",
      "  res = super(Function, self).__call__(*new_args, **new_kwargs)\n",
      "/opt/anaconda/lib/python2.7/site-packages/rpy2/robjects/functions.py:106: UserWarning: The following objects are masked from ‘package:stats’:\n",
      "\n",
      "    filter, lag\n",
      "\n",
      "\n",
      "  res = super(Function, self).__call__(*new_args, **new_kwargs)\n",
      "/opt/anaconda/lib/python2.7/site-packages/rpy2/robjects/functions.py:106: UserWarning: The following objects are masked from ‘package:base’:\n",
      "\n",
      "    intersect, setdiff, setequal, union\n",
      "\n",
      "\n",
      "  res = super(Function, self).__call__(*new_args, **new_kwargs)\n",
      "/opt/anaconda/lib/python2.7/site-packages/rpy2/robjects/functions.py:106: UserWarning: \n",
      "Attaching package: ‘RJSONIO’\n",
      "\n",
      "\n",
      "  res = super(Function, self).__call__(*new_args, **new_kwargs)\n",
      "/opt/anaconda/lib/python2.7/site-packages/rpy2/robjects/functions.py:106: UserWarning: The following objects are masked from ‘package:jsonlite’:\n",
      "\n",
      "    fromJSON, toJSON\n",
      "\n",
      "\n",
      "  res = super(Function, self).__call__(*new_args, **new_kwargs)\n"
     ]
    }
   ],
   "source": [
    "%%R\n",
    "library(ggplot2)\n",
    "library(doParallel)\n",
    "library(gridExtra)\n",
    "library(data.table)\n",
    "library(vegan)\n",
    "library(plyr)\n",
    "library(RColorBrewer)\n",
    "library(stats)\n",
    "library(stringr)\n",
    "library(dplyr)\n",
    "library(jsonlite)\n",
    "library(RJSONIO)\n",
    "library(scales)\n",
    "library(tidyr)\n"
   ]
  },
  {
   "cell_type": "code",
   "execution_count": 4,
   "metadata": {
    "collapsed": true
   },
   "outputs": [],
   "source": [
    "%%R\n",
    "meta = read.csv(metadata, sep = '\\t', header = TRUE)"
   ]
  },
  {
   "cell_type": "code",
   "execution_count": 5,
   "metadata": {
    "collapsed": false
   },
   "outputs": [
    {
     "data": {
      "text/plain": [
       "       Full.sample Fraction PrimerF PrimerR Barcode Rev.index Fwd.index\n",
       "1 April.NTR.3.2015       NA    515f    806r      94  tatagcga  cgtgagtg\n",
       "2    April15.NTH.1       NA    515f    806r      63  cgagcgac  ggatatct\n",
       "3    April15.NTH.2       NA    515f    806r      67  actacgac  tagcgagt\n",
       "4    April15.NTH.3       NA    515f    806r      71  actacgac  ggatatct\n",
       "5    April15.NTH.4       NA    515f    806r      75  gtctgcta  tagcgagt\n",
       "6    April15.NTR.1       NA    515f    806r      65  actacgac  atcgtacg\n",
       "  Treatment Day Replicate Pool Land_Management Gradient        Experiment Month\n",
       "1      <NA>  NA        NA    8             NTR     <NA> Chazy_Bulk_515806 April\n",
       "2      <NA>  NA         1    4             NTH     <NA> Chazy_Bulk_515806 April\n",
       "3      <NA>  NA         2    4             NTH     <NA> Chazy_Bulk_515806 April\n",
       "4      <NA>  NA         3    4             NTH     <NA> Chazy_Bulk_515806 April\n",
       "5      <NA>  NA         4    4             NTH     <NA> Chazy_Bulk_515806 April\n",
       "6      <NA>  NA         1    4             NTR     <NA> Chazy_Bulk_515806 April\n",
       "  Year Number Till OM Soil_Moisture Soil_Temp Density Sample_Date  X X.1\n",
       "1 2015     NA    N  R      19.86667  10.56667      NA     4/30/15 NA  NA\n",
       "2 2015     NA    N  H      20.30000  12.86667      NA     4/30/15 NA  NA\n",
       "3 2015     NA    N  H      18.80000  13.53333      NA     4/30/15 NA  NA\n",
       "4 2015     NA    N  H      19.80000  12.80000      NA     4/30/15 NA  NA\n",
       "5 2015     NA    N  H      18.06667  12.83333      NA     4/30/15 NA  NA\n",
       "6 2015     NA    N  R      17.96667  10.60000      NA     4/30/15 NA  NA\n"
      ]
     },
     "metadata": {},
     "output_type": "display_data"
    }
   ],
   "source": [
    "%%R\n",
    "bulk = filter(meta, Experiment == 'Chazy_Bulk_515806', !(is.na(Month)), Land_Management != \"PAS\")\n",
    "head(bulk)"
   ]
  },
  {
   "cell_type": "code",
   "execution_count": 6,
   "metadata": {
    "collapsed": false
   },
   "outputs": [],
   "source": [
    "%%R\n",
    "bulk$day = 1\n",
    "bulk$date = paste(bulk$Year, bulk$Month, bulk$day,sep=\"-\")\n",
    "\n",
    "bulk$date = as.POSIXct(strptime(bulk$date,format=\"%Y-%B-%d\"))\n"
   ]
  },
  {
   "cell_type": "code",
   "execution_count": 7,
   "metadata": {
    "collapsed": false
   },
   "outputs": [
    {
     "data": {
      "text/plain": [
       "[1] \"2015-04-01 MDT\" \"2015-04-01 MDT\" \"2015-04-01 MDT\" \"2015-04-01 MDT\"\n",
       "[5] \"2015-04-01 MDT\" \"2015-04-01 MDT\"\n"
      ]
     },
     "metadata": {},
     "output_type": "display_data"
    }
   ],
   "source": [
    "%%R\n",
    "head(bulk$date)"
   ]
  },
  {
   "cell_type": "code",
   "execution_count": 8,
   "metadata": {
    "collapsed": false
   },
   "outputs": [],
   "source": [
    "%%R\n",
    "bulk = bulk %>% arrange(Sample_Date, Land_Management, Replicate)"
   ]
  },
  {
   "cell_type": "code",
   "execution_count": 9,
   "metadata": {
    "collapsed": false
   },
   "outputs": [
    {
     "data": {
      "text/plain": [
       "                      Df Sum Sq Mean Sq  F value Pr(>F)    \n",
       "bulk$Land_Management   3      1     0.5    0.904  0.442    \n",
       "bulk$Replicate         1      0     0.2    0.322  0.572    \n",
       "bulk$Sample_Date       7   7758  1108.2 2032.817 <2e-16 ***\n",
       "Residuals            115     63     0.5                    \n",
       "---\n",
       "Signif. codes:  0 ‘***’ 0.001 ‘**’ 0.01 ‘*’ 0.05 ‘.’ 0.1 ‘ ’ 1\n",
       "49 observations deleted due to missingness\n"
      ]
     },
     "metadata": {},
     "output_type": "display_data"
    }
   ],
   "source": [
    "%%R\n",
    "a = aov(bulk$Soil_Temp ~bulk$Land_Management + bulk$Replicate + bulk$Sample_Date)\n",
    "summary(a)"
   ]
  },
  {
   "cell_type": "code",
   "execution_count": 10,
   "metadata": {
    "collapsed": false
   },
   "outputs": [
    {
     "data": {
      "text/plain": [
       "                Df Sum Sq Mean Sq F value Pr(>F)\n",
       "bulk$OM          1     26   26.05   0.837  0.362\n",
       "bulk$Replicate   1     59   59.06   1.899  0.170\n",
       "Residuals      156   4852   31.11               \n",
       "17 observations deleted due to missingness\n"
      ]
     },
     "metadata": {},
     "output_type": "display_data"
    }
   ],
   "source": [
    "%%R\n",
    "a = aov(bulk$Soil_Moisture ~bulk$OM + bulk$Replicate)\n",
    "summary(a)"
   ]
  },
  {
   "cell_type": "code",
   "execution_count": 11,
   "metadata": {
    "collapsed": false
   },
   "outputs": [
    {
     "data": {
      "text/plain": [
       "Source: local data frame [4 x 3]\n",
       "\n",
       "  Land_Management meanSoilM  sdSoilM\n",
       "           (fctr)     (dbl)    (dbl)\n",
       "1             NTH  17.14583 3.075996\n",
       "2             NTR  16.54333 2.474326\n",
       "3             PTH  17.41667 8.192029\n",
       "4             PTR  16.48500 6.595107\n"
      ]
     },
     "metadata": {},
     "output_type": "display_data"
    }
   ],
   "source": [
    "%%R\n",
    "head(bulk)\n",
    "bulk %>% group_by(Land_Management) %>% filter(!(is.na(Soil_Moisture))) %>% summarise(meanSoilM = mean(Soil_Moisture),\n",
    "                                                                                    sdSoilM = sd(Soil_Moisture))"
   ]
  },
  {
   "cell_type": "code",
   "execution_count": 12,
   "metadata": {
    "collapsed": false
   },
   "outputs": [],
   "source": [
    "%%R\n",
    "\n",
    "sumdata = bulk %>% group_by(Land_Management, date) %>%   \n",
    "  summarise(\n",
    "          count = n(),\n",
    "          mean_Soil_Temp = mean(Soil_Temp, na.rm=TRUE),\n",
    "          stdev_Soil_Temp = sd(Soil_Temp, na.rm=TRUE), #/ sqrt(n())\n",
    "          stderr_Soil_Temp = sd(Soil_Temp, na.rm=TRUE) / sqrt(count),\n",
    "          ymin_Soil_Temp = mean_Soil_Temp - stdev_Soil_Temp,\n",
    "          ymax_Soil_Temp = mean_Soil_Temp + stdev_Soil_Temp,\n",
    "          mean_Soil_M = mean(Soil_Moisture, na.rm=TRUE),\n",
    "          stdev_Soil_M = sd(Soil_Moisture, na.rm=TRUE), #/ sqrt(n())\n",
    "          stderr_Soil_M = sd(Soil_Moisture, na.rm=TRUE) / sqrt(count),\n",
    "          ymin_Soil_M = mean_Soil_M - stdev_Soil_M,\n",
    "          ymax_Soil_M = mean_Soil_M + stdev_Soil_M\n",
    "          )"
   ]
  },
  {
   "cell_type": "code",
   "execution_count": 13,
   "metadata": {
    "collapsed": false
   },
   "outputs": [],
   "source": [
    "%%R\n",
    "sumdata = arrange(sumdata, Land_Management, date)"
   ]
  },
  {
   "cell_type": "code",
   "execution_count": 14,
   "metadata": {
    "collapsed": false
   },
   "outputs": [],
   "source": [
    "%%R\n",
    "\n",
    "times = c('2014-7-10', '2014-9-24','2014-10-29','2014-11-26','2015-4-30','2015-6-17','2015-7-16',\n",
    "               '2015-8-13','2015-9-23', '2015-10-27', '2015-11-25', '2014-7-10', '2014-9-24','2014-10-29','2014-11-26','2015-4-30','2015-6-17','2015-7-16',\n",
    "               '2015-8-13','2015-9-23', '2015-10-27', '2015-11-25', '2014-7-10', '2014-9-24','2014-10-29','2014-11-26','2015-4-30','2015-6-17','2015-7-16',\n",
    "               '2015-8-13','2015-9-23', '2015-10-27', '2015-11-25', '2014-7-10', '2014-9-24','2014-10-29','2014-11-26','2015-4-30','2015-6-17','2015-7-16',\n",
    "               '2015-8-13','2015-9-23', '2015-10-27', '2015-11-25')\n",
    "sumdata$realdate = as.POSIXct(strptime(times, format = \"%Y-%m-%d\"))\n"
   ]
  },
  {
   "cell_type": "code",
   "execution_count": 15,
   "metadata": {
    "collapsed": false
   },
   "outputs": [
    {
     "data": {
      "text/plain": [
       "Source: local data frame [6 x 14]\n",
       "Groups: Land_Management [1]\n",
       "\n",
       "  Land_Management       date count mean_Soil_Temp stdev_Soil_Temp\n",
       "           (fctr)     (time) (int)          (dbl)           (dbl)\n",
       "1             NTH 2014-07-01     4            NaN             NaN\n",
       "2             NTH 2014-09-01     4       15.53333       0.3858612\n",
       "3             NTH 2014-10-01     4            NaN             NaN\n",
       "4             NTH 2014-11-01     4        2.75000       0.1290994\n",
       "5             NTH 2015-04-01     4       13.00833       0.3510566\n",
       "6             NTH 2015-06-01     4       20.75000       0.3316625\n",
       "Variables not shown: stderr_Soil_Temp (dbl), ymin_Soil_Temp (dbl),\n",
       "  ymax_Soil_Temp (dbl), mean_Soil_M (dbl), stdev_Soil_M (dbl), stderr_Soil_M\n",
       "  (dbl), ymin_Soil_M (dbl), ymax_Soil_M (dbl), realdate (time)\n"
      ]
     },
     "metadata": {},
     "output_type": "display_data"
    }
   ],
   "source": [
    "%%R\n",
    "head(sumdata)"
   ]
  },
  {
   "cell_type": "code",
   "execution_count": 16,
   "metadata": {
    "collapsed": false
   },
   "outputs": [
    {
     "data": {
      "image/png": "[encoded data removed]"
     },
     "metadata": {},
     "output_type": "display_data"
    }
   ],
   "source": [
    "%%R -w 1000 -h 500\n",
    "p = ggplot(sumdata, aes(realdate, mean_Soil_Temp, color=Land_Management)) +\n",
    "  geom_point(size = 4) + geom_errorbar(aes(ymin = ymin_Soil_Temp, ymax = ymax_Soil_Temp), width = 0.2) +\n",
    "    theme(\n",
    "    text = element_text(size=16), axis.text.x  = element_text(angle=90, vjust=0.5, size=16), legend.justification = \"center\") +\n",
    "    xlab(NULL) + ylab(\"Soil Temperature\") +\n",
    "    scale_x_datetime(breaks = date_breaks(\"1 month\"), labels=date_format(\"%b, %Y\")) +\n",
    "    scale_y_continuous(breaks=seq(0, 50, 5)) + scale_color_discrete(name = 'Land Management', \n",
    "                                                                    labels = c('No-till, Harvested', 'No-till Returned',\n",
    "                                                                              'Till, Harvested', 'Till, Returned')) \n",
    "  \n",
    "p\n",
    "p"
   ]
  },
  {
   "cell_type": "code",
   "execution_count": 53,
   "metadata": {
    "collapsed": true
   },
   "outputs": [],
   "source": [
    "%%R\n",
    "ggsave(filename = \"data/figs/Soil_Temp.png\", plot = p, width =9, height =5)"
   ]
  },
  {
   "cell_type": "code",
   "execution_count": 54,
   "metadata": {
    "collapsed": false
   },
   "outputs": [
    {
     "data": {
      "image/png": "[encoded data removed]"
     },
     "metadata": {},
     "output_type": "display_data"
    }
   ],
   "source": [
    "%%R -w 1000 -h 500\n",
    "p = ggplot(sumdata, aes(realdate, mean_Soil_M, group=Land_Management, color=Land_Management)) +\n",
    "  geom_point(size = 4) + geom_errorbar(aes(ymin = ymin_Soil_M, ymax = ymax_Soil_M), width = 0.2) +\n",
    "    theme(\n",
    "    text = element_text(size=16), axis.text.x  = element_text(angle=90, vjust=0.5, size=16), legend.justification = \"center\") +\n",
    "    xlab(NULL) + ylab(\"Soil Moisture (%)\") +\n",
    "    scale_x_datetime(breaks = date_breaks(\"1 month\"), labels=date_format(\"%b, %Y\")) +\n",
    "    scale_y_continuous(breaks=seq(0, 50, 5)) + scale_color_discrete(name = 'Land Management', \n",
    "                                                                    labels = c('No-till, Harvested', 'No-till Returned',\n",
    "                                                                              'Till, Harvested', 'Till, Returned'))\n",
    "  \n",
    "p"
   ]
  },
  {
   "cell_type": "code",
   "execution_count": 55,
   "metadata": {
    "collapsed": true
   },
   "outputs": [],
   "source": [
    "%%R\n",
    "ggsave(filename = \"data/figs/Soil_Moist.png\", plot = p, width =8, height =6)"
   ]
  },
  {
   "cell_type": "code",
   "execution_count": 56,
   "metadata": {
    "collapsed": false
   },
   "outputs": [
    {
     "data": {
      "text/plain": [
       "NULL\n"
      ]
     },
     "metadata": {},
     "output_type": "display_data"
    }
   ],
   "source": [
    "%%R\n",
    "#NOAA = read.csv('data/NOAA_Chazy.csv', header = TRUE)"
   ]
  },
  {
   "cell_type": "code",
   "execution_count": 17,
   "metadata": {
    "collapsed": false
   },
   "outputs": [],
   "source": [
    "%%R\n",
    "NOAA2Year = read.csv('/home/chantal/Chazy/data/Two_Year_Climate.csv')"
   ]
  },
  {
   "cell_type": "code",
   "execution_count": 18,
   "metadata": {
    "collapsed": false
   },
   "outputs": [
    {
     "data": {
      "text/plain": [
       "            STATION                            STATION_NAME     DATE MDPR DAPR\n",
       "1 GHCND:USW00064776 PLATTSBURGH INTERNATIONAL AIRPORT NY US 20140101   NA   NA\n",
       "2 GHCND:USW00064776 PLATTSBURGH INTERNATIONAL AIRPORT NY US 20140102   NA   NA\n",
       "3 GHCND:USW00064776 PLATTSBURGH INTERNATIONAL AIRPORT NY US 20140103   NA   NA\n",
       "4 GHCND:USW00064776 PLATTSBURGH INTERNATIONAL AIRPORT NY US 20140104   NA   NA\n",
       "5 GHCND:USW00064776 PLATTSBURGH INTERNATIONAL AIRPORT NY US 20140105   NA   NA\n",
       "6 GHCND:USW00064776 PLATTSBURGH INTERNATIONAL AIRPORT NY US 20140106   NA   NA\n",
       "  PRCP SNWD SNOW  TMAX  TMIN TOBS WESD WESF WT09 WT01 WT06 WT02 WT08 WT03\n",
       "1  0.0    0   NA  -9.3 -21.0   NA   NA   NA   NA   NA   NA   NA   NA   NA\n",
       "2  0.0    0   NA -21.0 -24.9   NA   NA   NA   NA   NA   NA   NA    1   NA\n",
       "3  0.0    0   NA -18.2 -28.2   NA   NA   NA   NA   NA   NA   NA    1   NA\n",
       "4  0.0    0    0  -6.0 -28.2   NA   NA   NA   NA   NA   NA   NA   NA   NA\n",
       "5  1.3    0   NA  -0.5  -9.3   NA   NA   NA   NA    1    1   NA   NA   NA\n",
       "6  3.3    0   NA   9.4  -7.7   NA   NA   NA   NA    1    1   NA   NA   NA\n"
      ]
     },
     "metadata": {},
     "output_type": "display_data"
    }
   ],
   "source": [
    "%%R\n",
    "head(NOAA2Year)"
   ]
  },
  {
   "cell_type": "code",
   "execution_count": 19,
   "metadata": {
    "collapsed": false
   },
   "outputs": [],
   "source": [
    "%%R\n",
    "NOAA2Year$d = as.POSIXct(strptime(NOAA2Year$DATE, format = \"%Y%m%d\"))"
   ]
  },
  {
   "cell_type": "code",
   "execution_count": 20,
   "metadata": {
    "collapsed": false
   },
   "outputs": [
    {
     "data": {
      "text/plain": [
       " POSIXct[1:4554], format: \"2014-01-01\" \"2014-01-02\" \"2014-01-03\" \"2014-01-04\" ...\n"
      ]
     },
     "metadata": {},
     "output_type": "display_data"
    }
   ],
   "source": [
    "%%R\n",
    "str(NOAA2Year$d)"
   ]
  },
  {
   "cell_type": "code",
   "execution_count": 21,
   "metadata": {
    "collapsed": false
   },
   "outputs": [],
   "source": [
    "%%R\n",
    "rightN = filter(NOAA2Year, STATION_NAME ==\"PLATTSBURGH INTERNATIONAL AIRPORT NY US\" )"
   ]
  },
  {
   "cell_type": "code",
   "execution_count": 22,
   "metadata": {
    "collapsed": false
   },
   "outputs": [
    {
     "data": {
      "text/plain": [
       "            STATION                            STATION_NAME     DATE MDPR DAPR\n",
       "1 GHCND:USW00064776 PLATTSBURGH INTERNATIONAL AIRPORT NY US 20140101   NA   NA\n",
       "2 GHCND:USW00064776 PLATTSBURGH INTERNATIONAL AIRPORT NY US 20140102   NA   NA\n",
       "3 GHCND:USW00064776 PLATTSBURGH INTERNATIONAL AIRPORT NY US 20140103   NA   NA\n",
       "4 GHCND:USW00064776 PLATTSBURGH INTERNATIONAL AIRPORT NY US 20140104   NA   NA\n",
       "5 GHCND:USW00064776 PLATTSBURGH INTERNATIONAL AIRPORT NY US 20140105   NA   NA\n",
       "6 GHCND:USW00064776 PLATTSBURGH INTERNATIONAL AIRPORT NY US 20140106   NA   NA\n",
       "  PRCP SNWD SNOW  TMAX  TMIN TOBS WESD WESF WT09 WT01 WT06 WT02 WT08 WT03\n",
       "1  0.0    0   NA  -9.3 -21.0   NA   NA   NA   NA   NA   NA   NA   NA   NA\n",
       "2  0.0    0   NA -21.0 -24.9   NA   NA   NA   NA   NA   NA   NA    1   NA\n",
       "3  0.0    0   NA -18.2 -28.2   NA   NA   NA   NA   NA   NA   NA    1   NA\n",
       "4  0.0    0    0  -6.0 -28.2   NA   NA   NA   NA   NA   NA   NA   NA   NA\n",
       "5  1.3    0   NA  -0.5  -9.3   NA   NA   NA   NA    1    1   NA   NA   NA\n",
       "6  3.3    0   NA   9.4  -7.7   NA   NA   NA   NA    1    1   NA   NA   NA\n",
       "           d\n",
       "1 2014-01-01\n",
       "2 2014-01-02\n",
       "3 2014-01-03\n",
       "4 2014-01-04\n",
       "5 2014-01-05\n",
       "6 2014-01-06\n"
      ]
     },
     "metadata": {},
     "output_type": "display_data"
    }
   ],
   "source": [
    "%%R\n",
    "head(rightN)"
   ]
  },
  {
   "cell_type": "code",
   "execution_count": 23,
   "metadata": {
    "collapsed": false
   },
   "outputs": [
    {
     "data": {
      "image/png": "[encoded data removed]"
     },
     "metadata": {},
     "output_type": "display_data"
    }
   ],
   "source": [
    "%%R -w 800 -h 600\n",
    "#rightN = filter(rightN, precip >0)\n",
    "\n",
    "timelist = c('2014-07-10', '2014-09-24','2014-10-29','2014-11-26','2015-04-30','2015-06-17','2015-07-16',\n",
    "               '2015-08-13','2015-09-23', '2015-10-27', '2015-11-25')\n",
    "date.range = as.POSIXct(strptime(timelist, format = \"%Y-%m-%d\"))\n",
    "\n",
    "p = ggplot() + geom_ribbon(data = rightN, aes(x = d, ymin = TMIN, ymax = TMAX), fill = \"grey\") +\n",
    "    theme_bw() +\n",
    "    theme(text = element_text(size=16), axis.text.x  = element_text(angle=90, vjust=0.5, size=16)) +\n",
    "    scale_x_datetime(breaks = date_breaks(\"1 month\"), labels=date_format(\"%b, %Y\")) +\n",
    "    xlab(NULL) + ylab(\"Temperature (*C)\")  +  \n",
    "  geom_point(data = subset(rightN, d %in% date.range), aes(x = d, y = TMAX), size = 4, color = 'black') \n",
    "    #geom_point(data = subset(rightN, date %in% date.range), aes(date, tmindeg), size = 4, color = 'blue') \n",
    "\n",
    "p =  p + \n",
    "        geom_point(data = sumdata, aes(x = realdate, y = mean_Soil_Temp, color=Land_Management),size = 4) +\n",
    "        geom_errorbar(data = sumdata, aes(x = realdate, ymin = ymin_Soil_Temp, ymax = ymax_Soil_Temp,\n",
    "                                          color = Land_Management), width = 0.2)+\n",
    "        scale_color_discrete(name = 'Land Management', labels = c('No-till, Harvested', 'No-till Returned',\n",
    "                                                                              'Till, Harvested', 'Till, Returned')) \n",
    "  \n",
    "p"
   ]
  },
  {
   "cell_type": "code",
   "execution_count": 24,
   "metadata": {
    "collapsed": true
   },
   "outputs": [],
   "source": [
    "%%R\n",
    "ggsave(filename = \"data/figs/Soil_Ambient_tempTime.jpg\", plot = p, width =8, height =6)"
   ]
  },
  {
   "cell_type": "code",
   "execution_count": 27,
   "metadata": {
    "collapsed": false
   },
   "outputs": [
    {
     "data": {
      "image/png": "[encoded data removed]"
     },
     "metadata": {},
     "output_type": "display_data"
    }
   ],
   "source": [
    "%%R\n",
    "\n",
    "\n",
    "timelist = c('2014-07-10', '2014-09-24','2014-10-29','2014-11-26','2015-04-30','2015-06-17','2015-07-16',\n",
    "               '2015-08-13','2015-09-23', '2015-10-27', '2015-11-25')\n",
    "date.range = as.POSIXct(strptime(timelist, format = \"%Y-%m-%d\"))\n",
    "p = ggplot(rightN, aes(d, PRCP)) +\n",
    "  geom_point(size = 3) +\n",
    "  theme(\n",
    "    text = element_text(size=16), axis.text.x  = element_text(angle=90, vjust=0.5, size=16)) +\n",
    "    scale_x_datetime(breaks = date_breaks(\"1 month\"), labels=date_format(\"%b, %Y\")) +\n",
    "    xlab(NULL) + ylab(\"Precipitation (mm)\")  +  \n",
    "  geom_point(data = subset(rightN, d %in% date.range), aes(d, PRCP), size = 4, color = 'red')\n",
    "\n",
    "\n",
    "\n",
    "\n",
    "p"
   ]
  },
  {
   "cell_type": "code",
   "execution_count": 30,
   "metadata": {
    "collapsed": true
   },
   "outputs": [],
   "source": [
    "%%R\n",
    "ggsave(filename = \"data/figs/Precip.jpg\", plot = p, width =6.5, height =6)"
   ]
  },
  {
   "cell_type": "code",
   "execution_count": 65,
   "metadata": {
    "collapsed": false
   },
   "outputs": [
    {
     "name": "stderr",
     "output_type": "stream",
     "text": [
      "/opt/anaconda/lib/python2.7/site-packages/rpy2/robjects/functions.py:106: UserWarning: \n",
      "Attaching package: ‘lubridate’\n",
      "\n",
      "\n",
      "  res = super(Function, self).__call__(*new_args, **new_kwargs)\n",
      "/opt/anaconda/lib/python2.7/site-packages/rpy2/robjects/functions.py:106: UserWarning: The following object is masked from ‘package:plyr’:\n",
      "\n",
      "    here\n",
      "\n",
      "\n",
      "  res = super(Function, self).__call__(*new_args, **new_kwargs)\n",
      "/opt/anaconda/lib/python2.7/site-packages/rpy2/robjects/functions.py:106: UserWarning: The following objects are masked from ‘package:data.table’:\n",
      "\n",
      "    hour, mday, month, quarter, wday, week, yday, year\n",
      "\n",
      "\n",
      "  res = super(Function, self).__call__(*new_args, **new_kwargs)\n",
      "/opt/anaconda/lib/python2.7/site-packages/rpy2/robjects/functions.py:106: UserWarning: The following object is masked from ‘package:base’:\n",
      "\n",
      "    date\n",
      "\n",
      "\n",
      "  res = super(Function, self).__call__(*new_args, **new_kwargs)\n"
     ]
    },
    {
     "data": {
      "text/plain": [
       "            STATION                            STATION_NAME     DATE MDPR DAPR\n",
       "1 GHCND:USW00064776 PLATTSBURGH INTERNATIONAL AIRPORT NY US 20140101   NA   NA\n",
       "2 GHCND:USW00064776 PLATTSBURGH INTERNATIONAL AIRPORT NY US 20140102   NA   NA\n",
       "3 GHCND:USW00064776 PLATTSBURGH INTERNATIONAL AIRPORT NY US 20140103   NA   NA\n",
       "4 GHCND:USW00064776 PLATTSBURGH INTERNATIONAL AIRPORT NY US 20140104   NA   NA\n",
       "5 GHCND:USW00064776 PLATTSBURGH INTERNATIONAL AIRPORT NY US 20140105   NA   NA\n",
       "6 GHCND:USW00064776 PLATTSBURGH INTERNATIONAL AIRPORT NY US 20140106   NA   NA\n",
       "  PRCP SNWD SNOW  TMAX  TMIN TOBS WESD WESF WT09 WT01 WT06 WT02 WT08 WT03\n",
       "1  0.0    0   NA  -9.3 -21.0   NA   NA   NA   NA   NA   NA   NA   NA   NA\n",
       "2  0.0    0   NA -21.0 -24.9   NA   NA   NA   NA   NA   NA   NA    1   NA\n",
       "3  0.0    0   NA -18.2 -28.2   NA   NA   NA   NA   NA   NA   NA    1   NA\n",
       "4  0.0    0    0  -6.0 -28.2   NA   NA   NA   NA   NA   NA   NA   NA   NA\n",
       "5  1.3    0   NA  -0.5  -9.3   NA   NA   NA   NA    1    1   NA   NA   NA\n",
       "6  3.3    0   NA   9.4  -7.7   NA   NA   NA   NA    1    1   NA   NA   NA\n",
       "           d month year\n",
       "1 2014-01-01     1 2014\n",
       "2 2014-01-02     1 2014\n",
       "3 2014-01-03     1 2014\n",
       "4 2014-01-04     1 2014\n",
       "5 2014-01-05     1 2014\n",
       "6 2014-01-06     1 2014\n"
      ]
     },
     "metadata": {},
     "output_type": "display_data"
    }
   ],
   "source": [
    "%%R\n",
    "library(lubridate)\n",
    "rightN = mutate(rightN, month = month(d), year = year(d))\n",
    "head(rightN)"
   ]
  },
  {
   "cell_type": "code",
   "execution_count": 66,
   "metadata": {
    "collapsed": false
   },
   "outputs": [
    {
     "data": {
      "text/plain": [
       "            STATION                            STATION_NAME     DATE MDPR DAPR\n",
       "1 GHCND:USW00064776 PLATTSBURGH INTERNATIONAL AIRPORT NY US 20140101   NA   NA\n",
       "2 GHCND:USW00064776 PLATTSBURGH INTERNATIONAL AIRPORT NY US 20140102   NA   NA\n",
       "3 GHCND:USW00064776 PLATTSBURGH INTERNATIONAL AIRPORT NY US 20140103   NA   NA\n",
       "4 GHCND:USW00064776 PLATTSBURGH INTERNATIONAL AIRPORT NY US 20140104   NA   NA\n",
       "5 GHCND:USW00064776 PLATTSBURGH INTERNATIONAL AIRPORT NY US 20140105   NA   NA\n",
       "6 GHCND:USW00064776 PLATTSBURGH INTERNATIONAL AIRPORT NY US 20140106   NA   NA\n",
       "  PRCP SNWD SNOW  TMAX  TMIN TOBS WESD WESF WT09 WT01 WT06 WT02 WT08 WT03\n",
       "1  0.0    0   NA  -9.3 -21.0   NA   NA   NA   NA   NA   NA   NA   NA   NA\n",
       "2  0.0    0   NA -21.0 -24.9   NA   NA   NA   NA   NA   NA   NA    1   NA\n",
       "3  0.0    0   NA -18.2 -28.2   NA   NA   NA   NA   NA   NA   NA    1   NA\n",
       "4  0.0    0    0  -6.0 -28.2   NA   NA   NA   NA   NA   NA   NA   NA   NA\n",
       "5  1.3    0   NA  -0.5  -9.3   NA   NA   NA   NA    1    1   NA   NA   NA\n",
       "6  3.3    0   NA   9.4  -7.7   NA   NA   NA   NA    1    1   NA   NA   NA\n",
       "           d month year     MY\n",
       "1 2014-01-01     1 2014 1-2014\n",
       "2 2014-01-02     1 2014 1-2014\n",
       "3 2014-01-03     1 2014 1-2014\n",
       "4 2014-01-04     1 2014 1-2014\n",
       "5 2014-01-05     1 2014 1-2014\n",
       "6 2014-01-06     1 2014 1-2014\n"
      ]
     },
     "metadata": {},
     "output_type": "display_data"
    }
   ],
   "source": [
    "%%R\n",
    "rightN$MY = paste(rightN$month, rightN$year, sep = '-')\n",
    "head(rightN)"
   ]
  },
  {
   "cell_type": "code",
   "execution_count": 67,
   "metadata": {
    "collapsed": false
   },
   "outputs": [
    {
     "data": {
      "text/plain": [
       "\n",
       "\tWelch Two Sample t-test\n",
       "\n",
       "data:  rightN$PRCP by rightN$year\n",
       "t = -0.2337, df = 728, p-value = 0.8153\n",
       "alternative hypothesis: true difference in means is not equal to 0\n",
       "95 percent confidence interval:\n",
       " -0.8962713  0.7055863\n",
       "sample estimates:\n",
       "mean in group 2014 mean in group 2015 \n",
       "          1.962740           2.058082 \n",
       "\n"
      ]
     },
     "metadata": {},
     "output_type": "display_data"
    }
   ],
   "source": [
    "%%R\n",
    "t.test(rightN$PRCP ~ rightN$year)"
   ]
  },
  {
   "cell_type": "code",
   "execution_count": 69,
   "metadata": {
    "collapsed": false
   },
   "outputs": [
    {
     "data": {
      "text/plain": [
       "\n",
       "\tWelch Two Sample t-test\n",
       "\n",
       "data:  rightN$TMAX by rightN$year\n",
       "t = -1.0432, df = 726.27, p-value = 0.2972\n",
       "alternative hypothesis: true difference in means is not equal to 0\n",
       "95 percent confidence interval:\n",
       " -2.6814038  0.8205367\n",
       "sample estimates:\n",
       "mean in group 2014 mean in group 2015 \n",
       "          12.07781           13.00824 \n",
       "\n"
      ]
     },
     "metadata": {},
     "output_type": "display_data"
    }
   ],
   "source": [
    "%%R\n",
    "t.test(rightN$TMAX ~ rightN$year)"
   ]
  },
  {
   "cell_type": "code",
   "execution_count": null,
   "metadata": {
    "collapsed": false
   },
   "outputs": [],
   "source": [
    "%%R\n",
    "t.test(rightN$TMIN ~ rightN$year)"
   ]
  },
  {
   "cell_type": "code",
   "execution_count": null,
   "metadata": {
    "collapsed": false
   },
   "outputs": [],
   "source": [
    "%%R\n",
    "aov.PRCP.month = aov(rightN$PRCP ~ rightN$month)\n",
    "summary(aov.PRCP.month)"
   ]
  },
  {
   "cell_type": "code",
   "execution_count": null,
   "metadata": {
    "collapsed": false
   },
   "outputs": [],
   "source": [
    "%%R\n",
    "aov.PRCP.MY = aov(rightN$PRCP ~ rightN$MY)\n",
    "summary(aov.PRCP.MY)"
   ]
  },
  {
   "cell_type": "code",
   "execution_count": null,
   "metadata": {
    "collapsed": false
   },
   "outputs": [],
   "source": [
    "%%R\n",
    "THSD.MY = TukeyHSD(aov.PRCP.MY)\n",
    "THSD.MY.df = as.data.frame(as.matrix(THSD.MY$`rightN$MY`))\n",
    "THSD.MY.df$MYcomp = rownames(THSD.MY.df)\n",
    "THSD.MY.sig = filter(THSD.MY.df, `p adj` <=0.05)"
   ]
  },
  {
   "cell_type": "code",
   "execution_count": null,
   "metadata": {
    "collapsed": false
   },
   "outputs": [],
   "source": [
    "%%R\n",
    "THSD.MY.sig$`p adj` %>% as.data.frame"
   ]
  },
  {
   "cell_type": "code",
   "execution_count": null,
   "metadata": {
    "collapsed": false
   },
   "outputs": [],
   "source": [
    "%%R\n",
    "THSD.MY.sig"
   ]
  },
  {
   "cell_type": "code",
   "execution_count": null,
   "metadata": {
    "collapsed": true
   },
   "outputs": [],
   "source": [
    "%%R\n",
    "ggsave(filename = \"data/figs/Precip.jpg\", plot = p, width =6, height =6)"
   ]
  },
  {
   "cell_type": "code",
   "execution_count": null,
   "metadata": {
    "collapsed": false
   },
   "outputs": [],
   "source": [
    "%%R\n",
    "head(sumdata)"
   ]
  },
  {
   "cell_type": "markdown",
   "metadata": {},
   "source": [
    "## Soil C and N"
   ]
  },
  {
   "cell_type": "code",
   "execution_count": 5,
   "metadata": {
    "collapsed": false
   },
   "outputs": [
    {
     "data": {
      "text/plain": [
       "  Sample.ID weight position   method  X      N.       C. Analysis.time   N.area\n",
       "1     Blank 1.0000      A01 Soil New NA 0.02818  0.01297           400  17.6580\n",
       "2     Blank 1.0000      A02 Soil New NA 0.00702  0.02184           401   7.9242\n",
       "3     Blank 1.0000      A03 Soil New NA 0.00568  0.00640           401   7.2496\n",
       "4     Blank 1.0000      A04 Soil New NA 0.00592  0.01163           401   7.3708\n",
       "5     Blank 1.0000      A05 Soil New NA 0.00317  0.00689           401   5.9862\n",
       "6      EDTA 0.1541      A06 Soil New NA 9.58050 40.94400           401 748.9300\n",
       "  Experiment X.1    C.area   Date...Time\n",
       "1       <NA>  NA    466.89  3/24/16 9:21\n",
       "2       <NA>  NA    753.01  3/24/16 9:28\n",
       "3       <NA>  NA    398.39  3/24/16 9:35\n",
       "4       <NA>  NA    518.55  3/24/16 9:58\n",
       "5       <NA>  NA    409.68 3/24/16 10:05\n",
       "6       <NA>  NA 143909.00 3/24/16 10:16\n"
      ]
     },
     "metadata": {},
     "output_type": "display_data"
    }
   ],
   "source": [
    "%%R\n",
    "Soil_CN = read.csv('/home/chantal/Chazy/data/Chazy_CN.csv', header = TRUE)\n",
    "head(Soil_CN)"
   ]
  },
  {
   "cell_type": "code",
   "execution_count": 6,
   "metadata": {
    "collapsed": false
   },
   "outputs": [
    {
     "data": {
      "text/plain": [
       "  Sample.ID weight position   method  X      N.     C. Analysis.time N.area\n",
       "1  PTH.4_R1 0.4033      B04 Soil New NA 0.10292 1.6371           401 25.323\n",
       "2  PTH.4_R2 0.4032      B05 Soil New NA 0.10502 1.6505           402 25.745\n",
       "3  NTH.1_R1 0.4021      B06 Soil New NA 0.19179 2.1681           402 43.282\n",
       "4  NTH.1_R2 0.4026      B07 Soil New NA 0.18773 2.1609           402 42.506\n",
       "5     NTH.2 0.4037      B08 Soil New NA 0.15485 1.8189           402 35.916\n",
       "6     NTH.3 0.4068      B09 Soil New NA 0.23632 2.6759           402 52.872\n",
       "  Experiment X.1 C.area   Date...Time\n",
       "1      Chazy  NA  15547 3/24/16 11:26\n",
       "2      Chazy  NA  15669 3/24/16 11:33\n",
       "3      Chazy  NA  20435 3/24/16 11:40\n",
       "4      Chazy  NA  20393 3/24/16 11:47\n",
       "5      Chazy  NA  17259 3/24/16 11:54\n",
       "6      Chazy  NA  25436 3/24/16 12:01\n"
      ]
     },
     "metadata": {},
     "output_type": "display_data"
    }
   ],
   "source": [
    "%%R\n",
    "Soil.Chazy = filter(Soil_CN, Experiment == 'Chazy')\n",
    "head(Soil.Chazy)"
   ]
  },
  {
   "cell_type": "code",
   "execution_count": 25,
   "metadata": {
    "collapsed": false
   },
   "outputs": [
    {
     "data": {
      "text/plain": [
       "  Treatment Rep rerun weight position   method  X      N.     C. Analysis.time\n",
       "1       PTH   4    R1 0.4033      B04 Soil New NA 0.10292 1.6371           401\n",
       "2       NTH   1    R1 0.4021      B06 Soil New NA 0.19179 2.1681           402\n",
       "3       NTH   2  <NA> 0.4037      B08 Soil New NA 0.15485 1.8189           402\n",
       "4       NTH   3  <NA> 0.4068      B09 Soil New NA 0.23632 2.6759           402\n",
       "5       NTR   3  <NA> 0.3997      B10 Soil New NA 0.25502 3.2604           402\n",
       "6       NTR   2  <NA> 0.4032      C01 Soil New NA 0.19892 2.2323           402\n",
       "  N.area Experiment X.1 C.area   Date...Time    Till        OM      C_N\n",
       "1 25.323      Chazy  NA  15547 3/24/16 11:26    Till Harvested 15.90653\n",
       "2 43.282      Chazy  NA  20435 3/24/16 11:40 No-till Harvested 11.30455\n",
       "3 35.916      Chazy  NA  17259 3/24/16 11:54 No-till Harvested 11.74621\n",
       "4 52.872      Chazy  NA  25436 3/24/16 12:01 No-till Harvested 11.32321\n",
       "5 55.795      Chazy  NA  30382 3/24/16 12:08 No-till  Returned 12.78488\n",
       "6 44.838      Chazy  NA  21088 3/24/16 12:15 No-till  Returned 11.22210\n"
      ]
     },
     "metadata": {},
     "output_type": "display_data"
    }
   ],
   "source": [
    "%%R\n",
    "Soil.sum = Soil.Chazy %>% separate(Sample.ID, c('Treatment', 'Rep', 'rerun')) \n",
    "\n",
    "Soil.sum$Till[Soil.sum$Treatment %in% c('PTH', 'PTR')] = \"Till\"\n",
    "Soil.sum$Till[Soil.sum$Treatment %in% c('NTH', 'NTR')] = \"No-till\"\n",
    "Soil.sum$OM[Soil.sum$Treatment %in% c('PTH', 'NTH')] = \"Harvested\"\n",
    "Soil.sum$OM[Soil.sum$Treatment %in% c('NTR', 'PTR')] = \"Returned\"\n",
    "\n",
    "\n",
    "Soil.sum = filter(Soil.sum, !(position %in% c('B05', 'B07')))\n",
    "Soil.sum$C_N = Soil.sum$C./Soil.sum$N.\n",
    "head(Soil.sum)"
   ]
  },
  {
   "cell_type": "code",
   "execution_count": 8,
   "metadata": {
    "collapsed": false
   },
   "outputs": [
    {
     "data": {
      "text/plain": [
       "Source: local data frame [4 x 7]\n",
       "\n",
       "  Treatment    meanC       sdC     meanN        sdN   meanCN      sdCN\n",
       "      (chr)    (dbl)     (dbl)     (dbl)      (dbl)    (dbl)     (dbl)\n",
       "1       NTH 2.134525 0.3920386 0.1849525 0.03821554 11.58233 0.3216215\n",
       "2       NTR 2.765900 0.4781857 0.2256975 0.02872859 12.20398 0.6814242\n",
       "3       PTH 1.498750 0.2574017 0.1048525 0.02089946 14.36416 1.1244099\n",
       "4       PTR 1.617825 0.3989296 0.1116400 0.01222949 14.35761 2.0218952\n"
      ]
     },
     "metadata": {},
     "output_type": "display_data"
    }
   ],
   "source": [
    "%%R\n",
    "Soil.summary = Soil.sum %>% group_by(Treatment) %>% summarise(meanC = mean(C.), sdC = sd(C.), meanN = mean(N.), \n",
    "                                                              sdN = sd(N.), meanCN = mean(C_N), sdCN = sd(C_N))\n",
    "\n",
    "Soil.summary"
   ]
  },
  {
   "cell_type": "code",
   "execution_count": 9,
   "metadata": {
    "collapsed": false
   },
   "outputs": [
    {
     "data": {
      "image/png": "[encoded data removed]"
     },
     "metadata": {},
     "output_type": "display_data"
    }
   ],
   "source": [
    "%%R\n",
    "p = ggplot(Soil.sum, aes(x = Treatment, y = N.)) + \n",
    "    geom_boxplot() + geom_point(aes(color = Rep), size = 3) + ylab(\"% N\") + expand_limits(y=0)\n",
    "p"
   ]
  },
  {
   "cell_type": "code",
   "execution_count": 27,
   "metadata": {
    "collapsed": false
   },
   "outputs": [
    {
     "data": {
      "text/plain": [
       "                          Df  Sum Sq Mean Sq F value   Pr(>F)    \n",
       "Soil.sum$Till              1 0.03770 0.03770 127.951 1.27e-06 ***\n",
       "Soil.sum$OM                1 0.00226 0.00226   7.669   0.0218 *  \n",
       "Soil.sum$Rep               3 0.00596 0.00199   6.748   0.0111 *  \n",
       "Soil.sum$Till:Soil.sum$OM  1 0.00115 0.00115   3.914   0.0793 .  \n",
       "Residuals                  9 0.00265 0.00029                     \n",
       "---\n",
       "Signif. codes:  0 ‘***’ 0.001 ‘**’ 0.01 ‘*’ 0.05 ‘.’ 0.1 ‘ ’ 1\n"
      ]
     },
     "metadata": {},
     "output_type": "display_data"
    }
   ],
   "source": [
    "%%R\n",
    "av = aov(lm(Soil.sum$N. ~ Soil.sum$Till * Soil.sum$OM + Soil.sum$Rep))\n",
    "summary(av)"
   ]
  },
  {
   "cell_type": "code",
   "execution_count": 30,
   "metadata": {
    "collapsed": false
   },
   "outputs": [
    {
     "data": {
      "text/plain": [
       "                          Df Sum Sq Mean Sq F value   Pr(>F)    \n",
       "Soil.sum$Till              1  3.182   3.182   77.23 1.04e-05 ***\n",
       "Soil.sum$OM                1  0.563   0.563   13.67  0.00494 ** \n",
       "Soil.sum$Rep               3  1.452   0.484   11.75  0.00182 ** \n",
       "Soil.sum$Till:Soil.sum$OM  1  0.262   0.262    6.37  0.03256 *  \n",
       "Residuals                  9  0.371   0.041                     \n",
       "---\n",
       "Signif. codes:  0 ‘***’ 0.001 ‘**’ 0.01 ‘*’ 0.05 ‘.’ 0.1 ‘ ’ 1\n"
      ]
     },
     "metadata": {},
     "output_type": "display_data"
    }
   ],
   "source": [
    "%%R\n",
    "av = aov(lm(Soil.sum$C. ~ Soil.sum$Till * Soil.sum$OM + Soil.sum$Rep))\n",
    "summary(av)"
   ]
  },
  {
   "cell_type": "code",
   "execution_count": 31,
   "metadata": {
    "collapsed": false
   },
   "outputs": [
    {
     "data": {
      "text/plain": [
       "                          Df Sum Sq Mean Sq F value Pr(>F)   \n",
       "Soil.sum$Till              1 24.359  24.359  14.698  0.004 **\n",
       "Soil.sum$OM                1  0.378   0.378   0.228  0.644   \n",
       "Soil.sum$Rep               3  2.845   0.948   0.572  0.647   \n",
       "Soil.sum$Till:Soil.sum$OM  1  0.395   0.395   0.238  0.637   \n",
       "Residuals                  9 14.916   1.657                  \n",
       "---\n",
       "Signif. codes:  0 ‘***’ 0.001 ‘**’ 0.01 ‘*’ 0.05 ‘.’ 0.1 ‘ ’ 1\n"
      ]
     },
     "metadata": {},
     "output_type": "display_data"
    }
   ],
   "source": [
    "%%R\n",
    "av = aov(lm(Soil.sum$C_N ~ Soil.sum$Till * Soil.sum$OM + Soil.sum$Rep))\n",
    "summary(av)"
   ]
  },
  {
   "cell_type": "code",
   "execution_count": 34,
   "metadata": {
    "collapsed": false
   },
   "outputs": [
    {
     "data": {
      "text/plain": [
       "  Treatment Rep rerun weight position   method  X      N.     C. Analysis.time\n",
       "1       NTH   1    R1 0.4021      B06 Soil New NA 0.19179 2.1681           402\n",
       "2       NTH   2  <NA> 0.4037      B08 Soil New NA 0.15485 1.8189           402\n",
       "3       NTH   3  <NA> 0.4068      B09 Soil New NA 0.23632 2.6759           402\n",
       "4       NTH   4  <NA> 0.4042      C04 Soil New NA 0.15685 1.8752           402\n",
       "5       NTR   1  <NA> 0.4056      C06 Soil New NA 0.20326 2.5062           402\n",
       "6       NTR   2  <NA> 0.4032      C01 Soil New NA 0.19892 2.2323           402\n",
       "  N.area Experiment X.1 C.area   Date...Time    Till        OM      C_N\n",
       "1 43.282      Chazy  NA  20435 3/24/16 11:40 No-till Harvested 11.30455\n",
       "2 35.916      Chazy  NA  17259 3/24/16 11:54 No-till Harvested 11.74621\n",
       "3 52.872      Chazy  NA  25436 3/24/16 12:01 No-till Harvested 11.32321\n",
       "4 36.362      Chazy  NA  17806 3/24/16 12:36 No-till Harvested 11.95537\n",
       "5 45.966      Chazy  NA  23775 3/24/16 12:51 No-till  Returned 12.33002\n",
       "6 44.838      Chazy  NA  21088 3/24/16 12:15 No-till  Returned 11.22210\n"
      ]
     },
     "metadata": {},
     "output_type": "display_data"
    }
   ],
   "source": [
    "%%R\n",
    "Soil.sum = Soil.sum %>% arrange(Treatment, Rep)\n",
    "head(Soil.sum)"
   ]
  },
  {
   "cell_type": "code",
   "execution_count": 35,
   "metadata": {
    "collapsed": false
   },
   "outputs": [
    {
     "data": {
      "text/plain": [
       "\n",
       "\tPairwise comparisons using paired t tests \n",
       "\n",
       "data:  Soil.sum$N. and Soil.sum$Treatment \n",
       "\n",
       "    NTH    NTR    PTH   \n",
       "NTR 0.1222 -      -     \n",
       "PTH 0.0139 0.0029 -     \n",
       "PTR 0.0316 0.0029 0.2869\n",
       "\n",
       "P value adjustment method: BH \n"
      ]
     },
     "metadata": {},
     "output_type": "display_data"
    }
   ],
   "source": [
    "%%R\n",
    "pairwise.t.test(Soil.sum$N.,Soil.sum$Treatment, p.adjust.method = 'BH',\n",
    "                 paired = TRUE)"
   ]
  },
  {
   "cell_type": "code",
   "execution_count": 36,
   "metadata": {
    "collapsed": false
   },
   "outputs": [
    {
     "data": {
      "text/plain": [
       "\n",
       "\tPairwise comparisons using paired t tests \n",
       "\n",
       "data:  Soil.sum$C. and Soil.sum$Treatment \n",
       "\n",
       "    NTH    NTR    PTH   \n",
       "NTR 0.0561 -      -     \n",
       "PTH 0.0359 0.0091 -     \n",
       "PTR 0.0359 0.0148 0.3765\n",
       "\n",
       "P value adjustment method: BH \n"
      ]
     },
     "metadata": {},
     "output_type": "display_data"
    }
   ],
   "source": [
    "%%R\n",
    "pairwise.t.test(Soil.sum$C.,Soil.sum$Treatment, p.adjust.method = 'BH',\n",
    "                 paired = TRUE)"
   ]
  },
  {
   "cell_type": "code",
   "execution_count": 37,
   "metadata": {
    "collapsed": false
   },
   "outputs": [
    {
     "data": {
      "text/plain": [
       "\n",
       "\tPairwise comparisons using paired t tests \n",
       "\n",
       "data:  Soil.sum$C_N and Soil.sum$Treatment \n",
       "\n",
       "    NTH   NTR   PTH  \n",
       "NTR 0.290 -     -    \n",
       "PTH 0.054 0.124 -    \n",
       "PTR 0.149 0.149 0.997\n",
       "\n",
       "P value adjustment method: BH \n"
      ]
     },
     "metadata": {},
     "output_type": "display_data"
    }
   ],
   "source": [
    "%%R\n",
    "pairwise.t.test(Soil.sum$C_N,Soil.sum$Treatment, p.adjust.method = 'BH',\n",
    "                 paired = TRUE)"
   ]
  },
  {
   "cell_type": "code",
   "execution_count": 13,
   "metadata": {
    "collapsed": false
   },
   "outputs": [
    {
     "data": {
      "image/png": "[encoded data removed]"
     },
     "metadata": {},
     "output_type": "display_data"
    }
   ],
   "source": [
    "%%R\n",
    "p = ggplot(Soil.sum, aes(x = Treatment, y = C.)) + \n",
    "    geom_boxplot() + geom_point(aes(color = Rep), size = 3) + ylab('%C') + expand_limits(y=0)\n",
    "p"
   ]
  },
  {
   "cell_type": "code",
   "execution_count": 16,
   "metadata": {
    "collapsed": false
   },
   "outputs": [
    {
     "data": {
      "image/png": "[encoded data removed]"
     },
     "metadata": {},
     "output_type": "display_data"
    }
   ],
   "source": [
    "%%R\n",
    "p = ggplot(Soil.sum, aes(x = Treatment, y = C_N)) + \n",
    "    geom_boxplot() + geom_point(aes(color = Rep), size = 3) + ylab('C:N ratio') + expand_limits(y=0)\n",
    "p"
   ]
  },
  {
   "cell_type": "markdown",
   "metadata": {},
   "source": [
    "## pH"
   ]
  },
  {
   "cell_type": "code",
   "execution_count": 20,
   "metadata": {
    "collapsed": false
   },
   "outputs": [],
   "source": [
    "%%R\n",
    "pH = read.csv('data/pH_ChazySept2014.csv')"
   ]
  },
  {
   "cell_type": "code",
   "execution_count": 21,
   "metadata": {
    "collapsed": false
   },
   "outputs": [
    {
     "data": {
      "text/plain": [
       "     X  pH1  pH2   Avg         SD Treatment Rep\n",
       "1 NTH1 7.15 7.33 7.240 0.12727922       NTH   1\n",
       "2 NTH2 7.30 7.28 7.290 0.01414214       NTH   2\n",
       "3 NTH3 5.45 5.48 5.465 0.02121320       NTH   3\n",
       "4 NTH4 7.41 7.50 7.455 0.06363961       NTH   4\n",
       "5 NTR1 7.37 7.31 7.340 0.04242641       NTR   1\n",
       "6 NTR2 5.93 5.90 5.915 0.02121320       NTR   2\n"
      ]
     },
     "metadata": {},
     "output_type": "display_data"
    }
   ],
   "source": [
    "%%R\n",
    "head(pH)"
   ]
  },
  {
   "cell_type": "code",
   "execution_count": 22,
   "metadata": {
    "collapsed": false
   },
   "outputs": [
    {
     "data": {
      "text/plain": [
       "Source: local data frame [4 x 3]\n",
       "\n",
       "  Treatment  meanpH       sdpH\n",
       "     (fctr)   (dbl)      (dbl)\n",
       "1       NTH 6.86250 0.93618463\n",
       "2       NTR 6.88625 0.67609633\n",
       "3       PTH 7.74375 0.06956711\n",
       "4       PTR 7.65500 0.04966555\n"
      ]
     },
     "metadata": {},
     "output_type": "display_data"
    }
   ],
   "source": [
    "%%R\n",
    "head(pH) \n",
    "pH %>% group_by(Treatment) %>% summarize(meanpH = mean(Avg), sdpH = sd(Avg))"
   ]
  },
  {
   "cell_type": "code",
   "execution_count": 23,
   "metadata": {
    "collapsed": false
   },
   "outputs": [
    {
     "data": {
      "text/plain": [
       "             Df Sum Sq Mean Sq F value Pr(>F)\n",
       "pH$Treatment  3  2.739  0.9131   2.499  0.114\n",
       "pH$Rep        1  0.003  0.0028   0.008  0.932\n",
       "Residuals    11  4.020  0.3654               \n"
      ]
     },
     "metadata": {},
     "output_type": "display_data"
    }
   ],
   "source": [
    "%%R\n",
    "av = aov(pH$Avg ~ pH$Treatment + pH$Rep)\n",
    "summary(av)"
   ]
  },
  {
   "cell_type": "code",
   "execution_count": 24,
   "metadata": {
    "collapsed": false
   },
   "outputs": [
    {
     "data": {
      "text/plain": [
       "\n",
       "\tPairwise comparisons using paired t tests \n",
       "\n",
       "data:  pH$Avg and pH$Treatment \n",
       "\n",
       "    NTH  NTR  PTH \n",
       "NTR 0.97 -    -   \n",
       "PTH 0.23 0.23 -   \n",
       "PTR 0.23 0.23 0.23\n",
       "\n",
       "P value adjustment method: BH \n"
      ]
     },
     "metadata": {},
     "output_type": "display_data"
    }
   ],
   "source": [
    "%%R\n",
    "pairwise.t.test(pH$Avg,pH$Treatment, p.adjust.method = 'BH',\n",
    "                 paired = TRUE)"
   ]
  }
 ],
 "metadata": {
  "kernelspec": {
   "display_name": "Python 2",
   "language": "python",
   "name": "python2"
  },
  "language_info": {
   "codemirror_mode": {
    "name": "ipython",
    "version": 2
   },
   "file_extension": ".py",
   "mimetype": "text/x-python",
   "name": "python",
   "nbconvert_exporter": "python",
   "pygments_lexer": "ipython2",
   "version": "2.7.11"
  }
 },
 "nbformat": 4,
 "nbformat_minor": 0
}
