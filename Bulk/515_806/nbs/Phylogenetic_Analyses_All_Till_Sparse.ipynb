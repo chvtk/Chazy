{
 "cells": [
  {
   "cell_type": "code",
   "execution_count": 1,
   "metadata": {
    "collapsed": false
   },
   "outputs": [],
   "source": [
    "%matplotlib inline\n",
    "%load_ext rpy2.ipython"
   ]
  },
  {
   "cell_type": "code",
   "execution_count": 2,
   "metadata": {
    "collapsed": false
   },
   "outputs": [
    {
     "name": "stdout",
     "output_type": "stream",
     "text": [
      "The history saving thread hit an unexpected error (OperationalError('database is locked',)).History will not be written to the database.\n"
     ]
    }
   ],
   "source": [
    "%%R\n",
    "workDir = '/home/chantal/Chazy/Bulk/515_806/data'\n",
    "figDir = '/home/chantal/Chazy/Bulk/515_806/data/figs/'\n",
    "\n",
    "physeqDir = '/home/chantal/Chazy/data/phyloseq/'\n",
    "physeqBulk = 'bulk-core-rare'\n",
    "#physeqBulk = 'bulk-core' \n",
    "\n",
    "#l2fcResFile = file.path(workDir, 'l2fc_sparse-maxRejH_BULK_0.25_.txt')\n",
    "## NOTEBOOK RUN WITH 0.25 SPARSITY FILTERED DATASET...\n",
    "\n",
    "nprocs = 20"
   ]
  },
  {
   "cell_type": "code",
   "execution_count": 3,
   "metadata": {
    "collapsed": false
   },
   "outputs": [
    {
     "name": "stderr",
     "output_type": "stream",
     "text": [
      "/opt/anaconda/lib/python2.7/site-packages/rpy2/robjects/functions.py:106: UserWarning: Use suppressPackageStartupMessages() to eliminate package startup\n",
      "messages.\n",
      "\n",
      "  res = super(Function, self).__call__(*new_args, **new_kwargs)\n",
      "/opt/anaconda/lib/python2.7/site-packages/rpy2/robjects/functions.py:106: UserWarning: data.table 1.9.6  For help type ?data.table or https://github.com/Rdatatable/data.table/wiki\n",
      "\n",
      "  res = super(Function, self).__call__(*new_args, **new_kwargs)\n",
      "/opt/anaconda/lib/python2.7/site-packages/rpy2/robjects/functions.py:106: UserWarning: The fastest way to learn (by data.table authors): https://www.datacamp.com/courses/data-analysis-the-data-table-way\n",
      "\n",
      "  res = super(Function, self).__call__(*new_args, **new_kwargs)\n",
      "/opt/anaconda/lib/python2.7/site-packages/rpy2/robjects/functions.py:106: UserWarning: Loading required package: permute\n",
      "\n",
      "  res = super(Function, self).__call__(*new_args, **new_kwargs)\n",
      "/opt/anaconda/lib/python2.7/site-packages/rpy2/robjects/functions.py:106: UserWarning: Loading required package: lattice\n",
      "\n",
      "  res = super(Function, self).__call__(*new_args, **new_kwargs)\n",
      "/opt/anaconda/lib/python2.7/site-packages/rpy2/robjects/functions.py:106: UserWarning: This is vegan 2.3-3\n",
      "\n",
      "  res = super(Function, self).__call__(*new_args, **new_kwargs)\n",
      "/opt/anaconda/lib/python2.7/site-packages/rpy2/robjects/functions.py:106: UserWarning: \n",
      "Attaching package: ‘dplyr’\n",
      "\n",
      "\n",
      "  res = super(Function, self).__call__(*new_args, **new_kwargs)\n",
      "/opt/anaconda/lib/python2.7/site-packages/rpy2/robjects/functions.py:106: UserWarning: The following objects are masked from ‘package:plyr’:\n",
      "\n",
      "    arrange, count, desc, failwith, id, mutate, rename, summarise,\n",
      "    summarize\n",
      "\n",
      "\n",
      "  res = super(Function, self).__call__(*new_args, **new_kwargs)\n",
      "/opt/anaconda/lib/python2.7/site-packages/rpy2/robjects/functions.py:106: UserWarning: The following objects are masked from ‘package:data.table’:\n",
      "\n",
      "    between, last\n",
      "\n",
      "\n",
      "  res = super(Function, self).__call__(*new_args, **new_kwargs)\n",
      "/opt/anaconda/lib/python2.7/site-packages/rpy2/robjects/functions.py:106: UserWarning: The following objects are masked from ‘package:stats’:\n",
      "\n",
      "    filter, lag\n",
      "\n",
      "\n",
      "  res = super(Function, self).__call__(*new_args, **new_kwargs)\n",
      "/opt/anaconda/lib/python2.7/site-packages/rpy2/robjects/functions.py:106: UserWarning: The following objects are masked from ‘package:base’:\n",
      "\n",
      "    intersect, setdiff, setequal, union\n",
      "\n",
      "\n",
      "  res = super(Function, self).__call__(*new_args, **new_kwargs)\n",
      "/opt/anaconda/lib/python2.7/site-packages/rpy2/robjects/functions.py:106: UserWarning: Loading required package: ape\n",
      "\n",
      "  res = super(Function, self).__call__(*new_args, **new_kwargs)\n",
      "/opt/anaconda/lib/python2.7/site-packages/rpy2/robjects/functions.py:106: UserWarning: Loading required package: nlme\n",
      "\n",
      "  res = super(Function, self).__call__(*new_args, **new_kwargs)\n",
      "/opt/anaconda/lib/python2.7/site-packages/rpy2/robjects/functions.py:106: UserWarning: \n",
      "Attaching package: ‘nlme’\n",
      "\n",
      "\n",
      "  res = super(Function, self).__call__(*new_args, **new_kwargs)\n",
      "/opt/anaconda/lib/python2.7/site-packages/rpy2/robjects/functions.py:106: UserWarning: The following object is masked from ‘package:dplyr’:\n",
      "\n",
      "    collapse\n",
      "\n",
      "\n",
      "  res = super(Function, self).__call__(*new_args, **new_kwargs)\n"
     ]
    }
   ],
   "source": [
    "%%R\n",
    "library(ggplot2)\n",
    "library(phyloseq)\n",
    "library(gridExtra)\n",
    "library(data.table)\n",
    "library(vegan)\n",
    "library(plyr);library(dplyr)\n",
    "library(tidyr)\n",
    "library(picante)"
   ]
  },
  {
   "cell_type": "code",
   "execution_count": 4,
   "metadata": {
    "collapsed": false
   },
   "outputs": [
    {
     "data": {
      "text/plain": [
       "phyloseq-class experiment-level object\n",
       "otu_table()   OTU Table:         [ 3964 taxa and 175 samples ]\n",
       "sample_data() Sample Data:       [ 175 samples by 25 sample variables ]\n",
       "tax_table()   Taxonomy Table:    [ 3964 taxa by 8 taxonomic ranks ]\n",
       "phy_tree()    Phylogenetic Tree: [ 3964 tips and 3963 internal nodes ]\n"
      ]
     },
     "metadata": {},
     "output_type": "display_data"
    }
   ],
   "source": [
    "%%R\n",
    "\n",
    "##Importing and pruning physeq object\n",
    "\n",
    "F = file.path(physeqDir, physeqBulk)\n",
    "physeq.Bulk = readRDS(F)\n",
    "physeq.Bulk.m = physeq.Bulk %>% sample_data\n",
    "physeq.Bulk = prune_samples((physeq.Bulk.m$Land_Management != \"PAS\"),\n",
    "                           physeq.Bulk)\n",
    "\n",
    "\n",
    "physeq.Bulk.m = physeq.Bulk %>% sample_data\n",
    "\n",
    "physeq.Bulk\n",
    "\n",
    "physeq.sparse = filter_taxa(physeq.Bulk, function(x) sum(x > 0) > (0.25 * length(x)), TRUE)\n",
    "\n",
    "physeq.sparse\n"
   ]
  },
  {
   "cell_type": "code",
   "execution_count": 5,
   "metadata": {
    "collapsed": false
   },
   "outputs": [],
   "source": [
    "%%R\n",
    "#Creating dataframe from physeq object\n",
    "mdf = psmelt(physeq.sparse)"
   ]
  },
  {
   "cell_type": "markdown",
   "metadata": {},
   "source": [
    "## Calculating NRI (SES - to get NRI, multiply z values by -1)"
   ]
  },
  {
   "cell_type": "code",
   "execution_count": 6,
   "metadata": {
    "collapsed": false
   },
   "outputs": [
    {
     "data": {
      "text/plain": [
       "  sparsity_threshold       OTU log2FoldChange     lfcSE         padj    Rank1\n",
       "1               0.25  OTU.1739      0.4012126 0.4523957 4.684148e-01 Bacteria\n",
       "2               0.25  OTU.1813     -1.4802581 0.4326507 1.826795e-03 Bacteria\n",
       "3               0.25   OTU.778     -0.5498601 0.1379296 2.483877e-04 Bacteria\n",
       "4               0.25  OTU.2180     -0.3066501 0.2858391 3.755368e-01 Bacteria\n",
       "5               0.25 OTU.12365     -0.1443963 0.2567288 6.562578e-01 Bacteria\n",
       "6               0.25  OTU.2343      1.3595096 0.3116793 5.598476e-05 Bacteria\n",
       "             Rank2          Rank3                  Rank4 Rank5 Rank6 Rank7\n",
       "1 __Planctomycetes        __OM190 __uncultured_bacterium  <NA>  <NA>  <NA>\n",
       "2 __Planctomycetes        __OM190 __uncultured_bacterium  <NA>  <NA>  <NA>\n",
       "3 __Planctomycetes __Pla4_lineage __uncultured_bacterium  <NA>  <NA>  <NA>\n",
       "4 __Planctomycetes __Pla4_lineage __uncultured_bacterium  <NA>  <NA>  <NA>\n",
       "5 __Planctomycetes __Pla4_lineage __uncultured_bacterium  <NA>  <NA>  <NA>\n",
       "6 __Planctomycetes __Pla4_lineage __uncultured_bacterium  <NA>  <NA>  <NA>\n",
       "  Rank8        padj2 Till\n",
       "1  <NA> 0.6010558483    T\n",
       "2  <NA> 0.0056520888    N\n",
       "3  <NA> 0.0009556926    N\n",
       "4  <NA> 0.5116160300    N\n",
       "5  <NA> 0.7656246065    N\n",
       "6  <NA> 0.0002535853    T\n"
      ]
     },
     "metadata": {},
     "output_type": "display_data"
    }
   ],
   "source": [
    "%%R\n",
    "df.l2fc.Till = read.table('data/l2fc_Till.txt', sep = '\\t', header = TRUE)\n",
    "head(df.l2fc.Till)"
   ]
  },
  {
   "cell_type": "code",
   "execution_count": 7,
   "metadata": {
    "collapsed": false
   },
   "outputs": [],
   "source": [
    "%%R\n",
    "N.l2fc = filter(df.l2fc.Till, padj2 <=0.10, Till == 'N')\n",
    "P.l2fc = filter(df.l2fc.Till, padj2 <=0.10, Till == 'T')"
   ]
  },
  {
   "cell_type": "code",
   "execution_count": 9,
   "metadata": {
    "collapsed": false
   },
   "outputs": [],
   "source": [
    "%%R\n",
    "N = filter(mdf, OTU %in% N.l2fc$OTU)\n",
    "P = filter(mdf, OTU %in% P.l2fc$OTU)"
   ]
  },
  {
   "cell_type": "code",
   "execution_count": 10,
   "metadata": {
    "collapsed": false
   },
   "outputs": [
    {
     "data": {
      "text/plain": [
       "[1] 860\n",
       "[1] 1152\n"
      ]
     },
     "metadata": {},
     "output_type": "display_data"
    }
   ],
   "source": [
    "%%R\n",
    "print(length(unique(N$OTU)))\n",
    "print(length(unique(P$OTU)))\n"
   ]
  },
  {
   "cell_type": "code",
   "execution_count": 94,
   "metadata": {
    "collapsed": false
   },
   "outputs": [
    {
     "data": {
      "text/plain": [
       "     OTU         Sample Abundance    Full.sample Fraction PrimerF PrimerR\n",
       "1 OTU.12        N.NTH.4       717        N.NTH.4       NA    515f    806r\n",
       "2 OTU.12        O.NTH.3       639        O.NTH.3       NA    515f    806r\n",
       "3 OTU.12        N.NTH.2       634        N.NTH.2       NA    515f    806r\n",
       "4 OTU.12 Oct.NTH.3.2015       606 Oct.NTH.3.2015       NA    515f    806r\n",
       "5 OTU.12        N.NTH.1       556        N.NTH.1       NA    515f    806r\n",
       "6 OTU.12   June15.NTH.3       537   June15.NTH.3       NA    515f    806r\n",
       "  Barcode Rev.index Fwd.index Treatment Day Replicate Pool Land_Management\n",
       "1     177  gtctatga  ctactata      <NA>  NA         4    5             NTH\n",
       "2     158  cgagcgac  tcgacgag      <NA>  NA         3    5             NTH\n",
       "3     175  gtctgcta  gatcgtgt      <NA>  NA         2    5             NTH\n",
       "4      54  tagtctcc  cgtgagtg      <NA>  NA         3    8             NTH\n",
       "5     174  gtctgcta  tcgacgag      <NA>  NA         1    5             NTH\n",
       "6      89  tatagcga  atcgtacg      <NA>  NA         3    4             NTH\n",
       "  Gradient        Experiment    Month Year Number Till OM Soil_Moisture\n",
       "1     <NA> Chazy_Bulk_515806 November 2014     NA    N  H      15.00000\n",
       "2     <NA> Chazy_Bulk_515806  October 2014     NA    N  H      17.53333\n",
       "3     <NA> Chazy_Bulk_515806 November 2014     NA    N  H      13.70000\n",
       "4     <NA> Chazy_Bulk_515806  October 2015     NA    N  H      15.76667\n",
       "5     <NA> Chazy_Bulk_515806 November 2014     NA    N  H      17.20000\n",
       "6     <NA> Chazy_Bulk_515806     June 2015     NA    N  H      23.00000\n",
       "  Soil_Temp Density Sample_Date  X X.1    Rank1            Rank2       Rank3\n",
       "1  2.900000      NA    11/26/14 NA  NA Bacteria __Actinobacteria __MB-A2-108\n",
       "2        NA      NA    10/29/14 NA  NA Bacteria __Actinobacteria __MB-A2-108\n",
       "3  2.600000      NA    11/26/14 NA  NA Bacteria __Actinobacteria __MB-A2-108\n",
       "4  5.933333      NA    10/27/15 NA  NA Bacteria __Actinobacteria __MB-A2-108\n",
       "5  2.700000      NA    11/26/14 NA  NA Bacteria __Actinobacteria __MB-A2-108\n",
       "6 20.800000      NA     6/17/15 NA  NA Bacteria __Actinobacteria __MB-A2-108\n",
       "                   Rank4 Rank5 Rank6 Rank7 Rank8\n",
       "1 __uncultured_bacterium  <NA>  <NA>  <NA>  <NA>\n",
       "2 __uncultured_bacterium  <NA>  <NA>  <NA>  <NA>\n",
       "3 __uncultured_bacterium  <NA>  <NA>  <NA>  <NA>\n",
       "4 __uncultured_bacterium  <NA>  <NA>  <NA>  <NA>\n",
       "5 __uncultured_bacterium  <NA>  <NA>  <NA>  <NA>\n",
       "6 __uncultured_bacterium  <NA>  <NA>  <NA>  <NA>\n"
      ]
     },
     "metadata": {},
     "output_type": "display_data"
    }
   ],
   "source": [
    "%%R\n",
    "head(N)"
   ]
  },
  {
   "cell_type": "code",
   "execution_count": 11,
   "metadata": {
    "collapsed": false
   },
   "outputs": [
    {
     "data": {
      "text/plain": [
       "Source: local data frame [6 x 4]\n",
       "Groups: Replicate [1]\n",
       "\n",
       "  Replicate       OTU totalab  Comm\n",
       "      (dbl)     (chr)   (dbl) (chr)\n",
       "1         1  OTU.1006     183     N\n",
       "2         1 OTU.10080      32     N\n",
       "3         1  OTU.1015     260     N\n",
       "4         1  OTU.1019      11     N\n",
       "5         1   OTU.102    1232     N\n",
       "6         1 OTU.10228      70     N\n"
      ]
     },
     "metadata": {},
     "output_type": "display_data"
    }
   ],
   "source": [
    "%%R\n",
    "N$Treat = paste(N$Land_Management, N$Replicate, sep = '.')\n",
    "N$Treat[N$Treat == 'NTR.NA'] = 'NTR.3'\n",
    "N$Replicate[is.na(N$Replicate)] = 3\n",
    "\n",
    "N2 = N %>% group_by(Replicate, OTU) %>% summarise(totalab = sum(Abundance))\n",
    "N2$Comm = 'N'\n",
    "head(N2)"
   ]
  },
  {
   "cell_type": "code",
   "execution_count": 12,
   "metadata": {
    "collapsed": false
   },
   "outputs": [
    {
     "data": {
      "text/plain": [
       "Source: local data frame [6 x 4]\n",
       "Groups: Replicate [1]\n",
       "\n",
       "  Replicate       OTU totalab  Comm\n",
       "      (dbl)     (chr)   (dbl) (chr)\n",
       "1         1     OTU.1    5259     P\n",
       "2         1  OTU.1000     139     P\n",
       "3         1  OTU.1001      95     P\n",
       "4         1  OTU.1003      72     P\n",
       "5         1  OTU.1005      88     P\n",
       "6         1 OTU.10051      35     P\n"
      ]
     },
     "metadata": {},
     "output_type": "display_data"
    }
   ],
   "source": [
    "%%R\n",
    "P$Treat = paste(P$Land_Management, P$Replicate, sep = '.')\n",
    "P$Treat[P$Treat == 'NTR.NA'] = 'NTR.3'\n",
    "P$Replicate[is.na(P$Replicate)] = 3\n",
    "\n",
    "P2 = P %>% group_by(Replicate, OTU) %>% summarise(totalab = sum(Abundance))\n",
    "P2$Comm = 'P'\n",
    "head(P2)"
   ]
  },
  {
   "cell_type": "code",
   "execution_count": 13,
   "metadata": {
    "collapsed": false
   },
   "outputs": [],
   "source": [
    "%%R\n",
    "OTUs.N = N2 %>% select(OTU, Replicate, totalab) %>% spread(OTU, totalab)\n",
    "\n",
    "OTUs.P = P2 %>% select(OTU, Replicate, totalab) %>% spread(OTU, totalab)"
   ]
  },
  {
   "cell_type": "code",
   "execution_count": 158,
   "metadata": {
    "collapsed": false
   },
   "outputs": [
    {
     "data": {
      "text/plain": [
       "NULL\n"
      ]
     },
     "metadata": {},
     "output_type": "display_data"
    }
   ],
   "source": [
    "%%R\n",
    "#OTUs.N = N %>% select(OTU, Treat, Abundance) %>% spread(OTU, Abundance)\n",
    "\n",
    "#OTUs.P = P %>% select(OTU, Treat, Abundance) %>% spread(OTU, Abundance)"
   ]
  },
  {
   "cell_type": "code",
   "execution_count": 17,
   "metadata": {
    "collapsed": false
   },
   "outputs": [
    {
     "data": {
      "text/plain": [
       "[1] 861\n"
      ]
     },
     "metadata": {},
     "output_type": "display_data"
    }
   ],
   "source": [
    "%%R\n",
    "ncol(OTUs.N)"
   ]
  },
  {
   "cell_type": "code",
   "execution_count": 18,
   "metadata": {
    "collapsed": false
   },
   "outputs": [],
   "source": [
    "%%R\n",
    "#Setting OTUs as rownames\n",
    "rownames(OTUs.N) = OTUs.N$Replicate\n",
    "OTUs.N$Replicate = NULL\n",
    "\n",
    "rownames(OTUs.P) = OTUs.P$Replicate\n",
    "OTUs.P$Replicate = NULL"
   ]
  },
  {
   "cell_type": "code",
   "execution_count": 19,
   "metadata": {
    "collapsed": false
   },
   "outputs": [],
   "source": [
    "%%R\n",
    "#Normalizing OTU counts \n",
    "comm.N <- decostand(OTUs.N, method = \"total\")\n",
    "\n",
    "comm.P <- decostand(OTUs.P, method = \"total\")"
   ]
  },
  {
   "cell_type": "code",
   "execution_count": 20,
   "metadata": {
    "collapsed": true
   },
   "outputs": [],
   "source": [
    "%%R \n",
    "#Importing phylogenetic tree\n",
    "phy = read.tree('otusn_pick_sparse.tree')\n",
    "#plot(phy, cex = 0.5)"
   ]
  },
  {
   "cell_type": "code",
   "execution_count": 21,
   "metadata": {
    "collapsed": true
   },
   "outputs": [],
   "source": [
    "%%R\n",
    "tree = as.phylo(phy)"
   ]
  },
  {
   "cell_type": "code",
   "execution_count": null,
   "metadata": {
    "collapsed": false
   },
   "outputs": [],
   "source": [
    "%%R\n",
    "# For NRI, create 2 comm files - one for NT and one for PT...but use whole tree for both\n",
    "nri.N = ses.mpd(comm.N,cophenetic(tree),null.model=\"taxa.labels\",runs=1000)\n"
   ]
  },
  {
   "cell_type": "code",
   "execution_count": 22,
   "metadata": {
    "collapsed": false
   },
   "outputs": [],
   "source": [
    "%%R\n",
    "nri.N.global = ses.mpd(comm.N,cophenetic(tree),null.model=\"taxa.labels\",runs=1000)\n"
   ]
  },
  {
   "cell_type": "code",
   "execution_count": 30,
   "metadata": {
    "collapsed": false
   },
   "outputs": [
    {
     "data": {
      "text/plain": [
       "  ntaxa   mpd.obs mpd.rand.mean mpd.rand.sd mpd.obs.rank mpd.obs.z   mpd.obs.p\n",
       "1   860 0.6874753     0.7245987  0.00794693            1 -4.671421 0.000999001\n",
       "2   860 0.6874753     0.7245987  0.00794693            1 -4.671421 0.000999001\n",
       "3   860 0.6874753     0.7245987  0.00794693            1 -4.671421 0.000999001\n",
       "4   860 0.6874753     0.7245987  0.00794693            1 -4.671421 0.000999001\n",
       "  runs\n",
       "1 1000\n",
       "2 1000\n",
       "3 1000\n",
       "4 1000\n"
      ]
     },
     "metadata": {},
     "output_type": "display_data"
    }
   ],
   "source": [
    "%%R\n",
    "nri.N.global"
   ]
  },
  {
   "cell_type": "code",
   "execution_count": 31,
   "metadata": {
    "collapsed": true
   },
   "outputs": [],
   "source": [
    "%%R\n",
    "write.csv(nri.N.global, 'data/nri_N_global.csv')"
   ]
  },
  {
   "cell_type": "code",
   "execution_count": 24,
   "metadata": {
    "collapsed": true
   },
   "outputs": [],
   "source": [
    "%%R\n",
    "nri.P.global = ses.mpd(comm.P,cophenetic(tree),null.model=\"taxa.labels\",runs=1000)\n"
   ]
  },
  {
   "cell_type": "code",
   "execution_count": 32,
   "metadata": {
    "collapsed": true
   },
   "outputs": [],
   "source": [
    "%%R\n",
    "write.csv(nri.P.global, 'data/nri_P_global.csv')"
   ]
  },
  {
   "cell_type": "code",
   "execution_count": 25,
   "metadata": {
    "collapsed": false
   },
   "outputs": [
    {
     "data": {
      "text/plain": [
       "  ntaxa   mpd.obs mpd.rand.mean mpd.rand.sd mpd.obs.rank mpd.obs.z mpd.obs.p\n",
       "1  1152 0.7382072     0.7243441 0.006597188          985  2.101370  0.984016\n",
       "2  1152 0.7382072     0.7243441 0.006597188          985  2.101370  0.984016\n",
       "3  1151 0.7381512     0.7243348 0.006608059          984  2.090838  0.983017\n",
       "4  1152 0.7382072     0.7243441 0.006597188          985  2.101370  0.984016\n",
       "  runs\n",
       "1 1000\n",
       "2 1000\n",
       "3 1000\n",
       "4 1000\n"
      ]
     },
     "metadata": {},
     "output_type": "display_data"
    }
   ],
   "source": [
    "%%R\n",
    "nri.P.global"
   ]
  },
  {
   "cell_type": "code",
   "execution_count": null,
   "metadata": {
    "collapsed": false
   },
   "outputs": [],
   "source": [
    "%%R \n",
    "write.csv(nri.N, file = 'data/NRI_N_all_sparse.csv')\n",
    "nri.N = 0 "
   ]
  },
  {
   "cell_type": "code",
   "execution_count": 59,
   "metadata": {
    "collapsed": false
   },
   "outputs": [
    {
     "data": {
      "text/plain": [
       "             X           ntaxa          mpd.obs       mpd.rand.mean   \n",
       " April15.NTH.1:  1   Min.   :340.0   Min.   :0.7016   Min.   :0.7853  \n",
       " April15.NTH.2:  1   1st Qu.:445.5   1st Qu.:0.7246   1st Qu.:0.7858  \n",
       " April15.NTH.3:  1   Median :541.0   Median :0.7338   Median :0.7860  \n",
       " April15.NTH.4:  1   Mean   :538.1   Mean   :0.7325   Mean   :0.7860  \n",
       " April15.NTR.1:  1   3rd Qu.:635.0   3rd Qu.:0.7413   3rd Qu.:0.7861  \n",
       " April15.NTR.2:  1   Max.   :725.0   Max.   :0.7581   Max.   :0.7865  \n",
       " (Other)      :169                                                    \n",
       "  mpd.rand.sd        mpd.obs.rank     mpd.obs.z        mpd.obs.p       \n",
       " Min.   :0.008853   Min.   :1.000   Min.   :-7.059   Min.   :0.000999  \n",
       " 1st Qu.:0.009683   1st Qu.:1.000   1st Qu.:-5.311   1st Qu.:0.000999  \n",
       " Median :0.010783   Median :1.000   Median :-4.866   Median :0.000999  \n",
       " Mean   :0.010898   Mean   :1.006   Mean   :-4.873   Mean   :0.001005  \n",
       " 3rd Qu.:0.011947   3rd Qu.:1.000   3rd Qu.:-4.403   3rd Qu.:0.000999  \n",
       " Max.   :0.014054   Max.   :2.000   Max.   :-2.909   Max.   :0.001998  \n",
       "                                                                       \n",
       "      runs           padj         \n",
       " Min.   :1000   Min.   :0.001005  \n",
       " 1st Qu.:1000   1st Qu.:0.001005  \n",
       " Median :1000   Median :0.001005  \n",
       " Mean   :1000   Mean   :0.001010  \n",
       " 3rd Qu.:1000   3rd Qu.:0.001005  \n",
       " Max.   :1000   Max.   :0.001998  \n",
       "                                  \n"
      ]
     },
     "metadata": {},
     "output_type": "display_data"
    }
   ],
   "source": [
    "%%R\n",
    "NRI_N = read.csv('data/NRI_N_all_sparse.csv')\n",
    "NRI_N$padj = p.adjust(NRI_N$mpd.obs.p,\"BH\")\n",
    "head(NRI_N)\n",
    "summary(NRI_N)"
   ]
  },
  {
   "cell_type": "code",
   "execution_count": null,
   "metadata": {
    "collapsed": false
   },
   "outputs": [],
   "source": [
    "%%R\n",
    "head(NRI_N)"
   ]
  },
  {
   "cell_type": "code",
   "execution_count": 65,
   "metadata": {
    "collapsed": false
   },
   "outputs": [
    {
     "data": {
      "text/plain": [
       "              X ntaxa   mpd.obs mpd.rand.mean mpd.rand.sd mpd.obs.rank\n",
       "1 April15.NTH.1   608 0.7387883     0.7856502 0.009954818            1\n",
       "2 April15.NTH.2   646 0.7337927     0.7860245 0.009611048            1\n",
       "3 April15.NTH.3   613 0.7516063     0.7858399 0.009882329            1\n",
       "4 April15.NTH.4   611 0.7340909     0.7859373 0.010016218            1\n",
       "5 April15.NTR.1   637 0.7388075     0.7859978 0.009695662            1\n",
       "6 April15.NTR.2   564 0.7432687     0.7862286 0.010579741            1\n",
       "  mpd.obs.z   mpd.obs.p runs        padj treat\n",
       "1 -4.707462 0.000999001 1000 0.001004742     N\n",
       "2 -5.434556 0.000999001 1000 0.001004742     N\n",
       "3 -3.464119 0.000999001 1000 0.001004742     N\n",
       "4 -5.176245 0.000999001 1000 0.001004742     N\n",
       "5 -4.867155 0.000999001 1000 0.001004742     N\n",
       "6 -4.060588 0.000999001 1000 0.001004742     N\n"
      ]
     },
     "metadata": {},
     "output_type": "display_data"
    }
   ],
   "source": [
    "%%R\n",
    "NRI_N$treat = 'N'\n",
    "head(NRI_N)"
   ]
  },
  {
   "cell_type": "code",
   "execution_count": null,
   "metadata": {
    "collapsed": false
   },
   "outputs": [],
   "source": [
    "%%R \n",
    "#it is a bicaudal test, so use p values of 0.025 and 0.975 to know if the observed value is lower or higher \n",
    "#than expected by chance\n",
    "head(nri.N)\n"
   ]
  },
  {
   "cell_type": "code",
   "execution_count": null,
   "metadata": {
    "collapsed": false
   },
   "outputs": [],
   "source": [
    "%%R\n",
    "nri.P = ses.mpd(comm.P,cophenetic(tree),null.model=\"taxa.labels\", runs = 1000)\n"
   ]
  },
  {
   "cell_type": "code",
   "execution_count": null,
   "metadata": {
    "collapsed": false
   },
   "outputs": [],
   "source": [
    "%%R\n",
    "write.csv(nri.P, file = 'data/NRI_P_all_sparse.csv')\n",
    "nri.P = 0 "
   ]
  },
  {
   "cell_type": "code",
   "execution_count": 60,
   "metadata": {
    "collapsed": false
   },
   "outputs": [
    {
     "data": {
      "text/plain": [
       "             X           ntaxa          mpd.obs       mpd.rand.mean   \n",
       " April15.NTH.1:  1   Min.   :367.0   Min.   :0.7413   Min.   :0.7859  \n",
       " April15.NTH.2:  1   1st Qu.:547.0   1st Qu.:0.7624   1st Qu.:0.7863  \n",
       " April15.NTH.3:  1   Median :649.0   Median :0.7723   Median :0.7864  \n",
       " April15.NTH.4:  1   Mean   :677.1   Mean   :0.7705   Mean   :0.7865  \n",
       " April15.NTR.1:  1   3rd Qu.:818.5   3rd Qu.:0.7782   3rd Qu.:0.7866  \n",
       " April15.NTR.2:  1   Max.   :921.0   Max.   :0.7946   Max.   :0.7869  \n",
       " (Other)      :169                                                    \n",
       "  mpd.rand.sd        mpd.obs.rank     mpd.obs.z         mpd.obs.p       \n",
       " Min.   :0.007637   Min.   :  1.0   Min.   :-4.2009   Min.   :0.000999  \n",
       " 1st Qu.:0.008315   1st Qu.: 13.0   1st Qu.:-2.2871   1st Qu.:0.012987  \n",
       " Median :0.009550   Median : 56.0   Median :-1.6013   Median :0.055944  \n",
       " Mean   :0.009566   Mean   :129.5   Mean   :-1.5845   Mean   :0.129368  \n",
       " 3rd Qu.:0.010669   3rd Qu.:172.0   3rd Qu.:-0.9204   3rd Qu.:0.171828  \n",
       " Max.   :0.013369   Max.   :838.0   Max.   : 0.9839   Max.   :0.837163  \n",
       "                                                                        \n",
       "      runs           padj        \n",
       " Min.   :1000   Min.   :0.02498  \n",
       " 1st Qu.:1000   1st Qu.:0.04799  \n",
       " Median :1000   Median :0.11125  \n",
       " Mean   :1000   Mean   :0.17328  \n",
       " 3rd Qu.:1000   3rd Qu.:0.22862  \n",
       " Max.   :1000   Max.   :0.83716  \n",
       "                                 \n"
      ]
     },
     "metadata": {},
     "output_type": "display_data"
    }
   ],
   "source": [
    "%%R\n",
    "NRI_P = read.csv('data/NRI_P_all_sparse.csv')\n",
    "NRI_P$padj = p.adjust(NRI_P$mpd.obs.p,\"BH\")\n",
    "head(NRI_P)\n",
    "summary(NRI_P)"
   ]
  },
  {
   "cell_type": "code",
   "execution_count": 63,
   "metadata": {
    "collapsed": false
   },
   "outputs": [
    {
     "data": {
      "text/plain": [
       "              X ntaxa   mpd.obs mpd.rand.mean mpd.rand.sd mpd.obs.rank\n",
       "1 April15.NTH.1   606 0.7728830     0.7863105 0.009874466           82\n",
       "2 April15.NTH.2   634 0.7828013     0.7862055 0.009626860          357\n",
       "3 April15.NTH.3   566 0.7626927     0.7867511 0.010406363           10\n",
       "4 April15.NTH.4   578 0.7639059     0.7864638 0.010299362           18\n",
       "5 April15.NTR.1   556 0.7629339     0.7867575 0.010642463           15\n",
       "6 April15.NTR.2   454 0.7546161     0.7866112 0.011984323            5\n",
       "   mpd.obs.z   mpd.obs.p runs       padj treat\n",
       "1 -1.3598113 0.081918082 1000 0.14860140     P\n",
       "2 -0.3536107 0.356643357 1000 0.40266185     P\n",
       "3 -2.3118899 0.009990010 1000 0.04472272     P\n",
       "4 -2.1902235 0.017982018 1000 0.05721551     P\n",
       "5 -2.2385457 0.014985015 1000 0.04947882     P\n",
       "6 -2.6697427 0.004995005 1000 0.03362023     P\n"
      ]
     },
     "metadata": {},
     "output_type": "display_data"
    }
   ],
   "source": [
    "%%R\n",
    "NRI_P$treat = 'P'\n",
    "head(NRI_P)"
   ]
  },
  {
   "cell_type": "code",
   "execution_count": 66,
   "metadata": {
    "collapsed": false
   },
   "outputs": [
    {
     "data": {
      "text/plain": [
       "              X ntaxa   mpd.obs mpd.rand.mean mpd.rand.sd mpd.obs.rank\n",
       "1 April15.NTH.1   608 0.7387883     0.7856502 0.009954818            1\n",
       "2 April15.NTH.2   646 0.7337927     0.7860245 0.009611048            1\n",
       "3 April15.NTH.3   613 0.7516063     0.7858399 0.009882329            1\n",
       "4 April15.NTH.4   611 0.7340909     0.7859373 0.010016218            1\n",
       "5 April15.NTR.1   637 0.7388075     0.7859978 0.009695662            1\n",
       "6 April15.NTR.2   564 0.7432687     0.7862286 0.010579741            1\n",
       "  mpd.obs.z   mpd.obs.p runs        padj treat\n",
       "1 -4.707462 0.000999001 1000 0.001004742     N\n",
       "2 -5.434556 0.000999001 1000 0.001004742     N\n",
       "3 -3.464119 0.000999001 1000 0.001004742     N\n",
       "4 -5.176245 0.000999001 1000 0.001004742     N\n",
       "5 -4.867155 0.000999001 1000 0.001004742     N\n",
       "6 -4.060588 0.000999001 1000 0.001004742     N\n"
      ]
     },
     "metadata": {},
     "output_type": "display_data"
    }
   ],
   "source": [
    "%%R\n",
    "NRI_tot = rbind(NRI_N, NRI_P)\n",
    "head(NRI_tot)"
   ]
  },
  {
   "cell_type": "code",
   "execution_count": 67,
   "metadata": {
    "collapsed": false
   },
   "outputs": [
    {
     "data": {
      "image/png": "[encoded data removed]"
     },
     "metadata": {},
     "output_type": "display_data"
    }
   ],
   "source": [
    "%%R\n",
    "ggplot(data = NRI_tot, aes(x = treat, y = -mpd.obs.z)) +\n",
    "geom_boxplot() + theme(text = element_text(size = 18)) + xlab('Treatment') + ylab('NRI')"
   ]
  },
  {
   "cell_type": "code",
   "execution_count": 68,
   "metadata": {
    "collapsed": false
   },
   "outputs": [
    {
     "data": {
      "text/plain": [
       "\n",
       "\tWelch Two Sample t-test\n",
       "\n",
       "data:  NRI_tot$mpd.obs.z by NRI_tot$treat\n",
       "t = -36.159, df = 320.55, p-value < 2.2e-16\n",
       "alternative hypothesis: true difference in means is not equal to 0\n",
       "95 percent confidence interval:\n",
       " -3.467076 -3.109261\n",
       "sample estimates:\n",
       "mean in group N mean in group P \n",
       "      -4.872683       -1.584515 \n",
       "\n"
      ]
     },
     "metadata": {},
     "output_type": "display_data"
    }
   ],
   "source": [
    "%%R\n",
    "t.test(NRI_tot$mpd.obs.z ~ NRI_tot$treat)"
   ]
  },
  {
   "cell_type": "markdown",
   "metadata": {},
   "source": [
    "## Calculating NTI (SES, multiply z-values by -1 to get NTI)"
   ]
  },
  {
   "cell_type": "code",
   "execution_count": null,
   "metadata": {
    "collapsed": true
   },
   "outputs": [],
   "source": [
    "%%R\n",
    "nti.N = ses.mntd(comm.N,cophenetic(tree),null.model=\"taxa.labels\",runs=1000)\n"
   ]
  },
  {
   "cell_type": "code",
   "execution_count": 26,
   "metadata": {
    "collapsed": true
   },
   "outputs": [],
   "source": [
    "%%R\n",
    "nti.N.global = ses.mntd(comm.N,cophenetic(tree),null.model=\"taxa.labels\",runs=1000)\n"
   ]
  },
  {
   "cell_type": "code",
   "execution_count": 33,
   "metadata": {
    "collapsed": false
   },
   "outputs": [
    {
     "data": {
      "text/plain": [
       "  ntaxa   mntd.obs mntd.rand.mean mntd.rand.sd mntd.obs.rank mntd.obs.z\n",
       "1   860 0.08108841     0.08916648  0.002235486             1  -3.613566\n",
       "2   860 0.08108841     0.08916648  0.002235486             1  -3.613566\n",
       "3   860 0.08108841     0.08916648  0.002235486             1  -3.613566\n",
       "4   860 0.08108841     0.08916648  0.002235486             1  -3.613566\n",
       "   mntd.obs.p runs\n",
       "1 0.000999001 1000\n",
       "2 0.000999001 1000\n",
       "3 0.000999001 1000\n",
       "4 0.000999001 1000\n"
      ]
     },
     "metadata": {},
     "output_type": "display_data"
    }
   ],
   "source": [
    "%%R\n",
    "nti.N.global"
   ]
  },
  {
   "cell_type": "code",
   "execution_count": 34,
   "metadata": {
    "collapsed": true
   },
   "outputs": [],
   "source": [
    "%%R\n",
    "write.csv(nti.N.global, 'data/nti_N_global.csv')"
   ]
  },
  {
   "cell_type": "code",
   "execution_count": null,
   "metadata": {
    "collapsed": true
   },
   "outputs": [],
   "source": [
    "%%R\n",
    "write.csv(nti.N, file = 'data/NTI_N_all_sparse.csv')\n",
    "nti.N = 0 "
   ]
  },
  {
   "cell_type": "code",
   "execution_count": 62,
   "metadata": {
    "collapsed": false
   },
   "outputs": [
    {
     "data": {
      "text/plain": [
       "             X           ntaxa          mntd.obs       mntd.rand.mean  \n",
       " April15.NTH.1:  1   Min.   :340.0   Min.   :0.09207   Min.   :0.1135  \n",
       " April15.NTH.2:  1   1st Qu.:445.5   1st Qu.:0.09771   1st Qu.:0.1200  \n",
       " April15.NTH.3:  1   Median :541.0   Median :0.10076   Median :0.1284  \n",
       " April15.NTH.4:  1   Mean   :538.1   Mean   :0.10146   Mean   :0.1300  \n",
       " April15.NTR.1:  1   3rd Qu.:635.0   3rd Qu.:0.10511   3rd Qu.:0.1390  \n",
       " April15.NTR.2:  1   Max.   :725.0   Max.   :0.11574   Max.   :0.1556  \n",
       " (Other)      :169                                                     \n",
       "  mntd.rand.sd      mntd.obs.rank   mntd.obs.z       mntd.obs.p      \n",
       " Min.   :0.003521   Min.   :1     Min.   :-7.921   Min.   :0.000999  \n",
       " 1st Qu.:0.004010   1st Qu.:1     1st Qu.:-6.549   1st Qu.:0.000999  \n",
       " Median :0.004651   Median :1     Median :-6.019   Median :0.000999  \n",
       " Mean   :0.004749   Mean   :1     Mean   :-5.939   Mean   :0.000999  \n",
       " 3rd Qu.:0.005396   3rd Qu.:1     3rd Qu.:-5.356   3rd Qu.:0.000999  \n",
       " Max.   :0.006927   Max.   :1     Max.   :-3.978   Max.   :0.000999  \n",
       "                                                                     \n",
       "      runs           padj         \n",
       " Min.   :1000   Min.   :0.000999  \n",
       " 1st Qu.:1000   1st Qu.:0.000999  \n",
       " Median :1000   Median :0.000999  \n",
       " Mean   :1000   Mean   :0.000999  \n",
       " 3rd Qu.:1000   3rd Qu.:0.000999  \n",
       " Max.   :1000   Max.   :0.000999  \n",
       "                                  \n"
      ]
     },
     "metadata": {},
     "output_type": "display_data"
    }
   ],
   "source": [
    "%%R\n",
    "NTI_N = read.csv('data/NTI_N_all_sparse.csv')\n",
    "NTI_N$padj = p.adjust(NTI_N$mntd.obs.p,\"BH\")\n",
    "\n",
    "summary(NTI_N)"
   ]
  },
  {
   "cell_type": "code",
   "execution_count": null,
   "metadata": {
    "collapsed": true
   },
   "outputs": [],
   "source": [
    "%%R\n",
    "nti.P = ses.mntd(comm.P,cophenetic(tree),null.model=\"taxa.labels\",runs=1000)\n"
   ]
  },
  {
   "cell_type": "code",
   "execution_count": 28,
   "metadata": {
    "collapsed": true
   },
   "outputs": [],
   "source": [
    "%%R\n",
    "nti.P.global = ses.mntd(comm.P,cophenetic(tree),null.model=\"taxa.labels\",runs=1000)\n"
   ]
  },
  {
   "cell_type": "code",
   "execution_count": 35,
   "metadata": {
    "collapsed": false
   },
   "outputs": [
    {
     "data": {
      "text/plain": [
       "  ntaxa   mntd.obs mntd.rand.mean mntd.rand.sd mntd.obs.rank mntd.obs.z\n",
       "1  1152 0.07189280     0.07893255  0.001729941             1  -4.069359\n",
       "2  1152 0.07189280     0.07893255  0.001729941             1  -4.069359\n",
       "3  1151 0.07180751     0.07896423  0.001732572             1  -4.130694\n",
       "4  1152 0.07189280     0.07893255  0.001729941             1  -4.069359\n",
       "   mntd.obs.p runs\n",
       "1 0.000999001 1000\n",
       "2 0.000999001 1000\n",
       "3 0.000999001 1000\n",
       "4 0.000999001 1000\n"
      ]
     },
     "metadata": {},
     "output_type": "display_data"
    }
   ],
   "source": [
    "%%R\n",
    "nti.P.global"
   ]
  },
  {
   "cell_type": "code",
   "execution_count": 36,
   "metadata": {
    "collapsed": true
   },
   "outputs": [],
   "source": [
    "%%R\n",
    "write.csv(nti.P.global, 'data/nti_P_global.csv')"
   ]
  },
  {
   "cell_type": "code",
   "execution_count": null,
   "metadata": {
    "collapsed": true
   },
   "outputs": [],
   "source": [
    "%%R\n",
    "write.csv(nti.P, file = 'data/NTI_P_all_sparse.csv')\n",
    "nti.P = 0 "
   ]
  },
  {
   "cell_type": "code",
   "execution_count": 61,
   "metadata": {
    "collapsed": false
   },
   "outputs": [
    {
     "data": {
      "text/plain": [
       "             X           ntaxa          mntd.obs       mntd.rand.mean  \n",
       " April15.NTH.1:  1   Min.   :367.0   Min.   :0.08790   Min.   :0.1028  \n",
       " April15.NTH.2:  1   1st Qu.:547.0   1st Qu.:0.09356   1st Qu.:0.1081  \n",
       " April15.NTH.3:  1   Median :649.0   Median :0.09986   Median :0.1192  \n",
       " April15.NTH.4:  1   Mean   :677.1   Mean   :0.10000   Mean   :0.1187  \n",
       " April15.NTR.1:  1   3rd Qu.:818.5   3rd Qu.:0.10565   3rd Qu.:0.1281  \n",
       " April15.NTR.2:  1   Max.   :921.0   Max.   :0.11819   Max.   :0.1509  \n",
       " (Other)      :169                                                     \n",
       "  mntd.rand.sd      mntd.obs.rank     mntd.obs.z       mntd.obs.p      \n",
       " Min.   :0.002939   Min.   :1.000   Min.   :-6.688   Min.   :0.000999  \n",
       " 1st Qu.:0.003268   1st Qu.:1.000   1st Qu.:-5.189   1st Qu.:0.000999  \n",
       " Median :0.004005   Median :1.000   Median :-4.652   Median :0.000999  \n",
       " Mean   :0.003973   Mean   :1.057   Mean   :-4.668   Mean   :0.001056  \n",
       " 3rd Qu.:0.004619   3rd Qu.:1.000   3rd Qu.:-4.200   3rd Qu.:0.000999  \n",
       " Max.   :0.006305   Max.   :4.000   Max.   :-2.701   Max.   :0.003996  \n",
       "                                                                       \n",
       "      runs           padj         \n",
       " Min.   :1000   Min.   :0.001034  \n",
       " 1st Qu.:1000   1st Qu.:0.001034  \n",
       " Median :1000   Median :0.001034  \n",
       " Mean   :1000   Mean   :0.001091  \n",
       " 3rd Qu.:1000   3rd Qu.:0.001034  \n",
       " Max.   :1000   Max.   :0.003996  \n",
       "                                  \n"
      ]
     },
     "metadata": {},
     "output_type": "display_data"
    }
   ],
   "source": [
    "%%R\n",
    "NTI.P = read.csv('data/NTI_P_all_sparse.csv', header = TRUE)\n",
    "NTI.P$padj = p.adjust(NTI.P$mntd.obs.p,\"BH\")\n",
    "\n",
    "summary(NTI.P)"
   ]
  },
  {
   "cell_type": "code",
   "execution_count": 52,
   "metadata": {
    "collapsed": true
   },
   "outputs": [],
   "source": [
    "%%R\n",
    "NTI_N$treat = 'N'\n",
    "NTI.P$treat = 'P'"
   ]
  },
  {
   "cell_type": "code",
   "execution_count": 53,
   "metadata": {
    "collapsed": false
   },
   "outputs": [
    {
     "data": {
      "text/plain": [
       "              X ntaxa   mntd.obs mntd.rand.mean mntd.rand.sd mntd.obs.rank\n",
       "1 April15.NTH.1   608 0.10170426      0.1222934  0.004165252             1\n",
       "2 April15.NTH.2   646 0.09580596      0.1191626  0.003997956             1\n",
       "3 April15.NTH.3   613 0.10108891      0.1217918  0.004114764             1\n",
       "4 April15.NTH.4   611 0.09390046      0.1220472  0.004210228             1\n",
       "5 April15.NTR.1   637 0.09659680      0.1198703  0.004007760             1\n",
       "6 April15.NTR.2   564 0.09567592      0.1260279  0.004373500             1\n",
       "  mntd.obs.z  mntd.obs.p runs treat\n",
       "1  -4.943083 0.000999001 1000     N\n",
       "2  -5.842134 0.000999001 1000     N\n",
       "3  -5.031360 0.000999001 1000     N\n",
       "4  -6.685318 0.000999001 1000     N\n",
       "5  -5.807107 0.000999001 1000     N\n",
       "6  -6.939978 0.000999001 1000     N\n"
      ]
     },
     "metadata": {},
     "output_type": "display_data"
    }
   ],
   "source": [
    "%%R\n",
    "NTI_tot = rbind(NTI_N, NTI.P)\n",
    "head(NTI_tot)"
   ]
  },
  {
   "cell_type": "code",
   "execution_count": 54,
   "metadata": {
    "collapsed": false
   },
   "outputs": [
    {
     "data": {
      "image/png": "[encoded data removed]"
     },
     "metadata": {},
     "output_type": "display_data"
    }
   ],
   "source": [
    "%%R\n",
    "ggplot(data = NTI_tot, aes(x = treat, y = -mntd.obs.z)) +\n",
    "geom_boxplot() + theme(text = element_text(size = 18)) + xlab('Treatment') + ylab('NTI')"
   ]
  },
  {
   "cell_type": "code",
   "execution_count": 55,
   "metadata": {
    "collapsed": false
   },
   "outputs": [
    {
     "data": {
      "text/plain": [
       "\n",
       "\tWelch Two Sample t-test\n",
       "\n",
       "data:  NTI_tot$mntd.obs.z by NTI_tot$treat\n",
       "t = -14.651, df = 345.15, p-value < 2.2e-16\n",
       "alternative hypothesis: true difference in means is not equal to 0\n",
       "95 percent confidence interval:\n",
       " -1.440798 -1.099745\n",
       "sample estimates:\n",
       "mean in group N mean in group P \n",
       "      -5.938686       -4.668415 \n",
       "\n"
      ]
     },
     "metadata": {},
     "output_type": "display_data"
    }
   ],
   "source": [
    "%%R\n",
    "t.test(NTI_tot$mntd.obs.z ~ NTI_tot$treat)"
   ]
  }
 ],
 "metadata": {
  "kernelspec": {
   "display_name": "Python 2",
   "language": "python",
   "name": "python2"
  },
  "language_info": {
   "codemirror_mode": {
    "name": "ipython",
    "version": 2
   },
   "file_extension": ".py",
   "mimetype": "text/x-python",
   "name": "python",
   "nbconvert_exporter": "python",
   "pygments_lexer": "ipython2",
   "version": "2.7.11"
  }
 },
 "nbformat": 4,
 "nbformat_minor": 0
}
