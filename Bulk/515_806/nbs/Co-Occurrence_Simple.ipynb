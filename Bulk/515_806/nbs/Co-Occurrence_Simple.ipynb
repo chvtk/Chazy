{
 "cells": [
  {
   "cell_type": "code",
   "execution_count": null,
   "metadata": {
    "collapsed": true
   },
   "outputs": [],
   "source": [
    "%matplotlib inline\n",
    "%load_ext rpy2.ipython"
   ]
  },
  {
   "cell_type": "code",
   "execution_count": null,
   "metadata": {
    "collapsed": false
   },
   "outputs": [],
   "source": [
    "%%R\n",
    "library(biom)\n",
    "library(devtools)\n",
    "library(phyloseq)\n",
    "library(dplyr)\n",
    "library(tidyr)\n",
    "library(SpiecEasi)"
   ]
  },
  {
   "cell_type": "code",
   "execution_count": null,
   "metadata": {
    "collapsed": true
   },
   "outputs": [],
   "source": [
    "%%R\n",
    "workDir = '/home/chantal/Chazy/Bulk/515_806/data/'\n",
    "figDir = '/home/chantal/Chazy/Bulk/515_806/figs/'\n",
    "\n",
    "physeqDir = '/home/chantal/Chazy/data/phyloseq/'\n",
    "physeqBulk = 'bulk-core'\n",
    "\n",
    "\n",
    "nprocs = 20"
   ]
  },
  {
   "cell_type": "code",
   "execution_count": null,
   "metadata": {
    "collapsed": false
   },
   "outputs": [],
   "source": [
    "%%R\n",
    "\n",
    "F = file.path(physeqDir, physeqBulk)\n",
    "\n",
    "physeq.Bulk = readRDS(F)\n",
    "physeq.Bulk.m = physeq.Bulk %>% sample_data\n",
    "physeq.Bulk = prune_samples((physeq.Bulk.m$Land_Management != \"PAS\"),\n",
    "                           physeq.Bulk)\n",
    "physeq.Bulk = physeq.Bulk %>% filter_taxa(function(x) sum(x) > 0, TRUE) \n",
    "physeq.Bulk.Sparsity = filter_taxa(physeq.Bulk, function(x) sum(x > 0) > (0.25 * length(x)), TRUE)\n",
    "\n",
    "physeq.Bulk.Sparsity"
   ]
  },
  {
   "cell_type": "code",
   "execution_count": null,
   "metadata": {
    "collapsed": false
   },
   "outputs": [],
   "source": [
    "%%R\n",
    "physeq.Bulk.r = rarefy_even_depth(physeq.Bulk.Sparsity, sample.size = 9500, rngseed = 23435, replace = TRUE,\n",
    "                          trimOTUs = TRUE, verbose = TRUE)"
   ]
  },
  {
   "cell_type": "code",
   "execution_count": null,
   "metadata": {
    "collapsed": false
   },
   "outputs": [],
   "source": [
    "%%R\n",
    "physeq.Bulk.r"
   ]
  },
  {
   "cell_type": "code",
   "execution_count": null,
   "metadata": {
    "collapsed": false
   },
   "outputs": [],
   "source": [
    "%%R\n",
    "physeq.Bulk.m = physeq.Bulk.r %>% sample_data"
   ]
  },
  {
   "cell_type": "code",
   "execution_count": null,
   "metadata": {
    "collapsed": false
   },
   "outputs": [],
   "source": [
    "%%R\n",
    "\n",
    "m = spiec.easi(physeq.Bulk.r, method='mb', lambda.min.ratio=1e-2, \n",
    "                            nlambda=15, icov.select.params=list(rep.num=50))\n",
    "\n",
    "\n"
   ]
  },
  {
   "cell_type": "code",
   "execution_count": null,
   "metadata": {
    "collapsed": false
   },
   "outputs": [],
   "source": [
    "%%R\n",
    "str(m)"
   ]
  },
  {
   "cell_type": "code",
   "execution_count": null,
   "metadata": {
    "collapsed": false
   },
   "outputs": [],
   "source": [
    "%%R\n",
    "save(m, file = 'data/co-occurrence')"
   ]
  },
  {
   "cell_type": "code",
   "execution_count": null,
   "metadata": {
    "collapsed": false
   },
   "outputs": [],
   "source": [
    "%%R\n",
    "#se.m = spiec.easi(mdf_long2, method='glasso', lambda.min.ratio=1e-2,\n",
    " #                           nlambda=20, icov.select.params=list(rep.num=50))"
   ]
  },
  {
   "cell_type": "code",
   "execution_count": null,
   "metadata": {
    "collapsed": false
   },
   "outputs": [],
   "source": [
    "%%R \n",
    "#se.gl.amgut <- spiec.easi(amgut1.filt, method='glasso', lambda.min.ratio=1e-2,\n",
    "#                            nlambda=20, icov.select.params=list(rep.num=50))\n",
    "#sparcc.amgut <- sparcc(amgut1.filt)\n",
    "## Define arbitrary threshold for SparCC correlation matrix for the graph\n",
    "#sparcc.graph <- abs(sparcc.amgut$Cor) >= 0.3\n",
    "## Create igraph objects\n",
    "ig.mb <- graph.adjacency(m$refit, mode='undirected')\n",
    "#ig.gl <- graph.adjacency(se.gl.amgut$refit, mode='undirected')\n",
    "#ig.sparcc <- graph.adjacency(sparcc.graph, mode='undirected', diag=FALSE)\n",
    "\n",
    "## set size of vertex proportional to clr-mean\n",
    "vsize <- 2\n",
    "am.coord <- layout.fruchterman.reingold(ig.mb)\n",
    "\n",
    "par(mfrow=c(1,3))\n",
    "plot(ig.mb, layout=am.coord, vertex.size=vsize, vertex.label=NA, main=\"MB\")\n",
    "#plot(ig.gl, layout=am.coord, vertex.size=vsize, vertex.label=NA, main=\"glasso\")\n",
    "#plot(ig.sparcc, layout=am.coord, vertex.size=vsize, vertex.label=NA, main=\"sparcc\")"
   ]
  },
  {
   "cell_type": "code",
   "execution_count": null,
   "metadata": {
    "collapsed": false
   },
   "outputs": [],
   "source": [
    "%%R\n",
    "str(m)"
   ]
  },
  {
   "cell_type": "code",
   "execution_count": null,
   "metadata": {
    "collapsed": false
   },
   "outputs": [],
   "source": [
    "%%R -w 800 -h 800\n",
    "plot(ig.mb, layout=am.coord, vertex.size=vsize, vertex.label=NA, main=\"MB\")\n",
    "V(ig.mb)$color <- \"white\"\n"
   ]
  }
 ],
 "metadata": {
  "kernelspec": {
   "display_name": "Python 2",
   "language": "python",
   "name": "python2"
  },
  "language_info": {
   "codemirror_mode": {
    "name": "ipython",
    "version": 2
   },
   "file_extension": ".py",
   "mimetype": "text/x-python",
   "name": "python",
   "nbconvert_exporter": "python",
   "pygments_lexer": "ipython2",
   "version": "2.7.11"
  }
 },
 "nbformat": 4,
 "nbformat_minor": 0
}
