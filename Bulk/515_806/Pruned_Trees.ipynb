{
 "cells": [
  {
   "cell_type": "code",
   "execution_count": 2,
   "metadata": {
    "collapsed": false
   },
   "outputs": [],
   "source": [
    "%load_ext rpy2.ipython"
   ]
  },
  {
   "cell_type": "code",
   "execution_count": 3,
   "metadata": {
    "collapsed": false
   },
   "outputs": [],
   "source": [
    "%%R\n",
    "workDir = '/home/chantal/Chazy/Bulk/515_806/data/'\n",
    "figDir = '/home/chantal/Chazy/Bulk/515_806/data/figs/'\n",
    "\n",
    "physeqDir = '/home/chantal/Chazy/data/phyloseq/'\n",
    "physeqBulk = 'bulk-core-rare'\n",
    "\n",
    "physeqAll = 'Full'\n",
    "#physeqBulk = 'bulk-core' \n",
    "\n",
    "l2fcResFile.TillMonth = file.path(workDir, 'l2fc_sparse-maxRejH_BULK_0.25_.txt')\n",
    "l2fcResFile.Till = file.path(workDir, 'l2fc_Till.txt')\n",
    "l2fcResFile.OM = file.path(workDir, 'l2fc_sparse-maxRejH_bulk_OM.txt')\n",
    "\n",
    "\n",
    "\n",
    "\n",
    "## NOTEBOOK RUN WITH 0.25 SPARSITY FILTERED DATASET...\n",
    "\n",
    "nprocs = 20"
   ]
  },
  {
   "cell_type": "code",
   "execution_count": 32,
   "metadata": {
    "collapsed": false
   },
   "outputs": [],
   "source": [
    "%%R\n",
    "library(phyloseq)\n",
    "library(ape)\n",
    "library(dplyr)\n",
    "library(gdata)\n",
    "library(parallel)"
   ]
  },
  {
   "cell_type": "code",
   "execution_count": 5,
   "metadata": {
    "collapsed": false
   },
   "outputs": [
    {
     "data": {
      "text/plain": [
       "phyloseq-class experiment-level object\n",
       "otu_table()   OTU Table:         [ 19331 taxa and 175 samples ]\n",
       "sample_data() Sample Data:       [ 175 samples by 25 sample variables ]\n",
       "tax_table()   Taxonomy Table:    [ 19331 taxa by 8 taxonomic ranks ]\n",
       "phy_tree()    Phylogenetic Tree: [ 19331 tips and 19330 internal nodes ]\n"
      ]
     },
     "metadata": {},
     "output_type": "display_data"
    }
   ],
   "source": [
    "%%R \n",
    "\n",
    "F = file.path(physeqDir, physeqBulk)\n",
    "physeq.Bulk = readRDS(F)\n",
    "physeq.Bulk.m = physeq.Bulk %>% sample_data\n",
    "physeq.Bulk = prune_samples((physeq.Bulk.m$Land_Management != \"PAS\"),\n",
    "                           physeq.Bulk)\n",
    "physeq.Bulk.m = physeq.Bulk %>% sample_data\n",
    "\n",
    "\n",
    "physeq.Bulk"
   ]
  },
  {
   "cell_type": "code",
   "execution_count": 6,
   "metadata": {
    "collapsed": false
   },
   "outputs": [
    {
     "data": {
      "text/plain": [
       "phyloseq-class experiment-level object\n",
       "otu_table()   OTU Table:         [ 25178 taxa and 1348 samples ]\n",
       "sample_data() Sample Data:       [ 1348 samples by 25 sample variables ]\n",
       "tax_table()   Taxonomy Table:    [ 25178 taxa by 8 taxonomic ranks ]\n",
       "phy_tree()    Phylogenetic Tree: [ 25178 tips and 25177 internal nodes ]\n"
      ]
     },
     "metadata": {},
     "output_type": "display_data"
    }
   ],
   "source": [
    "%%R \n",
    "\n",
    "F = file.path(physeqDir, physeqAll)\n",
    "physeq.All = readRDS(F)\n",
    "physeq.All.m = physeq.All %>% sample_data\n",
    "\n",
    "physeq.All.m = physeq.All %>% sample_data\n",
    "\n",
    "\n",
    "physeq.All"
   ]
  },
  {
   "cell_type": "code",
   "execution_count": 6,
   "metadata": {
    "collapsed": false
   },
   "outputs": [],
   "source": [
    "%%R\n",
    "# Full Bulk Tree\n",
    "Bulk_tree = phy_tree(physeq.Bulk)"
   ]
  },
  {
   "cell_type": "code",
   "execution_count": 7,
   "metadata": {
    "collapsed": false
   },
   "outputs": [],
   "source": [
    "%%R\n",
    "write.tree(Bulk_tree, file = \"data/Bulk_tree.nwk\")"
   ]
  },
  {
   "cell_type": "code",
   "execution_count": 7,
   "metadata": {
    "collapsed": false
   },
   "outputs": [
    {
     "data": {
      "text/plain": [
       "phyloseq-class experiment-level object\n",
       "otu_table()   OTU Table:         [ 3964 taxa and 175 samples ]\n",
       "sample_data() Sample Data:       [ 175 samples by 25 sample variables ]\n",
       "tax_table()   Taxonomy Table:    [ 3964 taxa by 8 taxonomic ranks ]\n",
       "phy_tree()    Phylogenetic Tree: [ 3964 tips and 3963 internal nodes ]\n"
      ]
     },
     "metadata": {},
     "output_type": "display_data"
    }
   ],
   "source": [
    "%%R\n",
    "#Subset to OTUs in 25% sparsity filtered dataset used for tillage and OM deseq2 w/o time\n",
    "\n",
    "physeq.sparse = filter_taxa(physeq.Bulk, function(x) sum(x > 0) > (0.25 * length(x)), TRUE)\n",
    "\n",
    "\n",
    "physeq.sparse"
   ]
  },
  {
   "cell_type": "code",
   "execution_count": 8,
   "metadata": {
    "collapsed": false
   },
   "outputs": [],
   "source": [
    "%%R\n",
    "OTUs.sparse = otu_table(physeq.sparse)\n",
    "OTUs.sparse.names = as.data.frame(rownames(OTUs.sparse))\n",
    "colnames(OTUs.sparse.names) = 'OTU'"
   ]
  },
  {
   "cell_type": "code",
   "execution_count": 9,
   "metadata": {
    "collapsed": false
   },
   "outputs": [
    {
     "data": {
      "text/plain": [
       "[1] 3964\n"
      ]
     },
     "metadata": {},
     "output_type": "display_data"
    }
   ],
   "source": [
    "%%R\n",
    "head(OTUs.sparse.names)\n",
    "length(OTUs.sparse.names$OTU)"
   ]
  },
  {
   "cell_type": "code",
   "execution_count": 10,
   "metadata": {
    "collapsed": true
   },
   "outputs": [],
   "source": [
    "%%R\n",
    "OTUs = otu_table(physeq.All)\n",
    "OTUs.names = as.data.frame(rownames(OTUs))\n",
    "colnames(OTUs.names) = 'OTU'"
   ]
  },
  {
   "cell_type": "code",
   "execution_count": 11,
   "metadata": {
    "collapsed": false
   },
   "outputs": [
    {
     "data": {
      "text/plain": [
       "        OTU\n",
       "1  OTU.1739\n",
       "2  OTU.1813\n",
       "3   OTU.778\n",
       "4  OTU.2180\n",
       "5 OTU.12365\n",
       "6  OTU.2343\n"
      ]
     },
     "metadata": {},
     "output_type": "display_data"
    }
   ],
   "source": [
    "%%R\n",
    "head(OTUs.sparse.names)"
   ]
  },
  {
   "cell_type": "code",
   "execution_count": 12,
   "metadata": {
    "collapsed": false
   },
   "outputs": [
    {
     "data": {
      "text/plain": [
       "        OTU\n",
       "1  OTU.4940\n",
       "2 OTU.28525\n",
       "3  OTU.4163\n",
       "4  OTU.5493\n",
       "5 OTU.14642\n",
       "6  OTU.1739\n"
      ]
     },
     "metadata": {},
     "output_type": "display_data"
    }
   ],
   "source": [
    "%%R\n",
    "head(OTUs.names)"
   ]
  },
  {
   "cell_type": "code",
   "execution_count": 13,
   "metadata": {
    "collapsed": true
   },
   "outputs": [],
   "source": [
    "%%R\n",
    "OTUs.to.remove = filter(OTUs.names, !(OTU %in% OTUs.sparse.names$OTU))"
   ]
  },
  {
   "cell_type": "code",
   "execution_count": 14,
   "metadata": {
    "collapsed": false
   },
   "outputs": [
    {
     "data": {
      "text/plain": [
       "[1] 21214\n"
      ]
     },
     "metadata": {},
     "output_type": "display_data"
    }
   ],
   "source": [
    "%%R\n",
    "head(OTUs.to.remove)\n",
    "length(OTUs.to.remove$OTU)"
   ]
  },
  {
   "cell_type": "code",
   "execution_count": 15,
   "metadata": {
    "collapsed": true
   },
   "outputs": [],
   "source": [
    "%%R\n",
    "OTUs.remove = as.vector(OTUs.to.remove$OTU)"
   ]
  },
  {
   "cell_type": "code",
   "execution_count": 16,
   "metadata": {
    "collapsed": false
   },
   "outputs": [],
   "source": [
    "%%R\n",
    "full_tree = read.tree('/home/chantal/Chazy/otusn_pick.tree')"
   ]
  },
  {
   "cell_type": "code",
   "execution_count": 17,
   "metadata": {
    "collapsed": false
   },
   "outputs": [],
   "source": [
    "%%R\n",
    "full_tree_sparse = drop.tip(full_tree, OTUs.remove, trim.internal = TRUE, subtree = FALSE,\n",
    "         root.edge = 0, rooted = is.rooted(full_tree))"
   ]
  },
  {
   "cell_type": "code",
   "execution_count": 18,
   "metadata": {
    "collapsed": false
   },
   "outputs": [
    {
     "data": {
      "text/plain": [
       "List of 5\n",
       " $ edge       : int [1:7928, 1:2] 3966 3966 3967 3968 3969 3970 3970 3969 3971 3972 ...\n",
       " $ Nnode      : int 3964\n",
       " $ tip.label  : chr [1:3965] \"X90478\" \"OTU.1739\" \"OTU.1813\" \"OTU.778\" ...\n",
       " $ edge.length: num [1:7928] 0.4798 0.1263 0.0106 0.0229 0.1192 ...\n",
       " $ node.label : chr [1:3964] \"\" \"0.599.8\" \"0.736.11\" \"0.883\" ...\n",
       " - attr(*, \"class\")= chr \"phylo\"\n",
       " - attr(*, \"order\")= chr \"cladewise\"\n"
      ]
     },
     "metadata": {},
     "output_type": "display_data"
    }
   ],
   "source": [
    "%%R\n",
    "str(full_tree_sparse)"
   ]
  },
  {
   "cell_type": "code",
   "execution_count": 19,
   "metadata": {
    "collapsed": true
   },
   "outputs": [],
   "source": [
    "%%R\n",
    "write.tree(full_tree_sparse, file = \"data/Bulk_tree_sparse.nwk\")"
   ]
  },
  {
   "cell_type": "code",
   "execution_count": 23,
   "metadata": {
    "collapsed": false
   },
   "outputs": [
    {
     "data": {
      "text/plain": [
       "  Month Year sparsity_threshold      OTU log2FoldChange     lfcSE      padj\n",
       "1  July 2014               0.35  OTU.778    -0.61597423 0.5124907 0.5899482\n",
       "2  July 2014               0.35 OTU.2180     0.08880429 0.7413839 0.9671297\n",
       "3  July 2014               0.35 OTU.1158     1.00383561 0.8009562 0.5635003\n",
       "     Rank1          Rank2        Rank3                Rank4 Rank5 Rank6 Rank7\n",
       "1 Bacteria Planctomycetes Pla4_lineage uncultured_bacterium  <NA>  <NA>  <NA>\n",
       "2 Bacteria Planctomycetes Pla4_lineage uncultured_bacterium  <NA>  <NA>  <NA>\n",
       "3 Bacteria Planctomycetes Pla4_lineage uncultured_bacterium  <NA>  <NA>  <NA>\n",
       "  Rank8 padj2 Till\n",
       "1  <NA>     1   NT\n",
       "2  <NA>     1   PT\n",
       "3  <NA>     1   PT\n",
       "  sparsity_threshold      OTU log2FoldChange     lfcSE         padj    Rank1\n",
       "1               0.25 OTU.1739      0.4012126 0.4523957 0.4684148169 Bacteria\n",
       "2               0.25 OTU.1813     -1.4802581 0.4326507 0.0018267946 Bacteria\n",
       "3               0.25  OTU.778     -0.5498601 0.1379296 0.0002483877 Bacteria\n",
       "             Rank2          Rank3                  Rank4 Rank5 Rank6 Rank7\n",
       "1 __Planctomycetes        __OM190 __uncultured_bacterium  <NA>  <NA>  <NA>\n",
       "2 __Planctomycetes        __OM190 __uncultured_bacterium  <NA>  <NA>  <NA>\n",
       "3 __Planctomycetes __Pla4_lineage __uncultured_bacterium  <NA>  <NA>  <NA>\n",
       "  Rank8        padj2 Till\n",
       "1  <NA> 0.6010558483    T\n",
       "2  <NA> 0.0056520888    N\n",
       "3  <NA> 0.0009556926    N\n",
       "  sparsity_threshold      OTU log2FoldChange     lfcSE       padj    Rank1\n",
       "1               0.25 OTU.1739    -0.99492092 0.3368987 0.03078444 Bacteria\n",
       "2               0.25 OTU.1813    -0.34779469 0.3307678 0.55980382 Bacteria\n",
       "3               0.25  OTU.778     0.08123953 0.1389644 0.77642167 Bacteria\n",
       "             Rank2          Rank3                  Rank4 Rank5 Rank6 Rank7\n",
       "1 __Planctomycetes        __OM190 __uncultured_bacterium  <NA>  <NA>  <NA>\n",
       "2 __Planctomycetes        __OM190 __uncultured_bacterium  <NA>  <NA>  <NA>\n",
       "3 __Planctomycetes __Pla4_lineage __uncultured_bacterium  <NA>  <NA>  <NA>\n",
       "  Rank8     padj2        OM\n",
       "1  <NA> 0.2826947 Harvested\n",
       "2  <NA> 0.9999966 Harvested\n",
       "3  <NA> 0.9999966  Returned\n"
      ]
     },
     "metadata": {},
     "output_type": "display_data"
    }
   ],
   "source": [
    "%%R\n",
    "# log2 fold change analysis results file\n",
    "df.l2fc.TillMonth = read.delim(l2fcResFile.TillMonth, sep='\\t')\n",
    "df.l2fc.Till = read.delim(l2fcResFile.Till, sep='\\t')\n",
    "df.l2fc.OM = read.delim(l2fcResFile.OM, sep='\\t')\n",
    "\n",
    "\n",
    "print(df.l2fc.TillMonth %>% head(n=3))\n",
    "print(df.l2fc.Till %>% head(n=3))\n",
    "print(df.l2fc.OM %>% head(n=3))"
   ]
  },
  {
   "cell_type": "code",
   "execution_count": 63,
   "metadata": {
    "collapsed": false
   },
   "outputs": [
    {
     "data": {
      "text/plain": [
       "        OTU        padj2 Till       C\n",
       "1  OTU.1739 0.6010558483    T #D3D3D3\n",
       "2  OTU.1813 0.0056520888    N #0000ff\n",
       "3   OTU.778 0.0009556926    N #0000ff\n",
       "4  OTU.2180 0.5116160300    N #D3D3D3\n",
       "5 OTU.12365 0.7656246065    N #D3D3D3\n",
       "6  OTU.2343 0.0002535853    T #ff0000\n"
      ]
     },
     "metadata": {},
     "output_type": "display_data"
    }
   ],
   "source": [
    "%%R\n",
    "df.Till = df.l2fc.Till %>% select(OTU, padj2, Till)\n",
    "df.Till$C[df.Till$Till == 'T' & df.Till$padj2 <=0.10] = '#ff0000'\n",
    "df.Till$C[df.Till$Till == 'N' & df.Till$padj2 <=0.10] = '#0000ff'\n",
    "df.Till$C[df.Till$padj2 > 0.10] = '#D3D3D3'\n",
    "\n",
    "\n",
    "\n",
    "#df.Till$R[df.Till$padj >0.10] = -1\n",
    "\n",
    "head(df.Till)\n"
   ]
  },
  {
   "cell_type": "code",
   "execution_count": 64,
   "metadata": {
    "collapsed": false
   },
   "outputs": [
    {
     "data": {
      "text/plain": [
       "        OTU        padj2 Till       C             label\n",
       "1  OTU.1739 0.6010558483    T #D3D3D3  OTU.1739,#D3D3D3\n",
       "2  OTU.1813 0.0056520888    N #0000ff  OTU.1813,#0000ff\n",
       "3   OTU.778 0.0009556926    N #0000ff   OTU.778,#0000ff\n",
       "4  OTU.2180 0.5116160300    N #D3D3D3  OTU.2180,#D3D3D3\n",
       "5 OTU.12365 0.7656246065    N #D3D3D3 OTU.12365,#D3D3D3\n",
       "6  OTU.2343 0.0002535853    T #ff0000  OTU.2343,#ff0000\n"
      ]
     },
     "metadata": {},
     "output_type": "display_data"
    }
   ],
   "source": [
    "%%R\n",
    "df.Till$label = paste(df.Till$OTU, df.Till$C, sep = ',')\n",
    "head(df.Till)"
   ]
  },
  {
   "cell_type": "code",
   "execution_count": 65,
   "metadata": {
    "collapsed": false
   },
   "outputs": [],
   "source": [
    "%%R\n",
    "df.Till.select = select(df.Till, label) \n",
    "write.csv(df.Till.select, 'incorp_binary_Bulk_Till.csv')"
   ]
  },
  {
   "cell_type": "code",
   "execution_count": 135,
   "metadata": {
    "collapsed": false
   },
   "outputs": [
    {
     "data": {
      "text/plain": [
       "  sparsity_threshold       OTU log2FoldChange     lfcSE       padj    Rank1\n",
       "1               0.25  OTU.1739    -0.99492092 0.3368987 0.03078444 Bacteria\n",
       "2               0.25  OTU.1813    -0.34779469 0.3307678 0.55980382 Bacteria\n",
       "3               0.25   OTU.778     0.08123953 0.1389644 0.77642167 Bacteria\n",
       "4               0.25  OTU.2180     0.01465938 0.2546136 0.98421287 Bacteria\n",
       "5               0.25 OTU.12365    -0.52013058 0.2320783 0.12348165 Bacteria\n",
       "6               0.25  OTU.2343    -0.66780501 0.2743011 0.08786400 Bacteria\n",
       "             Rank2          Rank3                  Rank4 Rank5 Rank6 Rank7\n",
       "1 __Planctomycetes        __OM190 __uncultured_bacterium  <NA>  <NA>  <NA>\n",
       "2 __Planctomycetes        __OM190 __uncultured_bacterium  <NA>  <NA>  <NA>\n",
       "3 __Planctomycetes __Pla4_lineage __uncultured_bacterium  <NA>  <NA>  <NA>\n",
       "4 __Planctomycetes __Pla4_lineage __uncultured_bacterium  <NA>  <NA>  <NA>\n",
       "5 __Planctomycetes __Pla4_lineage __uncultured_bacterium  <NA>  <NA>  <NA>\n",
       "6 __Planctomycetes __Pla4_lineage __uncultured_bacterium  <NA>  <NA>  <NA>\n",
       "  Rank8     padj2        OM\n",
       "1  <NA> 0.2826947 Harvested\n",
       "2  <NA> 0.9999966 Harvested\n",
       "3  <NA> 0.9999966  Returned\n",
       "4  <NA> 0.9999966  Returned\n",
       "5  <NA> 0.6026827 Harvested\n",
       "6  <NA> 0.5075497 Harvested\n"
      ]
     },
     "metadata": {},
     "output_type": "display_data"
    }
   ],
   "source": [
    "%%R\n",
    "head(df.l2fc.OM)"
   ]
  },
  {
   "cell_type": "code",
   "execution_count": 55,
   "metadata": {
    "collapsed": true
   },
   "outputs": [],
   "source": [
    "%%R\n",
    "df.OM = df.l2fc.OM %>% select(OTU, padj2, OM) \n",
    "df.OM$C[df.OM$OM == 'Returned' & df.OM$padj2 <=0.10] = '#76A94C'\n",
    "df.OM$C[df.OM$OM == 'Harvested' & df.OM$padj2 <=0.10] = '#FF00FF'\n",
    "df.OM$C[df.OM$padj2 > 0.10] = '#000000'"
   ]
  },
  {
   "cell_type": "code",
   "execution_count": 57,
   "metadata": {
    "collapsed": false
   },
   "outputs": [
    {
     "data": {
      "text/plain": [
       "        OTU     padj2        OM       C             label\n",
       "1  OTU.1739 0.2826947 Harvested #000000  OTU.1739,#000000\n",
       "2  OTU.1813 0.9999966 Harvested #000000  OTU.1813,#000000\n",
       "3   OTU.778 0.9999966  Returned #000000   OTU.778,#000000\n",
       "4  OTU.2180 0.9999966  Returned #000000  OTU.2180,#000000\n",
       "5 OTU.12365 0.6026827 Harvested #000000 OTU.12365,#000000\n",
       "6  OTU.2343 0.5075497 Harvested #000000  OTU.2343,#000000\n"
      ]
     },
     "metadata": {},
     "output_type": "display_data"
    }
   ],
   "source": [
    "%%R\n",
    "df.OM$label = paste(df.OM$OTU, df.OM$C, sep = ',')\n",
    "head(df.OM)"
   ]
  },
  {
   "cell_type": "code",
   "execution_count": 58,
   "metadata": {
    "collapsed": true
   },
   "outputs": [],
   "source": [
    "%%R\n",
    "df.OM.select = select(df.OM, label) \n",
    "write.csv(df.OM.select, 'incorp_binary_Bulk_OM.csv')"
   ]
  },
  {
   "cell_type": "code",
   "execution_count": 48,
   "metadata": {
    "collapsed": false
   },
   "outputs": [
    {
     "data": {
      "text/plain": [
       "phyloseq-class experiment-level object\n",
       "otu_table()   OTU Table:         [ 285 taxa and 175 samples ]\n",
       "sample_data() Sample Data:       [ 175 samples by 25 sample variables ]\n",
       "tax_table()   Taxonomy Table:    [ 285 taxa by 9 taxonomic ranks ]\n",
       "phy_tree()    Phylogenetic Tree: [ 285 tips and 284 internal nodes ]\n"
      ]
     },
     "metadata": {},
     "output_type": "display_data"
    }
   ],
   "source": [
    "%%R\n",
    "#Response by tillage and by month\n",
    "#Creating physeq object with responders only -\n",
    "#(but including their status at every time point, even when not responding)\n",
    "\n",
    "# adding incorporator status to tax_table\n",
    "padj.cutoff = 0.10\n",
    "\n",
    "physeq.Bulk.inc = physeq.Bulk\n",
    "df.l2fc.s = df.l2fc.TillMonth %>%\n",
    "    select(-Rank1, -Rank2, -Rank3, -Rank4, -Rank5, -Rank6, -Rank7, -Rank8) %>%\n",
    "    group_by(OTU) %>%\n",
    "    summarize(Incorporator = any(padj2 <= padj.cutoff) %>% as.numeric) %>%\n",
    "    ungroup() \n",
    "\n",
    "tax = physeq.Bulk.inc %>% tax_table %>% as.data.frame\n",
    "tax$OTU = rownames(tax)\n",
    "tax.j = left_join(df.l2fc.s, tax, c('OTU' = 'OTU')) %>% \n",
    "    mutate(Incorporator = ifelse(is.na(Incorporator), 0, Incorporator)) %>%\n",
    "    as.data.frame() \n",
    "rownames(tax.j) = tax.j$OTU %>% as.character\n",
    "tax.j$OTU = NULL\n",
    "\n",
    "# making new phyloseq object with incorporator info\n",
    "physeq.Bulk.inc = phyloseq(physeq.Bulk.inc %>% otu_table, \n",
    "                             tax.j %>% as.matrix %>% tax_table, \n",
    "                             physeq.Bulk.inc %>% sample_data,\n",
    "                             physeq.Bulk.inc %>% phy_tree)\n",
    "physeq.Bulk.inc = subset_taxa(physeq.Bulk.inc, Incorporator==1)\n",
    "physeq.Bulk.inc"
   ]
  },
  {
   "cell_type": "code",
   "execution_count": 49,
   "metadata": {
    "collapsed": false
   },
   "outputs": [],
   "source": [
    "%%R\n",
    "Bulk_tree_inc_TillMonth = phy_tree(physeq.Bulk.inc)"
   ]
  },
  {
   "cell_type": "code",
   "execution_count": 51,
   "metadata": {
    "collapsed": false
   },
   "outputs": [],
   "source": [
    "%%R\n",
    "write.tree(Bulk_tree_inc_TillMonth, file = \"data/Bulk_tree_inc.nwk\")"
   ]
  },
  {
   "cell_type": "code",
   "execution_count": 54,
   "metadata": {
    "collapsed": false
   },
   "outputs": [
    {
     "data": {
      "text/plain": [
       "       OTU log2FoldChange Till\n",
       "1 OTU.5964       3.418800   PT\n",
       "2  OTU.432       2.915847   PT\n",
       "3  OTU.193      -3.303977   NT\n",
       "4  OTU.930       3.515477   PT\n",
       "5  OTU.180      -4.682644   NT\n",
       "6  OTU.677       4.850230   PT\n"
      ]
     },
     "metadata": {},
     "output_type": "display_data"
    }
   ],
   "source": [
    "%%R\n",
    "inc = df.l2fc.TillMonth %>% filter(padj2 <=0.10) %>% select(OTU,log2FoldChange, Till)\n",
    "head(inc)"
   ]
  },
  {
   "cell_type": "code",
   "execution_count": 55,
   "metadata": {
    "collapsed": false
   },
   "outputs": [
    {
     "data": {
      "text/plain": [
       "       OTU log2FoldChange Till R\n",
       "1 OTU.5964       3.418800   PT 1\n",
       "2  OTU.432       2.915847   PT 1\n",
       "3  OTU.193      -3.303977   NT 0\n",
       "4  OTU.930       3.515477   PT 1\n",
       "5  OTU.180      -4.682644   NT 0\n",
       "6  OTU.677       4.850230   PT 1\n"
      ]
     },
     "metadata": {},
     "output_type": "display_data"
    }
   ],
   "source": [
    "%%R\n",
    "#if Till = PT, produce 1; if Till = NT, produce 0. \n",
    "inc$R[inc$Till == 'PT'] = 1\n",
    "inc$R[inc$Till == 'NT'] = 0\n",
    "head(inc)\n"
   ]
  },
  {
   "cell_type": "code",
   "execution_count": 56,
   "metadata": {
    "collapsed": false
   },
   "outputs": [],
   "source": [
    "%%R\n",
    "inc.select = select(inc, OTU, R) %>% group_by(OTU) %>% summarise(Rtot = max(R))\n",
    "head(inc.select)\n",
    "write.csv(inc.select, 'incorp_binary_Bulk.csv')"
   ]
  },
  {
   "cell_type": "code",
   "execution_count": 57,
   "metadata": {
    "collapsed": false
   },
   "outputs": [
    {
     "data": {
      "text/plain": [
       "[1] 285\n"
      ]
     },
     "metadata": {},
     "output_type": "display_data"
    }
   ],
   "source": [
    "%%R\n",
    "length(unique(inc.select$OTU))"
   ]
  },
  {
   "cell_type": "code",
   "execution_count": 59,
   "metadata": {
    "collapsed": false
   },
   "outputs": [
    {
     "name": "stdout",
     "output_type": "stream",
     "text": [
      "\n",
      "Error in data.frame(color, Rank2) : \n",
      "  arguments imply differing number of rows: 14, 30\n"
     ]
    },
    {
     "name": "stderr",
     "output_type": "stream",
     "text": [
      "/opt/anaconda/lib/python2.7/site-packages/rpy2/robjects/functions.py:106: UserWarning: Error in data.frame(color, Rank2) : \n",
      "  arguments imply differing number of rows: 14, 30\n",
      "\n",
      "  res = super(Function, self).__call__(*new_args, **new_kwargs)\n"
     ]
    }
   ],
   "source": [
    "%%R\n",
    "color = c(\"#85A214\",\n",
    "\"#967DFA\",\n",
    "\"#1DCE23\",\n",
    "\"#F376ED\",\n",
    "\"#01C78B\",\n",
    "\"#E63BA7\",\n",
    "\"#41D5ED\",\n",
    "\"#F12B42\",\n",
    "\"#2BB0FE\",\n",
    "\"#F971B1\",\n",
    "\"#197D9A\",\n",
    "\"#BB4CC1\",\n",
    "\"#735A76\",\n",
    "\"#849EF9\")\n",
    "\n",
    "\n",
    "Rank2 = unique(df.l2fc.TillMonth$Rank2)\n",
    "\n",
    "taxcol = data.frame(color, Rank2)\n",
    "\n",
    "head(taxcol)"
   ]
  },
  {
   "cell_type": "code",
   "execution_count": 60,
   "metadata": {
    "collapsed": false
   },
   "outputs": [
    {
     "data": {
      "text/plain": [
       "[1] 285\n"
      ]
     },
     "metadata": {},
     "output_type": "display_data"
    }
   ],
   "source": [
    "%%R\n",
    "tax = df.l2fc.TillMonth %>% filter(padj2 <=0.10) %>% select(OTU, Rank2) %>% unique()\n",
    "tax$type = 'label'\n",
    "length(tax$OTU)"
   ]
  },
  {
   "cell_type": "code",
   "execution_count": 61,
   "metadata": {
    "collapsed": false
   },
   "outputs": [
    {
     "name": "stdout",
     "output_type": "stream",
     "text": [
      "\n",
      "Error in tbl_vars(y) : object 'taxcol' not found\n"
     ]
    },
    {
     "name": "stderr",
     "output_type": "stream",
     "text": [
      "/opt/anaconda/lib/python2.7/site-packages/rpy2/robjects/functions.py:106: UserWarning: Error in tbl_vars(y) : object 'taxcol' not found\n",
      "\n",
      "  res = super(Function, self).__call__(*new_args, **new_kwargs)\n"
     ]
    }
   ],
   "source": [
    "%%R\n",
    "tax2 = full_join(tax, taxcol)\n",
    "head(tax2)\n",
    "write.csv(tax2, 'incorp_tax_Bulk.csv')"
   ]
  },
  {
   "cell_type": "markdown",
   "metadata": {},
   "source": [
    "## ConsenTRAIT"
   ]
  },
  {
   "cell_type": "code",
   "execution_count": 20,
   "metadata": {
    "collapsed": false
   },
   "outputs": [],
   "source": [
    "%%R\n",
    "bulkTree = read.tree('data/Bulk_tree_sparse.nwk')"
   ]
  },
  {
   "cell_type": "code",
   "execution_count": 21,
   "metadata": {
    "collapsed": false
   },
   "outputs": [
    {
     "data": {
      "text/plain": [
       "List of 5\n",
       " $ edge       : int [1:7928, 1:2] 3966 3966 3967 3968 3969 3970 3970 3969 3971 3972 ...\n",
       " $ Nnode      : int 3964\n",
       " $ tip.label  : chr [1:3965] \"X90478\" \"OTU.1739\" \"OTU.1813\" \"OTU.778\" ...\n",
       " $ edge.length: num [1:7928] 0.4798 0.1263 0.0106 0.0229 0.1192 ...\n",
       " $ node.label : chr [1:3964] \"\" \"0.599.8\" \"0.736.11\" \"0.883\" ...\n",
       " - attr(*, \"class\")= chr \"phylo\"\n",
       " - attr(*, \"order\")= chr \"cladewise\"\n"
      ]
     },
     "metadata": {},
     "output_type": "display_data"
    }
   ],
   "source": [
    "%%R\n",
    "str(bulkTree)"
   ]
  },
  {
   "cell_type": "code",
   "execution_count": 25,
   "metadata": {
    "collapsed": false
   },
   "outputs": [
    {
     "data": {
      "text/plain": [
       "  sparsity_threshold       OTU log2FoldChange     lfcSE         padj    Rank1\n",
       "1               0.25  OTU.1739      0.4012126 0.4523957 4.684148e-01 Bacteria\n",
       "2               0.25  OTU.1813     -1.4802581 0.4326507 1.826795e-03 Bacteria\n",
       "3               0.25   OTU.778     -0.5498601 0.1379296 2.483877e-04 Bacteria\n",
       "4               0.25  OTU.2180     -0.3066501 0.2858391 3.755368e-01 Bacteria\n",
       "5               0.25 OTU.12365     -0.1443963 0.2567288 6.562578e-01 Bacteria\n",
       "6               0.25  OTU.2343      1.3595096 0.3116793 5.598476e-05 Bacteria\n",
       "             Rank2          Rank3                  Rank4 Rank5 Rank6 Rank7\n",
       "1 __Planctomycetes        __OM190 __uncultured_bacterium  <NA>  <NA>  <NA>\n",
       "2 __Planctomycetes        __OM190 __uncultured_bacterium  <NA>  <NA>  <NA>\n",
       "3 __Planctomycetes __Pla4_lineage __uncultured_bacterium  <NA>  <NA>  <NA>\n",
       "4 __Planctomycetes __Pla4_lineage __uncultured_bacterium  <NA>  <NA>  <NA>\n",
       "5 __Planctomycetes __Pla4_lineage __uncultured_bacterium  <NA>  <NA>  <NA>\n",
       "6 __Planctomycetes __Pla4_lineage __uncultured_bacterium  <NA>  <NA>  <NA>\n",
       "  Rank8        padj2 Till\n",
       "1  <NA> 0.6010558483    T\n",
       "2  <NA> 0.0056520888    N\n",
       "3  <NA> 0.0009556926    N\n",
       "4  <NA> 0.5116160300    N\n",
       "5  <NA> 0.7656246065    N\n",
       "6  <NA> 0.0002535853    T\n"
      ]
     },
     "metadata": {},
     "output_type": "display_data"
    }
   ],
   "source": [
    "%%R\n",
    "head(df.l2fc.Till)"
   ]
  },
  {
   "cell_type": "code",
   "execution_count": 26,
   "metadata": {
    "collapsed": false
   },
   "outputs": [
    {
     "data": {
      "text/plain": [
       "        OTU\n",
       "1    X90478\n",
       "2  OTU.1739\n",
       "3  OTU.1813\n",
       "4   OTU.778\n",
       "5  OTU.2180\n",
       "6 OTU.12365\n"
      ]
     },
     "metadata": {},
     "output_type": "display_data"
    }
   ],
   "source": [
    "%%R\n",
    "OTUs = as.data.frame(bulkTree$tip.label)\n",
    "colnames(OTUs) = 'OTU'\n",
    "head(OTUs)\n"
   ]
  },
  {
   "cell_type": "code",
   "execution_count": 27,
   "metadata": {
    "collapsed": false
   },
   "outputs": [
    {
     "name": "stderr",
     "output_type": "stream",
     "text": [
      "/opt/anaconda/lib/python2.7/site-packages/rpy2/robjects/functions.py:106: UserWarning: Joining by: \"OTU\"\n",
      "\n",
      "  res = super(Function, self).__call__(*new_args, **new_kwargs)\n"
     ]
    }
   ],
   "source": [
    "%%R\n",
    "All = full_join(OTUs, df.l2fc.Till)"
   ]
  },
  {
   "cell_type": "code",
   "execution_count": 148,
   "metadata": {
    "collapsed": false
   },
   "outputs": [
    {
     "data": {
      "text/plain": [
       "        OTU Resp\n",
       "1    X90478    0\n",
       "2  OTU.1739    0\n",
       "3  OTU.1813    0\n",
       "4   OTU.778    0\n",
       "5  OTU.2180    0\n",
       "6 OTU.12365    0\n"
      ]
     },
     "metadata": {},
     "output_type": "display_data"
    }
   ],
   "source": [
    "%%R\n",
    "All.TEnrich = All %>% select(OTU, padj2, Till)\n",
    "All.TEnrich$Resp[All.TEnrich$Till == 'T' & All.TEnrich$padj2 <=0.10] = 1\n",
    "All.TEnrich$Resp[All.TEnrich$Till == 'N' & All.TEnrich$padj2 <=0.10] = 0\n",
    "All.TEnrich$Resp[All.TEnrich$padj2 > 0.10] = 0\n",
    "All.TEnrich$Resp[is.na(All.TEnrich$padj2)] = 0\n",
    "\n",
    "All.TEnrich = All.TEnrich  %>% select(OTU, Resp) #%>% filter(OTU != 'X90478')\n",
    "\n",
    "\n",
    "\n",
    "write.table(All.TEnrich, 'data/Trait_TEnriched.txt', col.names = FALSE, row.names = FALSE,sep = '\\t')\n",
    "\n",
    "head(All.TEnrich)"
   ]
  },
  {
   "cell_type": "code",
   "execution_count": 149,
   "metadata": {
    "collapsed": false
   },
   "outputs": [
    {
     "data": {
      "text/plain": [
       "         V1 V2\n",
       "1    X90478  0\n",
       "2  OTU.1739  0\n",
       "3  OTU.1813  0\n",
       "4   OTU.778  0\n",
       "5  OTU.2180  0\n",
       "6 OTU.12365  0\n"
      ]
     },
     "metadata": {},
     "output_type": "display_data"
    }
   ],
   "source": [
    "%%R\n",
    "test = read.table('data/Trait_TEnriched.txt', sep = '\\t')\n",
    "head(test)"
   ]
  },
  {
   "cell_type": "code",
   "execution_count": 90,
   "metadata": {
    "collapsed": true
   },
   "outputs": [],
   "source": [
    "%%R\n",
    "test2 = read.tree('data/Bulk_tree_sparse.nwk')"
   ]
  },
  {
   "cell_type": "code",
   "execution_count": 141,
   "metadata": {
    "collapsed": false
   },
   "outputs": [
    {
     "data": {
      "text/plain": [
       "          V1 V2\n",
       "1:     OTU.1  1\n",
       "2:    OTU.10  0\n",
       "3:   OTU.100  0\n",
       "4:  OTU.1000  1\n",
       "5: OTU.10001  0\n",
       "6:  OTU.1001  1\n"
      ]
     },
     "metadata": {},
     "output_type": "display_data"
    }
   ],
   "source": [
    "%%R\n",
    "library(data.table)\n",
    "table_tmp = test[,c(1,2)]\n",
    "head(table_tmp)\n",
    "\n",
    "table_tmp2 = data.table(table_tmp)\n",
    "setkey(table_tmp2,V1)\n",
    "table2 = table_tmp2[intersect(table_tmp2$V1,test2$tip.label)]\n",
    "setkey(table2,V1)\n",
    "head(table2)"
   ]
  },
  {
   "cell_type": "code",
   "execution_count": 142,
   "metadata": {
    "collapsed": false
   },
   "outputs": [
    {
     "data": {
      "text/plain": [
       "[1] 3965\n"
      ]
     },
     "metadata": {},
     "output_type": "display_data"
    }
   ],
   "source": [
    "%%R\n",
    "length(test2$tip.label)"
   ]
  },
  {
   "cell_type": "code",
   "execution_count": 159,
   "metadata": {
    "collapsed": false
   },
   "outputs": [
    {
     "data": {
      "text/plain": [
       "[1] 3965\n"
      ]
     },
     "metadata": {},
     "output_type": "display_data"
    }
   ],
   "source": [
    "%%R\n",
    "length(test[,2:ncol(test)])"
   ]
  },
  {
   "cell_type": "code",
   "execution_count": 171,
   "metadata": {
    "collapsed": false
   },
   "outputs": [
    {
     "name": "stdout",
     "output_type": "stream",
     "text": [
      "   [1] 0 0 0 0 0 0 1 1 1 0 0 0 0 1 0 1 0 0 0 0 0 0 0 0 0 0 1 0 0 0 0 0 0 0 0 0 0\n",
      "  [38] 0 0 1 0 1 1 0 0 0 0 1 0 0 0 0 0 0 0 0 0 0 0 0 0 0 0 0 0 1 0 0 0 0 0 0 0 0\n",
      "  [75] 0 0 0 0 0 0 0 1 0 0 0 1 0 1 0 0 0 0 0 1 0 1 0 0 1 0 0 0 0 0 0 0 1 0 0 0 0\n",
      " [112] 0 0 0 0 1 0 0 0 0 1 0 0 0 0 0 0 1 1 0 0 1 1 1 1 0 1 0 0 0 1 0 0 0 0 0 0 1\n",
      " [149] 0 0 1 1 0 0 0 0 0 0 0 0 0 0 1 0 1 0 0 1 0 0 0 1 0 0 0 0 1 1 0 0 0 0 1 0 0\n",
      " [186] 0 0 0 1 0 0 1 1 1 1 1 1 0 1 1 0 1 0 0 1 0 0 0 0 1 0 1 0 0 1 0 0 1 0 0 0 0\n",
      " [223] 0 0 0 1 0 0 0 0 0 0 1 1 1 0 0 0 1 1 0 0 0 0 1 0 0 0 0 1 1 0 0 1 0 0 1 0 0\n",
      " [260] 0 0 0 0 0 0 0 0 0 0 0 0 0 0 0 1 1 0 0 1 0 0 0 1 0 0 0 0 0 1 0 0 1 1 1 0 0\n",
      " [297] 0 0 0 0 0 0 0 0 0 0 0 0 1 0 0 0 0 1 1 0 0 0 0 0 0 1 0 0 1 0 0 0 0 0 1 0 0\n",
      " [334] 0 0 0 0 0 0 0 0 0 0 0 0 1 0 0 0 0 0 0 0 0 0 0 0 0 0 1 0 1 1 0 0 0 0 1 0 1\n",
      " [371] 0 1 0 0 0 1 0 0 1 1 0 1 0 0 0 0 0 0 0 0 1 0 0 0 1 0 0 1 0 1 0 0 0 0 1 1 1\n",
      " [408] 1 1 0 0 0 0 0 0 0 1 0 0 0 1 0 0 0 0 0 0 1 0 0 0 0 0 0 0 0 0 0 0 0 0 0 0 0\n",
      " [445] 0 1 1 1 0 1 0 0 1 1 0 0 0 0 0 1 1 1 0 0 0 0 0 1 1 0 0 0 0 0 0 1 0 0 0 0 0\n",
      " [482] 0 0 0 1 0 0 1 1 1 0 0 1 0 0 0 0 0 0 0 0 0 0 0 0 1 0 1 0 0 1 0 0 0 1 1 0 0\n",
      " [519] 0 1 0 0 0 0 0 0 1 0 0 0 0 1 1 0 0 1 0 0 0 0 0 0 0 0 0 0 1 0 0 0 0 0 1 1 0\n",
      " [556] 0 1 0 0 1 0 0 1 0 0 0 0 0 1 1 1 0 0 0 0 0 0 0 1 1 0 0 0 1 0 0 0 1 0 0 0 0\n",
      " [593] 0 1 1 0 0 1 0 1 0 0 0 0 0 0 0 1 1 0 0 0 0 1 0 0 0 0 1 1 0 0 0 0 0 0 0 0 0\n",
      " [630] 0 1 0 1 1 0 0 0 0 0 0 0 0 0 0 0 0 0 0 0 0 0 0 0 0 1 0 0 1 1 1 0 0 1 1 1 0\n",
      " [667] 0 0 0 0 0 0 0 0 0 1 1 0 1 1 0 0 0 0 0 0 1 1 0 1 0 0 0 0 0 1 1 0 0 0 0 0 1\n",
      " [704] 0 1 0 0 0 0 1 0 0 0 0 0 0 0 1 0 0 1 0 1 1 0 0 1 0 0 1 1 1 1 0 0 0 0 0 0 1\n",
      " [741] 1 0 1 1 0 0 1 1 0 0 1 1 1 1 0 1 1 1 0 0 1 1 0 1 1 1 1 1 1 1 1 1 1 1 0 1 1\n",
      " [778] 0 1 1 0 0 1 1 1 1 1 0 0 0 0 0 0 1 1 1 1 1 0 0 0 0 0 0 0 1 1 1 1 1 0 0 1 1\n",
      " [815] 1 1 1 1 0 0 1 0 1 1 0 1 0 1 0 1 1 1 1 0 0 1 1 0 0 1 0 0 0 0 0 1 1 0 0 0 0\n",
      " [852] 0 0 0 0 1 0 0 0 0 0 0 0 0 0 0 0 0 1 0 1 0 0 1 0 0 0 0 0 0 0 0 0 1 0 0 0 0\n",
      " [889] 0 1 1 1 1 0 0 0 1 0 0 0 0 0 0 0 0 0 0 0 1 0 0 0 1 1 0 0 0 0 1 1 0 0 0 1 0\n",
      " [926] 1 1 1 0 1 1 1 0 0 0 0 1 1 0 1 0 1 0 0 0 0 1 0 1 1 0 1 0 1 0 0 0 0 0 1 0 0\n",
      " [963] 0 0 0 1 0 0 1 0 0 1 0 0 0 0 0 0 1 1 0 0 0 0 1 0 0 0 0 0 0 0 0 0 0 0 0 1 0\n",
      "[1000] 1 0 0 1 1 0 0 1 0 0 0 0 1 0 0 0 1 1 0 1 1 0 1 1 0 0 0 0 0 1 0 0 1 0 0 0 0\n",
      "[1037] 0 1 0 0 0 1 1 0 1 0 0 1 0 1 1 1 0 0 0 0 1 0 1 1 0 1 1 1 0 0 0 0 0 0 0 0 1\n",
      "[1074] 1 0 0 1 1 0 1 1 1 0 0 0 1 1 0 1 0 0 0 0 0 0 0 0 1 0 0 0 0 0 1 0 0 0 0 0 0\n",
      "[1111] 1 0 1 1 1 1 0 1 1 0 0 1 1 0 0 0 0 1 1 0 0 1 1 1 1 1 1 0 0 1 0 0 0 1 1 1 1\n",
      "[1148] 0 1 0 1 1 1 1 0 0 1 1 1 1 0 0 1 0 1 1 0 1 0 1 1 0 0 0 0 0 0 1 0 0 0 0 0 1\n",
      "[1185] 1 0 0 1 0 0 0 0 1 0 0 0 0 0 1 0 1 0 0 0 0 1 0 1 1 1 1 0 0 1 0 0 1 0 1 0 0\n",
      "[1222] 0 0 0 1 1 0 1 0 1 1 1 0 0 0 0 0 0 0 0 0 0 1 0 1 0 1 1 0 0 0 0 0 0 0 0 1 0\n",
      "[1259] 0 1 1 0 0 1 1 0 1 0 1 1 1 0 0 0 1 0 0 0 1 0 0 1 0 0 0 0 0 0 1 1 1 0 0 1 0\n",
      "[1296] 0 0 0 0 0 0 0 0 0 0 0 1 1 1 1 1 1 1 1 0 0 1 1 0 0 0 0 0 0 1 1 1 1 0 1 0 1\n",
      "[1333] 0 0 1 0 0 0 0 0 0 0 0 0 0 0 0 0 0 0 0 1 1 1 0 1 1 0 0 1 1 0 0 1 1 1 1 1 1\n",
      "[1370] 0 1 1 1 1 0 1 1 1 1 1 1 1 1 1 1 0 1 1 1 0 0 0 1 0 0 1 0 0 0 1 1 1 1 0 1 1\n",
      "[1407] 1 1 0 0 0 0 1 1 1 0 1 1 0 1 0 1 0 1 1 1 0 0 0 0 0 0 0 1 0 1 0 0 1 1 1 1 1\n",
      "[1444] 0 1 0 0 0 0 0 0 0 1 0 0 1 1 0 0 0 0 0 0 0 0 0 0 0 1 0 0 0 0 0 1 0 0 1 1 0\n",
      "[1481] 0 1 1 0 0 0 1 0 1 1 0 1 0 0 0 0 0 0 0 0 0 0 0 1 1 0 0 1 1 1 0 0 0 0 1 0 0\n",
      "[1518] 0 0 0 1 1 0 0 0 0 1 1 1 1 0 0 0 1 0 1 0 0 0 0 0 1 0 1 0 0 0 0 0 0 0 0 0 0\n",
      "[1555] 0 0 0 0 1 0 0 0 0 1 0 0 0 1 0 1 0 1 0 1 0 0 0 1 0 0 0 0 0 0 0 0 0 0 0 0 1\n",
      "[1592] 0 0 0 0 0 0 0 1 0 0 0 0 0 0 1 0 1 0 0 0 0 0 0 0 0 0 1 0 1 0 0 0 0 0 1 1 0\n",
      "[1629] 0 0 0 1 0 0 0 0 0 0 0 0 1 0 0 0 0 0 0 0 0 0 0 0 0 0 0 0 0 0 0 0 0 0 0 0 0\n",
      "[1666] 0 0 0 0 0 0 0 1 0 0 0 0 0 0 0 0 1 0 0 0 0 0 0 1 0 0 0 0 0 0 0 0 0 0 0 0 0\n",
      "[1703] 0 0 0 0 0 0 0 0 0 0 0 1 0 0 0 0 0 0 0 0 0 0 0 0 0 0 1 0 0 0 0 0 0 0 0 0 0\n",
      "[1740] 1 0 0 0 0 0 1 0 0 1 0 1 0 0 0 0 0 0 0 0 1 0 0 0 0 0 0 0 1 1 1 0 1 0 1 0 0\n",
      "[1777] 0 0 0 1 1 0 0 1 1 1 1 1 1 1 1 1 1 1 0 1 0 1 1 0 0 1 0 0 1 1 0 1 0 0 0 0 0\n",
      "[1814] 0 0 0 1 0 0 0 0 0 1 1 0 0 0 0 0 0 0 0 0 0 0 0 0 0 1 0 1 0 1 0 1 0 0 0 0 0\n",
      "[1851] 0 1 0 1 0 0 0 1 1 1 1 1 0 0 1 0 1 0 1 0 1 1 0 0 0 0 0 1 0 1 1 1 1 0 0 1 0\n",
      "[1888] 1 0 0 0 0 0 0 1 1 1 1 1 0 0 1 0 0 1 1 1 0 1 0 0 1 1 1 1 1 1 1 1 1 1 1 0 1\n",
      "[1925] 0 0 0 1 0 0 0 0 0 0 0 0 1 0 0 0 1 1 1 1 0 0 1 0 1 0 1 0 0 0 0 1 0 0 1 1 0\n",
      "[1962] 0 0 0 1 0 1 0 0 0 0 0 0 0 1 1 0 1 1 1 1 0 0 0 0 0 1 1 0 0 1 1 1 1 1 1 0 1\n",
      "[1999] 1 1 0 0 0 0 0 1 0 0 0 0 0 0 0 1 1 0 1 0 0 0 1 0 0 0 0 0 0 1 0 0 1 1 1 0 0\n",
      "[2036] 1 0 1 0 0 1 0 0 0 0 0 0 0 0 0 1 1 0 1 0 1 0 1 1 0 1 0 0 0 0 0 0 0 1 0 0 0\n",
      "[2073] 0 0 1 0 1 1 0 0 0 0 1 1 0 1 0 0 0 0 0 1 1 0 0 1 1 0 0 0 0 0 0 0 0 0 1 1 0\n",
      "[2110] 0 1 1 0 0 0 0 0 0 0 0 1 0 0 0 0 0 0 0 0 0 1 0 0 0 0 0 1 0 0 1 0 0 0 0 1 0\n",
      "[2147] 0 0 0 0 0 0 0 0 0 0 0 0 0 0 0 1 0 0 0 1 1 1 0 1 1 0 0 1 1 0 1 0 0 1 0 1 1\n",
      "[2184] 1 1 0 0 0 0 0 0 0 1 0 0 0 0 0 0 0 0 0 0 0 1 0 1 0 0 1 1 1 0 0 0 0 0 0 0 0\n",
      "[2221] 0 0 0 1 0 0 0 0 0 0 0 1 0 0 0 1 1 0 0 0 0 1 0 0 0 0 1 0 0 0 1 0 1 0 0 0 1\n",
      "[2258] 0 0 0 0 1 0 1 1 0 0 0 0 0 0 0 0 1 0 0 0 1 0 1 1 0 1 1 1 0 1 1 0 0 1 0 1 1\n",
      "[2295] 1 1 1 1 0 0 0 1 1 1 1 0 0 1 0 0 0 1 1 1 1 1 1 0 0 1 0 1 1 1 1 0 0 1 1 0 1\n",
      "[2332] 0 0 0 0 0 0 0 1 1 0 0 0 1 0 0 0 0 0 1 0 0 1 1 0 0 0 1 1 0 0 0 0 0 0 0 0 0\n",
      "[2369] 0 1 1 1 0 0 0 0 1 1 1 1 1 0 0 1 1 0 1 0 1 1 0 1 1 1 1 1 1 0 0 0 0 1 0 0 0\n",
      "[2406] 0 0 0 1 1 0 0 0 0 1 0 1 0 1 0 0 1 1 1 0 0 0 1 0 1 0 0 1 0 1 0 0 1 0 1 0 0\n",
      "[2443] 0 1 0 1 1 0 1 0 1 1 0 0 0 1 1 0 0 0 1 0 1 1 1 1 0 0 0 1 1 0 1 1 0 0 1 0 1\n",
      "[2480] 0 0 0 1 0 0 0 1 1 0 0 0 0 1 0 1 0 0 0 0 1 0 0 0 0 1 0 0 0 0 0 0 0 0 0 0 0\n",
      "[2517] 0 0 0 0 0 0 0 0 0 0 0 0 1 1 0 1 1 1 1 1 1 1 1 1 1 1 1 0 0 0 0 0 1 0 0 0 1\n",
      "[2554] 0 1 0 0 0 0 1 0 1 0 0 0 0 0 0 0 0 0 0 0 1 0 0 1 0 0 0 0 1 0 0 1 0 0 0 1 1\n",
      "[2591] 1 0 0 1 0 0 0 0 0 0 0 0 0 0 0 0 0 0 0 0 0 0 0 0 0 0 1 1 0 0 0 0 0 0 0 1 0\n",
      "[2628] 0 1 0 1 0 0 0 0 0 0 1 0 0 1 0 0 0 1 0 0 0 0 1 0 0 1 0 0 0 0 0 0 0 0 0 0 0\n",
      "[2665] 0 0 0 0 0 1 0 1 1 0 1 1 0 0 0 1 0 0 1 0 0 1 0 0 1 0 1 0 0 0 1 0 1 1 0 0 0\n",
      "[2702] 0 0 1 0 0 0 0 0 0 0 0 0 0 0 1 0 0 1 0 0 0 0 1 0 0 0 0 1 1 1 1 0 0 0 0 0 0\n",
      "[2739] 0 0 0 0 0 0 1 0 0 0 0 0 0 0 0 0 0 0 1 0 0 1 0 1 1 0 0 1 0 0 0 1 0 0 0 0 0\n",
      "[2776] 0 1 1 1 0 0 0 0 0 1 0 0 0 0 0 0 0 0 0 0 0 1 0 0 0 0 1 0 0 0 0 1 0 0 0 0 1\n",
      "[2813] 0 1 0 1 1 0 0 0 0 0 1 0 0 0 0 0 1 0 0 0 1 0 0 1 0 0 0 0 0 1 1 0 0 0 0 0 0\n",
      "[2850] 0 0 0 1 1 0 0 0 0 0 1 0 0 0 1 1 0 0 1 1 0 1 1 0 0 0 0 0 0 0 0 1 0 1 0 1 1\n",
      "[2887] 0 1 1 0 0 1 0 0 0 0 0 1 0 0 1 1 0 0 1 0 0 0 1 0 0 0 0 0 0 0 0 0 0 0 1 1 0\n",
      "[2924] 0 0 1 1 0 0 0 0 0 0 0 0 1 0 0 0 0 0 0 0 0 0 0 1 1 0 0 0 1 0 0 1 1 0 0 0 0\n",
      "[2961] 0 0 1 1 0 0 0 0 0 0 0 0 0 0 0 1 0 0 0 0 0 1 1 0 0 0 0 0 1 1 0 0 1 0 0 0 0\n",
      "[2998] 0 0 1 0 0 0 0 0 0 0 0 0 1 0 1 0 0 0 0 0 0 1 1 1 1 0 0 1 0 0 0 0 0 0 1 1 1\n",
      "[3035] 1 0 1 1 1 1 1 1 1 0 1 0 1 0 0 0 0 1 1 1 1 1 1 1 0 0 0 0 0 0 1 0 0 1 0 0 0\n",
      "[3072] 0 0 0 0 0 0 0 0 0 0 0 1 0 0 0 0 0 0 1 0 0 0 0 0 0 0 0 0 0 0 0 0 0 0 0 0 0\n",
      "[3109] 0 0 1 0 0 0 1 0 0 0 0 0 0 0 0 0 1 0 0 0 0 0 0 0 0 0 0 0 0 0 0 0 0 0 1 1 0\n",
      "[3146] 0 0 0 0 0 1 1 0 0 0 0 0 1 1 0 0 1 0 0 0 0 0 0 1 0 0 0 0 1 1 1 1 0 0 0 0 0\n",
      "[3183] 0 0 0 0 1 0 0 0 0 0 0 0 0 0 0 0 0 0 0 0 0 0 1 1 1 1 0 0 0 1 0 0 1 0 0 0 0\n",
      "[3220] 0 0 1 0 0 0 0 0 0 0 0 1 0 0 0 0 0 0 0 0 0 0 0 0 0 0 0 0 0 0 0 0 0 0 1 1 0\n",
      "[3257] 0 0 0 0 0 0 1 0 1 0 0 0 1 0 1 0 1 0 0 0 1 0 0 1 1 0 1 0 0 0 0 0 0 0 0 1 1\n",
      "[3294] 0 0 1 0 0 1 0 0 0 1 1 0 0 0 1 0 1 0 0 1 0 1 0 0 1 0 0 0 0 0 0 0 0 0 0 0 0\n",
      "[3331] 0 1 0 0 0 1 0 0 0 0 1 0 1 1 0 0 0 0 0 0 0 0 0 0 0 0 0 0 0 0 0 0 0 0 0 0 0\n",
      "[3368] 0 0 0 0 0 0 0 1 1 0 0 0 0 0 0 0 0 0 0 0 0 1 0 1 0 0 0 0 1 0 0 0 0 0 0 1 0\n",
      "[3405] 1 0 0 0 0 0 0 0 0 0 0 0 0 0 0 0 0 0 0 0 0 0 0 0 0 1 1 0 1 0 0 0 0 0 1 0 0\n",
      "[3442] 1 0 1 1 0 0 0 0 0 0 0 0 0 1 0 0 0 0 0 0 1 1 0 0 0 0 0 1 0 0 0 0 0 0 0 0 0\n",
      "[3479] 0 0 0 0 0 0 0 1 0 0 0 0 1 1 0 0 0 0 0 0 0 0 0 0 0 0 0 0 0 0 0 0 0 0 0 0 0\n",
      "[3516] 0 1 0 0 0 0 0 0 0 0 0 1 0 0 0 0 0 0 0 0 0 0 0 0 0 0 0 0 0 0 0 0 0 0 1 0 0\n",
      "[3553] 1 1 0 0 0 1 0 0 0 0 0 0 0 1 1 1 1 0 0 0 1 0 0 0 0 0 0 0 0 0 0 0 1 0 0 1 0\n",
      "[3590] 0 0 0 0 0 0 0 0 0 0 0 0 0 0 0 0 0 0 0 0 0 0 0 0 0 0 0 0 0 0 0 0 0 0 0 0 0\n",
      "[3627] 0 0 0 0 0 0 0 0 0 0 0 0 0 0 0 0 0 0 0 0 0 0 0 1 0 0 0 0 0 0 0 1 0 0 0 0 0\n",
      "[3664] 0 0 0 0 1 0 0 0 0 0 0 0 0 0 0 0 0 1 0 0 0 0 0 1 1 0 0 0 0 0 0 0 0 0 0 0 0\n",
      "[3701] 0 0 1 0 0 1 0 0 1 1 0 0 0 1 1 0 0 0 0 1 0 1 0 1 0 0 0 0 0 1 0 1 1 0 1 1 0\n",
      "[3738] 0 0 0 0 1 0 0 1 0 0 0 0 0 0 0 0 1 1 0 0 0 0 1 0 1 0 0 0 0 0 0 0 1 1 0 1 0\n",
      "[3775] 0 0 0 0 0 0 0 0 0 0 0 0 0 0 0 0 0 0 0 0 0 1 0 1 1 0 1 1 0 0 0 0 1 0 0 0 0\n",
      "[3812] 1 1 1 1 0 0 0 1 0 0 0 0 0 1 1 0 1 0 0 0 1 0 0 1 0 0 0 1 1 0 0 1 0 1 0 0 0\n",
      "[3849] 0 0 1 1 0 0 1 0 1 0 0 0 0 0 0 0 1 1 1 1 0 0 1 1 1 1 1 1 1 1 1 1 1 1 0 1 0\n",
      "[3886] 0 0 0 0 0 1 0 1 0 0 0 1 0 1 1 1 1 0 1 0 1 1 1 1 0 0 1 0 0 0 0 1 1 0 0 0 1\n",
      "[3923] 1 0 0 0 0 1 1 0 0 0 1 0 0 1 1 1 0 0 1 0 0 0 0 0 0 0 1 1 1 1 0 1 0 0 1 1 0\n",
      "[3960] 0 1 0 1 0 0\n"
     ]
    },
    {
     "name": "stderr",
     "output_type": "stream",
     "text": [
      "Analyzing tree:  1 \n",
      "  Analyzing trait:  1 \n",
      "Error in apply(table[, 2:ncol(table)], 2, function(x) sample(c(0, 1),  : \n",
      "  dim(X) must have a positive length\n",
      "Execution halted\n"
     ]
    }
   ],
   "source": [
    "%%bash\n",
    "/home/chantal/tree_edit/bin/concentrait.r /home/chantal/Chazy/Bulk/515_806/data/Bulk_tree_sparse.nwk \\\n",
    "    X90478 data/Trait_TEnriched.txt -b 2 #-p 10"
   ]
  },
  {
   "cell_type": "code",
   "execution_count": 165,
   "metadata": {
    "collapsed": false
   },
   "outputs": [
    {
     "name": "stderr",
     "output_type": "stream",
     "text": [
      "Error in integer(n) : vector size cannot be NA/NaN\n",
      "Calls: rmtree -> replicate -> sapply -> lapply -> integer\n",
      "In addition: Warning messages:\n",
      "1: NAs introduced by coercion \n",
      "2: In integer(n) : NAs introduced by coercion\n",
      "Execution halted\n"
     ]
    }
   ],
   "source": [
    "%%bash\n",
    "/home/chantal/tree_edit/bin/concentrait.r /home/chantal/Chazy/Bulk/515_806/data/Bulk_tree_sparse.nwk \\\n",
    "    X90478 data/Trait_TEnriched.txt -x=50 -b=2 -n=2"
   ]
  }
 ],
 "metadata": {
  "kernelspec": {
   "display_name": "Python 2",
   "language": "python",
   "name": "python2"
  },
  "language_info": {
   "codemirror_mode": {
    "name": "ipython",
    "version": 2
   },
   "file_extension": ".py",
   "mimetype": "text/x-python",
   "name": "python",
   "nbconvert_exporter": "python",
   "pygments_lexer": "ipython2",
   "version": "2.7.11"
  }
 },
 "nbformat": 4,
 "nbformat_minor": 0
}
