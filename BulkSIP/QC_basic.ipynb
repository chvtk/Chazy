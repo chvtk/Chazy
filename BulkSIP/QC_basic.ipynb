{
 "cells": [
  {
   "cell_type": "markdown",
   "metadata": {},
   "source": [
    "##Discard sequences that exceed the max expected error threshold."
   ]
  },
  {
   "cell_type": "code",
   "execution_count": 1,
   "metadata": {
    "collapsed": false
   },
   "outputs": [
    {
     "name": "stdout",
     "output_type": "stream",
     "text": [
      "3061920\n",
      ">13X.NTH.Day7.Rep3_0 orig_name=M02465:134:000000000-ACLGB:1:1101:16302:1721\n",
      "TACGTAGGTGGCAAGCGTTATCCGGAATTACTGGGCGTAAAGCGCACGTAGGCGGCTTTGTAAGTCAGAGGTGAAAGCCTGGAGCTCAACTCCAGAACTGCCTTTGAGACTGCATCGCTTGAATCCAGGAGAGGTGAGTGGAATTCCGAGTGTAGAGGTGAAATTCGTAGCTATTCGGAAGAACACCAGTGGCGAAGGCGGCTCACTGGACTGGTATTGCCGCTGAGGTGCGAAAGCGTGGGGAGCAAACAGGATTAGATACCCTGGTAGTCCACGCCGTAAACGATGATAACTAGCTGTCCGGGCACTTGGTGCTTGGGTGGCGCAGCTAACGCATTAAGTTATCCGCCTGGGGAGTACGGTCGCAAGGTTG\n",
      ">13C.NTH.Day7.Rep1_5 orig_name=M02465:134:000000000-ACLGB:1:1101:18653:1762\n",
      "TACGAAGGGGGCTAGCGTTGTTCGGAATTACTGGGCGTAAAGCGCACGTAGGCGGATATTTAAGTCAGGGGTGAAATCCCAGAGCTCAACTCTGGAACTGCCTTTGATACTGGGTATCTCGAGTATGGAAGAGGTGAGTGGAATTCCGGGTGTAGAGGTGAAATTCGTAGATATTCGGAGGAACACCAGTGGCGAAGGCGGCTCACTGGTCCATTACTGACGCTGAGGTGCGAAAGCGTGGGGAGCAAACGGGATTAGATACCCTGGTAGTCCACGCCGTAAACGATGAATGTTAGCCGTCGGCATGCATGCATGTCGGTGGCGCAGCTAACGCATTAAACATTCCGCCTGGGGAGTACGGTCGCAAGATTG\n",
      ">13X.PTH.Day3.Rep2_6 orig_name=M02465:134:000000000-ACLGB:1:1101:18013:1767\n",
      "TACGGAGGGGGCTAGCGTTGTTCGGAATTACTGGGCGTAAAGCGCGCGTAGGCGGCTTTGTAAGTTAGAGGTGAAAGCCCGGAGCTCAACTCCGGAATTGCCTTTAAGACTGCATCGCTAGAATCATGGAGAGGGGAGTGGAATTCCGAGTGTAGAGGTGAAATTCGTAGATATTCGGAAGAACAACAGTGGCGAAGGCGACTCACTGGACATGTATTGACGCTGAGGTGCGAAAGCGTGGGGAGCAAACAGGATTAGATGCCCTGGTAGTCCACGCCGTAAACGATGATGACTAGCTGGCGGGGCTCTTGGAGTTTCGGTGGCGCAGCTAACGCGTTAAGTCATCCGCCTGGGGAGTACGGTCGCAAGATTG\n",
      ">12C.PTH.Day7.Rep3_13 orig_name=M02465:134:000000000-ACLGB:1:1101:16922:1783\n",
      "TACGTAGGGTGCAAGCGTTAATCGGAATTACTGGGCGTAAAGCGTGCGCAGGCGGTTTTGTAAGTCTGATGTGAAAGCCCCGGGCTCAACCTGGGAACTGCGTTTGGAACTACAAGACTTGAGTGTGTCAGAGGGGGGTGGAATTCCGCGTGTAGCGGTGAAATGCGTAGAGATGCGGAGGAACACCGATGGCGAAGGCAGCCCCCTGGGCTAACACTGACGCTCATGCACGAAAGCGTGGGGAGCAAACAGGATTAGATACCCTGGTAGTCCACGCCCTAAACGATGTCAATTAGCTGTTGGGGGTTAGAATCCTTGGTAGCGTAGCTAACGCGGGAAATTGACCGCCTGGGGAGTACGGCCGCAAGGTTG\n"
     ]
    }
   ],
   "source": [
    "%%bash\n",
    "\n",
    "nprocs=20\n",
    "#Changing max expected error to 2 - less conservative\n",
    "maxee=2\n",
    "\n",
    "tmpdir1=`mktemp -d`\n",
    "trap \"rm -r $tmpdir1\" 1 2 3 15\n",
    "split -d -l 2000000 /var/seq_data/Chazy/SIP_bulk/2_250_bulk_pear_merged_raw-2015-03-16.assembled.dmult.fastq $tmpdir1/Block\n",
    "\n",
    "tmpdir2=`mktemp -d`\n",
    "trap \"rm -r $tmpdir2\" 1 2 3 15\n",
    "ls $tmpdir1/Block?? | parallel --gnu -j $nprocs -k \"usearch -fastq_filter {} \\\n",
    "-fastq_maxee $maxee \\\n",
    "-fastaout $tmpdir2/{#}.fasta >/dev/null 2>&1 && cat $tmpdir2/{#}.fasta\" > data/tmp/maxee$maxee.fasta\n",
    "rm -r $tmpdir2 $tmpdir1\n",
    "\n",
    "grep -c \">\" data/tmp/maxee$maxee.fasta\n",
    "head -n 8 data/tmp/maxee$maxee.fasta"
   ]
  },
  {
   "cell_type": "code",
   "execution_count": 2,
   "metadata": {
    "collapsed": false
   },
   "outputs": [
    {
     "name": "stdout",
     "output_type": "stream",
     "text": [
      "@13X.NTH.Day7.Rep3_0 orig_name=M02465:134:000000000-ACLGB:1:1101:16302:1721\n",
      "TACGTAGGTGGCAAGCGTTATCCGGAATTACTGGGCGTAAAGCGCACGTAGGCGGCTTTGTAAGTCAGAGGTGAAAGCCTGGAGCTCAACTCCAGAACTGCCTTTGAGACTGCATCGCTTGAATCCAGGAGAGGTGAGTGGAATTCCGAGTGTAGAGGTGAAATTCGTAGCTATTCGGAAGAACACCAGTGGCGAAGGCGGCTCACTGGACTGGTATTGCCGCTGAGGTGCGAAAGCGTGGGGAGCAAACAGGATTAGATACCCTGGTAGTCCACGCCGTAAACGATGATAACTAGCTGTCCGGGCACTTGGTGCTTGGGTGGCGCAGCTAACGCATTAAGTTATCCGCCTGGGGAGTACGGTCGCAAGGTTG\n",
      "+\n",
      ">1>1AFFAFBA?1B11AAE0A3DAEB0BBD1D2AFA/AAABD1B//AABG0BBA>/>EG1B22BF@2B11>B/BB@B0010?B0BB11B>B1B1FGBCG1FFFGG1G/?BFF0FDGA?0?CG?III>IH<IGIIIIIIIIIIIIIIIIIIIIIII0IIIIIII=IIIIIICIII=GIIIIIIIIIIIIIIIIIIIIIIIIIIIG>GIIIIIEIGIIIIIBIIIII/IIIIIIIIIIIIIIIIIIIIIIIIGDDGD??1GF<A/?1FGF2F?B/CC@/?FGEHHFGFFHFGGGBHHF?>E/CGHHFGFF?BCCCEEGFAEAB>>>BBABGGEEEBHFFFHHFHEEAFGEGEEEFFGGEGFFE@DDCFFCA3>33\n",
      "@13X.NTH.Day7.Rep4_1 orig_name=M02465:134:000000000-ACLGB:1:1101:14598:1736\n",
      "TACGTAGGGTGCGAGCGTTATTCGGATTTACTGGGCGTAAAGCGTGCGCAGGCGGTGTTTTAAGTCTGGTGTGAAATCCCCGGGCTTAACCTGGGAACTGCATTTGTTCCTGCCTCGCTTGAGTGCGGGAGAGGGGGGTGGAATTCCGCGTGTAGCGGTGAAATGCGTAGATATGCGGAGGAACACCGATGGCGAAGGCAATCCCCTGGGCCTGCACTGACGCTGATGCACGAAAGCGTGGGGAGCAAACAGGATTAGATACCCTGGTAGTCCACGCCCTAAACGATGTCAACTGGTTGTTGGGTGTCTTCTGACGCAGTAACGAAGCGAACGCGTGAAGTTGACCGCCTGGGGAGTACGGCCGCAAGGTTG\n",
      "+\n",
      ">>>1>C1AAFAA?11AAEE00BD0B00BAD2D21AAAAAA/2BBA////A/@AEEE//?0B2112B21010?/>2BBD11F//<E>/B>BBB00F0B<BBF1FGB2>0???110@1/<</<?HFI=9E-IHEIIIII;I;IGGEFIE;EEIIIIII/GII=I;;II;;;IBIIIIG;IIIIBII;:II-IIIII;/II9;H-9IEE@IG:FIH<<<HIIIII<F0;FIIIIIICIII:HI<IIII<HIII<@<@11GDF0<//11C<BG?///<B0011/F?/<<>FB2BB1//??//?//>/BB01@11//>B?12B?/0B>B?/>>/E/AB/ADDGDB1/AAA/AB00FEFDAEAE0A11>@BFC>>1>1\n",
      "@13C.PTH.Day7.Rep4_2 orig_name=M02465:134:000000000-ACLGB:1:1101:16890:1755\n",
      "TACGTAGGGTGCAAGCGTTATTCGGAATTACTGGGCGTAACGCGTACGCAGGCGGCTTTGCAAGTCAGGTGTGAAATCCCCGGGCCTAACCTGGGAACTGCATTTGGGACTGCATAGCTAGAGTCTGTCAGAGGGGGGTGGAATTCCACGTGTAGCAGTGAAATGCGTAGATATCTGGAGGAACATCAGTGGCGAAGGGGACACCCTGGACTCATACTGACACTGAGGTACGAAAGCGTGGGGAGCAAACAGGATTGGATGCCCGGGTGGTCCACGCCGTAAACGATGTCTACTAGCCGTTGGGAGCCTTGAGCTCTTAGTGGCGCAGCTAACGCACTAAGTAGACCGCCTGGGGAGTACGGTCGCAAGATTA\n",
      "5265226\n"
     ]
    }
   ],
   "source": [
    "%%bash\n",
    "head /var/seq_data/Chazy/SIP_bulk/2_250_bulk_pear_merged_raw-2015-03-16.assembled.dmult.fastq\n",
    "grep -c \"+\" /var/seq_data/Chazy/SIP_bulk/2_250_bulk_pear_merged_raw-2015-03-16.assembled.dmult.fastq"
   ]
  },
  {
   "cell_type": "code",
   "execution_count": 3,
   "metadata": {
    "collapsed": false
   },
   "outputs": [
    {
     "name": "stdout",
     "output_type": "stream",
     "text": [
      "3061920\n",
      "3061920\n"
     ]
    }
   ],
   "source": [
    "%%bash\n",
    "bioawk -c fastx '{if ($seq !~ /N/){print \">\" $name \" \" $4 \"\\n\" $seq}}' data/tmp/maxee2.fasta > \\\n",
    "data/tmp/maxee2.0.noN.fasta\n",
    "grep -c \">\" data/tmp/maxee2.fasta\n",
    "grep -c \">\" data/tmp/maxee2.0.noN.fasta"
   ]
  },
  {
   "cell_type": "markdown",
   "metadata": {},
   "source": [
    "##Remove seqs with N characters."
   ]
  },
  {
   "cell_type": "markdown",
   "metadata": {},
   "source": [
    "# Alignment-based QC with Mothur"
   ]
  },
  {
   "cell_type": "code",
   "execution_count": 5,
   "metadata": {
    "collapsed": false
   },
   "outputs": [],
   "source": [
    "%%bash\n",
    "ionice -c2 -n3 \\\n",
    "mothur \"#unique.seqs(fasta=data/tmp/maxee2.0.noN.fasta)\" > /dev/null"
   ]
  },
  {
   "cell_type": "code",
   "execution_count": 6,
   "metadata": {
    "collapsed": false
   },
   "outputs": [
    {
     "name": "stdout",
     "output_type": "stream",
     "text": [
      "3061920\n",
      "2783092\n"
     ]
    }
   ],
   "source": [
    "!grep -c \">\" data/tmp/maxee2.0.noN.fasta\n",
    "!grep -c \">\" data/tmp/maxee2.0.noN.unique.fasta"
   ]
  },
  {
   "cell_type": "markdown",
   "metadata": {},
   "source": [
    "##### Need to use all sequences (not just unique sequences) for next step to create the data file"
   ]
  },
  {
   "cell_type": "code",
   "execution_count": null,
   "metadata": {
    "collapsed": false
   },
   "outputs": [
    {
     "name": "stdout",
     "output_type": "stream",
     "text": [
      "13X.NTH.Day7.Rep3_0\t13X.NTH.Day7.Rep3\n",
      "13C.NTH.Day7.Rep1_5\t13C.NTH.Day7.Rep1\n",
      "13X.PTH.Day3.Rep2_6\t13X.PTH.Day3.Rep2\n",
      "12C.PTH.Day7.Rep3_13\t12C.PTH.Day7.Rep3\n",
      "12C.PTH.Day7.Rep2_18\t12C.PTH.Day7.Rep2\n",
      "13C.PTH.Day3.Rep2_23\t13C.PTH.Day3.Rep2\n",
      "12C.PTH.Day7.Rep2_24\t12C.PTH.Day7.Rep2\n",
      "13X.NTH.Day3.Rep4_25\t13X.NTH.Day3.Rep4\n",
      "13X.NTH.Day14.Rep1_26\t13X.NTH.Day14.Rep1\n",
      "13X.PTH.Day1.Rep2_29\t13X.PTH.Day1.Rep2\n"
     ]
    }
   ],
   "source": [
    "%%bash\n",
    "bioawk -c fastx '{print $name}' data/tmp/maxee2.0.noN.fasta | \\\n",
    "awk -F\"_\" 'BEGIN{OFS=\"\\t\"}{print $0, $1}' > data/group_file.txt\n",
    "head data/group_file.txt"
   ]
  },
  {
   "cell_type": "code",
   "execution_count": 3,
   "metadata": {
    "collapsed": false
   },
   "outputs": [],
   "source": [
    "!mkdir -p /home/chantal/RNASIP/data/tmp/db"
   ]
  },
  {
   "cell_type": "code",
   "execution_count": 8,
   "metadata": {
    "collapsed": false
   },
   "outputs": [],
   "source": [
    "%%bash\n",
    "if ! [ -e /home/chantal/RNASIP/data/silva_ref_aln_mothur.fasta ]; then\n",
    "    curl -o /home/chantal/RNASIP/data/tmp/db/silva_B.zip http://www.mothur.org/w/images/9/98/Silva.bacteria.zip && unzip data/tmp/db/silva_B.zip\n",
    "    curl -o /home/chantal/RNASIP/data/tmp/db/silva_E.zip http://www.mothur.org/w/images/1/1a/Silva.eukarya.zip && unzip data/tmp/db/silva_E.zip\n",
    "    curl -o /home/chantal/RNASIP/data/tmp/db/silva_A.zip http://www.mothur.org/w/images/3/3c/Silva.archaea.zip && unzip data/tmp/db/silva_A.zip\n",
    "fi"
   ]
  },
  {
   "cell_type": "code",
   "execution_count": 11,
   "metadata": {
    "collapsed": false
   },
   "outputs": [],
   "source": [
    "%%bash\n",
    "if ! [ -e /home/chantal/RNASIP/data/silva_ref_aln_mothur.fasta ]; then\n",
    "    cat /home/chantal/RNASIP/data/tmp/db/silva.bacteria/silva.bacteria.fasta \\\n",
    "    /home/chantal/RNASIP/data/tmp/db/silva.eukarya/silva.eukarya.fasta \\\n",
    "    /home/chantal/RNASIP/data/tmp/db/Silva.archaea/silva.archaea.fasta \\\n",
    "    > /home/chantal/RNASIP/data/silva_ref_aln_mothur.fasta\n",
    "fi"
   ]
  },
  {
   "cell_type": "code",
   "execution_count": 8,
   "metadata": {
    "collapsed": false
   },
   "outputs": [],
   "source": [
    "%%bash\n",
    "mothur \"#filter.seqs(vertical=t, \\\n",
    "fasta=/home/chantal/RNASIP/data/silva_ref_aln_mothur.fasta, \\\n",
    "processors=10)\" > /dev/null"
   ]
  },
  {
   "cell_type": "code",
   "execution_count": null,
   "metadata": {
    "collapsed": false
   },
   "outputs": [],
   "source": [
    "%%bash\n",
    "ionice -c2 -n3 \\\n",
    "mothur \"#align.seqs(candidate=data/tmp/maxee2.0.noN.unique.fasta, \\\n",
    "template=/home/chantal/RNASIP/data/tmp/db/silva_ref_aln_mothur.fasta, \\\n",
    "processors=15, \\\n",
    "flip=T)\" > /dev/null"
   ]
  },
  {
   "cell_type": "markdown",
   "metadata": {},
   "source": [
    "#### We can filter out vertical gaps..."
   ]
  },
  {
   "cell_type": "code",
   "execution_count": null,
   "metadata": {
    "collapsed": false
   },
   "outputs": [],
   "source": [
    "%%bash\n",
    "mothur \"#filter.seqs(vertical=t, \\\n",
    "fasta=data/tmp/maxee2.0.noN.unique.align, \\\n",
    "processors=10)\" > /dev/null"
   ]
  },
  {
   "cell_type": "markdown",
   "metadata": {},
   "source": [
    "### Here is what our seqs look like."
   ]
  },
  {
   "cell_type": "code",
   "execution_count": 16,
   "metadata": {
    "collapsed": false
   },
   "outputs": [
    {
     "name": "stdout",
     "output_type": "stream",
     "text": [
      "\u001b[H\u001b[2J\n",
      "\n",
      "\n",
      "\n",
      "\n",
      "\n",
      "mothur v.1.32.1\n",
      "Last updated: 10/16/2013\n",
      "\n",
      "by\n",
      "Patrick D. Schloss\n",
      "\n",
      "Department of Microbiology & Immunology\n",
      "University of Michigan\n",
      "pschloss@umich.edu\n",
      "http://www.mothur.org\n",
      "\n",
      "When using, please cite:\n",
      "Schloss, P.D., et al., Introducing mothur: Open-source, platform-independent, community-supported software for describing and comparing microbial communities. Appl Environ Microbiol, 2009. 75(23):7537-41.\n",
      "\n",
      "Distributed under the GNU General Public License\n",
      "\n",
      "Type 'help()' for information on the commands that are available\n",
      "\n",
      "Type 'quit()' to exit program\n",
      "\n",
      "\n",
      "\n",
      "mothur > summary.seqs(fasta=data/tmp/maxee2.0.noN.unique.filter.fasta, processors=20, name=data/tmp/maxee2.0.noN.names)\n",
      "\n",
      "Using 20 processors.\n",
      "\n",
      "Using 20 processors.\n",
      "\n",
      "Using 20 processors.\n",
      "\n",
      "Using 20 processors.\n",
      "\n",
      "Using 20 processors.\n",
      "\n",
      "Using 20 processors.\n",
      "\n",
      "Using 20 processors.\n",
      "\n",
      "Using 20 processors.\n",
      "\n",
      "Using 20 processors.\n",
      "\n",
      "Using 20 processors.\n",
      "\n",
      "Using 20 processors.\n",
      "\n",
      "Using 20 processors.\n",
      "\n",
      "Using 20 processors.\n",
      "\n",
      "Using 20 processors.\n",
      "\n",
      "Using 20 processors.\n",
      "\n",
      "Using 20 processors.\n",
      "\n",
      "Using 20 processors.\n",
      "\n",
      "Using 20 processors.\n",
      "\n",
      "Using 20 processors.\n",
      "\n",
      "Using 20 processors.\n",
      "\n",
      "\t\tStart\tEnd\tNBases\tAmbigs\tPolymer\tNumSeqs\n",
      "Minimum:\t0\t0\t0\t0\t1\t1\n",
      "2.5%-tile:\t236\t1621\t370\t0\t4\t76549\n",
      "25%-tile:\t236\t1621\t372\t0\t4\t765481\n",
      "Median: \t236\t1621\t373\t0\t5\t1530961\n",
      "75%-tile:\t236\t1621\t374\t0\t6\t2296441\n",
      "97.5%-tile:\t236\t1621\t375\t0\t8\t2985373\n",
      "Maximum:\t2021\t2021\t439\t0\t139\t3061920\n",
      "Mean:\t236.594\t1620.85\t372.929\t0\t5.27074\n",
      "# of unique seqs:\t2783092\n",
      "total # of seqs:\t3061920\n",
      "\n",
      "Output File Names: \n",
      "data/tmp/maxee2.0.noN.unique.filter.summary\n",
      "\n",
      "\n",
      "mothur > quit()\n"
     ]
    }
   ],
   "source": [
    "%%bash\n",
    "mothur \"#summary.seqs(fasta=data/tmp/maxee2.0.noN.unique.filter.fasta, \\\n",
    "processors=20, \\\n",
    "name=data/tmp/maxee2.0.noN.names)\" "
   ]
  },
  {
   "cell_type": "markdown",
   "metadata": {},
   "source": [
    "### Removing homopolymers (larger than 8) and screen out sequences that don't align to amplicon region"
   ]
  },
  {
   "cell_type": "code",
   "execution_count": 17,
   "metadata": {
    "collapsed": false
   },
   "outputs": [],
   "source": [
    "%%bash\n",
    "\n",
    "mothur \"#screen.seqs(fasta=data/tmp/maxee2.0.noN.unique.filter.fasta, \\\n",
    "processors=10, \\\n",
    "name=data/tmp/maxee2.0.noN.names, \\\n",
    "group=data/group_file.txt, \\\n",
    "start=236, \\\n",
    "end=1621, \\\n",
    "maxhomop=8, minlength=370)\" > /dev/null"
   ]
  },
  {
   "cell_type": "code",
   "execution_count": 18,
   "metadata": {
    "collapsed": false
   },
   "outputs": [],
   "source": [
    "%%bash\n",
    "\n",
    "mothur \"#filter.seqs(fasta=data/tmp/maxee2.0.noN.unique.filter.good.fasta, \\\n",
    "processors=10, \\\n",
    "vertical=T)\" > /dev/null"
   ]
  },
  {
   "cell_type": "code",
   "execution_count": 20,
   "metadata": {
    "collapsed": false
   },
   "outputs": [
    {
     "name": "stdout",
     "output_type": "stream",
     "text": [
      "\u001b[H\u001b[2J\n",
      "\n",
      "\n",
      "\n",
      "\n",
      "\n",
      "mothur v.1.32.1\n",
      "Last updated: 10/16/2013\n",
      "\n",
      "by\n",
      "Patrick D. Schloss\n",
      "\n",
      "Department of Microbiology & Immunology\n",
      "University of Michigan\n",
      "pschloss@umich.edu\n",
      "http://www.mothur.org\n",
      "\n",
      "When using, please cite:\n",
      "Schloss, P.D., et al., Introducing mothur: Open-source, platform-independent, community-supported software for describing and comparing microbial communities. Appl Environ Microbiol, 2009. 75(23):7537-41.\n",
      "\n",
      "Distributed under the GNU General Public License\n",
      "\n",
      "Type 'help()' for information on the commands that are available\n",
      "\n",
      "Type 'quit()' to exit program\n",
      "\n",
      "\n",
      "\n",
      "mothur > summary.seqs(fasta=data/tmp/maxee2.0.noN.unique.filter.good.filter.fasta, name=data/tmp/maxee2.0.noN.names)\n",
      "\n",
      "Using 1 processors.\n",
      "\n",
      "\t\tStart\tEnd\tNBases\tAmbigs\tPolymer\tNumSeqs\n",
      "Minimum:\t1\t1193\t370\t0\t3\t1\n",
      "2.5%-tile:\t58\t1193\t370\t0\t4\t74438\n",
      "25%-tile:\t58\t1193\t372\t0\t4\t744372\n",
      "Median: \t58\t1193\t373\t0\t5\t1488743\n",
      "75%-tile:\t58\t1193\t374\t0\t6\t2233114\n",
      "97.5%-tile:\t58\t1193\t375\t0\t8\t2903048\n",
      "Maximum:\t58\t1271\t439\t0\t8\t2977485\n",
      "Mean:\t57.9989\t1193.02\t373.193\t0\t5.21663\n",
      "# of unique seqs:\t2704246\n",
      "total # of seqs:\t2977485\n",
      "\n",
      "Output File Names: \n",
      "data/tmp/maxee2.0.noN.unique.filter.good.filter.summary\n",
      "\n",
      "\n",
      "mothur > quit()\n"
     ]
    }
   ],
   "source": [
    "%%bash\n",
    "\n",
    "mothur \"#summary.seqs(fasta=data/tmp/maxee2.0.noN.unique.filter.good.filter.fasta, \\\n",
    "name=data/tmp/maxee2.0.noN.names)\""
   ]
  },
  {
   "cell_type": "markdown",
   "metadata": {},
   "source": [
    "# Chimera Checking w Uchime (when assigning OTUs- in other notebook)"
   ]
  },
  {
   "cell_type": "markdown",
   "metadata": {},
   "source": [
    "#### Expand data, remove gaps, and copy into data directory"
   ]
  },
  {
   "cell_type": "code",
   "execution_count": 22,
   "metadata": {
    "collapsed": false
   },
   "outputs": [
    {
     "name": "stdout",
     "output_type": "stream",
     "text": [
      "\u001b[H\u001b[2J\n",
      "\n",
      "\n",
      "\n",
      "\n",
      "\n",
      "mothur v.1.32.1\n",
      "Last updated: 10/16/2013\n",
      "\n",
      "by\n",
      "Patrick D. Schloss\n",
      "\n",
      "Department of Microbiology & Immunology\n",
      "University of Michigan\n",
      "pschloss@umich.edu\n",
      "http://www.mothur.org\n",
      "\n",
      "When using, please cite:\n",
      "Schloss, P.D., et al., Introducing mothur: Open-source, platform-independent, community-supported software for describing and comparing microbial communities. Appl Environ Microbiol, 2009. 75(23):7537-41.\n",
      "\n",
      "Distributed under the GNU General Public License\n",
      "\n",
      "Type 'help()' for information on the commands that are available\n",
      "\n",
      "Type 'quit()' to exit program\n",
      "\n",
      "\n",
      "\n",
      "mothur > deunique.seqs(fasta=data/tmp/maxee2.0.noN.unique.filter.good.filter.fasta, name=data/tmp/maxee2.0.noN.good.names)\n",
      "\n",
      "Output File Names: \n",
      "data/tmp/maxee2.0.noN.redundant.fasta\n",
      "\n",
      "\n",
      "mothur > quit()\n"
     ]
    }
   ],
   "source": [
    "%%bash\n",
    "mothur \"#deunique.seqs(fasta=data/tmp/maxee2.0.noN.unique.filter.good.filter.fasta, \\\n",
    "name=data/tmp/maxee2.0.noN.good.names)\" "
   ]
  },
  {
   "cell_type": "code",
   "execution_count": 23,
   "metadata": {
    "collapsed": false
   },
   "outputs": [],
   "source": [
    "!sed '/>/! s/-//g;/>/! s/\\.//g' data/tmp/maxee2.0.noN.redundant.fasta > data/finalQC.fasta"
   ]
  },
  {
   "cell_type": "code",
   "execution_count": 24,
   "metadata": {
    "collapsed": false
   },
   "outputs": [
    {
     "name": "stdout",
     "output_type": "stream",
     "text": [
      ">13X.NTH.Day7.Rep3_0\r\n",
      "TACGTAGGTGGCAAGCGTTATCCGGAATTACTGGGCGTAAAGCGCACGTAGGCGGCTTTGTAAGTCAGAGGTGAAAGCCTGGAGCTCAACTCCAGAACTGCCTTTGAGACTGCATCGCTTGAATCCAGGAGAGGTGAGTGGAATTCCGAGTGTAGAGGTGAAATTCGTAGCTATTCGGAAGAACACCAGTGGCGAAGGCGGCTCACTGGACTGGTATTGCCGCTGAGGTGCGAAAGCGTGGGGAGCAAACAGGATTAGATACCCTGGTAGTCCACGCCGTAAACGATGATAACTAGCTGTCCGGGCACTTGGTGCTTGGGTGGCGCAGCTAACGCATTAAGTTATCCGCCTGGGGAGTACGGTCGCAAGGTTG\r\n",
      ">13C.NTH.Day7.Rep1_5\r\n",
      "TACGAAGGGGGCTAGCGTTGTTCGGAATTACTGGGCGTAAAGCGCACGTAGGCGGATATTTAAGTCAGGGGTGAAATCCCAGAGCTCAACTCTGGAACTGCCTTTGATACTGGGTATCTCGAGTATGGAAGAGGTGAGTGGAATTCCGGGTGTAGAGGTGAAATTCGTAGATATTCGGAGGAACACCAGTGGCGAAGGCGGCTCACTGGTCCATTACTGACGCTGAGGTGCGAAAGCGTGGGGAGCAAACGGGATTAGATACCCTGGTAGTCCACGCCGTAAACGATGAATGTTAGCCGTCGGCATGCATGCATGTCGGTGGCGCAGCTAACGCATTAAACATTCCGCCTGGGGAGTACGGTCGCAAGATTG\r\n",
      ">13X.PTH.Day3.Rep2_6\r\n",
      "TACGGAGGGGGCTAGCGTTGTTCGGAATTACTGGGCGTAAAGCGCGCGTAGGCGGCTTTGTAAGTTAGAGGTGAAAGCCCGGAGCTCAACTCCGGAATTGCCTTTAAGACTGCATCGCTAGAATCATGGAGAGGGGAGTGGAATTCCGAGTGTAGAGGTGAAATTCGTAGATATTCGGAAGAACAACAGTGGCGAAGGCGACTCACTGGACATGTATTGACGCTGAGGTGCGAAAGCGTGGGGAGCAAACAGGATTAGATGCCCTGGTAGTCCACGCCGTAAACGATGATGACTAGCTGGCGGGGCTCTTGGAGTTTCGGTGGCGCAGCTAACGCGTTAAGTCATCCGCCTGGGGAGTACGGTCGCAAGATTG\r\n",
      ">12C.PTH.Day7.Rep3_13\r\n",
      "TACGTAGGGTGCAAGCGTTAATCGGAATTACTGGGCGTAAAGCGTGCGCAGGCGGTTTTGTAAGTCTGATGTGAAAGCCCCGGGCTCAACCTGGGAACTGCGTTTGGAACTACAAGACTTGAGTGTGTCAGAGGGGGGTGGAATTCCGCGTGTAGCGGTGAAATGCGTAGAGATGCGGAGGAACACCGATGGCGAAGGCAGCCCCCTGGGCTAACACTGACGCTCATGCACGAAAGCGTGGGGAGCAAACAGGATTAGATACCCTGGTAGTCCACGCCCTAAACGATGTCAATTAGCTGTTGGGGGTTAGAATCCTTGGTAGCGTAGCTAACGCGGGAAATTGACCGCCTGGGGAGTACGGCCGCAAGGTTG\r\n",
      ">12C.PTH.Day7.Rep2_18\r\n",
      "TACGAAGGGGGCTAGCGTTGTTCGGAATTACTGGGCGTAAAGGGCGCGTAGGCGGTACTTCAAGTCAGGCGTGAAAGCCCCGGGCTCAACCTGGGAACTGCGCTTGAGACTGGAGAACTAGAGTTCGGGAGAGGATGGTGGAATTCCCAGTGTAGAGGTGAAATTCGTAGATATTGGGAAGAACACCGATGGCGAAGGCAGCCATCTGGACGGACACTGACGCTGAGGCGCGAAAGCGTGGGGAGCAAACAGGATTAGATGCCCTGGTGGTCCACGCCGTAAACGATGAGTGCTAGGCGTTGGGGCCCTTAGGGCTTCGGTGTCGCAGCTAACGCATTAAGCACTCCGCCTGGGGAGTACGGCCGCAAGGTTG\r\n"
     ]
    }
   ],
   "source": [
    "!head data/finalQC.fasta"
   ]
  },
  {
   "cell_type": "markdown",
   "metadata": {},
   "source": [
    "#### Total Number of QC'd sequences"
   ]
  },
  {
   "cell_type": "code",
   "execution_count": 25,
   "metadata": {
    "collapsed": false
   },
   "outputs": [
    {
     "name": "stdout",
     "output_type": "stream",
     "text": [
      "2977485\r\n"
     ]
    }
   ],
   "source": [
    "!grep -c \">\" data/finalQC.fasta"
   ]
  }
 ],
 "metadata": {
  "kernelspec": {
   "display_name": "Python 2",
   "language": "python",
   "name": "python2"
  },
  "language_info": {
   "codemirror_mode": {
    "name": "ipython",
    "version": 2
   },
   "file_extension": ".py",
   "mimetype": "text/x-python",
   "name": "python",
   "nbconvert_exporter": "python",
   "pygments_lexer": "ipython2",
   "version": "2.7.9"
  }
 },
 "nbformat": 4,
 "nbformat_minor": 0
}
