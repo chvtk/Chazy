{
 "cells": [
  {
   "cell_type": "code",
   "execution_count": 1,
   "metadata": {
    "collapsed": false
   },
   "outputs": [],
   "source": [
    "# Imports a parser from cogent\n",
    "from cogent.parse.fasta import MinimalFastaParser as parse"
   ]
  },
  {
   "cell_type": "code",
   "execution_count": 2,
   "metadata": {
    "collapsed": false
   },
   "outputs": [],
   "source": [
    "# applies for the whole segment\n",
    "nprocs = 10"
   ]
  },
  {
   "cell_type": "code",
   "execution_count": 3,
   "metadata": {
    "collapsed": false
   },
   "outputs": [
    {
     "name": "stdout",
     "output_type": "stream",
     "text": [
      ">13X.NTH.Day7.Rep3_0\r\n",
      "TACGTAGGTGGCAAGCGTTATCCGGAATTACTGGGCGTAAAGCGCACGTAGGCGGCTTTGTAAGTCAGAGGTGAAAGCCTGGAGCTCAACTCCAGAACTGCCTTTGAGACTGCATCGCTTGAATCCAGGAGAGGTGAGTGGAATTCCGAGTGTAGAGGTGAAATTCGTAGCTATTCGGAAGAACACCAGTGGCGAAGGCGGCTCACTGGACTGGTATTGCCGCTGAGGTGCGAAAGCGTGGGGAGCAAACAGGATTAGATACCCTGGTAGTCCACGCCGTAAACGATGATAACTAGCTGTCCGGGCACTTGGTGCTTGGGTGGCGCAGCTAACGCATTAAGTTATCCGCCTGGGGAGTACGGTCGCAAGGTTG\r\n",
      ">13C.NTH.Day7.Rep1_5\r\n",
      "TACGAAGGGGGCTAGCGTTGTTCGGAATTACTGGGCGTAAAGCGCACGTAGGCGGATATTTAAGTCAGGGGTGAAATCCCAGAGCTCAACTCTGGAACTGCCTTTGATACTGGGTATCTCGAGTATGGAAGAGGTGAGTGGAATTCCGGGTGTAGAGGTGAAATTCGTAGATATTCGGAGGAACACCAGTGGCGAAGGCGGCTCACTGGTCCATTACTGACGCTGAGGTGCGAAAGCGTGGGGAGCAAACGGGATTAGATACCCTGGTAGTCCACGCCGTAAACGATGAATGTTAGCCGTCGGCATGCATGCATGTCGGTGGCGCAGCTAACGCATTAAACATTCCGCCTGGGGAGTACGGTCGCAAGATTG\r\n",
      ">13X.PTH.Day3.Rep2_6\r\n",
      "TACGGAGGGGGCTAGCGTTGTTCGGAATTACTGGGCGTAAAGCGCGCGTAGGCGGCTTTGTAAGTTAGAGGTGAAAGCCCGGAGCTCAACTCCGGAATTGCCTTTAAGACTGCATCGCTAGAATCATGGAGAGGGGAGTGGAATTCCGAGTGTAGAGGTGAAATTCGTAGATATTCGGAAGAACAACAGTGGCGAAGGCGACTCACTGGACATGTATTGACGCTGAGGTGCGAAAGCGTGGGGAGCAAACAGGATTAGATGCCCTGGTAGTCCACGCCGTAAACGATGATGACTAGCTGGCGGGGCTCTTGGAGTTTCGGTGGCGCAGCTAACGCGTTAAGTCATCCGCCTGGGGAGTACGGTCGCAAGATTG\r\n",
      ">12C.PTH.Day7.Rep3_13\r\n",
      "TACGTAGGGTGCAAGCGTTAATCGGAATTACTGGGCGTAAAGCGTGCGCAGGCGGTTTTGTAAGTCTGATGTGAAAGCCCCGGGCTCAACCTGGGAACTGCGTTTGGAACTACAAGACTTGAGTGTGTCAGAGGGGGGTGGAATTCCGCGTGTAGCGGTGAAATGCGTAGAGATGCGGAGGAACACCGATGGCGAAGGCAGCCCCCTGGGCTAACACTGACGCTCATGCACGAAAGCGTGGGGAGCAAACAGGATTAGATACCCTGGTAGTCCACGCCCTAAACGATGTCAATTAGCTGTTGGGGGTTAGAATCCTTGGTAGCGTAGCTAACGCGGGAAATTGACCGCCTGGGGAGTACGGCCGCAAGGTTG\r\n",
      ">12C.PTH.Day7.Rep2_18\r\n",
      "TACGAAGGGGGCTAGCGTTGTTCGGAATTACTGGGCGTAAAGGGCGCGTAGGCGGTACTTCAAGTCAGGCGTGAAAGCCCCGGGCTCAACCTGGGAACTGCGCTTGAGACTGGAGAACTAGAGTTCGGGAGAGGATGGTGGAATTCCCAGTGTAGAGGTGAAATTCGTAGATATTGGGAAGAACACCGATGGCGAAGGCAGCCATCTGGACGGACACTGACGCTGAGGCGCGAAAGCGTGGGGAGCAAACAGGATTAGATGCCCTGGTGGTCCACGCCGTAAACGATGAGTGCTAGGCGTTGGGGCCCTTAGGGCTTCGGTGTCGCAGCTAACGCATTAAGCACTCCGCCTGGGGAGTACGGCCGCAAGGTTG\r\n"
     ]
    }
   ],
   "source": [
    "# Checking out data file.\n",
    "# This file was created using the QC_basic notebook.\n",
    "!head data/finalQC.fasta"
   ]
  },
  {
   "cell_type": "code",
   "execution_count": 4,
   "metadata": {
    "collapsed": false
   },
   "outputs": [],
   "source": [
    "%%bash\n",
    "# Running the seq separation on mothur instead\n",
    "\n",
    "mothur \"#unique.seqs(fasta=data/finalQC.fasta)\" > /dev/null"
   ]
  },
  {
   "cell_type": "code",
   "execution_count": 5,
   "metadata": {
    "collapsed": false
   },
   "outputs": [],
   "source": [
    "# Making a dictionary of the names files, splitting it into the first (ID) and second (commas list of all seqs in it)\n",
    "# Then it counts their lengths and saves it in the dictionary\n",
    "\n",
    "counts = {}\n",
    "\n",
    "with open(\"data/finalQC.names\") as f:\n",
    "    for line in f:\n",
    "        seedID, seqIDs = line.split(\"\\t\")\n",
    "        count = len(seqIDs.split(\",\"))\n",
    "        counts[seedID] = count        "
   ]
  },
  {
   "cell_type": "code",
   "execution_count": 6,
   "metadata": {
    "collapsed": false
   },
   "outputs": [],
   "source": [
    "# Adds the counts from this dictionary to our finalQC.unique file so it looks like a usearch file with \"size=XXX\"\n",
    "\n",
    "with open(\"data/finalQC.unique.usearch_names.fasta\", \"w\") as f:\n",
    "    for n, s in parse(open(\"data/finalQC.unique.fasta\")):\n",
    "        f.write(\">%s;size=%s;\\n%s\\n\"%(n,counts[n],s))  "
   ]
  },
  {
   "cell_type": "code",
   "execution_count": 7,
   "metadata": {
    "collapsed": false
   },
   "outputs": [
    {
     "name": "stdout",
     "output_type": "stream",
     "text": [
      ">13X.NTH.Day7.Rep3_0;size=1;\r\n",
      "TACGTAGGTGGCAAGCGTTATCCGGAATTACTGGGCGTAAAGCGCACGTAGGCGGCTTTGTAAGTCAGAGGTGAAAGCCTGGAGCTCAACTCCAGAACTGCCTTTGAGACTGCATCGCTTGAATCCAGGAGAGGTGAGTGGAATTCCGAGTGTAGAGGTGAAATTCGTAGCTATTCGGAAGAACACCAGTGGCGAAGGCGGCTCACTGGACTGGTATTGCCGCTGAGGTGCGAAAGCGTGGGGAGCAAACAGGATTAGATACCCTGGTAGTCCACGCCGTAAACGATGATAACTAGCTGTCCGGGCACTTGGTGCTTGGGTGGCGCAGCTAACGCATTAAGTTATCCGCCTGGGGAGTACGGTCGCAAGGTTG\r\n",
      ">13C.NTH.Day7.Rep1_5;size=1;\r\n",
      "TACGAAGGGGGCTAGCGTTGTTCGGAATTACTGGGCGTAAAGCGCACGTAGGCGGATATTTAAGTCAGGGGTGAAATCCCAGAGCTCAACTCTGGAACTGCCTTTGATACTGGGTATCTCGAGTATGGAAGAGGTGAGTGGAATTCCGGGTGTAGAGGTGAAATTCGTAGATATTCGGAGGAACACCAGTGGCGAAGGCGGCTCACTGGTCCATTACTGACGCTGAGGTGCGAAAGCGTGGGGAGCAAACGGGATTAGATACCCTGGTAGTCCACGCCGTAAACGATGAATGTTAGCCGTCGGCATGCATGCATGTCGGTGGCGCAGCTAACGCATTAAACATTCCGCCTGGGGAGTACGGTCGCAAGATTG\r\n",
      ">13X.PTH.Day3.Rep2_6;size=1;\r\n",
      "TACGGAGGGGGCTAGCGTTGTTCGGAATTACTGGGCGTAAAGCGCGCGTAGGCGGCTTTGTAAGTTAGAGGTGAAAGCCCGGAGCTCAACTCCGGAATTGCCTTTAAGACTGCATCGCTAGAATCATGGAGAGGGGAGTGGAATTCCGAGTGTAGAGGTGAAATTCGTAGATATTCGGAAGAACAACAGTGGCGAAGGCGACTCACTGGACATGTATTGACGCTGAGGTGCGAAAGCGTGGGGAGCAAACAGGATTAGATGCCCTGGTAGTCCACGCCGTAAACGATGATGACTAGCTGGCGGGGCTCTTGGAGTTTCGGTGGCGCAGCTAACGCGTTAAGTCATCCGCCTGGGGAGTACGGTCGCAAGATTG\r\n",
      ">12C.PTH.Day7.Rep3_13;size=1;\r\n",
      "TACGTAGGGTGCAAGCGTTAATCGGAATTACTGGGCGTAAAGCGTGCGCAGGCGGTTTTGTAAGTCTGATGTGAAAGCCCCGGGCTCAACCTGGGAACTGCGTTTGGAACTACAAGACTTGAGTGTGTCAGAGGGGGGTGGAATTCCGCGTGTAGCGGTGAAATGCGTAGAGATGCGGAGGAACACCGATGGCGAAGGCAGCCCCCTGGGCTAACACTGACGCTCATGCACGAAAGCGTGGGGAGCAAACAGGATTAGATACCCTGGTAGTCCACGCCCTAAACGATGTCAATTAGCTGTTGGGGGTTAGAATCCTTGGTAGCGTAGCTAACGCGGGAAATTGACCGCCTGGGGAGTACGGCCGCAAGGTTG\r\n",
      ">12C.PTH.Day7.Rep2_18;size=1;\r\n",
      "TACGAAGGGGGCTAGCGTTGTTCGGAATTACTGGGCGTAAAGGGCGCGTAGGCGGTACTTCAAGTCAGGCGTGAAAGCCCCGGGCTCAACCTGGGAACTGCGCTTGAGACTGGAGAACTAGAGTTCGGGAGAGGATGGTGGAATTCCCAGTGTAGAGGTGAAATTCGTAGATATTGGGAAGAACACCGATGGCGAAGGCAGCCATCTGGACGGACACTGACGCTGAGGCGCGAAAGCGTGGGGAGCAAACAGGATTAGATGCCCTGGTGGTCCACGCCGTAAACGATGAGTGCTAGGCGTTGGGGCCCTTAGGGCTTCGGTGTCGCAGCTAACGCATTAAGCACTCCGCCTGGGGAGTACGGCCGCAAGGTTG\r\n"
     ]
    }
   ],
   "source": [
    "!head data/finalQC.unique.usearch_names.fasta"
   ]
  },
  {
   "cell_type": "code",
   "execution_count": 8,
   "metadata": {
    "collapsed": false
   },
   "outputs": [
    {
     "name": "stdout",
     "output_type": "stream",
     "text": [
      "1.2G\tdata/finalQC.fasta\r\n"
     ]
    }
   ],
   "source": [
    "# Chuck looking to see how many Gb this file is.\n",
    "!du -h data/finalQC.fasta"
   ]
  },
  {
   "cell_type": "code",
   "execution_count": 9,
   "metadata": {
    "collapsed": false
   },
   "outputs": [
    {
     "name": "stdout",
     "output_type": "stream",
     "text": [
      "usearch v7.0.1090_i86linux32, 4.0Gb RAM (132Gb total), 40 cores\n",
      "(C) Copyright 2013 Robert C. Edgar, all rights reserved.\n",
      "http://drive5.com/usearch\n",
      "\n",
      "Licensed to: chuck.peperanney@gmail.com\n",
      "\n",
      "00:04 1.2Gb  100.0% Reading data/finalQC.unique.usearch_names.fasta\n",
      "00:04 1.2Gb Getting sizes                                          \n",
      "00:07 1.2Gb Sorting 62982 sequences\n",
      "00:07 1.2Gb  100.0% Writing data/finalQC.unique_sorted.fasta\n"
     ]
    }
   ],
   "source": [
    "# Sequences are sorted by size\n",
    "# Here the size of clusters - we are excluding the singletons here\n",
    "# You would change minsize to 1 if you wanted to include singletons\n",
    "# Or, you know, just not do this step.\n",
    "# But you should just get rid of them.\n",
    "!usearch -sortbysize data/finalQC.unique.usearch_names.fasta -output data/finalQC.unique_sorted.fasta -minsize 2"
   ]
  },
  {
   "cell_type": "code",
   "execution_count": 10,
   "metadata": {
    "collapsed": false
   },
   "outputs": [
    {
     "name": "stdout",
     "output_type": "stream",
     "text": [
      ">12C.PTH.Day1.Rep4_4611;size=1821;\r\n",
      "TACGTAGGTGGCAAGCGTTGTCCGGAATTATTGGGCGTAAAGCGCGCGCAGGTGGTTCCTTAAGTCTGATGTGAAAGCCC\r\n",
      "ACGGCTCAACCGTGGAGGGTCATTGGAAACTGGGGAACTTGAGTGCAGAAGAGGAAAGTGGAATTCCAAGTGTAGCGGTG\r\n",
      "AAATGCGTAGAGATTTGGAGGAACACCAGTGGCGAAGGCGACTTTCTGGTCTGTAACTGACACTGAGGCGCGAAAGCGTG\r\n",
      "GGGAGCAAACAGGATTAGATACCCTGGTAGTCCACGCCGTAAACGATGAGTGCTAAGTGTTAGAGGGTTTCCGCCCTTTA\r\n",
      "GTGCTGCAGCTAACGCATTAAGCACTCCGCCTGGGGAGTACGGCCGCAAGGCTG\r\n",
      ">13C.PTH.Day14.Rep4_12341;size=1685;\r\n",
      "TACGTAGGGTGCAAGCGTTAATCGGAATTACTGGGCGTAAAGCGTGCGCAGGCGGTGATGTAAGACAGATGTGAAATCCC\r\n",
      "CGGGCTCAACCTGGGAACTGCATTTGTGACTGCATCGCTGGAGTGCGGCAGAGGGGGATGGAATTCCGCGTGTAGCAGTG\r\n",
      "AAATGCGTAGATATGCGGAGGAACACCGATGGCGAAGGCAATCCCCTGGGCCTGCACTGACGCTCATGCACGAAAGCGTG\r\n"
     ]
    }
   ],
   "source": [
    "# Checking data\n",
    "# You can see here, the first two sequences we saw above are now gone.\n",
    "!head data/finalQC.unique_sorted.fasta"
   ]
  },
  {
   "cell_type": "code",
   "execution_count": 11,
   "metadata": {
    "collapsed": false
   },
   "outputs": [
    {
     "name": "stdout",
     "output_type": "stream",
     "text": [
      "usearch v7.0.1090_i86linux32, 4.0Gb RAM (132Gb total), 40 cores\n",
      "(C) Copyright 2013 Robert C. Edgar, all rights reserved.\n",
      "http://drive5.com/usearch\n",
      "\n",
      "Licensed to: chuck.peperanney@gmail.com\n",
      "\n",
      "00:21  67Mb  100.0% 3676 OTUs\n",
      "                             \n",
      "Input seqs  62982 (63.0k)\n",
      "      OTUs  3676\n",
      "   Members  46975 (47.0k)\n",
      "  Chimeras  12331 (12.3k)\n",
      "   Max mem  67Mb\n",
      "      Time  21.0s\n",
      "Throughput  2999.1 seqs/sec.\n",
      "\n"
     ]
    }
   ],
   "source": [
    "# This is the clustering command.\n",
    "# Default is 97% minimum ID.\n",
    "# Not recommended to use more than 97%.\n",
    "# Creates the centroids, or \"seeds\"\n",
    "# Then you can take them out\n",
    "!usearch -cluster_otus data/finalQC.unique_sorted.fasta -otus data/otus.fasta"
   ]
  },
  {
   "cell_type": "code",
   "execution_count": 12,
   "metadata": {
    "collapsed": false
   },
   "outputs": [],
   "source": [
    "# Making another file\n",
    "# Figure this out (what is this?)\n",
    "# This is a script (fasta_number.py) that replaces fasta names with XXX1, XXX2, etc.\n",
    "# In our case, it is replacing the names with OTU.1, OTU.2, etc., and outputs it into a file called otusn.fasta\n",
    "!/opt/bioinfo/edgar_python_scripts/fasta_number.py data/otus.fasta OTU. > data/otusn.fasta"
   ]
  },
  {
   "cell_type": "code",
   "execution_count": 13,
   "metadata": {
    "collapsed": false
   },
   "outputs": [
    {
     "name": "stdout",
     "output_type": "stream",
     "text": [
      ">OTU.1\r\n",
      "TACGTAGGTGGCAAGCGTTGTCCGGAATTATTGGGCGTAAAGCgcgcgcAGGTGGTTCCTTAAGTCTGATGTGAAAGCCC\r\n",
      "ACGGCTCAACCGTGGAGGGTCATTGGAAACTGGGGAACTTGAGTGCAGAAGAGGAAAGTGGAATTCCAAGTGTAGCGGTG\r\n",
      "AAATGCGTAGAGATTTGGAGGAACACCAGTGGCGAAGGCGACTTTCTGGTCTGTAACTGACACTGAGGCGCGAAAGCGTG\r\n",
      "GGGAGCAAACAGGATTAGATACCCTGGTAGTCCACGCCGTAAACGATGAGTGCTAAGTGTTAGAGGGTTTCCGCCCTTTA\r\n",
      "GTGCTGCAGCTAACGCATTAAGCACTCCGCCTGGGGAGTACGGCCGCAAGGCTG\r\n",
      ">OTU.2\r\n",
      "TACGTAGGGTGCAAGCGTTAATCGGAATTACTGGGCGTAAAGCGTGCGCAGGCGGTGATGTAAGACAGATGTGAAATCCC\r\n",
      "CGGGCTCAACCTGGGAACTGCATTTGTGACTGCATCGCTGGAGTGCGGCAGAGGgggATGGAATTCCGCGTGTAGCAGTG\r\n",
      "AAATGCGTAGATATGCGGAGGAACACCGATGGCGAAGGCAATCCCCTGGGCCTGCACTGACGCTCATGCACGAAAGCGTG\r\n"
     ]
    }
   ],
   "source": [
    "!head data/otusn.fasta"
   ]
  },
  {
   "cell_type": "markdown",
   "metadata": {},
   "source": [
    "### Removing Chloroplast, Eukaryal, and Archaeal sequences"
   ]
  },
  {
   "cell_type": "code",
   "execution_count": 20,
   "metadata": {
    "collapsed": false
   },
   "outputs": [],
   "source": [
    "# You do need to assign taxonomy in order to pull out the Euks., etc.\n",
    "# I could cp these files from the server to wherever I need them.\n",
    "# Input is your fasta file\n",
    "# Output is a fasta with taxonomy assinged (still working with unique seqs)\n",
    "# This didn't work first, because Chuck had to delete a \"jobs\" folder in the tmp directory.\n",
    "\n",
    "!parallel_assign_taxonomy_uclust.py \\\n",
    "-r /home/chantal/RNASIP/data/databases/Silva_111_post/no_ambiguous_bases_files/97_Silva_111_rep_set_no_ambig.fasta \\\n",
    "-t /home/chantal/RNASIP/data/databases/Silva_111_post/taxonomy/Silva_111_taxa_map_full.txt \\\n",
    "-O 10 \\\n",
    "-i data/otusn.fasta \\\n",
    "-o data/otusn_tax"
   ]
  },
  {
   "cell_type": "code",
   "execution_count": 21,
   "metadata": {
    "collapsed": false
   },
   "outputs": [],
   "source": [
    "# This makes a file of what we want to remove\n",
    "# Could change this to pull out different groups.\n",
    "# These primers actually had good Archaeal targets - so, it would be okay to include them.\n",
    "!egrep \"Chloroplast|Eukaryota|Archaea|mitochondria\" \\\n",
    "data/otusn_tax/otusn_tax_assignments.txt \\\n",
    "| awk '{print $1}' > data/to_remove_tax.accnos"
   ]
  },
  {
   "cell_type": "code",
   "execution_count": 22,
   "metadata": {
    "collapsed": false
   },
   "outputs": [
    {
     "name": "stdout",
     "output_type": "stream",
     "text": [
      "39 data/to_remove_tax.accnos\r\n"
     ]
    }
   ],
   "source": [
    "# wc is number of lines of the taxa that will be removed\n",
    "!wc -l data/to_remove_tax.accnos"
   ]
  },
  {
   "cell_type": "code",
   "execution_count": 23,
   "metadata": {
    "collapsed": false
   },
   "outputs": [
    {
     "name": "stdout",
     "output_type": "stream",
     "text": [
      "OTU.151\r\n",
      "OTU.335\r\n",
      "OTU.293\r\n",
      "OTU.36\r\n",
      "OTU.329\r\n",
      "OTU.175\r\n",
      "OTU.58\r\n",
      "OTU.50\r\n",
      "OTU.256\r\n",
      "OTU.227\r\n"
     ]
    }
   ],
   "source": [
    "# Looking at what you're removing\n",
    "!head data/to_remove_tax.accnos"
   ]
  },
  {
   "cell_type": "code",
   "execution_count": 24,
   "metadata": {
    "collapsed": false
   },
   "outputs": [
    {
     "name": "stdout",
     "output_type": "stream",
     "text": [
      "\u001b[H\u001b[2J\n",
      "\n",
      "\n",
      "\n",
      "\n",
      "\n",
      "mothur v.1.32.1\n",
      "Last updated: 10/16/2013\n",
      "\n",
      "by\n",
      "Patrick D. Schloss\n",
      "\n",
      "Department of Microbiology & Immunology\n",
      "University of Michigan\n",
      "pschloss@umich.edu\n",
      "http://www.mothur.org\n",
      "\n",
      "When using, please cite:\n",
      "Schloss, P.D., et al., Introducing mothur: Open-source, platform-independent, community-supported software for describing and comparing microbial communities. Appl Environ Microbiol, 2009. 75(23):7537-41.\n",
      "\n",
      "Distributed under the GNU General Public License\n",
      "\n",
      "Type 'help()' for information on the commands that are available\n",
      "\n",
      "Type 'quit()' to exit program\n",
      "\n",
      "\n",
      "\n",
      "mothur > remove.seqs(fasta=data/otusn.fasta, accnos=data/to_remove_tax.accnos)\n",
      "Removed 39 sequences from your fasta file.\n",
      "\n",
      "Output File Names: \n",
      "data/otusn.pick.fasta\n",
      "\n",
      "\n",
      "mothur > quit()\n"
     ]
    }
   ],
   "source": [
    "%%bash\n",
    "# Remove.seqs command will actually remove these taxa\n",
    "mothur \"#remove.seqs(fasta=data/otusn.fasta, \\\n",
    "accnos=data/to_remove_tax.accnos)\" #> /dev/null"
   ]
  },
  {
   "cell_type": "markdown",
   "metadata": {},
   "source": [
    "### Mapping Reads"
   ]
  },
  {
   "cell_type": "code",
   "execution_count": 25,
   "metadata": {
    "collapsed": false
   },
   "outputs": [],
   "source": [
    "# Pulling out the sample identifier.\n",
    "# It is adding a portion to the finalQC file that has the barcode label.\n",
    "# Then we can use this later\n",
    "# Now we will see how these reads map to the defined centroids (after removing EuK, etc.)\n",
    "# Basically, we cut, cut, refined our fasta to make our OTU centroids.\n",
    "# THEN, we went back to our original QC'd total fasta file and will throw it all against these nicely defined seeds.\n",
    "# Anything that doesn't match, we won't keep.\n",
    "!awk -F\"_\" \\\n",
    "'BEGIN{OFS=\";\"}{ if ( substr($1,0,1) == \">\"){ print $0,\"barcodelabel=\",$1 } else { print $0 } }' \\\n",
    "data/finalQC.fasta | \\\n",
    "sed 's/;>//' > data/finalQC_usearchfmt.fasta"
   ]
  },
  {
   "cell_type": "code",
   "execution_count": 26,
   "metadata": {
    "collapsed": false
   },
   "outputs": [
    {
     "name": "stdout",
     "output_type": "stream",
     "text": [
      ">13X.NTH.Day7.Rep3_0;barcodelabel=13X.NTH.Day7.Rep3\r\n",
      "TACGTAGGTGGCAAGCGTTATCCGGAATTACTGGGCGTAAAGCGCACGTAGGCGGCTTTGTAAGTCAGAGGTGAAAGCCTGGAGCTCAACTCCAGAACTGCCTTTGAGACTGCATCGCTTGAATCCAGGAGAGGTGAGTGGAATTCCGAGTGTAGAGGTGAAATTCGTAGCTATTCGGAAGAACACCAGTGGCGAAGGCGGCTCACTGGACTGGTATTGCCGCTGAGGTGCGAAAGCGTGGGGAGCAAACAGGATTAGATACCCTGGTAGTCCACGCCGTAAACGATGATAACTAGCTGTCCGGGCACTTGGTGCTTGGGTGGCGCAGCTAACGCATTAAGTTATCCGCCTGGGGAGTACGGTCGCAAGGTTG\r\n",
      ">13C.NTH.Day7.Rep1_5;barcodelabel=13C.NTH.Day7.Rep1\r\n",
      "TACGAAGGGGGCTAGCGTTGTTCGGAATTACTGGGCGTAAAGCGCACGTAGGCGGATATTTAAGTCAGGGGTGAAATCCCAGAGCTCAACTCTGGAACTGCCTTTGATACTGGGTATCTCGAGTATGGAAGAGGTGAGTGGAATTCCGGGTGTAGAGGTGAAATTCGTAGATATTCGGAGGAACACCAGTGGCGAAGGCGGCTCACTGGTCCATTACTGACGCTGAGGTGCGAAAGCGTGGGGAGCAAACGGGATTAGATACCCTGGTAGTCCACGCCGTAAACGATGAATGTTAGCCGTCGGCATGCATGCATGTCGGTGGCGCAGCTAACGCATTAAACATTCCGCCTGGGGAGTACGGTCGCAAGATTG\r\n",
      ">13X.PTH.Day3.Rep2_6;barcodelabel=13X.PTH.Day3.Rep2\r\n",
      "TACGGAGGGGGCTAGCGTTGTTCGGAATTACTGGGCGTAAAGCGCGCGTAGGCGGCTTTGTAAGTTAGAGGTGAAAGCCCGGAGCTCAACTCCGGAATTGCCTTTAAGACTGCATCGCTAGAATCATGGAGAGGGGAGTGGAATTCCGAGTGTAGAGGTGAAATTCGTAGATATTCGGAAGAACAACAGTGGCGAAGGCGACTCACTGGACATGTATTGACGCTGAGGTGCGAAAGCGTGGGGAGCAAACAGGATTAGATGCCCTGGTAGTCCACGCCGTAAACGATGATGACTAGCTGGCGGGGCTCTTGGAGTTTCGGTGGCGCAGCTAACGCGTTAAGTCATCCGCCTGGGGAGTACGGTCGCAAGATTG\r\n",
      ">12C.PTH.Day7.Rep3_13;barcodelabel=12C.PTH.Day7.Rep3\r\n",
      "TACGTAGGGTGCAAGCGTTAATCGGAATTACTGGGCGTAAAGCGTGCGCAGGCGGTTTTGTAAGTCTGATGTGAAAGCCCCGGGCTCAACCTGGGAACTGCGTTTGGAACTACAAGACTTGAGTGTGTCAGAGGGGGGTGGAATTCCGCGTGTAGCGGTGAAATGCGTAGAGATGCGGAGGAACACCGATGGCGAAGGCAGCCCCCTGGGCTAACACTGACGCTCATGCACGAAAGCGTGGGGAGCAAACAGGATTAGATACCCTGGTAGTCCACGCCCTAAACGATGTCAATTAGCTGTTGGGGGTTAGAATCCTTGGTAGCGTAGCTAACGCGGGAAATTGACCGCCTGGGGAGTACGGCCGCAAGGTTG\r\n",
      ">12C.PTH.Day7.Rep2_18;barcodelabel=12C.PTH.Day7.Rep2\r\n",
      "TACGAAGGGGGCTAGCGTTGTTCGGAATTACTGGGCGTAAAGGGCGCGTAGGCGGTACTTCAAGTCAGGCGTGAAAGCCCCGGGCTCAACCTGGGAACTGCGCTTGAGACTGGAGAACTAGAGTTCGGGAGAGGATGGTGGAATTCCCAGTGTAGAGGTGAAATTCGTAGATATTGGGAAGAACACCGATGGCGAAGGCAGCCATCTGGACGGACACTGACGCTGAGGCGCGAAAGCGTGGGGAGCAAACAGGATTAGATGCCCTGGTGGTCCACGCCGTAAACGATGAGTGCTAGGCGTTGGGGCCCTTAGGGCTTCGGTGTCGCAGCTAACGCATTAAGCACTCCGCCTGGGGAGTACGGCCGCAAGGTTG\r\n"
     ]
    }
   ],
   "source": [
    "!head data/finalQC_usearchfmt.fasta"
   ]
  },
  {
   "cell_type": "code",
   "execution_count": 27,
   "metadata": {
    "collapsed": false
   },
   "outputs": [
    {
     "name": "stdout",
     "output_type": "stream",
     "text": [
      "usearch v7.0.1090_i86linux32, 4.0Gb RAM (132Gb total), 40 cores\n",
      "(C) Copyright 2013 Robert C. Edgar, all rights reserved.\n",
      "http://drive5.com/usearch\n",
      "\n",
      "Licensed to: chuck.peperanney@gmail.com\n",
      "\n",
      "00:00  19Mb Reading data/otusn.fasta, 1.4Mb\n",
      "00:00  20Mb 3676 seqs, min 370, avg 373, max 410nt\n",
      "00:00  20Mb  100.0% Masking\n",
      "00:00  21Mb  100.0% Word stats\n",
      "00:00  27Mb  100.0% Building slots\n",
      "00:00  27Mb  100.0% Build index\n",
      "00:45 175Mb  100.0% Searching, 40.4% matched\n"
     ]
    }
   ],
   "source": [
    "# This is where the actual OTUs are being assigned. We choose 97% sequence ID threshold here.\n",
    "# This might take a while - like 5 minutes\n",
    "# Depending ont he clustering algorithm, like pairwise... it would take, like, days on the same number of processors.\n",
    "# This is why usearch (centroid-based) is so much better\n",
    "# But is it more biologically relevant? ... maybe, maybe not.\n",
    "# Edgar is showing it's not that bad.\n",
    "\n",
    "# We take our total QC data (modified above to have the sample ID extracted)\n",
    "# We compare it to the otusn.pick.fasta database we made above\n",
    "# We produce a readmap.uc file which tells us how the reads from our finalQC file map to the otusn seed database.\n",
    "\n",
    "!usearch -usearch_global data/finalQC_usearchfmt.fasta \\\n",
    "-db data/otusn.fasta \\\n",
    "-strand plus -id 0.97 \\\n",
    "-uc data/readmap.uc \\\n",
    "-threads 15"
   ]
  },
  {
   "cell_type": "code",
   "execution_count": 28,
   "metadata": {
    "collapsed": false
   },
   "outputs": [
    {
     "name": "stdout",
     "output_type": "stream",
     "text": [
      "data/readmap.uc 100.0%   \n"
     ]
    }
   ],
   "source": [
    "# Makes an OTU table\n",
    "# It will tell me the OTU ID, and then for all the samples, which OTUs it has sequences from.\n",
    "!python /opt/bioinfo/edgar_python_scripts/uc2otutab.py data/readmap.uc > data/otu_table.txt"
   ]
  },
  {
   "cell_type": "code",
   "execution_count": 29,
   "metadata": {
    "collapsed": false
   },
   "outputs": [],
   "source": [
    "# Issues with biom table formatting\n",
    "!if [ -f data/otu_table.biom ]; then rm data/otu_table.biom; fi #This is to mitigate a biom bug\n",
    "!biom convert -i data/otu_table.txt -o data/otu_table.biom --table-type \"otu table\""
   ]
  },
  {
   "cell_type": "code",
   "execution_count": 30,
   "metadata": {
    "collapsed": false
   },
   "outputs": [],
   "source": [
    "# Issues with biom table formatting\n",
    "!if [ -f data/otu_table_summary.txt ]; then rm data/otu_table_summary.txt; fi #This is to mitigate a biom bug\n",
    "!biom summarize-table -i data/otu_table.biom -o data/otu_table_summary.txt"
   ]
  },
  {
   "cell_type": "code",
   "execution_count": 31,
   "metadata": {
    "collapsed": false
   },
   "outputs": [
    {
     "name": "stdout",
     "output_type": "stream",
     "text": [
      "Num samples: 112\r\n",
      "Num observations: 3676\r\n",
      "Total count: 1201884\r\n",
      "Table density (fraction of non-zero values): 0.310\r\n",
      "Table md5 (unzipped): 2c08138502078396f94ba12e05b75cc7\r\n",
      "\r\n",
      "Counts/sample summary:\r\n",
      " Min: 5687.0\r\n",
      " Max: 24329.0\r\n",
      " Median: 10519.500\r\n",
      " Mean: 10731.107\r\n",
      " Std. dev.: 2781.967\r\n",
      " Sample Metadata Categories: None provided\r\n",
      " Observation Metadata Categories: None provided\r\n",
      "\r\n",
      "Counts/sample detail:\r\n",
      " 13X.PTH.Day1.Rep4: 5687.0\r\n",
      " 12C.NTH.Day1.Rep1: 6472.0\r\n",
      " 13C.PTH.Day3.Rep4: 6616.0\r\n",
      " 13C.PTH.Day14.Rep1: 6941.0\r\n",
      " 13C.NTH.Day7.Rep2: 6979.0\r\n",
      " 13X.PTH.Day1.Rep3: 7114.0\r\n",
      " 13X.NTH.Day1.Rep3: 7244.0\r\n",
      " 12C.NTH.Day14.Rep4: 7339.0\r\n",
      " 13X.NTH.Day14.Rep4: 7504.0\r\n",
      " 13C.PTH.Day3.Rep3: 7522.0\r\n",
      " H2O.PTH.Rep1: 7533.0\r\n",
      " 12C.NTH.Day3.Rep1: 7625.0\r\n",
      " 13C.NTH.Day14.Rep4: 7781.0\r\n",
      " 12C.NTH.Day30.Rep4: 7794.0\r\n",
      " 12C.PTH.Day14.Rep4: 7848.0\r\n",
      " 13X.NTH.Day3.Rep2: 7876.0\r\n",
      " 13C.PTH.Day7.Rep1: 8130.0\r\n",
      " 12C.NTH.Day7.Rep1: 8285.0\r\n",
      " 13C.PTH.Day14.Rep3: 8306.0\r\n",
      " 13C.NTH.Day30.Rep3: 8374.0\r\n",
      " 12C.NTH.Day30.Rep2: 8399.0\r\n",
      " 12C.NTH.Day7.Rep2: 8421.0\r\n",
      " 13C.NTH.Day14.Rep2: 8482.0\r\n",
      " 13X.PTH.Day3.Rep2: 8540.0\r\n",
      " 13C.NTH.Day3.Rep4: 8610.0\r\n",
      " 12C.PTH.Day1.Rep3: 8616.0\r\n",
      " 12C.NTH.Day1.Rep3: 8704.0\r\n",
      " 13X.NTH.Day3.Rep1: 8756.0\r\n",
      " 13X.NTH.Day3.Rep4: 8912.0\r\n",
      " 12C.NTH.Day7.Rep3: 8952.0\r\n",
      " 13X.PTH.Day7.Rep1: 8956.0\r\n",
      " 12C.PTH.Day3.Rep2: 9008.0\r\n",
      " 13X.NTH.Day3.Rep3: 9033.0\r\n",
      " 12C.PTH.Day1.Rep1: 9072.0\r\n",
      " 13X.NTH.Day7.Rep2: 9128.0\r\n",
      " 12C.NTH.Day3.Rep2: 9341.0\r\n",
      " 13C.NTH.Day7.Rep3: 9353.0\r\n",
      " 13C.PTH.Day30.Rep3: 9432.0\r\n",
      " 13C.PTH.Day14.Rep2: 9468.0\r\n",
      " 12C.NTH.Day30.Rep3: 9482.0\r\n",
      " 12C.PTH.Day7.Rep2: 9485.0\r\n",
      " 13X.PTH.Day7.Rep4: 9505.0\r\n",
      " 12C.PTH.Day14.Rep2: 9535.0\r\n",
      " 12C.PTH.Day3.Rep1: 9565.0\r\n",
      " 12C.PTH.Day14.Rep3: 9702.0\r\n",
      " 13X.PTH.Day1.Rep2: 9705.0\r\n",
      " 13C.PTH.Day14.Rep4: 9712.0\r\n",
      " 13C.NTH.Day7.Rep4: 9737.0\r\n",
      " 12C.NTH.Day1.Rep4: 9752.0\r\n",
      " 13X.NTH.Day1.Rep4: 9764.0\r\n",
      " H2O.PTH.Rep3: 10123.0\r\n",
      " 13C.NTH.Day3.Rep1: 10157.0\r\n",
      " H2O.NTH.Rep2: 10171.0\r\n",
      " 13X.NTH.Day7.Rep1: 10233.0\r\n",
      " 12C.PTH.Day30.Rep2: 10316.0\r\n",
      " 12C.PTH.Day3.Rep4: 10510.0\r\n",
      " 13X.PTH.Day1.Rep1: 10529.0\r\n",
      " 13C.NTH.Day30.Rep4: 10552.0\r\n",
      " 13C.NTH.Day14.Rep3: 10682.0\r\n",
      " H2O.NTH.Rep1: 10684.0\r\n",
      " 13X.PTH.Day14.Rep3: 10783.0\r\n",
      " 13X.PTH.Day14.Rep2: 10799.0\r\n",
      " 13X.PTH.Day7.Rep2: 10811.0\r\n",
      " 12C.NTH.Day7.Rep4: 10851.0\r\n",
      " 12C.PTH.Day14.Rep1: 10886.0\r\n",
      " 13X.NTH.Day7.Rep3: 11128.0\r\n",
      " 13X.PTH.Day3.Rep4: 11156.0\r\n",
      " 13X.PTH.Day3.Rep3: 11169.0\r\n",
      " 13X.PTH.Day14.Rep4: 11214.0\r\n",
      " 13X.PTH.Day3.Rep1: 11265.0\r\n",
      " 12C.NTH.Day14.Rep1: 11288.0\r\n",
      " 12C.PTH.Day7.Rep1: 11297.0\r\n",
      " 13X.NTH.Day7.Rep4: 11459.0\r\n",
      " 12C.NTH.Day3.Rep3: 11549.0\r\n",
      " 13C.PTH.Day30.Rep1: 11581.0\r\n",
      " 13X.NTH.Day14.Rep3: 11717.0\r\n",
      " 12C.PTH.Day30.Rep3: 11758.0\r\n",
      " 12C.PTH.Day1.Rep4: 11781.0\r\n",
      " 13X.PTH.Day7.Rep3: 11822.0\r\n",
      " 12C.PTH.Day30.Rep4: 11829.0\r\n",
      " 13C.PTH.Day3.Rep1: 11863.0\r\n",
      " 13C.NTH.Day3.Rep2: 11871.0\r\n",
      " 13X.NTH.Day14.Rep2: 11875.0\r\n",
      " 13C.PTH.Day7.Rep2: 11878.0\r\n",
      " 13C.NTH.Day30.Rep1: 11933.0\r\n",
      " 13X.NTH.Day14.Rep1: 12039.0\r\n",
      " 12C.PTH.Day1.Rep2: 12097.0\r\n",
      " 13X.PTH.Day14.Rep1: 12174.0\r\n",
      " 13C.NTH.Day14.Rep1: 12285.0\r\n",
      " 13C.NTH.Day30.Rep2: 12328.0\r\n",
      " 13C.PTH.Day7.Rep4: 12422.0\r\n",
      " H2O.NTH.Rep3: 12564.0\r\n",
      " H2O.PTH.Rep2: 12682.0\r\n",
      " 13C.PTH.Day3.Rep2: 12958.0\r\n",
      " 13C.NTH.Day3.Rep3: 13094.0\r\n",
      " 13C.PTH.Day30.Rep4: 13322.0\r\n",
      " 13X.NTH.Day1.Rep1: 13344.0\r\n",
      " 12C.NTH.Day3.Rep4: 13384.0\r\n",
      " 12C.PTH.Day7.Rep4: 13502.0\r\n",
      " 12C.NTH.Day14.Rep2: 13512.0\r\n",
      " 12C.PTH.Day3.Rep3: 14210.0\r\n",
      " 12C.PTH.Day30.Rep1: 14221.0\r\n",
      " 13X.NTH.Day1.Rep2: 14330.0\r\n",
      " H2O.PTH.Rep4: 14476.0\r\n",
      " 13C.PTH.Day7.Rep3: 14824.0\r\n",
      " 12C.NTH.Day30.Rep1: 15146.0\r\n",
      " 12C.NTH.Day1.Rep2: 15376.0\r\n",
      " 13C.PTH.Day30.Rep2: 15463.0\r\n",
      " H2O.NTH.Rep4: 17233.0\r\n",
      " 12C.NTH.Day14.Rep3: 18040.0\r\n",
      " 13C.NTH.Day7.Rep1: 18912.0\r\n",
      " 12C.PTH.Day7.Rep3: 24329.0\r\n"
     ]
    }
   ],
   "source": [
    "# This tells us the overall data info\n",
    "# Num obs = OTUs\n",
    "# total count = total seqs\n",
    "# Chantal had 50% reduction after QC.\n",
    "\n",
    "!cat data/otu_table_summary.txt\n",
    "\n"
   ]
  }
 ],
 "metadata": {
  "kernelspec": {
   "display_name": "Python 2",
   "language": "python",
   "name": "python2"
  },
  "language_info": {
   "codemirror_mode": {
    "name": "ipython",
    "version": 2
   },
   "file_extension": ".py",
   "mimetype": "text/x-python",
   "name": "python",
   "nbconvert_exporter": "python",
   "pygments_lexer": "ipython2",
   "version": "2.7.9"
  }
 },
 "nbformat": 4,
 "nbformat_minor": 0
}
