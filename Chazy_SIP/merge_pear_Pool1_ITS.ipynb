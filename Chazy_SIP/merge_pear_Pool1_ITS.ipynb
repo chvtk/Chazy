{
 "cells": [
  {
   "cell_type": "code",
   "execution_count": 2,
   "metadata": {
    "collapsed": false
   },
   "outputs": [
    {
     "name": "stderr",
     "output_type": "stream",
     "text": [
      "/opt/anaconda/lib/python2.7/site-packages/mpltools/style/__init__.py:42: FutureWarning: \n",
      "\n",
      "    The style-sheet functionality in mpltools has been integrated into\n",
      "    Matplotlib >= 1.4. This module will be removed in a future release.\n",
      "\n",
      "    Note that style-sheets used by `matplotlib.style` use the standard\n",
      "    Matplotlib rc-file syntax instead of the INI format used by `mpltools`.\n",
      "    This mostly means un-quoting strings and changing '=' to ':'.\n",
      "\n",
      "\n",
      "  \"\"\", FutureWarning)\n"
     ]
    }
   ],
   "source": [
    "import screed\n",
    "import matplotlib.pyplot as plt\n",
    "from mpltools import style\n",
    "import numpy as np\n",
    "from mpld3 import enable_notebook\n",
    "%matplotlib inline"
   ]
  },
  {
   "cell_type": "code",
   "execution_count": 2,
   "metadata": {
    "collapsed": false
   },
   "outputs": [],
   "source": [
    "enable_notebook()"
   ]
  },
  {
   "cell_type": "code",
   "execution_count": 3,
   "metadata": {
    "collapsed": false
   },
   "outputs": [
    {
     "name": "stdout",
     "output_type": "stream",
     "text": [
      " ____  _____    _    ____ \n",
      "|  _ \\| ____|  / \\  |  _ \\\n",
      "| |_) |  _|   / _ \\ | |_) |\n",
      "|  __/| |___ / ___ \\|  _ <\n",
      "|_|   |_____/_/   \\_\\_| \\_\\\n",
      "\n",
      "PEAR v0.9.2 [March 26 2014]\n",
      "\n",
      "Citation - PEAR: a fast and accurate Illumina Paired-End reAd mergeR\n",
      "Zhang et al (2014) Bioinformatics 30(5): 614-620 | doi:10.1093/bioinformatics/btt593\n",
      "\n",
      "Forward reads file.................: /var/seq_data/Chazy/ITS_SIP/Pool1/Read1.fastq\n",
      "Reverse reads file.................: /var/seq_data/Chazy/ITS_SIP/Pool1/Read2.fastq\n",
      "PHRED..............................: 33\n",
      "Using empirical frequencies........: YES\n",
      "Statistical method.................: OES\n",
      "Maximum assembly length............: 999999\n",
      "Minimum assembly length............: 50\n",
      "p-value............................: 0.010000\n",
      "Quality score threshold (trimming).: 0\n",
      "Minimum read size after trimming...: 1\n",
      "Maximal ratio of uncalled bases....: 1.000000\n",
      "Minimum overlap....................: 10\n",
      "Scoring method.....................: Scaled score\n",
      "Threads............................: 10\n",
      "\n",
      "Allocating memory..................: 200,000,000 bytes\n",
      "Computing empirical frequencies....: DONE\n",
      "  A: 0.341228\n",
      "  C: 0.246588\n",
      "  G: 0.184605\n",
      "  T: 0.227579\n",
      "  2489608 uncalled bases\n",
      "Assemblying reads..................: [...........................................................................................................................................................]\n",
      "\n",
      "Assembled reads ...................: 9,385,952 / 10,813,608 (86.798%)\n",
      "Discarded reads ...................: 0 / 10,813,608 (0.000%)\n",
      "Not assembled reads ...............: 1,427,656 / 10,813,608 (13.202%)\n",
      "Assembled reads file...............: /var/seq_data/Chazy/ITS_SIP/Pool1/pear_merged_raw-2015-08-28.assembled.fastq\n",
      "Discarded reads file...............: /var/seq_data/Chazy/ITS_SIP/Pool1/pear_merged_raw-2015-08-28.discarded.fastq\n",
      "Unassembled forward reads file.....: /var/seq_data/Chazy/ITS_SIP/Pool1/pear_merged_raw-2015-08-28.unassembled.forward.fastq\n",
      "Unassembled reverse reads file.....: /var/seq_data/Chazy/ITS_SIP/Pool1/pear_merged_raw-2015-08-28.unassembled.reverse.fastq\n"
     ]
    }
   ],
   "source": [
    "%%bash\n",
    "pear -j 10 -f /var/seq_data/Chazy/ITS_SIP/Pool1/Read1.fastq -r /var/seq_data/Chazy/ITS_SIP/Pool1/Read2.fastq -o /var/seq_data/Chazy/ITS_SIP/Pool1/pear_merged_raw-$(date +%F)"
   ]
  },
  {
   "cell_type": "code",
   "execution_count": 4,
   "metadata": {
    "collapsed": false
   },
   "outputs": [],
   "source": [
    "import screed"
   ]
  },
  {
   "cell_type": "code",
   "execution_count": 6,
   "metadata": {
    "collapsed": false
   },
   "outputs": [
    {
     "data": {
      "text/plain": [
       "<ScreedDB, '/var/seq_data/Chazy/ITS_SIP/Pool1/pear_merged_raw-2015-08-28.assembled.fastq_screed'>"
      ]
     },
     "execution_count": 6,
     "metadata": {},
     "output_type": "execute_result"
    }
   ],
   "source": [
    "screed.read_fastq_sequences(\"/var/seq_data/Chazy/ITS_SIP/Pool1/pear_merged_raw-2015-08-28.assembled.fastq\")"
   ]
  },
  {
   "cell_type": "code",
   "execution_count": 3,
   "metadata": {
    "collapsed": false
   },
   "outputs": [],
   "source": [
    "fqdb = screed.ScreedDB(\"/var/seq_data/Chazy/ITS_SIP/Pool1/pear_merged_raw-2015-08-28.assembled.fastq_screed\")"
   ]
  },
  {
   "cell_type": "code",
   "execution_count": 4,
   "metadata": {
    "collapsed": false
   },
   "outputs": [],
   "source": [
    "record = fqdb[fqdb.keys()[0]]"
   ]
  },
  {
   "cell_type": "code",
   "execution_count": 5,
   "metadata": {
    "collapsed": false
   },
   "outputs": [
    {
     "data": {
      "text/plain": [
       "'GTACGCGGCGAGCGCTGATGAAGCTTGTGGCAATCACGATCACGATGACCGCGATTCCTGTTCCCACAAACGCCACCCACGTCATATGCAAACCGGGCAACTCCGTGTTATTGCCCGT'"
      ]
     },
     "execution_count": 5,
     "metadata": {},
     "output_type": "execute_result"
    }
   ],
   "source": [
    "record[\"sequence\"]"
   ]
  },
  {
   "cell_type": "code",
   "execution_count": 6,
   "metadata": {
    "collapsed": false
   },
   "outputs": [],
   "source": [
    "lengths = []\n",
    "for read in fqdb.itervalues():\n",
    "    lengths.append((len(read[\"sequence\"])))"
   ]
  },
  {
   "cell_type": "code",
   "execution_count": 7,
   "metadata": {
    "collapsed": false
   },
   "outputs": [
    {
     "data": {
      "image/png": "[encoded data removed]",
      "text/plain": [
       "<matplotlib.figure.Figure at 0x7f2aeaf170d0>"
      ]
     },
     "metadata": {},
     "output_type": "display_data"
    }
   ],
   "source": [
    "style.use(\"ggplot\")\n",
    "fig = plt.figure()\n",
    "ax = fig.add_subplot(111)\n",
    "h = ax.hist(np.array(lengths), bins=50)\n",
    "xl = ax.set_xlabel(\"Sequence Length, nt\")\n",
    "yl = ax.set_ylabel(\"Count\")\n",
    "fig.set_size_inches((10,6))"
   ]
  }
 ],
 "metadata": {
  "kernelspec": {
   "display_name": "Python 2",
   "language": "python",
   "name": "python2"
  },
  "language_info": {
   "codemirror_mode": {
    "name": "ipython",
    "version": 2
   },
   "file_extension": ".py",
   "mimetype": "text/x-python",
   "name": "python",
   "nbconvert_exporter": "python",
   "pygments_lexer": "ipython2",
   "version": "2.7.10"
  }
 },
 "nbformat": 4,
 "nbformat_minor": 0
}
