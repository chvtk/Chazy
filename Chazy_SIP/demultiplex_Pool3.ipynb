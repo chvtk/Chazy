{
 "cells": [
  {
   "cell_type": "code",
   "execution_count": 2,
   "metadata": {
    "collapsed": false
   },
   "outputs": [
    {
     "name": "stderr",
     "output_type": "stream",
     "text": [
      "/opt/anaconda/lib/python2.7/site-packages/mpltools/style/__init__.py:42: FutureWarning: \n",
      "\n",
      "    The style-sheet functionality in mpltools has been integrated into\n",
      "    Matplotlib >= 1.4. This module will be removed in a future release.\n",
      "\n",
      "    Note that style-sheets used by `matplotlib.style` use the standard\n",
      "    Matplotlib rc-file syntax instead of the INI format used by `mpltools`.\n",
      "    This mostly means un-quoting strings and changing '=' to ':'.\n",
      "\n",
      "\n",
      "  \"\"\", FutureWarning)\n"
     ]
    }
   ],
   "source": [
    "import screed\n",
    "import pandas as pd\n",
    "from collections import Counter\n",
    "import matplotlib.pyplot as plt\n",
    "import numpy as np\n",
    "from mpltools import style\n",
    "import mpld3\n",
    "#from mpld3 import plugins\n",
    "#import jinja2\n",
    "#from mpld3._objects import D3Line2D, D3Collection\n",
    "#mpld3.disable_notebook()"
   ]
  },
  {
   "cell_type": "code",
   "execution_count": 3,
   "metadata": {
    "collapsed": false
   },
   "outputs": [],
   "source": [
    "style.use(\"ggplot\")"
   ]
  },
  {
   "cell_type": "code",
   "execution_count": 4,
   "metadata": {
    "collapsed": false
   },
   "outputs": [],
   "source": [
    "%matplotlib inline"
   ]
  },
  {
   "cell_type": "code",
   "execution_count": 1,
   "metadata": {
    "collapsed": false
   },
   "outputs": [],
   "source": [
    "ir1 = \"/var/seq_data/Chazy/515_806_SIP/Pool3/Index1.fastq\"\n",
    "ir2 = \"/var/seq_data/Chazy/515_806_SIP/Pool3/Index2.fastq\""
   ]
  },
  {
   "cell_type": "code",
   "execution_count": 6,
   "metadata": {
    "collapsed": false
   },
   "outputs": [
    {
     "data": {
      "text/plain": [
       "<ScreedDB, '/var/seq_data/Chazy/515_806_SIP/Pool3/Index2.fastq_screed'>"
      ]
     },
     "execution_count": 6,
     "metadata": {},
     "output_type": "execute_result"
    }
   ],
   "source": [
    "screed.read_fastq_sequences(ir1)\n",
    "screed.read_fastq_sequences(ir2)"
   ]
  },
  {
   "cell_type": "code",
   "execution_count": 5,
   "metadata": {
    "collapsed": false
   },
   "outputs": [],
   "source": [
    "ir1db = screed.ScreedDB(ir1)\n",
    "ir2db = screed.ScreedDB(ir2)"
   ]
  },
  {
   "cell_type": "code",
   "execution_count": 6,
   "metadata": {
    "collapsed": false
   },
   "outputs": [
    {
     "data": {
      "text/html": [
       "<div>\n",
       "<table border=\"1\" class=\"dataframe\">\n",
       "  <thead>\n",
       "    <tr style=\"text-align: right;\">\n",
       "      <th></th>\n",
       "      <th>SampleID</th>\n",
       "      <th>i1</th>\n",
       "      <th>i2</th>\n",
       "    </tr>\n",
       "  </thead>\n",
       "  <tbody>\n",
       "    <tr>\n",
       "      <th>0</th>\n",
       "      <td>Full_sample</td>\n",
       "      <td>Rev_index</td>\n",
       "      <td>Fwd_index</td>\n",
       "    </tr>\n",
       "    <tr>\n",
       "      <th>1</th>\n",
       "      <td>12C.NTH.D30.R4_Frac18</td>\n",
       "      <td>cgagagtt</td>\n",
       "      <td>atcgtacg</td>\n",
       "    </tr>\n",
       "    <tr>\n",
       "      <th>2</th>\n",
       "      <td>12C.NTH.D30.R4_Frac19</td>\n",
       "      <td>cgagagtt</td>\n",
       "      <td>actatctg</td>\n",
       "    </tr>\n",
       "    <tr>\n",
       "      <th>3</th>\n",
       "      <td>12C.NTH.D30.R4_Frac20</td>\n",
       "      <td>cgagagtt</td>\n",
       "      <td>tagcgagt</td>\n",
       "    </tr>\n",
       "    <tr>\n",
       "      <th>4</th>\n",
       "      <td>12C.NTH.D30.R4_Frac21</td>\n",
       "      <td>cgagagtt</td>\n",
       "      <td>ctgcgtgt</td>\n",
       "    </tr>\n",
       "    <tr>\n",
       "      <th>5</th>\n",
       "      <td>12C.NTH.D30.R4_Frac22</td>\n",
       "      <td>cgagagtt</td>\n",
       "      <td>tcatcgag</td>\n",
       "    </tr>\n",
       "    <tr>\n",
       "      <th>6</th>\n",
       "      <td>12C.NTH.D30.R4_Frac23</td>\n",
       "      <td>cgagagtt</td>\n",
       "      <td>cgtgagtg</td>\n",
       "    </tr>\n",
       "    <tr>\n",
       "      <th>7</th>\n",
       "      <td>12C.NTH.D30.R4_Frac24</td>\n",
       "      <td>cgagagtt</td>\n",
       "      <td>ggatatct</td>\n",
       "    </tr>\n",
       "    <tr>\n",
       "      <th>8</th>\n",
       "      <td>12C.NTH.D30.R4_Frac25</td>\n",
       "      <td>cgagagtt</td>\n",
       "      <td>gacaccgt</td>\n",
       "    </tr>\n",
       "    <tr>\n",
       "      <th>9</th>\n",
       "      <td>12C.NTH.D30.R4_Frac26</td>\n",
       "      <td>gacatagt</td>\n",
       "      <td>atcgtacg</td>\n",
       "    </tr>\n",
       "    <tr>\n",
       "      <th>10</th>\n",
       "      <td>12C.NTH.D30.R4_Frac27</td>\n",
       "      <td>gacatagt</td>\n",
       "      <td>actatctg</td>\n",
       "    </tr>\n",
       "    <tr>\n",
       "      <th>11</th>\n",
       "      <td>12C.NTH.D30.R4_H2O</td>\n",
       "      <td>gacatagt</td>\n",
       "      <td>tagcgagt</td>\n",
       "    </tr>\n",
       "    <tr>\n",
       "      <th>12</th>\n",
       "      <td>13C.NTH.D7.R4_Frac5</td>\n",
       "      <td>gacatagt</td>\n",
       "      <td>ctgcgtgt</td>\n",
       "    </tr>\n",
       "    <tr>\n",
       "      <th>13</th>\n",
       "      <td>13C.NTH.D7.R4_Frac6</td>\n",
       "      <td>gacatagt</td>\n",
       "      <td>tcatcgag</td>\n",
       "    </tr>\n",
       "    <tr>\n",
       "      <th>14</th>\n",
       "      <td>13C.NTH.D7.R4_Frac7</td>\n",
       "      <td>gacatagt</td>\n",
       "      <td>cgtgagtg</td>\n",
       "    </tr>\n",
       "    <tr>\n",
       "      <th>15</th>\n",
       "      <td>13C.NTH.D7.R4_Frac8</td>\n",
       "      <td>gacatagt</td>\n",
       "      <td>ggatatct</td>\n",
       "    </tr>\n",
       "    <tr>\n",
       "      <th>16</th>\n",
       "      <td>13C.NTH.D7.R4_Frac9</td>\n",
       "      <td>gacatagt</td>\n",
       "      <td>gacaccgt</td>\n",
       "    </tr>\n",
       "    <tr>\n",
       "      <th>17</th>\n",
       "      <td>13C.NTH.D7.R4_Frac10</td>\n",
       "      <td>acgctact</td>\n",
       "      <td>atcgtacg</td>\n",
       "    </tr>\n",
       "    <tr>\n",
       "      <th>18</th>\n",
       "      <td>13C.NTH.D7.R4_Frac11</td>\n",
       "      <td>acgctact</td>\n",
       "      <td>actatctg</td>\n",
       "    </tr>\n",
       "    <tr>\n",
       "      <th>19</th>\n",
       "      <td>13C.NTH.D7.R4_Frac12</td>\n",
       "      <td>acgctact</td>\n",
       "      <td>tagcgagt</td>\n",
       "    </tr>\n",
       "    <tr>\n",
       "      <th>20</th>\n",
       "      <td>13C.NTH.D7.R4_Frac13</td>\n",
       "      <td>acgctact</td>\n",
       "      <td>ctgcgtgt</td>\n",
       "    </tr>\n",
       "    <tr>\n",
       "      <th>21</th>\n",
       "      <td>13C.NTH.D7.R4_Frac14</td>\n",
       "      <td>acgctact</td>\n",
       "      <td>tcatcgag</td>\n",
       "    </tr>\n",
       "    <tr>\n",
       "      <th>22</th>\n",
       "      <td>13C.NTH.D7.R4_Frac15</td>\n",
       "      <td>acgctact</td>\n",
       "      <td>cgtgagtg</td>\n",
       "    </tr>\n",
       "    <tr>\n",
       "      <th>23</th>\n",
       "      <td>13C.NTH.D7.R4_Frac16</td>\n",
       "      <td>acgctact</td>\n",
       "      <td>ggatatct</td>\n",
       "    </tr>\n",
       "    <tr>\n",
       "      <th>24</th>\n",
       "      <td>13C.NTH.D7.R4_Frac17</td>\n",
       "      <td>acgctact</td>\n",
       "      <td>gacaccgt</td>\n",
       "    </tr>\n",
       "    <tr>\n",
       "      <th>25</th>\n",
       "      <td>13C.NTH.D7.R4_Frac18</td>\n",
       "      <td>actcactg</td>\n",
       "      <td>atcgtacg</td>\n",
       "    </tr>\n",
       "    <tr>\n",
       "      <th>26</th>\n",
       "      <td>13C.NTH.D7.R4_Frac19</td>\n",
       "      <td>actcactg</td>\n",
       "      <td>actatctg</td>\n",
       "    </tr>\n",
       "    <tr>\n",
       "      <th>27</th>\n",
       "      <td>13C.NTH.D7.R4_Frac20</td>\n",
       "      <td>actcactg</td>\n",
       "      <td>tagcgagt</td>\n",
       "    </tr>\n",
       "    <tr>\n",
       "      <th>28</th>\n",
       "      <td>13C.NTH.D7.R4_Frac21</td>\n",
       "      <td>actcactg</td>\n",
       "      <td>ctgcgtgt</td>\n",
       "    </tr>\n",
       "    <tr>\n",
       "      <th>29</th>\n",
       "      <td>13C.NTH.D7.R4_Frac22</td>\n",
       "      <td>actcactg</td>\n",
       "      <td>tcatcgag</td>\n",
       "    </tr>\n",
       "    <tr>\n",
       "      <th>...</th>\n",
       "      <td>...</td>\n",
       "      <td>...</td>\n",
       "      <td>...</td>\n",
       "    </tr>\n",
       "    <tr>\n",
       "      <th>163</th>\n",
       "      <td>13C.NTH.D30.R4_Frac12</td>\n",
       "      <td>actacgac</td>\n",
       "      <td>agagtcac</td>\n",
       "    </tr>\n",
       "    <tr>\n",
       "      <th>164</th>\n",
       "      <td>13C.NTH.D30.R4_Frac13</td>\n",
       "      <td>actacgac</td>\n",
       "      <td>tacgagac</td>\n",
       "    </tr>\n",
       "    <tr>\n",
       "      <th>165</th>\n",
       "      <td>13C.NTH.D30.R4_Frac14</td>\n",
       "      <td>actacgac</td>\n",
       "      <td>acgtctcg</td>\n",
       "    </tr>\n",
       "    <tr>\n",
       "      <th>166</th>\n",
       "      <td>13C.NTH.D30.R4_Frac15</td>\n",
       "      <td>actacgac</td>\n",
       "      <td>tcgacgag</td>\n",
       "    </tr>\n",
       "    <tr>\n",
       "      <th>167</th>\n",
       "      <td>13C.NTH.D30.R4_Frac16</td>\n",
       "      <td>actacgac</td>\n",
       "      <td>gatcgtgt</td>\n",
       "    </tr>\n",
       "    <tr>\n",
       "      <th>168</th>\n",
       "      <td>13C.NTH.D30.R4_Frac17</td>\n",
       "      <td>actacgac</td>\n",
       "      <td>gtcagata</td>\n",
       "    </tr>\n",
       "    <tr>\n",
       "      <th>169</th>\n",
       "      <td>13C.NTH.D30.R4_Frac18</td>\n",
       "      <td>gtctgcta</td>\n",
       "      <td>ctactata</td>\n",
       "    </tr>\n",
       "    <tr>\n",
       "      <th>170</th>\n",
       "      <td>13C.NTH.D30.R4_Frac19</td>\n",
       "      <td>gtctgcta</td>\n",
       "      <td>cgttacta</td>\n",
       "    </tr>\n",
       "    <tr>\n",
       "      <th>171</th>\n",
       "      <td>13C.NTH.D30.R4_Frac20</td>\n",
       "      <td>gtctgcta</td>\n",
       "      <td>agagtcac</td>\n",
       "    </tr>\n",
       "    <tr>\n",
       "      <th>172</th>\n",
       "      <td>13C.NTH.D30.R4_Frac21</td>\n",
       "      <td>gtctgcta</td>\n",
       "      <td>tacgagac</td>\n",
       "    </tr>\n",
       "    <tr>\n",
       "      <th>173</th>\n",
       "      <td>13C.NTH.D30.R4_Frac22</td>\n",
       "      <td>gtctgcta</td>\n",
       "      <td>acgtctcg</td>\n",
       "    </tr>\n",
       "    <tr>\n",
       "      <th>174</th>\n",
       "      <td>13C.NTH.D30.R4_Frac23</td>\n",
       "      <td>gtctgcta</td>\n",
       "      <td>tcgacgag</td>\n",
       "    </tr>\n",
       "    <tr>\n",
       "      <th>175</th>\n",
       "      <td>13C.NTH.D30.R4_Frac24</td>\n",
       "      <td>gtctgcta</td>\n",
       "      <td>gatcgtgt</td>\n",
       "    </tr>\n",
       "    <tr>\n",
       "      <th>176</th>\n",
       "      <td>13C.NTH.D30.R4_Frac25</td>\n",
       "      <td>gtctgcta</td>\n",
       "      <td>gtcagata</td>\n",
       "    </tr>\n",
       "    <tr>\n",
       "      <th>177</th>\n",
       "      <td>13C.NTH.D30.R4_Frac26</td>\n",
       "      <td>gtctatga</td>\n",
       "      <td>ctactata</td>\n",
       "    </tr>\n",
       "    <tr>\n",
       "      <th>178</th>\n",
       "      <td>13C.NTH.D30.R4_Frac27</td>\n",
       "      <td>gtctatga</td>\n",
       "      <td>cgttacta</td>\n",
       "    </tr>\n",
       "    <tr>\n",
       "      <th>179</th>\n",
       "      <td>13C.NTH.D30.R4_H20</td>\n",
       "      <td>gtctatga</td>\n",
       "      <td>agagtcac</td>\n",
       "    </tr>\n",
       "    <tr>\n",
       "      <th>180</th>\n",
       "      <td>12C.NTH.D1.R4_Frac5</td>\n",
       "      <td>gtctatga</td>\n",
       "      <td>tacgagac</td>\n",
       "    </tr>\n",
       "    <tr>\n",
       "      <th>181</th>\n",
       "      <td>12C.NTH.D1.R4_Frac6</td>\n",
       "      <td>gtctatga</td>\n",
       "      <td>acgtctcg</td>\n",
       "    </tr>\n",
       "    <tr>\n",
       "      <th>182</th>\n",
       "      <td>12C.NTH.D1.R4_Frac7</td>\n",
       "      <td>gtctatga</td>\n",
       "      <td>tcgacgag</td>\n",
       "    </tr>\n",
       "    <tr>\n",
       "      <th>183</th>\n",
       "      <td>12C.NTH.D1.R4_Frac8</td>\n",
       "      <td>gtctatga</td>\n",
       "      <td>gatcgtgt</td>\n",
       "    </tr>\n",
       "    <tr>\n",
       "      <th>184</th>\n",
       "      <td>12C.NTH.D1.R4_Frac9</td>\n",
       "      <td>gtctatga</td>\n",
       "      <td>gtcagata</td>\n",
       "    </tr>\n",
       "    <tr>\n",
       "      <th>185</th>\n",
       "      <td>12C.NTH.D1.R4_Frac10</td>\n",
       "      <td>tatagcga</td>\n",
       "      <td>ctactata</td>\n",
       "    </tr>\n",
       "    <tr>\n",
       "      <th>186</th>\n",
       "      <td>12C.NTH.D1.R4_Frac11</td>\n",
       "      <td>tatagcga</td>\n",
       "      <td>cgttacta</td>\n",
       "    </tr>\n",
       "    <tr>\n",
       "      <th>187</th>\n",
       "      <td>12C.NTH.D1.R4_Frac12</td>\n",
       "      <td>tatagcga</td>\n",
       "      <td>agagtcac</td>\n",
       "    </tr>\n",
       "    <tr>\n",
       "      <th>188</th>\n",
       "      <td>12C.NTH.D1.R4_Frac13</td>\n",
       "      <td>tatagcga</td>\n",
       "      <td>tacgagac</td>\n",
       "    </tr>\n",
       "    <tr>\n",
       "      <th>189</th>\n",
       "      <td>12C.NTH.D1.R4_Frac14</td>\n",
       "      <td>tatagcga</td>\n",
       "      <td>acgtctcg</td>\n",
       "    </tr>\n",
       "    <tr>\n",
       "      <th>190</th>\n",
       "      <td>12C.NTH.D1.R4_Frac15</td>\n",
       "      <td>tatagcga</td>\n",
       "      <td>tcgacgag</td>\n",
       "    </tr>\n",
       "    <tr>\n",
       "      <th>191</th>\n",
       "      <td>12C.NTH.D1.R4_Frac16</td>\n",
       "      <td>tatagcga</td>\n",
       "      <td>gatcgtgt</td>\n",
       "    </tr>\n",
       "    <tr>\n",
       "      <th>192</th>\n",
       "      <td>12C.NTH.D1.R4_Frac17</td>\n",
       "      <td>tatagcga</td>\n",
       "      <td>gtcagata</td>\n",
       "    </tr>\n",
       "  </tbody>\n",
       "</table>\n",
       "<p>193 rows × 3 columns</p>\n",
       "</div>"
      ],
      "text/plain": [
       "                  SampleID         i1         i2\n",
       "0              Full_sample  Rev_index  Fwd_index\n",
       "1    12C.NTH.D30.R4_Frac18   cgagagtt   atcgtacg\n",
       "2    12C.NTH.D30.R4_Frac19   cgagagtt   actatctg\n",
       "3    12C.NTH.D30.R4_Frac20   cgagagtt   tagcgagt\n",
       "4    12C.NTH.D30.R4_Frac21   cgagagtt   ctgcgtgt\n",
       "5    12C.NTH.D30.R4_Frac22   cgagagtt   tcatcgag\n",
       "6    12C.NTH.D30.R4_Frac23   cgagagtt   cgtgagtg\n",
       "7    12C.NTH.D30.R4_Frac24   cgagagtt   ggatatct\n",
       "8    12C.NTH.D30.R4_Frac25   cgagagtt   gacaccgt\n",
       "9    12C.NTH.D30.R4_Frac26   gacatagt   atcgtacg\n",
       "10   12C.NTH.D30.R4_Frac27   gacatagt   actatctg\n",
       "11      12C.NTH.D30.R4_H2O   gacatagt   tagcgagt\n",
       "12     13C.NTH.D7.R4_Frac5   gacatagt   ctgcgtgt\n",
       "13     13C.NTH.D7.R4_Frac6   gacatagt   tcatcgag\n",
       "14     13C.NTH.D7.R4_Frac7   gacatagt   cgtgagtg\n",
       "15     13C.NTH.D7.R4_Frac8   gacatagt   ggatatct\n",
       "16     13C.NTH.D7.R4_Frac9   gacatagt   gacaccgt\n",
       "17    13C.NTH.D7.R4_Frac10   acgctact   atcgtacg\n",
       "18    13C.NTH.D7.R4_Frac11   acgctact   actatctg\n",
       "19    13C.NTH.D7.R4_Frac12   acgctact   tagcgagt\n",
       "20    13C.NTH.D7.R4_Frac13   acgctact   ctgcgtgt\n",
       "21    13C.NTH.D7.R4_Frac14   acgctact   tcatcgag\n",
       "22    13C.NTH.D7.R4_Frac15   acgctact   cgtgagtg\n",
       "23    13C.NTH.D7.R4_Frac16   acgctact   ggatatct\n",
       "24    13C.NTH.D7.R4_Frac17   acgctact   gacaccgt\n",
       "25    13C.NTH.D7.R4_Frac18   actcactg   atcgtacg\n",
       "26    13C.NTH.D7.R4_Frac19   actcactg   actatctg\n",
       "27    13C.NTH.D7.R4_Frac20   actcactg   tagcgagt\n",
       "28    13C.NTH.D7.R4_Frac21   actcactg   ctgcgtgt\n",
       "29    13C.NTH.D7.R4_Frac22   actcactg   tcatcgag\n",
       "..                     ...        ...        ...\n",
       "163  13C.NTH.D30.R4_Frac12   actacgac   agagtcac\n",
       "164  13C.NTH.D30.R4_Frac13   actacgac   tacgagac\n",
       "165  13C.NTH.D30.R4_Frac14   actacgac   acgtctcg\n",
       "166  13C.NTH.D30.R4_Frac15   actacgac   tcgacgag\n",
       "167  13C.NTH.D30.R4_Frac16   actacgac   gatcgtgt\n",
       "168  13C.NTH.D30.R4_Frac17   actacgac   gtcagata\n",
       "169  13C.NTH.D30.R4_Frac18   gtctgcta   ctactata\n",
       "170  13C.NTH.D30.R4_Frac19   gtctgcta   cgttacta\n",
       "171  13C.NTH.D30.R4_Frac20   gtctgcta   agagtcac\n",
       "172  13C.NTH.D30.R4_Frac21   gtctgcta   tacgagac\n",
       "173  13C.NTH.D30.R4_Frac22   gtctgcta   acgtctcg\n",
       "174  13C.NTH.D30.R4_Frac23   gtctgcta   tcgacgag\n",
       "175  13C.NTH.D30.R4_Frac24   gtctgcta   gatcgtgt\n",
       "176  13C.NTH.D30.R4_Frac25   gtctgcta   gtcagata\n",
       "177  13C.NTH.D30.R4_Frac26   gtctatga   ctactata\n",
       "178  13C.NTH.D30.R4_Frac27   gtctatga   cgttacta\n",
       "179     13C.NTH.D30.R4_H20   gtctatga   agagtcac\n",
       "180    12C.NTH.D1.R4_Frac5   gtctatga   tacgagac\n",
       "181    12C.NTH.D1.R4_Frac6   gtctatga   acgtctcg\n",
       "182    12C.NTH.D1.R4_Frac7   gtctatga   tcgacgag\n",
       "183    12C.NTH.D1.R4_Frac8   gtctatga   gatcgtgt\n",
       "184    12C.NTH.D1.R4_Frac9   gtctatga   gtcagata\n",
       "185   12C.NTH.D1.R4_Frac10   tatagcga   ctactata\n",
       "186   12C.NTH.D1.R4_Frac11   tatagcga   cgttacta\n",
       "187   12C.NTH.D1.R4_Frac12   tatagcga   agagtcac\n",
       "188   12C.NTH.D1.R4_Frac13   tatagcga   tacgagac\n",
       "189   12C.NTH.D1.R4_Frac14   tatagcga   acgtctcg\n",
       "190   12C.NTH.D1.R4_Frac15   tatagcga   tcgacgag\n",
       "191   12C.NTH.D1.R4_Frac16   tatagcga   gatcgtgt\n",
       "192   12C.NTH.D1.R4_Frac17   tatagcga   gtcagata\n",
       "\n",
       "[193 rows x 3 columns]"
      ]
     },
     "execution_count": 6,
     "metadata": {},
     "output_type": "execute_result"
    }
   ],
   "source": [
    "df_map = pd.read_csv(\"data/Metadata_ChazySIP_pool3_515806.txt\", delimiter=\"\\t\", usecols=[1,6,7], names=[\"SampleID\",\"i1\",\"i2\"])\n",
    "df_map"
   ]
  },
  {
   "cell_type": "code",
   "execution_count": 7,
   "metadata": {
    "collapsed": false
   },
   "outputs": [
    {
     "name": "stdout",
     "output_type": "stream",
     "text": [
      "tatagcgatcatcgag 13X.PTH.D3.R4_Frac12\n"
     ]
    }
   ],
   "source": [
    "map_d = dict(map(lambda x: (x[0] + x[1], x[2]), zip(df_map.i1, df_map.i2, df_map.SampleID)))\n",
    "print map_d.keys()[10], map_d[map_d.keys()[10]]"
   ]
  },
  {
   "cell_type": "code",
   "execution_count": 8,
   "metadata": {
    "collapsed": false
   },
   "outputs": [
    {
     "name": "stdout",
     "output_type": "stream",
     "text": [
      "{'tgagtacgactatctg': '13C.NTH.D7.R4_Frac27', 'tatagcgagacaccgt': '13X.PTH.D3.R4_Frac15', 'tatagcgatacgagac': '12C.NTH.D1.R4_Frac13', 'actacgacgatcgtgt': '13C.NTH.D30.R4_Frac16', 'gtctatgactgcgtgt': '12C.NTH.D14.R4_H2O', 'tagtctccggatatct': '12C.PTH.D7.R4_Frac23', 'tatagcgaactatctg': '13X.PTH.D3.R4_Frac9', 'actcactgggatatct': '13C.NTH.D7.R4_Frac24', 'tagtctcctacgagac': '13X.NTH.D1.R4_Frac21', 'cgagcgactcgacgag': '13C.NTH.D30.R4_Frac7', 'tatagcgatcatcgag': '13X.PTH.D3.R4_Frac12', 'tagtctccatcgtacg': '12C.PTH.D7.R4_Frac17', 'cgagcgacacgtctcg': '13C.NTH.D30.R4_Frac6', 'tagtctccacgtctcg': '13X.NTH.D1.R4_Frac22', 'acgctacttcatcgag': '13C.NTH.D7.R4_Frac14', 'acgctactctgcgtgt': '13C.NTH.D7.R4_Frac13', 'ctgcgtagactatctg': '12C.PTH.D7.R4_Frac10', 'actacgaccgtgagtg': '12C.NTH.D14.R4_Frac13', 'acgctacttcgacgag': '12C.PTH.D14.R4_Frac14', 'gtctgctatacgagac': '13C.NTH.D30.R4_Frac21', 'tagtctccgtcagata': '13X.NTH.D1.R4_Frac25', 'gtctatgacgtgagtg': '13X.PTH.D3.R4_Frac5', 'actcactgtagcgagt': '13C.NTH.D7.R4_Frac20', 'tatagcgacgttacta': '12C.NTH.D1.R4_Frac11', 'ctgcgtaggacaccgt': '12C.PTH.D7.R4_Frac16', 'gacatagtatcgtacg': '12C.NTH.D30.R4_Frac26', 'actcactgcgtgagtg': '13C.NTH.D7.R4_Frac23', 'ctgcgtagtcatcgag': '12C.PTH.D7.R4_Frac13', 'tatagcgacgtgagtg': '13X.PTH.D3.R4_Frac13', 'tagtctccactatctg': '12C.PTH.D7.R4_Frac18', 'tgagtacggatcgtgt': '13X.NTH.D1.R4_Frac8', 'gtctgctagacaccgt': '12C.NTH.D14.R4_Frac23', 'tatagcgaagagtcac': '12C.NTH.D1.R4_Frac12', 'acgctactgacaccgt': '13C.NTH.D7.R4_Frac17', 'tagtctccagagtcac': '13X.NTH.D1.R4_Frac20', 'tgagtacgctactata': '12C.PTH.D14.R4_Frac25', 'actcactgctgcgtgt': '13C.NTH.D7.R4_Frac21', 'gtctgctaacgtctcg': '13C.NTH.D30.R4_Frac22', 'cgagagtttcgacgag': '13X.PTH.D3.R4_Frac21', 'actcactggacaccgt': '13C.NTH.D7.R4_Frac25', 'actacgactagcgagt': '12C.NTH.D14.R4_Frac10', 'tatagcgactactata': '12C.NTH.D1.R4_Frac10', 'ctgcgtagcgtgagtg': '12C.PTH.D7.R4_Frac14', 'tgagtacggacaccgt': '12C.PTH.D7.R4_Frac8', 'cgagagttctgcgtgt': '12C.NTH.D30.R4_Frac21', 'tgagtacgatcgtacg': '13C.NTH.D7.R4_Frac26', 'actacgacactatctg': '12C.NTH.D14.R4_Frac9', 'gtctgctacgttacta': '13C.NTH.D30.R4_Frac19', 'tgagtacgtcgacgag': '13X.NTH.D1.R4_Frac7', 'actacgacctactata': '13C.NTH.D30.R4_Frac10', 'ctgcgtagctactata': '13X.NTH.D1.R4_Frac10', 'actacgactacgagac': '13C.NTH.D30.R4_Frac13', 'cgagcgactagcgagt': '12C.PTH.D7.R4_Frac27', 'actcactgagagtcac': '12C.PTH.D14.R4_Frac19', 'actcactgctactata': '12C.PTH.D14.R4_Frac17', 'gtctgctaatcgtacg': '12C.NTH.D14.R4_Frac16', 'cgagcgactcatcgag': '12C.NTH.D14.R4_Frac4', 'gtctatgactactata': '13C.NTH.D30.R4_Frac26', 'cgagagttgacaccgt': '12C.NTH.D30.R4_Frac25', 'gtctatgatcgacgag': '12C.NTH.D1.R4_Frac7', 'cgagcgacgatcgtgt': '13C.NTH.D30.R4_Frac8', 'gtctatgacgttacta': '13C.NTH.D30.R4_Frac27', 'gtctatgaactatctg': '12C.NTH.D14.R4_Frac25', 'ctgcgtagagagtcac': '13X.NTH.D1.R4_Frac12', 'cgagcgacctgcgtgt': '12C.PTH.D7.R4_H2O', 'gtctatgatacgagac': '12C.NTH.D1.R4_Frac5', 'gacatagtgtcagata': '12C.PTH.D14.R4_Frac8', 'actacgacgtcagata': '13C.NTH.D30.R4_Frac17', 'cgagcgacgacaccgt': '12C.NTH.D14.R4_Frac7', 'tatagcgatcgacgag': '12C.NTH.D1.R4_Frac15', 'actcactggtcagata': '12C.PTH.D14.R4_Frac24', 'gacatagtgatcgtgt': '12C.PTH.D14.R4_Frac7', 'gtctgctactgcgtgt': '12C.NTH.D14.R4_Frac19', 'cgagcgactacgagac': '13C.NTH.D30.R4_Frac5', 'gtctgctaagagtcac': '13C.NTH.D30.R4_Frac20', 'gtctatgatagcgagt': '12C.NTH.D14.R4_Frac26', 'gacatagtggatatct': '13C.NTH.D7.R4_Frac8', 'gtctgctaggatatct': '12C.NTH.D14.R4_Frac22', 'actacgacatcgtacg': '12C.NTH.D14.R4_Frac8', 'acgctacttagcgagt': '13C.NTH.D7.R4_Frac12', 'actcactgtcgacgag': '12C.PTH.D14.R4_Frac22', 'acgctactctactata': '12C.PTH.D14.R4_Frac9', 'tatagcgatagcgagt': '13X.PTH.D3.R4_Frac10', 'tatagcgaggatatct': '13X.PTH.D3.R4_Frac14', 'gtctgctaactatctg': '12C.NTH.D14.R4_Frac17', 'acgctactactatctg': '13C.NTH.D7.R4_Frac11', 'actacgacggatatct': '12C.NTH.D14.R4_Frac14', 'acgctactcgtgagtg': '13C.NTH.D7.R4_Frac15', 'cgagagttgtcagata': '13X.PTH.D3.R4_Frac23', 'tgagtacgctgcgtgt': 'Mock_community', 'actcactgactatctg': '13C.NTH.D7.R4_Frac19', 'tgagtacgcgtgagtg': '12C.PTH.D7.R4_Frac6', 'tgagtacgcgttacta': '12C.PTH.D14.R4_Frac26', 'actacgacctgcgtgt': '12C.NTH.D14.R4_Frac11', 'tgagtacgacgtctcg': '13X.NTH.D1.R4_Frac6', 'acgctactgtcagata': '12C.PTH.D14.R4_Frac16', 'gtctgctactactata': '13C.NTH.D30.R4_Frac18', 'cgagcgacgtcagata': '13C.NTH.D30.R4_Frac9', 'gtctgctacgtgagtg': '12C.NTH.D14.R4_Frac21', 'gtctatgatcatcgag': '13X.PTH.D3.R4_Frac4', 'actacgactcgacgag': '13C.NTH.D30.R4_Frac15', 'ctgcgtagtagcgagt': '12C.PTH.D7.R4_Frac11', 'gacatagttagcgagt': '12C.NTH.D30.R4_H2O', 'gacatagtagagtcac': '13X.PTH.D3.R4_Frac26', 'gacatagtacgtctcg': '12C.PTH.D14.R4_Frac5', 'tgagtacgggatatct': '12C.PTH.D7.R4_Frac7', 'acgctactcgttacta': '12C.PTH.D14.R4_Frac10', 'cgagcgaccgttacta': '13X.NTH.D1.R4_Frac27', 'gacatagtctactata': '13X.PTH.D3.R4_Frac24', 'cgagagtttagcgagt': '12C.NTH.D30.R4_Frac20', 'gtctgctatagcgagt': '12C.NTH.D14.R4_Frac18', 'tgagtacgtacgagac': '13X.NTH.D1.R4_Frac5', 'actacgacgacaccgt': '12C.NTH.D14.R4_Frac15', 'cgagcgacactatctg': '12C.PTH.D7.R4_Frac26', 'tatagcgagatcgtgt': '12C.NTH.D1.R4_Frac16', 'acgctactgatcgtgt': '12C.PTH.D14.R4_Frac15', 'tagtctccctactata': '13X.NTH.D1.R4_Frac18', 'ctgcgtagtcgacgag': '13X.NTH.D1.R4_Frac15', 'cgagagttcgtgagtg': '12C.NTH.D30.R4_Frac23', 'cgagcgacagagtcac': '13X.NTH.D1.R4_H2O', 'gtctatgagtcagata': '12C.NTH.D1.R4_Frac9', 'tatagcgactgcgtgt': '13X.PTH.D3.R4_Frac11', 'tatagcgagtcagata': '12C.NTH.D1.R4_Frac17', 'gacatagtgacaccgt': '13C.NTH.D7.R4_Frac9', 'cgagagtttcatcgag': '12C.NTH.D30.R4_Frac22', 'cgagagtttacgagac': '13X.PTH.D3.R4_Frac19', 'tagtctccgatcgtgt': '13X.NTH.D1.R4_Frac24', 'actacgactcatcgag': '12C.NTH.D14.R4_Frac12', 'gtctgctatcgacgag': '13C.NTH.D30.R4_Frac23', 'gacatagttcgacgag': '12C.PTH.D14.R4_Frac6', 'tgagtacgtagcgagt': '13C.NTH.D7.R4_H2O', 'tgagtacgagagtcac': '12C.PTH.D14.R4_H2O', 'tgagtacggtcagata': '13X.NTH.D1.R4_Frac9', 'tagtctcccgtgagtg': '12C.PTH.D7.R4_Frac22', 'cgagcgacggatatct': '12C.NTH.D14.R4_Frac6', 'actcactgtcatcgag': '13C.NTH.D7.R4_Frac22', 'actcactggatcgtgt': '12C.PTH.D14.R4_Frac23', 'gtctatgaggatatct': '13X.PTH.D3.R4_Frac6', 'acgctactagagtcac': '12C.PTH.D14.R4_Frac11', 'actcactgatcgtacg': '13C.NTH.D7.R4_Frac18', 'cgagagttgatcgtgt': '13X.PTH.D3.R4_Frac22', 'cgagagttcgttacta': '13X.PTH.D3.R4_Frac17', 'ctgcgtagacgtctcg': '13X.NTH.D1.R4_Frac14', 'Rev_indexFwd_index': 'Full_sample', 'actacgacacgtctcg': '13C.NTH.D30.R4_Frac14', 'tagtctccgacaccgt': '12C.PTH.D7.R4_Frac24', 'ctgcgtaggtcagata': '13X.NTH.D1.R4_Frac17', 'tagtctccctgcgtgt': '12C.PTH.D7.R4_Frac20', 'cgagagttactatctg': '12C.NTH.D30.R4_Frac19', 'cgagagttagagtcac': '13X.PTH.D3.R4_Frac18', 'gtctatgagacaccgt': '13X.PTH.D3.R4_Frac7', 'tagtctcctagcgagt': '12C.PTH.D7.R4_Frac19', 'actcactgacgtctcg': '12C.PTH.D14.R4_Frac21', 'cgagagttctactata': '13X.PTH.D3.R4_Frac16', 'cgagcgaccgtgagtg': '12C.NTH.D14.R4_Frac5', 'actcactgtacgagac': '12C.PTH.D14.R4_Frac20', 'ctgcgtagctgcgtgt': '12C.PTH.D7.R4_Frac12', 'tagtctcccgttacta': '13X.NTH.D1.R4_Frac19', 'tagtctcctcatcgag': '12C.PTH.D7.R4_Frac21', 'tatagcgaatcgtacg': '13X.PTH.D3.R4_Frac8', 'gacatagttcatcgag': '13C.NTH.D7.R4_Frac6', 'gtctatgaatcgtacg': '12C.NTH.D14.R4_Frac24', 'gtctatgagatcgtgt': '12C.NTH.D1.R4_Frac8', 'cgagcgacatcgtacg': '12C.PTH.D7.R4_Frac25', 'cgagagttatcgtacg': '12C.NTH.D30.R4_Frac18', 'gacatagtctgcgtgt': '13C.NTH.D7.R4_Frac5', 'gtctatgaagagtcac': '13C.NTH.D30.R4_H20', 'ctgcgtagggatatct': '12C.PTH.D7.R4_Frac15', 'gacatagtcgtgagtg': '13C.NTH.D7.R4_Frac7', 'gacatagtcgttacta': '13X.PTH.D3.R4_Frac25', 'acgctactacgtctcg': '12C.PTH.D14.R4_Frac13', 'gacatagtactatctg': '12C.NTH.D30.R4_Frac27', 'tatagcgaacgtctcg': '12C.NTH.D1.R4_Frac14', 'gtctatgaacgtctcg': '12C.NTH.D1.R4_Frac6', 'ctgcgtaggatcgtgt': '13X.NTH.D1.R4_Frac16', 'actacgaccgttacta': '13C.NTH.D30.R4_Frac11', 'gtctgctagtcagata': '13C.NTH.D30.R4_Frac25', 'acgctacttacgagac': '12C.PTH.D14.R4_Frac12', 'ctgcgtagatcgtacg': '12C.PTH.D7.R4_Frac9', 'tagtctcctcgacgag': '13X.NTH.D1.R4_Frac23', 'acgctactatcgtacg': '13C.NTH.D7.R4_Frac10', 'ctgcgtagcgttacta': '13X.NTH.D1.R4_Frac11', 'actacgacagagtcac': '13C.NTH.D30.R4_Frac12', 'cgagcgacctactata': '13X.NTH.D1.R4_Frac26', 'acgctactggatatct': '13C.NTH.D7.R4_Frac16', 'actcactgcgttacta': '12C.PTH.D14.R4_Frac18', 'gtctgctatcatcgag': '12C.NTH.D14.R4_Frac20', 'tgagtacgtcatcgag': '12C.PTH.D7.R4_Frac5', 'cgagagttggatatct': '12C.NTH.D30.R4_Frac24', 'gacatagttacgagac': '13X.PTH.D3.R4_H2O', 'gtctgctagatcgtgt': '13C.NTH.D30.R4_Frac24', 'cgagagttacgtctcg': '13X.PTH.D3.R4_Frac20', 'ctgcgtagtacgagac': '13X.NTH.D1.R4_Frac13'}\n"
     ]
    }
   ],
   "source": [
    "print map_d"
   ]
  },
  {
   "cell_type": "code",
   "execution_count": null,
   "metadata": {
    "collapsed": false
   },
   "outputs": [],
   "source": [
    "#screed.read_fastq_sequences(\"/var/seq_data/Chazy/515_806_SIP/Pool3/pear_merged_raw-2015-08-16.assembled.fastq_screed\")"
   ]
  },
  {
   "cell_type": "code",
   "execution_count": 10,
   "metadata": {
    "collapsed": false
   },
   "outputs": [],
   "source": [
    "db = screed.ScreedDB(\"/var/seq_data/Chazy/515_806_SIP/Pool3/pear_merged_raw-2015-08-16.assembled.fastq_screed\")"
   ]
  },
  {
   "cell_type": "code",
   "execution_count": null,
   "metadata": {
    "collapsed": false
   },
   "outputs": [],
   "source": [
    "counter = 0\n",
    "unassigned = 0\n",
    "cnt = Counter()\n",
    "fn = \"/var/seq_data/Chazy/515_806_SIP/Pool3/pear_merged_raw-2015-08-16.assembled.dmult.fastq\"\n",
    "with open(fn, \"w\") as out:\n",
    "    for rec in db.itervalues():\n",
    "        index_concat = ir1db[rec[\"name\"]][\"sequence\"] + ir2db[rec[\"name\"]][\"sequence\"]\n",
    "        try:\n",
    "            new_name = map_d[index_concat.lower()] + \"_\" + str(counter) #case sensitive\n",
    "        except KeyError:\n",
    "            unassigned += 1\n",
    "            continue\n",
    "        counter += 1\n",
    "        cnt[map_d[index_concat.lower()]] += 1 #case sensitive\n",
    "        s, q = rec[\"sequence\"], rec[\"accuracy\"]\n",
    "        out.write(\"@%s orig_name=%s\\n%s\\n+\\n%s\\n\"%(new_name,rec[\"name\"],s,q))\n",
    "print \"Unable to assign %s reads to samples\"%unassigned"
   ]
  },
  {
   "cell_type": "code",
   "execution_count": 13,
   "metadata": {
    "collapsed": false
   },
   "outputs": [
    {
     "data": {
      "image/png": "[encoded data removed]",
      "text/plain": [
       "<matplotlib.figure.Figure at 0x7faf1485b390>"
      ]
     },
     "metadata": {},
     "output_type": "display_data"
    }
   ],
   "source": [
    "X = np.arange(len(cnt.keys()))\n",
    "Y = [v for k, v in cnt.most_common()]\n",
    "fig = plt.figure()\n",
    "fig.set_size_inches((18,8))\n",
    "ax = fig.add_subplot(111)\n",
    "bars = ax.bar(X, Y, width=0.50)\n",
    "xlims = ax.set_xlim((X.min(), X.max()))\n",
    "xt = ax.set_xticks(X)\n",
    "xtl = ax.set_xticklabels([k for k, v in cnt.most_common()], rotation=90, ha=\"center\", size=6)"
   ]
  },
  {
   "cell_type": "code",
   "execution_count": 27,
   "metadata": {
    "collapsed": false
   },
   "outputs": [
    {
     "name": "stdout",
     "output_type": "stream",
     "text": [
      "[('12C.NTH.D14.R4_Frac26', 66050), ('13X.PTH.D3.R4_Frac10', 56089), ('12C.PTH.D14.R4_Frac6', 50019), ('12C.PTH.D7.R4_Frac27', 49402), ('12C.NTH.D1.R4_Frac5', 47937), ('12C.NTH.D30.R4_Frac20', 46395), ('12C.NTH.D1.R4_Frac7', 46039), ('13C.NTH.D7.R4_Frac12', 45286), ('12C.NTH.D1.R4_Frac15', 45046), ('12C.PTH.D14.R4_Frac12', 44056), ('12C.PTH.D7.R4_Frac19', 43571), ('12C.PTH.D14.R4_Frac26', 43197), ('13X.PTH.D3.R4_Frac5', 42387), ('12C.NTH.D1.R4_Frac13', 42269), ('12C.PTH.D14.R4_Frac7', 40255), ('13X.NTH.D1.R4_Frac7', 40063), ('13X.PTH.D3.R4_Frac23', 40035), ('12C.PTH.D14.R4_Frac14', 39893), ('12C.NTH.D14.R4_Frac10', 39799), ('13X.NTH.D1.R4_Frac13', 39495), ('12C.PTH.D7.R4_Frac11', 39217), ('13X.NTH.D1.R4_Frac8', 39144), ('13C.NTH.D30.R4_Frac13', 39108), ('12C.NTH.D1.R4_Frac6', 38941), ('13C.NTH.D30.R4_Frac15', 38929), ('12C.NTH.D1.R4_Frac8', 38628), ('13X.PTH.D3.R4_Frac26', 38087), ('13C.NTH.D30.R4_Frac27', 38028), ('12C.NTH.D1.R4_Frac16', 37558), ('13C.NTH.D30.R4_Frac10', 37414), ('13X.NTH.D1.R4_Frac5', 37116), ('12C.NTH.D1.R4_Frac12', 37003), ('13C.NTH.D7.R4_Frac20', 36664), ('12C.NTH.D30.R4_Frac27', 36653), ('13X.PTH.D3.R4_Frac12', 36529), ('12C.NTH.D14.R4_Frac18', 36464), ('12C.PTH.D14.R4_Frac15', 36369), ('12C.NTH.D1.R4_Frac14', 36327), ('13C.NTH.D7.R4_Frac27', 36008), ('13C.NTH.D7.R4_Frac7', 35464), ('13C.NTH.D30.R4_Frac16', 35446), ('13C.NTH.D30.R4_Frac11', 35365), ('12C.PTH.D7.R4_Frac22', 35365), ('13C.NTH.D30.R4_Frac17', 35284), ('13X.PTH.D3.R4_Frac4', 35188), ('13C.NTH.D30.R4_Frac23', 35112), ('12C.PTH.D14.R4_Frac13', 35070), ('13X.NTH.D1.R4_Frac25', 34958), ('12C.NTH.D1.R4_Frac17', 34857), ('Mock_community', 34670), ('12C.PTH.D14.R4_Frac8', 34624), ('13C.NTH.D30.R4_Frac9', 34459), ('12C.NTH.D14.R4_Frac4', 34262), ('12C.NTH.D1.R4_Frac9', 34213), ('13X.NTH.D1.R4_Frac18', 34096), ('12C.PTH.D14.R4_Frac9', 33961), ('13C.NTH.D7.R4_Frac14', 33918), ('12C.NTH.D14.R4_Frac5', 33877), ('13X.NTH.D1.R4_Frac9', 33800), ('12C.PTH.D14.R4_Frac16', 33757), ('13X.PTH.D3.R4_Frac11', 33703), ('12C.NTH.D14.R4_Frac6', 33672), ('12C.NTH.D14.R4_Frac24', 33670), ('13X.NTH.D1.R4_Frac16', 33431), ('13X.PTH.D3.R4_Frac13', 33430), ('13X.PTH.D3.R4_Frac14', 33417), ('13X.PTH.D3.R4_Frac21', 33348), ('13C.NTH.D30.R4_Frac26', 33297), ('13C.NTH.D30.R4_Frac8', 33210), ('13X.PTH.D3.R4_Frac8', 33137), ('13X.NTH.D1.R4_Frac23', 32865), ('12C.PTH.D14.R4_Frac11', 32767), ('12C.PTH.D14.R4_Frac20', 32417), ('13X.PTH.D3.R4_Frac22', 32031), ('12C.NTH.D14.R4_Frac12', 31949), ('12C.NTH.D14.R4_Frac13', 31701), ('13X.NTH.D1.R4_Frac27', 31636), ('12C.PTH.D7.R4_Frac6', 31554), ('13C.NTH.D7.R4_Frac15', 31529), ('12C.NTH.D14.R4_Frac16', 31518), ('12C.PTH.D7.R4_Frac17', 31500), ('13C.NTH.D7.R4_Frac6', 31352), ('12C.PTH.D7.R4_Frac14', 31322), ('13C.NTH.D30.R4_Frac21', 31205), ('12C.PTH.D14.R4_Frac5', 31161), ('12C.PTH.D14.R4_Frac24', 31158), ('13X.NTH.D1.R4_Frac12', 31128), ('13C.NTH.D30.R4_Frac12', 31124), ('13X.NTH.D1.R4_Frac15', 31112), ('13X.NTH.D1.R4_Frac24', 31038), ('13C.NTH.D30.R4_Frac5', 30983), ('12C.NTH.D14.R4_Frac15', 30923), ('13C.NTH.D30.R4_Frac24', 30834), ('13C.NTH.D30.R4_Frac25', 30763), ('13X.PTH.D3.R4_Frac15', 30701), ('13X.PTH.D3.R4_Frac19', 30694), ('12C.PTH.D14.R4_Frac22', 30405), ('13X.NTH.D1.R4_Frac11', 30258), ('12C.PTH.D14.R4_Frac17', 30229), ('12C.PTH.D14.R4_Frac25', 30153), ('13X.PTH.D3.R4_Frac25', 30098), ('12C.NTH.D14.R4_Frac25', 30059), ('13C.NTH.D7.R4_Frac17', 29972), ('13C.NTH.D30.R4_Frac7', 29893), ('13X.NTH.D1.R4_Frac10', 29888), ('13C.NTH.D7.R4_Frac13', 29816), ('12C.PTH.D7.R4_Frac21', 29700), ('13X.NTH.D1.R4_Frac26', 29646), ('12C.NTH.D30.R4_Frac23', 29526), ('13C.NTH.D30.R4_Frac6', 29496), ('13X.NTH.D1.R4_Frac22', 29434), ('12C.PTH.D7.R4_Frac13', 29351), ('12C.PTH.D7.R4_Frac24', 29274), ('13C.NTH.D7.R4_Frac26', 29248), ('13X.NTH.D1.R4_Frac21', 29235), ('12C.NTH.D1.R4_Frac10', 29121), ('13X.NTH.D1.R4_Frac14', 28995), ('13C.NTH.D30.R4_Frac14', 28877), ('12C.NTH.D1.R4_Frac11', 28702), ('12C.NTH.D14.R4_Frac23', 28558), ('12C.NTH.D30.R4_Frac25', 28305), ('13X.PTH.D3.R4_Frac24', 28279), ('12C.PTH.D14.R4_Frac10', 28115), ('13X.NTH.D1.R4_Frac6', 28091), ('13X.PTH.D3.R4_Frac16', 28086), ('13C.NTH.D30.R4_Frac18', 28073), ('12C.NTH.D14.R4_Frac8', 27893), ('13C.NTH.D7.R4_Frac25', 27816), ('12C.NTH.D14.R4_Frac21', 27701), ('13C.NTH.D7.R4_Frac16', 27572), ('13X.PTH.D3.R4_Frac6', 27469), ('12C.NTH.D14.R4_Frac14', 27458), ('13C.NTH.D7.R4_Frac5', 27449), ('13X.NTH.D1.R4_Frac17', 27434), ('13X.PTH.D3.R4_Frac9', 27034), ('12C.PTH.D7.R4_Frac5', 26828), ('13C.NTH.D7.R4_Frac22', 26752), ('12C.NTH.D14.R4_Frac7', 26704), ('12C.PTH.D14.R4_Frac23', 26645), ('12C.NTH.D14.R4_Frac20', 26624), ('12C.PTH.D7.R4_Frac12', 26525), ('12C.NTH.D30.R4_Frac26', 26477), ('12C.PTH.D7.R4_Frac20', 26351), ('12C.PTH.D7.R4_Frac8', 26235), ('13X.PTH.D3.R4_Frac17', 26159), ('13X.NTH.D1.R4_Frac20', 26029), ('13C.NTH.D7.R4_Frac21', 25904), ('13X.NTH.D1.R4_Frac19', 25887), ('12C.NTH.D14.R4_Frac11', 25885), ('13C.NTH.D7.R4_Frac8', 25584), ('12C.PTH.D14.R4_Frac18', 25575), ('12C.NTH.D14.R4_Frac9', 25550), ('13C.NTH.D30.R4_Frac22', 25193), ('12C.PTH.D7.R4_Frac26', 25070), ('13C.NTH.D7.R4_Frac10', 25042), ('13C.NTH.D7.R4_Frac9', 25030), ('12C.PTH.D7.R4_Frac18', 24715), ('12C.NTH.D14.R4_Frac19', 24618), ('12C.NTH.D14.R4_Frac22', 24613), ('13C.NTH.D7.R4_Frac23', 24561), ('12C.NTH.D30.R4_Frac24', 24467), ('13X.PTH.D3.R4_Frac7', 24301), ('12C.NTH.D14.R4_Frac17', 23904), ('12C.NTH.D30.R4_Frac18', 23812), ('12C.PTH.D7.R4_Frac23', 23725), ('12C.PTH.D7.R4_Frac9', 23575), ('12C.PTH.D7.R4_Frac15', 23560), ('12C.PTH.D7.R4_Frac16', 23403), ('13C.NTH.D7.R4_Frac18', 23293), ('13C.NTH.D7.R4_Frac11', 23225), ('12C.NTH.D30.R4_Frac22', 22762), ('13X.PTH.D3.R4_Frac20', 22749), ('12C.NTH.D30.R4_Frac21', 22726), ('12C.PTH.D14.R4_Frac21', 22677), ('12C.PTH.D14.R4_Frac19', 22648), ('12C.PTH.D7.R4_Frac25', 22390), ('12C.PTH.D7.R4_Frac7', 22180), ('13C.NTH.D7.R4_Frac19', 22052), ('13C.NTH.D30.R4_Frac19', 22024), ('12C.NTH.D30.R4_Frac19', 21865), ('13C.NTH.D7.R4_Frac24', 21552), ('13C.NTH.D30.R4_Frac20', 21359), ('12C.PTH.D7.R4_Frac10', 20636), ('13X.PTH.D3.R4_Frac18', 20611), ('12C.NTH.D30.R4_H2O', 6098), ('12C.PTH.D14.R4_H2O', 3944), ('13X.PTH.D3.R4_H2O', 3855), ('13C.NTH.D7.R4_H2O', 3854), ('12C.NTH.D14.R4_H2O', 3610), ('13X.NTH.D1.R4_H2O', 3328), ('13C.NTH.D30.R4_H20', 2728), ('12C.PTH.D7.R4_H2O', 1968)]\n"
     ]
    }
   ],
   "source": [
    "print (cnt.most_common())"
   ]
  },
  {
   "cell_type": "code",
   "execution_count": 26,
   "metadata": {
    "collapsed": false
   },
   "outputs": [
    {
     "ename": "AttributeError",
     "evalue": "'tuple' object has no attribute 'attribute'",
     "output_type": "error",
     "traceback": [
      "\u001b[1;31m---------------------------------------------------------------------------\u001b[0m",
      "\u001b[1;31mAttributeError\u001b[0m                            Traceback (most recent call last)",
      "\u001b[1;32m<ipython-input-26-fb55d9cb2ffe>\u001b[0m in \u001b[0;36m<module>\u001b[1;34m()\u001b[0m\n\u001b[1;32m----> 1\u001b[1;33m \u001b[0mfilter\u001b[0m\u001b[1;33m(\u001b[0m\u001b[1;32mlambda\u001b[0m \u001b[0mx\u001b[0m\u001b[1;33m:\u001b[0m \u001b[0mx\u001b[0m\u001b[1;33m.\u001b[0m\u001b[0mattribute\u001b[0m \u001b[1;33m==\u001b[0m \u001b[1;34m'13X.PTH.D1.R4'\u001b[0m\u001b[1;33m,\u001b[0m \u001b[0mcnt\u001b[0m\u001b[1;33m.\u001b[0m\u001b[0mmost_common\u001b[0m\u001b[1;33m(\u001b[0m\u001b[1;33m)\u001b[0m\u001b[1;33m)\u001b[0m\u001b[1;33m\u001b[0m\u001b[0m\n\u001b[0m",
      "\u001b[1;32m<ipython-input-26-fb55d9cb2ffe>\u001b[0m in \u001b[0;36m<lambda>\u001b[1;34m(x)\u001b[0m\n\u001b[1;32m----> 1\u001b[1;33m \u001b[0mfilter\u001b[0m\u001b[1;33m(\u001b[0m\u001b[1;32mlambda\u001b[0m \u001b[0mx\u001b[0m\u001b[1;33m:\u001b[0m \u001b[0mx\u001b[0m\u001b[1;33m.\u001b[0m\u001b[0mattribute\u001b[0m \u001b[1;33m==\u001b[0m \u001b[1;34m'13X.PTH.D1.R4'\u001b[0m\u001b[1;33m,\u001b[0m \u001b[0mcnt\u001b[0m\u001b[1;33m.\u001b[0m\u001b[0mmost_common\u001b[0m\u001b[1;33m(\u001b[0m\u001b[1;33m)\u001b[0m\u001b[1;33m)\u001b[0m\u001b[1;33m\u001b[0m\u001b[0m\n\u001b[0m",
      "\u001b[1;31mAttributeError\u001b[0m: 'tuple' object has no attribute 'attribute'"
     ]
    }
   ],
   "source": [
    "filter(lambda x: x.attribute == '13Xle.PTH.D1.R4', cnt.most_common())"
   ]
  },
  {
   "cell_type": "code",
   "execution_count": 14,
   "metadata": {
    "collapsed": false
   },
   "outputs": [
    {
     "name": "stdout",
     "output_type": "stream",
     "text": [
      "0\r\n"
     ]
    }
   ],
   "source": [
    "! grep -c \"13X.PTH.D1.R4\" /var/seq_data/Chazy/515_806_SIP/Pool3/pear_merged_raw-2015-08-16.assembled.dmult.fastq"
   ]
  }
 ],
 "metadata": {
  "kernelspec": {
   "display_name": "Python 2",
   "language": "python",
   "name": "python2"
  },
  "language_info": {
   "codemirror_mode": {
    "name": "ipython",
    "version": 2
   },
   "file_extension": ".py",
   "mimetype": "text/x-python",
   "name": "python",
   "nbconvert_exporter": "python",
   "pygments_lexer": "ipython2",
   "version": "2.7.10"
  }
 },
 "nbformat": 4,
 "nbformat_minor": 0
}
