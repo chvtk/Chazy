{
 "cells": [
  {
   "cell_type": "markdown",
   "metadata": {},
   "source": [
    "# Assessing isotopic analysis data for SIP microcosm soil samples submitted back in April of 2015"
   ]
  },
  {
   "cell_type": "markdown",
   "metadata": {},
   "source": [
    "# Setting variables"
   ]
  },
  {
   "cell_type": "code",
   "execution_count": 1,
   "metadata": {
    "collapsed": false
   },
   "outputs": [],
   "source": [
    "import os\n",
    "workDir = '/home/chantal/Chazy/data/Isotopic_analysis/'\n",
    "dataFile = os.path.join(workDir, 'Chazy_IsotopicData.csv')\n",
    "dataFile2 = os.path.join(workDir, '13C_gas.csv')"
   ]
  },
  {
   "cell_type": "markdown",
   "metadata": {},
   "source": [
    "# Init"
   ]
  },
  {
   "cell_type": "code",
   "execution_count": 2,
   "metadata": {
    "collapsed": false
   },
   "outputs": [],
   "source": [
    "%load_ext rpy2.ipython"
   ]
  },
  {
   "cell_type": "code",
   "execution_count": 3,
   "metadata": {
    "collapsed": false
   },
   "outputs": [
    {
     "name": "stderr",
     "output_type": "stream",
     "text": [
      "/opt/anaconda/lib/python2.7/site-packages/rpy2/robjects/functions.py:106: UserWarning: \n",
      "Attaching package: ‘dplyr’\n",
      "\n",
      "\n",
      "  res = super(Function, self).__call__(*new_args, **new_kwargs)\n",
      "/opt/anaconda/lib/python2.7/site-packages/rpy2/robjects/functions.py:106: UserWarning: The following objects are masked from ‘package:stats’:\n",
      "\n",
      "    filter, lag\n",
      "\n",
      "\n",
      "  res = super(Function, self).__call__(*new_args, **new_kwargs)\n",
      "/opt/anaconda/lib/python2.7/site-packages/rpy2/robjects/functions.py:106: UserWarning: The following objects are masked from ‘package:base’:\n",
      "\n",
      "    intersect, setdiff, setequal, union\n",
      "\n",
      "\n",
      "  res = super(Function, self).__call__(*new_args, **new_kwargs)\n"
     ]
    }
   ],
   "source": [
    "%%R\n",
    "library(dplyr)\n",
    "library(tidyr)\n",
    "library(ggplot2)"
   ]
  },
  {
   "cell_type": "markdown",
   "metadata": {},
   "source": [
    "# Loading/editing data table"
   ]
  },
  {
   "cell_type": "code",
   "execution_count": 4,
   "metadata": {
    "collapsed": false
   },
   "outputs": [
    {
     "data": {
      "text/plain": [
       "        Sample.ID    d13C X13C..at... C.Amount..ug. total_sample.mg.\n",
       "19 13C-NTH-D32-R3  675.27     1.83846        617.25            25.40\n",
       "20 13C-NTH-D32-R4 1460.04     2.67662        488.71            25.29\n",
       "21 13C-PTH-D32-R1 2895.19     4.17295        309.97            25.19\n",
       "22 13C-PTH-D32-R2 1266.24     2.47096        331.17            25.70\n",
       "23 13C-PTH-D32-R3  755.84     1.92517        439.62            25.40\n",
       "24 13C-PTH-D32-R4 1579.38     2.80282        439.62            25.51\n",
       "   mgC.mgSample ug.C.13...mg.sample ug.C.13...mg.sample.derived.from.enrichment\n",
       "19   0.02430118           0.4467675                                   0.1732814\n",
       "20   0.01932424           0.5172364                                   0.3122391\n",
       "21   0.01230528           0.5134932                                   0.3328517\n",
       "22   0.01288599           0.3184077                                   0.1892019\n",
       "23   0.01730787           0.3332060                                   0.1401227\n",
       "24   0.01723324           0.4830167                                   0.3116011\n",
       "   total.ug.C total.mg.13C  X Substrate  LM Day Replicate  Sub_LM\n",
       "19   1732.814     1.732814 NA       13C NTH  32         3 13C_NTH\n",
       "20   3122.391     3.122391 NA       13C NTH  32         4 13C_NTH\n",
       "21   3328.517     3.328517 NA       13C PTH  32         1 13C_PTH\n",
       "22   1892.019     1.892019 NA       13C PTH  32         2 13C_PTH\n",
       "23   1401.227     1.401227 NA       13C PTH  32         3 13C_PTH\n",
       "24   3116.011     3.116011 NA       13C PTH  32         4 13C_PTH\n"
      ]
     },
     "metadata": {},
     "output_type": "display_data"
    }
   ],
   "source": [
    "%%R -i dataFile\n",
    "\n",
    "df = read.csv(dataFile, sep=',', header = TRUE)\n",
    "df = filter(df, !(is.na(mgC.mgSample)))\n",
    "tail(df)"
   ]
  },
  {
   "cell_type": "code",
   "execution_count": 5,
   "metadata": {
    "collapsed": false
   },
   "outputs": [
    {
     "data": {
      "text/plain": [
       "        Sample.ID CO2_cum__mg\n",
       "1  13C-PTH-D32-R1    2.843228\n",
       "2  13C-NTH-D32-R1    3.056135\n",
       "3  13C-PTH-D32-R2    2.681623\n",
       "4  13C-NTH-D32-R2    2.949508\n",
       "5  13C-PTH-D32-R3    2.519304\n",
       "6  13C-NTH-D32-R3    2.575874\n",
       "7  13C-PTH-D32-R4    2.431870\n",
       "8  13C-NTH-D32-R4    2.903713\n",
       "9  13X-PTH-D14-R1    2.335290\n",
       "10 13X-NTH-D14-R1    2.424362\n",
       "11 13X-PTH-D14-R2    2.168454\n",
       "12 13X-NTH-D14-R2    2.666039\n",
       "13 13X-PTH-D14-R3    2.192504\n",
       "14 13X-NTH-D14-R3    2.607001\n",
       "15 13X-PTH-D14-R4    2.166218\n",
       "16 13X-NTH-D14-R4    2.541528\n"
      ]
     },
     "metadata": {},
     "output_type": "display_data"
    }
   ],
   "source": [
    "%%R -i dataFile2\n",
    "#Importing gas file\n",
    "df.gas = read.csv(dataFile2, sep=',', header = TRUE)\n",
    "df.gas$Sample.ID = c('13C-PTH-D32-R1','13C-NTH-D32-R1','13C-PTH-D32-R2','13C-NTH-D32-R2','13C-PTH-D32-R3',\n",
    "                     '13C-NTH-D32-R3','13C-PTH-D32-R4','13C-NTH-D32-R4','13X-PTH-D14-R1','13X-NTH-D14-R1',\n",
    "                     '13X-PTH-D14-R2','13X-NTH-D14-R2','13X-PTH-D14-R3',\n",
    "                     '13X-NTH-D14-R3','13X-PTH-D14-R4','13X-NTH-D14-R4' )\n",
    "df.gas = df.gas %>% select(Sample.ID, CO2_cum__mg)\n",
    "df.gas"
   ]
  },
  {
   "cell_type": "code",
   "execution_count": 6,
   "metadata": {
    "collapsed": false
   },
   "outputs": [
    {
     "name": "stderr",
     "output_type": "stream",
     "text": [
      "/opt/anaconda/lib/python2.7/site-packages/rpy2/robjects/functions.py:106: UserWarning: Joining by: \"Sample.ID\"\n",
      "\n",
      "  res = super(Function, self).__call__(*new_args, **new_kwargs)\n"
     ]
    },
    {
     "data": {
      "text/plain": [
       "       Sample.ID   d13C X13C..at... C.Amount..ug. total_sample.mg. mgC.mgSample\n",
       "1 12C-NTH-D32-R1 -21.68     1.08189        505.80            25.14   0.02011933\n",
       "2 12C-NTH-D32-R2 -23.13     1.08031        465.22            25.21   0.01845379\n",
       "3 12C-NTH-D32-R3 -21.82     1.08174        640.90            25.35   0.02528205\n",
       "4 12C-NTH-D32-R4 -22.40     1.08110        478.03            25.21   0.01896192\n",
       "5 12C-PTH-D32-R1 -21.36     1.08224        428.97            25.70   0.01669144\n",
       "6 12C-PTH-D32-R2 -20.52     1.08316        305.73            25.63   0.01192860\n",
       "  ug.C.13...mg.sample ug.C.13...mg.sample.derived.from.enrichment total.ug.C\n",
       "1           0.2176690                                           0          0\n",
       "2           0.1993581                                           0          0\n",
       "3           0.2734861                                           0          0\n",
       "4           0.2049973                                           0          0\n",
       "5           0.1806414                                           0          0\n",
       "6           0.1292058                                           0          0\n",
       "  total.mg.13C  X Substrate  LM Day Replicate  Sub_LM CO2_cum__mg\n",
       "1            0 NA       12C NTH  32         1 12C_NTH          NA\n",
       "2            0 NA       12C NTH  32         2 12C_NTH          NA\n",
       "3            0 NA       12C NTH  32         3 12C_NTH          NA\n",
       "4            0 NA       12C NTH  32         4 12C_NTH          NA\n",
       "5            0 NA       12C PTH  32         1 12C_PTH          NA\n",
       "6            0 NA       12C PTH  32         2 12C_PTH          NA\n"
      ]
     },
     "metadata": {},
     "output_type": "display_data"
    }
   ],
   "source": [
    "%%R\n",
    "df = full_join(df, df.gas)\n",
    "head(df)"
   ]
  },
  {
   "cell_type": "code",
   "execution_count": 7,
   "metadata": {
    "collapsed": false
   },
   "outputs": [
    {
     "data": {
      "text/plain": [
       "        Sample.ID    d13C X13C..at... C.Amount..ug. total_sample.mg.\n",
       "19 13C-NTH-D32-R3  675.27     1.83846        617.25            25.40\n",
       "20 13C-NTH-D32-R4 1460.04     2.67662        488.71            25.29\n",
       "21 13C-PTH-D32-R1 2895.19     4.17295        309.97            25.19\n",
       "22 13C-PTH-D32-R2 1266.24     2.47096        331.17            25.70\n",
       "23 13C-PTH-D32-R3  755.84     1.92517        439.62            25.40\n",
       "24 13C-PTH-D32-R4 1579.38     2.80282        439.62            25.51\n",
       "   mgC.mgSample ug.C.13...mg.sample ug.C.13...mg.sample.derived.from.enrichment\n",
       "19   0.02430118           0.4467675                                   0.1732814\n",
       "20   0.01932424           0.5172364                                   0.3122391\n",
       "21   0.01230528           0.5134932                                   0.3328517\n",
       "22   0.01288599           0.3184077                                   0.1892019\n",
       "23   0.01730787           0.3332060                                   0.1401227\n",
       "24   0.01723324           0.4830167                                   0.3116011\n",
       "   total.ug.C total.mg.13C  X Substrate  LM Day Replicate  Sub_LM CO2_cum__mg\n",
       "19   1732.814     1.732814 NA       13C NTH  32         3 13C_NTH    2.575874\n",
       "20   3122.391     3.122391 NA       13C NTH  32         4 13C_NTH    2.903713\n",
       "21   3328.517     3.328517 NA       13C PTH  32         1 13C_PTH    2.843228\n",
       "22   1892.019     1.892019 NA       13C PTH  32         2 13C_PTH    2.681623\n",
       "23   1401.227     1.401227 NA       13C PTH  32         3 13C_PTH    2.519304\n",
       "24   3116.011     3.116011 NA       13C PTH  32         4 13C_PTH    2.431870\n"
      ]
     },
     "metadata": {},
     "output_type": "display_data"
    }
   ],
   "source": [
    "%%R\n",
    "tail(df)"
   ]
  },
  {
   "cell_type": "code",
   "execution_count": 8,
   "metadata": {
    "collapsed": false
   },
   "outputs": [
    {
     "data": {
      "image/png": "[encoded data removed]"
     },
     "metadata": {},
     "output_type": "display_data"
    }
   ],
   "source": [
    "%%R -w 500 -h 300\n",
    "df = filter(df, !(is.na(Day)))\n",
    "ggplot(df, aes(Sub_LM, d13C, color=as.factor(Day))) +\n",
    "    geom_boxplot() +\n",
    "    geom_jitter(position = position_jitter(height=0, width=0.2), size=2.5) +\n",
    "    theme(\n",
    "        text = element_text(size=16),\n",
    "        axis.text.x = element_text(angle=90, vjust=0.5)\n",
    "    )"
   ]
  },
  {
   "cell_type": "code",
   "execution_count": 9,
   "metadata": {
    "collapsed": true
   },
   "outputs": [],
   "source": [
    "%%R\n",
    "df$LM = relevel(df$LM, ref = 'PTH')"
   ]
  },
  {
   "cell_type": "code",
   "execution_count": 10,
   "metadata": {
    "collapsed": false
   },
   "outputs": [
    {
     "data": {
      "image/png": "[encoded data removed]"
     },
     "metadata": {},
     "output_type": "display_data"
    }
   ],
   "source": [
    "%%R -w 800 -h 400\n",
    "\n",
    "df.no12 = filter(df, Substrate != '12C')\n",
    "\n",
    "Substrate.names <- list(\n",
    "  '13C'=\"13C-Cellulose\",\n",
    "    '13X'=\"13C-Xylose\"\n",
    ")\n",
    "\n",
    "sub_labeller <- function(variable,value){\n",
    "  return(Substrate.names[value])\n",
    "}\n",
    "\n",
    "ggplot(df.no12, aes(LM, total.mg.13C, color = as.factor(Replicate))) +\n",
    "    geom_boxplot(color = 'black', outlier.size = 0) +\n",
    "    geom_point(size=3) +\n",
    "    theme(\n",
    "        text = element_text(size=16),\n",
    "        axis.text.x = element_text(angle=90, vjust=0.5)) + facet_grid(.~ Substrate, labeller=as_labeller(sub_labeller)) +\n",
    "        xlab('Land Management') +\n",
    "        ylab('mg 13C / 10g soil') + scale_color_discrete(name = 'Replicate')"
   ]
  },
  {
   "cell_type": "code",
   "execution_count": 11,
   "metadata": {
    "collapsed": false
   },
   "outputs": [
    {
     "data": {
      "text/plain": [
       "$`13C`\n",
       "[1] \"13C-Cellulose\"\n",
       "\n",
       "$`13X`\n",
       "[1] \"13C-Xylose\"\n",
       "\n"
      ]
     },
     "metadata": {},
     "output_type": "display_data"
    }
   ],
   "source": [
    "%%R\n",
    "sub_labeller(Substrate)"
   ]
  },
  {
   "cell_type": "code",
   "execution_count": 12,
   "metadata": {
    "collapsed": false
   },
   "outputs": [
    {
     "data": {
      "image/png": "[encoded data removed]"
     },
     "metadata": {},
     "output_type": "display_data"
    }
   ],
   "source": [
    "%%R -w 600 -h 400\n",
    "\n",
    "ggplot(df, aes(Sub_LM, X13C..at...)) +\n",
    "    geom_boxplot(aes(color = as.factor(Day))) +\n",
    "    geom_jitter(aes(color = as.factor(Replicate)), position = position_jitter(height=0, width=0.2), size=2.5) +\n",
    "    theme(\n",
    "        text = element_text(size=16),\n",
    "        axis.text.x = element_text(angle=90, vjust=0.5) \n",
    "    ) + scale_color_discrete(name = 'Day') + ylab('13C Atom %') + xlab(NULL)"
   ]
  },
  {
   "cell_type": "code",
   "execution_count": 13,
   "metadata": {
    "collapsed": false
   },
   "outputs": [
    {
     "data": {
      "text/plain": [
       "        Sample.ID    d13C X13C..at... C.Amount..ug. total_sample.mg.\n",
       "19 13C-NTH-D32-R3  675.27     1.83846        617.25            25.40\n",
       "20 13C-NTH-D32-R4 1460.04     2.67662        488.71            25.29\n",
       "21 13C-PTH-D32-R1 2895.19     4.17295        309.97            25.19\n",
       "22 13C-PTH-D32-R2 1266.24     2.47096        331.17            25.70\n",
       "23 13C-PTH-D32-R3  755.84     1.92517        439.62            25.40\n",
       "24 13C-PTH-D32-R4 1579.38     2.80282        439.62            25.51\n",
       "   mgC.mgSample ug.C.13...mg.sample ug.C.13...mg.sample.derived.from.enrichment\n",
       "19   0.02430118           0.4467675                                   0.1732814\n",
       "20   0.01932424           0.5172364                                   0.3122391\n",
       "21   0.01230528           0.5134932                                   0.3328517\n",
       "22   0.01288599           0.3184077                                   0.1892019\n",
       "23   0.01730787           0.3332060                                   0.1401227\n",
       "24   0.01723324           0.4830167                                   0.3116011\n",
       "   total.ug.C total.mg.13C  X Substrate  LM Day Replicate  Sub_LM CO2_cum__mg\n",
       "19   1732.814     1.732814 NA       13C NTH  32         3 13C_NTH    2.575874\n",
       "20   3122.391     3.122391 NA       13C NTH  32         4 13C_NTH    2.903713\n",
       "21   3328.517     3.328517 NA       13C PTH  32         1 13C_PTH    2.843228\n",
       "22   1892.019     1.892019 NA       13C PTH  32         2 13C_PTH    2.681623\n",
       "23   1401.227     1.401227 NA       13C PTH  32         3 13C_PTH    2.519304\n",
       "24   3116.011     3.116011 NA       13C PTH  32         4 13C_PTH    2.431870\n"
      ]
     },
     "metadata": {},
     "output_type": "display_data"
    }
   ],
   "source": [
    "%%R\n",
    "tail(df)"
   ]
  },
  {
   "cell_type": "code",
   "execution_count": 14,
   "metadata": {
    "collapsed": false
   },
   "outputs": [
    {
     "data": {
      "text/plain": [
       "       Sample.ID Replicate Substrate Day  Sub_LM  LM    mg13C source\n",
       "1 13X-NTH-D14-R1         1       13X  14 13X_NTH NTH 1.802534   soil\n",
       "2 13X-NTH-D14-R2         2       13X  14 13X_NTH NTH 1.548683   soil\n",
       "3 13X-NTH-D14-R3         3       13X  14 13X_NTH NTH 2.153888   soil\n",
       "4 13X-NTH-D14-R4         4       13X  14 13X_NTH NTH 1.415802   soil\n",
       "5 13X-PTH-D14-R1         1       13X  14 13X_PTH PTH 0.920019   soil\n",
       "6 13X-PTH-D14-R2         2       13X  14 13X_PTH PTH 1.676552   soil\n"
      ]
     },
     "metadata": {},
     "output_type": "display_data"
    }
   ],
   "source": [
    "%%R\n",
    "df.13.soil = filter(df, Substrate != '12C') %>% select(Sample.ID, Replicate, total.mg.13C, Substrate, Day,\n",
    "                                                  Replicate, Sub_LM, LM)\n",
    "df.13.soil$mg13C = df.13.soil$total.mg.13C\n",
    "df.13.soil$source = 'soil'\n",
    "df.13.soil$total.mg.13C = NULL\n",
    "\n",
    "df.13.gas = filter(df, Substrate != '12C') %>% select(Sample.ID, Replicate, CO2_cum__mg, Substrate, Day,\n",
    "                                               Replicate, Sub_LM, LM)\n",
    "df.13.gas$mg13C = df.13.gas$CO2_cum__mg\n",
    "df.13.gas$source = 'CO2'\n",
    "df.13.gas$CO2_cum__mg = NULL\n",
    "\n",
    "df.13 = rbind(df.13.soil, df.13.gas)\n",
    "head(df.13)"
   ]
  },
  {
   "cell_type": "code",
   "execution_count": 15,
   "metadata": {
    "collapsed": false
   },
   "outputs": [
    {
     "data": {
      "image/png": "[encoded data removed]"
     },
     "metadata": {},
     "output_type": "display_data"
    }
   ],
   "source": [
    "%%R -w 600 -h 600\n",
    "df.13.C = filter(df.13, Substrate == '13C')\n",
    "p = ggplot(df.13.C, aes(Sample.ID, mg13C))+\n",
    "    geom_bar(aes(fill = source), stat = 'identity') + geom_hline(yintercept = 8.8) +\n",
    "    theme(\n",
    "        text = element_text(size=16),\n",
    "        axis.text.x = element_text(angle=40, vjust=0.5)) + ggtitle(\"Mass Balance - Cellulose\")\n",
    "\n",
    "p"
   ]
  },
  {
   "cell_type": "code",
   "execution_count": 41,
   "metadata": {
    "collapsed": false
   },
   "outputs": [
    {
     "data": {
      "text/plain": [
       "       Sample.ID Replicate Substrate Day  Sub_LM  LM      CO2     soil    total\n",
       "1 13C-NTH-D32-R1         1       13C  32 13C_NTH NTH 3.056135 3.131963 6.188098\n",
       "2 13C-NTH-D32-R2         2       13C  32 13C_NTH NTH 2.949508 5.111567 8.061075\n",
       "3 13C-NTH-D32-R3         3       13C  32 13C_NTH NTH 2.575874 1.732814 4.308688\n",
       "4 13C-NTH-D32-R4         4       13C  32 13C_NTH NTH 2.903713 3.122391 6.026104\n",
       "5 13C-PTH-D32-R1         1       13C  32 13C_PTH PTH 2.843228 3.328517 6.171745\n",
       "6 13C-PTH-D32-R2         2       13C  32 13C_PTH PTH 2.681623 1.892019 4.573642\n",
       "  added\n",
       "1  8.88\n",
       "2  8.88\n",
       "3  8.88\n",
       "4  8.88\n",
       "5  8.88\n",
       "6  8.88\n"
      ]
     },
     "metadata": {},
     "output_type": "display_data"
    }
   ],
   "source": [
    "%%R\n",
    "df.13.C.2 = df.13.C %>% spread(source, mg13C) \n",
    "df.13.C.2$total = df.13.C.2$CO2 + df.13.C.2$soil\n",
    "df.13.C.2$added = 8.88\n",
    "\n",
    "head(df.13.C.2)"
   ]
  },
  {
   "cell_type": "code",
   "execution_count": 44,
   "metadata": {
    "collapsed": false
   },
   "outputs": [
    {
     "data": {
      "text/plain": [
       "\n",
       "\tWelch Two Sample t-test\n",
       "\n",
       "data:  df.C.N$total and df.C.N$added\n",
       "t = -3.5646, df = 3, p-value = 0.0377\n",
       "alternative hypothesis: true difference in means is not equal to 0\n",
       "95 percent confidence interval:\n",
       " -5.1749287 -0.2930887\n",
       "sample estimates:\n",
       "mean of x mean of y \n",
       " 6.145991  8.880000 \n",
       "\n"
      ]
     },
     "metadata": {},
     "output_type": "display_data"
    }
   ],
   "source": [
    "%%R\n",
    "df.C.N = filter(df.13.C.2, LM == 'NTH')\n",
    "df.C.P = filter(df.13.C.2, LM == 'PTH')\n",
    "\n",
    "t.test(df.C.N$total, df.C.N$added)"
   ]
  },
  {
   "cell_type": "code",
   "execution_count": 45,
   "metadata": {
    "collapsed": false
   },
   "outputs": [
    {
     "data": {
      "text/plain": [
       "\n",
       "\tWelch Two Sample t-test\n",
       "\n",
       "data:  df.C.P$total and df.C.P$added\n",
       "t = -7.6419, df = 3, p-value = 0.004653\n",
       "alternative hypothesis: true difference in means is not equal to 0\n",
       "95 percent confidence interval:\n",
       " -5.420097 -2.233003\n",
       "sample estimates:\n",
       "mean of x mean of y \n",
       "  5.05345   8.88000 \n",
       "\n"
      ]
     },
     "metadata": {},
     "output_type": "display_data"
    }
   ],
   "source": [
    "%%R\n",
    "df.C.N = filter(df.13.C.2, LM == 'NTH')\n",
    "df.C.P = filter(df.13.C.2, LM == 'PTH')\n",
    "\n",
    "t.test(df.C.P$total, df.C.P$added)"
   ]
  },
  {
   "cell_type": "code",
   "execution_count": 16,
   "metadata": {
    "collapsed": false
   },
   "outputs": [
    {
     "data": {
      "text/plain": [
       "Source: local data frame [8 x 3]\n",
       "\n",
       "       Sample.ID total13C  missingC\n",
       "           (chr)    (dbl)     (dbl)\n",
       "1 13C-NTH-D32-R2 8.061075 0.7389252\n",
       "2 13C-NTH-D32-R1 6.188098 2.6119021\n",
       "3 13C-PTH-D32-R1 6.171745 2.6282550\n",
       "4 13C-NTH-D32-R4 6.026104 2.7738958\n",
       "5 13C-PTH-D32-R4 5.547882 3.2521181\n",
       "6 13C-PTH-D32-R2 4.573642 4.2263585\n",
       "7 13C-NTH-D32-R3 4.308688 4.4913118\n",
       "8 13C-PTH-D32-R3 3.920531 4.8794688\n",
       "   Min. 1st Qu.  Median    Mean 3rd Qu.    Max. \n",
       " 0.7389  2.6240  3.0130  3.2000  4.2930  4.8790 \n",
       "[1] 1.333922\n"
      ]
     },
     "metadata": {},
     "output_type": "display_data"
    }
   ],
   "source": [
    "%%R\n",
    "missC = (df.13.C) %>% group_by(Sample.ID) %>% summarise(total13C = sum(mg13C))  %>% mutate(missingC = 8.8 - total13C) %>%\n",
    "    arrange(missingC)\n",
    "print(missC)\n",
    "print(summary(missC$missingC))\n",
    "print(sd(missC$missingC))\n"
   ]
  },
  {
   "cell_type": "code",
   "execution_count": 17,
   "metadata": {
    "collapsed": true
   },
   "outputs": [],
   "source": [
    "%%R\n",
    "ggsave(p, file = 'data/figs/Cellulose_mass_balance.jpg', width=6, height=6)"
   ]
  },
  {
   "cell_type": "code",
   "execution_count": 18,
   "metadata": {
    "collapsed": false
   },
   "outputs": [
    {
     "data": {
      "image/png": "[encoded data removed]"
     },
     "metadata": {},
     "output_type": "display_data"
    }
   ],
   "source": [
    "%%R -w 600 -h 600\n",
    "df.13.X = filter(df.13, Substrate == '13X')\n",
    "p = ggplot(df.13.X, aes(Sample.ID, mg13C))+\n",
    "    geom_bar(aes(fill = source), stat = 'identity') + geom_hline(yintercept = 4.5) +\n",
    "    theme(\n",
    "        text = element_text(size=16),\n",
    "        axis.text.x = element_text(angle=40, vjust=0.5)) + ggtitle(\"Mass Balance - Xylose\")\n",
    "\n",
    "p"
   ]
  },
  {
   "cell_type": "code",
   "execution_count": 37,
   "metadata": {
    "collapsed": false
   },
   "outputs": [
    {
     "data": {
      "text/plain": [
       "       Sample.ID Replicate Substrate Day  Sub_LM  LM      CO2     soil    total\n",
       "1 13X-NTH-D14-R1         1       13X  14 13X_NTH NTH 2.424362 1.802534 4.226897\n",
       "2 13X-NTH-D14-R2         2       13X  14 13X_NTH NTH 2.666039 1.548683 4.214722\n",
       "3 13X-NTH-D14-R3         3       13X  14 13X_NTH NTH 2.607001 2.153888 4.760889\n",
       "4 13X-NTH-D14-R4         4       13X  14 13X_NTH NTH 2.541528 1.415802 3.957330\n",
       "5 13X-PTH-D14-R1         1       13X  14 13X_PTH PTH 2.335290 0.920019 3.255309\n",
       "6 13X-PTH-D14-R2         2       13X  14 13X_PTH PTH 2.168454 1.676552 3.845006\n",
       "  added\n",
       "1   4.5\n",
       "2   4.5\n",
       "3   4.5\n",
       "4   4.5\n",
       "5   4.5\n",
       "6   4.5\n"
      ]
     },
     "metadata": {},
     "output_type": "display_data"
    }
   ],
   "source": [
    "%%R\n",
    "df.13.X.2 = df.13.X %>% spread(source, mg13C) \n",
    "df.13.X.2$total = df.13.X.2$CO2 + df.13.X.2$soil\n",
    "df.13.X.2$added = 4.5\n",
    "\n",
    "head(df.13.X.2)"
   ]
  },
  {
   "cell_type": "code",
   "execution_count": 38,
   "metadata": {
    "collapsed": false
   },
   "outputs": [
    {
     "data": {
      "text/plain": [
       "\n",
       "\tWelch Two Sample t-test\n",
       "\n",
       "data:  df.13.X.2$total and df.13.X.2$added\n",
       "t = -3.3965, df = 7, p-value = 0.0115\n",
       "alternative hypothesis: true difference in means is not equal to 0\n",
       "95 percent confidence interval:\n",
       " -0.9126871 -0.1634723\n",
       "sample estimates:\n",
       "mean of x mean of y \n",
       "  3.96192   4.50000 \n",
       "\n"
      ]
     },
     "metadata": {},
     "output_type": "display_data"
    }
   ],
   "source": [
    "%%R\n",
    "t.test(df.13.X.2$total, df.13.X.2$added)"
   ]
  },
  {
   "cell_type": "code",
   "execution_count": 46,
   "metadata": {
    "collapsed": false
   },
   "outputs": [
    {
     "data": {
      "text/plain": [
       "\n",
       "\tWelch Two Sample t-test\n",
       "\n",
       "data:  df.X.N$total and df.X.N$added\n",
       "t = -1.2441, df = 3, p-value = 0.3018\n",
       "alternative hypothesis: true difference in means is not equal to 0\n",
       "95 percent confidence interval:\n",
       " -0.7473424  0.3272610\n",
       "sample estimates:\n",
       "mean of x mean of y \n",
       " 4.289959  4.500000 \n",
       "\n",
       "\n",
       "\tWelch Two Sample t-test\n",
       "\n",
       "data:  df.X.P$total and df.X.P$added\n",
       "t = -6.667, df = 3, p-value = 0.00688\n",
       "alternative hypothesis: true difference in means is not equal to 0\n",
       "95 percent confidence interval:\n",
       " -1.2795531 -0.4526842\n",
       "sample estimates:\n",
       "mean of x mean of y \n",
       " 3.633881  4.500000 \n",
       "\n"
      ]
     },
     "metadata": {},
     "output_type": "display_data"
    }
   ],
   "source": [
    "%%R\n",
    "df.X.N = filter(df.13.X.2, LM == 'NTH')\n",
    "df.X.P = filter(df.13.X.2, LM == 'PTH')\n",
    "\n",
    "print(t.test(df.X.N$total, df.X.N$added))\n",
    "print(t.test(df.X.P$total, df.X.P$added))"
   ]
  },
  {
   "cell_type": "code",
   "execution_count": 19,
   "metadata": {
    "collapsed": true
   },
   "outputs": [],
   "source": [
    "\n",
    "%%R\n",
    "ggsave(p, file = 'data/figs/Xylose_mass_balance.jpg', width=6, height=6)"
   ]
  },
  {
   "cell_type": "code",
   "execution_count": 20,
   "metadata": {
    "collapsed": false
   },
   "outputs": [
    {
     "data": {
      "text/plain": [
       "Source: local data frame [8 x 3]\n",
       "\n",
       "       Sample.ID total13C   missingC\n",
       "           (chr)    (dbl)      (dbl)\n",
       "1 13X-NTH-D14-R3 4.760889 -0.2608890\n",
       "2 13X-NTH-D14-R1 4.226897  0.2731035\n",
       "3 13X-NTH-D14-R2 4.214722  0.2852783\n",
       "4 13X-NTH-D14-R4 3.957330  0.5426701\n",
       "5 13X-PTH-D14-R2 3.845006  0.6549937\n",
       "6 13X-PTH-D14-R3 3.735104  0.7648958\n",
       "7 13X-PTH-D14-R4 3.700105  0.7998946\n",
       "8 13X-PTH-D14-R1 3.255309  1.2446905\n",
       "   Min. 1st Qu.  Median    Mean 3rd Qu.    Max. \n",
       "-0.2609  0.2822  0.5988  0.5381  0.7736  1.2450 \n",
       "[1] 0.4480838\n"
      ]
     },
     "metadata": {},
     "output_type": "display_data"
    }
   ],
   "source": [
    "%%R\n",
    "missC = (df.13.X) %>% group_by(Sample.ID) %>% summarise(total13C = sum(mg13C))  %>% mutate(missingC = 4.5 - total13C) %>%\n",
    "    arrange(missingC)\n",
    "print(missC)\n",
    "print(summary(missC$missingC))\n",
    "print(sd(missC$missingC))\n"
   ]
  },
  {
   "cell_type": "code",
   "execution_count": 21,
   "metadata": {
    "collapsed": false
   },
   "outputs": [
    {
     "data": {
      "text/plain": [
       "       Sample.ID Replicate Substrate Day  Sub_LM  LM    mg13C source\n",
       "1 13X-NTH-D14-R1         1       13X  14 13X_NTH NTH 1.802534   soil\n",
       "2 13X-NTH-D14-R2         2       13X  14 13X_NTH NTH 1.548683   soil\n",
       "3 13X-NTH-D14-R3         3       13X  14 13X_NTH NTH 2.153888   soil\n",
       "4 13X-NTH-D14-R4         4       13X  14 13X_NTH NTH 1.415802   soil\n",
       "5 13X-PTH-D14-R1         1       13X  14 13X_PTH PTH 0.920019   soil\n",
       "6 13X-PTH-D14-R2         2       13X  14 13X_PTH PTH 1.676552   soil\n"
      ]
     },
     "metadata": {},
     "output_type": "display_data"
    }
   ],
   "source": [
    "%%R\n",
    "head(df.13)"
   ]
  },
  {
   "cell_type": "code",
   "execution_count": 22,
   "metadata": {
    "collapsed": false
   },
   "outputs": [
    {
     "data": {
      "text/plain": [
       "Source: local data frame [6 x 5]\n",
       "Groups: Substrate, source [3]\n",
       "\n",
       "  Substrate source     LM mean_mg13C   sd_mg13C\n",
       "     (fctr)  (chr) (fctr)      (dbl)      (dbl)\n",
       "1       13C    CO2    PTH   2.619006 0.18180238\n",
       "2       13C    CO2    NTH   2.871308 0.20704898\n",
       "3       13C   soil    PTH   2.434444 0.93553267\n",
       "4       13C   soil    NTH   3.274684 1.38985160\n",
       "5       13X    CO2    PTH   2.215617 0.08066509\n",
       "6       13X    CO2    NTH   2.559733 0.10358881\n"
      ]
     },
     "metadata": {},
     "output_type": "display_data"
    }
   ],
   "source": [
    "%%R\n",
    "head(df.13)\n",
    "\n",
    "df.plot = df.13 %>% group_by(Substrate, source, LM) %>% summarise(mean_mg13C = mean(mg13C), sd_mg13C = sd(mg13C))\n",
    "head(df.plot)"
   ]
  },
  {
   "cell_type": "code",
   "execution_count": 23,
   "metadata": {
    "collapsed": false
   },
   "outputs": [],
   "source": [
    "%%R\n",
    "df.plot = df.plot %>% ungroup() %>% arrange(Substrate, LM)"
   ]
  },
  {
   "cell_type": "code",
   "execution_count": 24,
   "metadata": {
    "collapsed": false
   },
   "outputs": [
    {
     "data": {
      "text/plain": [
       "Source: local data frame [8 x 5]\n",
       "\n",
       "  Substrate source     LM mean_mg13C   sd_mg13C\n",
       "     (fctr)  (chr) (fctr)      (dbl)      (dbl)\n",
       "1       13C    CO2    PTH   2.619006 0.18180238\n",
       "2       13C   soil    PTH   2.434444 0.93553267\n",
       "3       13C    CO2    NTH   2.871308 0.20704898\n",
       "4       13C   soil    NTH   3.274684 1.38985160\n",
       "5       13X    CO2    PTH   2.215617 0.08066509\n",
       "6       13X   soil    PTH   1.418265 0.33852086\n",
       "7       13X    CO2    NTH   2.559733 0.10358881\n",
       "8       13X   soil    NTH   1.730227 0.32482736\n"
      ]
     },
     "metadata": {},
     "output_type": "display_data"
    }
   ],
   "source": [
    "%%R\n",
    "(df.plot)"
   ]
  },
  {
   "cell_type": "code",
   "execution_count": 25,
   "metadata": {
    "collapsed": false
   },
   "outputs": [
    {
     "data": {
      "image/png": "[encoded data removed]"
     },
     "metadata": {},
     "output_type": "display_data"
    }
   ],
   "source": [
    "%%R -w 600 -h 600\n",
    "\n",
    "#df.plot[df.plot$source == 'soil', 'mean_mg13C']\n",
    "\n",
    "starting_point = as.data.frame(c(0, 2.871308,0, 2.619006,0,2.215617, 0, 2.559733))\n",
    "ending_point = as.data.frame(c(0, 2.871308,0, 2.619006,0,2.215617 ,0,2.559733 ))\n",
    "\n",
    "s = as.data.frame(df.plot$mean_mg13C - df.plot$sd_mg13C) \n",
    "e = as.data.frame(df.plot$mean_mg13C + df.plot$sd_mg13C)\n",
    "\n",
    "start = s + starting_point \n",
    "end = e + ending_point\n",
    "\n",
    "colnames(start) = 'start'\n",
    "colnames(end) = 'end'\n",
    "\n",
    "p = ggplot(df.plot, aes(LM, mean_mg13C)) +\n",
    "    geom_bar(aes(fill = source), stat = 'identity') + \n",
    "   geom_errorbar(ymin = start$start, ymax = end$end) +\n",
    "    theme(\n",
    "        text = element_text(size=16),\n",
    "        axis.text.x = element_text(angle=40, vjust=0.5)) + ggtitle(\"Mass Balance\") + \n",
    "    facet_wrap(~Substrate, ncol = 2) + xlab(NULL) + ylim(0,9) + ylab('13C (mg)')\n",
    "\n",
    "\n",
    "hline.data <- data.frame(z = c(8.8, 4.5), Substrate = c(\"13C\",\"13X\")) \n",
    "p = p + geom_hline(aes(yintercept = z), hline.data, color = 'red')\n",
    "\n",
    "p\n",
    "\n",
    "        "
   ]
  },
  {
   "cell_type": "code",
   "execution_count": 26,
   "metadata": {
    "collapsed": true
   },
   "outputs": [],
   "source": [
    "%%R\n",
    "ggsave(p, file = 'data/figs/Summative_MassBalance.jpg', width=6, height=6)"
   ]
  },
  {
   "cell_type": "code",
   "execution_count": 27,
   "metadata": {
    "collapsed": false
   },
   "outputs": [
    {
     "data": {
      "text/plain": [
       "       Sample.ID   d13C X13C..at... C.Amount..ug. total_sample.mg. mgC.mgSample\n",
       "1 12C-NTH-D32-R1 -21.68     1.08189        505.80            25.14   0.02011933\n",
       "2 12C-NTH-D32-R2 -23.13     1.08031        465.22            25.21   0.01845379\n",
       "3 12C-NTH-D32-R3 -21.82     1.08174        640.90            25.35   0.02528205\n",
       "4 12C-NTH-D32-R4 -22.40     1.08110        478.03            25.21   0.01896192\n",
       "5 12C-PTH-D32-R1 -21.36     1.08224        428.97            25.70   0.01669144\n",
       "6 12C-PTH-D32-R2 -20.52     1.08316        305.73            25.63   0.01192860\n",
       "  ug.C.13...mg.sample ug.C.13...mg.sample.derived.from.enrichment total.ug.C\n",
       "1           0.2176690                                           0          0\n",
       "2           0.1993581                                           0          0\n",
       "3           0.2734861                                           0          0\n",
       "4           0.2049973                                           0          0\n",
       "5           0.1806414                                           0          0\n",
       "6           0.1292058                                           0          0\n",
       "  total.mg.13C  X Substrate  LM Day Replicate  Sub_LM CO2_cum__mg\n",
       "1            0 NA       12C NTH  32         1 12C_NTH          NA\n",
       "2            0 NA       12C NTH  32         2 12C_NTH          NA\n",
       "3            0 NA       12C NTH  32         3 12C_NTH          NA\n",
       "4            0 NA       12C NTH  32         4 12C_NTH          NA\n",
       "5            0 NA       12C PTH  32         1 12C_PTH          NA\n",
       "6            0 NA       12C PTH  32         2 12C_PTH          NA\n"
      ]
     },
     "metadata": {},
     "output_type": "display_data"
    }
   ],
   "source": [
    "%%R\n",
    "head(df)"
   ]
  },
  {
   "cell_type": "code",
   "execution_count": 59,
   "metadata": {
    "collapsed": false
   },
   "outputs": [
    {
     "data": {
      "text/plain": [
       "\n",
       "\tPaired t-test\n",
       "\n",
       "data:  df.filt$total.mg.13C by df.filt$LM\n",
       "t = -1.0496, df = 3, p-value = 0.371\n",
       "alternative hypothesis: true difference in means is not equal to 0\n",
       "95 percent confidence interval:\n",
       " -3.38787  1.70739\n",
       "sample estimates:\n",
       "mean of the differences \n",
       "               -0.84024 \n",
       "\n"
      ]
     },
     "metadata": {},
     "output_type": "display_data"
    }
   ],
   "source": [
    "%%R\n",
    "df.filt = filter(df, Substrate == '13C') %>% arrange(LM)\n",
    "test = t.test(df.filt$total.mg.13C ~ df.filt$LM, paired = TRUE)\n",
    "test"
   ]
  },
  {
   "cell_type": "code",
   "execution_count": 60,
   "metadata": {
    "collapsed": false
   },
   "outputs": [
    {
     "data": {
      "text/plain": [
       "\n",
       "\tPaired t-test\n",
       "\n",
       "data:  df.filt$total.mg.13C by df.filt$LM\n",
       "t = -1.2131, df = 3, p-value = 0.3119\n",
       "alternative hypothesis: true difference in means is not equal to 0\n",
       "95 percent confidence interval:\n",
       " -1.1303314  0.5064075\n",
       "sample estimates:\n",
       "mean of the differences \n",
       "             -0.3119619 \n",
       "\n"
      ]
     },
     "metadata": {},
     "output_type": "display_data"
    }
   ],
   "source": [
    "%%R\n",
    "df.filt = filter(df, Substrate == '13X') %>% arrange(LM)\n",
    "test = t.test(df.filt$total.mg.13C ~ df.filt$LM, paired = TRUE)\n",
    "test"
   ]
  },
  {
   "cell_type": "code",
   "execution_count": 54,
   "metadata": {
    "collapsed": false
   },
   "outputs": [
    {
     "data": {
      "text/plain": [
       "                  Df Sum Sq Mean Sq F value Pr(>F)  \n",
       "df.filt$Substrate  1  6.557   6.557   8.084 0.0138 *\n",
       "df.filt$Replicate  1  0.143   0.143   0.176 0.6814  \n",
       "Residuals         13 10.545   0.811                 \n",
       "---\n",
       "Signif. codes:  0 ‘***’ 0.001 ‘**’ 0.01 ‘*’ 0.05 ‘.’ 0.1 ‘ ’ 1\n"
      ]
     },
     "metadata": {},
     "output_type": "display_data"
    }
   ],
   "source": [
    "%%R\n",
    "df.filt = filter(df, Substrate != '12C') %>% arrange(LM)\n",
    "test = aov(df.filt$total.mg.13C ~ df.filt$Substrate + df.filt$Replicate, p.adj = \"BH\")#, paired = TRUE)\n",
    "summary(test)"
   ]
  },
  {
   "cell_type": "code",
   "execution_count": 51,
   "metadata": {
    "collapsed": false
   },
   "outputs": [
    {
     "data": {
      "text/plain": [
       "                  Df Sum Sq Mean Sq F value Pr(>F)  \n",
       "df.filt$Sub_LM     3  8.164  2.7212   3.349 0.0593 .\n",
       "df.filt$Replicate  1  0.143  0.1431   0.176 0.6828  \n",
       "Residuals         11  8.938  0.8125                 \n",
       "---\n",
       "Signif. codes:  0 ‘***’ 0.001 ‘**’ 0.01 ‘*’ 0.05 ‘.’ 0.1 ‘ ’ 1\n"
      ]
     },
     "metadata": {},
     "output_type": "display_data"
    }
   ],
   "source": [
    "%%R\n",
    "df.filt = filter(df, Substrate != '12C') %>% arrange(LM)\n",
    "test = aov(df.filt$total.mg.13C ~ df.filt$Sub_LM + df.filt$Replicate, p.adj = \"BH\")#, paired = TRUE)\n",
    "summary(test)"
   ]
  },
  {
   "cell_type": "code",
   "execution_count": 52,
   "metadata": {
    "collapsed": false
   },
   "outputs": [
    {
     "data": {
      "text/plain": [
       "  Tukey multiple comparisons of means\n",
       "    95% family-wise confidence level\n",
       "\n",
       "Fit: aov(formula = df.filt$total.mg.13C ~ df.filt$Sub_LM + df.filt$Replicate, p.adj = \"BH\")\n",
       "\n",
       "$`df.filt$Sub_LM`\n",
       "                      diff       lwr        upr     p adj\n",
       "13C_PTH-13C_NTH -0.8402400 -2.758510 1.07802998 0.5709977\n",
       "13X_NTH-13C_NTH -1.5444571 -3.462727 0.37381297 0.1297558\n",
       "13X_PTH-13C_NTH -1.8564190 -3.774689 0.06185103 0.0587313\n",
       "13X_NTH-13C_PTH -0.7042170 -2.622487 1.21405301 0.6940734\n",
       "13X_PTH-13C_PTH -1.0161790 -2.934449 0.90209107 0.4203199\n",
       "13X_PTH-13X_NTH -0.3119619 -2.230232 1.60630809 0.9598449\n",
       "\n"
      ]
     },
     "metadata": {},
     "output_type": "display_data"
    }
   ],
   "source": [
    "%%R\n",
    "TukeyHSD(test)"
   ]
  },
  {
   "cell_type": "code",
   "execution_count": 30,
   "metadata": {
    "collapsed": false
   },
   "outputs": [
    {
     "data": {
      "text/plain": [
       "       Sample.ID    d13C X13C..at... C.Amount..ug. total_sample.mg.\n",
       "1 13X-PTH-D14-R1  891.15     2.07045        333.29            25.31\n",
       "2 13X-PTH-D14-R2 1076.35     2.26861        333.29            25.47\n",
       "3 13X-PTH-D14-R3  710.77     1.87668        463.08            25.02\n",
       "4 13X-PTH-D14-R4  835.41     2.01066        411.93            25.50\n",
       "5 13C-PTH-D32-R1 2895.19     4.17295        309.97            25.19\n",
       "6 13C-PTH-D32-R2 1266.24     2.47096        331.17            25.70\n",
       "  mgC.mgSample ug.C.13...mg.sample ug.C.13...mg.sample.derived.from.enrichment\n",
       "1   0.01316831           0.2726433                                   0.0920019\n",
       "2   0.01308559           0.2968610                                   0.1676552\n",
       "3   0.01850839           0.3473433                                   0.1542600\n",
       "4   0.01615412           0.3248044                                   0.1533888\n",
       "5   0.01230528           0.5134932                                   0.3328517\n",
       "6   0.01288599           0.3184077                                   0.1892019\n",
       "  total.ug.C total.mg.13C  X Substrate  LM Day Replicate  Sub_LM CO2_cum__mg\n",
       "1    920.019     0.920019 NA       13X PTH  14         1 13X_PTH    2.335290\n",
       "2   1676.552     1.676552 NA       13X PTH  14         2 13X_PTH    2.168454\n",
       "3   1542.600     1.542600 NA       13X PTH  14         3 13X_PTH    2.192504\n",
       "4   1533.888     1.533888 NA       13X PTH  14         4 13X_PTH    2.166218\n",
       "5   3328.517     3.328517 NA       13C PTH  32         1 13C_PTH    2.843228\n",
       "6   1892.019     1.892019 NA       13C PTH  32         2 13C_PTH    2.681623\n"
      ]
     },
     "metadata": {},
     "output_type": "display_data"
    }
   ],
   "source": [
    "%%R\n",
    "head(df.filt)"
   ]
  },
  {
   "cell_type": "code",
   "execution_count": 31,
   "metadata": {
    "collapsed": false
   },
   "outputs": [
    {
     "data": {
      "text/plain": [
       "\n",
       "\tPairwise comparisons using t tests with pooled SD \n",
       "\n",
       "data:  df.filt$total.mg.13C and df.filt$Sub_LM \n",
       "\n",
       "        13C_NTH 13C_PTH 13X_NTH\n",
       "13C_PTH 0.296   -       -      \n",
       "13X_NTH 0.082   0.330   -      \n",
       "13X_PTH 0.064   0.249   0.621  \n",
       "\n",
       "P value adjustment method: BH \n"
      ]
     },
     "metadata": {},
     "output_type": "display_data"
    }
   ],
   "source": [
    "%%R\n",
    "pairwise.t.test(df.filt$total.mg.13C, df.filt$Sub_LM, p.adjust.method = 'BH')#,\n",
    "                #paired = TRUE)"
   ]
  },
  {
   "cell_type": "code",
   "execution_count": 32,
   "metadata": {
    "collapsed": false
   },
   "outputs": [],
   "source": [
    "%%R\n",
    "df.cell = filter(df, Substrate == '13C')\n",
    "df.cell$perc_left_soil = df.cell$total.mg.13C / 8.8 *100\n",
    "df.cell$perc_CO2 = df.cell$CO2_cum__mg / 8.8 *100\n",
    "\n",
    "df.xyl = filter(df, Substrate == '13X')\n",
    "df.xyl$perc_left_soil = df.xyl$total.mg.13C / 4.5 *100\n",
    "df.xyl$perc_CO2 = df.xyl$CO2_cum__mg / 4.5 *100"
   ]
  },
  {
   "cell_type": "code",
   "execution_count": 33,
   "metadata": {
    "collapsed": false
   },
   "outputs": [
    {
     "data": {
      "image/png": "[encoded data removed]"
     },
     "metadata": {},
     "output_type": "display_data"
    }
   ],
   "source": [
    "%%R -w 800 -h 400\n",
    "\n",
    "df.perc.total = rbind(df.cell, df.xyl)\n",
    "\n",
    "ggplot(df.perc.total, aes(x = LM, y = perc_left_soil)) +\n",
    "    geom_boxplot() +\n",
    "    geom_point(aes(color = as.factor(Replicate)), size = 3) +\n",
    "    facet_grid(~Substrate, labeller=as_labeller(sub_labeller))+ \n",
    "    xlab(NULL) + ylab('Percent 13C in soil') + scale_color_discrete(name = 'Replicate') +\n",
    "    theme(\n",
    "        text = element_text(size=16),\n",
    "        axis.text.x = element_text(vjust=0.5))"
   ]
  },
  {
   "cell_type": "code",
   "execution_count": 34,
   "metadata": {
    "collapsed": false
   },
   "outputs": [
    {
     "data": {
      "image/png": "[encoded data removed]"
     },
     "metadata": {},
     "output_type": "display_data"
    }
   ],
   "source": [
    "%%R -w 800 -h 400\n",
    "\n",
    "df.perc.total = rbind(df.cell, df.xyl)\n",
    "\n",
    "ggplot(df.perc.total, aes(x = LM, y = perc_CO2)) +\n",
    "    geom_boxplot() +\n",
    "    geom_point(aes(color = as.factor(Replicate)), size = 3) +\n",
    "    facet_grid(~Substrate, labeller=as_labeller(sub_labeller))+ \n",
    "    xlab(NULL) + ylab('Percent 13C as CO2') + scale_color_discrete(name = 'Replicate') +\n",
    "    theme(\n",
    "        text = element_text(size=16),\n",
    "        axis.text.x = element_text(vjust=0.5))"
   ]
  }
 ],
 "metadata": {
  "kernelspec": {
   "display_name": "Python 2",
   "language": "python",
   "name": "python2"
  },
  "language_info": {
   "codemirror_mode": {
    "name": "ipython",
    "version": 2
   },
   "file_extension": ".py",
   "mimetype": "text/x-python",
   "name": "python",
   "nbconvert_exporter": "python",
   "pygments_lexer": "ipython2",
   "version": "2.7.11"
  }
 },
 "nbformat": 4,
 "nbformat_minor": 0
}
