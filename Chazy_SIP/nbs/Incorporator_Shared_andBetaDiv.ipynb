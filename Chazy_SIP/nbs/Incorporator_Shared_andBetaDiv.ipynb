{
 "cells": [
  {
   "cell_type": "markdown",
   "metadata": {},
   "source": [
    "# Setting variables"
   ]
  },
  {
   "cell_type": "code",
   "execution_count": 1,
   "metadata": {
    "collapsed": true
   },
   "outputs": [],
   "source": [
    "workDir = '/home/chantal/Chazy/Chazy_SIP/data/'\n",
    "figDir = '/home/chantal/Chazy/Chazy_SIP/data/figs/'\n",
    "\n",
    "physeqDir = '/home/chantal/Chazy/data/phyloseq/'\n",
    "physeqFile = 'SIP-core'\n",
    "\n",
    "\n",
    "# l2fc params\n",
    "l2fc_threshold = 0.25\n",
    "BD_windows = ['1.70-1.73', '1.72-1.75', '1.74-1.77']\n",
    "padj_cutoff = 0.1\n",
    "\n",
    "# misc\n",
    "nprocs = 20"
   ]
  },
  {
   "cell_type": "markdown",
   "metadata": {},
   "source": [
    "# Init"
   ]
  },
  {
   "cell_type": "code",
   "execution_count": 2,
   "metadata": {
    "collapsed": false,
    "scrolled": false
   },
   "outputs": [],
   "source": [
    "import os\n",
    "%load_ext rpy2.ipython\n",
    "#%load_ext pushnote"
   ]
  },
  {
   "cell_type": "code",
   "execution_count": 3,
   "metadata": {
    "collapsed": false
   },
   "outputs": [
    {
     "name": "stderr",
     "output_type": "stream",
     "text": [
      "/opt/anaconda/lib/python2.7/site-packages/rpy2/robjects/functions.py:106: UserWarning: Loading required package: permute\n",
      "\n",
      "  res = super(Function, self).__call__(*new_args, **new_kwargs)\n",
      "/opt/anaconda/lib/python2.7/site-packages/rpy2/robjects/functions.py:106: UserWarning: Loading required package: lattice\n",
      "\n",
      "  res = super(Function, self).__call__(*new_args, **new_kwargs)\n",
      "/opt/anaconda/lib/python2.7/site-packages/rpy2/robjects/functions.py:106: UserWarning: This is vegan 2.3-5\n",
      "\n",
      "  res = super(Function, self).__call__(*new_args, **new_kwargs)\n",
      "/opt/anaconda/lib/python2.7/site-packages/rpy2/robjects/functions.py:106: UserWarning: \n",
      "Attaching package: ‘dplyr’\n",
      "\n",
      "\n",
      "  res = super(Function, self).__call__(*new_args, **new_kwargs)\n",
      "/opt/anaconda/lib/python2.7/site-packages/rpy2/robjects/functions.py:106: UserWarning: The following objects are masked from ‘package:plyr’:\n",
      "\n",
      "    arrange, count, desc, failwith, id, mutate, rename, summarise,\n",
      "    summarize\n",
      "\n",
      "\n",
      "  res = super(Function, self).__call__(*new_args, **new_kwargs)\n",
      "/opt/anaconda/lib/python2.7/site-packages/rpy2/robjects/functions.py:106: UserWarning: The following object is masked from ‘package:gridExtra’:\n",
      "\n",
      "    combine\n",
      "\n",
      "\n",
      "  res = super(Function, self).__call__(*new_args, **new_kwargs)\n",
      "/opt/anaconda/lib/python2.7/site-packages/rpy2/robjects/functions.py:106: UserWarning: The following objects are masked from ‘package:stats’:\n",
      "\n",
      "    filter, lag\n",
      "\n",
      "\n",
      "  res = super(Function, self).__call__(*new_args, **new_kwargs)\n",
      "/opt/anaconda/lib/python2.7/site-packages/rpy2/robjects/functions.py:106: UserWarning: The following objects are masked from ‘package:base’:\n",
      "\n",
      "    intersect, setdiff, setequal, union\n",
      "\n",
      "\n",
      "  res = super(Function, self).__call__(*new_args, **new_kwargs)\n"
     ]
    }
   ],
   "source": [
    "%%R\n",
    "library(vegan)\n",
    "library(phyloseq)\n",
    "library(grid); library(gridExtra)\n",
    "library(tidyr)\n",
    "library(plyr); library(dplyr)\n",
    "library(ggplot2)\n"
   ]
  },
  {
   "cell_type": "code",
   "execution_count": 4,
   "metadata": {
    "collapsed": false
   },
   "outputs": [],
   "source": [
    "if not os.path.isdir(workDir):\n",
    "    os.makedirs(workDir)\n",
    "    \n",
    "if not os.path.isdir(figDir):\n",
    "    os.makedirs(figDir)    "
   ]
  },
  {
   "cell_type": "code",
   "execution_count": 5,
   "metadata": {
    "collapsed": false
   },
   "outputs": [
    {
     "data": {
      "text/plain": [
       "Params loaded in R\n"
      ]
     },
     "metadata": {},
     "output_type": "display_data"
    }
   ],
   "source": [
    "%%R -i l2fc_threshold -i BD_windows -i nprocs -i padj_cutoff\n",
    "\n",
    "cat('Params loaded in R\\n')"
   ]
  },
  {
   "cell_type": "markdown",
   "metadata": {},
   "source": [
    "# Loading phyloseq"
   ]
  },
  {
   "cell_type": "code",
   "execution_count": 6,
   "metadata": {
    "collapsed": false
   },
   "outputs": [
    {
     "data": {
      "text/plain": [
       "phyloseq-class experiment-level object\n",
       "otu_table()   OTU Table:         [ 21115 taxa and 608 samples ]\n",
       "sample_data() Sample Data:       [ 608 samples by 25 sample variables ]\n",
       "tax_table()   Taxonomy Table:    [ 21115 taxa by 8 taxonomic ranks ]\n",
       "phy_tree()    Phylogenetic Tree: [ 21115 tips and 21114 internal nodes ]\n"
      ]
     },
     "metadata": {},
     "output_type": "display_data"
    }
   ],
   "source": [
    "%%R -i physeqDir -i physeqFile \n",
    "\n",
    "F = file.path(physeqDir, physeqFile)\n",
    "physeq = readRDS(F)\n",
    "physeq.m = physeq %>% sample_data\n",
    "physeq"
   ]
  },
  {
   "cell_type": "markdown",
   "metadata": {},
   "source": [
    "## Read in LFC df"
   ]
  },
  {
   "cell_type": "code",
   "execution_count": 7,
   "metadata": {
    "collapsed": true
   },
   "outputs": [],
   "source": [
    "%%R\n",
    "df.l2fc.f = read.table('/home/chantal/Chazy/Chazy_SIP/data/l2fc_sparse-maxRejH.txt', sep = '\\t', header = TRUE)\n",
    "df.l2fc.f$Substrate = df.l2fc.f$Treatment\n",
    "df.l2fc.f$ls = as.character(paste(df.l2fc.f$Treatment, df.l2fc.f$Land_Management, sep = \"-\"))"
   ]
  },
  {
   "cell_type": "code",
   "execution_count": 8,
   "metadata": {
    "collapsed": false
   },
   "outputs": [
    {
     "data": {
      "text/plain": [
       "[1] 5096\n",
       "[1] 1913\n"
      ]
     },
     "metadata": {},
     "output_type": "display_data"
    }
   ],
   "source": [
    "%%R\n",
    "resp_num = filter(df.l2fc.f, padj <=0.10)\n",
    "print(length(resp_num$OTU))\n",
    "print(length(unique(resp_num$OTU)))"
   ]
  },
  {
   "cell_type": "code",
   "execution_count": 9,
   "metadata": {
    "collapsed": false
   },
   "outputs": [
    {
     "data": {
      "text/plain": [
       "Source: local data frame [4 x 2]\n",
       "\n",
       "       ls  resp\n",
       "    (chr) (int)\n",
       "1 13C-NTH  1062\n",
       "2 13C-PTH   935\n",
       "3 13X-NTH   582\n",
       "4 13X-PTH   604\n"
      ]
     },
     "metadata": {},
     "output_type": "display_data"
    }
   ],
   "source": [
    "%%R\n",
    "df.l2fc.f %>% filter(padj <=0.10) %>% group_by(ls) %>% summarise(resp = length(unique(OTU)))"
   ]
  },
  {
   "cell_type": "code",
   "execution_count": 10,
   "metadata": {
    "collapsed": false
   },
   "outputs": [
    {
     "data": {
      "text/plain": [
       "Source: local data frame [16 x 3]\n",
       "Groups: ls [?]\n",
       "\n",
       "        ls   Day  resp\n",
       "     (chr) (int) (int)\n",
       "1  13C-NTH     3    17\n",
       "2  13C-NTH     7   345\n",
       "3  13C-NTH    14   545\n",
       "4  13C-NTH    30   728\n",
       "5  13C-PTH     3   185\n",
       "6  13C-PTH     7   128\n",
       "7  13C-PTH    14   412\n",
       "8  13C-PTH    30   623\n",
       "9  13X-NTH     1   127\n",
       "10 13X-NTH     3   295\n",
       "11 13X-NTH     7   282\n",
       "12 13X-NTH    14   356\n",
       "13 13X-PTH     1   161\n",
       "14 13X-PTH     3   293\n",
       "15 13X-PTH     7   296\n",
       "16 13X-PTH    14   303\n"
      ]
     },
     "metadata": {},
     "output_type": "display_data"
    }
   ],
   "source": [
    "%%R\n",
    "df.l2fc.f %>% filter(padj <=0.10) %>% group_by(ls, Day) %>% summarise(resp = length(unique(OTU)))"
   ]
  },
  {
   "cell_type": "code",
   "execution_count": 11,
   "metadata": {
    "collapsed": true
   },
   "outputs": [],
   "source": [
    "%%R\n",
    "N.X = filter(df.l2fc.f, ls == '13X-NTH', padj <=0.10)\n",
    "P.X = filter(df.l2fc.f, ls == '13X-PTH', padj <=0.10)\n",
    "N.C = filter(df.l2fc.f, ls == '13C-NTH', padj <=0.10)\n",
    "P.C = filter(df.l2fc.f, ls == '13C-PTH', padj <=0.10)"
   ]
  },
  {
   "cell_type": "code",
   "execution_count": 12,
   "metadata": {
    "collapsed": false
   },
   "outputs": [
    {
     "data": {
      "text/plain": [
       "[1] 352\n",
       "[1] 263\n",
       "[1] 224\n",
       "[1] 269\n",
       "[1] 281\n",
       "[1] 440\n"
      ]
     },
     "metadata": {},
     "output_type": "display_data"
    }
   ],
   "source": [
    "%%R\n",
    "print(length(intersect(N.X$OTU, P.X$OTU)))\n",
    "print(length(intersect(N.X$OTU, N.C$OTU)))\n",
    "print(length(intersect(N.X$OTU, P.C$OTU)))\n",
    "print(length(intersect(P.X$OTU, N.C$OTU)))\n",
    "print(length(intersect(P.X$OTU, P.C$OTU)))\n",
    "print(length(intersect(N.C$OTU, P.C$OTU)))"
   ]
  },
  {
   "cell_type": "code",
   "execution_count": 13,
   "metadata": {
    "collapsed": false
   },
   "outputs": [
    {
     "data": {
      "text/plain": [
       "NULL\n"
      ]
     },
     "metadata": {},
     "output_type": "display_data"
    }
   ],
   "source": [
    "%%R ## OTUs intersecting across entire timepoints\n",
    "length(Reduce(intersect, list(N.X$OTU, P.X$OTU, N.C$OTU, P.C$OTU)))"
   ]
  },
  {
   "cell_type": "code",
   "execution_count": 14,
   "metadata": {
    "collapsed": true
   },
   "outputs": [],
   "source": [
    "%%R\n",
    "#Looking at non-overlap communities b/t NT Xyl, PT Xyl and NT Cell, PT Cell\n",
    "N.X.no = filter(N.X, !(OTU %in% intersect(N.X$OTU, P.X$OTU)))\n",
    "P.X.no = filter(P.X, !(OTU %in% intersect(N.X$OTU, P.X$OTU)))\n",
    "\n",
    "N.C.no = filter(N.C, !(OTU %in% intersect(N.C$OTU, P.C$OTU)))\n",
    "P.C.no = filter(P.C, !(OTU %in% intersect(N.C$OTU, P.C$OTU)))"
   ]
  },
  {
   "cell_type": "code",
   "execution_count": 15,
   "metadata": {
    "collapsed": false
   },
   "outputs": [
    {
     "data": {
      "text/plain": [
       "Source: local data frame [3 x 3]\n",
       "\n",
       "   resp   num percentage\n",
       "  (int) (int)      (dbl)\n",
       "1     1   179 0.77826087\n",
       "2     2    42 0.18260870\n",
       "3     3     9 0.03913043\n"
      ]
     },
     "metadata": {},
     "output_type": "display_data"
    }
   ],
   "source": [
    "%%R\n",
    "#NTH-Xylose specific OTUs \n",
    "uniqueresp = N.X.no %>% group_by(OTU) %>% summarise(resp = n()) %>% group_by(resp) %>% summarise(num = n()) %>%\n",
    "        mutate(percentage = num/sum(num))\n",
    "uniqueresp"
   ]
  },
  {
   "cell_type": "code",
   "execution_count": 16,
   "metadata": {
    "collapsed": false
   },
   "outputs": [
    {
     "data": {
      "text/plain": [
       "Source: local data frame [4 x 3]\n",
       "\n",
       "   resp   num percentage\n",
       "  (int) (int)      (dbl)\n",
       "1     1   188 0.74603175\n",
       "2     2    43 0.17063492\n",
       "3     3    18 0.07142857\n",
       "4     4     3 0.01190476\n"
      ]
     },
     "metadata": {},
     "output_type": "display_data"
    }
   ],
   "source": [
    "%%R\n",
    "#PTH-Xylose specific OTUs \n",
    "uniqueresp = P.X.no %>% group_by(OTU) %>% summarise(resp = n()) %>% group_by(resp) %>% summarise(num = n()) %>%\n",
    "        mutate(percentage = num/sum(num))\n",
    "uniqueresp"
   ]
  },
  {
   "cell_type": "code",
   "execution_count": 17,
   "metadata": {
    "collapsed": false
   },
   "outputs": [
    {
     "data": {
      "text/plain": [
       "Source: local data frame [3 x 3]\n",
       "\n",
       "   resp   num percentage\n",
       "  (int) (int)      (dbl)\n",
       "1     1   460 0.73954984\n",
       "2     2   125 0.20096463\n",
       "3     3    37 0.05948553\n"
      ]
     },
     "metadata": {},
     "output_type": "display_data"
    }
   ],
   "source": [
    "%%R\n",
    "#NTH-Cellulose specific OTUs \n",
    "uniqueresp = N.C.no %>% group_by(OTU) %>% summarise(resp = n()) %>% group_by(resp) %>% summarise(num = n()) %>%\n",
    "        mutate(percentage = num/sum(num))\n",
    "uniqueresp"
   ]
  },
  {
   "cell_type": "code",
   "execution_count": 18,
   "metadata": {
    "collapsed": false
   },
   "outputs": [
    {
     "data": {
      "text/plain": [
       "Source: local data frame [3 x 3]\n",
       "\n",
       "   resp   num  percentage\n",
       "  (int) (int)       (dbl)\n",
       "1     1   377 0.761616162\n",
       "2     2   115 0.232323232\n",
       "3     3     3 0.006060606\n"
      ]
     },
     "metadata": {},
     "output_type": "display_data"
    }
   ],
   "source": [
    "%%R\n",
    "#PTH-Cellulose specific OTUs \n",
    "uniqueresp = P.C.no %>% group_by(OTU) %>% summarise(resp = n()) %>% group_by(resp) %>% summarise(num = n()) %>%\n",
    "        mutate(percentage = num/sum(num))\n",
    "uniqueresp"
   ]
  },
  {
   "cell_type": "code",
   "execution_count": 19,
   "metadata": {
    "collapsed": false
   },
   "outputs": [],
   "source": [
    "%%R\n",
    "N.X.D1 = filter(df.l2fc.f, ls == '13X-NTH', padj <=0.10, Day == 1)\n",
    "P.X.D1 = filter(df.l2fc.f, ls == '13X-PTH', padj <=0.10, Day == 1)\n",
    "\n",
    "N.X.D3 = filter(df.l2fc.f, ls == '13X-NTH', padj <=0.10, Day == 3)\n",
    "P.X.D3 = filter(df.l2fc.f, ls == '13X-PTH', padj <=0.10, Day == 3)\n",
    "\n",
    "N.X.D7 = filter(df.l2fc.f, ls == '13X-NTH', padj <=0.10, Day == 7)\n",
    "P.X.D7 = filter(df.l2fc.f, ls == '13X-PTH', padj <=0.10, Day == 7)\n",
    "\n",
    "N.X.D14 = filter(df.l2fc.f, ls == '13X-NTH', padj <=0.10, Day == 14)\n",
    "P.X.D14 = filter(df.l2fc.f, ls == '13X-PTH', padj <=0.10, Day == 14)"
   ]
  },
  {
   "cell_type": "code",
   "execution_count": 20,
   "metadata": {
    "collapsed": false
   },
   "outputs": [
    {
     "data": {
      "text/plain": [
       "[1] 65\n",
       "[1] 134\n",
       "[1] 145\n",
       "[1] 177\n"
      ]
     },
     "metadata": {},
     "output_type": "display_data"
    }
   ],
   "source": [
    "%%R\n",
    "print(length(intersect(N.X.D1$OTU, P.X.D1$OTU)))\n",
    "print(length(intersect(N.X.D3$OTU, P.X.D3$OTU)))\n",
    "print(length(intersect(N.X.D7$OTU, P.X.D7$OTU)))\n",
    "print(length(intersect(N.X.D14$OTU, P.X.D14$OTU)))"
   ]
  },
  {
   "cell_type": "code",
   "execution_count": 21,
   "metadata": {
    "collapsed": false
   },
   "outputs": [],
   "source": [
    "%%R\n",
    "overlap = c(65, 134, 147, 177)\n",
    "Day = as.factor(c(1,3,7,14))\n",
    "xyl.comm.OTUs = data.frame(overlap, Day)"
   ]
  },
  {
   "cell_type": "code",
   "execution_count": 22,
   "metadata": {
    "collapsed": false
   },
   "outputs": [
    {
     "data": {
      "image/png": "[encoded data removed]"
     },
     "metadata": {},
     "output_type": "display_data"
    }
   ],
   "source": [
    "%%R\n",
    "overlap.xyl = ggplot(xyl.comm.OTUs, aes(x = Day, y = overlap)) + geom_bar(stat= 'identity') + \n",
    "        ylab('Number of Shared Xylose OTUs') + theme(text = element_text(size=16))\n",
    "overlap.xyl"
   ]
  },
  {
   "cell_type": "code",
   "execution_count": 23,
   "metadata": {
    "collapsed": true
   },
   "outputs": [],
   "source": [
    "%%R\n",
    "N.C.D3 = filter(df.l2fc.f, ls == '13C-NTH', padj <=0.10, Day == 3)\n",
    "P.C.D3 = filter(df.l2fc.f, ls == '13C-PTH', padj <=0.10, Day == 3)\n",
    "\n",
    "N.C.D7 = filter(df.l2fc.f, ls == '13C-NTH', padj <=0.10, Day == 7)\n",
    "P.C.D7 = filter(df.l2fc.f, ls == '13C-PTH', padj <=0.10, Day == 7)\n",
    "\n",
    "N.C.D14 = filter(df.l2fc.f, ls == '13C-NTH', padj <=0.10, Day == 14)\n",
    "P.C.D14 = filter(df.l2fc.f, ls == '13C-PTH', padj <=0.10, Day == 14)\n",
    "\n",
    "N.C.D30 = filter(df.l2fc.f, ls == '13C-NTH', padj <=0.10, Day == 30)\n",
    "P.C.D30 = filter(df.l2fc.f, ls == '13C-PTH', padj <=0.10, Day == 30)"
   ]
  },
  {
   "cell_type": "code",
   "execution_count": 24,
   "metadata": {
    "collapsed": false
   },
   "outputs": [
    {
     "data": {
      "text/plain": [
       "[1] 13\n",
       "[1] 64\n",
       "[1] 243\n",
       "[1] 216\n"
      ]
     },
     "metadata": {},
     "output_type": "display_data"
    }
   ],
   "source": [
    "%%R\n",
    "print(length(intersect(N.C.D3$OTU, P.C.D3$OTU)))\n",
    "print(length(intersect(N.C.D7$OTU, P.C.D7$OTU)))\n",
    "print(length(intersect(N.C.D14$OTU, P.C.D14$OTU)))\n",
    "print(length(intersect(N.C.D30$OTU, P.C.D30$OTU)))"
   ]
  },
  {
   "cell_type": "code",
   "execution_count": 25,
   "metadata": {
    "collapsed": true
   },
   "outputs": [],
   "source": [
    "%%R\n",
    "overlap = c(13, 64, 243, 216)\n",
    "Day = as.factor(c(3,7,14,30))\n",
    "cell.comm.OTUs = data.frame(overlap, Day)"
   ]
  },
  {
   "cell_type": "code",
   "execution_count": 26,
   "metadata": {
    "collapsed": false
   },
   "outputs": [
    {
     "data": {
      "image/png": "[encoded data removed]"
     },
     "metadata": {},
     "output_type": "display_data"
    }
   ],
   "source": [
    "%%R\n",
    "overlap.cell = ggplot(cell.comm.OTUs, aes(x = Day, y = overlap)) + geom_bar(stat= 'identity') + \n",
    "        ylab('Number of Shared Cellulose OTUs') + theme(text = element_text(size=16))\n",
    "overlap.cell"
   ]
  },
  {
   "cell_type": "code",
   "execution_count": 27,
   "metadata": {
    "collapsed": false
   },
   "outputs": [
    {
     "name": "stderr",
     "output_type": "stream",
     "text": [
      "/opt/anaconda/lib/python2.7/site-packages/rpy2/robjects/functions.py:106: UserWarning: \n",
      "Attaching package: ‘cowplot’\n",
      "\n",
      "\n",
      "  res = super(Function, self).__call__(*new_args, **new_kwargs)\n",
      "/opt/anaconda/lib/python2.7/site-packages/rpy2/robjects/functions.py:106: UserWarning: The following object is masked from ‘package:ggplot2’:\n",
      "\n",
      "    ggsave\n",
      "\n",
      "\n",
      "  res = super(Function, self).__call__(*new_args, **new_kwargs)\n"
     ]
    },
    {
     "data": {
      "image/png": "[encoded data removed]"
     },
     "metadata": {},
     "output_type": "display_data"
    }
   ],
   "source": [
    "%%R -w 500 -h 700\n",
    "library(cowplot)\n",
    "\n",
    "\n",
    "plot_grid(overlap.xyl, overlap.cell, nrow = 2, align = 'v', rel_heights = c(5, 5), labels = c(\"A\", \"B\"))\n"
   ]
  },
  {
   "cell_type": "markdown",
   "metadata": {},
   "source": [
    "### Number of incorporators per treatment"
   ]
  },
  {
   "cell_type": "code",
   "execution_count": 28,
   "metadata": {
    "collapsed": false
   },
   "outputs": [
    {
     "data": {
      "image/png": "[encoded data removed]"
     },
     "metadata": {},
     "output_type": "display_data"
    }
   ],
   "source": [
    "%%R -h 400 -w 700\n",
    "\n",
    "\n",
    "df.l2fc.f.Sig = df.l2fc.f %>%\n",
    "    group_by(Treatment, Day,Land_Management) %>%\n",
    "    summarize(n_taxa = length(unique(OTU)),\n",
    "              n_incorp = sum(padj < padj_cutoff),\n",
    "              n_incorp_perc = n_incorp / n_taxa * 100)\n",
    "              \n",
    "\n",
    "df.l2fc.f.Sig$Treatment = reorder(df.l2fc.f.Sig$Treatment, -df.l2fc.f.Sig$n_incorp_perc)\n",
    "df.l2fc.f.Sig$shared = c(13,13,64,64,243,243,216,216,65,65,134,134,145,146,177,177)\n",
    "df.l2fc.f.Sig$unique = df.l2fc.f.Sig$n_incorp - df.l2fc.f.Sig$shared \n",
    "\n",
    "\n",
    "\n",
    "names = c('13X' = \"Xylose\",\n",
    "          '13C' = \"Cellulose\",\n",
    "          '1' = \"Day 1\",\n",
    "          '3' = \"Day 3\",\n",
    "          '7' = \"Day 7\",\n",
    "          '14' = \"Day 14\",\n",
    "          '30' = \"Day 30\"\n",
    "                    )\n",
    "\n",
    "p.nIncSub = ggplot(df.l2fc.f.Sig) +\n",
    "    geom_bar(aes(x = Land_Management, y = n_incorp), stat='identity', fill = ' dark grey') + \n",
    "    geom_bar(aes(Land_Management, shared), stat='identity', fill = 'light blue') +\n",
    "    labs(y='Number of incorporator OTUs') + facet_grid(Treatment~Day, labeller = as_labeller(names), scales = 'free_y')+\n",
    "    theme_bw() +\n",
    "    theme(\n",
    "        text = element_text(size=16),\n",
    "        axis.text.x = element_text(angle=45, hjust=1),\n",
    "        axis.title.x = element_blank()\n",
    "        ) + scale_x_discrete(labels=c(\"No-till\", \"Till\"))\n",
    "p.nIncSub"
   ]
  },
  {
   "cell_type": "markdown",
   "metadata": {
    "collapsed": true
   },
   "source": [
    "## Beta Diversity between till and no-till incorporator communities"
   ]
  },
  {
   "cell_type": "code",
   "execution_count": 29,
   "metadata": {
    "collapsed": false
   },
   "outputs": [],
   "source": [
    "%%R\n",
    "df.sig = filter(df.l2fc.f, padj <=0.10)\n",
    "\n",
    "NC.D3 = filter(df.sig, Land_Management == 'NTH', Substrate == '13C',Day == 3)\n",
    "NC.D7 = filter(df.sig, Land_Management == 'NTH', Substrate == '13C',Day == 7)\n",
    "NC.D14 = filter(df.sig, Land_Management == 'NTH',Substrate == '13C', Day == 14)\n",
    "NC.D30 = filter(df.sig, Land_Management == 'NTH',Substrate == '13C', Day == 30)\n",
    "\n",
    "PC.D3 = filter(df.sig, Land_Management == 'PTH',Substrate == '13C', Day == 3)\n",
    "PC.D7 = filter(df.sig, Land_Management == 'PTH', Substrate == '13C',Day == 7)\n",
    "PC.D14 = filter(df.sig, Land_Management == 'PTH', Substrate == '13C',Day == 14)\n",
    "PC.D30 = filter(df.sig, Land_Management == 'PTH',Substrate == '13C', Day == 30)\n",
    "\n",
    "NX.D3 = filter(df.sig, Land_Management == 'NTH', Substrate == '13X', Day == 1)\n",
    "NX.D7 = filter(df.sig, Land_Management == 'NTH',Substrate == '13X', Day == 3)\n",
    "NX.D14 = filter(df.sig, Land_Management == 'NTH',Substrate == '13X', Day == 7)\n",
    "NX.D30 = filter(df.sig, Land_Management == 'NTH',Substrate == '13X', Day == 14)\n",
    "\n",
    "PX.D3 = filter(df.sig, Land_Management == 'PTH', Substrate == '13X', Day == 1)\n",
    "PX.D7 = filter(df.sig, Land_Management == 'PTH', Substrate == '13X', Day == 3)\n",
    "PX.D14 = filter(df.sig, Land_Management == 'PTH', Substrate == '13X', Day == 7)\n",
    "PX.D30 = filter(df.sig, Land_Management == 'PTH', Substrate == '13X', Day == 14)"
   ]
  },
  {
   "cell_type": "code",
   "execution_count": 30,
   "metadata": {
    "collapsed": false
   },
   "outputs": [
    {
     "data": {
      "text/plain": [
       "[1] 8\n",
       "  Treatment Day\n",
       "1       13C   3\n",
       "2       13C   7\n",
       "3       13C  14\n",
       "4       13C  30\n",
       "5       13X   1\n"
      ]
     },
     "metadata": {},
     "output_type": "display_data"
    }
   ],
   "source": [
    "%%R\n",
    "\n",
    "sdm = physeq %>% sample_data %>% \n",
    "    filter(! is.na(Density),\n",
    "           Treatment != '12C') %>%\n",
    "    select(Treatment, Day) %>%\n",
    "    distinct() %>%\n",
    "    arrange(Treatment, Day) \n",
    "\n",
    "sdm %>% nrow %>% print\n",
    "sdm %>% head(n=5)"
   ]
  },
  {
   "cell_type": "code",
   "execution_count": 31,
   "metadata": {
    "collapsed": true
   },
   "outputs": [],
   "source": [
    "%%R\n",
    "     \n",
    "asNumeric = function(x) {as.numeric(as.character(x)) }\n",
    "\n",
    "get_Adonis = function(physeq.obj,df.LFC, Treatment, Day){\n",
    "        \n",
    "    # filtering L2FC df\n",
    "    df.sig.NTH = filter(df.LFC, Land_Management == 'NTH',Substrate == Treatment, Day == Day)\n",
    "    df.sig.PTH = filter(df.LFC, Land_Management == 'NTH',Substrate == Treatment, Day == Day)\n",
    "    \n",
    "    Treatment = c(Treatment %>% as.character)\n",
    "    physeq.md = sample_data(physeq.obj)\n",
    "    \n",
    "    \n",
    "    \n",
    "    # filtering\n",
    "    p.NTH = prune_samples((! is.na(physeq.md$Density)) &\n",
    "                          (physeq.md$Land_Management == \"NTH\") &\n",
    "                          (physeq.md$Day == Day) &\n",
    "                          (physeq.md$Treatment == Treatment),\n",
    "                           physeq.obj) \n",
    "    p.NTH = prune_taxa(as.character(df.sig.NTH$OTU),\n",
    "                           p.NTH) \n",
    "    \n",
    "    p.PTH = prune_samples((! is.na(physeq.md$Density)) & \n",
    "                      (physeq.md$Land_Management == \"PTH\") &\n",
    "                      (physeq.md$Day == Day) &\n",
    "                      (physeq.md$Treatment == Treatment),\n",
    "                      physeq.obj)\n",
    "    p.PTH = prune_taxa(as.character(df.sig.NTH$OTU),\n",
    "                           p.PTH) \n",
    "    \n",
    "    physeq.m = merge_phyloseq(p.NTH, p.PTH) \n",
    "    physeq.m = filter_taxa(physeq.m, function(x) sum(x > 0) > 0.25 * length(x), TRUE)   \n",
    "    \n",
    "    # applying 'heavy' window pruning\n",
    "    physeq.md = sample_data(physeq.m)\n",
    "\n",
    "    physeq.m = prune_samples((physeq.md$Density >= 1.70) &\n",
    "                             (physeq.md$Density <= 1.77),  physeq.m)\n",
    "    \n",
    "    ## Calculating weighted Unifrac\n",
    "    wunif.dist = distance(physeq.m,\n",
    "                          method = \"unifrac\", \n",
    "                          weighted = TRUE,\n",
    "                          fast = TRUE, \n",
    "                          parallel = TRUE, \n",
    "                          normalized = FALSE)\n",
    "        \n",
    "    ## Calculating ADONIS\n",
    "    \n",
    "    physeq.data = as(sample_data(physeq.m), \"data.frame\")\n",
    "    ad = adonis(wunif.dist ~ Till, physeq.data)\n",
    "    \n",
    "    d = data.frame(ad$aov.tab)\n",
    "    d$Day = Day\n",
    "    d$Treatment = Treatment\n",
    "    return(d)\n",
    "\n",
    "    \n",
    "}\n",
    "                                                         "
   ]
  },
  {
   "cell_type": "code",
   "execution_count": 32,
   "metadata": {
    "collapsed": false
   },
   "outputs": [],
   "source": [
    "%%R\n",
    "Adonis = mdply(sdm,\n",
    "                get_Adonis, \n",
    "                physeq.obj = physeq,\n",
    "                df.LFC = df.l2fc.f) %>% tbl_df"
   ]
  },
  {
   "cell_type": "code",
   "execution_count": 33,
   "metadata": {
    "collapsed": false
   },
   "outputs": [
    {
     "data": {
      "text/plain": [
       "Source: local data frame [8 x 8]\n",
       "\n",
       "     Df  SumsOfSqs    MeanSqs   F.Model         R2 Pr..F.   Day Treatment\n",
       "  (dbl)      (dbl)      (dbl)     (dbl)      (dbl)  (dbl) (int)     (chr)\n",
       "1     1 0.15192384 0.15192384  9.397687 0.23853399  0.001     3       13C\n",
       "2     1 0.08561994 0.08561994  3.456498 0.10988185  0.022     7       13C\n",
       "3     1 0.09303891 0.09303891  2.334450 0.07003114  0.085    14       13C\n",
       "4     1 0.12904486 0.12904486  4.578463 0.13240794  0.003    30       13C\n",
       "5     1 0.44477069 0.44477069 16.347264 0.35271260  0.001     1       13X\n",
       "6     1 0.16304914 0.16304914  8.747725 0.22576100  0.001     3       13X\n",
       "7     1 0.22592390 0.22592390 10.309275 0.26226062  0.001     7       13X\n",
       "8     1 0.06066489 0.06066489  2.681239 0.08463175  0.042    14       13X\n"
      ]
     },
     "metadata": {},
     "output_type": "display_data"
    }
   ],
   "source": [
    "%%R\n",
    "Adonis.2 = filter(Adonis, !(is.na(F.Model)))\n",
    "Adonis.2"
   ]
  },
  {
   "cell_type": "code",
   "execution_count": 34,
   "metadata": {
    "collapsed": false
   },
   "outputs": [],
   "source": [
    "%%R\n",
    "df.sig.ann = left_join(df.l2fc.f.Sig, Adonis.2, by = c('Treatment', 'Day'))"
   ]
  },
  {
   "cell_type": "code",
   "execution_count": 65,
   "metadata": {
    "collapsed": false
   },
   "outputs": [
    {
     "data": {
      "image/png": "[encoded data removed]"
     },
     "metadata": {},
     "output_type": "display_data"
    }
   ],
   "source": [
    "%%R -h 400 -w 1000\n",
    "\n",
    "\n",
    "df.l2fc.f.Sig = df.l2fc.f %>%\n",
    "    group_by(Treatment, Day,Land_Management) %>%\n",
    "    summarize(n_taxa = length(unique(OTU)),\n",
    "              n_incorp = sum(padj < padj_cutoff),\n",
    "              n_incorp_perc = n_incorp / n_taxa * 100)\n",
    "              \n",
    "\n",
    "df.l2fc.f.Sig$Treatment = reorder(df.l2fc.f.Sig$Treatment, -df.l2fc.f.Sig$n_incorp_perc)\n",
    "df.l2fc.f.Sig$shared = c(13,13,64,64,243,243,216,216,65,65,134,134,145,146,177,177)\n",
    "df.l2fc.f.Sig$unique = df.l2fc.f.Sig$n_incorp - df.l2fc.f.Sig$shared \n",
    "\n",
    "df.sig.ann = left_join(df.l2fc.f.Sig, Adonis.2, by = c('Treatment', 'Day'))\n",
    "\n",
    "df.sig.ann$labels = paste('p =', df.sig.ann$`Pr..F.`,'\\nR2 =', round(df.sig.ann$R2, digits = 2))\n",
    "names = c('13X' = \"Xylose\",\n",
    "          '13C' = \"Cellulose\",\n",
    "          '1' = \"Day 1\",\n",
    "          '3' = \"Day 3\",\n",
    "          '7' = \"Day 7\",\n",
    "          '14' = \"Day 14\",\n",
    "          '30' = \"Day 30\"\n",
    "                    )\n",
    "\n",
    "p.nIncSub = ggplot(df.sig.ann) +\n",
    "    geom_bar(aes(x = Land_Management, y = n_incorp), stat='identity', fill = ' dark grey') + \n",
    "    geom_bar(aes(Land_Management, shared), stat='identity', fill = 'light blue') +\n",
    "    labs(y='Number of incorporator OTUs') + facet_grid(Treatment~Day, labeller = as_labeller(names))+\n",
    "    theme_bw() +\n",
    "    theme(\n",
    "        text = element_text(size=16),\n",
    "        axis.text.x = element_text(angle=45, hjust=1),\n",
    "        axis.title.x = element_blank()\n",
    "        ) + scale_x_discrete(labels=c(\"No-till\", \"Till\")) +\n",
    "    geom_text(x = 2.2, y = 690, aes(n_incorp, label = labels))\n",
    "\n",
    "\n",
    "p.nIncSub"
   ]
  },
  {
   "cell_type": "code",
   "execution_count": 66,
   "metadata": {
    "collapsed": false
   },
   "outputs": [],
   "source": [
    "%%R\n",
    "ggsave('data/figs/ninc_shared_R2.png', width = 12, height = 6)"
   ]
  },
  {
   "cell_type": "code",
   "execution_count": 36,
   "metadata": {
    "collapsed": false
   },
   "outputs": [
    {
     "name": "stdout",
     "output_type": "stream",
     "text": [
      "\n",
      "Error in filter_(.data, .dots = lazyeval::lazy_dots(...)) : \n",
      "  object 'df.filt' not found\n"
     ]
    },
    {
     "name": "stderr",
     "output_type": "stream",
     "text": [
      "/opt/anaconda/lib/python2.7/site-packages/rpy2/robjects/functions.py:106: UserWarning: Error in filter_(.data, .dots = lazyeval::lazy_dots(...)) : \n",
      "  object 'df.filt' not found\n",
      "\n",
      "  res = super(Function, self).__call__(*new_args, **new_kwargs)\n",
      "/opt/anaconda/lib/python2.7/site-packages/rpy2/robjects/functions.py:106: UserWarning: In addition: \n",
      "  res = super(Function, self).__call__(*new_args, **new_kwargs)\n",
      "/opt/anaconda/lib/python2.7/site-packages/rpy2/robjects/functions.py:106: UserWarning: Warning messages:\n",
      "\n",
      "  res = super(Function, self).__call__(*new_args, **new_kwargs)\n",
      "/opt/anaconda/lib/python2.7/site-packages/rpy2/robjects/functions.py:106: UserWarning: 1: replacing previous import ‘BiocGenerics::Position’ by ‘ggplot2::Position’ when loading ‘phyloseq’ \n",
      "\n",
      "  res = super(Function, self).__call__(*new_args, **new_kwargs)\n",
      "/opt/anaconda/lib/python2.7/site-packages/rpy2/robjects/functions.py:106: UserWarning: 2: \n",
      "  res = super(Function, self).__call__(*new_args, **new_kwargs)\n",
      "/opt/anaconda/lib/python2.7/site-packages/rpy2/robjects/functions.py:106: UserWarning: In class(x) <- c(\"tbl_df\", \"tbl\", \"data.frame\") :\n",
      "  res = super(Function, self).__call__(*new_args, **new_kwargs)\n",
      "/opt/anaconda/lib/python2.7/site-packages/rpy2/robjects/functions.py:106: UserWarning: \n",
      " \n",
      "  res = super(Function, self).__call__(*new_args, **new_kwargs)\n",
      "/opt/anaconda/lib/python2.7/site-packages/rpy2/robjects/functions.py:106: UserWarning:  Setting class(x) to multiple strings (\"tbl_df\", \"tbl\", ...); result will no longer be an S4 object\n",
      "\n",
      "  res = super(Function, self).__call__(*new_args, **new_kwargs)\n",
      "/opt/anaconda/lib/python2.7/site-packages/rpy2/robjects/functions.py:106: UserWarning: 3: executing %dopar% sequentially: no parallel backend registered \n",
      "\n",
      "  res = super(Function, self).__call__(*new_args, **new_kwargs)\n",
      "/opt/anaconda/lib/python2.7/site-packages/rpy2/robjects/functions.py:106: UserWarning: 4: \n",
      "  res = super(Function, self).__call__(*new_args, **new_kwargs)\n",
      "/opt/anaconda/lib/python2.7/site-packages/rpy2/robjects/functions.py:106: UserWarning: In left_join_impl(x, y, by$x, by$y) :\n",
      "  res = super(Function, self).__call__(*new_args, **new_kwargs)\n",
      "/opt/anaconda/lib/python2.7/site-packages/rpy2/robjects/functions.py:106: UserWarning:  joining character vector and factor, coercing into character vector\n",
      "\n",
      "  res = super(Function, self).__call__(*new_args, **new_kwargs)\n",
      "/opt/anaconda/lib/python2.7/site-packages/rpy2/robjects/functions.py:106: UserWarning: 5: \n",
      "  res = super(Function, self).__call__(*new_args, **new_kwargs)\n"
     ]
    }
   ],
   "source": [
    "%%R\n",
    "df.sigin = filter(df.filt, padj <=0.10)%>% complete(Land_Management)%>%group_by(Group,Day, Treatment, Land_Management)  %>%\n",
    "            summarise(inc = n()) %>% spread(Land_Management, inc, fill = 0) %>% \n",
    "            filter(Group %in% c('__Actinobacteria', '__Bacteroidetes', '__Candidate_division_WS3', '__Chloroflexi',\n",
    "                               '__Firmicutes', '__Gemmatimonadetes', '__Planctomycetes', '__Verrucomicrobia', \n",
    "                               '__Alphaproteobacteria', '__Betaproteobacteria', '__Deltaproteobacteria', \n",
    "                                \"__Gammaproteobacteria\"), Treatment == '13C')\n",
    "                                                                                              \n",
    "\n",
    "(df.sigin) %>% as.data.frame"
   ]
  },
  {
   "cell_type": "code",
   "execution_count": 37,
   "metadata": {
    "collapsed": false
   },
   "outputs": [
    {
     "name": "stdout",
     "output_type": "stream",
     "text": [
      "\n",
      "Error in unique(df.filt$Rank2) : object 'df.filt' not found\n"
     ]
    },
    {
     "name": "stderr",
     "output_type": "stream",
     "text": [
      "/opt/anaconda/lib/python2.7/site-packages/rpy2/robjects/functions.py:106: UserWarning: Error in unique(df.filt$Rank2) : object 'df.filt' not found\n",
      "\n",
      "  res = super(Function, self).__call__(*new_args, **new_kwargs)\n"
     ]
    }
   ],
   "source": [
    "%%R\n",
    "unique(df.filt$Rank2)"
   ]
  },
  {
   "cell_type": "markdown",
   "metadata": {},
   "source": [
    "## Fischer's Exact test for each phylum"
   ]
  },
  {
   "cell_type": "code",
   "execution_count": 38,
   "metadata": {
    "collapsed": true
   },
   "outputs": [],
   "source": [
    "%%R\n",
    "df.Prots = filter(df.l2fc.f, Rank2 == '__Proteobacteria')\n",
    "df.Prots$Group = df.Prots$Rank3\n",
    "df.nonProts = filter(df.l2fc.f, Rank2 != '__Proteobacteria')\n",
    "df.nonProts$Group = df.nonProts$Rank2\n",
    "\n",
    "df.filt = rbind(df.Prots, df.nonProts)\n",
    "\n"
   ]
  },
  {
   "cell_type": "code",
   "execution_count": 39,
   "metadata": {
    "collapsed": false
   },
   "outputs": [
    {
     "data": {
      "text/plain": [
       "Source: local data frame [6 x 4]\n",
       "Groups: Rank2, Treatment [6]\n",
       "\n",
       "              Rank2 Treatment   NTH   PTH\n",
       "             (fctr)    (fctr) (dbl) (dbl)\n",
       "1   __Acidobacteria       13C    45    44\n",
       "2   __Acidobacteria       13X     3     4\n",
       "3  __Actinobacteria       13C    99   142\n",
       "4  __Actinobacteria       13X   263   265\n",
       "5 __Armatimonadetes       13C    18    28\n",
       "6 __Armatimonadetes       13X     0     1\n"
      ]
     },
     "metadata": {},
     "output_type": "display_data"
    }
   ],
   "source": [
    "%%R\n",
    "df.sigin = filter(df.filt, padj <=0.10)%>% complete(Land_Management)%>%group_by(Rank2, Treatment, Land_Management)  %>%\n",
    "            summarise(inc = n()) %>% spread(Land_Management, inc, fill = 0)\n",
    "\n",
    "head(df.sigin)"
   ]
  },
  {
   "cell_type": "code",
   "execution_count": 40,
   "metadata": {
    "collapsed": true
   },
   "outputs": [],
   "source": [
    "%%R\n",
    "Fishers.phylum = function(Group, Treatment, sig) {\n",
    "    sig = sig %>% as.data.frame\n",
    "\n",
    "    df.t = sig[sig$Group == Group & sig$Treatment == Treatment,]\n",
    "    inc = data.frame(as.numeric(df.t$NTH), as.numeric(df.t$PTH))\n",
    "    inc = inc[complete.cases(inc),] #removing rows of na\n",
    "    \n",
    "    noninc = sum(inc) - inc\n",
    "    test2 = rbind(inc, noninc)\n",
    "    \n",
    "    colnames(test2) = c('N', 'P')\n",
    "    rownames(test2) = c('responders', 'non-responders')\n",
    "        \n",
    "    ftest = fisher.test(test2)\n",
    "    \n",
    "     d = data.frame(ftest$p.value)\n",
    "    d$Phyla = Group\n",
    "    return(d)\n",
    "    \n",
    "}"
   ]
  },
  {
   "cell_type": "code",
   "execution_count": 41,
   "metadata": {
    "collapsed": false
   },
   "outputs": [
    {
     "name": "stdout",
     "output_type": "stream",
     "text": [
      "\n",
      "Error in eval(expr, envir, enclos) : object 'Group' not found\n"
     ]
    },
    {
     "name": "stderr",
     "output_type": "stream",
     "text": [
      "/opt/anaconda/lib/python2.7/site-packages/rpy2/robjects/functions.py:106: UserWarning: Error in eval(expr, envir, enclos) : object 'Group' not found\n",
      "\n",
      "  res = super(Function, self).__call__(*new_args, **new_kwargs)\n"
     ]
    }
   ],
   "source": [
    "%%R\n",
    "df.sig.xyl = df.sigin %>% ungroup %>% filter(Treatment == '13X', !(is.na(Group)))\n",
    "\n",
    "sdm.xyl = df.sig.xyl %>% \n",
    "    select(Group, Treatment) %>%\n",
    "    distinct() %>%\n",
    "    arrange(Group, Treatment) \n",
    "\n",
    "sdm.xyl = tbl_df(sdm.xyl)"
   ]
  },
  {
   "cell_type": "code",
   "execution_count": 42,
   "metadata": {
    "collapsed": false
   },
   "outputs": [
    {
     "name": "stdout",
     "output_type": "stream",
     "text": [
      "\n",
      "Error in mdply(sdm.xyl, Fishers.phylum, sig = df.sig.xyl) : \n",
      "  object 'sdm.xyl' not found\n"
     ]
    },
    {
     "name": "stderr",
     "output_type": "stream",
     "text": [
      "/opt/anaconda/lib/python2.7/site-packages/rpy2/robjects/functions.py:106: UserWarning: Error in mdply(sdm.xyl, Fishers.phylum, sig = df.sig.xyl) : \n",
      "  object 'sdm.xyl' not found\n",
      "\n",
      "  res = super(Function, self).__call__(*new_args, **new_kwargs)\n"
     ]
    }
   ],
   "source": [
    "%%R\n",
    "df.l2fc.xylphyl = mdply(sdm.xyl ,\n",
    "                Fishers.phylum, \n",
    "                 sig = df.sig.xyl) %>% tbl_df"
   ]
  },
  {
   "cell_type": "code",
   "execution_count": 43,
   "metadata": {
    "collapsed": false
   },
   "outputs": [
    {
     "name": "stdout",
     "output_type": "stream",
     "text": [
      "\n",
      "Error in p.adjust(df.l2fc.xylphyl$ftest.p.value, method = \"bonferroni\") : \n",
      "  object 'df.l2fc.xylphyl' not found\n"
     ]
    },
    {
     "name": "stderr",
     "output_type": "stream",
     "text": [
      "/opt/anaconda/lib/python2.7/site-packages/rpy2/robjects/functions.py:106: UserWarning: Error in p.adjust(df.l2fc.xylphyl$ftest.p.value, method = \"bonferroni\") : \n",
      "  object 'df.l2fc.xylphyl' not found\n",
      "\n",
      "  res = super(Function, self).__call__(*new_args, **new_kwargs)\n"
     ]
    }
   ],
   "source": [
    "%%R\n",
    "df.l2fc.xylphyl$padj = p.adjust(df.l2fc.xylphyl$ftest.p.value, method = 'bonferroni')\n",
    "head(df.l2fc.xylphyl)"
   ]
  },
  {
   "cell_type": "code",
   "execution_count": 44,
   "metadata": {
    "collapsed": false
   },
   "outputs": [
    {
     "name": "stdout",
     "output_type": "stream",
     "text": [
      "\n",
      "Error in withVisible({ : object 'df.l2fc.xylphyl' not found\n"
     ]
    },
    {
     "name": "stderr",
     "output_type": "stream",
     "text": [
      "/opt/anaconda/lib/python2.7/site-packages/rpy2/robjects/functions.py:106: UserWarning: Error in withVisible({ : object 'df.l2fc.xylphyl' not found\n",
      "\n",
      "  res = super(Function, self).__call__(*new_args, **new_kwargs)\n"
     ]
    }
   ],
   "source": [
    "%%R\n",
    "df.l2fc.xylphyl$roundp = round(df.l2fc.xylphyl$padj, digits = 3)"
   ]
  },
  {
   "cell_type": "code",
   "execution_count": 45,
   "metadata": {
    "collapsed": false
   },
   "outputs": [
    {
     "name": "stdout",
     "output_type": "stream",
     "text": [
      "\n",
      "Error in filter_(.data, .dots = lazyeval::lazy_dots(...)) : \n",
      "  object 'df.l2fc.xylphyl' not found\n"
     ]
    },
    {
     "name": "stderr",
     "output_type": "stream",
     "text": [
      "/opt/anaconda/lib/python2.7/site-packages/rpy2/robjects/functions.py:106: UserWarning: Error in filter_(.data, .dots = lazyeval::lazy_dots(...)) : \n",
      "  object 'df.l2fc.xylphyl' not found\n",
      "\n",
      "  res = super(Function, self).__call__(*new_args, **new_kwargs)\n"
     ]
    }
   ],
   "source": [
    "%%R\n",
    "test = filter(df.l2fc.xylphyl, padj <0.05)  %>% as.data.frame\n",
    "test"
   ]
  },
  {
   "cell_type": "code",
   "execution_count": 46,
   "metadata": {
    "collapsed": false
   },
   "outputs": [
    {
     "name": "stdout",
     "output_type": "stream",
     "text": [
      "\n",
      "Error in filter_(.data, .dots = lazyeval::lazy_dots(...)) : \n",
      "  object 'df.l2fc.xylphyl' not found\n"
     ]
    }
   ],
   "source": [
    "%%R\n",
    "test2 = filter(df.l2fc.xylphyl, !(Group %in% test$Group))\n",
    "unique(test2$Group)"
   ]
  },
  {
   "cell_type": "code",
   "execution_count": 47,
   "metadata": {
    "collapsed": false
   },
   "outputs": [
    {
     "name": "stdout",
     "output_type": "stream",
     "text": [
      "\n",
      "Error in eval(expr, envir, enclos) : object 'Group' not found\n"
     ]
    }
   ],
   "source": [
    "%%R\n",
    "#For cellulose\n",
    "df.sig.cell = df.sigin %>% ungroup %>% filter(Treatment == '13C', !(is.na(Group)))\n",
    "\n",
    "sdm.cell = df.sig.cell %>% \n",
    "    select(Group, Treatment) %>%\n",
    "    distinct() %>%\n",
    "    arrange(Group, Treatment) \n",
    "\n",
    "sdm.cell = tbl_df(sdm.cell)"
   ]
  },
  {
   "cell_type": "code",
   "execution_count": 48,
   "metadata": {
    "collapsed": false
   },
   "outputs": [
    {
     "name": "stdout",
     "output_type": "stream",
     "text": [
      "\n",
      "Error in mdply(sdm.cell, Fishers.phylum, sig = df.sig.cell) : \n",
      "  object 'sdm.cell' not found\n"
     ]
    },
    {
     "name": "stderr",
     "output_type": "stream",
     "text": [
      "/opt/anaconda/lib/python2.7/site-packages/rpy2/robjects/functions.py:106: UserWarning: Error in mdply(sdm.cell, Fishers.phylum, sig = df.sig.cell) : \n",
      "  object 'sdm.cell' not found\n",
      "\n",
      "  res = super(Function, self).__call__(*new_args, **new_kwargs)\n"
     ]
    }
   ],
   "source": [
    "%%R\n",
    "df.l2fc.cellphyl = mdply(sdm.cell ,\n",
    "                Fishers.phylum, \n",
    "                 sig = df.sig.cell) %>% tbl_df"
   ]
  },
  {
   "cell_type": "code",
   "execution_count": 49,
   "metadata": {
    "collapsed": false
   },
   "outputs": [
    {
     "name": "stdout",
     "output_type": "stream",
     "text": [
      "\n",
      "Error in withVisible({ : object 'df.sig.cell' not found\n"
     ]
    },
    {
     "name": "stderr",
     "output_type": "stream",
     "text": [
      "/opt/anaconda/lib/python2.7/site-packages/rpy2/robjects/functions.py:106: UserWarning: Error in withVisible({ : object 'df.sig.cell' not found\n",
      "\n",
      "  res = super(Function, self).__call__(*new_args, **new_kwargs)\n"
     ]
    }
   ],
   "source": [
    "%%R\n",
    "\n",
    "    df.t = df.sig.cell[df.sig.cell$Group == '__Deltaproteobacteria' & df.sig.cell$Treatment == '13C',]\n",
    "    inc = data.frame(as.numeric(df.t$NTH), as.numeric(df.t$PTH))\n",
    "    inc = inc[complete.cases(inc),] #removing rows of na\n",
    "    \n",
    "    noninc = sum(inc) - inc\n",
    "    test2 = rbind(inc, noninc)\n",
    "    \n",
    "    test2\n",
    "inc\n",
    "    "
   ]
  },
  {
   "cell_type": "code",
   "execution_count": 50,
   "metadata": {
    "collapsed": false
   },
   "outputs": [
    {
     "name": "stdout",
     "output_type": "stream",
     "text": [
      "\n",
      "Error in p.adjust(df.l2fc.cellphyl$ftest.p.value, method = \"bonferroni\") : \n",
      "  object 'df.l2fc.cellphyl' not found\n"
     ]
    },
    {
     "name": "stderr",
     "output_type": "stream",
     "text": [
      "/opt/anaconda/lib/python2.7/site-packages/rpy2/robjects/functions.py:106: UserWarning: Error in p.adjust(df.l2fc.cellphyl$ftest.p.value, method = \"bonferroni\") : \n",
      "  object 'df.l2fc.cellphyl' not found\n",
      "\n",
      "  res = super(Function, self).__call__(*new_args, **new_kwargs)\n"
     ]
    }
   ],
   "source": [
    "%%R\n",
    "df.l2fc.cellphyl$padj = p.adjust(df.l2fc.cellphyl$ftest.p.value, method = 'bonferroni')\n",
    "head(df.l2fc.cellphyl)"
   ]
  },
  {
   "cell_type": "code",
   "execution_count": 51,
   "metadata": {
    "collapsed": false
   },
   "outputs": [
    {
     "name": "stdout",
     "output_type": "stream",
     "text": [
      "\n",
      "Error in filter_(.data, .dots = lazyeval::lazy_dots(...)) : \n",
      "  object 'df.l2fc.cellphyl' not found\n"
     ]
    },
    {
     "name": "stderr",
     "output_type": "stream",
     "text": [
      "/opt/anaconda/lib/python2.7/site-packages/rpy2/robjects/functions.py:106: UserWarning: Error in filter_(.data, .dots = lazyeval::lazy_dots(...)) : \n",
      "  object 'df.l2fc.cellphyl' not found\n",
      "\n",
      "  res = super(Function, self).__call__(*new_args, **new_kwargs)\n"
     ]
    }
   ],
   "source": [
    "%%R\n",
    "test= filter(df.l2fc.cellphyl, padj <0.05) %>% as.data.frame\n",
    "test$pround = round(test$padj, digits = 3)\n",
    "test"
   ]
  },
  {
   "cell_type": "code",
   "execution_count": 52,
   "metadata": {
    "collapsed": false
   },
   "outputs": [
    {
     "name": "stdout",
     "output_type": "stream",
     "text": [
      "\n",
      "Error in filter_(.data, .dots = lazyeval::lazy_dots(...)) : \n",
      "  object 'df.l2fc.cellphyl' not found\n"
     ]
    }
   ],
   "source": [
    "%%R\n",
    "test2 = filter(df.l2fc.cellphyl, !(Group %in% test$Group))\n",
    "unique(test2$Group)"
   ]
  },
  {
   "cell_type": "markdown",
   "metadata": {},
   "source": [
    "## Fischer's Exact test for each phylum, day combination"
   ]
  },
  {
   "cell_type": "code",
   "execution_count": 53,
   "metadata": {
    "collapsed": false
   },
   "outputs": [
    {
     "data": {
      "text/plain": [
       "Source: local data frame [6 x 5]\n",
       "Groups: Group, Day, Treatment [6]\n",
       "\n",
       "                  Group   Day Treatment   NTH   PTH\n",
       "                 (fctr) (int)    (fctr) (dbl) (dbl)\n",
       "1 __Alphaproteobacteria     1       13X    33    35\n",
       "2 __Alphaproteobacteria     3       13C     3    17\n",
       "3 __Alphaproteobacteria     3       13X    66    49\n",
       "4 __Alphaproteobacteria     7       13C    61    28\n",
       "5 __Alphaproteobacteria     7       13X    58    51\n",
       "6 __Alphaproteobacteria    14       13C    79    70\n"
      ]
     },
     "metadata": {},
     "output_type": "display_data"
    }
   ],
   "source": [
    "%%R\n",
    "df.sigin = filter(df.filt, padj <=0.10)%>% complete(Land_Management)%>%group_by(Group, Day, Treatment, Land_Management)  %>%\n",
    "            summarise(inc = n()) %>% spread(Land_Management, inc, fill = 0)\n",
    "\n",
    "head(df.sigin)"
   ]
  },
  {
   "cell_type": "code",
   "execution_count": 54,
   "metadata": {
    "collapsed": false
   },
   "outputs": [],
   "source": [
    "%%R\n",
    "Fishers.xylose = function(Group, Day, Treatment, sig) {\n",
    "    sig = sig %>% as.data.frame\n",
    "\n",
    "    df.t = sig[sig$Group == Group & sig$Day == Day & sig$Treatment == Treatment,]\n",
    "    inc = data.frame(as.numeric(df.t$NTH), as.numeric(df.t$PTH))\n",
    "    inc = inc[complete.cases(inc),] #removing rows of na\n",
    "    \n",
    "    noninc = sum(inc) - inc\n",
    "    test2 = rbind(inc, noninc)\n",
    "    \n",
    "    colnames(test2) = c('N', 'P')\n",
    "    rownames(test2) = c('responders', 'non-responders')\n",
    "        \n",
    "    ftest = fisher.test(test2)\n",
    "    \n",
    "     d = data.frame(ftest$p.value)\n",
    "    d$Day = Day\n",
    "    d$Phyla = Group\n",
    "    return(d)\n",
    "    \n",
    "}"
   ]
  },
  {
   "cell_type": "code",
   "execution_count": 55,
   "metadata": {
    "collapsed": false
   },
   "outputs": [],
   "source": [
    "%%R\n",
    "df.sig.xyl = df.sigin %>% ungroup %>% filter(Treatment == '13X', !(is.na(Group)))\n",
    "\n",
    "sdm.xyl = df.sig.xyl %>% \n",
    "    select(Group, Day, Treatment) %>%\n",
    "    distinct() %>%\n",
    "    arrange(Group, Day, Treatment) \n",
    "\n",
    "sdm.xyl = tbl_df(sdm.xyl)"
   ]
  },
  {
   "cell_type": "code",
   "execution_count": 56,
   "metadata": {
    "collapsed": false
   },
   "outputs": [],
   "source": [
    "%%R\n",
    "df.l2fc = mdply(sdm.xyl ,\n",
    "                Fishers.xylose, \n",
    "                 sig = df.sig.xyl) %>% tbl_df"
   ]
  },
  {
   "cell_type": "code",
   "execution_count": 57,
   "metadata": {
    "collapsed": false
   },
   "outputs": [
    {
     "data": {
      "text/plain": [
       "Source: local data frame [6 x 6]\n",
       "\n",
       "                  Group Treatment ftest.p.value   Day                 Phyla\n",
       "                 (fctr)    (fctr)         (dbl) (int)                (fctr)\n",
       "1 __Alphaproteobacteria       13X  0.8639164267     1 __Alphaproteobacteria\n",
       "2 __Alphaproteobacteria       13X  0.0346305651     3 __Alphaproteobacteria\n",
       "3 __Alphaproteobacteria       13X  0.4164322225     7 __Alphaproteobacteria\n",
       "4 __Alphaproteobacteria       13X  0.0441254116    14 __Alphaproteobacteria\n",
       "5  __Betaproteobacteria       13X  0.0800865801     1  __Betaproteobacteria\n",
       "6  __Betaproteobacteria       13X  0.0005867726     3  __Betaproteobacteria\n",
       "Variables not shown: padj (dbl)\n"
      ]
     },
     "metadata": {},
     "output_type": "display_data"
    }
   ],
   "source": [
    "%%R\n",
    "df.l2fc$padj = p.adjust(df.l2fc$ftest.p.value, method = 'bonferroni')\n",
    "head(df.l2fc)"
   ]
  },
  {
   "cell_type": "code",
   "execution_count": 58,
   "metadata": {
    "collapsed": false
   },
   "outputs": [
    {
     "data": {
      "text/plain": [
       "                      Group Treatment ftest.p.value Day\n",
       "1      __Betaproteobacteria       13X  5.867726e-04   3\n",
       "2      __Betaproteobacteria       13X  1.327366e-07  14\n",
       "3     __Deltaproteobacteria       13X  5.435083e-04   7\n",
       "4     __Gammaproteobacteria       13X  2.285725e-04   3\n",
       "5     __Gammaproteobacteria       13X  5.916714e-12  14\n",
       "6           __Bacteroidetes       13X  2.187190e-04   1\n",
       "7           __Bacteroidetes       13X  2.442463e-04   7\n",
       "8  __Candidate_division_WS3       13X  1.082509e-05   1\n",
       "9             __Chloroflexi       13X  7.640709e-05  14\n",
       "10             __Firmicutes       13X  1.421636e-08   3\n",
       "11         __Planctomycetes       13X  2.048365e-08   3\n",
       "12         __Planctomycetes       13X  6.052522e-05   7\n",
       "                      Phyla         padj roundp\n",
       "1      __Betaproteobacteria 3.755345e-02  0.038\n",
       "2      __Betaproteobacteria 8.495143e-06  0.000\n",
       "3     __Deltaproteobacteria 3.478453e-02  0.035\n",
       "4     __Gammaproteobacteria 1.462864e-02  0.015\n",
       "5     __Gammaproteobacteria 3.786697e-10  0.000\n",
       "6           __Bacteroidetes 1.399802e-02  0.014\n",
       "7           __Bacteroidetes 1.563176e-02  0.016\n",
       "8  __Candidate_division_WS3 6.928056e-04  0.001\n",
       "9             __Chloroflexi 4.890054e-03  0.005\n",
       "10             __Firmicutes 9.098471e-07  0.000\n",
       "11         __Planctomycetes 1.310954e-06  0.000\n",
       "12         __Planctomycetes 3.873614e-03  0.004\n"
      ]
     },
     "metadata": {},
     "output_type": "display_data"
    }
   ],
   "source": [
    "%%R\n",
    "df.l2fc$roundp = round(df.l2fc$padj, digits = 3)\n",
    "test = filter(df.l2fc, padj <0.05) %>% as.data.frame\n",
    "test"
   ]
  },
  {
   "cell_type": "code",
   "execution_count": 59,
   "metadata": {
    "collapsed": false
   },
   "outputs": [
    {
     "data": {
      "text/plain": [
       " [1] __Alphaproteobacteria     __TA18                   \n",
       " [3] __Acidobacteria           __Actinobacteria         \n",
       " [5] __Armatimonadetes         __Candidate_division_BRC1\n",
       " [7] __Candidate_division_TM7  __Cyanobacteria          \n",
       " [9] __Fibrobacteres           __Gemmatimonadetes       \n",
       "[11] __Lentisphaerae           __Spirochaetes           \n",
       "[13] __TA06                    __Verrucomicrobia        \n",
       "[15] __WCHB1-60               \n",
       "15 Levels: __Alphaproteobacteria __TA18 __Acidobacteria ... __WCHB1-60\n"
      ]
     },
     "metadata": {},
     "output_type": "display_data"
    }
   ],
   "source": [
    "%%R\n",
    "test2 = filter(df.l2fc, !(Group %in% test$Group))\n",
    "unique(test2$Group)"
   ]
  },
  {
   "cell_type": "code",
   "execution_count": 60,
   "metadata": {
    "collapsed": false
   },
   "outputs": [],
   "source": [
    "%%R\n",
    "df.sig.cell = df.sigin %>% ungroup %>% filter(Treatment == '13C', !(is.na(Group)))\n",
    "\n",
    "sdm.cell = df.sig.cell %>% \n",
    "    select(Group, Day, Treatment) %>%\n",
    "    distinct() %>%\n",
    "    arrange(Group, Day, Treatment) \n",
    "\n",
    "sdm.cell = tbl_df(sdm.cell)"
   ]
  },
  {
   "cell_type": "code",
   "execution_count": 61,
   "metadata": {
    "collapsed": true
   },
   "outputs": [],
   "source": [
    "%%R\n",
    "df.l2fc.cell = mdply(sdm.cell ,\n",
    "                Fishers.xylose, \n",
    "                 sig = df.sig.cell) %>% tbl_df"
   ]
  },
  {
   "cell_type": "code",
   "execution_count": 62,
   "metadata": {
    "collapsed": false
   },
   "outputs": [
    {
     "data": {
      "text/plain": [
       "Source: local data frame [6 x 6]\n",
       "\n",
       "                  Group Treatment ftest.p.value   Day                 Phyla\n",
       "                 (fctr)    (fctr)         (dbl) (int)                (fctr)\n",
       "1 __Alphaproteobacteria       13C  1.938534e-05     3 __Alphaproteobacteria\n",
       "2 __Alphaproteobacteria       13C  1.241957e-06     7 __Alphaproteobacteria\n",
       "3 __Alphaproteobacteria       13C  3.540241e-01    14 __Alphaproteobacteria\n",
       "4 __Alphaproteobacteria       13C  6.463600e-02    30 __Alphaproteobacteria\n",
       "5  __Betaproteobacteria       13C  3.430672e-01     3  __Betaproteobacteria\n",
       "6  __Betaproteobacteria       13C  8.322527e-08     7  __Betaproteobacteria\n",
       "Variables not shown: padj (dbl)\n"
      ]
     },
     "metadata": {},
     "output_type": "display_data"
    }
   ],
   "source": [
    "%%R\n",
    "df.l2fc.cell$padj = p.adjust(df.l2fc.cell$ftest.p.value, method = 'bonferroni')\n",
    "head(df.l2fc.cell)"
   ]
  },
  {
   "cell_type": "code",
   "execution_count": 63,
   "metadata": {
    "collapsed": false
   },
   "outputs": [
    {
     "data": {
      "text/plain": [
       "                      Group Treatment ftest.p.value Day\n",
       "1     __Alphaproteobacteria       13C  1.938534e-05   3\n",
       "2     __Alphaproteobacteria       13C  1.241957e-06   7\n",
       "3      __Betaproteobacteria       13C  8.322527e-08   7\n",
       "4     __Deltaproteobacteria       13C  1.082509e-05   3\n",
       "5     __Deltaproteobacteria       13C  7.195738e-06  14\n",
       "6     __Gammaproteobacteria       13C  7.261638e-06   3\n",
       "7     __Gammaproteobacteria       13C  1.925779e-10  30\n",
       "8          __Actinobacteria       13C  1.606288e-29   3\n",
       "9          __Actinobacteria       13C  3.472829e-04   7\n",
       "10          __Bacteroidetes       13C  7.396023e-07   3\n",
       "11          __Bacteroidetes       13C  7.746627e-15   7\n",
       "12 __Candidate_division_WS3       13C  3.715691e-12   3\n",
       "13 __Candidate_division_WS3       13C  3.327342e-09  30\n",
       "14            __Chloroflexi       13C  3.715691e-12   3\n",
       "15             __Firmicutes       13C  5.230556e-06  30\n",
       "16       __Gemmatimonadetes       13C  3.458873e-04  30\n",
       "17         __Planctomycetes       13C  4.063370e-04   7\n",
       "18        __Verrucomicrobia       13C  3.327512e-07   7\n",
       "                      Phyla         padj pround\n",
       "1     __Alphaproteobacteria 1.647754e-03  0.002\n",
       "2     __Alphaproteobacteria 1.055664e-04  0.000\n",
       "3      __Betaproteobacteria 7.074148e-06  0.000\n",
       "4     __Deltaproteobacteria 9.201325e-04  0.001\n",
       "5     __Deltaproteobacteria 6.116377e-04  0.001\n",
       "6     __Gammaproteobacteria 6.172392e-04  0.001\n",
       "7     __Gammaproteobacteria 1.636912e-08  0.000\n",
       "8          __Actinobacteria 1.365345e-27  0.000\n",
       "9          __Actinobacteria 2.951905e-02  0.030\n",
       "10          __Bacteroidetes 6.286620e-05  0.000\n",
       "11          __Bacteroidetes 6.584633e-13  0.000\n",
       "12 __Candidate_division_WS3 3.158337e-10  0.000\n",
       "13 __Candidate_division_WS3 2.828241e-07  0.000\n",
       "14            __Chloroflexi 3.158337e-10  0.000\n",
       "15             __Firmicutes 4.445972e-04  0.000\n",
       "16       __Gemmatimonadetes 2.940042e-02  0.029\n",
       "17         __Planctomycetes 3.453864e-02  0.035\n",
       "18        __Verrucomicrobia 2.828386e-05  0.000\n"
      ]
     },
     "metadata": {},
     "output_type": "display_data"
    }
   ],
   "source": [
    "%%R\n",
    "test = filter(df.l2fc.cell, padj <0.05) %>% as.data.frame\n",
    "test$pround = round(test$padj, digits = 3)\n",
    "test"
   ]
  }
 ],
 "metadata": {
  "hide_input": true,
  "kernelspec": {
   "display_name": "Python 2",
   "language": "python",
   "name": "python2"
  },
  "language_info": {
   "codemirror_mode": {
    "name": "ipython",
    "version": 2
   },
   "file_extension": ".py",
   "mimetype": "text/x-python",
   "name": "python",
   "nbconvert_exporter": "python",
   "pygments_lexer": "ipython2",
   "version": "2.7.11"
  }
 },
 "nbformat": 4,
 "nbformat_minor": 0
}
