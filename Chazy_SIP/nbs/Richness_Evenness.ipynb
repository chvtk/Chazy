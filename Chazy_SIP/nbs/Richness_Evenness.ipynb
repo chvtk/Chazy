{
 "cells": [
  {
   "cell_type": "code",
   "execution_count": 2,
   "metadata": {
    "collapsed": true
   },
   "outputs": [],
   "source": [
    "import os\n",
    "%load_ext rpy2.ipython\n",
    "#%load_ext pushnote"
   ]
  },
  {
   "cell_type": "code",
   "execution_count": 3,
   "metadata": {
    "collapsed": false
   },
   "outputs": [],
   "source": [
    "workDir = '/home/chantal/Chazy/Chazy_SIP/data/'\n",
    "figDir = '/home/chantal/Chazy/Chazy_SIP/data/figs/'\n",
    "\n",
    "l2fcResFile = os.path.join(workDir, 'l2fc_sparse-maxRejH.txt')\n",
    "\n",
    "physeqDir = '/home/chantal/Chazy/data/phyloseq/'\n",
    "physeqBulk = 'bulk-core'"
   ]
  },
  {
   "cell_type": "code",
   "execution_count": 4,
   "metadata": {
    "collapsed": false
   },
   "outputs": [
    {
     "name": "stderr",
     "output_type": "stream",
     "text": [
      "/opt/anaconda/lib/python2.7/site-packages/rpy2/robjects/functions.py:106: UserWarning: \n",
      "Attaching package: ‘dplyr’\n",
      "\n",
      "\n",
      "  res = super(Function, self).__call__(*new_args, **new_kwargs)\n",
      "/opt/anaconda/lib/python2.7/site-packages/rpy2/robjects/functions.py:106: UserWarning: The following objects are masked from ‘package:stats’:\n",
      "\n",
      "    filter, lag\n",
      "\n",
      "\n",
      "  res = super(Function, self).__call__(*new_args, **new_kwargs)\n",
      "/opt/anaconda/lib/python2.7/site-packages/rpy2/robjects/functions.py:106: UserWarning: The following objects are masked from ‘package:base’:\n",
      "\n",
      "    intersect, setdiff, setequal, union\n",
      "\n",
      "\n",
      "  res = super(Function, self).__call__(*new_args, **new_kwargs)\n",
      "/opt/anaconda/lib/python2.7/site-packages/rpy2/robjects/functions.py:106: UserWarning: \n",
      "Attaching package: ‘gridExtra’\n",
      "\n",
      "\n",
      "  res = super(Function, self).__call__(*new_args, **new_kwargs)\n",
      "/opt/anaconda/lib/python2.7/site-packages/rpy2/robjects/functions.py:106: UserWarning: The following object is masked from ‘package:dplyr’:\n",
      "\n",
      "    combine\n",
      "\n",
      "\n",
      "  res = super(Function, self).__call__(*new_args, **new_kwargs)\n",
      "/opt/anaconda/lib/python2.7/site-packages/rpy2/robjects/functions.py:106: UserWarning: foreach: simple, scalable parallel programming from Revolution Analytics\n",
      "Use Revolution R for scalability, fault tolerance and more.\n",
      "http://www.revolutionanalytics.com\n",
      "\n",
      "  res = super(Function, self).__call__(*new_args, **new_kwargs)\n",
      "/opt/anaconda/lib/python2.7/site-packages/rpy2/robjects/functions.py:106: UserWarning: Loading required package: iterators\n",
      "\n",
      "  res = super(Function, self).__call__(*new_args, **new_kwargs)\n",
      "/opt/anaconda/lib/python2.7/site-packages/rpy2/robjects/functions.py:106: UserWarning: Loading required package: parallel\n",
      "\n",
      "  res = super(Function, self).__call__(*new_args, **new_kwargs)\n"
     ]
    }
   ],
   "source": [
    "%%R\n",
    "library(phyloseq)\n",
    "library(dplyr)\n",
    "library(tidyr)\n",
    "library(ggplot2)\n",
    "library(grid)\n",
    "library(gridExtra)\n",
    "library(foreach)\n",
    "library(doParallel)"
   ]
  },
  {
   "cell_type": "code",
   "execution_count": 5,
   "metadata": {
    "collapsed": false
   },
   "outputs": [
    {
     "name": "stdout",
     "output_type": "stream",
     "text": [
      "/home/chantal/Chazy/Chazy_SIP/data\n"
     ]
    }
   ],
   "source": [
    "if not os.path.isdir(workDir):\n",
    "    os.makedirs(workDir)\n",
    "%cd $workDir\n",
    "\n",
    "if not os.path.isdir(figDir):\n",
    "    os.makedirs(figDir)"
   ]
  },
  {
   "cell_type": "code",
   "execution_count": 7,
   "metadata": {
    "collapsed": false
   },
   "outputs": [
    {
     "data": {
      "text/plain": [
       "variables loaded into R\n"
      ]
     },
     "metadata": {},
     "output_type": "display_data"
    }
   ],
   "source": [
    "%%R -i workDir -i figDir -i physeqDir -i physeqBulk  -i l2fcResFile \n",
    "cat('variables loaded into R\\n')"
   ]
  },
  {
   "cell_type": "code",
   "execution_count": 10,
   "metadata": {
    "collapsed": false
   },
   "outputs": [
    {
     "data": {
      "text/plain": [
       "phyloseq-class experiment-level object\n",
       "otu_table()   OTU Table:         [ 21374 taxa and 16 samples ]\n",
       "sample_data() Sample Data:       [ 16 samples by 25 sample variables ]\n",
       "tax_table()   Taxonomy Table:    [ 21374 taxa by 8 taxonomic ranks ]\n",
       "phy_tree()    Phylogenetic Tree: [ 21374 tips and 21373 internal nodes ]\n"
      ]
     },
     "metadata": {},
     "output_type": "display_data"
    }
   ],
   "source": [
    "%%R \n",
    "\n",
    "F = file.path(physeqDir, physeqBulk)\n",
    "physeq.Bulk = readRDS(F)\n",
    "physeq.Bulk.m = physeq.Bulk %>% sample_data\n",
    "physeq.Bulk = prune_samples(physeq.Bulk.m$Sample_Date == '9/24/14',\n",
    "                           physeq.Bulk)\n",
    "physeq.Bulk"
   ]
  },
  {
   "cell_type": "code",
   "execution_count": 11,
   "metadata": {
    "collapsed": false
   },
   "outputs": [
    {
     "data": {
      "text/plain": [
       "  Treatment Day Replicate Land_Management      OTU log2FoldChange         p\n",
       "1       13C   3         4             NTH OTU.4163      0.2905525 0.4758928\n",
       "2       13C   3         4             NTH OTU.5493     -0.2477539 0.8663980\n",
       "3       13C   3         4             NTH OTU.1739     -0.3623365 0.9103254\n",
       "  padj    Rank1            Rank2   Rank3                  Rank4 Rank5 Rank6\n",
       "1    1 Bacteria    __Chloroflexi  __S085 __uncultured_bacterium  <NA>  <NA>\n",
       "2    1 Bacteria    __Chloroflexi  __S085 __uncultured_bacterium  <NA>  <NA>\n",
       "3    1 Bacteria __Planctomycetes __OM190 __uncultured_bacterium  <NA>  <NA>\n",
       "  Rank7 Rank8 density_min density_max sparsity_threshold\n",
       "1  <NA>  <NA>         1.7        1.73               0.05\n",
       "2  <NA>  <NA>         1.7        1.73               0.05\n",
       "3  <NA>  <NA>         1.7        1.73               0.05\n"
      ]
     },
     "metadata": {},
     "output_type": "display_data"
    }
   ],
   "source": [
    "%%R\n",
    "df.l2fc = read.delim(l2fcResFile, sep='\\t')\n",
    "df.l2fc %>% head(n=3)"
   ]
  },
  {
   "cell_type": "code",
   "execution_count": 46,
   "metadata": {
    "collapsed": true
   },
   "outputs": [],
   "source": [
    "%%R\n",
    "df.13C.N = filter(df.l2fc, padj <=0.10, Treatment == '13C', Land_Management == 'NTH')\n",
    "df.13C.P = filter(df.l2fc, padj <=0.10, Treatment == '13C', Land_Management == 'PTH')\n",
    "df.13X.N = filter(df.l2fc, padj <=0.10, Treatment == '13X', Land_Management == 'NTH')\n",
    "df.13X.P = filter(df.l2fc, padj <=0.10, Treatment == '13X', Land_Management == 'PTH')"
   ]
  },
  {
   "cell_type": "code",
   "execution_count": 111,
   "metadata": {
    "collapsed": false
   },
   "outputs": [],
   "source": [
    "%%R\n",
    "physeq.Bulk.m = physeq.Bulk %>% sample_data\n",
    "\n",
    "physeq.NTH = prune_samples(physeq.Bulk.m$Land_Management == 'NTH',\n",
    "                           physeq.Bulk)\n",
    "\n",
    "physeq.PTH = prune_samples(physeq.Bulk.m$Land_Management == 'PTH',\n",
    "                           physeq.Bulk)\n",
    "\n",
    "df.13C.N.phyl = prune_taxa(as.character(df.13C.N$OTU),\n",
    "                           physeq.NTH) \n",
    "\n",
    "df.13C.P.phyl = prune_taxa(as.character(df.13C.P$OTU),\n",
    "                           physeq.PTH) \n",
    "\n",
    "df.13X.N.phyl = prune_taxa(as.character(df.13X.N$OTU),\n",
    "                           physeq.NTH) \n",
    "\n",
    "df.13X.P.phyl = prune_taxa(as.character(df.13X.P$OTU),\n",
    "                           physeq.PTH) "
   ]
  },
  {
   "cell_type": "code",
   "execution_count": 112,
   "metadata": {
    "collapsed": false
   },
   "outputs": [
    {
     "data": {
      "text/plain": [
       "phyloseq-class experiment-level object\n",
       "otu_table()   OTU Table:         [ 1031 taxa and 4 samples ]\n",
       "sample_data() Sample Data:       [ 4 samples by 25 sample variables ]\n",
       "tax_table()   Taxonomy Table:    [ 1031 taxa by 8 taxonomic ranks ]\n",
       "phy_tree()    Phylogenetic Tree: [ 1031 tips and 1030 internal nodes ]\n",
       "[1] 1062\n",
       "phyloseq-class experiment-level object\n",
       "otu_table()   OTU Table:         [ 918 taxa and 4 samples ]\n",
       "sample_data() Sample Data:       [ 4 samples by 25 sample variables ]\n",
       "tax_table()   Taxonomy Table:    [ 918 taxa by 8 taxonomic ranks ]\n",
       "phy_tree()    Phylogenetic Tree: [ 918 tips and 917 internal nodes ]\n",
       "[1] 935\n",
       "phyloseq-class experiment-level object\n",
       "otu_table()   OTU Table:         [ 567 taxa and 4 samples ]\n",
       "sample_data() Sample Data:       [ 4 samples by 25 sample variables ]\n",
       "tax_table()   Taxonomy Table:    [ 567 taxa by 8 taxonomic ranks ]\n",
       "phy_tree()    Phylogenetic Tree: [ 567 tips and 566 internal nodes ]\n",
       "[1] 582\n",
       "phyloseq-class experiment-level object\n",
       "otu_table()   OTU Table:         [ 568 taxa and 4 samples ]\n",
       "sample_data() Sample Data:       [ 4 samples by 25 sample variables ]\n",
       "tax_table()   Taxonomy Table:    [ 568 taxa by 8 taxonomic ranks ]\n",
       "phy_tree()    Phylogenetic Tree: [ 568 tips and 567 internal nodes ]\n",
       "[1] 604\n"
      ]
     },
     "metadata": {},
     "output_type": "display_data"
    }
   ],
   "source": [
    "%%R\n",
    "print(df.13C.N.phyl)\n",
    "print(length(unique(df.13C.N$OTU)))\n",
    "\n",
    "print(df.13C.P.phyl)\n",
    "print(length(unique(df.13C.P$OTU)))\n",
    "\n",
    "print(df.13X.N.phyl)\n",
    "print(length(unique(df.13X.N$OTU)))\n",
    "\n",
    "print(df.13X.P.phyl)\n",
    "print(length(unique(df.13X.P$OTU)))"
   ]
  },
  {
   "cell_type": "markdown",
   "metadata": {},
   "source": [
    "## Looking at general alpha diversity of responders, time summed together"
   ]
  },
  {
   "cell_type": "code",
   "execution_count": 115,
   "metadata": {
    "collapsed": false
   },
   "outputs": [],
   "source": [
    "%%R\n",
    "library(picante)\n",
    "\n",
    "otu_tab.13CN = t(otu_table(df.13C.N.phyl)) %>% as.data.frame\n",
    "tree.13CN = (phy_tree(df.13C.N.phyl))\n",
    "\n",
    "otu_tab.13CP = t(otu_table(df.13C.P.phyl)) %>% as.data.frame\n",
    "tree.13CP = (phy_tree(df.13C.P.phyl))\n",
    "\n",
    "otu_tab.13XN = t(otu_table(df.13X.N.phyl)) %>% as.data.frame\n",
    "tree.13XN = (phy_tree(df.13X.N.phyl))\n",
    "\n",
    "otu_tab.13XP = t(otu_table(df.13X.P.phyl)) %>% as.data.frame\n",
    "tree.13XP = (phy_tree(df.13X.P.phyl))\n",
    "\n"
   ]
  },
  {
   "cell_type": "code",
   "execution_count": 268,
   "metadata": {
    "collapsed": false
   },
   "outputs": [],
   "source": [
    "%%R\n",
    "pd.13CN = pd(otu_tab.13CN, tree.13CN)\n",
    "pd.13CP = pd(otu_tab.13CP, tree.13CP)\n",
    "pd.13XN = pd(otu_tab.13XN, tree.13XN)\n",
    "pd.13XP = pd(otu_tab.13XP, tree.13XP)"
   ]
  },
  {
   "cell_type": "code",
   "execution_count": 269,
   "metadata": {
    "collapsed": false
   },
   "outputs": [
    {
     "data": {
      "text/plain": [
       "Source: local data frame [1 x 3]\n",
       "\n",
       "  Land_Management mean_PD    sd_PD\n",
       "            (chr)   (dbl)    (dbl)\n",
       "1             NTH 47.5755 4.559555\n"
      ]
     },
     "metadata": {},
     "output_type": "display_data"
    }
   ],
   "source": [
    "%%R\n",
    "pd.13CN$Sample = rownames(pd.13CN)\n",
    "pd.13CN = pd.13CN %>% separate(Sample, c(\"Month\", \"Land_Management\", \"Replicate\")) \n",
    "\n",
    "pd.13CN.arr = arrange(pd.13CN, Replicate)\n",
    "pd.13CN.arr\n",
    "\n",
    "pd.13CN %>% group_by(Land_Management) %>% summarise(mean_PD = mean(PD), sd_PD = sd(PD))\n"
   ]
  },
  {
   "cell_type": "code",
   "execution_count": 270,
   "metadata": {
    "collapsed": false
   },
   "outputs": [
    {
     "data": {
      "text/plain": [
       "Source: local data frame [1 x 3]\n",
       "\n",
       "  Land_Management  mean_PD    sd_PD\n",
       "            (chr)    (dbl)    (dbl)\n",
       "1             PTH 51.44008 4.159203\n"
      ]
     },
     "metadata": {},
     "output_type": "display_data"
    }
   ],
   "source": [
    "%%R\n",
    "pd.13CP$Sample = rownames(pd.13CP)\n",
    "pd.13CP = pd.13CP %>% separate(Sample, c(\"Month\", \"Land_Management\", \"Replicate\")) \n",
    "\n",
    "pd.13CP.arr = arrange(pd.13CP, Replicate)\n",
    "pd.13CP.arr\n",
    "\n",
    "pd.13CP %>% group_by(Land_Management) %>% summarise(mean_PD = mean(PD), sd_PD = sd(PD))\n"
   ]
  },
  {
   "cell_type": "code",
   "execution_count": 231,
   "metadata": {
    "collapsed": false
   },
   "outputs": [
    {
     "data": {
      "text/plain": [
       "\n",
       "\tPaired t-test\n",
       "\n",
       "data:  pd.13CN.arr$PD and pd.13CP.arr$PD\n",
       "t = -1.2704, df = 3, p-value = 0.2935\n",
       "alternative hypothesis: true difference in means is not equal to 0\n",
       "95 percent confidence interval:\n",
       " -13.546002   5.816832\n",
       "sample estimates:\n",
       "mean of the differences \n",
       "              -3.864585 \n",
       "\n"
      ]
     },
     "metadata": {},
     "output_type": "display_data"
    }
   ],
   "source": [
    "%%R\n",
    "t.test(pd.13CN.arr$PD, pd.13CP.arr$PD, paired = TRUE)"
   ]
  },
  {
   "cell_type": "code",
   "execution_count": 271,
   "metadata": {
    "collapsed": false
   },
   "outputs": [
    {
     "data": {
      "text/plain": [
       "Source: local data frame [1 x 3]\n",
       "\n",
       "  Land_Management  mean_PD    sd_PD\n",
       "            (chr)    (dbl)    (dbl)\n",
       "1             NTH 26.40475 3.005067\n"
      ]
     },
     "metadata": {},
     "output_type": "display_data"
    }
   ],
   "source": [
    "%%R\n",
    "pd.13XN$Sample = rownames(pd.13XN)\n",
    "pd.13XN = pd.13XN %>% separate(Sample, c(\"Month\", \"Land_Management\", \"Replicate\")) \n",
    "\n",
    "pd.13XN.arr = arrange(pd.13XN, Replicate)\n",
    "pd.13XN.arr\n",
    "\n",
    "pd.13XN %>% group_by(Land_Management) %>% summarise(mean_PD = mean(PD), sd_PD = sd(PD))\n"
   ]
  },
  {
   "cell_type": "code",
   "execution_count": 272,
   "metadata": {
    "collapsed": false
   },
   "outputs": [
    {
     "data": {
      "text/plain": [
       "Source: local data frame [1 x 3]\n",
       "\n",
       "  Land_Management  mean_PD    sd_PD\n",
       "            (chr)    (dbl)    (dbl)\n",
       "1             PTH 30.32662 2.125522\n"
      ]
     },
     "metadata": {},
     "output_type": "display_data"
    }
   ],
   "source": [
    "%%R\n",
    "pd.13XP$Sample = rownames(pd.13XP)\n",
    "pd.13XP = pd.13XP %>% separate(Sample, c(\"Month\", \"Land_Management\", \"Replicate\")) \n",
    "\n",
    "pd.13XP.arr = arrange(pd.13XP, Replicate)\n",
    "pd.13XP.arr\n",
    "\n",
    "pd.13XP %>% group_by(Land_Management) %>% summarise(mean_PD = mean(PD), sd_PD = sd(PD))\n"
   ]
  },
  {
   "cell_type": "code",
   "execution_count": 232,
   "metadata": {
    "collapsed": false
   },
   "outputs": [
    {
     "data": {
      "text/plain": [
       "\n",
       "\tPaired t-test\n",
       "\n",
       "data:  pd.13XN.arr$PD and pd.13XP.arr$PD\n",
       "t = -2.4167, df = 3, p-value = 0.09445\n",
       "alternative hypothesis: true difference in means is not equal to 0\n",
       "95 percent confidence interval:\n",
       " -9.086354  1.242614\n",
       "sample estimates:\n",
       "mean of the differences \n",
       "               -3.92187 \n",
       "\n"
      ]
     },
     "metadata": {},
     "output_type": "display_data"
    }
   ],
   "source": [
    "%%R\n",
    "t.test(pd.13XN.arr$PD, pd.13XP.arr$PD, paired = TRUE)"
   ]
  },
  {
   "cell_type": "markdown",
   "metadata": {},
   "source": [
    "## Pielou's for Incorporator"
   ]
  },
  {
   "cell_type": "code",
   "execution_count": 274,
   "metadata": {
    "collapsed": false
   },
   "outputs": [
    {
     "data": {
      "text/plain": [
       "[1] 0.8275907\n",
       "[1] 0.04194244\n"
      ]
     },
     "metadata": {},
     "output_type": "display_data"
    }
   ],
   "source": [
    "%%R\n",
    "#H - Shannons, S - Species Richness, J = Pielou's evenness\n",
    "\n",
    "H.13CN <- diversity(otu_tab.13CN )\n",
    "## Species richness (S) and Pielou's evenness (J):\n",
    "S.13CN <- specnumber(otu_tab.13CN ) ## rowSums(BCI > 0) does the same...\n",
    "J.13CN <- H.13CN/log(S.13CN)\n",
    "\n",
    "J.13CN <- J.13CN[c(1,3,4,2)]\n",
    "\n",
    "print(mean(J.13CN))\n",
    "print(sd(J.13CN))"
   ]
  },
  {
   "cell_type": "code",
   "execution_count": 275,
   "metadata": {
    "collapsed": false
   },
   "outputs": [
    {
     "data": {
      "text/plain": [
       "[1] 0.8487474\n",
       "[1] 0.01738892\n"
      ]
     },
     "metadata": {},
     "output_type": "display_data"
    }
   ],
   "source": [
    "%%R\n",
    "#H - Shannons, S - Species Richness, J = Pielou's evenness\n",
    "H.13CP <- diversity(otu_tab.13CP)\n",
    "## Species richness (S) and Pielou's evenness (J):\n",
    "S.13CP <- specnumber(otu_tab.13CP) ## rowSums(BCI > 0) does the same...\n",
    "J.13CP <- H.13CP/log(S.13CP)\n",
    "\n",
    "J.13CP <- J.13CP[c(4,3,1,2)]\n",
    "\n",
    "J.13CP\n",
    "\n",
    "print(mean(J.13CP))\n",
    "print(sd(J.13CP))"
   ]
  },
  {
   "cell_type": "code",
   "execution_count": 185,
   "metadata": {
    "collapsed": false
   },
   "outputs": [
    {
     "data": {
      "text/plain": [
       "\n",
       "\tPaired t-test\n",
       "\n",
       "data:  J.13CN and J.13CP\n",
       "t = -0.89958, df = 3, p-value = 0.4346\n",
       "alternative hypothesis: true difference in means is not equal to 0\n",
       "95 percent confidence interval:\n",
       " -0.09600249  0.05368907\n",
       "sample estimates:\n",
       "mean of the differences \n",
       "            -0.02115671 \n",
       "\n"
      ]
     },
     "metadata": {},
     "output_type": "display_data"
    }
   ],
   "source": [
    "%%R\n",
    "t.test(J.13CN, J.13CP, paired = TRUE)"
   ]
  },
  {
   "cell_type": "code",
   "execution_count": 276,
   "metadata": {
    "collapsed": false
   },
   "outputs": [
    {
     "data": {
      "text/plain": [
       "[1] 0.8407728\n",
       "[1] 0.01239185\n"
      ]
     },
     "metadata": {},
     "output_type": "display_data"
    }
   ],
   "source": [
    "%%R\n",
    "#H - Shannons, S - Species Richness, J = Pielou's evenness\n",
    "\n",
    "H.13XN <- diversity(otu_tab.13XN )\n",
    "## Species richness (S) and Pielou's evenness (J):\n",
    "S.13XN <- specnumber(otu_tab.13XN ) ## rowSums(BCI > 0) does the same...\n",
    "J.13XN <- H.13XN/log(S.13XN)\n",
    "\n",
    "J.13XN <- J.13XN[c(1,3,4,2)]\n",
    "\n",
    "J.13XN\n",
    "print(mean(J.13XN))\n",
    "print(sd(J.13XN))"
   ]
  },
  {
   "cell_type": "code",
   "execution_count": 277,
   "metadata": {
    "collapsed": false
   },
   "outputs": [
    {
     "data": {
      "text/plain": [
       "[1] 0.8175502\n",
       "[1] 0.02106183\n"
      ]
     },
     "metadata": {},
     "output_type": "display_data"
    }
   ],
   "source": [
    "%%R\n",
    "#H - Shannons, S - Species Richness, J = Pielou's evenness\n",
    "\n",
    "H.13XP <- diversity(otu_tab.13XP )\n",
    "## Species richness (S) and Pielou's evenness (J):\n",
    "S.13XP <- specnumber(otu_tab.13XP ) ## rowSums(BCI > 0) does the same...\n",
    "J.13XP <- H.13XP/log(S.13XP)\n",
    "\n",
    "J.13XP <- J.13XP[c(4,3,1,2)]\n",
    "\n",
    "J.13XP\n",
    "print(mean(J.13XP))\n",
    "print(sd(J.13XP))"
   ]
  },
  {
   "cell_type": "code",
   "execution_count": 189,
   "metadata": {
    "collapsed": false
   },
   "outputs": [
    {
     "data": {
      "text/plain": [
       "\n",
       "\tWelch Two Sample t-test\n",
       "\n",
       "data:  J.13XN and J.13XP\n",
       "t = 1.9006, df = 4.8547, p-value = 0.1175\n",
       "alternative hypothesis: true difference in means is not equal to 0\n",
       "95 percent confidence interval:\n",
       " -0.008470631  0.054915860\n",
       "sample estimates:\n",
       "mean of x mean of y \n",
       "0.8407728 0.8175502 \n",
       "\n"
      ]
     },
     "metadata": {},
     "output_type": "display_data"
    }
   ],
   "source": [
    "%%R\n",
    "t.test(J.13XN, J.13XP, Paired = TRUE)"
   ]
  },
  {
   "cell_type": "markdown",
   "metadata": {},
   "source": [
    "## Shannon for Incorporator"
   ]
  },
  {
   "cell_type": "code",
   "execution_count": 208,
   "metadata": {
    "collapsed": true
   },
   "outputs": [],
   "source": [
    "%%R\n",
    "rich.13CN = estimate_richness(df.13C.N.phyl)\n",
    "\n",
    "rich.13CP = estimate_richness(df.13C.P.phyl)\n",
    "\n",
    "rich.13XN = estimate_richness(df.13X.N.phyl)\n",
    "\n",
    "rich.13XP = estimate_richness(df.13X.P.phyl)"
   ]
  },
  {
   "cell_type": "code",
   "execution_count": 209,
   "metadata": {
    "collapsed": false
   },
   "outputs": [
    {
     "data": {
      "text/plain": [
       "  Land_Management Observed_mean Chao1_mean se.chao1_mean ACE_mean se.ACE_mean\n",
       "1             NTH         496.5   606.2063      24.27431 609.7073    11.72881\n",
       "  Shannon_mean Simpson_mean InvSimpson_mean Fisher_mean Month_mean\n",
       "1     5.133124    0.9716756        60.34067    158.2118         NA\n",
       "  Replicate_mean Observed_sd Chao1_sd se.chao1_sd  ACE_sd se.ACE_sd Shannon_sd\n",
       "1             NA    65.67851 72.87167     5.20564 69.9599 0.8105175  0.3079686\n",
       "  Simpson_sd InvSimpson_sd Fisher_sd Month_sd Replicate_sd\n",
       "1 0.02113421      44.88448  18.72886       NA     1.290994\n"
      ]
     },
     "metadata": {},
     "output_type": "display_data"
    }
   ],
   "source": [
    "%%R\n",
    "rich.13CN$Sample = rownames(rich.13CN)\n",
    "\n",
    "rich.13CN = rich.13CN  %>% separate(Sample, c(\"Month\", \"Land_Management\", \"Replicate\")) \n",
    "\n",
    "rich.13CN %>% group_by(Land_Management) %>% summarise_each(funs(mean, sd)) %>% as.data.frame\n"
   ]
  },
  {
   "cell_type": "code",
   "execution_count": 210,
   "metadata": {
    "collapsed": false
   },
   "outputs": [
    {
     "data": {
      "text/plain": [
       "  Land_Management Observed_mean Chao1_mean se.chao1_mean ACE_mean se.ACE_mean\n",
       "1             PTH           529   613.6528      19.65626 620.8731    11.59847\n",
       "  Shannon_mean Simpson_mean InvSimpson_mean Fisher_mean Month_mean\n",
       "1     5.319512    0.9886425        89.77027    154.4631         NA\n",
       "  Replicate_mean Observed_sd Chao1_sd se.chao1_sd   ACE_sd se.ACE_sd Shannon_sd\n",
       "1             NA     45.4386 53.31854     4.89746 57.76424 0.7917428 0.08296392\n",
       "   Simpson_sd InvSimpson_sd Fisher_sd Month_sd Replicate_sd\n",
       "1 0.001914824      13.68096  14.40343       NA     1.290994\n"
      ]
     },
     "metadata": {},
     "output_type": "display_data"
    }
   ],
   "source": [
    "%%R\n",
    "rich.13CP$Sample = rownames(rich.13CP)\n",
    "\n",
    "rich.13CP = rich.13CP  %>% separate(Sample, c(\"Month\", \"Land_Management\", \"Replicate\")) \n",
    "\n",
    "rich.13CP %>% group_by(Land_Management) %>% summarise_each(funs(mean, sd)) %>% as.data.frame\n"
   ]
  },
  {
   "cell_type": "code",
   "execution_count": 211,
   "metadata": {
    "collapsed": false
   },
   "outputs": [],
   "source": [
    "%%R\n",
    "rich.13CN.arr = rich.13CN %>% arrange(Replicate)\n",
    "rich.13CP.arr = rich.13CP %>% arrange(Replicate)"
   ]
  },
  {
   "cell_type": "code",
   "execution_count": 212,
   "metadata": {
    "collapsed": false
   },
   "outputs": [
    {
     "data": {
      "text/plain": [
       "  Observed    Chao1 se.chao1      ACE   se.ACE  Shannon   Simpson InvSimpson\n",
       "1      505 555.5096 13.22321 570.4660 10.75474 5.374482 0.9901996  102.03696\n",
       "2      490 608.3093 25.13767 617.2611 11.81397 5.347208 0.9897431   97.49580\n",
       "3      528 606.0000 19.94172 593.1232 11.23255 5.196193 0.9859295   71.07053\n",
       "4      593 684.7925 20.32245 702.6420 12.59263 5.360164 0.9886977   88.47779\n",
       "    Fisher Month Land_Management Replicate\n",
       "1 150.8927     S             PTH         1\n",
       "2 166.5072     S             PTH         2\n",
       "3 135.5860     S             PTH         3\n",
       "4 164.8663     S             PTH         4\n"
      ]
     },
     "metadata": {},
     "output_type": "display_data"
    }
   ],
   "source": [
    "%%R\n",
    "head(rich.13CP.arr)"
   ]
  },
  {
   "cell_type": "code",
   "execution_count": 213,
   "metadata": {
    "collapsed": false
   },
   "outputs": [
    {
     "data": {
      "text/plain": [
       "\n",
       "\tPaired t-test\n",
       "\n",
       "data:  rich.13CN.arr$Observed and rich.13CP.arr$Observed\n",
       "t = -0.88233, df = 3, p-value = 0.4426\n",
       "alternative hypothesis: true difference in means is not equal to 0\n",
       "95 percent confidence interval:\n",
       " -149.72251   84.72251\n",
       "sample estimates:\n",
       "mean of the differences \n",
       "                  -32.5 \n",
       "\n"
      ]
     },
     "metadata": {},
     "output_type": "display_data"
    }
   ],
   "source": [
    "%%R\n",
    "t.test(rich.13CN.arr$Observed, rich.13CP.arr$Observed, paired = TRUE)"
   ]
  },
  {
   "cell_type": "code",
   "execution_count": 214,
   "metadata": {
    "collapsed": false
   },
   "outputs": [
    {
     "data": {
      "text/plain": [
       "\n",
       "\tPaired t-test\n",
       "\n",
       "data:  rich.13CN.arr$Shannon and rich.13CP.arr$Shannon\n",
       "t = -1.0951, df = 3, p-value = 0.3535\n",
       "alternative hypothesis: true difference in means is not equal to 0\n",
       "95 percent confidence interval:\n",
       " -0.7280436  0.3552688\n",
       "sample estimates:\n",
       "mean of the differences \n",
       "             -0.1863874 \n",
       "\n"
      ]
     },
     "metadata": {},
     "output_type": "display_data"
    }
   ],
   "source": [
    "%%R\n",
    "t.test(rich.13CN.arr$Shannon, rich.13CP.arr$Shannon, paired = TRUE)"
   ]
  },
  {
   "cell_type": "code",
   "execution_count": 215,
   "metadata": {
    "collapsed": false
   },
   "outputs": [
    {
     "data": {
      "text/plain": [
       "\n",
       "\tPaired t-test\n",
       "\n",
       "data:  rich.13CN.arr$Chao1 and rich.13CP.arr$Chao1\n",
       "t = -0.15782, df = 3, p-value = 0.8846\n",
       "alternative hypothesis: true difference in means is not equal to 0\n",
       "95 percent confidence interval:\n",
       " -157.6097  142.7166\n",
       "sample estimates:\n",
       "mean of the differences \n",
       "              -7.446558 \n",
       "\n"
      ]
     },
     "metadata": {},
     "output_type": "display_data"
    }
   ],
   "source": [
    "%%R\n",
    "t.test(rich.13CN.arr$Chao1, rich.13CP.arr$Chao1, paired = TRUE)"
   ]
  },
  {
   "cell_type": "code",
   "execution_count": 216,
   "metadata": {
    "collapsed": false
   },
   "outputs": [
    {
     "data": {
      "text/plain": [
       "\n",
       "\tPaired t-test\n",
       "\n",
       "data:  rich.13CN.arr$Simpson and rich.13CP.arr$Simpson\n",
       "t = -1.5526, df = 3, p-value = 0.2183\n",
       "alternative hypothesis: true difference in means is not equal to 0\n",
       "95 percent confidence interval:\n",
       " -0.05174421  0.01781045\n",
       "sample estimates:\n",
       "mean of the differences \n",
       "            -0.01696688 \n",
       "\n"
      ]
     },
     "metadata": {},
     "output_type": "display_data"
    }
   ],
   "source": [
    "%%R\n",
    "t.test(rich.13CN.arr$Simpson, rich.13CP.arr$Simpson, paired = TRUE)"
   ]
  },
  {
   "cell_type": "code",
   "execution_count": 217,
   "metadata": {
    "collapsed": false
   },
   "outputs": [
    {
     "data": {
      "text/plain": [
       "  Land_Management Observed_mean Chao1_mean se.chao1_mean ACE_mean se.ACE_mean\n",
       "1             NTH           306   374.5269       20.2238 368.4516    9.241235\n",
       "  Shannon_mean Simpson_mean InvSimpson_mean Fisher_mean Month_mean\n",
       "1     4.805424     0.983057        59.23693    87.63207         NA\n",
       "  Replicate_mean Observed_sd Chao1_sd se.chao1_sd   ACE_sd se.ACE_sd Shannon_sd\n",
       "1             NA    42.70051 44.04882    4.892434 41.89057  0.546499 0.06945852\n",
       "   Simpson_sd InvSimpson_sd Fisher_sd Month_sd Replicate_sd\n",
       "1 0.001189573      4.098264  9.285781       NA     1.290994\n"
      ]
     },
     "metadata": {},
     "output_type": "display_data"
    }
   ],
   "source": [
    "%%R\n",
    "rich.13XN$Sample = rownames(rich.13XN)\n",
    "\n",
    "rich.13XN = rich.13XN  %>% separate(Sample, c(\"Month\", \"Land_Management\", \"Replicate\")) \n",
    "\n",
    "rich.13XN %>% group_by(Land_Management) %>% summarise_each(funs(mean, sd)) %>% as.data.frame\n"
   ]
  },
  {
   "cell_type": "code",
   "execution_count": 218,
   "metadata": {
    "collapsed": false
   },
   "outputs": [
    {
     "data": {
      "text/plain": [
       "  Land_Management Observed_mean Chao1_mean se.chao1_mean ACE_mean se.ACE_mean\n",
       "1             PTH        323.75   387.5382      18.11292 388.2508    9.179157\n",
       "  Shannon_mean Simpson_mean InvSimpson_mean Fisher_mean Month_mean\n",
       "1     4.722524    0.9765464        43.82602    96.98718         NA\n",
       "  Replicate_mean Observed_sd Chao1_sd se.chao1_sd   ACE_sd se.ACE_sd Shannon_sd\n",
       "1             NA    28.76775 11.33187    6.837812 15.63472 0.4516062  0.1174084\n",
       "   Simpson_sd InvSimpson_sd Fisher_sd Month_sd Replicate_sd\n",
       "1 0.004888301      7.610676  7.677888       NA     1.290994\n"
      ]
     },
     "metadata": {},
     "output_type": "display_data"
    }
   ],
   "source": [
    "%%R\n",
    "rich.13XP$Sample = rownames(rich.13XP)\n",
    "\n",
    "rich.13XP = rich.13XP  %>% separate(Sample, c(\"Month\", \"Land_Management\", \"Replicate\")) \n",
    "\n",
    "rich.13XP %>% group_by(Land_Management) %>% summarise_each(funs(mean, sd)) %>% as.data.frame\n"
   ]
  },
  {
   "cell_type": "code",
   "execution_count": 219,
   "metadata": {
    "collapsed": true
   },
   "outputs": [],
   "source": [
    "%%R\n",
    "rich.13XN.arr = rich.13XN %>% arrange(Replicate)\n",
    "rich.13XP.arr = rich.13XP %>% arrange(Replicate)"
   ]
  },
  {
   "cell_type": "code",
   "execution_count": 220,
   "metadata": {
    "collapsed": false
   },
   "outputs": [
    {
     "data": {
      "text/plain": [
       "\n",
       "\tPaired t-test\n",
       "\n",
       "data:  rich.13XN.arr$Observed and rich.13XP.arr$Observed\n",
       "t = -0.723, df = 3, p-value = 0.522\n",
       "alternative hypothesis: true difference in means is not equal to 0\n",
       "95 percent confidence interval:\n",
       " -95.88079  60.38079\n",
       "sample estimates:\n",
       "mean of the differences \n",
       "                 -17.75 \n",
       "\n"
      ]
     },
     "metadata": {},
     "output_type": "display_data"
    }
   ],
   "source": [
    "%%R\n",
    "t.test(rich.13XN.arr$Observed, rich.13XP.arr$Observed, paired = TRUE)"
   ]
  },
  {
   "cell_type": "code",
   "execution_count": 221,
   "metadata": {
    "collapsed": false
   },
   "outputs": [
    {
     "data": {
      "text/plain": [
       "\n",
       "\tPaired t-test\n",
       "\n",
       "data:  rich.13XN.arr$Shannon and rich.13XP.arr$Shannon\n",
       "t = 2.2091, df = 3, p-value = 0.1142\n",
       "alternative hypothesis: true difference in means is not equal to 0\n",
       "95 percent confidence interval:\n",
       " -0.03652556  0.20232574\n",
       "sample estimates:\n",
       "mean of the differences \n",
       "             0.08290009 \n",
       "\n"
      ]
     },
     "metadata": {},
     "output_type": "display_data"
    }
   ],
   "source": [
    "%%R\n",
    "t.test(rich.13XN.arr$Shannon, rich.13XP.arr$Shannon, paired = TRUE)"
   ]
  },
  {
   "cell_type": "code",
   "execution_count": 222,
   "metadata": {
    "collapsed": false
   },
   "outputs": [
    {
     "data": {
      "text/plain": [
       "\n",
       "\tPaired t-test\n",
       "\n",
       "data:  rich.13XN.arr$Chao1 and rich.13XP.arr$Chao1\n",
       "t = -0.55943, df = 3, p-value = 0.6149\n",
       "alternative hypothesis: true difference in means is not equal to 0\n",
       "95 percent confidence interval:\n",
       " -87.02919  61.00645\n",
       "sample estimates:\n",
       "mean of the differences \n",
       "              -13.01137 \n",
       "\n"
      ]
     },
     "metadata": {},
     "output_type": "display_data"
    }
   ],
   "source": [
    "%%R\n",
    "t.test(rich.13XN.arr$Chao1, rich.13XP.arr$Chao1, paired = TRUE)"
   ]
  },
  {
   "cell_type": "code",
   "execution_count": 223,
   "metadata": {
    "collapsed": false
   },
   "outputs": [
    {
     "data": {
      "text/plain": [
       "\n",
       "\tPaired t-test\n",
       "\n",
       "data:  rich.13XN.arr$Simpson and rich.13XP.arr$Simpson\n",
       "t = 3.2769, df = 3, p-value = 0.04653\n",
       "alternative hypothesis: true difference in means is not equal to 0\n",
       "95 percent confidence interval:\n",
       " 0.0001877238 0.0128334551\n",
       "sample estimates:\n",
       "mean of the differences \n",
       "            0.006510589 \n",
       "\n"
      ]
     },
     "metadata": {},
     "output_type": "display_data"
    }
   ],
   "source": [
    "%%R\n",
    "t.test(rich.13XN.arr$Simpson, rich.13XP.arr$Simpson, paired = TRUE)"
   ]
  },
  {
   "cell_type": "markdown",
   "metadata": {},
   "source": [
    "## Alpha diversity for entire community, not just incorporators (PTH vs NTH)"
   ]
  },
  {
   "cell_type": "code",
   "execution_count": 233,
   "metadata": {
    "collapsed": true
   },
   "outputs": [],
   "source": [
    "%%R\n",
    "physeq.NTH = prune_samples(physeq.Bulk.m$Land_Management == 'NTH',\n",
    "                           physeq.Bulk)\n",
    "\n",
    "physeq.PTH = prune_samples(physeq.Bulk.m$Land_Management == 'PTH',\n",
    "                           physeq.Bulk)"
   ]
  },
  {
   "cell_type": "code",
   "execution_count": 234,
   "metadata": {
    "collapsed": true
   },
   "outputs": [],
   "source": [
    "%%R\n",
    "otu_tab.NTH = t(otu_table(physeq.NTH)) %>% as.data.frame\n",
    "tree.NTH = (phy_tree(physeq.NTH))\n",
    "\n",
    "otu_tab.PTH = t(otu_table(physeq.PTH)) %>% as.data.frame\n",
    "tree.PTH = (phy_tree(physeq.PTH))"
   ]
  },
  {
   "cell_type": "code",
   "execution_count": 279,
   "metadata": {
    "collapsed": true
   },
   "outputs": [],
   "source": [
    "%%R\n",
    "pd.NTH = pd(otu_tab.NTH, tree.NTH)\n",
    "pd.PTH = pd(otu_tab.PTH, tree.PTH)"
   ]
  },
  {
   "cell_type": "code",
   "execution_count": 280,
   "metadata": {
    "collapsed": false
   },
   "outputs": [
    {
     "data": {
      "text/plain": [
       "Source: local data frame [1 x 3]\n",
       "\n",
       "  Land_Management  mean_PD   sd_PD\n",
       "            (chr)    (dbl)   (dbl)\n",
       "1             NTH 222.3612 9.02947\n"
      ]
     },
     "metadata": {},
     "output_type": "display_data"
    }
   ],
   "source": [
    "%%R\n",
    "pd.NTH$Sample = rownames(pd.NTH)\n",
    "pd.NTH = pd.NTH %>% separate(Sample, c(\"Month\", \"Land_Management\", \"Replicate\")) \n",
    "\n",
    "pd.NTH.arr = arrange(pd.NTH, Replicate)\n",
    "pd.NTH.arr\n",
    "\n",
    "pd.NTH %>% group_by(Land_Management) %>% summarise(mean_PD = mean(PD), sd_PD = sd(PD))\n"
   ]
  },
  {
   "cell_type": "code",
   "execution_count": 281,
   "metadata": {
    "collapsed": false
   },
   "outputs": [
    {
     "data": {
      "text/plain": [
       "Source: local data frame [1 x 3]\n",
       "\n",
       "  Land_Management  mean_PD    sd_PD\n",
       "            (chr)    (dbl)    (dbl)\n",
       "1             PTH 224.4609 30.62547\n"
      ]
     },
     "metadata": {},
     "output_type": "display_data"
    }
   ],
   "source": [
    "%%R\n",
    "pd.PTH$Sample = rownames(pd.PTH)\n",
    "pd.PTH = pd.PTH %>% separate(Sample, c(\"Month\", \"Land_Management\", \"Replicate\")) \n",
    "\n",
    "pd.PTH.arr = arrange(pd.PTH, Replicate)\n",
    "\n",
    "pd.PTH %>% group_by(Land_Management) %>% summarise(mean_PD = mean(PD), sd_PD = sd(PD))\n"
   ]
  },
  {
   "cell_type": "code",
   "execution_count": 238,
   "metadata": {
    "collapsed": false
   },
   "outputs": [
    {
     "data": {
      "text/plain": [
       "\n",
       "\tPaired t-test\n",
       "\n",
       "data:  pd.NTH.arr$PD and pd.PTH.arr$PD\n",
       "t = -0.14946, df = 3, p-value = 0.8907\n",
       "alternative hypothesis: true difference in means is not equal to 0\n",
       "95 percent confidence interval:\n",
       " -46.80881  42.60931\n",
       "sample estimates:\n",
       "mean of the differences \n",
       "              -2.099753 \n",
       "\n"
      ]
     },
     "metadata": {},
     "output_type": "display_data"
    }
   ],
   "source": [
    "%%R\n",
    "t.test(pd.NTH.arr$PD, pd.PTH.arr$PD, paired = TRUE)"
   ]
  },
  {
   "cell_type": "markdown",
   "metadata": {},
   "source": [
    "### Pielou's - whole community"
   ]
  },
  {
   "cell_type": "code",
   "execution_count": 282,
   "metadata": {
    "collapsed": false
   },
   "outputs": [
    {
     "data": {
      "text/plain": [
       "[1] 0.8749483\n",
       "[1] 0.01217904\n"
      ]
     },
     "metadata": {},
     "output_type": "display_data"
    }
   ],
   "source": [
    "%%R\n",
    "#H - Shannons, S - Species Richness, J = Pielou's evenness\n",
    "\n",
    "H.NTH <- diversity(otu_tab.NTH )\n",
    "## Species richness (S) and Pielou's evenness (J):\n",
    "S.NTH <- specnumber(otu_tab.NTH ) ## rowSums(BCI > 0) does the same...\n",
    "J.NTH <- H.NTH/log(S.NTH)\n",
    "\n",
    "J.NTH <- J.NTH[c(1,3,4,2)]\n",
    "\n",
    "J.NTH\n",
    "print(mean(J.NTH))\n",
    "print(sd(J.NTH))"
   ]
  },
  {
   "cell_type": "code",
   "execution_count": 283,
   "metadata": {
    "collapsed": false
   },
   "outputs": [
    {
     "data": {
      "text/plain": [
       "[1] 0.890898\n",
       "[1] 0.009642798\n"
      ]
     },
     "metadata": {},
     "output_type": "display_data"
    }
   ],
   "source": [
    "%%R\n",
    "#H - Shannons, S - Species Richness, J = Pielou's evenness\n",
    "\n",
    "H.PTH <- diversity(otu_tab.PTH )\n",
    "## Species richness (S) and Pielou's evenness (J):\n",
    "S.PTH <- specnumber(otu_tab.PTH ) ## rowSums(BCI > 0) does the same...\n",
    "J.PTH <- H.PTH/log(S.PTH)\n",
    "\n",
    "J.PTH <- J.PTH[c(4,3,1,2)]\n",
    "\n",
    "J.PTH\n",
    "\n",
    "print(mean(J.PTH))\n",
    "print(sd(J.PTH))"
   ]
  },
  {
   "cell_type": "code",
   "execution_count": 245,
   "metadata": {
    "collapsed": false
   },
   "outputs": [
    {
     "data": {
      "text/plain": [
       "\n",
       "\tPaired t-test\n",
       "\n",
       "data:  J.NTH and J.PTH\n",
       "t = -2.0284, df = 3, p-value = 0.1356\n",
       "alternative hypothesis: true difference in means is not equal to 0\n",
       "95 percent confidence interval:\n",
       " -0.040974051  0.009074686\n",
       "sample estimates:\n",
       "mean of the differences \n",
       "            -0.01594968 \n",
       "\n"
      ]
     },
     "metadata": {},
     "output_type": "display_data"
    }
   ],
   "source": [
    "%%R\n",
    "t.test(J.NTH, J.PTH, paired = TRUE)"
   ]
  },
  {
   "cell_type": "markdown",
   "metadata": {},
   "source": [
    "## Shannon Diversity - whole community"
   ]
  },
  {
   "cell_type": "code",
   "execution_count": 258,
   "metadata": {
    "collapsed": true
   },
   "outputs": [],
   "source": [
    "%%R\n",
    "rich.NTH = estimate_richness(physeq.NTH)\n",
    "\n",
    "rich.PTH = estimate_richness(physeq.PTH)\n"
   ]
  },
  {
   "cell_type": "code",
   "execution_count": 259,
   "metadata": {
    "collapsed": false
   },
   "outputs": [
    {
     "data": {
      "text/plain": [
       "  Land_Management Observed_mean Chao1_mean se.chao1_mean ACE_mean se.ACE_mean\n",
       "1             NTH       3977.75   5358.184       95.5188 5509.241    38.59164\n",
       "  Shannon_mean Simpson_mean InvSimpson_mean Fisher_mean Month_mean\n",
       "1     7.249965    0.9976317        432.0535    1359.122         NA\n",
       "  Replicate_mean Observed_sd Chao1_sd se.chao1_sd   ACE_sd se.ACE_sd Shannon_sd\n",
       "1             NA    263.6834  552.103    17.70566 656.9174  4.765003 0.04527208\n",
       "    Simpson_sd InvSimpson_sd Fisher_sd Month_sd Replicate_sd\n",
       "1 0.0004198162      74.55878  115.2496       NA     1.290994\n"
      ]
     },
     "metadata": {},
     "output_type": "display_data"
    }
   ],
   "source": [
    "%%R\n",
    "rich.NTH$Sample = rownames(rich.NTH)\n",
    "\n",
    "rich.NTH = rich.NTH  %>% separate(Sample, c(\"Month\", \"Land_Management\", \"Replicate\")) \n",
    "\n",
    "rich.NTH %>% group_by(Land_Management) %>% summarise_each(funs(mean, sd)) %>% as.data.frame\n"
   ]
  },
  {
   "cell_type": "code",
   "execution_count": 260,
   "metadata": {
    "collapsed": false
   },
   "outputs": [
    {
     "data": {
      "text/plain": [
       "  Land_Management Observed_mean Chao1_mean se.chao1_mean ACE_mean se.ACE_mean\n",
       "1             PTH        4055.5   5491.503      97.27214 5678.876    39.87886\n",
       "  Shannon_mean Simpson_mean InvSimpson_mean Fisher_mean Month_mean\n",
       "1     7.389195    0.9983093        593.3054    1507.453         NA\n",
       "  Replicate_mean Observed_sd Chao1_sd se.chao1_sd  ACE_sd se.ACE_sd Shannon_sd\n",
       "1             NA    716.8424 762.7824    9.048053 707.194   1.72394 0.08585133\n",
       "    Simpson_sd InvSimpson_sd Fisher_sd Month_sd Replicate_sd\n",
       "1 0.0001089424      37.61282   105.045       NA     1.290994\n"
      ]
     },
     "metadata": {},
     "output_type": "display_data"
    }
   ],
   "source": [
    "%%R\n",
    "rich.PTH$Sample = rownames(rich.PTH)\n",
    "\n",
    "rich.PTH = rich.PTH  %>% separate(Sample, c(\"Month\", \"Land_Management\", \"Replicate\")) \n",
    "\n",
    "rich.PTH %>% group_by(Land_Management) %>% summarise_each(funs(mean, sd)) %>% as.data.frame\n"
   ]
  },
  {
   "cell_type": "code",
   "execution_count": 261,
   "metadata": {
    "collapsed": true
   },
   "outputs": [],
   "source": [
    "%%R\n",
    "rich.NTH.arr = rich.NTH %>% arrange(Replicate)\n",
    "rich.PTH.arr = rich.PTH %>% arrange(Replicate)"
   ]
  },
  {
   "cell_type": "code",
   "execution_count": 263,
   "metadata": {
    "collapsed": false
   },
   "outputs": [
    {
     "data": {
      "text/plain": [
       "\n",
       "\tPaired t-test\n",
       "\n",
       "data:  rich.NTH.arr$Observed and rich.PTH.arr$Observed\n",
       "t = -0.22426, df = 3, p-value = 0.837\n",
       "alternative hypothesis: true difference in means is not equal to 0\n",
       "95 percent confidence interval:\n",
       " -1181.106  1025.606\n",
       "sample estimates:\n",
       "mean of the differences \n",
       "                 -77.75 \n",
       "\n"
      ]
     },
     "metadata": {},
     "output_type": "display_data"
    }
   ],
   "source": [
    "%%R\n",
    "t.test(rich.NTH.arr$Observed, rich.PTH.arr$Observed, paired = TRUE)"
   ]
  },
  {
   "cell_type": "code",
   "execution_count": 264,
   "metadata": {
    "collapsed": false
   },
   "outputs": [
    {
     "data": {
      "text/plain": [
       "\n",
       "\tPaired t-test\n",
       "\n",
       "data:  rich.NTH.arr$Chao1 and rich.PTH.arr$Chao1\n",
       "t = -0.2531, df = 3, p-value = 0.8165\n",
       "alternative hypothesis: true difference in means is not equal to 0\n",
       "95 percent confidence interval:\n",
       " -1809.70  1543.06\n",
       "sample estimates:\n",
       "mean of the differences \n",
       "              -133.3199 \n",
       "\n"
      ]
     },
     "metadata": {},
     "output_type": "display_data"
    }
   ],
   "source": [
    "%%R\n",
    "t.test(rich.NTH.arr$Chao1, rich.PTH.arr$Chao1, paired = TRUE)"
   ]
  },
  {
   "cell_type": "code",
   "execution_count": 265,
   "metadata": {
    "collapsed": false
   },
   "outputs": [
    {
     "data": {
      "text/plain": [
       "\n",
       "\tPaired t-test\n",
       "\n",
       "data:  rich.NTH.arr$Shannon and rich.PTH.arr$Shannon\n",
       "t = -2.7058, df = 3, p-value = 0.07342\n",
       "alternative hypothesis: true difference in means is not equal to 0\n",
       "95 percent confidence interval:\n",
       " -0.30298676  0.02452658\n",
       "sample estimates:\n",
       "mean of the differences \n",
       "             -0.1392301 \n",
       "\n"
      ]
     },
     "metadata": {},
     "output_type": "display_data"
    }
   ],
   "source": [
    "%%R\n",
    "t.test(rich.NTH.arr$Shannon, rich.PTH.arr$Shannon, paired = TRUE)"
   ]
  },
  {
   "cell_type": "code",
   "execution_count": 266,
   "metadata": {
    "collapsed": false
   },
   "outputs": [
    {
     "data": {
      "text/plain": [
       "\n",
       "\tPaired t-test\n",
       "\n",
       "data:  rich.NTH.arr$Simpson and rich.PTH.arr$Simpson\n",
       "t = -2.7939, df = 3, p-value = 0.0682\n",
       "alternative hypothesis: true difference in means is not equal to 0\n",
       "95 percent confidence interval:\n",
       " -1.449459e-03  9.422481e-05\n",
       "sample estimates:\n",
       "mean of the differences \n",
       "          -0.0006776169 \n",
       "\n"
      ]
     },
     "metadata": {},
     "output_type": "display_data"
    }
   ],
   "source": [
    "%%R\n",
    "t.test(rich.NTH.arr$Simpson, rich.PTH.arr$Simpson, paired = TRUE)"
   ]
  },
  {
   "cell_type": "markdown",
   "metadata": {},
   "source": [
    "## Looking at Cellulose Day 3 and Xylose D1 Incorporator Communities"
   ]
  },
  {
   "cell_type": "code",
   "execution_count": 284,
   "metadata": {
    "collapsed": true
   },
   "outputs": [],
   "source": [
    "%%R\n",
    "df.13C.N.D3 = filter(df.l2fc, padj <=0.10, Treatment == '13C', Land_Management == 'NTH', Day == 3)\n",
    "df.13C.P.D3 = filter(df.l2fc, padj <=0.10, Treatment == '13C', Land_Management == 'PTH', Day == 3)\n",
    "df.13X.N.D1 = filter(df.l2fc, padj <=0.10, Treatment == '13X', Land_Management == 'NTH', Day == 1)\n",
    "df.13X.P.D1 = filter(df.l2fc, padj <=0.10, Treatment == '13X', Land_Management == 'PTH', Day == 1)"
   ]
  },
  {
   "cell_type": "code",
   "execution_count": 285,
   "metadata": {
    "collapsed": true
   },
   "outputs": [],
   "source": [
    "%%R\n",
    "\n",
    "physeq.Bulk.m = physeq.Bulk %>% sample_data\n",
    "\n",
    "physeq.NTH = prune_samples(physeq.Bulk.m$Land_Management == 'NTH',\n",
    "                           physeq.Bulk)\n",
    "\n",
    "physeq.PTH = prune_samples(physeq.Bulk.m$Land_Management == 'PTH',\n",
    "                           physeq.Bulk)\n",
    "\n",
    "df.13C.N.phyl = prune_taxa(as.character(df.13C.N.D3$OTU),\n",
    "                           physeq.NTH) \n",
    "\n",
    "df.13C.P.phyl = prune_taxa(as.character(df.13C.P.D3$OTU),\n",
    "                           physeq.PTH) \n",
    "\n",
    "df.13X.N.phyl = prune_taxa(as.character(df.13X.N.D1$OTU),\n",
    "                           physeq.NTH) \n",
    "\n",
    "df.13X.P.phyl = prune_taxa(as.character(df.13X.P$OTU),\n",
    "                           physeq.PTH) "
   ]
  },
  {
   "cell_type": "markdown",
   "metadata": {},
   "source": [
    "### Faith's PD"
   ]
  },
  {
   "cell_type": "code",
   "execution_count": 286,
   "metadata": {
    "collapsed": true
   },
   "outputs": [],
   "source": [
    "%%R\n",
    "library(picante)\n",
    "\n",
    "otu_tab.13CN = t(otu_table(df.13C.N.phyl)) %>% as.data.frame\n",
    "tree.13CN = (phy_tree(df.13C.N.phyl))\n",
    "\n",
    "otu_tab.13CP = t(otu_table(df.13C.P.phyl)) %>% as.data.frame\n",
    "tree.13CP = (phy_tree(df.13C.P.phyl))\n",
    "\n",
    "otu_tab.13XN = t(otu_table(df.13X.N.phyl)) %>% as.data.frame\n",
    "tree.13XN = (phy_tree(df.13X.N.phyl))\n",
    "\n",
    "otu_tab.13XP = t(otu_table(df.13X.P.phyl)) %>% as.data.frame\n",
    "tree.13XP = (phy_tree(df.13X.P.phyl))\n",
    "\n"
   ]
  },
  {
   "cell_type": "code",
   "execution_count": 293,
   "metadata": {
    "collapsed": true
   },
   "outputs": [],
   "source": [
    "%%R\n",
    "pd.13CN = pd(otu_tab.13CN, tree.13CN)\n",
    "pd.13CP = pd(otu_tab.13CP, tree.13CP)\n",
    "pd.13XN = pd(otu_tab.13XN, tree.13XN)\n",
    "pd.13XP = pd(otu_tab.13XP, tree.13XP)"
   ]
  },
  {
   "cell_type": "code",
   "execution_count": 288,
   "metadata": {
    "collapsed": false
   },
   "outputs": [
    {
     "data": {
      "text/plain": [
       "Source: local data frame [1 x 3]\n",
       "\n",
       "  Land_Management mean_PD     sd_PD\n",
       "            (chr)   (dbl)     (dbl)\n",
       "1             NTH 1.59699 0.5782433\n"
      ]
     },
     "metadata": {},
     "output_type": "display_data"
    }
   ],
   "source": [
    "%%R\n",
    "pd.13CN$Sample = rownames(pd.13CN)\n",
    "pd.13CN = pd.13CN %>% separate(Sample, c(\"Month\", \"Land_Management\", \"Replicate\")) \n",
    "\n",
    "pd.13CN.arr = arrange(pd.13CN, Replicate)\n",
    "pd.13CN.arr\n",
    "\n",
    "pd.13CN %>% group_by(Land_Management) %>% summarise(mean_PD = mean(PD), sd_PD = sd(PD))\n"
   ]
  },
  {
   "cell_type": "code",
   "execution_count": 289,
   "metadata": {
    "collapsed": false
   },
   "outputs": [
    {
     "data": {
      "text/plain": [
       "Source: local data frame [1 x 3]\n",
       "\n",
       "  Land_Management  mean_PD   sd_PD\n",
       "            (chr)    (dbl)   (dbl)\n",
       "1             PTH 16.66043 1.33431\n"
      ]
     },
     "metadata": {},
     "output_type": "display_data"
    }
   ],
   "source": [
    "%%R\n",
    "pd.13CP$Sample = rownames(pd.13CP)\n",
    "pd.13CP = pd.13CP %>% separate(Sample, c(\"Month\", \"Land_Management\", \"Replicate\")) \n",
    "\n",
    "pd.13CP.arr = arrange(pd.13CP, Replicate)\n",
    "pd.13CP.arr\n",
    "\n",
    "pd.13CP %>% group_by(Land_Management) %>% summarise(mean_PD = mean(PD), sd_PD = sd(PD))\n"
   ]
  },
  {
   "cell_type": "code",
   "execution_count": 297,
   "metadata": {
    "collapsed": false
   },
   "outputs": [
    {
     "data": {
      "text/plain": [
       "\n",
       "\tPaired t-test\n",
       "\n",
       "data:  pd.13CN.arr$PD and pd.13CP.arr$PD\n",
       "t = -16.124, df = 3, p-value = 0.0005189\n",
       "alternative hypothesis: true difference in means is not equal to 0\n",
       "95 percent confidence interval:\n",
       " -18.03663 -12.09025\n",
       "sample estimates:\n",
       "mean of the differences \n",
       "              -15.06344 \n",
       "\n"
      ]
     },
     "metadata": {},
     "output_type": "display_data"
    }
   ],
   "source": [
    "%%R\n",
    "t.test(pd.13CN.arr$PD, pd.13CP.arr$PD, paired = TRUE)"
   ]
  },
  {
   "cell_type": "code",
   "execution_count": 294,
   "metadata": {
    "collapsed": false
   },
   "outputs": [
    {
     "data": {
      "text/plain": [
       "Source: local data frame [1 x 3]\n",
       "\n",
       "  Land_Management  mean_PD     sd_PD\n",
       "            (chr)    (dbl)     (dbl)\n",
       "1             NTH 5.787702 0.5906482\n"
      ]
     },
     "metadata": {},
     "output_type": "display_data"
    }
   ],
   "source": [
    "%%R\n",
    "pd.13XN$Sample = rownames(pd.13XN)\n",
    "pd.13XN = pd.13XN %>% separate(Sample, c(\"Month\", \"Land_Management\", \"Replicate\")) \n",
    "\n",
    "pd.13XN.arr = arrange(pd.13XN, Replicate)\n",
    "pd.13XN.arr\n",
    "\n",
    "pd.13XN %>% group_by(Land_Management) %>% summarise(mean_PD = mean(PD), sd_PD = sd(PD))\n"
   ]
  },
  {
   "cell_type": "code",
   "execution_count": 295,
   "metadata": {
    "collapsed": false
   },
   "outputs": [
    {
     "data": {
      "text/plain": [
       "Source: local data frame [1 x 3]\n",
       "\n",
       "  Land_Management  mean_PD    sd_PD\n",
       "            (chr)    (dbl)    (dbl)\n",
       "1             PTH 30.32662 2.125522\n"
      ]
     },
     "metadata": {},
     "output_type": "display_data"
    }
   ],
   "source": [
    "%%R\n",
    "pd.13XP$Sample = rownames(pd.13XP)\n",
    "pd.13XP = pd.13XP %>% separate(Sample, c(\"Month\", \"Land_Management\", \"Replicate\")) \n",
    "\n",
    "pd.13XP.arr = arrange(pd.13XP, Replicate)\n",
    "pd.13XP.arr\n",
    "\n",
    "pd.13XP %>% group_by(Land_Management) %>% summarise(mean_PD = mean(PD), sd_PD = sd(PD))\n"
   ]
  },
  {
   "cell_type": "code",
   "execution_count": 296,
   "metadata": {
    "collapsed": false
   },
   "outputs": [
    {
     "data": {
      "text/plain": [
       "\n",
       "\tPaired t-test\n",
       "\n",
       "data:  pd.13XN.arr$PD and pd.13XP.arr$PD\n",
       "t = -20.855, df = 3, p-value = 0.0002411\n",
       "alternative hypothesis: true difference in means is not equal to 0\n",
       "95 percent confidence interval:\n",
       " -28.28347 -20.79437\n",
       "sample estimates:\n",
       "mean of the differences \n",
       "              -24.53892 \n",
       "\n"
      ]
     },
     "metadata": {},
     "output_type": "display_data"
    }
   ],
   "source": [
    "%%R\n",
    "t.test(pd.13XN.arr$PD, pd.13XP.arr$PD, paired = TRUE)"
   ]
  },
  {
   "cell_type": "markdown",
   "metadata": {},
   "source": [
    "### Pielou's"
   ]
  },
  {
   "cell_type": "code",
   "execution_count": 305,
   "metadata": {
    "collapsed": false
   },
   "outputs": [
    {
     "data": {
      "text/plain": [
       "[1] 0.6927556\n",
       "[1] 0.1204529\n"
      ]
     },
     "metadata": {},
     "output_type": "display_data"
    }
   ],
   "source": [
    "%%R\n",
    "#H - Shannons, S - Species Richness, J = Pielou's evenness\n",
    "\n",
    "H.13CN <- diversity(otu_tab.13CN )\n",
    "## Species richness (S) and Pielou's evenness (J):\n",
    "S.13CN <- specnumber(otu_tab.13CN ) ## rowSums(BCI > 0) does the same...\n",
    "J.13CN <- H.13CN/log(S.13CN)\n",
    "\n",
    "J.13CN <- J.13CN[c(1,3,4,2)]\n",
    "\n",
    "J.13CN\n",
    "print(mean(J.13CN))\n",
    "print(sd(J.13CN))"
   ]
  },
  {
   "cell_type": "code",
   "execution_count": 308,
   "metadata": {
    "collapsed": false
   },
   "outputs": [
    {
     "data": {
      "text/plain": [
       "[1] 0.8156578\n",
       "[1] 0.02005656\n"
      ]
     },
     "metadata": {},
     "output_type": "display_data"
    }
   ],
   "source": [
    "%%R\n",
    "#H - Shannons, S - Species Richness, J = Pielou's evenness\n",
    "H.13CP <- diversity(otu_tab.13CP)\n",
    "## Species richness (S) and Pielou's evenness (J):\n",
    "S.13CP <- specnumber(otu_tab.13CP) ## rowSums(BCI > 0) does the same...\n",
    "J.13CP <- H.13CP/log(S.13CP)\n",
    "\n",
    "J.13CP <- J.13CP[c(4,3,1,2)]\n",
    "\n",
    "J.13CP\n",
    "\n",
    "print(mean(J.13CP))\n",
    "print(sd(J.13CP))"
   ]
  },
  {
   "cell_type": "code",
   "execution_count": 309,
   "metadata": {
    "collapsed": false
   },
   "outputs": [
    {
     "data": {
      "text/plain": [
       "\n",
       "\tPaired t-test\n",
       "\n",
       "data:  J.13CN and J.13CP\n",
       "t = -2.0089, df = 3, p-value = 0.1381\n",
       "alternative hypothesis: true difference in means is not equal to 0\n",
       "95 percent confidence interval:\n",
       " -0.31759605  0.07179164\n",
       "sample estimates:\n",
       "mean of the differences \n",
       "             -0.1229022 \n",
       "\n"
      ]
     },
     "metadata": {},
     "output_type": "display_data"
    }
   ],
   "source": [
    "%%R\n",
    "t.test(J.13CN, J.13CP, paired = TRUE)"
   ]
  },
  {
   "cell_type": "code",
   "execution_count": 310,
   "metadata": {
    "collapsed": false
   },
   "outputs": [
    {
     "data": {
      "text/plain": [
       "[1] 0.8156668\n",
       "[1] 0.02668541\n"
      ]
     },
     "metadata": {},
     "output_type": "display_data"
    }
   ],
   "source": [
    "%%R\n",
    "#H - Shannons, S - Species Richness, J = Pielou's evenness\n",
    "\n",
    "H.13XN <- diversity(otu_tab.13XN )\n",
    "## Species richness (S) and Pielou's evenness (J):\n",
    "S.13XN <- specnumber(otu_tab.13XN ) ## rowSums(BCI > 0) does the same...\n",
    "J.13XN <- H.13XN/log(S.13XN)\n",
    "\n",
    "J.13XN <- J.13XN[c(1,3,4,2)]\n",
    "\n",
    "J.13XN\n",
    "print(mean(J.13XN))\n",
    "print(sd(J.13XN))"
   ]
  },
  {
   "cell_type": "code",
   "execution_count": 311,
   "metadata": {
    "collapsed": false
   },
   "outputs": [
    {
     "data": {
      "text/plain": [
       "[1] 0.8175502\n",
       "[1] 0.02106183\n"
      ]
     },
     "metadata": {},
     "output_type": "display_data"
    }
   ],
   "source": [
    "%%R\n",
    "#H - Shannons, S - Species Richness, J = Pielou's evenness\n",
    "\n",
    "H.13XP <- diversity(otu_tab.13XP )\n",
    "## Species richness (S) and Pielou's evenness (J):\n",
    "S.13XP <- specnumber(otu_tab.13XP ) ## rowSums(BCI > 0) does the same...\n",
    "J.13XP <- H.13XP/log(S.13XP)\n",
    "\n",
    "J.13XP <- J.13XP[c(4,3,1,2)]\n",
    "\n",
    "J.13XP\n",
    "print(mean(J.13XP))\n",
    "print(sd(J.13XP))"
   ]
  },
  {
   "cell_type": "code",
   "execution_count": 312,
   "metadata": {
    "collapsed": false
   },
   "outputs": [
    {
     "data": {
      "text/plain": [
       "\n",
       "\tPaired t-test\n",
       "\n",
       "data:  J.13XN and J.13XP\n",
       "t = -0.12695, df = 3, p-value = 0.907\n",
       "alternative hypothesis: true difference in means is not equal to 0\n",
       "95 percent confidence interval:\n",
       " -0.04909715  0.04533043\n",
       "sample estimates:\n",
       "mean of the differences \n",
       "           -0.001883364 \n",
       "\n"
      ]
     },
     "metadata": {},
     "output_type": "display_data"
    }
   ],
   "source": [
    "%%R\n",
    "t.test(J.13XN, J.13XP, paired = TRUE)"
   ]
  },
  {
   "cell_type": "markdown",
   "metadata": {},
   "source": [
    "### Shannon"
   ]
  },
  {
   "cell_type": "code",
   "execution_count": 313,
   "metadata": {
    "collapsed": true
   },
   "outputs": [],
   "source": [
    "%%R\n",
    "rich.13CN = estimate_richness(df.13C.N.phyl)\n",
    "\n",
    "rich.13CP = estimate_richness(df.13C.P.phyl)\n",
    "\n",
    "rich.13XN = estimate_richness(df.13X.N.phyl)\n",
    "\n",
    "rich.13XP = estimate_richness(df.13X.P.phyl)"
   ]
  },
  {
   "cell_type": "code",
   "execution_count": 314,
   "metadata": {
    "collapsed": false
   },
   "outputs": [
    {
     "data": {
      "text/plain": [
       "  Land_Management Observed_mean Chao1_mean se.chao1_mean ACE_mean se.ACE_mean\n",
       "1             NTH          8.75     14.375      5.810355 16.84461     1.54455\n",
       "  Shannon_mean Simpson_mean InvSimpson_mean Fisher_mean Month_mean\n",
       "1      1.42606    0.6687666        3.065587    3.115406         NA\n",
       "  Replicate_mean Observed_sd Chao1_sd se.chao1_sd   ACE_sd se.ACE_sd Shannon_sd\n",
       "1             NA    3.774917 11.77126    7.037331 12.97939 0.6062096  0.1134999\n",
       "  Simpson_sd InvSimpson_sd Fisher_sd Month_sd Replicate_sd\n",
       "1 0.04617217     0.4474421   1.19939       NA     1.290994\n"
      ]
     },
     "metadata": {},
     "output_type": "display_data"
    }
   ],
   "source": [
    "%%R\n",
    "rich.13CN$Sample = rownames(rich.13CN)\n",
    "\n",
    "rich.13CN = rich.13CN  %>% separate(Sample, c(\"Month\", \"Land_Management\", \"Replicate\")) \n",
    "\n",
    "rich.13CN %>% group_by(Land_Management) %>% summarise_each(funs(mean, sd)) %>% as.data.frame\n"
   ]
  },
  {
   "cell_type": "code",
   "execution_count": 315,
   "metadata": {
    "collapsed": false
   },
   "outputs": [
    {
     "data": {
      "text/plain": [
       "  Land_Management Observed_mean Chao1_mean se.chao1_mean ACE_mean se.ACE_mean\n",
       "1             PTH        130.25   143.0891      6.932991 142.2834    5.759493\n",
       "  Shannon_mean Simpson_mean InvSimpson_mean Fisher_mean Month_mean\n",
       "1      3.97093    0.9656588          29.776    30.73193         NA\n",
       "  Replicate_mean Observed_sd Chao1_sd se.chao1_sd   ACE_sd se.ACE_sd Shannon_sd\n",
       "1             NA    6.849574 16.37716    5.938201 11.98646 0.2497478   0.103406\n",
       "   Simpson_sd InvSimpson_sd Fisher_sd Month_sd Replicate_sd\n",
       "1 0.006339229      4.754484  3.597961       NA     1.290994\n"
      ]
     },
     "metadata": {},
     "output_type": "display_data"
    }
   ],
   "source": [
    "%%R\n",
    "rich.13CP$Sample = rownames(rich.13CP)\n",
    "\n",
    "rich.13CP = rich.13CP  %>% separate(Sample, c(\"Month\", \"Land_Management\", \"Replicate\")) \n",
    "\n",
    "rich.13CP %>% group_by(Land_Management) %>% summarise_each(funs(mean, sd)) %>% as.data.frame\n"
   ]
  },
  {
   "cell_type": "code",
   "execution_count": 317,
   "metadata": {
    "collapsed": false
   },
   "outputs": [
    {
     "data": {
      "text/plain": [
       "  Land_Management Observed_mean Chao1_mean se.chao1_mean ACE_mean se.ACE_mean\n",
       "1             NTH         61.75      74.75      8.648176 73.04216    4.068777\n",
       "  Shannon_mean Simpson_mean InvSimpson_mean Fisher_mean Month_mean\n",
       "1     3.357489    0.9355295        16.87298    18.97009         NA\n",
       "  Replicate_mean Observed_sd Chao1_sd se.chao1_sd   ACE_sd se.ACE_sd Shannon_sd\n",
       "1             NA    10.99621 14.10969    8.401311 10.09472 0.4971097  0.2484196\n",
       "  Simpson_sd InvSimpson_sd Fisher_sd Month_sd Replicate_sd\n",
       "1 0.01874293      6.320788  2.992769       NA     1.290994\n"
      ]
     },
     "metadata": {},
     "output_type": "display_data"
    }
   ],
   "source": [
    "%%R\n",
    "rich.13XN$Sample = rownames(rich.13XN)\n",
    "\n",
    "rich.13XN = rich.13XN  %>% separate(Sample, c(\"Month\", \"Land_Management\", \"Replicate\")) \n",
    "\n",
    "rich.13XN %>% group_by(Land_Management) %>% summarise_each(funs(mean, sd)) %>% as.data.frame\n"
   ]
  },
  {
   "cell_type": "code",
   "execution_count": 318,
   "metadata": {
    "collapsed": false
   },
   "outputs": [
    {
     "data": {
      "text/plain": [
       "  Land_Management Observed_mean Chao1_mean se.chao1_mean ACE_mean se.ACE_mean\n",
       "1             PTH        323.75   387.5382      18.11292 388.2508    9.179157\n",
       "  Shannon_mean Simpson_mean InvSimpson_mean Fisher_mean Month_mean\n",
       "1     4.722524    0.9765464        43.82602    96.98718         NA\n",
       "  Replicate_mean Observed_sd Chao1_sd se.chao1_sd   ACE_sd se.ACE_sd Shannon_sd\n",
       "1             NA    28.76775 11.33187    6.837812 15.63472 0.4516062  0.1174084\n",
       "   Simpson_sd InvSimpson_sd Fisher_sd Month_sd Replicate_sd\n",
       "1 0.004888301      7.610676  7.677888       NA     1.290994\n"
      ]
     },
     "metadata": {},
     "output_type": "display_data"
    }
   ],
   "source": [
    "%%R\n",
    "rich.13XP$Sample = rownames(rich.13XP)\n",
    "\n",
    "rich.13XP = rich.13XP  %>% separate(Sample, c(\"Month\", \"Land_Management\", \"Replicate\")) \n",
    "\n",
    "rich.13XP %>% group_by(Land_Management) %>% summarise_each(funs(mean, sd)) %>% as.data.frame\n"
   ]
  },
  {
   "cell_type": "code",
   "execution_count": 319,
   "metadata": {
    "collapsed": true
   },
   "outputs": [],
   "source": [
    "%%R\n",
    "rich.13CN.arr = rich.13CN %>% arrange(Replicate)\n",
    "rich.13CP.arr = rich.13CP %>% arrange(Replicate)"
   ]
  },
  {
   "cell_type": "code",
   "execution_count": 320,
   "metadata": {
    "collapsed": false
   },
   "outputs": [
    {
     "data": {
      "text/plain": [
       "\n",
       "\tPaired t-test\n",
       "\n",
       "data:  rich.13CN.arr$Shannon and rich.13CP.arr$Shannon\n",
       "t = -27.406, df = 3, p-value = 0.0001066\n",
       "alternative hypothesis: true difference in means is not equal to 0\n",
       "95 percent confidence interval:\n",
       " -2.840388 -2.249352\n",
       "sample estimates:\n",
       "mean of the differences \n",
       "               -2.54487 \n",
       "\n"
      ]
     },
     "metadata": {},
     "output_type": "display_data"
    }
   ],
   "source": [
    "%%R\n",
    "t.test(rich.13CN.arr$Shannon, rich.13CP.arr$Shannon, paired = TRUE)"
   ]
  },
  {
   "cell_type": "code",
   "execution_count": 321,
   "metadata": {
    "collapsed": true
   },
   "outputs": [],
   "source": [
    "%%R\n",
    "rich.13XN.arr = rich.13XN %>% arrange(Replicate)\n",
    "rich.13XP.arr = rich.13XP %>% arrange(Replicate)"
   ]
  },
  {
   "cell_type": "code",
   "execution_count": 322,
   "metadata": {
    "collapsed": false
   },
   "outputs": [
    {
     "data": {
      "text/plain": [
       "\n",
       "\tPaired t-test\n",
       "\n",
       "data:  rich.13XN.arr$Shannon and rich.13XP.arr$Shannon\n",
       "t = -10.23, df = 3, p-value = 0.001991\n",
       "alternative hypothesis: true difference in means is not equal to 0\n",
       "95 percent confidence interval:\n",
       " -1.7896840 -0.9403859\n",
       "sample estimates:\n",
       "mean of the differences \n",
       "              -1.365035 \n",
       "\n"
      ]
     },
     "metadata": {},
     "output_type": "display_data"
    }
   ],
   "source": [
    "%%R\n",
    "t.test(rich.13XN.arr$Shannon, rich.13XP.arr$Shannon, paired = TRUE)"
   ]
  }
 ],
 "metadata": {
  "kernelspec": {
   "display_name": "Python 2",
   "language": "python",
   "name": "python2"
  },
  "language_info": {
   "codemirror_mode": {
    "name": "ipython",
    "version": 2
   },
   "file_extension": ".py",
   "mimetype": "text/x-python",
   "name": "python",
   "nbconvert_exporter": "python",
   "pygments_lexer": "ipython2",
   "version": "2.7.11"
  }
 },
 "nbformat": 4,
 "nbformat_minor": 0
}
