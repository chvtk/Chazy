{
 "cells": [
  {
   "cell_type": "code",
   "execution_count": 2,
   "metadata": {
    "collapsed": false
   },
   "outputs": [],
   "source": [
    "# Imports a parser from cogent\n",
    "from cogent.parse.fasta import MinimalFastaParser as parse"
   ]
  },
  {
   "cell_type": "code",
   "execution_count": 3,
   "metadata": {
    "collapsed": false
   },
   "outputs": [],
   "source": [
    "# applies for the whole segment\n",
    "nprocs = 10"
   ]
  },
  {
   "cell_type": "code",
   "execution_count": 1,
   "metadata": {
    "collapsed": true
   },
   "outputs": [],
   "source": [
    "! cat data/finalQC.fasta data/finalQC_pool2.fasta Pool2_rerun/data/finalQC_pool2_rerun.fasta data/finalQC_pool3.fasta data/finalQC_pool4_515806_SIP.fasta > data/finalQC_515_806_total.fasta"
   ]
  },
  {
   "cell_type": "code",
   "execution_count": null,
   "metadata": {
    "collapsed": false
   },
   "outputs": [
    {
     "name": "stdout",
     "output_type": "stream",
     "text": [
      ">12C.NTH.D3.R4.Frac19_0\r\n",
      "TACGTAGGGGACGAGCGTTGTCCGGATTCATTGGGCGTAAAGCGCGCGTAGGCGGCTCGGAAAGTCGGTCGTGAAATGCCGGGGCTCAACCCCGGGACTGCGTCCGATACTTCCGGGCTGGAGGTAGGTAGGGGAGATCGGAATTCCTGGTGTAGCGGTGAAATGCGCAGATATCAGGAGGAACACCGGTGGCGAAGGCGGGTCTCTGGGCCGATACTGACGCTGAGGAGCGAAAGCGTGGGGAGCGAACAGG\r\n",
      ">12C.PTH.D1.R4.Frac11_3287776\r\n",
      "TACGTAGGGGACGAGCGTTGTCCGGATTCATTGGGCGTAAAGCGCGCGTAGGCGGCTCGGAAAGTCGGTCGTGAAATGCCGGGGCTCAACCCCGGGACTGCGTCCGATACTTCCGGGCTGGAGGTAGGTAGGGGAGATCGGAATTCCTGGTGTAGCGGTGAAATGCGCAGATATCAGGAGGAACACCGGTGGCGAAGGCGGGTCTCTGGGCCGATACTGACGCTGAGGAGCGAAAGCGTGGGGAGCGAACAGG\r\n",
      ">12C.PTH.D1.R4.Frac23_1\r\n",
      "TACGGAGGGGGCTAGCGTTGTTCGGAATTACTGGGCGTAAAGCGCACGTAGGCGGCTTTGTAAGTTAGAGGTGAAAGCCCAGGGCTCAACCCTGGAATTGCCTTTAAGACTGCATCGCTTGAACATCGGAGAGGTAAGTGGAATTCCGAGTGTAGAGGTGAAATTCGTAGATATTCGGAAGAACACCAGTGGCGAAGGCGACTTACTGGACGATTGTTGACGCTGAGGTGCGAAAGCGTGGGGAGCAAACAGG\r\n",
      ">12C.NTH.D3.R4.Frac28_2106\r\n",
      "TACGGAGGGGGCTAGCGTTGTTCGGAATTACTGGGCGTAAAGCGCACGTAGGCGGCTTTGTAAGTTAGAGGTGAAAGCCCAGGGCTCAACCCTGGAATTGCCTTTAAGACTGCATCGCTTGAACATCGGAGAGGTAAGTGGAATTCCGAGTGTAGAGGTGAAATTCGTAGATATTCGGAAGAACACCAGTGGCGAAGGCGACTTACTGGACGATTGTTGACGCTGAGGTGCGAAAGCGTGGGGAGCAAACAGG\r\n",
      ">12C.NTH.D3.R4.Frac22_2974\r\n",
      "TACGGAGGGGGCTAGCGTTGTTCGGAATTACTGGGCGTAAAGCGCACGTAGGCGGCTTTGTAAGTTAGAGGTGAAAGCCCAGGGCTCAACCCTGGAATTGCCTTTAAGACTGCATCGCTTGAACATCGGAGAGGTAAGTGGAATTCCGAGTGTAGAGGTGAAATTCGTAGATATTCGGAAGAACACCAGTGGCGAAGGCGACTTACTGGACGATTGTTGACGCTGAGGTGCGAAAGCGTGGGGAGCAAACAGG\r\n"
     ]
    }
   ],
   "source": [
    "# Checking out data file.\n",
    "# This file was created using the QC_basic notebook.\n",
    "!head data/finalQC_515_806_total.fasta"
   ]
  },
  {
   "cell_type": "code",
   "execution_count": null,
   "metadata": {
    "collapsed": false
   },
   "outputs": [],
   "source": [
    "%%bash\n",
    "# Running the seq separation on mothur instead\n",
    "\n",
    "mothur \"#unique.seqs(fasta=data/finalQC_515_806_total.fasta)\" > /dev/null"
   ]
  },
  {
   "cell_type": "code",
   "execution_count": null,
   "metadata": {
    "collapsed": false
   },
   "outputs": [],
   "source": [
    "# Making a dictionary of the names files, splitting it into the first (ID) and second (commas list of all seqs in it)\n",
    "# Then it counts their lengths and saves it in the dictionary\n",
    "\n",
    "counts = {}\n",
    "\n",
    "with open(\"data/finalQC_515_806_total.names\") as f:\n",
    "    for line in f:\n",
    "        seedID, seqIDs = line.split(\"\\t\")\n",
    "        count = len(seqIDs.split(\",\"))\n",
    "        counts[seedID] = count        "
   ]
  },
  {
   "cell_type": "code",
   "execution_count": null,
   "metadata": {
    "collapsed": false
   },
   "outputs": [],
   "source": [
    "# Adds the counts from this dictionary to our finalQC.unique file so it looks like a usearch file with \"size=XXX\"\n",
    "\n",
    "with open(\"data/finalQC_515_806_total.unique.usearch_names.fasta\", \"w\") as f:\n",
    "    for n, s in parse(open(\"data/finalQC_515_806_total.unique.fasta\")):\n",
    "        f.write(\">%s;size=%s;\\n%s\\n\"%(n,counts[n],s))  "
   ]
  },
  {
   "cell_type": "code",
   "execution_count": 1,
   "metadata": {
    "collapsed": false
   },
   "outputs": [
    {
     "name": "stdout",
     "output_type": "stream",
     "text": [
      ">12C.NTH.D3.R4.Frac19_0;size=2;\r\n",
      "TACGTAGGGGACGAGCGTTGTCCGGATTCATTGGGCGTAAAGCGCGCGTAGGCGGCTCGGAAAGTCGGTCGTGAAATGCCGGGGCTCAACCCCGGGACTGCGTCCGATACTTCCGGGCTGGAGGTAGGTAGGGGAGATCGGAATTCCTGGTGTAGCGGTGAAATGCGCAGATATCAGGAGGAACACCGGTGGCGAAGGCGGGTCTCTGGGCCGATACTGACGCTGAGGAGCGAAAGCGTGGGGAGCGAACAGG\r\n",
      ">12C.PTH.D1.R4.Frac23_1;size=3606;\r\n",
      "TACGGAGGGGGCTAGCGTTGTTCGGAATTACTGGGCGTAAAGCGCACGTAGGCGGCTTTGTAAGTTAGAGGTGAAAGCCCAGGGCTCAACCCTGGAATTGCCTTTAAGACTGCATCGCTTGAACATCGGAGAGGTAAGTGGAATTCCGAGTGTAGAGGTGAAATTCGTAGATATTCGGAAGAACACCAGTGGCGAAGGCGACTTACTGGACGATTGTTGACGCTGAGGTGCGAAAGCGTGGGGAGCAAACAGG\r\n",
      ">12C.PTH.D1.R4.Frac21_2;size=1;\r\n",
      "TACAGAGGGGGCAAGCGTTGTTCGGAATTACTGGGCGTAAAGGGCGCGTAGGCGGCCTCCTAAGTCGGACGTGAAATCCCCGAGCTCAACTCGGGAACTGCGTCCGATACTGGTTGGCTTGAATCCGGGAGAGGGATGCGGAATTCCAGGTGTAGCGGTGAAATGCGTAGATATCTGGAGGAACACCGGTGGCGAAGGCGGCATCCTGGACCGGTATTGACGCTGAGGCGCGAAAGCCAGGGGAGCAAACGGG\r\n",
      ">13C.NTH.D14.R4.Frac9_3;size=12;\r\n",
      "TACGTAGGAGGCAAGCGTTGTCCGGATTTATTGGGCGTAAAGCGCACGCAGGCGGTCGTATCAGTCCAGGGTGACAGTTTCCGGCTTAACCGGAAAAGGACTCTGGAGACGGCACGACTTGAGGGCTTCAGAGGGATGTGGAATTCCAGGTGGAGTGGTGAAATGCGTAGAGATCTGGAAGAACACCAAAGGCGAAGGCAACATCCTGGGGAGTCACTGACGCTCGGGTGCGAAAGCTAGGGGAGCGAACGGG\r\n",
      ">13X.NTH.D3.R4.Frac11_4;size=11;\r\n",
      "TACGTAGGCACCAAGCGTTGTCCGGATTTATTGGGCGTAAAGAGCTTGTAGGCGGTTCGGTTAGTCGGGTGTGAAACCTCTGGGCTCAACTCAGAGACGCCACCCGATACTGCTGTGACTAGAGTGCGGTAGGGGAGCGGGGAATTCCTGGTGTAGCGGTGAAATGCGCAGATATCAGGAGGAACACCAGTGGCGAAGGCGCCGCTCTGGGCCGTAACTGACGCTGAGAAGCGAAAGCGTGGGGAGCAAACAGG\r\n"
     ]
    }
   ],
   "source": [
    "!head data/finalQC_515_806_total.unique.usearch_names.fasta"
   ]
  },
  {
   "cell_type": "code",
   "execution_count": 2,
   "metadata": {
    "collapsed": false
   },
   "outputs": [
    {
     "name": "stdout",
     "output_type": "stream",
     "text": [
      "5.6G\tdata/finalQC_515_806_total.fasta\r\n"
     ]
    }
   ],
   "source": [
    "# Chuck looking to see how many Gb this file is.\n",
    "!du -h data/finalQC_515_806_total.fasta"
   ]
  },
  {
   "cell_type": "code",
   "execution_count": null,
   "metadata": {
    "collapsed": false
   },
   "outputs": [],
   "source": [
    "# Sequences are sorted by size\n",
    "# Here the size of clusters - we are excluding the singletons here\n",
    "# You would change minsize to 1 if you wanted to include singletons\n",
    "# Or, you know, just not do this step.\n",
    "# But you should just get rid of them.\n",
    "!usearch -sortbysize data/finalQC_515_806_total.unique.usearch_names.fasta -output data/finalQC_515_806_total.unique_sorted.fasta -minsize 2"
   ]
  },
  {
   "cell_type": "code",
   "execution_count": 3,
   "metadata": {
    "collapsed": false
   },
   "outputs": [
    {
     "name": "stdout",
     "output_type": "stream",
     "text": [
      ">13C.NTH.D14.R4.Frac25_41;size=448651;\r\n",
      "TACGTAGGGCGCAAGCGTTATCCGGAATTATTGGGCGTAAAGAGCTCGTAGGCGGTTTGTCGCGTCTGCCGTGAAAGTCC\r\n",
      "GGGGCTCAACTCCGGATCTGCGGTGGGTACGGGCAGACTAGAGTGATGTAGGGGAGACTGGAATTCCTGGTGTAGCGGTG\r\n",
      "AAATGCGCAGATATCAGGAGGAACACCGATGGCGAAGGCAGGTCTCTGGGCATTAACTGACGCTGAGGAGCGAAAGCATG\r\n",
      "GGGAGCGAACAGG\r\n",
      ">13X.NTH.D3.R4.Frac9_13;size=130318;\r\n",
      "TACAGAGGGTGCAAGCGTTAATCGGAATTACTGGGCGTAAAGCGCGCGTAGGTGGTTTGTTAAGTTGGATGTGAAAGCCC\r\n",
      "CGGGCTCAACCTGGGAACTGCATTCAAAACTGACAAGCTAGAGTATGGTAGAGGGTGGTGGAATTTCCTGTGTAGCGGTG\r\n",
      "AAATGCGTAGATATAGGAAGGAACACCAGTGGCGAAGGCGACCACCTGGACTGATACTGACACTGAGGTGCGAAAGCGTG\r\n",
      "GGGAGCAAACAGG\r\n"
     ]
    }
   ],
   "source": [
    "# Checking data\n",
    "# You can see here, the first two sequences we saw above are now gone.\n",
    "!head data/finalQC_515_806_total.unique_sorted.fasta"
   ]
  },
  {
   "cell_type": "code",
   "execution_count": null,
   "metadata": {
    "collapsed": false
   },
   "outputs": [],
   "source": [
    "# This is the clustering command.\n",
    "# Default is 97% minimum ID.\n",
    "# Not recommended to use more than 97%.\n",
    "# Creates the centroids, or \"seeds\"\n",
    "# Then you can take them out\n",
    "!usearch -cluster_otus data/finalQC_515_806_total.unique_sorted.fasta -otus data/otus.fasta"
   ]
  },
  {
   "cell_type": "code",
   "execution_count": null,
   "metadata": {
    "collapsed": false
   },
   "outputs": [],
   "source": [
    "# Making another file\n",
    "# Figure this out (what is this?)\n",
    "# This is a script (fasta_number.py) that replaces fasta names with XXX1, XXX2, etc.\n",
    "# In our case, it is replacing the names with OTU.1, OTU.2, etc., and outputs it into a file called otusn.fasta\n",
    "!/opt/bioinfo/edgar_python_scripts/fasta_number.py data/otus.fasta OTU. > data/otusn.fasta"
   ]
  },
  {
   "cell_type": "code",
   "execution_count": 4,
   "metadata": {
    "collapsed": false
   },
   "outputs": [
    {
     "name": "stdout",
     "output_type": "stream",
     "text": [
      ">OTU.1\r\n",
      "TACGTAGGGCGCAAGCGTTATCCGGAATTATTGGGCGTAAAGAGCTCGTAGGCGGTTTGTCGCGTCTGCCGTGAAAGTCC\r\n",
      "GGGGCTCAACTCCGGATCTGCGGTGGGTACGGGCAGACTAGAGTGATGTAGGGGAGACTGGAATTCCTGGTGTAGCGGTG\r\n",
      "AAATGCGCAGATATCAGGAGGAACACCGATGGCGAAGGCAGGTCTCTGGGCATTAACTGACGCTGAGGAGCGAAAGCATG\r\n",
      "GGGAGCGAACAGG\r\n",
      ">OTU.2\r\n",
      "TACAGAGGGTGCAAGCGTTAATCGGAATTACTGGGCGTAAAGCgcgcgTAGGTGGTTTGTTAAGTTGGATGTGAAAGCCC\r\n",
      "CGGGCTCAACCTGGGAACTGCATTCAAAACTGACAAGCTAGAGTATGGTAGAGGGTGGTGGAATTTCCTGTGTAGCGGTG\r\n",
      "AAATGCGTAGATATAGGAAGGAACACCAGTGGCGAAGGCGACCACCTGGACTGATACTGACACTGAGGTGCGAAAGCGTG\r\n",
      "GGGAGCAAACAGG\r\n"
     ]
    }
   ],
   "source": [
    "!head data/otusn.fasta"
   ]
  },
  {
   "cell_type": "markdown",
   "metadata": {},
   "source": [
    "### Removing Chloroplast, Eukaryal, and Archaeal sequences"
   ]
  },
  {
   "cell_type": "code",
   "execution_count": null,
   "metadata": {
    "collapsed": false
   },
   "outputs": [],
   "source": [
    "# You do need to assign taxonomy in order to pull out the Euks., etc.\n",
    "# I could cp these files from the server to wherever I need them.\n",
    "# Input is your fasta file\n",
    "# Output is a fasta with taxonomy assinged (still working with unique seqs)\n",
    "# This didn't work first, because Chuck had to delete a \"jobs\" folder in the tmp directory.\n",
    "\n",
    "!parallel_assign_taxonomy_uclust.py \\\n",
    "-r /home/chantal/RNASIP/data/databases/Silva_111_post/no_ambiguous_bases_files/97_Silva_111_rep_set_no_ambig.fasta \\\n",
    "-t /home/chantal/RNASIP/data/databases/Silva_111_post/taxonomy/Silva_111_taxa_map_full.txt \\\n",
    "-O 10 \\\n",
    "-i data/otusn.fasta \\\n",
    "-o data/otusn_tax"
   ]
  },
  {
   "cell_type": "code",
   "execution_count": null,
   "metadata": {
    "collapsed": false
   },
   "outputs": [],
   "source": [
    "# This makes a file of what we want to remove\n",
    "# Could change this to pull out different groups.\n",
    "# These primers actually had good Archaeal targets - so, it would be okay to include them.\n",
    "!egrep \"Chloroplast|Eukaryota|Archaea|mitochondria\" \\\n",
    "data/otusn_tax/otusn_tax_assignments.txt \\\n",
    "| awk '{print $1}' > data/to_remove_tax.accnos"
   ]
  },
  {
   "cell_type": "code",
   "execution_count": 5,
   "metadata": {
    "collapsed": false
   },
   "outputs": [
    {
     "name": "stdout",
     "output_type": "stream",
     "text": [
      "221 data/to_remove_tax.accnos\r\n"
     ]
    }
   ],
   "source": [
    "# wc is number of lines of the taxa that will be removed\n",
    "!wc -l data/to_remove_tax.accnos"
   ]
  },
  {
   "cell_type": "code",
   "execution_count": 6,
   "metadata": {
    "collapsed": false
   },
   "outputs": [
    {
     "name": "stdout",
     "output_type": "stream",
     "text": [
      "OTU.1144\r\n",
      "OTU.1622\r\n",
      "OTU.232\r\n",
      "OTU.1189\r\n",
      "OTU.1335\r\n",
      "OTU.56\r\n",
      "OTU.139\r\n",
      "OTU.666\r\n",
      "OTU.1071\r\n",
      "OTU.61\r\n"
     ]
    }
   ],
   "source": [
    "# Looking at what you're removing\n",
    "!head data/to_remove_tax.accnos"
   ]
  },
  {
   "cell_type": "code",
   "execution_count": null,
   "metadata": {
    "collapsed": false
   },
   "outputs": [],
   "source": [
    "%%bash\n",
    "# Remove.seqs command will actually remove these taxa\n",
    "mothur \"#remove.seqs(fasta=data/otusn.fasta, \\\n",
    "accnos=data/to_remove_tax.accnos)\" #> /dev/null"
   ]
  },
  {
   "cell_type": "markdown",
   "metadata": {},
   "source": [
    "### Mapping Reads"
   ]
  },
  {
   "cell_type": "code",
   "execution_count": null,
   "metadata": {
    "collapsed": false
   },
   "outputs": [],
   "source": [
    "# Pulling out the sample identifier.\n",
    "# It is adding a portion to the finalQC file that has the barcode label.\n",
    "# Then we can use this later\n",
    "# Now we will see how these reads map to the defined centroids (after removing EuK, etc.)\n",
    "# Basically, we cut, cut, refined our fasta to make our OTU centroids.\n",
    "# THEN, we went back to our original QC'd total fasta file and will throw it all against these nicely defined seeds.\n",
    "# Anything that doesn't match, we won't keep.\n",
    "!awk -F\"_\" \\\n",
    "'BEGIN{OFS=\";\"}{ if ( substr($1,0,1) == \">\"){ print $0,\"barcodelabel=\",$1 } else { print $0 } }' \\\n",
    "data/finalQC_515_806_total.fasta | \\\n",
    "sed 's/;>//' > data/finalQC_usearchfmt.fasta"
   ]
  },
  {
   "cell_type": "code",
   "execution_count": 7,
   "metadata": {
    "collapsed": false
   },
   "outputs": [
    {
     "name": "stdout",
     "output_type": "stream",
     "text": [
      ">12C.NTH.D3.R4.Frac19_0;barcodelabel=12C.NTH.D3.R4.Frac19\r\n",
      "TACGTAGGGGACGAGCGTTGTCCGGATTCATTGGGCGTAAAGCGCGCGTAGGCGGCTCGGAAAGTCGGTCGTGAAATGCCGGGGCTCAACCCCGGGACTGCGTCCGATACTTCCGGGCTGGAGGTAGGTAGGGGAGATCGGAATTCCTGGTGTAGCGGTGAAATGCGCAGATATCAGGAGGAACACCGGTGGCGAAGGCGGGTCTCTGGGCCGATACTGACGCTGAGGAGCGAAAGCGTGGGGAGCGAACAGG\r\n",
      ">12C.PTH.D1.R4.Frac11_3287776;barcodelabel=12C.PTH.D1.R4.Frac11\r\n",
      "TACGTAGGGGACGAGCGTTGTCCGGATTCATTGGGCGTAAAGCGCGCGTAGGCGGCTCGGAAAGTCGGTCGTGAAATGCCGGGGCTCAACCCCGGGACTGCGTCCGATACTTCCGGGCTGGAGGTAGGTAGGGGAGATCGGAATTCCTGGTGTAGCGGTGAAATGCGCAGATATCAGGAGGAACACCGGTGGCGAAGGCGGGTCTCTGGGCCGATACTGACGCTGAGGAGCGAAAGCGTGGGGAGCGAACAGG\r\n",
      ">12C.PTH.D1.R4.Frac23_1;barcodelabel=12C.PTH.D1.R4.Frac23\r\n",
      "TACGGAGGGGGCTAGCGTTGTTCGGAATTACTGGGCGTAAAGCGCACGTAGGCGGCTTTGTAAGTTAGAGGTGAAAGCCCAGGGCTCAACCCTGGAATTGCCTTTAAGACTGCATCGCTTGAACATCGGAGAGGTAAGTGGAATTCCGAGTGTAGAGGTGAAATTCGTAGATATTCGGAAGAACACCAGTGGCGAAGGCGACTTACTGGACGATTGTTGACGCTGAGGTGCGAAAGCGTGGGGAGCAAACAGG\r\n",
      ">12C.NTH.D3.R4.Frac28_2106;barcodelabel=12C.NTH.D3.R4.Frac28\r\n",
      "TACGGAGGGGGCTAGCGTTGTTCGGAATTACTGGGCGTAAAGCGCACGTAGGCGGCTTTGTAAGTTAGAGGTGAAAGCCCAGGGCTCAACCCTGGAATTGCCTTTAAGACTGCATCGCTTGAACATCGGAGAGGTAAGTGGAATTCCGAGTGTAGAGGTGAAATTCGTAGATATTCGGAAGAACACCAGTGGCGAAGGCGACTTACTGGACGATTGTTGACGCTGAGGTGCGAAAGCGTGGGGAGCAAACAGG\r\n",
      ">12C.NTH.D3.R4.Frac22_2974;barcodelabel=12C.NTH.D3.R4.Frac22\r\n",
      "TACGGAGGGGGCTAGCGTTGTTCGGAATTACTGGGCGTAAAGCGCACGTAGGCGGCTTTGTAAGTTAGAGGTGAAAGCCCAGGGCTCAACCCTGGAATTGCCTTTAAGACTGCATCGCTTGAACATCGGAGAGGTAAGTGGAATTCCGAGTGTAGAGGTGAAATTCGTAGATATTCGGAAGAACACCAGTGGCGAAGGCGACTTACTGGACGATTGTTGACGCTGAGGTGCGAAAGCGTGGGGAGCAAACAGG\r\n"
     ]
    }
   ],
   "source": [
    "!head data/finalQC_usearchfmt.fasta"
   ]
  },
  {
   "cell_type": "code",
   "execution_count": null,
   "metadata": {
    "collapsed": false
   },
   "outputs": [],
   "source": [
    "! pyfasta split -n 9 data/finalQC_usearchfmt.fasta"
   ]
  },
  {
   "cell_type": "code",
   "execution_count": 10,
   "metadata": {
    "collapsed": false
   },
   "outputs": [],
   "source": [
    "import os\n",
    "import re\n",
    "import glob\n",
    "import sys\n",
    "import pandas as pd\n",
    "from qiime.assign_taxonomy import UclustConsensusTaxonAssigner\n",
    "from IPython.display import Image\n",
    "from cogent.app.usearch import clusters_from_blast_uc_file\n",
    "from cogent.parse.fasta import MinimalFastaParser as parse"
   ]
  },
  {
   "cell_type": "code",
   "execution_count": 11,
   "metadata": {
    "collapsed": false
   },
   "outputs": [
    {
     "data": {
      "text/plain": [
       "['data/finalQC_usearchfmt.6.fasta',\n",
       " 'data/finalQC_usearchfmt.0.fasta',\n",
       " 'data/finalQC_usearchfmt.4.fasta',\n",
       " 'data/finalQC_usearchfmt.3.fasta',\n",
       " 'data/finalQC_usearchfmt.7.fasta',\n",
       " 'data/finalQC_usearchfmt.5.fasta',\n",
       " 'data/finalQC_usearchfmt.1.fasta',\n",
       " 'data/finalQC_usearchfmt.2.fasta',\n",
       " 'data/finalQC_usearchfmt.8.fasta']"
      ]
     },
     "execution_count": 11,
     "metadata": {},
     "output_type": "execute_result"
    }
   ],
   "source": [
    "g = os.path.join('data/finalQC_usearchfmt.*.fasta')\n",
    "fileList = glob.glob(g)\n",
    "fileList "
   ]
  },
  {
   "cell_type": "code",
   "execution_count": 12,
   "metadata": {
    "collapsed": false,
    "scrolled": true
   },
   "outputs": [
    {
     "name": "stdout",
     "output_type": "stream",
     "text": [
      "6\n",
      "0\n",
      "4\n",
      "3\n",
      "7\n",
      "5\n",
      "1\n",
      "2\n",
      "8\n"
     ]
    }
   ],
   "source": [
    "# running usearch on each split file\n",
    "for f in fileList:\n",
    "    ff,_ = os.path.splitext(f)\n",
    "    _,i = os.path.splitext(ff)\n",
    "    print i.lstrip('.')"
   ]
  },
  {
   "cell_type": "code",
   "execution_count": null,
   "metadata": {
    "collapsed": false
   },
   "outputs": [],
   "source": [
    "# running usearch on each split file\n",
    "for f in fileList:\n",
    "    sys.stderr.write('Processing {}\\n'.format(f))\n",
    "    \n",
    "    ff,_ = os.path.splitext(f)\n",
    "    _,i = os.path.splitext(ff)\n",
    "    uc = 'readmap{}.uc'.format(i.lstrip('.')) \n",
    "    \n",
    "    ! usearch \\\n",
    "        -usearch_global $f -db data/otusn.fasta -strand plus -id 0.97 -uc $uc -threads $nprocs"
   ]
  },
  {
   "cell_type": "code",
   "execution_count": null,
   "metadata": {
    "collapsed": false
   },
   "outputs": [],
   "source": [
    "! cat readmap[0-9].uc > data/readmap_515SIP_total.uc"
   ]
  },
  {
   "cell_type": "code",
   "execution_count": null,
   "metadata": {
    "collapsed": false
   },
   "outputs": [],
   "source": [
    "# Makes an OTU table\n",
    "# It will tell me the OTU ID, and then for all the samples, which OTUs it has sequences from.\n",
    "!python /opt/bioinfo/edgar_python_scripts/uc2otutab.py data/readmap_515SIP_total.uc > data/otu_table.txt"
   ]
  },
  {
   "cell_type": "code",
   "execution_count": null,
   "metadata": {
    "collapsed": false
   },
   "outputs": [],
   "source": [
    "# Issues with biom table formatting\n",
    "!if [ -f data/otu_table.biom ]; then rm data/otu_table.biom; fi #This is to mitigate a biom bug\n",
    "!biom convert -i data/otu_table.txt -o data/otu_table.biom --table-type \"otu table\""
   ]
  },
  {
   "cell_type": "code",
   "execution_count": null,
   "metadata": {
    "collapsed": false
   },
   "outputs": [],
   "source": [
    "# Issues with biom table formatting\n",
    "!if [ -f data/otu_table_summary.txt ]; then rm data/otu_table_summary.txt; fi #This is to mitigate a biom bug\n",
    "!biom summarize-table -i data/otu_table.biom -o data/otu_table_summary.txt"
   ]
  },
  {
   "cell_type": "code",
   "execution_count": 32,
   "metadata": {
    "collapsed": false
   },
   "outputs": [
    {
     "name": "stdout",
     "output_type": "stream",
     "text": [
      "Num samples: 637\r\n",
      "Num observations: 19314\r\n",
      "Total count: 13320434\r\n",
      "Table density (fraction of non-zero values): 0.120\r\n",
      "Table md5 (unzipped): 8713d871e93380d0bc6ffa854c752331\r\n",
      "\r\n",
      "Counts/sample summary:\r\n",
      " Min: 28.0\r\n",
      " Max: 84723.0\r\n",
      " Median: 21739.000\r\n",
      " Mean: 20911.199\r\n",
      " Std. dev.: 15207.003\r\n",
      " Sample Metadata Categories: None provided\r\n",
      " Observation Metadata Categories: None provided\r\n",
      "\r\n",
      "Counts/sample detail:\r\n",
      " 12C.NTH.D3.R4.Frac9: 28.0\r\n",
      " 12C.PTH.D3.R4.H2O: 74.0\r\n",
      " 13C.PTH.D3.R4.H2O: 152.0\r\n",
      " 13X.PTH.D14.R4.H2O: 244.0\r\n",
      " 13C.PTH.D30.R4.H2O: 328.0\r\n",
      " 13X.PTH.D1.R4.H2O: 560.0\r\n",
      " 13X.NTH.D14.R4.H2O: 634.0\r\n",
      " 13X.NTH.D7.R4.H2O: 772.0\r\n",
      " 12C.NTH.D4.R4.H2O: 977.0\r\n",
      " 12C.NTH.D7.R4.Frac23: 1392.0\r\n",
      " 13X.PTH.D14.R4.Frac23: 1437.0\r\n",
      " 13X.PTH.D1.R4.Frac22: 1527.0\r\n",
      " 13C.PTH.D3.R4.Frac14: 1535.0\r\n",
      " 13X.NTH.D7.R4.Frac23: 1537.0\r\n",
      " 12C.NTH.D7.R4.Frac15: 1549.0\r\n",
      " 13X.NTH.D14.R4.Frac24: 1572.0\r\n",
      " 13C.PTH.D30.R4.Frac23: 1602.0\r\n",
      " 13C.PTH.D3.R4.Frac20: 1641.0\r\n",
      " 12C.PTH.D7.R4.H2O: 1658.0\r\n",
      " 13C.PTH.D3.R4.Frac6: 1675.0\r\n",
      " 12C.PTH.D3.R4.Frac23: 1692.0\r\n",
      " 13C.PTH.D3.R4.Frac22: 1771.0\r\n",
      " 13X.PTH.D1.R4.Frac24: 1835.0\r\n",
      " 13C.PTH.D30.R4.Frac15: 1951.0\r\n",
      " 13C.PTH.D3.R4.Frac16: 2002.0\r\n",
      " 12C.PTH.D3.R4.Frac22: 2006.0\r\n",
      " 13C.PTH.D30.R4.Frac27: 2017.0\r\n",
      " 13C.PTH.D3.R4.Frac12: 2105.0\r\n",
      " 13X.NTH.D7.R4.Frac15: 2115.0\r\n",
      " 13X.PTH.D14.R4.Frac21: 2124.0\r\n",
      " 12C.NTH.D7.R4.Frac7: 2139.0\r\n",
      " 13X.PTH.D14.R4.Frac25: 2155.0\r\n",
      " 13X.PTH.D14.R4.Frac22: 2176.0\r\n",
      " 13C.PTH.D30.R4.Frac19: 2193.0\r\n",
      " 13X.PTH.D1.R4.Frac14: 2194.0\r\n",
      " 13X.PTH.D14.R4.Frac15: 2228.0\r\n",
      " 13X.PTH.D14.R4.Frac7: 2230.0\r\n",
      " 12C.PTH.D30.R4.H2O: 2231.0\r\n",
      " 13X.NTH.D14.R4.Frac13: 2250.0\r\n",
      " 13X.PTH.D1.R4.Frac28: 2250.0\r\n",
      " 12C.NTH.D7.R4.Frac12: 2271.0\r\n",
      " 13X.NTH.D3.R4.H2O: 2305.0\r\n",
      " 13C.PTH.D3.R4.Frac18: 2313.0\r\n",
      " 13X.PTH.D1.R4.Frac6: 2313.0\r\n",
      " 13X.PTH.D1.R4.Frac21: 2314.0\r\n",
      " 13C.PTH.D3.R4.Frac28: 2335.0\r\n",
      " 13C.PTH.D3.R4.Frac13: 2338.0\r\n",
      " 13C.PTH.D3.R4.Frac10: 2341.0\r\n",
      " 13C.PTH.D3.R4.Frac24: 2356.0\r\n",
      " 13X.NTH.D7.R4.Frac7: 2373.0\r\n",
      " 12C.PTH.D3.R4.Frac25: 2407.0\r\n",
      " 13X.NTH.D14.R4.Frac5: 2418.0\r\n",
      " 13X.PTH.D14.R4.Frac27: 2442.0\r\n",
      " 13C.PTH.D30.R4.Frac7: 2461.0\r\n",
      " 13C.NTH.D30.R4.H20: 2478.0\r\n",
      " 13X.PTH.D1.R4.Frac20: 2501.0\r\n",
      " 13X.NTH.D7.R4.Frac20: 2506.0\r\n",
      " 13X.NTH.D14.R4.Frac19: 2511.0\r\n",
      " 13X.NTH.D14.R4.Frac11: 2557.0\r\n",
      " 13C.PTH.D3.R4.Frac21: 2559.0\r\n",
      " 13C.PTH.D3.R4.Frac8: 2566.0\r\n",
      " 12C.NTH.D30.R4.Frac14: 2575.0\r\n",
      " 12C.NTH.D7.R4.Frac21: 2584.0\r\n",
      " 12C.NTH.D7.R4.Frac16: 2584.0\r\n",
      " 13C.PTH.D3.R4.Frac5: 2602.0\r\n",
      " 13X.PTH.D14.R4.Frac13: 2636.0\r\n",
      " 13X.PTH.D1.R4.Frac26: 2642.0\r\n",
      " 13C.PTH.D30.R4.Frac16: 2697.0\r\n",
      " 13X.PTH.D1.R4.Frac12: 2700.0\r\n",
      " 13C.PTH.D30.R4.Frac21: 2722.0\r\n",
      " 13X.PTH.D14.R4.Frac11: 2730.0\r\n",
      " 12C.NTH.D7.R4.Frac24: 2744.0\r\n",
      " 12C.NTH.D7.R4.Frac20: 2762.0\r\n",
      " 13X.NTH.D1.R4.H2O: 2804.0\r\n",
      " 12C.NTH.D14.R4.H2O: 2823.0\r\n",
      " 13X.NTH.D14.R4.Frac22: 2835.0\r\n",
      " 13C.PTH.D3.R4.Frac19: 2859.0\r\n",
      " 13X.NTH.D14.R4.Frac21: 2873.0\r\n",
      " 13X.NTH.D14.R4.Frac7: 2877.0\r\n",
      " 13C.PTH.D3.R4.Frac26: 2877.0\r\n",
      " 13X.NTH.D7.R4.Frac21: 2877.0\r\n",
      " 13X.PTH.D1.R4.Frac8: 2899.0\r\n",
      " 13X.PTH.D14.R4.Frac9: 2941.0\r\n",
      " 12C.PTH.D3.R4.Frac27: 2950.0\r\n",
      " 13X.PTH.D14.R4.Frac14: 2952.0\r\n",
      " 13X.NTH.D14.R4.Frac12: 2969.0\r\n",
      " 13X.PTH.D14.R4.Frac6: 2989.0\r\n",
      " 13X.PTH.D14.R4.Frac17: 2992.0\r\n",
      " 13C.PTH.D30.R4.Frac12: 3009.0\r\n",
      " 13X.PTH.D7.R4.H2O: 3075.0\r\n",
      " 12C.PTH.D14.R4.H2O: 3102.0\r\n",
      " 13X.PTH.D1.R4.Frac10: 3122.0\r\n",
      " 13X.NTH.D14.R4.Frac20: 3171.0\r\n",
      " 13X.NTH.D7.R4.Frac24: 3197.0\r\n",
      " 13X.PTH.D14.R4.Frac19: 3217.0\r\n",
      " 13X.NTH.D14.R4.Frac17: 3238.0\r\n",
      " 13C.NTH.D7.R4.H2O: 3243.0\r\n",
      " 12C.NTH.D7.R4.Frac11: 3248.0\r\n",
      " 13C.PTH.D30.R4.Frac20: 3293.0\r\n",
      " 13C.PTH.D30.R4.Frac13: 3333.0\r\n",
      " 13C.PTH.D30.R4.Frac24: 3396.0\r\n",
      " 12C.NTH.D7.R4.Frac13: 3398.0\r\n",
      " 13X.NTH.D14.R4.Frac25: 3403.0\r\n",
      " 13X.NTH.D14.R4.Frac15: 3406.0\r\n",
      " 13X.NTH.D7.R4.Frac12: 3407.0\r\n",
      " 13C.PTH.D30.R4.Frac11: 3413.0\r\n",
      " 12C.NTH.D30.R4.Frac6: 3461.0\r\n",
      " 12C.NTH.D30.R4.Frac15: 3468.0\r\n",
      " 12C.NTH.D7.R4.Frac5: 3483.0\r\n",
      " 12C.NTH.D7.R4.Frac8: 3531.0\r\n",
      " 13C.NTH.D3.R4.H2O: 3537.0\r\n",
      " 13X.PTH.D3.R4.H2O: 3547.0\r\n",
      " 13C.PTH.D3.R4.Frac17: 3551.0\r\n",
      " 13X.NTH.D14.R4.Frac9: 3558.0\r\n",
      " 13X.PTH.D1.R4.Frac16: 3585.0\r\n",
      " 13X.PTH.D1.R4.Frac13: 3608.0\r\n",
      " 13C.PTH.D14.R4.H2O: 3642.0\r\n",
      " 13C.PTH.D30.R4.Frac10: 3678.0\r\n",
      " 12C.NTH.D7.R4.Frac18: 3692.0\r\n",
      " 13C.PTH.D3.R4.Frac11: 3735.0\r\n",
      " 13C.PTH.D30.R4.Frac8: 3739.0\r\n",
      " 12C.NTH.D30.R4.Frac11: 3788.0\r\n",
      " 13X.PTH.D1.R4.Frac27: 3833.0\r\n",
      " 13X.NTH.D7.R4.Frac8: 3855.0\r\n",
      " 13X.PTH.D1.R4.Frac18: 3899.0\r\n",
      " 12C.PTH.D3.R4.Frac26: 3927.0\r\n",
      " 13X.PTH.D14.R4.Frac26: 3948.0\r\n",
      " 13X.NTH.D7.R4.Frac19: 3950.0\r\n",
      " 13X.PTH.D14.R4.Frac20: 3952.0\r\n",
      " 13C.PTH.D3.R4.Frac9: 4002.0\r\n",
      " 12C.NTH.D7.R4.Frac10: 4040.0\r\n",
      " 13X.PTH.D1.R4.Frac25: 4154.0\r\n",
      " 13X.NTH.D7.R4.Frac16: 4161.0\r\n",
      " 13X.NTH.D14.R4.Frac18: 4166.0\r\n",
      " 13C.PTH.D3.R4.Frac27: 4177.0\r\n",
      " 13X.NTH.D14.R4.Frac10: 4244.0\r\n",
      " 13C.PTH.D30.R4.Frac18: 4400.0\r\n",
      " 12C.NTH.D7.R4.Frac25: 4413.0\r\n",
      " 12C.NTH.D7.R4.Frac22: 4420.0\r\n",
      " 13C.PTH.D3.R4.Frac15: 4444.0\r\n",
      " 13X.PTH.D1.R4.Frac11: 4503.0\r\n",
      " 13X.PTH.D14.R4.Frac18: 4504.0\r\n",
      " 13C.PTH.D30.R4.Frac25: 4506.0\r\n",
      " 12C.NTH.D7.R4.Frac19: 4531.0\r\n",
      " 12C.NTH.D7.R4.Frac17: 4537.0\r\n",
      " 13X.PTH.D14.R4.Frac12: 4541.0\r\n",
      " 12C.NTH.D30.R4.Frac17: 4549.0\r\n",
      " 13X.NTH.D14.R4.Frac16: 4607.0\r\n",
      " 13X.NTH.D14.R4.Frac23: 4625.0\r\n",
      " 13C.PTH.D3.R4.Frac25: 4625.0\r\n",
      " 12C.PTH.D3.R4.Frac24: 4646.0\r\n",
      " 12C.NTH.D7.R4.Frac14: 4677.0\r\n",
      " 13X.NTH.D7.R4.Frac11: 4701.0\r\n",
      " 12C.NTH.D3.R4.H2O: 4709.0\r\n",
      " 13X.NTH.D7.R4.Frac25: 4727.0\r\n",
      " 13X.PTH.D14.R4.Frac24: 4765.0\r\n",
      " 12C.NTH.D7.R4.Frac9: 4769.0\r\n",
      " 12C.NTH.D30.R4.Frac16: 4801.0\r\n",
      " 13C.PTH.D30.R4.Frac5: 4814.0\r\n",
      " 13X.PTH.D14.R4.Frac10: 4921.0\r\n",
      " 13X.PTH.D1.R4.Frac23: 4922.0\r\n",
      " 13X.NTH.D7.R4.Frac18: 4950.0\r\n",
      " 13X.PTH.D1.R4.Frac19: 5007.0\r\n",
      " 12C.NTH.D30.R4.Frac7: 5016.0\r\n",
      " 12C.NTH.D7.R4.Frac27: 5027.0\r\n",
      " 13X.NTH.D14.R4.Frac8: 5056.0\r\n",
      " 13X.NTH.D14.R4.Frac27: 5068.0\r\n",
      " 12C.NTH.D30.R4.Frac10: 5097.0\r\n",
      " 13C.PTH.D3.R4.Frac23: 5124.0\r\n",
      " 12C.NTH.D30.R4.H2O: 5168.0\r\n",
      " 13C.PTH.D30.R4.Frac14: 5249.0\r\n",
      " 13C.PTH.D30.R4.Frac22: 5257.0\r\n",
      " 13X.NTH.D7.R4.Frac26: 5268.0\r\n",
      " 12C.PTH.D3.R4.Frac28: 5300.0\r\n",
      " 12C.NTH.D7.R4.Frac26: 5305.0\r\n",
      " 13X.NTH.D7.R4.Frac5: 5410.0\r\n",
      " 13X.NTH.D7.R4.Frac22: 5419.0\r\n",
      " 12C.NTH.D30.R4.Frac8: 5480.0\r\n",
      " 12C.PTH.D1.R4.H2O: 5510.0\r\n",
      " 12C.NTH.D7.R4.Frac6: 5541.0\r\n",
      " 13X.NTH.D7.R4.Frac17: 5559.0\r\n",
      " 13X.NTH.D7.R4.Frac13: 5607.0\r\n",
      " 13X.PTH.D14.R4.Frac16: 5658.0\r\n",
      " 13C.PTH.D30.R4.Frac26: 5674.0\r\n",
      " 13X.PTH.D1.R4.Frac9: 5798.0\r\n",
      " 13C.PTH.D3.R4.Frac7: 5872.0\r\n",
      " 13X.NTH.D14.R4.Frac26: 6054.0\r\n",
      " 13X.PTH.D14.R4.Frac28: 6068.0\r\n",
      " 12C.NTH.D30.R4.Frac12: 6189.0\r\n",
      " 13X.NTH.D14.R4.Frac14: 6322.0\r\n",
      " 13C.PTH.D30.R4.Frac9: 6346.0\r\n",
      " 13C.PTH.D30.R4.Frac17: 6436.0\r\n",
      " 13C.PTH.D7.R4.H2O: 6535.0\r\n",
      " 13X.NTH.D7.R4.Frac10: 6615.0\r\n",
      " 13X.PTH.D1.R4.Frac17: 6666.0\r\n",
      " 13X.NTH.D14.R4.Frac6: 6730.0\r\n",
      " 13X.NTH.D7.R4.Frac27: 6757.0\r\n",
      " 13X.NTH.D7.R4.Frac9: 7004.0\r\n",
      " 12C.NTH.D1.R4.H2O: 7269.0\r\n",
      " 13X.PTH.D1.R4.Frac7: 7271.0\r\n",
      " 13X.NTH.D14.R4.Frac28: 7293.0\r\n",
      " 13X.NTH.D7.R4.Frac6: 7311.0\r\n",
      " 13X.PTH.D14.R4.Frac8: 7339.0\r\n",
      " 13X.NTH.D7.R4.Frac14: 7517.0\r\n",
      " 12C.NTH.D30.R4.Frac4: 7617.0\r\n",
      " 13X.PTH.D1.R4.Frac15: 8366.0\r\n",
      " 13C.PTH.D30.R4.Frac6: 8469.0\r\n",
      " 12C.NTH.D30.R4.Frac13: 9018.0\r\n",
      " 12C.NTH.D30.R4.Frac9: 9170.0\r\n",
      " 13C.NTH.D3.R4.F23: 9570.0\r\n",
      " 13C.NTH.D3.R4.F24: 10443.0\r\n",
      " 13C.NTH.D3.R4.F26: 11043.0\r\n",
      " 13C.NTH.D3.R4.F21: 11300.0\r\n",
      " 13C.NTH.D3.R4.F18: 11966.0\r\n",
      " 12C.NTH.D30.R4.Frac5: 12137.0\r\n",
      " 12C.NTH.D3.R4.Frac23: 12514.0\r\n",
      " 13C.NTH.D14.R4.H2O: 12742.0\r\n",
      " 13C.NTH.D3.R4.F27: 12863.0\r\n",
      " 13C.NTH.D3.R4.F19: 12982.0\r\n",
      " 13C.NTH.D3.R4.F22: 13717.0\r\n",
      " 13C.NTH.D3.R4.F16: 13870.0\r\n",
      " 13C.NTH.D7.R4.Frac24: 13978.0\r\n",
      " 13C.PTH.D7.R4.F27: 13997.0\r\n",
      " 13C.NTH.D30.R4.Frac20: 14179.0\r\n",
      " 12C.NTH.D14.R4.Frac19: 14296.0\r\n",
      " 13X.PTH.D3.R4.Frac18: 14317.0\r\n",
      " 12C.PTH.D14.R4.Frac21: 14436.0\r\n",
      " 13C.NTH.D30.R4.Frac19: 14448.0\r\n",
      " 13C.NTH.D3.R4.F15: 14472.0\r\n",
      " 13X.PTH.D3.R4.Frac20: 14490.0\r\n",
      " 12C.NTH.D30.R4.Frac19: 14491.0\r\n",
      " 13C.NTH.D7.R4.Frac19: 14643.0\r\n",
      " 12C.PTH.D7.R4.Frac16: 14725.0\r\n",
      " 12C.NTH.D30.R4.Frac21: 14751.0\r\n",
      " 12C.PTH.D7.R4.Frac10: 14837.0\r\n",
      " 12C.PTH.D7.R4.Frac23: 14887.0\r\n",
      " 13C.NTH.D3.R4.F28: 14918.0\r\n",
      " 13C.NTH.D3.R4.F29: 14978.0\r\n",
      " 12C.PTH.D7.R4.Frac15: 15006.0\r\n",
      " 13C.NTH.D7.R4.Frac23: 15064.0\r\n",
      " 12C.NTH.D14.R4.Frac17: 15261.0\r\n",
      " 12C.PTH.D14.R4.Frac19: 15279.0\r\n",
      " 12C.NTH.D30.R4.Frac22: 15440.0\r\n",
      " 13C.NTH.D3.R4.F11: 15627.0\r\n",
      " 12C.PTH.D7.R4.Frac25: 15629.0\r\n",
      " 12C.NTH.D14.R4.Frac20: 15719.0\r\n",
      " 13C.NTH.D3.R4.F20: 15727.0\r\n",
      " 13C.NTH.D7.R4.Frac21: 15771.0\r\n",
      " 12C.NTH.D14.R4.Frac22: 15906.0\r\n",
      " 13C.NTH.D3.R4.F14: 15972.0\r\n",
      " 12C.NTH.D30.R4.Frac18: 16218.0\r\n",
      " 12C.PTH.D7.R4.Frac20: 16259.0\r\n",
      " 13C.NTH.D3.R4.F17: 16288.0\r\n",
      " 13C.NTH.D7.R4.Frac18: 16333.0\r\n",
      " 12C.PTH.D7.R4.Frac7: 16450.0\r\n",
      " 13C.NTH.D7.R4.Frac22: 16511.0\r\n",
      " 13X.NTH.D1.R4.Frac19: 16585.0\r\n",
      " 12C.PTH.D7.R4.Frac18: 16787.0\r\n",
      " 12C.NTH.D14.R4.Frac21: 16863.0\r\n",
      " 13X.NTH.D1.R4.Frac20: 16981.0\r\n",
      " 13C.NTH.D30.R4.Frac22: 17009.0\r\n",
      " 13X.PTH.D3.R4.Frac17: 17112.0\r\n",
      " 12C.PTH.D7.R4.Frac9: 17124.0\r\n",
      " 12C.NTH.D30.R4.Frac24: 17262.0\r\n",
      " 12C.PTH.D14.R4.Frac18: 17817.0\r\n",
      " 12C.PTH.D7.R4.Frac26: 17843.0\r\n",
      " 12C.PTH.D14.R4.Frac23: 17984.0\r\n",
      " 13C.NTH.D7.R4.Frac16: 18069.0\r\n",
      " 12C.PTH.D7.R4.Frac21: 18321.0\r\n",
      " 13C.NTH.D7.R4.Frac11: 18433.0\r\n",
      " 13X.PTH.D3.R4.Frac7: 18680.0\r\n",
      " 13C.NTH.D30.R4.Frac18: 18800.0\r\n",
      " 13X.NTH.D1.R4.Frac21: 18953.0\r\n",
      " 13X.PTH.D7.R4.Frac18: 19008.0\r\n",
      " 13X.NTH.D3.R4.Frac22: 19047.0\r\n",
      " 13X.NTH.D1.R4.Frac22: 19162.0\r\n",
      " 12C.PTH.D7.R4.Frac24: 19370.0\r\n",
      " 12C.PTH.D7.R4.Frac12: 19570.0\r\n",
      " 13X.NTH.D1.R4.Frac17: 19606.0\r\n",
      " 12C.PTH.D7.R4.Frac8: 19623.0\r\n",
      " 13X.PTH.D3.R4.Frac16: 19629.0\r\n",
      " 13X.PTH.D3.R4.Frac19: 19735.0\r\n",
      " 13C.PTH.D14.R4.Frac24: 19760.0\r\n",
      " 13X.PTH.D3.R4.Frac9: 19907.0\r\n",
      " 12C.NTH.D30.R4.Frac23: 19926.0\r\n",
      " 12C.NTH.D14.R4.Frac14: 20015.0\r\n",
      " 13X.PTH.D7.R4.Frac24: 20065.0\r\n",
      " 12C.NTH.D14.R4.Frac23: 20067.0\r\n",
      " 12C.PTH.D14.R4.Frac22: 20092.0\r\n",
      " 12C.NTH.D14.R4.Frac16: 20129.0\r\n",
      " 13C.NTH.D7.R4.Frac9: 20131.0\r\n",
      " 13C.NTH.D7.R4.Frac25: 20197.0\r\n",
      " 13C.PTH.D7.R4.F19: 20201.0\r\n",
      " 13C.NTH.D3.R4.F13: 20275.0\r\n",
      " 13C.NTH.D7.R4.Frac8: 20288.0\r\n",
      " 13C.NTH.D30.R4.Frac14: 20318.0\r\n",
      " 12C.PTH.D30.R4.Frac20: 20323.0\r\n",
      " 12C.PTH.D14.R4.Frac17: 20327.0\r\n",
      " 13C.NTH.D7.R4.Frac10: 20418.0\r\n",
      " 13C.NTH.D3.R4.F10: 20468.0\r\n",
      " 12C.NTH.D30.R4.Frac26: 20514.0\r\n",
      " 13C.NTH.D7.R4.Frac17: 20546.0\r\n",
      " 13X.PTH.D3.R4.Frac6: 20781.0\r\n",
      " Mock.community.Pool3: 20797.0\r\n",
      " 12C.PTH.D7.R4.Frac5: 20890.0\r\n",
      " 13C.NTH.D14.R4.Frac18: 21022.0\r\n",
      " 13C.NTH.D30.R4.Frac21: 21106.0\r\n",
      " 12C.PTH.D30.R4.Frac23: 21127.0\r\n",
      " 13X.PTH.D3.R4.Frac24: 21159.0\r\n",
      " 12C.NTH.D14.R4.Frac11: 21185.0\r\n",
      " 12C.PTH.D14.R4.Frac20: 21270.0\r\n",
      " 12C.NTH.D14.R4.Frac15: 21296.0\r\n",
      " 13X.PTH.D3.R4.Frac15: 21310.0\r\n",
      " 12C.PTH.D7.R4.Frac13: 21364.0\r\n",
      " 12C.PTH.D7.R4.Frac17: 21444.0\r\n",
      " 12C.PTH.D30.R4.Frac22: 21539.0\r\n",
      " 12C.NTH.D14.R4.Frac18: 21623.0\r\n",
      " 12C.NTH.D30.R4.Frac25: 21685.0\r\n",
      " 12C.PTH.D7.R4.Frac14: 21739.0\r\n",
      " 12C.NTH.D14.R4.Frac9: 21763.0\r\n",
      " 13C.NTH.D14.R4.Frac22: 21947.0\r\n",
      " 13X.NTH.D1.R4.Frac14: 21952.0\r\n",
      " 12C.PTH.D7.R4.Frac22: 21971.0\r\n",
      " 13X.PTH.D3.R4.Frac22: 21995.0\r\n",
      " 12C.PTH.D14.R4.Frac25: 22030.0\r\n",
      " 12C.PTH.D3.R4.Frac20: 22076.0\r\n",
      " 13X.PTH.D3.R4.Frac21: 22086.0\r\n",
      " 13C.NTH.D3.R4.F25: 22093.0\r\n",
      " 12C.NTH.D14.R4.Frac25: 22141.0\r\n",
      " 13X.NTH.D1.R4.Frac10: 22182.0\r\n",
      " 13C.NTH.D3.R4.F6: 22247.0\r\n",
      " 13C.NTH.D7.R4.Frac26: 22265.0\r\n",
      " 13C.NTH.D7.R4.Frac13: 22339.0\r\n",
      " 13C.NTH.D7.R4.Frac15: 22399.0\r\n",
      " 13C.PTH.D7.R4.F16: 22475.0\r\n",
      " 12C.PTH.D14.R4.Frac24: 22566.0\r\n",
      " 13X.NTH.D3.R4.Frac27: 22660.0\r\n",
      " 13X.PTH.D7.R4.Frac19: 22721.0\r\n",
      " 13C.NTH.D30.R4.Frac24: 22744.0\r\n",
      " 13C.PTH.D7.R4.F21: 22753.0\r\n",
      " 13X.NTH.D1.R4.Frac23: 22761.0\r\n",
      " 13X.NTH.D1.R4.Frac18: 22772.0\r\n",
      " 13X.PTH.D7.R4.Frac23: 22851.0\r\n",
      " 13X.NTH.D1.R4.Frac6: 22872.0\r\n",
      " 13X.NTH.D1.R4.Frac24: 22897.0\r\n",
      " 13C.NTH.D3.R4.F12: 22918.0\r\n",
      " 12C.NTH.D14.R4.Frac7: 22979.0\r\n",
      " 13C.NTH.D7.R4.Frac20: 23087.0\r\n",
      " 13X.PTH.D3.R4.Frac14: 23129.0\r\n",
      " 13C.NTH.D7.R4.Frac5: 23135.0\r\n",
      " 13C.NTH.D30.R4.Frac12: 23171.0\r\n",
      " 13X.NTH.D1.R4.Frac11: 23256.0\r\n",
      " 13X.PTH.D3.R4.Frac25: 23313.0\r\n",
      " 12C.NTH.D1.R4.Frac11: 23336.0\r\n",
      " 12C.PTH.D14.R4.Frac16: 23444.0\r\n",
      " 12C.PTH.D14.R4.Frac10: 23510.0\r\n",
      " 12C.NTH.D1.R4.Frac10: 23517.0\r\n",
      " 13C.NTH.D30.R4.Frac25: 23563.0\r\n",
      " 13X.NTH.D1.R4.Frac15: 23571.0\r\n",
      " 13X.NTH.D1.R4.Frac26: 23606.0\r\n",
      " 13X.PTH.D3.R4.Frac13: 23616.0\r\n",
      " 12C.PTH.D30.R4.Frac21: 23723.0\r\n",
      " 13C.PTH.D14.R4.Frac16: 23863.0\r\n",
      " 13C.NTH.D30.R4.Frac7: 23933.0\r\n",
      " 13C.NTH.D30.R4.Frac6: 23946.0\r\n",
      " 12C.PTH.D7.R4.Frac6: 23946.0\r\n",
      " 12C.NTH.D3.R4.Frac22: 23961.0\r\n",
      " Mock.community.Pool4: 24048.0\r\n",
      " 12C.NTH.D14.R4.Frac24: 24057.0\r\n",
      " 12C.NTH.D14.R4.Frac8: 24121.0\r\n",
      " 12C.PTH.D30.R4.Frac25: 24137.0\r\n",
      " 13C.PTH.D14.R4.Frac23: 24190.0\r\n",
      " 13X.PTH.D3.R4.Frac11: 24286.0\r\n",
      " 12C.NTH.D14.R4.Frac13: 24550.0\r\n",
      " 12C.PTH.D14.R4.Frac15: 24559.0\r\n",
      " 13X.NTH.D1.R4.Frac12: 24595.0\r\n",
      " 13C.PTH.D7.R4.F10: 24600.0\r\n",
      " 13C.PTH.D14.R4.Frac15: 24668.0\r\n",
      " 12C.PTH.D14.R4.Frac13: 24688.0\r\n",
      " 13X.NTH.D1.R4.Frac16: 24696.0\r\n",
      " 13C.NTH.D7.R4.Frac14: 24789.0\r\n",
      " 13C.NTH.D30.R4.Frac23: 24824.0\r\n",
      " 12C.PTH.D3.R4.Frac14: 24873.0\r\n",
      " 13C.NTH.D30.R4.Frac17: 24877.0\r\n",
      " 13C.NTH.D30.R4.Frac16: 25087.0\r\n",
      " 12C.PTH.D14.R4.Frac5: 25087.0\r\n",
      " 13X.PTH.D3.R4.Frac8: 25130.0\r\n",
      " 13C.NTH.D14.R4.Frac17: 25321.0\r\n",
      " 13X.NTH.D1.R4.Frac27: 25409.0\r\n",
      " 13C.PTH.D7.R4.F11: 25425.0\r\n",
      " 13C.NTH.D30.R4.Frac26: 25479.0\r\n",
      " 13C.PTH.D7.R4.F26: 25595.0\r\n",
      " 13C.PTH.D14.R4.Frac19: 25657.0\r\n",
      " 13C.NTH.D14.R4.Frac20: 25745.0\r\n",
      " 13X.NTH.D3.R4.Frac20: 25770.0\r\n",
      " 12C.NTH.D14.R4.Frac12: 25806.0\r\n",
      " 12C.PTH.D14.R4.Frac11: 25829.0\r\n",
      " 12C.NTH.D3.R4.Frac24: 25842.0\r\n",
      " 13X.NTH.D3.R4.Frac23: 25873.0\r\n",
      " 13C.NTH.D30.R4.Frac5: 26210.0\r\n",
      " 13X.PTH.D3.R4.Frac12: 26247.0\r\n",
      " 13X.NTH.D3.R4.Frac29: 26282.0\r\n",
      " 12C.NTH.D1.R4.F21: 26306.0\r\n",
      " 12C.NTH.D1.R4.Frac17: 26408.0\r\n",
      " 13C.NTH.D7.R4.Frac6: 26436.0\r\n",
      " 13C.NTH.D30.R4.Frac8: 26528.0\r\n",
      " 13X.NTH.D1.R4.Frac9: 26549.0\r\n",
      " 13C.PTH.D7.R4.F22: 26591.0\r\n",
      " 12C.PTH.D30.R4.Frac19: 26595.0\r\n",
      " 12C.PTH.D14.R4.Frac9: 26597.0\r\n",
      " 13C.NTH.D30.R4.Frac11: 26701.0\r\n",
      " 13X.NTH.D3.R4.Frac14: 26730.0\r\n",
      " 13C.NTH.D30.R4.Frac9: 26798.0\r\n",
      " 13X.NTH.D3.R4.Frac26: 26871.0\r\n",
      " 13X.NTH.D3.R4.Frac19: 26977.0\r\n",
      " 13C.NTH.D14.R4.Frac12: 27021.0\r\n",
      " 13C.PTH.D14.R4.Frac18: 27034.0\r\n",
      " 12C.PTH.D14.R4.Frac8: 27122.0\r\n",
      " 13C.NTH.D3.R4.F7: 27145.0\r\n",
      " 13C.PTH.D7.R4.F15: 27185.0\r\n",
      " 13X.PTH.D7.R4.Frac21: 27290.0\r\n",
      " 13X.NTH.D3.R4.Frac28: 27332.0\r\n",
      " 12C.PTH.D1.R4.Frac23: 27340.0\r\n",
      " 13X.PTH.D7.R4.Frac25: 27358.0\r\n",
      " 12C.PTH.D14.R4.Frac14: 27361.0\r\n",
      " 12C.NTH.D1.R4.Frac16: 27366.0\r\n",
      " 13X.NTH.D1.R4.Frac25: 27484.0\r\n",
      " 13X.NTH.D3.R4.Frac24: 27504.0\r\n",
      " 12C.NTH.D1.R4.Frac14: 27647.0\r\n",
      " 13C.PTH.D7.R4.F20: 27655.0\r\n",
      " 12C.NTH.D3.R4.Frac25: 27661.0\r\n",
      " 13C.NTH.D14.R4.Frac19: 27709.0\r\n",
      " 13C.NTH.D3.R4.F8: 27772.0\r\n",
      " 12C.NTH.D3.R4.Frac21: 27790.0\r\n",
      " 13C.NTH.D30.R4.Frac13: 27866.0\r\n",
      " 13C.NTH.D7.R4.Frac27: 27888.0\r\n",
      " 12C.NTH.D1.R4.Frac9: 27986.0\r\n",
      " 12C.PTH.D30.R4.Frac14: 28203.0\r\n",
      " 13X.PTH.D7.R4.Frac17: 28379.0\r\n",
      " 12C.PTH.D7.R4.Frac19: 28466.0\r\n",
      " 12C.NTH.D1.R4.F19: 28466.0\r\n",
      " 12C.PTH.D30.R4.Frac16: 28472.0\r\n",
      " 13C.PTH.D7.R4.F23: 28494.0\r\n",
      " 12C.NTH.D14.R4.Frac6: 28527.0\r\n",
      " 13C.NTH.D14.R4.Frac14: 28595.0\r\n",
      " 13C.PTH.D7.R4.F24: 28623.0\r\n",
      " 12C.NTH.D30.R4.Frac27: 28630.0\r\n",
      " 13C.NTH.D14.R4.Frac16: 28648.0\r\n",
      " 12C.PTH.D30.R4.Frac17: 28710.0\r\n",
      " 13C.NTH.D30.R4.Frac10: 28741.0\r\n",
      " 13X.PTH.D3.R4.Frac23: 28917.0\r\n",
      " 13X.PTH.D3.R4.Frac4: 28931.0\r\n",
      " 12C.PTH.D7.R4.Frac11: 28982.0\r\n",
      " 13C.PTH.D14.R4.Frac17: 29059.0\r\n",
      " 12C.PTH.D1.R4.Frac24: 29144.0\r\n",
      " 13C.NTH.D30.R4.Frac27: 29416.0\r\n",
      " 13C.NTH.D7.R4.Frac7: 29448.0\r\n",
      " 12C.PTH.D3.R4.Frac21: 29483.0\r\n",
      " 13C.PTH.D14.R4.Frac21: 29536.0\r\n",
      " 12C.NTH.D14.R4.Frac5: 29617.0\r\n",
      " 13X.PTH.D7.R4.Frac22: 29673.0\r\n",
      " 13C.PTH.D14.R4.Frac13: 29762.0\r\n",
      " 12C.PTH.D30.R4.Frac27: 29834.0\r\n",
      " 12C.PTH.D30.R4.Frac15: 29853.0\r\n",
      " 12C.NTH.D30.R4.Frac20: 29962.0\r\n",
      " 12C.NTH.D3.R4.Frac19: 30142.0\r\n",
      " 12C.NTH.D1.R4.Frac12: 30200.0\r\n",
      " 13C.NTH.D14.R4.Frac21: 30203.0\r\n",
      " 13C.NTH.D14.R4.Frac15: 30279.0\r\n",
      " 13C.NTH.D30.R4.Frac15: 30300.0\r\n",
      " 13C.PTH.D7.R4.F13: 30327.0\r\n",
      " 12C.NTH.D14.R4.Frac4: 30349.0\r\n",
      " 13X.PTH.D3.R4.Frac26: 30378.0\r\n",
      " 13C.NTH.D14.R4.Frac25: 30564.0\r\n",
      " 13X.PTH.D7.R4.Frac20: 30683.0\r\n",
      " 13X.NTH.D1.R4.Frac5: 30871.0\r\n",
      " 13C.PTH.D7.R4.F18: 30884.0\r\n",
      " 12C.NTH.D1.R4.F22: 30896.0\r\n",
      " 12C.PTH.D3.R4.Frac18: 30906.0\r\n",
      " 13X.NTH.D1.R4.Frac13: 30927.0\r\n",
      " 13X.NTH.D1.R4.Frac8: 31145.0\r\n",
      " 12C.PTH.D14.R4.Frac26: 31305.0\r\n",
      " 13C.PTH.D14.R4.Frac22: 31331.0\r\n",
      " 12C.NTH.D1.R4.Frac8: 31374.0\r\n",
      " 12C.NTH.D3.R4.Frac17: 31518.0\r\n",
      " 13C.NTH.D14.R4.Frac11: 31545.0\r\n",
      " 13C.NTH.D14.R4.Frac24: 31780.0\r\n",
      " 12C.PTH.D3.R4.Frac15: 31863.0\r\n",
      " 12C.NTH.D1.R4.Frac6: 31980.0\r\n",
      " 12C.PTH.D1.R4.Frac20: 32034.0\r\n",
      " 12C.PTH.D14.R4.Frac7: 32121.0\r\n",
      " 12C.PTH.D3.R4.Frac19: 32321.0\r\n",
      " 12C.NTH.D1.R4.F18: 32442.0\r\n",
      " 12C.PTH.D30.R4.Frac7: 32444.0\r\n",
      " 12C.PTH.D30.R4.Frac24: 32467.0\r\n",
      " 13C.PTH.D14.R4.Frac8: 32542.0\r\n",
      " 13X.NTH.D3.R4.Frac11: 32615.0\r\n",
      " 13X.NTH.D1.R4.Frac7: 32616.0\r\n",
      " 12C.NTH.D1.R4.F23: 32732.0\r\n",
      " 12C.PTH.D3.R4.Frac6: 32753.0\r\n",
      " 12C.PTH.D30.R4.Frac18: 32899.0\r\n",
      " 13C.PTH.D14.R4.Frac14: 32941.0\r\n",
      " 13X.PTH.D7.R4.Frac26: 33022.0\r\n",
      " 12C.PTH.D14.R4.Frac12: 33113.0\r\n",
      " 13X.NTH.D3.R4.Frac13: 33160.0\r\n",
      " 13X.NTH.D3.R4.Frac25: 33198.0\r\n",
      " 13X.NTH.D3.R4.Frac18: 33199.0\r\n",
      " 12C.PTH.D1.R4.Frac22: 33318.0\r\n",
      " 13C.NTH.D14.R4.Frac23: 33327.0\r\n",
      " 13X.PTH.D3.R4.Frac5: 33373.0\r\n",
      " 12C.NTH.D3.R4.Frac6: 33410.0\r\n",
      " 13C.PTH.D7.R4.F14: 33412.0\r\n",
      " 12C.NTH.D14.R4.Frac10: 33719.0\r\n",
      " 13C.PTH.D7.R4.F17: 33862.0\r\n",
      " 12C.PTH.D30.R4.Frac26: 34021.0\r\n",
      " 12C.NTH.D1.R4.F26: 34032.0\r\n",
      " 12C.NTH.D1.R4.Frac13: 34109.0\r\n",
      " 12C.NTH.D1.R4.Frac15: 34119.0\r\n",
      " 12C.NTH.D3.R4.Frac20: 34167.0\r\n",
      " 13C.NTH.D14.R4.Frac10: 34198.0\r\n",
      " 12C.PTH.D1.R4.Frac25: 34209.0\r\n",
      " 13X.NTH.D3.R4.Frac6: 34334.0\r\n",
      " 12C.NTH.D1.R4.F27: 34370.0\r\n",
      " 13C.PTH.D14.R4.Frac20: 34602.0\r\n",
      " 13C.NTH.D7.R4.Frac12: 34644.0\r\n",
      " 12C.PTH.D1.R4.Frac18: 34771.0\r\n",
      " 12C.PTH.D1.R4.Frac15: 34839.0\r\n",
      " 12C.PTH.D1.R4.Frac14: 34845.0\r\n",
      " 13X.PTH.D7.R4.Frac10: 35145.0\r\n",
      " 12C.PTH.D7.R4.Frac27: 35356.0\r\n",
      " 13X.NTH.D3.R4.Frac16: 35462.0\r\n",
      " 13X.PTH.D7.R4.Frac8: 35576.0\r\n",
      " 12C.PTH.D3.R4.Frac16: 35649.0\r\n",
      " 12C.NTH.D3.R4.Frac11: 35817.0\r\n",
      " 13X.PTH.D7.R4.Frac16: 35941.0\r\n",
      " 13C.PTH.D14.R4.Frac26: 36027.0\r\n",
      " 12C.NTH.D3.R4.Frac16: 36041.0\r\n",
      " 13C.PTH.D7.R4.F5: 36077.0\r\n",
      " 13C.PTH.D14.R4.Frac10: 36093.0\r\n",
      " 12C.NTH.D3.R4.Frac18: 36262.0\r\n",
      " 13X.PTH.D7.R4.Frac11: 36330.0\r\n",
      " 12C.PTH.D30.R4.Frac12: 36419.0\r\n",
      " 12C.PTH.D1.R4.Frac17: 36616.0\r\n",
      " 13C.PTH.D14.R4.Frac25: 36688.0\r\n",
      " 13C.NTH.D14.R4.Frac9: 36807.0\r\n",
      " 13C.NTH.D14.R4.Frac26: 36957.0\r\n",
      " 12C.PTH.D30.R4.Frac6: 37022.0\r\n",
      " 13X.PTH.D7.R4.Frac27: 37059.0\r\n",
      " 12C.NTH.D3.R4.Frac13: 37211.0\r\n",
      " 12C.PTH.D1.R4.Frac16: 37255.0\r\n",
      " 13X.PTH.D7.R4.Frac9: 37365.0\r\n",
      " 13C.NTH.D14.R4.Frac5: 37475.0\r\n",
      " 13C.PTH.D14.R4.Frac11: 37573.0\r\n",
      " 12C.PTH.D30.R4.Frac28: 37674.0\r\n",
      " 12C.PTH.D30.R4.Frac13: 37703.0\r\n",
      " 13X.NTH.D3.R4.Frac12: 37829.0\r\n",
      " 13C.PTH.D7.R4.F7: 37931.0\r\n",
      " 12C.NTH.D1.R4.Frac7: 37943.0\r\n",
      " 12C.PTH.D3.R4.Frac12: 38033.0\r\n",
      " 12C.PTH.D1.R4.Frac21: 38150.0\r\n",
      " 12C.PTH.D1.R4.Frac7: 38468.0\r\n",
      " 12C.NTH.D3.R4.Frac8: 38814.0\r\n",
      " 13C.NTH.D3.R4.F9: 38836.0\r\n",
      " 12C.NTH.D3.R4.Frac12: 39012.0\r\n",
      " 13X.PTH.D7.R4.Frac13: 39084.0\r\n",
      " 13C.PTH.D14.R4.Frac9: 39321.0\r\n",
      " 12C.NTH.D3.R4.Frac7: 39469.0\r\n",
      " 12C.NTH.D3.R4.Frac15: 39489.0\r\n",
      " 12C.PTH.D3.R4.Frac7: 39853.0\r\n",
      " 12C.PTH.D1.R4.Frac19: 40117.0\r\n",
      " 13X.NTH.D3.R4.Frac8: 40135.0\r\n",
      " 13X.NTH.D3.R4.Frac5: 40261.0\r\n",
      " 13C.PTH.D7.R4.F9: 40621.0\r\n",
      " 12C.NTH.D1.R4.Frac5: 40882.0\r\n",
      " 12C.PTH.D14.R4.Frac6: 40930.0\r\n",
      " 13X.PTH.D7.R4.Frac15: 41005.0\r\n",
      " 13X.PTH.D3.R4.Frac10: 41516.0\r\n",
      " 13X.NTH.D3.R4.Frac9: 41566.0\r\n",
      " 13C.PTH.D7.R4.F8: 41592.0\r\n",
      " 12C.PTH.D1.R4.Frac26: 41618.0\r\n",
      " 13X.NTH.D3.R4.Frac17: 41625.0\r\n",
      " 12C.NTH.D1.R4.F24: 41752.0\r\n",
      " 12C.PTH.D1.R4.Frac6: 41766.0\r\n",
      " 13X.PTH.D7.R4.Frac7: 41913.0\r\n",
      " 12C.PTH.D1.R4.Frac13: 41986.0\r\n",
      " 13C.PTH.D14.R4.Frac12: 42137.0\r\n",
      " 12C.PTH.D30.R4.Frac9: 42200.0\r\n",
      " 13X.NTH.D3.R4.Frac15: 42323.0\r\n",
      " 13C.NTH.D14.R4.Frac27: 42606.0\r\n",
      " 13C.NTH.D14.R4.Frac8: 42660.0\r\n",
      " 13C.PTH.D14.R4.Frac27: 42717.0\r\n",
      " 13X.NTH.D3.R4.Frac21: 42959.0\r\n",
      " 13X.NTH.D3.R4.Frac10: 43644.0\r\n",
      " 13C.PTH.D7.R4.F25: 43899.0\r\n",
      " 13X.PTH.D7.R4.Frac28: 44052.0\r\n",
      " 12C.NTH.D3.R4.Frac26: 44286.0\r\n",
      " 12C.PTH.D3.R4.Frac17: 44353.0\r\n",
      " 12C.PTH.D1.R4.Frac10: 44407.0\r\n",
      " 12C.PTH.D1.R4.Frac8: 44432.0\r\n",
      " 13C.NTH.D14.R4.Frac13: 44710.0\r\n",
      " 12C.PTH.D1.R4.Frac28: 45288.0\r\n",
      " 13X.NTH.D3.R4.Frac7: 45434.0\r\n",
      " 12C.PTH.D30.R4.Frac8: 45531.0\r\n",
      " 12C.NTH.D3.R4.Frac10: 45686.0\r\n",
      " 12C.PTH.D30.R4.Frac11: 45815.0\r\n",
      " 13C.NTH.D14.R4.Frac6: 46178.0\r\n",
      " 12C.PTH.D30.R4.Frac10: 46323.0\r\n",
      " 13C.NTH.D14.R4.Frac28: 46780.0\r\n",
      " 12C.NTH.D1.R4.F20: 48091.0\r\n",
      " 13C.PTH.D14.R4.Frac6: 48145.0\r\n",
      " 12C.NTH.D3.R4.Frac14: 48409.0\r\n",
      " 13C.PTH.D7.R4.F12: 48447.0\r\n",
      " 12C.NTH.D14.R4.Frac26: 48811.0\r\n",
      " 13C.PTH.D14.R4.Frac7: 48927.0\r\n",
      " 12C.NTH.D3.R4.Frac27: 49016.0\r\n",
      " 12C.PTH.D3.R4.Frac8: 49119.0\r\n",
      " 13X.PTH.D7.R4.Frac6: 49490.0\r\n",
      " 12C.NTH.D1.R4.F25: 49911.0\r\n",
      " 12C.PTH.D3.R4.Frac10: 49991.0\r\n",
      " 13X.PTH.D7.R4.Frac12: 50095.0\r\n",
      " 13X.PTH.D7.R4.Frac14: 50204.0\r\n",
      " 12C.PTH.D3.R4.Frac11: 50723.0\r\n",
      " 13C.PTH.D7.R4.F6: 51377.0\r\n",
      " 12C.PTH.D1.R4.Frac9: 52030.0\r\n",
      " 13X.PTH.D7.R4.Frac5: 53191.0\r\n",
      " 12C.PTH.D1.R4.Frac12: 54503.0\r\n",
      " 12C.PTH.D1.R4.Frac5: 54934.0\r\n",
      " 13C.NTH.D14.R4.Frac7: 55624.0\r\n",
      " 12C.PTH.D1.R4.Frac11: 58127.0\r\n",
      " 12C.NTH.D3.R4.Frac28: 62007.0\r\n",
      " 12C.PTH.D1.R4.Frac27: 62349.0\r\n",
      " 12C.PTH.D3.R4.Frac13: 64947.0\r\n",
      " 12C.PTH.D3.R4.Frac9: 68666.0\r\n",
      " 13X.PTH.D7.R4.Frac29: 72152.0\r\n",
      " 12C.PTH.D3.R4.Frac5: 74629.0\r\n",
      " 12C.PTH.D1.R4.Frac29: 78736.0\r\n",
      " 13C.PTH.D14.R4.Frac28: 84723.0\r\n"
     ]
    }
   ],
   "source": [
    "# This tells us the overall data info\n",
    "# Num obs = OTUs\n",
    "# total count = total seqs\n",
    "# Chantal had 50% reduction after QC.\n",
    "\n",
    "!cat data/otu_table_summary.txt\n",
    "\n"
   ]
  }
 ],
 "metadata": {
  "kernelspec": {
   "display_name": "Python 2",
   "language": "python",
   "name": "python2"
  },
  "language_info": {
   "codemirror_mode": {
    "name": "ipython",
    "version": 2
   },
   "file_extension": ".py",
   "mimetype": "text/x-python",
   "name": "python",
   "nbconvert_exporter": "python",
   "pygments_lexer": "ipython2",
   "version": "2.7.11"
  }
 },
 "nbformat": 4,
 "nbformat_minor": 0
}
