{
 "cells": [
  {
   "cell_type": "code",
   "execution_count": 1,
   "metadata": {
    "collapsed": false
   },
   "outputs": [],
   "source": [
    "# Imports a parser from cogent\n",
    "from cogent.parse.fasta import MinimalFastaParser as parse"
   ]
  },
  {
   "cell_type": "code",
   "execution_count": 2,
   "metadata": {
    "collapsed": false
   },
   "outputs": [],
   "source": [
    "# applies for the whole segment\n",
    "nprocs = 10"
   ]
  },
  {
   "cell_type": "code",
   "execution_count": null,
   "metadata": {
    "collapsed": false
   },
   "outputs": [
    {
     "name": "stdout",
     "output_type": "stream",
     "text": [
      ">12C.NTH.D3.R4_Frac19_0\r\n",
      "TACGTAGGGGACGAGCGTTGTCCGGATTCATTGGGCGTAAAGCGCGCGTAGGCGGCTCGGAAAGTCGGTCGTGAAATGCCGGGGCTCAACCCCGGGACTGCGTCCGATACTTCCGGGCTGGAGGTAGGTAGGGGAGATCGGAATTCCTGGTGTAGCGGTGAAATGCGCAGATATCAGGAGGAACACCGGTGGCGAAGGCGGGTCTCTGGGCCGATACTGACGCTGAGGAGCGAAAGCGTGGGGAGCGAACAGG\r\n",
      ">12C.PTH.D1.R4_Frac11_3287776\r\n",
      "TACGTAGGGGACGAGCGTTGTCCGGATTCATTGGGCGTAAAGCGCGCGTAGGCGGCTCGGAAAGTCGGTCGTGAAATGCCGGGGCTCAACCCCGGGACTGCGTCCGATACTTCCGGGCTGGAGGTAGGTAGGGGAGATCGGAATTCCTGGTGTAGCGGTGAAATGCGCAGATATCAGGAGGAACACCGGTGGCGAAGGCGGGTCTCTGGGCCGATACTGACGCTGAGGAGCGAAAGCGTGGGGAGCGAACAGG\r\n",
      ">12C.PTH.D1.R4_Frac23_1\r\n",
      "TACGGAGGGGGCTAGCGTTGTTCGGAATTACTGGGCGTAAAGCGCACGTAGGCGGCTTTGTAAGTTAGAGGTGAAAGCCCAGGGCTCAACCCTGGAATTGCCTTTAAGACTGCATCGCTTGAACATCGGAGAGGTAAGTGGAATTCCGAGTGTAGAGGTGAAATTCGTAGATATTCGGAAGAACACCAGTGGCGAAGGCGACTTACTGGACGATTGTTGACGCTGAGGTGCGAAAGCGTGGGGAGCAAACAGG\r\n",
      ">12C.NTH.D3.R4_Frac28_2106\r\n",
      "TACGGAGGGGGCTAGCGTTGTTCGGAATTACTGGGCGTAAAGCGCACGTAGGCGGCTTTGTAAGTTAGAGGTGAAAGCCCAGGGCTCAACCCTGGAATTGCCTTTAAGACTGCATCGCTTGAACATCGGAGAGGTAAGTGGAATTCCGAGTGTAGAGGTGAAATTCGTAGATATTCGGAAGAACACCAGTGGCGAAGGCGACTTACTGGACGATTGTTGACGCTGAGGTGCGAAAGCGTGGGGAGCAAACAGG\r\n",
      ">12C.NTH.D3.R4_Frac22_2974\r\n",
      "TACGGAGGGGGCTAGCGTTGTTCGGAATTACTGGGCGTAAAGCGCACGTAGGCGGCTTTGTAAGTTAGAGGTGAAAGCCCAGGGCTCAACCCTGGAATTGCCTTTAAGACTGCATCGCTTGAACATCGGAGAGGTAAGTGGAATTCCGAGTGTAGAGGTGAAATTCGTAGATATTCGGAAGAACACCAGTGGCGAAGGCGACTTACTGGACGATTGTTGACGCTGAGGTGCGAAAGCGTGGGGAGCAAACAGG\r\n"
     ]
    }
   ],
   "source": [
    "# Checking out data file.\n",
    "# This file was created using the QC_basic notebook.\n",
    "!head data/finalQC.fasta"
   ]
  },
  {
   "cell_type": "code",
   "execution_count": null,
   "metadata": {
    "collapsed": false
   },
   "outputs": [],
   "source": [
    "%%bash\n",
    "# Running the seq separation on mothur instead\n",
    "\n",
    "mothur \"#unique.seqs(fasta=data/finalQC.fasta)\" > /dev/null"
   ]
  },
  {
   "cell_type": "code",
   "execution_count": null,
   "metadata": {
    "collapsed": false
   },
   "outputs": [],
   "source": [
    "# Making a dictionary of the names files, splitting it into the first (ID) and second (commas list of all seqs in it)\n",
    "# Then it counts their lengths and saves it in the dictionary\n",
    "\n",
    "counts = {}\n",
    "\n",
    "with open(\"data/finalQC.names\") as f:\n",
    "    for line in f:\n",
    "        seedID, seqIDs = line.split(\"\\t\")\n",
    "        count = len(seqIDs.split(\",\"))\n",
    "        counts[seedID] = count        "
   ]
  },
  {
   "cell_type": "code",
   "execution_count": null,
   "metadata": {
    "collapsed": false
   },
   "outputs": [],
   "source": [
    "# Adds the counts from this dictionary to our finalQC.unique file so it looks like a usearch file with \"size=XXX\"\n",
    "\n",
    "with open(\"data/finalQC.unique.usearch_names.fasta\", \"w\") as f:\n",
    "    for n, s in parse(open(\"data/finalQC.unique.fasta\")):\n",
    "        f.write(\">%s;size=%s;\\n%s\\n\"%(n,counts[n],s))  "
   ]
  },
  {
   "cell_type": "code",
   "execution_count": null,
   "metadata": {
    "collapsed": false
   },
   "outputs": [],
   "source": [
    "!head data/finalQC.unique.usearch_names.fasta"
   ]
  },
  {
   "cell_type": "code",
   "execution_count": null,
   "metadata": {
    "collapsed": false
   },
   "outputs": [],
   "source": [
    "# Chuck looking to see how many Gb this file is.\n",
    "!du -h data/finalQC.fasta"
   ]
  },
  {
   "cell_type": "code",
   "execution_count": null,
   "metadata": {
    "collapsed": false
   },
   "outputs": [],
   "source": [
    "# Sequences are sorted by size\n",
    "# Here the size of clusters - we are excluding the singletons here\n",
    "# You would change minsize to 1 if you wanted to include singletons\n",
    "# Or, you know, just not do this step.\n",
    "# But you should just get rid of them.\n",
    "!usearch -sortbysize data/finalQC.unique.usearch_names.fasta -output data/finalQC.unique_sorted.fasta -minsize 2"
   ]
  },
  {
   "cell_type": "code",
   "execution_count": null,
   "metadata": {
    "collapsed": false
   },
   "outputs": [],
   "source": [
    "# Checking data\n",
    "# You can see here, the first two sequences we saw above are now gone.\n",
    "!head data/finalQC.unique_sorted.fasta"
   ]
  },
  {
   "cell_type": "code",
   "execution_count": null,
   "metadata": {
    "collapsed": false
   },
   "outputs": [],
   "source": [
    "# This is the clustering command.\n",
    "# Default is 97% minimum ID.\n",
    "# Not recommended to use more than 97%.\n",
    "# Creates the centroids, or \"seeds\"\n",
    "# Then you can take them out\n",
    "!usearch -cluster_otus data/finalQC.unique_sorted.fasta -otus data/otus.fasta"
   ]
  },
  {
   "cell_type": "code",
   "execution_count": null,
   "metadata": {
    "collapsed": false
   },
   "outputs": [],
   "source": [
    "# Making another file\n",
    "# Figure this out (what is this?)\n",
    "# This is a script (fasta_number.py) that replaces fasta names with XXX1, XXX2, etc.\n",
    "# In our case, it is replacing the names with OTU.1, OTU.2, etc., and outputs it into a file called otusn.fasta\n",
    "!/opt/bioinfo/edgar_python_scripts/fasta_number.py data/otus.fasta OTU. > data/otusn.fasta"
   ]
  },
  {
   "cell_type": "code",
   "execution_count": null,
   "metadata": {
    "collapsed": false
   },
   "outputs": [],
   "source": [
    "!head data/otusn.fasta"
   ]
  },
  {
   "cell_type": "markdown",
   "metadata": {},
   "source": [
    "### Removing Chloroplast, Eukaryal, and Archaeal sequences"
   ]
  },
  {
   "cell_type": "code",
   "execution_count": null,
   "metadata": {
    "collapsed": false
   },
   "outputs": [],
   "source": [
    "# You do need to assign taxonomy in order to pull out the Euks., etc.\n",
    "# I could cp these files from the server to wherever I need them.\n",
    "# Input is your fasta file\n",
    "# Output is a fasta with taxonomy assinged (still working with unique seqs)\n",
    "# This didn't work first, because Chuck had to delete a \"jobs\" folder in the tmp directory.\n",
    "\n",
    "!parallel_assign_taxonomy_uclust.py \\\n",
    "-r /home/chantal/RNASIP/data/databases/Silva_111_post/no_ambiguous_bases_files/97_Silva_111_rep_set_no_ambig.fasta \\\n",
    "-t /home/chantal/RNASIP/data/databases/Silva_111_post/taxonomy/Silva_111_taxa_map_full.txt \\\n",
    "-O 10 \\\n",
    "-i data/otusn.fasta \\\n",
    "-o data/otusn_tax"
   ]
  },
  {
   "cell_type": "code",
   "execution_count": null,
   "metadata": {
    "collapsed": false
   },
   "outputs": [],
   "source": [
    "# This makes a file of what we want to remove\n",
    "# Could change this to pull out different groups.\n",
    "# These primers actually had good Archaeal targets - so, it would be okay to include them.\n",
    "!egrep \"Chloroplast|Eukaryota|Archaea|mitochondria\" \\\n",
    "data/otusn_tax/otusn_tax_assignments.txt \\\n",
    "| awk '{print $1}' > data/to_remove_tax.accnos"
   ]
  },
  {
   "cell_type": "code",
   "execution_count": null,
   "metadata": {
    "collapsed": false
   },
   "outputs": [],
   "source": [
    "# wc is number of lines of the taxa that will be removed\n",
    "!wc -l data/to_remove_tax.accnos"
   ]
  },
  {
   "cell_type": "code",
   "execution_count": null,
   "metadata": {
    "collapsed": false
   },
   "outputs": [],
   "source": [
    "# Looking at what you're removing\n",
    "!head data/to_remove_tax.accnos"
   ]
  },
  {
   "cell_type": "code",
   "execution_count": null,
   "metadata": {
    "collapsed": false
   },
   "outputs": [],
   "source": [
    "%%bash\n",
    "# Remove.seqs command will actually remove these taxa\n",
    "mothur \"#remove.seqs(fasta=data/otusn.fasta, \\\n",
    "accnos=data/to_remove_tax.accnos)\" #> /dev/null"
   ]
  },
  {
   "cell_type": "markdown",
   "metadata": {},
   "source": [
    "### Mapping Reads"
   ]
  },
  {
   "cell_type": "code",
   "execution_count": null,
   "metadata": {
    "collapsed": false
   },
   "outputs": [],
   "source": [
    "# Pulling out the sample identifier.\n",
    "# It is adding a portion to the finalQC file that has the barcode label.\n",
    "# Then we can use this later\n",
    "# Now we will see how these reads map to the defined centroids (after removing EuK, etc.)\n",
    "# Basically, we cut, cut, refined our fasta to make our OTU centroids.\n",
    "# THEN, we went back to our original QC'd total fasta file and will throw it all against these nicely defined seeds.\n",
    "# Anything that doesn't match, we won't keep.\n",
    "!awk -F\"_\" \\\n",
    "'BEGIN{OFS=\";\"}{ if ( substr($1,0,1) == \">\"){ print $0,\"barcodelabel=\",$1 } else { print $0 } }' \\\n",
    "data/finalQC.fasta | \\\n",
    "sed 's/;>//' > data/finalQC_usearchfmt.fasta"
   ]
  },
  {
   "cell_type": "code",
   "execution_count": null,
   "metadata": {
    "collapsed": false
   },
   "outputs": [],
   "source": [
    "!head data/finalQC_usearchfmt.fasta"
   ]
  },
  {
   "cell_type": "code",
   "execution_count": null,
   "metadata": {
    "collapsed": false
   },
   "outputs": [],
   "source": [
    "# This is where the actual OTUs are being assigned. We choose 97% sequence ID threshold here.\n",
    "# This might take a while - like 5 minutes\n",
    "# Depending ont he clustering algorithm, like pairwise... it would take, like, days on the same number of processors.\n",
    "# This is why usearch (centroid-based) is so much better\n",
    "# But is it more biologically relevant? ... maybe, maybe not.\n",
    "# Edgar is showing it's not that bad.\n",
    "\n",
    "# We take our total QC data (modified above to have the sample ID extracted)\n",
    "# We compare it to the otusn.pick.fasta database we made above\n",
    "# We produce a readmap.uc file which tells us how the reads from our finalQC file map to the otusn seed database.\n",
    "\n",
    "!usearch -usearch_global data/finalQC_usearchfmt.fasta \\\n",
    "-db data/otusn.fasta \\\n",
    "-strand plus -id 0.97 \\\n",
    "-uc data/readmap.uc \\\n",
    "-threads 15"
   ]
  },
  {
   "cell_type": "code",
   "execution_count": null,
   "metadata": {
    "collapsed": false
   },
   "outputs": [],
   "source": [
    "# Makes an OTU table\n",
    "# It will tell me the OTU ID, and then for all the samples, which OTUs it has sequences from.\n",
    "!python /opt/bioinfo/edgar_python_scripts/uc2otutab.py data/readmap.uc > data/otu_table.txt"
   ]
  },
  {
   "cell_type": "code",
   "execution_count": null,
   "metadata": {
    "collapsed": false
   },
   "outputs": [],
   "source": [
    "# Issues with biom table formatting\n",
    "!if [ -f data/otu_table.biom ]; then rm data/otu_table.biom; fi #This is to mitigate a biom bug\n",
    "!biom convert -i data/otu_table.txt -o data/otu_table.biom --table-type \"otu table\""
   ]
  },
  {
   "cell_type": "code",
   "execution_count": null,
   "metadata": {
    "collapsed": false
   },
   "outputs": [],
   "source": [
    "# Issues with biom table formatting\n",
    "!if [ -f data/otu_table_summary.txt ]; then rm data/otu_table_summary.txt; fi #This is to mitigate a biom bug\n",
    "!biom summarize-table -i data/otu_table.biom -o data/otu_table_summary.txt"
   ]
  },
  {
   "cell_type": "code",
   "execution_count": null,
   "metadata": {
    "collapsed": false
   },
   "outputs": [],
   "source": [
    "# This tells us the overall data info\n",
    "# Num obs = OTUs\n",
    "# total count = total seqs\n",
    "# Chantal had 50% reduction after QC.\n",
    "\n",
    "!cat data/otu_table_summary.txt\n",
    "\n"
   ]
  }
 ],
 "metadata": {
  "kernelspec": {
   "display_name": "Python 2",
   "language": "python",
   "name": "python2"
  },
  "language_info": {
   "codemirror_mode": {
    "name": "ipython",
    "version": 2
   },
   "file_extension": ".py",
   "mimetype": "text/x-python",
   "name": "python",
   "nbconvert_exporter": "python",
   "pygments_lexer": "ipython2",
   "version": "2.7.9"
  }
 },
 "nbformat": 4,
 "nbformat_minor": 0
}
