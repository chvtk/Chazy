{
 "cells": [
  {
   "cell_type": "markdown",
   "metadata": {},
   "source": [
    "##Discard sequences that exceed the max expected error threshold."
   ]
  },
  {
   "cell_type": "code",
   "execution_count": 1,
   "metadata": {
    "collapsed": false
   },
   "outputs": [
    {
     "name": "stdout",
     "output_type": "stream",
     "text": [
      "6914912\n",
      ">13C.NTH.D7.R4_Frac11_0 orig_name=M01032:312:000000000-AHDPJ:1:1101:11382:1126\n",
      "TTACGAGTTGGCCTTTGGCCCGGCTTTTGCCAACCCTGTGAACTTATATTACTGCCTTGGCGGCTTGCGTCTAACGCGCCGCCAGCGGCCTAAACGCACCCTGCTCAGACTAATCTGACTAATGATAACGAGTAAAAACTTTTGGCAACGGATCTCTTGGCTCTGGC\n",
      ">13C.PTH.D30.R4_Frac12_1 orig_name=M01032:312:000000000-AHDPJ:1:1101:16396:1126\n",
      "TTACGAGTTGGCCTTTGGCCCGGCTTTTGCCAACCCTGTGAACTTATATTACTGCCTTGGCGGCTTGCGTCTAACGCGCCGCCAGCGGCCTAAACGCACCCTGCTCAGACTAATCTGACTAATGATAACGAGTAAAAACTTTTGGCAACGGATCTCTTGGCTCTGGC\n",
      ">13C.PTH.D14.R4_Frac22_2 orig_name=M01032:312:000000000-AHDPJ:1:1101:12029:1127\n",
      "TTAAACTCATCTCAATTTATTACCTGTAACCCGCCTTAAACCGGGCACACCGGGATCGGGCCTGATAGACTTCACGGTTTGTCGGGTGGCAACCCAATAACCAAAACCTTTTTTAACTTTGTCCATTTCCCGGCTTCCGAAAGGTTGTCGGTTTTCCATCAAACACCATTACCGGTGGATGACTCGGCTCAGAC\n",
      ">13X.NTH.D3.R4_Frac25_3 orig_name=M01032:312:000000000-AHDPJ:1:1101:21231:1127\n",
      "TTATCGAGTTTTGACTGGGTTGTAGCTGGCCTTCCGAGGCATGTGCACGCCCTGCTCATCCACTCTACACCTGTGCACTTACTGTGGGTATCAGATCGTGAAGCGTGCTCTTTTACCGGAGCTTGTGAAGCGTGTCTGTGCCTGCGTTTATCACAAACACTATAAAGTATCAGAATGTGTATTACGATGTAACGCATCTATATACAACTTTCAGCAACGGATCTCTTGGCTCTCGC\n"
     ]
    }
   ],
   "source": [
    "%%bash\n",
    "\n",
    "nprocs=20\n",
    "maxee=1\n",
    "\n",
    "tmpdir1=`mktemp -d`\n",
    "trap \"rm -r $tmpdir1\" 1 2 3 15\n",
    "split -d -l 2000000 /var/seq_data/Chazy/ITS_SIP/Pool1/pear_merged_raw-2015-08-28.assembled.dmult.fastq $tmpdir1/Block\n",
    "\n",
    "tmpdir2=`mktemp -d`\n",
    "trap \"rm -r $tmpdir2\" 1 2 3 15\n",
    "ls $tmpdir1/Block?? | parallel --gnu -j $nprocs -k \"usearch -fastq_filter {} \\\n",
    "-fastq_maxee $maxee \\\n",
    "-fastaout $tmpdir2/{#}.fasta >/dev/null 2>&1 && cat $tmpdir2/{#}.fasta\" > data/tmp/maxee$maxee.fasta\n",
    "rm -r $tmpdir2 $tmpdir1\n",
    "\n",
    "grep -c \">\" data/tmp/maxee$maxee.fasta\n",
    "head -n 8 data/tmp/maxee$maxee.fasta"
   ]
  },
  {
   "cell_type": "markdown",
   "metadata": {},
   "source": [
    "##Remove seqs with N characters."
   ]
  },
  {
   "cell_type": "code",
   "execution_count": null,
   "metadata": {
    "collapsed": false
   },
   "outputs": [
    {
     "name": "stdout",
     "output_type": "stream",
     "text": [
      "6914912\n",
      "6914193\n"
     ]
    }
   ],
   "source": [
    "%%bash\n",
    "\n",
    "bioawk -c fastx '{if ($seq !~ /N/){print \">\" $name \" \" $4 \"\\n\" $seq}}' data/tmp/maxee1.fasta > \\\n",
    "data/tmp/maxee1.0.noN.fasta\n",
    "grep -c \">\" data/tmp/maxee1.fasta\n",
    "grep -c \">\" data/tmp/maxee1.0.noN.fasta"
   ]
  },
  {
   "cell_type": "markdown",
   "metadata": {},
   "source": [
    "### Removing homopolymers (larger than 8) and screen out sequences that don't align to amplicon region"
   ]
  },
  {
   "cell_type": "code",
   "execution_count": null,
   "metadata": {
    "collapsed": false
   },
   "outputs": [],
   "source": [
    "%%bash\n",
    "ionice -c2 -n3 \\\n",
    "mothur \"#unique.seqs(fasta=data/tmp/maxee1.0.noN.fasta)\" > /dev/null "
   ]
  },
  {
   "cell_type": "code",
   "execution_count": null,
   "metadata": {
    "collapsed": false
   },
   "outputs": [],
   "source": [
    "!grep -c \">\" data/tmp/maxee1.0.noN.fasta\n",
    "!grep -c \">\" data/tmp/maxee1.0.noN.unique.fasta"
   ]
  },
  {
   "cell_type": "code",
   "execution_count": null,
   "metadata": {
    "collapsed": false
   },
   "outputs": [],
   "source": [
    "%%bash\n",
    "mothur \"#summary.seqs(fasta=data/tmp/maxee1.0.noN.unique.fasta, \\\n",
    "processors=20)\""
   ]
  },
  {
   "cell_type": "code",
   "execution_count": 14,
   "metadata": {
    "collapsed": false
   },
   "outputs": [],
   "source": [
    "%%bash\n",
    "\n",
    "mothur \"#screen.seqs(fasta=data/tmp/maxee1.0.noN.fasta, \\\n",
    "processors=10, maxhomop=8)\" > /dev/null"
   ]
  },
  {
   "cell_type": "code",
   "execution_count": 18,
   "metadata": {
    "collapsed": false
   },
   "outputs": [
    {
     "name": "stdout",
     "output_type": "stream",
     "text": [
      "\u001b[H\u001b[2J\n",
      "\n",
      "\n",
      "\n",
      "\n",
      "\n",
      "mothur v.1.32.1\n",
      "Last updated: 10/16/2013\n",
      "\n",
      "by\n",
      "Patrick D. Schloss\n",
      "\n",
      "Department of Microbiology & Immunology\n",
      "University of Michigan\n",
      "pschloss@umich.edu\n",
      "http://www.mothur.org\n",
      "\n",
      "When using, please cite:\n",
      "Schloss, P.D., et al., Introducing mothur: Open-source, platform-independent, community-supported software for describing and comparing microbial communities. Appl Environ Microbiol, 2009. 75(23):7537-41.\n",
      "\n",
      "Distributed under the GNU General Public License\n",
      "\n",
      "Type 'help()' for information on the commands that are available\n",
      "\n",
      "Type 'quit()' to exit program\n",
      "\n",
      "\n",
      "\n",
      "mothur > summary.seqs(fasta=data/tmp/maxee1.0.noN.good.fasta)\n",
      "\n",
      "Using 1 processors.\n",
      "\n",
      "\t\tStart\tEnd\tNBases\tAmbigs\tPolymer\tNumSeqs\n",
      "Minimum:\t1\t50\t50\t0\t2\t1\n",
      "2.5%-tile:\t1\t86\t86\t0\t3\t249225\n",
      "25%-tile:\t1\t180\t180\t0\t4\t2492249\n",
      "Median: \t1\t201\t201\t0\t5\t4984497\n",
      "75%-tile:\t1\t210\t210\t0\t6\t7476745\n",
      "97.5%-tile:\t1\t303\t303\t0\t7\t9719768\n",
      "Maximum:\t1\t541\t541\t0\t8\t9968992\n",
      "Mean:\t1\t200.236\t200.236\t0\t5.10823\n",
      "# of Seqs:\t9968992\n",
      "\n",
      "Output File Names: \n",
      "data/tmp/maxee1.0.noN.good.summary\n",
      "\n",
      "\n",
      "mothur > quit()\n"
     ]
    }
   ],
   "source": [
    "%%bash\n",
    "\n",
    "mothur \"#summary.seqs(fasta=data/tmp/maxee1.0.noN.good.fasta)\""
   ]
  },
  {
   "cell_type": "code",
   "execution_count": 19,
   "metadata": {
    "collapsed": false
   },
   "outputs": [],
   "source": [
    "!sed '/>/! s/-//g;/>/! s/\\.//g' data/tmp/maxee1.0.noN.good.fasta > data/finalQC.fasta"
   ]
  },
  {
   "cell_type": "code",
   "execution_count": 20,
   "metadata": {
    "collapsed": false
   },
   "outputs": [
    {
     "name": "stdout",
     "output_type": "stream",
     "text": [
      ">D3013.24_0\r\n",
      "TTCATAATCAAAGTGTTTTTATGGCACTTTTAAAAAAATCCATATCCACCTTGTGTGCAATGTCATCTCACTGGAGGCCAGCTGGCTGTCAAAAGCCCGTTTGGTCACCTTTGGGATTTATATCTACTCAGAACTTTAGTGATTTTGTCTGAAAAATATTATGAATAACTTAATTCAAAATACAACTTTCAACAACGGATCTCTTGGCTCTCGC\r\n",
      ">D1412.20_1\r\n",
      "TTAACACTAATCCACACACTACTCAACCTAGCCTTTAGTTGCAGCCGAGGTGTTCGCCGTCAGGCAGCGCCGCAGCAGCAACCACAACAAACCTAATCTCAAAGGACTTTAACTAAGCCTTACCACAAAACCAAATTCTCAACGATGGATATCTTGGTTCCCAT\r\n",
      ">D1412.18_2\r\n",
      "TTACCGAGTTTACACCTCCCAAACCCCTGTGAACATACCTTAATGTTGCCTCGGCGGATCAGCCCGCGCCCCGTAAAACGGGACGGCCCGCCAGAGGACCCAAACTCTAATGTTTCTTATTGTAACTTCTGAGTAAAACAAACAAATAAATCAAAACTTTCAACAACGGATCTCTTGGTTCTGGC\r\n",
      ">D3012.10_3\r\n",
      "TTACAGAGTTGCAAAACTCCCTAAACCATTGTGAACGTTACCTAAACCGTTGCTTCGGCGGGCGGCCCCGGGGTTCTCCCCGGGAGCCCCCGGGCCCCATCCCGGGCGCCCGCCGGAGTTCACCAAACTATTGATAATTTAGGGCCTCTCTGAGTCTTCTGTACCGAATAAGTCAAAACTTTCAACAACGGATCTCTTGGTTCTGGC\r\n",
      ">D713.15_4\r\n",
      "TTACAGAGTTGCAAAACTCCCTAAACCATTGTGAACGTTACCTAAACCGTTGCTTCGGCGGGCGGCCCCGGGGTTTACCCCCCGGGCGCCCCTGGGCCCCACCGCGGGCGCCCGCCGGAGGTCACCAAACTCTTGATAATTTATGGCCTCTCTGAGTCTTCTGTACTGAATAAGTCAAAACTTTCAACAACGGATCTCTTGGTTCTGGC\r\n"
     ]
    }
   ],
   "source": [
    "!head data/finalQC.fasta"
   ]
  },
  {
   "cell_type": "markdown",
   "metadata": {},
   "source": [
    "#### Total Number of QC'd sequences"
   ]
  },
  {
   "cell_type": "code",
   "execution_count": 21,
   "metadata": {
    "collapsed": false
   },
   "outputs": [
    {
     "name": "stdout",
     "output_type": "stream",
     "text": [
      "9968992\r\n"
     ]
    }
   ],
   "source": [
    "!grep -c \">\" data/finalQC.fasta"
   ]
  }
 ],
 "metadata": {
  "kernelspec": {
   "display_name": "Python 2",
   "language": "python",
   "name": "python2"
  },
  "language_info": {
   "codemirror_mode": {
    "name": "ipython",
    "version": 2
   },
   "file_extension": ".py",
   "mimetype": "text/x-python",
   "name": "python",
   "nbconvert_exporter": "python",
   "pygments_lexer": "ipython2",
   "version": "2.7.10"
  }
 },
 "nbformat": 4,
 "nbformat_minor": 0
}
