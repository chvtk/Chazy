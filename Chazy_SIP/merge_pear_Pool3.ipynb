{
 "cells": [
  {
   "cell_type": "code",
   "execution_count": 1,
   "metadata": {
    "collapsed": false
   },
   "outputs": [],
   "source": [
    "import screed\n",
    "import matplotlib.pyplot as plt\n",
    "from mpltools import style\n",
    "import numpy as np\n",
    "from mpld3 import enable_notebook\n",
    "%matplotlib inline"
   ]
  },
  {
   "cell_type": "code",
   "execution_count": 2,
   "metadata": {
    "collapsed": false
   },
   "outputs": [],
   "source": [
    "enable_notebook()"
   ]
  },
  {
   "cell_type": "code",
   "execution_count": null,
   "metadata": {
    "collapsed": false
   },
   "outputs": [],
   "source": [
    "%%bash\n",
    "pear -j 10 -f /var/seq_data/Chazy/515_806_SIP/Pool3/Read1.fastq -r /var/seq_data/Chazy/515_806_SIP/Pool3/Read2.fastq -o /var/seq_data/Chazy/515_806_SIP/Pool3/pear_merged_raw-$(date +%F)"
   ]
  },
  {
   "cell_type": "code",
   "execution_count": null,
   "metadata": {
    "collapsed": false
   },
   "outputs": [],
   "source": [
    "import screed"
   ]
  },
  {
   "cell_type": "code",
   "execution_count": 6,
   "metadata": {
    "collapsed": false
   },
   "outputs": [
    {
     "data": {
      "text/plain": [
       "<ScreedDB, '/var/seq_data/Chazy/515_806_SIP/Pool3/pear_merged_raw-2015-08-16.assembled.fastq_screed'>"
      ]
     },
     "execution_count": 6,
     "metadata": {},
     "output_type": "execute_result"
    }
   ],
   "source": [
    "screed.read_fastq_sequences(\"/var/seq_data/Chazy/515_806_SIP/Pool3/pear_merged_raw-2015-08-16.assembled.fastq\")"
   ]
  },
  {
   "cell_type": "code",
   "execution_count": 7,
   "metadata": {
    "collapsed": false
   },
   "outputs": [],
   "source": [
    "fqdb = screed.ScreedDB(\"/var/seq_data/Chazy/515_806_SIP/Pool3/pear_merged_raw-2015-08-16.assembled.fastq_screed\")"
   ]
  },
  {
   "cell_type": "code",
   "execution_count": 8,
   "metadata": {
    "collapsed": false
   },
   "outputs": [],
   "source": [
    "record = fqdb[fqdb.keys()[0]]"
   ]
  },
  {
   "cell_type": "code",
   "execution_count": 9,
   "metadata": {
    "collapsed": false
   },
   "outputs": [
    {
     "data": {
      "text/plain": [
       "'TACGTAGGTGGCAAGCGTTGTCCGGATTTATTGGGTTTAAAGGGTGCGTAGGTGGTCAATTAAGTCAGTGCTGAAATATCCCGGCTTAACCGGGAGGGTGGCATTGATACTGATTGACTTGAGTGGAGTTGAGGTAGGCGGAATTGACGGTGTAGCGGTGAAATGCTTAGATATCGTCAAGAACACCGATAGCGAAGGCAGCTTACCAAGCTCTAACTGACACTGATGCACGAAAGTGTGGGGATCAAACAGG'"
      ]
     },
     "execution_count": 9,
     "metadata": {},
     "output_type": "execute_result"
    }
   ],
   "source": [
    "record[\"sequence\"]"
   ]
  },
  {
   "cell_type": "code",
   "execution_count": 10,
   "metadata": {
    "collapsed": false
   },
   "outputs": [],
   "source": [
    "lengths = []\n",
    "for read in fqdb.itervalues():\n",
    "    lengths.append((len(read[\"sequence\"])))"
   ]
  },
  {
   "cell_type": "code",
   "execution_count": 11,
   "metadata": {
    "collapsed": false
   },
   "outputs": [
    {
     "data": {
      "image/png": "[encoded data removed]",
      "text/html": [
       "\n",
       "\n",
       "<style>\n",
       "\n",
       "</style>\n",
       "\n",
       "<div id=\"fig_el101081396837916652325849032283\"></div>\n",
       "<script>\n",
       "function mpld3_load_lib(url, callback){\n",
       "  var s = document.createElement('script');\n",
       "  s.src = url;\n",
       "  s.async = true;\n",
       "  s.onreadystatechange = s.onload = callback;\n",
       "  s.onerror = function(){console.warn(\"failed to load library \" + url);};\n",
       "  document.getElementsByTagName(\"head\")[0].appendChild(s);\n",
       "}\n",
       "\n",
       "if(typeof(mpld3) !== \"undefined\" && mpld3._mpld3IsLoaded){\n",
       "   // already loaded: just create the figure\n",
       "   !function(mpld3){\n",
       "       \n",
       "       mpld3.draw_figure(\"fig_el101081396837916652325849032283\", {\"axes\": [{\"xlim\": [50.0, 500.0], \"yscale\": \"linear\", \"axesbg\": \"#E5E5E5\", \"texts\": [{\"v_baseline\": \"hanging\", \"h_anchor\": \"middle\", \"color\": \"#555555\", \"text\": \"Sequence Length, nt\", \"coordinates\": \"axes\", \"zorder\": 3, \"alpha\": 1, \"fontsize\": 12.0, \"position\": [0.5, -0.065710872162485043], \"rotation\": -0.0, \"id\": \"el10108139684523876880\"}, {\"v_baseline\": \"auto\", \"h_anchor\": \"middle\", \"color\": \"#555555\", \"text\": \"Count\", \"coordinates\": \"axes\", \"zorder\": 3, \"alpha\": 1, \"fontsize\": 12.0, \"position\": [-0.10152329749103942, 0.5], \"rotation\": -90.0, \"id\": \"el10108139682137193296\"}], \"zoomable\": true, \"images\": [], \"xdomain\": [50.0, 500.0], \"ylim\": [0.0, 7000000.0], \"paths\": [{\"edgecolor\": \"#EEEEEE\", \"facecolor\": \"#E24A33\", \"edgewidth\": 0.5, \"pathcodes\": [\"M\", \"L\", \"L\", \"L\", \"Z\"], \"yindex\": 1, \"coordinates\": \"data\", \"dasharray\": \"10,0\", \"zorder\": 1, \"alpha\": 1, \"xindex\": 0, \"data\": \"data01\", \"id\": \"el10108139683783109712\"}, {\"edgecolor\": \"#EEEEEE\", \"facecolor\": \"#E24A33\", \"edgewidth\": 0.5, \"pathcodes\": [\"M\", \"L\", \"L\", \"L\", \"Z\"], \"yindex\": 1, \"coordinates\": \"data\", \"dasharray\": \"10,0\", \"zorder\": 1, \"alpha\": 1, \"xindex\": 0, \"data\": \"data02\", \"id\": \"el10108139683783213840\"}, {\"edgecolor\": \"#EEEEEE\", \"facecolor\": \"#E24A33\", \"edgewidth\": 0.5, \"pathcodes\": [\"M\", \"L\", \"L\", \"L\", \"Z\"], \"yindex\": 1, \"coordinates\": \"data\", \"dasharray\": \"10,0\", \"zorder\": 1, \"alpha\": 1, \"xindex\": 0, \"data\": \"data03\", \"id\": \"el10108139683783215504\"}, {\"edgecolor\": \"#EEEEEE\", \"facecolor\": \"#E24A33\", \"edgewidth\": 0.5, \"pathcodes\": [\"M\", \"L\", \"L\", \"L\", \"Z\"], \"yindex\": 1, \"coordinates\": \"data\", \"dasharray\": \"10,0\", \"zorder\": 1, \"alpha\": 1, \"xindex\": 0, \"data\": \"data04\", \"id\": \"el10108139683783216784\"}, {\"edgecolor\": \"#EEEEEE\", \"facecolor\": \"#E24A33\", \"edgewidth\": 0.5, \"pathcodes\": [\"M\", \"L\", \"L\", \"L\", \"Z\"], \"yindex\": 1, \"coordinates\": \"data\", \"dasharray\": \"10,0\", \"zorder\": 1, \"alpha\": 1, \"xindex\": 0, \"data\": \"data05\", \"id\": \"el10108139683783694032\"}, {\"edgecolor\": \"#EEEEEE\", \"facecolor\": \"#E24A33\", \"edgewidth\": 0.5, \"pathcodes\": [\"M\", \"L\", \"L\", \"L\", \"Z\"], \"yindex\": 1, \"coordinates\": \"data\", \"dasharray\": \"10,0\", \"zorder\": 1, \"alpha\": 1, \"xindex\": 0, \"data\": \"data06\", \"id\": \"el10108139683783695696\"}, {\"edgecolor\": \"#EEEEEE\", \"facecolor\": \"#E24A33\", \"edgewidth\": 0.5, \"pathcodes\": [\"M\", \"L\", \"L\", \"L\", \"Z\"], \"yindex\": 1, \"coordinates\": \"data\", \"dasharray\": \"10,0\", \"zorder\": 1, \"alpha\": 1, \"xindex\": 0, \"data\": \"data07\", \"id\": \"el10108139683783771152\"}, {\"edgecolor\": \"#EEEEEE\", \"facecolor\": \"#E24A33\", \"edgewidth\": 0.5, \"pathcodes\": [\"M\", \"L\", \"L\", \"L\", \"Z\"], \"yindex\": 1, \"coordinates\": \"data\", \"dasharray\": \"10,0\", \"zorder\": 1, \"alpha\": 1, \"xindex\": 0, \"data\": \"data08\", \"id\": \"el10108139683783772816\"}, {\"edgecolor\": \"#EEEEEE\", \"facecolor\": \"#E24A33\", \"edgewidth\": 0.5, \"pathcodes\": [\"M\", \"L\", \"L\", \"L\", \"Z\"], \"yindex\": 1, \"coordinates\": \"data\", \"dasharray\": \"10,0\", \"zorder\": 1, \"alpha\": 1, \"xindex\": 0, \"data\": \"data09\", \"id\": \"el10108139683783774096\"}, {\"edgecolor\": \"#EEEEEE\", \"facecolor\": \"#E24A33\", \"edgewidth\": 0.5, \"pathcodes\": [\"M\", \"L\", \"L\", \"L\", \"Z\"], \"yindex\": 1, \"coordinates\": \"data\", \"dasharray\": \"10,0\", \"zorder\": 1, \"alpha\": 1, \"xindex\": 0, \"data\": \"data10\", \"id\": \"el10108139683783591888\"}, {\"edgecolor\": \"#EEEEEE\", \"facecolor\": \"#E24A33\", \"edgewidth\": 0.5, \"pathcodes\": [\"M\", \"L\", \"L\", \"L\", \"Z\"], \"yindex\": 1, \"coordinates\": \"data\", \"dasharray\": \"10,0\", \"zorder\": 1, \"alpha\": 1, \"xindex\": 0, \"data\": \"data11\", \"id\": \"el10108139683782810768\"}, {\"edgecolor\": \"#EEEEEE\", \"facecolor\": \"#E24A33\", \"edgewidth\": 0.5, \"pathcodes\": [\"M\", \"L\", \"L\", \"L\", \"Z\"], \"yindex\": 1, \"coordinates\": \"data\", \"dasharray\": \"10,0\", \"zorder\": 1, \"alpha\": 1, \"xindex\": 0, \"data\": \"data12\", \"id\": \"el10108139682137234192\"}, {\"edgecolor\": \"#EEEEEE\", \"facecolor\": \"#E24A33\", \"edgewidth\": 0.5, \"pathcodes\": [\"M\", \"L\", \"L\", \"L\", \"Z\"], \"yindex\": 1, \"coordinates\": \"data\", \"dasharray\": \"10,0\", \"zorder\": 1, \"alpha\": 1, \"xindex\": 0, \"data\": \"data13\", \"id\": \"el10108139682137098064\"}, {\"edgecolor\": \"#EEEEEE\", \"facecolor\": \"#E24A33\", \"edgewidth\": 0.5, \"pathcodes\": [\"M\", \"L\", \"L\", \"L\", \"Z\"], \"yindex\": 1, \"coordinates\": \"data\", \"dasharray\": \"10,0\", \"zorder\": 1, \"alpha\": 1, \"xindex\": 0, \"data\": \"data14\", \"id\": \"el10108139683783593936\"}, {\"edgecolor\": \"#EEEEEE\", \"facecolor\": \"#E24A33\", \"edgewidth\": 0.5, \"pathcodes\": [\"M\", \"L\", \"L\", \"L\", \"Z\"], \"yindex\": 1, \"coordinates\": \"data\", \"dasharray\": \"10,0\", \"zorder\": 1, \"alpha\": 1, \"xindex\": 0, \"data\": \"data15\", \"id\": \"el10108139683783669776\"}, {\"edgecolor\": \"#EEEEEE\", \"facecolor\": \"#E24A33\", \"edgewidth\": 0.5, \"pathcodes\": [\"M\", \"L\", \"L\", \"L\", \"Z\"], \"yindex\": 1, \"coordinates\": \"data\", \"dasharray\": \"10,0\", \"zorder\": 1, \"alpha\": 1, \"xindex\": 0, \"data\": \"data16\", \"id\": \"el10108139683783671440\"}, {\"edgecolor\": \"#EEEEEE\", \"facecolor\": \"#E24A33\", \"edgewidth\": 0.5, \"pathcodes\": [\"M\", \"L\", \"L\", \"L\", \"Z\"], \"yindex\": 1, \"coordinates\": \"data\", \"dasharray\": \"10,0\", \"zorder\": 1, \"alpha\": 1, \"xindex\": 0, \"data\": \"data17\", \"id\": \"el10108139683783578960\"}, {\"edgecolor\": \"#EEEEEE\", \"facecolor\": \"#E24A33\", \"edgewidth\": 0.5, \"pathcodes\": [\"M\", \"L\", \"L\", \"L\", \"Z\"], \"yindex\": 1, \"coordinates\": \"data\", \"dasharray\": \"10,0\", \"zorder\": 1, \"alpha\": 1, \"xindex\": 0, \"data\": \"data18\", \"id\": \"el10108139683783580624\"}, {\"edgecolor\": \"#EEEEEE\", \"facecolor\": \"#E24A33\", \"edgewidth\": 0.5, \"pathcodes\": [\"M\", \"L\", \"L\", \"L\", \"Z\"], \"yindex\": 1, \"coordinates\": \"data\", \"dasharray\": \"10,0\", \"zorder\": 1, \"alpha\": 1, \"xindex\": 0, \"data\": \"data19\", \"id\": \"el10108139682137186960\"}, {\"edgecolor\": \"#EEEEEE\", \"facecolor\": \"#E24A33\", \"edgewidth\": 0.5, \"pathcodes\": [\"M\", \"L\", \"L\", \"L\", \"Z\"], \"yindex\": 1, \"coordinates\": \"data\", \"dasharray\": \"10,0\", \"zorder\": 1, \"alpha\": 1, \"xindex\": 0, \"data\": \"data20\", \"id\": \"el10108139682137188624\"}, {\"edgecolor\": \"#EEEEEE\", \"facecolor\": \"#E24A33\", \"edgewidth\": 0.5, \"pathcodes\": [\"M\", \"L\", \"L\", \"L\", \"Z\"], \"yindex\": 1, \"coordinates\": \"data\", \"dasharray\": \"10,0\", \"zorder\": 1, \"alpha\": 1, \"xindex\": 0, \"data\": \"data21\", \"id\": \"el10108139682137190288\"}, {\"edgecolor\": \"#EEEEEE\", \"facecolor\": \"#E24A33\", \"edgewidth\": 0.5, \"pathcodes\": [\"M\", \"L\", \"L\", \"L\", \"Z\"], \"yindex\": 1, \"coordinates\": \"data\", \"dasharray\": \"10,0\", \"zorder\": 1, \"alpha\": 1, \"xindex\": 0, \"data\": \"data22\", \"id\": \"el10108139683782964816\"}, {\"edgecolor\": \"#EEEEEE\", \"facecolor\": \"#E24A33\", \"edgewidth\": 0.5, \"pathcodes\": [\"M\", \"L\", \"L\", \"L\", \"Z\"], \"yindex\": 1, \"coordinates\": \"data\", \"dasharray\": \"10,0\", \"zorder\": 1, \"alpha\": 1, \"xindex\": 0, \"data\": \"data23\", \"id\": \"el10108139683782966480\"}, {\"edgecolor\": \"#EEEEEE\", \"facecolor\": \"#E24A33\", \"edgewidth\": 0.5, \"pathcodes\": [\"M\", \"L\", \"L\", \"L\", \"Z\"], \"yindex\": 1, \"coordinates\": \"data\", \"dasharray\": \"10,0\", \"zorder\": 1, \"alpha\": 1, \"xindex\": 0, \"data\": \"data24\", \"id\": \"el10108139683783238544\"}, {\"edgecolor\": \"#EEEEEE\", \"facecolor\": \"#E24A33\", \"edgewidth\": 0.5, \"pathcodes\": [\"M\", \"L\", \"L\", \"L\", \"Z\"], \"yindex\": 1, \"coordinates\": \"data\", \"dasharray\": \"10,0\", \"zorder\": 1, \"alpha\": 1, \"xindex\": 0, \"data\": \"data25\", \"id\": \"el10108139683783240208\"}, {\"edgecolor\": \"#EEEEEE\", \"facecolor\": \"#E24A33\", \"edgewidth\": 0.5, \"pathcodes\": [\"M\", \"L\", \"L\", \"L\", \"Z\"], \"yindex\": 1, \"coordinates\": \"data\", \"dasharray\": \"10,0\", \"zorder\": 1, \"alpha\": 1, \"xindex\": 0, \"data\": \"data26\", \"id\": \"el10108139683783241488\"}, {\"edgecolor\": \"#EEEEEE\", \"facecolor\": \"#E24A33\", \"edgewidth\": 0.5, \"pathcodes\": [\"M\", \"L\", \"L\", \"L\", \"Z\"], \"yindex\": 1, \"coordinates\": \"data\", \"dasharray\": \"10,0\", \"zorder\": 1, \"alpha\": 1, \"xindex\": 0, \"data\": \"data27\", \"id\": \"el10108139683783440208\"}, {\"edgecolor\": \"#EEEEEE\", \"facecolor\": \"#E24A33\", \"edgewidth\": 0.5, \"pathcodes\": [\"M\", \"L\", \"L\", \"L\", \"Z\"], \"yindex\": 1, \"coordinates\": \"data\", \"dasharray\": \"10,0\", \"zorder\": 1, \"alpha\": 1, \"xindex\": 0, \"data\": \"data28\", \"id\": \"el10108139683783441872\"}, {\"edgecolor\": \"#EEEEEE\", \"facecolor\": \"#E24A33\", \"edgewidth\": 0.5, \"pathcodes\": [\"M\", \"L\", \"L\", \"L\", \"Z\"], \"yindex\": 1, \"coordinates\": \"data\", \"dasharray\": \"10,0\", \"zorder\": 1, \"alpha\": 1, \"xindex\": 0, \"data\": \"data29\", \"id\": \"el10108139683783566480\"}, {\"edgecolor\": \"#EEEEEE\", \"facecolor\": \"#E24A33\", \"edgewidth\": 0.5, \"pathcodes\": [\"M\", \"L\", \"L\", \"L\", \"Z\"], \"yindex\": 1, \"coordinates\": \"data\", \"dasharray\": \"10,0\", \"zorder\": 1, \"alpha\": 1, \"xindex\": 0, \"data\": \"data30\", \"id\": \"el10108139683783568144\"}, {\"edgecolor\": \"#EEEEEE\", \"facecolor\": \"#E24A33\", \"edgewidth\": 0.5, \"pathcodes\": [\"M\", \"L\", \"L\", \"L\", \"Z\"], \"yindex\": 1, \"coordinates\": \"data\", \"dasharray\": \"10,0\", \"zorder\": 1, \"alpha\": 1, \"xindex\": 0, \"data\": \"data31\", \"id\": \"el10108139683783311824\"}, {\"edgecolor\": \"#EEEEEE\", \"facecolor\": \"#E24A33\", \"edgewidth\": 0.5, \"pathcodes\": [\"M\", \"L\", \"L\", \"L\", \"Z\"], \"yindex\": 1, \"coordinates\": \"data\", \"dasharray\": \"10,0\", \"zorder\": 1, \"alpha\": 1, \"xindex\": 0, \"data\": \"data32\", \"id\": \"el10108139683783313488\"}, {\"edgecolor\": \"#EEEEEE\", \"facecolor\": \"#E24A33\", \"edgewidth\": 0.5, \"pathcodes\": [\"M\", \"L\", \"L\", \"L\", \"Z\"], \"yindex\": 1, \"coordinates\": \"data\", \"dasharray\": \"10,0\", \"zorder\": 1, \"alpha\": 1, \"xindex\": 0, \"data\": \"data33\", \"id\": \"el10108139683783315152\"}, {\"edgecolor\": \"#EEEEEE\", \"facecolor\": \"#E24A33\", \"edgewidth\": 0.5, \"pathcodes\": [\"M\", \"L\", \"L\", \"L\", \"Z\"], \"yindex\": 1, \"coordinates\": \"data\", \"dasharray\": \"10,0\", \"zorder\": 1, \"alpha\": 1, \"xindex\": 0, \"data\": \"data34\", \"id\": \"el10108139683783406992\"}, {\"edgecolor\": \"#EEEEEE\", \"facecolor\": \"#E24A33\", \"edgewidth\": 0.5, \"pathcodes\": [\"M\", \"L\", \"L\", \"L\", \"Z\"], \"yindex\": 1, \"coordinates\": \"data\", \"dasharray\": \"10,0\", \"zorder\": 1, \"alpha\": 1, \"xindex\": 0, \"data\": \"data35\", \"id\": \"el10108139683783408656\"}, {\"edgecolor\": \"#EEEEEE\", \"facecolor\": \"#E24A33\", \"edgewidth\": 0.5, \"pathcodes\": [\"M\", \"L\", \"L\", \"L\", \"Z\"], \"yindex\": 1, \"coordinates\": \"data\", \"dasharray\": \"10,0\", \"zorder\": 1, \"alpha\": 1, \"xindex\": 0, \"data\": \"data36\", \"id\": \"el10108139683783496400\"}, {\"edgecolor\": \"#EEEEEE\", \"facecolor\": \"#E24A33\", \"edgewidth\": 0.5, \"pathcodes\": [\"M\", \"L\", \"L\", \"L\", \"Z\"], \"yindex\": 1, \"coordinates\": \"data\", \"dasharray\": \"10,0\", \"zorder\": 1, \"alpha\": 1, \"xindex\": 0, \"data\": \"data37\", \"id\": \"el10108139683783498064\"}, {\"edgecolor\": \"#EEEEEE\", \"facecolor\": \"#E24A33\", \"edgewidth\": 0.5, \"pathcodes\": [\"M\", \"L\", \"L\", \"L\", \"Z\"], \"yindex\": 1, \"coordinates\": \"data\", \"dasharray\": \"10,0\", \"zorder\": 1, \"alpha\": 1, \"xindex\": 0, \"data\": \"data38\", \"id\": \"el10108139683783499728\"}, {\"edgecolor\": \"#EEEEEE\", \"facecolor\": \"#E24A33\", \"edgewidth\": 0.5, \"pathcodes\": [\"M\", \"L\", \"L\", \"L\", \"Z\"], \"yindex\": 1, \"coordinates\": \"data\", \"dasharray\": \"10,0\", \"zorder\": 1, \"alpha\": 1, \"xindex\": 0, \"data\": \"data39\", \"id\": \"el10108139683784029840\"}, {\"edgecolor\": \"#EEEEEE\", \"facecolor\": \"#E24A33\", \"edgewidth\": 0.5, \"pathcodes\": [\"M\", \"L\", \"L\", \"L\", \"Z\"], \"yindex\": 1, \"coordinates\": \"data\", \"dasharray\": \"10,0\", \"zorder\": 1, \"alpha\": 1, \"xindex\": 0, \"data\": \"data40\", \"id\": \"el10108139683784031504\"}, {\"edgecolor\": \"#EEEEEE\", \"facecolor\": \"#E24A33\", \"edgewidth\": 0.5, \"pathcodes\": [\"M\", \"L\", \"L\", \"L\", \"Z\"], \"yindex\": 1, \"coordinates\": \"data\", \"dasharray\": \"10,0\", \"zorder\": 1, \"alpha\": 1, \"xindex\": 0, \"data\": \"data41\", \"id\": \"el10108139683783963600\"}, {\"edgecolor\": \"#EEEEEE\", \"facecolor\": \"#E24A33\", \"edgewidth\": 0.5, \"pathcodes\": [\"M\", \"L\", \"L\", \"L\", \"Z\"], \"yindex\": 1, \"coordinates\": \"data\", \"dasharray\": \"10,0\", \"zorder\": 1, \"alpha\": 1, \"xindex\": 0, \"data\": \"data42\", \"id\": \"el10108139683783965264\"}, {\"edgecolor\": \"#EEEEEE\", \"facecolor\": \"#E24A33\", \"edgewidth\": 0.5, \"pathcodes\": [\"M\", \"L\", \"L\", \"L\", \"Z\"], \"yindex\": 1, \"coordinates\": \"data\", \"dasharray\": \"10,0\", \"zorder\": 1, \"alpha\": 1, \"xindex\": 0, \"data\": \"data43\", \"id\": \"el10108139683783966544\"}, {\"edgecolor\": \"#EEEEEE\", \"facecolor\": \"#E24A33\", \"edgewidth\": 0.5, \"pathcodes\": [\"M\", \"L\", \"L\", \"L\", \"Z\"], \"yindex\": 1, \"coordinates\": \"data\", \"dasharray\": \"10,0\", \"zorder\": 1, \"alpha\": 1, \"xindex\": 0, \"data\": \"data44\", \"id\": \"el10108139683784046480\"}, {\"edgecolor\": \"#EEEEEE\", \"facecolor\": \"#E24A33\", \"edgewidth\": 0.5, \"pathcodes\": [\"M\", \"L\", \"L\", \"L\", \"Z\"], \"yindex\": 1, \"coordinates\": \"data\", \"dasharray\": \"10,0\", \"zorder\": 1, \"alpha\": 1, \"xindex\": 0, \"data\": \"data45\", \"id\": \"el10108139683784048144\"}, {\"edgecolor\": \"#EEEEEE\", \"facecolor\": \"#E24A33\", \"edgewidth\": 0.5, \"pathcodes\": [\"M\", \"L\", \"L\", \"L\", \"Z\"], \"yindex\": 1, \"coordinates\": \"data\", \"dasharray\": \"10,0\", \"zorder\": 1, \"alpha\": 1, \"xindex\": 0, \"data\": \"data46\", \"id\": \"el10108139683783902416\"}, {\"edgecolor\": \"#EEEEEE\", \"facecolor\": \"#E24A33\", \"edgewidth\": 0.5, \"pathcodes\": [\"M\", \"L\", \"L\", \"L\", \"Z\"], \"yindex\": 1, \"coordinates\": \"data\", \"dasharray\": \"10,0\", \"zorder\": 1, \"alpha\": 1, \"xindex\": 0, \"data\": \"data47\", \"id\": \"el10108139683783904080\"}, {\"edgecolor\": \"#EEEEEE\", \"facecolor\": \"#E24A33\", \"edgewidth\": 0.5, \"pathcodes\": [\"M\", \"L\", \"L\", \"L\", \"Z\"], \"yindex\": 1, \"coordinates\": \"data\", \"dasharray\": \"10,0\", \"zorder\": 1, \"alpha\": 1, \"xindex\": 0, \"data\": \"data48\", \"id\": \"el10108139683783930384\"}, {\"edgecolor\": \"#EEEEEE\", \"facecolor\": \"#E24A33\", \"edgewidth\": 0.5, \"pathcodes\": [\"M\", \"L\", \"L\", \"L\", \"Z\"], \"yindex\": 1, \"coordinates\": \"data\", \"dasharray\": \"10,0\", \"zorder\": 1, \"alpha\": 1, \"xindex\": 0, \"data\": \"data49\", \"id\": \"el10108139683783932048\"}, {\"edgecolor\": \"#EEEEEE\", \"facecolor\": \"#E24A33\", \"edgewidth\": 0.5, \"pathcodes\": [\"M\", \"L\", \"L\", \"L\", \"Z\"], \"yindex\": 1, \"coordinates\": \"data\", \"dasharray\": \"10,0\", \"zorder\": 1, \"alpha\": 1, \"xindex\": 0, \"data\": \"data50\", \"id\": \"el10108139683783933712\"}], \"sharey\": [], \"sharex\": [], \"axesbgalpha\": null, \"axes\": [{\"scale\": \"linear\", \"tickformat\": null, \"grid\": {\"color\": \"#FFFFFF\", \"alpha\": 1.0, \"dasharray\": \"10,0\", \"gridOn\": true}, \"fontsize\": 10.0, \"position\": \"bottom\", \"nticks\": 10, \"tickvalues\": null}, {\"scale\": \"linear\", \"tickformat\": null, \"grid\": {\"color\": \"#FFFFFF\", \"alpha\": 1.0, \"dasharray\": \"10,0\", \"gridOn\": true}, \"fontsize\": 10.0, \"position\": \"left\", \"nticks\": 8, \"tickvalues\": null}], \"lines\": [], \"markers\": [], \"id\": \"el10108139683791529680\", \"ydomain\": [0.0, 7000000.0], \"collections\": [], \"xscale\": \"linear\", \"bbox\": [0.125, 0.125, 0.77500000000000002, 0.77500000000000002]}], \"height\": 480.0, \"width\": 800.0, \"plugins\": [{\"type\": \"reset\"}, {\"enabled\": false, \"button\": true, \"type\": \"zoom\"}, {\"enabled\": false, \"button\": true, \"type\": \"boxzoom\"}], \"data\": {\"data42\": [[412.44000000000005, 0.0], [421.28000000000003, 0.0], [421.28000000000003, 61929.0], [412.44000000000005, 61929.0]], \"data43\": [[421.28, 0.0], [430.12, 0.0], [430.12, 53658.0], [421.28, 53658.0]], \"data40\": [[394.76, 0.0], [403.6, 0.0], [403.6, 77760.0], [394.76, 77760.0]], \"data41\": [[403.6, 0.0], [412.44, 0.0], [412.44, 69651.0], [403.6, 69651.0]], \"data46\": [[447.80000000000007, 0.0], [456.64000000000004, 0.0], [456.64000000000004, 20264.0], [447.80000000000007, 20264.0]], \"data47\": [[456.64, 0.0], [465.48, 0.0], [465.48, 11338.0], [456.64, 11338.0]], \"data44\": [[430.12, 0.0], [438.96, 0.0], [438.96, 40367.0], [430.12, 40367.0]], \"data45\": [[438.96, 0.0], [447.8, 0.0], [447.8, 33927.0], [438.96, 33927.0]], \"data48\": [[465.48, 0.0], [474.32, 0.0], [474.32, 5636.0], [465.48, 5636.0]], \"data49\": [[474.32000000000005, 0.0], [483.16, 0.0], [483.16, 2643.0], [474.32000000000005, 2643.0]], \"data50\": [[483.15999999999997, 0.0], [492.0, 0.0], [492.0, 1671.0], [483.15999999999997, 1671.0]], \"data28\": [[288.68000000000006, 0.0], [297.52000000000004, 0.0], [297.52000000000004, 9347.0], [288.68000000000006, 9347.0]], \"data06\": [[94.20000000000002, 0.0], [103.04, 0.0], [103.04, 1293.0], [94.20000000000002, 1293.0]], \"data08\": [[111.88, 0.0], [120.72, 0.0], [120.72, 2088.0], [111.88, 2088.0]], \"data09\": [[120.72, 0.0], [129.56, 0.0], [129.56, 2612.0], [120.72, 2612.0]], \"data20\": [[217.95999999999998, 0.0], [226.79999999999998, 0.0], [226.79999999999998, 4797.0], [217.95999999999998, 4797.0]], \"data21\": [[226.8, 0.0], [235.64, 0.0], [235.64, 4426.0], [226.8, 4426.0]], \"data22\": [[235.64, 0.0], [244.48, 0.0], [244.48, 4915.0], [235.64, 4915.0]], \"data05\": [[85.36, 0.0], [94.2, 0.0], [94.2, 2513.0], [85.36, 2513.0]], \"data02\": [[58.84, 0.0], [67.68, 0.0], [67.68, 338.0], [58.84, 338.0]], \"data04\": [[76.52, 0.0], [85.36, 0.0], [85.36, 661.0], [76.52, 661.0]], \"data26\": [[271.0, 0.0], [279.84000000000003, 0.0], [279.84000000000003, 13936.0], [271.0, 13936.0]], \"data01\": [[50.0, 0.0], [58.84, 0.0], [58.84, 228.0], [50.0, 228.0]], \"data23\": [[244.47999999999996, 0.0], [253.31999999999996, 0.0], [253.31999999999996, 6013277.0], [244.47999999999996, 6013277.0]], \"data24\": [[253.32000000000002, 0.0], [262.15999999999997, 0.0], [262.15999999999997, 370120.0], [253.32000000000002, 370120.0]], \"data03\": [[67.68, 0.0], [76.52, 0.0], [76.52, 436.0], [67.68, 436.0]], \"data27\": [[279.84000000000003, 0.0], [288.68, 0.0], [288.68, 7464.0], [279.84000000000003, 7464.0]], \"data07\": [[103.03999999999999, 0.0], [111.88, 0.0], [111.88, 1298.0], [103.03999999999999, 1298.0]], \"data37\": [[368.24, 0.0], [377.08, 0.0], [377.08, 108400.0], [368.24, 108400.0]], \"data36\": [[359.4, 0.0], [368.24, 0.0], [368.24, 121877.0], [359.4, 121877.0]], \"data35\": [[350.56000000000006, 0.0], [359.40000000000003, 0.0], [359.40000000000003, 131058.0], [350.56000000000006, 131058.0]], \"data34\": [[341.71999999999997, 0.0], [350.56, 0.0], [350.56, 123766.0], [341.71999999999997, 123766.0]], \"data25\": [[262.15999999999997, 0.0], [271.0, 0.0], [271.0, 6648.0], [262.15999999999997, 6648.0]], \"data32\": [[324.0400000000001, 0.0], [332.88000000000005, 0.0], [332.88000000000005, 25057.0], [324.0400000000001, 25057.0]], \"data31\": [[315.2, 0.0], [324.04, 0.0], [324.04, 10770.0], [315.2, 10770.0]], \"data30\": [[306.36, 0.0], [315.2, 0.0], [315.2, 7352.0], [306.36, 7352.0]], \"data39\": [[385.9200000000001, 0.0], [394.76000000000005, 0.0], [394.76000000000005, 89188.0], [385.9200000000001, 89188.0]], \"data38\": [[377.08, 0.0], [385.92, 0.0], [385.92, 87762.0], [377.08, 87762.0]], \"data19\": [[209.12, 0.0], [217.96, 0.0], [217.96, 3666.0], [209.12, 3666.0]], \"data18\": [[200.27999999999997, 0.0], [209.11999999999998, 0.0], [209.11999999999998, 4333.0], [200.27999999999997, 4333.0]], \"data15\": [[173.76, 0.0], [182.6, 0.0], [182.6, 3624.0], [173.76, 3624.0]], \"data14\": [[164.92000000000002, 0.0], [173.76, 0.0], [173.76, 3675.0], [164.92000000000002, 3675.0]], \"data17\": [[191.44, 0.0], [200.28, 0.0], [200.28, 4046.0], [191.44, 4046.0]], \"data16\": [[182.59999999999997, 0.0], [191.43999999999997, 0.0], [191.43999999999997, 3904.0], [182.59999999999997, 3904.0]], \"data11\": [[138.39999999999998, 0.0], [147.23999999999998, 0.0], [147.23999999999998, 3211.0], [138.39999999999998, 3211.0]], \"data10\": [[129.56, 0.0], [138.4, 0.0], [138.4, 2977.0], [129.56, 2977.0]], \"data13\": [[156.07999999999998, 0.0], [164.92000000000002, 0.0], [164.92000000000002, 2970.0], [156.07999999999998, 2970.0]], \"data12\": [[147.24, 0.0], [156.07999999999998, 0.0], [156.07999999999998, 3187.0], [147.24, 3187.0]], \"data29\": [[297.52, 0.0], [306.36, 0.0], [306.36, 6542.0], [297.52, 6542.0]], \"data33\": [[332.88, 0.0], [341.71999999999997, 0.0], [341.71999999999997, 75210.0], [332.88, 75210.0]]}, \"id\": \"el10108139683791665232\"});\n",
       "   }(mpld3);\n",
       "}else if(typeof define === \"function\" && define.amd){\n",
       "   // require.js is available: use it to load d3/mpld3\n",
       "   require.config({paths: {d3: \"https://mpld3.github.io/js/d3.v3.min\"}});\n",
       "   require([\"d3\"], function(d3){\n",
       "      window.d3 = d3;\n",
       "      mpld3_load_lib(\"https://mpld3.github.io/js/mpld3.v0.2.js\", function(){\n",
       "         \n",
       "         mpld3.draw_figure(\"fig_el101081396837916652325849032283\", {\"axes\": [{\"xlim\": [50.0, 500.0], \"yscale\": \"linear\", \"axesbg\": \"#E5E5E5\", \"texts\": [{\"v_baseline\": \"hanging\", \"h_anchor\": \"middle\", \"color\": \"#555555\", \"text\": \"Sequence Length, nt\", \"coordinates\": \"axes\", \"zorder\": 3, \"alpha\": 1, \"fontsize\": 12.0, \"position\": [0.5, -0.065710872162485043], \"rotation\": -0.0, \"id\": \"el10108139684523876880\"}, {\"v_baseline\": \"auto\", \"h_anchor\": \"middle\", \"color\": \"#555555\", \"text\": \"Count\", \"coordinates\": \"axes\", \"zorder\": 3, \"alpha\": 1, \"fontsize\": 12.0, \"position\": [-0.10152329749103942, 0.5], \"rotation\": -90.0, \"id\": \"el10108139682137193296\"}], \"zoomable\": true, \"images\": [], \"xdomain\": [50.0, 500.0], \"ylim\": [0.0, 7000000.0], \"paths\": [{\"edgecolor\": \"#EEEEEE\", \"facecolor\": \"#E24A33\", \"edgewidth\": 0.5, \"pathcodes\": [\"M\", \"L\", \"L\", \"L\", \"Z\"], \"yindex\": 1, \"coordinates\": \"data\", \"dasharray\": \"10,0\", \"zorder\": 1, \"alpha\": 1, \"xindex\": 0, \"data\": \"data01\", \"id\": \"el10108139683783109712\"}, {\"edgecolor\": \"#EEEEEE\", \"facecolor\": \"#E24A33\", \"edgewidth\": 0.5, \"pathcodes\": [\"M\", \"L\", \"L\", \"L\", \"Z\"], \"yindex\": 1, \"coordinates\": \"data\", \"dasharray\": \"10,0\", \"zorder\": 1, \"alpha\": 1, \"xindex\": 0, \"data\": \"data02\", \"id\": \"el10108139683783213840\"}, {\"edgecolor\": \"#EEEEEE\", \"facecolor\": \"#E24A33\", \"edgewidth\": 0.5, \"pathcodes\": [\"M\", \"L\", \"L\", \"L\", \"Z\"], \"yindex\": 1, \"coordinates\": \"data\", \"dasharray\": \"10,0\", \"zorder\": 1, \"alpha\": 1, \"xindex\": 0, \"data\": \"data03\", \"id\": \"el10108139683783215504\"}, {\"edgecolor\": \"#EEEEEE\", \"facecolor\": \"#E24A33\", \"edgewidth\": 0.5, \"pathcodes\": [\"M\", \"L\", \"L\", \"L\", \"Z\"], \"yindex\": 1, \"coordinates\": \"data\", \"dasharray\": \"10,0\", \"zorder\": 1, \"alpha\": 1, \"xindex\": 0, \"data\": \"data04\", \"id\": \"el10108139683783216784\"}, {\"edgecolor\": \"#EEEEEE\", \"facecolor\": \"#E24A33\", \"edgewidth\": 0.5, \"pathcodes\": [\"M\", \"L\", \"L\", \"L\", \"Z\"], \"yindex\": 1, \"coordinates\": \"data\", \"dasharray\": \"10,0\", \"zorder\": 1, \"alpha\": 1, \"xindex\": 0, \"data\": \"data05\", \"id\": \"el10108139683783694032\"}, {\"edgecolor\": \"#EEEEEE\", \"facecolor\": \"#E24A33\", \"edgewidth\": 0.5, \"pathcodes\": [\"M\", \"L\", \"L\", \"L\", \"Z\"], \"yindex\": 1, \"coordinates\": \"data\", \"dasharray\": \"10,0\", \"zorder\": 1, \"alpha\": 1, \"xindex\": 0, \"data\": \"data06\", \"id\": \"el10108139683783695696\"}, {\"edgecolor\": \"#EEEEEE\", \"facecolor\": \"#E24A33\", \"edgewidth\": 0.5, \"pathcodes\": [\"M\", \"L\", \"L\", \"L\", \"Z\"], \"yindex\": 1, \"coordinates\": \"data\", \"dasharray\": \"10,0\", \"zorder\": 1, \"alpha\": 1, \"xindex\": 0, \"data\": \"data07\", \"id\": \"el10108139683783771152\"}, {\"edgecolor\": \"#EEEEEE\", \"facecolor\": \"#E24A33\", \"edgewidth\": 0.5, \"pathcodes\": [\"M\", \"L\", \"L\", \"L\", \"Z\"], \"yindex\": 1, \"coordinates\": \"data\", \"dasharray\": \"10,0\", \"zorder\": 1, \"alpha\": 1, \"xindex\": 0, \"data\": \"data08\", \"id\": \"el10108139683783772816\"}, {\"edgecolor\": \"#EEEEEE\", \"facecolor\": \"#E24A33\", \"edgewidth\": 0.5, \"pathcodes\": [\"M\", \"L\", \"L\", \"L\", \"Z\"], \"yindex\": 1, \"coordinates\": \"data\", \"dasharray\": \"10,0\", \"zorder\": 1, \"alpha\": 1, \"xindex\": 0, \"data\": \"data09\", \"id\": \"el10108139683783774096\"}, {\"edgecolor\": \"#EEEEEE\", \"facecolor\": \"#E24A33\", \"edgewidth\": 0.5, \"pathcodes\": [\"M\", \"L\", \"L\", \"L\", \"Z\"], \"yindex\": 1, \"coordinates\": \"data\", \"dasharray\": \"10,0\", \"zorder\": 1, \"alpha\": 1, \"xindex\": 0, \"data\": \"data10\", \"id\": \"el10108139683783591888\"}, {\"edgecolor\": \"#EEEEEE\", \"facecolor\": \"#E24A33\", \"edgewidth\": 0.5, \"pathcodes\": [\"M\", \"L\", \"L\", \"L\", \"Z\"], \"yindex\": 1, \"coordinates\": \"data\", \"dasharray\": \"10,0\", \"zorder\": 1, \"alpha\": 1, \"xindex\": 0, \"data\": \"data11\", \"id\": \"el10108139683782810768\"}, {\"edgecolor\": \"#EEEEEE\", \"facecolor\": \"#E24A33\", \"edgewidth\": 0.5, \"pathcodes\": [\"M\", \"L\", \"L\", \"L\", \"Z\"], \"yindex\": 1, \"coordinates\": \"data\", \"dasharray\": \"10,0\", \"zorder\": 1, \"alpha\": 1, \"xindex\": 0, \"data\": \"data12\", \"id\": \"el10108139682137234192\"}, {\"edgecolor\": \"#EEEEEE\", \"facecolor\": \"#E24A33\", \"edgewidth\": 0.5, \"pathcodes\": [\"M\", \"L\", \"L\", \"L\", \"Z\"], \"yindex\": 1, \"coordinates\": \"data\", \"dasharray\": \"10,0\", \"zorder\": 1, \"alpha\": 1, \"xindex\": 0, \"data\": \"data13\", \"id\": \"el10108139682137098064\"}, {\"edgecolor\": \"#EEEEEE\", \"facecolor\": \"#E24A33\", \"edgewidth\": 0.5, \"pathcodes\": [\"M\", \"L\", \"L\", \"L\", \"Z\"], \"yindex\": 1, \"coordinates\": \"data\", \"dasharray\": \"10,0\", \"zorder\": 1, \"alpha\": 1, \"xindex\": 0, \"data\": \"data14\", \"id\": \"el10108139683783593936\"}, {\"edgecolor\": \"#EEEEEE\", \"facecolor\": \"#E24A33\", \"edgewidth\": 0.5, \"pathcodes\": [\"M\", \"L\", \"L\", \"L\", \"Z\"], \"yindex\": 1, \"coordinates\": \"data\", \"dasharray\": \"10,0\", \"zorder\": 1, \"alpha\": 1, \"xindex\": 0, \"data\": \"data15\", \"id\": \"el10108139683783669776\"}, {\"edgecolor\": \"#EEEEEE\", \"facecolor\": \"#E24A33\", \"edgewidth\": 0.5, \"pathcodes\": [\"M\", \"L\", \"L\", \"L\", \"Z\"], \"yindex\": 1, \"coordinates\": \"data\", \"dasharray\": \"10,0\", \"zorder\": 1, \"alpha\": 1, \"xindex\": 0, \"data\": \"data16\", \"id\": \"el10108139683783671440\"}, {\"edgecolor\": \"#EEEEEE\", \"facecolor\": \"#E24A33\", \"edgewidth\": 0.5, \"pathcodes\": [\"M\", \"L\", \"L\", \"L\", \"Z\"], \"yindex\": 1, \"coordinates\": \"data\", \"dasharray\": \"10,0\", \"zorder\": 1, \"alpha\": 1, \"xindex\": 0, \"data\": \"data17\", \"id\": \"el10108139683783578960\"}, {\"edgecolor\": \"#EEEEEE\", \"facecolor\": \"#E24A33\", \"edgewidth\": 0.5, \"pathcodes\": [\"M\", \"L\", \"L\", \"L\", \"Z\"], \"yindex\": 1, \"coordinates\": \"data\", \"dasharray\": \"10,0\", \"zorder\": 1, \"alpha\": 1, \"xindex\": 0, \"data\": \"data18\", \"id\": \"el10108139683783580624\"}, {\"edgecolor\": \"#EEEEEE\", \"facecolor\": \"#E24A33\", \"edgewidth\": 0.5, \"pathcodes\": [\"M\", \"L\", \"L\", \"L\", \"Z\"], \"yindex\": 1, \"coordinates\": \"data\", \"dasharray\": \"10,0\", \"zorder\": 1, \"alpha\": 1, \"xindex\": 0, \"data\": \"data19\", \"id\": \"el10108139682137186960\"}, {\"edgecolor\": \"#EEEEEE\", \"facecolor\": \"#E24A33\", \"edgewidth\": 0.5, \"pathcodes\": [\"M\", \"L\", \"L\", \"L\", \"Z\"], \"yindex\": 1, \"coordinates\": \"data\", \"dasharray\": \"10,0\", \"zorder\": 1, \"alpha\": 1, \"xindex\": 0, \"data\": \"data20\", \"id\": \"el10108139682137188624\"}, {\"edgecolor\": \"#EEEEEE\", \"facecolor\": \"#E24A33\", \"edgewidth\": 0.5, \"pathcodes\": [\"M\", \"L\", \"L\", \"L\", \"Z\"], \"yindex\": 1, \"coordinates\": \"data\", \"dasharray\": \"10,0\", \"zorder\": 1, \"alpha\": 1, \"xindex\": 0, \"data\": \"data21\", \"id\": \"el10108139682137190288\"}, {\"edgecolor\": \"#EEEEEE\", \"facecolor\": \"#E24A33\", \"edgewidth\": 0.5, \"pathcodes\": [\"M\", \"L\", \"L\", \"L\", \"Z\"], \"yindex\": 1, \"coordinates\": \"data\", \"dasharray\": \"10,0\", \"zorder\": 1, \"alpha\": 1, \"xindex\": 0, \"data\": \"data22\", \"id\": \"el10108139683782964816\"}, {\"edgecolor\": \"#EEEEEE\", \"facecolor\": \"#E24A33\", \"edgewidth\": 0.5, \"pathcodes\": [\"M\", \"L\", \"L\", \"L\", \"Z\"], \"yindex\": 1, \"coordinates\": \"data\", \"dasharray\": \"10,0\", \"zorder\": 1, \"alpha\": 1, \"xindex\": 0, \"data\": \"data23\", \"id\": \"el10108139683782966480\"}, {\"edgecolor\": \"#EEEEEE\", \"facecolor\": \"#E24A33\", \"edgewidth\": 0.5, \"pathcodes\": [\"M\", \"L\", \"L\", \"L\", \"Z\"], \"yindex\": 1, \"coordinates\": \"data\", \"dasharray\": \"10,0\", \"zorder\": 1, \"alpha\": 1, \"xindex\": 0, \"data\": \"data24\", \"id\": \"el10108139683783238544\"}, {\"edgecolor\": \"#EEEEEE\", \"facecolor\": \"#E24A33\", \"edgewidth\": 0.5, \"pathcodes\": [\"M\", \"L\", \"L\", \"L\", \"Z\"], \"yindex\": 1, \"coordinates\": \"data\", \"dasharray\": \"10,0\", \"zorder\": 1, \"alpha\": 1, \"xindex\": 0, \"data\": \"data25\", \"id\": \"el10108139683783240208\"}, {\"edgecolor\": \"#EEEEEE\", \"facecolor\": \"#E24A33\", \"edgewidth\": 0.5, \"pathcodes\": [\"M\", \"L\", \"L\", \"L\", \"Z\"], \"yindex\": 1, \"coordinates\": \"data\", \"dasharray\": \"10,0\", \"zorder\": 1, \"alpha\": 1, \"xindex\": 0, \"data\": \"data26\", \"id\": \"el10108139683783241488\"}, {\"edgecolor\": \"#EEEEEE\", \"facecolor\": \"#E24A33\", \"edgewidth\": 0.5, \"pathcodes\": [\"M\", \"L\", \"L\", \"L\", \"Z\"], \"yindex\": 1, \"coordinates\": \"data\", \"dasharray\": \"10,0\", \"zorder\": 1, \"alpha\": 1, \"xindex\": 0, \"data\": \"data27\", \"id\": \"el10108139683783440208\"}, {\"edgecolor\": \"#EEEEEE\", \"facecolor\": \"#E24A33\", \"edgewidth\": 0.5, \"pathcodes\": [\"M\", \"L\", \"L\", \"L\", \"Z\"], \"yindex\": 1, \"coordinates\": \"data\", \"dasharray\": \"10,0\", \"zorder\": 1, \"alpha\": 1, \"xindex\": 0, \"data\": \"data28\", \"id\": \"el10108139683783441872\"}, {\"edgecolor\": \"#EEEEEE\", \"facecolor\": \"#E24A33\", \"edgewidth\": 0.5, \"pathcodes\": [\"M\", \"L\", \"L\", \"L\", \"Z\"], \"yindex\": 1, \"coordinates\": \"data\", \"dasharray\": \"10,0\", \"zorder\": 1, \"alpha\": 1, \"xindex\": 0, \"data\": \"data29\", \"id\": \"el10108139683783566480\"}, {\"edgecolor\": \"#EEEEEE\", \"facecolor\": \"#E24A33\", \"edgewidth\": 0.5, \"pathcodes\": [\"M\", \"L\", \"L\", \"L\", \"Z\"], \"yindex\": 1, \"coordinates\": \"data\", \"dasharray\": \"10,0\", \"zorder\": 1, \"alpha\": 1, \"xindex\": 0, \"data\": \"data30\", \"id\": \"el10108139683783568144\"}, {\"edgecolor\": \"#EEEEEE\", \"facecolor\": \"#E24A33\", \"edgewidth\": 0.5, \"pathcodes\": [\"M\", \"L\", \"L\", \"L\", \"Z\"], \"yindex\": 1, \"coordinates\": \"data\", \"dasharray\": \"10,0\", \"zorder\": 1, \"alpha\": 1, \"xindex\": 0, \"data\": \"data31\", \"id\": \"el10108139683783311824\"}, {\"edgecolor\": \"#EEEEEE\", \"facecolor\": \"#E24A33\", \"edgewidth\": 0.5, \"pathcodes\": [\"M\", \"L\", \"L\", \"L\", \"Z\"], \"yindex\": 1, \"coordinates\": \"data\", \"dasharray\": \"10,0\", \"zorder\": 1, \"alpha\": 1, \"xindex\": 0, \"data\": \"data32\", \"id\": \"el10108139683783313488\"}, {\"edgecolor\": \"#EEEEEE\", \"facecolor\": \"#E24A33\", \"edgewidth\": 0.5, \"pathcodes\": [\"M\", \"L\", \"L\", \"L\", \"Z\"], \"yindex\": 1, \"coordinates\": \"data\", \"dasharray\": \"10,0\", \"zorder\": 1, \"alpha\": 1, \"xindex\": 0, \"data\": \"data33\", \"id\": \"el10108139683783315152\"}, {\"edgecolor\": \"#EEEEEE\", \"facecolor\": \"#E24A33\", \"edgewidth\": 0.5, \"pathcodes\": [\"M\", \"L\", \"L\", \"L\", \"Z\"], \"yindex\": 1, \"coordinates\": \"data\", \"dasharray\": \"10,0\", \"zorder\": 1, \"alpha\": 1, \"xindex\": 0, \"data\": \"data34\", \"id\": \"el10108139683783406992\"}, {\"edgecolor\": \"#EEEEEE\", \"facecolor\": \"#E24A33\", \"edgewidth\": 0.5, \"pathcodes\": [\"M\", \"L\", \"L\", \"L\", \"Z\"], \"yindex\": 1, \"coordinates\": \"data\", \"dasharray\": \"10,0\", \"zorder\": 1, \"alpha\": 1, \"xindex\": 0, \"data\": \"data35\", \"id\": \"el10108139683783408656\"}, {\"edgecolor\": \"#EEEEEE\", \"facecolor\": \"#E24A33\", \"edgewidth\": 0.5, \"pathcodes\": [\"M\", \"L\", \"L\", \"L\", \"Z\"], \"yindex\": 1, \"coordinates\": \"data\", \"dasharray\": \"10,0\", \"zorder\": 1, \"alpha\": 1, \"xindex\": 0, \"data\": \"data36\", \"id\": \"el10108139683783496400\"}, {\"edgecolor\": \"#EEEEEE\", \"facecolor\": \"#E24A33\", \"edgewidth\": 0.5, \"pathcodes\": [\"M\", \"L\", \"L\", \"L\", \"Z\"], \"yindex\": 1, \"coordinates\": \"data\", \"dasharray\": \"10,0\", \"zorder\": 1, \"alpha\": 1, \"xindex\": 0, \"data\": \"data37\", \"id\": \"el10108139683783498064\"}, {\"edgecolor\": \"#EEEEEE\", \"facecolor\": \"#E24A33\", \"edgewidth\": 0.5, \"pathcodes\": [\"M\", \"L\", \"L\", \"L\", \"Z\"], \"yindex\": 1, \"coordinates\": \"data\", \"dasharray\": \"10,0\", \"zorder\": 1, \"alpha\": 1, \"xindex\": 0, \"data\": \"data38\", \"id\": \"el10108139683783499728\"}, {\"edgecolor\": \"#EEEEEE\", \"facecolor\": \"#E24A33\", \"edgewidth\": 0.5, \"pathcodes\": [\"M\", \"L\", \"L\", \"L\", \"Z\"], \"yindex\": 1, \"coordinates\": \"data\", \"dasharray\": \"10,0\", \"zorder\": 1, \"alpha\": 1, \"xindex\": 0, \"data\": \"data39\", \"id\": \"el10108139683784029840\"}, {\"edgecolor\": \"#EEEEEE\", \"facecolor\": \"#E24A33\", \"edgewidth\": 0.5, \"pathcodes\": [\"M\", \"L\", \"L\", \"L\", \"Z\"], \"yindex\": 1, \"coordinates\": \"data\", \"dasharray\": \"10,0\", \"zorder\": 1, \"alpha\": 1, \"xindex\": 0, \"data\": \"data40\", \"id\": \"el10108139683784031504\"}, {\"edgecolor\": \"#EEEEEE\", \"facecolor\": \"#E24A33\", \"edgewidth\": 0.5, \"pathcodes\": [\"M\", \"L\", \"L\", \"L\", \"Z\"], \"yindex\": 1, \"coordinates\": \"data\", \"dasharray\": \"10,0\", \"zorder\": 1, \"alpha\": 1, \"xindex\": 0, \"data\": \"data41\", \"id\": \"el10108139683783963600\"}, {\"edgecolor\": \"#EEEEEE\", \"facecolor\": \"#E24A33\", \"edgewidth\": 0.5, \"pathcodes\": [\"M\", \"L\", \"L\", \"L\", \"Z\"], \"yindex\": 1, \"coordinates\": \"data\", \"dasharray\": \"10,0\", \"zorder\": 1, \"alpha\": 1, \"xindex\": 0, \"data\": \"data42\", \"id\": \"el10108139683783965264\"}, {\"edgecolor\": \"#EEEEEE\", \"facecolor\": \"#E24A33\", \"edgewidth\": 0.5, \"pathcodes\": [\"M\", \"L\", \"L\", \"L\", \"Z\"], \"yindex\": 1, \"coordinates\": \"data\", \"dasharray\": \"10,0\", \"zorder\": 1, \"alpha\": 1, \"xindex\": 0, \"data\": \"data43\", \"id\": \"el10108139683783966544\"}, {\"edgecolor\": \"#EEEEEE\", \"facecolor\": \"#E24A33\", \"edgewidth\": 0.5, \"pathcodes\": [\"M\", \"L\", \"L\", \"L\", \"Z\"], \"yindex\": 1, \"coordinates\": \"data\", \"dasharray\": \"10,0\", \"zorder\": 1, \"alpha\": 1, \"xindex\": 0, \"data\": \"data44\", \"id\": \"el10108139683784046480\"}, {\"edgecolor\": \"#EEEEEE\", \"facecolor\": \"#E24A33\", \"edgewidth\": 0.5, \"pathcodes\": [\"M\", \"L\", \"L\", \"L\", \"Z\"], \"yindex\": 1, \"coordinates\": \"data\", \"dasharray\": \"10,0\", \"zorder\": 1, \"alpha\": 1, \"xindex\": 0, \"data\": \"data45\", \"id\": \"el10108139683784048144\"}, {\"edgecolor\": \"#EEEEEE\", \"facecolor\": \"#E24A33\", \"edgewidth\": 0.5, \"pathcodes\": [\"M\", \"L\", \"L\", \"L\", \"Z\"], \"yindex\": 1, \"coordinates\": \"data\", \"dasharray\": \"10,0\", \"zorder\": 1, \"alpha\": 1, \"xindex\": 0, \"data\": \"data46\", \"id\": \"el10108139683783902416\"}, {\"edgecolor\": \"#EEEEEE\", \"facecolor\": \"#E24A33\", \"edgewidth\": 0.5, \"pathcodes\": [\"M\", \"L\", \"L\", \"L\", \"Z\"], \"yindex\": 1, \"coordinates\": \"data\", \"dasharray\": \"10,0\", \"zorder\": 1, \"alpha\": 1, \"xindex\": 0, \"data\": \"data47\", \"id\": \"el10108139683783904080\"}, {\"edgecolor\": \"#EEEEEE\", \"facecolor\": \"#E24A33\", \"edgewidth\": 0.5, \"pathcodes\": [\"M\", \"L\", \"L\", \"L\", \"Z\"], \"yindex\": 1, \"coordinates\": \"data\", \"dasharray\": \"10,0\", \"zorder\": 1, \"alpha\": 1, \"xindex\": 0, \"data\": \"data48\", \"id\": \"el10108139683783930384\"}, {\"edgecolor\": \"#EEEEEE\", \"facecolor\": \"#E24A33\", \"edgewidth\": 0.5, \"pathcodes\": [\"M\", \"L\", \"L\", \"L\", \"Z\"], \"yindex\": 1, \"coordinates\": \"data\", \"dasharray\": \"10,0\", \"zorder\": 1, \"alpha\": 1, \"xindex\": 0, \"data\": \"data49\", \"id\": \"el10108139683783932048\"}, {\"edgecolor\": \"#EEEEEE\", \"facecolor\": \"#E24A33\", \"edgewidth\": 0.5, \"pathcodes\": [\"M\", \"L\", \"L\", \"L\", \"Z\"], \"yindex\": 1, \"coordinates\": \"data\", \"dasharray\": \"10,0\", \"zorder\": 1, \"alpha\": 1, \"xindex\": 0, \"data\": \"data50\", \"id\": \"el10108139683783933712\"}], \"sharey\": [], \"sharex\": [], \"axesbgalpha\": null, \"axes\": [{\"scale\": \"linear\", \"tickformat\": null, \"grid\": {\"color\": \"#FFFFFF\", \"alpha\": 1.0, \"dasharray\": \"10,0\", \"gridOn\": true}, \"fontsize\": 10.0, \"position\": \"bottom\", \"nticks\": 10, \"tickvalues\": null}, {\"scale\": \"linear\", \"tickformat\": null, \"grid\": {\"color\": \"#FFFFFF\", \"alpha\": 1.0, \"dasharray\": \"10,0\", \"gridOn\": true}, \"fontsize\": 10.0, \"position\": \"left\", \"nticks\": 8, \"tickvalues\": null}], \"lines\": [], \"markers\": [], \"id\": \"el10108139683791529680\", \"ydomain\": [0.0, 7000000.0], \"collections\": [], \"xscale\": \"linear\", \"bbox\": [0.125, 0.125, 0.77500000000000002, 0.77500000000000002]}], \"height\": 480.0, \"width\": 800.0, \"plugins\": [{\"type\": \"reset\"}, {\"enabled\": false, \"button\": true, \"type\": \"zoom\"}, {\"enabled\": false, \"button\": true, \"type\": \"boxzoom\"}], \"data\": {\"data42\": [[412.44000000000005, 0.0], [421.28000000000003, 0.0], [421.28000000000003, 61929.0], [412.44000000000005, 61929.0]], \"data43\": [[421.28, 0.0], [430.12, 0.0], [430.12, 53658.0], [421.28, 53658.0]], \"data40\": [[394.76, 0.0], [403.6, 0.0], [403.6, 77760.0], [394.76, 77760.0]], \"data41\": [[403.6, 0.0], [412.44, 0.0], [412.44, 69651.0], [403.6, 69651.0]], \"data46\": [[447.80000000000007, 0.0], [456.64000000000004, 0.0], [456.64000000000004, 20264.0], [447.80000000000007, 20264.0]], \"data47\": [[456.64, 0.0], [465.48, 0.0], [465.48, 11338.0], [456.64, 11338.0]], \"data44\": [[430.12, 0.0], [438.96, 0.0], [438.96, 40367.0], [430.12, 40367.0]], \"data45\": [[438.96, 0.0], [447.8, 0.0], [447.8, 33927.0], [438.96, 33927.0]], \"data48\": [[465.48, 0.0], [474.32, 0.0], [474.32, 5636.0], [465.48, 5636.0]], \"data49\": [[474.32000000000005, 0.0], [483.16, 0.0], [483.16, 2643.0], [474.32000000000005, 2643.0]], \"data50\": [[483.15999999999997, 0.0], [492.0, 0.0], [492.0, 1671.0], [483.15999999999997, 1671.0]], \"data28\": [[288.68000000000006, 0.0], [297.52000000000004, 0.0], [297.52000000000004, 9347.0], [288.68000000000006, 9347.0]], \"data06\": [[94.20000000000002, 0.0], [103.04, 0.0], [103.04, 1293.0], [94.20000000000002, 1293.0]], \"data08\": [[111.88, 0.0], [120.72, 0.0], [120.72, 2088.0], [111.88, 2088.0]], \"data09\": [[120.72, 0.0], [129.56, 0.0], [129.56, 2612.0], [120.72, 2612.0]], \"data20\": [[217.95999999999998, 0.0], [226.79999999999998, 0.0], [226.79999999999998, 4797.0], [217.95999999999998, 4797.0]], \"data21\": [[226.8, 0.0], [235.64, 0.0], [235.64, 4426.0], [226.8, 4426.0]], \"data22\": [[235.64, 0.0], [244.48, 0.0], [244.48, 4915.0], [235.64, 4915.0]], \"data05\": [[85.36, 0.0], [94.2, 0.0], [94.2, 2513.0], [85.36, 2513.0]], \"data02\": [[58.84, 0.0], [67.68, 0.0], [67.68, 338.0], [58.84, 338.0]], \"data04\": [[76.52, 0.0], [85.36, 0.0], [85.36, 661.0], [76.52, 661.0]], \"data26\": [[271.0, 0.0], [279.84000000000003, 0.0], [279.84000000000003, 13936.0], [271.0, 13936.0]], \"data01\": [[50.0, 0.0], [58.84, 0.0], [58.84, 228.0], [50.0, 228.0]], \"data23\": [[244.47999999999996, 0.0], [253.31999999999996, 0.0], [253.31999999999996, 6013277.0], [244.47999999999996, 6013277.0]], \"data24\": [[253.32000000000002, 0.0], [262.15999999999997, 0.0], [262.15999999999997, 370120.0], [253.32000000000002, 370120.0]], \"data03\": [[67.68, 0.0], [76.52, 0.0], [76.52, 436.0], [67.68, 436.0]], \"data27\": [[279.84000000000003, 0.0], [288.68, 0.0], [288.68, 7464.0], [279.84000000000003, 7464.0]], \"data07\": [[103.03999999999999, 0.0], [111.88, 0.0], [111.88, 1298.0], [103.03999999999999, 1298.0]], \"data37\": [[368.24, 0.0], [377.08, 0.0], [377.08, 108400.0], [368.24, 108400.0]], \"data36\": [[359.4, 0.0], [368.24, 0.0], [368.24, 121877.0], [359.4, 121877.0]], \"data35\": [[350.56000000000006, 0.0], [359.40000000000003, 0.0], [359.40000000000003, 131058.0], [350.56000000000006, 131058.0]], \"data34\": [[341.71999999999997, 0.0], [350.56, 0.0], [350.56, 123766.0], [341.71999999999997, 123766.0]], \"data25\": [[262.15999999999997, 0.0], [271.0, 0.0], [271.0, 6648.0], [262.15999999999997, 6648.0]], \"data32\": [[324.0400000000001, 0.0], [332.88000000000005, 0.0], [332.88000000000005, 25057.0], [324.0400000000001, 25057.0]], \"data31\": [[315.2, 0.0], [324.04, 0.0], [324.04, 10770.0], [315.2, 10770.0]], \"data30\": [[306.36, 0.0], [315.2, 0.0], [315.2, 7352.0], [306.36, 7352.0]], \"data39\": [[385.9200000000001, 0.0], [394.76000000000005, 0.0], [394.76000000000005, 89188.0], [385.9200000000001, 89188.0]], \"data38\": [[377.08, 0.0], [385.92, 0.0], [385.92, 87762.0], [377.08, 87762.0]], \"data19\": [[209.12, 0.0], [217.96, 0.0], [217.96, 3666.0], [209.12, 3666.0]], \"data18\": [[200.27999999999997, 0.0], [209.11999999999998, 0.0], [209.11999999999998, 4333.0], [200.27999999999997, 4333.0]], \"data15\": [[173.76, 0.0], [182.6, 0.0], [182.6, 3624.0], [173.76, 3624.0]], \"data14\": [[164.92000000000002, 0.0], [173.76, 0.0], [173.76, 3675.0], [164.92000000000002, 3675.0]], \"data17\": [[191.44, 0.0], [200.28, 0.0], [200.28, 4046.0], [191.44, 4046.0]], \"data16\": [[182.59999999999997, 0.0], [191.43999999999997, 0.0], [191.43999999999997, 3904.0], [182.59999999999997, 3904.0]], \"data11\": [[138.39999999999998, 0.0], [147.23999999999998, 0.0], [147.23999999999998, 3211.0], [138.39999999999998, 3211.0]], \"data10\": [[129.56, 0.0], [138.4, 0.0], [138.4, 2977.0], [129.56, 2977.0]], \"data13\": [[156.07999999999998, 0.0], [164.92000000000002, 0.0], [164.92000000000002, 2970.0], [156.07999999999998, 2970.0]], \"data12\": [[147.24, 0.0], [156.07999999999998, 0.0], [156.07999999999998, 3187.0], [147.24, 3187.0]], \"data29\": [[297.52, 0.0], [306.36, 0.0], [306.36, 6542.0], [297.52, 6542.0]], \"data33\": [[332.88, 0.0], [341.71999999999997, 0.0], [341.71999999999997, 75210.0], [332.88, 75210.0]]}, \"id\": \"el10108139683791665232\"});\n",
       "      });\n",
       "    });\n",
       "}else{\n",
       "    // require.js not available: dynamically load d3 & mpld3\n",
       "    mpld3_load_lib(\"https://mpld3.github.io/js/d3.v3.min.js\", function(){\n",
       "         mpld3_load_lib(\"https://mpld3.github.io/js/mpld3.v0.2.js\", function(){\n",
       "                 \n",
       "                 mpld3.draw_figure(\"fig_el101081396837916652325849032283\", {\"axes\": [{\"xlim\": [50.0, 500.0], \"yscale\": \"linear\", \"axesbg\": \"#E5E5E5\", \"texts\": [{\"v_baseline\": \"hanging\", \"h_anchor\": \"middle\", \"color\": \"#555555\", \"text\": \"Sequence Length, nt\", \"coordinates\": \"axes\", \"zorder\": 3, \"alpha\": 1, \"fontsize\": 12.0, \"position\": [0.5, -0.065710872162485043], \"rotation\": -0.0, \"id\": \"el10108139684523876880\"}, {\"v_baseline\": \"auto\", \"h_anchor\": \"middle\", \"color\": \"#555555\", \"text\": \"Count\", \"coordinates\": \"axes\", \"zorder\": 3, \"alpha\": 1, \"fontsize\": 12.0, \"position\": [-0.10152329749103942, 0.5], \"rotation\": -90.0, \"id\": \"el10108139682137193296\"}], \"zoomable\": true, \"images\": [], \"xdomain\": [50.0, 500.0], \"ylim\": [0.0, 7000000.0], \"paths\": [{\"edgecolor\": \"#EEEEEE\", \"facecolor\": \"#E24A33\", \"edgewidth\": 0.5, \"pathcodes\": [\"M\", \"L\", \"L\", \"L\", \"Z\"], \"yindex\": 1, \"coordinates\": \"data\", \"dasharray\": \"10,0\", \"zorder\": 1, \"alpha\": 1, \"xindex\": 0, \"data\": \"data01\", \"id\": \"el10108139683783109712\"}, {\"edgecolor\": \"#EEEEEE\", \"facecolor\": \"#E24A33\", \"edgewidth\": 0.5, \"pathcodes\": [\"M\", \"L\", \"L\", \"L\", \"Z\"], \"yindex\": 1, \"coordinates\": \"data\", \"dasharray\": \"10,0\", \"zorder\": 1, \"alpha\": 1, \"xindex\": 0, \"data\": \"data02\", \"id\": \"el10108139683783213840\"}, {\"edgecolor\": \"#EEEEEE\", \"facecolor\": \"#E24A33\", \"edgewidth\": 0.5, \"pathcodes\": [\"M\", \"L\", \"L\", \"L\", \"Z\"], \"yindex\": 1, \"coordinates\": \"data\", \"dasharray\": \"10,0\", \"zorder\": 1, \"alpha\": 1, \"xindex\": 0, \"data\": \"data03\", \"id\": \"el10108139683783215504\"}, {\"edgecolor\": \"#EEEEEE\", \"facecolor\": \"#E24A33\", \"edgewidth\": 0.5, \"pathcodes\": [\"M\", \"L\", \"L\", \"L\", \"Z\"], \"yindex\": 1, \"coordinates\": \"data\", \"dasharray\": \"10,0\", \"zorder\": 1, \"alpha\": 1, \"xindex\": 0, \"data\": \"data04\", \"id\": \"el10108139683783216784\"}, {\"edgecolor\": \"#EEEEEE\", \"facecolor\": \"#E24A33\", \"edgewidth\": 0.5, \"pathcodes\": [\"M\", \"L\", \"L\", \"L\", \"Z\"], \"yindex\": 1, \"coordinates\": \"data\", \"dasharray\": \"10,0\", \"zorder\": 1, \"alpha\": 1, \"xindex\": 0, \"data\": \"data05\", \"id\": \"el10108139683783694032\"}, {\"edgecolor\": \"#EEEEEE\", \"facecolor\": \"#E24A33\", \"edgewidth\": 0.5, \"pathcodes\": [\"M\", \"L\", \"L\", \"L\", \"Z\"], \"yindex\": 1, \"coordinates\": \"data\", \"dasharray\": \"10,0\", \"zorder\": 1, \"alpha\": 1, \"xindex\": 0, \"data\": \"data06\", \"id\": \"el10108139683783695696\"}, {\"edgecolor\": \"#EEEEEE\", \"facecolor\": \"#E24A33\", \"edgewidth\": 0.5, \"pathcodes\": [\"M\", \"L\", \"L\", \"L\", \"Z\"], \"yindex\": 1, \"coordinates\": \"data\", \"dasharray\": \"10,0\", \"zorder\": 1, \"alpha\": 1, \"xindex\": 0, \"data\": \"data07\", \"id\": \"el10108139683783771152\"}, {\"edgecolor\": \"#EEEEEE\", \"facecolor\": \"#E24A33\", \"edgewidth\": 0.5, \"pathcodes\": [\"M\", \"L\", \"L\", \"L\", \"Z\"], \"yindex\": 1, \"coordinates\": \"data\", \"dasharray\": \"10,0\", \"zorder\": 1, \"alpha\": 1, \"xindex\": 0, \"data\": \"data08\", \"id\": \"el10108139683783772816\"}, {\"edgecolor\": \"#EEEEEE\", \"facecolor\": \"#E24A33\", \"edgewidth\": 0.5, \"pathcodes\": [\"M\", \"L\", \"L\", \"L\", \"Z\"], \"yindex\": 1, \"coordinates\": \"data\", \"dasharray\": \"10,0\", \"zorder\": 1, \"alpha\": 1, \"xindex\": 0, \"data\": \"data09\", \"id\": \"el10108139683783774096\"}, {\"edgecolor\": \"#EEEEEE\", \"facecolor\": \"#E24A33\", \"edgewidth\": 0.5, \"pathcodes\": [\"M\", \"L\", \"L\", \"L\", \"Z\"], \"yindex\": 1, \"coordinates\": \"data\", \"dasharray\": \"10,0\", \"zorder\": 1, \"alpha\": 1, \"xindex\": 0, \"data\": \"data10\", \"id\": \"el10108139683783591888\"}, {\"edgecolor\": \"#EEEEEE\", \"facecolor\": \"#E24A33\", \"edgewidth\": 0.5, \"pathcodes\": [\"M\", \"L\", \"L\", \"L\", \"Z\"], \"yindex\": 1, \"coordinates\": \"data\", \"dasharray\": \"10,0\", \"zorder\": 1, \"alpha\": 1, \"xindex\": 0, \"data\": \"data11\", \"id\": \"el10108139683782810768\"}, {\"edgecolor\": \"#EEEEEE\", \"facecolor\": \"#E24A33\", \"edgewidth\": 0.5, \"pathcodes\": [\"M\", \"L\", \"L\", \"L\", \"Z\"], \"yindex\": 1, \"coordinates\": \"data\", \"dasharray\": \"10,0\", \"zorder\": 1, \"alpha\": 1, \"xindex\": 0, \"data\": \"data12\", \"id\": \"el10108139682137234192\"}, {\"edgecolor\": \"#EEEEEE\", \"facecolor\": \"#E24A33\", \"edgewidth\": 0.5, \"pathcodes\": [\"M\", \"L\", \"L\", \"L\", \"Z\"], \"yindex\": 1, \"coordinates\": \"data\", \"dasharray\": \"10,0\", \"zorder\": 1, \"alpha\": 1, \"xindex\": 0, \"data\": \"data13\", \"id\": \"el10108139682137098064\"}, {\"edgecolor\": \"#EEEEEE\", \"facecolor\": \"#E24A33\", \"edgewidth\": 0.5, \"pathcodes\": [\"M\", \"L\", \"L\", \"L\", \"Z\"], \"yindex\": 1, \"coordinates\": \"data\", \"dasharray\": \"10,0\", \"zorder\": 1, \"alpha\": 1, \"xindex\": 0, \"data\": \"data14\", \"id\": \"el10108139683783593936\"}, {\"edgecolor\": \"#EEEEEE\", \"facecolor\": \"#E24A33\", \"edgewidth\": 0.5, \"pathcodes\": [\"M\", \"L\", \"L\", \"L\", \"Z\"], \"yindex\": 1, \"coordinates\": \"data\", \"dasharray\": \"10,0\", \"zorder\": 1, \"alpha\": 1, \"xindex\": 0, \"data\": \"data15\", \"id\": \"el10108139683783669776\"}, {\"edgecolor\": \"#EEEEEE\", \"facecolor\": \"#E24A33\", \"edgewidth\": 0.5, \"pathcodes\": [\"M\", \"L\", \"L\", \"L\", \"Z\"], \"yindex\": 1, \"coordinates\": \"data\", \"dasharray\": \"10,0\", \"zorder\": 1, \"alpha\": 1, \"xindex\": 0, \"data\": \"data16\", \"id\": \"el10108139683783671440\"}, {\"edgecolor\": \"#EEEEEE\", \"facecolor\": \"#E24A33\", \"edgewidth\": 0.5, \"pathcodes\": [\"M\", \"L\", \"L\", \"L\", \"Z\"], \"yindex\": 1, \"coordinates\": \"data\", \"dasharray\": \"10,0\", \"zorder\": 1, \"alpha\": 1, \"xindex\": 0, \"data\": \"data17\", \"id\": \"el10108139683783578960\"}, {\"edgecolor\": \"#EEEEEE\", \"facecolor\": \"#E24A33\", \"edgewidth\": 0.5, \"pathcodes\": [\"M\", \"L\", \"L\", \"L\", \"Z\"], \"yindex\": 1, \"coordinates\": \"data\", \"dasharray\": \"10,0\", \"zorder\": 1, \"alpha\": 1, \"xindex\": 0, \"data\": \"data18\", \"id\": \"el10108139683783580624\"}, {\"edgecolor\": \"#EEEEEE\", \"facecolor\": \"#E24A33\", \"edgewidth\": 0.5, \"pathcodes\": [\"M\", \"L\", \"L\", \"L\", \"Z\"], \"yindex\": 1, \"coordinates\": \"data\", \"dasharray\": \"10,0\", \"zorder\": 1, \"alpha\": 1, \"xindex\": 0, \"data\": \"data19\", \"id\": \"el10108139682137186960\"}, {\"edgecolor\": \"#EEEEEE\", \"facecolor\": \"#E24A33\", \"edgewidth\": 0.5, \"pathcodes\": [\"M\", \"L\", \"L\", \"L\", \"Z\"], \"yindex\": 1, \"coordinates\": \"data\", \"dasharray\": \"10,0\", \"zorder\": 1, \"alpha\": 1, \"xindex\": 0, \"data\": \"data20\", \"id\": \"el10108139682137188624\"}, {\"edgecolor\": \"#EEEEEE\", \"facecolor\": \"#E24A33\", \"edgewidth\": 0.5, \"pathcodes\": [\"M\", \"L\", \"L\", \"L\", \"Z\"], \"yindex\": 1, \"coordinates\": \"data\", \"dasharray\": \"10,0\", \"zorder\": 1, \"alpha\": 1, \"xindex\": 0, \"data\": \"data21\", \"id\": \"el10108139682137190288\"}, {\"edgecolor\": \"#EEEEEE\", \"facecolor\": \"#E24A33\", \"edgewidth\": 0.5, \"pathcodes\": [\"M\", \"L\", \"L\", \"L\", \"Z\"], \"yindex\": 1, \"coordinates\": \"data\", \"dasharray\": \"10,0\", \"zorder\": 1, \"alpha\": 1, \"xindex\": 0, \"data\": \"data22\", \"id\": \"el10108139683782964816\"}, {\"edgecolor\": \"#EEEEEE\", \"facecolor\": \"#E24A33\", \"edgewidth\": 0.5, \"pathcodes\": [\"M\", \"L\", \"L\", \"L\", \"Z\"], \"yindex\": 1, \"coordinates\": \"data\", \"dasharray\": \"10,0\", \"zorder\": 1, \"alpha\": 1, \"xindex\": 0, \"data\": \"data23\", \"id\": \"el10108139683782966480\"}, {\"edgecolor\": \"#EEEEEE\", \"facecolor\": \"#E24A33\", \"edgewidth\": 0.5, \"pathcodes\": [\"M\", \"L\", \"L\", \"L\", \"Z\"], \"yindex\": 1, \"coordinates\": \"data\", \"dasharray\": \"10,0\", \"zorder\": 1, \"alpha\": 1, \"xindex\": 0, \"data\": \"data24\", \"id\": \"el10108139683783238544\"}, {\"edgecolor\": \"#EEEEEE\", \"facecolor\": \"#E24A33\", \"edgewidth\": 0.5, \"pathcodes\": [\"M\", \"L\", \"L\", \"L\", \"Z\"], \"yindex\": 1, \"coordinates\": \"data\", \"dasharray\": \"10,0\", \"zorder\": 1, \"alpha\": 1, \"xindex\": 0, \"data\": \"data25\", \"id\": \"el10108139683783240208\"}, {\"edgecolor\": \"#EEEEEE\", \"facecolor\": \"#E24A33\", \"edgewidth\": 0.5, \"pathcodes\": [\"M\", \"L\", \"L\", \"L\", \"Z\"], \"yindex\": 1, \"coordinates\": \"data\", \"dasharray\": \"10,0\", \"zorder\": 1, \"alpha\": 1, \"xindex\": 0, \"data\": \"data26\", \"id\": \"el10108139683783241488\"}, {\"edgecolor\": \"#EEEEEE\", \"facecolor\": \"#E24A33\", \"edgewidth\": 0.5, \"pathcodes\": [\"M\", \"L\", \"L\", \"L\", \"Z\"], \"yindex\": 1, \"coordinates\": \"data\", \"dasharray\": \"10,0\", \"zorder\": 1, \"alpha\": 1, \"xindex\": 0, \"data\": \"data27\", \"id\": \"el10108139683783440208\"}, {\"edgecolor\": \"#EEEEEE\", \"facecolor\": \"#E24A33\", \"edgewidth\": 0.5, \"pathcodes\": [\"M\", \"L\", \"L\", \"L\", \"Z\"], \"yindex\": 1, \"coordinates\": \"data\", \"dasharray\": \"10,0\", \"zorder\": 1, \"alpha\": 1, \"xindex\": 0, \"data\": \"data28\", \"id\": \"el10108139683783441872\"}, {\"edgecolor\": \"#EEEEEE\", \"facecolor\": \"#E24A33\", \"edgewidth\": 0.5, \"pathcodes\": [\"M\", \"L\", \"L\", \"L\", \"Z\"], \"yindex\": 1, \"coordinates\": \"data\", \"dasharray\": \"10,0\", \"zorder\": 1, \"alpha\": 1, \"xindex\": 0, \"data\": \"data29\", \"id\": \"el10108139683783566480\"}, {\"edgecolor\": \"#EEEEEE\", \"facecolor\": \"#E24A33\", \"edgewidth\": 0.5, \"pathcodes\": [\"M\", \"L\", \"L\", \"L\", \"Z\"], \"yindex\": 1, \"coordinates\": \"data\", \"dasharray\": \"10,0\", \"zorder\": 1, \"alpha\": 1, \"xindex\": 0, \"data\": \"data30\", \"id\": \"el10108139683783568144\"}, {\"edgecolor\": \"#EEEEEE\", \"facecolor\": \"#E24A33\", \"edgewidth\": 0.5, \"pathcodes\": [\"M\", \"L\", \"L\", \"L\", \"Z\"], \"yindex\": 1, \"coordinates\": \"data\", \"dasharray\": \"10,0\", \"zorder\": 1, \"alpha\": 1, \"xindex\": 0, \"data\": \"data31\", \"id\": \"el10108139683783311824\"}, {\"edgecolor\": \"#EEEEEE\", \"facecolor\": \"#E24A33\", \"edgewidth\": 0.5, \"pathcodes\": [\"M\", \"L\", \"L\", \"L\", \"Z\"], \"yindex\": 1, \"coordinates\": \"data\", \"dasharray\": \"10,0\", \"zorder\": 1, \"alpha\": 1, \"xindex\": 0, \"data\": \"data32\", \"id\": \"el10108139683783313488\"}, {\"edgecolor\": \"#EEEEEE\", \"facecolor\": \"#E24A33\", \"edgewidth\": 0.5, \"pathcodes\": [\"M\", \"L\", \"L\", \"L\", \"Z\"], \"yindex\": 1, \"coordinates\": \"data\", \"dasharray\": \"10,0\", \"zorder\": 1, \"alpha\": 1, \"xindex\": 0, \"data\": \"data33\", \"id\": \"el10108139683783315152\"}, {\"edgecolor\": \"#EEEEEE\", \"facecolor\": \"#E24A33\", \"edgewidth\": 0.5, \"pathcodes\": [\"M\", \"L\", \"L\", \"L\", \"Z\"], \"yindex\": 1, \"coordinates\": \"data\", \"dasharray\": \"10,0\", \"zorder\": 1, \"alpha\": 1, \"xindex\": 0, \"data\": \"data34\", \"id\": \"el10108139683783406992\"}, {\"edgecolor\": \"#EEEEEE\", \"facecolor\": \"#E24A33\", \"edgewidth\": 0.5, \"pathcodes\": [\"M\", \"L\", \"L\", \"L\", \"Z\"], \"yindex\": 1, \"coordinates\": \"data\", \"dasharray\": \"10,0\", \"zorder\": 1, \"alpha\": 1, \"xindex\": 0, \"data\": \"data35\", \"id\": \"el10108139683783408656\"}, {\"edgecolor\": \"#EEEEEE\", \"facecolor\": \"#E24A33\", \"edgewidth\": 0.5, \"pathcodes\": [\"M\", \"L\", \"L\", \"L\", \"Z\"], \"yindex\": 1, \"coordinates\": \"data\", \"dasharray\": \"10,0\", \"zorder\": 1, \"alpha\": 1, \"xindex\": 0, \"data\": \"data36\", \"id\": \"el10108139683783496400\"}, {\"edgecolor\": \"#EEEEEE\", \"facecolor\": \"#E24A33\", \"edgewidth\": 0.5, \"pathcodes\": [\"M\", \"L\", \"L\", \"L\", \"Z\"], \"yindex\": 1, \"coordinates\": \"data\", \"dasharray\": \"10,0\", \"zorder\": 1, \"alpha\": 1, \"xindex\": 0, \"data\": \"data37\", \"id\": \"el10108139683783498064\"}, {\"edgecolor\": \"#EEEEEE\", \"facecolor\": \"#E24A33\", \"edgewidth\": 0.5, \"pathcodes\": [\"M\", \"L\", \"L\", \"L\", \"Z\"], \"yindex\": 1, \"coordinates\": \"data\", \"dasharray\": \"10,0\", \"zorder\": 1, \"alpha\": 1, \"xindex\": 0, \"data\": \"data38\", \"id\": \"el10108139683783499728\"}, {\"edgecolor\": \"#EEEEEE\", \"facecolor\": \"#E24A33\", \"edgewidth\": 0.5, \"pathcodes\": [\"M\", \"L\", \"L\", \"L\", \"Z\"], \"yindex\": 1, \"coordinates\": \"data\", \"dasharray\": \"10,0\", \"zorder\": 1, \"alpha\": 1, \"xindex\": 0, \"data\": \"data39\", \"id\": \"el10108139683784029840\"}, {\"edgecolor\": \"#EEEEEE\", \"facecolor\": \"#E24A33\", \"edgewidth\": 0.5, \"pathcodes\": [\"M\", \"L\", \"L\", \"L\", \"Z\"], \"yindex\": 1, \"coordinates\": \"data\", \"dasharray\": \"10,0\", \"zorder\": 1, \"alpha\": 1, \"xindex\": 0, \"data\": \"data40\", \"id\": \"el10108139683784031504\"}, {\"edgecolor\": \"#EEEEEE\", \"facecolor\": \"#E24A33\", \"edgewidth\": 0.5, \"pathcodes\": [\"M\", \"L\", \"L\", \"L\", \"Z\"], \"yindex\": 1, \"coordinates\": \"data\", \"dasharray\": \"10,0\", \"zorder\": 1, \"alpha\": 1, \"xindex\": 0, \"data\": \"data41\", \"id\": \"el10108139683783963600\"}, {\"edgecolor\": \"#EEEEEE\", \"facecolor\": \"#E24A33\", \"edgewidth\": 0.5, \"pathcodes\": [\"M\", \"L\", \"L\", \"L\", \"Z\"], \"yindex\": 1, \"coordinates\": \"data\", \"dasharray\": \"10,0\", \"zorder\": 1, \"alpha\": 1, \"xindex\": 0, \"data\": \"data42\", \"id\": \"el10108139683783965264\"}, {\"edgecolor\": \"#EEEEEE\", \"facecolor\": \"#E24A33\", \"edgewidth\": 0.5, \"pathcodes\": [\"M\", \"L\", \"L\", \"L\", \"Z\"], \"yindex\": 1, \"coordinates\": \"data\", \"dasharray\": \"10,0\", \"zorder\": 1, \"alpha\": 1, \"xindex\": 0, \"data\": \"data43\", \"id\": \"el10108139683783966544\"}, {\"edgecolor\": \"#EEEEEE\", \"facecolor\": \"#E24A33\", \"edgewidth\": 0.5, \"pathcodes\": [\"M\", \"L\", \"L\", \"L\", \"Z\"], \"yindex\": 1, \"coordinates\": \"data\", \"dasharray\": \"10,0\", \"zorder\": 1, \"alpha\": 1, \"xindex\": 0, \"data\": \"data44\", \"id\": \"el10108139683784046480\"}, {\"edgecolor\": \"#EEEEEE\", \"facecolor\": \"#E24A33\", \"edgewidth\": 0.5, \"pathcodes\": [\"M\", \"L\", \"L\", \"L\", \"Z\"], \"yindex\": 1, \"coordinates\": \"data\", \"dasharray\": \"10,0\", \"zorder\": 1, \"alpha\": 1, \"xindex\": 0, \"data\": \"data45\", \"id\": \"el10108139683784048144\"}, {\"edgecolor\": \"#EEEEEE\", \"facecolor\": \"#E24A33\", \"edgewidth\": 0.5, \"pathcodes\": [\"M\", \"L\", \"L\", \"L\", \"Z\"], \"yindex\": 1, \"coordinates\": \"data\", \"dasharray\": \"10,0\", \"zorder\": 1, \"alpha\": 1, \"xindex\": 0, \"data\": \"data46\", \"id\": \"el10108139683783902416\"}, {\"edgecolor\": \"#EEEEEE\", \"facecolor\": \"#E24A33\", \"edgewidth\": 0.5, \"pathcodes\": [\"M\", \"L\", \"L\", \"L\", \"Z\"], \"yindex\": 1, \"coordinates\": \"data\", \"dasharray\": \"10,0\", \"zorder\": 1, \"alpha\": 1, \"xindex\": 0, \"data\": \"data47\", \"id\": \"el10108139683783904080\"}, {\"edgecolor\": \"#EEEEEE\", \"facecolor\": \"#E24A33\", \"edgewidth\": 0.5, \"pathcodes\": [\"M\", \"L\", \"L\", \"L\", \"Z\"], \"yindex\": 1, \"coordinates\": \"data\", \"dasharray\": \"10,0\", \"zorder\": 1, \"alpha\": 1, \"xindex\": 0, \"data\": \"data48\", \"id\": \"el10108139683783930384\"}, {\"edgecolor\": \"#EEEEEE\", \"facecolor\": \"#E24A33\", \"edgewidth\": 0.5, \"pathcodes\": [\"M\", \"L\", \"L\", \"L\", \"Z\"], \"yindex\": 1, \"coordinates\": \"data\", \"dasharray\": \"10,0\", \"zorder\": 1, \"alpha\": 1, \"xindex\": 0, \"data\": \"data49\", \"id\": \"el10108139683783932048\"}, {\"edgecolor\": \"#EEEEEE\", \"facecolor\": \"#E24A33\", \"edgewidth\": 0.5, \"pathcodes\": [\"M\", \"L\", \"L\", \"L\", \"Z\"], \"yindex\": 1, \"coordinates\": \"data\", \"dasharray\": \"10,0\", \"zorder\": 1, \"alpha\": 1, \"xindex\": 0, \"data\": \"data50\", \"id\": \"el10108139683783933712\"}], \"sharey\": [], \"sharex\": [], \"axesbgalpha\": null, \"axes\": [{\"scale\": \"linear\", \"tickformat\": null, \"grid\": {\"color\": \"#FFFFFF\", \"alpha\": 1.0, \"dasharray\": \"10,0\", \"gridOn\": true}, \"fontsize\": 10.0, \"position\": \"bottom\", \"nticks\": 10, \"tickvalues\": null}, {\"scale\": \"linear\", \"tickformat\": null, \"grid\": {\"color\": \"#FFFFFF\", \"alpha\": 1.0, \"dasharray\": \"10,0\", \"gridOn\": true}, \"fontsize\": 10.0, \"position\": \"left\", \"nticks\": 8, \"tickvalues\": null}], \"lines\": [], \"markers\": [], \"id\": \"el10108139683791529680\", \"ydomain\": [0.0, 7000000.0], \"collections\": [], \"xscale\": \"linear\", \"bbox\": [0.125, 0.125, 0.77500000000000002, 0.77500000000000002]}], \"height\": 480.0, \"width\": 800.0, \"plugins\": [{\"type\": \"reset\"}, {\"enabled\": false, \"button\": true, \"type\": \"zoom\"}, {\"enabled\": false, \"button\": true, \"type\": \"boxzoom\"}], \"data\": {\"data42\": [[412.44000000000005, 0.0], [421.28000000000003, 0.0], [421.28000000000003, 61929.0], [412.44000000000005, 61929.0]], \"data43\": [[421.28, 0.0], [430.12, 0.0], [430.12, 53658.0], [421.28, 53658.0]], \"data40\": [[394.76, 0.0], [403.6, 0.0], [403.6, 77760.0], [394.76, 77760.0]], \"data41\": [[403.6, 0.0], [412.44, 0.0], [412.44, 69651.0], [403.6, 69651.0]], \"data46\": [[447.80000000000007, 0.0], [456.64000000000004, 0.0], [456.64000000000004, 20264.0], [447.80000000000007, 20264.0]], \"data47\": [[456.64, 0.0], [465.48, 0.0], [465.48, 11338.0], [456.64, 11338.0]], \"data44\": [[430.12, 0.0], [438.96, 0.0], [438.96, 40367.0], [430.12, 40367.0]], \"data45\": [[438.96, 0.0], [447.8, 0.0], [447.8, 33927.0], [438.96, 33927.0]], \"data48\": [[465.48, 0.0], [474.32, 0.0], [474.32, 5636.0], [465.48, 5636.0]], \"data49\": [[474.32000000000005, 0.0], [483.16, 0.0], [483.16, 2643.0], [474.32000000000005, 2643.0]], \"data50\": [[483.15999999999997, 0.0], [492.0, 0.0], [492.0, 1671.0], [483.15999999999997, 1671.0]], \"data28\": [[288.68000000000006, 0.0], [297.52000000000004, 0.0], [297.52000000000004, 9347.0], [288.68000000000006, 9347.0]], \"data06\": [[94.20000000000002, 0.0], [103.04, 0.0], [103.04, 1293.0], [94.20000000000002, 1293.0]], \"data08\": [[111.88, 0.0], [120.72, 0.0], [120.72, 2088.0], [111.88, 2088.0]], \"data09\": [[120.72, 0.0], [129.56, 0.0], [129.56, 2612.0], [120.72, 2612.0]], \"data20\": [[217.95999999999998, 0.0], [226.79999999999998, 0.0], [226.79999999999998, 4797.0], [217.95999999999998, 4797.0]], \"data21\": [[226.8, 0.0], [235.64, 0.0], [235.64, 4426.0], [226.8, 4426.0]], \"data22\": [[235.64, 0.0], [244.48, 0.0], [244.48, 4915.0], [235.64, 4915.0]], \"data05\": [[85.36, 0.0], [94.2, 0.0], [94.2, 2513.0], [85.36, 2513.0]], \"data02\": [[58.84, 0.0], [67.68, 0.0], [67.68, 338.0], [58.84, 338.0]], \"data04\": [[76.52, 0.0], [85.36, 0.0], [85.36, 661.0], [76.52, 661.0]], \"data26\": [[271.0, 0.0], [279.84000000000003, 0.0], [279.84000000000003, 13936.0], [271.0, 13936.0]], \"data01\": [[50.0, 0.0], [58.84, 0.0], [58.84, 228.0], [50.0, 228.0]], \"data23\": [[244.47999999999996, 0.0], [253.31999999999996, 0.0], [253.31999999999996, 6013277.0], [244.47999999999996, 6013277.0]], \"data24\": [[253.32000000000002, 0.0], [262.15999999999997, 0.0], [262.15999999999997, 370120.0], [253.32000000000002, 370120.0]], \"data03\": [[67.68, 0.0], [76.52, 0.0], [76.52, 436.0], [67.68, 436.0]], \"data27\": [[279.84000000000003, 0.0], [288.68, 0.0], [288.68, 7464.0], [279.84000000000003, 7464.0]], \"data07\": [[103.03999999999999, 0.0], [111.88, 0.0], [111.88, 1298.0], [103.03999999999999, 1298.0]], \"data37\": [[368.24, 0.0], [377.08, 0.0], [377.08, 108400.0], [368.24, 108400.0]], \"data36\": [[359.4, 0.0], [368.24, 0.0], [368.24, 121877.0], [359.4, 121877.0]], \"data35\": [[350.56000000000006, 0.0], [359.40000000000003, 0.0], [359.40000000000003, 131058.0], [350.56000000000006, 131058.0]], \"data34\": [[341.71999999999997, 0.0], [350.56, 0.0], [350.56, 123766.0], [341.71999999999997, 123766.0]], \"data25\": [[262.15999999999997, 0.0], [271.0, 0.0], [271.0, 6648.0], [262.15999999999997, 6648.0]], \"data32\": [[324.0400000000001, 0.0], [332.88000000000005, 0.0], [332.88000000000005, 25057.0], [324.0400000000001, 25057.0]], \"data31\": [[315.2, 0.0], [324.04, 0.0], [324.04, 10770.0], [315.2, 10770.0]], \"data30\": [[306.36, 0.0], [315.2, 0.0], [315.2, 7352.0], [306.36, 7352.0]], \"data39\": [[385.9200000000001, 0.0], [394.76000000000005, 0.0], [394.76000000000005, 89188.0], [385.9200000000001, 89188.0]], \"data38\": [[377.08, 0.0], [385.92, 0.0], [385.92, 87762.0], [377.08, 87762.0]], \"data19\": [[209.12, 0.0], [217.96, 0.0], [217.96, 3666.0], [209.12, 3666.0]], \"data18\": [[200.27999999999997, 0.0], [209.11999999999998, 0.0], [209.11999999999998, 4333.0], [200.27999999999997, 4333.0]], \"data15\": [[173.76, 0.0], [182.6, 0.0], [182.6, 3624.0], [173.76, 3624.0]], \"data14\": [[164.92000000000002, 0.0], [173.76, 0.0], [173.76, 3675.0], [164.92000000000002, 3675.0]], \"data17\": [[191.44, 0.0], [200.28, 0.0], [200.28, 4046.0], [191.44, 4046.0]], \"data16\": [[182.59999999999997, 0.0], [191.43999999999997, 0.0], [191.43999999999997, 3904.0], [182.59999999999997, 3904.0]], \"data11\": [[138.39999999999998, 0.0], [147.23999999999998, 0.0], [147.23999999999998, 3211.0], [138.39999999999998, 3211.0]], \"data10\": [[129.56, 0.0], [138.4, 0.0], [138.4, 2977.0], [129.56, 2977.0]], \"data13\": [[156.07999999999998, 0.0], [164.92000000000002, 0.0], [164.92000000000002, 2970.0], [156.07999999999998, 2970.0]], \"data12\": [[147.24, 0.0], [156.07999999999998, 0.0], [156.07999999999998, 3187.0], [147.24, 3187.0]], \"data29\": [[297.52, 0.0], [306.36, 0.0], [306.36, 6542.0], [297.52, 6542.0]], \"data33\": [[332.88, 0.0], [341.71999999999997, 0.0], [341.71999999999997, 75210.0], [332.88, 75210.0]]}, \"id\": \"el10108139683791665232\"});\n",
       "            })\n",
       "         });\n",
       "}\n",
       "</script>"
      ],
      "text/plain": [
       "<matplotlib.figure.Figure at 0x7f0aaac87850>"
      ]
     },
     "metadata": {},
     "output_type": "display_data"
    }
   ],
   "source": [
    "style.use(\"ggplot\")\n",
    "fig = plt.figure()\n",
    "ax = fig.add_subplot(111)\n",
    "h = ax.hist(np.array(lengths), bins=50)\n",
    "xl = ax.set_xlabel(\"Sequence Length, nt\")\n",
    "yl = ax.set_ylabel(\"Count\")\n",
    "fig.set_size_inches((10,6))"
   ]
  }
 ],
 "metadata": {
  "kernelspec": {
   "display_name": "Python 2",
   "language": "python",
   "name": "python2"
  },
  "language_info": {
   "codemirror_mode": {
    "name": "ipython",
    "version": 2
   },
   "file_extension": ".py",
   "mimetype": "text/x-python",
   "name": "python",
   "nbconvert_exporter": "python",
   "pygments_lexer": "ipython2",
   "version": "2.7.9"
  }
 },
 "nbformat": 4,
 "nbformat_minor": 0
}
