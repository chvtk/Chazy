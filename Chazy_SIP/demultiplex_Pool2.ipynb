{
 "cells": [
  {
   "cell_type": "code",
   "execution_count": 1,
   "metadata": {
    "collapsed": false
   },
   "outputs": [
    {
     "name": "stderr",
     "output_type": "stream",
     "text": [
      "/opt/anaconda/lib/python2.7/site-packages/mpltools/style/__init__.py:42: FutureWarning: \n",
      "\n",
      "    The style-sheet functionality in mpltools has been integrated into\n",
      "    Matplotlib >= 1.4. This module will be removed in a future release.\n",
      "\n",
      "    Note that style-sheets used by `matplotlib.style` use the standard\n",
      "    Matplotlib rc-file syntax instead of the INI format used by `mpltools`.\n",
      "    This mostly means un-quoting strings and changing '=' to ':'.\n",
      "\n",
      "\n",
      "  \"\"\", FutureWarning)\n"
     ]
    }
   ],
   "source": [
    "import screed\n",
    "import pandas as pd\n",
    "from collections import Counter\n",
    "import matplotlib.pyplot as plt\n",
    "import numpy as np\n",
    "from mpltools import style\n",
    "import mpld3\n",
    "#from mpld3 import plugins\n",
    "#import jinja2\n",
    "#from mpld3._objects import D3Line2D, D3Collection\n",
    "#mpld3.disable_notebook()"
   ]
  },
  {
   "cell_type": "code",
   "execution_count": 2,
   "metadata": {
    "collapsed": false
   },
   "outputs": [],
   "source": [
    "style.use(\"ggplot\")"
   ]
  },
  {
   "cell_type": "code",
   "execution_count": 3,
   "metadata": {
    "collapsed": false
   },
   "outputs": [],
   "source": [
    "%matplotlib inline"
   ]
  },
  {
   "cell_type": "code",
   "execution_count": 4,
   "metadata": {
    "collapsed": false
   },
   "outputs": [],
   "source": [
    "ir1 = \"/var/seq_data/Chazy/515_806_SIP/Pool2/Index1.fastq\"\n",
    "ir2 = \"/var/seq_data/Chazy/515_806_SIP/Pool2/Index2.fastq\""
   ]
  },
  {
   "cell_type": "code",
   "execution_count": 5,
   "metadata": {
    "collapsed": false
   },
   "outputs": [
    {
     "data": {
      "text/plain": [
       "<ScreedDB, '/var/seq_data/Chazy/515_806_SIP/Pool2/Index2.fastq_screed'>"
      ]
     },
     "execution_count": 5,
     "metadata": {},
     "output_type": "execute_result"
    }
   ],
   "source": [
    "screed.read_fastq_sequences(ir1)\n",
    "screed.read_fastq_sequences(ir2)"
   ]
  },
  {
   "cell_type": "code",
   "execution_count": 5,
   "metadata": {
    "collapsed": false
   },
   "outputs": [],
   "source": [
    "ir1db = screed.ScreedDB(ir1)\n",
    "ir2db = screed.ScreedDB(ir2)"
   ]
  },
  {
   "cell_type": "code",
   "execution_count": 6,
   "metadata": {
    "collapsed": false
   },
   "outputs": [
    {
     "data": {
      "text/html": [
       "<div>\n",
       "<table border=\"1\" class=\"dataframe\">\n",
       "  <thead>\n",
       "    <tr style=\"text-align: right;\">\n",
       "      <th></th>\n",
       "      <th>SampleID</th>\n",
       "      <th>i1</th>\n",
       "      <th>i2</th>\n",
       "    </tr>\n",
       "  </thead>\n",
       "  <tbody>\n",
       "    <tr>\n",
       "      <th>0</th>\n",
       "      <td>Full.sample</td>\n",
       "      <td>Rev.index</td>\n",
       "      <td>Fwd.index</td>\n",
       "    </tr>\n",
       "    <tr>\n",
       "      <th>1</th>\n",
       "      <td>12C.PTH.D3.R4.Frac22</td>\n",
       "      <td>cgagagtt</td>\n",
       "      <td>atcgtacg</td>\n",
       "    </tr>\n",
       "    <tr>\n",
       "      <th>2</th>\n",
       "      <td>12C.PTH.D3.R4.Frac23</td>\n",
       "      <td>cgagagtt</td>\n",
       "      <td>actatctg</td>\n",
       "    </tr>\n",
       "    <tr>\n",
       "      <th>3</th>\n",
       "      <td>12C.PTH.D3.R4.Frac24</td>\n",
       "      <td>cgagagtt</td>\n",
       "      <td>tagcgagt</td>\n",
       "    </tr>\n",
       "    <tr>\n",
       "      <th>4</th>\n",
       "      <td>12C.PTH.D3.R4.Frac25</td>\n",
       "      <td>cgagagtt</td>\n",
       "      <td>ctgcgtgt</td>\n",
       "    </tr>\n",
       "    <tr>\n",
       "      <th>5</th>\n",
       "      <td>12C.PTH.D3.R4.Frac26</td>\n",
       "      <td>cgagagtt</td>\n",
       "      <td>tcatcgag</td>\n",
       "    </tr>\n",
       "    <tr>\n",
       "      <th>6</th>\n",
       "      <td>12C.PTH.D3.R4.Frac27</td>\n",
       "      <td>cgagagtt</td>\n",
       "      <td>cgtgagtg</td>\n",
       "    </tr>\n",
       "    <tr>\n",
       "      <th>7</th>\n",
       "      <td>12C.PTH.D3.R4.Frac28</td>\n",
       "      <td>cgagagtt</td>\n",
       "      <td>ggatatct</td>\n",
       "    </tr>\n",
       "    <tr>\n",
       "      <th>8</th>\n",
       "      <td>12C.PTH.D3.R4.H2O</td>\n",
       "      <td>cgagagtt</td>\n",
       "      <td>gacaccgt</td>\n",
       "    </tr>\n",
       "    <tr>\n",
       "      <th>9</th>\n",
       "      <td>13X.PTH.D14.R4.Frac6</td>\n",
       "      <td>gacatagt</td>\n",
       "      <td>atcgtacg</td>\n",
       "    </tr>\n",
       "    <tr>\n",
       "      <th>10</th>\n",
       "      <td>13X.PTH.D14.R4.Frac7</td>\n",
       "      <td>gacatagt</td>\n",
       "      <td>actatctg</td>\n",
       "    </tr>\n",
       "    <tr>\n",
       "      <th>11</th>\n",
       "      <td>13X.PTH.D14.R4.Frac8</td>\n",
       "      <td>gacatagt</td>\n",
       "      <td>tagcgagt</td>\n",
       "    </tr>\n",
       "    <tr>\n",
       "      <th>12</th>\n",
       "      <td>13X.PTH.D14.R4.Frac9</td>\n",
       "      <td>gacatagt</td>\n",
       "      <td>ctgcgtgt</td>\n",
       "    </tr>\n",
       "    <tr>\n",
       "      <th>13</th>\n",
       "      <td>13X.PTH.D14.R4.Frac10</td>\n",
       "      <td>gacatagt</td>\n",
       "      <td>tcatcgag</td>\n",
       "    </tr>\n",
       "    <tr>\n",
       "      <th>14</th>\n",
       "      <td>13X.PTH.D14.R4.Frac11</td>\n",
       "      <td>gacatagt</td>\n",
       "      <td>cgtgagtg</td>\n",
       "    </tr>\n",
       "    <tr>\n",
       "      <th>15</th>\n",
       "      <td>13X.PTH.D14.R4.Frac12</td>\n",
       "      <td>gacatagt</td>\n",
       "      <td>ggatatct</td>\n",
       "    </tr>\n",
       "    <tr>\n",
       "      <th>16</th>\n",
       "      <td>13X.PTH.D14.R4.Frac13</td>\n",
       "      <td>gacatagt</td>\n",
       "      <td>gacaccgt</td>\n",
       "    </tr>\n",
       "    <tr>\n",
       "      <th>17</th>\n",
       "      <td>13X.PTH.D14.R4.Frac14</td>\n",
       "      <td>acgctact</td>\n",
       "      <td>atcgtacg</td>\n",
       "    </tr>\n",
       "    <tr>\n",
       "      <th>18</th>\n",
       "      <td>13X.PTH.D14.R4.Frac15</td>\n",
       "      <td>acgctact</td>\n",
       "      <td>actatctg</td>\n",
       "    </tr>\n",
       "    <tr>\n",
       "      <th>19</th>\n",
       "      <td>13X.PTH.D14.R4.Frac16</td>\n",
       "      <td>acgctact</td>\n",
       "      <td>tagcgagt</td>\n",
       "    </tr>\n",
       "    <tr>\n",
       "      <th>20</th>\n",
       "      <td>13X.PTH.D14.R4.Frac17</td>\n",
       "      <td>acgctact</td>\n",
       "      <td>ctgcgtgt</td>\n",
       "    </tr>\n",
       "    <tr>\n",
       "      <th>21</th>\n",
       "      <td>13X.PTH.D14.R4.Frac18</td>\n",
       "      <td>acgctact</td>\n",
       "      <td>tcatcgag</td>\n",
       "    </tr>\n",
       "    <tr>\n",
       "      <th>22</th>\n",
       "      <td>13X.PTH.D14.R4.Frac19</td>\n",
       "      <td>acgctact</td>\n",
       "      <td>cgtgagtg</td>\n",
       "    </tr>\n",
       "    <tr>\n",
       "      <th>23</th>\n",
       "      <td>13X.PTH.D14.R4.Frac20</td>\n",
       "      <td>acgctact</td>\n",
       "      <td>ggatatct</td>\n",
       "    </tr>\n",
       "    <tr>\n",
       "      <th>24</th>\n",
       "      <td>13X.PTH.D14.R4.Frac21</td>\n",
       "      <td>acgctact</td>\n",
       "      <td>gacaccgt</td>\n",
       "    </tr>\n",
       "    <tr>\n",
       "      <th>25</th>\n",
       "      <td>13X.PTH.D14.R4.Frac22</td>\n",
       "      <td>actcactg</td>\n",
       "      <td>atcgtacg</td>\n",
       "    </tr>\n",
       "    <tr>\n",
       "      <th>26</th>\n",
       "      <td>13X.PTH.D14.R4.Frac23</td>\n",
       "      <td>actcactg</td>\n",
       "      <td>actatctg</td>\n",
       "    </tr>\n",
       "    <tr>\n",
       "      <th>27</th>\n",
       "      <td>13X.PTH.D14.R4.Frac24</td>\n",
       "      <td>actcactg</td>\n",
       "      <td>tagcgagt</td>\n",
       "    </tr>\n",
       "    <tr>\n",
       "      <th>28</th>\n",
       "      <td>13X.PTH.D14.R4.Frac25</td>\n",
       "      <td>actcactg</td>\n",
       "      <td>ctgcgtgt</td>\n",
       "    </tr>\n",
       "    <tr>\n",
       "      <th>29</th>\n",
       "      <td>13X.PTH.D14.R4.Frac26</td>\n",
       "      <td>actcactg</td>\n",
       "      <td>tcatcgag</td>\n",
       "    </tr>\n",
       "    <tr>\n",
       "      <th>...</th>\n",
       "      <td>...</td>\n",
       "      <td>...</td>\n",
       "      <td>...</td>\n",
       "    </tr>\n",
       "    <tr>\n",
       "      <th>163</th>\n",
       "      <td>13X.NTH.D7.R4.Frac13</td>\n",
       "      <td>actacgac</td>\n",
       "      <td>agagtcac</td>\n",
       "    </tr>\n",
       "    <tr>\n",
       "      <th>164</th>\n",
       "      <td>13X.NTH.D7.R4.Frac14</td>\n",
       "      <td>actacgac</td>\n",
       "      <td>tacgagac</td>\n",
       "    </tr>\n",
       "    <tr>\n",
       "      <th>165</th>\n",
       "      <td>13X.NTH.D7.R4.Frac15</td>\n",
       "      <td>actacgac</td>\n",
       "      <td>acgtctcg</td>\n",
       "    </tr>\n",
       "    <tr>\n",
       "      <th>166</th>\n",
       "      <td>13X.NTH.D7.R4.Frac16</td>\n",
       "      <td>actacgac</td>\n",
       "      <td>tcgacgag</td>\n",
       "    </tr>\n",
       "    <tr>\n",
       "      <th>167</th>\n",
       "      <td>13X.NTH.D7.R4.Frac17</td>\n",
       "      <td>actacgac</td>\n",
       "      <td>gatcgtgt</td>\n",
       "    </tr>\n",
       "    <tr>\n",
       "      <th>168</th>\n",
       "      <td>13X.NTH.D7.R4.Frac18</td>\n",
       "      <td>actacgac</td>\n",
       "      <td>gtcagata</td>\n",
       "    </tr>\n",
       "    <tr>\n",
       "      <th>169</th>\n",
       "      <td>13X.NTH.D7.R4.Frac19</td>\n",
       "      <td>gtctgcta</td>\n",
       "      <td>ctactata</td>\n",
       "    </tr>\n",
       "    <tr>\n",
       "      <th>170</th>\n",
       "      <td>13X.NTH.D7.R4.Frac20</td>\n",
       "      <td>gtctgcta</td>\n",
       "      <td>cgttacta</td>\n",
       "    </tr>\n",
       "    <tr>\n",
       "      <th>171</th>\n",
       "      <td>13X.NTH.D7.R4.Frac21</td>\n",
       "      <td>gtctgcta</td>\n",
       "      <td>agagtcac</td>\n",
       "    </tr>\n",
       "    <tr>\n",
       "      <th>172</th>\n",
       "      <td>13X.NTH.D7.R4.Frac22</td>\n",
       "      <td>gtctgcta</td>\n",
       "      <td>tacgagac</td>\n",
       "    </tr>\n",
       "    <tr>\n",
       "      <th>173</th>\n",
       "      <td>13X.NTH.D7.R4.Frac23</td>\n",
       "      <td>gtctgcta</td>\n",
       "      <td>acgtctcg</td>\n",
       "    </tr>\n",
       "    <tr>\n",
       "      <th>174</th>\n",
       "      <td>13X.NTH.D7.R4.Frac24</td>\n",
       "      <td>gtctgcta</td>\n",
       "      <td>tcgacgag</td>\n",
       "    </tr>\n",
       "    <tr>\n",
       "      <th>175</th>\n",
       "      <td>13X.NTH.D7.R4.Frac25</td>\n",
       "      <td>gtctgcta</td>\n",
       "      <td>gatcgtgt</td>\n",
       "    </tr>\n",
       "    <tr>\n",
       "      <th>176</th>\n",
       "      <td>13X.NTH.D7.R4.Frac26</td>\n",
       "      <td>gtctgcta</td>\n",
       "      <td>gtcagata</td>\n",
       "    </tr>\n",
       "    <tr>\n",
       "      <th>177</th>\n",
       "      <td>13X.NTH.D7.R4.Frac27</td>\n",
       "      <td>gtctatga</td>\n",
       "      <td>ctactata</td>\n",
       "    </tr>\n",
       "    <tr>\n",
       "      <th>178</th>\n",
       "      <td>13X.NTH.D7.R4.H2O</td>\n",
       "      <td>gtctatga</td>\n",
       "      <td>cgttacta</td>\n",
       "    </tr>\n",
       "    <tr>\n",
       "      <th>179</th>\n",
       "      <td>12C.NTH.D30.R4.Frac4</td>\n",
       "      <td>gtctatga</td>\n",
       "      <td>agagtcac</td>\n",
       "    </tr>\n",
       "    <tr>\n",
       "      <th>180</th>\n",
       "      <td>12C.NTH.D30.R4.Frac5</td>\n",
       "      <td>gtctatga</td>\n",
       "      <td>tacgagac</td>\n",
       "    </tr>\n",
       "    <tr>\n",
       "      <th>181</th>\n",
       "      <td>12C.NTH.D30.R4.Frac6</td>\n",
       "      <td>gtctatga</td>\n",
       "      <td>acgtctcg</td>\n",
       "    </tr>\n",
       "    <tr>\n",
       "      <th>182</th>\n",
       "      <td>12C.NTH.D30.R4.Frac7</td>\n",
       "      <td>gtctatga</td>\n",
       "      <td>tcgacgag</td>\n",
       "    </tr>\n",
       "    <tr>\n",
       "      <th>183</th>\n",
       "      <td>12C.NTH.D30.R4.Frac8</td>\n",
       "      <td>gtctatga</td>\n",
       "      <td>gatcgtgt</td>\n",
       "    </tr>\n",
       "    <tr>\n",
       "      <th>184</th>\n",
       "      <td>12C.NTH.D30.R4.Frac9</td>\n",
       "      <td>gtctatga</td>\n",
       "      <td>gtcagata</td>\n",
       "    </tr>\n",
       "    <tr>\n",
       "      <th>185</th>\n",
       "      <td>12C.NTH.D30.R4.Frac10</td>\n",
       "      <td>tatagcga</td>\n",
       "      <td>ctactata</td>\n",
       "    </tr>\n",
       "    <tr>\n",
       "      <th>186</th>\n",
       "      <td>12C.NTH.D30.R4.Frac11</td>\n",
       "      <td>tatagcga</td>\n",
       "      <td>cgttacta</td>\n",
       "    </tr>\n",
       "    <tr>\n",
       "      <th>187</th>\n",
       "      <td>12C.NTH.D30.R4.Frac12</td>\n",
       "      <td>tatagcga</td>\n",
       "      <td>agagtcac</td>\n",
       "    </tr>\n",
       "    <tr>\n",
       "      <th>188</th>\n",
       "      <td>12C.NTH.D30.R4.Frac13</td>\n",
       "      <td>tatagcga</td>\n",
       "      <td>tacgagac</td>\n",
       "    </tr>\n",
       "    <tr>\n",
       "      <th>189</th>\n",
       "      <td>12C.NTH.D30.R4.Frac14</td>\n",
       "      <td>tatagcga</td>\n",
       "      <td>acgtctcg</td>\n",
       "    </tr>\n",
       "    <tr>\n",
       "      <th>190</th>\n",
       "      <td>12C.NTH.D30.R4.Frac15</td>\n",
       "      <td>tatagcga</td>\n",
       "      <td>tcgacgag</td>\n",
       "    </tr>\n",
       "    <tr>\n",
       "      <th>191</th>\n",
       "      <td>12C.NTH.D30.R4.Frac16</td>\n",
       "      <td>tatagcga</td>\n",
       "      <td>gatcgtgt</td>\n",
       "    </tr>\n",
       "    <tr>\n",
       "      <th>192</th>\n",
       "      <td>12C.NTH.D30.R4.Frac17</td>\n",
       "      <td>tatagcga</td>\n",
       "      <td>gtcagata</td>\n",
       "    </tr>\n",
       "  </tbody>\n",
       "</table>\n",
       "<p>193 rows × 3 columns</p>\n",
       "</div>"
      ],
      "text/plain": [
       "                  SampleID         i1         i2\n",
       "0              Full.sample  Rev.index  Fwd.index\n",
       "1     12C.PTH.D3.R4.Frac22   cgagagtt   atcgtacg\n",
       "2     12C.PTH.D3.R4.Frac23   cgagagtt   actatctg\n",
       "3     12C.PTH.D3.R4.Frac24   cgagagtt   tagcgagt\n",
       "4     12C.PTH.D3.R4.Frac25   cgagagtt   ctgcgtgt\n",
       "5     12C.PTH.D3.R4.Frac26   cgagagtt   tcatcgag\n",
       "6     12C.PTH.D3.R4.Frac27   cgagagtt   cgtgagtg\n",
       "7     12C.PTH.D3.R4.Frac28   cgagagtt   ggatatct\n",
       "8        12C.PTH.D3.R4.H2O   cgagagtt   gacaccgt\n",
       "9     13X.PTH.D14.R4.Frac6   gacatagt   atcgtacg\n",
       "10    13X.PTH.D14.R4.Frac7   gacatagt   actatctg\n",
       "11    13X.PTH.D14.R4.Frac8   gacatagt   tagcgagt\n",
       "12    13X.PTH.D14.R4.Frac9   gacatagt   ctgcgtgt\n",
       "13   13X.PTH.D14.R4.Frac10   gacatagt   tcatcgag\n",
       "14   13X.PTH.D14.R4.Frac11   gacatagt   cgtgagtg\n",
       "15   13X.PTH.D14.R4.Frac12   gacatagt   ggatatct\n",
       "16   13X.PTH.D14.R4.Frac13   gacatagt   gacaccgt\n",
       "17   13X.PTH.D14.R4.Frac14   acgctact   atcgtacg\n",
       "18   13X.PTH.D14.R4.Frac15   acgctact   actatctg\n",
       "19   13X.PTH.D14.R4.Frac16   acgctact   tagcgagt\n",
       "20   13X.PTH.D14.R4.Frac17   acgctact   ctgcgtgt\n",
       "21   13X.PTH.D14.R4.Frac18   acgctact   tcatcgag\n",
       "22   13X.PTH.D14.R4.Frac19   acgctact   cgtgagtg\n",
       "23   13X.PTH.D14.R4.Frac20   acgctact   ggatatct\n",
       "24   13X.PTH.D14.R4.Frac21   acgctact   gacaccgt\n",
       "25   13X.PTH.D14.R4.Frac22   actcactg   atcgtacg\n",
       "26   13X.PTH.D14.R4.Frac23   actcactg   actatctg\n",
       "27   13X.PTH.D14.R4.Frac24   actcactg   tagcgagt\n",
       "28   13X.PTH.D14.R4.Frac25   actcactg   ctgcgtgt\n",
       "29   13X.PTH.D14.R4.Frac26   actcactg   tcatcgag\n",
       "..                     ...        ...        ...\n",
       "163   13X.NTH.D7.R4.Frac13   actacgac   agagtcac\n",
       "164   13X.NTH.D7.R4.Frac14   actacgac   tacgagac\n",
       "165   13X.NTH.D7.R4.Frac15   actacgac   acgtctcg\n",
       "166   13X.NTH.D7.R4.Frac16   actacgac   tcgacgag\n",
       "167   13X.NTH.D7.R4.Frac17   actacgac   gatcgtgt\n",
       "168   13X.NTH.D7.R4.Frac18   actacgac   gtcagata\n",
       "169   13X.NTH.D7.R4.Frac19   gtctgcta   ctactata\n",
       "170   13X.NTH.D7.R4.Frac20   gtctgcta   cgttacta\n",
       "171   13X.NTH.D7.R4.Frac21   gtctgcta   agagtcac\n",
       "172   13X.NTH.D7.R4.Frac22   gtctgcta   tacgagac\n",
       "173   13X.NTH.D7.R4.Frac23   gtctgcta   acgtctcg\n",
       "174   13X.NTH.D7.R4.Frac24   gtctgcta   tcgacgag\n",
       "175   13X.NTH.D7.R4.Frac25   gtctgcta   gatcgtgt\n",
       "176   13X.NTH.D7.R4.Frac26   gtctgcta   gtcagata\n",
       "177   13X.NTH.D7.R4.Frac27   gtctatga   ctactata\n",
       "178      13X.NTH.D7.R4.H2O   gtctatga   cgttacta\n",
       "179   12C.NTH.D30.R4.Frac4   gtctatga   agagtcac\n",
       "180   12C.NTH.D30.R4.Frac5   gtctatga   tacgagac\n",
       "181   12C.NTH.D30.R4.Frac6   gtctatga   acgtctcg\n",
       "182   12C.NTH.D30.R4.Frac7   gtctatga   tcgacgag\n",
       "183   12C.NTH.D30.R4.Frac8   gtctatga   gatcgtgt\n",
       "184   12C.NTH.D30.R4.Frac9   gtctatga   gtcagata\n",
       "185  12C.NTH.D30.R4.Frac10   tatagcga   ctactata\n",
       "186  12C.NTH.D30.R4.Frac11   tatagcga   cgttacta\n",
       "187  12C.NTH.D30.R4.Frac12   tatagcga   agagtcac\n",
       "188  12C.NTH.D30.R4.Frac13   tatagcga   tacgagac\n",
       "189  12C.NTH.D30.R4.Frac14   tatagcga   acgtctcg\n",
       "190  12C.NTH.D30.R4.Frac15   tatagcga   tcgacgag\n",
       "191  12C.NTH.D30.R4.Frac16   tatagcga   gatcgtgt\n",
       "192  12C.NTH.D30.R4.Frac17   tatagcga   gtcagata\n",
       "\n",
       "[193 rows x 3 columns]"
      ]
     },
     "execution_count": 6,
     "metadata": {},
     "output_type": "execute_result"
    }
   ],
   "source": [
    "df_map = pd.read_csv(\"data/Metadata_ChazySIP_pool2_515806.txt\", delimiter=\"\\t\", usecols=[1,6,7], names=[\"SampleID\",\"i1\",\"i2\"])\n",
    "df_map"
   ]
  },
  {
   "cell_type": "code",
   "execution_count": 7,
   "metadata": {
    "collapsed": false
   },
   "outputs": [
    {
     "name": "stdout",
     "output_type": "stream",
     "text": [
      "tatagcgatcatcgag 13X.NTH.D14.R4.Frac16\n"
     ]
    }
   ],
   "source": [
    "map_d = dict(map(lambda x: (x[0] + x[1], x[2]), zip(df_map.i1, df_map.i2, df_map.SampleID)))\n",
    "print map_d.keys()[10], map_d[map_d.keys()[10]]"
   ]
  },
  {
   "cell_type": "code",
   "execution_count": 8,
   "metadata": {
    "collapsed": false
   },
   "outputs": [
    {
     "name": "stdout",
     "output_type": "stream",
     "text": [
      "{'tgagtacgactatctg': '13C.PTH.D3.R4.Frac6', 'tatagcgagacaccgt': '13X.NTH.D14.R4.Frac19', 'tatagcgatacgagac': '12C.NTH.D30.R4.Frac13', 'actacgacgatcgtgt': '13X.NTH.D7.R4.Frac17', 'gtctatgactgcgtgt': '13X.NTH.D14.R4.Frac7', 'tagtctccggatatct': '13C.PTH.D3.R4.Frac27', 'tatagcgaactatctg': '13X.NTH.D14.R4.Frac13', 'actcactgggatatct': '13X.PTH.D14.R4.Frac28', 'tagtctcctacgagac': '12C.NTH.D7.R4.Frac22', 'cgagcgactcgacgag': '13X.NTH.D7.R4.Frac8', 'tatagcgatcatcgag': '13X.NTH.D14.R4.Frac16', 'tagtctccatcgtacg': '13C.PTH.D3.R4.Frac21', 'cgagcgacacgtctcg': '13X.NTH.D7.R4.Frac7', 'tagtctccacgtctcg': '12C.NTH.D7.R4.Frac23', 'acgctacttcatcgag': '13X.PTH.D14.R4.Frac18', 'acgctactctgcgtgt': '13X.PTH.D14.R4.Frac17', 'ctgcgtagactatctg': '13C.PTH.D3.R4.Frac14', 'actacgaccgtgagtg': '13X.PTH.D1.R4.Frac18', 'acgctacttcgacgag': '13C.PTH.D30.R4.Frac16', 'gtctgctatacgagac': '13X.NTH.D7.R4.Frac22', 'tagtctccgtcagata': '12C.NTH.D7.R4.Frac26', 'gtctatgacgtgagtg': '13X.NTH.D14.R4.Frac9', 'actcactgtagcgagt': '13X.PTH.D14.R4.Frac24', 'tatagcgacgttacta': '12C.NTH.D30.R4.Frac11', 'ctgcgtaggacaccgt': '13C.PTH.D3.R4.Frac20', 'gacatagtatcgtacg': '13X.PTH.D14.R4.Frac6', 'actcactgcgtgagtg': '13X.PTH.D14.R4.Frac27', 'ctgcgtagtcatcgag': '13C.PTH.D3.R4.Frac17', 'tatagcgacgtgagtg': '13X.NTH.D14.R4.Frac17', 'tagtctccactatctg': '13C.PTH.D3.R4.Frac22', 'tgagtacggatcgtgt': '12C.NTH.D7.R4.Frac9', 'gtctgctagacaccgt': '13X.PTH.D1.R4.Frac28', 'tatagcgaagagtcac': '12C.NTH.D30.R4.Frac12', 'acgctactgacaccgt': '13X.PTH.D14.R4.Frac21', 'tagtctccagagtcac': '12C.NTH.D7.R4.Frac21', 'tgagtacgctactata': '13C.PTH.D30.R4.Frac27', 'actcactgctgcgtgt': '13X.PTH.D14.R4.Frac25', 'gtctgctaacgtctcg': '13X.NTH.D7.R4.Frac23', 'cgagagtttcgacgag': '13X.NTH.D14.R4.Frac25', 'actcactggacaccgt': '13X.PTH.D14.R4.H2O', 'actacgactagcgagt': '13X.PTH.D1.R4.Frac15', 'tatagcgactactata': '12C.NTH.D30.R4.Frac10', 'ctgcgtagcgtgagtg': '13C.PTH.D3.R4.Frac18', 'tgagtacggacaccgt': '13C.PTH.D3.R4.Frac12', 'cgagagttctgcgtgt': '12C.PTH.D3.R4.Frac25', 'tgagtacgatcgtacg': '13C.PTH.D3.R4.Frac5', 'actacgacactatctg': '13X.PTH.D1.R4.Frac14', 'gtctgctacgttacta': '13X.NTH.D7.R4.Frac20', 'tgagtacgtcgacgag': '12C.NTH.D7.R4.Frac8', 'actacgacctactata': '13X.NTH.D7.R4.Frac11', 'ctgcgtagctactata': '12C.NTH.D7.R4.Frac11', 'actacgactacgagac': '13X.NTH.D7.R4.Frac14', 'cgagcgactagcgagt': '13X.PTH.D1.R4.Frac7', 'actcactgagagtcac': '13C.PTH.D30.R4.Frac21', 'actcactgctactata': '13C.PTH.D30.R4.Frac19', 'gtctgctaatcgtacg': '13X.PTH.D1.R4.Frac21', 'cgagcgactcatcgag': '13X.PTH.D1.R4.Frac9', 'gtctatgactactata': '13X.NTH.D7.R4.Frac27', 'cgagagttgacaccgt': '12C.PTH.D3.R4.H2O', 'gtctatgatcgacgag': '12C.NTH.D30.R4.Frac7', 'cgagcgacgatcgtgt': '13X.NTH.D7.R4.Frac9', 'gtctatgacgttacta': '13X.NTH.D7.R4.H2O', 'gtctatgaactatctg': '13X.NTH.D14.R4.Frac5', 'ctgcgtagagagtcac': '12C.NTH.D7.R4.Frac13', 'cgagcgacctgcgtgt': '13X.PTH.D1.R4.Frac8', 'gtctatgatacgagac': '12C.NTH.D30.R4.Frac5', 'gacatagtgtcagata': '13C.PTH.D30.R4.Frac10', 'actacgacgtcagata': '13X.NTH.D7.R4.Frac18', 'cgagcgacgacaccgt': '13X.PTH.D1.R4.Frac12', 'tatagcgatcgacgag': '12C.NTH.D30.R4.Frac15', 'actcactggtcagata': '13C.PTH.D30.R4.Frac26', 'gacatagtgatcgtgt': '13C.PTH.D30.R4.Frac9', 'gtctgctactgcgtgt': '13X.PTH.D1.R4.Frac24', 'cgagcgactacgagac': '13X.NTH.D7.R4.Frac6', 'gtctgctaagagtcac': '13X.NTH.D7.R4.Frac21', 'gtctatgatagcgagt': '13X.NTH.D14.R4.Frac6', 'gacatagtggatatct': '13X.PTH.D14.R4.Frac12', 'gtctgctaggatatct': '13X.PTH.D1.R4.Frac27', 'actacgacatcgtacg': '13X.PTH.D1.R4.Frac13', 'acgctacttagcgagt': '13X.PTH.D14.R4.Frac16', 'actcactgtcgacgag': '13C.PTH.D30.R4.Frac24', 'acgctactctactata': '13C.PTH.D30.R4.Frac11', 'tatagcgatagcgagt': '13X.NTH.D14.R4.Frac14', 'tatagcgaggatatct': '13X.NTH.D14.R4.Frac18', 'gtctgctaactatctg': '13X.PTH.D1.R4.Frac22', 'acgctactactatctg': '13X.PTH.D14.R4.Frac15', 'actacgacggatatct': '13X.PTH.D1.R4.Frac19', 'acgctactcgtgagtg': '13X.PTH.D14.R4.Frac19', 'cgagagttgtcagata': '13X.NTH.D14.R4.Frac27', 'tgagtacgctgcgtgt': '13C.PTH.D3.R4.Frac8', 'actcactgactatctg': '13X.PTH.D14.R4.Frac23', 'tgagtacgcgtgagtg': '13C.PTH.D3.R4.Frac10', 'tgagtacgcgttacta': '13C.PTH.D30.R4.H2O', 'actacgacctgcgtgt': '13X.PTH.D1.R4.Frac16', 'tgagtacgacgtctcg': '12C.NTH.D7.R4.Frac7', 'acgctactgtcagata': '13C.PTH.D30.R4.Frac18', 'gtctgctactactata': '13X.NTH.D7.R4.Frac19', 'cgagcgacgtcagata': '13X.NTH.D7.R4.Frac10', 'gtctgctacgtgagtg': '13X.PTH.D1.R4.Frac26', 'gtctatgatcatcgag': '13X.NTH.D14.R4.Frac8', 'actacgactcgacgag': '13X.NTH.D7.R4.Frac16', 'ctgcgtagtagcgagt': '13C.PTH.D3.R4.Frac15', 'gacatagttagcgagt': '13X.PTH.D14.R4.Frac8', 'gacatagtagagtcac': '13C.PTH.D30.R4.Frac5', 'gacatagtacgtctcg': '13C.PTH.D30.R4.Frac7', 'tgagtacgggatatct': '13C.PTH.D3.R4.Frac11', 'acgctactcgttacta': '13C.PTH.D30.R4.Frac12', 'cgagcgaccgttacta': '12C.NTH.D4.R4.H2O', 'gacatagtctactata': '13X.NTH.D14.R4.Frac28', 'cgagagtttagcgagt': '12C.PTH.D3.R4.Frac24', 'gtctgctatagcgagt': '13X.PTH.D1.R4.Frac23', 'tgagtacgtacgagac': '12C.NTH.D7.R4.Frac6', 'actacgacgacaccgt': '13X.PTH.D1.R4.Frac20', 'cgagcgacactatctg': '13X.PTH.D1.R4.Frac6', 'tatagcgagatcgtgt': '12C.NTH.D30.R4.Frac16', 'acgctactgatcgtgt': '13C.PTH.D30.R4.Frac17', 'tagtctccctactata': '12C.NTH.D7.R4.Frac19', 'ctgcgtagtcgacgag': '12C.NTH.D7.R4.Frac16', 'cgagagttcgtgagtg': '12C.PTH.D3.R4.Frac27', 'cgagcgacagagtcac': '13X.NTH.D7.R4.Frac5', 'gtctatgagtcagata': '12C.NTH.D30.R4.Frac9', 'tatagcgactgcgtgt': '13X.NTH.D14.R4.Frac15', 'tatagcgagtcagata': '12C.NTH.D30.R4.Frac17', 'gacatagtgacaccgt': '13X.PTH.D14.R4.Frac13', 'cgagagtttcatcgag': '12C.PTH.D3.R4.Frac26', 'cgagagtttacgagac': '13X.NTH.D14.R4.Frac23', 'tagtctccgatcgtgt': '12C.NTH.D7.R4.Frac25', 'actacgactcatcgag': '13X.PTH.D1.R4.Frac17', 'gtctgctatcgacgag': '13X.NTH.D7.R4.Frac24', 'gacatagttcgacgag': '13C.PTH.D30.R4.Frac8', 'tgagtacgtagcgagt': '13C.PTH.D3.R4.Frac7', 'tgagtacgagagtcac': '12C.NTH.D7.R4.Frac5', 'tgagtacggtcagata': '12C.NTH.D7.R4.Frac10', 'tagtctcccgtgagtg': '13C.PTH.D3.R4.Frac26', 'gtctgctagatcgtgt': '13X.NTH.D7.R4.Frac25', 'cgagcgacggatatct': '13X.PTH.D1.R4.Frac11', 'actcactgtcatcgag': '13X.PTH.D14.R4.Frac26', 'actcactggatcgtgt': '13C.PTH.D30.R4.Frac25', 'gtctatgaggatatct': '13X.NTH.D14.R4.Frac10', 'acgctactagagtcac': '13C.PTH.D30.R4.Frac13', 'actcactgatcgtacg': '13X.PTH.D14.R4.Frac22', 'cgagagttgatcgtgt': '13X.NTH.D14.R4.Frac26', 'cgagagttcgttacta': '13X.NTH.D14.R4.Frac21', 'ctgcgtagacgtctcg': '12C.NTH.D7.R4.Frac15', 'actacgacacgtctcg': '13X.NTH.D7.R4.Frac15', 'tagtctccgacaccgt': '13C.PTH.D3.R4.Frac28', 'ctgcgtaggtcagata': '12C.NTH.D7.R4.Frac18', 'tagtctccctgcgtgt': '13C.PTH.D3.R4.Frac24', 'cgagagttactatctg': '12C.PTH.D3.R4.Frac23', 'cgagagttagagtcac': '13X.NTH.D14.R4.Frac22', 'gtctatgagacaccgt': '13X.NTH.D14.R4.Frac11', 'tagtctcctagcgagt': '13C.PTH.D3.R4.Frac23', 'actcactgacgtctcg': '13C.PTH.D30.R4.Frac23', 'cgagagttctactata': '13X.NTH.D14.R4.Frac20', 'cgagcgaccgtgagtg': '13X.PTH.D1.R4.Frac10', 'actcactgtacgagac': '13C.PTH.D30.R4.Frac22', 'ctgcgtagctgcgtgt': '13C.PTH.D3.R4.Frac16', 'tagtctcccgttacta': '12C.NTH.D7.R4.Frac20', 'tagtctcctcatcgag': '13C.PTH.D3.R4.Frac25', 'tatagcgaatcgtacg': '13X.NTH.D14.R4.Frac12', 'gacatagttcatcgag': '13X.PTH.D14.R4.Frac10', 'gtctatgaatcgtacg': '13X.PTH.D1.R4.H2O', 'gtctatgagatcgtgt': '12C.NTH.D30.R4.Frac8', 'cgagcgacatcgtacg': '13C.PTH.D3.R4.H2O', 'cgagagttatcgtacg': '12C.PTH.D3.R4.Frac22', 'gacatagtctgcgtgt': '13X.PTH.D14.R4.Frac9', 'gtctatgaagagtcac': '12C.NTH.D30.R4.Frac4', 'ctgcgtagggatatct': '13C.PTH.D3.R4.Frac19', 'gacatagtcgtgagtg': '13X.PTH.D14.R4.Frac11', 'gacatagtcgttacta': '13X.NTH.D14.R4.H2O', 'acgctactacgtctcg': '13C.PTH.D30.R4.Frac15', 'gacatagtactatctg': '13X.PTH.D14.R4.Frac7', 'tatagcgaacgtctcg': '12C.NTH.D30.R4.Frac14', 'gtctatgaacgtctcg': '12C.NTH.D30.R4.Frac6', 'ctgcgtaggatcgtgt': '12C.NTH.D7.R4.Frac17', 'actacgaccgttacta': '13X.NTH.D7.R4.Frac12', 'gtctgctagtcagata': '13X.NTH.D7.R4.Frac26', 'acgctacttacgagac': '13C.PTH.D30.R4.Frac14', 'ctgcgtagatcgtacg': '13C.PTH.D3.R4.Frac13', 'tagtctcctcgacgag': '12C.NTH.D7.R4.Frac24', 'acgctactatcgtacg': '13X.PTH.D14.R4.Frac14', 'ctgcgtagcgttacta': '12C.NTH.D7.R4.Frac12', 'actacgacagagtcac': '13X.NTH.D7.R4.Frac13', 'cgagcgacctactata': '12C.NTH.D7.R4.Frac27', 'acgctactggatatct': '13X.PTH.D14.R4.Frac20', 'actcactgcgttacta': '13C.PTH.D30.R4.Frac20', 'gtctgctatcatcgag': '13X.PTH.D1.R4.Frac25', 'tgagtacgtcatcgag': '13C.PTH.D3.R4.Frac9', 'cgagagttggatatct': '12C.PTH.D3.R4.Frac28', 'gacatagttacgagac': '13C.PTH.D30.R4.Frac6', 'Rev.indexFwd.index': 'Full.sample', 'cgagagttacgtctcg': '13X.NTH.D14.R4.Frac24', 'ctgcgtagtacgagac': '12C.NTH.D7.R4.Frac14'}\n"
     ]
    }
   ],
   "source": [
    "print map_d"
   ]
  },
  {
   "cell_type": "code",
   "execution_count": 11,
   "metadata": {
    "collapsed": false
   },
   "outputs": [
    {
     "data": {
      "text/plain": [
       "<ScreedDB, '/var/seq_data/FungalSIP/pear_merged_raw-2014-04-24.assembled.fastq_screed'>"
      ]
     },
     "execution_count": 11,
     "metadata": {},
     "output_type": "execute_result"
    }
   ],
   "source": [
    "screed.read_fastq_sequences(\"/var/seq_data/Chazy/515_806_SIP/Pool2/pear_merged_raw-2015-08-15.assembled.fastq_screed\")"
   ]
  },
  {
   "cell_type": "code",
   "execution_count": 9,
   "metadata": {
    "collapsed": false
   },
   "outputs": [],
   "source": [
    "db = screed.ScreedDB(\"/var/seq_data/Chazy/515_806_SIP/Pool2/pear_merged_raw-2015-08-15.assembled.fastq_screed\")"
   ]
  },
  {
   "cell_type": "code",
   "execution_count": 10,
   "metadata": {
    "collapsed": false
   },
   "outputs": [
    {
     "name": "stdout",
     "output_type": "stream",
     "text": [
      "Unable to assign 1299617 reads to samples\n"
     ]
    }
   ],
   "source": [
    "counter = 0\n",
    "unassigned = 0\n",
    "cnt = Counter()\n",
    "fn = \"/var/seq_data/Chazy/515_806_SIP/Pool2/pear_merged_raw-2015-08-15.assembled.dmult.fastq\"\n",
    "with open(fn, \"w\") as out:\n",
    "    for rec in db.itervalues():\n",
    "        index_concat = ir1db[rec[\"name\"]][\"sequence\"] + ir2db[rec[\"name\"]][\"sequence\"]\n",
    "        try:\n",
    "            new_name = map_d[index_concat.lower()] + \"_\" + str(counter) #case sensitive\n",
    "        except KeyError:\n",
    "            unassigned += 1\n",
    "            continue\n",
    "        counter += 1\n",
    "        cnt[map_d[index_concat.lower()]] += 1 #case sensitive\n",
    "        s, q = rec[\"sequence\"], rec[\"accuracy\"]\n",
    "        out.write(\"@%s orig_name=%s\\n%s\\n+\\n%s\\n\"%(new_name,rec[\"name\"],s,q))\n",
    "print \"Unable to assign %s reads to samples\"%unassigned"
   ]
  },
  {
   "cell_type": "code",
   "execution_count": 11,
   "metadata": {
    "collapsed": false
   },
   "outputs": [
    {
     "data": {
      "image/png": "[encoded data removed]",
      "text/plain": [
       "<matplotlib.figure.Figure at 0x7f93a986bc90>"
      ]
     },
     "metadata": {},
     "output_type": "display_data"
    }
   ],
   "source": [
    "X = np.arange(len(cnt.keys()))\n",
    "Y = [v for k, v in cnt.most_common()]\n",
    "fig = plt.figure()\n",
    "fig.set_size_inches((18,8))\n",
    "ax = fig.add_subplot(111)\n",
    "bars = ax.bar(X, Y, width=0.50)\n",
    "xlims = ax.set_xlim((X.min(), X.max()))\n",
    "xt = ax.set_xticks(X)\n",
    "xtl = ax.set_xticklabels([k for k, v in cnt.most_common()], rotation=90, ha=\"center\", size=6)"
   ]
  }
 ],
 "metadata": {
  "kernelspec": {
   "display_name": "Python 2",
   "language": "python",
   "name": "python2"
  },
  "language_info": {
   "codemirror_mode": {
    "name": "ipython",
    "version": 2
   },
   "file_extension": ".py",
   "mimetype": "text/x-python",
   "name": "python",
   "nbconvert_exporter": "python",
   "pygments_lexer": "ipython2",
   "version": "2.7.10"
  }
 },
 "nbformat": 4,
 "nbformat_minor": 0
}
