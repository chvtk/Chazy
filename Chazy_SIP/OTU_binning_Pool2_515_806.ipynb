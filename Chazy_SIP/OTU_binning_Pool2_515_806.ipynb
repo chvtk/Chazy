{
 "cells": [
  {
   "cell_type": "code",
   "execution_count": 1,
   "metadata": {
    "collapsed": false
   },
   "outputs": [],
   "source": [
    "# Imports a parser from cogent\n",
    "from cogent.parse.fasta import MinimalFastaParser as parse"
   ]
  },
  {
   "cell_type": "code",
   "execution_count": 2,
   "metadata": {
    "collapsed": false
   },
   "outputs": [],
   "source": [
    "# applies for the whole segment\n",
    "nprocs = 10"
   ]
  },
  {
   "cell_type": "code",
   "execution_count": 3,
   "metadata": {
    "collapsed": false
   },
   "outputs": [
    {
     "name": "stdout",
     "output_type": "stream",
     "text": [
      ">13X.PTH.D1.R4_Frac15_0\r\n",
      "TACGGAGGGAGCTAGCGTTGTGCTGGATGACTGGGCGTAAAGCGCACGTAGGCGGAACAGAAAGTCAGAGGTGACATCCCAGGGCTCAACCTTGGAACTGCCTTTGAAACTCCTGTGCTTGAGGTCGGGAGAGGTGAGTGGAATTCCGAGGGTAGAGGTGGAATTCGTAGATATTCGGAGGAACACCAGGGGCGAAGGCGGCTCACTGGCTCGATACTGACGCTGAGGTGCGAAAGCGTGGGGAGCAAACAGG\r\n",
      ">13X.PTH.D1.R4_Frac7_1\r\n",
      "TACGTAGGTGGCAAGCGTTATCCGGACTTACGGGGCGTAGAGCGCGCGCAGGTGGTTGCTCAAGTCTGATGTGAAAGCCCACGGCTCAACCGTGGAGGGTCATTGGAAACTGGGAGACTTGAGTGCAGAAGAGGAAAGTGGAATTCCATGTGTAGCGGTGAAATGCGTAGAGATATGGAGGAACACCAGTGGCGAAGGCGACTTTCTGGTCTGTAACTGACACTGAGGCGCGAAAGCGTGGGGAGCAAACAGG\r\n",
      ">13X.NTH.D14.R4_Frac9_2\r\n",
      "GACGGAGGGTGCAAGCGGTGTTCGGACTTACTGGGCGTAAAGCGCGGGCAGGTGGTCTTTTAAGTCCTTTGTGAAATCCCGGGGCTCAACTCCGGATGTGCATAGGATACTGGAAGACTGGAGACTGGTAGAGGCGAGCGGAATTCCTGGTGTAGCGGTGGAATGCGTAGATATCAGGAAGAACACCAGTGGCGAAGGCGACTACCTGGCCTGTTCTTGACGCTGAGGCGCGAAAGCTAGGGGAGCAAACGGG\r\n",
      ">12C.NTH.D30.R4_Frac4_3\r\n",
      "AACGTCGGGTGCAAGCGTTAATCGGAAGTACTGGGCGTAAAGCGAGCGCAGGCGGTCTTGCAAGACAGATGTGAAATCCCCGGGCTTCGCCTGGGAACTGCATTTGTGACTGCAAGGCTGGAGTGCGGCAGAGGGGGATGGAATTCCAGGTGTAGCAGTGAAATGCGTAGCGATCTGGAGGAACACCGATGGCGAAGGCAGCCCCCTGGGCTAACACTGACGCTCATGCACGAAAGCGTGGGGAGCAAACAGG\r\n",
      ">13C.PTH.D30.R4_Frac7_4\r\n",
      "TACGTAGGGTGCGAGCGTTAATCGGAATTGCTGGGCGTAAAGCGCGCGCAGGCGGTTCGCTGTGTCCGATGTGAAAGCCCCGGGCTCAACCTGGGAATGGCATGGGAAACTGGCGGGCTGGAGTGTGGCAGAGGGGGGTGGAATTCCGCGTGTAGCAGTGAAATGCGTAGAGATGCGGAGGAACACCGATGGCGAAGGCAGCCCCCTGGGCCAACACGGACGCTCAGGCACGCAAGCGTGGGGAGCAAACAGG\r\n"
     ]
    }
   ],
   "source": [
    "# Checking out data file.\n",
    "# This file was created using the QC_basic notebook.\n",
    "!head data/finalQC_pool2.fasta"
   ]
  },
  {
   "cell_type": "code",
   "execution_count": 4,
   "metadata": {
    "collapsed": false
   },
   "outputs": [],
   "source": [
    "!sed 's/R4_/R4\\./g' data/finalQC_pool2.fasta > data/finalQC_nound_pool2.fasta"
   ]
  },
  {
   "cell_type": "code",
   "execution_count": 5,
   "metadata": {
    "collapsed": false
   },
   "outputs": [
    {
     "name": "stdout",
     "output_type": "stream",
     "text": [
      ">13X.PTH.D1.R4.Frac15_0\r\n",
      "TACGGAGGGAGCTAGCGTTGTGCTGGATGACTGGGCGTAAAGCGCACGTAGGCGGAACAGAAAGTCAGAGGTGACATCCCAGGGCTCAACCTTGGAACTGCCTTTGAAACTCCTGTGCTTGAGGTCGGGAGAGGTGAGTGGAATTCCGAGGGTAGAGGTGGAATTCGTAGATATTCGGAGGAACACCAGGGGCGAAGGCGGCTCACTGGCTCGATACTGACGCTGAGGTGCGAAAGCGTGGGGAGCAAACAGG\r\n",
      ">13X.PTH.D1.R4.Frac7_1\r\n",
      "TACGTAGGTGGCAAGCGTTATCCGGACTTACGGGGCGTAGAGCGCGCGCAGGTGGTTGCTCAAGTCTGATGTGAAAGCCCACGGCTCAACCGTGGAGGGTCATTGGAAACTGGGAGACTTGAGTGCAGAAGAGGAAAGTGGAATTCCATGTGTAGCGGTGAAATGCGTAGAGATATGGAGGAACACCAGTGGCGAAGGCGACTTTCTGGTCTGTAACTGACACTGAGGCGCGAAAGCGTGGGGAGCAAACAGG\r\n",
      ">13X.NTH.D14.R4.Frac9_2\r\n",
      "GACGGAGGGTGCAAGCGGTGTTCGGACTTACTGGGCGTAAAGCGCGGGCAGGTGGTCTTTTAAGTCCTTTGTGAAATCCCGGGGCTCAACTCCGGATGTGCATAGGATACTGGAAGACTGGAGACTGGTAGAGGCGAGCGGAATTCCTGGTGTAGCGGTGGAATGCGTAGATATCAGGAAGAACACCAGTGGCGAAGGCGACTACCTGGCCTGTTCTTGACGCTGAGGCGCGAAAGCTAGGGGAGCAAACGGG\r\n",
      ">12C.NTH.D30.R4.Frac4_3\r\n",
      "AACGTCGGGTGCAAGCGTTAATCGGAAGTACTGGGCGTAAAGCGAGCGCAGGCGGTCTTGCAAGACAGATGTGAAATCCCCGGGCTTCGCCTGGGAACTGCATTTGTGACTGCAAGGCTGGAGTGCGGCAGAGGGGGATGGAATTCCAGGTGTAGCAGTGAAATGCGTAGCGATCTGGAGGAACACCGATGGCGAAGGCAGCCCCCTGGGCTAACACTGACGCTCATGCACGAAAGCGTGGGGAGCAAACAGG\r\n",
      ">13C.PTH.D30.R4.Frac7_4\r\n",
      "TACGTAGGGTGCGAGCGTTAATCGGAATTGCTGGGCGTAAAGCGCGCGCAGGCGGTTCGCTGTGTCCGATGTGAAAGCCCCGGGCTCAACCTGGGAATGGCATGGGAAACTGGCGGGCTGGAGTGTGGCAGAGGGGGGTGGAATTCCGCGTGTAGCAGTGAAATGCGTAGAGATGCGGAGGAACACCGATGGCGAAGGCAGCCCCCTGGGCCAACACGGACGCTCAGGCACGCAAGCGTGGGGAGCAAACAGG\r\n"
     ]
    }
   ],
   "source": [
    "!head data/finalQC_nound_pool2.fasta"
   ]
  },
  {
   "cell_type": "code",
   "execution_count": 6,
   "metadata": {
    "collapsed": false
   },
   "outputs": [],
   "source": [
    "%%bash\n",
    "# Running the seq separation on mothur instead\n",
    "\n",
    "mothur \"#unique.seqs(fasta=data/finalQC_nound_pool2.fasta)\" > /dev/null"
   ]
  },
  {
   "cell_type": "code",
   "execution_count": 7,
   "metadata": {
    "collapsed": false
   },
   "outputs": [],
   "source": [
    "# Making a dictionary of the names files, splitting it into the first (ID) and second (commas list of all seqs in it)\n",
    "# Then it counts their lengths and saves it in the dictionary\n",
    "\n",
    "counts = {}\n",
    "\n",
    "with open(\"data/finalQC_nound_pool2.names\") as f:\n",
    "    for line in f:\n",
    "        seedID, seqIDs = line.split(\"\\t\")\n",
    "        count = len(seqIDs.split(\",\"))\n",
    "        counts[seedID] = count        "
   ]
  },
  {
   "cell_type": "code",
   "execution_count": 8,
   "metadata": {
    "collapsed": false
   },
   "outputs": [],
   "source": [
    "# Adds the counts from this dictionary to our finalQC.unique file so it looks like a usearch file with \"size=XXX\"\n",
    "\n",
    "with open(\"data/finalQC_nound_pool2.unique.usearch_names.fasta\", \"w\") as f:\n",
    "    for n, s in parse(open(\"data/finalQC_nound_pool2.unique.fasta\")):\n",
    "        f.write(\">%s;size=%s;\\n%s\\n\"%(n,counts[n],s))  "
   ]
  },
  {
   "cell_type": "code",
   "execution_count": 9,
   "metadata": {
    "collapsed": false
   },
   "outputs": [
    {
     "name": "stdout",
     "output_type": "stream",
     "text": [
      ">13X.PTH.D1.R4.Frac15_0;size=1;\r\n",
      "TACGGAGGGAGCTAGCGTTGTGCTGGATGACTGGGCGTAAAGCGCACGTAGGCGGAACAGAAAGTCAGAGGTGACATCCCAGGGCTCAACCTTGGAACTGCCTTTGAAACTCCTGTGCTTGAGGTCGGGAGAGGTGAGTGGAATTCCGAGGGTAGAGGTGGAATTCGTAGATATTCGGAGGAACACCAGGGGCGAAGGCGGCTCACTGGCTCGATACTGACGCTGAGGTGCGAAAGCGTGGGGAGCAAACAGG\r\n",
      ">13X.PTH.D1.R4.Frac7_1;size=1;\r\n",
      "TACGTAGGTGGCAAGCGTTATCCGGACTTACGGGGCGTAGAGCGCGCGCAGGTGGTTGCTCAAGTCTGATGTGAAAGCCCACGGCTCAACCGTGGAGGGTCATTGGAAACTGGGAGACTTGAGTGCAGAAGAGGAAAGTGGAATTCCATGTGTAGCGGTGAAATGCGTAGAGATATGGAGGAACACCAGTGGCGAAGGCGACTTTCTGGTCTGTAACTGACACTGAGGCGCGAAAGCGTGGGGAGCAAACAGG\r\n",
      ">13X.NTH.D14.R4.Frac9_2;size=1;\r\n",
      "GACGGAGGGTGCAAGCGGTGTTCGGACTTACTGGGCGTAAAGCGCGGGCAGGTGGTCTTTTAAGTCCTTTGTGAAATCCCGGGGCTCAACTCCGGATGTGCATAGGATACTGGAAGACTGGAGACTGGTAGAGGCGAGCGGAATTCCTGGTGTAGCGGTGGAATGCGTAGATATCAGGAAGAACACCAGTGGCGAAGGCGACTACCTGGCCTGTTCTTGACGCTGAGGCGCGAAAGCTAGGGGAGCAAACGGG\r\n",
      ">12C.NTH.D30.R4.Frac4_3;size=1;\r\n",
      "AACGTCGGGTGCAAGCGTTAATCGGAAGTACTGGGCGTAAAGCGAGCGCAGGCGGTCTTGCAAGACAGATGTGAAATCCCCGGGCTTCGCCTGGGAACTGCATTTGTGACTGCAAGGCTGGAGTGCGGCAGAGGGGGATGGAATTCCAGGTGTAGCAGTGAAATGCGTAGCGATCTGGAGGAACACCGATGGCGAAGGCAGCCCCCTGGGCTAACACTGACGCTCATGCACGAAAGCGTGGGGAGCAAACAGG\r\n",
      ">13C.PTH.D30.R4.Frac7_4;size=1;\r\n",
      "TACGTAGGGTGCGAGCGTTAATCGGAATTGCTGGGCGTAAAGCGCGCGCAGGCGGTTCGCTGTGTCCGATGTGAAAGCCCCGGGCTCAACCTGGGAATGGCATGGGAAACTGGCGGGCTGGAGTGTGGCAGAGGGGGGTGGAATTCCGCGTGTAGCAGTGAAATGCGTAGAGATGCGGAGGAACACCGATGGCGAAGGCAGCCCCCTGGGCCAACACGGACGCTCAGGCACGCAAGCGTGGGGAGCAAACAGG\r\n"
     ]
    }
   ],
   "source": [
    "!head data/finalQC_nound_pool2.unique.usearch_names.fasta"
   ]
  },
  {
   "cell_type": "code",
   "execution_count": 10,
   "metadata": {
    "collapsed": false
   },
   "outputs": [
    {
     "name": "stdout",
     "output_type": "stream",
     "text": [
      "475M\tdata/finalQC_nound_pool2.fasta\r\n"
     ]
    }
   ],
   "source": [
    "# Chuck looking to see how many Gb this file is.\n",
    "!du -h data/finalQC_nound_pool2.fasta"
   ]
  },
  {
   "cell_type": "code",
   "execution_count": 11,
   "metadata": {
    "collapsed": false
   },
   "outputs": [
    {
     "name": "stdout",
     "output_type": "stream",
     "text": [
      "usearch v7.0.1090_i86linux32, 4.0Gb RAM (132Gb total), 40 cores\n",
      "(C) Copyright 2013 Robert C. Edgar, all rights reserved.\n",
      "http://drive5.com/usearch\n",
      "\n",
      "Licensed to: chuck.peperanney@gmail.com\n",
      "\n",
      "00:00 2.1Mb Reading data/finalQC_nound_pool2.unique.usearch_names.fasta, 488Mb\n",
      "00:01 491Mb 1674343 (1.7M) seqs, min 253, avg 253, max 320nt\n",
      "00:02 511Mb Getting sizes\n",
      "00:04 524Mb Sorting 22110 sequences\n",
      "00:04 524Mb  100.0% Writing data/finalQC_nound_pool2.unique_sorted.fasta\n"
     ]
    }
   ],
   "source": [
    "# Sequences are sorted by size\n",
    "# Here the size of clusters - we are excluding the singletons here\n",
    "# You would change minsize to 1 if you wanted to include singletons\n",
    "# Or, you know, just not do this step.\n",
    "# But you should just get rid of them.\n",
    "!usearch -sortbysize data/finalQC_nound_pool2.unique.usearch_names.fasta -output data/finalQC_nound_pool2.unique_sorted.fasta -minsize 2"
   ]
  },
  {
   "cell_type": "code",
   "execution_count": 12,
   "metadata": {
    "collapsed": false
   },
   "outputs": [
    {
     "name": "stdout",
     "output_type": "stream",
     "text": [
      ">13X.PTH.D1.R4.Frac18_4383;size=1639;\r\n",
      "TACGTAGGGCGCAAGCGTTATCCGGAATTATTGGGCGTAAAGAGCTCGTAGGCGGTTTGTCGCGTCTGCCGTGAAAGTCC\r\n",
      "GGGGCTCAACTCCGGATCTGCGGTGGGTACGGGCAGACTAGAGTGATGTAGGGGAGACTGGAATTCCTGGTGTAGCGGTG\r\n",
      "AAATGCGCAGATATCAGGAGGAACACCGATGGCGAAGGCAGGTCTCTGGGCATTAACTGACGCTGAGGAGCGAAAGCATG\r\n",
      "GGGAGCGAACAGG\r\n",
      ">12C.PTH.D3.R4.Frac22_2230;size=707;\r\n",
      "TACAGAGGGTGCAAGCGTTAATCGGAATTACTGGGCGTAAAGCGCGCGTAGGTGGTTTGTTAAGTTGGATGTGAAAGCCC\r\n",
      "CGGGCTCAACCTGGGAACTGCATTCAAAACTGACAAGCTAGAGTATGGTAGAGGGTGGTGGAATTTCCTGTGTAGCGGTG\r\n",
      "AAATGCGTAGATATAGGAAGGAACACCAGTGGCGAAGGCGACCACCTGGACTGATACTGACACTGAGGTGCGAAAGCGTG\r\n",
      "GGGAGCAAACAGG\r\n"
     ]
    }
   ],
   "source": [
    "# Checking data\n",
    "# You can see here, the first two sequences we saw above are now gone.\n",
    "!head data/finalQC_nound_pool2.unique_sorted.fasta"
   ]
  },
  {
   "cell_type": "code",
   "execution_count": 13,
   "metadata": {
    "collapsed": false
   },
   "outputs": [
    {
     "name": "stdout",
     "output_type": "stream",
     "text": [
      "usearch v7.0.1090_i86linux32, 4.0Gb RAM (132Gb total), 40 cores\n",
      "(C) Copyright 2013 Robert C. Edgar, all rights reserved.\n",
      "http://drive5.com/usearch\n",
      "\n",
      "Licensed to: chuck.peperanney@gmail.com\n",
      "\n",
      "00:05  45Mb  100.0% 1857 OTUs\n",
      "                             \n",
      "Input seqs  22110 (22.1k)\n",
      "      OTUs  1857\n",
      "   Members  19463 (19.5k)\n",
      "  Chimeras  790\n",
      "   Max mem  45Mb\n",
      "      Time  5.00s\n",
      "Throughput  4422.0 seqs/sec.\n",
      "\n"
     ]
    }
   ],
   "source": [
    "# This is the clustering command.\n",
    "# Default is 97% minimum ID.\n",
    "# Not recommended to use more than 97%.\n",
    "# Creates the centroids, or \"seeds\"\n",
    "# Then you can take them out\n",
    "!usearch -cluster_otus data/finalQC_nound_pool2.unique_sorted.fasta -otus data/otus_pool2.fasta"
   ]
  },
  {
   "cell_type": "code",
   "execution_count": 14,
   "metadata": {
    "collapsed": false
   },
   "outputs": [],
   "source": [
    "# Making another file\n",
    "# Figure this out (what is this?)\n",
    "# This is a script (fasta_number.py) that replaces fasta names with XXX1, XXX2, etc.\n",
    "# In our case, it is replacing the names with OTU.1, OTU.2, etc., and outputs it into a file called otusn.fasta\n",
    "!/opt/bioinfo/edgar_python_scripts/fasta_number.py data/otus_pool2.fasta OTU. > data/otusn_pool2.fasta"
   ]
  },
  {
   "cell_type": "code",
   "execution_count": 15,
   "metadata": {
    "collapsed": false
   },
   "outputs": [
    {
     "name": "stdout",
     "output_type": "stream",
     "text": [
      ">OTU.1\r\n",
      "TACGTAGGGCGCAAGCGTTATCCGGAATTATTGGGCGTAAAGAGCTCGTAGGCGGTTTGTCGCGTCTGCCGTGAAAGTCC\r\n",
      "GGGGCTCAACTCCGGATCTGCGGTGGGTACGGGCAGACTAGAGTGATGTAGGGGAGACTGGAATTCCTGGTGTAGCGGTG\r\n",
      "AAATGCGCAGATATCAGGAGGAACACCGATGGCGAAGGCAGGTCTCTGGGCATTAACTGACGCTGAGGAGCGAAAGCATG\r\n",
      "GGGAGCGAACAGG\r\n",
      ">OTU.2\r\n",
      "TACAGAGGGTGCAAGCGTTAATCGGAATTACTGGGCGTAAAGCgcgcgTAGGTGGTTTGTTAAGTTGGATGTGAAAGCCC\r\n",
      "CGGGCTCAACCTGGGAACTGCATTCAAAACTGACAAGCTAGAGTATGGTAGAGGGTGGTGGAATTTCCTGTGTAGCGGTG\r\n",
      "AAATGCGTAGATATAGGAAGGAACACCAGTGGCGAAGGCGACCACCTGGACTGATACTGACACTGAGGTGCGAAAGCGTG\r\n",
      "GGGAGCAAACAGG\r\n"
     ]
    }
   ],
   "source": [
    "!head data/otusn_pool2.fasta"
   ]
  },
  {
   "cell_type": "markdown",
   "metadata": {},
   "source": [
    "### Removing Chloroplast, Eukaryal, and Archaeal sequences"
   ]
  },
  {
   "cell_type": "code",
   "execution_count": 28,
   "metadata": {
    "collapsed": false
   },
   "outputs": [],
   "source": [
    "# You do need to assign taxonomy in order to pull out the Euks., etc.\n",
    "# I could cp these files from the server to wherever I need them.\n",
    "# Input is your fasta file\n",
    "# Output is a fasta with taxonomy assinged (still working with unique seqs)\n",
    "# This didn't work first, because Chuck had to delete a \"jobs\" folder in the tmp directory.\n",
    "\n",
    "!parallel_assign_taxonomy_uclust.py \\\n",
    "-r /home/chantal/RNASIP/data/databases/Silva_111_post/no_ambiguous_bases_files/97_Silva_111_rep_set_no_ambig.fasta \\\n",
    "-t /home/chantal/RNASIP/data/databases/Silva_111_post/taxonomy/Silva_111_taxa_map_full.txt \\\n",
    "-O 10 \\\n",
    "-i data/otusn_pool2.fasta \\\n",
    "-o data/otusn_pool2_tax"
   ]
  },
  {
   "cell_type": "code",
   "execution_count": 29,
   "metadata": {
    "collapsed": false
   },
   "outputs": [],
   "source": [
    "# This makes a file of what we want to remove\n",
    "# Could change this to pull out different groups.\n",
    "# These primers actually had good Archaeal targets - so, it would be okay to include them.\n",
    "!egrep \"Chloroplast|Eukaryota|Archaea|mitochondria\" \\\n",
    "data/otusn_pool2_tax/otusn_pool2_tax_assignments.txt \\\n",
    "| awk '{print $1}' > data/to_remove_tax.accnos"
   ]
  },
  {
   "cell_type": "code",
   "execution_count": 30,
   "metadata": {
    "collapsed": false
   },
   "outputs": [
    {
     "name": "stdout",
     "output_type": "stream",
     "text": [
      "40 data/to_remove_tax.accnos\r\n"
     ]
    }
   ],
   "source": [
    "# wc is number of lines of the taxa that will be removed\n",
    "!wc -l data/to_remove_tax.accnos"
   ]
  },
  {
   "cell_type": "code",
   "execution_count": 31,
   "metadata": {
    "collapsed": false
   },
   "outputs": [
    {
     "name": "stdout",
     "output_type": "stream",
     "text": [
      "OTU.114\r\n",
      "OTU.177\r\n",
      "OTU.173\r\n",
      "OTU.106\r\n",
      "OTU.104\r\n",
      "OTU.168\r\n",
      "OTU.67\r\n",
      "OTU.73\r\n",
      "OTU.26\r\n",
      "OTU.208\r\n"
     ]
    }
   ],
   "source": [
    "# Looking at what you're removing\n",
    "!head data/to_remove_tax.accnos"
   ]
  },
  {
   "cell_type": "code",
   "execution_count": 32,
   "metadata": {
    "collapsed": false
   },
   "outputs": [
    {
     "name": "stdout",
     "output_type": "stream",
     "text": [
      "\u001b[H\u001b[2J\n",
      "\n",
      "\n",
      "\n",
      "\n",
      "\n",
      "mothur v.1.32.1\n",
      "Last updated: 10/16/2013\n",
      "\n",
      "by\n",
      "Patrick D. Schloss\n",
      "\n",
      "Department of Microbiology & Immunology\n",
      "University of Michigan\n",
      "pschloss@umich.edu\n",
      "http://www.mothur.org\n",
      "\n",
      "When using, please cite:\n",
      "Schloss, P.D., et al., Introducing mothur: Open-source, platform-independent, community-supported software for describing and comparing microbial communities. Appl Environ Microbiol, 2009. 75(23):7537-41.\n",
      "\n",
      "Distributed under the GNU General Public License\n",
      "\n",
      "Type 'help()' for information on the commands that are available\n",
      "\n",
      "Type 'quit()' to exit program\n",
      "\n",
      "\n",
      "\n",
      "mothur > remove.seqs(fasta=data/otusn_pool2.fasta, accnos=data/to_remove_tax.accnos)\n",
      "Removed 40 sequences from your fasta file.\n",
      "\n",
      "Output File Names: \n",
      "data/otusn_pool2.pick.fasta\n",
      "\n",
      "\n",
      "mothur > quit()\n"
     ]
    }
   ],
   "source": [
    "%%bash\n",
    "# Remove.seqs command will actually remove these taxa\n",
    "mothur \"#remove.seqs(fasta=data/otusn_pool2.fasta, \\\n",
    "accnos=data/to_remove_tax.accnos)\" #> /dev/null"
   ]
  },
  {
   "cell_type": "markdown",
   "metadata": {},
   "source": [
    "### Mapping Reads"
   ]
  },
  {
   "cell_type": "code",
   "execution_count": 33,
   "metadata": {
    "collapsed": false
   },
   "outputs": [],
   "source": [
    "# Pulling out the sample identifier.\n",
    "# It is adding a portion to the finalQC file that has the barcode label.\n",
    "# Then we can use this later\n",
    "# Now we will see how these reads map to the defined centroids (after removing EuK, etc.)\n",
    "# Basically, we cut, cut, refined our fasta to make our OTU centroids.\n",
    "# THEN, we went back to our original QC'd total fasta file and will throw it all against these nicely defined seeds.\n",
    "# Anything that doesn't match, we won't keep.\n",
    "!awk -F\"_\" \\\n",
    "'BEGIN{OFS=\";\"}{ if ( substr($1,0,1) == \">\"){ print $0,\"barcodelabel=\",$1 } else { print $0 } }' \\\n",
    "data/finalQC_nound_pool2.fasta | \\\n",
    "sed 's/;>//' > data/finalQC_pool2_usearchfmt.fasta"
   ]
  },
  {
   "cell_type": "code",
   "execution_count": 34,
   "metadata": {
    "collapsed": false
   },
   "outputs": [
    {
     "name": "stdout",
     "output_type": "stream",
     "text": [
      ">13X.PTH.D1.R4.Frac15_0;barcodelabel=13X.PTH.D1.R4.Frac15\r\n",
      "TACGGAGGGAGCTAGCGTTGTGCTGGATGACTGGGCGTAAAGCGCACGTAGGCGGAACAGAAAGTCAGAGGTGACATCCCAGGGCTCAACCTTGGAACTGCCTTTGAAACTCCTGTGCTTGAGGTCGGGAGAGGTGAGTGGAATTCCGAGGGTAGAGGTGGAATTCGTAGATATTCGGAGGAACACCAGGGGCGAAGGCGGCTCACTGGCTCGATACTGACGCTGAGGTGCGAAAGCGTGGGGAGCAAACAGG\r\n",
      ">13X.PTH.D1.R4.Frac7_1;barcodelabel=13X.PTH.D1.R4.Frac7\r\n",
      "TACGTAGGTGGCAAGCGTTATCCGGACTTACGGGGCGTAGAGCGCGCGCAGGTGGTTGCTCAAGTCTGATGTGAAAGCCCACGGCTCAACCGTGGAGGGTCATTGGAAACTGGGAGACTTGAGTGCAGAAGAGGAAAGTGGAATTCCATGTGTAGCGGTGAAATGCGTAGAGATATGGAGGAACACCAGTGGCGAAGGCGACTTTCTGGTCTGTAACTGACACTGAGGCGCGAAAGCGTGGGGAGCAAACAGG\r\n",
      ">13X.NTH.D14.R4.Frac9_2;barcodelabel=13X.NTH.D14.R4.Frac9\r\n",
      "GACGGAGGGTGCAAGCGGTGTTCGGACTTACTGGGCGTAAAGCGCGGGCAGGTGGTCTTTTAAGTCCTTTGTGAAATCCCGGGGCTCAACTCCGGATGTGCATAGGATACTGGAAGACTGGAGACTGGTAGAGGCGAGCGGAATTCCTGGTGTAGCGGTGGAATGCGTAGATATCAGGAAGAACACCAGTGGCGAAGGCGACTACCTGGCCTGTTCTTGACGCTGAGGCGCGAAAGCTAGGGGAGCAAACGGG\r\n",
      ">12C.NTH.D30.R4.Frac4_3;barcodelabel=12C.NTH.D30.R4.Frac4\r\n",
      "AACGTCGGGTGCAAGCGTTAATCGGAAGTACTGGGCGTAAAGCGAGCGCAGGCGGTCTTGCAAGACAGATGTGAAATCCCCGGGCTTCGCCTGGGAACTGCATTTGTGACTGCAAGGCTGGAGTGCGGCAGAGGGGGATGGAATTCCAGGTGTAGCAGTGAAATGCGTAGCGATCTGGAGGAACACCGATGGCGAAGGCAGCCCCCTGGGCTAACACTGACGCTCATGCACGAAAGCGTGGGGAGCAAACAGG\r\n",
      ">13C.PTH.D30.R4.Frac7_4;barcodelabel=13C.PTH.D30.R4.Frac7\r\n",
      "TACGTAGGGTGCGAGCGTTAATCGGAATTGCTGGGCGTAAAGCGCGCGCAGGCGGTTCGCTGTGTCCGATGTGAAAGCCCCGGGCTCAACCTGGGAATGGCATGGGAAACTGGCGGGCTGGAGTGTGGCAGAGGGGGGTGGAATTCCGCGTGTAGCAGTGAAATGCGTAGAGATGCGGAGGAACACCGATGGCGAAGGCAGCCCCCTGGGCCAACACGGACGCTCAGGCACGCAAGCGTGGGGAGCAAACAGG\r\n"
     ]
    }
   ],
   "source": [
    "!head data/finalQC_pool2_usearchfmt.fasta"
   ]
  },
  {
   "cell_type": "code",
   "execution_count": 35,
   "metadata": {
    "collapsed": false
   },
   "outputs": [
    {
     "name": "stdout",
     "output_type": "stream",
     "text": [
      "usearch v7.0.1090_i86linux32, 4.0Gb RAM (132Gb total), 40 cores\n",
      "(C) Copyright 2013 Robert C. Edgar, all rights reserved.\n",
      "http://drive5.com/usearch\n",
      "\n",
      "Licensed to: chuck.peperanney@gmail.com\n",
      "\n",
      "00:00  19Mb Reading data/otusn_pool2.fasta, 494.9kb\n",
      "00:00  19Mb 1857 seqs, min 253, avg 253, max 273nt\n",
      "00:00  19Mb  100.0% Masking\n",
      "00:00  20Mb  100.0% Word stats\n",
      "00:00  23Mb  100.0% Building slots\n",
      "00:00  22Mb  100.0% Build index\n",
      "00:18 167Mb  100.0% Searching, 36.3% matched\n"
     ]
    }
   ],
   "source": [
    "# This is where the actual OTUs are being assigned. We choose 97% sequence ID threshold here.\n",
    "# This might take a while - like 5 minutes\n",
    "# Depending ont he clustering algorithm, like pairwise... it would take, like, days on the same number of processors.\n",
    "# This is why usearch (centroid-based) is so much better\n",
    "# But is it more biologically relevant? ... maybe, maybe not.\n",
    "# Edgar is showing it's not that bad.\n",
    "\n",
    "# We take our total QC data (modified above to have the sample ID extracted)\n",
    "# We compare it to the otusn.pick.fasta database we made above\n",
    "# We produce a readmap.uc file which tells us how the reads from our finalQC file map to the otusn seed database.\n",
    "\n",
    "!usearch -usearch_global data/finalQC_pool2_usearchfmt.fasta \\\n",
    "-db data/otusn_pool2.fasta \\\n",
    "-strand plus -id 0.97 \\\n",
    "-uc data/readmap_pool2.uc \\\n",
    "-threads 15"
   ]
  },
  {
   "cell_type": "code",
   "execution_count": 36,
   "metadata": {
    "collapsed": false
   },
   "outputs": [
    {
     "name": "stdout",
     "output_type": "stream",
     "text": [
      "data/readmap_pool2.uc 100.0%   \n"
     ]
    }
   ],
   "source": [
    "# Makes an OTU table\n",
    "# It will tell me the OTU ID, and then for all the samples, which OTUs it has sequences from.\n",
    "!python /opt/bioinfo/edgar_python_scripts/uc2otutab.py data/readmap_pool2.uc > data/otu_table_pool2.txt"
   ]
  },
  {
   "cell_type": "code",
   "execution_count": 37,
   "metadata": {
    "collapsed": false
   },
   "outputs": [],
   "source": [
    "# Issues with biom table formatting\n",
    "!if [ -f data/otu_table_pool2.biom ]; then rm data/otu_table_pool2.biom; fi #This is to mitigate a biom bug\n",
    "!biom convert -i data/otu_table_pool2.txt -o data/otu_table_pool2.biom --table-type \"otu table\""
   ]
  },
  {
   "cell_type": "code",
   "execution_count": 38,
   "metadata": {
    "collapsed": false
   },
   "outputs": [],
   "source": [
    "# Issues with biom table formatting\n",
    "!if [ -f data/otu_table_pool2_summary.txt ]; then rm data/otu_table_pool2_summary.txt; fi #This is to mitigate a biom bug\n",
    "!biom summarize-table -i data/otu_table_pool2.biom -o data/otu_table_pool2_summary.txt"
   ]
  },
  {
   "cell_type": "code",
   "execution_count": 41,
   "metadata": {
    "collapsed": false
   },
   "outputs": [
    {
     "name": "stdout",
     "output_type": "stream",
     "text": [
      "Num samples: 192\r\n",
      "Num observations: 1857\r\n",
      "Total count: 635403\r\n",
      "Table density (fraction of non-zero values): 0.318\r\n",
      "Table md5 (unzipped): e1caded99d3a429394a931e75507eaea\r\n",
      "\r\n",
      "Counts/sample summary:\r\n",
      " Min: 52.0\r\n",
      " Max: 10054.0\r\n",
      " Median: 2980.500\r\n",
      " Mean: 3309.391\r\n",
      " Std. dev.: 1624.281\r\n",
      " Sample Metadata Categories: None provided\r\n",
      " Observation Metadata Categories: None provided\r\n",
      "\r\n",
      "Counts/sample detail:\r\n",
      " 12C.PTH.D3.R4.H2O: 52.0\r\n",
      " 13C.PTH.D3.R4.H2O: 103.0\r\n",
      " 13X.PTH.D14.R4.H2O: 180.0\r\n",
      " 13C.PTH.D30.R4.H2O: 298.0\r\n",
      " 13X.PTH.D1.R4.H2O: 474.0\r\n",
      " 13X.NTH.D14.R4.H2O: 576.0\r\n",
      " 13X.NTH.D7.R4.H2O: 719.0\r\n",
      " 12C.NTH.D4.R4.H2O: 928.0\r\n",
      " 13X.PTH.D14.R4.Frac23: 1197.0\r\n",
      " 12C.NTH.D7.R4.Frac23: 1237.0\r\n",
      " 13X.NTH.D7.R4.Frac23: 1323.0\r\n",
      " 13X.PTH.D1.R4.Frac22: 1326.0\r\n",
      " 13X.NTH.D14.R4.Frac24: 1347.0\r\n",
      " 12C.NTH.D7.R4.Frac15: 1365.0\r\n",
      " 13C.PTH.D3.R4.Frac20: 1398.0\r\n",
      " 13C.PTH.D30.R4.Frac23: 1403.0\r\n",
      " 13C.PTH.D3.R4.Frac14: 1405.0\r\n",
      " 13C.PTH.D3.R4.Frac6: 1518.0\r\n",
      " 12C.PTH.D3.R4.Frac23: 1550.0\r\n",
      " 13C.PTH.D3.R4.Frac22: 1559.0\r\n",
      " 13C.PTH.D30.R4.Frac15: 1603.0\r\n",
      " 13X.PTH.D1.R4.Frac24: 1620.0\r\n",
      " 13C.PTH.D30.R4.Frac27: 1751.0\r\n",
      " 13C.PTH.D3.R4.Frac16: 1773.0\r\n",
      " 13X.PTH.D14.R4.Frac21: 1783.0\r\n",
      " 12C.PTH.D3.R4.Frac22: 1818.0\r\n",
      " 12C.NTH.D7.R4.Frac7: 1843.0\r\n",
      " 13X.PTH.D14.R4.Frac7: 1847.0\r\n",
      " 13X.PTH.D14.R4.Frac25: 1853.0\r\n",
      " 13C.PTH.D30.R4.Frac19: 1859.0\r\n",
      " 13C.PTH.D3.R4.Frac12: 1875.0\r\n",
      " 13X.PTH.D14.R4.Frac22: 1888.0\r\n",
      " 13X.NTH.D7.R4.Frac15: 1937.0\r\n",
      " 12C.NTH.D7.R4.Frac12: 1984.0\r\n",
      " 13C.PTH.D3.R4.Frac18: 1999.0\r\n",
      " 13X.PTH.D14.R4.Frac15: 2020.0\r\n",
      " 13X.NTH.D14.R4.Frac5: 2033.0\r\n",
      " 13X.NTH.D14.R4.Frac13: 2034.0\r\n",
      " 13X.PTH.D1.R4.Frac28: 2041.0\r\n",
      " 13C.PTH.D30.R4.Frac7: 2046.0\r\n",
      " 13X.PTH.D14.R4.Frac27: 2061.0\r\n",
      " 13X.PTH.D1.R4.Frac21: 2062.0\r\n",
      " 13C.PTH.D3.R4.Frac10: 2067.0\r\n",
      " 13X.NTH.D7.R4.Frac7: 2071.0\r\n",
      " 13C.PTH.D3.R4.Frac13: 2121.0\r\n",
      " 13C.PTH.D3.R4.Frac24: 2127.0\r\n",
      " 13X.NTH.D14.R4.Frac19: 2131.0\r\n",
      " 13X.PTH.D1.R4.Frac14: 2150.0\r\n",
      " 13X.PTH.D1.R4.Frac6: 2152.0\r\n",
      " 13C.PTH.D3.R4.Frac28: 2155.0\r\n",
      " 13X.PTH.D1.R4.Frac20: 2170.0\r\n",
      " 13C.PTH.D30.R4.Frac16: 2204.0\r\n",
      " 13X.NTH.D7.R4.Frac20: 2207.0\r\n",
      " 12C.PTH.D3.R4.Frac25: 2244.0\r\n",
      " 12C.NTH.D30.R4.Frac14: 2244.0\r\n",
      " 12C.NTH.D7.R4.Frac16: 2260.0\r\n",
      " 13X.NTH.D14.R4.Frac11: 2261.0\r\n",
      " 13C.PTH.D3.R4.Frac5: 2275.0\r\n",
      " 13C.PTH.D3.R4.Frac8: 2277.0\r\n",
      " 13C.PTH.D3.R4.Frac21: 2291.0\r\n",
      " 12C.NTH.D7.R4.Frac21: 2293.0\r\n",
      " 13C.PTH.D30.R4.Frac21: 2310.0\r\n",
      " 13X.PTH.D1.R4.Frac26: 2359.0\r\n",
      " 13X.PTH.D14.R4.Frac11: 2373.0\r\n",
      " 13X.NTH.D14.R4.Frac22: 2384.0\r\n",
      " 13X.PTH.D14.R4.Frac13: 2384.0\r\n",
      " 12C.NTH.D7.R4.Frac20: 2421.0\r\n",
      " 13X.NTH.D14.R4.Frac7: 2435.0\r\n",
      " 13X.NTH.D14.R4.Frac21: 2438.0\r\n",
      " 12C.NTH.D7.R4.Frac24: 2445.0\r\n",
      " 13C.PTH.D3.R4.Frac19: 2463.0\r\n",
      " 13X.PTH.D14.R4.Frac6: 2488.0\r\n",
      " 13X.PTH.D14.R4.Frac9: 2511.0\r\n",
      " 13X.NTH.D7.R4.Frac21: 2564.0\r\n",
      " 13X.PTH.D14.R4.Frac17: 2564.0\r\n",
      " 13C.PTH.D30.R4.Frac12: 2619.0\r\n",
      " 13X.PTH.D1.R4.Frac12: 2640.0\r\n",
      " 13X.NTH.D14.R4.Frac12: 2665.0\r\n",
      " 13X.PTH.D14.R4.Frac14: 2678.0\r\n",
      " 13C.PTH.D3.R4.Frac26: 2700.0\r\n",
      " 13X.PTH.D1.R4.Frac8: 2729.0\r\n",
      " 13X.NTH.D14.R4.Frac20: 2746.0\r\n",
      " 12C.PTH.D3.R4.Frac27: 2772.0\r\n",
      " 13C.PTH.D30.R4.Frac20: 2779.0\r\n",
      " 13X.PTH.D14.R4.Frac19: 2780.0\r\n",
      " 13X.NTH.D7.R4.Frac24: 2822.0\r\n",
      " 13C.PTH.D30.R4.Frac13: 2823.0\r\n",
      " 12C.NTH.D7.R4.Frac11: 2848.0\r\n",
      " 13X.NTH.D14.R4.Frac25: 2880.0\r\n",
      " 13X.NTH.D14.R4.Frac17: 2888.0\r\n",
      " 12C.NTH.D30.R4.Frac6: 2935.0\r\n",
      " 13C.PTH.D30.R4.Frac11: 2939.0\r\n",
      " 13X.PTH.D1.R4.Frac10: 2942.0\r\n",
      " 12C.NTH.D7.R4.Frac13: 2953.0\r\n",
      " 12C.NTH.D30.R4.Frac15: 2956.0\r\n",
      " 13C.PTH.D30.R4.Frac24: 2968.0\r\n",
      " 12C.NTH.D7.R4.Frac5: 2993.0\r\n",
      " 12C.NTH.D7.R4.Frac8: 3033.0\r\n",
      " 13X.NTH.D14.R4.Frac9: 3056.0\r\n",
      " 13C.PTH.D30.R4.Frac8: 3086.0\r\n",
      " 13X.NTH.D14.R4.Frac15: 3093.0\r\n",
      " 13C.PTH.D3.R4.Frac17: 3093.0\r\n",
      " 12C.NTH.D7.R4.Frac18: 3134.0\r\n",
      " 13C.PTH.D30.R4.Frac10: 3164.0\r\n",
      " 13X.NTH.D7.R4.Frac12: 3166.0\r\n",
      " 12C.NTH.D30.R4.Frac11: 3233.0\r\n",
      " 13C.PTH.D3.R4.Frac11: 3271.0\r\n",
      " 13X.PTH.D14.R4.Frac20: 3327.0\r\n",
      " 13X.PTH.D14.R4.Frac26: 3347.0\r\n",
      " 13X.PTH.D1.R4.Frac27: 3398.0\r\n",
      " 13X.NTH.D7.R4.Frac8: 3409.0\r\n",
      " 12C.NTH.D7.R4.Frac10: 3433.0\r\n",
      " 13X.NTH.D7.R4.Frac19: 3462.0\r\n",
      " 13C.PTH.D3.R4.Frac9: 3512.0\r\n",
      " 13X.PTH.D1.R4.Frac13: 3521.0\r\n",
      " 13X.PTH.D1.R4.Frac16: 3525.0\r\n",
      " 13C.PTH.D30.R4.Frac18: 3589.0\r\n",
      " 13X.NTH.D14.R4.Frac10: 3640.0\r\n",
      " 13X.NTH.D14.R4.Frac18: 3642.0\r\n",
      " 13X.PTH.D1.R4.Frac25: 3663.0\r\n",
      " 13X.PTH.D1.R4.Frac18: 3700.0\r\n",
      " 12C.PTH.D3.R4.Frac26: 3738.0\r\n",
      " 13X.NTH.D7.R4.Frac16: 3810.0\r\n",
      " 13C.PTH.D3.R4.Frac27: 3841.0\r\n",
      " 12C.NTH.D30.R4.Frac17: 3845.0\r\n",
      " 13X.PTH.D14.R4.Frac18: 3862.0\r\n",
      " 13C.PTH.D30.R4.Frac25: 3908.0\r\n",
      " 12C.NTH.D7.R4.Frac22: 3914.0\r\n",
      " 13X.NTH.D14.R4.Frac23: 3917.0\r\n",
      " 12C.NTH.D7.R4.Frac19: 3929.0\r\n",
      " 13C.PTH.D30.R4.Frac5: 3943.0\r\n",
      " 12C.NTH.D7.R4.Frac17: 3944.0\r\n",
      " 12C.NTH.D7.R4.Frac25: 3976.0\r\n",
      " 12C.NTH.D7.R4.Frac14: 4018.0\r\n",
      " 12C.NTH.D30.R4.Frac16: 4022.0\r\n",
      " 13X.PTH.D14.R4.Frac12: 4030.0\r\n",
      " 13X.NTH.D7.R4.Frac25: 4084.0\r\n",
      " 12C.NTH.D7.R4.Frac9: 4087.0\r\n",
      " 13C.PTH.D3.R4.Frac15: 4094.0\r\n",
      " 13X.NTH.D14.R4.Frac16: 4096.0\r\n",
      " 13X.PTH.D14.R4.Frac24: 4100.0\r\n",
      " 13X.NTH.D7.R4.Frac11: 4216.0\r\n",
      " 12C.NTH.D30.R4.Frac7: 4230.0\r\n",
      " 13X.NTH.D14.R4.Frac27: 4260.0\r\n",
      " 12C.NTH.D30.R4.Frac10: 4267.0\r\n",
      " 13X.PTH.D14.R4.Frac10: 4278.0\r\n",
      " 13X.NTH.D14.R4.Frac8: 4291.0\r\n",
      " 12C.PTH.D3.R4.Frac24: 4293.0\r\n",
      " 13C.PTH.D3.R4.Frac25: 4310.0\r\n",
      " 13X.PTH.D1.R4.Frac11: 4313.0\r\n",
      " 13C.PTH.D30.R4.Frac14: 4363.0\r\n",
      " 13X.PTH.D1.R4.Frac23: 4376.0\r\n",
      " 13X.NTH.D7.R4.Frac18: 4460.0\r\n",
      " 13X.PTH.D1.R4.Frac19: 4463.0\r\n",
      " 13C.PTH.D30.R4.Frac22: 4541.0\r\n",
      " 12C.NTH.D7.R4.Frac27: 4554.0\r\n",
      " 12C.NTH.D30.R4.Frac8: 4580.0\r\n",
      " 13X.NTH.D7.R4.Frac26: 4619.0\r\n",
      " 13X.NTH.D7.R4.Frac5: 4636.0\r\n",
      " 13C.PTH.D3.R4.Frac23: 4694.0\r\n",
      " 13X.NTH.D7.R4.Frac22: 4747.0\r\n",
      " 12C.NTH.D7.R4.Frac6: 4764.0\r\n",
      " 12C.NTH.D7.R4.Frac26: 4850.0\r\n",
      " 13C.PTH.D30.R4.Frac26: 4916.0\r\n",
      " 12C.PTH.D3.R4.Frac28: 4987.0\r\n",
      " 13X.NTH.D7.R4.Frac17: 5031.0\r\n",
      " 13X.NTH.D14.R4.Frac26: 5108.0\r\n",
      " 13X.PTH.D14.R4.Frac28: 5110.0\r\n",
      " 13C.PTH.D30.R4.Frac17: 5116.0\r\n",
      " 13X.PTH.D14.R4.Frac16: 5152.0\r\n",
      " 12C.NTH.D30.R4.Frac12: 5255.0\r\n",
      " 13C.PTH.D3.R4.Frac7: 5273.0\r\n",
      " 13X.NTH.D7.R4.Frac13: 5283.0\r\n",
      " 13C.PTH.D30.R4.Frac9: 5455.0\r\n",
      " 13X.PTH.D1.R4.Frac9: 5477.0\r\n",
      " 13X.NTH.D14.R4.Frac6: 5702.0\r\n",
      " 13X.NTH.D14.R4.Frac14: 5837.0\r\n",
      " 13X.NTH.D7.R4.Frac10: 5976.0\r\n",
      " 13X.NTH.D7.R4.Frac27: 6032.0\r\n",
      " 13X.PTH.D14.R4.Frac8: 6232.0\r\n",
      " 13X.NTH.D7.R4.Frac9: 6240.0\r\n",
      " 13X.NTH.D14.R4.Frac28: 6265.0\r\n",
      " 13X.NTH.D7.R4.Frac6: 6332.0\r\n",
      " 12C.NTH.D30.R4.Frac4: 6425.0\r\n",
      " 13X.PTH.D1.R4.Frac17: 6452.0\r\n",
      " 13C.PTH.D30.R4.Frac6: 6884.0\r\n",
      " 13X.PTH.D1.R4.Frac7: 6945.0\r\n",
      " 13X.NTH.D7.R4.Frac14: 7020.0\r\n",
      " 12C.NTH.D30.R4.Frac13: 7560.0\r\n",
      " 12C.NTH.D30.R4.Frac9: 7722.0\r\n",
      " 13X.PTH.D1.R4.Frac15: 8220.0\r\n",
      " 12C.NTH.D30.R4.Frac5: 10054.0\r\n"
     ]
    }
   ],
   "source": [
    "# This tells us the overall data info\n",
    "# Num obs = OTUs\n",
    "# total count = total seqs\n",
    "# Chantal had 50% reduction after QC.\n",
    "\n",
    "!cat data/otu_table_pool2_summary.txt\n",
    "\n"
   ]
  }
 ],
 "metadata": {
  "kernelspec": {
   "display_name": "Python 2",
   "language": "python",
   "name": "python2"
  },
  "language_info": {
   "codemirror_mode": {
    "name": "ipython",
    "version": 2
   },
   "file_extension": ".py",
   "mimetype": "text/x-python",
   "name": "python",
   "nbconvert_exporter": "python",
   "pygments_lexer": "ipython2",
   "version": "2.7.10"
  }
 },
 "nbformat": 4,
 "nbformat_minor": 0
}
