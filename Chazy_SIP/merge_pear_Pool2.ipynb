{
 "cells": [
  {
   "cell_type": "code",
   "execution_count": 1,
   "metadata": {
    "collapsed": false
   },
   "outputs": [],
   "source": [
    "import screed\n",
    "import matplotlib.pyplot as plt\n",
    "from mpltools import style\n",
    "import numpy as np\n",
    "from mpld3 import enable_notebook\n",
    "%matplotlib inline"
   ]
  },
  {
   "cell_type": "code",
   "execution_count": 2,
   "metadata": {
    "collapsed": false
   },
   "outputs": [],
   "source": [
    "enable_notebook()"
   ]
  },
  {
   "cell_type": "code",
   "execution_count": 4,
   "metadata": {
    "collapsed": false
   },
   "outputs": [
    {
     "name": "stdout",
     "output_type": "stream",
     "text": [
      " ____  _____    _    ____ \n",
      "|  _ \\| ____|  / \\  |  _ \\\n",
      "| |_) |  _|   / _ \\ | |_) |\n",
      "|  __/| |___ / ___ \\|  _ <\n",
      "|_|   |_____/_/   \\_\\_| \\_\\\n",
      "\n",
      "PEAR v0.9.2 [March 26 2014]\n",
      "\n",
      "Citation - PEAR: a fast and accurate Illumina Paired-End reAd mergeR\n",
      "Zhang et al (2014) Bioinformatics 30(5): 614-620 | doi:10.1093/bioinformatics/btt593\n",
      "\n",
      "Forward reads file.................: /var/seq_data/Chazy/515_806_SIP/Pool2/Read1.fastq\n",
      "Reverse reads file.................: /var/seq_data/Chazy/515_806_SIP/Pool2/Read2.fastq\n",
      "PHRED..............................: 33\n",
      "Using empirical frequencies........: YES\n",
      "Statistical method.................: OES\n",
      "Maximum assembly length............: 999999\n",
      "Minimum assembly length............: 50\n",
      "p-value............................: 0.010000\n",
      "Quality score threshold (trimming).: 0\n",
      "Minimum read size after trimming...: 1\n",
      "Maximal ratio of uncalled bases....: 1.000000\n",
      "Minimum overlap....................: 10\n",
      "Scoring method.....................: Scaled score\n",
      "Threads............................: 10\n",
      "\n",
      "Allocating memory..................: 200,000,000 bytes\n",
      "Computing empirical frequencies....: DONE\n",
      "  A: 0.209775\n",
      "  C: 0.313390\n",
      "  G: 0.258390\n",
      "  T: 0.218444\n",
      "  9043 uncalled bases\n",
      "Assemblying reads..................: [........................................]\n",
      "\n",
      "Assembled reads ...................: 3,222,625 / 3,288,224 (98.005%)\n",
      "Discarded reads ...................: 0 / 3,288,224 (0.000%)\n",
      "Not assembled reads ...............: 65,599 / 3,288,224 (1.995%)\n",
      "Assembled reads file...............: /var/seq_data/Chazy/515_806_SIP/Pool2/pear_merged_raw-2015-08-15.assembled.fastq\n",
      "Discarded reads file...............: /var/seq_data/Chazy/515_806_SIP/Pool2/pear_merged_raw-2015-08-15.discarded.fastq\n",
      "Unassembled forward reads file.....: /var/seq_data/Chazy/515_806_SIP/Pool2/pear_merged_raw-2015-08-15.unassembled.forward.fastq\n",
      "Unassembled reverse reads file.....: /var/seq_data/Chazy/515_806_SIP/Pool2/pear_merged_raw-2015-08-15.unassembled.reverse.fastq\n"
     ]
    }
   ],
   "source": [
    "%%bash\n",
    "pear -j 10 -f /var/seq_data/Chazy/515_806_SIP/Pool2/Read1.fastq -r /var/seq_data/Chazy/515_806_SIP/Pool2/Read2.fastq -o /var/seq_data/Chazy/515_806_SIP/Pool2/pear_merged_raw-$(date +%F)"
   ]
  },
  {
   "cell_type": "code",
   "execution_count": 5,
   "metadata": {
    "collapsed": false
   },
   "outputs": [],
   "source": [
    "import screed"
   ]
  },
  {
   "cell_type": "code",
   "execution_count": 6,
   "metadata": {
    "collapsed": false
   },
   "outputs": [
    {
     "data": {
      "text/plain": [
       "<ScreedDB, '/var/seq_data/Chazy/515_806_SIP/Pool2/pear_merged_raw-2015-08-15.assembled.fastq_screed'>"
      ]
     },
     "execution_count": 6,
     "metadata": {},
     "output_type": "execute_result"
    }
   ],
   "source": [
    "screed.read_fastq_sequences(\"/var/seq_data/Chazy/515_806_SIP/Pool2/pear_merged_raw-2015-08-15.assembled.fastq\")"
   ]
  },
  {
   "cell_type": "code",
   "execution_count": 7,
   "metadata": {
    "collapsed": false
   },
   "outputs": [],
   "source": [
    "fqdb = screed.ScreedDB(\"/var/seq_data/Chazy/515_806_SIP/Pool2/pear_merged_raw-2015-08-15.assembled.fastq\")"
   ]
  },
  {
   "cell_type": "code",
   "execution_count": 8,
   "metadata": {
    "collapsed": false
   },
   "outputs": [],
   "source": [
    "record = fqdb[fqdb.keys()[0]]"
   ]
  },
  {
   "cell_type": "code",
   "execution_count": 9,
   "metadata": {
    "collapsed": false
   },
   "outputs": [
    {
     "data": {
      "text/plain": [
       "'AGCACATCACCTTGAATGCCACCGGAGGCGGCTTTTTGACCGCCTCCAAACAATTTAGACATGGCGCCACCAGCAAGAGCAGAAGCAATACCGCCAGCAATAGCACCAAACATAAATCACCTCACTTAAGTGGCTGGAGACAAATAATCTCTTTAATAACCTGATTCAGCGAAACCAATCCGCGGCATTTAGTAGCGGTAAAGTTAGACCAAACCATGAAACCAACATAAACATTATTGCCCGGCGTACGGGGAAGGACGTCAATAGTCACACATTCCTTGACGGTATAATAACCACCATCATGGCGACCATCCAAAGGATAAAGATCATAGGCAGTCGGGAGGGTAGTCGGAACCGAAGAAGACTCAAAGC'"
      ]
     },
     "execution_count": 9,
     "metadata": {},
     "output_type": "execute_result"
    }
   ],
   "source": [
    "record[\"sequence\"]"
   ]
  },
  {
   "cell_type": "code",
   "execution_count": 10,
   "metadata": {
    "collapsed": false
   },
   "outputs": [],
   "source": [
    "lengths = []\n",
    "for read in fqdb.itervalues():\n",
    "    lengths.append((len(read[\"sequence\"])))"
   ]
  },
  {
   "cell_type": "code",
   "execution_count": 11,
   "metadata": {
    "collapsed": false
   },
   "outputs": [
    {
     "data": {
      "image/png": "[encoded data removed]",
      "text/html": [
       "\n",
       "\n",
       "<style>\n",
       "\n",
       "</style>\n",
       "\n",
       "<div id=\"fig_el99851406878833890084338912543\"></div>\n",
       "<script>\n",
       "function mpld3_load_lib(url, callback){\n",
       "  var s = document.createElement('script');\n",
       "  s.src = url;\n",
       "  s.async = true;\n",
       "  s.onreadystatechange = s.onload = callback;\n",
       "  s.onerror = function(){console.warn(\"failed to load library \" + url);};\n",
       "  document.getElementsByTagName(\"head\")[0].appendChild(s);\n",
       "}\n",
       "\n",
       "if(typeof(mpld3) !== \"undefined\" && mpld3._mpld3IsLoaded){\n",
       "   // already loaded: just create the figure\n",
       "   !function(mpld3){\n",
       "       \n",
       "       mpld3.draw_figure(\"fig_el99851406878833890084338912543\", {\"axes\": [{\"xlim\": [50.0, 500.0], \"yscale\": \"linear\", \"axesbg\": \"#E5E5E5\", \"texts\": [{\"v_baseline\": \"hanging\", \"h_anchor\": \"middle\", \"color\": \"#555555\", \"text\": \"Sequence Length, nt\", \"coordinates\": \"axes\", \"zorder\": 3, \"alpha\": 1, \"fontsize\": 12.0, \"position\": [0.5, -0.065710872162485043], \"rotation\": -0.0, \"id\": \"el9985140688615191056\"}, {\"v_baseline\": \"auto\", \"h_anchor\": \"middle\", \"color\": \"#555555\", \"text\": \"Count\", \"coordinates\": \"axes\", \"zorder\": 3, \"alpha\": 1, \"fontsize\": 12.0, \"position\": [-0.1010192652329749, 0.5], \"rotation\": -90.0, \"id\": \"el9985140687874424784\"}], \"zoomable\": true, \"images\": [], \"xdomain\": [50.0, 500.0], \"ylim\": [0.0, 2500000.0], \"paths\": [{\"edgecolor\": \"#EEEEEE\", \"facecolor\": \"#E24A33\", \"edgewidth\": 0.5, \"pathcodes\": [\"M\", \"L\", \"L\", \"L\", \"Z\"], \"yindex\": 1, \"coordinates\": \"data\", \"dasharray\": \"10,0\", \"zorder\": 1, \"alpha\": 1, \"xindex\": 0, \"data\": \"data01\", \"id\": \"el9985140687875255120\"}, {\"edgecolor\": \"#EEEEEE\", \"facecolor\": \"#E24A33\", \"edgewidth\": 0.5, \"pathcodes\": [\"M\", \"L\", \"L\", \"L\", \"Z\"], \"yindex\": 1, \"coordinates\": \"data\", \"dasharray\": \"10,0\", \"zorder\": 1, \"alpha\": 1, \"xindex\": 0, \"data\": \"data02\", \"id\": \"el9985140687875019280\"}, {\"edgecolor\": \"#EEEEEE\", \"facecolor\": \"#E24A33\", \"edgewidth\": 0.5, \"pathcodes\": [\"M\", \"L\", \"L\", \"L\", \"Z\"], \"yindex\": 1, \"coordinates\": \"data\", \"dasharray\": \"10,0\", \"zorder\": 1, \"alpha\": 1, \"xindex\": 0, \"data\": \"data03\", \"id\": \"el9985140687875020944\"}, {\"edgecolor\": \"#EEEEEE\", \"facecolor\": \"#E24A33\", \"edgewidth\": 0.5, \"pathcodes\": [\"M\", \"L\", \"L\", \"L\", \"Z\"], \"yindex\": 1, \"coordinates\": \"data\", \"dasharray\": \"10,0\", \"zorder\": 1, \"alpha\": 1, \"xindex\": 0, \"data\": \"data04\", \"id\": \"el9985140687875022608\"}, {\"edgecolor\": \"#EEEEEE\", \"facecolor\": \"#E24A33\", \"edgewidth\": 0.5, \"pathcodes\": [\"M\", \"L\", \"L\", \"L\", \"Z\"], \"yindex\": 1, \"coordinates\": \"data\", \"dasharray\": \"10,0\", \"zorder\": 1, \"alpha\": 1, \"xindex\": 0, \"data\": \"data05\", \"id\": \"el9985140687874831824\"}, {\"edgecolor\": \"#EEEEEE\", \"facecolor\": \"#E24A33\", \"edgewidth\": 0.5, \"pathcodes\": [\"M\", \"L\", \"L\", \"L\", \"Z\"], \"yindex\": 1, \"coordinates\": \"data\", \"dasharray\": \"10,0\", \"zorder\": 1, \"alpha\": 1, \"xindex\": 0, \"data\": \"data06\", \"id\": \"el9985140687874833488\"}, {\"edgecolor\": \"#EEEEEE\", \"facecolor\": \"#E24A33\", \"edgewidth\": 0.5, \"pathcodes\": [\"M\", \"L\", \"L\", \"L\", \"Z\"], \"yindex\": 1, \"coordinates\": \"data\", \"dasharray\": \"10,0\", \"zorder\": 1, \"alpha\": 1, \"xindex\": 0, \"data\": \"data07\", \"id\": \"el9985140687874904848\"}, {\"edgecolor\": \"#EEEEEE\", \"facecolor\": \"#E24A33\", \"edgewidth\": 0.5, \"pathcodes\": [\"M\", \"L\", \"L\", \"L\", \"Z\"], \"yindex\": 1, \"coordinates\": \"data\", \"dasharray\": \"10,0\", \"zorder\": 1, \"alpha\": 1, \"xindex\": 0, \"data\": \"data08\", \"id\": \"el9985140687874906512\"}, {\"edgecolor\": \"#EEEEEE\", \"facecolor\": \"#E24A33\", \"edgewidth\": 0.5, \"pathcodes\": [\"M\", \"L\", \"L\", \"L\", \"Z\"], \"yindex\": 1, \"coordinates\": \"data\", \"dasharray\": \"10,0\", \"zorder\": 1, \"alpha\": 1, \"xindex\": 0, \"data\": \"data09\", \"id\": \"el9985140687874907792\"}, {\"edgecolor\": \"#EEEEEE\", \"facecolor\": \"#E24A33\", \"edgewidth\": 0.5, \"pathcodes\": [\"M\", \"L\", \"L\", \"L\", \"Z\"], \"yindex\": 1, \"coordinates\": \"data\", \"dasharray\": \"10,0\", \"zorder\": 1, \"alpha\": 1, \"xindex\": 0, \"data\": \"data10\", \"id\": \"el9985140687874979536\"}, {\"edgecolor\": \"#EEEEEE\", \"facecolor\": \"#E24A33\", \"edgewidth\": 0.5, \"pathcodes\": [\"M\", \"L\", \"L\", \"L\", \"Z\"], \"yindex\": 1, \"coordinates\": \"data\", \"dasharray\": \"10,0\", \"zorder\": 1, \"alpha\": 1, \"xindex\": 0, \"data\": \"data11\", \"id\": \"el9985140687874981200\"}, {\"edgecolor\": \"#EEEEEE\", \"facecolor\": \"#E24A33\", \"edgewidth\": 0.5, \"pathcodes\": [\"M\", \"L\", \"L\", \"L\", \"Z\"], \"yindex\": 1, \"coordinates\": \"data\", \"dasharray\": \"10,0\", \"zorder\": 1, \"alpha\": 1, \"xindex\": 0, \"data\": \"data12\", \"id\": \"el9985140687874896912\"}, {\"edgecolor\": \"#EEEEEE\", \"facecolor\": \"#E24A33\", \"edgewidth\": 0.5, \"pathcodes\": [\"M\", \"L\", \"L\", \"L\", \"Z\"], \"yindex\": 1, \"coordinates\": \"data\", \"dasharray\": \"10,0\", \"zorder\": 1, \"alpha\": 1, \"xindex\": 0, \"data\": \"data13\", \"id\": \"el9985140687874898576\"}, {\"edgecolor\": \"#EEEEEE\", \"facecolor\": \"#E24A33\", \"edgewidth\": 0.5, \"pathcodes\": [\"M\", \"L\", \"L\", \"L\", \"Z\"], \"yindex\": 1, \"coordinates\": \"data\", \"dasharray\": \"10,0\", \"zorder\": 1, \"alpha\": 1, \"xindex\": 0, \"data\": \"data14\", \"id\": \"el9985140687874899856\"}, {\"edgecolor\": \"#EEEEEE\", \"facecolor\": \"#E24A33\", \"edgewidth\": 0.5, \"pathcodes\": [\"M\", \"L\", \"L\", \"L\", \"Z\"], \"yindex\": 1, \"coordinates\": \"data\", \"dasharray\": \"10,0\", \"zorder\": 1, \"alpha\": 1, \"xindex\": 0, \"data\": \"data15\", \"id\": \"el9985140687874750416\"}, {\"edgecolor\": \"#EEEEEE\", \"facecolor\": \"#E24A33\", \"edgewidth\": 0.5, \"pathcodes\": [\"M\", \"L\", \"L\", \"L\", \"Z\"], \"yindex\": 1, \"coordinates\": \"data\", \"dasharray\": \"10,0\", \"zorder\": 1, \"alpha\": 1, \"xindex\": 0, \"data\": \"data16\", \"id\": \"el9985140687874752080\"}, {\"edgecolor\": \"#EEEEEE\", \"facecolor\": \"#E24A33\", \"edgewidth\": 0.5, \"pathcodes\": [\"M\", \"L\", \"L\", \"L\", \"Z\"], \"yindex\": 1, \"coordinates\": \"data\", \"dasharray\": \"10,0\", \"zorder\": 1, \"alpha\": 1, \"xindex\": 0, \"data\": \"data17\", \"id\": \"el9985140687874630928\"}, {\"edgecolor\": \"#EEEEEE\", \"facecolor\": \"#E24A33\", \"edgewidth\": 0.5, \"pathcodes\": [\"M\", \"L\", \"L\", \"L\", \"Z\"], \"yindex\": 1, \"coordinates\": \"data\", \"dasharray\": \"10,0\", \"zorder\": 1, \"alpha\": 1, \"xindex\": 0, \"data\": \"data18\", \"id\": \"el9985140687874632592\"}, {\"edgecolor\": \"#EEEEEE\", \"facecolor\": \"#E24A33\", \"edgewidth\": 0.5, \"pathcodes\": [\"M\", \"L\", \"L\", \"L\", \"Z\"], \"yindex\": 1, \"coordinates\": \"data\", \"dasharray\": \"10,0\", \"zorder\": 1, \"alpha\": 1, \"xindex\": 0, \"data\": \"data19\", \"id\": \"el9985140687874724432\"}, {\"edgecolor\": \"#EEEEEE\", \"facecolor\": \"#E24A33\", \"edgewidth\": 0.5, \"pathcodes\": [\"M\", \"L\", \"L\", \"L\", \"Z\"], \"yindex\": 1, \"coordinates\": \"data\", \"dasharray\": \"10,0\", \"zorder\": 1, \"alpha\": 1, \"xindex\": 0, \"data\": \"data20\", \"id\": \"el9985140687874726096\"}, {\"edgecolor\": \"#EEEEEE\", \"facecolor\": \"#E24A33\", \"edgewidth\": 0.5, \"pathcodes\": [\"M\", \"L\", \"L\", \"L\", \"Z\"], \"yindex\": 1, \"coordinates\": \"data\", \"dasharray\": \"10,0\", \"zorder\": 1, \"alpha\": 1, \"xindex\": 0, \"data\": \"data21\", \"id\": \"el9985140687874727760\"}, {\"edgecolor\": \"#EEEEEE\", \"facecolor\": \"#E24A33\", \"edgewidth\": 0.5, \"pathcodes\": [\"M\", \"L\", \"L\", \"L\", \"Z\"], \"yindex\": 1, \"coordinates\": \"data\", \"dasharray\": \"10,0\", \"zorder\": 1, \"alpha\": 1, \"xindex\": 0, \"data\": \"data22\", \"id\": \"el9985140687874688528\"}, {\"edgecolor\": \"#EEEEEE\", \"facecolor\": \"#E24A33\", \"edgewidth\": 0.5, \"pathcodes\": [\"M\", \"L\", \"L\", \"L\", \"Z\"], \"yindex\": 1, \"coordinates\": \"data\", \"dasharray\": \"10,0\", \"zorder\": 1, \"alpha\": 1, \"xindex\": 0, \"data\": \"data23\", \"id\": \"el9985140687874690192\"}, {\"edgecolor\": \"#EEEEEE\", \"facecolor\": \"#E24A33\", \"edgewidth\": 0.5, \"pathcodes\": [\"M\", \"L\", \"L\", \"L\", \"Z\"], \"yindex\": 1, \"coordinates\": \"data\", \"dasharray\": \"10,0\", \"zorder\": 1, \"alpha\": 1, \"xindex\": 0, \"data\": \"data24\", \"id\": \"el9985140687874626384\"}, {\"edgecolor\": \"#EEEEEE\", \"facecolor\": \"#E24A33\", \"edgewidth\": 0.5, \"pathcodes\": [\"M\", \"L\", \"L\", \"L\", \"Z\"], \"yindex\": 1, \"coordinates\": \"data\", \"dasharray\": \"10,0\", \"zorder\": 1, \"alpha\": 1, \"xindex\": 0, \"data\": \"data25\", \"id\": \"el9985140687874628048\"}, {\"edgecolor\": \"#EEEEEE\", \"facecolor\": \"#E24A33\", \"edgewidth\": 0.5, \"pathcodes\": [\"M\", \"L\", \"L\", \"L\", \"Z\"], \"yindex\": 1, \"coordinates\": \"data\", \"dasharray\": \"10,0\", \"zorder\": 1, \"alpha\": 1, \"xindex\": 0, \"data\": \"data26\", \"id\": \"el9985140687874629328\"}, {\"edgecolor\": \"#EEEEEE\", \"facecolor\": \"#E24A33\", \"edgewidth\": 0.5, \"pathcodes\": [\"M\", \"L\", \"L\", \"L\", \"Z\"], \"yindex\": 1, \"coordinates\": \"data\", \"dasharray\": \"10,0\", \"zorder\": 1, \"alpha\": 1, \"xindex\": 0, \"data\": \"data27\", \"id\": \"el9985140687874664208\"}, {\"edgecolor\": \"#EEEEEE\", \"facecolor\": \"#E24A33\", \"edgewidth\": 0.5, \"pathcodes\": [\"M\", \"L\", \"L\", \"L\", \"Z\"], \"yindex\": 1, \"coordinates\": \"data\", \"dasharray\": \"10,0\", \"zorder\": 1, \"alpha\": 1, \"xindex\": 0, \"data\": \"data28\", \"id\": \"el9985140687874665872\"}, {\"edgecolor\": \"#EEEEEE\", \"facecolor\": \"#E24A33\", \"edgewidth\": 0.5, \"pathcodes\": [\"M\", \"L\", \"L\", \"L\", \"Z\"], \"yindex\": 1, \"coordinates\": \"data\", \"dasharray\": \"10,0\", \"zorder\": 1, \"alpha\": 1, \"xindex\": 0, \"data\": \"data29\", \"id\": \"el9985140687095952464\"}, {\"edgecolor\": \"#EEEEEE\", \"facecolor\": \"#E24A33\", \"edgewidth\": 0.5, \"pathcodes\": [\"M\", \"L\", \"L\", \"L\", \"Z\"], \"yindex\": 1, \"coordinates\": \"data\", \"dasharray\": \"10,0\", \"zorder\": 1, \"alpha\": 1, \"xindex\": 0, \"data\": \"data30\", \"id\": \"el9985140687875570320\"}, {\"edgecolor\": \"#EEEEEE\", \"facecolor\": \"#E24A33\", \"edgewidth\": 0.5, \"pathcodes\": [\"M\", \"L\", \"L\", \"L\", \"Z\"], \"yindex\": 1, \"coordinates\": \"data\", \"dasharray\": \"10,0\", \"zorder\": 1, \"alpha\": 1, \"xindex\": 0, \"data\": \"data31\", \"id\": \"el9985140687874444240\"}, {\"edgecolor\": \"#EEEEEE\", \"facecolor\": \"#E24A33\", \"edgewidth\": 0.5, \"pathcodes\": [\"M\", \"L\", \"L\", \"L\", \"Z\"], \"yindex\": 1, \"coordinates\": \"data\", \"dasharray\": \"10,0\", \"zorder\": 1, \"alpha\": 1, \"xindex\": 0, \"data\": \"data32\", \"id\": \"el9985140687874266384\"}, {\"edgecolor\": \"#EEEEEE\", \"facecolor\": \"#E24A33\", \"edgewidth\": 0.5, \"pathcodes\": [\"M\", \"L\", \"L\", \"L\", \"Z\"], \"yindex\": 1, \"coordinates\": \"data\", \"dasharray\": \"10,0\", \"zorder\": 1, \"alpha\": 1, \"xindex\": 0, \"data\": \"data33\", \"id\": \"el9985140687095955152\"}, {\"edgecolor\": \"#EEEEEE\", \"facecolor\": \"#E24A33\", \"edgewidth\": 0.5, \"pathcodes\": [\"M\", \"L\", \"L\", \"L\", \"Z\"], \"yindex\": 1, \"coordinates\": \"data\", \"dasharray\": \"10,0\", \"zorder\": 1, \"alpha\": 1, \"xindex\": 0, \"data\": \"data34\", \"id\": \"el9985140687096026512\"}, {\"edgecolor\": \"#EEEEEE\", \"facecolor\": \"#E24A33\", \"edgewidth\": 0.5, \"pathcodes\": [\"M\", \"L\", \"L\", \"L\", \"Z\"], \"yindex\": 1, \"coordinates\": \"data\", \"dasharray\": \"10,0\", \"zorder\": 1, \"alpha\": 1, \"xindex\": 0, \"data\": \"data35\", \"id\": \"el9985140687096028176\"}, {\"edgecolor\": \"#EEEEEE\", \"facecolor\": \"#E24A33\", \"edgewidth\": 0.5, \"pathcodes\": [\"M\", \"L\", \"L\", \"L\", \"Z\"], \"yindex\": 1, \"coordinates\": \"data\", \"dasharray\": \"10,0\", \"zorder\": 1, \"alpha\": 1, \"xindex\": 0, \"data\": \"data36\", \"id\": \"el9985140687096070864\"}, {\"edgecolor\": \"#EEEEEE\", \"facecolor\": \"#E24A33\", \"edgewidth\": 0.5, \"pathcodes\": [\"M\", \"L\", \"L\", \"L\", \"Z\"], \"yindex\": 1, \"coordinates\": \"data\", \"dasharray\": \"10,0\", \"zorder\": 1, \"alpha\": 1, \"xindex\": 0, \"data\": \"data37\", \"id\": \"el9985140687096072528\"}, {\"edgecolor\": \"#EEEEEE\", \"facecolor\": \"#E24A33\", \"edgewidth\": 0.5, \"pathcodes\": [\"M\", \"L\", \"L\", \"L\", \"Z\"], \"yindex\": 1, \"coordinates\": \"data\", \"dasharray\": \"10,0\", \"zorder\": 1, \"alpha\": 1, \"xindex\": 0, \"data\": \"data38\", \"id\": \"el9985140687096074192\"}, {\"edgecolor\": \"#EEEEEE\", \"facecolor\": \"#E24A33\", \"edgewidth\": 0.5, \"pathcodes\": [\"M\", \"L\", \"L\", \"L\", \"Z\"], \"yindex\": 1, \"coordinates\": \"data\", \"dasharray\": \"10,0\", \"zorder\": 1, \"alpha\": 1, \"xindex\": 0, \"data\": \"data39\", \"id\": \"el9985140687096137360\"}, {\"edgecolor\": \"#EEEEEE\", \"facecolor\": \"#E24A33\", \"edgewidth\": 0.5, \"pathcodes\": [\"M\", \"L\", \"L\", \"L\", \"Z\"], \"yindex\": 1, \"coordinates\": \"data\", \"dasharray\": \"10,0\", \"zorder\": 1, \"alpha\": 1, \"xindex\": 0, \"data\": \"data40\", \"id\": \"el9985140687096139024\"}, {\"edgecolor\": \"#EEEEEE\", \"facecolor\": \"#E24A33\", \"edgewidth\": 0.5, \"pathcodes\": [\"M\", \"L\", \"L\", \"L\", \"Z\"], \"yindex\": 1, \"coordinates\": \"data\", \"dasharray\": \"10,0\", \"zorder\": 1, \"alpha\": 1, \"xindex\": 0, \"data\": \"data41\", \"id\": \"el9985140687874139088\"}, {\"edgecolor\": \"#EEEEEE\", \"facecolor\": \"#E24A33\", \"edgewidth\": 0.5, \"pathcodes\": [\"M\", \"L\", \"L\", \"L\", \"Z\"], \"yindex\": 1, \"coordinates\": \"data\", \"dasharray\": \"10,0\", \"zorder\": 1, \"alpha\": 1, \"xindex\": 0, \"data\": \"data42\", \"id\": \"el9985140687874140752\"}, {\"edgecolor\": \"#EEEEEE\", \"facecolor\": \"#E24A33\", \"edgewidth\": 0.5, \"pathcodes\": [\"M\", \"L\", \"L\", \"L\", \"Z\"], \"yindex\": 1, \"coordinates\": \"data\", \"dasharray\": \"10,0\", \"zorder\": 1, \"alpha\": 1, \"xindex\": 0, \"data\": \"data43\", \"id\": \"el9985140687874142032\"}, {\"edgecolor\": \"#EEEEEE\", \"facecolor\": \"#E24A33\", \"edgewidth\": 0.5, \"pathcodes\": [\"M\", \"L\", \"L\", \"L\", \"Z\"], \"yindex\": 1, \"coordinates\": \"data\", \"dasharray\": \"10,0\", \"zorder\": 1, \"alpha\": 1, \"xindex\": 0, \"data\": \"data44\", \"id\": \"el9985140687874115472\"}, {\"edgecolor\": \"#EEEEEE\", \"facecolor\": \"#E24A33\", \"edgewidth\": 0.5, \"pathcodes\": [\"M\", \"L\", \"L\", \"L\", \"Z\"], \"yindex\": 1, \"coordinates\": \"data\", \"dasharray\": \"10,0\", \"zorder\": 1, \"alpha\": 1, \"xindex\": 0, \"data\": \"data45\", \"id\": \"el9985140687874117136\"}, {\"edgecolor\": \"#EEEEEE\", \"facecolor\": \"#E24A33\", \"edgewidth\": 0.5, \"pathcodes\": [\"M\", \"L\", \"L\", \"L\", \"Z\"], \"yindex\": 1, \"coordinates\": \"data\", \"dasharray\": \"10,0\", \"zorder\": 1, \"alpha\": 1, \"xindex\": 0, \"data\": \"data46\", \"id\": \"el9985140687874143440\"}, {\"edgecolor\": \"#EEEEEE\", \"facecolor\": \"#E24A33\", \"edgewidth\": 0.5, \"pathcodes\": [\"M\", \"L\", \"L\", \"L\", \"Z\"], \"yindex\": 1, \"coordinates\": \"data\", \"dasharray\": \"10,0\", \"zorder\": 1, \"alpha\": 1, \"xindex\": 0, \"data\": \"data47\", \"id\": \"el9985140687874145104\"}, {\"edgecolor\": \"#EEEEEE\", \"facecolor\": \"#E24A33\", \"edgewidth\": 0.5, \"pathcodes\": [\"M\", \"L\", \"L\", \"L\", \"Z\"], \"yindex\": 1, \"coordinates\": \"data\", \"dasharray\": \"10,0\", \"zorder\": 1, \"alpha\": 1, \"xindex\": 0, \"data\": \"data48\", \"id\": \"el9985140687874212368\"}, {\"edgecolor\": \"#EEEEEE\", \"facecolor\": \"#E24A33\", \"edgewidth\": 0.5, \"pathcodes\": [\"M\", \"L\", \"L\", \"L\", \"Z\"], \"yindex\": 1, \"coordinates\": \"data\", \"dasharray\": \"10,0\", \"zorder\": 1, \"alpha\": 1, \"xindex\": 0, \"data\": \"data49\", \"id\": \"el9985140687874214032\"}, {\"edgecolor\": \"#EEEEEE\", \"facecolor\": \"#E24A33\", \"edgewidth\": 0.5, \"pathcodes\": [\"M\", \"L\", \"L\", \"L\", \"Z\"], \"yindex\": 1, \"coordinates\": \"data\", \"dasharray\": \"10,0\", \"zorder\": 1, \"alpha\": 1, \"xindex\": 0, \"data\": \"data50\", \"id\": \"el9985140687874215696\"}], \"sharey\": [], \"sharex\": [], \"axesbgalpha\": null, \"axes\": [{\"scale\": \"linear\", \"tickformat\": null, \"grid\": {\"color\": \"#FFFFFF\", \"alpha\": 1.0, \"dasharray\": \"10,0\", \"gridOn\": true}, \"fontsize\": 10.0, \"position\": \"bottom\", \"nticks\": 10, \"tickvalues\": null}, {\"scale\": \"linear\", \"tickformat\": null, \"grid\": {\"color\": \"#FFFFFF\", \"alpha\": 1.0, \"dasharray\": \"10,0\", \"gridOn\": true}, \"fontsize\": 10.0, \"position\": \"left\", \"nticks\": 6, \"tickvalues\": null}], \"lines\": [], \"markers\": [], \"id\": \"el9985140687883234512\", \"ydomain\": [0.0, 2500000.0], \"collections\": [], \"xscale\": \"linear\", \"bbox\": [0.125, 0.125, 0.77500000000000002, 0.77500000000000002]}], \"height\": 480.0, \"width\": 800.0, \"plugins\": [{\"type\": \"reset\"}, {\"enabled\": false, \"button\": true, \"type\": \"zoom\"}, {\"enabled\": false, \"button\": true, \"type\": \"boxzoom\"}], \"data\": {\"data42\": [[412.44000000000005, 0.0], [421.28000000000003, 0.0], [421.28000000000003, 50607.0], [412.44000000000005, 50607.0]], \"data43\": [[421.28, 0.0], [430.12, 0.0], [430.12, 44168.0], [421.28, 44168.0]], \"data40\": [[394.76, 0.0], [403.6, 0.0], [403.6, 65341.0], [394.76, 65341.0]], \"data41\": [[403.6, 0.0], [412.44, 0.0], [412.44, 57814.0], [403.6, 57814.0]], \"data46\": [[447.80000000000007, 0.0], [456.64000000000004, 0.0], [456.64000000000004, 16606.0], [447.80000000000007, 16606.0]], \"data47\": [[456.64, 0.0], [465.48, 0.0], [465.48, 8918.0], [456.64, 8918.0]], \"data44\": [[430.12, 0.0], [438.96, 0.0], [438.96, 32143.0], [430.12, 32143.0]], \"data45\": [[438.96, 0.0], [447.8, 0.0], [447.8, 27086.0], [438.96, 27086.0]], \"data48\": [[465.48, 0.0], [474.32, 0.0], [474.32, 4407.0], [465.48, 4407.0]], \"data49\": [[474.32000000000005, 0.0], [483.16, 0.0], [483.16, 1933.0], [474.32000000000005, 1933.0]], \"data50\": [[483.15999999999997, 0.0], [492.0, 0.0], [492.0, 1031.0], [483.15999999999997, 1031.0]], \"data28\": [[288.68000000000006, 0.0], [297.52000000000004, 0.0], [297.52000000000004, 8871.0], [288.68000000000006, 8871.0]], \"data06\": [[94.20000000000002, 0.0], [103.04, 0.0], [103.04, 1085.0], [94.20000000000002, 1085.0]], \"data08\": [[111.88, 0.0], [120.72, 0.0], [120.72, 1809.0], [111.88, 1809.0]], \"data09\": [[120.72, 0.0], [129.56, 0.0], [129.56, 2168.0], [120.72, 2168.0]], \"data20\": [[217.95999999999998, 0.0], [226.79999999999998, 0.0], [226.79999999999998, 3913.0], [217.95999999999998, 3913.0]], \"data21\": [[226.8, 0.0], [235.64, 0.0], [235.64, 3958.0], [226.8, 3958.0]], \"data22\": [[235.64, 0.0], [244.48, 0.0], [244.48, 4145.0], [235.64, 4145.0]], \"data05\": [[85.36, 0.0], [94.2, 0.0], [94.2, 1328.0], [85.36, 1328.0]], \"data02\": [[58.84, 0.0], [67.68, 0.0], [67.68, 317.0], [58.84, 317.0]], \"data04\": [[76.52, 0.0], [85.36, 0.0], [85.36, 512.0], [76.52, 512.0]], \"data26\": [[271.0, 0.0], [279.84000000000003, 0.0], [279.84000000000003, 7046.0], [271.0, 7046.0]], \"data01\": [[50.0, 0.0], [58.84, 0.0], [58.84, 248.0], [50.0, 248.0]], \"data23\": [[244.47999999999996, 0.0], [253.31999999999996, 0.0], [253.31999999999996, 2001900.0], [244.47999999999996, 2001900.0]], \"data24\": [[253.32000000000002, 0.0], [262.15999999999997, 0.0], [262.15999999999997, 175253.0], [253.32000000000002, 175253.0]], \"data03\": [[67.68, 0.0], [76.52, 0.0], [76.52, 393.0], [67.68, 393.0]], \"data27\": [[279.84000000000003, 0.0], [288.68, 0.0], [288.68, 5413.0], [279.84000000000003, 5413.0]], \"data07\": [[103.03999999999999, 0.0], [111.88, 0.0], [111.88, 1218.0], [103.03999999999999, 1218.0]], \"data37\": [[368.24, 0.0], [377.08, 0.0], [377.08, 91003.0], [368.24, 91003.0]], \"data36\": [[359.4, 0.0], [368.24, 0.0], [368.24, 102195.0], [359.4, 102195.0]], \"data35\": [[350.56000000000006, 0.0], [359.40000000000003, 0.0], [359.40000000000003, 110341.0], [350.56000000000006, 110341.0]], \"data34\": [[341.71999999999997, 0.0], [350.56, 0.0], [350.56, 103157.0], [341.71999999999997, 103157.0]], \"data25\": [[262.15999999999997, 0.0], [271.0, 0.0], [271.0, 4588.0], [262.15999999999997, 4588.0]], \"data32\": [[324.0400000000001, 0.0], [332.88000000000005, 0.0], [332.88000000000005, 21315.0], [324.0400000000001, 21315.0]], \"data31\": [[315.2, 0.0], [324.04, 0.0], [324.04, 9450.0], [315.2, 9450.0]], \"data30\": [[306.36, 0.0], [315.2, 0.0], [315.2, 6444.0], [306.36, 6444.0]], \"data39\": [[385.9200000000001, 0.0], [394.76000000000005, 0.0], [394.76000000000005, 73520.0], [385.9200000000001, 73520.0]], \"data38\": [[377.08, 0.0], [385.92, 0.0], [385.92, 72692.0], [377.08, 72692.0]], \"data19\": [[209.12, 0.0], [217.96, 0.0], [217.96, 3032.0], [209.12, 3032.0]], \"data18\": [[200.27999999999997, 0.0], [209.11999999999998, 0.0], [209.11999999999998, 3532.0], [200.27999999999997, 3532.0]], \"data15\": [[173.76, 0.0], [182.6, 0.0], [182.6, 3192.0], [173.76, 3192.0]], \"data14\": [[164.92000000000002, 0.0], [173.76, 0.0], [173.76, 3001.0], [164.92000000000002, 3001.0]], \"data17\": [[191.44, 0.0], [200.28, 0.0], [200.28, 3480.0], [191.44, 3480.0]], \"data16\": [[182.59999999999997, 0.0], [191.43999999999997, 0.0], [191.43999999999997, 3285.0], [182.59999999999997, 3285.0]], \"data11\": [[138.39999999999998, 0.0], [147.23999999999998, 0.0], [147.23999999999998, 2697.0], [138.39999999999998, 2697.0]], \"data10\": [[129.56, 0.0], [138.4, 0.0], [138.4, 2424.0], [129.56, 2424.0]], \"data13\": [[156.07999999999998, 0.0], [164.92000000000002, 0.0], [164.92000000000002, 2561.0], [156.07999999999998, 2561.0]], \"data12\": [[147.24, 0.0], [156.07999999999998, 0.0], [156.07999999999998, 2685.0], [147.24, 2685.0]], \"data29\": [[297.52, 0.0], [306.36, 0.0], [306.36, 5505.0], [297.52, 5505.0]], \"data33\": [[332.88, 0.0], [341.71999999999997, 0.0], [341.71999999999997, 62895.0], [332.88, 62895.0]]}, \"id\": \"el9985140687883389008\"});\n",
       "   }(mpld3);\n",
       "}else if(typeof define === \"function\" && define.amd){\n",
       "   // require.js is available: use it to load d3/mpld3\n",
       "   require.config({paths: {d3: \"https://mpld3.github.io/js/d3.v3.min\"}});\n",
       "   require([\"d3\"], function(d3){\n",
       "      window.d3 = d3;\n",
       "      mpld3_load_lib(\"https://mpld3.github.io/js/mpld3.v0.2.js\", function(){\n",
       "         \n",
       "         mpld3.draw_figure(\"fig_el99851406878833890084338912543\", {\"axes\": [{\"xlim\": [50.0, 500.0], \"yscale\": \"linear\", \"axesbg\": \"#E5E5E5\", \"texts\": [{\"v_baseline\": \"hanging\", \"h_anchor\": \"middle\", \"color\": \"#555555\", \"text\": \"Sequence Length, nt\", \"coordinates\": \"axes\", \"zorder\": 3, \"alpha\": 1, \"fontsize\": 12.0, \"position\": [0.5, -0.065710872162485043], \"rotation\": -0.0, \"id\": \"el9985140688615191056\"}, {\"v_baseline\": \"auto\", \"h_anchor\": \"middle\", \"color\": \"#555555\", \"text\": \"Count\", \"coordinates\": \"axes\", \"zorder\": 3, \"alpha\": 1, \"fontsize\": 12.0, \"position\": [-0.1010192652329749, 0.5], \"rotation\": -90.0, \"id\": \"el9985140687874424784\"}], \"zoomable\": true, \"images\": [], \"xdomain\": [50.0, 500.0], \"ylim\": [0.0, 2500000.0], \"paths\": [{\"edgecolor\": \"#EEEEEE\", \"facecolor\": \"#E24A33\", \"edgewidth\": 0.5, \"pathcodes\": [\"M\", \"L\", \"L\", \"L\", \"Z\"], \"yindex\": 1, \"coordinates\": \"data\", \"dasharray\": \"10,0\", \"zorder\": 1, \"alpha\": 1, \"xindex\": 0, \"data\": \"data01\", \"id\": \"el9985140687875255120\"}, {\"edgecolor\": \"#EEEEEE\", \"facecolor\": \"#E24A33\", \"edgewidth\": 0.5, \"pathcodes\": [\"M\", \"L\", \"L\", \"L\", \"Z\"], \"yindex\": 1, \"coordinates\": \"data\", \"dasharray\": \"10,0\", \"zorder\": 1, \"alpha\": 1, \"xindex\": 0, \"data\": \"data02\", \"id\": \"el9985140687875019280\"}, {\"edgecolor\": \"#EEEEEE\", \"facecolor\": \"#E24A33\", \"edgewidth\": 0.5, \"pathcodes\": [\"M\", \"L\", \"L\", \"L\", \"Z\"], \"yindex\": 1, \"coordinates\": \"data\", \"dasharray\": \"10,0\", \"zorder\": 1, \"alpha\": 1, \"xindex\": 0, \"data\": \"data03\", \"id\": \"el9985140687875020944\"}, {\"edgecolor\": \"#EEEEEE\", \"facecolor\": \"#E24A33\", \"edgewidth\": 0.5, \"pathcodes\": [\"M\", \"L\", \"L\", \"L\", \"Z\"], \"yindex\": 1, \"coordinates\": \"data\", \"dasharray\": \"10,0\", \"zorder\": 1, \"alpha\": 1, \"xindex\": 0, \"data\": \"data04\", \"id\": \"el9985140687875022608\"}, {\"edgecolor\": \"#EEEEEE\", \"facecolor\": \"#E24A33\", \"edgewidth\": 0.5, \"pathcodes\": [\"M\", \"L\", \"L\", \"L\", \"Z\"], \"yindex\": 1, \"coordinates\": \"data\", \"dasharray\": \"10,0\", \"zorder\": 1, \"alpha\": 1, \"xindex\": 0, \"data\": \"data05\", \"id\": \"el9985140687874831824\"}, {\"edgecolor\": \"#EEEEEE\", \"facecolor\": \"#E24A33\", \"edgewidth\": 0.5, \"pathcodes\": [\"M\", \"L\", \"L\", \"L\", \"Z\"], \"yindex\": 1, \"coordinates\": \"data\", \"dasharray\": \"10,0\", \"zorder\": 1, \"alpha\": 1, \"xindex\": 0, \"data\": \"data06\", \"id\": \"el9985140687874833488\"}, {\"edgecolor\": \"#EEEEEE\", \"facecolor\": \"#E24A33\", \"edgewidth\": 0.5, \"pathcodes\": [\"M\", \"L\", \"L\", \"L\", \"Z\"], \"yindex\": 1, \"coordinates\": \"data\", \"dasharray\": \"10,0\", \"zorder\": 1, \"alpha\": 1, \"xindex\": 0, \"data\": \"data07\", \"id\": \"el9985140687874904848\"}, {\"edgecolor\": \"#EEEEEE\", \"facecolor\": \"#E24A33\", \"edgewidth\": 0.5, \"pathcodes\": [\"M\", \"L\", \"L\", \"L\", \"Z\"], \"yindex\": 1, \"coordinates\": \"data\", \"dasharray\": \"10,0\", \"zorder\": 1, \"alpha\": 1, \"xindex\": 0, \"data\": \"data08\", \"id\": \"el9985140687874906512\"}, {\"edgecolor\": \"#EEEEEE\", \"facecolor\": \"#E24A33\", \"edgewidth\": 0.5, \"pathcodes\": [\"M\", \"L\", \"L\", \"L\", \"Z\"], \"yindex\": 1, \"coordinates\": \"data\", \"dasharray\": \"10,0\", \"zorder\": 1, \"alpha\": 1, \"xindex\": 0, \"data\": \"data09\", \"id\": \"el9985140687874907792\"}, {\"edgecolor\": \"#EEEEEE\", \"facecolor\": \"#E24A33\", \"edgewidth\": 0.5, \"pathcodes\": [\"M\", \"L\", \"L\", \"L\", \"Z\"], \"yindex\": 1, \"coordinates\": \"data\", \"dasharray\": \"10,0\", \"zorder\": 1, \"alpha\": 1, \"xindex\": 0, \"data\": \"data10\", \"id\": \"el9985140687874979536\"}, {\"edgecolor\": \"#EEEEEE\", \"facecolor\": \"#E24A33\", \"edgewidth\": 0.5, \"pathcodes\": [\"M\", \"L\", \"L\", \"L\", \"Z\"], \"yindex\": 1, \"coordinates\": \"data\", \"dasharray\": \"10,0\", \"zorder\": 1, \"alpha\": 1, \"xindex\": 0, \"data\": \"data11\", \"id\": \"el9985140687874981200\"}, {\"edgecolor\": \"#EEEEEE\", \"facecolor\": \"#E24A33\", \"edgewidth\": 0.5, \"pathcodes\": [\"M\", \"L\", \"L\", \"L\", \"Z\"], \"yindex\": 1, \"coordinates\": \"data\", \"dasharray\": \"10,0\", \"zorder\": 1, \"alpha\": 1, \"xindex\": 0, \"data\": \"data12\", \"id\": \"el9985140687874896912\"}, {\"edgecolor\": \"#EEEEEE\", \"facecolor\": \"#E24A33\", \"edgewidth\": 0.5, \"pathcodes\": [\"M\", \"L\", \"L\", \"L\", \"Z\"], \"yindex\": 1, \"coordinates\": \"data\", \"dasharray\": \"10,0\", \"zorder\": 1, \"alpha\": 1, \"xindex\": 0, \"data\": \"data13\", \"id\": \"el9985140687874898576\"}, {\"edgecolor\": \"#EEEEEE\", \"facecolor\": \"#E24A33\", \"edgewidth\": 0.5, \"pathcodes\": [\"M\", \"L\", \"L\", \"L\", \"Z\"], \"yindex\": 1, \"coordinates\": \"data\", \"dasharray\": \"10,0\", \"zorder\": 1, \"alpha\": 1, \"xindex\": 0, \"data\": \"data14\", \"id\": \"el9985140687874899856\"}, {\"edgecolor\": \"#EEEEEE\", \"facecolor\": \"#E24A33\", \"edgewidth\": 0.5, \"pathcodes\": [\"M\", \"L\", \"L\", \"L\", \"Z\"], \"yindex\": 1, \"coordinates\": \"data\", \"dasharray\": \"10,0\", \"zorder\": 1, \"alpha\": 1, \"xindex\": 0, \"data\": \"data15\", \"id\": \"el9985140687874750416\"}, {\"edgecolor\": \"#EEEEEE\", \"facecolor\": \"#E24A33\", \"edgewidth\": 0.5, \"pathcodes\": [\"M\", \"L\", \"L\", \"L\", \"Z\"], \"yindex\": 1, \"coordinates\": \"data\", \"dasharray\": \"10,0\", \"zorder\": 1, \"alpha\": 1, \"xindex\": 0, \"data\": \"data16\", \"id\": \"el9985140687874752080\"}, {\"edgecolor\": \"#EEEEEE\", \"facecolor\": \"#E24A33\", \"edgewidth\": 0.5, \"pathcodes\": [\"M\", \"L\", \"L\", \"L\", \"Z\"], \"yindex\": 1, \"coordinates\": \"data\", \"dasharray\": \"10,0\", \"zorder\": 1, \"alpha\": 1, \"xindex\": 0, \"data\": \"data17\", \"id\": \"el9985140687874630928\"}, {\"edgecolor\": \"#EEEEEE\", \"facecolor\": \"#E24A33\", \"edgewidth\": 0.5, \"pathcodes\": [\"M\", \"L\", \"L\", \"L\", \"Z\"], \"yindex\": 1, \"coordinates\": \"data\", \"dasharray\": \"10,0\", \"zorder\": 1, \"alpha\": 1, \"xindex\": 0, \"data\": \"data18\", \"id\": \"el9985140687874632592\"}, {\"edgecolor\": \"#EEEEEE\", \"facecolor\": \"#E24A33\", \"edgewidth\": 0.5, \"pathcodes\": [\"M\", \"L\", \"L\", \"L\", \"Z\"], \"yindex\": 1, \"coordinates\": \"data\", \"dasharray\": \"10,0\", \"zorder\": 1, \"alpha\": 1, \"xindex\": 0, \"data\": \"data19\", \"id\": \"el9985140687874724432\"}, {\"edgecolor\": \"#EEEEEE\", \"facecolor\": \"#E24A33\", \"edgewidth\": 0.5, \"pathcodes\": [\"M\", \"L\", \"L\", \"L\", \"Z\"], \"yindex\": 1, \"coordinates\": \"data\", \"dasharray\": \"10,0\", \"zorder\": 1, \"alpha\": 1, \"xindex\": 0, \"data\": \"data20\", \"id\": \"el9985140687874726096\"}, {\"edgecolor\": \"#EEEEEE\", \"facecolor\": \"#E24A33\", \"edgewidth\": 0.5, \"pathcodes\": [\"M\", \"L\", \"L\", \"L\", \"Z\"], \"yindex\": 1, \"coordinates\": \"data\", \"dasharray\": \"10,0\", \"zorder\": 1, \"alpha\": 1, \"xindex\": 0, \"data\": \"data21\", \"id\": \"el9985140687874727760\"}, {\"edgecolor\": \"#EEEEEE\", \"facecolor\": \"#E24A33\", \"edgewidth\": 0.5, \"pathcodes\": [\"M\", \"L\", \"L\", \"L\", \"Z\"], \"yindex\": 1, \"coordinates\": \"data\", \"dasharray\": \"10,0\", \"zorder\": 1, \"alpha\": 1, \"xindex\": 0, \"data\": \"data22\", \"id\": \"el9985140687874688528\"}, {\"edgecolor\": \"#EEEEEE\", \"facecolor\": \"#E24A33\", \"edgewidth\": 0.5, \"pathcodes\": [\"M\", \"L\", \"L\", \"L\", \"Z\"], \"yindex\": 1, \"coordinates\": \"data\", \"dasharray\": \"10,0\", \"zorder\": 1, \"alpha\": 1, \"xindex\": 0, \"data\": \"data23\", \"id\": \"el9985140687874690192\"}, {\"edgecolor\": \"#EEEEEE\", \"facecolor\": \"#E24A33\", \"edgewidth\": 0.5, \"pathcodes\": [\"M\", \"L\", \"L\", \"L\", \"Z\"], \"yindex\": 1, \"coordinates\": \"data\", \"dasharray\": \"10,0\", \"zorder\": 1, \"alpha\": 1, \"xindex\": 0, \"data\": \"data24\", \"id\": \"el9985140687874626384\"}, {\"edgecolor\": \"#EEEEEE\", \"facecolor\": \"#E24A33\", \"edgewidth\": 0.5, \"pathcodes\": [\"M\", \"L\", \"L\", \"L\", \"Z\"], \"yindex\": 1, \"coordinates\": \"data\", \"dasharray\": \"10,0\", \"zorder\": 1, \"alpha\": 1, \"xindex\": 0, \"data\": \"data25\", \"id\": \"el9985140687874628048\"}, {\"edgecolor\": \"#EEEEEE\", \"facecolor\": \"#E24A33\", \"edgewidth\": 0.5, \"pathcodes\": [\"M\", \"L\", \"L\", \"L\", \"Z\"], \"yindex\": 1, \"coordinates\": \"data\", \"dasharray\": \"10,0\", \"zorder\": 1, \"alpha\": 1, \"xindex\": 0, \"data\": \"data26\", \"id\": \"el9985140687874629328\"}, {\"edgecolor\": \"#EEEEEE\", \"facecolor\": \"#E24A33\", \"edgewidth\": 0.5, \"pathcodes\": [\"M\", \"L\", \"L\", \"L\", \"Z\"], \"yindex\": 1, \"coordinates\": \"data\", \"dasharray\": \"10,0\", \"zorder\": 1, \"alpha\": 1, \"xindex\": 0, \"data\": \"data27\", \"id\": \"el9985140687874664208\"}, {\"edgecolor\": \"#EEEEEE\", \"facecolor\": \"#E24A33\", \"edgewidth\": 0.5, \"pathcodes\": [\"M\", \"L\", \"L\", \"L\", \"Z\"], \"yindex\": 1, \"coordinates\": \"data\", \"dasharray\": \"10,0\", \"zorder\": 1, \"alpha\": 1, \"xindex\": 0, \"data\": \"data28\", \"id\": \"el9985140687874665872\"}, {\"edgecolor\": \"#EEEEEE\", \"facecolor\": \"#E24A33\", \"edgewidth\": 0.5, \"pathcodes\": [\"M\", \"L\", \"L\", \"L\", \"Z\"], \"yindex\": 1, \"coordinates\": \"data\", \"dasharray\": \"10,0\", \"zorder\": 1, \"alpha\": 1, \"xindex\": 0, \"data\": \"data29\", \"id\": \"el9985140687095952464\"}, {\"edgecolor\": \"#EEEEEE\", \"facecolor\": \"#E24A33\", \"edgewidth\": 0.5, \"pathcodes\": [\"M\", \"L\", \"L\", \"L\", \"Z\"], \"yindex\": 1, \"coordinates\": \"data\", \"dasharray\": \"10,0\", \"zorder\": 1, \"alpha\": 1, \"xindex\": 0, \"data\": \"data30\", \"id\": \"el9985140687875570320\"}, {\"edgecolor\": \"#EEEEEE\", \"facecolor\": \"#E24A33\", \"edgewidth\": 0.5, \"pathcodes\": [\"M\", \"L\", \"L\", \"L\", \"Z\"], \"yindex\": 1, \"coordinates\": \"data\", \"dasharray\": \"10,0\", \"zorder\": 1, \"alpha\": 1, \"xindex\": 0, \"data\": \"data31\", \"id\": \"el9985140687874444240\"}, {\"edgecolor\": \"#EEEEEE\", \"facecolor\": \"#E24A33\", \"edgewidth\": 0.5, \"pathcodes\": [\"M\", \"L\", \"L\", \"L\", \"Z\"], \"yindex\": 1, \"coordinates\": \"data\", \"dasharray\": \"10,0\", \"zorder\": 1, \"alpha\": 1, \"xindex\": 0, \"data\": \"data32\", \"id\": \"el9985140687874266384\"}, {\"edgecolor\": \"#EEEEEE\", \"facecolor\": \"#E24A33\", \"edgewidth\": 0.5, \"pathcodes\": [\"M\", \"L\", \"L\", \"L\", \"Z\"], \"yindex\": 1, \"coordinates\": \"data\", \"dasharray\": \"10,0\", \"zorder\": 1, \"alpha\": 1, \"xindex\": 0, \"data\": \"data33\", \"id\": \"el9985140687095955152\"}, {\"edgecolor\": \"#EEEEEE\", \"facecolor\": \"#E24A33\", \"edgewidth\": 0.5, \"pathcodes\": [\"M\", \"L\", \"L\", \"L\", \"Z\"], \"yindex\": 1, \"coordinates\": \"data\", \"dasharray\": \"10,0\", \"zorder\": 1, \"alpha\": 1, \"xindex\": 0, \"data\": \"data34\", \"id\": \"el9985140687096026512\"}, {\"edgecolor\": \"#EEEEEE\", \"facecolor\": \"#E24A33\", \"edgewidth\": 0.5, \"pathcodes\": [\"M\", \"L\", \"L\", \"L\", \"Z\"], \"yindex\": 1, \"coordinates\": \"data\", \"dasharray\": \"10,0\", \"zorder\": 1, \"alpha\": 1, \"xindex\": 0, \"data\": \"data35\", \"id\": \"el9985140687096028176\"}, {\"edgecolor\": \"#EEEEEE\", \"facecolor\": \"#E24A33\", \"edgewidth\": 0.5, \"pathcodes\": [\"M\", \"L\", \"L\", \"L\", \"Z\"], \"yindex\": 1, \"coordinates\": \"data\", \"dasharray\": \"10,0\", \"zorder\": 1, \"alpha\": 1, \"xindex\": 0, \"data\": \"data36\", \"id\": \"el9985140687096070864\"}, {\"edgecolor\": \"#EEEEEE\", \"facecolor\": \"#E24A33\", \"edgewidth\": 0.5, \"pathcodes\": [\"M\", \"L\", \"L\", \"L\", \"Z\"], \"yindex\": 1, \"coordinates\": \"data\", \"dasharray\": \"10,0\", \"zorder\": 1, \"alpha\": 1, \"xindex\": 0, \"data\": \"data37\", \"id\": \"el9985140687096072528\"}, {\"edgecolor\": \"#EEEEEE\", \"facecolor\": \"#E24A33\", \"edgewidth\": 0.5, \"pathcodes\": [\"M\", \"L\", \"L\", \"L\", \"Z\"], \"yindex\": 1, \"coordinates\": \"data\", \"dasharray\": \"10,0\", \"zorder\": 1, \"alpha\": 1, \"xindex\": 0, \"data\": \"data38\", \"id\": \"el9985140687096074192\"}, {\"edgecolor\": \"#EEEEEE\", \"facecolor\": \"#E24A33\", \"edgewidth\": 0.5, \"pathcodes\": [\"M\", \"L\", \"L\", \"L\", \"Z\"], \"yindex\": 1, \"coordinates\": \"data\", \"dasharray\": \"10,0\", \"zorder\": 1, \"alpha\": 1, \"xindex\": 0, \"data\": \"data39\", \"id\": \"el9985140687096137360\"}, {\"edgecolor\": \"#EEEEEE\", \"facecolor\": \"#E24A33\", \"edgewidth\": 0.5, \"pathcodes\": [\"M\", \"L\", \"L\", \"L\", \"Z\"], \"yindex\": 1, \"coordinates\": \"data\", \"dasharray\": \"10,0\", \"zorder\": 1, \"alpha\": 1, \"xindex\": 0, \"data\": \"data40\", \"id\": \"el9985140687096139024\"}, {\"edgecolor\": \"#EEEEEE\", \"facecolor\": \"#E24A33\", \"edgewidth\": 0.5, \"pathcodes\": [\"M\", \"L\", \"L\", \"L\", \"Z\"], \"yindex\": 1, \"coordinates\": \"data\", \"dasharray\": \"10,0\", \"zorder\": 1, \"alpha\": 1, \"xindex\": 0, \"data\": \"data41\", \"id\": \"el9985140687874139088\"}, {\"edgecolor\": \"#EEEEEE\", \"facecolor\": \"#E24A33\", \"edgewidth\": 0.5, \"pathcodes\": [\"M\", \"L\", \"L\", \"L\", \"Z\"], \"yindex\": 1, \"coordinates\": \"data\", \"dasharray\": \"10,0\", \"zorder\": 1, \"alpha\": 1, \"xindex\": 0, \"data\": \"data42\", \"id\": \"el9985140687874140752\"}, {\"edgecolor\": \"#EEEEEE\", \"facecolor\": \"#E24A33\", \"edgewidth\": 0.5, \"pathcodes\": [\"M\", \"L\", \"L\", \"L\", \"Z\"], \"yindex\": 1, \"coordinates\": \"data\", \"dasharray\": \"10,0\", \"zorder\": 1, \"alpha\": 1, \"xindex\": 0, \"data\": \"data43\", \"id\": \"el9985140687874142032\"}, {\"edgecolor\": \"#EEEEEE\", \"facecolor\": \"#E24A33\", \"edgewidth\": 0.5, \"pathcodes\": [\"M\", \"L\", \"L\", \"L\", \"Z\"], \"yindex\": 1, \"coordinates\": \"data\", \"dasharray\": \"10,0\", \"zorder\": 1, \"alpha\": 1, \"xindex\": 0, \"data\": \"data44\", \"id\": \"el9985140687874115472\"}, {\"edgecolor\": \"#EEEEEE\", \"facecolor\": \"#E24A33\", \"edgewidth\": 0.5, \"pathcodes\": [\"M\", \"L\", \"L\", \"L\", \"Z\"], \"yindex\": 1, \"coordinates\": \"data\", \"dasharray\": \"10,0\", \"zorder\": 1, \"alpha\": 1, \"xindex\": 0, \"data\": \"data45\", \"id\": \"el9985140687874117136\"}, {\"edgecolor\": \"#EEEEEE\", \"facecolor\": \"#E24A33\", \"edgewidth\": 0.5, \"pathcodes\": [\"M\", \"L\", \"L\", \"L\", \"Z\"], \"yindex\": 1, \"coordinates\": \"data\", \"dasharray\": \"10,0\", \"zorder\": 1, \"alpha\": 1, \"xindex\": 0, \"data\": \"data46\", \"id\": \"el9985140687874143440\"}, {\"edgecolor\": \"#EEEEEE\", \"facecolor\": \"#E24A33\", \"edgewidth\": 0.5, \"pathcodes\": [\"M\", \"L\", \"L\", \"L\", \"Z\"], \"yindex\": 1, \"coordinates\": \"data\", \"dasharray\": \"10,0\", \"zorder\": 1, \"alpha\": 1, \"xindex\": 0, \"data\": \"data47\", \"id\": \"el9985140687874145104\"}, {\"edgecolor\": \"#EEEEEE\", \"facecolor\": \"#E24A33\", \"edgewidth\": 0.5, \"pathcodes\": [\"M\", \"L\", \"L\", \"L\", \"Z\"], \"yindex\": 1, \"coordinates\": \"data\", \"dasharray\": \"10,0\", \"zorder\": 1, \"alpha\": 1, \"xindex\": 0, \"data\": \"data48\", \"id\": \"el9985140687874212368\"}, {\"edgecolor\": \"#EEEEEE\", \"facecolor\": \"#E24A33\", \"edgewidth\": 0.5, \"pathcodes\": [\"M\", \"L\", \"L\", \"L\", \"Z\"], \"yindex\": 1, \"coordinates\": \"data\", \"dasharray\": \"10,0\", \"zorder\": 1, \"alpha\": 1, \"xindex\": 0, \"data\": \"data49\", \"id\": \"el9985140687874214032\"}, {\"edgecolor\": \"#EEEEEE\", \"facecolor\": \"#E24A33\", \"edgewidth\": 0.5, \"pathcodes\": [\"M\", \"L\", \"L\", \"L\", \"Z\"], \"yindex\": 1, \"coordinates\": \"data\", \"dasharray\": \"10,0\", \"zorder\": 1, \"alpha\": 1, \"xindex\": 0, \"data\": \"data50\", \"id\": \"el9985140687874215696\"}], \"sharey\": [], \"sharex\": [], \"axesbgalpha\": null, \"axes\": [{\"scale\": \"linear\", \"tickformat\": null, \"grid\": {\"color\": \"#FFFFFF\", \"alpha\": 1.0, \"dasharray\": \"10,0\", \"gridOn\": true}, \"fontsize\": 10.0, \"position\": \"bottom\", \"nticks\": 10, \"tickvalues\": null}, {\"scale\": \"linear\", \"tickformat\": null, \"grid\": {\"color\": \"#FFFFFF\", \"alpha\": 1.0, \"dasharray\": \"10,0\", \"gridOn\": true}, \"fontsize\": 10.0, \"position\": \"left\", \"nticks\": 6, \"tickvalues\": null}], \"lines\": [], \"markers\": [], \"id\": \"el9985140687883234512\", \"ydomain\": [0.0, 2500000.0], \"collections\": [], \"xscale\": \"linear\", \"bbox\": [0.125, 0.125, 0.77500000000000002, 0.77500000000000002]}], \"height\": 480.0, \"width\": 800.0, \"plugins\": [{\"type\": \"reset\"}, {\"enabled\": false, \"button\": true, \"type\": \"zoom\"}, {\"enabled\": false, \"button\": true, \"type\": \"boxzoom\"}], \"data\": {\"data42\": [[412.44000000000005, 0.0], [421.28000000000003, 0.0], [421.28000000000003, 50607.0], [412.44000000000005, 50607.0]], \"data43\": [[421.28, 0.0], [430.12, 0.0], [430.12, 44168.0], [421.28, 44168.0]], \"data40\": [[394.76, 0.0], [403.6, 0.0], [403.6, 65341.0], [394.76, 65341.0]], \"data41\": [[403.6, 0.0], [412.44, 0.0], [412.44, 57814.0], [403.6, 57814.0]], \"data46\": [[447.80000000000007, 0.0], [456.64000000000004, 0.0], [456.64000000000004, 16606.0], [447.80000000000007, 16606.0]], \"data47\": [[456.64, 0.0], [465.48, 0.0], [465.48, 8918.0], [456.64, 8918.0]], \"data44\": [[430.12, 0.0], [438.96, 0.0], [438.96, 32143.0], [430.12, 32143.0]], \"data45\": [[438.96, 0.0], [447.8, 0.0], [447.8, 27086.0], [438.96, 27086.0]], \"data48\": [[465.48, 0.0], [474.32, 0.0], [474.32, 4407.0], [465.48, 4407.0]], \"data49\": [[474.32000000000005, 0.0], [483.16, 0.0], [483.16, 1933.0], [474.32000000000005, 1933.0]], \"data50\": [[483.15999999999997, 0.0], [492.0, 0.0], [492.0, 1031.0], [483.15999999999997, 1031.0]], \"data28\": [[288.68000000000006, 0.0], [297.52000000000004, 0.0], [297.52000000000004, 8871.0], [288.68000000000006, 8871.0]], \"data06\": [[94.20000000000002, 0.0], [103.04, 0.0], [103.04, 1085.0], [94.20000000000002, 1085.0]], \"data08\": [[111.88, 0.0], [120.72, 0.0], [120.72, 1809.0], [111.88, 1809.0]], \"data09\": [[120.72, 0.0], [129.56, 0.0], [129.56, 2168.0], [120.72, 2168.0]], \"data20\": [[217.95999999999998, 0.0], [226.79999999999998, 0.0], [226.79999999999998, 3913.0], [217.95999999999998, 3913.0]], \"data21\": [[226.8, 0.0], [235.64, 0.0], [235.64, 3958.0], [226.8, 3958.0]], \"data22\": [[235.64, 0.0], [244.48, 0.0], [244.48, 4145.0], [235.64, 4145.0]], \"data05\": [[85.36, 0.0], [94.2, 0.0], [94.2, 1328.0], [85.36, 1328.0]], \"data02\": [[58.84, 0.0], [67.68, 0.0], [67.68, 317.0], [58.84, 317.0]], \"data04\": [[76.52, 0.0], [85.36, 0.0], [85.36, 512.0], [76.52, 512.0]], \"data26\": [[271.0, 0.0], [279.84000000000003, 0.0], [279.84000000000003, 7046.0], [271.0, 7046.0]], \"data01\": [[50.0, 0.0], [58.84, 0.0], [58.84, 248.0], [50.0, 248.0]], \"data23\": [[244.47999999999996, 0.0], [253.31999999999996, 0.0], [253.31999999999996, 2001900.0], [244.47999999999996, 2001900.0]], \"data24\": [[253.32000000000002, 0.0], [262.15999999999997, 0.0], [262.15999999999997, 175253.0], [253.32000000000002, 175253.0]], \"data03\": [[67.68, 0.0], [76.52, 0.0], [76.52, 393.0], [67.68, 393.0]], \"data27\": [[279.84000000000003, 0.0], [288.68, 0.0], [288.68, 5413.0], [279.84000000000003, 5413.0]], \"data07\": [[103.03999999999999, 0.0], [111.88, 0.0], [111.88, 1218.0], [103.03999999999999, 1218.0]], \"data37\": [[368.24, 0.0], [377.08, 0.0], [377.08, 91003.0], [368.24, 91003.0]], \"data36\": [[359.4, 0.0], [368.24, 0.0], [368.24, 102195.0], [359.4, 102195.0]], \"data35\": [[350.56000000000006, 0.0], [359.40000000000003, 0.0], [359.40000000000003, 110341.0], [350.56000000000006, 110341.0]], \"data34\": [[341.71999999999997, 0.0], [350.56, 0.0], [350.56, 103157.0], [341.71999999999997, 103157.0]], \"data25\": [[262.15999999999997, 0.0], [271.0, 0.0], [271.0, 4588.0], [262.15999999999997, 4588.0]], \"data32\": [[324.0400000000001, 0.0], [332.88000000000005, 0.0], [332.88000000000005, 21315.0], [324.0400000000001, 21315.0]], \"data31\": [[315.2, 0.0], [324.04, 0.0], [324.04, 9450.0], [315.2, 9450.0]], \"data30\": [[306.36, 0.0], [315.2, 0.0], [315.2, 6444.0], [306.36, 6444.0]], \"data39\": [[385.9200000000001, 0.0], [394.76000000000005, 0.0], [394.76000000000005, 73520.0], [385.9200000000001, 73520.0]], \"data38\": [[377.08, 0.0], [385.92, 0.0], [385.92, 72692.0], [377.08, 72692.0]], \"data19\": [[209.12, 0.0], [217.96, 0.0], [217.96, 3032.0], [209.12, 3032.0]], \"data18\": [[200.27999999999997, 0.0], [209.11999999999998, 0.0], [209.11999999999998, 3532.0], [200.27999999999997, 3532.0]], \"data15\": [[173.76, 0.0], [182.6, 0.0], [182.6, 3192.0], [173.76, 3192.0]], \"data14\": [[164.92000000000002, 0.0], [173.76, 0.0], [173.76, 3001.0], [164.92000000000002, 3001.0]], \"data17\": [[191.44, 0.0], [200.28, 0.0], [200.28, 3480.0], [191.44, 3480.0]], \"data16\": [[182.59999999999997, 0.0], [191.43999999999997, 0.0], [191.43999999999997, 3285.0], [182.59999999999997, 3285.0]], \"data11\": [[138.39999999999998, 0.0], [147.23999999999998, 0.0], [147.23999999999998, 2697.0], [138.39999999999998, 2697.0]], \"data10\": [[129.56, 0.0], [138.4, 0.0], [138.4, 2424.0], [129.56, 2424.0]], \"data13\": [[156.07999999999998, 0.0], [164.92000000000002, 0.0], [164.92000000000002, 2561.0], [156.07999999999998, 2561.0]], \"data12\": [[147.24, 0.0], [156.07999999999998, 0.0], [156.07999999999998, 2685.0], [147.24, 2685.0]], \"data29\": [[297.52, 0.0], [306.36, 0.0], [306.36, 5505.0], [297.52, 5505.0]], \"data33\": [[332.88, 0.0], [341.71999999999997, 0.0], [341.71999999999997, 62895.0], [332.88, 62895.0]]}, \"id\": \"el9985140687883389008\"});\n",
       "      });\n",
       "    });\n",
       "}else{\n",
       "    // require.js not available: dynamically load d3 & mpld3\n",
       "    mpld3_load_lib(\"https://mpld3.github.io/js/d3.v3.min.js\", function(){\n",
       "         mpld3_load_lib(\"https://mpld3.github.io/js/mpld3.v0.2.js\", function(){\n",
       "                 \n",
       "                 mpld3.draw_figure(\"fig_el99851406878833890084338912543\", {\"axes\": [{\"xlim\": [50.0, 500.0], \"yscale\": \"linear\", \"axesbg\": \"#E5E5E5\", \"texts\": [{\"v_baseline\": \"hanging\", \"h_anchor\": \"middle\", \"color\": \"#555555\", \"text\": \"Sequence Length, nt\", \"coordinates\": \"axes\", \"zorder\": 3, \"alpha\": 1, \"fontsize\": 12.0, \"position\": [0.5, -0.065710872162485043], \"rotation\": -0.0, \"id\": \"el9985140688615191056\"}, {\"v_baseline\": \"auto\", \"h_anchor\": \"middle\", \"color\": \"#555555\", \"text\": \"Count\", \"coordinates\": \"axes\", \"zorder\": 3, \"alpha\": 1, \"fontsize\": 12.0, \"position\": [-0.1010192652329749, 0.5], \"rotation\": -90.0, \"id\": \"el9985140687874424784\"}], \"zoomable\": true, \"images\": [], \"xdomain\": [50.0, 500.0], \"ylim\": [0.0, 2500000.0], \"paths\": [{\"edgecolor\": \"#EEEEEE\", \"facecolor\": \"#E24A33\", \"edgewidth\": 0.5, \"pathcodes\": [\"M\", \"L\", \"L\", \"L\", \"Z\"], \"yindex\": 1, \"coordinates\": \"data\", \"dasharray\": \"10,0\", \"zorder\": 1, \"alpha\": 1, \"xindex\": 0, \"data\": \"data01\", \"id\": \"el9985140687875255120\"}, {\"edgecolor\": \"#EEEEEE\", \"facecolor\": \"#E24A33\", \"edgewidth\": 0.5, \"pathcodes\": [\"M\", \"L\", \"L\", \"L\", \"Z\"], \"yindex\": 1, \"coordinates\": \"data\", \"dasharray\": \"10,0\", \"zorder\": 1, \"alpha\": 1, \"xindex\": 0, \"data\": \"data02\", \"id\": \"el9985140687875019280\"}, {\"edgecolor\": \"#EEEEEE\", \"facecolor\": \"#E24A33\", \"edgewidth\": 0.5, \"pathcodes\": [\"M\", \"L\", \"L\", \"L\", \"Z\"], \"yindex\": 1, \"coordinates\": \"data\", \"dasharray\": \"10,0\", \"zorder\": 1, \"alpha\": 1, \"xindex\": 0, \"data\": \"data03\", \"id\": \"el9985140687875020944\"}, {\"edgecolor\": \"#EEEEEE\", \"facecolor\": \"#E24A33\", \"edgewidth\": 0.5, \"pathcodes\": [\"M\", \"L\", \"L\", \"L\", \"Z\"], \"yindex\": 1, \"coordinates\": \"data\", \"dasharray\": \"10,0\", \"zorder\": 1, \"alpha\": 1, \"xindex\": 0, \"data\": \"data04\", \"id\": \"el9985140687875022608\"}, {\"edgecolor\": \"#EEEEEE\", \"facecolor\": \"#E24A33\", \"edgewidth\": 0.5, \"pathcodes\": [\"M\", \"L\", \"L\", \"L\", \"Z\"], \"yindex\": 1, \"coordinates\": \"data\", \"dasharray\": \"10,0\", \"zorder\": 1, \"alpha\": 1, \"xindex\": 0, \"data\": \"data05\", \"id\": \"el9985140687874831824\"}, {\"edgecolor\": \"#EEEEEE\", \"facecolor\": \"#E24A33\", \"edgewidth\": 0.5, \"pathcodes\": [\"M\", \"L\", \"L\", \"L\", \"Z\"], \"yindex\": 1, \"coordinates\": \"data\", \"dasharray\": \"10,0\", \"zorder\": 1, \"alpha\": 1, \"xindex\": 0, \"data\": \"data06\", \"id\": \"el9985140687874833488\"}, {\"edgecolor\": \"#EEEEEE\", \"facecolor\": \"#E24A33\", \"edgewidth\": 0.5, \"pathcodes\": [\"M\", \"L\", \"L\", \"L\", \"Z\"], \"yindex\": 1, \"coordinates\": \"data\", \"dasharray\": \"10,0\", \"zorder\": 1, \"alpha\": 1, \"xindex\": 0, \"data\": \"data07\", \"id\": \"el9985140687874904848\"}, {\"edgecolor\": \"#EEEEEE\", \"facecolor\": \"#E24A33\", \"edgewidth\": 0.5, \"pathcodes\": [\"M\", \"L\", \"L\", \"L\", \"Z\"], \"yindex\": 1, \"coordinates\": \"data\", \"dasharray\": \"10,0\", \"zorder\": 1, \"alpha\": 1, \"xindex\": 0, \"data\": \"data08\", \"id\": \"el9985140687874906512\"}, {\"edgecolor\": \"#EEEEEE\", \"facecolor\": \"#E24A33\", \"edgewidth\": 0.5, \"pathcodes\": [\"M\", \"L\", \"L\", \"L\", \"Z\"], \"yindex\": 1, \"coordinates\": \"data\", \"dasharray\": \"10,0\", \"zorder\": 1, \"alpha\": 1, \"xindex\": 0, \"data\": \"data09\", \"id\": \"el9985140687874907792\"}, {\"edgecolor\": \"#EEEEEE\", \"facecolor\": \"#E24A33\", \"edgewidth\": 0.5, \"pathcodes\": [\"M\", \"L\", \"L\", \"L\", \"Z\"], \"yindex\": 1, \"coordinates\": \"data\", \"dasharray\": \"10,0\", \"zorder\": 1, \"alpha\": 1, \"xindex\": 0, \"data\": \"data10\", \"id\": \"el9985140687874979536\"}, {\"edgecolor\": \"#EEEEEE\", \"facecolor\": \"#E24A33\", \"edgewidth\": 0.5, \"pathcodes\": [\"M\", \"L\", \"L\", \"L\", \"Z\"], \"yindex\": 1, \"coordinates\": \"data\", \"dasharray\": \"10,0\", \"zorder\": 1, \"alpha\": 1, \"xindex\": 0, \"data\": \"data11\", \"id\": \"el9985140687874981200\"}, {\"edgecolor\": \"#EEEEEE\", \"facecolor\": \"#E24A33\", \"edgewidth\": 0.5, \"pathcodes\": [\"M\", \"L\", \"L\", \"L\", \"Z\"], \"yindex\": 1, \"coordinates\": \"data\", \"dasharray\": \"10,0\", \"zorder\": 1, \"alpha\": 1, \"xindex\": 0, \"data\": \"data12\", \"id\": \"el9985140687874896912\"}, {\"edgecolor\": \"#EEEEEE\", \"facecolor\": \"#E24A33\", \"edgewidth\": 0.5, \"pathcodes\": [\"M\", \"L\", \"L\", \"L\", \"Z\"], \"yindex\": 1, \"coordinates\": \"data\", \"dasharray\": \"10,0\", \"zorder\": 1, \"alpha\": 1, \"xindex\": 0, \"data\": \"data13\", \"id\": \"el9985140687874898576\"}, {\"edgecolor\": \"#EEEEEE\", \"facecolor\": \"#E24A33\", \"edgewidth\": 0.5, \"pathcodes\": [\"M\", \"L\", \"L\", \"L\", \"Z\"], \"yindex\": 1, \"coordinates\": \"data\", \"dasharray\": \"10,0\", \"zorder\": 1, \"alpha\": 1, \"xindex\": 0, \"data\": \"data14\", \"id\": \"el9985140687874899856\"}, {\"edgecolor\": \"#EEEEEE\", \"facecolor\": \"#E24A33\", \"edgewidth\": 0.5, \"pathcodes\": [\"M\", \"L\", \"L\", \"L\", \"Z\"], \"yindex\": 1, \"coordinates\": \"data\", \"dasharray\": \"10,0\", \"zorder\": 1, \"alpha\": 1, \"xindex\": 0, \"data\": \"data15\", \"id\": \"el9985140687874750416\"}, {\"edgecolor\": \"#EEEEEE\", \"facecolor\": \"#E24A33\", \"edgewidth\": 0.5, \"pathcodes\": [\"M\", \"L\", \"L\", \"L\", \"Z\"], \"yindex\": 1, \"coordinates\": \"data\", \"dasharray\": \"10,0\", \"zorder\": 1, \"alpha\": 1, \"xindex\": 0, \"data\": \"data16\", \"id\": \"el9985140687874752080\"}, {\"edgecolor\": \"#EEEEEE\", \"facecolor\": \"#E24A33\", \"edgewidth\": 0.5, \"pathcodes\": [\"M\", \"L\", \"L\", \"L\", \"Z\"], \"yindex\": 1, \"coordinates\": \"data\", \"dasharray\": \"10,0\", \"zorder\": 1, \"alpha\": 1, \"xindex\": 0, \"data\": \"data17\", \"id\": \"el9985140687874630928\"}, {\"edgecolor\": \"#EEEEEE\", \"facecolor\": \"#E24A33\", \"edgewidth\": 0.5, \"pathcodes\": [\"M\", \"L\", \"L\", \"L\", \"Z\"], \"yindex\": 1, \"coordinates\": \"data\", \"dasharray\": \"10,0\", \"zorder\": 1, \"alpha\": 1, \"xindex\": 0, \"data\": \"data18\", \"id\": \"el9985140687874632592\"}, {\"edgecolor\": \"#EEEEEE\", \"facecolor\": \"#E24A33\", \"edgewidth\": 0.5, \"pathcodes\": [\"M\", \"L\", \"L\", \"L\", \"Z\"], \"yindex\": 1, \"coordinates\": \"data\", \"dasharray\": \"10,0\", \"zorder\": 1, \"alpha\": 1, \"xindex\": 0, \"data\": \"data19\", \"id\": \"el9985140687874724432\"}, {\"edgecolor\": \"#EEEEEE\", \"facecolor\": \"#E24A33\", \"edgewidth\": 0.5, \"pathcodes\": [\"M\", \"L\", \"L\", \"L\", \"Z\"], \"yindex\": 1, \"coordinates\": \"data\", \"dasharray\": \"10,0\", \"zorder\": 1, \"alpha\": 1, \"xindex\": 0, \"data\": \"data20\", \"id\": \"el9985140687874726096\"}, {\"edgecolor\": \"#EEEEEE\", \"facecolor\": \"#E24A33\", \"edgewidth\": 0.5, \"pathcodes\": [\"M\", \"L\", \"L\", \"L\", \"Z\"], \"yindex\": 1, \"coordinates\": \"data\", \"dasharray\": \"10,0\", \"zorder\": 1, \"alpha\": 1, \"xindex\": 0, \"data\": \"data21\", \"id\": \"el9985140687874727760\"}, {\"edgecolor\": \"#EEEEEE\", \"facecolor\": \"#E24A33\", \"edgewidth\": 0.5, \"pathcodes\": [\"M\", \"L\", \"L\", \"L\", \"Z\"], \"yindex\": 1, \"coordinates\": \"data\", \"dasharray\": \"10,0\", \"zorder\": 1, \"alpha\": 1, \"xindex\": 0, \"data\": \"data22\", \"id\": \"el9985140687874688528\"}, {\"edgecolor\": \"#EEEEEE\", \"facecolor\": \"#E24A33\", \"edgewidth\": 0.5, \"pathcodes\": [\"M\", \"L\", \"L\", \"L\", \"Z\"], \"yindex\": 1, \"coordinates\": \"data\", \"dasharray\": \"10,0\", \"zorder\": 1, \"alpha\": 1, \"xindex\": 0, \"data\": \"data23\", \"id\": \"el9985140687874690192\"}, {\"edgecolor\": \"#EEEEEE\", \"facecolor\": \"#E24A33\", \"edgewidth\": 0.5, \"pathcodes\": [\"M\", \"L\", \"L\", \"L\", \"Z\"], \"yindex\": 1, \"coordinates\": \"data\", \"dasharray\": \"10,0\", \"zorder\": 1, \"alpha\": 1, \"xindex\": 0, \"data\": \"data24\", \"id\": \"el9985140687874626384\"}, {\"edgecolor\": \"#EEEEEE\", \"facecolor\": \"#E24A33\", \"edgewidth\": 0.5, \"pathcodes\": [\"M\", \"L\", \"L\", \"L\", \"Z\"], \"yindex\": 1, \"coordinates\": \"data\", \"dasharray\": \"10,0\", \"zorder\": 1, \"alpha\": 1, \"xindex\": 0, \"data\": \"data25\", \"id\": \"el9985140687874628048\"}, {\"edgecolor\": \"#EEEEEE\", \"facecolor\": \"#E24A33\", \"edgewidth\": 0.5, \"pathcodes\": [\"M\", \"L\", \"L\", \"L\", \"Z\"], \"yindex\": 1, \"coordinates\": \"data\", \"dasharray\": \"10,0\", \"zorder\": 1, \"alpha\": 1, \"xindex\": 0, \"data\": \"data26\", \"id\": \"el9985140687874629328\"}, {\"edgecolor\": \"#EEEEEE\", \"facecolor\": \"#E24A33\", \"edgewidth\": 0.5, \"pathcodes\": [\"M\", \"L\", \"L\", \"L\", \"Z\"], \"yindex\": 1, \"coordinates\": \"data\", \"dasharray\": \"10,0\", \"zorder\": 1, \"alpha\": 1, \"xindex\": 0, \"data\": \"data27\", \"id\": \"el9985140687874664208\"}, {\"edgecolor\": \"#EEEEEE\", \"facecolor\": \"#E24A33\", \"edgewidth\": 0.5, \"pathcodes\": [\"M\", \"L\", \"L\", \"L\", \"Z\"], \"yindex\": 1, \"coordinates\": \"data\", \"dasharray\": \"10,0\", \"zorder\": 1, \"alpha\": 1, \"xindex\": 0, \"data\": \"data28\", \"id\": \"el9985140687874665872\"}, {\"edgecolor\": \"#EEEEEE\", \"facecolor\": \"#E24A33\", \"edgewidth\": 0.5, \"pathcodes\": [\"M\", \"L\", \"L\", \"L\", \"Z\"], \"yindex\": 1, \"coordinates\": \"data\", \"dasharray\": \"10,0\", \"zorder\": 1, \"alpha\": 1, \"xindex\": 0, \"data\": \"data29\", \"id\": \"el9985140687095952464\"}, {\"edgecolor\": \"#EEEEEE\", \"facecolor\": \"#E24A33\", \"edgewidth\": 0.5, \"pathcodes\": [\"M\", \"L\", \"L\", \"L\", \"Z\"], \"yindex\": 1, \"coordinates\": \"data\", \"dasharray\": \"10,0\", \"zorder\": 1, \"alpha\": 1, \"xindex\": 0, \"data\": \"data30\", \"id\": \"el9985140687875570320\"}, {\"edgecolor\": \"#EEEEEE\", \"facecolor\": \"#E24A33\", \"edgewidth\": 0.5, \"pathcodes\": [\"M\", \"L\", \"L\", \"L\", \"Z\"], \"yindex\": 1, \"coordinates\": \"data\", \"dasharray\": \"10,0\", \"zorder\": 1, \"alpha\": 1, \"xindex\": 0, \"data\": \"data31\", \"id\": \"el9985140687874444240\"}, {\"edgecolor\": \"#EEEEEE\", \"facecolor\": \"#E24A33\", \"edgewidth\": 0.5, \"pathcodes\": [\"M\", \"L\", \"L\", \"L\", \"Z\"], \"yindex\": 1, \"coordinates\": \"data\", \"dasharray\": \"10,0\", \"zorder\": 1, \"alpha\": 1, \"xindex\": 0, \"data\": \"data32\", \"id\": \"el9985140687874266384\"}, {\"edgecolor\": \"#EEEEEE\", \"facecolor\": \"#E24A33\", \"edgewidth\": 0.5, \"pathcodes\": [\"M\", \"L\", \"L\", \"L\", \"Z\"], \"yindex\": 1, \"coordinates\": \"data\", \"dasharray\": \"10,0\", \"zorder\": 1, \"alpha\": 1, \"xindex\": 0, \"data\": \"data33\", \"id\": \"el9985140687095955152\"}, {\"edgecolor\": \"#EEEEEE\", \"facecolor\": \"#E24A33\", \"edgewidth\": 0.5, \"pathcodes\": [\"M\", \"L\", \"L\", \"L\", \"Z\"], \"yindex\": 1, \"coordinates\": \"data\", \"dasharray\": \"10,0\", \"zorder\": 1, \"alpha\": 1, \"xindex\": 0, \"data\": \"data34\", \"id\": \"el9985140687096026512\"}, {\"edgecolor\": \"#EEEEEE\", \"facecolor\": \"#E24A33\", \"edgewidth\": 0.5, \"pathcodes\": [\"M\", \"L\", \"L\", \"L\", \"Z\"], \"yindex\": 1, \"coordinates\": \"data\", \"dasharray\": \"10,0\", \"zorder\": 1, \"alpha\": 1, \"xindex\": 0, \"data\": \"data35\", \"id\": \"el9985140687096028176\"}, {\"edgecolor\": \"#EEEEEE\", \"facecolor\": \"#E24A33\", \"edgewidth\": 0.5, \"pathcodes\": [\"M\", \"L\", \"L\", \"L\", \"Z\"], \"yindex\": 1, \"coordinates\": \"data\", \"dasharray\": \"10,0\", \"zorder\": 1, \"alpha\": 1, \"xindex\": 0, \"data\": \"data36\", \"id\": \"el9985140687096070864\"}, {\"edgecolor\": \"#EEEEEE\", \"facecolor\": \"#E24A33\", \"edgewidth\": 0.5, \"pathcodes\": [\"M\", \"L\", \"L\", \"L\", \"Z\"], \"yindex\": 1, \"coordinates\": \"data\", \"dasharray\": \"10,0\", \"zorder\": 1, \"alpha\": 1, \"xindex\": 0, \"data\": \"data37\", \"id\": \"el9985140687096072528\"}, {\"edgecolor\": \"#EEEEEE\", \"facecolor\": \"#E24A33\", \"edgewidth\": 0.5, \"pathcodes\": [\"M\", \"L\", \"L\", \"L\", \"Z\"], \"yindex\": 1, \"coordinates\": \"data\", \"dasharray\": \"10,0\", \"zorder\": 1, \"alpha\": 1, \"xindex\": 0, \"data\": \"data38\", \"id\": \"el9985140687096074192\"}, {\"edgecolor\": \"#EEEEEE\", \"facecolor\": \"#E24A33\", \"edgewidth\": 0.5, \"pathcodes\": [\"M\", \"L\", \"L\", \"L\", \"Z\"], \"yindex\": 1, \"coordinates\": \"data\", \"dasharray\": \"10,0\", \"zorder\": 1, \"alpha\": 1, \"xindex\": 0, \"data\": \"data39\", \"id\": \"el9985140687096137360\"}, {\"edgecolor\": \"#EEEEEE\", \"facecolor\": \"#E24A33\", \"edgewidth\": 0.5, \"pathcodes\": [\"M\", \"L\", \"L\", \"L\", \"Z\"], \"yindex\": 1, \"coordinates\": \"data\", \"dasharray\": \"10,0\", \"zorder\": 1, \"alpha\": 1, \"xindex\": 0, \"data\": \"data40\", \"id\": \"el9985140687096139024\"}, {\"edgecolor\": \"#EEEEEE\", \"facecolor\": \"#E24A33\", \"edgewidth\": 0.5, \"pathcodes\": [\"M\", \"L\", \"L\", \"L\", \"Z\"], \"yindex\": 1, \"coordinates\": \"data\", \"dasharray\": \"10,0\", \"zorder\": 1, \"alpha\": 1, \"xindex\": 0, \"data\": \"data41\", \"id\": \"el9985140687874139088\"}, {\"edgecolor\": \"#EEEEEE\", \"facecolor\": \"#E24A33\", \"edgewidth\": 0.5, \"pathcodes\": [\"M\", \"L\", \"L\", \"L\", \"Z\"], \"yindex\": 1, \"coordinates\": \"data\", \"dasharray\": \"10,0\", \"zorder\": 1, \"alpha\": 1, \"xindex\": 0, \"data\": \"data42\", \"id\": \"el9985140687874140752\"}, {\"edgecolor\": \"#EEEEEE\", \"facecolor\": \"#E24A33\", \"edgewidth\": 0.5, \"pathcodes\": [\"M\", \"L\", \"L\", \"L\", \"Z\"], \"yindex\": 1, \"coordinates\": \"data\", \"dasharray\": \"10,0\", \"zorder\": 1, \"alpha\": 1, \"xindex\": 0, \"data\": \"data43\", \"id\": \"el9985140687874142032\"}, {\"edgecolor\": \"#EEEEEE\", \"facecolor\": \"#E24A33\", \"edgewidth\": 0.5, \"pathcodes\": [\"M\", \"L\", \"L\", \"L\", \"Z\"], \"yindex\": 1, \"coordinates\": \"data\", \"dasharray\": \"10,0\", \"zorder\": 1, \"alpha\": 1, \"xindex\": 0, \"data\": \"data44\", \"id\": \"el9985140687874115472\"}, {\"edgecolor\": \"#EEEEEE\", \"facecolor\": \"#E24A33\", \"edgewidth\": 0.5, \"pathcodes\": [\"M\", \"L\", \"L\", \"L\", \"Z\"], \"yindex\": 1, \"coordinates\": \"data\", \"dasharray\": \"10,0\", \"zorder\": 1, \"alpha\": 1, \"xindex\": 0, \"data\": \"data45\", \"id\": \"el9985140687874117136\"}, {\"edgecolor\": \"#EEEEEE\", \"facecolor\": \"#E24A33\", \"edgewidth\": 0.5, \"pathcodes\": [\"M\", \"L\", \"L\", \"L\", \"Z\"], \"yindex\": 1, \"coordinates\": \"data\", \"dasharray\": \"10,0\", \"zorder\": 1, \"alpha\": 1, \"xindex\": 0, \"data\": \"data46\", \"id\": \"el9985140687874143440\"}, {\"edgecolor\": \"#EEEEEE\", \"facecolor\": \"#E24A33\", \"edgewidth\": 0.5, \"pathcodes\": [\"M\", \"L\", \"L\", \"L\", \"Z\"], \"yindex\": 1, \"coordinates\": \"data\", \"dasharray\": \"10,0\", \"zorder\": 1, \"alpha\": 1, \"xindex\": 0, \"data\": \"data47\", \"id\": \"el9985140687874145104\"}, {\"edgecolor\": \"#EEEEEE\", \"facecolor\": \"#E24A33\", \"edgewidth\": 0.5, \"pathcodes\": [\"M\", \"L\", \"L\", \"L\", \"Z\"], \"yindex\": 1, \"coordinates\": \"data\", \"dasharray\": \"10,0\", \"zorder\": 1, \"alpha\": 1, \"xindex\": 0, \"data\": \"data48\", \"id\": \"el9985140687874212368\"}, {\"edgecolor\": \"#EEEEEE\", \"facecolor\": \"#E24A33\", \"edgewidth\": 0.5, \"pathcodes\": [\"M\", \"L\", \"L\", \"L\", \"Z\"], \"yindex\": 1, \"coordinates\": \"data\", \"dasharray\": \"10,0\", \"zorder\": 1, \"alpha\": 1, \"xindex\": 0, \"data\": \"data49\", \"id\": \"el9985140687874214032\"}, {\"edgecolor\": \"#EEEEEE\", \"facecolor\": \"#E24A33\", \"edgewidth\": 0.5, \"pathcodes\": [\"M\", \"L\", \"L\", \"L\", \"Z\"], \"yindex\": 1, \"coordinates\": \"data\", \"dasharray\": \"10,0\", \"zorder\": 1, \"alpha\": 1, \"xindex\": 0, \"data\": \"data50\", \"id\": \"el9985140687874215696\"}], \"sharey\": [], \"sharex\": [], \"axesbgalpha\": null, \"axes\": [{\"scale\": \"linear\", \"tickformat\": null, \"grid\": {\"color\": \"#FFFFFF\", \"alpha\": 1.0, \"dasharray\": \"10,0\", \"gridOn\": true}, \"fontsize\": 10.0, \"position\": \"bottom\", \"nticks\": 10, \"tickvalues\": null}, {\"scale\": \"linear\", \"tickformat\": null, \"grid\": {\"color\": \"#FFFFFF\", \"alpha\": 1.0, \"dasharray\": \"10,0\", \"gridOn\": true}, \"fontsize\": 10.0, \"position\": \"left\", \"nticks\": 6, \"tickvalues\": null}], \"lines\": [], \"markers\": [], \"id\": \"el9985140687883234512\", \"ydomain\": [0.0, 2500000.0], \"collections\": [], \"xscale\": \"linear\", \"bbox\": [0.125, 0.125, 0.77500000000000002, 0.77500000000000002]}], \"height\": 480.0, \"width\": 800.0, \"plugins\": [{\"type\": \"reset\"}, {\"enabled\": false, \"button\": true, \"type\": \"zoom\"}, {\"enabled\": false, \"button\": true, \"type\": \"boxzoom\"}], \"data\": {\"data42\": [[412.44000000000005, 0.0], [421.28000000000003, 0.0], [421.28000000000003, 50607.0], [412.44000000000005, 50607.0]], \"data43\": [[421.28, 0.0], [430.12, 0.0], [430.12, 44168.0], [421.28, 44168.0]], \"data40\": [[394.76, 0.0], [403.6, 0.0], [403.6, 65341.0], [394.76, 65341.0]], \"data41\": [[403.6, 0.0], [412.44, 0.0], [412.44, 57814.0], [403.6, 57814.0]], \"data46\": [[447.80000000000007, 0.0], [456.64000000000004, 0.0], [456.64000000000004, 16606.0], [447.80000000000007, 16606.0]], \"data47\": [[456.64, 0.0], [465.48, 0.0], [465.48, 8918.0], [456.64, 8918.0]], \"data44\": [[430.12, 0.0], [438.96, 0.0], [438.96, 32143.0], [430.12, 32143.0]], \"data45\": [[438.96, 0.0], [447.8, 0.0], [447.8, 27086.0], [438.96, 27086.0]], \"data48\": [[465.48, 0.0], [474.32, 0.0], [474.32, 4407.0], [465.48, 4407.0]], \"data49\": [[474.32000000000005, 0.0], [483.16, 0.0], [483.16, 1933.0], [474.32000000000005, 1933.0]], \"data50\": [[483.15999999999997, 0.0], [492.0, 0.0], [492.0, 1031.0], [483.15999999999997, 1031.0]], \"data28\": [[288.68000000000006, 0.0], [297.52000000000004, 0.0], [297.52000000000004, 8871.0], [288.68000000000006, 8871.0]], \"data06\": [[94.20000000000002, 0.0], [103.04, 0.0], [103.04, 1085.0], [94.20000000000002, 1085.0]], \"data08\": [[111.88, 0.0], [120.72, 0.0], [120.72, 1809.0], [111.88, 1809.0]], \"data09\": [[120.72, 0.0], [129.56, 0.0], [129.56, 2168.0], [120.72, 2168.0]], \"data20\": [[217.95999999999998, 0.0], [226.79999999999998, 0.0], [226.79999999999998, 3913.0], [217.95999999999998, 3913.0]], \"data21\": [[226.8, 0.0], [235.64, 0.0], [235.64, 3958.0], [226.8, 3958.0]], \"data22\": [[235.64, 0.0], [244.48, 0.0], [244.48, 4145.0], [235.64, 4145.0]], \"data05\": [[85.36, 0.0], [94.2, 0.0], [94.2, 1328.0], [85.36, 1328.0]], \"data02\": [[58.84, 0.0], [67.68, 0.0], [67.68, 317.0], [58.84, 317.0]], \"data04\": [[76.52, 0.0], [85.36, 0.0], [85.36, 512.0], [76.52, 512.0]], \"data26\": [[271.0, 0.0], [279.84000000000003, 0.0], [279.84000000000003, 7046.0], [271.0, 7046.0]], \"data01\": [[50.0, 0.0], [58.84, 0.0], [58.84, 248.0], [50.0, 248.0]], \"data23\": [[244.47999999999996, 0.0], [253.31999999999996, 0.0], [253.31999999999996, 2001900.0], [244.47999999999996, 2001900.0]], \"data24\": [[253.32000000000002, 0.0], [262.15999999999997, 0.0], [262.15999999999997, 175253.0], [253.32000000000002, 175253.0]], \"data03\": [[67.68, 0.0], [76.52, 0.0], [76.52, 393.0], [67.68, 393.0]], \"data27\": [[279.84000000000003, 0.0], [288.68, 0.0], [288.68, 5413.0], [279.84000000000003, 5413.0]], \"data07\": [[103.03999999999999, 0.0], [111.88, 0.0], [111.88, 1218.0], [103.03999999999999, 1218.0]], \"data37\": [[368.24, 0.0], [377.08, 0.0], [377.08, 91003.0], [368.24, 91003.0]], \"data36\": [[359.4, 0.0], [368.24, 0.0], [368.24, 102195.0], [359.4, 102195.0]], \"data35\": [[350.56000000000006, 0.0], [359.40000000000003, 0.0], [359.40000000000003, 110341.0], [350.56000000000006, 110341.0]], \"data34\": [[341.71999999999997, 0.0], [350.56, 0.0], [350.56, 103157.0], [341.71999999999997, 103157.0]], \"data25\": [[262.15999999999997, 0.0], [271.0, 0.0], [271.0, 4588.0], [262.15999999999997, 4588.0]], \"data32\": [[324.0400000000001, 0.0], [332.88000000000005, 0.0], [332.88000000000005, 21315.0], [324.0400000000001, 21315.0]], \"data31\": [[315.2, 0.0], [324.04, 0.0], [324.04, 9450.0], [315.2, 9450.0]], \"data30\": [[306.36, 0.0], [315.2, 0.0], [315.2, 6444.0], [306.36, 6444.0]], \"data39\": [[385.9200000000001, 0.0], [394.76000000000005, 0.0], [394.76000000000005, 73520.0], [385.9200000000001, 73520.0]], \"data38\": [[377.08, 0.0], [385.92, 0.0], [385.92, 72692.0], [377.08, 72692.0]], \"data19\": [[209.12, 0.0], [217.96, 0.0], [217.96, 3032.0], [209.12, 3032.0]], \"data18\": [[200.27999999999997, 0.0], [209.11999999999998, 0.0], [209.11999999999998, 3532.0], [200.27999999999997, 3532.0]], \"data15\": [[173.76, 0.0], [182.6, 0.0], [182.6, 3192.0], [173.76, 3192.0]], \"data14\": [[164.92000000000002, 0.0], [173.76, 0.0], [173.76, 3001.0], [164.92000000000002, 3001.0]], \"data17\": [[191.44, 0.0], [200.28, 0.0], [200.28, 3480.0], [191.44, 3480.0]], \"data16\": [[182.59999999999997, 0.0], [191.43999999999997, 0.0], [191.43999999999997, 3285.0], [182.59999999999997, 3285.0]], \"data11\": [[138.39999999999998, 0.0], [147.23999999999998, 0.0], [147.23999999999998, 2697.0], [138.39999999999998, 2697.0]], \"data10\": [[129.56, 0.0], [138.4, 0.0], [138.4, 2424.0], [129.56, 2424.0]], \"data13\": [[156.07999999999998, 0.0], [164.92000000000002, 0.0], [164.92000000000002, 2561.0], [156.07999999999998, 2561.0]], \"data12\": [[147.24, 0.0], [156.07999999999998, 0.0], [156.07999999999998, 2685.0], [147.24, 2685.0]], \"data29\": [[297.52, 0.0], [306.36, 0.0], [306.36, 5505.0], [297.52, 5505.0]], \"data33\": [[332.88, 0.0], [341.71999999999997, 0.0], [341.71999999999997, 62895.0], [332.88, 62895.0]]}, \"id\": \"el9985140687883389008\"});\n",
       "            })\n",
       "         });\n",
       "}\n",
       "</script>"
      ],
      "text/plain": [
       "<matplotlib.figure.Figure at 0x7ff473504850>"
      ]
     },
     "metadata": {},
     "output_type": "display_data"
    }
   ],
   "source": [
    "style.use(\"ggplot\")\n",
    "fig = plt.figure()\n",
    "ax = fig.add_subplot(111)\n",
    "h = ax.hist(np.array(lengths), bins=50)\n",
    "xl = ax.set_xlabel(\"Sequence Length, nt\")\n",
    "yl = ax.set_ylabel(\"Count\")\n",
    "fig.set_size_inches((10,6))"
   ]
  }
 ],
 "metadata": {
  "kernelspec": {
   "display_name": "Python 2",
   "language": "python",
   "name": "python2"
  },
  "language_info": {
   "codemirror_mode": {
    "name": "ipython",
    "version": 2
   },
   "file_extension": ".py",
   "mimetype": "text/x-python",
   "name": "python",
   "nbconvert_exporter": "python",
   "pygments_lexer": "ipython2",
   "version": "2.7.9"
  }
 },
 "nbformat": 4,
 "nbformat_minor": 0
}
