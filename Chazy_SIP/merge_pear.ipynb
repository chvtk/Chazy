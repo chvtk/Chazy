{
 "cells": [
  {
   "cell_type": "code",
   "execution_count": 1,
   "metadata": {
    "collapsed": false
   },
   "outputs": [],
   "source": [
    "import screed\n",
    "import matplotlib.pyplot as plt\n",
    "from mpltools import style\n",
    "import numpy as np\n",
    "from mpld3 import enable_notebook\n",
    "%matplotlib inline"
   ]
  },
  {
   "cell_type": "code",
   "execution_count": 2,
   "metadata": {
    "collapsed": false
   },
   "outputs": [],
   "source": [
    "enable_notebook()"
   ]
  },
  {
   "cell_type": "code",
   "execution_count": 3,
   "metadata": {
    "collapsed": false
   },
   "outputs": [
    {
     "name": "stdout",
     "output_type": "stream",
     "text": [
      " ____  _____    _    ____ \n",
      "|  _ \\| ____|  / \\  |  _ \\\n",
      "| |_) |  _|   / _ \\ | |_) |\n",
      "|  __/| |___ / ___ \\|  _ <\n",
      "|_|   |_____/_/   \\_\\_| \\_\\\n",
      "\n",
      "PEAR v0.9.2 [March 26 2014]\n",
      "\n",
      "Citation - PEAR: a fast and accurate Illumina Paired-End reAd mergeR\n",
      "Zhang et al (2014) Bioinformatics 30(5): 614-620 | doi:10.1093/bioinformatics/btt593\n",
      "\n",
      "Forward reads file.................: /var/seq_data/Chazy/515_806_SIP/Pool1/Read1.fastq\n",
      "Reverse reads file.................: /var/seq_data/Chazy/515_806_SIP/Pool1/Read2.fastq\n",
      "PHRED..............................: 33\n",
      "Using empirical frequencies........: YES\n",
      "Statistical method.................: OES\n",
      "Maximum assembly length............: 999999\n",
      "Minimum assembly length............: 50\n",
      "p-value............................: 0.010000\n",
      "Quality score threshold (trimming).: 0\n",
      "Minimum read size after trimming...: 1\n",
      "Maximal ratio of uncalled bases....: 1.000000\n",
      "Minimum overlap....................: 10\n",
      "Scoring method.....................: Scaled score\n",
      "Threads............................: 10\n",
      "\n",
      "Allocating memory..................: 200,000,000 bytes\n",
      "Computing empirical frequencies....: DONE\n",
      "  A: 0.219719\n",
      "  C: 0.284188\n",
      "  G: 0.270870\n",
      "  T: 0.225223\n",
      "  9 uncalled bases\n",
      "Assemblying reads..................: [...................................................................................................................................]\n",
      "\n",
      "Assembled reads ...................: 10,738,490 / 10,796,829 (99.460%)\n",
      "Discarded reads ...................: 0 / 10,796,829 (0.000%)\n",
      "Not assembled reads ...............: 58,339 / 10,796,829 (0.540%)\n",
      "Assembled reads file...............: /var/seq_data/Chazy/515_806_SIP/Pool1/pear_merged_raw-2015-07-02.assembled.fastq\n",
      "Discarded reads file...............: /var/seq_data/Chazy/515_806_SIP/Pool1/pear_merged_raw-2015-07-02.discarded.fastq\n",
      "Unassembled forward reads file.....: /var/seq_data/Chazy/515_806_SIP/Pool1/pear_merged_raw-2015-07-02.unassembled.forward.fastq\n",
      "Unassembled reverse reads file.....: /var/seq_data/Chazy/515_806_SIP/Pool1/pear_merged_raw-2015-07-02.unassembled.reverse.fastq\n"
     ]
    }
   ],
   "source": [
    "%%bash\n",
    "pear -j 10 -f /var/seq_data/Chazy/515_806_SIP/Pool1/Read1.fastq -r /var/seq_data/Chazy/515_806_SIP/Pool1/Read2.fastq -o /var/seq_data/Chazy/515_806_SIP/Pool1/pear_merged_raw-$(date +%F)"
   ]
  },
  {
   "cell_type": "code",
   "execution_count": 4,
   "metadata": {
    "collapsed": false
   },
   "outputs": [],
   "source": [
    "import screed"
   ]
  },
  {
   "cell_type": "code",
   "execution_count": 7,
   "metadata": {
    "collapsed": false
   },
   "outputs": [
    {
     "data": {
      "text/plain": [
       "<ScreedDB, '/var/seq_data/Chazy/515_806_SIP/Pool1/pear_merged_raw-2015-07-02.assembled.fastq_screed'>"
      ]
     },
     "execution_count": 7,
     "metadata": {},
     "output_type": "execute_result"
    }
   ],
   "source": [
    "screed.read_fastq_sequences(\"/var/seq_data/Chazy/515_806_SIP/Pool1/pear_merged_raw-2015-07-02.assembled.fastq\")"
   ]
  },
  {
   "cell_type": "code",
   "execution_count": 8,
   "metadata": {
    "collapsed": false
   },
   "outputs": [],
   "source": [
    "fqdb = screed.ScreedDB(\"/var/seq_data/Chazy/515_806_SIP/Pool1/pear_merged_raw-2015-07-02.assembled.fastq_screed\")"
   ]
  },
  {
   "cell_type": "code",
   "execution_count": 9,
   "metadata": {
    "collapsed": false
   },
   "outputs": [],
   "source": [
    "record = fqdb[fqdb.keys()[0]]"
   ]
  },
  {
   "cell_type": "code",
   "execution_count": 10,
   "metadata": {
    "collapsed": false
   },
   "outputs": [
    {
     "data": {
      "text/plain": [
       "'TACGTAGGGCGCAAGCGTTATCCGGAATTATTGGGCGTAAAGAGCTCGTAGGCGGTTTGTCGCGTCTGCCGTGAAAGTCCGGGGCTCAACTCCGGATCTGCGGTGGGTACGGGCAGACTAGAGTGATGTAGGGGAGACTGGAATTCCTGGTGTAGCGGTGAAATGCGCAGATATCAGGAGGAACACCGATGGCGAAGGCAGGTCTCTGGGCATTAACTGACGCTGAGGAGCGAAAGCATGGGGAGCGAACAGG'"
      ]
     },
     "execution_count": 10,
     "metadata": {},
     "output_type": "execute_result"
    }
   ],
   "source": [
    "record[\"sequence\"]"
   ]
  },
  {
   "cell_type": "code",
   "execution_count": 11,
   "metadata": {
    "collapsed": false
   },
   "outputs": [],
   "source": [
    "lengths = []\n",
    "for read in fqdb.itervalues():\n",
    "    lengths.append((len(read[\"sequence\"])))"
   ]
  },
  {
   "cell_type": "code",
   "execution_count": 12,
   "metadata": {
    "collapsed": false
   },
   "outputs": [
    {
     "data": {
      "image/png": "[encoded data removed]",
      "text/html": [
       "\n",
       "\n",
       "<style>\n",
       "\n",
       "</style>\n",
       "\n",
       "<div id=\"fig_el331551397946694352807561321341\"></div>\n",
       "<script>\n",
       "function mpld3_load_lib(url, callback){\n",
       "  var s = document.createElement('script');\n",
       "  s.src = url;\n",
       "  s.async = true;\n",
       "  s.onreadystatechange = s.onload = callback;\n",
       "  s.onerror = function(){console.warn(\"failed to load library \" + url);};\n",
       "  document.getElementsByTagName(\"head\")[0].appendChild(s);\n",
       "}\n",
       "\n",
       "if(typeof(mpld3) !== \"undefined\" && mpld3._mpld3IsLoaded){\n",
       "   // already loaded: just create the figure\n",
       "   !function(mpld3){\n",
       "       \n",
       "       mpld3.draw_figure(\"fig_el331551397946694352807561321341\", {\"axes\": [{\"xlim\": [50.0, 500.0], \"yscale\": \"linear\", \"axesbg\": \"#E5E5E5\", \"texts\": [{\"v_baseline\": \"hanging\", \"h_anchor\": \"middle\", \"color\": \"#555555\", \"text\": \"Sequence Length, nt\", \"coordinates\": \"axes\", \"zorder\": 3, \"alpha\": 1, \"fontsize\": 12.0, \"position\": [0.5, -0.065710872162485043], \"rotation\": -0.0, \"id\": \"el33155139795401417232\"}, {\"v_baseline\": \"auto\", \"h_anchor\": \"middle\", \"color\": \"#555555\", \"text\": \"Count\", \"coordinates\": \"axes\", \"zorder\": 3, \"alpha\": 1, \"fontsize\": 12.0, \"position\": [-0.04985999103942651, 0.5], \"rotation\": -90.0, \"id\": \"el33155139792058288336\"}], \"zoomable\": true, \"images\": [], \"xdomain\": [50.0, 500.0], \"ylim\": [0.0, 10000000.0], \"paths\": [{\"edgecolor\": \"#EEEEEE\", \"facecolor\": \"#E24A33\", \"edgewidth\": 0.5, \"pathcodes\": [\"M\", \"L\", \"L\", \"L\", \"Z\"], \"yindex\": 1, \"coordinates\": \"data\", \"dasharray\": \"10,0\", \"zorder\": 1, \"alpha\": 1, \"xindex\": 0, \"data\": \"data01\", \"id\": \"el33155139794665442384\"}, {\"edgecolor\": \"#EEEEEE\", \"facecolor\": \"#E24A33\", \"edgewidth\": 0.5, \"pathcodes\": [\"M\", \"L\", \"L\", \"L\", \"Z\"], \"yindex\": 1, \"coordinates\": \"data\", \"dasharray\": \"10,0\", \"zorder\": 1, \"alpha\": 1, \"xindex\": 0, \"data\": \"data02\", \"id\": \"el33155139794665435920\"}, {\"edgecolor\": \"#EEEEEE\", \"facecolor\": \"#E24A33\", \"edgewidth\": 0.5, \"pathcodes\": [\"M\", \"L\", \"L\", \"L\", \"Z\"], \"yindex\": 1, \"coordinates\": \"data\", \"dasharray\": \"10,0\", \"zorder\": 1, \"alpha\": 1, \"xindex\": 0, \"data\": \"data03\", \"id\": \"el33155139794665437584\"}, {\"edgecolor\": \"#EEEEEE\", \"facecolor\": \"#E24A33\", \"edgewidth\": 0.5, \"pathcodes\": [\"M\", \"L\", \"L\", \"L\", \"Z\"], \"yindex\": 1, \"coordinates\": \"data\", \"dasharray\": \"10,0\", \"zorder\": 1, \"alpha\": 1, \"xindex\": 0, \"data\": \"data04\", \"id\": \"el33155139794665438864\"}, {\"edgecolor\": \"#EEEEEE\", \"facecolor\": \"#E24A33\", \"edgewidth\": 0.5, \"pathcodes\": [\"M\", \"L\", \"L\", \"L\", \"Z\"], \"yindex\": 1, \"coordinates\": \"data\", \"dasharray\": \"10,0\", \"zorder\": 1, \"alpha\": 1, \"xindex\": 0, \"data\": \"data05\", \"id\": \"el33155139794665445072\"}, {\"edgecolor\": \"#EEEEEE\", \"facecolor\": \"#E24A33\", \"edgewidth\": 0.5, \"pathcodes\": [\"M\", \"L\", \"L\", \"L\", \"Z\"], \"yindex\": 1, \"coordinates\": \"data\", \"dasharray\": \"10,0\", \"zorder\": 1, \"alpha\": 1, \"xindex\": 0, \"data\": \"data06\", \"id\": \"el33155139794665446736\"}, {\"edgecolor\": \"#EEEEEE\", \"facecolor\": \"#E24A33\", \"edgewidth\": 0.5, \"pathcodes\": [\"M\", \"L\", \"L\", \"L\", \"Z\"], \"yindex\": 1, \"coordinates\": \"data\", \"dasharray\": \"10,0\", \"zorder\": 1, \"alpha\": 1, \"xindex\": 0, \"data\": \"data07\", \"id\": \"el33155139794652644368\"}, {\"edgecolor\": \"#EEEEEE\", \"facecolor\": \"#E24A33\", \"edgewidth\": 0.5, \"pathcodes\": [\"M\", \"L\", \"L\", \"L\", \"Z\"], \"yindex\": 1, \"coordinates\": \"data\", \"dasharray\": \"10,0\", \"zorder\": 1, \"alpha\": 1, \"xindex\": 0, \"data\": \"data08\", \"id\": \"el33155139794652646032\"}, {\"edgecolor\": \"#EEEEEE\", \"facecolor\": \"#E24A33\", \"edgewidth\": 0.5, \"pathcodes\": [\"M\", \"L\", \"L\", \"L\", \"Z\"], \"yindex\": 1, \"coordinates\": \"data\", \"dasharray\": \"10,0\", \"zorder\": 1, \"alpha\": 1, \"xindex\": 0, \"data\": \"data09\", \"id\": \"el33155139794652647312\"}, {\"edgecolor\": \"#EEEEEE\", \"facecolor\": \"#E24A33\", \"edgewidth\": 0.5, \"pathcodes\": [\"M\", \"L\", \"L\", \"L\", \"Z\"], \"yindex\": 1, \"coordinates\": \"data\", \"dasharray\": \"10,0\", \"zorder\": 1, \"alpha\": 1, \"xindex\": 0, \"data\": \"data10\", \"id\": \"el33155139794652563408\"}, {\"edgecolor\": \"#EEEEEE\", \"facecolor\": \"#E24A33\", \"edgewidth\": 0.5, \"pathcodes\": [\"M\", \"L\", \"L\", \"L\", \"Z\"], \"yindex\": 1, \"coordinates\": \"data\", \"dasharray\": \"10,0\", \"zorder\": 1, \"alpha\": 1, \"xindex\": 0, \"data\": \"data11\", \"id\": \"el33155139794652565072\"}, {\"edgecolor\": \"#EEEEEE\", \"facecolor\": \"#E24A33\", \"edgewidth\": 0.5, \"pathcodes\": [\"M\", \"L\", \"L\", \"L\", \"Z\"], \"yindex\": 1, \"coordinates\": \"data\", \"dasharray\": \"10,0\", \"zorder\": 1, \"alpha\": 1, \"xindex\": 0, \"data\": \"data12\", \"id\": \"el33155139794652525840\"}, {\"edgecolor\": \"#EEEEEE\", \"facecolor\": \"#E24A33\", \"edgewidth\": 0.5, \"pathcodes\": [\"M\", \"L\", \"L\", \"L\", \"Z\"], \"yindex\": 1, \"coordinates\": \"data\", \"dasharray\": \"10,0\", \"zorder\": 1, \"alpha\": 1, \"xindex\": 0, \"data\": \"data13\", \"id\": \"el33155139794652527504\"}, {\"edgecolor\": \"#EEEEEE\", \"facecolor\": \"#E24A33\", \"edgewidth\": 0.5, \"pathcodes\": [\"M\", \"L\", \"L\", \"L\", \"Z\"], \"yindex\": 1, \"coordinates\": \"data\", \"dasharray\": \"10,0\", \"zorder\": 1, \"alpha\": 1, \"xindex\": 0, \"data\": \"data14\", \"id\": \"el33155139794652557904\"}, {\"edgecolor\": \"#EEEEEE\", \"facecolor\": \"#E24A33\", \"edgewidth\": 0.5, \"pathcodes\": [\"M\", \"L\", \"L\", \"L\", \"Z\"], \"yindex\": 1, \"coordinates\": \"data\", \"dasharray\": \"10,0\", \"zorder\": 1, \"alpha\": 1, \"xindex\": 0, \"data\": \"data15\", \"id\": \"el33155139794652559568\"}, {\"edgecolor\": \"#EEEEEE\", \"facecolor\": \"#E24A33\", \"edgewidth\": 0.5, \"pathcodes\": [\"M\", \"L\", \"L\", \"L\", \"Z\"], \"yindex\": 1, \"coordinates\": \"data\", \"dasharray\": \"10,0\", \"zorder\": 1, \"alpha\": 1, \"xindex\": 0, \"data\": \"data16\", \"id\": \"el33155139794652561232\"}, {\"edgecolor\": \"#EEEEEE\", \"facecolor\": \"#E24A33\", \"edgewidth\": 0.5, \"pathcodes\": [\"M\", \"L\", \"L\", \"L\", \"Z\"], \"yindex\": 1, \"coordinates\": \"data\", \"dasharray\": \"10,0\", \"zorder\": 1, \"alpha\": 1, \"xindex\": 0, \"data\": \"data17\", \"id\": \"el33155139794652665360\"}, {\"edgecolor\": \"#EEEEEE\", \"facecolor\": \"#E24A33\", \"edgewidth\": 0.5, \"pathcodes\": [\"M\", \"L\", \"L\", \"L\", \"Z\"], \"yindex\": 1, \"coordinates\": \"data\", \"dasharray\": \"10,0\", \"zorder\": 1, \"alpha\": 1, \"xindex\": 0, \"data\": \"data18\", \"id\": \"el33155139794652667024\"}, {\"edgecolor\": \"#EEEEEE\", \"facecolor\": \"#E24A33\", \"edgewidth\": 0.5, \"pathcodes\": [\"M\", \"L\", \"L\", \"L\", \"Z\"], \"yindex\": 1, \"coordinates\": \"data\", \"dasharray\": \"10,0\", \"zorder\": 1, \"alpha\": 1, \"xindex\": 0, \"data\": \"data19\", \"id\": \"el33155139794654585680\"}, {\"edgecolor\": \"#EEEEEE\", \"facecolor\": \"#E24A33\", \"edgewidth\": 0.5, \"pathcodes\": [\"M\", \"L\", \"L\", \"L\", \"Z\"], \"yindex\": 1, \"coordinates\": \"data\", \"dasharray\": \"10,0\", \"zorder\": 1, \"alpha\": 1, \"xindex\": 0, \"data\": \"data20\", \"id\": \"el33155139794654587344\"}, {\"edgecolor\": \"#EEEEEE\", \"facecolor\": \"#E24A33\", \"edgewidth\": 0.5, \"pathcodes\": [\"M\", \"L\", \"L\", \"L\", \"Z\"], \"yindex\": 1, \"coordinates\": \"data\", \"dasharray\": \"10,0\", \"zorder\": 1, \"alpha\": 1, \"xindex\": 0, \"data\": \"data21\", \"id\": \"el33155139794654588624\"}, {\"edgecolor\": \"#EEEEEE\", \"facecolor\": \"#E24A33\", \"edgewidth\": 0.5, \"pathcodes\": [\"M\", \"L\", \"L\", \"L\", \"Z\"], \"yindex\": 1, \"coordinates\": \"data\", \"dasharray\": \"10,0\", \"zorder\": 1, \"alpha\": 1, \"xindex\": 0, \"data\": \"data22\", \"id\": \"el33155139794654541584\"}, {\"edgecolor\": \"#EEEEEE\", \"facecolor\": \"#E24A33\", \"edgewidth\": 0.5, \"pathcodes\": [\"M\", \"L\", \"L\", \"L\", \"Z\"], \"yindex\": 1, \"coordinates\": \"data\", \"dasharray\": \"10,0\", \"zorder\": 1, \"alpha\": 1, \"xindex\": 0, \"data\": \"data23\", \"id\": \"el33155139794654543248\"}, {\"edgecolor\": \"#EEEEEE\", \"facecolor\": \"#E24A33\", \"edgewidth\": 0.5, \"pathcodes\": [\"M\", \"L\", \"L\", \"L\", \"Z\"], \"yindex\": 1, \"coordinates\": \"data\", \"dasharray\": \"10,0\", \"zorder\": 1, \"alpha\": 1, \"xindex\": 0, \"data\": \"data24\", \"id\": \"el33155139794654639184\"}, {\"edgecolor\": \"#EEEEEE\", \"facecolor\": \"#E24A33\", \"edgewidth\": 0.5, \"pathcodes\": [\"M\", \"L\", \"L\", \"L\", \"Z\"], \"yindex\": 1, \"coordinates\": \"data\", \"dasharray\": \"10,0\", \"zorder\": 1, \"alpha\": 1, \"xindex\": 0, \"data\": \"data25\", \"id\": \"el33155139794654640848\"}, {\"edgecolor\": \"#EEEEEE\", \"facecolor\": \"#E24A33\", \"edgewidth\": 0.5, \"pathcodes\": [\"M\", \"L\", \"L\", \"L\", \"Z\"], \"yindex\": 1, \"coordinates\": \"data\", \"dasharray\": \"10,0\", \"zorder\": 1, \"alpha\": 1, \"xindex\": 0, \"data\": \"data26\", \"id\": \"el33155139794654642128\"}, {\"edgecolor\": \"#EEEEEE\", \"facecolor\": \"#E24A33\", \"edgewidth\": 0.5, \"pathcodes\": [\"M\", \"L\", \"L\", \"L\", \"Z\"], \"yindex\": 1, \"coordinates\": \"data\", \"dasharray\": \"10,0\", \"zorder\": 1, \"alpha\": 1, \"xindex\": 0, \"data\": \"data27\", \"id\": \"el33155139794654590992\"}, {\"edgecolor\": \"#EEEEEE\", \"facecolor\": \"#E24A33\", \"edgewidth\": 0.5, \"pathcodes\": [\"M\", \"L\", \"L\", \"L\", \"Z\"], \"yindex\": 1, \"coordinates\": \"data\", \"dasharray\": \"10,0\", \"zorder\": 1, \"alpha\": 1, \"xindex\": 0, \"data\": \"data28\", \"id\": \"el33155139794654592656\"}, {\"edgecolor\": \"#EEEEEE\", \"facecolor\": \"#E24A33\", \"edgewidth\": 0.5, \"pathcodes\": [\"M\", \"L\", \"L\", \"L\", \"Z\"], \"yindex\": 1, \"coordinates\": \"data\", \"dasharray\": \"10,0\", \"zorder\": 1, \"alpha\": 1, \"xindex\": 0, \"data\": \"data29\", \"id\": \"el33155139794654741840\"}, {\"edgecolor\": \"#EEEEEE\", \"facecolor\": \"#E24A33\", \"edgewidth\": 0.5, \"pathcodes\": [\"M\", \"L\", \"L\", \"L\", \"Z\"], \"yindex\": 1, \"coordinates\": \"data\", \"dasharray\": \"10,0\", \"zorder\": 1, \"alpha\": 1, \"xindex\": 0, \"data\": \"data30\", \"id\": \"el33155139794654743504\"}, {\"edgecolor\": \"#EEEEEE\", \"facecolor\": \"#E24A33\", \"edgewidth\": 0.5, \"pathcodes\": [\"M\", \"L\", \"L\", \"L\", \"Z\"], \"yindex\": 1, \"coordinates\": \"data\", \"dasharray\": \"10,0\", \"zorder\": 1, \"alpha\": 1, \"xindex\": 0, \"data\": \"data31\", \"id\": \"el33155139794665665168\"}, {\"edgecolor\": \"#EEEEEE\", \"facecolor\": \"#E24A33\", \"edgewidth\": 0.5, \"pathcodes\": [\"M\", \"L\", \"L\", \"L\", \"Z\"], \"yindex\": 1, \"coordinates\": \"data\", \"dasharray\": \"10,0\", \"zorder\": 1, \"alpha\": 1, \"xindex\": 0, \"data\": \"data32\", \"id\": \"el33155139794665666832\"}, {\"edgecolor\": \"#EEEEEE\", \"facecolor\": \"#E24A33\", \"edgewidth\": 0.5, \"pathcodes\": [\"M\", \"L\", \"L\", \"L\", \"Z\"], \"yindex\": 1, \"coordinates\": \"data\", \"dasharray\": \"10,0\", \"zorder\": 1, \"alpha\": 1, \"xindex\": 0, \"data\": \"data33\", \"id\": \"el33155139794665668496\"}, {\"edgecolor\": \"#EEEEEE\", \"facecolor\": \"#E24A33\", \"edgewidth\": 0.5, \"pathcodes\": [\"M\", \"L\", \"L\", \"L\", \"Z\"], \"yindex\": 1, \"coordinates\": \"data\", \"dasharray\": \"10,0\", \"zorder\": 1, \"alpha\": 1, \"xindex\": 0, \"data\": \"data34\", \"id\": \"el33155139794665694800\"}, {\"edgecolor\": \"#EEEEEE\", \"facecolor\": \"#E24A33\", \"edgewidth\": 0.5, \"pathcodes\": [\"M\", \"L\", \"L\", \"L\", \"Z\"], \"yindex\": 1, \"coordinates\": \"data\", \"dasharray\": \"10,0\", \"zorder\": 1, \"alpha\": 1, \"xindex\": 0, \"data\": \"data35\", \"id\": \"el33155139794668878800\"}, {\"edgecolor\": \"#EEEEEE\", \"facecolor\": \"#E24A33\", \"edgewidth\": 0.5, \"pathcodes\": [\"M\", \"L\", \"L\", \"L\", \"Z\"], \"yindex\": 1, \"coordinates\": \"data\", \"dasharray\": \"10,0\", \"zorder\": 1, \"alpha\": 1, \"xindex\": 0, \"data\": \"data36\", \"id\": \"el33155139792058416400\"}, {\"edgecolor\": \"#EEEEEE\", \"facecolor\": \"#E24A33\", \"edgewidth\": 0.5, \"pathcodes\": [\"M\", \"L\", \"L\", \"L\", \"Z\"], \"yindex\": 1, \"coordinates\": \"data\", \"dasharray\": \"10,0\", \"zorder\": 1, \"alpha\": 1, \"xindex\": 0, \"data\": \"data37\", \"id\": \"el33155139792058373712\"}, {\"edgecolor\": \"#EEEEEE\", \"facecolor\": \"#E24A33\", \"edgewidth\": 0.5, \"pathcodes\": [\"M\", \"L\", \"L\", \"L\", \"Z\"], \"yindex\": 1, \"coordinates\": \"data\", \"dasharray\": \"10,0\", \"zorder\": 1, \"alpha\": 1, \"xindex\": 0, \"data\": \"data38\", \"id\": \"el33155139794665696080\"}, {\"edgecolor\": \"#EEEEEE\", \"facecolor\": \"#E24A33\", \"edgewidth\": 0.5, \"pathcodes\": [\"M\", \"L\", \"L\", \"L\", \"Z\"], \"yindex\": 1, \"coordinates\": \"data\", \"dasharray\": \"10,0\", \"zorder\": 1, \"alpha\": 1, \"xindex\": 0, \"data\": \"data39\", \"id\": \"el33155139794665727888\"}, {\"edgecolor\": \"#EEEEEE\", \"facecolor\": \"#E24A33\", \"edgewidth\": 0.5, \"pathcodes\": [\"M\", \"L\", \"L\", \"L\", \"Z\"], \"yindex\": 1, \"coordinates\": \"data\", \"dasharray\": \"10,0\", \"zorder\": 1, \"alpha\": 1, \"xindex\": 0, \"data\": \"data40\", \"id\": \"el33155139794665729552\"}, {\"edgecolor\": \"#EEEEEE\", \"facecolor\": \"#E24A33\", \"edgewidth\": 0.5, \"pathcodes\": [\"M\", \"L\", \"L\", \"L\", \"Z\"], \"yindex\": 1, \"coordinates\": \"data\", \"dasharray\": \"10,0\", \"zorder\": 1, \"alpha\": 1, \"xindex\": 0, \"data\": \"data41\", \"id\": \"el33155139794665600208\"}, {\"edgecolor\": \"#EEEEEE\", \"facecolor\": \"#E24A33\", \"edgewidth\": 0.5, \"pathcodes\": [\"M\", \"L\", \"L\", \"L\", \"Z\"], \"yindex\": 1, \"coordinates\": \"data\", \"dasharray\": \"10,0\", \"zorder\": 1, \"alpha\": 1, \"xindex\": 0, \"data\": \"data42\", \"id\": \"el33155139794665601872\"}, {\"edgecolor\": \"#EEEEEE\", \"facecolor\": \"#E24A33\", \"edgewidth\": 0.5, \"pathcodes\": [\"M\", \"L\", \"L\", \"L\", \"Z\"], \"yindex\": 1, \"coordinates\": \"data\", \"dasharray\": \"10,0\", \"zorder\": 1, \"alpha\": 1, \"xindex\": 0, \"data\": \"data43\", \"id\": \"el33155139794665669136\"}, {\"edgecolor\": \"#EEEEEE\", \"facecolor\": \"#E24A33\", \"edgewidth\": 0.5, \"pathcodes\": [\"M\", \"L\", \"L\", \"L\", \"Z\"], \"yindex\": 1, \"coordinates\": \"data\", \"dasharray\": \"10,0\", \"zorder\": 1, \"alpha\": 1, \"xindex\": 0, \"data\": \"data44\", \"id\": \"el33155139794665670800\"}, {\"edgecolor\": \"#EEEEEE\", \"facecolor\": \"#E24A33\", \"edgewidth\": 0.5, \"pathcodes\": [\"M\", \"L\", \"L\", \"L\", \"Z\"], \"yindex\": 1, \"coordinates\": \"data\", \"dasharray\": \"10,0\", \"zorder\": 1, \"alpha\": 1, \"xindex\": 0, \"data\": \"data45\", \"id\": \"el33155139794665672464\"}, {\"edgecolor\": \"#EEEEEE\", \"facecolor\": \"#E24A33\", \"edgewidth\": 0.5, \"pathcodes\": [\"M\", \"L\", \"L\", \"L\", \"Z\"], \"yindex\": 1, \"coordinates\": \"data\", \"dasharray\": \"10,0\", \"zorder\": 1, \"alpha\": 1, \"xindex\": 0, \"data\": \"data46\", \"id\": \"el33155139794652751312\"}, {\"edgecolor\": \"#EEEEEE\", \"facecolor\": \"#E24A33\", \"edgewidth\": 0.5, \"pathcodes\": [\"M\", \"L\", \"L\", \"L\", \"Z\"], \"yindex\": 1, \"coordinates\": \"data\", \"dasharray\": \"10,0\", \"zorder\": 1, \"alpha\": 1, \"xindex\": 0, \"data\": \"data47\", \"id\": \"el33155139794652752976\"}, {\"edgecolor\": \"#EEEEEE\", \"facecolor\": \"#E24A33\", \"edgewidth\": 0.5, \"pathcodes\": [\"M\", \"L\", \"L\", \"L\", \"Z\"], \"yindex\": 1, \"coordinates\": \"data\", \"dasharray\": \"10,0\", \"zorder\": 1, \"alpha\": 1, \"xindex\": 0, \"data\": \"data48\", \"id\": \"el33155139794652766992\"}, {\"edgecolor\": \"#EEEEEE\", \"facecolor\": \"#E24A33\", \"edgewidth\": 0.5, \"pathcodes\": [\"M\", \"L\", \"L\", \"L\", \"Z\"], \"yindex\": 1, \"coordinates\": \"data\", \"dasharray\": \"10,0\", \"zorder\": 1, \"alpha\": 1, \"xindex\": 0, \"data\": \"data49\", \"id\": \"el33155139794652768656\"}, {\"edgecolor\": \"#EEEEEE\", \"facecolor\": \"#E24A33\", \"edgewidth\": 0.5, \"pathcodes\": [\"M\", \"L\", \"L\", \"L\", \"Z\"], \"yindex\": 1, \"coordinates\": \"data\", \"dasharray\": \"10,0\", \"zorder\": 1, \"alpha\": 1, \"xindex\": 0, \"data\": \"data50\", \"id\": \"el33155139794652769936\"}], \"sharey\": [], \"sharex\": [], \"axesbgalpha\": null, \"axes\": [{\"scale\": \"linear\", \"tickformat\": null, \"grid\": {\"color\": \"#FFFFFF\", \"alpha\": 1.0, \"dasharray\": \"10,0\", \"gridOn\": true}, \"fontsize\": 10.0, \"position\": \"bottom\", \"nticks\": 10, \"tickvalues\": null}, {\"scale\": \"linear\", \"tickformat\": null, \"grid\": {\"color\": \"#FFFFFF\", \"alpha\": 1.0, \"dasharray\": \"10,0\", \"gridOn\": true}, \"fontsize\": 10.0, \"position\": \"left\", \"nticks\": 6, \"tickvalues\": null}], \"lines\": [], \"markers\": [], \"id\": \"el33155139794669288720\", \"ydomain\": [0.0, 10000000.0], \"collections\": [], \"xscale\": \"linear\", \"bbox\": [0.125, 0.125, 0.77500000000000002, 0.77500000000000002]}], \"height\": 480.0, \"width\": 800.0, \"plugins\": [{\"type\": \"reset\"}, {\"enabled\": false, \"button\": true, \"type\": \"zoom\"}, {\"enabled\": false, \"button\": true, \"type\": \"boxzoom\"}], \"data\": {\"data42\": [[412.44000000000005, 0.0], [421.28000000000003, 0.0], [421.28000000000003, 45053.0], [412.44000000000005, 45053.0]], \"data43\": [[421.28, 0.0], [430.12, 0.0], [430.12, 39847.0], [421.28, 39847.0]], \"data40\": [[394.76, 0.0], [403.6, 0.0], [403.6, 57780.0], [394.76, 57780.0]], \"data41\": [[403.6, 0.0], [412.44, 0.0], [412.44, 50954.0], [403.6, 50954.0]], \"data46\": [[447.80000000000007, 0.0], [456.64000000000004, 0.0], [456.64000000000004, 15549.0], [447.80000000000007, 15549.0]], \"data47\": [[456.64, 0.0], [465.48, 0.0], [465.48, 8381.0], [456.64, 8381.0]], \"data44\": [[430.12, 0.0], [438.96, 0.0], [438.96, 29606.0], [430.12, 29606.0]], \"data45\": [[438.96, 0.0], [447.8, 0.0], [447.8, 25011.0], [438.96, 25011.0]], \"data48\": [[465.48, 0.0], [474.32, 0.0], [474.32, 4116.0], [465.48, 4116.0]], \"data49\": [[474.32000000000005, 0.0], [483.16, 0.0], [483.16, 2092.0], [474.32000000000005, 2092.0]], \"data50\": [[483.15999999999997, 0.0], [492.0, 0.0], [492.0, 1149.0], [483.15999999999997, 1149.0]], \"data28\": [[288.68000000000006, 0.0], [297.52000000000004, 0.0], [297.52000000000004, 8668.0], [288.68000000000006, 8668.0]], \"data06\": [[94.20000000000002, 0.0], [103.04, 0.0], [103.04, 963.0], [94.20000000000002, 963.0]], \"data08\": [[111.88, 0.0], [120.72, 0.0], [120.72, 1569.0], [111.88, 1569.0]], \"data09\": [[120.72, 0.0], [129.56, 0.0], [129.56, 1905.0], [120.72, 1905.0]], \"data20\": [[217.95999999999998, 0.0], [226.79999999999998, 0.0], [226.79999999999998, 3998.0], [217.95999999999998, 3998.0]], \"data21\": [[226.8, 0.0], [235.64, 0.0], [235.64, 3436.0], [226.8, 3436.0]], \"data22\": [[235.64, 0.0], [244.48, 0.0], [244.48, 4064.0], [235.64, 4064.0]], \"data05\": [[85.36, 0.0], [94.2, 0.0], [94.2, 2358.0], [85.36, 2358.0]], \"data02\": [[58.84, 0.0], [67.68, 0.0], [67.68, 422.0], [58.84, 422.0]], \"data04\": [[76.52, 0.0], [85.36, 0.0], [85.36, 582.0], [76.52, 582.0]], \"data26\": [[271.0, 0.0], [279.84000000000003, 0.0], [279.84000000000003, 14579.0], [271.0, 14579.0]], \"data01\": [[50.0, 0.0], [58.84, 0.0], [58.84, 265.0], [50.0, 265.0]], \"data23\": [[244.47999999999996, 0.0], [253.31999999999996, 0.0], [253.31999999999996, 9351821.0], [244.47999999999996, 9351821.0]], \"data24\": [[253.32000000000002, 0.0], [262.15999999999997, 0.0], [262.15999999999997, 443825.0], [253.32000000000002, 443825.0]], \"data03\": [[67.68, 0.0], [76.52, 0.0], [76.52, 435.0], [67.68, 435.0]], \"data27\": [[279.84000000000003, 0.0], [288.68, 0.0], [288.68, 7845.0], [279.84000000000003, 7845.0]], \"data07\": [[103.03999999999999, 0.0], [111.88, 0.0], [111.88, 1172.0], [103.03999999999999, 1172.0]], \"data37\": [[368.24, 0.0], [377.08, 0.0], [377.08, 80642.0], [368.24, 80642.0]], \"data36\": [[359.4, 0.0], [368.24, 0.0], [368.24, 89496.0], [359.4, 89496.0]], \"data35\": [[350.56000000000006, 0.0], [359.40000000000003, 0.0], [359.40000000000003, 96215.0], [350.56000000000006, 96215.0]], \"data34\": [[341.71999999999997, 0.0], [350.56, 0.0], [350.56, 90209.0], [341.71999999999997, 90209.0]], \"data25\": [[262.15999999999997, 0.0], [271.0, 0.0], [271.0, 6684.0], [262.15999999999997, 6684.0]], \"data32\": [[324.0400000000001, 0.0], [332.88000000000005, 0.0], [332.88000000000005, 18341.0], [324.0400000000001, 18341.0]], \"data31\": [[315.2, 0.0], [324.04, 0.0], [324.04, 8028.0], [315.2, 8028.0]], \"data30\": [[306.36, 0.0], [315.2, 0.0], [315.2, 5391.0], [306.36, 5391.0]], \"data39\": [[385.9200000000001, 0.0], [394.76000000000005, 0.0], [394.76000000000005, 64915.0], [385.9200000000001, 64915.0]], \"data38\": [[377.08, 0.0], [385.92, 0.0], [385.92, 63536.0], [377.08, 63536.0]], \"data19\": [[209.12, 0.0], [217.96, 0.0], [217.96, 3044.0], [209.12, 3044.0]], \"data18\": [[200.27999999999997, 0.0], [209.11999999999998, 0.0], [209.11999999999998, 3687.0], [200.27999999999997, 3687.0]], \"data15\": [[173.76, 0.0], [182.6, 0.0], [182.6, 2936.0], [173.76, 2936.0]], \"data14\": [[164.92000000000002, 0.0], [173.76, 0.0], [173.76, 2872.0], [164.92000000000002, 2872.0]], \"data17\": [[191.44, 0.0], [200.28, 0.0], [200.28, 3077.0], [191.44, 3077.0]], \"data16\": [[182.59999999999997, 0.0], [191.43999999999997, 0.0], [191.43999999999997, 2788.0], [182.59999999999997, 2788.0]], \"data11\": [[138.39999999999998, 0.0], [147.23999999999998, 0.0], [147.23999999999998, 2578.0], [138.39999999999998, 2578.0]], \"data10\": [[129.56, 0.0], [138.4, 0.0], [138.4, 2304.0], [129.56, 2304.0]], \"data13\": [[156.07999999999998, 0.0], [164.92000000000002, 0.0], [164.92000000000002, 2341.0], [156.07999999999998, 2341.0]], \"data12\": [[147.24, 0.0], [156.07999999999998, 0.0], [156.07999999999998, 2427.0], [147.24, 2427.0]], \"data29\": [[297.52, 0.0], [306.36, 0.0], [306.36, 4889.0], [297.52, 4889.0]], \"data33\": [[332.88, 0.0], [341.71999999999997, 0.0], [341.71999999999997, 54645.0], [332.88, 54645.0]]}, \"id\": \"el33155139794669435280\"});\n",
       "   }(mpld3);\n",
       "}else if(typeof define === \"function\" && define.amd){\n",
       "   // require.js is available: use it to load d3/mpld3\n",
       "   require.config({paths: {d3: \"https://mpld3.github.io/js/d3.v3.min\"}});\n",
       "   require([\"d3\"], function(d3){\n",
       "      window.d3 = d3;\n",
       "      mpld3_load_lib(\"https://mpld3.github.io/js/mpld3.v0.2.js\", function(){\n",
       "         \n",
       "         mpld3.draw_figure(\"fig_el331551397946694352807561321341\", {\"axes\": [{\"xlim\": [50.0, 500.0], \"yscale\": \"linear\", \"axesbg\": \"#E5E5E5\", \"texts\": [{\"v_baseline\": \"hanging\", \"h_anchor\": \"middle\", \"color\": \"#555555\", \"text\": \"Sequence Length, nt\", \"coordinates\": \"axes\", \"zorder\": 3, \"alpha\": 1, \"fontsize\": 12.0, \"position\": [0.5, -0.065710872162485043], \"rotation\": -0.0, \"id\": \"el33155139795401417232\"}, {\"v_baseline\": \"auto\", \"h_anchor\": \"middle\", \"color\": \"#555555\", \"text\": \"Count\", \"coordinates\": \"axes\", \"zorder\": 3, \"alpha\": 1, \"fontsize\": 12.0, \"position\": [-0.04985999103942651, 0.5], \"rotation\": -90.0, \"id\": \"el33155139792058288336\"}], \"zoomable\": true, \"images\": [], \"xdomain\": [50.0, 500.0], \"ylim\": [0.0, 10000000.0], \"paths\": [{\"edgecolor\": \"#EEEEEE\", \"facecolor\": \"#E24A33\", \"edgewidth\": 0.5, \"pathcodes\": [\"M\", \"L\", \"L\", \"L\", \"Z\"], \"yindex\": 1, \"coordinates\": \"data\", \"dasharray\": \"10,0\", \"zorder\": 1, \"alpha\": 1, \"xindex\": 0, \"data\": \"data01\", \"id\": \"el33155139794665442384\"}, {\"edgecolor\": \"#EEEEEE\", \"facecolor\": \"#E24A33\", \"edgewidth\": 0.5, \"pathcodes\": [\"M\", \"L\", \"L\", \"L\", \"Z\"], \"yindex\": 1, \"coordinates\": \"data\", \"dasharray\": \"10,0\", \"zorder\": 1, \"alpha\": 1, \"xindex\": 0, \"data\": \"data02\", \"id\": \"el33155139794665435920\"}, {\"edgecolor\": \"#EEEEEE\", \"facecolor\": \"#E24A33\", \"edgewidth\": 0.5, \"pathcodes\": [\"M\", \"L\", \"L\", \"L\", \"Z\"], \"yindex\": 1, \"coordinates\": \"data\", \"dasharray\": \"10,0\", \"zorder\": 1, \"alpha\": 1, \"xindex\": 0, \"data\": \"data03\", \"id\": \"el33155139794665437584\"}, {\"edgecolor\": \"#EEEEEE\", \"facecolor\": \"#E24A33\", \"edgewidth\": 0.5, \"pathcodes\": [\"M\", \"L\", \"L\", \"L\", \"Z\"], \"yindex\": 1, \"coordinates\": \"data\", \"dasharray\": \"10,0\", \"zorder\": 1, \"alpha\": 1, \"xindex\": 0, \"data\": \"data04\", \"id\": \"el33155139794665438864\"}, {\"edgecolor\": \"#EEEEEE\", \"facecolor\": \"#E24A33\", \"edgewidth\": 0.5, \"pathcodes\": [\"M\", \"L\", \"L\", \"L\", \"Z\"], \"yindex\": 1, \"coordinates\": \"data\", \"dasharray\": \"10,0\", \"zorder\": 1, \"alpha\": 1, \"xindex\": 0, \"data\": \"data05\", \"id\": \"el33155139794665445072\"}, {\"edgecolor\": \"#EEEEEE\", \"facecolor\": \"#E24A33\", \"edgewidth\": 0.5, \"pathcodes\": [\"M\", \"L\", \"L\", \"L\", \"Z\"], \"yindex\": 1, \"coordinates\": \"data\", \"dasharray\": \"10,0\", \"zorder\": 1, \"alpha\": 1, \"xindex\": 0, \"data\": \"data06\", \"id\": \"el33155139794665446736\"}, {\"edgecolor\": \"#EEEEEE\", \"facecolor\": \"#E24A33\", \"edgewidth\": 0.5, \"pathcodes\": [\"M\", \"L\", \"L\", \"L\", \"Z\"], \"yindex\": 1, \"coordinates\": \"data\", \"dasharray\": \"10,0\", \"zorder\": 1, \"alpha\": 1, \"xindex\": 0, \"data\": \"data07\", \"id\": \"el33155139794652644368\"}, {\"edgecolor\": \"#EEEEEE\", \"facecolor\": \"#E24A33\", \"edgewidth\": 0.5, \"pathcodes\": [\"M\", \"L\", \"L\", \"L\", \"Z\"], \"yindex\": 1, \"coordinates\": \"data\", \"dasharray\": \"10,0\", \"zorder\": 1, \"alpha\": 1, \"xindex\": 0, \"data\": \"data08\", \"id\": \"el33155139794652646032\"}, {\"edgecolor\": \"#EEEEEE\", \"facecolor\": \"#E24A33\", \"edgewidth\": 0.5, \"pathcodes\": [\"M\", \"L\", \"L\", \"L\", \"Z\"], \"yindex\": 1, \"coordinates\": \"data\", \"dasharray\": \"10,0\", \"zorder\": 1, \"alpha\": 1, \"xindex\": 0, \"data\": \"data09\", \"id\": \"el33155139794652647312\"}, {\"edgecolor\": \"#EEEEEE\", \"facecolor\": \"#E24A33\", \"edgewidth\": 0.5, \"pathcodes\": [\"M\", \"L\", \"L\", \"L\", \"Z\"], \"yindex\": 1, \"coordinates\": \"data\", \"dasharray\": \"10,0\", \"zorder\": 1, \"alpha\": 1, \"xindex\": 0, \"data\": \"data10\", \"id\": \"el33155139794652563408\"}, {\"edgecolor\": \"#EEEEEE\", \"facecolor\": \"#E24A33\", \"edgewidth\": 0.5, \"pathcodes\": [\"M\", \"L\", \"L\", \"L\", \"Z\"], \"yindex\": 1, \"coordinates\": \"data\", \"dasharray\": \"10,0\", \"zorder\": 1, \"alpha\": 1, \"xindex\": 0, \"data\": \"data11\", \"id\": \"el33155139794652565072\"}, {\"edgecolor\": \"#EEEEEE\", \"facecolor\": \"#E24A33\", \"edgewidth\": 0.5, \"pathcodes\": [\"M\", \"L\", \"L\", \"L\", \"Z\"], \"yindex\": 1, \"coordinates\": \"data\", \"dasharray\": \"10,0\", \"zorder\": 1, \"alpha\": 1, \"xindex\": 0, \"data\": \"data12\", \"id\": \"el33155139794652525840\"}, {\"edgecolor\": \"#EEEEEE\", \"facecolor\": \"#E24A33\", \"edgewidth\": 0.5, \"pathcodes\": [\"M\", \"L\", \"L\", \"L\", \"Z\"], \"yindex\": 1, \"coordinates\": \"data\", \"dasharray\": \"10,0\", \"zorder\": 1, \"alpha\": 1, \"xindex\": 0, \"data\": \"data13\", \"id\": \"el33155139794652527504\"}, {\"edgecolor\": \"#EEEEEE\", \"facecolor\": \"#E24A33\", \"edgewidth\": 0.5, \"pathcodes\": [\"M\", \"L\", \"L\", \"L\", \"Z\"], \"yindex\": 1, \"coordinates\": \"data\", \"dasharray\": \"10,0\", \"zorder\": 1, \"alpha\": 1, \"xindex\": 0, \"data\": \"data14\", \"id\": \"el33155139794652557904\"}, {\"edgecolor\": \"#EEEEEE\", \"facecolor\": \"#E24A33\", \"edgewidth\": 0.5, \"pathcodes\": [\"M\", \"L\", \"L\", \"L\", \"Z\"], \"yindex\": 1, \"coordinates\": \"data\", \"dasharray\": \"10,0\", \"zorder\": 1, \"alpha\": 1, \"xindex\": 0, \"data\": \"data15\", \"id\": \"el33155139794652559568\"}, {\"edgecolor\": \"#EEEEEE\", \"facecolor\": \"#E24A33\", \"edgewidth\": 0.5, \"pathcodes\": [\"M\", \"L\", \"L\", \"L\", \"Z\"], \"yindex\": 1, \"coordinates\": \"data\", \"dasharray\": \"10,0\", \"zorder\": 1, \"alpha\": 1, \"xindex\": 0, \"data\": \"data16\", \"id\": \"el33155139794652561232\"}, {\"edgecolor\": \"#EEEEEE\", \"facecolor\": \"#E24A33\", \"edgewidth\": 0.5, \"pathcodes\": [\"M\", \"L\", \"L\", \"L\", \"Z\"], \"yindex\": 1, \"coordinates\": \"data\", \"dasharray\": \"10,0\", \"zorder\": 1, \"alpha\": 1, \"xindex\": 0, \"data\": \"data17\", \"id\": \"el33155139794652665360\"}, {\"edgecolor\": \"#EEEEEE\", \"facecolor\": \"#E24A33\", \"edgewidth\": 0.5, \"pathcodes\": [\"M\", \"L\", \"L\", \"L\", \"Z\"], \"yindex\": 1, \"coordinates\": \"data\", \"dasharray\": \"10,0\", \"zorder\": 1, \"alpha\": 1, \"xindex\": 0, \"data\": \"data18\", \"id\": \"el33155139794652667024\"}, {\"edgecolor\": \"#EEEEEE\", \"facecolor\": \"#E24A33\", \"edgewidth\": 0.5, \"pathcodes\": [\"M\", \"L\", \"L\", \"L\", \"Z\"], \"yindex\": 1, \"coordinates\": \"data\", \"dasharray\": \"10,0\", \"zorder\": 1, \"alpha\": 1, \"xindex\": 0, \"data\": \"data19\", \"id\": \"el33155139794654585680\"}, {\"edgecolor\": \"#EEEEEE\", \"facecolor\": \"#E24A33\", \"edgewidth\": 0.5, \"pathcodes\": [\"M\", \"L\", \"L\", \"L\", \"Z\"], \"yindex\": 1, \"coordinates\": \"data\", \"dasharray\": \"10,0\", \"zorder\": 1, \"alpha\": 1, \"xindex\": 0, \"data\": \"data20\", \"id\": \"el33155139794654587344\"}, {\"edgecolor\": \"#EEEEEE\", \"facecolor\": \"#E24A33\", \"edgewidth\": 0.5, \"pathcodes\": [\"M\", \"L\", \"L\", \"L\", \"Z\"], \"yindex\": 1, \"coordinates\": \"data\", \"dasharray\": \"10,0\", \"zorder\": 1, \"alpha\": 1, \"xindex\": 0, \"data\": \"data21\", \"id\": \"el33155139794654588624\"}, {\"edgecolor\": \"#EEEEEE\", \"facecolor\": \"#E24A33\", \"edgewidth\": 0.5, \"pathcodes\": [\"M\", \"L\", \"L\", \"L\", \"Z\"], \"yindex\": 1, \"coordinates\": \"data\", \"dasharray\": \"10,0\", \"zorder\": 1, \"alpha\": 1, \"xindex\": 0, \"data\": \"data22\", \"id\": \"el33155139794654541584\"}, {\"edgecolor\": \"#EEEEEE\", \"facecolor\": \"#E24A33\", \"edgewidth\": 0.5, \"pathcodes\": [\"M\", \"L\", \"L\", \"L\", \"Z\"], \"yindex\": 1, \"coordinates\": \"data\", \"dasharray\": \"10,0\", \"zorder\": 1, \"alpha\": 1, \"xindex\": 0, \"data\": \"data23\", \"id\": \"el33155139794654543248\"}, {\"edgecolor\": \"#EEEEEE\", \"facecolor\": \"#E24A33\", \"edgewidth\": 0.5, \"pathcodes\": [\"M\", \"L\", \"L\", \"L\", \"Z\"], \"yindex\": 1, \"coordinates\": \"data\", \"dasharray\": \"10,0\", \"zorder\": 1, \"alpha\": 1, \"xindex\": 0, \"data\": \"data24\", \"id\": \"el33155139794654639184\"}, {\"edgecolor\": \"#EEEEEE\", \"facecolor\": \"#E24A33\", \"edgewidth\": 0.5, \"pathcodes\": [\"M\", \"L\", \"L\", \"L\", \"Z\"], \"yindex\": 1, \"coordinates\": \"data\", \"dasharray\": \"10,0\", \"zorder\": 1, \"alpha\": 1, \"xindex\": 0, \"data\": \"data25\", \"id\": \"el33155139794654640848\"}, {\"edgecolor\": \"#EEEEEE\", \"facecolor\": \"#E24A33\", \"edgewidth\": 0.5, \"pathcodes\": [\"M\", \"L\", \"L\", \"L\", \"Z\"], \"yindex\": 1, \"coordinates\": \"data\", \"dasharray\": \"10,0\", \"zorder\": 1, \"alpha\": 1, \"xindex\": 0, \"data\": \"data26\", \"id\": \"el33155139794654642128\"}, {\"edgecolor\": \"#EEEEEE\", \"facecolor\": \"#E24A33\", \"edgewidth\": 0.5, \"pathcodes\": [\"M\", \"L\", \"L\", \"L\", \"Z\"], \"yindex\": 1, \"coordinates\": \"data\", \"dasharray\": \"10,0\", \"zorder\": 1, \"alpha\": 1, \"xindex\": 0, \"data\": \"data27\", \"id\": \"el33155139794654590992\"}, {\"edgecolor\": \"#EEEEEE\", \"facecolor\": \"#E24A33\", \"edgewidth\": 0.5, \"pathcodes\": [\"M\", \"L\", \"L\", \"L\", \"Z\"], \"yindex\": 1, \"coordinates\": \"data\", \"dasharray\": \"10,0\", \"zorder\": 1, \"alpha\": 1, \"xindex\": 0, \"data\": \"data28\", \"id\": \"el33155139794654592656\"}, {\"edgecolor\": \"#EEEEEE\", \"facecolor\": \"#E24A33\", \"edgewidth\": 0.5, \"pathcodes\": [\"M\", \"L\", \"L\", \"L\", \"Z\"], \"yindex\": 1, \"coordinates\": \"data\", \"dasharray\": \"10,0\", \"zorder\": 1, \"alpha\": 1, \"xindex\": 0, \"data\": \"data29\", \"id\": \"el33155139794654741840\"}, {\"edgecolor\": \"#EEEEEE\", \"facecolor\": \"#E24A33\", \"edgewidth\": 0.5, \"pathcodes\": [\"M\", \"L\", \"L\", \"L\", \"Z\"], \"yindex\": 1, \"coordinates\": \"data\", \"dasharray\": \"10,0\", \"zorder\": 1, \"alpha\": 1, \"xindex\": 0, \"data\": \"data30\", \"id\": \"el33155139794654743504\"}, {\"edgecolor\": \"#EEEEEE\", \"facecolor\": \"#E24A33\", \"edgewidth\": 0.5, \"pathcodes\": [\"M\", \"L\", \"L\", \"L\", \"Z\"], \"yindex\": 1, \"coordinates\": \"data\", \"dasharray\": \"10,0\", \"zorder\": 1, \"alpha\": 1, \"xindex\": 0, \"data\": \"data31\", \"id\": \"el33155139794665665168\"}, {\"edgecolor\": \"#EEEEEE\", \"facecolor\": \"#E24A33\", \"edgewidth\": 0.5, \"pathcodes\": [\"M\", \"L\", \"L\", \"L\", \"Z\"], \"yindex\": 1, \"coordinates\": \"data\", \"dasharray\": \"10,0\", \"zorder\": 1, \"alpha\": 1, \"xindex\": 0, \"data\": \"data32\", \"id\": \"el33155139794665666832\"}, {\"edgecolor\": \"#EEEEEE\", \"facecolor\": \"#E24A33\", \"edgewidth\": 0.5, \"pathcodes\": [\"M\", \"L\", \"L\", \"L\", \"Z\"], \"yindex\": 1, \"coordinates\": \"data\", \"dasharray\": \"10,0\", \"zorder\": 1, \"alpha\": 1, \"xindex\": 0, \"data\": \"data33\", \"id\": \"el33155139794665668496\"}, {\"edgecolor\": \"#EEEEEE\", \"facecolor\": \"#E24A33\", \"edgewidth\": 0.5, \"pathcodes\": [\"M\", \"L\", \"L\", \"L\", \"Z\"], \"yindex\": 1, \"coordinates\": \"data\", \"dasharray\": \"10,0\", \"zorder\": 1, \"alpha\": 1, \"xindex\": 0, \"data\": \"data34\", \"id\": \"el33155139794665694800\"}, {\"edgecolor\": \"#EEEEEE\", \"facecolor\": \"#E24A33\", \"edgewidth\": 0.5, \"pathcodes\": [\"M\", \"L\", \"L\", \"L\", \"Z\"], \"yindex\": 1, \"coordinates\": \"data\", \"dasharray\": \"10,0\", \"zorder\": 1, \"alpha\": 1, \"xindex\": 0, \"data\": \"data35\", \"id\": \"el33155139794668878800\"}, {\"edgecolor\": \"#EEEEEE\", \"facecolor\": \"#E24A33\", \"edgewidth\": 0.5, \"pathcodes\": [\"M\", \"L\", \"L\", \"L\", \"Z\"], \"yindex\": 1, \"coordinates\": \"data\", \"dasharray\": \"10,0\", \"zorder\": 1, \"alpha\": 1, \"xindex\": 0, \"data\": \"data36\", \"id\": \"el33155139792058416400\"}, {\"edgecolor\": \"#EEEEEE\", \"facecolor\": \"#E24A33\", \"edgewidth\": 0.5, \"pathcodes\": [\"M\", \"L\", \"L\", \"L\", \"Z\"], \"yindex\": 1, \"coordinates\": \"data\", \"dasharray\": \"10,0\", \"zorder\": 1, \"alpha\": 1, \"xindex\": 0, \"data\": \"data37\", \"id\": \"el33155139792058373712\"}, {\"edgecolor\": \"#EEEEEE\", \"facecolor\": \"#E24A33\", \"edgewidth\": 0.5, \"pathcodes\": [\"M\", \"L\", \"L\", \"L\", \"Z\"], \"yindex\": 1, \"coordinates\": \"data\", \"dasharray\": \"10,0\", \"zorder\": 1, \"alpha\": 1, \"xindex\": 0, \"data\": \"data38\", \"id\": \"el33155139794665696080\"}, {\"edgecolor\": \"#EEEEEE\", \"facecolor\": \"#E24A33\", \"edgewidth\": 0.5, \"pathcodes\": [\"M\", \"L\", \"L\", \"L\", \"Z\"], \"yindex\": 1, \"coordinates\": \"data\", \"dasharray\": \"10,0\", \"zorder\": 1, \"alpha\": 1, \"xindex\": 0, \"data\": \"data39\", \"id\": \"el33155139794665727888\"}, {\"edgecolor\": \"#EEEEEE\", \"facecolor\": \"#E24A33\", \"edgewidth\": 0.5, \"pathcodes\": [\"M\", \"L\", \"L\", \"L\", \"Z\"], \"yindex\": 1, \"coordinates\": \"data\", \"dasharray\": \"10,0\", \"zorder\": 1, \"alpha\": 1, \"xindex\": 0, \"data\": \"data40\", \"id\": \"el33155139794665729552\"}, {\"edgecolor\": \"#EEEEEE\", \"facecolor\": \"#E24A33\", \"edgewidth\": 0.5, \"pathcodes\": [\"M\", \"L\", \"L\", \"L\", \"Z\"], \"yindex\": 1, \"coordinates\": \"data\", \"dasharray\": \"10,0\", \"zorder\": 1, \"alpha\": 1, \"xindex\": 0, \"data\": \"data41\", \"id\": \"el33155139794665600208\"}, {\"edgecolor\": \"#EEEEEE\", \"facecolor\": \"#E24A33\", \"edgewidth\": 0.5, \"pathcodes\": [\"M\", \"L\", \"L\", \"L\", \"Z\"], \"yindex\": 1, \"coordinates\": \"data\", \"dasharray\": \"10,0\", \"zorder\": 1, \"alpha\": 1, \"xindex\": 0, \"data\": \"data42\", \"id\": \"el33155139794665601872\"}, {\"edgecolor\": \"#EEEEEE\", \"facecolor\": \"#E24A33\", \"edgewidth\": 0.5, \"pathcodes\": [\"M\", \"L\", \"L\", \"L\", \"Z\"], \"yindex\": 1, \"coordinates\": \"data\", \"dasharray\": \"10,0\", \"zorder\": 1, \"alpha\": 1, \"xindex\": 0, \"data\": \"data43\", \"id\": \"el33155139794665669136\"}, {\"edgecolor\": \"#EEEEEE\", \"facecolor\": \"#E24A33\", \"edgewidth\": 0.5, \"pathcodes\": [\"M\", \"L\", \"L\", \"L\", \"Z\"], \"yindex\": 1, \"coordinates\": \"data\", \"dasharray\": \"10,0\", \"zorder\": 1, \"alpha\": 1, \"xindex\": 0, \"data\": \"data44\", \"id\": \"el33155139794665670800\"}, {\"edgecolor\": \"#EEEEEE\", \"facecolor\": \"#E24A33\", \"edgewidth\": 0.5, \"pathcodes\": [\"M\", \"L\", \"L\", \"L\", \"Z\"], \"yindex\": 1, \"coordinates\": \"data\", \"dasharray\": \"10,0\", \"zorder\": 1, \"alpha\": 1, \"xindex\": 0, \"data\": \"data45\", \"id\": \"el33155139794665672464\"}, {\"edgecolor\": \"#EEEEEE\", \"facecolor\": \"#E24A33\", \"edgewidth\": 0.5, \"pathcodes\": [\"M\", \"L\", \"L\", \"L\", \"Z\"], \"yindex\": 1, \"coordinates\": \"data\", \"dasharray\": \"10,0\", \"zorder\": 1, \"alpha\": 1, \"xindex\": 0, \"data\": \"data46\", \"id\": \"el33155139794652751312\"}, {\"edgecolor\": \"#EEEEEE\", \"facecolor\": \"#E24A33\", \"edgewidth\": 0.5, \"pathcodes\": [\"M\", \"L\", \"L\", \"L\", \"Z\"], \"yindex\": 1, \"coordinates\": \"data\", \"dasharray\": \"10,0\", \"zorder\": 1, \"alpha\": 1, \"xindex\": 0, \"data\": \"data47\", \"id\": \"el33155139794652752976\"}, {\"edgecolor\": \"#EEEEEE\", \"facecolor\": \"#E24A33\", \"edgewidth\": 0.5, \"pathcodes\": [\"M\", \"L\", \"L\", \"L\", \"Z\"], \"yindex\": 1, \"coordinates\": \"data\", \"dasharray\": \"10,0\", \"zorder\": 1, \"alpha\": 1, \"xindex\": 0, \"data\": \"data48\", \"id\": \"el33155139794652766992\"}, {\"edgecolor\": \"#EEEEEE\", \"facecolor\": \"#E24A33\", \"edgewidth\": 0.5, \"pathcodes\": [\"M\", \"L\", \"L\", \"L\", \"Z\"], \"yindex\": 1, \"coordinates\": \"data\", \"dasharray\": \"10,0\", \"zorder\": 1, \"alpha\": 1, \"xindex\": 0, \"data\": \"data49\", \"id\": \"el33155139794652768656\"}, {\"edgecolor\": \"#EEEEEE\", \"facecolor\": \"#E24A33\", \"edgewidth\": 0.5, \"pathcodes\": [\"M\", \"L\", \"L\", \"L\", \"Z\"], \"yindex\": 1, \"coordinates\": \"data\", \"dasharray\": \"10,0\", \"zorder\": 1, \"alpha\": 1, \"xindex\": 0, \"data\": \"data50\", \"id\": \"el33155139794652769936\"}], \"sharey\": [], \"sharex\": [], \"axesbgalpha\": null, \"axes\": [{\"scale\": \"linear\", \"tickformat\": null, \"grid\": {\"color\": \"#FFFFFF\", \"alpha\": 1.0, \"dasharray\": \"10,0\", \"gridOn\": true}, \"fontsize\": 10.0, \"position\": \"bottom\", \"nticks\": 10, \"tickvalues\": null}, {\"scale\": \"linear\", \"tickformat\": null, \"grid\": {\"color\": \"#FFFFFF\", \"alpha\": 1.0, \"dasharray\": \"10,0\", \"gridOn\": true}, \"fontsize\": 10.0, \"position\": \"left\", \"nticks\": 6, \"tickvalues\": null}], \"lines\": [], \"markers\": [], \"id\": \"el33155139794669288720\", \"ydomain\": [0.0, 10000000.0], \"collections\": [], \"xscale\": \"linear\", \"bbox\": [0.125, 0.125, 0.77500000000000002, 0.77500000000000002]}], \"height\": 480.0, \"width\": 800.0, \"plugins\": [{\"type\": \"reset\"}, {\"enabled\": false, \"button\": true, \"type\": \"zoom\"}, {\"enabled\": false, \"button\": true, \"type\": \"boxzoom\"}], \"data\": {\"data42\": [[412.44000000000005, 0.0], [421.28000000000003, 0.0], [421.28000000000003, 45053.0], [412.44000000000005, 45053.0]], \"data43\": [[421.28, 0.0], [430.12, 0.0], [430.12, 39847.0], [421.28, 39847.0]], \"data40\": [[394.76, 0.0], [403.6, 0.0], [403.6, 57780.0], [394.76, 57780.0]], \"data41\": [[403.6, 0.0], [412.44, 0.0], [412.44, 50954.0], [403.6, 50954.0]], \"data46\": [[447.80000000000007, 0.0], [456.64000000000004, 0.0], [456.64000000000004, 15549.0], [447.80000000000007, 15549.0]], \"data47\": [[456.64, 0.0], [465.48, 0.0], [465.48, 8381.0], [456.64, 8381.0]], \"data44\": [[430.12, 0.0], [438.96, 0.0], [438.96, 29606.0], [430.12, 29606.0]], \"data45\": [[438.96, 0.0], [447.8, 0.0], [447.8, 25011.0], [438.96, 25011.0]], \"data48\": [[465.48, 0.0], [474.32, 0.0], [474.32, 4116.0], [465.48, 4116.0]], \"data49\": [[474.32000000000005, 0.0], [483.16, 0.0], [483.16, 2092.0], [474.32000000000005, 2092.0]], \"data50\": [[483.15999999999997, 0.0], [492.0, 0.0], [492.0, 1149.0], [483.15999999999997, 1149.0]], \"data28\": [[288.68000000000006, 0.0], [297.52000000000004, 0.0], [297.52000000000004, 8668.0], [288.68000000000006, 8668.0]], \"data06\": [[94.20000000000002, 0.0], [103.04, 0.0], [103.04, 963.0], [94.20000000000002, 963.0]], \"data08\": [[111.88, 0.0], [120.72, 0.0], [120.72, 1569.0], [111.88, 1569.0]], \"data09\": [[120.72, 0.0], [129.56, 0.0], [129.56, 1905.0], [120.72, 1905.0]], \"data20\": [[217.95999999999998, 0.0], [226.79999999999998, 0.0], [226.79999999999998, 3998.0], [217.95999999999998, 3998.0]], \"data21\": [[226.8, 0.0], [235.64, 0.0], [235.64, 3436.0], [226.8, 3436.0]], \"data22\": [[235.64, 0.0], [244.48, 0.0], [244.48, 4064.0], [235.64, 4064.0]], \"data05\": [[85.36, 0.0], [94.2, 0.0], [94.2, 2358.0], [85.36, 2358.0]], \"data02\": [[58.84, 0.0], [67.68, 0.0], [67.68, 422.0], [58.84, 422.0]], \"data04\": [[76.52, 0.0], [85.36, 0.0], [85.36, 582.0], [76.52, 582.0]], \"data26\": [[271.0, 0.0], [279.84000000000003, 0.0], [279.84000000000003, 14579.0], [271.0, 14579.0]], \"data01\": [[50.0, 0.0], [58.84, 0.0], [58.84, 265.0], [50.0, 265.0]], \"data23\": [[244.47999999999996, 0.0], [253.31999999999996, 0.0], [253.31999999999996, 9351821.0], [244.47999999999996, 9351821.0]], \"data24\": [[253.32000000000002, 0.0], [262.15999999999997, 0.0], [262.15999999999997, 443825.0], [253.32000000000002, 443825.0]], \"data03\": [[67.68, 0.0], [76.52, 0.0], [76.52, 435.0], [67.68, 435.0]], \"data27\": [[279.84000000000003, 0.0], [288.68, 0.0], [288.68, 7845.0], [279.84000000000003, 7845.0]], \"data07\": [[103.03999999999999, 0.0], [111.88, 0.0], [111.88, 1172.0], [103.03999999999999, 1172.0]], \"data37\": [[368.24, 0.0], [377.08, 0.0], [377.08, 80642.0], [368.24, 80642.0]], \"data36\": [[359.4, 0.0], [368.24, 0.0], [368.24, 89496.0], [359.4, 89496.0]], \"data35\": [[350.56000000000006, 0.0], [359.40000000000003, 0.0], [359.40000000000003, 96215.0], [350.56000000000006, 96215.0]], \"data34\": [[341.71999999999997, 0.0], [350.56, 0.0], [350.56, 90209.0], [341.71999999999997, 90209.0]], \"data25\": [[262.15999999999997, 0.0], [271.0, 0.0], [271.0, 6684.0], [262.15999999999997, 6684.0]], \"data32\": [[324.0400000000001, 0.0], [332.88000000000005, 0.0], [332.88000000000005, 18341.0], [324.0400000000001, 18341.0]], \"data31\": [[315.2, 0.0], [324.04, 0.0], [324.04, 8028.0], [315.2, 8028.0]], \"data30\": [[306.36, 0.0], [315.2, 0.0], [315.2, 5391.0], [306.36, 5391.0]], \"data39\": [[385.9200000000001, 0.0], [394.76000000000005, 0.0], [394.76000000000005, 64915.0], [385.9200000000001, 64915.0]], \"data38\": [[377.08, 0.0], [385.92, 0.0], [385.92, 63536.0], [377.08, 63536.0]], \"data19\": [[209.12, 0.0], [217.96, 0.0], [217.96, 3044.0], [209.12, 3044.0]], \"data18\": [[200.27999999999997, 0.0], [209.11999999999998, 0.0], [209.11999999999998, 3687.0], [200.27999999999997, 3687.0]], \"data15\": [[173.76, 0.0], [182.6, 0.0], [182.6, 2936.0], [173.76, 2936.0]], \"data14\": [[164.92000000000002, 0.0], [173.76, 0.0], [173.76, 2872.0], [164.92000000000002, 2872.0]], \"data17\": [[191.44, 0.0], [200.28, 0.0], [200.28, 3077.0], [191.44, 3077.0]], \"data16\": [[182.59999999999997, 0.0], [191.43999999999997, 0.0], [191.43999999999997, 2788.0], [182.59999999999997, 2788.0]], \"data11\": [[138.39999999999998, 0.0], [147.23999999999998, 0.0], [147.23999999999998, 2578.0], [138.39999999999998, 2578.0]], \"data10\": [[129.56, 0.0], [138.4, 0.0], [138.4, 2304.0], [129.56, 2304.0]], \"data13\": [[156.07999999999998, 0.0], [164.92000000000002, 0.0], [164.92000000000002, 2341.0], [156.07999999999998, 2341.0]], \"data12\": [[147.24, 0.0], [156.07999999999998, 0.0], [156.07999999999998, 2427.0], [147.24, 2427.0]], \"data29\": [[297.52, 0.0], [306.36, 0.0], [306.36, 4889.0], [297.52, 4889.0]], \"data33\": [[332.88, 0.0], [341.71999999999997, 0.0], [341.71999999999997, 54645.0], [332.88, 54645.0]]}, \"id\": \"el33155139794669435280\"});\n",
       "      });\n",
       "    });\n",
       "}else{\n",
       "    // require.js not available: dynamically load d3 & mpld3\n",
       "    mpld3_load_lib(\"https://mpld3.github.io/js/d3.v3.min.js\", function(){\n",
       "         mpld3_load_lib(\"https://mpld3.github.io/js/mpld3.v0.2.js\", function(){\n",
       "                 \n",
       "                 mpld3.draw_figure(\"fig_el331551397946694352807561321341\", {\"axes\": [{\"xlim\": [50.0, 500.0], \"yscale\": \"linear\", \"axesbg\": \"#E5E5E5\", \"texts\": [{\"v_baseline\": \"hanging\", \"h_anchor\": \"middle\", \"color\": \"#555555\", \"text\": \"Sequence Length, nt\", \"coordinates\": \"axes\", \"zorder\": 3, \"alpha\": 1, \"fontsize\": 12.0, \"position\": [0.5, -0.065710872162485043], \"rotation\": -0.0, \"id\": \"el33155139795401417232\"}, {\"v_baseline\": \"auto\", \"h_anchor\": \"middle\", \"color\": \"#555555\", \"text\": \"Count\", \"coordinates\": \"axes\", \"zorder\": 3, \"alpha\": 1, \"fontsize\": 12.0, \"position\": [-0.04985999103942651, 0.5], \"rotation\": -90.0, \"id\": \"el33155139792058288336\"}], \"zoomable\": true, \"images\": [], \"xdomain\": [50.0, 500.0], \"ylim\": [0.0, 10000000.0], \"paths\": [{\"edgecolor\": \"#EEEEEE\", \"facecolor\": \"#E24A33\", \"edgewidth\": 0.5, \"pathcodes\": [\"M\", \"L\", \"L\", \"L\", \"Z\"], \"yindex\": 1, \"coordinates\": \"data\", \"dasharray\": \"10,0\", \"zorder\": 1, \"alpha\": 1, \"xindex\": 0, \"data\": \"data01\", \"id\": \"el33155139794665442384\"}, {\"edgecolor\": \"#EEEEEE\", \"facecolor\": \"#E24A33\", \"edgewidth\": 0.5, \"pathcodes\": [\"M\", \"L\", \"L\", \"L\", \"Z\"], \"yindex\": 1, \"coordinates\": \"data\", \"dasharray\": \"10,0\", \"zorder\": 1, \"alpha\": 1, \"xindex\": 0, \"data\": \"data02\", \"id\": \"el33155139794665435920\"}, {\"edgecolor\": \"#EEEEEE\", \"facecolor\": \"#E24A33\", \"edgewidth\": 0.5, \"pathcodes\": [\"M\", \"L\", \"L\", \"L\", \"Z\"], \"yindex\": 1, \"coordinates\": \"data\", \"dasharray\": \"10,0\", \"zorder\": 1, \"alpha\": 1, \"xindex\": 0, \"data\": \"data03\", \"id\": \"el33155139794665437584\"}, {\"edgecolor\": \"#EEEEEE\", \"facecolor\": \"#E24A33\", \"edgewidth\": 0.5, \"pathcodes\": [\"M\", \"L\", \"L\", \"L\", \"Z\"], \"yindex\": 1, \"coordinates\": \"data\", \"dasharray\": \"10,0\", \"zorder\": 1, \"alpha\": 1, \"xindex\": 0, \"data\": \"data04\", \"id\": \"el33155139794665438864\"}, {\"edgecolor\": \"#EEEEEE\", \"facecolor\": \"#E24A33\", \"edgewidth\": 0.5, \"pathcodes\": [\"M\", \"L\", \"L\", \"L\", \"Z\"], \"yindex\": 1, \"coordinates\": \"data\", \"dasharray\": \"10,0\", \"zorder\": 1, \"alpha\": 1, \"xindex\": 0, \"data\": \"data05\", \"id\": \"el33155139794665445072\"}, {\"edgecolor\": \"#EEEEEE\", \"facecolor\": \"#E24A33\", \"edgewidth\": 0.5, \"pathcodes\": [\"M\", \"L\", \"L\", \"L\", \"Z\"], \"yindex\": 1, \"coordinates\": \"data\", \"dasharray\": \"10,0\", \"zorder\": 1, \"alpha\": 1, \"xindex\": 0, \"data\": \"data06\", \"id\": \"el33155139794665446736\"}, {\"edgecolor\": \"#EEEEEE\", \"facecolor\": \"#E24A33\", \"edgewidth\": 0.5, \"pathcodes\": [\"M\", \"L\", \"L\", \"L\", \"Z\"], \"yindex\": 1, \"coordinates\": \"data\", \"dasharray\": \"10,0\", \"zorder\": 1, \"alpha\": 1, \"xindex\": 0, \"data\": \"data07\", \"id\": \"el33155139794652644368\"}, {\"edgecolor\": \"#EEEEEE\", \"facecolor\": \"#E24A33\", \"edgewidth\": 0.5, \"pathcodes\": [\"M\", \"L\", \"L\", \"L\", \"Z\"], \"yindex\": 1, \"coordinates\": \"data\", \"dasharray\": \"10,0\", \"zorder\": 1, \"alpha\": 1, \"xindex\": 0, \"data\": \"data08\", \"id\": \"el33155139794652646032\"}, {\"edgecolor\": \"#EEEEEE\", \"facecolor\": \"#E24A33\", \"edgewidth\": 0.5, \"pathcodes\": [\"M\", \"L\", \"L\", \"L\", \"Z\"], \"yindex\": 1, \"coordinates\": \"data\", \"dasharray\": \"10,0\", \"zorder\": 1, \"alpha\": 1, \"xindex\": 0, \"data\": \"data09\", \"id\": \"el33155139794652647312\"}, {\"edgecolor\": \"#EEEEEE\", \"facecolor\": \"#E24A33\", \"edgewidth\": 0.5, \"pathcodes\": [\"M\", \"L\", \"L\", \"L\", \"Z\"], \"yindex\": 1, \"coordinates\": \"data\", \"dasharray\": \"10,0\", \"zorder\": 1, \"alpha\": 1, \"xindex\": 0, \"data\": \"data10\", \"id\": \"el33155139794652563408\"}, {\"edgecolor\": \"#EEEEEE\", \"facecolor\": \"#E24A33\", \"edgewidth\": 0.5, \"pathcodes\": [\"M\", \"L\", \"L\", \"L\", \"Z\"], \"yindex\": 1, \"coordinates\": \"data\", \"dasharray\": \"10,0\", \"zorder\": 1, \"alpha\": 1, \"xindex\": 0, \"data\": \"data11\", \"id\": \"el33155139794652565072\"}, {\"edgecolor\": \"#EEEEEE\", \"facecolor\": \"#E24A33\", \"edgewidth\": 0.5, \"pathcodes\": [\"M\", \"L\", \"L\", \"L\", \"Z\"], \"yindex\": 1, \"coordinates\": \"data\", \"dasharray\": \"10,0\", \"zorder\": 1, \"alpha\": 1, \"xindex\": 0, \"data\": \"data12\", \"id\": \"el33155139794652525840\"}, {\"edgecolor\": \"#EEEEEE\", \"facecolor\": \"#E24A33\", \"edgewidth\": 0.5, \"pathcodes\": [\"M\", \"L\", \"L\", \"L\", \"Z\"], \"yindex\": 1, \"coordinates\": \"data\", \"dasharray\": \"10,0\", \"zorder\": 1, \"alpha\": 1, \"xindex\": 0, \"data\": \"data13\", \"id\": \"el33155139794652527504\"}, {\"edgecolor\": \"#EEEEEE\", \"facecolor\": \"#E24A33\", \"edgewidth\": 0.5, \"pathcodes\": [\"M\", \"L\", \"L\", \"L\", \"Z\"], \"yindex\": 1, \"coordinates\": \"data\", \"dasharray\": \"10,0\", \"zorder\": 1, \"alpha\": 1, \"xindex\": 0, \"data\": \"data14\", \"id\": \"el33155139794652557904\"}, {\"edgecolor\": \"#EEEEEE\", \"facecolor\": \"#E24A33\", \"edgewidth\": 0.5, \"pathcodes\": [\"M\", \"L\", \"L\", \"L\", \"Z\"], \"yindex\": 1, \"coordinates\": \"data\", \"dasharray\": \"10,0\", \"zorder\": 1, \"alpha\": 1, \"xindex\": 0, \"data\": \"data15\", \"id\": \"el33155139794652559568\"}, {\"edgecolor\": \"#EEEEEE\", \"facecolor\": \"#E24A33\", \"edgewidth\": 0.5, \"pathcodes\": [\"M\", \"L\", \"L\", \"L\", \"Z\"], \"yindex\": 1, \"coordinates\": \"data\", \"dasharray\": \"10,0\", \"zorder\": 1, \"alpha\": 1, \"xindex\": 0, \"data\": \"data16\", \"id\": \"el33155139794652561232\"}, {\"edgecolor\": \"#EEEEEE\", \"facecolor\": \"#E24A33\", \"edgewidth\": 0.5, \"pathcodes\": [\"M\", \"L\", \"L\", \"L\", \"Z\"], \"yindex\": 1, \"coordinates\": \"data\", \"dasharray\": \"10,0\", \"zorder\": 1, \"alpha\": 1, \"xindex\": 0, \"data\": \"data17\", \"id\": \"el33155139794652665360\"}, {\"edgecolor\": \"#EEEEEE\", \"facecolor\": \"#E24A33\", \"edgewidth\": 0.5, \"pathcodes\": [\"M\", \"L\", \"L\", \"L\", \"Z\"], \"yindex\": 1, \"coordinates\": \"data\", \"dasharray\": \"10,0\", \"zorder\": 1, \"alpha\": 1, \"xindex\": 0, \"data\": \"data18\", \"id\": \"el33155139794652667024\"}, {\"edgecolor\": \"#EEEEEE\", \"facecolor\": \"#E24A33\", \"edgewidth\": 0.5, \"pathcodes\": [\"M\", \"L\", \"L\", \"L\", \"Z\"], \"yindex\": 1, \"coordinates\": \"data\", \"dasharray\": \"10,0\", \"zorder\": 1, \"alpha\": 1, \"xindex\": 0, \"data\": \"data19\", \"id\": \"el33155139794654585680\"}, {\"edgecolor\": \"#EEEEEE\", \"facecolor\": \"#E24A33\", \"edgewidth\": 0.5, \"pathcodes\": [\"M\", \"L\", \"L\", \"L\", \"Z\"], \"yindex\": 1, \"coordinates\": \"data\", \"dasharray\": \"10,0\", \"zorder\": 1, \"alpha\": 1, \"xindex\": 0, \"data\": \"data20\", \"id\": \"el33155139794654587344\"}, {\"edgecolor\": \"#EEEEEE\", \"facecolor\": \"#E24A33\", \"edgewidth\": 0.5, \"pathcodes\": [\"M\", \"L\", \"L\", \"L\", \"Z\"], \"yindex\": 1, \"coordinates\": \"data\", \"dasharray\": \"10,0\", \"zorder\": 1, \"alpha\": 1, \"xindex\": 0, \"data\": \"data21\", \"id\": \"el33155139794654588624\"}, {\"edgecolor\": \"#EEEEEE\", \"facecolor\": \"#E24A33\", \"edgewidth\": 0.5, \"pathcodes\": [\"M\", \"L\", \"L\", \"L\", \"Z\"], \"yindex\": 1, \"coordinates\": \"data\", \"dasharray\": \"10,0\", \"zorder\": 1, \"alpha\": 1, \"xindex\": 0, \"data\": \"data22\", \"id\": \"el33155139794654541584\"}, {\"edgecolor\": \"#EEEEEE\", \"facecolor\": \"#E24A33\", \"edgewidth\": 0.5, \"pathcodes\": [\"M\", \"L\", \"L\", \"L\", \"Z\"], \"yindex\": 1, \"coordinates\": \"data\", \"dasharray\": \"10,0\", \"zorder\": 1, \"alpha\": 1, \"xindex\": 0, \"data\": \"data23\", \"id\": \"el33155139794654543248\"}, {\"edgecolor\": \"#EEEEEE\", \"facecolor\": \"#E24A33\", \"edgewidth\": 0.5, \"pathcodes\": [\"M\", \"L\", \"L\", \"L\", \"Z\"], \"yindex\": 1, \"coordinates\": \"data\", \"dasharray\": \"10,0\", \"zorder\": 1, \"alpha\": 1, \"xindex\": 0, \"data\": \"data24\", \"id\": \"el33155139794654639184\"}, {\"edgecolor\": \"#EEEEEE\", \"facecolor\": \"#E24A33\", \"edgewidth\": 0.5, \"pathcodes\": [\"M\", \"L\", \"L\", \"L\", \"Z\"], \"yindex\": 1, \"coordinates\": \"data\", \"dasharray\": \"10,0\", \"zorder\": 1, \"alpha\": 1, \"xindex\": 0, \"data\": \"data25\", \"id\": \"el33155139794654640848\"}, {\"edgecolor\": \"#EEEEEE\", \"facecolor\": \"#E24A33\", \"edgewidth\": 0.5, \"pathcodes\": [\"M\", \"L\", \"L\", \"L\", \"Z\"], \"yindex\": 1, \"coordinates\": \"data\", \"dasharray\": \"10,0\", \"zorder\": 1, \"alpha\": 1, \"xindex\": 0, \"data\": \"data26\", \"id\": \"el33155139794654642128\"}, {\"edgecolor\": \"#EEEEEE\", \"facecolor\": \"#E24A33\", \"edgewidth\": 0.5, \"pathcodes\": [\"M\", \"L\", \"L\", \"L\", \"Z\"], \"yindex\": 1, \"coordinates\": \"data\", \"dasharray\": \"10,0\", \"zorder\": 1, \"alpha\": 1, \"xindex\": 0, \"data\": \"data27\", \"id\": \"el33155139794654590992\"}, {\"edgecolor\": \"#EEEEEE\", \"facecolor\": \"#E24A33\", \"edgewidth\": 0.5, \"pathcodes\": [\"M\", \"L\", \"L\", \"L\", \"Z\"], \"yindex\": 1, \"coordinates\": \"data\", \"dasharray\": \"10,0\", \"zorder\": 1, \"alpha\": 1, \"xindex\": 0, \"data\": \"data28\", \"id\": \"el33155139794654592656\"}, {\"edgecolor\": \"#EEEEEE\", \"facecolor\": \"#E24A33\", \"edgewidth\": 0.5, \"pathcodes\": [\"M\", \"L\", \"L\", \"L\", \"Z\"], \"yindex\": 1, \"coordinates\": \"data\", \"dasharray\": \"10,0\", \"zorder\": 1, \"alpha\": 1, \"xindex\": 0, \"data\": \"data29\", \"id\": \"el33155139794654741840\"}, {\"edgecolor\": \"#EEEEEE\", \"facecolor\": \"#E24A33\", \"edgewidth\": 0.5, \"pathcodes\": [\"M\", \"L\", \"L\", \"L\", \"Z\"], \"yindex\": 1, \"coordinates\": \"data\", \"dasharray\": \"10,0\", \"zorder\": 1, \"alpha\": 1, \"xindex\": 0, \"data\": \"data30\", \"id\": \"el33155139794654743504\"}, {\"edgecolor\": \"#EEEEEE\", \"facecolor\": \"#E24A33\", \"edgewidth\": 0.5, \"pathcodes\": [\"M\", \"L\", \"L\", \"L\", \"Z\"], \"yindex\": 1, \"coordinates\": \"data\", \"dasharray\": \"10,0\", \"zorder\": 1, \"alpha\": 1, \"xindex\": 0, \"data\": \"data31\", \"id\": \"el33155139794665665168\"}, {\"edgecolor\": \"#EEEEEE\", \"facecolor\": \"#E24A33\", \"edgewidth\": 0.5, \"pathcodes\": [\"M\", \"L\", \"L\", \"L\", \"Z\"], \"yindex\": 1, \"coordinates\": \"data\", \"dasharray\": \"10,0\", \"zorder\": 1, \"alpha\": 1, \"xindex\": 0, \"data\": \"data32\", \"id\": \"el33155139794665666832\"}, {\"edgecolor\": \"#EEEEEE\", \"facecolor\": \"#E24A33\", \"edgewidth\": 0.5, \"pathcodes\": [\"M\", \"L\", \"L\", \"L\", \"Z\"], \"yindex\": 1, \"coordinates\": \"data\", \"dasharray\": \"10,0\", \"zorder\": 1, \"alpha\": 1, \"xindex\": 0, \"data\": \"data33\", \"id\": \"el33155139794665668496\"}, {\"edgecolor\": \"#EEEEEE\", \"facecolor\": \"#E24A33\", \"edgewidth\": 0.5, \"pathcodes\": [\"M\", \"L\", \"L\", \"L\", \"Z\"], \"yindex\": 1, \"coordinates\": \"data\", \"dasharray\": \"10,0\", \"zorder\": 1, \"alpha\": 1, \"xindex\": 0, \"data\": \"data34\", \"id\": \"el33155139794665694800\"}, {\"edgecolor\": \"#EEEEEE\", \"facecolor\": \"#E24A33\", \"edgewidth\": 0.5, \"pathcodes\": [\"M\", \"L\", \"L\", \"L\", \"Z\"], \"yindex\": 1, \"coordinates\": \"data\", \"dasharray\": \"10,0\", \"zorder\": 1, \"alpha\": 1, \"xindex\": 0, \"data\": \"data35\", \"id\": \"el33155139794668878800\"}, {\"edgecolor\": \"#EEEEEE\", \"facecolor\": \"#E24A33\", \"edgewidth\": 0.5, \"pathcodes\": [\"M\", \"L\", \"L\", \"L\", \"Z\"], \"yindex\": 1, \"coordinates\": \"data\", \"dasharray\": \"10,0\", \"zorder\": 1, \"alpha\": 1, \"xindex\": 0, \"data\": \"data36\", \"id\": \"el33155139792058416400\"}, {\"edgecolor\": \"#EEEEEE\", \"facecolor\": \"#E24A33\", \"edgewidth\": 0.5, \"pathcodes\": [\"M\", \"L\", \"L\", \"L\", \"Z\"], \"yindex\": 1, \"coordinates\": \"data\", \"dasharray\": \"10,0\", \"zorder\": 1, \"alpha\": 1, \"xindex\": 0, \"data\": \"data37\", \"id\": \"el33155139792058373712\"}, {\"edgecolor\": \"#EEEEEE\", \"facecolor\": \"#E24A33\", \"edgewidth\": 0.5, \"pathcodes\": [\"M\", \"L\", \"L\", \"L\", \"Z\"], \"yindex\": 1, \"coordinates\": \"data\", \"dasharray\": \"10,0\", \"zorder\": 1, \"alpha\": 1, \"xindex\": 0, \"data\": \"data38\", \"id\": \"el33155139794665696080\"}, {\"edgecolor\": \"#EEEEEE\", \"facecolor\": \"#E24A33\", \"edgewidth\": 0.5, \"pathcodes\": [\"M\", \"L\", \"L\", \"L\", \"Z\"], \"yindex\": 1, \"coordinates\": \"data\", \"dasharray\": \"10,0\", \"zorder\": 1, \"alpha\": 1, \"xindex\": 0, \"data\": \"data39\", \"id\": \"el33155139794665727888\"}, {\"edgecolor\": \"#EEEEEE\", \"facecolor\": \"#E24A33\", \"edgewidth\": 0.5, \"pathcodes\": [\"M\", \"L\", \"L\", \"L\", \"Z\"], \"yindex\": 1, \"coordinates\": \"data\", \"dasharray\": \"10,0\", \"zorder\": 1, \"alpha\": 1, \"xindex\": 0, \"data\": \"data40\", \"id\": \"el33155139794665729552\"}, {\"edgecolor\": \"#EEEEEE\", \"facecolor\": \"#E24A33\", \"edgewidth\": 0.5, \"pathcodes\": [\"M\", \"L\", \"L\", \"L\", \"Z\"], \"yindex\": 1, \"coordinates\": \"data\", \"dasharray\": \"10,0\", \"zorder\": 1, \"alpha\": 1, \"xindex\": 0, \"data\": \"data41\", \"id\": \"el33155139794665600208\"}, {\"edgecolor\": \"#EEEEEE\", \"facecolor\": \"#E24A33\", \"edgewidth\": 0.5, \"pathcodes\": [\"M\", \"L\", \"L\", \"L\", \"Z\"], \"yindex\": 1, \"coordinates\": \"data\", \"dasharray\": \"10,0\", \"zorder\": 1, \"alpha\": 1, \"xindex\": 0, \"data\": \"data42\", \"id\": \"el33155139794665601872\"}, {\"edgecolor\": \"#EEEEEE\", \"facecolor\": \"#E24A33\", \"edgewidth\": 0.5, \"pathcodes\": [\"M\", \"L\", \"L\", \"L\", \"Z\"], \"yindex\": 1, \"coordinates\": \"data\", \"dasharray\": \"10,0\", \"zorder\": 1, \"alpha\": 1, \"xindex\": 0, \"data\": \"data43\", \"id\": \"el33155139794665669136\"}, {\"edgecolor\": \"#EEEEEE\", \"facecolor\": \"#E24A33\", \"edgewidth\": 0.5, \"pathcodes\": [\"M\", \"L\", \"L\", \"L\", \"Z\"], \"yindex\": 1, \"coordinates\": \"data\", \"dasharray\": \"10,0\", \"zorder\": 1, \"alpha\": 1, \"xindex\": 0, \"data\": \"data44\", \"id\": \"el33155139794665670800\"}, {\"edgecolor\": \"#EEEEEE\", \"facecolor\": \"#E24A33\", \"edgewidth\": 0.5, \"pathcodes\": [\"M\", \"L\", \"L\", \"L\", \"Z\"], \"yindex\": 1, \"coordinates\": \"data\", \"dasharray\": \"10,0\", \"zorder\": 1, \"alpha\": 1, \"xindex\": 0, \"data\": \"data45\", \"id\": \"el33155139794665672464\"}, {\"edgecolor\": \"#EEEEEE\", \"facecolor\": \"#E24A33\", \"edgewidth\": 0.5, \"pathcodes\": [\"M\", \"L\", \"L\", \"L\", \"Z\"], \"yindex\": 1, \"coordinates\": \"data\", \"dasharray\": \"10,0\", \"zorder\": 1, \"alpha\": 1, \"xindex\": 0, \"data\": \"data46\", \"id\": \"el33155139794652751312\"}, {\"edgecolor\": \"#EEEEEE\", \"facecolor\": \"#E24A33\", \"edgewidth\": 0.5, \"pathcodes\": [\"M\", \"L\", \"L\", \"L\", \"Z\"], \"yindex\": 1, \"coordinates\": \"data\", \"dasharray\": \"10,0\", \"zorder\": 1, \"alpha\": 1, \"xindex\": 0, \"data\": \"data47\", \"id\": \"el33155139794652752976\"}, {\"edgecolor\": \"#EEEEEE\", \"facecolor\": \"#E24A33\", \"edgewidth\": 0.5, \"pathcodes\": [\"M\", \"L\", \"L\", \"L\", \"Z\"], \"yindex\": 1, \"coordinates\": \"data\", \"dasharray\": \"10,0\", \"zorder\": 1, \"alpha\": 1, \"xindex\": 0, \"data\": \"data48\", \"id\": \"el33155139794652766992\"}, {\"edgecolor\": \"#EEEEEE\", \"facecolor\": \"#E24A33\", \"edgewidth\": 0.5, \"pathcodes\": [\"M\", \"L\", \"L\", \"L\", \"Z\"], \"yindex\": 1, \"coordinates\": \"data\", \"dasharray\": \"10,0\", \"zorder\": 1, \"alpha\": 1, \"xindex\": 0, \"data\": \"data49\", \"id\": \"el33155139794652768656\"}, {\"edgecolor\": \"#EEEEEE\", \"facecolor\": \"#E24A33\", \"edgewidth\": 0.5, \"pathcodes\": [\"M\", \"L\", \"L\", \"L\", \"Z\"], \"yindex\": 1, \"coordinates\": \"data\", \"dasharray\": \"10,0\", \"zorder\": 1, \"alpha\": 1, \"xindex\": 0, \"data\": \"data50\", \"id\": \"el33155139794652769936\"}], \"sharey\": [], \"sharex\": [], \"axesbgalpha\": null, \"axes\": [{\"scale\": \"linear\", \"tickformat\": null, \"grid\": {\"color\": \"#FFFFFF\", \"alpha\": 1.0, \"dasharray\": \"10,0\", \"gridOn\": true}, \"fontsize\": 10.0, \"position\": \"bottom\", \"nticks\": 10, \"tickvalues\": null}, {\"scale\": \"linear\", \"tickformat\": null, \"grid\": {\"color\": \"#FFFFFF\", \"alpha\": 1.0, \"dasharray\": \"10,0\", \"gridOn\": true}, \"fontsize\": 10.0, \"position\": \"left\", \"nticks\": 6, \"tickvalues\": null}], \"lines\": [], \"markers\": [], \"id\": \"el33155139794669288720\", \"ydomain\": [0.0, 10000000.0], \"collections\": [], \"xscale\": \"linear\", \"bbox\": [0.125, 0.125, 0.77500000000000002, 0.77500000000000002]}], \"height\": 480.0, \"width\": 800.0, \"plugins\": [{\"type\": \"reset\"}, {\"enabled\": false, \"button\": true, \"type\": \"zoom\"}, {\"enabled\": false, \"button\": true, \"type\": \"boxzoom\"}], \"data\": {\"data42\": [[412.44000000000005, 0.0], [421.28000000000003, 0.0], [421.28000000000003, 45053.0], [412.44000000000005, 45053.0]], \"data43\": [[421.28, 0.0], [430.12, 0.0], [430.12, 39847.0], [421.28, 39847.0]], \"data40\": [[394.76, 0.0], [403.6, 0.0], [403.6, 57780.0], [394.76, 57780.0]], \"data41\": [[403.6, 0.0], [412.44, 0.0], [412.44, 50954.0], [403.6, 50954.0]], \"data46\": [[447.80000000000007, 0.0], [456.64000000000004, 0.0], [456.64000000000004, 15549.0], [447.80000000000007, 15549.0]], \"data47\": [[456.64, 0.0], [465.48, 0.0], [465.48, 8381.0], [456.64, 8381.0]], \"data44\": [[430.12, 0.0], [438.96, 0.0], [438.96, 29606.0], [430.12, 29606.0]], \"data45\": [[438.96, 0.0], [447.8, 0.0], [447.8, 25011.0], [438.96, 25011.0]], \"data48\": [[465.48, 0.0], [474.32, 0.0], [474.32, 4116.0], [465.48, 4116.0]], \"data49\": [[474.32000000000005, 0.0], [483.16, 0.0], [483.16, 2092.0], [474.32000000000005, 2092.0]], \"data50\": [[483.15999999999997, 0.0], [492.0, 0.0], [492.0, 1149.0], [483.15999999999997, 1149.0]], \"data28\": [[288.68000000000006, 0.0], [297.52000000000004, 0.0], [297.52000000000004, 8668.0], [288.68000000000006, 8668.0]], \"data06\": [[94.20000000000002, 0.0], [103.04, 0.0], [103.04, 963.0], [94.20000000000002, 963.0]], \"data08\": [[111.88, 0.0], [120.72, 0.0], [120.72, 1569.0], [111.88, 1569.0]], \"data09\": [[120.72, 0.0], [129.56, 0.0], [129.56, 1905.0], [120.72, 1905.0]], \"data20\": [[217.95999999999998, 0.0], [226.79999999999998, 0.0], [226.79999999999998, 3998.0], [217.95999999999998, 3998.0]], \"data21\": [[226.8, 0.0], [235.64, 0.0], [235.64, 3436.0], [226.8, 3436.0]], \"data22\": [[235.64, 0.0], [244.48, 0.0], [244.48, 4064.0], [235.64, 4064.0]], \"data05\": [[85.36, 0.0], [94.2, 0.0], [94.2, 2358.0], [85.36, 2358.0]], \"data02\": [[58.84, 0.0], [67.68, 0.0], [67.68, 422.0], [58.84, 422.0]], \"data04\": [[76.52, 0.0], [85.36, 0.0], [85.36, 582.0], [76.52, 582.0]], \"data26\": [[271.0, 0.0], [279.84000000000003, 0.0], [279.84000000000003, 14579.0], [271.0, 14579.0]], \"data01\": [[50.0, 0.0], [58.84, 0.0], [58.84, 265.0], [50.0, 265.0]], \"data23\": [[244.47999999999996, 0.0], [253.31999999999996, 0.0], [253.31999999999996, 9351821.0], [244.47999999999996, 9351821.0]], \"data24\": [[253.32000000000002, 0.0], [262.15999999999997, 0.0], [262.15999999999997, 443825.0], [253.32000000000002, 443825.0]], \"data03\": [[67.68, 0.0], [76.52, 0.0], [76.52, 435.0], [67.68, 435.0]], \"data27\": [[279.84000000000003, 0.0], [288.68, 0.0], [288.68, 7845.0], [279.84000000000003, 7845.0]], \"data07\": [[103.03999999999999, 0.0], [111.88, 0.0], [111.88, 1172.0], [103.03999999999999, 1172.0]], \"data37\": [[368.24, 0.0], [377.08, 0.0], [377.08, 80642.0], [368.24, 80642.0]], \"data36\": [[359.4, 0.0], [368.24, 0.0], [368.24, 89496.0], [359.4, 89496.0]], \"data35\": [[350.56000000000006, 0.0], [359.40000000000003, 0.0], [359.40000000000003, 96215.0], [350.56000000000006, 96215.0]], \"data34\": [[341.71999999999997, 0.0], [350.56, 0.0], [350.56, 90209.0], [341.71999999999997, 90209.0]], \"data25\": [[262.15999999999997, 0.0], [271.0, 0.0], [271.0, 6684.0], [262.15999999999997, 6684.0]], \"data32\": [[324.0400000000001, 0.0], [332.88000000000005, 0.0], [332.88000000000005, 18341.0], [324.0400000000001, 18341.0]], \"data31\": [[315.2, 0.0], [324.04, 0.0], [324.04, 8028.0], [315.2, 8028.0]], \"data30\": [[306.36, 0.0], [315.2, 0.0], [315.2, 5391.0], [306.36, 5391.0]], \"data39\": [[385.9200000000001, 0.0], [394.76000000000005, 0.0], [394.76000000000005, 64915.0], [385.9200000000001, 64915.0]], \"data38\": [[377.08, 0.0], [385.92, 0.0], [385.92, 63536.0], [377.08, 63536.0]], \"data19\": [[209.12, 0.0], [217.96, 0.0], [217.96, 3044.0], [209.12, 3044.0]], \"data18\": [[200.27999999999997, 0.0], [209.11999999999998, 0.0], [209.11999999999998, 3687.0], [200.27999999999997, 3687.0]], \"data15\": [[173.76, 0.0], [182.6, 0.0], [182.6, 2936.0], [173.76, 2936.0]], \"data14\": [[164.92000000000002, 0.0], [173.76, 0.0], [173.76, 2872.0], [164.92000000000002, 2872.0]], \"data17\": [[191.44, 0.0], [200.28, 0.0], [200.28, 3077.0], [191.44, 3077.0]], \"data16\": [[182.59999999999997, 0.0], [191.43999999999997, 0.0], [191.43999999999997, 2788.0], [182.59999999999997, 2788.0]], \"data11\": [[138.39999999999998, 0.0], [147.23999999999998, 0.0], [147.23999999999998, 2578.0], [138.39999999999998, 2578.0]], \"data10\": [[129.56, 0.0], [138.4, 0.0], [138.4, 2304.0], [129.56, 2304.0]], \"data13\": [[156.07999999999998, 0.0], [164.92000000000002, 0.0], [164.92000000000002, 2341.0], [156.07999999999998, 2341.0]], \"data12\": [[147.24, 0.0], [156.07999999999998, 0.0], [156.07999999999998, 2427.0], [147.24, 2427.0]], \"data29\": [[297.52, 0.0], [306.36, 0.0], [306.36, 4889.0], [297.52, 4889.0]], \"data33\": [[332.88, 0.0], [341.71999999999997, 0.0], [341.71999999999997, 54645.0], [332.88, 54645.0]]}, \"id\": \"el33155139794669435280\"});\n",
       "            })\n",
       "         });\n",
       "}\n",
       "</script>"
      ],
      "text/plain": [
       "<matplotlib.figure.Figure at 0x7f247b9cf990>"
      ]
     },
     "metadata": {},
     "output_type": "display_data"
    }
   ],
   "source": [
    "style.use(\"ggplot\")\n",
    "fig = plt.figure()\n",
    "ax = fig.add_subplot(111)\n",
    "h = ax.hist(np.array(lengths), bins=50)\n",
    "xl = ax.set_xlabel(\"Sequence Length, nt\")\n",
    "yl = ax.set_ylabel(\"Count\")\n",
    "fig.set_size_inches((10,6))"
   ]
  }
 ],
 "metadata": {
  "kernelspec": {
   "display_name": "Python 2",
   "language": "python",
   "name": "python2"
  },
  "language_info": {
   "codemirror_mode": {
    "name": "ipython",
    "version": 2
   },
   "file_extension": ".py",
   "mimetype": "text/x-python",
   "name": "python",
   "nbconvert_exporter": "python",
   "pygments_lexer": "ipython2",
   "version": "2.7.9"
  }
 },
 "nbformat": 4,
 "nbformat_minor": 0
}
