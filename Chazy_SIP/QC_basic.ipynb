{
 "cells": [
  {
   "cell_type": "markdown",
   "metadata": {},
   "source": [
    "##Discard sequences that exceed the max expected error threshold."
   ]
  },
  {
   "cell_type": "code",
   "execution_count": 11,
   "metadata": {
    "collapsed": false
   },
   "outputs": [
    {
     "name": "stdout",
     "output_type": "stream",
     "text": [
      "8982380\n",
      ">12C.NTH.D3.R4_Frac19_0 orig_name=M02465:159:000000000-AGE5C:1:1101:16210:1816\n",
      "TACGTAGGGGACGAGCGTTGTCCGGATTCATTGGGCGTAAAGCGCGCGTAGGCGGCTCGGAAAGTCGGTCGTGAAATGCCGGGGCTCAACCCCGGGACTGCGTCCGATACTTCCGGGCTGGAGGTAGGTAGGGGAGATCGGAATTCCTGGTGTAGCGGTGAAATGCGCAGATATCAGGAGGAACACCGGTGGCGAAGGCGGGTCTCTGGGCCGATACTGACGCTGAGGAGCGAAAGCGTGGGGAGCGAACAGG\n",
      ">12C.PTH.D1.R4_Frac23_1 orig_name=M02465:159:000000000-AGE5C:1:1101:13282:1830\n",
      "TACGGAGGGGGCTAGCGTTGTTCGGAATTACTGGGCGTAAAGCGCACGTAGGCGGCTTTGTAAGTTAGAGGTGAAAGCCCAGGGCTCAACCCTGGAATTGCCTTTAAGACTGCATCGCTTGAACATCGGAGAGGTAAGTGGAATTCCGAGTGTAGAGGTGAAATTCGTAGATATTCGGAAGAACACCAGTGGCGAAGGCGACTTACTGGACGATTGTTGACGCTGAGGTGCGAAAGCGTGGGGAGCAAACAGG\n",
      ">12C.PTH.D1.R4_Frac21_2 orig_name=M02465:159:000000000-AGE5C:1:1101:14760:1836\n",
      "TACAGAGGGGGCAAGCGTTGTTCGGAATTACTGGGCGTAAAGGGCGCGTAGGCGGCCTCCTAAGTCGGACGTGAAATCCCCGAGCTCAACTCGGGAACTGCGTCCGATACTGGTTGGCTTGAATCCGGGAGAGGGATGCGGAATTCCAGGTGTAGCGGTGAAATGCGTAGATATCTGGAGGAACACCGGTGGCGAAGGCGGCATCCTGGACCGGTATTGACGCTGAGGCGCGAAAGCCAGGGGAGCAAACGGG\n",
      ">13C.NTH.D14.R4_Frac9_3 orig_name=M02465:159:000000000-AGE5C:1:1101:15905:1836\n",
      "TACGTAGGAGGCAAGCGTTGTCCGGATTTATTGGGCGTAAAGCGCACGCAGGCGGTCGTATCAGTCCAGGGTGACAGTTTCCGGCTTAACCGGAAAAGGACTCTGGAGACGGCACGACTTGAGGGCTTCAGAGGGATGTGGAATTCCAGGTGGAGTGGTGAAATGCGTAGAGATCTGGAAGAACACCAAAGGCGAAGGCAACATCCTGGGGAGTCACTGACGCTCGGGTGCGAAAGCTAGGGGAGCGAACGGG\n"
     ]
    }
   ],
   "source": [
    "%%bash\n",
    "\n",
    "nprocs=20\n",
    "#Changing max expected error to 2 - less conservative\n",
    "maxee=1\n",
    "\n",
    "tmpdir1=`mktemp -d`\n",
    "trap \"rm -r $tmpdir1\" 1 2 3 15\n",
    "split -d -l 2000000 /var/seq_data/Chazy/515_806_SIP/Pool1/pear_merged_raw-2015-07-02.assembled.dmult.fastq $tmpdir1/Block\n",
    "\n",
    "tmpdir2=`mktemp -d`\n",
    "trap \"rm -r $tmpdir2\" 1 2 3 15\n",
    "ls $tmpdir1/Block?? | parallel --gnu -j $nprocs -k \"usearch -fastq_filter {} \\\n",
    "-fastq_maxee $maxee \\\n",
    "-fastaout $tmpdir2/{#}.fasta >/dev/null 2>&1 && cat $tmpdir2/{#}.fasta\" > data/tmp/maxee$maxee.fasta\n",
    "rm -r $tmpdir2 $tmpdir1\n",
    "\n",
    "grep -c \">\" data/tmp/maxee$maxee.fasta\n",
    "head -n 8 data/tmp/maxee$maxee.fasta"
   ]
  },
  {
   "cell_type": "code",
   "execution_count": 12,
   "metadata": {
    "collapsed": false
   },
   "outputs": [
    {
     "name": "stdout",
     "output_type": "stream",
     "text": [
      "8982380\n",
      "8982380\n"
     ]
    }
   ],
   "source": [
    "%%bash\n",
    "bioawk -c fastx '{if ($seq !~ /N/){print \">\" $name \" \" $4 \"\\n\" $seq}}' data/tmp/maxee1.fasta > \\\n",
    "data/tmp/maxee1.0.noN.fasta\n",
    "grep -c \">\" data/tmp/maxee1.fasta\n",
    "grep -c \">\" data/tmp/maxee1.0.noN.fasta"
   ]
  },
  {
   "cell_type": "markdown",
   "metadata": {},
   "source": [
    "##Remove seqs with N characters."
   ]
  },
  {
   "cell_type": "markdown",
   "metadata": {},
   "source": [
    "# Alignment-based QC with Mothur"
   ]
  },
  {
   "cell_type": "code",
   "execution_count": 13,
   "metadata": {
    "collapsed": false
   },
   "outputs": [],
   "source": [
    "%%bash\n",
    "ionice -c2 -n3 \\\n",
    "mothur \"#unique.seqs(fasta=data/tmp/maxee1.0.noN.fasta)\" > /dev/null"
   ]
  },
  {
   "cell_type": "code",
   "execution_count": 14,
   "metadata": {
    "collapsed": false
   },
   "outputs": [
    {
     "name": "stdout",
     "output_type": "stream",
     "text": [
      "8982380\n",
      "3230660\n"
     ]
    }
   ],
   "source": [
    "!grep -c \">\" data/tmp/maxee1.0.noN.fasta\n",
    "!grep -c \">\" data/tmp/maxee1.0.noN.unique.fasta"
   ]
  },
  {
   "cell_type": "markdown",
   "metadata": {},
   "source": [
    "##### Need to use all sequences (not just unique sequences) for next step to create the data file"
   ]
  },
  {
   "cell_type": "code",
   "execution_count": 15,
   "metadata": {
    "collapsed": false
   },
   "outputs": [
    {
     "name": "stdout",
     "output_type": "stream",
     "text": [
      "12C.NTH.D3.R4_Frac19_0\t12C.NTH.D3.R4\n",
      "12C.PTH.D1.R4_Frac23_1\t12C.PTH.D1.R4\n",
      "12C.PTH.D1.R4_Frac21_2\t12C.PTH.D1.R4\n",
      "13C.NTH.D14.R4_Frac9_3\t13C.NTH.D14.R4\n",
      "13X.NTH.D3.R4_Frac11_4\t13X.NTH.D3.R4\n",
      "12C.NTH.D3.R4_Frac6_5\t12C.NTH.D3.R4\n",
      "13X.PTH.D7.R4_Frac26_6\t13X.PTH.D7.R4\n",
      "13X.PTH.D7.R4_Frac6_7\t13X.PTH.D7.R4\n",
      "12C.PTH.D3.R4_Frac5_8\t12C.PTH.D3.R4\n",
      "12C.NTH.D3.R4_Frac6_9\t12C.NTH.D3.R4\n"
     ]
    }
   ],
   "source": [
    "%%bash\n",
    "bioawk -c fastx '{print $name}' data/tmp/maxee1.0.noN.fasta | \\\n",
    "awk -F\"_\" 'BEGIN{OFS=\"\\t\"}{print $0, $1}' > data/group_file.txt\n",
    "head data/group_file.txt"
   ]
  },
  {
   "cell_type": "code",
   "execution_count": 3,
   "metadata": {
    "collapsed": false
   },
   "outputs": [],
   "source": [
    "!mkdir -p /home/chantal/RNASIP/data/tmp/db"
   ]
  },
  {
   "cell_type": "code",
   "execution_count": 8,
   "metadata": {
    "collapsed": false
   },
   "outputs": [],
   "source": [
    "%%bash\n",
    "if ! [ -e /home/chantal/RNASIP/data/silva_ref_aln_mothur.fasta ]; then\n",
    "    curl -o /home/chantal/RNASIP/data/tmp/db/silva_B.zip http://www.mothur.org/w/images/9/98/Silva.bacteria.zip && unzip data/tmp/db/silva_B.zip\n",
    "    curl -o /home/chantal/RNASIP/data/tmp/db/silva_E.zip http://www.mothur.org/w/images/1/1a/Silva.eukarya.zip && unzip data/tmp/db/silva_E.zip\n",
    "    curl -o /home/chantal/RNASIP/data/tmp/db/silva_A.zip http://www.mothur.org/w/images/3/3c/Silva.archaea.zip && unzip data/tmp/db/silva_A.zip\n",
    "fi"
   ]
  },
  {
   "cell_type": "code",
   "execution_count": 11,
   "metadata": {
    "collapsed": false
   },
   "outputs": [],
   "source": [
    "%%bash\n",
    "if ! [ -e /home/chantal/RNASIP/data/silva_ref_aln_mothur.fasta ]; then\n",
    "    cat /home/chantal/RNASIP/data/tmp/db/silva.bacteria/silva.bacteria.fasta \\\n",
    "    /home/chantal/RNASIP/data/tmp/db/silva.eukarya/silva.eukarya.fasta \\\n",
    "    /home/chantal/RNASIP/data/tmp/db/Silva.archaea/silva.archaea.fasta \\\n",
    "    > /home/chantal/RNASIP/data/silva_ref_aln_mothur.fasta\n",
    "fi"
   ]
  },
  {
   "cell_type": "code",
   "execution_count": 8,
   "metadata": {
    "collapsed": false
   },
   "outputs": [],
   "source": [
    "%%bash\n",
    "mothur \"#filter.seqs(vertical=t, \\\n",
    "fasta=/home/chantal/RNASIP/data/silva_ref_aln_mothur.fasta, \\\n",
    "processors=10)\" > /dev/null"
   ]
  },
  {
   "cell_type": "code",
   "execution_count": null,
   "metadata": {
    "collapsed": false
   },
   "outputs": [],
   "source": [
    "%%bash\n",
    "ionice -c2 -n3 \\\n",
    "mothur \"#align.seqs(candidate=data/tmp/maxee1.0.noN.unique.fasta, \\\n",
    "template=/home/chantal/RNASIP/data/tmp/db/silva_ref_aln_mothur.fasta, \\\n",
    "processors=15, \\\n",
    "flip=T)\" > /dev/null"
   ]
  },
  {
   "cell_type": "markdown",
   "metadata": {},
   "source": [
    "#### We can filter out vertical gaps..."
   ]
  },
  {
   "cell_type": "code",
   "execution_count": null,
   "metadata": {
    "collapsed": false
   },
   "outputs": [],
   "source": [
    "%%bash\n",
    "mothur \"#filter.seqs(vertical=t, \\\n",
    "fasta=data/tmp/maxee1.0.noN.unique.align, \\\n",
    "processors=10)\" > /dev/null"
   ]
  },
  {
   "cell_type": "markdown",
   "metadata": {},
   "source": [
    "### Here is what our seqs look like."
   ]
  },
  {
   "cell_type": "code",
   "execution_count": 19,
   "metadata": {
    "collapsed": false
   },
   "outputs": [
    {
     "name": "stdout",
     "output_type": "stream",
     "text": [
      "\u001b[H\u001b[2J\n",
      "\n",
      "\n",
      "\n",
      "\n",
      "\n",
      "mothur v.1.32.1\n",
      "Last updated: 10/16/2013\n",
      "\n",
      "by\n",
      "Patrick D. Schloss\n",
      "\n",
      "Department of Microbiology & Immunology\n",
      "University of Michigan\n",
      "pschloss@umich.edu\n",
      "http://www.mothur.org\n",
      "\n",
      "When using, please cite:\n",
      "Schloss, P.D., et al., Introducing mothur: Open-source, platform-independent, community-supported software for describing and comparing microbial communities. Appl Environ Microbiol, 2009. 75(23):7537-41.\n",
      "\n",
      "Distributed under the GNU General Public License\n",
      "\n",
      "Type 'help()' for information on the commands that are available\n",
      "\n",
      "Type 'quit()' to exit program\n",
      "\n",
      "\n",
      "\n",
      "mothur > summary.seqs(fasta=data/tmp/maxee1.0.noN.unique.filter.fasta, processors=20, name=data/tmp/maxee1.0.noN.names)\n",
      "\n",
      "Using 20 processors.\n",
      "\n",
      "Using 20 processors.\n",
      "\n",
      "Using 20 processors.\n",
      "\n",
      "Using 20 processors.\n",
      "\n",
      "Using 20 processors.\n",
      "\n",
      "Using 20 processors.\n",
      "\n",
      "Using 20 processors.\n",
      "\n",
      "Using 20 processors.\n",
      "\n",
      "Using 20 processors.\n",
      "\n",
      "Using 20 processors.\n",
      "\n",
      "Using 20 processors.\n",
      "\n",
      "Using 20 processors.\n",
      "\n",
      "Using 20 processors.\n",
      "\n",
      "Using 20 processors.\n",
      "\n",
      "Using 20 processors.\n",
      "\n",
      "Using 20 processors.\n",
      "\n",
      "Using 20 processors.\n",
      "\n",
      "Using 20 processors.\n",
      "\n",
      "Using 20 processors.\n",
      "\n",
      "Using 20 processors.\n",
      "\n",
      "\t\tStart\tEnd\tNBases\tAmbigs\tPolymer\tNumSeqs\n",
      "Minimum:\t0\t0\t0\t0\t1\t1\n",
      "2.5%-tile:\t463\t1385\t253\t0\t4\t224560\n",
      "25%-tile:\t463\t1385\t253\t0\t4\t2245596\n",
      "Median: \t463\t1385\t253\t0\t4\t4491191\n",
      "75%-tile:\t463\t1385\t253\t0\t5\t6736786\n",
      "97.5%-tile:\t463\t1385\t254\t0\t7\t8757821\n",
      "Maximum:\t1915\t1915\t424\t0\t67\t8982380\n",
      "Mean:\t463.357\t1384.92\t252.934\t0\t4.65045\n",
      "# of unique seqs:\t3230660\n",
      "total # of seqs:\t8982380\n",
      "\n",
      "Output File Names: \n",
      "data/tmp/maxee1.0.noN.unique.filter.summary\n",
      "\n",
      "\n",
      "mothur > quit()\n"
     ]
    }
   ],
   "source": [
    "%%bash\n",
    "mothur \"#summary.seqs(fasta=data/tmp/maxee1.0.noN.unique.filter.fasta, \\\n",
    "processors=20, \\\n",
    "name=data/tmp/maxee1.0.noN.names)\" "
   ]
  },
  {
   "cell_type": "markdown",
   "metadata": {},
   "source": [
    "### Removing homopolymers (larger than 8) and screen out sequences that don't align to amplicon region"
   ]
  },
  {
   "cell_type": "code",
   "execution_count": 20,
   "metadata": {
    "collapsed": false
   },
   "outputs": [],
   "source": [
    "%%bash\n",
    "\n",
    "mothur \"#screen.seqs(fasta=data/tmp/maxee1.0.noN.unique.filter.fasta, \\\n",
    "processors=10, \\\n",
    "name=data/tmp/maxee1.0.noN.names, \\\n",
    "group=data/group_file.txt, \\\n",
    "start=463, \\\n",
    "end=1385, \\\n",
    "maxhomop=8, minlength=253)\" > /dev/null"
   ]
  },
  {
   "cell_type": "code",
   "execution_count": 21,
   "metadata": {
    "collapsed": false
   },
   "outputs": [],
   "source": [
    "%%bash\n",
    "\n",
    "mothur \"#filter.seqs(fasta=data/tmp/maxee1.0.noN.unique.filter.good.fasta, \\\n",
    "processors=10, \\\n",
    "vertical=T)\" > /dev/null"
   ]
  },
  {
   "cell_type": "code",
   "execution_count": 22,
   "metadata": {
    "collapsed": false
   },
   "outputs": [
    {
     "name": "stdout",
     "output_type": "stream",
     "text": [
      "\u001b[H\u001b[2J\n",
      "\n",
      "\n",
      "\n",
      "\n",
      "\n",
      "mothur v.1.32.1\n",
      "Last updated: 10/16/2013\n",
      "\n",
      "by\n",
      "Patrick D. Schloss\n",
      "\n",
      "Department of Microbiology & Immunology\n",
      "University of Michigan\n",
      "pschloss@umich.edu\n",
      "http://www.mothur.org\n",
      "\n",
      "When using, please cite:\n",
      "Schloss, P.D., et al., Introducing mothur: Open-source, platform-independent, community-supported software for describing and comparing microbial communities. Appl Environ Microbiol, 2009. 75(23):7537-41.\n",
      "\n",
      "Distributed under the GNU General Public License\n",
      "\n",
      "Type 'help()' for information on the commands that are available\n",
      "\n",
      "Type 'quit()' to exit program\n",
      "\n",
      "\n",
      "\n",
      "mothur > summary.seqs(fasta=data/tmp/maxee1.0.noN.unique.filter.good.filter.fasta, name=data/tmp/maxee1.0.noN.names)\n",
      "\n",
      "Using 1 processors.\n",
      "\n",
      "\t\tStart\tEnd\tNBases\tAmbigs\tPolymer\tNumSeqs\n",
      "Minimum:\t1\t1007\t253\t0\t3\t1\n",
      "2.5%-tile:\t143\t1007\t253\t0\t4\t218579\n",
      "25%-tile:\t143\t1007\t253\t0\t4\t2185782\n",
      "Median: \t143\t1007\t253\t0\t4\t4371563\n",
      "75%-tile:\t143\t1007\t253\t0\t5\t6557344\n",
      "97.5%-tile:\t143\t1007\t254\t0\t7\t8524547\n",
      "Maximum:\t143\t1177\t424\t0\t8\t8743125\n",
      "Mean:\t142.998\t1007.03\t253.082\t0\t4.64018\n",
      "# of unique seqs:\t3113073\n",
      "total # of seqs:\t8743125\n",
      "\n",
      "Output File Names: \n",
      "data/tmp/maxee1.0.noN.unique.filter.good.filter.summary\n",
      "\n",
      "\n",
      "mothur > quit()\n"
     ]
    }
   ],
   "source": [
    "%%bash\n",
    "\n",
    "mothur \"#summary.seqs(fasta=data/tmp/maxee1.0.noN.unique.filter.good.filter.fasta, \\\n",
    "name=data/tmp/maxee1.0.noN.names)\""
   ]
  },
  {
   "cell_type": "markdown",
   "metadata": {},
   "source": [
    "# Chimera Checking w Uchime (when assigning OTUs- in other notebook)"
   ]
  },
  {
   "cell_type": "markdown",
   "metadata": {},
   "source": [
    "#### Expand data, remove gaps, and copy into data directory"
   ]
  },
  {
   "cell_type": "code",
   "execution_count": null,
   "metadata": {
    "collapsed": false
   },
   "outputs": [
    {
     "name": "stdout",
     "output_type": "stream",
     "text": [
      "\u001b[H\u001b[2J\n",
      "\n",
      "\n",
      "\n",
      "\n",
      "\n",
      "mothur v.1.32.1\n",
      "Last updated: 10/16/2013\n",
      "\n",
      "by\n",
      "Patrick D. Schloss\n",
      "\n",
      "Department of Microbiology & Immunology\n",
      "University of Michigan\n",
      "pschloss@umich.edu\n",
      "http://www.mothur.org\n",
      "\n",
      "When using, please cite:\n",
      "Schloss, P.D., et al., Introducing mothur: Open-source, platform-independent, community-supported software for describing and comparing microbial communities. Appl Environ Microbiol, 2009. 75(23):7537-41.\n",
      "\n",
      "Distributed under the GNU General Public License\n",
      "\n",
      "Type 'help()' for information on the commands that are available\n",
      "\n",
      "Type 'quit()' to exit program\n",
      "\n",
      "\n",
      "\n",
      "mothur > deunique.seqs(fasta=data/tmp/maxee1.0.noN.unique.filter.good.filter.fasta, name=data/tmp/maxee1.0.noN.good.names)\n",
      "\n",
      "Output File Names: \n",
      "data/tmp/maxee1.0.noN.redundant.fasta\n",
      "\n",
      "\n",
      "mothur > quit()\n"
     ]
    }
   ],
   "source": [
    "%%bash\n",
    "mothur \"#deunique.seqs(fasta=data/tmp/maxee1.0.noN.unique.filter.good.filter.fasta, \\\n",
    "name=data/tmp/maxee1.0.noN.good.names)\" "
   ]
  },
  {
   "cell_type": "code",
   "execution_count": 27,
   "metadata": {
    "collapsed": false
   },
   "outputs": [],
   "source": [
    "!sed '/>/! s/-//g;/>/! s/\\.//g' data/tmp/maxee1.0.noN.redundant.fasta > data/finalQC.fasta"
   ]
  },
  {
   "cell_type": "code",
   "execution_count": null,
   "metadata": {
    "collapsed": false
   },
   "outputs": [],
   "source": [
    "!head data/finalQC.fasta"
   ]
  },
  {
   "cell_type": "markdown",
   "metadata": {},
   "source": [
    "#### Total Number of QC'd sequences"
   ]
  },
  {
   "cell_type": "code",
   "execution_count": null,
   "metadata": {
    "collapsed": false
   },
   "outputs": [],
   "source": [
    "!grep -c \">\" data/finalQC.fasta"
   ]
  }
 ],
 "metadata": {
  "kernelspec": {
   "display_name": "Python 2",
   "language": "python",
   "name": "python2"
  },
  "language_info": {
   "codemirror_mode": {
    "name": "ipython",
    "version": 2
   },
   "file_extension": ".py",
   "mimetype": "text/x-python",
   "name": "python",
   "nbconvert_exporter": "python",
   "pygments_lexer": "ipython2",
   "version": "2.7.9"
  }
 },
 "nbformat": 4,
 "nbformat_minor": 0
}
