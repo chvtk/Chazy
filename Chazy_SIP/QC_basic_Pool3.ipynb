{
 "cells": [
  {
   "cell_type": "markdown",
   "metadata": {},
   "source": [
    "##Discard sequences that exceed the max expected error threshold."
   ]
  },
  {
   "cell_type": "code",
   "execution_count": 27,
   "metadata": {
    "collapsed": false
   },
   "outputs": [
    {
     "name": "stdout",
     "output_type": "stream",
     "text": [
      "5817405\n",
      ">13X.NTH.D1.R4_Frac15_0 orig_name=M02465:168:000000000-AHFAK:1:1101:15527:1335\n",
      "TACGTAGGGTGCAAGCGTTAATCGGAATTACTGGGCGTAAAGCGTGCGCAGGCGGTTTTGTAAGACAGTGGTGAAATCCCCGGGCTCAACCTGGGAACTGCCATTGTGACTGCAAAGCTAGAGTGCGGCAGAGGGGGATGGAATTCCGCGTGTAGCAGTGAAATGCGTAGATATGCGGAGGAACACCGATGGCGAAGGCAATCCCCTGGGCCTGCACTGACGCTCATGCACGAAAGCGTGGGGAGCAAACAGG\n",
      ">12C.PTH.D14.R4_Frac6_1 orig_name=M02465:168:000000000-AHFAK:1:1101:15832:1338\n",
      "TACGTAGGTGGCAAGCGTTGTCCGGATTTACTGGGCGTAAAGAGCGCGCAGGCGGTCGATTTAGTCGCGTGTGAAAGCCCCCGGCTCAACTGGGGAGGGTCACGCGATACTGATCGACTCGAAGGCAGGAGAGGGTAGTGGAATTCCCGGTGTAGTGGTGAAATGCGTAGATATTGGGTGGAACACCGGTGGCGAAAGCGGCTCACTGGCTCGGTTCTGACGCTGAGGCGCGAGAGCGTGGGGAGCAAACAGG\n",
      ">12C.PTH.D7.R4_Frac17_2 orig_name=M02465:168:000000000-AHFAK:1:1101:15325:1339\n",
      "TACGTAGGGTCCGAGCGTTGTCCGGAGTTACTGGGCGTAAAGCGCGCGCAGGCGGCTTTATAAGTCTGGCGTGAAAGCCCCCGGCTCAACCGGGGAGGGTCGTCGGAGACTGTAGAGCTTGAGGGCGGTAGGGGCTGGTGGAATTCCCGGTGTAGTGGTGAAATGCGTAGAGATCCGGAAGAACACCGGTGGCGAAGGCGGCCCGCTGGGCAGGAAGGCTCGCAAGAGCCGGCTGACACTGAGGCGCGACAGCGTGGGGAGCAAACAGG\n",
      ">12C.NTH.D14.R4_Frac17_3 orig_name=M02465:168:000000000-AHFAK:1:1101:16191:1347\n",
      "TACGTAGGTGGCGAGCGTTGTCCGGATTTACTGGGCGTAAAGAGCGCGCAGGCGGCTGGTCAAGTCCGGTGTGAAAGCTCCCGGCTTAACTGGGAAATTGCATCGGAAACTGATCGGCTGGAAGGTGGGAGAGGGTAGCGGAATTCCCGGTGTAGTGGTGAAATGCGTAGATATCGGGAGGAACACCAGTGGCGAAAGCGGCTACCTGGCCCATTCTTGACGCTGAGGCGCGAAAGCTAGGGGAGCAAACGGG\n"
     ]
    }
   ],
   "source": [
    "%%bash\n",
    "\n",
    "nprocs=20\n",
    "#Changing max expected error to 2 - less conservative\n",
    "maxee=1\n",
    "\n",
    "tmpdir1=`mktemp -d`\n",
    "trap \"rm -r $tmpdir1\" 1 2 3 15\n",
    "split -d -l 2000000 /var/seq_data/Chazy/515_806_SIP/Pool3/pear_merged_raw-2015-08-16.assembled.dmult.fastq $tmpdir1/Block\n",
    "\n",
    "tmpdir2=`mktemp -d`\n",
    "trap \"rm -r $tmpdir2\" 1 2 3 15\n",
    "ls $tmpdir1/Block?? | parallel --gnu -j $nprocs -k \"usearch -fastq_filter {} \\\n",
    "-fastq_maxee $maxee \\\n",
    "-fastaout $tmpdir2/{#}.fasta >/dev/null 2>&1 && cat $tmpdir2/{#}.fasta\" > data/tmp/maxee$maxee.fasta\n",
    "rm -r $tmpdir2 $tmpdir1\n",
    "\n",
    "grep -c \">\" data/tmp/maxee$maxee.fasta\n",
    "head -n 8 data/tmp/maxee$maxee.fasta"
   ]
  },
  {
   "cell_type": "code",
   "execution_count": 28,
   "metadata": {
    "collapsed": false
   },
   "outputs": [
    {
     "name": "stdout",
     "output_type": "stream",
     "text": [
      "5817405\n",
      "5817405\n"
     ]
    }
   ],
   "source": [
    "%%bash\n",
    "bioawk -c fastx '{if ($seq !~ /N/){print \">\" $name \" \" $4 \"\\n\" $seq}}' data/tmp/maxee1.fasta > \\\n",
    "data/tmp/maxee1.0.noN.fasta\n",
    "grep -c \">\" data/tmp/maxee1.fasta\n",
    "grep -c \">\" data/tmp/maxee1.0.noN.fasta"
   ]
  },
  {
   "cell_type": "markdown",
   "metadata": {},
   "source": [
    "##Remove seqs with N characters."
   ]
  },
  {
   "cell_type": "markdown",
   "metadata": {},
   "source": [
    "# Alignment-based QC with Mothur"
   ]
  },
  {
   "cell_type": "code",
   "execution_count": 29,
   "metadata": {
    "collapsed": false
   },
   "outputs": [],
   "source": [
    "%%bash\n",
    "ionice -c2 -n3 \\\n",
    "mothur \"#unique.seqs(fasta=data/tmp/maxee1.0.noN.fasta)\" > /dev/null"
   ]
  },
  {
   "cell_type": "code",
   "execution_count": 30,
   "metadata": {
    "collapsed": false
   },
   "outputs": [
    {
     "name": "stdout",
     "output_type": "stream",
     "text": [
      "5817405\n",
      "3086162\n"
     ]
    }
   ],
   "source": [
    "!grep -c \">\" data/tmp/maxee1.0.noN.fasta\n",
    "!grep -c \">\" data/tmp/maxee1.0.noN.unique.fasta"
   ]
  },
  {
   "cell_type": "markdown",
   "metadata": {},
   "source": [
    "##### Need to use all sequences (not just unique sequences) for next step to create the data file"
   ]
  },
  {
   "cell_type": "code",
   "execution_count": null,
   "metadata": {
    "collapsed": false
   },
   "outputs": [
    {
     "name": "stdout",
     "output_type": "stream",
     "text": [
      "13X.NTH.D1.R4_Frac15_0\t13X.NTH.D1.R4\n",
      "12C.PTH.D14.R4_Frac6_1\t12C.PTH.D14.R4\n",
      "12C.PTH.D7.R4_Frac17_2\t12C.PTH.D7.R4\n",
      "12C.NTH.D14.R4_Frac17_3\t12C.NTH.D14.R4\n",
      "12C.PTH.D14.R4_Frac6_4\t12C.PTH.D14.R4\n",
      "12C.NTH.D14.R4_Frac10_5\t12C.NTH.D14.R4\n",
      "13X.NTH.D1.R4_Frac27_6\t13X.NTH.D1.R4\n",
      "12C.NTH.D1.R4_Frac8_7\t12C.NTH.D1.R4\n",
      "12C.NTH.D1.R4_Frac5_8\t12C.NTH.D1.R4\n",
      "13X.NTH.D1.R4_Frac19_9\t13X.NTH.D1.R4\n"
     ]
    }
   ],
   "source": [
    "%%bash\n",
    "bioawk -c fastx '{print $name}' data/tmp/maxee1.0.noN.fasta | \\\n",
    "awk -F\"_\" 'BEGIN{OFS=\"\\t\"}{print $0, $1}' > data/group_file.txt\n",
    "head data/group_file.txt"
   ]
  },
  {
   "cell_type": "code",
   "execution_count": 3,
   "metadata": {
    "collapsed": false
   },
   "outputs": [],
   "source": [
    "!mkdir -p /home/chantal/RNASIP/data/tmp/db"
   ]
  },
  {
   "cell_type": "code",
   "execution_count": 8,
   "metadata": {
    "collapsed": false
   },
   "outputs": [],
   "source": [
    "%%bash\n",
    "if ! [ -e /home/chantal/RNASIP/data/silva_ref_aln_mothur.fasta ]; then\n",
    "    curl -o /home/chantal/RNASIP/data/tmp/db/silva_B.zip http://www.mothur.org/w/images/9/98/Silva.bacteria.zip && unzip data/tmp/db/silva_B.zip\n",
    "    curl -o /home/chantal/RNASIP/data/tmp/db/silva_E.zip http://www.mothur.org/w/images/1/1a/Silva.eukarya.zip && unzip data/tmp/db/silva_E.zip\n",
    "    curl -o /home/chantal/RNASIP/data/tmp/db/silva_A.zip http://www.mothur.org/w/images/3/3c/Silva.archaea.zip && unzip data/tmp/db/silva_A.zip\n",
    "fi"
   ]
  },
  {
   "cell_type": "code",
   "execution_count": 11,
   "metadata": {
    "collapsed": false
   },
   "outputs": [],
   "source": [
    "%%bash\n",
    "if ! [ -e /home/chantal/RNASIP/data/silva_ref_aln_mothur.fasta ]; then\n",
    "    cat /home/chantal/RNASIP/data/tmp/db/silva.bacteria/silva.bacteria.fasta \\\n",
    "    /home/chantal/RNASIP/data/tmp/db/silva.eukarya/silva.eukarya.fasta \\\n",
    "    /home/chantal/RNASIP/data/tmp/db/Silva.archaea/silva.archaea.fasta \\\n",
    "    > /home/chantal/RNASIP/data/silva_ref_aln_mothur.fasta\n",
    "fi"
   ]
  },
  {
   "cell_type": "code",
   "execution_count": null,
   "metadata": {
    "collapsed": true
   },
   "outputs": [],
   "source": [
    "%%bash\n",
    "#sleep #seconds"
   ]
  },
  {
   "cell_type": "code",
   "execution_count": 2,
   "metadata": {
    "collapsed": false
   },
   "outputs": [],
   "source": [
    "%%bash\n",
    "ionice -c2 -n3 \\\n",
    "mothur \"#filter.seqs(vertical=t, \\\n",
    "fasta=/home/chantal/RNASIP/data/silva_ref_aln_mothur.fasta, \\\n",
    "processors=10)\" > /dev/null"
   ]
  },
  {
   "cell_type": "code",
   "execution_count": null,
   "metadata": {
    "collapsed": false
   },
   "outputs": [],
   "source": [
    "%%bash\n",
    "ionice -c2 -n3 \\\n",
    "mothur \"#align.seqs(candidate=data/tmp/maxee1.0.noN.unique.fasta, \\\n",
    "template=/home/chantal/RNASIP/data/tmp/db/silva_ref_aln_mothur.fasta, \\\n",
    "processors=15, \\\n",
    "flip=T)\" > /dev/null"
   ]
  },
  {
   "cell_type": "markdown",
   "metadata": {},
   "source": [
    "#### We can filter out vertical gaps..."
   ]
  },
  {
   "cell_type": "code",
   "execution_count": null,
   "metadata": {
    "collapsed": false
   },
   "outputs": [],
   "source": [
    "%%bash\n",
    "ionice -c2 -n3 \\\n",
    "mothur \"#filter.seqs(vertical=t, \\\n",
    "fasta=data/tmp/maxee1.0.noN.unique.align, \\\n",
    "processors=10)\" > /dev/null"
   ]
  },
  {
   "cell_type": "markdown",
   "metadata": {},
   "source": [
    "### Here is what our seqs look like."
   ]
  },
  {
   "cell_type": "code",
   "execution_count": null,
   "metadata": {
    "collapsed": false
   },
   "outputs": [],
   "source": [
    "%%bash\n",
    "ionice -c2 -n3 \\\n",
    "mothur \"#summary.seqs(fasta=data/tmp/maxee1.0.noN.unique.filter.fasta, \\\n",
    "processors=20, \\\n",
    "name=data/tmp/maxee1.0.noN.names)\" "
   ]
  },
  {
   "cell_type": "markdown",
   "metadata": {},
   "source": [
    "### Removing homopolymers (larger than 8) and screen out sequences that don't align to amplicon region"
   ]
  },
  {
   "cell_type": "code",
   "execution_count": 9,
   "metadata": {
    "collapsed": false
   },
   "outputs": [],
   "source": [
    "%%bash\n",
    "ionice -c2 -n3 \\\n",
    "mothur \"#screen.seqs(fasta=data/tmp/maxee1.0.noN.unique.filter.fasta, \\\n",
    "processors=10, \\\n",
    "name=data/tmp/maxee1.0.noN.names, \\\n",
    "group=data/group_file.txt, \\\n",
    "start=337, \\\n",
    "end=1272, \\\n",
    "maxhomop=8, minlength=252)\" > /dev/null"
   ]
  },
  {
   "cell_type": "code",
   "execution_count": 10,
   "metadata": {
    "collapsed": false
   },
   "outputs": [],
   "source": [
    "%%bash\n",
    "ionice -c2 -n3 \\\n",
    "mothur \"#filter.seqs(fasta=data/tmp/maxee1.0.noN.unique.filter.good.fasta, \\\n",
    "processors=10, \\\n",
    "vertical=T)\" > /dev/null"
   ]
  },
  {
   "cell_type": "code",
   "execution_count": 19,
   "metadata": {
    "collapsed": false
   },
   "outputs": [
    {
     "name": "stdout",
     "output_type": "stream",
     "text": [
      "\u001b[H\u001b[2J\n",
      "\n",
      "\n",
      "\n",
      "\n",
      "\n",
      "mothur v.1.32.1\n",
      "Last updated: 10/16/2013\n",
      "\n",
      "by\n",
      "Patrick D. Schloss\n",
      "\n",
      "Department of Microbiology & Immunology\n",
      "University of Michigan\n",
      "pschloss@umich.edu\n",
      "http://www.mothur.org\n",
      "\n",
      "When using, please cite:\n",
      "Schloss, P.D., et al., Introducing mothur: Open-source, platform-independent, community-supported software for describing and comparing microbial communities. Appl Environ Microbiol, 2009. 75(23):7537-41.\n",
      "\n",
      "Distributed under the GNU General Public License\n",
      "\n",
      "Type 'help()' for information on the commands that are available\n",
      "\n",
      "Type 'quit()' to exit program\n",
      "\n",
      "\n",
      "\n",
      "mothur > summary.seqs(fasta=data/tmp/maxee1.0.noN.unique.filter.good.filter.fasta, name=data/tmp/maxee1.0.noN.names)\n",
      "\n",
      "Using 1 processors.\n",
      "[ERROR]: '13X.PTH.D1.R4_Frac15_0' is not in your name or count file, please correct.\n",
      "\n",
      "mothur > quit()\n"
     ]
    }
   ],
   "source": [
    "%%bash\n",
    "ionice -c2 -n3 \\\n",
    "mothur \"#summary.seqs(fasta=data/tmp/maxee1.0.noN.unique.filter.good.filter.fasta, \\\n",
    "name=data/tmp/maxee1.0.noN.names)\""
   ]
  },
  {
   "cell_type": "markdown",
   "metadata": {},
   "source": [
    "# Chimera Checking w Uchime (when assigning OTUs- in other notebook)"
   ]
  },
  {
   "cell_type": "markdown",
   "metadata": {},
   "source": [
    "#### Expand data, remove gaps, and copy into data directory"
   ]
  },
  {
   "cell_type": "code",
   "execution_count": 18,
   "metadata": {
    "collapsed": false
   },
   "outputs": [
    {
     "name": "stdout",
     "output_type": "stream",
     "text": [
      "\u001b[H\u001b[2J\n",
      "\n",
      "\n",
      "\n",
      "\n",
      "\n",
      "mothur v.1.32.1\n",
      "Last updated: 10/16/2013\n",
      "\n",
      "by\n",
      "Patrick D. Schloss\n",
      "\n",
      "Department of Microbiology & Immunology\n",
      "University of Michigan\n",
      "pschloss@umich.edu\n",
      "http://www.mothur.org\n",
      "\n",
      "When using, please cite:\n",
      "Schloss, P.D., et al., Introducing mothur: Open-source, platform-independent, community-supported software for describing and comparing microbial communities. Appl Environ Microbiol, 2009. 75(23):7537-41.\n",
      "\n",
      "Distributed under the GNU General Public License\n",
      "\n",
      "Type 'help()' for information on the commands that are available\n",
      "\n",
      "Type 'quit()' to exit program\n",
      "\n",
      "\n",
      "\n",
      "mothur > deunique.seqs(fasta=data/tmp/maxee1.0.noN.unique.filter.good.filter.fasta, name=data/tmp/maxee1.0.noN.good.names)\n",
      "[ERROR]: data/tmp/maxee1.0.noN.good.names is blank, aborting.\n",
      "You have no current namefile and the name parameter is required.\n",
      "[ERROR]: did not complete deunique.seqs.\n",
      "\n",
      "mothur > quit()\n"
     ]
    }
   ],
   "source": [
    "%%bash\n",
    "ionice -c2 -n3 \\\n",
    "mothur \"#deunique.seqs(fasta=data/tmp/maxee1.0.noN.unique.filter.good.filter.fasta, \\\n",
    "name=data/tmp/maxee1.0.noN.good.names)\" "
   ]
  },
  {
   "cell_type": "code",
   "execution_count": 13,
   "metadata": {
    "collapsed": true
   },
   "outputs": [],
   "source": [
    "!sed '/>/! s/-//g;/>/! s/\\.//g' data/tmp/maxee1.0.noN.redundant.fasta > data/finalQC_pool3.fasta"
   ]
  },
  {
   "cell_type": "code",
   "execution_count": 14,
   "metadata": {
    "collapsed": false
   },
   "outputs": [
    {
     "name": "stdout",
     "output_type": "stream",
     "text": [
      ">13X.PTH.D1.R4_Frac15_0\r\n",
      "TACGGAGGGAGCTAGCGTTGTGCTGGATGACTGGGCGTAAAGCGCACGTAGGCGGAACAGAAAGTCAGAGGTGACATCCCAGGGCTCAACCTTGGAACTGCCTTTGAAACTCCTGTGCTTGAGGTCGGGAGAGGTGAGTGGAATTCCGAGGGTAGAGGTGGAATTCGTAGATATTCGGAGGAACACCAGGGGCGAAGGCGGCTCACTGGCTCGATACTGACGCTGAGGTGCGAAAGCGTGGGGAGCAAACAGG\r\n",
      ">13X.PTH.D1.R4_Frac7_1\r\n",
      "TACGTAGGTGGCAAGCGTTATCCGGACTTACGGGGCGTAGAGCGCGCGCAGGTGGTTGCTCAAGTCTGATGTGAAAGCCCACGGCTCAACCGTGGAGGGTCATTGGAAACTGGGAGACTTGAGTGCAGAAGAGGAAAGTGGAATTCCATGTGTAGCGGTGAAATGCGTAGAGATATGGAGGAACACCAGTGGCGAAGGCGACTTTCTGGTCTGTAACTGACACTGAGGCGCGAAAGCGTGGGGAGCAAACAGG\r\n",
      ">13X.NTH.D14.R4_Frac9_2\r\n",
      "GACGGAGGGTGCAAGCGGTGTTCGGACTTACTGGGCGTAAAGCGCGGGCAGGTGGTCTTTTAAGTCCTTTGTGAAATCCCGGGGCTCAACTCCGGATGTGCATAGGATACTGGAAGACTGGAGACTGGTAGAGGCGAGCGGAATTCCTGGTGTAGCGGTGGAATGCGTAGATATCAGGAAGAACACCAGTGGCGAAGGCGACTACCTGGCCTGTTCTTGACGCTGAGGCGCGAAAGCTAGGGGAGCAAACGGG\r\n",
      ">12C.NTH.D30.R4_Frac4_3\r\n",
      "AACGTCGGGTGCAAGCGTTAATCGGAAGTACTGGGCGTAAAGCGAGCGCAGGCGGTCTTGCAAGACAGATGTGAAATCCCCGGGCTTCGCCTGGGAACTGCATTTGTGACTGCAAGGCTGGAGTGCGGCAGAGGGGGATGGAATTCCAGGTGTAGCAGTGAAATGCGTAGCGATCTGGAGGAACACCGATGGCGAAGGCAGCCCCCTGGGCTAACACTGACGCTCATGCACGAAAGCGTGGGGAGCAAACAGG\r\n",
      ">13C.PTH.D30.R4_Frac7_4\r\n",
      "TACGTAGGGTGCGAGCGTTAATCGGAATTGCTGGGCGTAAAGCGCGCGCAGGCGGTTCGCTGTGTCCGATGTGAAAGCCCCGGGCTCAACCTGGGAATGGCATGGGAAACTGGCGGGCTGGAGTGTGGCAGAGGGGGGTGGAATTCCGCGTGTAGCAGTGAAATGCGTAGAGATGCGGAGGAACACCGATGGCGAAGGCAGCCCCCTGGGCCAACACGGACGCTCAGGCACGCAAGCGTGGGGAGCAAACAGG\r\n"
     ]
    }
   ],
   "source": [
    "!head data/finalQC_pool3.fasta"
   ]
  },
  {
   "cell_type": "markdown",
   "metadata": {},
   "source": [
    "#### Total Number of QC'd sequences"
   ]
  },
  {
   "cell_type": "code",
   "execution_count": 16,
   "metadata": {
    "collapsed": false
   },
   "outputs": [
    {
     "name": "stdout",
     "output_type": "stream",
     "text": [
      "1752418\r\n"
     ]
    }
   ],
   "source": [
    "!grep -c \">\" data/finalQC_pool3.fasta"
   ]
  }
 ],
 "metadata": {
  "kernelspec": {
   "display_name": "Python 2",
   "language": "python",
   "name": "python2"
  },
  "language_info": {
   "codemirror_mode": {
    "name": "ipython",
    "version": 2
   },
   "file_extension": ".py",
   "mimetype": "text/x-python",
   "name": "python",
   "nbconvert_exporter": "python",
   "pygments_lexer": "ipython2",
   "version": "2.7.10"
  }
 },
 "nbformat": 4,
 "nbformat_minor": 0
}
