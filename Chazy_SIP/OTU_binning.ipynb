{
 "cells": [
  {
   "cell_type": "code",
   "execution_count": 22,
   "metadata": {
    "collapsed": false
   },
   "outputs": [],
   "source": [
    "# Imports a parser from cogent\n",
    "from cogent.parse.fasta import MinimalFastaParser as parse"
   ]
  },
  {
   "cell_type": "code",
   "execution_count": 2,
   "metadata": {
    "collapsed": false
   },
   "outputs": [],
   "source": [
    "# applies for the whole segment\n",
    "nprocs = 10"
   ]
  },
  {
   "cell_type": "code",
   "execution_count": 14,
   "metadata": {
    "collapsed": false
   },
   "outputs": [
    {
     "name": "stdout",
     "output_type": "stream",
     "text": [
      ">12C.NTH.D3.R4_Frac19_0\r\n",
      "TACGTAGGGGACGAGCGTTGTCCGGATTCATTGGGCGTAAAGCGCGCGTAGGCGGCTCGGAAAGTCGGTCGTGAAATGCCGGGGCTCAACCCCGGGACTGCGTCCGATACTTCCGGGCTGGAGGTAGGTAGGGGAGATCGGAATTCCTGGTGTAGCGGTGAAATGCGCAGATATCAGGAGGAACACCGGTGGCGAAGGCGGGTCTCTGGGCCGATACTGACGCTGAGGAGCGAAAGCGTGGGGAGCGAACAGG\r\n",
      ">12C.PTH.D1.R4_Frac11_3287776\r\n",
      "TACGTAGGGGACGAGCGTTGTCCGGATTCATTGGGCGTAAAGCGCGCGTAGGCGGCTCGGAAAGTCGGTCGTGAAATGCCGGGGCTCAACCCCGGGACTGCGTCCGATACTTCCGGGCTGGAGGTAGGTAGGGGAGATCGGAATTCCTGGTGTAGCGGTGAAATGCGCAGATATCAGGAGGAACACCGGTGGCGAAGGCGGGTCTCTGGGCCGATACTGACGCTGAGGAGCGAAAGCGTGGGGAGCGAACAGG\r\n",
      ">12C.PTH.D1.R4_Frac23_1\r\n",
      "TACGGAGGGGGCTAGCGTTGTTCGGAATTACTGGGCGTAAAGCGCACGTAGGCGGCTTTGTAAGTTAGAGGTGAAAGCCCAGGGCTCAACCCTGGAATTGCCTTTAAGACTGCATCGCTTGAACATCGGAGAGGTAAGTGGAATTCCGAGTGTAGAGGTGAAATTCGTAGATATTCGGAAGAACACCAGTGGCGAAGGCGACTTACTGGACGATTGTTGACGCTGAGGTGCGAAAGCGTGGGGAGCAAACAGG\r\n",
      ">12C.NTH.D3.R4_Frac28_2106\r\n",
      "TACGGAGGGGGCTAGCGTTGTTCGGAATTACTGGGCGTAAAGCGCACGTAGGCGGCTTTGTAAGTTAGAGGTGAAAGCCCAGGGCTCAACCCTGGAATTGCCTTTAAGACTGCATCGCTTGAACATCGGAGAGGTAAGTGGAATTCCGAGTGTAGAGGTGAAATTCGTAGATATTCGGAAGAACACCAGTGGCGAAGGCGACTTACTGGACGATTGTTGACGCTGAGGTGCGAAAGCGTGGGGAGCAAACAGG\r\n",
      ">12C.NTH.D3.R4_Frac22_2974\r\n",
      "TACGGAGGGGGCTAGCGTTGTTCGGAATTACTGGGCGTAAAGCGCACGTAGGCGGCTTTGTAAGTTAGAGGTGAAAGCCCAGGGCTCAACCCTGGAATTGCCTTTAAGACTGCATCGCTTGAACATCGGAGAGGTAAGTGGAATTCCGAGTGTAGAGGTGAAATTCGTAGATATTCGGAAGAACACCAGTGGCGAAGGCGACTTACTGGACGATTGTTGACGCTGAGGTGCGAAAGCGTGGGGAGCAAACAGG\r\n"
     ]
    }
   ],
   "source": [
    "# Checking out data file.\n",
    "# This file was created using the QC_basic notebook.\n",
    "!head data/finalQC.fasta"
   ]
  },
  {
   "cell_type": "code",
   "execution_count": 15,
   "metadata": {
    "collapsed": false
   },
   "outputs": [],
   "source": [
    "!sed 's/R4_/R4\\./g' data/finalQC.fasta > data/finalQC_nound.fasta"
   ]
  },
  {
   "cell_type": "code",
   "execution_count": 16,
   "metadata": {
    "collapsed": false
   },
   "outputs": [
    {
     "name": "stdout",
     "output_type": "stream",
     "text": [
      ">12C.NTH.D3.R4.Frac19_0\r\n",
      "TACGTAGGGGACGAGCGTTGTCCGGATTCATTGGGCGTAAAGCGCGCGTAGGCGGCTCGGAAAGTCGGTCGTGAAATGCCGGGGCTCAACCCCGGGACTGCGTCCGATACTTCCGGGCTGGAGGTAGGTAGGGGAGATCGGAATTCCTGGTGTAGCGGTGAAATGCGCAGATATCAGGAGGAACACCGGTGGCGAAGGCGGGTCTCTGGGCCGATACTGACGCTGAGGAGCGAAAGCGTGGGGAGCGAACAGG\r\n",
      ">12C.PTH.D1.R4.Frac11_3287776\r\n",
      "TACGTAGGGGACGAGCGTTGTCCGGATTCATTGGGCGTAAAGCGCGCGTAGGCGGCTCGGAAAGTCGGTCGTGAAATGCCGGGGCTCAACCCCGGGACTGCGTCCGATACTTCCGGGCTGGAGGTAGGTAGGGGAGATCGGAATTCCTGGTGTAGCGGTGAAATGCGCAGATATCAGGAGGAACACCGGTGGCGAAGGCGGGTCTCTGGGCCGATACTGACGCTGAGGAGCGAAAGCGTGGGGAGCGAACAGG\r\n",
      ">12C.PTH.D1.R4.Frac23_1\r\n",
      "TACGGAGGGGGCTAGCGTTGTTCGGAATTACTGGGCGTAAAGCGCACGTAGGCGGCTTTGTAAGTTAGAGGTGAAAGCCCAGGGCTCAACCCTGGAATTGCCTTTAAGACTGCATCGCTTGAACATCGGAGAGGTAAGTGGAATTCCGAGTGTAGAGGTGAAATTCGTAGATATTCGGAAGAACACCAGTGGCGAAGGCGACTTACTGGACGATTGTTGACGCTGAGGTGCGAAAGCGTGGGGAGCAAACAGG\r\n",
      ">12C.NTH.D3.R4.Frac28_2106\r\n",
      "TACGGAGGGGGCTAGCGTTGTTCGGAATTACTGGGCGTAAAGCGCACGTAGGCGGCTTTGTAAGTTAGAGGTGAAAGCCCAGGGCTCAACCCTGGAATTGCCTTTAAGACTGCATCGCTTGAACATCGGAGAGGTAAGTGGAATTCCGAGTGTAGAGGTGAAATTCGTAGATATTCGGAAGAACACCAGTGGCGAAGGCGACTTACTGGACGATTGTTGACGCTGAGGTGCGAAAGCGTGGGGAGCAAACAGG\r\n",
      ">12C.NTH.D3.R4.Frac22_2974\r\n",
      "TACGGAGGGGGCTAGCGTTGTTCGGAATTACTGGGCGTAAAGCGCACGTAGGCGGCTTTGTAAGTTAGAGGTGAAAGCCCAGGGCTCAACCCTGGAATTGCCTTTAAGACTGCATCGCTTGAACATCGGAGAGGTAAGTGGAATTCCGAGTGTAGAGGTGAAATTCGTAGATATTCGGAAGAACACCAGTGGCGAAGGCGACTTACTGGACGATTGTTGACGCTGAGGTGCGAAAGCGTGGGGAGCAAACAGG\r\n"
     ]
    }
   ],
   "source": [
    "!head data/finalQC_nound.fasta"
   ]
  },
  {
   "cell_type": "code",
   "execution_count": 17,
   "metadata": {
    "collapsed": false
   },
   "outputs": [],
   "source": [
    "%%bash\n",
    "# Running the seq separation on mothur instead\n",
    "\n",
    "mothur \"#unique.seqs(fasta=data/finalQC_nound.fasta)\" > /dev/null"
   ]
  },
  {
   "cell_type": "code",
   "execution_count": 23,
   "metadata": {
    "collapsed": false
   },
   "outputs": [],
   "source": [
    "# Making a dictionary of the names files, splitting it into the first (ID) and second (commas list of all seqs in it)\n",
    "# Then it counts their lengths and saves it in the dictionary\n",
    "\n",
    "counts = {}\n",
    "\n",
    "with open(\"data/finalQC_nound.names\") as f:\n",
    "    for line in f:\n",
    "        seedID, seqIDs = line.split(\"\\t\")\n",
    "        count = len(seqIDs.split(\",\"))\n",
    "        counts[seedID] = count        "
   ]
  },
  {
   "cell_type": "code",
   "execution_count": 24,
   "metadata": {
    "collapsed": false
   },
   "outputs": [],
   "source": [
    "# Adds the counts from this dictionary to our finalQC.unique file so it looks like a usearch file with \"size=XXX\"\n",
    "\n",
    "with open(\"data/finalQC.unique.usearch_names.fasta\", \"w\") as f:\n",
    "    for n, s in parse(open(\"data/finalQC_nound.unique.fasta\")):\n",
    "        f.write(\">%s;size=%s;\\n%s\\n\"%(n,counts[n],s))  "
   ]
  },
  {
   "cell_type": "code",
   "execution_count": 25,
   "metadata": {
    "collapsed": false
   },
   "outputs": [
    {
     "name": "stdout",
     "output_type": "stream",
     "text": [
      ">12C.NTH.D3.R4.Frac19_0;size=2;\r\n",
      "TACGTAGGGGACGAGCGTTGTCCGGATTCATTGGGCGTAAAGCGCGCGTAGGCGGCTCGGAAAGTCGGTCGTGAAATGCCGGGGCTCAACCCCGGGACTGCGTCCGATACTTCCGGGCTGGAGGTAGGTAGGGGAGATCGGAATTCCTGGTGTAGCGGTGAAATGCGCAGATATCAGGAGGAACACCGGTGGCGAAGGCGGGTCTCTGGGCCGATACTGACGCTGAGGAGCGAAAGCGTGGGGAGCGAACAGG\r\n",
      ">12C.PTH.D1.R4.Frac23_1;size=2234;\r\n",
      "TACGGAGGGGGCTAGCGTTGTTCGGAATTACTGGGCGTAAAGCGCACGTAGGCGGCTTTGTAAGTTAGAGGTGAAAGCCCAGGGCTCAACCCTGGAATTGCCTTTAAGACTGCATCGCTTGAACATCGGAGAGGTAAGTGGAATTCCGAGTGTAGAGGTGAAATTCGTAGATATTCGGAAGAACACCAGTGGCGAAGGCGACTTACTGGACGATTGTTGACGCTGAGGTGCGAAAGCGTGGGGAGCAAACAGG\r\n",
      ">12C.PTH.D1.R4.Frac21_2;size=1;\r\n",
      "TACAGAGGGGGCAAGCGTTGTTCGGAATTACTGGGCGTAAAGGGCGCGTAGGCGGCCTCCTAAGTCGGACGTGAAATCCCCGAGCTCAACTCGGGAACTGCGTCCGATACTGGTTGGCTTGAATCCGGGAGAGGGATGCGGAATTCCAGGTGTAGCGGTGAAATGCGTAGATATCTGGAGGAACACCGGTGGCGAAGGCGGCATCCTGGACCGGTATTGACGCTGAGGCGCGAAAGCCAGGGGAGCAAACGGG\r\n",
      ">13C.NTH.D14.R4.Frac9_3;size=9;\r\n",
      "TACGTAGGAGGCAAGCGTTGTCCGGATTTATTGGGCGTAAAGCGCACGCAGGCGGTCGTATCAGTCCAGGGTGACAGTTTCCGGCTTAACCGGAAAAGGACTCTGGAGACGGCACGACTTGAGGGCTTCAGAGGGATGTGGAATTCCAGGTGGAGTGGTGAAATGCGTAGAGATCTGGAAGAACACCAAAGGCGAAGGCAACATCCTGGGGAGTCACTGACGCTCGGGTGCGAAAGCTAGGGGAGCGAACGGG\r\n",
      ">13X.NTH.D3.R4.Frac11_4;size=5;\r\n",
      "TACGTAGGCACCAAGCGTTGTCCGGATTTATTGGGCGTAAAGAGCTTGTAGGCGGTTCGGTTAGTCGGGTGTGAAACCTCTGGGCTCAACTCAGAGACGCCACCCGATACTGCTGTGACTAGAGTGCGGTAGGGGAGCGGGGAATTCCTGGTGTAGCGGTGAAATGCGCAGATATCAGGAGGAACACCAGTGGCGAAGGCGCCGCTCTGGGCCGTAACTGACGCTGAGAAGCGAAAGCGTGGGGAGCAAACAGG\r\n"
     ]
    }
   ],
   "source": [
    "!head data/finalQC.unique.usearch_names.fasta"
   ]
  },
  {
   "cell_type": "code",
   "execution_count": 8,
   "metadata": {
    "collapsed": false
   },
   "outputs": [
    {
     "name": "stdout",
     "output_type": "stream",
     "text": [
      "2.4G\tdata/finalQC.fasta\r\n"
     ]
    }
   ],
   "source": [
    "# Chuck looking to see how many Gb this file is.\n",
    "!du -h data/finalQC.fasta"
   ]
  },
  {
   "cell_type": "code",
   "execution_count": 26,
   "metadata": {
    "collapsed": false
   },
   "outputs": [
    {
     "name": "stdout",
     "output_type": "stream",
     "text": [
      "usearch v7.0.1090_i86linux32, 4.0Gb RAM (132Gb total), 40 cores\n",
      "(C) Copyright 2013 Robert C. Edgar, all rights reserved.\n",
      "http://drive5.com/usearch\n",
      "\n",
      "Licensed to: chuck.peperanney@gmail.com\n",
      "\n",
      "00:00 2.1Mb Reading data/finalQC.unique.usearch_names.fasta, 909Mb\n",
      "00:01 912Mb 3113073 (3.1M) seqs, min 253, avg 253, max 424nt\n",
      "00:03 949Mb Getting sizes\n",
      "00:06 974Mb Sorting 595491 sequences\n",
      "00:08 976Mb  100.0% Writing data/finalQC.unique_sorted.fasta\n"
     ]
    }
   ],
   "source": [
    "# Sequences are sorted by size\n",
    "# Here the size of clusters - we are excluding the singletons here\n",
    "# You would change minsize to 1 if you wanted to include singletons\n",
    "# Or, you know, just not do this step.\n",
    "# But you should just get rid of them.\n",
    "!usearch -sortbysize data/finalQC.unique.usearch_names.fasta -output data/finalQC.unique_sorted.fasta -minsize 2"
   ]
  },
  {
   "cell_type": "code",
   "execution_count": 27,
   "metadata": {
    "collapsed": false
   },
   "outputs": [
    {
     "name": "stdout",
     "output_type": "stream",
     "text": [
      ">13C.NTH.D14.R4.Frac25_41;size=306320;\r\n",
      "TACGTAGGGCGCAAGCGTTATCCGGAATTATTGGGCGTAAAGAGCTCGTAGGCGGTTTGTCGCGTCTGCCGTGAAAGTCC\r\n",
      "GGGGCTCAACTCCGGATCTGCGGTGGGTACGGGCAGACTAGAGTGATGTAGGGGAGACTGGAATTCCTGGTGTAGCGGTG\r\n",
      "AAATGCGCAGATATCAGGAGGAACACCGATGGCGAAGGCAGGTCTCTGGGCATTAACTGACGCTGAGGAGCGAAAGCATG\r\n",
      "GGGAGCGAACAGG\r\n",
      ">13C.PTH.D14.R4.Frac25_12;size=79741;\r\n",
      "TACGAAGGGTGCAAGCGTTAATCGGAATTACTGGGCGTAAAGCGCGCGTAGGTGGTTCAGCAAGTTGGATGTGAAAGCCC\r\n",
      "TGGGCTCAACCTGGGAACTGCATCCAAAACTACTGAGCTAGAGTACGGTAGAGGGTAGTGGAATTTCCTGTGTAGCGGTG\r\n",
      "AAATGCGTAGATATAGGAAGGAACACCAGTGGCGAAGGCGACTACCTGGACTGATACTGACACTGAGGTGCGAAAGCGTG\r\n",
      "GGGAGCAAACAGG\r\n"
     ]
    }
   ],
   "source": [
    "# Checking data\n",
    "# You can see here, the first two sequences we saw above are now gone.\n",
    "!head data/finalQC.unique_sorted.fasta"
   ]
  },
  {
   "cell_type": "code",
   "execution_count": 28,
   "metadata": {
    "collapsed": false
   },
   "outputs": [
    {
     "name": "stdout",
     "output_type": "stream",
     "text": [
      "usearch v7.0.1090_i86linux32, 4.0Gb RAM (132Gb total), 40 cores\n",
      "(C) Copyright 2013 Robert C. Edgar, all rights reserved.\n",
      "http://drive5.com/usearch\n",
      "\n",
      "Licensed to: chuck.peperanney@gmail.com\n",
      "\n",
      "09:34 883Mb  100.0% 16509 OTUs\n",
      "                              \n",
      "Input seqs  595491 (595.5k)\n",
      "      OTUs  16509 (16.5k)\n",
      "   Members  321993 (322.0k)\n",
      "  Chimeras  256989 (257.0k)\n",
      "   Max mem  883Mb\n",
      "      Time  09:34\n",
      "Throughput  1037.4 seqs/sec.\n",
      "\n"
     ]
    }
   ],
   "source": [
    "# This is the clustering command.\n",
    "# Default is 97% minimum ID.\n",
    "# Not recommended to use more than 97%.\n",
    "# Creates the centroids, or \"seeds\"\n",
    "# Then you can take them out\n",
    "!usearch -cluster_otus data/finalQC.unique_sorted.fasta -otus data/otus.fasta"
   ]
  },
  {
   "cell_type": "code",
   "execution_count": 29,
   "metadata": {
    "collapsed": false
   },
   "outputs": [],
   "source": [
    "# Making another file\n",
    "# Figure this out (what is this?)\n",
    "# This is a script (fasta_number.py) that replaces fasta names with XXX1, XXX2, etc.\n",
    "# In our case, it is replacing the names with OTU.1, OTU.2, etc., and outputs it into a file called otusn.fasta\n",
    "!/opt/bioinfo/edgar_python_scripts/fasta_number.py data/otus.fasta OTU. > data/otusn.fasta"
   ]
  },
  {
   "cell_type": "code",
   "execution_count": 30,
   "metadata": {
    "collapsed": false
   },
   "outputs": [
    {
     "name": "stdout",
     "output_type": "stream",
     "text": [
      ">OTU.1\r\n",
      "TACGTAGGGCGCAAGCGTTATCCGGAATTATTGGGCGTAAAGAGCTCGTAGGCGGTTTGTCGCGTCTGCCGTGAAAGTCC\r\n",
      "GGGGCTCAACTCCGGATCTGCGGTGGGTACGGGCAGACTAGAGTGATGTAGGGGAGACTGGAATTCCTGGTGTAGCGGTG\r\n",
      "AAATGCGCAGATATCAGGAGGAACACCGATGGCGAAGGCAGGTCTCTGGGCATTAACTGACGCTGAGGAGCGAAAGCATG\r\n",
      "GGGAGCGAACAGG\r\n",
      ">OTU.2\r\n",
      "TACGAAGGGTGCAAGCGTTAATCGGAATTACTGGGCGTAAAGCgcgcgTAGGTGGTTCAGCAAGTTGGATGTGAAAGCCC\r\n",
      "TGGGCTCAACCTGGGAACTGCATCCAAAACTACTGAGCTAGAGTACGGTAGAGGGTAGTGGAATTTCCTGTGTAGCGGTG\r\n",
      "AAATGCGTAGATATAGGAAGGAACACCAGTGGCGAAGGCGACTACCTGGACTGATACTGACACTGAGGTGCGAAAGCGTG\r\n",
      "GGGAGCAAACAGG\r\n"
     ]
    }
   ],
   "source": [
    "!head data/otusn.fasta"
   ]
  },
  {
   "cell_type": "markdown",
   "metadata": {},
   "source": [
    "### Removing Chloroplast, Eukaryal, and Archaeal sequences"
   ]
  },
  {
   "cell_type": "code",
   "execution_count": 31,
   "metadata": {
    "collapsed": false
   },
   "outputs": [],
   "source": [
    "# You do need to assign taxonomy in order to pull out the Euks., etc.\n",
    "# I could cp these files from the server to wherever I need them.\n",
    "# Input is your fasta file\n",
    "# Output is a fasta with taxonomy assinged (still working with unique seqs)\n",
    "# This didn't work first, because Chuck had to delete a \"jobs\" folder in the tmp directory.\n",
    "\n",
    "!parallel_assign_taxonomy_uclust.py \\\n",
    "-r /home/chantal/RNASIP/data/databases/Silva_111_post/no_ambiguous_bases_files/97_Silva_111_rep_set_no_ambig.fasta \\\n",
    "-t /home/chantal/RNASIP/data/databases/Silva_111_post/taxonomy/Silva_111_taxa_map_full.txt \\\n",
    "-O 10 \\\n",
    "-i data/otusn.fasta \\\n",
    "-o data/otusn_tax"
   ]
  },
  {
   "cell_type": "code",
   "execution_count": 32,
   "metadata": {
    "collapsed": false
   },
   "outputs": [],
   "source": [
    "# This makes a file of what we want to remove\n",
    "# Could change this to pull out different groups.\n",
    "# These primers actually had good Archaeal targets - so, it would be okay to include them.\n",
    "!egrep \"Chloroplast|Eukaryota|Archaea|mitochondria\" \\\n",
    "data/otusn_tax/otusn_tax_assignments.txt \\\n",
    "| awk '{print $1}' > data/to_remove_tax.accnos"
   ]
  },
  {
   "cell_type": "code",
   "execution_count": 33,
   "metadata": {
    "collapsed": false
   },
   "outputs": [
    {
     "name": "stdout",
     "output_type": "stream",
     "text": [
      "171 data/to_remove_tax.accnos\r\n"
     ]
    }
   ],
   "source": [
    "# wc is number of lines of the taxa that will be removed\n",
    "!wc -l data/to_remove_tax.accnos"
   ]
  },
  {
   "cell_type": "code",
   "execution_count": 34,
   "metadata": {
    "collapsed": false
   },
   "outputs": [
    {
     "name": "stdout",
     "output_type": "stream",
     "text": [
      "OTU.633\r\n",
      "OTU.1418\r\n",
      "OTU.191\r\n",
      "OTU.374\r\n",
      "OTU.575\r\n",
      "OTU.1188\r\n",
      "OTU.289\r\n",
      "OTU.140\r\n",
      "OTU.57\r\n",
      "OTU.51\r\n"
     ]
    }
   ],
   "source": [
    "# Looking at what you're removing\n",
    "!head data/to_remove_tax.accnos"
   ]
  },
  {
   "cell_type": "code",
   "execution_count": 35,
   "metadata": {
    "collapsed": false
   },
   "outputs": [
    {
     "name": "stdout",
     "output_type": "stream",
     "text": [
      "\u001b[H\u001b[2J\n",
      "\n",
      "\n",
      "\n",
      "\n",
      "\n",
      "mothur v.1.32.1\n",
      "Last updated: 10/16/2013\n",
      "\n",
      "by\n",
      "Patrick D. Schloss\n",
      "\n",
      "Department of Microbiology & Immunology\n",
      "University of Michigan\n",
      "pschloss@umich.edu\n",
      "http://www.mothur.org\n",
      "\n",
      "When using, please cite:\n",
      "Schloss, P.D., et al., Introducing mothur: Open-source, platform-independent, community-supported software for describing and comparing microbial communities. Appl Environ Microbiol, 2009. 75(23):7537-41.\n",
      "\n",
      "Distributed under the GNU General Public License\n",
      "\n",
      "Type 'help()' for information on the commands that are available\n",
      "\n",
      "Type 'quit()' to exit program\n",
      "\n",
      "\n",
      "\n",
      "mothur > remove.seqs(fasta=data/otusn.fasta, accnos=data/to_remove_tax.accnos)\n",
      "Removed 171 sequences from your fasta file.\n",
      "\n",
      "Output File Names: \n",
      "data/otusn.pick.fasta\n",
      "\n",
      "\n",
      "mothur > quit()\n"
     ]
    }
   ],
   "source": [
    "%%bash\n",
    "# Remove.seqs command will actually remove these taxa\n",
    "mothur \"#remove.seqs(fasta=data/otusn.fasta, \\\n",
    "accnos=data/to_remove_tax.accnos)\" #> /dev/null"
   ]
  },
  {
   "cell_type": "markdown",
   "metadata": {},
   "source": [
    "### Mapping Reads"
   ]
  },
  {
   "cell_type": "code",
   "execution_count": 36,
   "metadata": {
    "collapsed": false
   },
   "outputs": [],
   "source": [
    "# Pulling out the sample identifier.\n",
    "# It is adding a portion to the finalQC file that has the barcode label.\n",
    "# Then we can use this later\n",
    "# Now we will see how these reads map to the defined centroids (after removing EuK, etc.)\n",
    "# Basically, we cut, cut, refined our fasta to make our OTU centroids.\n",
    "# THEN, we went back to our original QC'd total fasta file and will throw it all against these nicely defined seeds.\n",
    "# Anything that doesn't match, we won't keep.\n",
    "!awk -F\"_\" \\\n",
    "'BEGIN{OFS=\";\"}{ if ( substr($1,0,1) == \">\"){ print $0,\"barcodelabel=\",$1 } else { print $0 } }' \\\n",
    "data/finalQC_nound.fasta | \\\n",
    "sed 's/;>//' > data/finalQC_usearchfmt.fasta"
   ]
  },
  {
   "cell_type": "code",
   "execution_count": 37,
   "metadata": {
    "collapsed": false
   },
   "outputs": [
    {
     "name": "stdout",
     "output_type": "stream",
     "text": [
      ">12C.NTH.D3.R4.Frac19_0;barcodelabel=12C.NTH.D3.R4.Frac19\r\n",
      "TACGTAGGGGACGAGCGTTGTCCGGATTCATTGGGCGTAAAGCGCGCGTAGGCGGCTCGGAAAGTCGGTCGTGAAATGCCGGGGCTCAACCCCGGGACTGCGTCCGATACTTCCGGGCTGGAGGTAGGTAGGGGAGATCGGAATTCCTGGTGTAGCGGTGAAATGCGCAGATATCAGGAGGAACACCGGTGGCGAAGGCGGGTCTCTGGGCCGATACTGACGCTGAGGAGCGAAAGCGTGGGGAGCGAACAGG\r\n",
      ">12C.PTH.D1.R4.Frac11_3287776;barcodelabel=12C.PTH.D1.R4.Frac11\r\n",
      "TACGTAGGGGACGAGCGTTGTCCGGATTCATTGGGCGTAAAGCGCGCGTAGGCGGCTCGGAAAGTCGGTCGTGAAATGCCGGGGCTCAACCCCGGGACTGCGTCCGATACTTCCGGGCTGGAGGTAGGTAGGGGAGATCGGAATTCCTGGTGTAGCGGTGAAATGCGCAGATATCAGGAGGAACACCGGTGGCGAAGGCGGGTCTCTGGGCCGATACTGACGCTGAGGAGCGAAAGCGTGGGGAGCGAACAGG\r\n",
      ">12C.PTH.D1.R4.Frac23_1;barcodelabel=12C.PTH.D1.R4.Frac23\r\n",
      "TACGGAGGGGGCTAGCGTTGTTCGGAATTACTGGGCGTAAAGCGCACGTAGGCGGCTTTGTAAGTTAGAGGTGAAAGCCCAGGGCTCAACCCTGGAATTGCCTTTAAGACTGCATCGCTTGAACATCGGAGAGGTAAGTGGAATTCCGAGTGTAGAGGTGAAATTCGTAGATATTCGGAAGAACACCAGTGGCGAAGGCGACTTACTGGACGATTGTTGACGCTGAGGTGCGAAAGCGTGGGGAGCAAACAGG\r\n",
      ">12C.NTH.D3.R4.Frac28_2106;barcodelabel=12C.NTH.D3.R4.Frac28\r\n",
      "TACGGAGGGGGCTAGCGTTGTTCGGAATTACTGGGCGTAAAGCGCACGTAGGCGGCTTTGTAAGTTAGAGGTGAAAGCCCAGGGCTCAACCCTGGAATTGCCTTTAAGACTGCATCGCTTGAACATCGGAGAGGTAAGTGGAATTCCGAGTGTAGAGGTGAAATTCGTAGATATTCGGAAGAACACCAGTGGCGAAGGCGACTTACTGGACGATTGTTGACGCTGAGGTGCGAAAGCGTGGGGAGCAAACAGG\r\n",
      ">12C.NTH.D3.R4.Frac22_2974;barcodelabel=12C.NTH.D3.R4.Frac22\r\n",
      "TACGGAGGGGGCTAGCGTTGTTCGGAATTACTGGGCGTAAAGCGCACGTAGGCGGCTTTGTAAGTTAGAGGTGAAAGCCCAGGGCTCAACCCTGGAATTGCCTTTAAGACTGCATCGCTTGAACATCGGAGAGGTAAGTGGAATTCCGAGTGTAGAGGTGAAATTCGTAGATATTCGGAAGAACACCAGTGGCGAAGGCGACTTACTGGACGATTGTTGACGCTGAGGTGCGAAAGCGTGGGGAGCAAACAGG\r\n"
     ]
    }
   ],
   "source": [
    "!head data/finalQC_usearchfmt.fasta"
   ]
  },
  {
   "cell_type": "code",
   "execution_count": 38,
   "metadata": {
    "collapsed": false
   },
   "outputs": [
    {
     "name": "stdout",
     "output_type": "stream",
     "text": [
      "usearch v7.0.1090_i86linux32, 4.0Gb RAM (132Gb total), 40 cores\n",
      "(C) Copyright 2013 Robert C. Edgar, all rights reserved.\n",
      "http://drive5.com/usearch\n",
      "\n",
      "Licensed to: chuck.peperanney@gmail.com\n",
      "\n",
      "00:00  19Mb Reading data/otusn.fasta, 4.4Mb\n",
      "00:00  23Mb 16509 (16.5k) seqs, min 253, avg 253, max 340nt\n",
      "00:00  24Mb  100.0% Masking\n",
      "00:00  24Mb  100.0% Word stats\n",
      "00:00  41Mb  100.0% Building slots\n",
      "00:00  41Mb  100.0% Build index\n",
      "01:18 208Mb  100.0% Searching, 77.0% matched\n"
     ]
    }
   ],
   "source": [
    "# This is where the actual OTUs are being assigned. We choose 97% sequence ID threshold here.\n",
    "# This might take a while - like 5 minutes\n",
    "# Depending ont he clustering algorithm, like pairwise... it would take, like, days on the same number of processors.\n",
    "# This is why usearch (centroid-based) is so much better\n",
    "# But is it more biologically relevant? ... maybe, maybe not.\n",
    "# Edgar is showing it's not that bad.\n",
    "\n",
    "# We take our total QC data (modified above to have the sample ID extracted)\n",
    "# We compare it to the otusn.pick.fasta database we made above\n",
    "# We produce a readmap.uc file which tells us how the reads from our finalQC file map to the otusn seed database.\n",
    "\n",
    "!usearch -usearch_global data/finalQC_usearchfmt.fasta \\\n",
    "-db data/otusn.fasta \\\n",
    "-strand plus -id 0.97 \\\n",
    "-uc data/readmap.uc \\\n",
    "-threads 15"
   ]
  },
  {
   "cell_type": "code",
   "execution_count": 39,
   "metadata": {
    "collapsed": false
   },
   "outputs": [
    {
     "name": "stdout",
     "output_type": "stream",
     "text": [
      "data/readmap.uc 100.0%   \n"
     ]
    }
   ],
   "source": [
    "# Makes an OTU table\n",
    "# It will tell me the OTU ID, and then for all the samples, which OTUs it has sequences from.\n",
    "!python /opt/bioinfo/edgar_python_scripts/uc2otutab.py data/readmap.uc > data/otu_table.txt"
   ]
  },
  {
   "cell_type": "code",
   "execution_count": 40,
   "metadata": {
    "collapsed": false
   },
   "outputs": [],
   "source": [
    "# Issues with biom table formatting\n",
    "!if [ -f data/otu_table.biom ]; then rm data/otu_table.biom; fi #This is to mitigate a biom bug\n",
    "!biom convert -i data/otu_table.txt -o data/otu_table.biom --table-type \"otu table\""
   ]
  },
  {
   "cell_type": "code",
   "execution_count": 41,
   "metadata": {
    "collapsed": false
   },
   "outputs": [],
   "source": [
    "# Issues with biom table formatting\n",
    "!if [ -f data/otu_table_summary.txt ]; then rm data/otu_table_summary.txt; fi #This is to mitigate a biom bug\n",
    "!biom summarize-table -i data/otu_table.biom -o data/otu_table_summary.txt"
   ]
  },
  {
   "cell_type": "code",
   "execution_count": 42,
   "metadata": {
    "collapsed": false
   },
   "outputs": [
    {
     "name": "stdout",
     "output_type": "stream",
     "text": [
      "Num samples: 186\r\n",
      "Num observations: 16509\r\n",
      "Total count: 6729994\r\n",
      "Table density (fraction of non-zero values): 0.182\r\n",
      "Table md5 (unzipped): a64bef2a0f613202cf6b179159fbe6dd\r\n",
      "\r\n",
      "Counts/sample summary:\r\n",
      " Min: 28.0\r\n",
      " Max: 84508.0\r\n",
      " Median: 34809.500\r\n",
      " Mean: 36182.763\r\n",
      " Std. dev.: 11536.068\r\n",
      " Sample Metadata Categories: None provided\r\n",
      " Observation Metadata Categories: None provided\r\n",
      "\r\n",
      "Counts/sample detail:\r\n",
      " 12C.NTH.D3.R4.Frac9: 28.0\r\n",
      " 12C.NTH.D3.R4.Frac23: 12450.0\r\n",
      " 13X.PTH.D7.R4.Frac18: 18936.0\r\n",
      " 13X.NTH.D3.R4.Frac22: 18940.0\r\n",
      " 13C.PTH.D14.R4.Frac24: 19754.0\r\n",
      " 13X.PTH.D7.R4.Frac24: 19976.0\r\n",
      " 12C.PTH.D30.R4.Frac20: 20166.0\r\n",
      " 13C.NTH.D14.R4.Frac18: 20823.0\r\n",
      " 12C.PTH.D30.R4.Frac23: 21120.0\r\n",
      " 12C.PTH.D30.R4.Frac22: 21470.0\r\n",
      " 13C.NTH.D14.R4.Frac22: 21876.0\r\n",
      " 12C.PTH.D3.R4.Frac20: 21949.0\r\n",
      " 13X.NTH.D3.R4.Frac27: 22549.0\r\n",
      " 13X.PTH.D7.R4.Frac19: 22652.0\r\n",
      " 13X.PTH.D7.R4.Frac23: 22844.0\r\n",
      " 12C.PTH.D30.R4.Frac21: 23627.0\r\n",
      " 13C.PTH.D14.R4.Frac16: 23740.0\r\n",
      " 12C.NTH.D3.R4.Frac22: 23785.0\r\n",
      " 12C.PTH.D30.R4.Frac25: 24110.0\r\n",
      " 13C.PTH.D14.R4.Frac23: 24213.0\r\n",
      " 13C.PTH.D14.R4.Frac15: 24593.0\r\n",
      " 12C.PTH.D3.R4.Frac14: 24834.0\r\n",
      " 13C.NTH.D14.R4.Frac17: 25118.0\r\n",
      " 13C.PTH.D14.R4.Frac19: 25435.0\r\n",
      " 13C.NTH.D14.R4.Frac20: 25508.0\r\n",
      " 13X.NTH.D3.R4.Frac20: 25582.0\r\n",
      " 13X.NTH.D3.R4.Frac23: 25736.0\r\n",
      " 12C.NTH.D3.R4.Frac24: 25791.0\r\n",
      " 13X.NTH.D3.R4.Frac29: 26100.0\r\n",
      " 12C.PTH.D30.R4.Frac19: 26373.0\r\n",
      " 13X.NTH.D3.R4.Frac14: 26594.0\r\n",
      " 13X.NTH.D3.R4.Frac26: 26704.0\r\n",
      " 13X.NTH.D3.R4.Frac19: 26796.0\r\n",
      " 13C.PTH.D14.R4.Frac18: 26939.0\r\n",
      " 13C.NTH.D14.R4.Frac12: 27025.0\r\n",
      " 13X.NTH.D3.R4.Frac28: 27210.0\r\n",
      " 13X.PTH.D7.R4.Frac21: 27211.0\r\n",
      " 13X.PTH.D7.R4.Frac25: 27293.0\r\n",
      " 13X.NTH.D3.R4.Frac24: 27362.0\r\n",
      " 12C.PTH.D1.R4.Frac23: 27426.0\r\n",
      " 13C.NTH.D14.R4.Frac19: 27447.0\r\n",
      " 12C.NTH.D3.R4.Frac25: 27546.0\r\n",
      " 12C.NTH.D3.R4.Frac21: 27653.0\r\n",
      " 12C.PTH.D30.R4.Frac14: 28098.0\r\n",
      " 13X.PTH.D7.R4.Frac17: 28299.0\r\n",
      " 12C.PTH.D30.R4.Frac16: 28354.0\r\n",
      " 13C.NTH.D14.R4.Frac16: 28438.0\r\n",
      " 12C.PTH.D30.R4.Frac17: 28540.0\r\n",
      " 13C.NTH.D14.R4.Frac14: 28571.0\r\n",
      " 13C.PTH.D14.R4.Frac17: 28947.0\r\n",
      " 12C.PTH.D1.R4.Frac24: 29204.0\r\n",
      " 12C.PTH.D3.R4.Frac21: 29418.0\r\n",
      " 13C.PTH.D14.R4.Frac21: 29424.0\r\n",
      " 13X.PTH.D7.R4.Frac22: 29620.0\r\n",
      " 12C.PTH.D30.R4.Frac15: 29753.0\r\n",
      " 12C.PTH.D30.R4.Frac27: 29775.0\r\n",
      " 13C.PTH.D14.R4.Frac13: 29783.0\r\n",
      " 12C.NTH.D3.R4.Frac19: 29901.0\r\n",
      " 13C.NTH.D14.R4.Frac21: 29965.0\r\n",
      " 13C.NTH.D14.R4.Frac15: 30117.0\r\n",
      " 13C.NTH.D14.R4.Frac25: 30458.0\r\n",
      " 13X.PTH.D7.R4.Frac20: 30535.0\r\n",
      " 12C.PTH.D3.R4.Frac18: 30692.0\r\n",
      " 12C.NTH.D3.R4.Frac17: 31237.0\r\n",
      " 13C.PTH.D14.R4.Frac22: 31330.0\r\n",
      " 13C.NTH.D14.R4.Frac11: 31562.0\r\n",
      " 13C.NTH.D14.R4.Frac24: 31634.0\r\n",
      " 12C.PTH.D3.R4.Frac15: 31805.0\r\n",
      " 12C.PTH.D1.R4.Frac20: 31955.0\r\n",
      " 12C.PTH.D3.R4.Frac19: 32088.0\r\n",
      " 12C.PTH.D30.R4.Frac7: 32304.0\r\n",
      " 13C.PTH.D14.R4.Frac8: 32388.0\r\n",
      " 13X.NTH.D3.R4.Frac11: 32449.0\r\n",
      " 12C.PTH.D30.R4.Frac24: 32452.0\r\n",
      " 12C.PTH.D30.R4.Frac18: 32643.0\r\n",
      " 12C.PTH.D3.R4.Frac6: 32651.0\r\n",
      " 13C.PTH.D14.R4.Frac14: 32871.0\r\n",
      " 13X.PTH.D7.R4.Frac26: 32977.0\r\n",
      " 13X.NTH.D3.R4.Frac18: 32993.0\r\n",
      " 13X.NTH.D3.R4.Frac13: 33016.0\r\n",
      " 13X.NTH.D3.R4.Frac25: 33087.0\r\n",
      " 12C.NTH.D3.R4.Frac6: 33151.0\r\n",
      " 13C.NTH.D14.R4.Frac23: 33179.0\r\n",
      " 12C.PTH.D1.R4.Frac22: 33335.0\r\n",
      " H2O: 33800.0\r\n",
      " 12C.PTH.D30.R4.Frac26: 33946.0\r\n",
      " 12C.NTH.D3.R4.Frac20: 33959.0\r\n",
      " 13X.NTH.D3.R4.Frac6: 34140.0\r\n",
      " 13C.NTH.D14.R4.Frac10: 34164.0\r\n",
      " 12C.PTH.D1.R4.Frac25: 34282.0\r\n",
      " 13C.PTH.D14.R4.Frac20: 34437.0\r\n",
      " 12C.PTH.D1.R4.Frac18: 34550.0\r\n",
      " 12C.PTH.D1.R4.Frac15: 34803.0\r\n",
      " 12C.PTH.D1.R4.Frac14: 34816.0\r\n",
      " 13X.PTH.D7.R4.Frac10: 35018.0\r\n",
      " 13X.NTH.D3.R4.Frac16: 35244.0\r\n",
      " 13X.PTH.D7.R4.Frac8: 35466.0\r\n",
      " 12C.PTH.D3.R4.Frac16: 35533.0\r\n",
      " 12C.NTH.D3.R4.Frac11: 35549.0\r\n",
      " 12C.NTH.D3.R4.Frac16: 35758.0\r\n",
      " 13X.PTH.D7.R4.Frac16: 35782.0\r\n",
      " 12C.NTH.D3.R4.Frac18: 35892.0\r\n",
      " 13C.PTH.D14.R4.Frac26: 35955.0\r\n",
      " 13C.PTH.D14.R4.Frac10: 36022.0\r\n",
      " 13X.PTH.D7.R4.Frac11: 36220.0\r\n",
      " 12C.PTH.D30.R4.Frac12: 36263.0\r\n",
      " 12C.PTH.D1.R4.Frac17: 36406.0\r\n",
      " 13C.NTH.D14.R4.Frac9: 36603.0\r\n",
      " 13C.PTH.D14.R4.Frac25: 36680.0\r\n",
      " 13C.NTH.D14.R4.Frac26: 36824.0\r\n",
      " 12C.PTH.D30.R4.Frac6: 36881.0\r\n",
      " 13X.PTH.D7.R4.Frac27: 36938.0\r\n",
      " 12C.NTH.D3.R4.Frac13: 37018.0\r\n",
      " 12C.PTH.D1.R4.Frac16: 37117.0\r\n",
      " 13X.PTH.D7.R4.Frac9: 37283.0\r\n",
      " 13C.NTH.D14.R4.Frac5: 37350.0\r\n",
      " 12C.PTH.D30.R4.Frac13: 37560.0\r\n",
      " 13C.PTH.D14.R4.Frac11: 37568.0\r\n",
      " 12C.PTH.D30.R4.Frac28: 37582.0\r\n",
      " 13X.NTH.D3.R4.Frac12: 37668.0\r\n",
      " 12C.PTH.D3.R4.Frac12: 37947.0\r\n",
      " 12C.PTH.D1.R4.Frac21: 37971.0\r\n",
      " 12C.PTH.D1.R4.Frac7: 38399.0\r\n",
      " 12C.NTH.D3.R4.Frac8: 38548.0\r\n",
      " 12C.NTH.D3.R4.Frac12: 38768.0\r\n",
      " 13X.PTH.D7.R4.Frac13: 39028.0\r\n",
      " 12C.NTH.D3.R4.Frac7: 39212.0\r\n",
      " 12C.NTH.D3.R4.Frac15: 39223.0\r\n",
      " 13C.PTH.D14.R4.Frac9: 39274.0\r\n",
      " 12C.PTH.D3.R4.Frac7: 39774.0\r\n",
      " 13X.NTH.D3.R4.Frac8: 39865.0\r\n",
      " 12C.PTH.D1.R4.Frac19: 39896.0\r\n",
      " 13X.NTH.D3.R4.Frac5: 40044.0\r\n",
      " 13X.PTH.D7.R4.Frac15: 40956.0\r\n",
      " 13X.NTH.D3.R4.Frac9: 41375.0\r\n",
      " 13X.NTH.D3.R4.Frac17: 41407.0\r\n",
      " 12C.PTH.D1.R4.Frac26: 41664.0\r\n",
      " 12C.PTH.D1.R4.Frac6: 41682.0\r\n",
      " 13X.PTH.D7.R4.Frac7: 41796.0\r\n",
      " 12C.PTH.D1.R4.Frac13: 41980.0\r\n",
      " 13X.NTH.D3.R4.Frac15: 42006.0\r\n",
      " 12C.PTH.D30.R4.Frac9: 42024.0\r\n",
      " 13C.PTH.D14.R4.Frac12: 42164.0\r\n",
      " 13C.NTH.D14.R4.Frac8: 42394.0\r\n",
      " 13C.NTH.D14.R4.Frac27: 42414.0\r\n",
      " 13X.NTH.D3.R4.Frac21: 42609.0\r\n",
      " 13C.PTH.D14.R4.Frac27: 42622.0\r\n",
      " 13X.NTH.D3.R4.Frac10: 43437.0\r\n",
      " 13X.PTH.D7.R4.Frac28: 43918.0\r\n",
      " 12C.NTH.D3.R4.Frac26: 44096.0\r\n",
      " 12C.PTH.D3.R4.Frac17: 44112.0\r\n",
      " 12C.PTH.D1.R4.Frac10: 44258.0\r\n",
      " 12C.PTH.D1.R4.Frac8: 44366.0\r\n",
      " 13C.NTH.D14.R4.Frac13: 44739.0\r\n",
      " 13X.NTH.D3.R4.Frac7: 45167.0\r\n",
      " 12C.PTH.D1.R4.Frac28: 45277.0\r\n",
      " 12C.PTH.D30.R4.Frac8: 45360.0\r\n",
      " 12C.NTH.D3.R4.Frac10: 45415.0\r\n",
      " 12C.PTH.D30.R4.Frac11: 45597.0\r\n",
      " 13C.NTH.D14.R4.Frac6: 45855.0\r\n",
      " 12C.PTH.D30.R4.Frac10: 46196.0\r\n",
      " 13C.NTH.D14.R4.Frac28: 46518.0\r\n",
      " 13C.PTH.D14.R4.Frac6: 47935.0\r\n",
      " 12C.NTH.D3.R4.Frac14: 48110.0\r\n",
      " 13C.PTH.D14.R4.Frac7: 48741.0\r\n",
      " 12C.NTH.D3.R4.Frac27: 48886.0\r\n",
      " 12C.PTH.D3.R4.Frac8: 48997.0\r\n",
      " 13X.PTH.D7.R4.Frac6: 49292.0\r\n",
      " 12C.PTH.D3.R4.Frac10: 49821.0\r\n",
      " 13X.PTH.D7.R4.Frac12: 49970.0\r\n",
      " 13X.PTH.D7.R4.Frac14: 50128.0\r\n",
      " 12C.PTH.D3.R4.Frac11: 50589.0\r\n",
      " 12C.PTH.D1.R4.Frac9: 51973.0\r\n",
      " 13X.PTH.D7.R4.Frac5: 52922.0\r\n",
      " 12C.PTH.D1.R4.Frac12: 54451.0\r\n",
      " 12C.PTH.D1.R4.Frac5: 54914.0\r\n",
      " 13C.NTH.D14.R4.Frac7: 55288.0\r\n",
      " 12C.PTH.D1.R4.Frac11: 58062.0\r\n",
      " 12C.NTH.D3.R4.Frac28: 61825.0\r\n",
      " 12C.PTH.D1.R4.Frac27: 62415.0\r\n",
      " 12C.PTH.D3.R4.Frac13: 64808.0\r\n",
      " 12C.PTH.D3.R4.Frac9: 68536.0\r\n",
      " 13X.PTH.D7.R4.Frac29: 71935.0\r\n",
      " 12C.PTH.D3.R4.Frac5: 74420.0\r\n",
      " 12C.PTH.D1.R4.Frac29: 78755.0\r\n",
      " 13C.PTH.D14.R4.Frac28: 84508.0\r\n"
     ]
    }
   ],
   "source": [
    "# This tells us the overall data info\n",
    "# Num obs = OTUs\n",
    "# total count = total seqs\n",
    "# Chantal had 50% reduction after QC.\n",
    "\n",
    "!cat data/otu_table_summary.txt\n",
    "\n"
   ]
  }
 ],
 "metadata": {
  "kernelspec": {
   "display_name": "Python 2",
   "language": "python",
   "name": "python2"
  },
  "language_info": {
   "codemirror_mode": {
    "name": "ipython",
    "version": 2
   },
   "file_extension": ".py",
   "mimetype": "text/x-python",
   "name": "python",
   "nbconvert_exporter": "python",
   "pygments_lexer": "ipython2",
   "version": "2.7.9"
  }
 },
 "nbformat": 4,
 "nbformat_minor": 0
}
