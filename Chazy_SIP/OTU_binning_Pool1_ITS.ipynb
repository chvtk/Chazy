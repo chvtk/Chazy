{
 "cells": [
  {
   "cell_type": "code",
   "execution_count": 1,
   "metadata": {
    "collapsed": false
   },
   "outputs": [],
   "source": [
    "# Imports a parser from cogent\n",
    "from cogent.parse.fasta import MinimalFastaParser as parse"
   ]
  },
  {
   "cell_type": "code",
   "execution_count": 2,
   "metadata": {
    "collapsed": false
   },
   "outputs": [],
   "source": [
    "# applies for the whole segment\n",
    "nprocs = 10"
   ]
  },
  {
   "cell_type": "code",
   "execution_count": 10,
   "metadata": {
    "collapsed": false
   },
   "outputs": [
    {
     "name": "stdout",
     "output_type": "stream",
     "text": [
      ">13C.NTH.D7.R4_Frac11_0\r\n",
      "TTACGAGTTGGCCTTTGGCCCGGCTTTTGCCAACCCTGTGAACTTATATTACTGCCTTGGCGGCTTGCGTCTAACGCGCCGCCAGCGGCCTAAACGCACCCTGCTCAGACTAATCTGACTAATGATAACGAGTAAAAACTTTTGGCAACGGATCTCTTGGCTCTGGC\r\n",
      ">13C.PTH.D30.R4_Frac12_1\r\n",
      "TTACGAGTTGGCCTTTGGCCCGGCTTTTGCCAACCCTGTGAACTTATATTACTGCCTTGGCGGCTTGCGTCTAACGCGCCGCCAGCGGCCTAAACGCACCCTGCTCAGACTAATCTGACTAATGATAACGAGTAAAAACTTTTGGCAACGGATCTCTTGGCTCTGGC\r\n",
      ">13C.PTH.D14.R4_Frac22_2\r\n",
      "TTAAACTCATCTCAATTTATTACCTGTAACCCGCCTTAAACCGGGCACACCGGGATCGGGCCTGATAGACTTCACGGTTTGTCGGGTGGCAACCCAATAACCAAAACCTTTTTTAACTTTGTCCATTTCCCGGCTTCCGAAAGGTTGTCGGTTTTCCATCAAACACCATTACCGGTGGATGACTCGGCTCAGAC\r\n",
      ">13X.NTH.D3.R4_Frac25_3\r\n",
      "TTATCGAGTTTTGACTGGGTTGTAGCTGGCCTTCCGAGGCATGTGCACGCCCTGCTCATCCACTCTACACCTGTGCACTTACTGTGGGTATCAGATCGTGAAGCGTGCTCTTTTACCGGAGCTTGTGAAGCGTGTCTGTGCCTGCGTTTATCACAAACACTATAAAGTATCAGAATGTGTATTACGATGTAACGCATCTATATACAACTTTCAGCAACGGATCTCTTGGCTCTCGC\r\n",
      ">13X.NTH.D7.R4_Frac25_4\r\n",
      "TTACGAGTTGGCCTTTGGCCCGGCTTTTGCCAACCCTGTGAACTTATATTACTGCCTTGGCGGCTTGCGTCTAACGCGCCGCCAGCGGCCTAAACGCACCCTGCTCAGACTAATCTGACTAATGATAACGAGTAAAAACTTTTGGCAACGGATCTCTTGGCTCTGGC\r\n"
     ]
    }
   ],
   "source": [
    "# Checking out data file.\n",
    "# This file was created using the QC_basic notebook.\n",
    "!head data/finalQC_Pool1_ITS.fasta"
   ]
  },
  {
   "cell_type": "code",
   "execution_count": 11,
   "metadata": {
    "collapsed": false
   },
   "outputs": [],
   "source": [
    "!sed 's/R4_/R4\\./g' data/finalQC_Pool1_ITS.fasta > data/finalQC_Pool1_ITS_nound.fasta"
   ]
  },
  {
   "cell_type": "code",
   "execution_count": 14,
   "metadata": {
    "collapsed": false
   },
   "outputs": [
    {
     "name": "stdout",
     "output_type": "stream",
     "text": [
      "6884936\r\n"
     ]
    }
   ],
   "source": [
    "!grep -c \">\" data/finalQC_Pool1_ITS_nound.fasta"
   ]
  },
  {
   "cell_type": "code",
   "execution_count": 15,
   "metadata": {
    "collapsed": false
   },
   "outputs": [],
   "source": [
    "%%bash\n",
    "# Running the seq separation on mothur instead\n",
    "\n",
    "mothur \"#unique.seqs(fasta=data/finalQC_Pool1_ITS_nound.fasta)\" > /dev/null"
   ]
  },
  {
   "cell_type": "code",
   "execution_count": 18,
   "metadata": {
    "collapsed": false
   },
   "outputs": [],
   "source": [
    "# Making a dictionary of the names files, splitting it into the first (ID) and second (commas list of all seqs in it)\n",
    "# Then it counts their lengths and saves it in the dictionary\n",
    "\n",
    "counts = {}\n",
    "\n",
    "with open(\"data/finalQC_Pool1_ITS_nound.names\") as f:\n",
    "    for line in f:\n",
    "        seedID, seqIDs = line.split(\"\\t\")\n",
    "        count = len(seqIDs.split(\",\"))\n",
    "        counts[seedID] = count        "
   ]
  },
  {
   "cell_type": "code",
   "execution_count": 23,
   "metadata": {
    "collapsed": false
   },
   "outputs": [],
   "source": [
    "# Adds the counts from this dictionary to our finalQC.unique file so it looks like a usearch file with \"size=XXX\"\n",
    "\n",
    "with open(\"data/finalQC_Pool1_ITS.unique.usearch_names.fasta\", \"w\") as f:\n",
    "    for n, s in parse(open(\"data/finalQC_Pool1_ITS_nound.unique.fasta\")):\n",
    "        f.write(\">%s;size=%s;\\n%s\\n\"%(n,counts[n],s))  "
   ]
  },
  {
   "cell_type": "code",
   "execution_count": 24,
   "metadata": {
    "collapsed": false
   },
   "outputs": [
    {
     "name": "stdout",
     "output_type": "stream",
     "text": [
      ">13C.NTH.D7.R4.Frac11_0;size=1430816;\r\n",
      "TTACGAGTTGGCCTTTGGCCCGGCTTTTGCCAACCCTGTGAACTTATATTACTGCCTTGGCGGCTTGCGTCTAACGCGCCGCCAGCGGCCTAAACGCACCCTGCTCAGACTAATCTGACTAATGATAACGAGTAAAAACTTTTGGCAACGGATCTCTTGGCTCTGGC\r\n",
      ">13C.PTH.D14.R4.Frac22_2;size=19;\r\n",
      "TTAAACTCATCTCAATTTATTACCTGTAACCCGCCTTAAACCGGGCACACCGGGATCGGGCCTGATAGACTTCACGGTTTGTCGGGTGGCAACCCAATAACCAAAACCTTTTTTAACTTTGTCCATTTCCCGGCTTCCGAAAGGTTGTCGGTTTTCCATCAAACACCATTACCGGTGGATGACTCGGCTCAGAC\r\n",
      ">13X.NTH.D3.R4.Frac25_3;size=9465;\r\n",
      "TTATCGAGTTTTGACTGGGTTGTAGCTGGCCTTCCGAGGCATGTGCACGCCCTGCTCATCCACTCTACACCTGTGCACTTACTGTGGGTATCAGATCGTGAAGCGTGCTCTTTTACCGGAGCTTGTGAAGCGTGTCTGTGCCTGCGTTTATCACAAACACTATAAAGTATCAGAATGTGTATTACGATGTAACGCATCTATATACAACTTTCAGCAACGGATCTCTTGGCTCTCGC\r\n",
      ">13C.PTH.D30.R4.Frac26_6;size=9457;\r\n",
      "TTACCATAATACCAAAACCAAAAACACCTTACGAAGAGGAAACGTGAAGTTCGTGTATACGTCTTTGCGTCAGTACTCTTTGTACGTTTCGTGATACTTAACAACTATCATTATTCCTTTATGCTTCCTTAGCGATGTAAAAGCCTTTGGCTTTTGAAGTCATTGAAGATACAACACCATTAACCAGAGAACTCTGTCGAAATCTGTCAGTCATGACATGATTATCATATAATCAATGACCAAACAGTTTCAGCAACGAATGTCTAGGTTCCTAC\r\n",
      ">13C.PTH.D30.R4.Frac8_7;size=2671;\r\n",
      "TTACTGCTTGCTTATGGCCGCTTAGGTGGGGAGACCCCCTTTGCGGTACGGCAACACACCCTTGTCTATGTATACCATTTGTTATTTCCCTCGGCGGGGCAACCCGCCGCTGGGGACAATAAAACCTCTTGTATTAAGCATTAAAACTTCTGAAACAAACCTAAATTATTACAACTTTCAACAATGGATCTCTTGGTTCTGGC\r\n"
     ]
    }
   ],
   "source": [
    "!head data/finalQC_Pool1_ITS.unique.usearch_names.fasta"
   ]
  },
  {
   "cell_type": "code",
   "execution_count": 26,
   "metadata": {
    "collapsed": false
   },
   "outputs": [
    {
     "name": "stdout",
     "output_type": "stream",
     "text": [
      "1.4G\tdata/finalQC_Pool1_ITS_nound.fasta\r\n"
     ]
    }
   ],
   "source": [
    "# Chuck looking to see how many Gb this file is.\n",
    "!du -h data/finalQC_Pool1_ITS_nound.fasta"
   ]
  },
  {
   "cell_type": "code",
   "execution_count": 27,
   "metadata": {
    "collapsed": false
   },
   "outputs": [
    {
     "name": "stdout",
     "output_type": "stream",
     "text": [
      "usearch v7.0.1090_i86linux32, 4.0Gb RAM (132Gb total), 40 cores\n",
      "(C) Copyright 2013 Robert C. Edgar, all rights reserved.\n",
      "http://drive5.com/usearch\n",
      "\n",
      "Licensed to: chuck.peperanney@gmail.com\n",
      "\n",
      "00:00 2.1Mb Reading data/finalQC_Pool1_ITS.unique.usearch_names.fasta, 313Mb\n",
      "00:01 315Mb 1260765 (1.3M) seqs, min 50, avg 209, max 496nt\n",
      "00:02 330Mb Getting sizes\n",
      "00:03 340Mb Sorting 141290 sequences\n",
      "00:03 341Mb  100.0% Writing data/finalQC_Pool1_ITS.unique_sorted.fasta\n"
     ]
    }
   ],
   "source": [
    "# Sequences are sorted by size\n",
    "# Here the size of clusters - we are excluding the singletons here\n",
    "# You would change minsize to 1 if you wanted to include singletons\n",
    "# Or, you know, just not do this step.\n",
    "# But you should just get rid of them.\n",
    "!usearch -sortbysize data/finalQC_Pool1_ITS.unique.usearch_names.fasta -output data/finalQC_Pool1_ITS.unique_sorted.fasta -minsize 2"
   ]
  },
  {
   "cell_type": "code",
   "execution_count": 28,
   "metadata": {
    "collapsed": false
   },
   "outputs": [
    {
     "name": "stdout",
     "output_type": "stream",
     "text": [
      ">13C.NTH.D7.R4.Frac11_0;size=1430816;\r\n",
      "TTACGAGTTGGCCTTTGGCCCGGCTTTTGCCAACCCTGTGAACTTATATTACTGCCTTGGCGGCTTGCGTCTAACGCGCC\r\n",
      "GCCAGCGGCCTAAACGCACCCTGCTCAGACTAATCTGACTAATGATAACGAGTAAAAACTTTTGGCAACGGATCTCTTGG\r\n",
      "CTCTGGC\r\n",
      ">13X.NTH.D7.R4.Frac9_10;size=238696;\r\n",
      "TTACGAGTTGGCCTTTGGCCCGGCTTTTGCCAACCCTGTGAACTTATATTACTGCCTTGGCGGCTTGCGTCTCACGCGCC\r\n",
      "GCCAGCGGCCTAAACGCACCCTGCTCAGACTAATCTGACTAATGATAACGAGTAAAAACTTTTGGCAACGGATCTCTTGG\r\n",
      "CTCTGGC\r\n",
      ">13C.PTH.D30.R4.Frac18_36;size=147046;\r\n",
      "TTATCAAACTTTTAAACCTAATAACAACCATAGAATAATCGTTTTTATCTTAATATATAATTTATAACACTTAAAATATC\r\n"
     ]
    }
   ],
   "source": [
    "# Checking data\n",
    "# You can see here, the first two sequences we saw above are now gone.\n",
    "!head data/finalQC_Pool1_ITS.unique_sorted.fasta"
   ]
  },
  {
   "cell_type": "code",
   "execution_count": 29,
   "metadata": {
    "collapsed": false
   },
   "outputs": [
    {
     "name": "stdout",
     "output_type": "stream",
     "text": [
      "usearch v7.0.1090_i86linux32, 4.0Gb RAM (132Gb total), 40 cores\n",
      "(C) Copyright 2013 Robert C. Edgar, all rights reserved.\n",
      "http://drive5.com/usearch\n",
      "\n",
      "Licensed to: chuck.peperanney@gmail.com\n",
      "\n",
      "01:42 196Mb  100.0% 23192 OTUs\n",
      "                              \n",
      "Input seqs  141290 (141.3k)\n",
      "      OTUs  23192 (23.2k)\n",
      "   Members  116456 (116.5k)\n",
      "  Chimeras  1642\n",
      "   Max mem  196Mb\n",
      "      Time  01:42\n",
      "Throughput  1385.2 seqs/sec.\n",
      "\n"
     ]
    }
   ],
   "source": [
    "# This is the clustering command.\n",
    "# Default is 97% minimum ID.\n",
    "# Not recommended to use more than 97%.\n",
    "# Creates the centroids, or \"seeds\"\n",
    "# Then you can take them out\n",
    "!usearch -cluster_otus data/finalQC_Pool1_ITS.unique_sorted.fasta -otus data/otus_Pool1_ITS.fasta"
   ]
  },
  {
   "cell_type": "code",
   "execution_count": 30,
   "metadata": {
    "collapsed": false
   },
   "outputs": [],
   "source": [
    "# Making another file\n",
    "# Figure this out (what is this?)\n",
    "# This is a script (fasta_number.py) that replaces fasta names with XXX1, XXX2, etc.\n",
    "# In our case, it is replacing the names with OTU.1, OTU.2, etc., and outputs it into a file called otusn.fasta\n",
    "!/opt/bioinfo/edgar_python_scripts/fasta_number.py data/otus_Pool1_ITS.fasta OTU. > data/otusn_Pool1_ITS.fasta"
   ]
  },
  {
   "cell_type": "code",
   "execution_count": 31,
   "metadata": {
    "collapsed": false
   },
   "outputs": [
    {
     "name": "stdout",
     "output_type": "stream",
     "text": [
      ">OTU.1\r\n",
      "TTACGAGTTGGCCTTTGGCCCGGCTTTTGCCAACCCTGTGAACTTATATTACTGCCTTGGCGGCTTGCGTCTAACGCGCC\r\n",
      "GCCAGCGGCCTAAACGCACCCTGCTCAGACTAATCTGACTAATGATAACGAGTAAaaaCTTTTGGCAACGGATCTCTTGG\r\n",
      "CTCTGGC\r\n",
      ">OTU.2\r\n",
      "TTATCAAACTTTTAAACCTAATAACAACCATAGAATAATCGTTtttATCTTAATatataATTTATAACACTTAAAATATC\r\n",
      "TTAAATGATTAAACCTTAAaaaaGTTTAAATGGAAaaaGCTTTTAACAATGGATACCTTGGTTCCTCT\r\n",
      ">OTU.3\r\n",
      "TTATTGAATAAACTTtttAAGTTtttttCATCTTCCCTGTTTATATTAAATACGTTCCTTCCATCGGACAGGTCTATTTA\r\n",
      "GGACCCTCTAGCTTGGGCAAATGCTTTTGCTGGAGAGTTGCCGGTGGCATTTCTAAaaaTGAAAACTTTTGTTATATTAT\r\n"
     ]
    }
   ],
   "source": [
    "!head data/otusn_Pool1_ITS.fasta"
   ]
  },
  {
   "cell_type": "markdown",
   "metadata": {},
   "source": [
    "### Removing Chloroplast, Bacterial, and Archaeal sequences"
   ]
  },
  {
   "cell_type": "code",
   "execution_count": 32,
   "metadata": {
    "collapsed": false
   },
   "outputs": [],
   "source": [
    "# You do need to assign taxonomy in order to pull out the Euks., etc.\n",
    "# I could cp these files from the server to wherever I need them.\n",
    "# Input is your fasta file\n",
    "# Output is a fasta with taxonomy assinged (still working with unique seqs)\n",
    "# This didn't work first, because Chuck had to delete a \"jobs\" folder in the tmp directory.\n",
    "\n",
    "!parallel_assign_taxonomy_uclust.py \\\n",
    "-r /home/chantal/RNASIP/data/databases/Silva_111_post/no_ambiguous_bases_files/97_Silva_111_rep_set_no_ambig.fasta \\\n",
    "-t /home/chantal/RNASIP/data/databases/Silva_111_post/taxonomy/Silva_111_taxa_map_full.txt \\\n",
    "-O 10 \\\n",
    "-i data/otusn_Pool1_ITS.fasta \\\n",
    "-o data/otusn_Pool1_ITS_tax"
   ]
  },
  {
   "cell_type": "code",
   "execution_count": 48,
   "metadata": {
    "collapsed": false
   },
   "outputs": [],
   "source": [
    "# This makes a file of what we want to remove\n",
    "# Could change this to pull out different groups.\n",
    "# These primers actually had good Archaeal targets - so, it would be okay to include them.\n",
    "!egrep \"Chloroplast|Bacteria|Archaea|mitochondria\" \\\n",
    "data/otusn_Pool1_ITS_tax/otusn_Pool1_ITS_tax_assignments.txt \\\n",
    "| awk '{print $1}' > data/to_remove_tax.accnos"
   ]
  },
  {
   "cell_type": "code",
   "execution_count": 49,
   "metadata": {
    "collapsed": false
   },
   "outputs": [
    {
     "name": "stdout",
     "output_type": "stream",
     "text": [
      "0 data/to_remove_tax.accnos\r\n"
     ]
    }
   ],
   "source": [
    "# wc is number of lines of the taxa that will be removed\n",
    "!wc -l data/to_remove_tax.accnos"
   ]
  },
  {
   "cell_type": "code",
   "execution_count": 50,
   "metadata": {
    "collapsed": false
   },
   "outputs": [],
   "source": [
    "# Looking at what you're removing\n",
    "!head data/to_remove_tax.accnos"
   ]
  },
  {
   "cell_type": "code",
   "execution_count": 51,
   "metadata": {
    "collapsed": false
   },
   "outputs": [
    {
     "name": "stdout",
     "output_type": "stream",
     "text": [
      "\u001b[H\u001b[2J\n",
      "\n",
      "\n",
      "\n",
      "\n",
      "\n",
      "mothur v.1.32.1\n",
      "Last updated: 10/16/2013\n",
      "\n",
      "by\n",
      "Patrick D. Schloss\n",
      "\n",
      "Department of Microbiology & Immunology\n",
      "University of Michigan\n",
      "pschloss@umich.edu\n",
      "http://www.mothur.org\n",
      "\n",
      "When using, please cite:\n",
      "Schloss, P.D., et al., Introducing mothur: Open-source, platform-independent, community-supported software for describing and comparing microbial communities. Appl Environ Microbiol, 2009. 75(23):7537-41.\n",
      "\n",
      "Distributed under the GNU General Public License\n",
      "\n",
      "Type 'help()' for information on the commands that are available\n",
      "\n",
      "Type 'quit()' to exit program\n",
      "\n",
      "\n",
      "\n",
      "mothur > remove.seqs(fasta=data/otusn_Pool1_ITS.fasta, accnos=data/to_remove_tax.accnos)\n",
      "[ERROR]: data/to_remove_tax.accnos is blank, aborting.\n",
      "You have no valid accnos file and accnos is required.\n",
      "[ERROR]: did not complete remove.seqs.\n",
      "\n",
      "mothur > quit()\n"
     ]
    }
   ],
   "source": [
    "%%bash\n",
    "# Remove.seqs command will actually remove these taxa\n",
    "mothur \"#remove.seqs(fasta=data/otusn_Pool1_ITS.fasta, \\\n",
    "accnos=data/to_remove_tax.accnos)\" #> /dev/null"
   ]
  },
  {
   "cell_type": "markdown",
   "metadata": {},
   "source": [
    "### Mapping Reads"
   ]
  },
  {
   "cell_type": "code",
   "execution_count": 52,
   "metadata": {
    "collapsed": false
   },
   "outputs": [],
   "source": [
    "# Pulling out the sample identifier.\n",
    "# It is adding a portion to the finalQC file that has the barcode label.\n",
    "# Then we can use this later\n",
    "# Now we will see how these reads map to the defined centroids (after removing EuK, etc.)\n",
    "# Basically, we cut, cut, refined our fasta to make our OTU centroids.\n",
    "# THEN, we went back to our original QC'd total fasta file and will throw it all against these nicely defined seeds.\n",
    "# Anything that doesn't match, we won't keep.\n",
    "!awk -F\"_\" \\\n",
    "'BEGIN{OFS=\";\"}{ if ( substr($1,0,1) == \">\"){ print $0,\"barcodelabel=\",$1 } else { print $0 } }' \\\n",
    "data/finalQC_Pool1_ITS_nound.fasta | \\\n",
    "sed 's/;>//' > data/finalQC_Pool1_ITS_usearchfmt.fasta"
   ]
  },
  {
   "cell_type": "code",
   "execution_count": null,
   "metadata": {
    "collapsed": false
   },
   "outputs": [
    {
     "name": "stdout",
     "output_type": "stream",
     "text": [
      ">13C.NTH.D7.R4.Frac11_0;barcodelabel=13C.NTH.D7.R4.Frac11\r\n",
      "TTACGAGTTGGCCTTTGGCCCGGCTTTTGCCAACCCTGTGAACTTATATTACTGCCTTGGCGGCTTGCGTCTAACGCGCCGCCAGCGGCCTAAACGCACCCTGCTCAGACTAATCTGACTAATGATAACGAGTAAAAACTTTTGGCAACGGATCTCTTGGCTCTGGC\r\n",
      ">13C.PTH.D30.R4.Frac12_1;barcodelabel=13C.PTH.D30.R4.Frac12\r\n",
      "TTACGAGTTGGCCTTTGGCCCGGCTTTTGCCAACCCTGTGAACTTATATTACTGCCTTGGCGGCTTGCGTCTAACGCGCCGCCAGCGGCCTAAACGCACCCTGCTCAGACTAATCTGACTAATGATAACGAGTAAAAACTTTTGGCAACGGATCTCTTGGCTCTGGC\r\n",
      ">13C.PTH.D14.R4.Frac22_2;barcodelabel=13C.PTH.D14.R4.Frac22\r\n",
      "TTAAACTCATCTCAATTTATTACCTGTAACCCGCCTTAAACCGGGCACACCGGGATCGGGCCTGATAGACTTCACGGTTTGTCGGGTGGCAACCCAATAACCAAAACCTTTTTTAACTTTGTCCATTTCCCGGCTTCCGAAAGGTTGTCGGTTTTCCATCAAACACCATTACCGGTGGATGACTCGGCTCAGAC\r\n",
      ">13X.NTH.D3.R4.Frac25_3;barcodelabel=13X.NTH.D3.R4.Frac25\r\n",
      "TTATCGAGTTTTGACTGGGTTGTAGCTGGCCTTCCGAGGCATGTGCACGCCCTGCTCATCCACTCTACACCTGTGCACTTACTGTGGGTATCAGATCGTGAAGCGTGCTCTTTTACCGGAGCTTGTGAAGCGTGTCTGTGCCTGCGTTTATCACAAACACTATAAAGTATCAGAATGTGTATTACGATGTAACGCATCTATATACAACTTTCAGCAACGGATCTCTTGGCTCTCGC\r\n",
      ">13X.NTH.D7.R4.Frac25_4;barcodelabel=13X.NTH.D7.R4.Frac25\r\n",
      "TTACGAGTTGGCCTTTGGCCCGGCTTTTGCCAACCCTGTGAACTTATATTACTGCCTTGGCGGCTTGCGTCTAACGCGCCGCCAGCGGCCTAAACGCACCCTGCTCAGACTAATCTGACTAATGATAACGAGTAAAAACTTTTGGCAACGGATCTCTTGGCTCTGGC\r\n"
     ]
    }
   ],
   "source": [
    "!head data/finalQC_Pool1_ITS_usearchfmt.fasta"
   ]
  },
  {
   "cell_type": "code",
   "execution_count": null,
   "metadata": {
    "collapsed": false
   },
   "outputs": [
    {
     "name": "stdout",
     "output_type": "stream",
     "text": [
      "usearch v7.0.1090_i86linux32, 4.0Gb RAM (132Gb total), 40 cores\n",
      "(C) Copyright 2013 Robert C. Edgar, all rights reserved.\n",
      "http://drive5.com/usearch\n",
      "\n",
      "Licensed to: chuck.peperanney@gmail.com\n",
      "\n",
      "00:00  19Mb Reading data/otusn_Pool1_ITS.fasta, 3.7Mb\n",
      "00:00  23Mb 23192 (23.2k) seqs, min 50, avg 146, max 443nt\n",
      "00:00  23Mb  100.0% Masking\n",
      "00:00  23Mb  100.0% Word stats\n",
      "00:00  36Mb  100.0% Building slots\n",
      "00:00  36Mb  100.0% Build index\n"
     ]
    }
   ],
   "source": [
    "# This is where the actual OTUs are being assigned. We choose 97% sequence ID threshold here.\n",
    "# This might take a while - like 5 minutes\n",
    "# Depending ont he clustering algorithm, like pairwise... it would take, like, days on the same number of processors.\n",
    "# This is why usearch (centroid-based) is so much better\n",
    "# But is it more biologically relevant? ... maybe, maybe not.\n",
    "# Edgar is showing it's not that bad.\n",
    "\n",
    "# We take our total QC data (modified above to have the sample ID extracted)\n",
    "# We compare it to the otusn.pick.fasta database we made above\n",
    "# We produce a readmap.uc file which tells us how the reads from our finalQC file map to the otusn seed database.\n",
    "\n",
    "!usearch -usearch_global data/finalQC_Pool1_ITS_usearchfmt.fasta \\\n",
    "-db data/otusn_Pool1_ITS.fasta \\\n",
    "-strand plus -id 0.97 \\\n",
    "-uc data/readmap_Pool1_ITS.uc \\\n",
    "-threads 15"
   ]
  },
  {
   "cell_type": "code",
   "execution_count": null,
   "metadata": {
    "collapsed": false
   },
   "outputs": [],
   "source": [
    "# Makes an OTU table\n",
    "# It will tell me the OTU ID, and then for all the samples, which OTUs it has sequences from.\n",
    "!python /opt/bioinfo/edgar_python_scripts/uc2otutab.py data/readmap_Pool1_ITS.uc > data/otu_table_Pool1_ITS.txt"
   ]
  },
  {
   "cell_type": "code",
   "execution_count": null,
   "metadata": {
    "collapsed": false
   },
   "outputs": [],
   "source": [
    "# Issues with biom table formatting\n",
    "!if [ -f data/otu_table_Pool1_ITS.biom ]; then rm data/otu_table_Pool1_ITS.biom; fi #This is to mitigate a biom bug\n",
    "!biom convert -i data/otu_table_Pool1_ITS.txt -o data/otu_table_Pool1_ITS.biom --table-type \"otu table\""
   ]
  },
  {
   "cell_type": "code",
   "execution_count": null,
   "metadata": {
    "collapsed": false
   },
   "outputs": [],
   "source": [
    "# Issues with biom table formatting\n",
    "!if [ -f data/otu_table_Pool1_ITS_summary.txt ]; then rm data/otu_table_Pool1_ITS_summary.txt; fi #This is to mitigate a biom bug\n",
    "!biom summarize-table -i data/otu_table_Pool1_ITS.biom -o data/otu_table_Pool1_ITS_summary.txt"
   ]
  },
  {
   "cell_type": "code",
   "execution_count": 60,
   "metadata": {
    "collapsed": false
   },
   "outputs": [
    {
     "name": "stdout",
     "output_type": "stream",
     "text": [
      "Num samples: 192\r\n",
      "Num observations: 23185\r\n",
      "Total count: 6582971\r\n",
      "Table density (fraction of non-zero values): 0.060\r\n",
      "Table md5 (unzipped): 60f55530115a6c2ede5aba02d39b53e0\r\n",
      "\r\n",
      "Counts/sample summary:\r\n",
      " Min: 59.0\r\n",
      " Max: 80171.0\r\n",
      " Median: 34640.500\r\n",
      " Mean: 34286.307\r\n",
      " Std. dev.: 16134.956\r\n",
      " Sample Metadata Categories: None provided\r\n",
      " Observation Metadata Categories: None provided\r\n",
      "\r\n",
      "Counts/sample detail:\r\n",
      " 13C.PTH.D14.R4.H2O: 59.0\r\n",
      " 13C.PTH.D7.R4.H2O: 69.0\r\n",
      " 13X.NTH.D3.R4.H2O: 75.0\r\n",
      " 13C.PTH.D30.R4.H2O: 120.0\r\n",
      " 12C.NTH.D7.R4.H2O: 124.0\r\n",
      " 12C.NTH.D30.R4.H2O: 1318.0\r\n",
      " 13X.NTH.D7.R4.H2O: 2528.0\r\n",
      " 13C.PTH.D7.R4.Frac19: 4540.0\r\n",
      " 13C.PTH.D7.R4.Frac18: 5210.0\r\n",
      " 13C.PTH.D7.R4.Frac20: 6169.0\r\n",
      " 13C.PTH.D7.R4.Frac17: 7548.0\r\n",
      " 13X.NTH.D3.R4.Frac18: 10306.0\r\n",
      " 13C.PTH.D7.R4.Frac21: 10552.0\r\n",
      " 13X.NTH.D3.R4.Frac17: 12404.0\r\n",
      " 13C.PTH.D14.R4.Frac18: 13084.0\r\n",
      " 12C.NTH.D7.R4.Frac17: 13104.0\r\n",
      " 13X.NTH.D3.R4.Frac19: 13381.0\r\n",
      " 13X.NTH.D3.R4.Frac14: 13894.0\r\n",
      " 13X.NTH.D3.R4.Frac15: 14253.0\r\n",
      " 13C.PTH.D30.R4.Frac19: 14442.0\r\n",
      " 13C.PTH.D30.R4.Frac18: 14738.0\r\n",
      " 12C.NTH.D7.R4.Frac18: 15699.0\r\n",
      " 13X.NTH.D3.R4.Frac11: 15751.0\r\n",
      " 13X.NTH.D3.R4.Frac20: 15955.0\r\n",
      " 13C.NTH.D7.R4.Frac20: 16022.0\r\n",
      " 13X.NTH.D3.R4.Frac16: 16225.0\r\n",
      " 12C.NTH.D30.R4.Frac17: 16400.0\r\n",
      " 13C.PTH.D14.R4.Frac17: 16642.0\r\n",
      " 13C.PTH.D7.R4.Frac16: 17119.0\r\n",
      " 12C.NTH.D7.R4.Frac19: 17298.0\r\n",
      " 12C.NTH.D30.R4.Frac18: 17763.0\r\n",
      " 13X.NTH.D3.R4.Frac12: 17961.0\r\n",
      " 12C.NTH.D7.R4.Frac9: 18134.0\r\n",
      " 13C.NTH.D7.R4.Frac19: 18144.0\r\n",
      " 13X.NTH.D3.R4.Frac10: 18849.0\r\n",
      " 13X.NTH.D3.R4.Frac13: 19134.0\r\n",
      " 13C.PTH.D30.R4.Frac20: 20125.0\r\n",
      " 13X.NTH.D3.R4.Frac27: 20222.0\r\n",
      " 13C.NTH.D7.R4.Frac18: 20541.0\r\n",
      " 12C.NTH.D7.R4.Frac16: 20631.0\r\n",
      " 12C.NTH.D7.R4.Frac20: 21011.0\r\n",
      " 13C.PTH.D7.R4.Frac22: 21384.0\r\n",
      " 12C.NTH.D30.R4.Frac16: 21803.0\r\n",
      " 13C.NTH.D7.R4.Frac17: 21849.0\r\n",
      " 13X.NTH.D3.R4.Frac24: 23006.0\r\n",
      " 13X.NTH.D7.R4.Frac17: 23329.0\r\n",
      " 13C.PTH.D14.R4.Frac19: 23465.0\r\n",
      " 13C.PTH.D7.R4.Frac25: 23853.0\r\n",
      " 13X.NTH.D7.R4.Frac15: 24247.0\r\n",
      " 13C.PTH.D7.R4.Frac23: 24254.0\r\n",
      " 13X.NTH.D7.R4.Frac16: 24422.0\r\n",
      " 13C.PTH.D7.R4.Frac8: 24439.0\r\n",
      " 13X.NTH.D7.R4.Frac7: 24558.0\r\n",
      " 13X.NTH.D7.R4.Frac8: 24966.0\r\n",
      " 13X.NTH.D7.R4.Frac6: 25135.0\r\n",
      " 13X.NTH.D7.R4.Frac5: 25776.0\r\n",
      " 13X.NTH.D3.R4.Frac9: 26119.0\r\n",
      " 13C.PTH.D14.R4.Frac20: 26372.0\r\n",
      " 13C.PTH.D7.R4.Frac5: 26393.0\r\n",
      " 13C.PTH.D7.R4.Frac26: 26596.0\r\n",
      " 13X.NTH.D7.R4.Frac18: 26724.0\r\n",
      " 13C.PTH.D30.R4.Frac21: 26943.0\r\n",
      " 12C.NTH.D30.R4.Frac15: 27363.0\r\n",
      " 13X.NTH.D3.R4.Frac22: 27484.0\r\n",
      " 13C.PTH.D7.R4.Frac9: 27893.0\r\n",
      " 13X.NTH.D3.R4.Frac25: 27997.0\r\n",
      " 12C.NTH.D7.R4.Frac15: 28023.0\r\n",
      " 13X.NTH.D7.R4.Frac14: 28162.0\r\n",
      " 12C.NTH.D7.R4.Frac26: 28617.0\r\n",
      " 12C.NTH.D7.R4.Frac21: 28682.0\r\n",
      " 13C.NTH.D7.R4.Frac21: 28713.0\r\n",
      " 13C.PTH.D7.R4.Frac27: 29361.0\r\n",
      " 13X.NTH.D3.R4.Frac7: 29439.0\r\n",
      " 13C.PTH.D7.R4.Frac15: 29837.0\r\n",
      " 13X.NTH.D3.R4.Frac28: 29898.0\r\n",
      " 13C.PTH.D7.R4.Frac24: 30144.0\r\n",
      " 13X.NTH.D3.R4.Frac21: 30261.0\r\n",
      " 13X.NTH.D3.R4.Frac23: 31062.0\r\n",
      " 13C.PTH.D30.R4.Frac17: 31084.0\r\n",
      " 12C.NTH.D30.R4.Frac14: 31399.0\r\n",
      " 13X.NTH.D3.R4.Frac6: 31730.0\r\n",
      " 13X.NTH.D3.R4.Frac26: 31825.0\r\n",
      " 13C.PTH.D14.R4.Frac16: 32457.0\r\n",
      " 13X.NTH.D7.R4.Frac26: 32523.0\r\n",
      " 12C.NTH.D30.R4.Frac20: 32663.0\r\n",
      " 13C.PTH.D7.R4.Frac10: 32676.0\r\n",
      " 12C.NTH.D7.R4.Frac27: 32852.0\r\n",
      " 12C.NTH.D30.R4.Frac19: 32880.0\r\n",
      " 12C.NTH.D7.R4.Frac13: 33023.0\r\n",
      " 13C.PTH.D14.R4.Frac9: 33106.0\r\n",
      " 13C.PTH.D7.R4.Frac6: 33172.0\r\n",
      " 13C.PTH.D7.R4.Frac7: 33510.0\r\n",
      " 13X.NTH.D3.R4.Frac8: 33942.0\r\n",
      " 12C.NTH.D30.R4.Frac9: 33969.0\r\n",
      " 13X.NTH.D7.R4.Frac9: 34034.0\r\n",
      " 12C.NTH.D30.R4.Frac8: 34566.0\r\n",
      " 13X.NTH.D7.R4.Frac13: 34715.0\r\n",
      " 12C.NTH.D30.R4.Frac6: 34766.0\r\n",
      " 13C.PTH.D14.R4.Frac27: 34917.0\r\n",
      " 13X.NTH.D7.R4.Frac24: 35062.0\r\n",
      " 13C.PTH.D14.R4.Frac21: 35182.0\r\n",
      " 13C.NTH.D7.R4.Frac22: 35520.0\r\n",
      " 13C.PTH.D7.R4.Frac11: 36509.0\r\n",
      " 12C.NTH.D30.R4.Frac24: 36711.0\r\n",
      " 13C.PTH.D30.R4.Frac22: 36712.0\r\n",
      " 13X.NTH.D7.R4.Frac23: 36967.0\r\n",
      " 13X.NTH.D7.R4.Frac19: 37117.0\r\n",
      " 12C.NTH.D30.R4.Frac4: 37185.0\r\n",
      " 12C.NTH.D30.R4.Frac7: 37473.0\r\n",
      " 12C.NTH.D30.R4.Frac23: 37584.0\r\n",
      " 13X.NTH.D7.R4.Frac21: 37660.0\r\n",
      " 13X.NTH.D3.R4.Frac5: 37664.0\r\n",
      " 12C.NTH.D30.R4.Frac5: 38203.0\r\n",
      " 13X.NTH.D7.R4.Frac20: 38297.0\r\n",
      " 13C.NTH.D7.R4.Frac23: 38437.0\r\n",
      " 13C.PTH.D30.R4.Frac16: 38544.0\r\n",
      " 12C.NTH.D30.R4.Frac11: 38712.0\r\n",
      " 12C.NTH.D30.R4.Frac13: 38763.0\r\n",
      " 12C.NTH.D7.R4.Frac25: 38980.0\r\n",
      " 13X.NTH.D7.R4.Frac10: 39048.0\r\n",
      " 12C.NTH.D7.R4.Frac12: 39148.0\r\n",
      " 13X.NTH.D7.R4.Frac22: 39278.0\r\n",
      " 12C.NTH.D7.R4.Frac24: 39309.0\r\n",
      " 13X.NTH.D7.R4.Frac25: 39313.0\r\n",
      " 12C.NTH.D30.R4.Frac12: 39321.0\r\n",
      " 13C.PTH.D30.R4.Frac24: 39364.0\r\n",
      " 13C.PTH.D14.R4.Frac11: 39484.0\r\n",
      " 13C.NTH.D7.R4.Frac9: 39535.0\r\n",
      " 13C.PTH.D30.R4.Frac9: 39622.0\r\n",
      " 12C.NTH.D30.R4.Frac22: 39622.0\r\n",
      " 13C.PTH.D30.R4.Frac26: 39889.0\r\n",
      " 13C.NTH.D7.R4.Frac16: 39945.0\r\n",
      " 13X.NTH.D7.R4.Frac27: 40250.0\r\n",
      " 12C.NTH.D7.R4.Frac23: 40463.0\r\n",
      " 12C.NTH.D30.R4.Frac21: 40790.0\r\n",
      " 13C.PTH.D14.R4.Frac26: 41014.0\r\n",
      " 13X.NTH.D7.R4.Frac12: 41229.0\r\n",
      " 13C.PTH.D14.R4.Frac15: 41260.0\r\n",
      " 13C.PTH.D14.R4.Frac10: 41408.0\r\n",
      " 13C.PTH.D30.R4.Frac5: 41598.0\r\n",
      " 13X.NTH.D3.R4.Frac29: 41659.0\r\n",
      " 13C.PTH.D14.R4.Frac24: 42064.0\r\n",
      " 12C.NTH.D30.R4.Frac10: 42120.0\r\n",
      " Mock: 42352.0\r\n",
      " 12C.NTH.D7.R4.Frac22: 42499.0\r\n",
      " 13C.NTH.D7.R4.Frac24: 42610.0\r\n",
      " 13C.PTH.D30.R4.Frac25: 42743.0\r\n",
      " 12C.NTH.D30.R4.Frac25: 43000.0\r\n",
      " 13C.PTH.D14.R4.Frac8: 43058.0\r\n",
      " 13C.PTH.D30.R4.Frac8: 43176.0\r\n",
      " 13C.PTH.D7.R4.Frac12: 43267.0\r\n",
      " 13C.PTH.D30.R4.Frac7: 43867.0\r\n",
      " 13C.PTH.D30.R4.Frac23: 44470.0\r\n",
      " 13C.PTH.D14.R4.Frac6: 45241.0\r\n",
      " 12C.NTH.D7.R4.Frac14: 46019.0\r\n",
      " 13C.PTH.D14.R4.Frac22: 46296.0\r\n",
      " 13C.NTH.D7.R4.Frac8: 46576.0\r\n",
      " 13C.PTH.D14.R4.Frac28: 46967.0\r\n",
      " 12C.NTH.D7.R4.Frac10: 46986.0\r\n",
      " 13C.PTH.D14.R4.Frac23: 47385.0\r\n",
      " 13C.NTH.D7.R4.Frac7: 48666.0\r\n",
      " 13C.PTH.D30.R4.Frac15: 50552.0\r\n",
      " 13C.NTH.D7.R4.Frac5: 50619.0\r\n",
      " 13C.NTH.D7.R4.Frac6: 51727.0\r\n",
      " 13C.NTH.D7.R4.Frac10: 52047.0\r\n",
      " 13C.PTH.D7.R4.Frac14: 52783.0\r\n",
      " 13C.PTH.D7.R4.Frac13: 53217.0\r\n",
      " 12C.NTH.D7.R4.Frac11: 53294.0\r\n",
      " 13C.PTH.D30.R4.Frac6: 53314.0\r\n",
      " 13C.PTH.D14.R4.Frac12: 53713.0\r\n",
      " 13C.PTH.D14.R4.Frac25: 54199.0\r\n",
      " 13X.NTH.D7.R4.Frac11: 55119.0\r\n",
      " 13C.PTH.D30.R4.Frac10: 55228.0\r\n",
      " 12C.NTH.D30.R4.Frac26: 55715.0\r\n",
      " 13C.PTH.D14.R4.Frac14: 55861.0\r\n",
      " 12C.NTH.D7.R4.Frac5: 56440.0\r\n",
      " 13C.PTH.D30.R4.Frac13: 58951.0\r\n",
      " 13C.NTH.D7.R4.Frac15: 60053.0\r\n",
      " 13C.PTH.D30.R4.Frac12: 61305.0\r\n",
      " 12C.NTH.D7.R4.Frac7: 62025.0\r\n",
      " 13C.PTH.D14.R4.Frac13: 62289.0\r\n",
      " 13C.PTH.D30.R4.Frac11: 63183.0\r\n",
      " 12C.NTH.D7.R4.Frac6: 63684.0\r\n",
      " 13C.PTH.D14.R4.Frac7: 63855.0\r\n",
      " 13C.PTH.D30.R4.Frac27: 65525.0\r\n",
      " 13C.PTH.D30.R4.Frac14: 66044.0\r\n",
      " 13C.NTH.D7.R4.Frac14: 66446.0\r\n",
      " 12C.NTH.D30.R4.Frac27: 67969.0\r\n",
      " 13C.NTH.D7.R4.Frac11: 70151.0\r\n",
      " 13C.NTH.D7.R4.Frac12: 76598.0\r\n",
      " 13C.NTH.D7.R4.Frac13: 79779.0\r\n",
      " 12C.NTH.D7.R4.Frac8: 80171.0\r\n"
     ]
    }
   ],
   "source": [
    "# This tells us the overall data info\n",
    "# Num obs = OTUs\n",
    "# total count = total seqs\n",
    "# Chantal had 50% reduction after QC.\n",
    "\n",
    "!cat data/otu_table_Pool1_ITS_summary.txt\n",
    "\n"
   ]
  }
 ],
 "metadata": {
  "kernelspec": {
   "display_name": "Python 2",
   "language": "python",
   "name": "python2"
  },
  "language_info": {
   "codemirror_mode": {
    "name": "ipython",
    "version": 2
   },
   "file_extension": ".py",
   "mimetype": "text/x-python",
   "name": "python",
   "nbconvert_exporter": "python",
   "pygments_lexer": "ipython2",
   "version": "2.7.10"
  }
 },
 "nbformat": 4,
 "nbformat_minor": 0
}
