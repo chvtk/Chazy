{
 "cells": [
  {
   "cell_type": "code",
   "execution_count": 2,
   "metadata": {
    "collapsed": false
   },
   "outputs": [],
   "source": [
    "# Imports a parser from cogent\n",
    "from cogent.parse.fasta import MinimalFastaParser as parse"
   ]
  },
  {
   "cell_type": "code",
   "execution_count": 3,
   "metadata": {
    "collapsed": false
   },
   "outputs": [],
   "source": [
    "# applies for the whole segment\n",
    "nprocs = 10"
   ]
  },
  {
   "cell_type": "code",
   "execution_count": 4,
   "metadata": {
    "collapsed": false
   },
   "outputs": [
    {
     "name": "stdout",
     "output_type": "stream",
     "text": [
      ">13X.NTH.D1.R4_Frac15_0\r\n",
      "TACGTAGGGTGCAAGCGTTAATCGGAATTACTGGGCGTAAAGCGTGCGCAGGCGGTTTTGTAAGACAGTGGTGAAATCCCCGGGCTCAACCTGGGAACTGCCATTGTGACTGCAAAGCTAGAGTGCGGCAGAGGGGGATGGAATTCCGCGTGTAGCAGTGAAATGCGTAGATATGCGGAGGAACACCGATGGCGAAGGCAATCCCCTGGGCCTGCACTGACGCTCATGCACGAAAGCGTGGGGAGCAAACAGG\r\n",
      ">12C.NTH.D1.R4_Frac11_2178\r\n",
      "TACGTAGGGTGCAAGCGTTAATCGGAATTACTGGGCGTAAAGCGTGCGCAGGCGGTTTTGTAAGACAGTGGTGAAATCCCCGGGCTCAACCTGGGAACTGCCATTGTGACTGCAAAGCTAGAGTGCGGCAGAGGGGGATGGAATTCCGCGTGTAGCAGTGAAATGCGTAGATATGCGGAGGAACACCGATGGCGAAGGCAATCCCCTGGGCCTGCACTGACGCTCATGCACGAAAGCGTGGGGAGCAAACAGG\r\n",
      ">12C.NTH.D1.R4_Frac13_12713\r\n",
      "TACGTAGGGTGCAAGCGTTAATCGGAATTACTGGGCGTAAAGCGTGCGCAGGCGGTTTTGTAAGACAGTGGTGAAATCCCCGGGCTCAACCTGGGAACTGCCATTGTGACTGCAAAGCTAGAGTGCGGCAGAGGGGGATGGAATTCCGCGTGTAGCAGTGAAATGCGTAGATATGCGGAGGAACACCGATGGCGAAGGCAATCCCCTGGGCCTGCACTGACGCTCATGCACGAAAGCGTGGGGAGCAAACAGG\r\n",
      ">12C.PTH.D7.R4_Frac21_20123\r\n",
      "TACGTAGGGTGCAAGCGTTAATCGGAATTACTGGGCGTAAAGCGTGCGCAGGCGGTTTTGTAAGACAGTGGTGAAATCCCCGGGCTCAACCTGGGAACTGCCATTGTGACTGCAAAGCTAGAGTGCGGCAGAGGGGGATGGAATTCCGCGTGTAGCAGTGAAATGCGTAGATATGCGGAGGAACACCGATGGCGAAGGCAATCCCCTGGGCCTGCACTGACGCTCATGCACGAAAGCGTGGGGAGCAAACAGG\r\n",
      ">12C.NTH.D1.R4_Frac12_20930\r\n",
      "TACGTAGGGTGCAAGCGTTAATCGGAATTACTGGGCGTAAAGCGTGCGCAGGCGGTTTTGTAAGACAGTGGTGAAATCCCCGGGCTCAACCTGGGAACTGCCATTGTGACTGCAAAGCTAGAGTGCGGCAGAGGGGGATGGAATTCCGCGTGTAGCAGTGAAATGCGTAGATATGCGGAGGAACACCGATGGCGAAGGCAATCCCCTGGGCCTGCACTGACGCTCATGCACGAAAGCGTGGGGAGCAAACAGG\r\n"
     ]
    }
   ],
   "source": [
    "# Checking out data file.\n",
    "# This file was created using the QC_basic notebook.\n",
    "!head data/finalQC_pool3.fasta"
   ]
  },
  {
   "cell_type": "code",
   "execution_count": 5,
   "metadata": {
    "collapsed": false
   },
   "outputs": [],
   "source": [
    "!sed 's/R4_/R4\\./g' data/finalQC_pool3.fasta > data/finalQC_nound_pool3.fasta"
   ]
  },
  {
   "cell_type": "code",
   "execution_count": 6,
   "metadata": {
    "collapsed": false
   },
   "outputs": [
    {
     "name": "stdout",
     "output_type": "stream",
     "text": [
      ">13X.NTH.D1.R4.Frac15_0\r\n",
      "TACGTAGGGTGCAAGCGTTAATCGGAATTACTGGGCGTAAAGCGTGCGCAGGCGGTTTTGTAAGACAGTGGTGAAATCCCCGGGCTCAACCTGGGAACTGCCATTGTGACTGCAAAGCTAGAGTGCGGCAGAGGGGGATGGAATTCCGCGTGTAGCAGTGAAATGCGTAGATATGCGGAGGAACACCGATGGCGAAGGCAATCCCCTGGGCCTGCACTGACGCTCATGCACGAAAGCGTGGGGAGCAAACAGG\r\n",
      ">12C.NTH.D1.R4.Frac11_2178\r\n",
      "TACGTAGGGTGCAAGCGTTAATCGGAATTACTGGGCGTAAAGCGTGCGCAGGCGGTTTTGTAAGACAGTGGTGAAATCCCCGGGCTCAACCTGGGAACTGCCATTGTGACTGCAAAGCTAGAGTGCGGCAGAGGGGGATGGAATTCCGCGTGTAGCAGTGAAATGCGTAGATATGCGGAGGAACACCGATGGCGAAGGCAATCCCCTGGGCCTGCACTGACGCTCATGCACGAAAGCGTGGGGAGCAAACAGG\r\n",
      ">12C.NTH.D1.R4.Frac13_12713\r\n",
      "TACGTAGGGTGCAAGCGTTAATCGGAATTACTGGGCGTAAAGCGTGCGCAGGCGGTTTTGTAAGACAGTGGTGAAATCCCCGGGCTCAACCTGGGAACTGCCATTGTGACTGCAAAGCTAGAGTGCGGCAGAGGGGGATGGAATTCCGCGTGTAGCAGTGAAATGCGTAGATATGCGGAGGAACACCGATGGCGAAGGCAATCCCCTGGGCCTGCACTGACGCTCATGCACGAAAGCGTGGGGAGCAAACAGG\r\n",
      ">12C.PTH.D7.R4.Frac21_20123\r\n",
      "TACGTAGGGTGCAAGCGTTAATCGGAATTACTGGGCGTAAAGCGTGCGCAGGCGGTTTTGTAAGACAGTGGTGAAATCCCCGGGCTCAACCTGGGAACTGCCATTGTGACTGCAAAGCTAGAGTGCGGCAGAGGGGGATGGAATTCCGCGTGTAGCAGTGAAATGCGTAGATATGCGGAGGAACACCGATGGCGAAGGCAATCCCCTGGGCCTGCACTGACGCTCATGCACGAAAGCGTGGGGAGCAAACAGG\r\n",
      ">12C.NTH.D1.R4.Frac12_20930\r\n",
      "TACGTAGGGTGCAAGCGTTAATCGGAATTACTGGGCGTAAAGCGTGCGCAGGCGGTTTTGTAAGACAGTGGTGAAATCCCCGGGCTCAACCTGGGAACTGCCATTGTGACTGCAAAGCTAGAGTGCGGCAGAGGGGGATGGAATTCCGCGTGTAGCAGTGAAATGCGTAGATATGCGGAGGAACACCGATGGCGAAGGCAATCCCCTGGGCCTGCACTGACGCTCATGCACGAAAGCGTGGGGAGCAAACAGG\r\n"
     ]
    }
   ],
   "source": [
    "!head data/finalQC_nound_pool3.fasta"
   ]
  },
  {
   "cell_type": "code",
   "execution_count": 7,
   "metadata": {
    "collapsed": false
   },
   "outputs": [],
   "source": [
    "%%bash\n",
    "# Running the seq separation on mothur instead\n",
    "\n",
    "mothur \"#unique.seqs(fasta=data/finalQC_nound_pool3.fasta)\" > /dev/null"
   ]
  },
  {
   "cell_type": "code",
   "execution_count": 8,
   "metadata": {
    "collapsed": false
   },
   "outputs": [],
   "source": [
    "# Making a dictionary of the names files, splitting it into the first (ID) and second (commas list of all seqs in it)\n",
    "# Then it counts their lengths and saves it in the dictionary\n",
    "\n",
    "counts = {}\n",
    "\n",
    "with open(\"data/finalQC_nound_pool3.names\") as f:\n",
    "    for line in f:\n",
    "        seedID, seqIDs = line.split(\"\\t\")\n",
    "        count = len(seqIDs.split(\",\"))\n",
    "        counts[seedID] = count        "
   ]
  },
  {
   "cell_type": "code",
   "execution_count": 9,
   "metadata": {
    "collapsed": false
   },
   "outputs": [],
   "source": [
    "# Adds the counts from this dictionary to our finalQC.unique file so it looks like a usearch file with \"size=XXX\"\n",
    "\n",
    "with open(\"data/finalQC_nound_pool3.unique.usearch_names.fasta\", \"w\") as f:\n",
    "    for n, s in parse(open(\"data/finalQC_nound_pool3.unique.fasta\")):\n",
    "        f.write(\">%s;size=%s;\\n%s\\n\"%(n,counts[n],s))  "
   ]
  },
  {
   "cell_type": "code",
   "execution_count": 10,
   "metadata": {
    "collapsed": false
   },
   "outputs": [
    {
     "name": "stdout",
     "output_type": "stream",
     "text": [
      ">13X.NTH.D1.R4.Frac15_0;size=1517;\r\n",
      "TACGTAGGGTGCAAGCGTTAATCGGAATTACTGGGCGTAAAGCGTGCGCAGGCGGTTTTGTAAGACAGTGGTGAAATCCCCGGGCTCAACCTGGGAACTGCCATTGTGACTGCAAAGCTAGAGTGCGGCAGAGGGGGATGGAATTCCGCGTGTAGCAGTGAAATGCGTAGATATGCGGAGGAACACCGATGGCGAAGGCAATCCCCTGGGCCTGCACTGACGCTCATGCACGAAAGCGTGGGGAGCAAACAGG\r\n",
      ">12C.PTH.D14.R4.Frac6_1;size=1;\r\n",
      "TACGTAGGTGGCAAGCGTTGTCCGGATTTACTGGGCGTAAAGAGCGCGCAGGCGGTCGATTTAGTCGCGTGTGAAAGCCCCCGGCTCAACTGGGGAGGGTCACGCGATACTGATCGACTCGAAGGCAGGAGAGGGTAGTGGAATTCCCGGTGTAGTGGTGAAATGCGTAGATATTGGGTGGAACACCGGTGGCGAAAGCGGCTCACTGGCTCGGTTCTGACGCTGAGGCGCGAGAGCGTGGGGAGCAAACAGG\r\n",
      ">12C.PTH.D7.R4.Frac17_2;size=1;\r\n",
      "TACGTAGGGTCCGAGCGTTGTCCGGAGTTACTGGGCGTAAAGCGCGCGCAGGCGGCTTTATAAGTCTGGCGTGAAAGCCCCCGGCTCAACCGGGGAGGGTCGTCGGAGACTGTAGAGCTTGAGGGCGGTAGGGGCTGGTGGAATTCCCGGTGTAGTGGTGAAATGCGTAGAGATCCGGAAGAACACCGGTGGCGAAGGCGGCCCGCTGGGCAGGAAGGCTCGCAAGAGCCGGCTGACACTGAGGCGCGACAGCGTGGGGAGCAAACAGG\r\n",
      ">12C.NTH.D14.R4.Frac17_3;size=1;\r\n",
      "TACGTAGGTGGCGAGCGTTGTCCGGATTTACTGGGCGTAAAGAGCGCGCAGGCGGCTGGTCAAGTCCGGTGTGAAAGCTCCCGGCTTAACTGGGAAATTGCATCGGAAACTGATCGGCTGGAAGGTGGGAGAGGGTAGCGGAATTCCCGGTGTAGTGGTGAAATGCGTAGATATCGGGAGGAACACCAGTGGCGAAAGCGGCTACCTGGCCCATTCTTGACGCTGAGGCGCGAAAGCTAGGGGAGCAAACGGG\r\n",
      ">12C.PTH.D14.R4.Frac6_4;size=1;\r\n",
      "TACGTAGGTGGCTAGCGTTGTCCGGATTTACTGGGCGTAAAGAGCGCGCAGGCGGTCGATTTAGTCGGGTGTGAAAGCCCCAGGCTCAACTGGGGAGGGTCACGCGATACTGATCGACTCGAAGGCAGGAGAGGGGAGTGGAATTCCCGGTGTAGTGGTGAAATGCGTAGATATTGGGTGGAACACCGGTGGCGAAGGCGGCTCACTGGCTCGGTTCTGACGCTGAGGCGCGAAAGCGTGGGGAGCAAACAGG\r\n"
     ]
    }
   ],
   "source": [
    "!head data/finalQC_nound_pool3.unique.usearch_names.fasta"
   ]
  },
  {
   "cell_type": "code",
   "execution_count": 11,
   "metadata": {
    "collapsed": false
   },
   "outputs": [
    {
     "name": "stdout",
     "output_type": "stream",
     "text": [
      "1.6G\tdata/finalQC_nound_pool3.fasta\r\n"
     ]
    }
   ],
   "source": [
    "# Chuck looking to see how many Gb this file is.\n",
    "!du -h data/finalQC_nound_pool3.fasta"
   ]
  },
  {
   "cell_type": "code",
   "execution_count": 12,
   "metadata": {
    "collapsed": false
   },
   "outputs": [
    {
     "name": "stdout",
     "output_type": "stream",
     "text": [
      "usearch v7.0.1090_i86linux32, 4.0Gb RAM (132Gb total), 40 cores\n",
      "(C) Copyright 2013 Robert C. Edgar, all rights reserved.\n",
      "http://drive5.com/usearch\n",
      "\n",
      "Licensed to: chuck.peperanney@gmail.com\n",
      "\n",
      "00:00 2.1Mb Reading data/finalQC_nound_pool3.unique.usearch_names.fasta, 894Mb\n",
      "00:01 896Mb 3061381 (3.1M) seqs, min 252, avg 253, max 341nt\n",
      "00:03 933Mb Getting sizes\n",
      "00:06 957Mb Sorting 295942 sequences\n",
      "00:07 959Mb  100.0% Writing data/finalQC_nound_pool3.unique_sorted.fasta\n"
     ]
    }
   ],
   "source": [
    "# Sequences are sorted by size\n",
    "# Here the size of clusters - we are excluding the singletons here\n",
    "# You would change minsize to 1 if you wanted to include singletons\n",
    "# Or, you know, just not do this step.\n",
    "# But you should just get rid of them.\n",
    "!usearch -sortbysize data/finalQC_nound_pool3.unique.usearch_names.fasta -output data/finalQC_nound_pool3.unique_sorted.fasta -minsize 2"
   ]
  },
  {
   "cell_type": "code",
   "execution_count": 13,
   "metadata": {
    "collapsed": false
   },
   "outputs": [
    {
     "name": "stdout",
     "output_type": "stream",
     "text": [
      ">13C.NTH.D7.R4.Frac14_25;size=78460;\r\n",
      "TACGTAGGGCGCAAGCGTTATCCGGAATTATTGGGCGTAAAGAGCTCGTAGGCGGTTTGTCGCGTCTGCCGTGAAAGTCC\r\n",
      "GGGGCTCAACTCCGGATCTGCGGTGGGTACGGGCAGACTAGAGTGATGTAGGGGAGACTGGAATTCCTGGTGTAGCGGTG\r\n",
      "AAATGCGCAGATATCAGGAGGAACACCGATGGCGAAGGCAGGTCTCTGGGCATTAACTGACGCTGAGGAGCGAAAGCATG\r\n",
      "GGGAGCGAACAGG\r\n",
      ">13X.NTH.D1.R4.Frac12_200;size=28149;\r\n",
      "TACAGAGGGTGCAAGCGTTAATCGGAATTACTGGGCGTAAAGCGCGCGTAGGTGGTTTGTTAAGTTGGATGTGAAAGCCC\r\n",
      "CGGGCTCAACCTGGGAACTGCATTCAAAACTGACAAGCTAGAGTATGGTAGAGGGTGGTGGAATTTCCTGTGTAGCGGTG\r\n",
      "AAATGCGTAGATATAGGAAGGAACACCAGTGGCGAAGGCGACCACCTGGACTGATACTGACACTGAGGTGCGAAAGCGTG\r\n",
      "GGGAGCAAACAGG\r\n"
     ]
    }
   ],
   "source": [
    "# Checking data\n",
    "# You can see here, the first two sequences we saw above are now gone.\n",
    "!head data/finalQC_nound_pool3.unique_sorted.fasta"
   ]
  },
  {
   "cell_type": "code",
   "execution_count": 14,
   "metadata": {
    "collapsed": false
   },
   "outputs": [
    {
     "name": "stdout",
     "output_type": "stream",
     "text": [
      "usearch v7.0.1090_i86linux32, 4.0Gb RAM (132Gb total), 40 cores\n",
      "(C) Copyright 2013 Robert C. Edgar, all rights reserved.\n",
      "http://drive5.com/usearch\n",
      "\n",
      "Licensed to: chuck.peperanney@gmail.com\n",
      "\n",
      "03:03 341Mb  100.0% 11616 OTUs\n",
      "                              \n",
      "Input seqs  295942 (295.9k)\n",
      "      OTUs  11616 (11.6k)\n",
      "   Members  216060 (216.1k)\n",
      "  Chimeras  68266 (68.3k)\n",
      "   Max mem  341Mb\n",
      "      Time  03:02\n",
      "Throughput  1626.1 seqs/sec.\n",
      "\n"
     ]
    }
   ],
   "source": [
    "# This is the clustering command.\n",
    "# Default is 97% minimum ID.\n",
    "# Not recommended to use more than 97%.\n",
    "# Creates the centroids, or \"seeds\"\n",
    "# Then you can take them out\n",
    "!usearch -cluster_otus data/finalQC_nound_pool3.unique_sorted.fasta -otus data/otus_pool3.fasta"
   ]
  },
  {
   "cell_type": "code",
   "execution_count": 15,
   "metadata": {
    "collapsed": false
   },
   "outputs": [],
   "source": [
    "# Making another file\n",
    "# Figure this out (what is this?)\n",
    "# This is a script (fasta_number.py) that replaces fasta names with XXX1, XXX2, etc.\n",
    "# In our case, it is replacing the names with OTU.1, OTU.2, etc., and outputs it into a file called otusn.fasta\n",
    "!/opt/bioinfo/edgar_python_scripts/fasta_number.py data/otus_pool3.fasta OTU. > data/otusn_pool3.fasta"
   ]
  },
  {
   "cell_type": "code",
   "execution_count": 16,
   "metadata": {
    "collapsed": false
   },
   "outputs": [
    {
     "name": "stdout",
     "output_type": "stream",
     "text": [
      ">OTU.1\r\n",
      "TACGTAGGGCGCAAGCGTTATCCGGAATTATTGGGCGTAAAGAGCTCGTAGGCGGTTTGTCGCGTCTGCCGTGAAAGTCC\r\n",
      "GGGGCTCAACTCCGGATCTGCGGTGGGTACGGGCAGACTAGAGTGATGTAGGGGAGACTGGAATTCCTGGTGTAGCGGTG\r\n",
      "AAATGCGCAGATATCAGGAGGAACACCGATGGCGAAGGCAGGTCTCTGGGCATTAACTGACGCTGAGGAGCGAAAGCATG\r\n",
      "GGGAGCGAACAGG\r\n",
      ">OTU.2\r\n",
      "TACAGAGGGTGCAAGCGTTAATCGGAATTACTGGGCGTAAAGCgcgcgTAGGTGGTTTGTTAAGTTGGATGTGAAAGCCC\r\n",
      "CGGGCTCAACCTGGGAACTGCATTCAAAACTGACAAGCTAGAGTATGGTAGAGGGTGGTGGAATTTCCTGTGTAGCGGTG\r\n",
      "AAATGCGTAGATATAGGAAGGAACACCAGTGGCGAAGGCGACCACCTGGACTGATACTGACACTGAGGTGCGAAAGCGTG\r\n",
      "GGGAGCAAACAGG\r\n"
     ]
    }
   ],
   "source": [
    "!head data/otusn_pool3.fasta"
   ]
  },
  {
   "cell_type": "markdown",
   "metadata": {},
   "source": [
    "### Removing Chloroplast, Eukaryal, and Archaeal sequences"
   ]
  },
  {
   "cell_type": "code",
   "execution_count": 17,
   "metadata": {
    "collapsed": false
   },
   "outputs": [],
   "source": [
    "# You do need to assign taxonomy in order to pull out the Euks., etc.\n",
    "# I could cp these files from the server to wherever I need them.\n",
    "# Input is your fasta file\n",
    "# Output is a fasta with taxonomy assinged (still working with unique seqs)\n",
    "# This didn't work first, because Chuck had to delete a \"jobs\" folder in the tmp directory.\n",
    "\n",
    "!parallel_assign_taxonomy_uclust.py \\\n",
    "-r /home/chantal/RNASIP/data/databases/Silva_111_post/no_ambiguous_bases_files/97_Silva_111_rep_set_no_ambig.fasta \\\n",
    "-t /home/chantal/RNASIP/data/databases/Silva_111_post/taxonomy/Silva_111_taxa_map_full.txt \\\n",
    "-O 10 \\\n",
    "-i data/otusn_pool3.fasta \\\n",
    "-o data/otusn_pool3_tax"
   ]
  },
  {
   "cell_type": "code",
   "execution_count": 18,
   "metadata": {
    "collapsed": false
   },
   "outputs": [],
   "source": [
    "# This makes a file of what we want to remove\n",
    "# Could change this to pull out different groups.\n",
    "# These primers actually had good Archaeal targets - so, it would be okay to include them.\n",
    "!egrep \"Chloroplast|Eukaryota|Archaea|mitochondria\" \\\n",
    "data/otusn_pool3_tax/otusn_pool3_tax_assignments.txt \\\n",
    "| awk '{print $1}' > data/to_remove_tax.accnos"
   ]
  },
  {
   "cell_type": "code",
   "execution_count": 19,
   "metadata": {
    "collapsed": false
   },
   "outputs": [
    {
     "name": "stdout",
     "output_type": "stream",
     "text": [
      "141 data/to_remove_tax.accnos\r\n"
     ]
    }
   ],
   "source": [
    "# wc is number of lines of the taxa that will be removed\n",
    "!wc -l data/to_remove_tax.accnos"
   ]
  },
  {
   "cell_type": "code",
   "execution_count": 20,
   "metadata": {
    "collapsed": false
   },
   "outputs": [
    {
     "name": "stdout",
     "output_type": "stream",
     "text": [
      "OTU.672\r\n",
      "OTU.379\r\n",
      "OTU.73\r\n",
      "OTU.85\r\n",
      "OTU.1021\r\n",
      "OTU.49\r\n",
      "OTU.1015\r\n",
      "OTU.248\r\n",
      "OTU.894\r\n",
      "OTU.98\r\n"
     ]
    }
   ],
   "source": [
    "# Looking at what you're removing\n",
    "!head data/to_remove_tax.accnos"
   ]
  },
  {
   "cell_type": "code",
   "execution_count": 21,
   "metadata": {
    "collapsed": false
   },
   "outputs": [
    {
     "name": "stdout",
     "output_type": "stream",
     "text": [
      "\u001b[H\u001b[2J\n",
      "\n",
      "\n",
      "\n",
      "\n",
      "\n",
      "mothur v.1.32.1\n",
      "Last updated: 10/16/2013\n",
      "\n",
      "by\n",
      "Patrick D. Schloss\n",
      "\n",
      "Department of Microbiology & Immunology\n",
      "University of Michigan\n",
      "pschloss@umich.edu\n",
      "http://www.mothur.org\n",
      "\n",
      "When using, please cite:\n",
      "Schloss, P.D., et al., Introducing mothur: Open-source, platform-independent, community-supported software for describing and comparing microbial communities. Appl Environ Microbiol, 2009. 75(23):7537-41.\n",
      "\n",
      "Distributed under the GNU General Public License\n",
      "\n",
      "Type 'help()' for information on the commands that are available\n",
      "\n",
      "Type 'quit()' to exit program\n",
      "\n",
      "\n",
      "\n",
      "mothur > remove.seqs(fasta=data/otusn_pool3.fasta, accnos=data/to_remove_tax.accnos)\n",
      "Removed 141 sequences from your fasta file.\n",
      "\n",
      "Output File Names: \n",
      "data/otusn_pool3.pick.fasta\n",
      "\n",
      "\n",
      "mothur > quit()\n"
     ]
    }
   ],
   "source": [
    "%%bash\n",
    "# Remove.seqs command will actually remove these taxa\n",
    "mothur \"#remove.seqs(fasta=data/otusn_pool3.fasta, \\\n",
    "accnos=data/to_remove_tax.accnos)\" #> /dev/null"
   ]
  },
  {
   "cell_type": "markdown",
   "metadata": {},
   "source": [
    "### Mapping Reads"
   ]
  },
  {
   "cell_type": "code",
   "execution_count": 22,
   "metadata": {
    "collapsed": false
   },
   "outputs": [],
   "source": [
    "# Pulling out the sample identifier.\n",
    "# It is adding a portion to the finalQC file that has the barcode label.\n",
    "# Then we can use this later\n",
    "# Now we will see how these reads map to the defined centroids (after removing EuK, etc.)\n",
    "# Basically, we cut, cut, refined our fasta to make our OTU centroids.\n",
    "# THEN, we went back to our original QC'd total fasta file and will throw it all against these nicely defined seeds.\n",
    "# Anything that doesn't match, we won't keep.\n",
    "!awk -F\"_\" \\\n",
    "'BEGIN{OFS=\";\"}{ if ( substr($1,0,1) == \">\"){ print $0,\"barcodelabel=\",$1 } else { print $0 } }' \\\n",
    "data/finalQC_nound_pool3.fasta | \\\n",
    "sed 's/;>//' > data/finalQC_pool3_usearchfmt.fasta"
   ]
  },
  {
   "cell_type": "code",
   "execution_count": 23,
   "metadata": {
    "collapsed": false
   },
   "outputs": [
    {
     "name": "stdout",
     "output_type": "stream",
     "text": [
      ">13X.NTH.D1.R4.Frac15_0;barcodelabel=13X.NTH.D1.R4.Frac15\r\n",
      "TACGTAGGGTGCAAGCGTTAATCGGAATTACTGGGCGTAAAGCGTGCGCAGGCGGTTTTGTAAGACAGTGGTGAAATCCCCGGGCTCAACCTGGGAACTGCCATTGTGACTGCAAAGCTAGAGTGCGGCAGAGGGGGATGGAATTCCGCGTGTAGCAGTGAAATGCGTAGATATGCGGAGGAACACCGATGGCGAAGGCAATCCCCTGGGCCTGCACTGACGCTCATGCACGAAAGCGTGGGGAGCAAACAGG\r\n",
      ">12C.NTH.D1.R4.Frac11_2178;barcodelabel=12C.NTH.D1.R4.Frac11\r\n",
      "TACGTAGGGTGCAAGCGTTAATCGGAATTACTGGGCGTAAAGCGTGCGCAGGCGGTTTTGTAAGACAGTGGTGAAATCCCCGGGCTCAACCTGGGAACTGCCATTGTGACTGCAAAGCTAGAGTGCGGCAGAGGGGGATGGAATTCCGCGTGTAGCAGTGAAATGCGTAGATATGCGGAGGAACACCGATGGCGAAGGCAATCCCCTGGGCCTGCACTGACGCTCATGCACGAAAGCGTGGGGAGCAAACAGG\r\n",
      ">12C.NTH.D1.R4.Frac13_12713;barcodelabel=12C.NTH.D1.R4.Frac13\r\n",
      "TACGTAGGGTGCAAGCGTTAATCGGAATTACTGGGCGTAAAGCGTGCGCAGGCGGTTTTGTAAGACAGTGGTGAAATCCCCGGGCTCAACCTGGGAACTGCCATTGTGACTGCAAAGCTAGAGTGCGGCAGAGGGGGATGGAATTCCGCGTGTAGCAGTGAAATGCGTAGATATGCGGAGGAACACCGATGGCGAAGGCAATCCCCTGGGCCTGCACTGACGCTCATGCACGAAAGCGTGGGGAGCAAACAGG\r\n",
      ">12C.PTH.D7.R4.Frac21_20123;barcodelabel=12C.PTH.D7.R4.Frac21\r\n",
      "TACGTAGGGTGCAAGCGTTAATCGGAATTACTGGGCGTAAAGCGTGCGCAGGCGGTTTTGTAAGACAGTGGTGAAATCCCCGGGCTCAACCTGGGAACTGCCATTGTGACTGCAAAGCTAGAGTGCGGCAGAGGGGGATGGAATTCCGCGTGTAGCAGTGAAATGCGTAGATATGCGGAGGAACACCGATGGCGAAGGCAATCCCCTGGGCCTGCACTGACGCTCATGCACGAAAGCGTGGGGAGCAAACAGG\r\n",
      ">12C.NTH.D1.R4.Frac12_20930;barcodelabel=12C.NTH.D1.R4.Frac12\r\n",
      "TACGTAGGGTGCAAGCGTTAATCGGAATTACTGGGCGTAAAGCGTGCGCAGGCGGTTTTGTAAGACAGTGGTGAAATCCCCGGGCTCAACCTGGGAACTGCCATTGTGACTGCAAAGCTAGAGTGCGGCAGAGGGGGATGGAATTCCGCGTGTAGCAGTGAAATGCGTAGATATGCGGAGGAACACCGATGGCGAAGGCAATCCCCTGGGCCTGCACTGACGCTCATGCACGAAAGCGTGGGGAGCAAACAGG\r\n"
     ]
    }
   ],
   "source": [
    "!head data/finalQC_pool3_usearchfmt.fasta"
   ]
  },
  {
   "cell_type": "code",
   "execution_count": 26,
   "metadata": {
    "collapsed": false
   },
   "outputs": [
    {
     "name": "stdout",
     "output_type": "stream",
     "text": [
      "usearch v7.0.1090_i86linux32, 4.0Gb RAM (132Gb total), 40 cores\n",
      "(C) Copyright 2013 Robert C. Edgar, all rights reserved.\n",
      "http://drive5.com/usearch\n",
      "\n",
      "Licensed to: chuck.peperanney@gmail.com\n",
      "\n",
      "00:00  19Mb Reading data/otusn_pool3.fasta, 3.1Mb\n",
      "00:00  22Mb 11616 (11.6k) seqs, min 252, avg 253, max 321nt\n",
      "00:01  22Mb  100.0% Masking\n",
      "00:01  22Mb  100.0% Word stats\n",
      "00:01  35Mb  100.0% Building slots\n",
      "00:01  35Mb  100.0% Build index\n",
      "00:46 193Mb  100.0% Searching, 74.0% matched\n"
     ]
    }
   ],
   "source": [
    "# This is where the actual OTUs are being assigned. We choose 97% sequence ID threshold here.\n",
    "# This might take a while - like 5 minutes\n",
    "# Depending ont he clustering algorithm, like pairwise... it would take, like, days on the same number of processors.\n",
    "# This is why usearch (centroid-based) is so much better\n",
    "# But is it more biologically relevant? ... maybe, maybe not.\n",
    "# Edgar is showing it's not that bad.\n",
    "\n",
    "# We take our total QC data (modified above to have the sample ID extracted)\n",
    "# We compare it to the otusn.pick.fasta database we made above\n",
    "# We produce a readmap.uc file which tells us how the reads from our finalQC file map to the otusn seed database.\n",
    "\n",
    "!usearch -usearch_global data/finalQC_pool3_usearchfmt.fasta \\\n",
    "-db data/otusn_pool3.fasta \\\n",
    "-strand plus -id 0.97 \\\n",
    "-uc data/readmap_pool3.uc \\\n",
    "-threads 15"
   ]
  },
  {
   "cell_type": "code",
   "execution_count": 27,
   "metadata": {
    "collapsed": false
   },
   "outputs": [
    {
     "name": "stdout",
     "output_type": "stream",
     "text": [
      "data/readmap_pool3.uc 100.0%   \n"
     ]
    }
   ],
   "source": [
    "# Makes an OTU table\n",
    "# It will tell me the OTU ID, and then for all the samples, which OTUs it has sequences from.\n",
    "!python /opt/bioinfo/edgar_python_scripts/uc2otutab.py data/readmap_pool3.uc > data/otu_table_pool3.txt"
   ]
  },
  {
   "cell_type": "code",
   "execution_count": 28,
   "metadata": {
    "collapsed": false
   },
   "outputs": [],
   "source": [
    "# Issues with biom table formatting\n",
    "!if [ -f data/otu_table_pool3.biom ]; then rm data/otu_table_pool3.biom; fi #This is to mitigate a biom bug\n",
    "!biom convert -i data/otu_table_pool3.txt -o data/otu_table_pool3.biom --table-type \"otu table\""
   ]
  },
  {
   "cell_type": "code",
   "execution_count": 29,
   "metadata": {
    "collapsed": false
   },
   "outputs": [],
   "source": [
    "# Issues with biom table formatting\n",
    "!if [ -f data/otu_table_pool3_summary.txt ]; then rm data/otu_table_pool3_summary.txt; fi #This is to mitigate a biom bug\n",
    "!biom summarize-table -i data/otu_table_pool3.biom -o data/otu_table_pool3_summary.txt"
   ]
  },
  {
   "cell_type": "code",
   "execution_count": 30,
   "metadata": {
    "collapsed": false
   },
   "outputs": [
    {
     "name": "stdout",
     "output_type": "stream",
     "text": [
      "Num samples: 192\r\n",
      "Num observations: 11616\r\n",
      "Total count: 4279095\r\n",
      "Table density (fraction of non-zero values): 0.212\r\n",
      "Table md5 (unzipped): db4328cd774b15d6e595e93e30195707\r\n",
      "\r\n",
      "Counts/sample summary:\r\n",
      " Min: 1618.0\r\n",
      " Max: 48666.0\r\n",
      " Median: 22299.000\r\n",
      " Mean: 22286.953\r\n",
      " Std. dev.: 7134.322\r\n",
      " Sample Metadata Categories: None provided\r\n",
      " Observation Metadata Categories: None provided\r\n",
      "\r\n",
      "Counts/sample detail:\r\n",
      " 12C.PTH.D7.R4.H2O: 1618.0\r\n",
      " 13C.NTH.D30.R4.H20: 2433.0\r\n",
      " 13X.NTH.D1.R4.H2O: 2770.0\r\n",
      " 12C.NTH.D14.R4.H2O: 2775.0\r\n",
      " 13C.NTH.D7.R4.H2O: 3088.0\r\n",
      " 12C.PTH.D14.R4.H2O: 3128.0\r\n",
      " 13X.PTH.D3.R4.H2O: 3447.0\r\n",
      " 12C.NTH.D30.R4.H2O: 5042.0\r\n",
      " 13C.NTH.D7.R4.Frac24: 13949.0\r\n",
      " 13C.NTH.D30.R4.Frac20: 14083.0\r\n",
      " 12C.NTH.D14.R4.Frac19: 14187.0\r\n",
      " 13X.PTH.D3.R4.Frac18: 14206.0\r\n",
      " 13C.NTH.D30.R4.Frac19: 14347.0\r\n",
      " 12C.PTH.D14.R4.Frac21: 14388.0\r\n",
      " 12C.NTH.D30.R4.Frac19: 14396.0\r\n",
      " 13X.PTH.D3.R4.Frac20: 14399.0\r\n",
      " 12C.PTH.D7.R4.Frac16: 14549.0\r\n",
      " 13C.NTH.D7.R4.Frac19: 14576.0\r\n",
      " 12C.NTH.D30.R4.Frac21: 14647.0\r\n",
      " 12C.PTH.D7.R4.Frac10: 14723.0\r\n",
      " 12C.PTH.D7.R4.Frac23: 14754.0\r\n",
      " 12C.PTH.D7.R4.Frac15: 14877.0\r\n",
      " 13C.NTH.D7.R4.Frac23: 14951.0\r\n",
      " 12C.PTH.D14.R4.Frac19: 15131.0\r\n",
      " 12C.NTH.D14.R4.Frac17: 15186.0\r\n",
      " 12C.NTH.D30.R4.Frac22: 15334.0\r\n",
      " 12C.PTH.D7.R4.Frac25: 15462.0\r\n",
      " 12C.NTH.D14.R4.Frac20: 15637.0\r\n",
      " 13C.NTH.D7.R4.Frac21: 15672.0\r\n",
      " 12C.NTH.D14.R4.Frac22: 15764.0\r\n",
      " 12C.PTH.D7.R4.Frac20: 16153.0\r\n",
      " 12C.NTH.D30.R4.Frac18: 16153.0\r\n",
      " 13C.NTH.D7.R4.Frac18: 16246.0\r\n",
      " 12C.PTH.D7.R4.Frac7: 16326.0\r\n",
      " 13C.NTH.D7.R4.Frac22: 16426.0\r\n",
      " 13X.NTH.D1.R4.Frac19: 16455.0\r\n",
      " 12C.PTH.D7.R4.Frac18: 16582.0\r\n",
      " 12C.NTH.D14.R4.Frac21: 16768.0\r\n",
      " 13X.NTH.D1.R4.Frac20: 16822.0\r\n",
      " 13C.NTH.D30.R4.Frac22: 16908.0\r\n",
      " 12C.PTH.D7.R4.Frac9: 16965.0\r\n",
      " 13X.PTH.D3.R4.Frac17: 16994.0\r\n",
      " 12C.NTH.D30.R4.Frac24: 17151.0\r\n",
      " 12C.PTH.D7.R4.Frac26: 17617.0\r\n",
      " 12C.PTH.D14.R4.Frac18: 17670.0\r\n",
      " 12C.PTH.D14.R4.Frac23: 17859.0\r\n",
      " 13C.NTH.D7.R4.Frac16: 18029.0\r\n",
      " 12C.PTH.D7.R4.Frac21: 18160.0\r\n",
      " 13C.NTH.D7.R4.Frac11: 18416.0\r\n",
      " 13X.PTH.D3.R4.Frac7: 18553.0\r\n",
      " 13C.NTH.D30.R4.Frac18: 18661.0\r\n",
      " 13X.NTH.D1.R4.Frac21: 18751.0\r\n",
      " 13X.NTH.D1.R4.Frac22: 19034.0\r\n",
      " 12C.PTH.D7.R4.Frac24: 19208.0\r\n",
      " 12C.PTH.D7.R4.Frac12: 19415.0\r\n",
      " 13X.PTH.D3.R4.Frac16: 19461.0\r\n",
      " 12C.PTH.D7.R4.Frac8: 19462.0\r\n",
      " 13X.PTH.D3.R4.Frac19: 19551.0\r\n",
      " 13X.NTH.D1.R4.Frac17: 19586.0\r\n",
      " 12C.NTH.D30.R4.Frac23: 19827.0\r\n",
      " 13X.PTH.D3.R4.Frac9: 19846.0\r\n",
      " 12C.NTH.D14.R4.Frac14: 19893.0\r\n",
      " 12C.PTH.D14.R4.Frac22: 19964.0\r\n",
      " 12C.NTH.D14.R4.Frac16: 19987.0\r\n",
      " 12C.NTH.D14.R4.Frac23: 20021.0\r\n",
      " 12C.PTH.D14.R4.Frac17: 20092.0\r\n",
      " 13C.NTH.D7.R4.Frac9: 20103.0\r\n",
      " 13C.NTH.D7.R4.Frac25: 20114.0\r\n",
      " 13C.NTH.D30.R4.Frac14: 20147.0\r\n",
      " 13C.NTH.D7.R4.Frac8: 20228.0\r\n",
      " 13C.NTH.D7.R4.Frac10: 20391.0\r\n",
      " 12C.NTH.D30.R4.Frac26: 20413.0\r\n",
      " 13C.NTH.D7.R4.Frac17: 20455.0\r\n",
      " Mock: 20621.0\r\n",
      " 13X.PTH.D3.R4.Frac6: 20706.0\r\n",
      " 12C.PTH.D7.R4.Frac5: 20724.0\r\n",
      " 13X.PTH.D3.R4.Frac24: 20939.0\r\n",
      " 13C.NTH.D30.R4.Frac21: 21016.0\r\n",
      " 12C.NTH.D14.R4.Frac11: 21071.0\r\n",
      " 12C.NTH.D14.R4.Frac15: 21110.0\r\n",
      " 12C.PTH.D14.R4.Frac20: 21120.0\r\n",
      " 13X.PTH.D3.R4.Frac15: 21188.0\r\n",
      " 12C.PTH.D7.R4.Frac13: 21268.0\r\n",
      " 12C.PTH.D7.R4.Frac17: 21268.0\r\n",
      " 12C.NTH.D14.R4.Frac18: 21523.0\r\n",
      " 12C.PTH.D7.R4.Frac14: 21557.0\r\n",
      " 12C.NTH.D30.R4.Frac25: 21583.0\r\n",
      " 12C.NTH.D14.R4.Frac9: 21649.0\r\n",
      " 13X.PTH.D3.R4.Frac22: 21785.0\r\n",
      " 12C.PTH.D7.R4.Frac22: 21831.0\r\n",
      " 12C.PTH.D14.R4.Frac25: 21874.0\r\n",
      " 13X.PTH.D3.R4.Frac21: 21919.0\r\n",
      " 13X.NTH.D1.R4.Frac14: 21939.0\r\n",
      " 12C.NTH.D14.R4.Frac25: 22035.0\r\n",
      " 13C.NTH.D7.R4.Frac26: 22129.0\r\n",
      " 13X.NTH.D1.R4.Frac10: 22264.0\r\n",
      " 12C.PTH.D14.R4.Frac24: 22334.0\r\n",
      " 13C.NTH.D7.R4.Frac13: 22346.0\r\n",
      " 13C.NTH.D7.R4.Frac15: 22389.0\r\n",
      " 13X.NTH.D1.R4.Frac23: 22543.0\r\n",
      " 13C.NTH.D30.R4.Frac24: 22641.0\r\n",
      " 13X.NTH.D1.R4.Frac24: 22671.0\r\n",
      " 13X.NTH.D1.R4.Frac18: 22704.0\r\n",
      " 12C.NTH.D14.R4.Frac7: 22855.0\r\n",
      " 13X.NTH.D1.R4.Frac6: 22875.0\r\n",
      " 13X.PTH.D3.R4.Frac14: 22909.0\r\n",
      " 13C.NTH.D7.R4.Frac20: 22977.0\r\n",
      " 13C.NTH.D30.R4.Frac12: 23069.0\r\n",
      " 13C.NTH.D7.R4.Frac5: 23076.0\r\n",
      " 13X.PTH.D3.R4.Frac25: 23103.0\r\n",
      " 12C.PTH.D14.R4.Frac16: 23245.0\r\n",
      " 13X.NTH.D1.R4.Frac11: 23272.0\r\n",
      " 12C.NTH.D1.R4.Frac11: 23301.0\r\n",
      " 12C.PTH.D14.R4.Frac10: 23306.0\r\n",
      " 13X.NTH.D1.R4.Frac26: 23353.0\r\n",
      " 13C.NTH.D30.R4.Frac25: 23419.0\r\n",
      " 13X.PTH.D3.R4.Frac13: 23471.0\r\n",
      " 12C.NTH.D1.R4.Frac10: 23486.0\r\n",
      " 13X.NTH.D1.R4.Frac15: 23589.0\r\n",
      " 12C.PTH.D7.R4.Frac6: 23743.0\r\n",
      " 13C.NTH.D30.R4.Frac6: 23800.0\r\n",
      " 13C.NTH.D30.R4.Frac7: 23829.0\r\n",
      " 12C.NTH.D14.R4.Frac24: 23973.0\r\n",
      " 12C.NTH.D14.R4.Frac8: 24091.0\r\n",
      " 13X.PTH.D3.R4.Frac11: 24114.0\r\n",
      " 12C.PTH.D14.R4.Frac15: 24287.0\r\n",
      " 12C.PTH.D14.R4.Frac13: 24342.0\r\n",
      " 12C.NTH.D14.R4.Frac13: 24382.0\r\n",
      " 13X.NTH.D1.R4.Frac12: 24610.0\r\n",
      " 13C.NTH.D30.R4.Frac17: 24690.0\r\n",
      " 13X.NTH.D1.R4.Frac16: 24699.0\r\n",
      " 13C.NTH.D30.R4.Frac23: 24701.0\r\n",
      " 13C.NTH.D7.R4.Frac14: 24810.0\r\n",
      " 12C.PTH.D14.R4.Frac5: 24903.0\r\n",
      " 13C.NTH.D30.R4.Frac16: 24977.0\r\n",
      " 13X.PTH.D3.R4.Frac8: 24991.0\r\n",
      " 13X.NTH.D1.R4.Frac27: 25274.0\r\n",
      " 13C.NTH.D30.R4.Frac26: 25320.0\r\n",
      " 12C.PTH.D14.R4.Frac11: 25608.0\r\n",
      " 12C.NTH.D14.R4.Frac12: 25713.0\r\n",
      " 13X.PTH.D3.R4.Frac12: 26051.0\r\n",
      " 13C.NTH.D30.R4.Frac5: 26105.0\r\n",
      " 12C.NTH.D1.R4.Frac17: 26295.0\r\n",
      " 12C.PTH.D14.R4.Frac9: 26348.0\r\n",
      " 13C.NTH.D30.R4.Frac8: 26389.0\r\n",
      " 13C.NTH.D7.R4.Frac6: 26394.0\r\n",
      " 13X.NTH.D1.R4.Frac9: 26577.0\r\n",
      " 13C.NTH.D30.R4.Frac11: 26668.0\r\n",
      " 13C.NTH.D30.R4.Frac9: 26756.0\r\n",
      " 12C.PTH.D14.R4.Frac8: 26927.0\r\n",
      " 12C.PTH.D14.R4.Frac14: 27083.0\r\n",
      " 13X.NTH.D1.R4.Frac25: 27246.0\r\n",
      " 12C.NTH.D1.R4.Frac16: 27288.0\r\n",
      " 12C.NTH.D1.R4.Frac14: 27623.0\r\n",
      " 13C.NTH.D30.R4.Frac13: 27711.0\r\n",
      " 13C.NTH.D7.R4.Frac27: 27853.0\r\n",
      " 12C.NTH.D1.R4.Frac9: 27925.0\r\n",
      " 12C.PTH.D7.R4.Frac19: 28179.0\r\n",
      " 12C.NTH.D14.R4.Frac6: 28332.0\r\n",
      " 12C.NTH.D30.R4.Frac27: 28473.0\r\n",
      " 13C.NTH.D30.R4.Frac10: 28636.0\r\n",
      " 13X.PTH.D3.R4.Frac23: 28643.0\r\n",
      " 13X.PTH.D3.R4.Frac4: 28778.0\r\n",
      " 12C.PTH.D7.R4.Frac11: 28792.0\r\n",
      " 13C.NTH.D30.R4.Frac27: 29285.0\r\n",
      " 13C.NTH.D7.R4.Frac7: 29357.0\r\n",
      " 12C.NTH.D14.R4.Frac5: 29511.0\r\n",
      " 12C.NTH.D30.R4.Frac20: 29739.0\r\n",
      " 13X.PTH.D3.R4.Frac26: 30044.0\r\n",
      " 12C.NTH.D1.R4.Frac12: 30072.0\r\n",
      " 13C.NTH.D30.R4.Frac15: 30087.0\r\n",
      " 12C.NTH.D14.R4.Frac4: 30273.0\r\n",
      " 13X.NTH.D1.R4.Frac5: 30888.0\r\n",
      " 13X.NTH.D1.R4.Frac13: 30944.0\r\n",
      " 12C.PTH.D14.R4.Frac26: 31036.0\r\n",
      " 13X.NTH.D1.R4.Frac8: 31182.0\r\n",
      " 12C.NTH.D1.R4.Frac8: 31350.0\r\n",
      " 12C.PTH.D14.R4.Frac7: 31767.0\r\n",
      " 12C.NTH.D1.R4.Frac6: 31972.0\r\n",
      " 13X.NTH.D1.R4.Frac7: 32632.0\r\n",
      " 12C.PTH.D14.R4.Frac12: 32745.0\r\n",
      " 13X.PTH.D3.R4.Frac5: 33168.0\r\n",
      " 12C.NTH.D14.R4.Frac10: 33654.0\r\n",
      " 12C.NTH.D1.R4.Frac15: 33988.0\r\n",
      " 12C.NTH.D1.R4.Frac13: 34057.0\r\n",
      " 13C.NTH.D7.R4.Frac12: 34585.0\r\n",
      " 12C.PTH.D7.R4.Frac27: 35024.0\r\n",
      " 12C.NTH.D1.R4.Frac7: 37883.0\r\n",
      " 12C.PTH.D14.R4.Frac6: 40599.0\r\n",
      " 12C.NTH.D1.R4.Frac5: 40858.0\r\n",
      " 13X.PTH.D3.R4.Frac10: 41365.0\r\n",
      " 12C.NTH.D14.R4.Frac26: 48666.0\r\n"
     ]
    }
   ],
   "source": [
    "# This tells us the overall data info\n",
    "# Num obs = OTUs\n",
    "# total count = total seqs\n",
    "# Chantal had 50% reduction after QC.\n",
    "\n",
    "!cat data/otu_table_pool3_summary.txt\n",
    "\n"
   ]
  }
 ],
 "metadata": {
  "kernelspec": {
   "display_name": "Python 2",
   "language": "python",
   "name": "python2"
  },
  "language_info": {
   "codemirror_mode": {
    "name": "ipython",
    "version": 2
   },
   "file_extension": ".py",
   "mimetype": "text/x-python",
   "name": "python",
   "nbconvert_exporter": "python",
   "pygments_lexer": "ipython2",
   "version": "2.7.10"
  }
 },
 "nbformat": 4,
 "nbformat_minor": 0
}
