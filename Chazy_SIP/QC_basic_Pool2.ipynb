{
 "cells": [
  {
   "cell_type": "markdown",
   "metadata": {},
   "source": [
    "##Discard sequences that exceed the max expected error threshold."
   ]
  },
  {
   "cell_type": "code",
   "execution_count": 1,
   "metadata": {
    "collapsed": false
   },
   "outputs": [
    {
     "name": "stdout",
     "output_type": "stream",
     "text": [
      "1798673\n",
      ">13X.PTH.D1.R4.Frac15_0 orig_name=M01032:308:000000000-AHEJ4:1:1101:15377:1346\n",
      "TACGGAGGGAGCTAGCGTTGTGCTGGATGACTGGGCGTAAAGCGCACGTAGGCGGAACAGAAAGTCAGAGGTGACATCCCAGGGCTCAACCTTGGAACTGCCTTTGAAACTCCTGTGCTTGAGGTCGGGAGAGGTGAGTGGAATTCCGAGGGTAGAGGTGGAATTCGTAGATATTCGGAGGAACACCAGGGGCGAAGGCGGCTCACTGGCTCGATACTGACGCTGAGGTGCGAAAGCGTGGGGAGCAAACAGG\n",
      ">13X.PTH.D1.R4.Frac7_1 orig_name=M01032:308:000000000-AHEJ4:1:1101:16052:1355\n",
      "TACGTAGGTGGCAAGCGTTATCCGGACTTACGGGGCGTAGAGCGCGCGCAGGTGGTTGCTCAAGTCTGATGTGAAAGCCCACGGCTCAACCGTGGAGGGTCATTGGAAACTGGGAGACTTGAGTGCAGAAGAGGAAAGTGGAATTCCATGTGTAGCGGTGAAATGCGTAGAGATATGGAGGAACACCAGTGGCGAAGGCGACTTTCTGGTCTGTAACTGACACTGAGGCGCGAAAGCGTGGGGAGCAAACAGG\n",
      ">13X.NTH.D14.R4.Frac9_2 orig_name=M01032:308:000000000-AHEJ4:1:1101:16446:1361\n",
      "GACGGAGGGTGCAAGCGGTGTTCGGACTTACTGGGCGTAAAGCGCGGGCAGGTGGTCTTTTAAGTCCTTTGTGAAATCCCGGGGCTCAACTCCGGATGTGCATAGGATACTGGAAGACTGGAGACTGGTAGAGGCGAGCGGAATTCCTGGTGTAGCGGTGGAATGCGTAGATATCAGGAAGAACACCAGTGGCGAAGGCGACTACCTGGCCTGTTCTTGACGCTGAGGCGCGAAAGCTAGGGGAGCAAACGGG\n",
      ">12C.NTH.D30.R4.Frac4_3 orig_name=M01032:308:000000000-AHEJ4:1:1101:15058:1373\n",
      "AACGTCGGGTGCAAGCGTTAATCGGAAGTACTGGGCGTAAAGCGAGCGCAGGCGGTCTTGCAAGACAGATGTGAAATCCCCGGGCTTCGCCTGGGAACTGCATTTGTGACTGCAAGGCTGGAGTGCGGCAGAGGGGGATGGAATTCCAGGTGTAGCAGTGAAATGCGTAGCGATCTGGAGGAACACCGATGGCGAAGGCAGCCCCCTGGGCTAACACTGACGCTCATGCACGAAAGCGTGGGGAGCAAACAGG\n"
     ]
    }
   ],
   "source": [
    "%%bash\n",
    "\n",
    "nprocs=20\n",
    "#Changing max expected error to 2 - less conservative\n",
    "maxee=1\n",
    "\n",
    "tmpdir1=`mktemp -d`\n",
    "trap \"rm -r $tmpdir1\" 1 2 3 15\n",
    "split -d -l 2000000 /var/seq_data/Chazy/515_806_SIP/Pool2/pear_merged_raw-2015-08-15.assembled.dmult.fastq $tmpdir1/Block\n",
    "\n",
    "tmpdir2=`mktemp -d`\n",
    "trap \"rm -r $tmpdir2\" 1 2 3 15\n",
    "ls $tmpdir1/Block?? | parallel --gnu -j $nprocs -k \"usearch -fastq_filter {} \\\n",
    "-fastq_maxee $maxee \\\n",
    "-fastaout $tmpdir2/{#}.fasta >/dev/null 2>&1 && cat $tmpdir2/{#}.fasta\" > data/tmp/maxee$maxee.fasta\n",
    "rm -r $tmpdir2 $tmpdir1\n",
    "\n",
    "grep -c \">\" data/tmp/maxee$maxee.fasta\n",
    "head -n 8 data/tmp/maxee$maxee.fasta"
   ]
  },
  {
   "cell_type": "code",
   "execution_count": 2,
   "metadata": {
    "collapsed": false
   },
   "outputs": [
    {
     "name": "stdout",
     "output_type": "stream",
     "text": [
      "1798673\n",
      "1798673\n"
     ]
    }
   ],
   "source": [
    "%%bash\n",
    "bioawk -c fastx '{if ($seq !~ /N/){print \">\" $name \" \" $4 \"\\n\" $seq}}' data/tmp/maxee1.fasta > \\\n",
    "data/tmp/maxee1.0.noN.fasta\n",
    "grep -c \">\" data/tmp/maxee1.fasta\n",
    "grep -c \">\" data/tmp/maxee1.0.noN.fasta"
   ]
  },
  {
   "cell_type": "markdown",
   "metadata": {},
   "source": [
    "##Remove seqs with N characters."
   ]
  },
  {
   "cell_type": "markdown",
   "metadata": {},
   "source": [
    "# Alignment-based QC with Mothur"
   ]
  },
  {
   "cell_type": "code",
   "execution_count": 3,
   "metadata": {
    "collapsed": false
   },
   "outputs": [],
   "source": [
    "%%bash\n",
    "ionice -c2 -n3 \\\n",
    "mothur \"#unique.seqs(fasta=data/tmp/maxee1.0.noN.fasta)\" > /dev/null"
   ]
  },
  {
   "cell_type": "code",
   "execution_count": 4,
   "metadata": {
    "collapsed": false
   },
   "outputs": [
    {
     "name": "stdout",
     "output_type": "stream",
     "text": [
      "1798673\n",
      "1719127\n"
     ]
    }
   ],
   "source": [
    "!grep -c \">\" data/tmp/maxee1.0.noN.fasta\n",
    "!grep -c \">\" data/tmp/maxee1.0.noN.unique.fasta"
   ]
  },
  {
   "cell_type": "markdown",
   "metadata": {},
   "source": [
    "##### Need to use all sequences (not just unique sequences) for next step to create the data file"
   ]
  },
  {
   "cell_type": "code",
   "execution_count": null,
   "metadata": {
    "collapsed": false
   },
   "outputs": [
    {
     "name": "stdout",
     "output_type": "stream",
     "text": [
      "13X.PTH.D1.R4.Frac15_0\t13X.PTH.D1.R4.Frac15\n",
      "13X.PTH.D1.R4.Frac7_1\t13X.PTH.D1.R4.Frac7\n",
      "13X.NTH.D14.R4.Frac9_2\t13X.NTH.D14.R4.Frac9\n",
      "12C.NTH.D30.R4.Frac4_3\t12C.NTH.D30.R4.Frac4\n",
      "13C.PTH.D30.R4.Frac7_4\t13C.PTH.D30.R4.Frac7\n",
      "13X.NTH.D14.R4.Frac6_6\t13X.NTH.D14.R4.Frac6\n",
      "13X.PTH.D14.R4.Frac12_7\t13X.PTH.D14.R4.Frac12\n",
      "13C.PTH.D30.R4.Frac22_8\t13C.PTH.D30.R4.Frac22\n",
      "12C.NTH.D7.R4.Frac26_9\t12C.NTH.D7.R4.Frac26\n",
      "13X.PTH.D14.R4.Frac10_10\t13X.PTH.D14.R4.Frac10\n"
     ]
    }
   ],
   "source": [
    "%%bash\n",
    "bioawk -c fastx '{print $name}' data/tmp/maxee1.0.noN.fasta | \\\n",
    "awk -F\"_\" 'BEGIN{OFS=\"\\t\"}{print $0, $1}' > data/group_file.txt\n",
    "head data/group_file.txt"
   ]
  },
  {
   "cell_type": "code",
   "execution_count": null,
   "metadata": {
    "collapsed": false
   },
   "outputs": [],
   "source": [
    "%%bash\n",
    "ionice -c2 -n3 \\\n",
    "mothur \"#align.seqs(candidate=data/tmp/maxee1.0.noN.unique.fasta, \\\n",
    "template=/home/chantal/RNASIP/data/tmp/db/silva_ref_aln_mothur.filter.fasta, \\\n",
    "processors=15, \\\n",
    "flip=T)\" > /dev/null"
   ]
  },
  {
   "cell_type": "markdown",
   "metadata": {},
   "source": [
    "#### We can filter out vertical gaps..."
   ]
  },
  {
   "cell_type": "code",
   "execution_count": null,
   "metadata": {
    "collapsed": false
   },
   "outputs": [],
   "source": [
    "%%bash\n",
    "mothur \"#filter.seqs(vertical=t, \\\n",
    "fasta=data/tmp/maxee1.0.noN.unique.align, \\\n",
    "processors=10)\" > /dev/null"
   ]
  },
  {
   "cell_type": "markdown",
   "metadata": {},
   "source": [
    "### Here is what our seqs look like."
   ]
  },
  {
   "cell_type": "code",
   "execution_count": 20,
   "metadata": {
    "collapsed": false
   },
   "outputs": [
    {
     "name": "stdout",
     "output_type": "stream",
     "text": [
      "\u001b[H\u001b[2J\n",
      "\n",
      "\n",
      "\n",
      "\n",
      "\n",
      "mothur v.1.32.1\n",
      "Last updated: 10/16/2013\n",
      "\n",
      "by\n",
      "Patrick D. Schloss\n",
      "\n",
      "Department of Microbiology & Immunology\n",
      "University of Michigan\n",
      "pschloss@umich.edu\n",
      "http://www.mothur.org\n",
      "\n",
      "When using, please cite:\n",
      "Schloss, P.D., et al., Introducing mothur: Open-source, platform-independent, community-supported software for describing and comparing microbial communities. Appl Environ Microbiol, 2009. 75(23):7537-41.\n",
      "\n",
      "Distributed under the GNU General Public License\n",
      "\n",
      "Type 'help()' for information on the commands that are available\n",
      "\n",
      "Type 'quit()' to exit program\n",
      "\n",
      "\n",
      "\n",
      "mothur > summary.seqs(fasta=data/tmp/maxee1.0.noN.unique.filter.fasta, processors=20, name=data/tmp/maxee1.0.noN.names)\n",
      "\n",
      "Using 20 processors.\n",
      "\n",
      "Using 20 processors.\n",
      "\n",
      "Using 20 processors.\n",
      "\n",
      "Using 20 processors.\n",
      "\n",
      "Using 20 processors.\n",
      "\n",
      "Using 20 processors.\n",
      "\n",
      "Using 20 processors.\n",
      "\n",
      "Using 20 processors.\n",
      "\n",
      "Using 20 processors.\n",
      "\n",
      "Using 20 processors.\n",
      "\n",
      "Using 20 processors.\n",
      "\n",
      "Using 20 processors.\n",
      "\n",
      "Using 20 processors.\n",
      "\n",
      "Using 20 processors.\n",
      "\n",
      "Using 20 processors.\n",
      "\n",
      "Using 20 processors.\n",
      "\n",
      "Using 20 processors.\n",
      "\n",
      "Using 20 processors.\n",
      "\n",
      "Using 20 processors.\n",
      "\n",
      "Using 20 processors.\n",
      "\n",
      "\t\tStart\tEnd\tNBases\tAmbigs\tPolymer\tNumSeqs\n",
      "Minimum:\t0\t0\t0\t0\t1\t1\n",
      "2.5%-tile:\t115\t761\t253\t0\t4\t44967\n",
      "25%-tile:\t115\t761\t253\t0\t4\t449669\n",
      "Median: \t115\t761\t253\t0\t4\t899337\n",
      "75%-tile:\t115\t761\t253\t0\t5\t1349005\n",
      "97.5%-tile:\t115\t761\t254\t0\t6\t1753707\n",
      "Maximum:\t924\t924\t320\t0\t21\t1798673\n",
      "Mean:\t115.265\t760.879\t252.928\t0\t4.66223\n",
      "# of unique seqs:\t1719127\n",
      "total # of seqs:\t1798673\n",
      "\n",
      "Output File Names: \n",
      "data/tmp/maxee1.0.noN.unique.filter.summary\n",
      "\n",
      "\n",
      "mothur > quit()\n"
     ]
    }
   ],
   "source": [
    "%%bash\n",
    "mothur \"#summary.seqs(fasta=data/tmp/maxee1.0.noN.unique.filter.fasta, \\\n",
    "processors=20, \\\n",
    "name=data/tmp/maxee1.0.noN.names)\" "
   ]
  },
  {
   "cell_type": "markdown",
   "metadata": {},
   "source": [
    "### Removing homopolymers (larger than 8) and screen out sequences that don't align to amplicon region"
   ]
  },
  {
   "cell_type": "code",
   "execution_count": 21,
   "metadata": {
    "collapsed": false
   },
   "outputs": [],
   "source": [
    "%%bash\n",
    "\n",
    "mothur \"#screen.seqs(fasta=data/tmp/maxee1.0.noN.unique.filter.fasta, \\\n",
    "processors=10, \\\n",
    "name=data/tmp/maxee1.0.noN.names, \\\n",
    "group=data/group_file.txt, \\\n",
    "start=115, \\\n",
    "end=761, \\\n",
    "maxhomop=8, minlength=253)\" > /dev/null"
   ]
  },
  {
   "cell_type": "code",
   "execution_count": 22,
   "metadata": {
    "collapsed": false
   },
   "outputs": [],
   "source": [
    "%%bash\n",
    "\n",
    "mothur \"#filter.seqs(fasta=data/tmp/maxee1.0.noN.unique.filter.good.fasta, \\\n",
    "processors=10, \\\n",
    "vertical=T)\" > /dev/null"
   ]
  },
  {
   "cell_type": "code",
   "execution_count": 23,
   "metadata": {
    "collapsed": false
   },
   "outputs": [
    {
     "name": "stdout",
     "output_type": "stream",
     "text": [
      "\u001b[H\u001b[2J\n",
      "\n",
      "\n",
      "\n",
      "\n",
      "\n",
      "mothur v.1.32.1\n",
      "Last updated: 10/16/2013\n",
      "\n",
      "by\n",
      "Patrick D. Schloss\n",
      "\n",
      "Department of Microbiology & Immunology\n",
      "University of Michigan\n",
      "pschloss@umich.edu\n",
      "http://www.mothur.org\n",
      "\n",
      "When using, please cite:\n",
      "Schloss, P.D., et al., Introducing mothur: Open-source, platform-independent, community-supported software for describing and comparing microbial communities. Appl Environ Microbiol, 2009. 75(23):7537-41.\n",
      "\n",
      "Distributed under the GNU General Public License\n",
      "\n",
      "Type 'help()' for information on the commands that are available\n",
      "\n",
      "Type 'quit()' to exit program\n",
      "\n",
      "\n",
      "\n",
      "mothur > summary.seqs(fasta=data/tmp/maxee1.0.noN.unique.filter.good.filter.fasta, name=data/tmp/maxee1.0.noN.names)\n",
      "\n",
      "Using 1 processors.\n",
      "\n",
      "\t\tStart\tEnd\tNBases\tAmbigs\tPolymer\tNumSeqs\n",
      "Minimum:\t1\t645\t253\t0\t3\t1\n",
      "2.5%-tile:\t51\t645\t253\t0\t4\t43811\n",
      "25%-tile:\t51\t645\t253\t0\t4\t438105\n",
      "Median: \t51\t645\t253\t0\t4\t876210\n",
      "75%-tile:\t51\t645\t253\t0\t5\t1314314\n",
      "97.5%-tile:\t51\t645\t254\t0\t6\t1708608\n",
      "Maximum:\t51\t716\t320\t0\t8\t1752418\n",
      "Mean:\t50.9986\t645.009\t253.096\t0\t4.64792\n",
      "# of unique seqs:\t1674343\n",
      "total # of seqs:\t1752418\n",
      "\n",
      "Output File Names: \n",
      "data/tmp/maxee1.0.noN.unique.filter.good.filter.summary\n",
      "\n",
      "\n",
      "mothur > quit()\n"
     ]
    }
   ],
   "source": [
    "%%bash\n",
    "\n",
    "mothur \"#summary.seqs(fasta=data/tmp/maxee1.0.noN.unique.filter.good.filter.fasta, \\\n",
    "name=data/tmp/maxee1.0.noN.names)\""
   ]
  },
  {
   "cell_type": "markdown",
   "metadata": {},
   "source": [
    "# Chimera Checking w Uchime (when assigning OTUs- in other notebook)"
   ]
  },
  {
   "cell_type": "markdown",
   "metadata": {},
   "source": [
    "#### Expand data, remove gaps, and copy into data directory"
   ]
  },
  {
   "cell_type": "code",
   "execution_count": 24,
   "metadata": {
    "collapsed": false
   },
   "outputs": [
    {
     "name": "stdout",
     "output_type": "stream",
     "text": [
      "\u001b[H\u001b[2J\n",
      "\n",
      "\n",
      "\n",
      "\n",
      "\n",
      "mothur v.1.32.1\n",
      "Last updated: 10/16/2013\n",
      "\n",
      "by\n",
      "Patrick D. Schloss\n",
      "\n",
      "Department of Microbiology & Immunology\n",
      "University of Michigan\n",
      "pschloss@umich.edu\n",
      "http://www.mothur.org\n",
      "\n",
      "When using, please cite:\n",
      "Schloss, P.D., et al., Introducing mothur: Open-source, platform-independent, community-supported software for describing and comparing microbial communities. Appl Environ Microbiol, 2009. 75(23):7537-41.\n",
      "\n",
      "Distributed under the GNU General Public License\n",
      "\n",
      "Type 'help()' for information on the commands that are available\n",
      "\n",
      "Type 'quit()' to exit program\n",
      "\n",
      "\n",
      "\n",
      "mothur > deunique.seqs(fasta=data/tmp/maxee1.0.noN.unique.filter.good.filter.fasta, name=data/tmp/maxee1.0.noN.good.names)\n",
      "\n",
      "Output File Names: \n",
      "data/tmp/maxee1.0.noN.redundant.fasta\n",
      "\n",
      "\n",
      "mothur > quit()\n"
     ]
    }
   ],
   "source": [
    "%%bash\n",
    "mothur \"#deunique.seqs(fasta=data/tmp/maxee1.0.noN.unique.filter.good.filter.fasta, \\\n",
    "name=data/tmp/maxee1.0.noN.good.names)\" "
   ]
  },
  {
   "cell_type": "code",
   "execution_count": 25,
   "metadata": {
    "collapsed": false
   },
   "outputs": [],
   "source": [
    "!sed '/>/! s/-//g;/>/! s/\\.//g' data/tmp/maxee1.0.noN.redundant.fasta > data/finalQC_pool2.fasta"
   ]
  },
  {
   "cell_type": "code",
   "execution_count": 26,
   "metadata": {
    "collapsed": false
   },
   "outputs": [
    {
     "name": "stdout",
     "output_type": "stream",
     "text": [
      ">13X.PTH.D1.R4.Frac15_0\r\n",
      "TACGGAGGGAGCTAGCGTTGTGCTGGATGACTGGGCGTAAAGCGCACGTAGGCGGAACAGAAAGTCAGAGGTGACATCCCAGGGCTCAACCTTGGAACTGCCTTTGAAACTCCTGTGCTTGAGGTCGGGAGAGGTGAGTGGAATTCCGAGGGTAGAGGTGGAATTCGTAGATATTCGGAGGAACACCAGGGGCGAAGGCGGCTCACTGGCTCGATACTGACGCTGAGGTGCGAAAGCGTGGGGAGCAAACAGG\r\n",
      ">13X.PTH.D1.R4.Frac7_1\r\n",
      "TACGTAGGTGGCAAGCGTTATCCGGACTTACGGGGCGTAGAGCGCGCGCAGGTGGTTGCTCAAGTCTGATGTGAAAGCCCACGGCTCAACCGTGGAGGGTCATTGGAAACTGGGAGACTTGAGTGCAGAAGAGGAAAGTGGAATTCCATGTGTAGCGGTGAAATGCGTAGAGATATGGAGGAACACCAGTGGCGAAGGCGACTTTCTGGTCTGTAACTGACACTGAGGCGCGAAAGCGTGGGGAGCAAACAGG\r\n",
      ">13X.NTH.D14.R4.Frac9_2\r\n",
      "GACGGAGGGTGCAAGCGGTGTTCGGACTTACTGGGCGTAAAGCGCGGGCAGGTGGTCTTTTAAGTCCTTTGTGAAATCCCGGGGCTCAACTCCGGATGTGCATAGGATACTGGAAGACTGGAGACTGGTAGAGGCGAGCGGAATTCCTGGTGTAGCGGTGGAATGCGTAGATATCAGGAAGAACACCAGTGGCGAAGGCGACTACCTGGCCTGTTCTTGACGCTGAGGCGCGAAAGCTAGGGGAGCAAACGGG\r\n",
      ">12C.NTH.D30.R4.Frac4_3\r\n",
      "AACGTCGGGTGCAAGCGTTAATCGGAAGTACTGGGCGTAAAGCGAGCGCAGGCGGTCTTGCAAGACAGATGTGAAATCCCCGGGCTTCGCCTGGGAACTGCATTTGTGACTGCAAGGCTGGAGTGCGGCAGAGGGGGATGGAATTCCAGGTGTAGCAGTGAAATGCGTAGCGATCTGGAGGAACACCGATGGCGAAGGCAGCCCCCTGGGCTAACACTGACGCTCATGCACGAAAGCGTGGGGAGCAAACAGG\r\n",
      ">13C.PTH.D30.R4.Frac7_4\r\n",
      "TACGTAGGGTGCGAGCGTTAATCGGAATTGCTGGGCGTAAAGCGCGCGCAGGCGGTTCGCTGTGTCCGATGTGAAAGCCCCGGGCTCAACCTGGGAATGGCATGGGAAACTGGCGGGCTGGAGTGTGGCAGAGGGGGGTGGAATTCCGCGTGTAGCAGTGAAATGCGTAGAGATGCGGAGGAACACCGATGGCGAAGGCAGCCCCCTGGGCCAACACGGACGCTCAGGCACGCAAGCGTGGGGAGCAAACAGG\r\n"
     ]
    }
   ],
   "source": [
    "!head data/finalQC_pool2.fasta"
   ]
  },
  {
   "cell_type": "markdown",
   "metadata": {},
   "source": [
    "#### Total Number of QC'd sequences"
   ]
  },
  {
   "cell_type": "code",
   "execution_count": 27,
   "metadata": {
    "collapsed": false
   },
   "outputs": [
    {
     "name": "stdout",
     "output_type": "stream",
     "text": [
      "1752418\r\n"
     ]
    }
   ],
   "source": [
    "!grep -c \">\" data/finalQC_pool2.fasta"
   ]
  }
 ],
 "metadata": {
  "kernelspec": {
   "display_name": "Python 2",
   "language": "python",
   "name": "python2"
  },
  "language_info": {
   "codemirror_mode": {
    "name": "ipython",
    "version": 2
   },
   "file_extension": ".py",
   "mimetype": "text/x-python",
   "name": "python",
   "nbconvert_exporter": "python",
   "pygments_lexer": "ipython2",
   "version": "2.7.10"
  }
 },
 "nbformat": 4,
 "nbformat_minor": 0
}
