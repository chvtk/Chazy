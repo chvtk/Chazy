{
 "metadata": {
  "name": "",
  "signature": "sha256:d6ed9af52d75f3def1738235301a657239f006e53c8b042292519981d46a558a"
 },
 "nbformat": 3,
 "nbformat_minor": 0,
 "worksheets": [
  {
   "cells": [
    {
     "cell_type": "code",
     "collapsed": false,
     "input": [
      "# Imports a parser from cogent\n",
      "from cogent.parse.fasta import MinimalFastaParser as parse"
     ],
     "language": "python",
     "metadata": {},
     "outputs": [],
     "prompt_number": 50
    },
    {
     "cell_type": "code",
     "collapsed": false,
     "input": [
      "# applies for the whole segment\n",
      "nprocs = 10"
     ],
     "language": "python",
     "metadata": {},
     "outputs": [],
     "prompt_number": 51
    },
    {
     "cell_type": "code",
     "collapsed": false,
     "input": [
      "# Checking out data file.\n",
      "# This file was created using the QC_basic notebook.\n",
      "!head data/finalQC.fasta"
     ],
     "language": "python",
     "metadata": {},
     "outputs": [
      {
       "output_type": "stream",
       "stream": "stdout",
       "text": [
        ">NTH1_23\r\n",
        "TACGAACCGGGCAAACGTTATTCGGAATTACTGGGCTTAAAGGGTGCGTAGGCTGCGCTATAAGTCGGGTGTGAAATCCCTCAGCTCAACTGAGGAACTGCGCCCGATACTGTAGTGCTTGAGGAGGATAGAGGTGAGCGGAACTAGCAGTGGAGCGGTGAAATGCGTTGATATTGCTGGGAACACCCGTGGCGAAAGCGGCTCACTGGGTCCTTTCTGACGCTGAGGCACGAAAGCTAGGGGAGCAAACAGGATTAGATACCCTGGTAGTCCTAGCCCTAAACGATCAGGACTTGACGTGGGCCCCGTCCGGGGTCCGTGCCGTAGCCAACGTGATAAGTCCTGCGCCTGGGGAGTACGGTCGCAAGGCTG\r\n",
        ">NTR1_26\r\n",
        "TACAGAGGTGGCAAGCGTTGTTCGGAATTACTGGGCGTAAAGGGCGCGTAGGCGGCCATCTAAGTCAGACGTGAAATCCCCCGGCTCAACCTGGGAACTGCGTCTGATACTGGACGGCTTGAGTTTGGGAGAGGGATGTAGAATTCCAGGTGTAGCGGTGAAATGCGTAGATATCTGGAGGAATACCGGTGGCGAAGGCGGCATCCTGGACCAATACTGACGCTGGGGCGCGAAAGCTAGGGGAGCAAACGGGATTAGATACCCTGGTAGTCCACGCCCTAAACGATGGATACTCGACATCAGCGATACACTGTTGGTGTCTGAGCGAAAGCATTAAGTATCCCGCCTGGGAAGTACGATCGCAAGATTA\r\n",
        ">NTH3_27\r\n",
        "TACAGAGGTGGCAAGCGTTGTTCGGAATTACTGGGCGTAAAGGGCGCGTAGGCGGCCATCTAAGTCAGACGTGAAATCCCCCGGCTTAACCTGGGAACTGCGTCTGATACTGGAAGGCTTGAGTATGGGAGAGGGATGTAGAATTCCAGGTGTAGCGGTGAAATGCGTAGATATCTGGAGGAATACCGGTGGCGAAGGCGGCATCCTGGACCATTACTGACGCTGAGGCGCGAAAGCTAGGGGAGCAAACGGGATTAGATACCCCGGTAGTCCTAGCCCTAAACGATGGGTACTAGGTAGTAGACTAGACATGGGTTTACTGCCGAAGCTAAAGTGCTAAGTACCCCGCCTGGGGAGTACGGCCGCAAGGTTG\r\n",
        ">TWE4_29\r\n",
        "TACGGGGGGAGCAAGCGTTGTTCGGATTTACTGGGCTTAAAGGGCGCGTAGGCGGGCTGCCGCGTCCGGGGTGAAATCCCACGGCTCAACCGTGGAACGGCCCCGGGTACGGGCGGCCTCGAGGGGGGTAGGGGCGTGCGGAACTGTGGGTGGAGCGGTGGAATGCGTTGATATCCACAGGAACTCCGGTGGCGAAGGCGGCACGCTGGACCCTCTCTGACGCTGAGGCGCGAAAGCCAGGGGAGCGAACGGGATTAGATACCCCGGTAGTCCTAGCCCTAAACGATGGGTACTAGATTGTAGACGTACATGGGTTTACAGTCGAAGCAAAAGTGATAAGTACCCCGCCTGGGGAGTATGGTCGCAAGGCTG\r\n",
        ">NTR3_30\r\n",
        "TACGTAGGTGGCAAGCGTTGTCCGGAATTATTGGGCGTAAAGGGCTCGCAGGCGGTTTCTTAAGTCTGATGTGAAAGCCCCCGGCTCAACCGGGGAAGGTCATTGGAAACTGGGGAACTTGAGTGCAGAAGAGGAGAGTGGAATTCCACGTGTAGCGGTGAAATGCGTAGAGATGTGGAGGAACACCAGTGGCGAAGGCGACTCTCTGGTCTGTAACTGACGCTGAGGAGCGAAAGCGTGGGGAGCGAACAGGATTAGATACCCTGGTAGTCCACGCCGTAAACGATGAGTGCTAAGTGTTAGGGGGTTTCCGCCCCTTAGTGCTGCAGCTAACGCATTAAGCACTCCGCCTGGGGAGTACGGTCGCAAGACTG\r\n"
       ]
      }
     ],
     "prompt_number": 52
    },
    {
     "cell_type": "code",
     "collapsed": false,
     "input": [
      "%%bash\n",
      "# Running the seq separation on mothur instead\n",
      "\n",
      "mothur \"#unique.seqs(fasta=data/finalQC.fasta)\" > /dev/null"
     ],
     "language": "python",
     "metadata": {},
     "outputs": [],
     "prompt_number": 53
    },
    {
     "cell_type": "code",
     "collapsed": false,
     "input": [
      "# Making a dictionary of the names files, splitting it into the first (ID) and second (commas list of all seqs in it)\n",
      "# Then it counts their lengths and saves it in the dictionary\n",
      "\n",
      "counts = {}\n",
      "\n",
      "with open(\"data/finalQC.names\") as f:\n",
      "    for line in f:\n",
      "        seedID, seqIDs = line.split(\"\\t\")\n",
      "        count = len(seqIDs.split(\",\"))\n",
      "        counts[seedID] = count        "
     ],
     "language": "python",
     "metadata": {},
     "outputs": [],
     "prompt_number": 54
    },
    {
     "cell_type": "code",
     "collapsed": false,
     "input": [
      "# Adds the counts from this dictionary to our finalQC.unique file so it looks like a usearch file with \"size=XXX\"\n",
      "\n",
      "with open(\"data/finalQC.unique.usearch_names.fasta\", \"w\") as f:\n",
      "    for n, s in parse(open(\"data/finalQC.unique.fasta\")):\n",
      "        f.write(\">%s;size=%s;\\n%s\\n\"%(n,counts[n],s))  "
     ],
     "language": "python",
     "metadata": {},
     "outputs": [],
     "prompt_number": 55
    },
    {
     "cell_type": "code",
     "collapsed": false,
     "input": [
      "!head data/finalQC.unique.usearch_names.fasta"
     ],
     "language": "python",
     "metadata": {},
     "outputs": [
      {
       "output_type": "stream",
       "stream": "stdout",
       "text": [
        ">NTH1_23;size=1;\r\n",
        "TACGAACCGGGCAAACGTTATTCGGAATTACTGGGCTTAAAGGGTGCGTAGGCTGCGCTATAAGTCGGGTGTGAAATCCCTCAGCTCAACTGAGGAACTGCGCCCGATACTGTAGTGCTTGAGGAGGATAGAGGTGAGCGGAACTAGCAGTGGAGCGGTGAAATGCGTTGATATTGCTGGGAACACCCGTGGCGAAAGCGGCTCACTGGGTCCTTTCTGACGCTGAGGCACGAAAGCTAGGGGAGCAAACAGGATTAGATACCCTGGTAGTCCTAGCCCTAAACGATCAGGACTTGACGTGGGCCCCGTCCGGGGTCCGTGCCGTAGCCAACGTGATAAGTCCTGCGCCTGGGGAGTACGGTCGCAAGGCTG\r\n",
        ">NTR1_26;size=1;\r\n",
        "TACAGAGGTGGCAAGCGTTGTTCGGAATTACTGGGCGTAAAGGGCGCGTAGGCGGCCATCTAAGTCAGACGTGAAATCCCCCGGCTCAACCTGGGAACTGCGTCTGATACTGGACGGCTTGAGTTTGGGAGAGGGATGTAGAATTCCAGGTGTAGCGGTGAAATGCGTAGATATCTGGAGGAATACCGGTGGCGAAGGCGGCATCCTGGACCAATACTGACGCTGGGGCGCGAAAGCTAGGGGAGCAAACGGGATTAGATACCCTGGTAGTCCACGCCCTAAACGATGGATACTCGACATCAGCGATACACTGTTGGTGTCTGAGCGAAAGCATTAAGTATCCCGCCTGGGAAGTACGATCGCAAGATTA\r\n",
        ">NTH3_27;size=1;\r\n",
        "TACAGAGGTGGCAAGCGTTGTTCGGAATTACTGGGCGTAAAGGGCGCGTAGGCGGCCATCTAAGTCAGACGTGAAATCCCCCGGCTTAACCTGGGAACTGCGTCTGATACTGGAAGGCTTGAGTATGGGAGAGGGATGTAGAATTCCAGGTGTAGCGGTGAAATGCGTAGATATCTGGAGGAATACCGGTGGCGAAGGCGGCATCCTGGACCATTACTGACGCTGAGGCGCGAAAGCTAGGGGAGCAAACGGGATTAGATACCCCGGTAGTCCTAGCCCTAAACGATGGGTACTAGGTAGTAGACTAGACATGGGTTTACTGCCGAAGCTAAAGTGCTAAGTACCCCGCCTGGGGAGTACGGCCGCAAGGTTG\r\n",
        ">TWE4_29;size=1;\r\n",
        "TACGGGGGGAGCAAGCGTTGTTCGGATTTACTGGGCTTAAAGGGCGCGTAGGCGGGCTGCCGCGTCCGGGGTGAAATCCCACGGCTCAACCGTGGAACGGCCCCGGGTACGGGCGGCCTCGAGGGGGGTAGGGGCGTGCGGAACTGTGGGTGGAGCGGTGGAATGCGTTGATATCCACAGGAACTCCGGTGGCGAAGGCGGCACGCTGGACCCTCTCTGACGCTGAGGCGCGAAAGCCAGGGGAGCGAACGGGATTAGATACCCCGGTAGTCCTAGCCCTAAACGATGGGTACTAGATTGTAGACGTACATGGGTTTACAGTCGAAGCAAAAGTGATAAGTACCCCGCCTGGGGAGTATGGTCGCAAGGCTG\r\n",
        ">NTR3_30;size=3;\r\n",
        "TACGTAGGTGGCAAGCGTTGTCCGGAATTATTGGGCGTAAAGGGCTCGCAGGCGGTTTCTTAAGTCTGATGTGAAAGCCCCCGGCTCAACCGGGGAAGGTCATTGGAAACTGGGGAACTTGAGTGCAGAAGAGGAGAGTGGAATTCCACGTGTAGCGGTGAAATGCGTAGAGATGTGGAGGAACACCAGTGGCGAAGGCGACTCTCTGGTCTGTAACTGACGCTGAGGAGCGAAAGCGTGGGGAGCGAACAGGATTAGATACCCTGGTAGTCCACGCCGTAAACGATGAGTGCTAAGTGTTAGGGGGTTTCCGCCCCTTAGTGCTGCAGCTAACGCATTAAGCACTCCGCCTGGGGAGTACGGTCGCAAGACTG\r\n"
       ]
      }
     ],
     "prompt_number": 56
    },
    {
     "cell_type": "code",
     "collapsed": false,
     "input": [
      "# Chuck looking to see how many Gb this file is.\n",
      "!du -h data/finalQC.fasta"
     ],
     "language": "python",
     "metadata": {},
     "outputs": [
      {
       "output_type": "stream",
       "stream": "stdout",
       "text": [
        "2.0G\tdata/finalQC.fasta\r\n"
       ]
      }
     ],
     "prompt_number": 57
    },
    {
     "cell_type": "code",
     "collapsed": false,
     "input": [
      "# Sequences are sorted by size\n",
      "# Here the size of clusters - we are excluding the singletons here\n",
      "# You would change minsize to 1 if you wanted to include singletons\n",
      "# Or, you know, just not do this step.\n",
      "# But you should just get rid of them.\n",
      "!usearch -sortbysize data/finalQC.unique.usearch_names.fasta -output data/finalQC.unique_sorted.fasta -minsize 2"
     ],
     "language": "python",
     "metadata": {},
     "outputs": [
      {
       "output_type": "stream",
       "stream": "stdout",
       "text": [
        "usearch v7.0.1090_i86linux32, 4.0Gb RAM (132Gb total), 40 cores\r\n",
        "(C) Copyright 2013 Robert C. Edgar, all rights reserved.\r\n",
        "http://drive5.com/usearch\r\n",
        "\r\n",
        "Licensed to: chuck.peperanney@gmail.com\r\n",
        "\r\n",
        "00:00  19Mb    0.1% Reading data/finalQC.unique.usearch_names.fasta\r"
       ]
      },
      {
       "output_type": "stream",
       "stream": "stdout",
       "text": [
        "00:01 211Mb   11.5% Reading data/finalQC.unique.usearch_names.fasta\r"
       ]
      },
      {
       "output_type": "stream",
       "stream": "stdout",
       "text": [
        "00:02 529Mb   30.2% Reading data/finalQC.unique.usearch_names.fasta\r"
       ]
      },
      {
       "output_type": "stream",
       "stream": "stdout",
       "text": [
        "00:03 848Mb   48.9% Reading data/finalQC.unique.usearch_names.fasta\r"
       ]
      },
      {
       "output_type": "stream",
       "stream": "stdout",
       "text": [
        "00:04 1.2Gb   67.2% Reading data/finalQC.unique.usearch_names.fasta\r"
       ]
      },
      {
       "output_type": "stream",
       "stream": "stdout",
       "text": [
        "00:05 1.5Gb   85.3% Reading data/finalQC.unique.usearch_names.fasta\r"
       ]
      },
      {
       "output_type": "stream",
       "stream": "stdout",
       "text": [
        "00:05 1.7Gb  100.0% Reading data/finalQC.unique.usearch_names.fasta\r",
        "\r\n",
        "00:05 1.7Gb Getting sizes                                          \r\n"
       ]
      },
      {
       "output_type": "stream",
       "stream": "stdout",
       "text": [
        "00:09 1.7Gb Sorting 263232 sequences\r\n",
        "00:09 1.7Gb    0.0% Writing data/finalQC.unique_sorted.fasta\r"
       ]
      },
      {
       "output_type": "stream",
       "stream": "stdout",
       "text": [
        "00:10 1.7Gb   20.4% Writing data/finalQC.unique_sorted.fasta\r"
       ]
      },
      {
       "output_type": "stream",
       "stream": "stdout",
       "text": [
        "00:10 1.7Gb  100.0% Writing data/finalQC.unique_sorted.fasta\r",
        "\r\n"
       ]
      }
     ],
     "prompt_number": 58
    },
    {
     "cell_type": "code",
     "collapsed": false,
     "input": [
      "# Checking data\n",
      "# You can see here, the first two sequences we saw above are now gone.\n",
      "!head data/finalQC.unique_sorted.fasta"
     ],
     "language": "python",
     "metadata": {},
     "outputs": [
      {
       "output_type": "stream",
       "stream": "stdout",
       "text": [
        ">PAS1_1711;size=6559;\r\n",
        "TACGAAGGTGGCAAGCGTTGTTCGGATTTACTGGGCGTACAGGGAGCGTAGGCGGTTGGATAAGCCCTCCGTGAAATCTC\r\n",
        "CAGGCTTAACCTGGAAAGTGCAGAGGGGACTGTTCAGCTAGAGGATGGGAGAGGAGCGCGGAATTCCCGGTGTAGCGGTG\r\n",
        "AAATGCGTAGAGATCGGGAGGAAGGCCGGTGGCGAAGGCGGCGCTCTGGAACATTTCTGACGCTGAGGCTCGAAAGCGTG\r\n",
        "GGGAGCAAACAGGATTAGATACCCTGGTAGTCCACGCCTTAAACGATGGATACTAAGTGTCGGCGGGTTACCGCCGGTGC\r\n",
        "CGCAGCTAACGCAGTAAGTATCCCGCCTGGGAAGTACGGCCGCAAGGTTG\r\n",
        ">CON1_2518;size=5038;\r\n",
        "TACGGAGGGGACTAGCGTTGTTCGGAATTACTGGGCGTAAAGCGCACGTAGGCGGATTTGTAAGTCAGGGGTGAAATCCC\r\n",
        "GGGGCTCAACCTCGGAACTGCCTTTGATACTGCAAATCTCGAGTCCGGAAGAGGTGAGTGGAATTCCTAGTGTAGAGGTG\r\n",
        "AAATTCGTAGATATTAGGAAGAACACCAGTGGCGAAGGCGGCTCACTGGTCCGGTACTGACGCTGAGGTGCGAAAGCGTG\r\n"
       ]
      }
     ],
     "prompt_number": 59
    },
    {
     "cell_type": "code",
     "collapsed": false,
     "input": [
      "# This is the clustering command.\n",
      "# Default is 97% minimum ID.\n",
      "# Not recommended to use more than 97%.\n",
      "# Creates the centroids, or \"seeds\"\n",
      "# Then you can take them out\n",
      "!usearch -cluster_otus data/finalQC.unique_sorted.fasta -otus data/otus.fasta"
     ],
     "language": "python",
     "metadata": {},
     "outputs": [
      {
       "output_type": "stream",
       "stream": "stdout",
       "text": [
        "usearch v7.0.1090_i86linux32, 4.0Gb RAM (132Gb total), 40 cores\r\n",
        "(C) Copyright 2013 Robert C. Edgar, all rights reserved.\r\n",
        "http://drive5.com/usearch\r\n",
        "\r\n",
        "Licensed to: chuck.peperanney@gmail.com\r\n",
        "\r\n",
        "00:00  21Mb    0.1% 0 OTUs\r"
       ]
      },
      {
       "output_type": "stream",
       "stream": "stdout",
       "text": [
        "00:01  31Mb    0.2% 93 OTUs\r"
       ]
      },
      {
       "output_type": "stream",
       "stream": "stdout",
       "text": [
        "00:02  36Mb    1.8% 1018 OTUs\r"
       ]
      },
      {
       "output_type": "stream",
       "stream": "stdout",
       "text": [
        "00:03  39Mb    3.3% 1698 OTUs\r"
       ]
      },
      {
       "output_type": "stream",
       "stream": "stdout",
       "text": [
        "00:04  41Mb    4.8% 2144 OTUs\r"
       ]
      },
      {
       "output_type": "stream",
       "stream": "stdout",
       "text": [
        "00:05  43Mb    6.2% 2551 OTUs\r"
       ]
      },
      {
       "output_type": "stream",
       "stream": "stdout",
       "text": [
        "00:06  45Mb    7.5% 2858 OTUs\r"
       ]
      },
      {
       "output_type": "stream",
       "stream": "stdout",
       "text": [
        "00:07  47Mb    8.8% 3100 OTUs\r"
       ]
      },
      {
       "output_type": "stream",
       "stream": "stdout",
       "text": [
        "00:08  48Mb   10.1% 3308 OTUs\r"
       ]
      },
      {
       "output_type": "stream",
       "stream": "stdout",
       "text": [
        "00:09  50Mb   11.3% 3502 OTUs\r"
       ]
      },
      {
       "output_type": "stream",
       "stream": "stdout",
       "text": [
        "00:10  51Mb   12.4% 3689 OTUs\r"
       ]
      },
      {
       "output_type": "stream",
       "stream": "stdout",
       "text": [
        "00:11  52Mb   13.6% 3853 OTUs\r"
       ]
      },
      {
       "output_type": "stream",
       "stream": "stdout",
       "text": [
        "00:12  53Mb   14.6% 4015 OTUs\r"
       ]
      },
      {
       "output_type": "stream",
       "stream": "stdout",
       "text": [
        "00:13  55Mb   15.7% 4163 OTUs\r"
       ]
      },
      {
       "output_type": "stream",
       "stream": "stdout",
       "text": [
        "00:14  56Mb   16.7% 4273 OTUs\r"
       ]
      },
      {
       "output_type": "stream",
       "stream": "stdout",
       "text": [
        "00:15  57Mb   17.7% 4379 OTUs\r"
       ]
      },
      {
       "output_type": "stream",
       "stream": "stdout",
       "text": [
        "00:16  58Mb   18.7% 4513 OTUs\r"
       ]
      },
      {
       "output_type": "stream",
       "stream": "stdout",
       "text": [
        "00:17  60Mb   19.7% 4640 OTUs\r"
       ]
      },
      {
       "output_type": "stream",
       "stream": "stdout",
       "text": [
        "00:18  61Mb   20.6% 4751 OTUs\r"
       ]
      },
      {
       "output_type": "stream",
       "stream": "stdout",
       "text": [
        "00:19  62Mb   21.6% 4850 OTUs\r"
       ]
      },
      {
       "output_type": "stream",
       "stream": "stdout",
       "text": [
        "00:20  63Mb   22.5% 4959 OTUs\r"
       ]
      },
      {
       "output_type": "stream",
       "stream": "stdout",
       "text": [
        "00:21  64Mb   23.4% 5056 OTUs\r"
       ]
      },
      {
       "output_type": "stream",
       "stream": "stdout",
       "text": [
        "00:22  65Mb   24.2% 5165 OTUs\r"
       ]
      },
      {
       "output_type": "stream",
       "stream": "stdout",
       "text": [
        "00:23  66Mb   25.0% 5243 OTUs\r"
       ]
      },
      {
       "output_type": "stream",
       "stream": "stdout",
       "text": [
        "00:24  67Mb   25.8% 5316 OTUs\r"
       ]
      },
      {
       "output_type": "stream",
       "stream": "stdout",
       "text": [
        "00:25  68Mb   26.5% 5397 OTUs\r"
       ]
      },
      {
       "output_type": "stream",
       "stream": "stdout",
       "text": [
        "00:26  69Mb   27.3% 5474 OTUs\r"
       ]
      },
      {
       "output_type": "stream",
       "stream": "stdout",
       "text": [
        "00:27  69Mb   28.1% 5538 OTUs\r"
       ]
      },
      {
       "output_type": "stream",
       "stream": "stdout",
       "text": [
        "00:28  70Mb   28.8% 5595 OTUs\r"
       ]
      },
      {
       "output_type": "stream",
       "stream": "stdout",
       "text": [
        "00:29  71Mb   29.5% 5644 OTUs\r"
       ]
      },
      {
       "output_type": "stream",
       "stream": "stdout",
       "text": [
        "00:30  72Mb   30.2% 5704 OTUs\r"
       ]
      },
      {
       "output_type": "stream",
       "stream": "stdout",
       "text": [
        "00:31  73Mb   30.9% 5768 OTUs\r"
       ]
      },
      {
       "output_type": "stream",
       "stream": "stdout",
       "text": [
        "00:32  74Mb   31.7% 5838 OTUs\r"
       ]
      },
      {
       "output_type": "stream",
       "stream": "stdout",
       "text": [
        "00:33  75Mb   32.3% 5907 OTUs\r"
       ]
      },
      {
       "output_type": "stream",
       "stream": "stdout",
       "text": [
        "00:34  76Mb   33.0% 5988 OTUs\r"
       ]
      },
      {
       "output_type": "stream",
       "stream": "stdout",
       "text": [
        "00:35  77Mb   33.7% 6099 OTUs\r"
       ]
      },
      {
       "output_type": "stream",
       "stream": "stdout",
       "text": [
        "00:36  78Mb   34.3% 6223 OTUs\r"
       ]
      },
      {
       "output_type": "stream",
       "stream": "stdout",
       "text": [
        "00:37  79Mb   34.9% 6348 OTUs\r"
       ]
      },
      {
       "output_type": "stream",
       "stream": "stdout",
       "text": [
        "00:38  80Mb   35.5% 6481 OTUs\r"
       ]
      },
      {
       "output_type": "stream",
       "stream": "stdout",
       "text": [
        "00:39  81Mb   36.1% 6598 OTUs\r"
       ]
      },
      {
       "output_type": "stream",
       "stream": "stdout",
       "text": [
        "00:40  82Mb   36.6% 6708 OTUs\r"
       ]
      },
      {
       "output_type": "stream",
       "stream": "stdout",
       "text": [
        "00:41  83Mb   37.1% 6801 OTUs\r"
       ]
      },
      {
       "output_type": "stream",
       "stream": "stdout",
       "text": [
        "00:42  84Mb   37.6% 6910 OTUs\r"
       ]
      },
      {
       "output_type": "stream",
       "stream": "stdout",
       "text": [
        "00:43  85Mb   38.2% 7004 OTUs\r"
       ]
      },
      {
       "output_type": "stream",
       "stream": "stdout",
       "text": [
        "00:44  86Mb   38.7% 7093 OTUs\r"
       ]
      },
      {
       "output_type": "stream",
       "stream": "stdout",
       "text": [
        "00:45  87Mb   39.2% 7189 OTUs\r"
       ]
      },
      {
       "output_type": "stream",
       "stream": "stdout",
       "text": [
        "00:46  88Mb   39.6% 7273 OTUs\r"
       ]
      },
      {
       "output_type": "stream",
       "stream": "stdout",
       "text": [
        "00:47  89Mb   40.1% 7374 OTUs\r"
       ]
      },
      {
       "output_type": "stream",
       "stream": "stdout",
       "text": [
        "00:48  90Mb   40.6% 7457 OTUs\r"
       ]
      },
      {
       "output_type": "stream",
       "stream": "stdout",
       "text": [
        "00:49  91Mb   41.1% 7531 OTUs\r"
       ]
      },
      {
       "output_type": "stream",
       "stream": "stdout",
       "text": [
        "00:50  91Mb   41.5% 7600 OTUs\r"
       ]
      },
      {
       "output_type": "stream",
       "stream": "stdout",
       "text": [
        "00:51  92Mb   41.9% 7679 OTUs\r"
       ]
      },
      {
       "output_type": "stream",
       "stream": "stdout",
       "text": [
        "00:52  93Mb   42.3% 7751 OTUs\r"
       ]
      },
      {
       "output_type": "stream",
       "stream": "stdout",
       "text": [
        "00:53  94Mb   42.7% 7825 OTUs\r"
       ]
      },
      {
       "output_type": "stream",
       "stream": "stdout",
       "text": [
        "00:54  94Mb   43.1% 7888 OTUs\r"
       ]
      },
      {
       "output_type": "stream",
       "stream": "stdout",
       "text": [
        "00:55  95Mb   43.4% 7960 OTUs\r"
       ]
      },
      {
       "output_type": "stream",
       "stream": "stdout",
       "text": [
        "00:56  96Mb   43.8% 8020 OTUs\r"
       ]
      },
      {
       "output_type": "stream",
       "stream": "stdout",
       "text": [
        "00:57  97Mb   44.2% 8072 OTUs\r"
       ]
      },
      {
       "output_type": "stream",
       "stream": "stdout",
       "text": [
        "00:58  98Mb   44.6% 8134 OTUs\r"
       ]
      },
      {
       "output_type": "stream",
       "stream": "stdout",
       "text": [
        "00:59  98Mb   44.9% 8203 OTUs\r"
       ]
      },
      {
       "output_type": "stream",
       "stream": "stdout",
       "text": [
        "01:00  99Mb   45.3% 8259 OTUs\r"
       ]
      },
      {
       "output_type": "stream",
       "stream": "stdout",
       "text": [
        "01:01 100Mb   45.6% 8330 OTUs\r"
       ]
      },
      {
       "output_type": "stream",
       "stream": "stdout",
       "text": [
        "01:02 100Mb   45.9% 8374 OTUs\r"
       ]
      },
      {
       "output_type": "stream",
       "stream": "stdout",
       "text": [
        "01:03 101Mb   46.1% 8406 OTUs\r"
       ]
      },
      {
       "output_type": "stream",
       "stream": "stdout",
       "text": [
        "01:04 102Mb   46.5% 8453 OTUs\r"
       ]
      },
      {
       "output_type": "stream",
       "stream": "stdout",
       "text": [
        "01:05 102Mb   46.8% 8518 OTUs\r"
       ]
      },
      {
       "output_type": "stream",
       "stream": "stdout",
       "text": [
        "01:06 103Mb   47.2% 8568 OTUs\r"
       ]
      },
      {
       "output_type": "stream",
       "stream": "stdout",
       "text": [
        "01:07 104Mb   47.5% 8630 OTUs\r"
       ]
      },
      {
       "output_type": "stream",
       "stream": "stdout",
       "text": [
        "01:08 105Mb   47.9% 8693 OTUs\r"
       ]
      },
      {
       "output_type": "stream",
       "stream": "stdout",
       "text": [
        "01:09 105Mb   48.2% 8744 OTUs\r"
       ]
      },
      {
       "output_type": "stream",
       "stream": "stdout",
       "text": [
        "01:10 106Mb   48.5% 8796 OTUs\r"
       ]
      },
      {
       "output_type": "stream",
       "stream": "stdout",
       "text": [
        "01:11 107Mb   48.8% 8834 OTUs\r"
       ]
      },
      {
       "output_type": "stream",
       "stream": "stdout",
       "text": [
        "01:12 108Mb   49.2% 8883 OTUs\r"
       ]
      },
      {
       "output_type": "stream",
       "stream": "stdout",
       "text": [
        "01:13 108Mb   49.5% 8929 OTUs\r"
       ]
      },
      {
       "output_type": "stream",
       "stream": "stdout",
       "text": [
        "01:14 109Mb   49.8% 8999 OTUs\r"
       ]
      },
      {
       "output_type": "stream",
       "stream": "stdout",
       "text": [
        "01:15 110Mb   50.0% 9042 OTUs\r"
       ]
      },
      {
       "output_type": "stream",
       "stream": "stdout",
       "text": [
        "01:16 111Mb   50.4% 9094 OTUs\r"
       ]
      },
      {
       "output_type": "stream",
       "stream": "stdout",
       "text": [
        "01:17 111Mb   50.7% 9137 OTUs\r"
       ]
      },
      {
       "output_type": "stream",
       "stream": "stdout",
       "text": [
        "01:18 112Mb   51.0% 9176 OTUs\r"
       ]
      },
      {
       "output_type": "stream",
       "stream": "stdout",
       "text": [
        "01:19 113Mb   51.3% 9223 OTUs\r"
       ]
      },
      {
       "output_type": "stream",
       "stream": "stdout",
       "text": [
        "01:20 113Mb   51.7% 9260 OTUs\r"
       ]
      },
      {
       "output_type": "stream",
       "stream": "stdout",
       "text": [
        "01:21 114Mb   52.0% 9309 OTUs\r"
       ]
      },
      {
       "output_type": "stream",
       "stream": "stdout",
       "text": [
        "01:22 115Mb   52.3% 9350 OTUs\r"
       ]
      },
      {
       "output_type": "stream",
       "stream": "stdout",
       "text": [
        "01:23 115Mb   52.6% 9389 OTUs\r"
       ]
      },
      {
       "output_type": "stream",
       "stream": "stdout",
       "text": [
        "01:24 116Mb   52.9% 9449 OTUs\r"
       ]
      },
      {
       "output_type": "stream",
       "stream": "stdout",
       "text": [
        "01:25 117Mb   53.2% 9498 OTUs\r"
       ]
      },
      {
       "output_type": "stream",
       "stream": "stdout",
       "text": [
        "01:26 118Mb   53.6% 9542 OTUs\r"
       ]
      },
      {
       "output_type": "stream",
       "stream": "stdout",
       "text": [
        "01:27 118Mb   53.9% 9582 OTUs\r"
       ]
      },
      {
       "output_type": "stream",
       "stream": "stdout",
       "text": [
        "01:28 119Mb   54.2% 9626 OTUs\r"
       ]
      },
      {
       "output_type": "stream",
       "stream": "stdout",
       "text": [
        "01:29 120Mb   54.5% 9667 OTUs\r"
       ]
      },
      {
       "output_type": "stream",
       "stream": "stdout",
       "text": [
        "01:30 121Mb   54.8% 9705 OTUs\r"
       ]
      },
      {
       "output_type": "stream",
       "stream": "stdout",
       "text": [
        "01:31 122Mb   55.1% 9743 OTUs\r"
       ]
      },
      {
       "output_type": "stream",
       "stream": "stdout",
       "text": [
        "01:32 122Mb   55.4% 9789 OTUs\r"
       ]
      },
      {
       "output_type": "stream",
       "stream": "stdout",
       "text": [
        "01:33 123Mb   55.7% 9849 OTUs\r"
       ]
      },
      {
       "output_type": "stream",
       "stream": "stdout",
       "text": [
        "01:34 124Mb   56.0% 9897 OTUs\r"
       ]
      },
      {
       "output_type": "stream",
       "stream": "stdout",
       "text": [
        "01:35 125Mb   56.3% 9933 OTUs\r"
       ]
      },
      {
       "output_type": "stream",
       "stream": "stdout",
       "text": [
        "01:36 125Mb   56.6% 9964 OTUs\r"
       ]
      },
      {
       "output_type": "stream",
       "stream": "stdout",
       "text": [
        "01:37 126Mb   56.9% 10003 OTUs\r"
       ]
      },
      {
       "output_type": "stream",
       "stream": "stdout",
       "text": [
        "01:38 127Mb   57.2% 10040 OTUs\r"
       ]
      },
      {
       "output_type": "stream",
       "stream": "stdout",
       "text": [
        "01:39 127Mb   57.4% 10067 OTUs\r"
       ]
      },
      {
       "output_type": "stream",
       "stream": "stdout",
       "text": [
        "01:40 128Mb   57.7% 10095 OTUs\r"
       ]
      },
      {
       "output_type": "stream",
       "stream": "stdout",
       "text": [
        "01:41 128Mb   58.0% 10130 OTUs\r"
       ]
      },
      {
       "output_type": "stream",
       "stream": "stdout",
       "text": [
        "01:42 129Mb   58.3% 10165 OTUs\r"
       ]
      },
      {
       "output_type": "stream",
       "stream": "stdout",
       "text": [
        "01:43 130Mb   58.5% 10188 OTUs\r"
       ]
      },
      {
       "output_type": "stream",
       "stream": "stdout",
       "text": [
        "01:44 130Mb   58.8% 10217 OTUs\r"
       ]
      },
      {
       "output_type": "stream",
       "stream": "stdout",
       "text": [
        "01:45 131Mb   59.1% 10240 OTUs\r"
       ]
      },
      {
       "output_type": "stream",
       "stream": "stdout",
       "text": [
        "01:46 131Mb   59.4% 10278 OTUs\r"
       ]
      },
      {
       "output_type": "stream",
       "stream": "stdout",
       "text": [
        "01:47 132Mb   59.7% 10331 OTUs\r"
       ]
      },
      {
       "output_type": "stream",
       "stream": "stdout",
       "text": [
        "01:48 133Mb   60.0% 10361 OTUs\r"
       ]
      },
      {
       "output_type": "stream",
       "stream": "stdout",
       "text": [
        "01:49 133Mb   60.3% 10392 OTUs\r"
       ]
      },
      {
       "output_type": "stream",
       "stream": "stdout",
       "text": [
        "01:50 134Mb   60.6% 10427 OTUs\r"
       ]
      },
      {
       "output_type": "stream",
       "stream": "stdout",
       "text": [
        "01:51 135Mb   60.8% 10469 OTUs\r"
       ]
      },
      {
       "output_type": "stream",
       "stream": "stdout",
       "text": [
        "01:52 135Mb   61.1% 10503 OTUs\r"
       ]
      },
      {
       "output_type": "stream",
       "stream": "stdout",
       "text": [
        "01:53 136Mb   61.4% 10542 OTUs\r"
       ]
      },
      {
       "output_type": "stream",
       "stream": "stdout",
       "text": [
        "01:54 137Mb   61.7% 10576 OTUs\r"
       ]
      },
      {
       "output_type": "stream",
       "stream": "stdout",
       "text": [
        "01:55 138Mb   62.0% 10611 OTUs\r"
       ]
      },
      {
       "output_type": "stream",
       "stream": "stdout",
       "text": [
        "01:56 138Mb   62.3% 10640 OTUs\r"
       ]
      },
      {
       "output_type": "stream",
       "stream": "stdout",
       "text": [
        "01:57 139Mb   62.5% 10678 OTUs\r"
       ]
      },
      {
       "output_type": "stream",
       "stream": "stdout",
       "text": [
        "01:58 140Mb   62.8% 10707 OTUs\r"
       ]
      },
      {
       "output_type": "stream",
       "stream": "stdout",
       "text": [
        "01:59 140Mb   63.1% 10744 OTUs\r"
       ]
      },
      {
       "output_type": "stream",
       "stream": "stdout",
       "text": [
        "02:00 141Mb   63.3% 10764 OTUs\r"
       ]
      },
      {
       "output_type": "stream",
       "stream": "stdout",
       "text": [
        "02:01 142Mb   63.6% 10795 OTUs\r"
       ]
      },
      {
       "output_type": "stream",
       "stream": "stdout",
       "text": [
        "02:02 142Mb   63.8% 10814 OTUs\r"
       ]
      },
      {
       "output_type": "stream",
       "stream": "stdout",
       "text": [
        "02:03 142Mb   64.0% 10840 OTUs\r"
       ]
      },
      {
       "output_type": "stream",
       "stream": "stdout",
       "text": [
        "02:04 143Mb   64.3% 10872 OTUs\r"
       ]
      },
      {
       "output_type": "stream",
       "stream": "stdout",
       "text": [
        "02:05 144Mb   64.5% 10908 OTUs\r"
       ]
      },
      {
       "output_type": "stream",
       "stream": "stdout",
       "text": [
        "02:06 144Mb   64.8% 10934 OTUs\r"
       ]
      },
      {
       "output_type": "stream",
       "stream": "stdout",
       "text": [
        "02:07 145Mb   65.0% 10958 OTUs\r"
       ]
      },
      {
       "output_type": "stream",
       "stream": "stdout",
       "text": [
        "02:08 145Mb   65.3% 10969 OTUs\r"
       ]
      },
      {
       "output_type": "stream",
       "stream": "stdout",
       "text": [
        "02:09 146Mb   65.5% 10982 OTUs\r"
       ]
      },
      {
       "output_type": "stream",
       "stream": "stdout",
       "text": [
        "02:10 147Mb   65.8% "
       ]
      },
      {
       "output_type": "stream",
       "stream": "stdout",
       "text": [
        "11002 OTUs\r"
       ]
      },
      {
       "output_type": "stream",
       "stream": "stdout",
       "text": [
        "02:11 147Mb   66.1% 11015 OTUs\r"
       ]
      },
      {
       "output_type": "stream",
       "stream": "stdout",
       "text": [
        "02:12 148Mb   66.4% 11030 OTUs\r"
       ]
      },
      {
       "output_type": "stream",
       "stream": "stdout",
       "text": [
        "02:13 148Mb   66.6% 11046 OTUs\r"
       ]
      },
      {
       "output_type": "stream",
       "stream": "stdout",
       "text": [
        "02:14 149Mb   66.9% 11067 OTUs\r"
       ]
      },
      {
       "output_type": "stream",
       "stream": "stdout",
       "text": [
        "02:15 150Mb   67.1% 11080 OTUs\r"
       ]
      },
      {
       "output_type": "stream",
       "stream": "stdout",
       "text": [
        "02:16 150Mb   67.4% 11095 OTUs\r"
       ]
      },
      {
       "output_type": "stream",
       "stream": "stdout",
       "text": [
        "02:17 151Mb   67.7% 11113 OTUs\r"
       ]
      },
      {
       "output_type": "stream",
       "stream": "stdout",
       "text": [
        "02:18 151Mb   68.0% 11132 OTUs\r"
       ]
      },
      {
       "output_type": "stream",
       "stream": "stdout",
       "text": [
        "02:19 152Mb   68.2% 11153 OTUs\r"
       ]
      },
      {
       "output_type": "stream",
       "stream": "stdout",
       "text": [
        "02:20 153Mb   68.5% 11167 OTUs\r"
       ]
      },
      {
       "output_type": "stream",
       "stream": "stdout",
       "text": [
        "02:21 153Mb   68.7% 11185 OTUs\r"
       ]
      },
      {
       "output_type": "stream",
       "stream": "stdout",
       "text": [
        "02:22 154Mb   69.0% 11206 OTUs\r"
       ]
      },
      {
       "output_type": "stream",
       "stream": "stdout",
       "text": [
        "02:23 154Mb   69.3% 11226 OTUs\r"
       ]
      },
      {
       "output_type": "stream",
       "stream": "stdout",
       "text": [
        "02:24 155Mb   69.5% 11245 OTUs\r"
       ]
      },
      {
       "output_type": "stream",
       "stream": "stdout",
       "text": [
        "02:25 156Mb   69.8% 11270 OTUs\r"
       ]
      },
      {
       "output_type": "stream",
       "stream": "stdout",
       "text": [
        "02:26 156Mb   70.1% 11291 OTUs\r"
       ]
      },
      {
       "output_type": "stream",
       "stream": "stdout",
       "text": [
        "02:27 157Mb   70.3% 11312 OTUs\r"
       ]
      },
      {
       "output_type": "stream",
       "stream": "stdout",
       "text": [
        "02:28 158Mb   70.6% 11337 OTUs\r"
       ]
      },
      {
       "output_type": "stream",
       "stream": "stdout",
       "text": [
        "02:29 158Mb   70.9% 11363 OTUs\r"
       ]
      },
      {
       "output_type": "stream",
       "stream": "stdout",
       "text": [
        "02:30 159Mb   71.1% 11377 OTUs\r"
       ]
      },
      {
       "output_type": "stream",
       "stream": "stdout",
       "text": [
        "02:31 159Mb   71.4% 11393 OTUs\r"
       ]
      },
      {
       "output_type": "stream",
       "stream": "stdout",
       "text": [
        "02:32 160Mb   71.7% 11414 OTUs\r"
       ]
      },
      {
       "output_type": "stream",
       "stream": "stdout",
       "text": [
        "02:33 160Mb   72.0% 11432 OTUs\r"
       ]
      },
      {
       "output_type": "stream",
       "stream": "stdout",
       "text": [
        "02:34 161Mb   72.2% 11454 OTUs\r"
       ]
      },
      {
       "output_type": "stream",
       "stream": "stdout",
       "text": [
        "02:35 162Mb   72.5% 11477 OTUs\r"
       ]
      },
      {
       "output_type": "stream",
       "stream": "stdout",
       "text": [
        "02:36 162Mb   72.8% 11494 OTUs\r"
       ]
      },
      {
       "output_type": "stream",
       "stream": "stdout",
       "text": [
        "02:37 163Mb   73.0% 11508 OTUs\r"
       ]
      },
      {
       "output_type": "stream",
       "stream": "stdout",
       "text": [
        "02:38 164Mb   73.3% 11527 OTUs\r"
       ]
      },
      {
       "output_type": "stream",
       "stream": "stdout",
       "text": [
        "02:39 164Mb   73.5% 11543 OTUs\r"
       ]
      },
      {
       "output_type": "stream",
       "stream": "stdout",
       "text": [
        "02:40 165Mb   73.8% 11556 OTUs\r"
       ]
      },
      {
       "output_type": "stream",
       "stream": "stdout",
       "text": [
        "02:41 165Mb   74.1% 11579 OTUs\r"
       ]
      },
      {
       "output_type": "stream",
       "stream": "stdout",
       "text": [
        "02:42 166Mb   74.3% 11598 OTUs\r"
       ]
      },
      {
       "output_type": "stream",
       "stream": "stdout",
       "text": [
        "02:43 167Mb   74.6% 11625 OTUs\r"
       ]
      },
      {
       "output_type": "stream",
       "stream": "stdout",
       "text": [
        "02:44 167Mb   74.9% 11642 OTUs\r"
       ]
      },
      {
       "output_type": "stream",
       "stream": "stdout",
       "text": [
        "02:45 168Mb   75.1% 11661 OTUs\r"
       ]
      },
      {
       "output_type": "stream",
       "stream": "stdout",
       "text": [
        "02:46 168Mb   75.4% 11679 OTUs\r"
       ]
      },
      {
       "output_type": "stream",
       "stream": "stdout",
       "text": [
        "02:47 169Mb   75.7% 11708 OTUs\r"
       ]
      },
      {
       "output_type": "stream",
       "stream": "stdout",
       "text": [
        "02:48 170Mb   75.9% 11729 OTUs\r"
       ]
      },
      {
       "output_type": "stream",
       "stream": "stdout",
       "text": [
        "02:49 170Mb   76.2% 11756 OTUs\r"
       ]
      },
      {
       "output_type": "stream",
       "stream": "stdout",
       "text": [
        "02:50 171Mb   76.4% 11769 OTUs\r"
       ]
      },
      {
       "output_type": "stream",
       "stream": "stdout",
       "text": [
        "02:51 171Mb   76.6% 11785 OTUs\r"
       ]
      },
      {
       "output_type": "stream",
       "stream": "stdout",
       "text": [
        "02:52 172Mb   76.9% 11809 OTUs\r"
       ]
      },
      {
       "output_type": "stream",
       "stream": "stdout",
       "text": [
        "02:53 173Mb   77.1% 11831 OTUs\r"
       ]
      },
      {
       "output_type": "stream",
       "stream": "stdout",
       "text": [
        "02:54 173Mb   77.4% 11859 OTUs\r"
       ]
      },
      {
       "output_type": "stream",
       "stream": "stdout",
       "text": [
        "02:55 174Mb   77.7% 11882 OTUs\r"
       ]
      },
      {
       "output_type": "stream",
       "stream": "stdout",
       "text": [
        "02:56 174Mb   77.9% 11895 OTUs\r"
       ]
      },
      {
       "output_type": "stream",
       "stream": "stdout",
       "text": [
        "02:57 175Mb   78.2% 11912 OTUs\r"
       ]
      },
      {
       "output_type": "stream",
       "stream": "stdout",
       "text": [
        "02:58 175Mb   78.4% 11925 OTUs\r"
       ]
      },
      {
       "output_type": "stream",
       "stream": "stdout",
       "text": [
        "02:59 176Mb   78.7% 11947 OTUs\r"
       ]
      },
      {
       "output_type": "stream",
       "stream": "stdout",
       "text": [
        "03:00 177Mb   78.9% 11963 OTUs\r"
       ]
      },
      {
       "output_type": "stream",
       "stream": "stdout",
       "text": [
        "03:01 177Mb   79.2% 11979 OTUs\r"
       ]
      },
      {
       "output_type": "stream",
       "stream": "stdout",
       "text": [
        "03:02 178Mb   79.5% 11989 OTUs\r"
       ]
      },
      {
       "output_type": "stream",
       "stream": "stdout",
       "text": [
        "03:03 178Mb   79.7% 12005 OTUs\r"
       ]
      },
      {
       "output_type": "stream",
       "stream": "stdout",
       "text": [
        "03:04 179Mb   80.0% 12022 OTUs\r"
       ]
      },
      {
       "output_type": "stream",
       "stream": "stdout",
       "text": [
        "03:05 179Mb   80.2% 12033 OTUs\r"
       ]
      },
      {
       "output_type": "stream",
       "stream": "stdout",
       "text": [
        "03:06 180Mb   80.5% 12046 OTUs\r"
       ]
      },
      {
       "output_type": "stream",
       "stream": "stdout",
       "text": [
        "03:07 181Mb   80.7% 12075 OTUs\r"
       ]
      },
      {
       "output_type": "stream",
       "stream": "stdout",
       "text": [
        "03:08 181Mb   81.0% 12099 OTUs\r"
       ]
      },
      {
       "output_type": "stream",
       "stream": "stdout",
       "text": [
        "03:09 182Mb   81.3% 12118 OTUs\r"
       ]
      },
      {
       "output_type": "stream",
       "stream": "stdout",
       "text": [
        "03:10 182Mb   81.5% 12139 OTUs\r"
       ]
      },
      {
       "output_type": "stream",
       "stream": "stdout",
       "text": [
        "03:11 183Mb   81.8% 12160 OTUs\r"
       ]
      },
      {
       "output_type": "stream",
       "stream": "stdout",
       "text": [
        "03:12 183Mb   82.0% 12177 OTUs\r"
       ]
      },
      {
       "output_type": "stream",
       "stream": "stdout",
       "text": [
        "03:13 184Mb   82.3% 12196 OTUs\r"
       ]
      },
      {
       "output_type": "stream",
       "stream": "stdout",
       "text": [
        "03:14 184Mb   82.5% 12218 OTUs\r"
       ]
      },
      {
       "output_type": "stream",
       "stream": "stdout",
       "text": [
        "03:15 185Mb   82.8% 12246 OTUs\r"
       ]
      },
      {
       "output_type": "stream",
       "stream": "stdout",
       "text": [
        "03:16 186Mb   83.1% 12269 OTUs\r"
       ]
      },
      {
       "output_type": "stream",
       "stream": "stdout",
       "text": [
        "03:17 186Mb   83.3% 12284 OTUs\r"
       ]
      },
      {
       "output_type": "stream",
       "stream": "stdout",
       "text": [
        "03:18 187Mb   83.5% 12300 OTUs\r"
       ]
      },
      {
       "output_type": "stream",
       "stream": "stdout",
       "text": [
        "03:19 188Mb   83.7% 12335 OTUs\r"
       ]
      },
      {
       "output_type": "stream",
       "stream": "stdout",
       "text": [
        "03:20 188Mb   84.0% 12358 OTUs\r"
       ]
      },
      {
       "output_type": "stream",
       "stream": "stdout",
       "text": [
        "03:21 189Mb   84.2% 12382 OTUs\r"
       ]
      },
      {
       "output_type": "stream",
       "stream": "stdout",
       "text": [
        "03:22 189Mb   84.5% 12408 OTUs\r"
       ]
      },
      {
       "output_type": "stream",
       "stream": "stdout",
       "text": [
        "03:23 190Mb   84.8% 12430 OTUs\r"
       ]
      },
      {
       "output_type": "stream",
       "stream": "stdout",
       "text": [
        "03:24 191Mb   85.0% 12448 OTUs\r"
       ]
      },
      {
       "output_type": "stream",
       "stream": "stdout",
       "text": [
        "03:25 191Mb   85.3% 12467 OTUs\r"
       ]
      },
      {
       "output_type": "stream",
       "stream": "stdout",
       "text": [
        "03:26 192Mb   85.5% 12492 OTUs\r"
       ]
      },
      {
       "output_type": "stream",
       "stream": "stdout",
       "text": [
        "03:27 192Mb   85.8% 12515 OTUs\r"
       ]
      },
      {
       "output_type": "stream",
       "stream": "stdout",
       "text": [
        "03:28 193Mb   86.0% 12545 OTUs\r"
       ]
      },
      {
       "output_type": "stream",
       "stream": "stdout",
       "text": [
        "03:29 194Mb   86.3% 12572 OTUs\r"
       ]
      },
      {
       "output_type": "stream",
       "stream": "stdout",
       "text": [
        "03:30 194Mb   86.5% 12599 OTUs\r"
       ]
      },
      {
       "output_type": "stream",
       "stream": "stdout",
       "text": [
        "03:31 195Mb   86.8% 12635 OTUs\r"
       ]
      },
      {
       "output_type": "stream",
       "stream": "stdout",
       "text": [
        "03:32 196Mb   87.0% 12674 OTUs\r"
       ]
      },
      {
       "output_type": "stream",
       "stream": "stdout",
       "text": [
        "03:33 196Mb   87.3% 12706 OTUs\r"
       ]
      },
      {
       "output_type": "stream",
       "stream": "stdout",
       "text": [
        "03:34 197Mb   87.6% 1272"
       ]
      },
      {
       "output_type": "stream",
       "stream": "stdout",
       "text": [
        "6 OTUs\r"
       ]
      },
      {
       "output_type": "stream",
       "stream": "stdout",
       "text": [
        "03:35 197Mb   87.8% 12749 OTUs\r"
       ]
      },
      {
       "output_type": "stream",
       "stream": "stdout",
       "text": [
        "03:36 198Mb   88.1% 12775 OTUs\r"
       ]
      },
      {
       "output_type": "stream",
       "stream": "stdout",
       "text": [
        "03:37 198Mb   88.3% 12802 OTUs\r"
       ]
      },
      {
       "output_type": "stream",
       "stream": "stdout",
       "text": [
        "03:38 199Mb   88.5% 12827 OTUs\r"
       ]
      },
      {
       "output_type": "stream",
       "stream": "stdout",
       "text": [
        "03:39 200Mb   88.8% 12846 OTUs\r"
       ]
      },
      {
       "output_type": "stream",
       "stream": "stdout",
       "text": [
        "03:40 200Mb   89.0% 12858 OTUs\r"
       ]
      },
      {
       "output_type": "stream",
       "stream": "stdout",
       "text": [
        "03:41 201Mb   89.3% 12878 OTUs\r"
       ]
      },
      {
       "output_type": "stream",
       "stream": "stdout",
       "text": [
        "03:42 202Mb   89.5% 12905 OTUs\r"
       ]
      },
      {
       "output_type": "stream",
       "stream": "stdout",
       "text": [
        "03:43 202Mb   89.8% 12924 OTUs\r"
       ]
      },
      {
       "output_type": "stream",
       "stream": "stdout",
       "text": [
        "03:44 203Mb   90.0% 12954 OTUs\r"
       ]
      },
      {
       "output_type": "stream",
       "stream": "stdout",
       "text": [
        "03:45 203Mb   90.3% 12977 OTUs\r"
       ]
      },
      {
       "output_type": "stream",
       "stream": "stdout",
       "text": [
        "03:46 204Mb   90.5% 13013 OTUs\r"
       ]
      },
      {
       "output_type": "stream",
       "stream": "stdout",
       "text": [
        "03:47 204Mb   90.8% 13038 OTUs\r"
       ]
      },
      {
       "output_type": "stream",
       "stream": "stdout",
       "text": [
        "03:48 205Mb   91.0% 13065 OTUs\r"
       ]
      },
      {
       "output_type": "stream",
       "stream": "stdout",
       "text": [
        "03:49 206Mb   91.2% 13087 OTUs\r"
       ]
      },
      {
       "output_type": "stream",
       "stream": "stdout",
       "text": [
        "03:50 206Mb   91.5% 13106 OTUs\r"
       ]
      },
      {
       "output_type": "stream",
       "stream": "stdout",
       "text": [
        "03:51 207Mb   91.7% 13124 OTUs\r"
       ]
      },
      {
       "output_type": "stream",
       "stream": "stdout",
       "text": [
        "03:52 207Mb   92.0% 13136 OTUs\r"
       ]
      },
      {
       "output_type": "stream",
       "stream": "stdout",
       "text": [
        "03:53 208Mb   92.2% 13153 OTUs\r"
       ]
      },
      {
       "output_type": "stream",
       "stream": "stdout",
       "text": [
        "03:54 209Mb   92.4% 13171 OTUs\r"
       ]
      },
      {
       "output_type": "stream",
       "stream": "stdout",
       "text": [
        "03:55 209Mb   92.7% 13190 OTUs\r"
       ]
      },
      {
       "output_type": "stream",
       "stream": "stdout",
       "text": [
        "03:56 210Mb   92.9% 13212 OTUs\r"
       ]
      },
      {
       "output_type": "stream",
       "stream": "stdout",
       "text": [
        "03:57 210Mb   93.1% 13231 OTUs\r"
       ]
      },
      {
       "output_type": "stream",
       "stream": "stdout",
       "text": [
        "03:58 211Mb   93.4% 13249 OTUs\r"
       ]
      },
      {
       "output_type": "stream",
       "stream": "stdout",
       "text": [
        "03:59 211Mb   93.6% 13261 OTUs\r"
       ]
      },
      {
       "output_type": "stream",
       "stream": "stdout",
       "text": [
        "04:00 212Mb   93.9% 13287 OTUs\r"
       ]
      },
      {
       "output_type": "stream",
       "stream": "stdout",
       "text": [
        "04:01 213Mb   94.1% 13302 OTUs\r"
       ]
      },
      {
       "output_type": "stream",
       "stream": "stdout",
       "text": [
        "04:02 213Mb   94.3% 13322 OTUs\r"
       ]
      },
      {
       "output_type": "stream",
       "stream": "stdout",
       "text": [
        "04:03 214Mb   94.6% 13332 OTUs\r"
       ]
      },
      {
       "output_type": "stream",
       "stream": "stdout",
       "text": [
        "04:04 214Mb   94.8% 13343 OTUs\r"
       ]
      },
      {
       "output_type": "stream",
       "stream": "stdout",
       "text": [
        "04:05 215Mb   95.0% 13365 OTUs\r"
       ]
      },
      {
       "output_type": "stream",
       "stream": "stdout",
       "text": [
        "04:06 216Mb   95.3% 13377 OTUs\r"
       ]
      },
      {
       "output_type": "stream",
       "stream": "stdout",
       "text": [
        "04:07 216Mb   95.5% 13396 OTUs\r"
       ]
      },
      {
       "output_type": "stream",
       "stream": "stdout",
       "text": [
        "04:08 217Mb   95.8% 13418 OTUs\r"
       ]
      },
      {
       "output_type": "stream",
       "stream": "stdout",
       "text": [
        "04:09 217Mb   96.0% 13438 OTUs\r"
       ]
      },
      {
       "output_type": "stream",
       "stream": "stdout",
       "text": [
        "04:10 218Mb   96.2% 13452 OTUs\r"
       ]
      },
      {
       "output_type": "stream",
       "stream": "stdout",
       "text": [
        "04:11 218Mb   96.5% 13468 OTUs\r"
       ]
      },
      {
       "output_type": "stream",
       "stream": "stdout",
       "text": [
        "04:12 219Mb   96.7% 13488 OTUs\r"
       ]
      },
      {
       "output_type": "stream",
       "stream": "stdout",
       "text": [
        "04:13 220Mb   96.9% 13502 OTUs\r"
       ]
      },
      {
       "output_type": "stream",
       "stream": "stdout",
       "text": [
        "04:14 220Mb   97.2% 13519 OTUs\r"
       ]
      },
      {
       "output_type": "stream",
       "stream": "stdout",
       "text": [
        "04:15 221Mb   97.4% 13539 OTUs\r"
       ]
      },
      {
       "output_type": "stream",
       "stream": "stdout",
       "text": [
        "04:16 221Mb   97.6% 13559 OTUs\r"
       ]
      },
      {
       "output_type": "stream",
       "stream": "stdout",
       "text": [
        "04:17 222Mb   97.9% 13573 OTUs\r"
       ]
      },
      {
       "output_type": "stream",
       "stream": "stdout",
       "text": [
        "04:18 222Mb   98.1% 13589 OTUs\r"
       ]
      },
      {
       "output_type": "stream",
       "stream": "stdout",
       "text": [
        "04:19 223Mb   98.3% 13614 OTUs\r"
       ]
      },
      {
       "output_type": "stream",
       "stream": "stdout",
       "text": [
        "04:20 224Mb   98.5% 13637 OTUs\r"
       ]
      },
      {
       "output_type": "stream",
       "stream": "stdout",
       "text": [
        "04:21 224Mb   98.7% 13653 OTUs\r"
       ]
      },
      {
       "output_type": "stream",
       "stream": "stdout",
       "text": [
        "04:22 225Mb   99.0% 13670 OTUs\r"
       ]
      },
      {
       "output_type": "stream",
       "stream": "stdout",
       "text": [
        "04:23 225Mb   99.2% 13681 OTUs\r"
       ]
      },
      {
       "output_type": "stream",
       "stream": "stdout",
       "text": [
        "04:24 226Mb   99.4% 13697 OTUs\r"
       ]
      },
      {
       "output_type": "stream",
       "stream": "stdout",
       "text": [
        "04:25 226Mb   99.6% 13712 OTUs\r"
       ]
      },
      {
       "output_type": "stream",
       "stream": "stdout",
       "text": [
        "04:25 227Mb  100.0% 13729 OTUs\r",
        "\r\n"
       ]
      },
      {
       "output_type": "stream",
       "stream": "stdout",
       "text": [
        "                              \r\n",
        "Input seqs  263232 (263.2k)\r\n",
        "      OTUs  13729 (13.7k)\r\n",
        "   Members  131435 (131.4k)\r\n",
        "  Chimeras  118068 (118.1k)\r\n",
        "   Max mem  227Mb\r\n",
        "      Time  04:25\r\n",
        "Throughput  993.3 seqs/sec.\r\n",
        "\r\n"
       ]
      }
     ],
     "prompt_number": 60
    },
    {
     "cell_type": "code",
     "collapsed": false,
     "input": [
      "# Making another file\n",
      "# Figure this out (what is this?)\n",
      "# This is a script (fasta_number.py) that replaces fasta names with XXX1, XXX2, etc.\n",
      "# In our case, it is replacing the names with OTU.1, OTU.2, etc., and outputs it into a file called otusn.fasta\n",
      "!/opt/bioinfo/edgar_python_scripts/fasta_number.py data/otus.fasta OTU. > data/otusn.fasta"
     ],
     "language": "python",
     "metadata": {},
     "outputs": [],
     "prompt_number": 61
    },
    {
     "cell_type": "code",
     "collapsed": false,
     "input": [
      "!head data/otusn.fasta"
     ],
     "language": "python",
     "metadata": {},
     "outputs": [
      {
       "output_type": "stream",
       "stream": "stdout",
       "text": [
        ">OTU.1\r\n",
        "TACGAAGGTGGCAAGCGTTGTTCGGATTTACTGGGCGTACAGGGAGCGTAGGCGGTTGGATAAGCCCTCCGTGAAATCTC\r\n",
        "CAGGCTTAACCTGGAAAGTGCAGAGGGGACTGTTCAGCTAGAGGATGGGAGAGGAGCGCGGAATTCCCGGTGTAGCGGTG\r\n",
        "AAATGCGTAGAGATCGGGAGGAAGGCCGGTGGCGAAGGCGGCGCTCTGGAACATTTCTGACGCTGAGGCTCGAAAGCGTG\r\n",
        "GGGAGCAAACAGGATTAGATACCCTGGTAGTCCACGCCTTAAACGATGGATACTAAGTGTCGGCGGGTTACCGCCGGTGC\r\n",
        "CGCAGCTAACGCAGTAAGTATCCCGCCTGGGAAGTACGGCCGCAAGGTTG\r\n",
        ">OTU.2\r\n",
        "TACGGAGGGGACTAGCGTTGTTCGGAATTACTGGGCGTAAAGCGCACGTAGGCGGATTTGTAAGTCAGGGGTGAAATCCC\r\n",
        "GGGGCTCAACCTCGGAACTGCCTTTGATACTGCAAATCTCGAGTCCGGAAGAGGTGAGTGGAATTCCTAGTGTAGAGGTG\r\n",
        "AAATTCGTAGATATTAGGAAGAACACCAGTGGCGAAGGCGGCTCACTGGTCCGGTACTGACGCTGAGGTGCGAAAGCGTG\r\n"
       ]
      }
     ],
     "prompt_number": 62
    },
    {
     "cell_type": "heading",
     "level": 3,
     "metadata": {},
     "source": [
      "Removing Chloroplast, Eukaryal, and Archaeal sequences"
     ]
    },
    {
     "cell_type": "code",
     "collapsed": false,
     "input": [
      "# You do need to assign taxonomy in order to pull out the Euks., etc.\n",
      "# I could cp these files from the server to wherever I need them.\n",
      "# Input is your fasta file\n",
      "# Output is a fasta with taxonomy assinged (still working with unique seqs)\n",
      "# This didn't work first, because Chuck had to delete a \"jobs\" folder in the tmp directory.\n",
      "\n",
      "!parallel_assign_taxonomy_uclust.py \\\n",
      "-r /home/chantal/RNASIP/RNAdata/databases/Silva_111_post/no_ambiguous_bases_files/97_Silva_111_rep_set_no_ambig.fasta \\\n",
      "-t /home/chantal/RNASIP/RNAdata/databases/Silva_111_post/taxonomy/Silva_111_taxa_map_full.txt \\\n",
      "-O 10 \\\n",
      "-i /home/chantal/Chazy/data/otusn.fasta \\\n",
      "-o /home/chantal/Chazy/data/otusn_tax"
     ],
     "language": "python",
     "metadata": {},
     "outputs": [],
     "prompt_number": 63
    },
    {
     "cell_type": "code",
     "collapsed": false,
     "input": [
      "# This makes a file of what we want to remove\n",
      "# Could change this to pull out different groups.\n",
      "# These primers actually had good Archaeal targets - so, it would be okay to include them.\n",
      "!egrep \"Chloroplast|Eukaryota|Archaea|Unassigned|mitochondria\" \\\n",
      "data/otusn_tax/otusn_tax_assignments.txt \\\n",
      "| awk '{print $1}' > data/to_remove_tax.accnos"
     ],
     "language": "python",
     "metadata": {},
     "outputs": [],
     "prompt_number": 80
    },
    {
     "cell_type": "code",
     "collapsed": false,
     "input": [
      "# wc is number of lines of the taxa that will be removed\n",
      "!wc -l data/to_remove_tax.accnos"
     ],
     "language": "python",
     "metadata": {},
     "outputs": [
      {
       "output_type": "stream",
       "stream": "stdout",
       "text": [
        "4484 data/to_remove_tax.accnos\r\n"
       ]
      }
     ],
     "prompt_number": 81
    },
    {
     "cell_type": "code",
     "collapsed": false,
     "input": [
      "# Looking at what you're removing\n",
      "!head data/to_remove_tax.accnos"
     ],
     "language": "python",
     "metadata": {},
     "outputs": [
      {
       "output_type": "stream",
       "stream": "stdout",
       "text": [
        "OTU.1370\r\n",
        "OTU.903\r\n",
        "OTU.1308\r\n",
        "OTU.995\r\n",
        "OTU.994\r\n",
        "OTU.765\r\n",
        "OTU.768\r\n",
        "OTU.572\r\n",
        "OTU.1334\r\n",
        "OTU.1190\r\n"
       ]
      }
     ],
     "prompt_number": 82
    },
    {
     "cell_type": "code",
     "collapsed": false,
     "input": [
      "%%bash\n",
      "# Remove.seqs command will actually remove these taxa\n",
      "mothur \"#remove.seqs(fasta=data/otusn.fasta, \\\n",
      "accnos=data/to_remove_tax.accnos)\" #> /dev/null"
     ],
     "language": "python",
     "metadata": {},
     "outputs": [
      {
       "output_type": "stream",
       "stream": "stdout",
       "text": [
        "\u001b[H\u001b[2J\n",
        "\n",
        "\n",
        "\n",
        "\n",
        "\n",
        "mothur v.1.32.1\n",
        "Last updated: 10/16/2013\n",
        "\n",
        "by\n",
        "Patrick D. Schloss\n",
        "\n",
        "Department of Microbiology & Immunology\n",
        "University of Michigan\n",
        "pschloss@umich.edu\n",
        "http://www.mothur.org\n",
        "\n",
        "When using, please cite:\n",
        "Schloss, P.D., et al., Introducing mothur: Open-source, platform-independent, community-supported software for describing and comparing microbial communities. Appl Environ Microbiol, 2009. 75(23):7537-41.\n",
        "\n",
        "Distributed under the GNU General Public License\n",
        "\n",
        "Type 'help()' for information on the commands that are available\n",
        "\n",
        "Type 'quit()' to exit program\n",
        "\n",
        "\n",
        "\n",
        "mothur > remove.seqs(fasta=data/otusn.fasta, accnos=data/to_remove_tax.accnos)\n",
        "Removed 4484 sequences from your fasta file.\n",
        "\n",
        "Output File Names: \n",
        "data/otusn.pick.fasta\n",
        "\n",
        "\n",
        "mothur > quit()\n"
       ]
      }
     ],
     "prompt_number": 83
    },
    {
     "cell_type": "heading",
     "level": 3,
     "metadata": {},
     "source": [
      "Mapping Reads"
     ]
    },
    {
     "cell_type": "code",
     "collapsed": false,
     "input": [
      "# Pulling out the sample identifier.\n",
      "# It is adding a portion to the finalQC file that has the barcode label.\n",
      "# Then we can use this later\n",
      "# Now we will see how these reads map to the defined centroids (after removing EuK, etc.)\n",
      "# Basically, we cut, cut, refined our fasta to make our OTU centroids.\n",
      "# THEN, we went back to our original QC'd total fasta file and will throw it all against these nicely defined seeds.\n",
      "# Anything that doesn't match, we won't keep.\n",
      "!awk -F\"_\" \\\n",
      "'BEGIN{OFS=\";\"}{ if ( substr($1,0,1) == \">\"){ print $0,\"barcodelabel=\",$1 } else { print $0 } }' \\\n",
      "data/finalQC.fasta | \\\n",
      "sed 's/;>//' > data/finalQC_usearchfmt.fasta"
     ],
     "language": "python",
     "metadata": {},
     "outputs": [],
     "prompt_number": 85
    },
    {
     "cell_type": "code",
     "collapsed": false,
     "input": [
      "!head data/finalQC_usearchfmt.fasta"
     ],
     "language": "python",
     "metadata": {},
     "outputs": [
      {
       "output_type": "stream",
       "stream": "stdout",
       "text": [
        ">NTH1_23;barcodelabel=NTH1\r\n",
        "TACGAACCGGGCAAACGTTATTCGGAATTACTGGGCTTAAAGGGTGCGTAGGCTGCGCTATAAGTCGGGTGTGAAATCCCTCAGCTCAACTGAGGAACTGCGCCCGATACTGTAGTGCTTGAGGAGGATAGAGGTGAGCGGAACTAGCAGTGGAGCGGTGAAATGCGTTGATATTGCTGGGAACACCCGTGGCGAAAGCGGCTCACTGGGTCCTTTCTGACGCTGAGGCACGAAAGCTAGGGGAGCAAACAGGATTAGATACCCTGGTAGTCCTAGCCCTAAACGATCAGGACTTGACGTGGGCCCCGTCCGGGGTCCGTGCCGTAGCCAACGTGATAAGTCCTGCGCCTGGGGAGTACGGTCGCAAGGCTG\r\n",
        ">NTR1_26;barcodelabel=NTR1\r\n",
        "TACAGAGGTGGCAAGCGTTGTTCGGAATTACTGGGCGTAAAGGGCGCGTAGGCGGCCATCTAAGTCAGACGTGAAATCCCCCGGCTCAACCTGGGAACTGCGTCTGATACTGGACGGCTTGAGTTTGGGAGAGGGATGTAGAATTCCAGGTGTAGCGGTGAAATGCGTAGATATCTGGAGGAATACCGGTGGCGAAGGCGGCATCCTGGACCAATACTGACGCTGGGGCGCGAAAGCTAGGGGAGCAAACGGGATTAGATACCCTGGTAGTCCACGCCCTAAACGATGGATACTCGACATCAGCGATACACTGTTGGTGTCTGAGCGAAAGCATTAAGTATCCCGCCTGGGAAGTACGATCGCAAGATTA\r\n",
        ">NTH3_27;barcodelabel=NTH3\r\n",
        "TACAGAGGTGGCAAGCGTTGTTCGGAATTACTGGGCGTAAAGGGCGCGTAGGCGGCCATCTAAGTCAGACGTGAAATCCCCCGGCTTAACCTGGGAACTGCGTCTGATACTGGAAGGCTTGAGTATGGGAGAGGGATGTAGAATTCCAGGTGTAGCGGTGAAATGCGTAGATATCTGGAGGAATACCGGTGGCGAAGGCGGCATCCTGGACCATTACTGACGCTGAGGCGCGAAAGCTAGGGGAGCAAACGGGATTAGATACCCCGGTAGTCCTAGCCCTAAACGATGGGTACTAGGTAGTAGACTAGACATGGGTTTACTGCCGAAGCTAAAGTGCTAAGTACCCCGCCTGGGGAGTACGGCCGCAAGGTTG\r\n",
        ">TWE4_29;barcodelabel=TWE4\r\n",
        "TACGGGGGGAGCAAGCGTTGTTCGGATTTACTGGGCTTAAAGGGCGCGTAGGCGGGCTGCCGCGTCCGGGGTGAAATCCCACGGCTCAACCGTGGAACGGCCCCGGGTACGGGCGGCCTCGAGGGGGGTAGGGGCGTGCGGAACTGTGGGTGGAGCGGTGGAATGCGTTGATATCCACAGGAACTCCGGTGGCGAAGGCGGCACGCTGGACCCTCTCTGACGCTGAGGCGCGAAAGCCAGGGGAGCGAACGGGATTAGATACCCCGGTAGTCCTAGCCCTAAACGATGGGTACTAGATTGTAGACGTACATGGGTTTACAGTCGAAGCAAAAGTGATAAGTACCCCGCCTGGGGAGTATGGTCGCAAGGCTG\r\n",
        ">NTR3_30;barcodelabel=NTR3\r\n",
        "TACGTAGGTGGCAAGCGTTGTCCGGAATTATTGGGCGTAAAGGGCTCGCAGGCGGTTTCTTAAGTCTGATGTGAAAGCCCCCGGCTCAACCGGGGAAGGTCATTGGAAACTGGGGAACTTGAGTGCAGAAGAGGAGAGTGGAATTCCACGTGTAGCGGTGAAATGCGTAGAGATGTGGAGGAACACCAGTGGCGAAGGCGACTCTCTGGTCTGTAACTGACGCTGAGGAGCGAAAGCGTGGGGAGCGAACAGGATTAGATACCCTGGTAGTCCACGCCGTAAACGATGAGTGCTAAGTGTTAGGGGGTTTCCGCCCCTTAGTGCTGCAGCTAACGCATTAAGCACTCCGCCTGGGGAGTACGGTCGCAAGACTG\r\n"
       ]
      }
     ],
     "prompt_number": 86
    },
    {
     "cell_type": "code",
     "collapsed": false,
     "input": [
      "# This is where the actual OTUs are being assigned. We choose 97% sequence ID threshold here.\n",
      "# This might take a while - like 5 minutes\n",
      "# Depending ont he clustering algorithm, like pairwise... it would take, like, days on the same number of processors.\n",
      "# This is why usearch (centroid-based) is so much better\n",
      "# But is it more biologically relevant? ... maybe, maybe not.\n",
      "# Edgar is showing it's not that bad.\n",
      "\n",
      "# We take our total QC data (modified above to have the sample ID extracted)\n",
      "# We compare it to the otusn.pick.fasta database we made above\n",
      "# We produce a readmap.uc file which tells us how the reads from our finalQC file map to the otusn seed database.\n",
      "\n",
      "!usearch -usearch_global data/finalQC_usearchfmt.fasta \\\n",
      "-db data/otusn.fasta \\\n",
      "-strand plus -id 0.97 \\\n",
      "-uc data/readmap.uc \\\n",
      "-threads 15"
     ],
     "language": "python",
     "metadata": {},
     "outputs": [
      {
       "output_type": "stream",
       "stream": "stdout",
       "text": [
        "usearch v7.0.1090_i86linux32, 4.0Gb RAM (132Gb total), 40 cores\r\n",
        "(C) Copyright 2013 Robert C. Edgar, all rights reserved.\r\n",
        "http://drive5.com/usearch\r\n",
        "\r\n",
        "Licensed to: chuck.peperanney@gmail.com\r\n",
        "\r\n"
       ]
      },
      {
       "output_type": "stream",
       "stream": "stdout",
       "text": [
        "00:00  19Mb Reading data/otusn.fasta, 5.3Mb\r\n",
        "00:00  24Mb 13729 (13.7k) seqs, min 370, avg 374, max 427nt\r\n",
        "00:00  24Mb    0.0% Masking\r"
       ]
      },
      {
       "output_type": "stream",
       "stream": "stdout",
       "text": [
        "00:00  24Mb  100.0% Masking\r",
        "\r\n",
        "00:00  25Mb    0.0% Word stats\r"
       ]
      },
      {
       "output_type": "stream",
       "stream": "stdout",
       "text": [
        "00:01  25Mb   47.4% Word stats\r"
       ]
      },
      {
       "output_type": "stream",
       "stream": "stdout",
       "text": [
        "00:01  25Mb  100.0% Word stats\r",
        "\r\n",
        "00:01  25Mb    0.0% Building slots\r",
        "00:01  45Mb  100.0% Building slots\r",
        "\r\n",
        "00:01  45Mb    0.0% Build index   \r"
       ]
      },
      {
       "output_type": "stream",
       "stream": "stdout",
       "text": [
        "00:01  45Mb  100.0% Build index\r",
        "\r\n",
        "00:01 168Mb    0.1% Searching, 0.0% matched\r"
       ]
      },
      {
       "output_type": "stream",
       "stream": "stdout",
       "text": [
        "00:02 201Mb    1.7% Searching, 98.9% matched\r"
       ]
      },
      {
       "output_type": "stream",
       "stream": "stdout",
       "text": [
        "00:03 201Mb    4.2% Searching, 98.7% matched\r"
       ]
      },
      {
       "output_type": "stream",
       "stream": "stdout",
       "text": [
        "00:04 201Mb    6.8% Searching, 98.2% matched\r"
       ]
      },
      {
       "output_type": "stream",
       "stream": "stdout",
       "text": [
        "00:05 203Mb    9.2% Searching, 97.5% matched\r"
       ]
      },
      {
       "output_type": "stream",
       "stream": "stdout",
       "text": [
        "00:06 203Mb   11.5% Searching, 96.6% matched\r"
       ]
      },
      {
       "output_type": "stream",
       "stream": "stdout",
       "text": [
        "00:07 203Mb   13.6% Searching, 95.5% matched\r"
       ]
      },
      {
       "output_type": "stream",
       "stream": "stdout",
       "text": [
        "00:08 203Mb   15.5% Searching, 94.1% matched\r"
       ]
      },
      {
       "output_type": "stream",
       "stream": "stdout",
       "text": [
        "00:09 203Mb   17.2% Searching, 92.5% matched\r"
       ]
      },
      {
       "output_type": "stream",
       "stream": "stdout",
       "text": [
        "00:10 203Mb   18.7% Searching, 90.8% matched\r"
       ]
      },
      {
       "output_type": "stream",
       "stream": "stdout",
       "text": [
        "00:11 203Mb   20.1% Searching, 88.9% matched\r"
       ]
      },
      {
       "output_type": "stream",
       "stream": "stdout",
       "text": [
        "00:12 203Mb   21.4% Searching, 87.2% matched\r"
       ]
      },
      {
       "output_type": "stream",
       "stream": "stdout",
       "text": [
        "00:13 204Mb   22.6% Searching, 85.7% matched\r"
       ]
      },
      {
       "output_type": "stream",
       "stream": "stdout",
       "text": [
        "00:14 205Mb   23.8% Searching, 84.2% matched\r"
       ]
      },
      {
       "output_type": "stream",
       "stream": "stdout",
       "text": [
        "00:15 205Mb   25.0% Searching, 82.6% matched\r"
       ]
      },
      {
       "output_type": "stream",
       "stream": "stdout",
       "text": [
        "00:16 205Mb   26.0% Searching, 81.2% matched\r"
       ]
      },
      {
       "output_type": "stream",
       "stream": "stdout",
       "text": [
        "00:17 205Mb   27.2% Searching, 79.8% matched\r"
       ]
      },
      {
       "output_type": "stream",
       "stream": "stdout",
       "text": [
        "00:18 205Mb   28.2% Searching, 78.6% matched\r"
       ]
      },
      {
       "output_type": "stream",
       "stream": "stdout",
       "text": [
        "00:19 205Mb   29.3% Searching, 77.4% matched\r"
       ]
      },
      {
       "output_type": "stream",
       "stream": "stdout",
       "text": [
        "00:20 205Mb   30.4% Searching, 76.2% matched\r"
       ]
      },
      {
       "output_type": "stream",
       "stream": "stdout",
       "text": [
        "00:21 205Mb   31.4% Searching, 75.1% matched\r"
       ]
      },
      {
       "output_type": "stream",
       "stream": "stdout",
       "text": [
        "00:22 205Mb   32.5% Searching, 74.1% matched\r"
       ]
      },
      {
       "output_type": "stream",
       "stream": "stdout",
       "text": [
        "00:23 205Mb   33.5% Searching, 73.1% matched\r"
       ]
      },
      {
       "output_type": "stream",
       "stream": "stdout",
       "text": [
        "00:24 205Mb   34.6% Searching, 72.1% matched\r"
       ]
      },
      {
       "output_type": "stream",
       "stream": "stdout",
       "text": [
        "00:25 205Mb   35.6% Searching, 71.2% matched\r"
       ]
      },
      {
       "output_type": "stream",
       "stream": "stdout",
       "text": [
        "00:26 205Mb   36.6% Searching, 70.3% matched\r"
       ]
      },
      {
       "output_type": "stream",
       "stream": "stdout",
       "text": [
        "00:27 205Mb   37.6% Searching, 69.5% matched\r"
       ]
      },
      {
       "output_type": "stream",
       "stream": "stdout",
       "text": [
        "00:28 205Mb   38.6% Searching, 68.7% matched\r"
       ]
      },
      {
       "output_type": "stream",
       "stream": "stdout",
       "text": [
        "00:29 205Mb   39.6% Searching, 67.9% matched\r"
       ]
      },
      {
       "output_type": "stream",
       "stream": "stdout",
       "text": [
        "00:30 205Mb   40.6% Searching, 67.2% matched\r"
       ]
      },
      {
       "output_type": "stream",
       "stream": "stdout",
       "text": [
        "00:31 205Mb   41.6% Searching, 66.4% matched\r"
       ]
      },
      {
       "output_type": "stream",
       "stream": "stdout",
       "text": [
        "00:32 205Mb   42.6% Searching, 65.7% matched\r"
       ]
      },
      {
       "output_type": "stream",
       "stream": "stdout",
       "text": [
        "00:33 205Mb   43.6% Searching, 65.1% matched\r"
       ]
      },
      {
       "output_type": "stream",
       "stream": "stdout",
       "text": [
        "00:34 205Mb   44.5% Searching, 64.4% matched\r"
       ]
      },
      {
       "output_type": "stream",
       "stream": "stdout",
       "text": [
        "00:35 206Mb   45.5% Searching, 63.8% matched\r"
       ]
      },
      {
       "output_type": "stream",
       "stream": "stdout",
       "text": [
        "00:36 206Mb   46.3% Searching, 63.3% matched\r"
       ]
      },
      {
       "output_type": "stream",
       "stream": "stdout",
       "text": [
        "00:37 206Mb   47.3% Searching, 62.7% matched\r"
       ]
      },
      {
       "output_type": "stream",
       "stream": "stdout",
       "text": [
        "00:38 206Mb   48.2% Searching, 62.1% matched\r"
       ]
      },
      {
       "output_type": "stream",
       "stream": "stdout",
       "text": [
        "00:39 206Mb   49.2% Searching, 61.5% matched\r"
       ]
      },
      {
       "output_type": "stream",
       "stream": "stdout",
       "text": [
        "00:40 206Mb   50.1% Searching, 61.0% matched\r"
       ]
      },
      {
       "output_type": "stream",
       "stream": "stdout",
       "text": [
        "00:41 206Mb   51.1% Searching, 60.4% matched\r"
       ]
      },
      {
       "output_type": "stream",
       "stream": "stdout",
       "text": [
        "00:42 206Mb   52.0% Searching, 59.9% matched\r"
       ]
      },
      {
       "output_type": "stream",
       "stream": "stdout",
       "text": [
        "00:43 206Mb   52.9% Searching, 59.4% matched\r"
       ]
      },
      {
       "output_type": "stream",
       "stream": "stdout",
       "text": [
        "00:44 206Mb   53.9% Searching, 58.9% matched\r"
       ]
      },
      {
       "output_type": "stream",
       "stream": "stdout",
       "text": [
        "00:45 206Mb   54.8% Searching, 58.4% matched\r"
       ]
      },
      {
       "output_type": "stream",
       "stream": "stdout",
       "text": [
        "00:46 206Mb   55.7% Searching, 58.0% matched\r"
       ]
      },
      {
       "output_type": "stream",
       "stream": "stdout",
       "text": [
        "00:47 206Mb   56.6% Searching, 57.5% matched\r"
       ]
      },
      {
       "output_type": "stream",
       "stream": "stdout",
       "text": [
        "00:48 206Mb   57.5% Searching, 57.0% matched\r"
       ]
      },
      {
       "output_type": "stream",
       "stream": "stdout",
       "text": [
        "00:49 206Mb   58.5% Searching, 56.6% matched\r"
       ]
      },
      {
       "output_type": "stream",
       "stream": "stdout",
       "text": [
        "00:50 206Mb   59.4% Searching, 56.2% matched\r"
       ]
      },
      {
       "output_type": "stream",
       "stream": "stdout",
       "text": [
        "00:51 206Mb   60.3% Searching, 55.8% matched\r"
       ]
      },
      {
       "output_type": "stream",
       "stream": "stdout",
       "text": [
        "00:52 206Mb   61.2% Searching, 55.4% matched\r"
       ]
      },
      {
       "output_type": "stream",
       "stream": "stdout",
       "text": [
        "00:53 207Mb   62.1% Searching, 55.0% matched\r"
       ]
      },
      {
       "output_type": "stream",
       "stream": "stdout",
       "text": [
        "00:54 207Mb   63.0% Searching, 54.6% matched\r"
       ]
      },
      {
       "output_type": "stream",
       "stream": "stdout",
       "text": [
        "00:55 207Mb   63.9% Searching, 54.2% matched\r"
       ]
      },
      {
       "output_type": "stream",
       "stream": "stdout",
       "text": [
        "00:56 207Mb   64.8% Searching, 53.8% matched\r"
       ]
      },
      {
       "output_type": "stream",
       "stream": "stdout",
       "text": [
        "00:57 207Mb   65.8% Searching, 53.5% matched\r"
       ]
      },
      {
       "output_type": "stream",
       "stream": "stdout",
       "text": [
        "00:58 207Mb   66.7% Searching, 53.2% matched\r"
       ]
      },
      {
       "output_type": "stream",
       "stream": "stdout",
       "text": [
        "00:59 207Mb   67.6% Searching, 53.0% matched\r"
       ]
      },
      {
       "output_type": "stream",
       "stream": "stdout",
       "text": [
        "01:00 207Mb   68.5% Searching, 52.7% matched\r"
       ]
      },
      {
       "output_type": "stream",
       "stream": "stdout",
       "text": [
        "01:01 207Mb   69.5% Searching, 52.4% matched\r"
       ]
      },
      {
       "output_type": "stream",
       "stream": "stdout",
       "text": [
        "01:02 207Mb   70.4% Searching, 52.1% matched\r"
       ]
      },
      {
       "output_type": "stream",
       "stream": "stdout",
       "text": [
        "01:03 207Mb   71.4% Searching, 51.8% matched\r"
       ]
      },
      {
       "output_type": "stream",
       "stream": "stdout",
       "text": [
        "01:04 207Mb   72.3% Searching, 51.6% matched\r"
       ]
      },
      {
       "output_type": "stream",
       "stream": "stdout",
       "text": [
        "01:05 207Mb   73.3% Searching, 51.4% matched\r"
       ]
      },
      {
       "output_type": "stream",
       "stream": "stdout",
       "text": [
        "01:06 207Mb   74.3% Searching, 51.1% matched\r"
       ]
      },
      {
       "output_type": "stream",
       "stream": "stdout",
       "text": [
        "01:07 207Mb   75.1% Searching, 50.9% matched\r"
       ]
      },
      {
       "output_type": "stream",
       "stream": "stdout",
       "text": [
        "01:08 207Mb   76.1% Searching, 50.7% matched\r"
       ]
      },
      {
       "output_type": "stream",
       "stream": "stdout",
       "text": [
        "01:09 207Mb   77.1% Searching, 50.5% matched\r"
       ]
      },
      {
       "output_type": "stream",
       "stream": "stdout",
       "text": [
        "01:10 207Mb   78.0% Searching, 50.2% matched\r"
       ]
      },
      {
       "output_type": "stream",
       "stream": "stdout",
       "text": [
        "01:11 207Mb   78.9% Searching, 50.0% matched\r"
       ]
      },
      {
       "output_type": "stream",
       "stream": "stdout",
       "text": [
        "01:12 207Mb   79.8% Searching, 49.8% matched\r"
       ]
      },
      {
       "output_type": "stream",
       "stream": "stdout",
       "text": [
        "01:13 207Mb   80.8% Searching, 49.6% matched\r"
       ]
      },
      {
       "output_type": "stream",
       "stream": "stdout",
       "text": [
        "01:14 207Mb   81.7% Searching, 49.4% matched\r"
       ]
      },
      {
       "output_type": "stream",
       "stream": "stdout",
       "text": [
        "01:15 207Mb   82.6% Searching, 49.2% matched\r"
       ]
      },
      {
       "output_type": "stream",
       "stream": "stdout",
       "text": [
        "01:16 207Mb   83.6% Searching, 49.0% matched\r"
       ]
      },
      {
       "output_type": "stream",
       "stream": "stdout",
       "text": [
        "01:17 207Mb   84.5% Searching, 48.7% matched\r"
       ]
      },
      {
       "output_type": "stream",
       "stream": "stdout",
       "text": [
        "01:18 207Mb   85.4% Searching, 48.5% matched\r"
       ]
      },
      {
       "output_type": "stream",
       "stream": "stdout",
       "text": [
        "01:19 207Mb   86.3% Searching, 48.3% matched\r"
       ]
      },
      {
       "output_type": "stream",
       "stream": "stdout",
       "text": [
        "01:20 207Mb   87.2% Searching, 48.1% matched\r"
       ]
      },
      {
       "output_type": "stream",
       "stream": "stdout",
       "text": [
        "01:21 207Mb   88.1% Searching, 47.9% matched\r"
       ]
      },
      {
       "output_type": "stream",
       "stream": "stdout",
       "text": [
        "01:22 207Mb   89.1% Searching, 47.8% matched\r"
       ]
      },
      {
       "output_type": "stream",
       "stream": "stdout",
       "text": [
        "01:23 207Mb   90.0% Searching, 47.6% matched\r"
       ]
      },
      {
       "output_type": "stream",
       "stream": "stdout",
       "text": [
        "01:24 207Mb   90.9% Searching, 47.4% matched\r"
       ]
      },
      {
       "output_type": "stream",
       "stream": "stdout",
       "text": [
        "01:25 207Mb   91.8% Searching, 47.2% matched\r"
       ]
      },
      {
       "output_type": "stream",
       "stream": "stdout",
       "text": [
        "01:26 207Mb   92.7% Searching, 47.0% matched\r"
       ]
      },
      {
       "output_type": "stream",
       "stream": "stdout",
       "text": [
        "01:27 207Mb   93.6% Searching, 46.8% matched\r"
       ]
      },
      {
       "output_type": "stream",
       "stream": "stdout",
       "text": [
        "01:28 207Mb   94.5% Searching, 46.6% matched\r"
       ]
      },
      {
       "output_type": "stream",
       "stream": "stdout",
       "text": [
        "01:29 207Mb   95.4% Searching, 46.4% matched\r"
       ]
      },
      {
       "output_type": "stream",
       "stream": "stdout",
       "text": [
        "01:30 207Mb   96.3% Searching, 46.3% matched\r"
       ]
      },
      {
       "output_type": "stream",
       "stream": "stdout",
       "text": [
        "01:31 207Mb   97.2% Searching, 46.1% matched\r"
       ]
      },
      {
       "output_type": "stream",
       "stream": "stdout",
       "text": [
        "01:32 207Mb   98.1% Searching, 45.9% matched\r"
       ]
      },
      {
       "output_type": "stream",
       "stream": "stdout",
       "text": [
        "01:33 207Mb   99.0% Searching, 45.7% matched\r"
       ]
      },
      {
       "output_type": "stream",
       "stream": "stdout",
       "text": [
        "01:34 207Mb   99.8% Searching, 45.6% matched\r"
       ]
      },
      {
       "output_type": "stream",
       "stream": "stdout",
       "text": [
        "01:34 207Mb  100.0% Searching, 45.6% matched\r",
        "\r\n"
       ]
      }
     ],
     "prompt_number": 87
    },
    {
     "cell_type": "code",
     "collapsed": false,
     "input": [
      "# Makes an OTU table\n",
      "# It will tell me the OTU ID, and then for all the samples, which OTUs it has sequences from.\n",
      "!python /opt/bioinfo/edgar_python_scripts/uc2otutab.py data/readmap.uc > data/otu_table.txt"
     ],
     "language": "python",
     "metadata": {},
     "outputs": [
      {
       "output_type": "stream",
       "stream": "stdout",
       "text": [
        "data/readmap.uc   0.0%   \r"
       ]
      },
      {
       "output_type": "stream",
       "stream": "stdout",
       "text": [
        "data/readmap.uc   1.6%   \r"
       ]
      },
      {
       "output_type": "stream",
       "stream": "stdout",
       "text": [
        "data/readmap.uc   3.0%   \r"
       ]
      },
      {
       "output_type": "stream",
       "stream": "stdout",
       "text": [
        "data/readmap.uc   4.3%   \r"
       ]
      },
      {
       "output_type": "stream",
       "stream": "stdout",
       "text": [
        "data/readmap.uc   5.6%   \r"
       ]
      },
      {
       "output_type": "stream",
       "stream": "stdout",
       "text": [
        "data/readmap.uc   6.7%   \r"
       ]
      },
      {
       "output_type": "stream",
       "stream": "stdout",
       "text": [
        "data/readmap.uc   7.8%   \r"
       ]
      },
      {
       "output_type": "stream",
       "stream": "stdout",
       "text": [
        "data/readmap.uc   8.8%   \r"
       ]
      },
      {
       "output_type": "stream",
       "stream": "stdout",
       "text": [
        "data/readmap.uc   9.7%   \r"
       ]
      },
      {
       "output_type": "stream",
       "stream": "stdout",
       "text": [
        "data/readmap.uc  10.6%   \r"
       ]
      },
      {
       "output_type": "stream",
       "stream": "stdout",
       "text": [
        "data/readmap.uc  11.4%   \r"
       ]
      },
      {
       "output_type": "stream",
       "stream": "stdout",
       "text": [
        "data/readmap.uc  12.2%   \r"
       ]
      },
      {
       "output_type": "stream",
       "stream": "stdout",
       "text": [
        "data/readmap.uc  13.0%   \r"
       ]
      },
      {
       "output_type": "stream",
       "stream": "stdout",
       "text": [
        "data/readmap.uc  13.7%   \r"
       ]
      },
      {
       "output_type": "stream",
       "stream": "stdout",
       "text": [
        "data/readmap.uc  14.5%   \r"
       ]
      },
      {
       "output_type": "stream",
       "stream": "stdout",
       "text": [
        "data/readmap.uc  15.2%   \r"
       ]
      },
      {
       "output_type": "stream",
       "stream": "stdout",
       "text": [
        "data/readmap.uc  15.9%   \r"
       ]
      },
      {
       "output_type": "stream",
       "stream": "stdout",
       "text": [
        "data/readmap.uc  16.6%   \r"
       ]
      },
      {
       "output_type": "stream",
       "stream": "stdout",
       "text": [
        "data/readmap.uc  17.2%   \r"
       ]
      },
      {
       "output_type": "stream",
       "stream": "stdout",
       "text": [
        "data/readmap.uc  17.8%   \r"
       ]
      },
      {
       "output_type": "stream",
       "stream": "stdout",
       "text": [
        "data/readmap.uc  18.5%   \r"
       ]
      },
      {
       "output_type": "stream",
       "stream": "stdout",
       "text": [
        "data/readmap.uc  19.1%   \r"
       ]
      },
      {
       "output_type": "stream",
       "stream": "stdout",
       "text": [
        "data/readmap.uc  19.7%   \r"
       ]
      },
      {
       "output_type": "stream",
       "stream": "stdout",
       "text": [
        "data/readmap.uc  20.3%   \r"
       ]
      },
      {
       "output_type": "stream",
       "stream": "stdout",
       "text": [
        "data/readmap.uc  20.9%   \r"
       ]
      },
      {
       "output_type": "stream",
       "stream": "stdout",
       "text": [
        "data/readmap.uc  21.6%   \r"
       ]
      },
      {
       "output_type": "stream",
       "stream": "stdout",
       "text": [
        "data/readmap.uc  22.2%   \r"
       ]
      },
      {
       "output_type": "stream",
       "stream": "stdout",
       "text": [
        "data/readmap.uc  22.9%   \r"
       ]
      },
      {
       "output_type": "stream",
       "stream": "stdout",
       "text": [
        "data/readmap.uc  23.5%   \r"
       ]
      },
      {
       "output_type": "stream",
       "stream": "stdout",
       "text": [
        "data/readmap.uc  24.1%   \r"
       ]
      },
      {
       "output_type": "stream",
       "stream": "stdout",
       "text": [
        "data/readmap.uc  24.7%   \r"
       ]
      },
      {
       "output_type": "stream",
       "stream": "stdout",
       "text": [
        "data/readmap.uc  25.3%   \r"
       ]
      },
      {
       "output_type": "stream",
       "stream": "stdout",
       "text": [
        "data/readmap.uc  25.9%   \r"
       ]
      },
      {
       "output_type": "stream",
       "stream": "stdout",
       "text": [
        "data/readmap.uc  26.6%   \r"
       ]
      },
      {
       "output_type": "stream",
       "stream": "stdout",
       "text": [
        "data/readmap.uc  27.3%   \r"
       ]
      },
      {
       "output_type": "stream",
       "stream": "stdout",
       "text": [
        "data/readmap.uc  27.9%   \r"
       ]
      },
      {
       "output_type": "stream",
       "stream": "stdout",
       "text": [
        "data/readmap.uc  28.6%   \r"
       ]
      },
      {
       "output_type": "stream",
       "stream": "stdout",
       "text": [
        "data/readmap.uc  29.3%   \r"
       ]
      },
      {
       "output_type": "stream",
       "stream": "stdout",
       "text": [
        "data/readmap.uc  30.0%   \r"
       ]
      },
      {
       "output_type": "stream",
       "stream": "stdout",
       "text": [
        "data/readmap.uc  30.7%   \r"
       ]
      },
      {
       "output_type": "stream",
       "stream": "stdout",
       "text": [
        "data/readmap.uc  31.3%   \r"
       ]
      },
      {
       "output_type": "stream",
       "stream": "stdout",
       "text": [
        "data/readmap.uc  32.1%   \r"
       ]
      },
      {
       "output_type": "stream",
       "stream": "stdout",
       "text": [
        "data/readmap.uc  32.8%   \r"
       ]
      },
      {
       "output_type": "stream",
       "stream": "stdout",
       "text": [
        "data/readmap.uc  33.5%   \r"
       ]
      },
      {
       "output_type": "stream",
       "stream": "stdout",
       "text": [
        "data/readmap.uc  34.2%   \r"
       ]
      },
      {
       "output_type": "stream",
       "stream": "stdout",
       "text": [
        "data/readmap.uc  34.9%   \r"
       ]
      },
      {
       "output_type": "stream",
       "stream": "stdout",
       "text": [
        "data/readmap.uc  35.6%   \r"
       ]
      },
      {
       "output_type": "stream",
       "stream": "stdout",
       "text": [
        "data/readmap.uc  36.4%   \r"
       ]
      },
      {
       "output_type": "stream",
       "stream": "stdout",
       "text": [
        "data/readmap.uc  37.1%   \r"
       ]
      },
      {
       "output_type": "stream",
       "stream": "stdout",
       "text": [
        "data/readmap.uc  37.8%   \r"
       ]
      },
      {
       "output_type": "stream",
       "stream": "stdout",
       "text": [
        "data/readmap.uc  38.6%   \r"
       ]
      },
      {
       "output_type": "stream",
       "stream": "stdout",
       "text": [
        "data/readmap.uc  39.4%   \r"
       ]
      },
      {
       "output_type": "stream",
       "stream": "stdout",
       "text": [
        "data/readmap.uc  40.1%   \r"
       ]
      },
      {
       "output_type": "stream",
       "stream": "stdout",
       "text": [
        "data/readmap.uc  40.9%   \r"
       ]
      },
      {
       "output_type": "stream",
       "stream": "stdout",
       "text": [
        "data/readmap.uc  41.6%   \r"
       ]
      },
      {
       "output_type": "stream",
       "stream": "stdout",
       "text": [
        "data/readmap.uc  42.4%   \r"
       ]
      },
      {
       "output_type": "stream",
       "stream": "stdout",
       "text": [
        "data/readmap.uc  43.2%   \r"
       ]
      },
      {
       "output_type": "stream",
       "stream": "stdout",
       "text": [
        "data/readmap.uc  43.9%   \r"
       ]
      },
      {
       "output_type": "stream",
       "stream": "stdout",
       "text": [
        "data/readmap.uc  44.7%   \r"
       ]
      },
      {
       "output_type": "stream",
       "stream": "stdout",
       "text": [
        "data/readmap.uc  45.5%   \r"
       ]
      },
      {
       "output_type": "stream",
       "stream": "stdout",
       "text": [
        "data/readmap.uc  46.2%   \r"
       ]
      },
      {
       "output_type": "stream",
       "stream": "stdout",
       "text": [
        "data/readmap.uc  47.0%   \r"
       ]
      },
      {
       "output_type": "stream",
       "stream": "stdout",
       "text": [
        "data/readmap.uc  47.8%   \r"
       ]
      },
      {
       "output_type": "stream",
       "stream": "stdout",
       "text": [
        "data/readmap.uc  48.6%   \r"
       ]
      },
      {
       "output_type": "stream",
       "stream": "stdout",
       "text": [
        "data/readmap.uc  49.3%   \r"
       ]
      },
      {
       "output_type": "stream",
       "stream": "stdout",
       "text": [
        "data/readmap.uc  50.1%   \r"
       ]
      },
      {
       "output_type": "stream",
       "stream": "stdout",
       "text": [
        "data/readmap.uc  50.9%   \r"
       ]
      },
      {
       "output_type": "stream",
       "stream": "stdout",
       "text": [
        "data/readmap.uc  51.7%   \r"
       ]
      },
      {
       "output_type": "stream",
       "stream": "stdout",
       "text": [
        "data/readmap.uc  52.4%   \r"
       ]
      },
      {
       "output_type": "stream",
       "stream": "stdout",
       "text": [
        "data/readmap.uc  53.2%   \r"
       ]
      },
      {
       "output_type": "stream",
       "stream": "stdout",
       "text": [
        "data/readmap.uc  54.0%   \r"
       ]
      },
      {
       "output_type": "stream",
       "stream": "stdout",
       "text": [
        "data/readmap.uc  54.8%   \r"
       ]
      },
      {
       "output_type": "stream",
       "stream": "stdout",
       "text": [
        "data/readmap.uc  55.6%   \r"
       ]
      },
      {
       "output_type": "stream",
       "stream": "stdout",
       "text": [
        "data/readmap.uc  56.3%   \r"
       ]
      },
      {
       "output_type": "stream",
       "stream": "stdout",
       "text": [
        "data/readmap.uc  57.1%   \r"
       ]
      },
      {
       "output_type": "stream",
       "stream": "stdout",
       "text": [
        "data/readmap.uc  57.9%   \r"
       ]
      },
      {
       "output_type": "stream",
       "stream": "stdout",
       "text": [
        "data/readmap.uc  58.7%   \r"
       ]
      },
      {
       "output_type": "stream",
       "stream": "stdout",
       "text": [
        "data/readmap.uc  59.5%   \r"
       ]
      },
      {
       "output_type": "stream",
       "stream": "stdout",
       "text": [
        "data/readmap.uc  60.2%   \r"
       ]
      },
      {
       "output_type": "stream",
       "stream": "stdout",
       "text": [
        "data/readmap.uc  61.0%   \r"
       ]
      },
      {
       "output_type": "stream",
       "stream": "stdout",
       "text": [
        "data/readmap.uc  61.8%   \r"
       ]
      },
      {
       "output_type": "stream",
       "stream": "stdout",
       "text": [
        "data/readmap.uc  62.5%   \r"
       ]
      },
      {
       "output_type": "stream",
       "stream": "stdout",
       "text": [
        "data/readmap.uc  63.3%   \r"
       ]
      },
      {
       "output_type": "stream",
       "stream": "stdout",
       "text": [
        "data/readmap.uc  64.0%   \r"
       ]
      },
      {
       "output_type": "stream",
       "stream": "stdout",
       "text": [
        "data/readmap.uc  64.8%   \r"
       ]
      },
      {
       "output_type": "stream",
       "stream": "stdout",
       "text": [
        "data/readmap.uc  65.6%   \r"
       ]
      },
      {
       "output_type": "stream",
       "stream": "stdout",
       "text": [
        "data/readmap.uc  66.3%   \r"
       ]
      },
      {
       "output_type": "stream",
       "stream": "stdout",
       "text": [
        "data/readmap.uc  67.1%   \r"
       ]
      },
      {
       "output_type": "stream",
       "stream": "stdout",
       "text": [
        "data/readmap.uc  67.9%   \r"
       ]
      },
      {
       "output_type": "stream",
       "stream": "stdout",
       "text": [
        "data/readmap.uc  68.7%   \r"
       ]
      },
      {
       "output_type": "stream",
       "stream": "stdout",
       "text": [
        "data/readmap.uc  69.5%   \r"
       ]
      },
      {
       "output_type": "stream",
       "stream": "stdout",
       "text": [
        "data/readmap.uc  70.3%   \r"
       ]
      },
      {
       "output_type": "stream",
       "stream": "stdout",
       "text": [
        "data/readmap.uc  71.1%   \r"
       ]
      },
      {
       "output_type": "stream",
       "stream": "stdout",
       "text": [
        "data/readmap.uc  71.9%   \r"
       ]
      },
      {
       "output_type": "stream",
       "stream": "stdout",
       "text": [
        "data/readmap.uc  72.8%   \r"
       ]
      },
      {
       "output_type": "stream",
       "stream": "stdout",
       "text": [
        "data/readmap.uc  73.6%   \r"
       ]
      },
      {
       "output_type": "stream",
       "stream": "stdout",
       "text": [
        "data/readmap.uc  74.4%   \r"
       ]
      },
      {
       "output_type": "stream",
       "stream": "stdout",
       "text": [
        "data/readmap.uc  75.3%   \r"
       ]
      },
      {
       "output_type": "stream",
       "stream": "stdout",
       "text": [
        "data/readmap.uc  76.1%   \r"
       ]
      },
      {
       "output_type": "stream",
       "stream": "stdout",
       "text": [
        "data/readmap.uc  77.0%   \r"
       ]
      },
      {
       "output_type": "stream",
       "stream": "stdout",
       "text": [
        "data/readmap.uc  77.8%   \r"
       ]
      },
      {
       "output_type": "stream",
       "stream": "stdout",
       "text": [
        "data/readmap.uc  78.6%   \r"
       ]
      },
      {
       "output_type": "stream",
       "stream": "stdout",
       "text": [
        "data/readmap.uc  79.4%   \r"
       ]
      },
      {
       "output_type": "stream",
       "stream": "stdout",
       "text": [
        "data/readmap.uc  80.2%   \r"
       ]
      },
      {
       "output_type": "stream",
       "stream": "stdout",
       "text": [
        "data/readmap.uc  81.1%   \r"
       ]
      },
      {
       "output_type": "stream",
       "stream": "stdout",
       "text": [
        "data/readmap.uc  81.9%   \r"
       ]
      },
      {
       "output_type": "stream",
       "stream": "stdout",
       "text": [
        "data/readmap.uc  82.7%   \r"
       ]
      },
      {
       "output_type": "stream",
       "stream": "stdout",
       "text": [
        "data/readmap.uc  83.5%   \r"
       ]
      },
      {
       "output_type": "stream",
       "stream": "stdout",
       "text": [
        "data/readmap.uc  84.4%   \r"
       ]
      },
      {
       "output_type": "stream",
       "stream": "stdout",
       "text": [
        "data/readmap.uc  85.1%   \r"
       ]
      },
      {
       "output_type": "stream",
       "stream": "stdout",
       "text": [
        "data/readmap.uc  85.9%   \r"
       ]
      },
      {
       "output_type": "stream",
       "stream": "stdout",
       "text": [
        "data/readmap.uc  86.7%   \r"
       ]
      },
      {
       "output_type": "stream",
       "stream": "stdout",
       "text": [
        "data/readmap.uc  87.5%   \r"
       ]
      },
      {
       "output_type": "stream",
       "stream": "stdout",
       "text": [
        "data/readmap.uc  88.3%   \r"
       ]
      },
      {
       "output_type": "stream",
       "stream": "stdout",
       "text": [
        "data/readmap.uc  89.1%   \r"
       ]
      },
      {
       "output_type": "stream",
       "stream": "stdout",
       "text": [
        "data/readmap.uc  89.9%   \r"
       ]
      },
      {
       "output_type": "stream",
       "stream": "stdout",
       "text": [
        "data/readmap.uc  90.7%   \r"
       ]
      },
      {
       "output_type": "stream",
       "stream": "stdout",
       "text": [
        "data/readmap.uc  91.5%   \r"
       ]
      },
      {
       "output_type": "stream",
       "stream": "stdout",
       "text": [
        "data/readmap.uc  92.2%   \r"
       ]
      },
      {
       "output_type": "stream",
       "stream": "stdout",
       "text": [
        "data/readmap.uc  93.0%   \r"
       ]
      },
      {
       "output_type": "stream",
       "stream": "stdout",
       "text": [
        "data/readmap.uc  93.8%   \r"
       ]
      },
      {
       "output_type": "stream",
       "stream": "stdout",
       "text": [
        "data/readmap.uc  94.6%   \r"
       ]
      },
      {
       "output_type": "stream",
       "stream": "stdout",
       "text": [
        "data/readmap.uc  95.4%   \r"
       ]
      },
      {
       "output_type": "stream",
       "stream": "stdout",
       "text": [
        "data/readmap.uc  96.1%   \r"
       ]
      },
      {
       "output_type": "stream",
       "stream": "stdout",
       "text": [
        "data/readmap.uc  96.8%   \r"
       ]
      },
      {
       "output_type": "stream",
       "stream": "stdout",
       "text": [
        "data/readmap.uc  97.6%   \r"
       ]
      },
      {
       "output_type": "stream",
       "stream": "stdout",
       "text": [
        "data/readmap.uc  98.4%   \r"
       ]
      },
      {
       "output_type": "stream",
       "stream": "stdout",
       "text": [
        "data/readmap.uc  99.2%   \r"
       ]
      },
      {
       "output_type": "stream",
       "stream": "stdout",
       "text": [
        "data/readmap.uc  99.9%   \r"
       ]
      },
      {
       "output_type": "stream",
       "stream": "stdout",
       "text": [
        "data/readmap.uc 100.0%   \r\n"
       ]
      }
     ],
     "prompt_number": 88
    },
    {
     "cell_type": "code",
     "collapsed": false,
     "input": [
      "# Issues with biom table formatting\n",
      "!if [ -f data/otu_table.biom ]; then rm data/otu_table.biom; fi #This is to mitigate a biom bug\n",
      "!biom convert -i data/otu_table.txt -o data/otu_table.biom --table-type \"otu table\""
     ],
     "language": "python",
     "metadata": {},
     "outputs": [],
     "prompt_number": 89
    },
    {
     "cell_type": "code",
     "collapsed": false,
     "input": [
      "# Issues with biom table formatting\n",
      "!if [ -f data/otu_table_summary.txt ]; then rm data/otu_table_summary.txt; fi #This is to mitigate a biom bug\n",
      "!biom summarize-table -i data/otu_table.biom -o data/otu_table_summary.txt"
     ],
     "language": "python",
     "metadata": {},
     "outputs": [],
     "prompt_number": 90
    },
    {
     "cell_type": "code",
     "collapsed": false,
     "input": [
      "# This tells us the overall data info\n",
      "# Num obs = OTUs\n",
      "# total count = total seqs\n",
      "# Chantal had 50% reduction after QC.\n",
      "\n",
      "!cat data/otu_table_summary.txt\n",
      "\n"
     ],
     "language": "python",
     "metadata": {},
     "outputs": [
      {
       "output_type": "stream",
       "stream": "stdout",
       "text": [
        "Num samples: 32\r\n",
        "Num observations: 13729\r\n",
        "Total count: 2468002\r\n",
        "Table density (fraction of non-zero values): 0.277\r\n",
        "Table md5 (unzipped): 7b22cb5d411aaeb81343e9b39dcbaf17\r\n",
        "\r\n",
        "Counts/sample summary:\r\n",
        " Min: 57819.0\r\n",
        " Max: 99704.0\r\n",
        " Median: 77831.500\r\n",
        " Mean: 77125.062\r\n",
        " Std. dev.: 10612.260\r\n",
        " Sample Metadata Categories: None provided\r\n",
        " Observation Metadata Categories: None provided\r\n",
        "\r\n",
        "Counts/sample detail:\r\n",
        " NTH2: 57819.0\r\n",
        " NTR2: 58315.0\r\n",
        " PTR2: 62237.0\r\n",
        " PAS2: 64185.0\r\n",
        " PTR1: 66182.0\r\n",
        " TWE2: 66583.0\r\n",
        " CON2: 67461.0\r\n",
        " NTR1: 68093.0\r\n",
        " TWE1: 69366.0\r\n",
        " PTH1: 70713.0\r\n",
        " CON3: 71164.0\r\n",
        " PTH2: 71939.0\r\n",
        " PTR4: 72814.0\r\n",
        " NTH1: 73658.0\r\n",
        " CON1: 74477.0\r\n",
        " TEN3: 77356.0\r\n",
        " TEN2: 78307.0\r\n",
        " PAS1: 78952.0\r\n",
        " PAS3: 79448.0\r\n",
        " CON4: 80006.0\r\n",
        " PTH4: 80279.0\r\n",
        " TEN1: 81973.0\r\n",
        " NTR3: 82626.0\r\n",
        " NTR4: 85590.0\r\n",
        " TWE3: 86171.0\r\n",
        " PTH3: 86253.0\r\n",
        " NTH3: 88705.0\r\n",
        " TWE4: 88937.0\r\n",
        " PTR3: 90283.0\r\n",
        " NTH4: 90878.0\r\n",
        " PAS4: 97528.0\r\n",
        " TEN4: 99704.0\r\n"
       ]
      }
     ],
     "prompt_number": 91
    }
   ],
   "metadata": {}
  }
 ]
}